{
  "nbformat": 4,
  "nbformat_minor": 0,
  "metadata": {
    "colab": {
      "name": "넘블_챌린지_베이스라인_파이썬 (1).ipynb",
      "provenance": [],
      "collapsed_sections": []
    },
    "kernelspec": {
      "name": "python3",
      "display_name": "Python 3"
    },
    "language_info": {
      "name": "python"
    }
  },
  "cells": [
    {
      "cell_type": "markdown",
      "source": [
        "**재무데이터 활용 최종등급 예측 모델링**"
      ],
      "metadata": {
        "id": "6g6lYWAUayvS"
      }
    },
    {
      "cell_type": "markdown",
      "source": [
        "\n",
        "\n",
        "1.   라이브러리 및 데이터 불러오기\n",
        "\n"
      ],
      "metadata": {
        "id": "MOqr4BaebCeb"
      }
    },
    {
      "cell_type": "code",
      "execution_count": 48,
      "metadata": {
        "id": "nezoEqLZ_oHu"
      },
      "outputs": [],
      "source": [
        "import pandas as pd\n",
        "import numpy as np\n",
        "import matplotlib.pyplot as plt\n",
        "\n",
        "from sklearn.linear_model import LogisticRegression\n",
        "from sklearn.ensemble import RandomForestClassifier\n",
        "from sklearn.model_selection import train_test_split\n",
        "from sklearn.metrics import accuracy_score "
      ]
    },
    {
      "cell_type": "code",
      "source": [
        "df=pd.read_csv('/content/sampling.csv',sep=\",\")"
      ],
      "metadata": {
        "id": "O4QhSNawAGfM"
      },
      "execution_count": 26,
      "outputs": []
    },
    {
      "cell_type": "markdown",
      "source": [
        "\n",
        "2.   데이터 EDA 및 전처리\n",
        "\n",
        "\n",
        "\n"
      ],
      "metadata": {
        "id": "yXEx-gw7bqOe"
      }
    },
    {
      "cell_type": "code",
      "source": [
        "df.head()"
      ],
      "metadata": {
        "colab": {
          "base_uri": "https://localhost:8080/",
          "height": 206
        },
        "id": "WzxCkz9mAG7t",
        "outputId": "aa3af89b-4d1b-49a7-9b28-57a458b2cf4f"
      },
      "execution_count": 27,
      "outputs": [
        {
          "output_type": "execute_result",
          "data": {
            "text/plain": [
              "        사업자번호   모형 업종  형태  산업코드  총자산  대표자CB등급  총점 재무등급 최종등급\n",
              "0  4178131049  401  M   4  2929  297        0  54    B    B\n",
              "1  6061999434  501  M   8  2524    0        7  53    B    D\n",
              "2  3030421601  502  M   4  4641    0        7  41   CC   CC\n",
              "3  1080372906  505  M   8     0    0        7  46  CCC    D\n",
              "4  6180339705  505  M   8     0    0        0  42   CC    D"
            ],
            "text/html": [
              "\n",
              "  <div id=\"df-67f0269c-5a5a-438a-81ad-504217a046f4\">\n",
              "    <div class=\"colab-df-container\">\n",
              "      <div>\n",
              "<style scoped>\n",
              "    .dataframe tbody tr th:only-of-type {\n",
              "        vertical-align: middle;\n",
              "    }\n",
              "\n",
              "    .dataframe tbody tr th {\n",
              "        vertical-align: top;\n",
              "    }\n",
              "\n",
              "    .dataframe thead th {\n",
              "        text-align: right;\n",
              "    }\n",
              "</style>\n",
              "<table border=\"1\" class=\"dataframe\">\n",
              "  <thead>\n",
              "    <tr style=\"text-align: right;\">\n",
              "      <th></th>\n",
              "      <th>사업자번호</th>\n",
              "      <th>모형</th>\n",
              "      <th>업종</th>\n",
              "      <th>형태</th>\n",
              "      <th>산업코드</th>\n",
              "      <th>총자산</th>\n",
              "      <th>대표자CB등급</th>\n",
              "      <th>총점</th>\n",
              "      <th>재무등급</th>\n",
              "      <th>최종등급</th>\n",
              "    </tr>\n",
              "  </thead>\n",
              "  <tbody>\n",
              "    <tr>\n",
              "      <th>0</th>\n",
              "      <td>4178131049</td>\n",
              "      <td>401</td>\n",
              "      <td>M</td>\n",
              "      <td>4</td>\n",
              "      <td>2929</td>\n",
              "      <td>297</td>\n",
              "      <td>0</td>\n",
              "      <td>54</td>\n",
              "      <td>B</td>\n",
              "      <td>B</td>\n",
              "    </tr>\n",
              "    <tr>\n",
              "      <th>1</th>\n",
              "      <td>6061999434</td>\n",
              "      <td>501</td>\n",
              "      <td>M</td>\n",
              "      <td>8</td>\n",
              "      <td>2524</td>\n",
              "      <td>0</td>\n",
              "      <td>7</td>\n",
              "      <td>53</td>\n",
              "      <td>B</td>\n",
              "      <td>D</td>\n",
              "    </tr>\n",
              "    <tr>\n",
              "      <th>2</th>\n",
              "      <td>3030421601</td>\n",
              "      <td>502</td>\n",
              "      <td>M</td>\n",
              "      <td>4</td>\n",
              "      <td>4641</td>\n",
              "      <td>0</td>\n",
              "      <td>7</td>\n",
              "      <td>41</td>\n",
              "      <td>CC</td>\n",
              "      <td>CC</td>\n",
              "    </tr>\n",
              "    <tr>\n",
              "      <th>3</th>\n",
              "      <td>1080372906</td>\n",
              "      <td>505</td>\n",
              "      <td>M</td>\n",
              "      <td>8</td>\n",
              "      <td>0</td>\n",
              "      <td>0</td>\n",
              "      <td>7</td>\n",
              "      <td>46</td>\n",
              "      <td>CCC</td>\n",
              "      <td>D</td>\n",
              "    </tr>\n",
              "    <tr>\n",
              "      <th>4</th>\n",
              "      <td>6180339705</td>\n",
              "      <td>505</td>\n",
              "      <td>M</td>\n",
              "      <td>8</td>\n",
              "      <td>0</td>\n",
              "      <td>0</td>\n",
              "      <td>0</td>\n",
              "      <td>42</td>\n",
              "      <td>CC</td>\n",
              "      <td>D</td>\n",
              "    </tr>\n",
              "  </tbody>\n",
              "</table>\n",
              "</div>\n",
              "      <button class=\"colab-df-convert\" onclick=\"convertToInteractive('df-67f0269c-5a5a-438a-81ad-504217a046f4')\"\n",
              "              title=\"Convert this dataframe to an interactive table.\"\n",
              "              style=\"display:none;\">\n",
              "        \n",
              "  <svg xmlns=\"http://www.w3.org/2000/svg\" height=\"24px\"viewBox=\"0 0 24 24\"\n",
              "       width=\"24px\">\n",
              "    <path d=\"M0 0h24v24H0V0z\" fill=\"none\"/>\n",
              "    <path d=\"M18.56 5.44l.94 2.06.94-2.06 2.06-.94-2.06-.94-.94-2.06-.94 2.06-2.06.94zm-11 1L8.5 8.5l.94-2.06 2.06-.94-2.06-.94L8.5 2.5l-.94 2.06-2.06.94zm10 10l.94 2.06.94-2.06 2.06-.94-2.06-.94-.94-2.06-.94 2.06-2.06.94z\"/><path d=\"M17.41 7.96l-1.37-1.37c-.4-.4-.92-.59-1.43-.59-.52 0-1.04.2-1.43.59L10.3 9.45l-7.72 7.72c-.78.78-.78 2.05 0 2.83L4 21.41c.39.39.9.59 1.41.59.51 0 1.02-.2 1.41-.59l7.78-7.78 2.81-2.81c.8-.78.8-2.07 0-2.86zM5.41 20L4 18.59l7.72-7.72 1.47 1.35L5.41 20z\"/>\n",
              "  </svg>\n",
              "      </button>\n",
              "      \n",
              "  <style>\n",
              "    .colab-df-container {\n",
              "      display:flex;\n",
              "      flex-wrap:wrap;\n",
              "      gap: 12px;\n",
              "    }\n",
              "\n",
              "    .colab-df-convert {\n",
              "      background-color: #E8F0FE;\n",
              "      border: none;\n",
              "      border-radius: 50%;\n",
              "      cursor: pointer;\n",
              "      display: none;\n",
              "      fill: #1967D2;\n",
              "      height: 32px;\n",
              "      padding: 0 0 0 0;\n",
              "      width: 32px;\n",
              "    }\n",
              "\n",
              "    .colab-df-convert:hover {\n",
              "      background-color: #E2EBFA;\n",
              "      box-shadow: 0px 1px 2px rgba(60, 64, 67, 0.3), 0px 1px 3px 1px rgba(60, 64, 67, 0.15);\n",
              "      fill: #174EA6;\n",
              "    }\n",
              "\n",
              "    [theme=dark] .colab-df-convert {\n",
              "      background-color: #3B4455;\n",
              "      fill: #D2E3FC;\n",
              "    }\n",
              "\n",
              "    [theme=dark] .colab-df-convert:hover {\n",
              "      background-color: #434B5C;\n",
              "      box-shadow: 0px 1px 3px 1px rgba(0, 0, 0, 0.15);\n",
              "      filter: drop-shadow(0px 1px 2px rgba(0, 0, 0, 0.3));\n",
              "      fill: #FFFFFF;\n",
              "    }\n",
              "  </style>\n",
              "\n",
              "      <script>\n",
              "        const buttonEl =\n",
              "          document.querySelector('#df-67f0269c-5a5a-438a-81ad-504217a046f4 button.colab-df-convert');\n",
              "        buttonEl.style.display =\n",
              "          google.colab.kernel.accessAllowed ? 'block' : 'none';\n",
              "\n",
              "        async function convertToInteractive(key) {\n",
              "          const element = document.querySelector('#df-67f0269c-5a5a-438a-81ad-504217a046f4');\n",
              "          const dataTable =\n",
              "            await google.colab.kernel.invokeFunction('convertToInteractive',\n",
              "                                                     [key], {});\n",
              "          if (!dataTable) return;\n",
              "\n",
              "          const docLinkHtml = 'Like what you see? Visit the ' +\n",
              "            '<a target=\"_blank\" href=https://colab.research.google.com/notebooks/data_table.ipynb>data table notebook</a>'\n",
              "            + ' to learn more about interactive tables.';\n",
              "          element.innerHTML = '';\n",
              "          dataTable['output_type'] = 'display_data';\n",
              "          await google.colab.output.renderOutput(dataTable, element);\n",
              "          const docLink = document.createElement('div');\n",
              "          docLink.innerHTML = docLinkHtml;\n",
              "          element.appendChild(docLink);\n",
              "        }\n",
              "      </script>\n",
              "    </div>\n",
              "  </div>\n",
              "  "
            ]
          },
          "metadata": {},
          "execution_count": 27
        }
      ]
    },
    {
      "cell_type": "code",
      "source": [
        "df.shape"
      ],
      "metadata": {
        "colab": {
          "base_uri": "https://localhost:8080/"
        },
        "id": "Q_a82pR_HJO3",
        "outputId": "c4f83b4e-dd31-49b8-e330-1a8d6c80c91f"
      },
      "execution_count": 28,
      "outputs": [
        {
          "output_type": "execute_result",
          "data": {
            "text/plain": [
              "(110790, 10)"
            ]
          },
          "metadata": {},
          "execution_count": 28
        }
      ]
    },
    {
      "cell_type": "code",
      "source": [
        "# 문자형-> 숫자형 변환 \n",
        "df1['재무등급']=df['재무등급'].map({'D':0,'CCC':1,'CC':2,'C':3,'B':4,'BB':5,'BBB':6,'A':7,'AA':8,'AAA':9})\n",
        "df1['최종등급']=df['최종등급'].map({'D':0,'CCC':1,'CC':2,'C':3,'B':4,'BB':5,'BBB':6,'A':7,'AA':8,'AAA':9})\n",
        "df1['업종']=df['업종'].map({'M':11,'O':22,'V':33,'S':44,'B':55,'A':66})"
      ],
      "metadata": {
        "id": "UVLY8ObENsK8"
      },
      "execution_count": 29,
      "outputs": []
    },
    {
      "cell_type": "code",
      "source": [
        "# 결측치 제거 \n",
        "df1=df1.dropna()"
      ],
      "metadata": {
        "id": "2icjoSfxc1pd"
      },
      "execution_count": 30,
      "outputs": []
    },
    {
      "cell_type": "code",
      "source": [
        "# 결측 제거 후 확인 \n",
        "df1.isna().sum()"
      ],
      "metadata": {
        "colab": {
          "base_uri": "https://localhost:8080/"
        },
        "id": "XYVZNQu7Xzb_",
        "outputId": "96ac047b-64d1-4b75-fc33-ee7efe9e1324"
      },
      "execution_count": 31,
      "outputs": [
        {
          "output_type": "execute_result",
          "data": {
            "text/plain": [
              "사업자번호      0\n",
              "모형         0\n",
              "업종         0\n",
              "형태         0\n",
              "산업코드       0\n",
              "총자산        0\n",
              "대표자CB등급    0\n",
              "총점         0\n",
              "재무등급       0\n",
              "최종등급       0\n",
              "dtype: int64"
            ]
          },
          "metadata": {},
          "execution_count": 31
        }
      ]
    },
    {
      "cell_type": "code",
      "source": [
        "df1.head()"
      ],
      "metadata": {
        "colab": {
          "base_uri": "https://localhost:8080/",
          "height": 206
        },
        "id": "Db8aEJpI7iiK",
        "outputId": "721af461-14b3-4580-d540-49c80a33c8f7"
      },
      "execution_count": 32,
      "outputs": [
        {
          "output_type": "execute_result",
          "data": {
            "text/plain": [
              "        사업자번호   모형    업종  형태  산업코드  총자산  대표자CB등급  총점  재무등급  최종등급\n",
              "0  4178131049  401  11.0   4  2929  297        0  54   4.0   4.0\n",
              "1  6061999434  501  11.0   8  2524    0        7  53   4.0   0.0\n",
              "2  3030421601  502  11.0   4  4641    0        7  41   2.0   2.0\n",
              "3  1080372906  505  11.0   8     0    0        7  46   1.0   0.0\n",
              "4  6180339705  505  11.0   8     0    0        0  42   2.0   0.0"
            ],
            "text/html": [
              "\n",
              "  <div id=\"df-371273f2-e728-485a-b3c5-6c0b5c52cbab\">\n",
              "    <div class=\"colab-df-container\">\n",
              "      <div>\n",
              "<style scoped>\n",
              "    .dataframe tbody tr th:only-of-type {\n",
              "        vertical-align: middle;\n",
              "    }\n",
              "\n",
              "    .dataframe tbody tr th {\n",
              "        vertical-align: top;\n",
              "    }\n",
              "\n",
              "    .dataframe thead th {\n",
              "        text-align: right;\n",
              "    }\n",
              "</style>\n",
              "<table border=\"1\" class=\"dataframe\">\n",
              "  <thead>\n",
              "    <tr style=\"text-align: right;\">\n",
              "      <th></th>\n",
              "      <th>사업자번호</th>\n",
              "      <th>모형</th>\n",
              "      <th>업종</th>\n",
              "      <th>형태</th>\n",
              "      <th>산업코드</th>\n",
              "      <th>총자산</th>\n",
              "      <th>대표자CB등급</th>\n",
              "      <th>총점</th>\n",
              "      <th>재무등급</th>\n",
              "      <th>최종등급</th>\n",
              "    </tr>\n",
              "  </thead>\n",
              "  <tbody>\n",
              "    <tr>\n",
              "      <th>0</th>\n",
              "      <td>4178131049</td>\n",
              "      <td>401</td>\n",
              "      <td>11.0</td>\n",
              "      <td>4</td>\n",
              "      <td>2929</td>\n",
              "      <td>297</td>\n",
              "      <td>0</td>\n",
              "      <td>54</td>\n",
              "      <td>4.0</td>\n",
              "      <td>4.0</td>\n",
              "    </tr>\n",
              "    <tr>\n",
              "      <th>1</th>\n",
              "      <td>6061999434</td>\n",
              "      <td>501</td>\n",
              "      <td>11.0</td>\n",
              "      <td>8</td>\n",
              "      <td>2524</td>\n",
              "      <td>0</td>\n",
              "      <td>7</td>\n",
              "      <td>53</td>\n",
              "      <td>4.0</td>\n",
              "      <td>0.0</td>\n",
              "    </tr>\n",
              "    <tr>\n",
              "      <th>2</th>\n",
              "      <td>3030421601</td>\n",
              "      <td>502</td>\n",
              "      <td>11.0</td>\n",
              "      <td>4</td>\n",
              "      <td>4641</td>\n",
              "      <td>0</td>\n",
              "      <td>7</td>\n",
              "      <td>41</td>\n",
              "      <td>2.0</td>\n",
              "      <td>2.0</td>\n",
              "    </tr>\n",
              "    <tr>\n",
              "      <th>3</th>\n",
              "      <td>1080372906</td>\n",
              "      <td>505</td>\n",
              "      <td>11.0</td>\n",
              "      <td>8</td>\n",
              "      <td>0</td>\n",
              "      <td>0</td>\n",
              "      <td>7</td>\n",
              "      <td>46</td>\n",
              "      <td>1.0</td>\n",
              "      <td>0.0</td>\n",
              "    </tr>\n",
              "    <tr>\n",
              "      <th>4</th>\n",
              "      <td>6180339705</td>\n",
              "      <td>505</td>\n",
              "      <td>11.0</td>\n",
              "      <td>8</td>\n",
              "      <td>0</td>\n",
              "      <td>0</td>\n",
              "      <td>0</td>\n",
              "      <td>42</td>\n",
              "      <td>2.0</td>\n",
              "      <td>0.0</td>\n",
              "    </tr>\n",
              "  </tbody>\n",
              "</table>\n",
              "</div>\n",
              "      <button class=\"colab-df-convert\" onclick=\"convertToInteractive('df-371273f2-e728-485a-b3c5-6c0b5c52cbab')\"\n",
              "              title=\"Convert this dataframe to an interactive table.\"\n",
              "              style=\"display:none;\">\n",
              "        \n",
              "  <svg xmlns=\"http://www.w3.org/2000/svg\" height=\"24px\"viewBox=\"0 0 24 24\"\n",
              "       width=\"24px\">\n",
              "    <path d=\"M0 0h24v24H0V0z\" fill=\"none\"/>\n",
              "    <path d=\"M18.56 5.44l.94 2.06.94-2.06 2.06-.94-2.06-.94-.94-2.06-.94 2.06-2.06.94zm-11 1L8.5 8.5l.94-2.06 2.06-.94-2.06-.94L8.5 2.5l-.94 2.06-2.06.94zm10 10l.94 2.06.94-2.06 2.06-.94-2.06-.94-.94-2.06-.94 2.06-2.06.94z\"/><path d=\"M17.41 7.96l-1.37-1.37c-.4-.4-.92-.59-1.43-.59-.52 0-1.04.2-1.43.59L10.3 9.45l-7.72 7.72c-.78.78-.78 2.05 0 2.83L4 21.41c.39.39.9.59 1.41.59.51 0 1.02-.2 1.41-.59l7.78-7.78 2.81-2.81c.8-.78.8-2.07 0-2.86zM5.41 20L4 18.59l7.72-7.72 1.47 1.35L5.41 20z\"/>\n",
              "  </svg>\n",
              "      </button>\n",
              "      \n",
              "  <style>\n",
              "    .colab-df-container {\n",
              "      display:flex;\n",
              "      flex-wrap:wrap;\n",
              "      gap: 12px;\n",
              "    }\n",
              "\n",
              "    .colab-df-convert {\n",
              "      background-color: #E8F0FE;\n",
              "      border: none;\n",
              "      border-radius: 50%;\n",
              "      cursor: pointer;\n",
              "      display: none;\n",
              "      fill: #1967D2;\n",
              "      height: 32px;\n",
              "      padding: 0 0 0 0;\n",
              "      width: 32px;\n",
              "    }\n",
              "\n",
              "    .colab-df-convert:hover {\n",
              "      background-color: #E2EBFA;\n",
              "      box-shadow: 0px 1px 2px rgba(60, 64, 67, 0.3), 0px 1px 3px 1px rgba(60, 64, 67, 0.15);\n",
              "      fill: #174EA6;\n",
              "    }\n",
              "\n",
              "    [theme=dark] .colab-df-convert {\n",
              "      background-color: #3B4455;\n",
              "      fill: #D2E3FC;\n",
              "    }\n",
              "\n",
              "    [theme=dark] .colab-df-convert:hover {\n",
              "      background-color: #434B5C;\n",
              "      box-shadow: 0px 1px 3px 1px rgba(0, 0, 0, 0.15);\n",
              "      filter: drop-shadow(0px 1px 2px rgba(0, 0, 0, 0.3));\n",
              "      fill: #FFFFFF;\n",
              "    }\n",
              "  </style>\n",
              "\n",
              "      <script>\n",
              "        const buttonEl =\n",
              "          document.querySelector('#df-371273f2-e728-485a-b3c5-6c0b5c52cbab button.colab-df-convert');\n",
              "        buttonEl.style.display =\n",
              "          google.colab.kernel.accessAllowed ? 'block' : 'none';\n",
              "\n",
              "        async function convertToInteractive(key) {\n",
              "          const element = document.querySelector('#df-371273f2-e728-485a-b3c5-6c0b5c52cbab');\n",
              "          const dataTable =\n",
              "            await google.colab.kernel.invokeFunction('convertToInteractive',\n",
              "                                                     [key], {});\n",
              "          if (!dataTable) return;\n",
              "\n",
              "          const docLinkHtml = 'Like what you see? Visit the ' +\n",
              "            '<a target=\"_blank\" href=https://colab.research.google.com/notebooks/data_table.ipynb>data table notebook</a>'\n",
              "            + ' to learn more about interactive tables.';\n",
              "          element.innerHTML = '';\n",
              "          dataTable['output_type'] = 'display_data';\n",
              "          await google.colab.output.renderOutput(dataTable, element);\n",
              "          const docLink = document.createElement('div');\n",
              "          docLink.innerHTML = docLinkHtml;\n",
              "          element.appendChild(docLink);\n",
              "        }\n",
              "      </script>\n",
              "    </div>\n",
              "  </div>\n",
              "  "
            ]
          },
          "metadata": {},
          "execution_count": 32
        }
      ]
    },
    {
      "cell_type": "markdown",
      "source": [
        "\n",
        "\n",
        "\n",
        "3.   모델링\n",
        "\n"
      ],
      "metadata": {
        "id": "tRCkiGfDeTdg"
      }
    },
    {
      "cell_type": "code",
      "source": [
        "# features/target, train/test dataset 분리\n",
        "# 사업자번호의 경우 최종등급의 영향이 크지 않을것으로 예측되어 제외\n",
        "X = df1[['모형','업종','형태','산업코드','총자산','대표자CB등급','총점','재무등급']]\n",
        "y = df1[['최종등급']]\n",
        "\n",
        "train_x, test_x, train_y, test_y = train_test_split(X, y, test_size = 0.2, random_state = 42) # 학습데이터와 평가데이터의 비율을 8:2 로 분할| "
      ],
      "metadata": {
        "id": "VRI6be_5OAvH"
      },
      "execution_count": 34,
      "outputs": []
    },
    {
      "cell_type": "code",
      "source": [
        "## 데이터 스케일링\n",
        "# 데이터 스케일링 작업을 통해, 모든 특성의 범위(또는 분포)를 같게 만들어줘야합니다.\n",
        "\n",
        "from sklearn.preprocessing import StandardScaler\n",
        "\n",
        "scaler = StandardScaler()\n",
        "train_x = scaler.fit_transform(train_x)\n",
        "test_x = scaler.transform(test_x)"
      ],
      "metadata": {
        "id": "-grSSmqxe-4h"
      },
      "execution_count": 44,
      "outputs": []
    },
    {
      "cell_type": "code",
      "source": [
        "## 랜덤포레스트 모델 생성 및 평가 \n",
        "model_rf = RandomForestClassifier(n_estimators=20, max_depth=5,random_state=0)\n",
        "model_rf.fit(train_x,train_y)\n",
        "\n",
        "# SCORE 산출\n",
        "predict1 = model_rf.predict(test_x)\n",
        "print(accuracy_score(test_y,predict1))\n",
        "# 중요도\n",
        "print(\"변수 중요도 : \\n{}\".format(model_rf.feature_importances_))"
      ],
      "metadata": {
        "colab": {
          "base_uri": "https://localhost:8080/"
        },
        "id": "G5M4fawELMwd",
        "outputId": "baa0ee5f-4e22-418a-ec97-4267fbaf914f"
      },
      "execution_count": 53,
      "outputs": [
        {
          "output_type": "stream",
          "name": "stderr",
          "text": [
            "/usr/local/lib/python3.7/dist-packages/ipykernel_launcher.py:3: DataConversionWarning: A column-vector y was passed when a 1d array was expected. Please change the shape of y to (n_samples,), for example using ravel().\n",
            "  This is separate from the ipykernel package so we can avoid doing imports until\n"
          ]
        },
        {
          "output_type": "stream",
          "name": "stdout",
          "text": [
            "0.9815587063293485\n",
            "변수 중요도 : \n",
            "[0.00643352 0.         0.44090507 0.0149924  0.00427392 0.07515954\n",
            " 0.19403238 0.26420317]\n"
          ]
        }
      ]
    },
    {
      "cell_type": "code",
      "source": [
        "## 로지스틱 모델 생성 및 평가 \n",
        "\n",
        "model_lg = LogisticRegression()\n",
        "model_lg.fit(train_x, train_y)\n",
        "\n",
        "# SCORE 산출\n",
        "predict2 = model_lg.predict(test_x)\n",
        "print(accuracy_score(test_y,predict2))"
      ],
      "metadata": {
        "colab": {
          "base_uri": "https://localhost:8080/"
        },
        "id": "Nlq8_ck1fbtT",
        "outputId": "c3db61b3-89d4-4b7c-fd7d-6e6787898cfd"
      },
      "execution_count": 51,
      "outputs": [
        {
          "output_type": "stream",
          "name": "stderr",
          "text": [
            "/usr/local/lib/python3.7/dist-packages/sklearn/utils/validation.py:993: DataConversionWarning: A column-vector y was passed when a 1d array was expected. Please change the shape of y to (n_samples, ), for example using ravel().\n",
            "  y = column_or_1d(y, warn=True)\n"
          ]
        },
        {
          "output_type": "stream",
          "name": "stdout",
          "text": [
            "0.9804930034287832\n"
          ]
        },
        {
          "output_type": "stream",
          "name": "stderr",
          "text": [
            "/usr/local/lib/python3.7/dist-packages/sklearn/linear_model/_logistic.py:818: ConvergenceWarning: lbfgs failed to converge (status=1):\n",
            "STOP: TOTAL NO. of ITERATIONS REACHED LIMIT.\n",
            "\n",
            "Increase the number of iterations (max_iter) or scale the data as shown in:\n",
            "    https://scikit-learn.org/stable/modules/preprocessing.html\n",
            "Please also refer to the documentation for alternative solver options:\n",
            "    https://scikit-learn.org/stable/modules/linear_model.html#logistic-regression\n",
            "  extra_warning_msg=_LOGISTIC_SOLVER_CONVERGENCE_MSG,\n"
          ]
        }
      ]
    },
    {
      "cell_type": "code",
      "source": [
        "# 새로운 데이터 예측하기 \n",
        "\n",
        "jack=np.array([504,11,4,8888,0,2,70,6])\n",
        "me=np.array([504,11,4,9999,100,4,20,3])\n",
        "i=np.array([504,11,4,7777,0,2,70,2])\n",
        "\n",
        "sample_passengers = np.array([jack, me,i])\n",
        "\n",
        "# 새로운 데이터도 스케일링 해줘야함.\n",
        "sample_passengers = scaler.transform(sample_passengers)"
      ],
      "metadata": {
        "id": "APUWc-cdYlJd",
        "colab": {
          "base_uri": "https://localhost:8080/"
        },
        "outputId": "44be903f-fcbd-41db-ce21-8c0f2b1bd5db"
      },
      "execution_count": 55,
      "outputs": [
        {
          "output_type": "stream",
          "name": "stderr",
          "text": [
            "/usr/local/lib/python3.7/dist-packages/sklearn/base.py:451: UserWarning: X does not have valid feature names, but StandardScaler was fitted with feature names\n",
            "  \"X does not have valid feature names, but\"\n"
          ]
        }
      ]
    },
    {
      "cell_type": "code",
      "source": [
        "# 새로운 데이터에 대해 최종등급 예측\n",
        "\n",
        "print(model_rf.predict(sample_passengers))\n",
        "print(model_lg.predict(sample_passengers))"
      ],
      "metadata": {
        "colab": {
          "base_uri": "https://localhost:8080/"
        },
        "id": "SIzH4GMqZiHa",
        "outputId": "b05449b7-f04a-47de-caf8-299b60bfee84"
      },
      "execution_count": 57,
      "outputs": [
        {
          "output_type": "stream",
          "name": "stdout",
          "text": [
            "[6. 2. 4.]\n",
            "[6. 3. 1.]\n"
          ]
        }
      ]
    },
    {
      "cell_type": "markdown",
      "source": [
        "\n",
        "\n",
        "4.   제출파일 생성\n",
        "\n"
      ],
      "metadata": {
        "id": "6zAcQEsFrmFO"
      }
    },
    {
      "cell_type": "code",
      "source": [
        "predict1 = model.predict(test_x)"
      ],
      "metadata": {
        "id": "6xgmAl4Fr39Y"
      },
      "execution_count": null,
      "outputs": []
    },
    {
      "cell_type": "code",
      "source": [
        "#제출용 파일 infile\n",
        "submission=pd.read_csv('/content/submission.csv')\n",
        "submission"
      ],
      "metadata": {
        "id": "HzYxdRCGsFLz"
      },
      "execution_count": null,
      "outputs": []
    },
    {
      "cell_type": "code",
      "source": [
        "predict1"
      ],
      "metadata": {
        "colab": {
          "base_uri": "https://localhost:8080/"
        },
        "id": "IRY9rO-pDbP1",
        "outputId": "88116e8a-ac4d-42b9-865d-a4a78a3bb143"
      },
      "execution_count": null,
      "outputs": [
        {
          "output_type": "execute_result",
          "data": {
            "text/plain": [
              "array([0., 5., 0., ..., 1., 0., 2.])"
            ]
          },
          "metadata": {},
          "execution_count": 60
        }
      ]
    },
    {
      "cell_type": "code",
      "source": [
        "submission['최종등급']=predict1\n",
        "submission"
      ],
      "metadata": {
        "id": "5ir_YSe7sFNP"
      },
      "execution_count": null,
      "outputs": []
    },
    {
      "cell_type": "code",
      "source": [
        "submission.to_csv('결과물제출.csv')"
      ],
      "metadata": {
        "id": "s-ww7MagscGG"
      },
      "execution_count": null,
      "outputs": []
    }
  ]
}