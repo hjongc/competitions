{
 "cells": [
  {
   "cell_type": "code",
   "execution_count": 10,
   "metadata": {},
   "outputs": [],
   "source": [
    "import pandas as pd\n",
    "from pandas_profiling import ProfileReport"
   ]
  },
  {
   "cell_type": "code",
   "execution_count": 2,
   "metadata": {},
   "outputs": [],
   "source": [
    "# 휴폐업 중소법인 재무보유 sheet 별로 불러오기\n",
    "\n",
    "df_summary = pd.read_excel('../dataset/휴폐업 중소법인 재무보유.xlsx', sheet_name='기업개요')\n",
    "df_inactive = pd.read_excel('../dataset/휴폐업 중소법인 재무보유.xlsx', sheet_name='휴폐업이력')"
   ]
  },
  {
   "cell_type": "code",
   "execution_count": 28,
   "metadata": {},
   "outputs": [],
   "source": [
    "# 개방데이터 레이아웃에서 한글칼럼명 가져오기\n",
    "\n",
    "df_columns = pd.read_excel('../dataset/넘블 챌린지 개방데이터 레이아웃.xlsx', sheet_name='최종')\n",
    "df_columns = df_columns[['영문칼럼명', '한글칼럼명']]\n",
    "dict_columns = dict(zip(df_columns['영문칼럼명'], df_columns['한글칼럼명']))"
   ]
  },
  {
   "cell_type": "code",
   "execution_count": 32,
   "metadata": {},
   "outputs": [
    {
     "data": {
      "text/html": [
       "<div>\n",
       "<style scoped>\n",
       "    .dataframe tbody tr th:only-of-type {\n",
       "        vertical-align: middle;\n",
       "    }\n",
       "\n",
       "    .dataframe tbody tr th {\n",
       "        vertical-align: top;\n",
       "    }\n",
       "\n",
       "    .dataframe thead th {\n",
       "        text-align: right;\n",
       "    }\n",
       "</style>\n",
       "<table border=\"1\" class=\"dataframe\">\n",
       "  <thead>\n",
       "    <tr style=\"text-align: right;\">\n",
       "      <th></th>\n",
       "      <th>사업자등록번호</th>\n",
       "      <th>기업접두명</th>\n",
       "      <th>기업명</th>\n",
       "      <th>기업접미명</th>\n",
       "      <th>기업영문명</th>\n",
       "      <th>업종</th>\n",
       "      <th>기업규모</th>\n",
       "      <th>공기업구분 1.공기업 2.일반기업</th>\n",
       "      <th>개인법인구분 1.법인 2.개인</th>\n",
       "      <th>본점지점구분 1.본점 2.지점</th>\n",
       "      <th>...</th>\n",
       "      <th>중견기업보호여부</th>\n",
       "      <th>본점기업코드</th>\n",
       "      <th>설립일자</th>\n",
       "      <th>설립구분</th>\n",
       "      <th>상장일자</th>\n",
       "      <th>주요사업내용</th>\n",
       "      <th>국가명</th>\n",
       "      <th>홈페이지URL</th>\n",
       "      <th>대표자명</th>\n",
       "      <th>직원수</th>\n",
       "    </tr>\n",
       "  </thead>\n",
       "  <tbody>\n",
       "    <tr>\n",
       "      <th>0</th>\n",
       "      <td>1268145633</td>\n",
       "      <td>(주)</td>\n",
       "      <td>용진테크</td>\n",
       "      <td>NaN</td>\n",
       "      <td>Yongjin Tech Co., Ltd.</td>\n",
       "      <td>M</td>\n",
       "      <td>2</td>\n",
       "      <td>2</td>\n",
       "      <td>1</td>\n",
       "      <td>1</td>\n",
       "      <td>...</td>\n",
       "      <td>N</td>\n",
       "      <td>NaN</td>\n",
       "      <td>20000529.0</td>\n",
       "      <td>1</td>\n",
       "      <td>NaN</td>\n",
       "      <td>자동차부품 제조판매업</td>\n",
       "      <td>NaN</td>\n",
       "      <td>www.yongjintech.com</td>\n",
       "      <td>안상동</td>\n",
       "      <td>40.0</td>\n",
       "    </tr>\n",
       "    <tr>\n",
       "      <th>1</th>\n",
       "      <td>1388101749</td>\n",
       "      <td>NaN</td>\n",
       "      <td>신구건설</td>\n",
       "      <td>(주)</td>\n",
       "      <td>SHINKU C0NSTRUCTION CO.,LTD.</td>\n",
       "      <td>M</td>\n",
       "      <td>2</td>\n",
       "      <td>2</td>\n",
       "      <td>1</td>\n",
       "      <td>1</td>\n",
       "      <td>...</td>\n",
       "      <td>N</td>\n",
       "      <td>NaN</td>\n",
       "      <td>19850110.0</td>\n",
       "      <td>1</td>\n",
       "      <td>NaN</td>\n",
       "      <td>건축자재 판매업</td>\n",
       "      <td>NaN</td>\n",
       "      <td>www.shinku.co.kr</td>\n",
       "      <td>소재필</td>\n",
       "      <td>13.0</td>\n",
       "    </tr>\n",
       "    <tr>\n",
       "      <th>2</th>\n",
       "      <td>1068179240</td>\n",
       "      <td>(주)</td>\n",
       "      <td>석정미디어</td>\n",
       "      <td>NaN</td>\n",
       "      <td>sung jung</td>\n",
       "      <td>M</td>\n",
       "      <td>2</td>\n",
       "      <td>2</td>\n",
       "      <td>1</td>\n",
       "      <td>1</td>\n",
       "      <td>...</td>\n",
       "      <td>N</td>\n",
       "      <td>NaN</td>\n",
       "      <td>19990601.0</td>\n",
       "      <td>1</td>\n",
       "      <td>NaN</td>\n",
       "      <td>토너, 잉크, 프린터 외 컴퓨터 관련 주변기기</td>\n",
       "      <td>NaN</td>\n",
       "      <td>NaN</td>\n",
       "      <td>이상호</td>\n",
       "      <td>1.0</td>\n",
       "    </tr>\n",
       "    <tr>\n",
       "      <th>3</th>\n",
       "      <td>2248114507</td>\n",
       "      <td>(주)</td>\n",
       "      <td>새한실업</td>\n",
       "      <td>NaN</td>\n",
       "      <td>SAEHAN INDUSTRY CO.,LTD.</td>\n",
       "      <td>M</td>\n",
       "      <td>2</td>\n",
       "      <td>2</td>\n",
       "      <td>1</td>\n",
       "      <td>1</td>\n",
       "      <td>...</td>\n",
       "      <td>N</td>\n",
       "      <td>NaN</td>\n",
       "      <td>19980522.0</td>\n",
       "      <td>1</td>\n",
       "      <td>NaN</td>\n",
       "      <td>금속 캔 및 기타 포장용기 제조업</td>\n",
       "      <td>NaN</td>\n",
       "      <td>NaN</td>\n",
       "      <td>김정남외  1명</td>\n",
       "      <td>6.0</td>\n",
       "    </tr>\n",
       "    <tr>\n",
       "      <th>4</th>\n",
       "      <td>1168132785</td>\n",
       "      <td>(주)</td>\n",
       "      <td>석영엔터프라이즈</td>\n",
       "      <td>NaN</td>\n",
       "      <td>Seokyoung Enterprise Co.,Ltd.</td>\n",
       "      <td>M</td>\n",
       "      <td>2</td>\n",
       "      <td>2</td>\n",
       "      <td>1</td>\n",
       "      <td>1</td>\n",
       "      <td>...</td>\n",
       "      <td>N</td>\n",
       "      <td>NaN</td>\n",
       "      <td>19930226.0</td>\n",
       "      <td>1</td>\n",
       "      <td>NaN</td>\n",
       "      <td>스마트트레이 외</td>\n",
       "      <td>NaN</td>\n",
       "      <td>www.systeel.co.kr</td>\n",
       "      <td>박성진</td>\n",
       "      <td>40.0</td>\n",
       "    </tr>\n",
       "  </tbody>\n",
       "</table>\n",
       "<p>5 rows × 28 columns</p>\n",
       "</div>"
      ],
      "text/plain": [
       "      사업자등록번호 기업접두명       기업명 기업접미명                          기업영문명 업종  기업규모  \\\n",
       "0  1268145633   (주)      용진테크   NaN         Yongjin Tech Co., Ltd.  M     2   \n",
       "1  1388101749   NaN      신구건설   (주)   SHINKU C0NSTRUCTION CO.,LTD.  M     2   \n",
       "2  1068179240   (주)     석정미디어   NaN                      sung jung  M     2   \n",
       "3  2248114507   (주)      새한실업   NaN       SAEHAN INDUSTRY CO.,LTD.  M     2   \n",
       "4  1168132785   (주)  석영엔터프라이즈   NaN  Seokyoung Enterprise Co.,Ltd.  M     2   \n",
       "\n",
       "   공기업구분 1.공기업 2.일반기업  개인법인구분 1.법인 2.개인  본점지점구분 1.본점 2.지점  ... 중견기업보호여부  \\\n",
       "0                   2                 1                 1  ...        N   \n",
       "1                   2                 1                 1  ...        N   \n",
       "2                   2                 1                 1  ...        N   \n",
       "3                   2                 1                 1  ...        N   \n",
       "4                   2                 1                 1  ...        N   \n",
       "\n",
       "  본점기업코드        설립일자  설립구분  상장일자                     주요사업내용  국가명  \\\n",
       "0    NaN  20000529.0     1   NaN                자동차부품 제조판매업  NaN   \n",
       "1    NaN  19850110.0     1   NaN                   건축자재 판매업  NaN   \n",
       "2    NaN  19990601.0     1   NaN  토너, 잉크, 프린터 외 컴퓨터 관련 주변기기  NaN   \n",
       "3    NaN  19980522.0     1   NaN         금속 캔 및 기타 포장용기 제조업  NaN   \n",
       "4    NaN  19930226.0     1   NaN                   스마트트레이 외  NaN   \n",
       "\n",
       "               홈페이지URL      대표자명   직원수  \n",
       "0  www.yongjintech.com       안상동  40.0  \n",
       "1     www.shinku.co.kr       소재필  13.0  \n",
       "2                  NaN       이상호   1.0  \n",
       "3                  NaN  김정남외  1명   6.0  \n",
       "4    www.systeel.co.kr       박성진  40.0  \n",
       "\n",
       "[5 rows x 28 columns]"
      ]
     },
     "execution_count": 32,
     "metadata": {},
     "output_type": "execute_result"
    }
   ],
   "source": [
    "# 기업개요 영문칼럼명에서 한글칼럼명으로 바꾸기\n",
    "\n",
    "df_summary.rename(columns = dict_columns, inplace=True)\n",
    "df_summary.head()"
   ]
  },
  {
   "cell_type": "code",
   "execution_count": 34,
   "metadata": {},
   "outputs": [
    {
     "data": {
      "text/html": [
       "<div>\n",
       "<style scoped>\n",
       "    .dataframe tbody tr th:only-of-type {\n",
       "        vertical-align: middle;\n",
       "    }\n",
       "\n",
       "    .dataframe tbody tr th {\n",
       "        vertical-align: top;\n",
       "    }\n",
       "\n",
       "    .dataframe thead th {\n",
       "        text-align: right;\n",
       "    }\n",
       "</style>\n",
       "<table border=\"1\" class=\"dataframe\">\n",
       "  <thead>\n",
       "    <tr style=\"text-align: right;\">\n",
       "      <th></th>\n",
       "      <th>사업자등록번호</th>\n",
       "      <th>종료일자</th>\n",
       "      <th>시작일자</th>\n",
       "      <th>휴폐업구분</th>\n",
       "      <th>상태발생일자</th>\n",
       "    </tr>\n",
       "  </thead>\n",
       "  <tbody>\n",
       "    <tr>\n",
       "      <th>0</th>\n",
       "      <td>1268145633</td>\n",
       "      <td>99991231</td>\n",
       "      <td>20220518</td>\n",
       "      <td>3</td>\n",
       "      <td>20220518</td>\n",
       "    </tr>\n",
       "    <tr>\n",
       "      <th>1</th>\n",
       "      <td>1388101749</td>\n",
       "      <td>99991231</td>\n",
       "      <td>20210319</td>\n",
       "      <td>3</td>\n",
       "      <td>20210319</td>\n",
       "    </tr>\n",
       "    <tr>\n",
       "      <th>2</th>\n",
       "      <td>1068179240</td>\n",
       "      <td>99991231</td>\n",
       "      <td>20200731</td>\n",
       "      <td>3</td>\n",
       "      <td>20191213</td>\n",
       "    </tr>\n",
       "    <tr>\n",
       "      <th>3</th>\n",
       "      <td>2248114507</td>\n",
       "      <td>99991231</td>\n",
       "      <td>20210531</td>\n",
       "      <td>3</td>\n",
       "      <td>20210531</td>\n",
       "    </tr>\n",
       "    <tr>\n",
       "      <th>4</th>\n",
       "      <td>1168132785</td>\n",
       "      <td>99991231</td>\n",
       "      <td>20210630</td>\n",
       "      <td>3</td>\n",
       "      <td>20210630</td>\n",
       "    </tr>\n",
       "  </tbody>\n",
       "</table>\n",
       "</div>"
      ],
      "text/plain": [
       "      사업자등록번호      종료일자      시작일자  휴폐업구분    상태발생일자\n",
       "0  1268145633  99991231  20220518      3  20220518\n",
       "1  1388101749  99991231  20210319      3  20210319\n",
       "2  1068179240  99991231  20200731      3  20191213\n",
       "3  2248114507  99991231  20210531      3  20210531\n",
       "4  1168132785  99991231  20210630      3  20210630"
      ]
     },
     "execution_count": 34,
     "metadata": {},
     "output_type": "execute_result"
    }
   ],
   "source": [
    "# 휴폐업이력 영문칼럼명에서 한글칼럼명으로 바꾸기\n",
    "\n",
    "df_inactive.rename(columns = dict_columns, inplace=True)\n",
    "df_inactive.head()"
   ]
  },
  {
   "cell_type": "code",
   "execution_count": 35,
   "metadata": {},
   "outputs": [
    {
     "data": {
      "application/vnd.jupyter.widget-view+json": {
       "model_id": "8c545d05243b47f083e62196accd4ff0",
       "version_major": 2,
       "version_minor": 0
      },
      "text/plain": [
       "Summarize dataset:   0%|          | 0/5 [00:00<?, ?it/s]"
      ]
     },
     "metadata": {},
     "output_type": "display_data"
    },
    {
     "name": "stderr",
     "output_type": "stream",
     "text": [
      "/Users/chai/miniforge3/envs/comenv/lib/python3.9/site-packages/pandas_profiling/model/correlations.py:55: UserWarning: There was an attempt to calculate the cramers correlation, but this failed.\n",
      "To hide this warning, disable the calculation\n",
      "(using `df.profile_report(correlations={\"cramers\": {\"calculate\": False}})`\n",
      "If this is problematic for your use case, please report this as an issue:\n",
      "https://github.com/ydataai/pandas-profiling/issues\n",
      "(include the error message: 'No data; `observed` has size 0.')\n",
      "  warnings.warn(\n"
     ]
    },
    {
     "data": {
      "application/vnd.jupyter.widget-view+json": {
       "model_id": "fd2fadf5ab984bf092902fe7eb18aba9",
       "version_major": 2,
       "version_minor": 0
      },
      "text/plain": [
       "Generate report structure:   0%|          | 0/1 [00:00<?, ?it/s]"
      ]
     },
     "metadata": {},
     "output_type": "display_data"
    },
    {
     "data": {
      "application/vnd.jupyter.widget-view+json": {
       "model_id": "e8b8b785725c4642bfe759285a715f3c",
       "version_major": 2,
       "version_minor": 0
      },
      "text/plain": [
       "Render HTML:   0%|          | 0/1 [00:00<?, ?it/s]"
      ]
     },
     "metadata": {},
     "output_type": "display_data"
    },
    {
     "data": {
      "application/vnd.jupyter.widget-view+json": {
       "model_id": "03019ff5ff81459690749e009fca05f1",
       "version_major": 2,
       "version_minor": 0
      },
      "text/plain": [
       "Export report to file:   0%|          | 0/1 [00:00<?, ?it/s]"
      ]
     },
     "metadata": {},
     "output_type": "display_data"
    },
    {
     "data": {
      "application/vnd.jupyter.widget-view+json": {
       "model_id": "e16783ceee5a445a86be4dd7ede2bd32",
       "version_major": 2,
       "version_minor": 0
      },
      "text/plain": [
       "Summarize dataset:   0%|          | 0/5 [00:00<?, ?it/s]"
      ]
     },
     "metadata": {},
     "output_type": "display_data"
    },
    {
     "data": {
      "application/vnd.jupyter.widget-view+json": {
       "model_id": "a9f26126111743c880a79290867309ed",
       "version_major": 2,
       "version_minor": 0
      },
      "text/plain": [
       "Generate report structure:   0%|          | 0/1 [00:00<?, ?it/s]"
      ]
     },
     "metadata": {},
     "output_type": "display_data"
    },
    {
     "data": {
      "application/vnd.jupyter.widget-view+json": {
       "model_id": "75af06b433064ee3a473f6b95cd25b3b",
       "version_major": 2,
       "version_minor": 0
      },
      "text/plain": [
       "Render HTML:   0%|          | 0/1 [00:00<?, ?it/s]"
      ]
     },
     "metadata": {},
     "output_type": "display_data"
    },
    {
     "data": {
      "application/vnd.jupyter.widget-view+json": {
       "model_id": "3cc6d1a8f82f40f68239cb21e3a18eb0",
       "version_major": 2,
       "version_minor": 0
      },
      "text/plain": [
       "Export report to file:   0%|          | 0/1 [00:00<?, ?it/s]"
      ]
     },
     "metadata": {},
     "output_type": "display_data"
    }
   ],
   "source": [
    "profile_summary = ProfileReport(df_summary, title=\"휴폐업 중소법인 재무보유_기업개요\")\n",
    "profile_inactive = ProfileReport(df_inactive, title=\"휴폐업 중소법인 재무보유_휴폐업이력\")\n",
    "\n",
    "profile_summary.to_file(\"휴폐업 중소법인 재무보유_기업개요.html\")\n",
    "profile_inactive.to_file(\"휴폐업 중소법인 재무보유_휴폐업이력.html\")"
   ]
  },
  {
   "cell_type": "code",
   "execution_count": null,
   "metadata": {},
   "outputs": [],
   "source": []
  }
 ],
 "metadata": {
  "interpreter": {
   "hash": "86c1e1ce7aadd865e0e869a12dcfe0bc61512505063b8e9a26474c7e9fdb5135"
  },
  "kernelspec": {
   "display_name": "Python 3.9.13 64-bit ('comenv': conda)",
   "name": "python3"
  },
  "language_info": {
   "codemirror_mode": {
    "name": "ipython",
    "version": 3
   },
   "file_extension": ".py",
   "mimetype": "text/x-python",
   "name": "python",
   "nbconvert_exporter": "python",
   "pygments_lexer": "ipython3",
   "version": "3.9.13"
  },
  "orig_nbformat": 4
 },
 "nbformat": 4,
 "nbformat_minor": 2
}
