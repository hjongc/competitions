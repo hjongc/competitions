{
 "cells": [
  {
   "cell_type": "code",
   "execution_count": 2,
   "metadata": {},
   "outputs": [],
   "source": [
    "import pandas as pd\n",
    "from pandas_profiling import ProfileReport"
   ]
  },
  {
   "cell_type": "code",
   "execution_count": 3,
   "metadata": {},
   "outputs": [],
   "source": [
    "# 액티브 중소법인 재무보유 sheet 별로 불러오기\n",
    "\n",
    "df_summary_out = pd.read_excel('../dataset/액티브 중소법인 재무보유.xlsx', sheet_name='기업개요_외감')\n",
    "df_summary = pd.read_excel('../dataset/액티브 중소법인 재무보유.xlsx', sheet_name='기업개요')\n",
    "df_inactive = pd.read_excel('../dataset/액티브 중소법인 재무보유.xlsx', sheet_name='휴폐업이력')"
   ]
  },
  {
   "cell_type": "code",
   "execution_count": 4,
   "metadata": {},
   "outputs": [],
   "source": [
    "# 개방데이터 레이아웃에서 한글칼럼명 가져오기\n",
    "\n",
    "df_columns = pd.read_excel('../dataset/넘블 챌린지 개방데이터 레이아웃.xlsx', sheet_name='최종')\n",
    "df_columns = df_columns[['영문칼럼명', '한글칼럼명']]\n",
    "dict_columns = dict(zip(df_columns['영문칼럼명'], df_columns['한글칼럼명']))"
   ]
  },
  {
   "cell_type": "code",
   "execution_count": 5,
   "metadata": {},
   "outputs": [
    {
     "data": {
      "text/html": [
       "<div>\n",
       "<style scoped>\n",
       "    .dataframe tbody tr th:only-of-type {\n",
       "        vertical-align: middle;\n",
       "    }\n",
       "\n",
       "    .dataframe tbody tr th {\n",
       "        vertical-align: top;\n",
       "    }\n",
       "\n",
       "    .dataframe thead th {\n",
       "        text-align: right;\n",
       "    }\n",
       "</style>\n",
       "<table border=\"1\" class=\"dataframe\">\n",
       "  <thead>\n",
       "    <tr style=\"text-align: right;\">\n",
       "      <th></th>\n",
       "      <th>사업자등록번호</th>\n",
       "      <th>기업접두명</th>\n",
       "      <th>CMP_NM1</th>\n",
       "      <th>기업접미명</th>\n",
       "      <th>기업영문명</th>\n",
       "      <th>업종</th>\n",
       "      <th>기업규모</th>\n",
       "      <th>공기업구분 1.공기업 2.일반기업</th>\n",
       "      <th>개인법인구분 1.법인 2.개인</th>\n",
       "      <th>본점지점구분 1.본점 2.지점</th>\n",
       "      <th>...</th>\n",
       "      <th>중견기업보호여부</th>\n",
       "      <th>본점기업코드</th>\n",
       "      <th>설립일자</th>\n",
       "      <th>설립구분</th>\n",
       "      <th>상장일자</th>\n",
       "      <th>주요사업내용</th>\n",
       "      <th>국가명</th>\n",
       "      <th>홈페이지URL</th>\n",
       "      <th>대표자명</th>\n",
       "      <th>직원수</th>\n",
       "    </tr>\n",
       "  </thead>\n",
       "  <tbody>\n",
       "    <tr>\n",
       "      <th>0</th>\n",
       "      <td>1138111739</td>\n",
       "      <td>NaN</td>\n",
       "      <td>한일가스산업</td>\n",
       "      <td>(주)</td>\n",
       "      <td>HANIL GAS IND. CO.,LTD.</td>\n",
       "      <td>M</td>\n",
       "      <td>2</td>\n",
       "      <td>2</td>\n",
       "      <td>1</td>\n",
       "      <td>1</td>\n",
       "      <td>...</td>\n",
       "      <td>N</td>\n",
       "      <td>NaN</td>\n",
       "      <td>19660419.0</td>\n",
       "      <td>1</td>\n",
       "      <td>NaN</td>\n",
       "      <td>LP Gas 충전 및 판매업</td>\n",
       "      <td>NaN</td>\n",
       "      <td>www.hanilgas.com</td>\n",
       "      <td>홍순철외 1명</td>\n",
       "      <td>43.0</td>\n",
       "    </tr>\n",
       "    <tr>\n",
       "      <th>1</th>\n",
       "      <td>2078132193</td>\n",
       "      <td>(주)</td>\n",
       "      <td>엠피아이</td>\n",
       "      <td>NaN</td>\n",
       "      <td>EMPIALEE CO.,LTD.</td>\n",
       "      <td>M</td>\n",
       "      <td>2</td>\n",
       "      <td>2</td>\n",
       "      <td>1</td>\n",
       "      <td>1</td>\n",
       "      <td>...</td>\n",
       "      <td>N</td>\n",
       "      <td>NaN</td>\n",
       "      <td>19910806.0</td>\n",
       "      <td>1</td>\n",
       "      <td>NaN</td>\n",
       "      <td>가죽 및 대용가죽제품 제조업</td>\n",
       "      <td>NaN</td>\n",
       "      <td>www.mastercnd.co.kr</td>\n",
       "      <td>이스테판상수외 1명</td>\n",
       "      <td>35.0</td>\n",
       "    </tr>\n",
       "    <tr>\n",
       "      <th>2</th>\n",
       "      <td>1318167565</td>\n",
       "      <td>NaN</td>\n",
       "      <td>도영운수</td>\n",
       "      <td>(주)</td>\n",
       "      <td>DOYOUNG TRANSPORTATION CO.,LTD.</td>\n",
       "      <td>M</td>\n",
       "      <td>2</td>\n",
       "      <td>2</td>\n",
       "      <td>1</td>\n",
       "      <td>1</td>\n",
       "      <td>...</td>\n",
       "      <td>N</td>\n",
       "      <td>NaN</td>\n",
       "      <td>20011030.0</td>\n",
       "      <td>1</td>\n",
       "      <td>NaN</td>\n",
       "      <td>시내버스업</td>\n",
       "      <td>NaN</td>\n",
       "      <td>transport@naver.com</td>\n",
       "      <td>김명화</td>\n",
       "      <td>149.0</td>\n",
       "    </tr>\n",
       "    <tr>\n",
       "      <th>3</th>\n",
       "      <td>5048128251</td>\n",
       "      <td>(주)</td>\n",
       "      <td>중원산업</td>\n",
       "      <td>NaN</td>\n",
       "      <td>JOONGWON INDUSTRIAL CO.,LTD.</td>\n",
       "      <td>M</td>\n",
       "      <td>2</td>\n",
       "      <td>2</td>\n",
       "      <td>1</td>\n",
       "      <td>1</td>\n",
       "      <td>...</td>\n",
       "      <td>N</td>\n",
       "      <td>NaN</td>\n",
       "      <td>19990112.0</td>\n",
       "      <td>1</td>\n",
       "      <td>NaN</td>\n",
       "      <td>자동차 부품 제조</td>\n",
       "      <td>NaN</td>\n",
       "      <td>www.koreajw.com</td>\n",
       "      <td>김명구</td>\n",
       "      <td>75.0</td>\n",
       "    </tr>\n",
       "    <tr>\n",
       "      <th>4</th>\n",
       "      <td>1098164260</td>\n",
       "      <td>(주)</td>\n",
       "      <td>카타나골프</td>\n",
       "      <td>NaN</td>\n",
       "      <td>CATANA GOLF CO.,LTD.</td>\n",
       "      <td>M</td>\n",
       "      <td>2</td>\n",
       "      <td>2</td>\n",
       "      <td>1</td>\n",
       "      <td>1</td>\n",
       "      <td>...</td>\n",
       "      <td>N</td>\n",
       "      <td>NaN</td>\n",
       "      <td>20000531.0</td>\n",
       "      <td>1</td>\n",
       "      <td>NaN</td>\n",
       "      <td>골프용품 전반의 제조 및 수출업</td>\n",
       "      <td>NaN</td>\n",
       "      <td>NaN</td>\n",
       "      <td>김홍득</td>\n",
       "      <td>3.0</td>\n",
       "    </tr>\n",
       "  </tbody>\n",
       "</table>\n",
       "<p>5 rows × 28 columns</p>\n",
       "</div>"
      ],
      "text/plain": [
       "      사업자등록번호 기업접두명 CMP_NM1 기업접미명                            기업영문명 업종  기업규모  \\\n",
       "0  1138111739   NaN  한일가스산업   (주)          HANIL GAS IND. CO.,LTD.  M     2   \n",
       "1  2078132193   (주)    엠피아이   NaN                EMPIALEE CO.,LTD.  M     2   \n",
       "2  1318167565   NaN    도영운수   (주)  DOYOUNG TRANSPORTATION CO.,LTD.  M     2   \n",
       "3  5048128251   (주)    중원산업   NaN     JOONGWON INDUSTRIAL CO.,LTD.  M     2   \n",
       "4  1098164260   (주)   카타나골프   NaN             CATANA GOLF CO.,LTD.  M     2   \n",
       "\n",
       "   공기업구분 1.공기업 2.일반기업  개인법인구분 1.법인 2.개인  본점지점구분 1.본점 2.지점  ... 중견기업보호여부  \\\n",
       "0                   2                 1                 1  ...        N   \n",
       "1                   2                 1                 1  ...        N   \n",
       "2                   2                 1                 1  ...        N   \n",
       "3                   2                 1                 1  ...        N   \n",
       "4                   2                 1                 1  ...        N   \n",
       "\n",
       "  본점기업코드        설립일자  설립구분  상장일자             주요사업내용  국가명              홈페이지URL  \\\n",
       "0    NaN  19660419.0     1   NaN    LP Gas 충전 및 판매업  NaN     www.hanilgas.com   \n",
       "1    NaN  19910806.0     1   NaN    가죽 및 대용가죽제품 제조업  NaN  www.mastercnd.co.kr   \n",
       "2    NaN  20011030.0     1   NaN              시내버스업  NaN  transport@naver.com   \n",
       "3    NaN  19990112.0     1   NaN          자동차 부품 제조  NaN      www.koreajw.com   \n",
       "4    NaN  20000531.0     1   NaN  골프용품 전반의 제조 및 수출업  NaN                  NaN   \n",
       "\n",
       "         대표자명    직원수  \n",
       "0     홍순철외 1명   43.0  \n",
       "1  이스테판상수외 1명   35.0  \n",
       "2         김명화  149.0  \n",
       "3         김명구   75.0  \n",
       "4         김홍득    3.0  \n",
       "\n",
       "[5 rows x 28 columns]"
      ]
     },
     "execution_count": 5,
     "metadata": {},
     "output_type": "execute_result"
    }
   ],
   "source": [
    "# 기업개요_외감 영문칼럼명에서 한글칼럼명으로 바꾸기\n",
    "\n",
    "df_summary_out.rename(columns = dict_columns, inplace=True)\n",
    "df_summary_out.head()"
   ]
  },
  {
   "cell_type": "code",
   "execution_count": 6,
   "metadata": {},
   "outputs": [
    {
     "data": {
      "text/html": [
       "<div>\n",
       "<style scoped>\n",
       "    .dataframe tbody tr th:only-of-type {\n",
       "        vertical-align: middle;\n",
       "    }\n",
       "\n",
       "    .dataframe tbody tr th {\n",
       "        vertical-align: top;\n",
       "    }\n",
       "\n",
       "    .dataframe thead th {\n",
       "        text-align: right;\n",
       "    }\n",
       "</style>\n",
       "<table border=\"1\" class=\"dataframe\">\n",
       "  <thead>\n",
       "    <tr style=\"text-align: right;\">\n",
       "      <th></th>\n",
       "      <th>사업자등록번호</th>\n",
       "      <th>기업접두명</th>\n",
       "      <th>기업명</th>\n",
       "      <th>CMP_NM1</th>\n",
       "      <th>기업접미명</th>\n",
       "      <th>기업영문명</th>\n",
       "      <th>업종</th>\n",
       "      <th>CMP_TYP</th>\n",
       "      <th>기업규모</th>\n",
       "      <th>공기업구분 1.공기업 2.일반기업</th>\n",
       "      <th>...</th>\n",
       "      <th>TAXN_TYP</th>\n",
       "      <th>본점기업코드</th>\n",
       "      <th>설립일자</th>\n",
       "      <th>설립구분</th>\n",
       "      <th>상장일자</th>\n",
       "      <th>주요사업내용</th>\n",
       "      <th>국가명</th>\n",
       "      <th>홈페이지URL</th>\n",
       "      <th>대표자명</th>\n",
       "      <th>직원수</th>\n",
       "    </tr>\n",
       "  </thead>\n",
       "  <tbody>\n",
       "    <tr>\n",
       "      <th>0</th>\n",
       "      <td>2218116923</td>\n",
       "      <td>NaN</td>\n",
       "      <td>NaN</td>\n",
       "      <td>신우종합건설</td>\n",
       "      <td>(주)</td>\n",
       "      <td>Shinu General Construction Co., Ltd.</td>\n",
       "      <td>M</td>\n",
       "      <td>4</td>\n",
       "      <td>2</td>\n",
       "      <td>2</td>\n",
       "      <td>...</td>\n",
       "      <td>3.0</td>\n",
       "      <td>NaN</td>\n",
       "      <td>20000807.0</td>\n",
       "      <td>1.0</td>\n",
       "      <td>NaN</td>\n",
       "      <td>토목공사업</td>\n",
       "      <td>NaN</td>\n",
       "      <td>NaN</td>\n",
       "      <td>김주대외 1명</td>\n",
       "      <td>12.0</td>\n",
       "    </tr>\n",
       "    <tr>\n",
       "      <th>1</th>\n",
       "      <td>1138111739</td>\n",
       "      <td>NaN</td>\n",
       "      <td>한일가스산업(주)</td>\n",
       "      <td>한일가스산업</td>\n",
       "      <td>(주)</td>\n",
       "      <td>HANIL GAS IND. CO.,LTD.</td>\n",
       "      <td>M</td>\n",
       "      <td>3</td>\n",
       "      <td>2</td>\n",
       "      <td>2</td>\n",
       "      <td>...</td>\n",
       "      <td>3.0</td>\n",
       "      <td>NaN</td>\n",
       "      <td>19660419.0</td>\n",
       "      <td>1.0</td>\n",
       "      <td>NaN</td>\n",
       "      <td>LP Gas 충전 및 판매업</td>\n",
       "      <td>NaN</td>\n",
       "      <td>www.hanilgas.com</td>\n",
       "      <td>홍순철외 1명</td>\n",
       "      <td>43.0</td>\n",
       "    </tr>\n",
       "    <tr>\n",
       "      <th>2</th>\n",
       "      <td>1108146490</td>\n",
       "      <td>(주)</td>\n",
       "      <td>NaN</td>\n",
       "      <td>랩솔루션</td>\n",
       "      <td>NaN</td>\n",
       "      <td>Lab Solution</td>\n",
       "      <td>M</td>\n",
       "      <td>4</td>\n",
       "      <td>2</td>\n",
       "      <td>2</td>\n",
       "      <td>...</td>\n",
       "      <td>3.0</td>\n",
       "      <td>NaN</td>\n",
       "      <td>20000612.0</td>\n",
       "      <td>1.0</td>\n",
       "      <td>NaN</td>\n",
       "      <td>기체분석기 등</td>\n",
       "      <td>NaN</td>\n",
       "      <td>www.lab-solution.com</td>\n",
       "      <td>김봉철</td>\n",
       "      <td>3.0</td>\n",
       "    </tr>\n",
       "    <tr>\n",
       "      <th>3</th>\n",
       "      <td>3128134737</td>\n",
       "      <td>(주)</td>\n",
       "      <td>NaN</td>\n",
       "      <td>고려인삼제품공사</td>\n",
       "      <td>NaN</td>\n",
       "      <td>KOREAN GINSENG PRODUCT CO., LTD</td>\n",
       "      <td>M</td>\n",
       "      <td>4</td>\n",
       "      <td>2</td>\n",
       "      <td>2</td>\n",
       "      <td>...</td>\n",
       "      <td>3.0</td>\n",
       "      <td>NaN</td>\n",
       "      <td>19920301.0</td>\n",
       "      <td>1.0</td>\n",
       "      <td>NaN</td>\n",
       "      <td>다류, 차, 인삼제품, 음료, 코코아가공품, 커피</td>\n",
       "      <td>NaN</td>\n",
       "      <td>www.kitea.co.kr</td>\n",
       "      <td>박경출</td>\n",
       "      <td>24.0</td>\n",
       "    </tr>\n",
       "    <tr>\n",
       "      <th>4</th>\n",
       "      <td>2078132193</td>\n",
       "      <td>(주)</td>\n",
       "      <td>(주)엠피아이</td>\n",
       "      <td>엠피아이</td>\n",
       "      <td>NaN</td>\n",
       "      <td>EMPIALEE CO.,LTD.</td>\n",
       "      <td>M</td>\n",
       "      <td>3</td>\n",
       "      <td>2</td>\n",
       "      <td>2</td>\n",
       "      <td>...</td>\n",
       "      <td>3.0</td>\n",
       "      <td>NaN</td>\n",
       "      <td>19910806.0</td>\n",
       "      <td>1.0</td>\n",
       "      <td>NaN</td>\n",
       "      <td>가죽 및 대용가죽제품 제조업</td>\n",
       "      <td>NaN</td>\n",
       "      <td>www.mastercnd.co.kr</td>\n",
       "      <td>이스테판상수외 1명</td>\n",
       "      <td>35.0</td>\n",
       "    </tr>\n",
       "  </tbody>\n",
       "</table>\n",
       "<p>5 rows × 31 columns</p>\n",
       "</div>"
      ],
      "text/plain": [
       "      사업자등록번호 기업접두명        기업명   CMP_NM1 기업접미명  \\\n",
       "0  2218116923   NaN        NaN    신우종합건설   (주)   \n",
       "1  1138111739   NaN  한일가스산업(주)    한일가스산업   (주)   \n",
       "2  1108146490   (주)        NaN      랩솔루션   NaN   \n",
       "3  3128134737   (주)        NaN  고려인삼제품공사   NaN   \n",
       "4  2078132193   (주)    (주)엠피아이      엠피아이   NaN   \n",
       "\n",
       "                                  기업영문명 업종  CMP_TYP  기업규모  공기업구분 1.공기업 2.일반기업  \\\n",
       "0  Shinu General Construction Co., Ltd.  M        4     2                   2   \n",
       "1               HANIL GAS IND. CO.,LTD.  M        3     2                   2   \n",
       "2                          Lab Solution  M        4     2                   2   \n",
       "3       KOREAN GINSENG PRODUCT CO., LTD  M        4     2                   2   \n",
       "4                     EMPIALEE CO.,LTD.  M        3     2                   2   \n",
       "\n",
       "   ...  TAXN_TYP  본점기업코드        설립일자 설립구분 상장일자                       주요사업내용  \\\n",
       "0  ...       3.0     NaN  20000807.0  1.0  NaN                        토목공사업   \n",
       "1  ...       3.0     NaN  19660419.0  1.0  NaN              LP Gas 충전 및 판매업   \n",
       "2  ...       3.0     NaN  20000612.0  1.0  NaN                      기체분석기 등   \n",
       "3  ...       3.0     NaN  19920301.0  1.0  NaN  다류, 차, 인삼제품, 음료, 코코아가공품, 커피   \n",
       "4  ...       3.0     NaN  19910806.0  1.0  NaN              가죽 및 대용가죽제품 제조업   \n",
       "\n",
       "   국가명               홈페이지URL        대표자명   직원수  \n",
       "0  NaN                   NaN     김주대외 1명  12.0  \n",
       "1  NaN      www.hanilgas.com     홍순철외 1명  43.0  \n",
       "2  NaN  www.lab-solution.com         김봉철   3.0  \n",
       "3  NaN       www.kitea.co.kr         박경출  24.0  \n",
       "4  NaN   www.mastercnd.co.kr  이스테판상수외 1명  35.0  \n",
       "\n",
       "[5 rows x 31 columns]"
      ]
     },
     "execution_count": 6,
     "metadata": {},
     "output_type": "execute_result"
    }
   ],
   "source": [
    "# 기업개요 영문칼럼명에서 한글칼럼명으로 바꾸기\n",
    "\n",
    "df_summary.rename(columns = dict_columns, inplace=True)\n",
    "df_summary.head()"
   ]
  },
  {
   "cell_type": "code",
   "execution_count": 7,
   "metadata": {},
   "outputs": [
    {
     "data": {
      "text/html": [
       "<div>\n",
       "<style scoped>\n",
       "    .dataframe tbody tr th:only-of-type {\n",
       "        vertical-align: middle;\n",
       "    }\n",
       "\n",
       "    .dataframe tbody tr th {\n",
       "        vertical-align: top;\n",
       "    }\n",
       "\n",
       "    .dataframe thead th {\n",
       "        text-align: right;\n",
       "    }\n",
       "</style>\n",
       "<table border=\"1\" class=\"dataframe\">\n",
       "  <thead>\n",
       "    <tr style=\"text-align: right;\">\n",
       "      <th></th>\n",
       "      <th>사업자등록번호</th>\n",
       "      <th>종료일자</th>\n",
       "      <th>시작일자</th>\n",
       "      <th>휴폐업구분</th>\n",
       "      <th>상태발생일자</th>\n",
       "    </tr>\n",
       "  </thead>\n",
       "  <tbody>\n",
       "    <tr>\n",
       "      <th>0</th>\n",
       "      <td>5088115592</td>\n",
       "      <td>99991231</td>\n",
       "      <td>20150209</td>\n",
       "      <td>5</td>\n",
       "      <td>NaN</td>\n",
       "    </tr>\n",
       "    <tr>\n",
       "      <th>1</th>\n",
       "      <td>5088115592</td>\n",
       "      <td>20150208</td>\n",
       "      <td>20200731</td>\n",
       "      <td>2</td>\n",
       "      <td>NaN</td>\n",
       "    </tr>\n",
       "    <tr>\n",
       "      <th>2</th>\n",
       "      <td>1138127100</td>\n",
       "      <td>99991231</td>\n",
       "      <td>20121105</td>\n",
       "      <td>5</td>\n",
       "      <td>NaN</td>\n",
       "    </tr>\n",
       "    <tr>\n",
       "      <th>3</th>\n",
       "      <td>1138127100</td>\n",
       "      <td>20121104</td>\n",
       "      <td>20200731</td>\n",
       "      <td>2</td>\n",
       "      <td>NaN</td>\n",
       "    </tr>\n",
       "    <tr>\n",
       "      <th>4</th>\n",
       "      <td>1138127100</td>\n",
       "      <td>20121004</td>\n",
       "      <td>20200731</td>\n",
       "      <td>5</td>\n",
       "      <td>NaN</td>\n",
       "    </tr>\n",
       "  </tbody>\n",
       "</table>\n",
       "</div>"
      ],
      "text/plain": [
       "      사업자등록번호      종료일자      시작일자  휴폐업구분  상태발생일자\n",
       "0  5088115592  99991231  20150209      5     NaN\n",
       "1  5088115592  20150208  20200731      2     NaN\n",
       "2  1138127100  99991231  20121105      5     NaN\n",
       "3  1138127100  20121104  20200731      2     NaN\n",
       "4  1138127100  20121004  20200731      5     NaN"
      ]
     },
     "execution_count": 7,
     "metadata": {},
     "output_type": "execute_result"
    }
   ],
   "source": [
    "# 휴폐업이력 영문칼럼명에서 한글칼럼명으로 바꾸기\n",
    "\n",
    "df_inactive.rename(columns = dict_columns, inplace=True)\n",
    "df_inactive.head()"
   ]
  },
  {
   "cell_type": "code",
   "execution_count": 8,
   "metadata": {},
   "outputs": [
    {
     "data": {
      "application/vnd.jupyter.widget-view+json": {
       "model_id": "eaaeca60d53441a8b0a65bd97cade9d9",
       "version_major": 2,
       "version_minor": 0
      },
      "text/plain": [
       "Summarize dataset:   0%|          | 0/5 [00:00<?, ?it/s]"
      ]
     },
     "metadata": {},
     "output_type": "display_data"
    },
    {
     "name": "stderr",
     "output_type": "stream",
     "text": [
      "/Users/chai/miniforge3/envs/comenv/lib/python3.9/site-packages/pandas_profiling/model/correlations.py:55: UserWarning: There was an attempt to calculate the cramers correlation, but this failed.\n",
      "To hide this warning, disable the calculation\n",
      "(using `df.profile_report(correlations={\"cramers\": {\"calculate\": False}})`\n",
      "If this is problematic for your use case, please report this as an issue:\n",
      "https://github.com/ydataai/pandas-profiling/issues\n",
      "(include the error message: 'No data; `observed` has size 0.')\n",
      "  warnings.warn(\n"
     ]
    },
    {
     "data": {
      "application/vnd.jupyter.widget-view+json": {
       "model_id": "3f34dcaac1004d4cb02aedeae3551ad1",
       "version_major": 2,
       "version_minor": 0
      },
      "text/plain": [
       "Generate report structure:   0%|          | 0/1 [00:00<?, ?it/s]"
      ]
     },
     "metadata": {},
     "output_type": "display_data"
    },
    {
     "data": {
      "application/vnd.jupyter.widget-view+json": {
       "model_id": "7b0aec81e55842aeafd16ea145da4eb9",
       "version_major": 2,
       "version_minor": 0
      },
      "text/plain": [
       "Render HTML:   0%|          | 0/1 [00:00<?, ?it/s]"
      ]
     },
     "metadata": {},
     "output_type": "display_data"
    },
    {
     "data": {
      "application/vnd.jupyter.widget-view+json": {
       "model_id": "0b91abe7c6d04f7e885b128c74e77319",
       "version_major": 2,
       "version_minor": 0
      },
      "text/plain": [
       "Export report to file:   0%|          | 0/1 [00:00<?, ?it/s]"
      ]
     },
     "metadata": {},
     "output_type": "display_data"
    },
    {
     "data": {
      "application/vnd.jupyter.widget-view+json": {
       "model_id": "67befdcc04f145da9601ae99d6e26bcb",
       "version_major": 2,
       "version_minor": 0
      },
      "text/plain": [
       "Summarize dataset:   0%|          | 0/5 [00:00<?, ?it/s]"
      ]
     },
     "metadata": {},
     "output_type": "display_data"
    },
    {
     "name": "stderr",
     "output_type": "stream",
     "text": [
      "/Users/chai/miniforge3/envs/comenv/lib/python3.9/site-packages/scipy/stats/_stats_py.py:5215: RuntimeWarning: overflow encountered in long_scalars\n",
      "  (2 * xtie * ytie) / m + x0 * y0 / (9 * m * (size - 2)))\n",
      "/Users/chai/miniforge3/envs/comenv/lib/python3.9/site-packages/scipy/stats/_stats_py.py:5216: RuntimeWarning: invalid value encountered in sqrt\n",
      "  z = con_minus_dis / np.sqrt(var)\n",
      "/Users/chai/miniforge3/envs/comenv/lib/python3.9/site-packages/pandas_profiling/model/correlations.py:55: UserWarning: There was an attempt to calculate the cramers correlation, but this failed.\n",
      "To hide this warning, disable the calculation\n",
      "(using `df.profile_report(correlations={\"cramers\": {\"calculate\": False}})`\n",
      "If this is problematic for your use case, please report this as an issue:\n",
      "https://github.com/ydataai/pandas-profiling/issues\n",
      "(include the error message: 'No data; `observed` has size 0.')\n",
      "  warnings.warn(\n"
     ]
    },
    {
     "data": {
      "application/vnd.jupyter.widget-view+json": {
       "model_id": "2441f9cb07ad46c9810cedbcf9a22e91",
       "version_major": 2,
       "version_minor": 0
      },
      "text/plain": [
       "Generate report structure:   0%|          | 0/1 [00:00<?, ?it/s]"
      ]
     },
     "metadata": {},
     "output_type": "display_data"
    },
    {
     "data": {
      "application/vnd.jupyter.widget-view+json": {
       "model_id": "8b4edf34b67b4d4581386d820550e671",
       "version_major": 2,
       "version_minor": 0
      },
      "text/plain": [
       "Render HTML:   0%|          | 0/1 [00:00<?, ?it/s]"
      ]
     },
     "metadata": {},
     "output_type": "display_data"
    },
    {
     "data": {
      "application/vnd.jupyter.widget-view+json": {
       "model_id": "12998919f42e4647aeb0eafede953f40",
       "version_major": 2,
       "version_minor": 0
      },
      "text/plain": [
       "Export report to file:   0%|          | 0/1 [00:00<?, ?it/s]"
      ]
     },
     "metadata": {},
     "output_type": "display_data"
    },
    {
     "data": {
      "application/vnd.jupyter.widget-view+json": {
       "model_id": "84426b87587b4857a4ca7556d348515d",
       "version_major": 2,
       "version_minor": 0
      },
      "text/plain": [
       "Summarize dataset:   0%|          | 0/5 [00:00<?, ?it/s]"
      ]
     },
     "metadata": {},
     "output_type": "display_data"
    },
    {
     "data": {
      "application/vnd.jupyter.widget-view+json": {
       "model_id": "4942eac835204dc8bc93c94a01a33d6b",
       "version_major": 2,
       "version_minor": 0
      },
      "text/plain": [
       "Generate report structure:   0%|          | 0/1 [00:00<?, ?it/s]"
      ]
     },
     "metadata": {},
     "output_type": "display_data"
    },
    {
     "data": {
      "application/vnd.jupyter.widget-view+json": {
       "model_id": "459e438153a342c49d194bc3dd99e21d",
       "version_major": 2,
       "version_minor": 0
      },
      "text/plain": [
       "Render HTML:   0%|          | 0/1 [00:00<?, ?it/s]"
      ]
     },
     "metadata": {},
     "output_type": "display_data"
    },
    {
     "data": {
      "application/vnd.jupyter.widget-view+json": {
       "model_id": "31199909feef419b89f7be3b1b75b5d0",
       "version_major": 2,
       "version_minor": 0
      },
      "text/plain": [
       "Export report to file:   0%|          | 0/1 [00:00<?, ?it/s]"
      ]
     },
     "metadata": {},
     "output_type": "display_data"
    }
   ],
   "source": [
    "profile_summary_out = ProfileReport(df_summary_out, title=\"액티브 중소법인 재무보유_기업개요_외감\")\n",
    "profile_summary = ProfileReport(df_summary, title=\"액티브 중소법인 재무보유_기업개요\")\n",
    "profile_inactive = ProfileReport(df_inactive, title=\"액티브 중소법인 재무보유_휴폐업이력\")\n",
    "\n",
    "profile_summary_out.to_file(\"액티브 중소법인 재무보유_기업개요_외감.html\")\n",
    "profile_summary.to_file(\"액티브 중소법인 재무보유_기업개요.html\")\n",
    "profile_inactive.to_file(\"액티브 중소법인 재무보유_휴폐업이력.html\")"
   ]
  },
  {
   "cell_type": "code",
   "execution_count": null,
   "metadata": {},
   "outputs": [],
   "source": []
  }
 ],
 "metadata": {
  "interpreter": {
   "hash": "86c1e1ce7aadd865e0e869a12dcfe0bc61512505063b8e9a26474c7e9fdb5135"
  },
  "kernelspec": {
   "display_name": "Python 3.9.13 64-bit ('comenv': conda)",
   "name": "python3"
  },
  "language_info": {
   "codemirror_mode": {
    "name": "ipython",
    "version": 3
   },
   "file_extension": ".py",
   "mimetype": "text/x-python",
   "name": "python",
   "nbconvert_exporter": "python",
   "pygments_lexer": "ipython3",
   "version": "3.9.13"
  },
  "orig_nbformat": 4
 },
 "nbformat": 4,
 "nbformat_minor": 2
}
