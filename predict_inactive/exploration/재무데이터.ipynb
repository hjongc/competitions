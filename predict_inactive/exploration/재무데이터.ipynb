{
 "cells": [
  {
   "cell_type": "code",
   "execution_count": 1,
   "metadata": {},
   "outputs": [],
   "source": [
    "import pandas as pd\n",
    "from pandas_profiling import ProfileReport"
   ]
  },
  {
   "cell_type": "code",
   "execution_count": 9,
   "metadata": {},
   "outputs": [],
   "source": [
    "financial = pd.read_csv(\"../dataset/재무데이터.txt\", sep = '\\t', encoding='cp949')\n",
    "non_financial = pd.read_csv('../dataset/merge.csv')"
   ]
  },
  {
   "cell_type": "code",
   "execution_count": 10,
   "metadata": {},
   "outputs": [
    {
     "data": {
      "text/plain": [
       "Index(['사업자번호', '결산년월', '유동자산', '매출채권', '비유동자산', '유형자산', '자산총계', '유동부채',\n",
       "       '비유동부채', '부  채  총  계', '자본금', '이익잉여금(결손금）', '자본총계', '매출액', '판매비와관리비',\n",
       "       '영업이익（손실）', '법인세비용차감전순손익', '법인세비용', '당기순이익(손실)', '기업순이익률(%)',\n",
       "       '유보액/총자산(%)', '유보액/납입자본(%)', '매출액총이익률(%)', '매출액영업이익률(%)', '매출액순이익률(%)',\n",
       "       '수지비율(%)', '경상수지비율', '영업비율(%)', '금융비용대매출액비율(%', '금융비용대부채비율(%)',\n",
       "       '금융비용대총비용비율(%', '부채비율(%)', '차입금의존도(%)', '자기자본비율(%)', '순운전자본비율(%)',\n",
       "       '유동부채비율(%)', '비유동부채비율(%)', '부채총계대 매출액(%)', '총자본회전율(회)', '재고자산회전율(회)',\n",
       "       '매출채권회전율(회)', '매입채무회전율(회)', '미수금', '매출원가', '무형자산', '재고자산'],\n",
       "      dtype='object')"
      ]
     },
     "execution_count": 10,
     "metadata": {},
     "output_type": "execute_result"
    }
   ],
   "source": [
    "len(financial['사업자번호'].unique())\n",
    "financial.columns\n"
   ]
  },
  {
   "cell_type": "code",
   "execution_count": 11,
   "metadata": {},
   "outputs": [
    {
     "data": {
      "text/html": [
       "<div>\n",
       "<style scoped>\n",
       "    .dataframe tbody tr th:only-of-type {\n",
       "        vertical-align: middle;\n",
       "    }\n",
       "\n",
       "    .dataframe tbody tr th {\n",
       "        vertical-align: top;\n",
       "    }\n",
       "\n",
       "    .dataframe thead th {\n",
       "        text-align: right;\n",
       "    }\n",
       "</style>\n",
       "<table border=\"1\" class=\"dataframe\">\n",
       "  <thead>\n",
       "    <tr style=\"text-align: right;\">\n",
       "      <th></th>\n",
       "      <th>사업자등록번호</th>\n",
       "      <th>휴폐업 유무</th>\n",
       "    </tr>\n",
       "  </thead>\n",
       "  <tbody>\n",
       "    <tr>\n",
       "      <th>0</th>\n",
       "      <td>1138111739</td>\n",
       "      <td>N</td>\n",
       "    </tr>\n",
       "    <tr>\n",
       "      <th>1</th>\n",
       "      <td>2078132193</td>\n",
       "      <td>N</td>\n",
       "    </tr>\n",
       "    <tr>\n",
       "      <th>2</th>\n",
       "      <td>1318167565</td>\n",
       "      <td>N</td>\n",
       "    </tr>\n",
       "    <tr>\n",
       "      <th>3</th>\n",
       "      <td>5048128251</td>\n",
       "      <td>N</td>\n",
       "    </tr>\n",
       "    <tr>\n",
       "      <th>4</th>\n",
       "      <td>1098164260</td>\n",
       "      <td>N</td>\n",
       "    </tr>\n",
       "    <tr>\n",
       "      <th>...</th>\n",
       "      <td>...</td>\n",
       "      <td>...</td>\n",
       "    </tr>\n",
       "    <tr>\n",
       "      <th>234367</th>\n",
       "      <td>4808501629</td>\n",
       "      <td>Y</td>\n",
       "    </tr>\n",
       "    <tr>\n",
       "      <th>234368</th>\n",
       "      <td>8018501578</td>\n",
       "      <td>Y</td>\n",
       "    </tr>\n",
       "    <tr>\n",
       "      <th>234369</th>\n",
       "      <td>4118523419</td>\n",
       "      <td>Y</td>\n",
       "    </tr>\n",
       "    <tr>\n",
       "      <th>234370</th>\n",
       "      <td>1738102533</td>\n",
       "      <td>Y</td>\n",
       "    </tr>\n",
       "    <tr>\n",
       "      <th>234371</th>\n",
       "      <td>3138135248</td>\n",
       "      <td>Y</td>\n",
       "    </tr>\n",
       "  </tbody>\n",
       "</table>\n",
       "<p>234372 rows × 2 columns</p>\n",
       "</div>"
      ],
      "text/plain": [
       "           사업자등록번호 휴폐업 유무\n",
       "0       1138111739      N\n",
       "1       2078132193      N\n",
       "2       1318167565      N\n",
       "3       5048128251      N\n",
       "4       1098164260      N\n",
       "...            ...    ...\n",
       "234367  4808501629      Y\n",
       "234368  8018501578      Y\n",
       "234369  4118523419      Y\n",
       "234370  1738102533      Y\n",
       "234371  3138135248      Y\n",
       "\n",
       "[234372 rows x 2 columns]"
      ]
     },
     "execution_count": 11,
     "metadata": {},
     "output_type": "execute_result"
    }
   ],
   "source": [
    "isinactive = non_financial[['사업자등록번호', '휴폐업 유무']]\n",
    "isinactive"
   ]
  },
  {
   "cell_type": "code",
   "execution_count": 12,
   "metadata": {},
   "outputs": [],
   "source": [
    "financial = pd.merge(financial, isinactive, left_on='사업자번호', right_on= '사업자등록번호', how = 'left')\n"
   ]
  },
  {
   "cell_type": "code",
   "execution_count": 16,
   "metadata": {},
   "outputs": [
    {
     "data": {
      "text/plain": [
       "Index(['사업자번호', '결산년월', '유동자산', '매출채권', '비유동자산', '유형자산', '자산총계', '유동부채',\n",
       "       '비유동부채', '부  채  총  계', '자본금', '이익잉여금(결손금）', '자본총계', '매출액', '판매비와관리비',\n",
       "       '영업이익（손실）', '법인세비용차감전순손익', '법인세비용', '당기순이익(손실)', '기업순이익률(%)',\n",
       "       '유보액/총자산(%)', '유보액/납입자본(%)', '매출액총이익률(%)', '매출액영업이익률(%)', '매출액순이익률(%)',\n",
       "       '수지비율(%)', '경상수지비율', '영업비율(%)', '금융비용대매출액비율(%', '금융비용대부채비율(%)',\n",
       "       '금융비용대총비용비율(%', '부채비율(%)', '차입금의존도(%)', '자기자본비율(%)', '순운전자본비율(%)',\n",
       "       '유동부채비율(%)', '비유동부채비율(%)', '부채총계대 매출액(%)', '총자본회전율(회)', '재고자산회전율(회)',\n",
       "       '매출채권회전율(회)', '매입채무회전율(회)', '미수금', '매출원가', '무형자산', '재고자산', '사업자등록번호',\n",
       "       '휴폐업 유무'],\n",
       "      dtype='object')"
      ]
     },
     "execution_count": 16,
     "metadata": {},
     "output_type": "execute_result"
    }
   ],
   "source": [
    "financial.columns"
   ]
  },
  {
   "cell_type": "code",
   "execution_count": 15,
   "metadata": {},
   "outputs": [
    {
     "data": {
      "text/plain": [
       "20181231    53453\n",
       "20191231    49961\n",
       "20211231    49061\n",
       "20201231    48105\n",
       "20180331      707\n",
       "20190331      669\n",
       "20210331      621\n",
       "20200331      609\n",
       "20190630      554\n",
       "20180630      552\n",
       "20220331      547\n",
       "20200630      531\n",
       "20210630      496\n",
       "20190930      245\n",
       "20180930      237\n",
       "20200930      226\n",
       "20210930      221\n",
       "20220630      100\n",
       "20201031       54\n",
       "20211031       52\n",
       "20191031       51\n",
       "20180531       49\n",
       "20180228       46\n",
       "20210531       46\n",
       "20220531       46\n",
       "20200229       46\n",
       "20190531       46\n",
       "20190228       46\n",
       "20210430       44\n",
       "20180430       43\n",
       "20190430       43\n",
       "20210228       39\n",
       "20181031       39\n",
       "20200531       38\n",
       "20200430       37\n",
       "20220430       32\n",
       "20220228       30\n",
       "20210131       28\n",
       "20211130       26\n",
       "20180831       23\n",
       "20190831       23\n",
       "20210831       22\n",
       "20210731       22\n",
       "20191130       21\n",
       "20200131       21\n",
       "20200831       21\n",
       "20220131       20\n",
       "20201130       20\n",
       "20181130       18\n",
       "20200731       16\n",
       "20180131       15\n",
       "20190131       11\n",
       "20180731        9\n",
       "20190731        9\n",
       "Name: 결산년월, dtype: int64"
      ]
     },
     "execution_count": 15,
     "metadata": {},
     "output_type": "execute_result"
    }
   ],
   "source": [
    "financial['결산년월'].value_counts()"
   ]
  },
  {
   "cell_type": "code",
   "execution_count": null,
   "metadata": {},
   "outputs": [],
   "source": []
  }
 ],
 "metadata": {
  "interpreter": {
   "hash": "86c1e1ce7aadd865e0e869a12dcfe0bc61512505063b8e9a26474c7e9fdb5135"
  },
  "kernelspec": {
   "display_name": "Python 3.9.13 64-bit ('comenv': conda)",
   "name": "python3"
  },
  "language_info": {
   "codemirror_mode": {
    "name": "ipython",
    "version": 3
   },
   "file_extension": ".py",
   "mimetype": "text/x-python",
   "name": "python",
   "nbconvert_exporter": "python",
   "pygments_lexer": "ipython3",
   "version": "3.9.13"
  },
  "orig_nbformat": 4
 },
 "nbformat": 4,
 "nbformat_minor": 2
}
