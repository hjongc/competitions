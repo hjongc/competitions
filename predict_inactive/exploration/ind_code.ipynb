{
 "cells": [
  {
   "cell_type": "code",
   "execution_count": 1,
   "metadata": {},
   "outputs": [],
   "source": [
    "import pandas as pd\n",
    "from pandas_profiling import ProfileReport\n",
    "import datetime \n",
    "from datetime import timedelta"
   ]
  },
  {
   "cell_type": "code",
   "execution_count": 56,
   "metadata": {},
   "outputs": [
    {
     "data": {
      "text/html": [
       "<div>\n",
       "<style scoped>\n",
       "    .dataframe tbody tr th:only-of-type {\n",
       "        vertical-align: middle;\n",
       "    }\n",
       "\n",
       "    .dataframe tbody tr th {\n",
       "        vertical-align: top;\n",
       "    }\n",
       "\n",
       "    .dataframe thead th {\n",
       "        text-align: right;\n",
       "    }\n",
       "</style>\n",
       "<table border=\"1\" class=\"dataframe\">\n",
       "  <thead>\n",
       "    <tr style=\"text-align: right;\">\n",
       "      <th></th>\n",
       "      <th>사업자등록번호</th>\n",
       "      <th>산업코드1</th>\n",
       "    </tr>\n",
       "  </thead>\n",
       "  <tbody>\n",
       "    <tr>\n",
       "      <th>0</th>\n",
       "      <td>1138111739</td>\n",
       "      <td>47712.0</td>\n",
       "    </tr>\n",
       "    <tr>\n",
       "      <th>1</th>\n",
       "      <td>2078132193</td>\n",
       "      <td>15190.0</td>\n",
       "    </tr>\n",
       "    <tr>\n",
       "      <th>2</th>\n",
       "      <td>1318167565</td>\n",
       "      <td>49212.0</td>\n",
       "    </tr>\n",
       "    <tr>\n",
       "      <th>3</th>\n",
       "      <td>5048128251</td>\n",
       "      <td>30391.0</td>\n",
       "    </tr>\n",
       "    <tr>\n",
       "      <th>4</th>\n",
       "      <td>1098164260</td>\n",
       "      <td>46800.0</td>\n",
       "    </tr>\n",
       "    <tr>\n",
       "      <th>...</th>\n",
       "      <td>...</td>\n",
       "      <td>...</td>\n",
       "    </tr>\n",
       "    <tr>\n",
       "      <th>234367</th>\n",
       "      <td>4808501629</td>\n",
       "      <td>10200.0</td>\n",
       "    </tr>\n",
       "    <tr>\n",
       "      <th>234368</th>\n",
       "      <td>8018501578</td>\n",
       "      <td>10122.0</td>\n",
       "    </tr>\n",
       "    <tr>\n",
       "      <th>234369</th>\n",
       "      <td>4118523419</td>\n",
       "      <td>56111.0</td>\n",
       "    </tr>\n",
       "    <tr>\n",
       "      <th>234370</th>\n",
       "      <td>1738102533</td>\n",
       "      <td>58222.0</td>\n",
       "    </tr>\n",
       "    <tr>\n",
       "      <th>234371</th>\n",
       "      <td>3138135248</td>\n",
       "      <td>29280.0</td>\n",
       "    </tr>\n",
       "  </tbody>\n",
       "</table>\n",
       "<p>234168 rows × 2 columns</p>\n",
       "</div>"
      ],
      "text/plain": [
       "           사업자등록번호    산업코드1\n",
       "0       1138111739  47712.0\n",
       "1       2078132193  15190.0\n",
       "2       1318167565  49212.0\n",
       "3       5048128251  30391.0\n",
       "4       1098164260  46800.0\n",
       "...            ...      ...\n",
       "234367  4808501629  10200.0\n",
       "234368  8018501578  10122.0\n",
       "234369  4118523419  56111.0\n",
       "234370  1738102533  58222.0\n",
       "234371  3138135248  29280.0\n",
       "\n",
       "[234168 rows x 2 columns]"
      ]
     },
     "execution_count": 56,
     "metadata": {},
     "output_type": "execute_result"
    }
   ],
   "source": [
    "non_financial = pd.read_csv('../dataset/merge.csv')\n",
    "ind_og = non_financial[['사업자등록번호', '산업코드1']]\n",
    "\n",
    "# dropna 산업코드 \n",
    "ind_og = ind_og.dropna()\n",
    "ind_og"
   ]
  },
  {
   "cell_type": "code",
   "execution_count": 57,
   "metadata": {},
   "outputs": [],
   "source": [
    "def to_three(s):\n",
    "    if len(str(int(s))) == 4:\n",
    "        tmp = '0'+str(int(s))    \n",
    "    else:\n",
    "        tmp = str(int(s))\n",
    "        \n",
    "    return tmp[:3]"
   ]
  },
  {
   "cell_type": "code",
   "execution_count": 58,
   "metadata": {},
   "outputs": [
    {
     "data": {
      "text/plain": [
       "'010'"
      ]
     },
     "execution_count": 58,
     "metadata": {},
     "output_type": "execute_result"
    }
   ],
   "source": [
    "to_three(1020.0)"
   ]
  },
  {
   "cell_type": "code",
   "execution_count": 59,
   "metadata": {},
   "outputs": [
    {
     "data": {
      "text/plain": [
       "412    10523\n",
       "681     9719\n",
       "465     9659\n",
       "582     9416\n",
       "423     7656\n",
       "       ...  \n",
       "500        1\n",
       "942        1\n",
       "852        1\n",
       "860        1\n",
       "030        1\n",
       "Name: 산업코드1, Length: 285, dtype: int64"
      ]
     },
     "execution_count": 59,
     "metadata": {},
     "output_type": "execute_result"
    }
   ],
   "source": [
    "ind_og['산업코드1'] = ind_og['산업코드1'].apply(lambda x: to_three(x))\n",
    "ind_og['산업코드1'].value_counts()"
   ]
  },
  {
   "cell_type": "code",
   "execution_count": null,
   "metadata": {},
   "outputs": [],
   "source": []
  }
 ],
 "metadata": {
  "interpreter": {
   "hash": "86c1e1ce7aadd865e0e869a12dcfe0bc61512505063b8e9a26474c7e9fdb5135"
  },
  "kernelspec": {
   "display_name": "Python 3.9.13 64-bit ('comenv': conda)",
   "name": "python3"
  },
  "language_info": {
   "codemirror_mode": {
    "name": "ipython",
    "version": 3
   },
   "file_extension": ".py",
   "mimetype": "text/x-python",
   "name": "python",
   "nbconvert_exporter": "python",
   "pygments_lexer": "ipython3",
   "version": "3.9.13"
  },
  "orig_nbformat": 4
 },
 "nbformat": 4,
 "nbformat_minor": 2
}
