{
  "cells": [
    {
      "cell_type": "markdown",
      "metadata": {
        "id": "ErGBb-K_dg0t"
      },
      "source": [
        "# aT 농산품 예측 base line"
      ]
    },
    {
      "cell_type": "markdown",
      "metadata": {
        "id": "SN-XaBftdlts"
      },
      "source": [
        "&nbsp;"
      ]
    },
    {
      "cell_type": "markdown",
      "metadata": {
        "id": "CsNYRWhgdeBa"
      },
      "source": [
        "## 모듈 가져오기"
      ]
    },
    {
      "cell_type": "code",
      "execution_count": 84,
      "metadata": {
        "id": "pYTIBn6Kdaks"
      },
      "outputs": [],
      "source": [
        "import pandas as pd\n",
        "import numpy as np\n",
        "from tqdm import tqdm\n",
        "import warnings\n",
        "from glob2 import glob\n",
        "import tensorflow as tf\n",
        "from tensorflow.keras.callbacks import EarlyStopping, ModelCheckpoint\n",
        "from tensorflow import keras\n",
        "from tensorflow.keras import layers\n",
        "from sklearn.model_selection import train_test_split\n",
        "from pandasql import sqldf\n",
        "import random\n",
        "import os\n",
        "from numba import jit,njit\n",
        "\n",
        "test_num = 3\n",
        "\n",
        "# 경고 끄기\n",
        "warnings.filterwarnings(action='ignore')\n",
        "\n",
        "# 시드고정\n",
        "tf.random.set_seed(19970119)\n",
        "random.seed(19970119)\n",
        "np.random.seed(19970119)"
      ]
    },
    {
      "cell_type": "markdown",
      "metadata": {
        "id": "y-OTLfDXvbvX"
      },
      "source": [
        "## 입력 shape 및 형태 정의 함수"
      ]
    },
    {
      "cell_type": "code",
      "execution_count": 85,
      "metadata": {
        "id": "2lmKfDzfu9Tp"
      },
      "outputs": [],
      "source": [
        "@jit\n",
        "def make_Tensor(array):\n",
        "    return tf.convert_to_tensor(array, dtype=tf.float32)\n",
        "\n",
        "@jit\n",
        "def astype_data(data):\n",
        "    df = data.astype(np.float32)\n",
        "    return make_Tensor(df)"
      ]
    },
    {
      "cell_type": "markdown",
      "metadata": {
        "id": "V0UYIIbavf3F"
      },
      "source": [
        "&nbsp;"
      ]
    },
    {
      "cell_type": "markdown",
      "metadata": {
        "id": "nzSS2gBcvg-A"
      },
      "source": [
        "## Transformer 정의"
      ]
    },
    {
      "cell_type": "markdown",
      "metadata": {
        "id": "L_hTmh7IvljV"
      },
      "source": [
        "- encoder"
      ]
    },
    {
      "cell_type": "code",
      "execution_count": 86,
      "metadata": {
        "id": "BsjSitfdvfNa"
      },
      "outputs": [],
      "source": [
        "@jit\n",
        "def transformer_encoder(inputs, head_size, num_heads, ff_dim, dropout=0):\n",
        "    x = layers.LayerNormalization(epsilon=1e-6)(inputs)\n",
        "    x = layers.MultiHeadAttention(\n",
        "        key_dim=head_size, num_heads=num_heads, dropout=dropout\n",
        "    )(x, x)\n",
        "    x = layers.Dropout(dropout)(x)\n",
        "    res = x + inputs\n",
        "\n",
        "    x = layers.LayerNormalization(epsilon=1e-6)(res)\n",
        "    x = layers.Conv1D(filters=ff_dim, kernel_size=1, activation=\"relu\")(x)\n",
        "    x = layers.Dropout(dropout)(x)\n",
        "    x = layers.Conv1D(filters=inputs.shape[-1], kernel_size=1)(x)\n",
        "    return x + res"
      ]
    },
    {
      "cell_type": "markdown",
      "metadata": {
        "id": "a8UiEifWvoO4"
      },
      "source": [
        "- build"
      ]
    },
    {
      "cell_type": "code",
      "execution_count": 87,
      "metadata": {
        "id": "BZRwGsc3vnwI"
      },
      "outputs": [],
      "source": [
        "@jit\n",
        "def build_model(input_shape, head_size, num_heads, ff_dim, num_transformer_blocks, mlp_units, dropout=0, mlp_dropout=0):\n",
        "    inputs = keras.Input(shape=input_shape)\n",
        "    x = inputs\n",
        "    for _ in range(num_transformer_blocks):\n",
        "        x = transformer_encoder(x, head_size, num_heads, ff_dim, dropout)\n",
        "\n",
        "    x = layers.GlobalAveragePooling1D(data_format=\"channels_first\")(x)\n",
        "    for dim in mlp_units:\n",
        "        x = layers.Dense(dim, activation=\"relu\")(x)\n",
        "        x = layers.Dropout(mlp_dropout)(x)\n",
        "    outputs = layers.Dense(28)(x) # 4주 예측\n",
        "    return keras.Model(inputs, outputs)"
      ]
    },
    {
      "cell_type": "markdown",
      "metadata": {
        "id": "9OEE7TQsvvrW"
      },
      "source": [
        "&nbsp;"
      ]
    },
    {
      "cell_type": "markdown",
      "metadata": {
        "id": "lPEtzTrJvy84"
      },
      "source": [
        "## keras eraly stop, chekpoint 정의"
      ]
    },
    {
      "cell_type": "code",
      "execution_count": 88,
      "metadata": {
        "id": "tahe2wY8vr83"
      },
      "outputs": [],
      "source": [
        "@jit\n",
        "def call_back_set(name, epoch, batch_size):\n",
        "    early_stopping = EarlyStopping(monitor='val_loss', patience=50)\n",
        "\n",
        "    if os.path.exists(f'./check') == False:\n",
        "        os.mkdir(f'./check')\n",
        "\n",
        "    filename = f'./check/{name}-{epoch}-{batch_size}.h5'\n",
        "\n",
        "    checkpoint = ModelCheckpoint(filename,\n",
        "                                 monitor='val_loss',\n",
        "                                 verbose=1,\n",
        "                                 save_best_only=True,\n",
        "                                 save_weights_only=True,\n",
        "                                 mode='auto'\n",
        "                                 )\n",
        "    return [early_stopping, checkpoint]"
      ]
    },
    {
      "cell_type": "markdown",
      "metadata": {
        "id": "CiH83x8Ov4Hy"
      },
      "source": [
        "&nbsp;"
      ]
    },
    {
      "cell_type": "markdown",
      "metadata": {
        "id": "fE5xZZwbv5PP"
      },
      "source": [
        "## Model 훈련 함수"
      ]
    },
    {
      "cell_type": "code",
      "execution_count": 89,
      "metadata": {
        "id": "7JQWwQQrv3qc"
      },
      "outputs": [],
      "source": [
        "def train(x_train, y_train, x_val, y_val, name, epoch, batch_size, learning_rate = 0.002, verbose = 1):\n",
        "    model = build_model(\n",
        "    x_train.shape[1:],\n",
        "    head_size=256,\n",
        "    num_heads=4,\n",
        "    ff_dim=4,\n",
        "    num_transformer_blocks=3,\n",
        "    mlp_units=[128],\n",
        "    mlp_dropout=0.3,\n",
        "    dropout=0.3,\n",
        "    )\n",
        "\n",
        "    model.compile(\n",
        "        loss=\"mean_squared_error\",\n",
        "        optimizer=keras.optimizers.Adam(learning_rate=learning_rate)\n",
        "    )\n",
        "\n",
        "    # Train the model\n",
        "    with tf.device('/device:GPU:0'):\n",
        "        history1 = model.fit(\n",
        "            x_train, y_train,\n",
        "            epochs = epoch,\n",
        "            steps_per_epoch=len(x_train) / batch_size,\n",
        "            batch_size=batch_size,\n",
        "            validation_data=(x_val, y_val),\n",
        "            validation_steps=len(x_val) / batch_size,\n",
        "            shuffle=False,\n",
        "            callbacks=call_back_set(name, epoch, batch_size),\n",
        "            verbose=verbose)\n",
        "\n",
        "    return model"
      ]
    },
    {
      "cell_type": "markdown",
      "metadata": {
        "id": "Z8ZoGpxWwAWM"
      },
      "source": [
        "&nbsp;"
      ]
    },
    {
      "cell_type": "markdown",
      "metadata": {
        "id": "8BemGVdjwBw5"
      },
      "source": [
        "## 시점 윈도우 생성 함수"
      ]
    },
    {
      "cell_type": "code",
      "execution_count": 90,
      "metadata": {
        "id": "pDD_c3buv99w"
      },
      "outputs": [],
      "source": [
        "@jit\n",
        "def time_window(df, t, t_sep):\n",
        "    seq_len = t\n",
        "    seqence_length = seq_len + t_sep\n",
        "\n",
        "    result = []\n",
        "    for index in tqdm(range(len(df) - seqence_length)):\n",
        "        result.append(df[index: index + seqence_length].values)\n",
        "\n",
        "    return np.array(result)"
      ]
    },
    {
      "cell_type": "markdown",
      "metadata": {
        "id": "WmM1U849wEab"
      },
      "source": [
        "&nbsp;"
      ]
    },
    {
      "cell_type": "markdown",
      "metadata": {
        "id": "H8rP8wMiwMm7"
      },
      "source": [
        "## 데이터 불러오기 및 parameter 설정"
      ]
    },
    {
      "cell_type": "code",
      "execution_count": 91,
      "metadata": {
        "id": "WPx288BJwDmv"
      },
      "outputs": [],
      "source": [
        "data_list = glob('./aT_data/data/train/*.csv')\n",
        "epoch = 1000\n",
        "batch = 64\n",
        "tr_del_list = ['단가(원)', '거래량', '거래대금(원)', '경매건수', '도매시장코드', '도매법인코드', '산지코드 '] # train 에서 사용하지 않는 열\n",
        "ts_del_list = ['단가(원)', '거래량', '거래대금(원)', '경매건수', '도매시장코드', '도매법인코드', '산지코드 ', '해당일자_전체평균가격(원)'] # test 에서 사용하지 않는 열\n",
        "check_col = ['일자구분_중순', '일자구분_초순', '일자구분_하순','월구분_10월', '월구분_11월', '월구분_12월', '월구분_1월', '월구분_2월', '월구분_3월', \n",
        "             '월구분_4월','월구분_5월', '월구분_6월', '월구분_7월', '월구분_8월', '월구분_9월'] # 열 개수 맞추기"
      ]
    },
    {
      "cell_type": "markdown",
      "metadata": {
        "id": "n8ayr_sBwXf5"
      },
      "source": [
        "&nbsp;"
      ]
    },
    {
      "cell_type": "markdown",
      "metadata": {
        "id": "IV90ogq-wZlC"
      },
      "source": [
        "## Train 과정"
      ]
    },
    {
      "cell_type": "code",
      "execution_count": 92,
      "metadata": {
        "id": "fIMdTeflwQsJ"
      },
      "outputs": [
        {
          "name": "stderr",
          "output_type": "stream",
          "text": [
            "100%|██████████| 1447/1447 [00:00<00:00, 9280.58it/s]\n",
            "100%|██████████| 1419/1419 [00:00<00:00, 71299.40it/s]\n"
          ]
        }
      ],
      "source": [
        "for i in tqdm(data_list):\n",
        "    df_number = i.split(\"_\")[-1].split(\".\")[0]\n",
        "    df = pd.read_csv(i)\n",
        "\n",
        "    for j in df.columns:\n",
        "        df[j] = df[j].replace({' ': np.nan})\n",
        "\n",
        "    # 사용할 열 선택 및 index 설정\n",
        "    df.drop(tr_del_list, axis=1, inplace=True)\n",
        "    df.set_index('datadate', drop=True, inplace=True)\n",
        "\n",
        "    # nan 처리\n",
        "    df = df.fillna(0)\n",
        "\n",
        "    # 변수와 타겟 분리\n",
        "    x, y = df[[i for i in df.columns if i != '해당일자_전체평균가격(원)']], df['해당일자_전체평균가격(원)']\n",
        "\n",
        "    # 2주 입력을 통한 이후 4주 예측을 위해 y의 첫 14일을 제외\n",
        "    y = y[14:]\n",
        "\n",
        "    # time series window 생성\n",
        "    data_x = time_window(x, 13, 1)\n",
        "    data_y = time_window(y, 27, 1)\n",
        "\n",
        "    # y의 길이와 같은 길이로 설정\n",
        "    xdata = data_x[:len(data_y)]\n",
        "    ydata = data_y\n",
        "\n",
        "    # train, validation 분리 (8 : 2)\n",
        "    x_train, x_val, y_train, y_val = train_test_split(xdata, ydata, test_size=0.2, shuffle=False, random_state=119)\n",
        "\n",
        "    # transformer 모델 훈련\n",
        "    transformer = train(astype_data(x_train), y_train, astype_data(x_val), y_val, f'transformer-{df_number}', epoch,\n",
        "                        batch)\n",
        "    transformer.load_weights(f'./check/transformer-{df_number}-{epoch}-{batch}.h5')\n",
        "\n",
        "    if os.path.exists(f'./model') == False:\n",
        "        os.mkdir(f'./model')\n",
        "\n",
        "    # 모델 저장\n",
        "    transformer.save(f'./model/transformer-{df_number}-{epoch}-{batch}.h5')"
      ]
    },
    {
      "cell_type": "markdown",
      "metadata": {
        "id": "xuUtQSv6wm7N"
      },
      "source": [
        "&nbsp;"
      ]
    },
    {
      "cell_type": "markdown",
      "metadata": {
        "id": "xXzEPY6_woE6"
      },
      "source": [
        "## Test 과정"
      ]
    },
    {
      "cell_type": "code",
      "execution_count": null,
      "metadata": {
        "id": "zec8tU0ywlG0"
      },
      "outputs": [
        {
          "name": "stderr",
          "output_type": "stream",
          "text": [
            "  0%|          | 0/10 [00:00<?, ?it/s]"
          ]
        },
        {
          "name": "stdout",
          "output_type": "stream",
          "text": [
            "1/1 [==============================] - 0s 46ms/step\n",
            "1/1 [==============================] - 0s 38ms/step\n"
          ]
        },
        {
          "name": "stderr",
          "output_type": "stream",
          "text": [
            "2022-09-01 16:16:13.814997: I tensorflow/core/grappler/optimizers/custom_graph_optimizer_registry.cc:113] Plugin optimizer for device_type GPU is enabled.\n",
            "2022-09-01 16:16:13.930954: I tensorflow/core/grappler/optimizers/custom_graph_optimizer_registry.cc:113] Plugin optimizer for device_type GPU is enabled.\n"
          ]
        },
        {
          "name": "stdout",
          "output_type": "stream",
          "text": [
            "1/1 [==============================] - 0s 43ms/step\n",
            "1/1 [==============================] - 0s 35ms/step\n"
          ]
        },
        {
          "name": "stderr",
          "output_type": "stream",
          "text": [
            "2022-09-01 16:16:14.044224: I tensorflow/core/grappler/optimizers/custom_graph_optimizer_registry.cc:113] Plugin optimizer for device_type GPU is enabled.\n",
            "2022-09-01 16:16:14.150810: I tensorflow/core/grappler/optimizers/custom_graph_optimizer_registry.cc:113] Plugin optimizer for device_type GPU is enabled.\n"
          ]
        },
        {
          "name": "stdout",
          "output_type": "stream",
          "text": [
            "1/1 [==============================] - 0s 44ms/step\n",
            "1/1 [==============================] - 0s 47ms/step\n"
          ]
        },
        {
          "name": "stderr",
          "output_type": "stream",
          "text": [
            "2022-09-01 16:16:14.265985: I tensorflow/core/grappler/optimizers/custom_graph_optimizer_registry.cc:113] Plugin optimizer for device_type GPU is enabled.\n",
            "2022-09-01 16:16:14.389816: I tensorflow/core/grappler/optimizers/custom_graph_optimizer_registry.cc:113] Plugin optimizer for device_type GPU is enabled.\n"
          ]
        },
        {
          "name": "stdout",
          "output_type": "stream",
          "text": [
            "1/1 [==============================] - 0s 56ms/step\n"
          ]
        },
        {
          "name": "stderr",
          "output_type": "stream",
          "text": [
            "2022-09-01 16:16:14.533754: I tensorflow/core/grappler/optimizers/custom_graph_optimizer_registry.cc:113] Plugin optimizer for device_type GPU is enabled.\n",
            "2022-09-01 16:16:14.706827: I tensorflow/core/grappler/optimizers/custom_graph_optimizer_registry.cc:113] Plugin optimizer for device_type GPU is enabled.\n"
          ]
        },
        {
          "name": "stdout",
          "output_type": "stream",
          "text": [
            "1/1 [==============================] - 0s 64ms/step\n",
            "1/1 [==============================] - 0s 72ms/step\n"
          ]
        },
        {
          "name": "stderr",
          "output_type": "stream",
          "text": [
            "2022-09-01 16:16:14.896642: I tensorflow/core/grappler/optimizers/custom_graph_optimizer_registry.cc:113] Plugin optimizer for device_type GPU is enabled.\n",
            "2022-09-01 16:16:15.097159: I tensorflow/core/grappler/optimizers/custom_graph_optimizer_registry.cc:113] Plugin optimizer for device_type GPU is enabled.\n"
          ]
        },
        {
          "name": "stdout",
          "output_type": "stream",
          "text": [
            "1/1 [==============================] - 0s 69ms/step\n",
            "1/1 [==============================] - 0s 71ms/step\n"
          ]
        },
        {
          "name": "stderr",
          "output_type": "stream",
          "text": [
            "2022-09-01 16:16:15.294695: I tensorflow/core/grappler/optimizers/custom_graph_optimizer_registry.cc:113] Plugin optimizer for device_type GPU is enabled.\n"
          ]
        },
        {
          "name": "stdout",
          "output_type": "stream",
          "text": [
            "1/1 [==============================] - 0s 71ms/step\n"
          ]
        },
        {
          "name": "stderr",
          "output_type": "stream",
          "text": [
            "2022-09-01 16:16:15.498318: I tensorflow/core/grappler/optimizers/custom_graph_optimizer_registry.cc:113] Plugin optimizer for device_type GPU is enabled.\n",
            "2022-09-01 16:16:15.698018: I tensorflow/core/grappler/optimizers/custom_graph_optimizer_registry.cc:113] Plugin optimizer for device_type GPU is enabled.\n"
          ]
        },
        {
          "name": "stdout",
          "output_type": "stream",
          "text": [
            "1/1 [==============================] - 0s 73ms/step\n",
            "1/1 [==============================] - 0s 76ms/step\n"
          ]
        },
        {
          "name": "stderr",
          "output_type": "stream",
          "text": [
            "2022-09-01 16:16:15.908982: I tensorflow/core/grappler/optimizers/custom_graph_optimizer_registry.cc:113] Plugin optimizer for device_type GPU is enabled.\n"
          ]
        },
        {
          "name": "stdout",
          "output_type": "stream",
          "text": [
            "1/1 [==============================] - 0s 94ms/step\n"
          ]
        },
        {
          "name": "stderr",
          "output_type": "stream",
          "text": [
            "2022-09-01 16:16:16.161074: I tensorflow/core/grappler/optimizers/custom_graph_optimizer_registry.cc:113] Plugin optimizer for device_type GPU is enabled.\n"
          ]
        },
        {
          "name": "stdout",
          "output_type": "stream",
          "text": [
            "1/1 [==============================] - 0s 74ms/step\n"
          ]
        },
        {
          "name": "stderr",
          "output_type": "stream",
          "text": [
            "2022-09-01 16:16:16.383897: I tensorflow/core/grappler/optimizers/custom_graph_optimizer_registry.cc:113] Plugin optimizer for device_type GPU is enabled.\n"
          ]
        },
        {
          "name": "stdout",
          "output_type": "stream",
          "text": [
            "1/1 [==============================] - 0s 70ms/step\n"
          ]
        },
        {
          "name": "stderr",
          "output_type": "stream",
          "text": [
            "2022-09-01 16:16:16.586647: I tensorflow/core/grappler/optimizers/custom_graph_optimizer_registry.cc:113] Plugin optimizer for device_type GPU is enabled.\n",
            "2022-09-01 16:16:16.786690: I tensorflow/core/grappler/optimizers/custom_graph_optimizer_registry.cc:113] Plugin optimizer for device_type GPU is enabled.\n"
          ]
        },
        {
          "name": "stdout",
          "output_type": "stream",
          "text": [
            "1/1 [==============================] - 0s 76ms/step\n",
            "1/1 [==============================] - 0s 69ms/step\n",
            "1/1 [==============================] - 0s 52ms/step\n"
          ]
        },
        {
          "name": "stderr",
          "output_type": "stream",
          "text": [
            "2022-09-01 16:16:16.997418: I tensorflow/core/grappler/optimizers/custom_graph_optimizer_registry.cc:113] Plugin optimizer for device_type GPU is enabled.\n",
            "2022-09-01 16:16:17.164477: I tensorflow/core/grappler/optimizers/custom_graph_optimizer_registry.cc:113] Plugin optimizer for device_type GPU is enabled.\n"
          ]
        },
        {
          "name": "stdout",
          "output_type": "stream",
          "text": [
            "1/1 [==============================] - 0s 54ms/step\n",
            "1/1 [==============================] - 0s 50ms/step\n"
          ]
        },
        {
          "name": "stderr",
          "output_type": "stream",
          "text": [
            "2022-09-01 16:16:17.313056: I tensorflow/core/grappler/optimizers/custom_graph_optimizer_registry.cc:113] Plugin optimizer for device_type GPU is enabled.\n",
            "2022-09-01 16:16:17.458998: I tensorflow/core/grappler/optimizers/custom_graph_optimizer_registry.cc:113] Plugin optimizer for device_type GPU is enabled.\n"
          ]
        },
        {
          "name": "stdout",
          "output_type": "stream",
          "text": [
            "1/1 [==============================] - 0s 42ms/step\n",
            "1/1 [==============================] - 0s 40ms/step\n"
          ]
        },
        {
          "name": "stderr",
          "output_type": "stream",
          "text": [
            "2022-09-01 16:16:17.578887: I tensorflow/core/grappler/optimizers/custom_graph_optimizer_registry.cc:113] Plugin optimizer for device_type GPU is enabled.\n",
            "2022-09-01 16:16:17.692830: I tensorflow/core/grappler/optimizers/custom_graph_optimizer_registry.cc:113] Plugin optimizer for device_type GPU is enabled.\n"
          ]
        },
        {
          "name": "stdout",
          "output_type": "stream",
          "text": [
            "1/1 [==============================] - 0s 36ms/step\n",
            "1/1 [==============================] - 0s 36ms/step\n"
          ]
        },
        {
          "name": "stderr",
          "output_type": "stream",
          "text": [
            "2022-09-01 16:16:17.800989: I tensorflow/core/grappler/optimizers/custom_graph_optimizer_registry.cc:113] Plugin optimizer for device_type GPU is enabled.\n",
            "2022-09-01 16:16:17.906346: I tensorflow/core/grappler/optimizers/custom_graph_optimizer_registry.cc:113] Plugin optimizer for device_type GPU is enabled.\n"
          ]
        },
        {
          "name": "stdout",
          "output_type": "stream",
          "text": [
            "1/1 [==============================] - 0s 37ms/step\n",
            "1/1 [==============================] - 0s 37ms/step\n"
          ]
        },
        {
          "name": "stderr",
          "output_type": "stream",
          "text": [
            "2022-09-01 16:16:18.007982: I tensorflow/core/grappler/optimizers/custom_graph_optimizer_registry.cc:113] Plugin optimizer for device_type GPU is enabled.\n",
            "2022-09-01 16:16:18.112063: I tensorflow/core/grappler/optimizers/custom_graph_optimizer_registry.cc:113] Plugin optimizer for device_type GPU is enabled.\n"
          ]
        },
        {
          "name": "stdout",
          "output_type": "stream",
          "text": [
            "1/1 [==============================] - 0s 39ms/step\n",
            "1/1 [==============================] - 0s 35ms/step\n"
          ]
        },
        {
          "name": "stderr",
          "output_type": "stream",
          "text": [
            "2022-09-01 16:16:18.216786: I tensorflow/core/grappler/optimizers/custom_graph_optimizer_registry.cc:113] Plugin optimizer for device_type GPU is enabled.\n",
            "2022-09-01 16:16:18.314627: I tensorflow/core/grappler/optimizers/custom_graph_optimizer_registry.cc:113] Plugin optimizer for device_type GPU is enabled.\n",
            "2022-09-01 16:16:18.414961: I tensorflow/core/grappler/optimizers/custom_graph_optimizer_registry.cc:113] Plugin optimizer for device_type GPU is enabled.\n"
          ]
        },
        {
          "name": "stdout",
          "output_type": "stream",
          "text": [
            "1/1 [==============================] - 0s 35ms/step\n",
            "1/1 [==============================] - 0s 38ms/step\n",
            "1/1 [==============================] - 0s 36ms/step\n"
          ]
        },
        {
          "name": "stderr",
          "output_type": "stream",
          "text": [
            "2022-09-01 16:16:18.519052: I tensorflow/core/grappler/optimizers/custom_graph_optimizer_registry.cc:113] Plugin optimizer for device_type GPU is enabled.\n",
            "2022-09-01 16:16:18.626648: I tensorflow/core/grappler/optimizers/custom_graph_optimizer_registry.cc:113] Plugin optimizer for device_type GPU is enabled.\n"
          ]
        },
        {
          "name": "stdout",
          "output_type": "stream",
          "text": [
            "1/1 [==============================] - 0s 37ms/step\n",
            "1/1 [==============================] - 0s 36ms/step\n"
          ]
        },
        {
          "name": "stderr",
          "output_type": "stream",
          "text": [
            "2022-09-01 16:16:18.726808: I tensorflow/core/grappler/optimizers/custom_graph_optimizer_registry.cc:113] Plugin optimizer for device_type GPU is enabled.\n",
            "2022-09-01 16:16:18.831908: I tensorflow/core/grappler/optimizers/custom_graph_optimizer_registry.cc:113] Plugin optimizer for device_type GPU is enabled.\n"
          ]
        },
        {
          "name": "stdout",
          "output_type": "stream",
          "text": [
            "1/1 [==============================] - 0s 38ms/step\n",
            "1/1 [==============================] - 0s 35ms/step\n"
          ]
        },
        {
          "name": "stderr",
          "output_type": "stream",
          "text": [
            "2022-09-01 16:16:18.935913: I tensorflow/core/grappler/optimizers/custom_graph_optimizer_registry.cc:113] Plugin optimizer for device_type GPU is enabled.\n",
            "2022-09-01 16:16:19.039219: I tensorflow/core/grappler/optimizers/custom_graph_optimizer_registry.cc:113] Plugin optimizer for device_type GPU is enabled.\n",
            " 10%|█         | 1/10 [00:05<00:49,  5.55s/it]"
          ]
        },
        {
          "name": "stdout",
          "output_type": "stream",
          "text": [
            "1/1 [==============================] - 0s 35ms/step\n",
            "1/1 [==============================] - 0s 40ms/step\n"
          ]
        },
        {
          "name": "stderr",
          "output_type": "stream",
          "text": [
            "2022-09-01 16:16:19.141726: I tensorflow/core/grappler/optimizers/custom_graph_optimizer_registry.cc:113] Plugin optimizer for device_type GPU is enabled.\n",
            "2022-09-01 16:16:19.240649: I tensorflow/core/grappler/optimizers/custom_graph_optimizer_registry.cc:113] Plugin optimizer for device_type GPU is enabled.\n"
          ]
        },
        {
          "name": "stdout",
          "output_type": "stream",
          "text": [
            "1/1 [==============================] - 0s 37ms/step\n",
            "1/1 [==============================] - 0s 34ms/step\n"
          ]
        },
        {
          "name": "stderr",
          "output_type": "stream",
          "text": [
            "2022-09-01 16:16:19.352999: I tensorflow/core/grappler/optimizers/custom_graph_optimizer_registry.cc:113] Plugin optimizer for device_type GPU is enabled.\n",
            "2022-09-01 16:16:19.454829: I tensorflow/core/grappler/optimizers/custom_graph_optimizer_registry.cc:113] Plugin optimizer for device_type GPU is enabled.\n"
          ]
        },
        {
          "name": "stdout",
          "output_type": "stream",
          "text": [
            "1/1 [==============================] - 0s 39ms/step\n",
            "1/1 [==============================] - 0s 49ms/step\n"
          ]
        },
        {
          "name": "stderr",
          "output_type": "stream",
          "text": [
            "2022-09-01 16:16:19.556715: I tensorflow/core/grappler/optimizers/custom_graph_optimizer_registry.cc:113] Plugin optimizer for device_type GPU is enabled.\n",
            "2022-09-01 16:16:19.683619: I tensorflow/core/grappler/optimizers/custom_graph_optimizer_registry.cc:113] Plugin optimizer for device_type GPU is enabled.\n"
          ]
        },
        {
          "name": "stdout",
          "output_type": "stream",
          "text": [
            "1/1 [==============================] - 0s 54ms/step\n",
            "1/1 [==============================] - 0s 55ms/step\n"
          ]
        },
        {
          "name": "stderr",
          "output_type": "stream",
          "text": [
            "2022-09-01 16:16:19.826002: I tensorflow/core/grappler/optimizers/custom_graph_optimizer_registry.cc:113] Plugin optimizer for device_type GPU is enabled.\n",
            "2022-09-01 16:16:19.982253: I tensorflow/core/grappler/optimizers/custom_graph_optimizer_registry.cc:113] Plugin optimizer for device_type GPU is enabled.\n"
          ]
        },
        {
          "name": "stdout",
          "output_type": "stream",
          "text": [
            "1/1 [==============================] - 0s 55ms/step\n",
            "1/1 [==============================] - 0s 65ms/step\n"
          ]
        },
        {
          "name": "stderr",
          "output_type": "stream",
          "text": [
            "2022-09-01 16:16:20.138669: I tensorflow/core/grappler/optimizers/custom_graph_optimizer_registry.cc:113] Plugin optimizer for device_type GPU is enabled.\n",
            "2022-09-01 16:16:20.304434: I tensorflow/core/grappler/optimizers/custom_graph_optimizer_registry.cc:113] Plugin optimizer for device_type GPU is enabled.\n"
          ]
        },
        {
          "name": "stdout",
          "output_type": "stream",
          "text": [
            "1/1 [==============================] - 0s 72ms/step\n"
          ]
        },
        {
          "name": "stderr",
          "output_type": "stream",
          "text": [
            "2022-09-01 16:16:20.494802: I tensorflow/core/grappler/optimizers/custom_graph_optimizer_registry.cc:113] Plugin optimizer for device_type GPU is enabled.\n",
            "2022-09-01 16:16:20.694257: I tensorflow/core/grappler/optimizers/custom_graph_optimizer_registry.cc:113] Plugin optimizer for device_type GPU is enabled.\n"
          ]
        },
        {
          "name": "stdout",
          "output_type": "stream",
          "text": [
            "1/1 [==============================] - 0s 72ms/step\n",
            "1/1 [==============================] - 0s 72ms/step\n"
          ]
        },
        {
          "name": "stderr",
          "output_type": "stream",
          "text": [
            "2022-09-01 16:16:20.897255: I tensorflow/core/grappler/optimizers/custom_graph_optimizer_registry.cc:113] Plugin optimizer for device_type GPU is enabled.\n",
            "2022-09-01 16:16:21.077342: I tensorflow/core/grappler/optimizers/custom_graph_optimizer_registry.cc:113] Plugin optimizer for device_type GPU is enabled.\n"
          ]
        },
        {
          "name": "stdout",
          "output_type": "stream",
          "text": [
            "1/1 [==============================] - 0s 58ms/step\n",
            "1/1 [==============================] - 0s 50ms/step\n",
            "1/1 [==============================] - 0s 50ms/step\n"
          ]
        },
        {
          "name": "stderr",
          "output_type": "stream",
          "text": [
            "2022-09-01 16:16:21.228905: I tensorflow/core/grappler/optimizers/custom_graph_optimizer_registry.cc:113] Plugin optimizer for device_type GPU is enabled.\n",
            "2022-09-01 16:16:21.372824: I tensorflow/core/grappler/optimizers/custom_graph_optimizer_registry.cc:113] Plugin optimizer for device_type GPU is enabled.\n"
          ]
        },
        {
          "name": "stdout",
          "output_type": "stream",
          "text": [
            "1/1 [==============================] - 0s 45ms/step\n",
            "1/1 [==============================] - 0s 38ms/step\n"
          ]
        },
        {
          "name": "stderr",
          "output_type": "stream",
          "text": [
            "2022-09-01 16:16:21.510108: I tensorflow/core/grappler/optimizers/custom_graph_optimizer_registry.cc:113] Plugin optimizer for device_type GPU is enabled.\n",
            "2022-09-01 16:16:21.632286: I tensorflow/core/grappler/optimizers/custom_graph_optimizer_registry.cc:113] Plugin optimizer for device_type GPU is enabled.\n"
          ]
        },
        {
          "name": "stdout",
          "output_type": "stream",
          "text": [
            "1/1 [==============================] - 0s 39ms/step\n",
            "1/1 [==============================] - 0s 37ms/step\n"
          ]
        },
        {
          "name": "stderr",
          "output_type": "stream",
          "text": [
            "2022-09-01 16:16:21.741106: I tensorflow/core/grappler/optimizers/custom_graph_optimizer_registry.cc:113] Plugin optimizer for device_type GPU is enabled.\n",
            "2022-09-01 16:16:21.849223: I tensorflow/core/grappler/optimizers/custom_graph_optimizer_registry.cc:113] Plugin optimizer for device_type GPU is enabled.\n"
          ]
        },
        {
          "name": "stdout",
          "output_type": "stream",
          "text": [
            "1/1 [==============================] - 0s 35ms/step\n",
            "1/1 [==============================] - 0s 34ms/step\n"
          ]
        },
        {
          "name": "stderr",
          "output_type": "stream",
          "text": [
            "2022-09-01 16:16:21.949007: I tensorflow/core/grappler/optimizers/custom_graph_optimizer_registry.cc:113] Plugin optimizer for device_type GPU is enabled.\n",
            "2022-09-01 16:16:22.053435: I tensorflow/core/grappler/optimizers/custom_graph_optimizer_registry.cc:113] Plugin optimizer for device_type GPU is enabled.\n",
            "2022-09-01 16:16:22.150327: I tensorflow/core/grappler/optimizers/custom_graph_optimizer_registry.cc:113] Plugin optimizer for device_type GPU is enabled.\n"
          ]
        },
        {
          "name": "stdout",
          "output_type": "stream",
          "text": [
            "1/1 [==============================] - 0s 34ms/step\n",
            "1/1 [==============================] - 0s 35ms/step\n",
            "1/1 [==============================] - 0s 35ms/step\n"
          ]
        },
        {
          "name": "stderr",
          "output_type": "stream",
          "text": [
            "2022-09-01 16:16:22.249336: I tensorflow/core/grappler/optimizers/custom_graph_optimizer_registry.cc:113] Plugin optimizer for device_type GPU is enabled.\n",
            "2022-09-01 16:16:22.349807: I tensorflow/core/grappler/optimizers/custom_graph_optimizer_registry.cc:113] Plugin optimizer for device_type GPU is enabled.\n"
          ]
        },
        {
          "name": "stdout",
          "output_type": "stream",
          "text": [
            "1/1 [==============================] - 0s 40ms/step\n",
            "1/1 [==============================] - 0s 36ms/step\n"
          ]
        },
        {
          "name": "stderr",
          "output_type": "stream",
          "text": [
            "2022-09-01 16:16:23.023776: I tensorflow/core/grappler/optimizers/custom_graph_optimizer_registry.cc:113] Plugin optimizer for device_type GPU is enabled.\n",
            "2022-09-01 16:16:23.128944: I tensorflow/core/grappler/optimizers/custom_graph_optimizer_registry.cc:113] Plugin optimizer for device_type GPU is enabled.\n",
            "2022-09-01 16:16:23.222512: I tensorflow/core/grappler/optimizers/custom_graph_optimizer_registry.cc:113] Plugin optimizer for device_type GPU is enabled.\n"
          ]
        },
        {
          "name": "stdout",
          "output_type": "stream",
          "text": [
            "1/1 [==============================] - 0s 34ms/step\n",
            "1/1 [==============================] - 0s 33ms/step\n",
            "1/1 [==============================] - 0s 34ms/step\n"
          ]
        },
        {
          "name": "stderr",
          "output_type": "stream",
          "text": [
            "2022-09-01 16:16:23.321129: I tensorflow/core/grappler/optimizers/custom_graph_optimizer_registry.cc:113] Plugin optimizer for device_type GPU is enabled.\n",
            "2022-09-01 16:16:23.418042: I tensorflow/core/grappler/optimizers/custom_graph_optimizer_registry.cc:113] Plugin optimizer for device_type GPU is enabled.\n",
            "2022-09-01 16:16:23.519125: I tensorflow/core/grappler/optimizers/custom_graph_optimizer_registry.cc:113] Plugin optimizer for device_type GPU is enabled.\n"
          ]
        },
        {
          "name": "stdout",
          "output_type": "stream",
          "text": [
            "1/1 [==============================] - 0s 34ms/step\n",
            "1/1 [==============================] - 0s 34ms/step\n",
            "1/1 [==============================] - 0s 34ms/step\n"
          ]
        },
        {
          "name": "stderr",
          "output_type": "stream",
          "text": [
            "2022-09-01 16:16:23.617352: I tensorflow/core/grappler/optimizers/custom_graph_optimizer_registry.cc:113] Plugin optimizer for device_type GPU is enabled.\n",
            "2022-09-01 16:16:23.715018: I tensorflow/core/grappler/optimizers/custom_graph_optimizer_registry.cc:113] Plugin optimizer for device_type GPU is enabled.\n",
            "2022-09-01 16:16:23.815261: I tensorflow/core/grappler/optimizers/custom_graph_optimizer_registry.cc:113] Plugin optimizer for device_type GPU is enabled.\n"
          ]
        },
        {
          "name": "stdout",
          "output_type": "stream",
          "text": [
            "1/1 [==============================] - 0s 36ms/step\n",
            "1/1 [==============================] - 0s 34ms/step\n",
            "1/1 [==============================] - 0s 34ms/step\n"
          ]
        },
        {
          "name": "stderr",
          "output_type": "stream",
          "text": [
            "2022-09-01 16:16:23.916793: I tensorflow/core/grappler/optimizers/custom_graph_optimizer_registry.cc:113] Plugin optimizer for device_type GPU is enabled.\n",
            "2022-09-01 16:16:24.016882: I tensorflow/core/grappler/optimizers/custom_graph_optimizer_registry.cc:113] Plugin optimizer for device_type GPU is enabled.\n",
            "2022-09-01 16:16:24.114435: I tensorflow/core/grappler/optimizers/custom_graph_optimizer_registry.cc:113] Plugin optimizer for device_type GPU is enabled.\n"
          ]
        },
        {
          "name": "stdout",
          "output_type": "stream",
          "text": [
            "1/1 [==============================] - 0s 34ms/step\n"
          ]
        },
        {
          "name": "stderr",
          "output_type": "stream",
          "text": [
            " 20%|██        | 2/10 [00:10<00:42,  5.27s/it]"
          ]
        },
        {
          "name": "stdout",
          "output_type": "stream",
          "text": [
            "1/1 [==============================] - 0s 34ms/step\n"
          ]
        },
        {
          "name": "stderr",
          "output_type": "stream",
          "text": [
            "2022-09-01 16:16:24.218064: I tensorflow/core/grappler/optimizers/custom_graph_optimizer_registry.cc:113] Plugin optimizer for device_type GPU is enabled.\n",
            "2022-09-01 16:16:24.321346: I tensorflow/core/grappler/optimizers/custom_graph_optimizer_registry.cc:113] Plugin optimizer for device_type GPU is enabled.\n"
          ]
        },
        {
          "name": "stdout",
          "output_type": "stream",
          "text": [
            "1/1 [==============================] - 0s 37ms/step\n",
            "1/1 [==============================] - 0s 34ms/step\n",
            "1/1 [==============================] - 0s 34ms/step\n"
          ]
        },
        {
          "name": "stderr",
          "output_type": "stream",
          "text": [
            "2022-09-01 16:16:24.421730: I tensorflow/core/grappler/optimizers/custom_graph_optimizer_registry.cc:113] Plugin optimizer for device_type GPU is enabled.\n",
            "2022-09-01 16:16:24.522719: I tensorflow/core/grappler/optimizers/custom_graph_optimizer_registry.cc:113] Plugin optimizer for device_type GPU is enabled.\n"
          ]
        },
        {
          "name": "stdout",
          "output_type": "stream",
          "text": [
            "1/1 [==============================] - 0s 40ms/step\n",
            "1/1 [==============================] - 0s 43ms/step\n"
          ]
        },
        {
          "name": "stderr",
          "output_type": "stream",
          "text": [
            "2022-09-01 16:16:24.628605: I tensorflow/core/grappler/optimizers/custom_graph_optimizer_registry.cc:113] Plugin optimizer for device_type GPU is enabled.\n",
            "2022-09-01 16:16:24.748562: I tensorflow/core/grappler/optimizers/custom_graph_optimizer_registry.cc:113] Plugin optimizer for device_type GPU is enabled.\n"
          ]
        },
        {
          "name": "stdout",
          "output_type": "stream",
          "text": [
            "1/1 [==============================] - 0s 58ms/step\n",
            "1/1 [==============================] - 0s 56ms/step\n"
          ]
        },
        {
          "name": "stderr",
          "output_type": "stream",
          "text": [
            "2022-09-01 16:16:24.905925: I tensorflow/core/grappler/optimizers/custom_graph_optimizer_registry.cc:113] Plugin optimizer for device_type GPU is enabled.\n",
            "2022-09-01 16:16:25.056270: I tensorflow/core/grappler/optimizers/custom_graph_optimizer_registry.cc:113] Plugin optimizer for device_type GPU is enabled.\n"
          ]
        },
        {
          "name": "stdout",
          "output_type": "stream",
          "text": [
            "1/1 [==============================] - 0s 57ms/step\n",
            "1/1 [==============================] - 0s 59ms/step\n"
          ]
        },
        {
          "name": "stderr",
          "output_type": "stream",
          "text": [
            "2022-09-01 16:16:25.216623: I tensorflow/core/grappler/optimizers/custom_graph_optimizer_registry.cc:113] Plugin optimizer for device_type GPU is enabled.\n",
            "2022-09-01 16:16:25.367734: I tensorflow/core/grappler/optimizers/custom_graph_optimizer_registry.cc:113] Plugin optimizer for device_type GPU is enabled.\n"
          ]
        },
        {
          "name": "stdout",
          "output_type": "stream",
          "text": [
            "1/1 [==============================] - 0s 61ms/step\n",
            "1/1 [==============================] - 0s 60ms/step\n"
          ]
        },
        {
          "name": "stderr",
          "output_type": "stream",
          "text": [
            "2022-09-01 16:16:25.552107: I tensorflow/core/grappler/optimizers/custom_graph_optimizer_registry.cc:113] Plugin optimizer for device_type GPU is enabled.\n",
            "2022-09-01 16:16:25.721112: I tensorflow/core/grappler/optimizers/custom_graph_optimizer_registry.cc:113] Plugin optimizer for device_type GPU is enabled.\n"
          ]
        },
        {
          "name": "stdout",
          "output_type": "stream",
          "text": [
            "1/1 [==============================] - 0s 69ms/step\n"
          ]
        },
        {
          "name": "stderr",
          "output_type": "stream",
          "text": [
            "2022-09-01 16:16:25.911355: I tensorflow/core/grappler/optimizers/custom_graph_optimizer_registry.cc:113] Plugin optimizer for device_type GPU is enabled.\n",
            "2022-09-01 16:16:26.088168: I tensorflow/core/grappler/optimizers/custom_graph_optimizer_registry.cc:113] Plugin optimizer for device_type GPU is enabled.\n"
          ]
        },
        {
          "name": "stdout",
          "output_type": "stream",
          "text": [
            "1/1 [==============================] - 0s 61ms/step\n",
            "1/1 [==============================] - 0s 51ms/step\n",
            "1/1 [==============================] - 0s 51ms/step\n"
          ]
        },
        {
          "name": "stderr",
          "output_type": "stream",
          "text": [
            "2022-09-01 16:16:26.239675: I tensorflow/core/grappler/optimizers/custom_graph_optimizer_registry.cc:113] Plugin optimizer for device_type GPU is enabled.\n",
            "2022-09-01 16:16:26.386880: I tensorflow/core/grappler/optimizers/custom_graph_optimizer_registry.cc:113] Plugin optimizer for device_type GPU is enabled.\n"
          ]
        },
        {
          "name": "stdout",
          "output_type": "stream",
          "text": [
            "1/1 [==============================] - 0s 46ms/step\n",
            "1/1 [==============================] - 0s 50ms/step\n"
          ]
        },
        {
          "name": "stderr",
          "output_type": "stream",
          "text": [
            "2022-09-01 16:16:26.525919: I tensorflow/core/grappler/optimizers/custom_graph_optimizer_registry.cc:113] Plugin optimizer for device_type GPU is enabled.\n",
            "2022-09-01 16:16:26.663602: I tensorflow/core/grappler/optimizers/custom_graph_optimizer_registry.cc:113] Plugin optimizer for device_type GPU is enabled.\n"
          ]
        },
        {
          "name": "stdout",
          "output_type": "stream",
          "text": [
            "1/1 [==============================] - 0s 44ms/step\n",
            "1/1 [==============================] - 0s 41ms/step\n"
          ]
        },
        {
          "name": "stderr",
          "output_type": "stream",
          "text": [
            "2022-09-01 16:16:26.797192: I tensorflow/core/grappler/optimizers/custom_graph_optimizer_registry.cc:113] Plugin optimizer for device_type GPU is enabled.\n",
            "2022-09-01 16:16:26.914102: I tensorflow/core/grappler/optimizers/custom_graph_optimizer_registry.cc:113] Plugin optimizer for device_type GPU is enabled.\n"
          ]
        },
        {
          "name": "stdout",
          "output_type": "stream",
          "text": [
            "1/1 [==============================] - 0s 40ms/step\n",
            "1/1 [==============================] - 0s 37ms/step\n"
          ]
        },
        {
          "name": "stderr",
          "output_type": "stream",
          "text": [
            "2022-09-01 16:16:27.028721: I tensorflow/core/grappler/optimizers/custom_graph_optimizer_registry.cc:113] Plugin optimizer for device_type GPU is enabled.\n",
            "2022-09-01 16:16:27.135059: I tensorflow/core/grappler/optimizers/custom_graph_optimizer_registry.cc:113] Plugin optimizer for device_type GPU is enabled.\n"
          ]
        },
        {
          "name": "stdout",
          "output_type": "stream",
          "text": [
            "1/1 [==============================] - 0s 37ms/step\n",
            "1/1 [==============================] - 0s 40ms/step\n"
          ]
        },
        {
          "name": "stderr",
          "output_type": "stream",
          "text": [
            "2022-09-01 16:16:27.239322: I tensorflow/core/grappler/optimizers/custom_graph_optimizer_registry.cc:113] Plugin optimizer for device_type GPU is enabled.\n",
            "2022-09-01 16:16:27.355241: I tensorflow/core/grappler/optimizers/custom_graph_optimizer_registry.cc:113] Plugin optimizer for device_type GPU is enabled.\n"
          ]
        },
        {
          "name": "stdout",
          "output_type": "stream",
          "text": [
            "1/1 [==============================] - 0s 39ms/step\n",
            "1/1 [==============================] - 0s 37ms/step\n"
          ]
        },
        {
          "name": "stderr",
          "output_type": "stream",
          "text": [
            "2022-09-01 16:16:27.472024: I tensorflow/core/grappler/optimizers/custom_graph_optimizer_registry.cc:113] Plugin optimizer for device_type GPU is enabled.\n",
            "2022-09-01 16:16:27.579367: I tensorflow/core/grappler/optimizers/custom_graph_optimizer_registry.cc:113] Plugin optimizer for device_type GPU is enabled.\n"
          ]
        },
        {
          "name": "stdout",
          "output_type": "stream",
          "text": [
            "1/1 [==============================] - 0s 38ms/step\n",
            "1/1 [==============================] - 0s 39ms/step\n"
          ]
        },
        {
          "name": "stderr",
          "output_type": "stream",
          "text": [
            "2022-09-01 16:16:27.690319: I tensorflow/core/grappler/optimizers/custom_graph_optimizer_registry.cc:113] Plugin optimizer for device_type GPU is enabled.\n",
            "2022-09-01 16:16:27.799868: I tensorflow/core/grappler/optimizers/custom_graph_optimizer_registry.cc:113] Plugin optimizer for device_type GPU is enabled.\n"
          ]
        },
        {
          "name": "stdout",
          "output_type": "stream",
          "text": [
            "1/1 [==============================] - 0s 39ms/step\n",
            "1/1 [==============================] - 0s 35ms/step\n"
          ]
        },
        {
          "name": "stderr",
          "output_type": "stream",
          "text": [
            "2022-09-01 16:16:27.902731: I tensorflow/core/grappler/optimizers/custom_graph_optimizer_registry.cc:113] Plugin optimizer for device_type GPU is enabled.\n",
            "2022-09-01 16:16:28.007532: I tensorflow/core/grappler/optimizers/custom_graph_optimizer_registry.cc:113] Plugin optimizer for device_type GPU is enabled.\n"
          ]
        },
        {
          "name": "stdout",
          "output_type": "stream",
          "text": [
            "1/1 [==============================] - 0s 35ms/step\n",
            "1/1 [==============================] - 0s 35ms/step\n"
          ]
        },
        {
          "name": "stderr",
          "output_type": "stream",
          "text": [
            "2022-09-01 16:16:28.106471: I tensorflow/core/grappler/optimizers/custom_graph_optimizer_registry.cc:113] Plugin optimizer for device_type GPU is enabled.\n",
            "2022-09-01 16:16:28.207105: I tensorflow/core/grappler/optimizers/custom_graph_optimizer_registry.cc:113] Plugin optimizer for device_type GPU is enabled.\n"
          ]
        },
        {
          "name": "stdout",
          "output_type": "stream",
          "text": [
            "1/1 [==============================] - 0s 35ms/step\n",
            "1/1 [==============================] - 0s 35ms/step\n"
          ]
        },
        {
          "name": "stderr",
          "output_type": "stream",
          "text": [
            "2022-09-01 16:16:28.309718: I tensorflow/core/grappler/optimizers/custom_graph_optimizer_registry.cc:113] Plugin optimizer for device_type GPU is enabled.\n",
            "2022-09-01 16:16:28.411018: I tensorflow/core/grappler/optimizers/custom_graph_optimizer_registry.cc:113] Plugin optimizer for device_type GPU is enabled.\n"
          ]
        },
        {
          "name": "stdout",
          "output_type": "stream",
          "text": [
            "1/1 [==============================] - 0s 37ms/step\n",
            "1/1 [==============================] - 0s 37ms/step\n"
          ]
        },
        {
          "name": "stderr",
          "output_type": "stream",
          "text": [
            "2022-09-01 16:16:28.515199: I tensorflow/core/grappler/optimizers/custom_graph_optimizer_registry.cc:113] Plugin optimizer for device_type GPU is enabled.\n",
            "2022-09-01 16:16:28.616269: I tensorflow/core/grappler/optimizers/custom_graph_optimizer_registry.cc:113] Plugin optimizer for device_type GPU is enabled.\n"
          ]
        },
        {
          "name": "stdout",
          "output_type": "stream",
          "text": [
            "1/1 [==============================] - 0s 40ms/step\n"
          ]
        },
        {
          "name": "stderr",
          "output_type": "stream",
          "text": [
            "2022-09-01 16:16:28.722210: I tensorflow/core/grappler/optimizers/custom_graph_optimizer_registry.cc:113] Plugin optimizer for device_type GPU is enabled.\n",
            " 30%|███       | 3/10 [00:15<00:34,  4.97s/it]"
          ]
        },
        {
          "name": "stdout",
          "output_type": "stream",
          "text": [
            "1/1 [==============================] - 0s 35ms/step\n"
          ]
        },
        {
          "name": "stderr",
          "output_type": "stream",
          "text": [
            "2022-09-01 16:16:28.827947: I tensorflow/core/grappler/optimizers/custom_graph_optimizer_registry.cc:113] Plugin optimizer for device_type GPU is enabled.\n"
          ]
        },
        {
          "name": "stdout",
          "output_type": "stream",
          "text": [
            "1/1 [==============================] - 0s 37ms/step\n"
          ]
        },
        {
          "name": "stderr",
          "output_type": "stream",
          "text": [
            "2022-09-01 16:16:28.930534: I tensorflow/core/grappler/optimizers/custom_graph_optimizer_registry.cc:113] Plugin optimizer for device_type GPU is enabled.\n"
          ]
        },
        {
          "name": "stdout",
          "output_type": "stream",
          "text": [
            "1/1 [==============================] - 0s 37ms/step\n"
          ]
        },
        {
          "name": "stderr",
          "output_type": "stream",
          "text": [
            "2022-09-01 16:16:29.035394: I tensorflow/core/grappler/optimizers/custom_graph_optimizer_registry.cc:113] Plugin optimizer for device_type GPU is enabled.\n"
          ]
        },
        {
          "name": "stdout",
          "output_type": "stream",
          "text": [
            "1/1 [==============================] - 0s 38ms/step\n"
          ]
        },
        {
          "name": "stderr",
          "output_type": "stream",
          "text": [
            "2022-09-01 16:16:29.139518: I tensorflow/core/grappler/optimizers/custom_graph_optimizer_registry.cc:113] Plugin optimizer for device_type GPU is enabled.\n"
          ]
        },
        {
          "name": "stdout",
          "output_type": "stream",
          "text": [
            "1/1 [==============================] - 0s 47ms/step\n"
          ]
        },
        {
          "name": "stderr",
          "output_type": "stream",
          "text": [
            "2022-09-01 16:16:29.254720: I tensorflow/core/grappler/optimizers/custom_graph_optimizer_registry.cc:113] Plugin optimizer for device_type GPU is enabled.\n"
          ]
        },
        {
          "name": "stdout",
          "output_type": "stream",
          "text": [
            "1/1 [==============================] - 0s 56ms/step\n"
          ]
        },
        {
          "name": "stderr",
          "output_type": "stream",
          "text": [
            "2022-09-01 16:16:29.408413: I tensorflow/core/grappler/optimizers/custom_graph_optimizer_registry.cc:113] Plugin optimizer for device_type GPU is enabled.\n"
          ]
        },
        {
          "name": "stdout",
          "output_type": "stream",
          "text": [
            "1/1 [==============================] - ETA: 0s"
          ]
        },
        {
          "name": "stderr",
          "output_type": "stream",
          "text": [
            "2022-09-01 16:16:29.574919: I tensorflow/core/grappler/optimizers/custom_graph_optimizer_registry.cc:113] Plugin optimizer for device_type GPU is enabled.\n"
          ]
        },
        {
          "name": "stdout",
          "output_type": "stream",
          "text": [
            "1/1 [==============================] - 0s 60ms/step\n"
          ]
        },
        {
          "name": "stderr",
          "output_type": "stream",
          "text": [
            "2022-09-01 16:16:29.760717: I tensorflow/core/grappler/optimizers/custom_graph_optimizer_registry.cc:113] Plugin optimizer for device_type GPU is enabled.\n"
          ]
        },
        {
          "name": "stdout",
          "output_type": "stream",
          "text": [
            "1/1 [==============================] - 0s 69ms/step\n"
          ]
        },
        {
          "name": "stderr",
          "output_type": "stream",
          "text": [
            "2022-09-01 16:16:29.959659: I tensorflow/core/grappler/optimizers/custom_graph_optimizer_registry.cc:113] Plugin optimizer for device_type GPU is enabled.\n"
          ]
        },
        {
          "name": "stdout",
          "output_type": "stream",
          "text": [
            "1/1 [==============================] - 0s 69ms/step\n",
            "1/1 [==============================] - 0s 75ms/step\n"
          ]
        },
        {
          "name": "stderr",
          "output_type": "stream",
          "text": [
            "2022-09-01 16:16:30.161130: I tensorflow/core/grappler/optimizers/custom_graph_optimizer_registry.cc:113] Plugin optimizer for device_type GPU is enabled.\n"
          ]
        },
        {
          "name": "stdout",
          "output_type": "stream",
          "text": [
            "1/1 [==============================] - 0s 82ms/step\n"
          ]
        },
        {
          "name": "stderr",
          "output_type": "stream",
          "text": [
            "2022-09-01 16:16:30.392707: I tensorflow/core/grappler/optimizers/custom_graph_optimizer_registry.cc:113] Plugin optimizer for device_type GPU is enabled.\n"
          ]
        },
        {
          "name": "stdout",
          "output_type": "stream",
          "text": [
            "1/1 [==============================] - 0s 76ms/step\n"
          ]
        },
        {
          "name": "stderr",
          "output_type": "stream",
          "text": [
            "2022-09-01 16:16:30.603200: I tensorflow/core/grappler/optimizers/custom_graph_optimizer_registry.cc:113] Plugin optimizer for device_type GPU is enabled.\n"
          ]
        },
        {
          "name": "stdout",
          "output_type": "stream",
          "text": [
            "1/1 [==============================] - 0s 87ms/step\n"
          ]
        },
        {
          "name": "stderr",
          "output_type": "stream",
          "text": [
            "2022-09-01 16:16:30.818460: I tensorflow/core/grappler/optimizers/custom_graph_optimizer_registry.cc:113] Plugin optimizer for device_type GPU is enabled.\n"
          ]
        },
        {
          "name": "stdout",
          "output_type": "stream",
          "text": [
            "1/1 [==============================] - 0s 76ms/step\n"
          ]
        },
        {
          "name": "stderr",
          "output_type": "stream",
          "text": [
            "2022-09-01 16:16:31.059262: I tensorflow/core/grappler/optimizers/custom_graph_optimizer_registry.cc:113] Plugin optimizer for device_type GPU is enabled.\n",
            "2022-09-01 16:16:31.256526: I tensorflow/core/grappler/optimizers/custom_graph_optimizer_registry.cc:113] Plugin optimizer for device_type GPU is enabled.\n"
          ]
        },
        {
          "name": "stdout",
          "output_type": "stream",
          "text": [
            "1/1 [==============================] - 0s 70ms/step\n",
            "1/1 [==============================] - 0s 75ms/step\n"
          ]
        },
        {
          "name": "stderr",
          "output_type": "stream",
          "text": [
            "2022-09-01 16:16:31.465742: I tensorflow/core/grappler/optimizers/custom_graph_optimizer_registry.cc:113] Plugin optimizer for device_type GPU is enabled.\n",
            "2022-09-01 16:16:31.662839: I tensorflow/core/grappler/optimizers/custom_graph_optimizer_registry.cc:113] Plugin optimizer for device_type GPU is enabled.\n"
          ]
        },
        {
          "name": "stdout",
          "output_type": "stream",
          "text": [
            "1/1 [==============================] - 0s 70ms/step\n",
            "1/1 [==============================] - 0s 55ms/step\n",
            "1/1 [==============================] - 0s 55ms/step\n"
          ]
        },
        {
          "name": "stderr",
          "output_type": "stream",
          "text": [
            "2022-09-01 16:16:31.830671: I tensorflow/core/grappler/optimizers/custom_graph_optimizer_registry.cc:113] Plugin optimizer for device_type GPU is enabled.\n",
            "2022-09-01 16:16:31.981487: I tensorflow/core/grappler/optimizers/custom_graph_optimizer_registry.cc:113] Plugin optimizer for device_type GPU is enabled.\n"
          ]
        },
        {
          "name": "stdout",
          "output_type": "stream",
          "text": [
            "1/1 [==============================] - 0s 47ms/step\n",
            "1/1 [==============================] - 0s 39ms/step\n"
          ]
        },
        {
          "name": "stderr",
          "output_type": "stream",
          "text": [
            "2022-09-01 16:16:32.120835: I tensorflow/core/grappler/optimizers/custom_graph_optimizer_registry.cc:113] Plugin optimizer for device_type GPU is enabled.\n",
            "2022-09-01 16:16:32.245968: I tensorflow/core/grappler/optimizers/custom_graph_optimizer_registry.cc:113] Plugin optimizer for device_type GPU is enabled.\n"
          ]
        },
        {
          "name": "stdout",
          "output_type": "stream",
          "text": [
            "1/1 [==============================] - 0s 38ms/step\n",
            "1/1 [==============================] - 0s 35ms/step\n"
          ]
        },
        {
          "name": "stderr",
          "output_type": "stream",
          "text": [
            "2022-09-01 16:16:32.354977: I tensorflow/core/grappler/optimizers/custom_graph_optimizer_registry.cc:113] Plugin optimizer for device_type GPU is enabled.\n",
            "2022-09-01 16:16:32.460748: I tensorflow/core/grappler/optimizers/custom_graph_optimizer_registry.cc:113] Plugin optimizer for device_type GPU is enabled.\n"
          ]
        },
        {
          "name": "stdout",
          "output_type": "stream",
          "text": [
            "1/1 [==============================] - 0s 36ms/step\n",
            "1/1 [==============================] - 0s 36ms/step\n"
          ]
        },
        {
          "name": "stderr",
          "output_type": "stream",
          "text": [
            "2022-09-01 16:16:32.560950: I tensorflow/core/grappler/optimizers/custom_graph_optimizer_registry.cc:113] Plugin optimizer for device_type GPU is enabled.\n",
            "2022-09-01 16:16:32.664944: I tensorflow/core/grappler/optimizers/custom_graph_optimizer_registry.cc:113] Plugin optimizer for device_type GPU is enabled.\n"
          ]
        },
        {
          "name": "stdout",
          "output_type": "stream",
          "text": [
            "1/1 [==============================] - 0s 37ms/step\n",
            "1/1 [==============================] - 0s 35ms/step\n"
          ]
        },
        {
          "name": "stderr",
          "output_type": "stream",
          "text": [
            "2022-09-01 16:16:32.767634: I tensorflow/core/grappler/optimizers/custom_graph_optimizer_registry.cc:113] Plugin optimizer for device_type GPU is enabled.\n",
            "2022-09-01 16:16:32.867630: I tensorflow/core/grappler/optimizers/custom_graph_optimizer_registry.cc:113] Plugin optimizer for device_type GPU is enabled.\n"
          ]
        },
        {
          "name": "stdout",
          "output_type": "stream",
          "text": [
            "1/1 [==============================] - 0s 35ms/step\n",
            "1/1 [==============================] - 0s 35ms/step\n"
          ]
        },
        {
          "name": "stderr",
          "output_type": "stream",
          "text": [
            "2022-09-01 16:16:32.972754: I tensorflow/core/grappler/optimizers/custom_graph_optimizer_registry.cc:113] Plugin optimizer for device_type GPU is enabled.\n",
            "2022-09-01 16:16:33.072032: I tensorflow/core/grappler/optimizers/custom_graph_optimizer_registry.cc:113] Plugin optimizer for device_type GPU is enabled.\n"
          ]
        },
        {
          "name": "stdout",
          "output_type": "stream",
          "text": [
            "1/1 [==============================] - 0s 35ms/step\n",
            "1/1 [==============================] - 0s 35ms/step\n"
          ]
        },
        {
          "name": "stderr",
          "output_type": "stream",
          "text": [
            "2022-09-01 16:16:33.177711: I tensorflow/core/grappler/optimizers/custom_graph_optimizer_registry.cc:113] Plugin optimizer for device_type GPU is enabled.\n",
            "2022-09-01 16:16:33.278178: I tensorflow/core/grappler/optimizers/custom_graph_optimizer_registry.cc:113] Plugin optimizer for device_type GPU is enabled.\n"
          ]
        },
        {
          "name": "stdout",
          "output_type": "stream",
          "text": [
            "1/1 [==============================] - 0s 41ms/step\n",
            "1/1 [==============================] - 0s 37ms/step\n"
          ]
        },
        {
          "name": "stderr",
          "output_type": "stream",
          "text": [
            "2022-09-01 16:16:33.382469: I tensorflow/core/grappler/optimizers/custom_graph_optimizer_registry.cc:113] Plugin optimizer for device_type GPU is enabled.\n",
            "2022-09-01 16:16:33.488529: I tensorflow/core/grappler/optimizers/custom_graph_optimizer_registry.cc:113] Plugin optimizer for device_type GPU is enabled.\n"
          ]
        },
        {
          "name": "stdout",
          "output_type": "stream",
          "text": [
            "1/1 [==============================] - 0s 38ms/step\n",
            "1/1 [==============================] - 0s 35ms/step\n"
          ]
        },
        {
          "name": "stderr",
          "output_type": "stream",
          "text": [
            "2022-09-01 16:16:33.588762: I tensorflow/core/grappler/optimizers/custom_graph_optimizer_registry.cc:113] Plugin optimizer for device_type GPU is enabled.\n",
            "2022-09-01 16:16:33.696029: I tensorflow/core/grappler/optimizers/custom_graph_optimizer_registry.cc:113] Plugin optimizer for device_type GPU is enabled.\n"
          ]
        },
        {
          "name": "stdout",
          "output_type": "stream",
          "text": [
            "1/1 [==============================] - 0s 40ms/step\n",
            "1/1 [==============================] - 0s 35ms/step\n"
          ]
        },
        {
          "name": "stderr",
          "output_type": "stream",
          "text": [
            "2022-09-01 16:16:33.800713: I tensorflow/core/grappler/optimizers/custom_graph_optimizer_registry.cc:113] Plugin optimizer for device_type GPU is enabled.\n",
            "2022-09-01 16:16:33.906720: I tensorflow/core/grappler/optimizers/custom_graph_optimizer_registry.cc:113] Plugin optimizer for device_type GPU is enabled.\n",
            " 40%|████      | 4/10 [00:20<00:30,  5.05s/it]"
          ]
        },
        {
          "name": "stdout",
          "output_type": "stream",
          "text": [
            "1/1 [==============================] - 0s 44ms/step\n",
            "1/1 [==============================] - 0s 35ms/step\n"
          ]
        },
        {
          "name": "stderr",
          "output_type": "stream",
          "text": [
            "2022-09-01 16:16:34.018776: I tensorflow/core/grappler/optimizers/custom_graph_optimizer_registry.cc:113] Plugin optimizer for device_type GPU is enabled.\n",
            "2022-09-01 16:16:34.121113: I tensorflow/core/grappler/optimizers/custom_graph_optimizer_registry.cc:113] Plugin optimizer for device_type GPU is enabled.\n"
          ]
        },
        {
          "name": "stdout",
          "output_type": "stream",
          "text": [
            "1/1 [==============================] - 0s 37ms/step\n",
            "1/1 [==============================] - 0s 34ms/step\n"
          ]
        },
        {
          "name": "stderr",
          "output_type": "stream",
          "text": [
            "2022-09-01 16:16:34.222587: I tensorflow/core/grappler/optimizers/custom_graph_optimizer_registry.cc:113] Plugin optimizer for device_type GPU is enabled.\n",
            "2022-09-01 16:16:34.325978: I tensorflow/core/grappler/optimizers/custom_graph_optimizer_registry.cc:113] Plugin optimizer for device_type GPU is enabled.\n"
          ]
        },
        {
          "name": "stdout",
          "output_type": "stream",
          "text": [
            "1/1 [==============================] - 0s 36ms/step\n",
            "1/1 [==============================] - 0s 38ms/step\n"
          ]
        },
        {
          "name": "stderr",
          "output_type": "stream",
          "text": [
            "2022-09-01 16:16:34.430300: I tensorflow/core/grappler/optimizers/custom_graph_optimizer_registry.cc:113] Plugin optimizer for device_type GPU is enabled.\n",
            "2022-09-01 16:16:34.533101: I tensorflow/core/grappler/optimizers/custom_graph_optimizer_registry.cc:113] Plugin optimizer for device_type GPU is enabled.\n"
          ]
        },
        {
          "name": "stdout",
          "output_type": "stream",
          "text": [
            "1/1 [==============================] - 0s 36ms/step\n",
            "1/1 [==============================] - 0s 37ms/step\n"
          ]
        },
        {
          "name": "stderr",
          "output_type": "stream",
          "text": [
            "2022-09-01 16:16:34.639177: I tensorflow/core/grappler/optimizers/custom_graph_optimizer_registry.cc:113] Plugin optimizer for device_type GPU is enabled.\n",
            "2022-09-01 16:16:34.741716: I tensorflow/core/grappler/optimizers/custom_graph_optimizer_registry.cc:113] Plugin optimizer for device_type GPU is enabled.\n"
          ]
        },
        {
          "name": "stdout",
          "output_type": "stream",
          "text": [
            "1/1 [==============================] - 0s 49ms/step\n",
            "1/1 [==============================] - 0s 56ms/step\n"
          ]
        },
        {
          "name": "stderr",
          "output_type": "stream",
          "text": [
            "2022-09-01 16:16:34.863901: I tensorflow/core/grappler/optimizers/custom_graph_optimizer_registry.cc:113] Plugin optimizer for device_type GPU is enabled.\n",
            "2022-09-01 16:16:35.003223: I tensorflow/core/grappler/optimizers/custom_graph_optimizer_registry.cc:113] Plugin optimizer for device_type GPU is enabled.\n"
          ]
        },
        {
          "name": "stdout",
          "output_type": "stream",
          "text": [
            "1/1 [==============================] - 0s 54ms/step\n",
            "1/1 [==============================] - 0s 64ms/step\n"
          ]
        },
        {
          "name": "stderr",
          "output_type": "stream",
          "text": [
            "2022-09-01 16:16:35.160295: I tensorflow/core/grappler/optimizers/custom_graph_optimizer_registry.cc:113] Plugin optimizer for device_type GPU is enabled.\n",
            "2022-09-01 16:16:35.319678: I tensorflow/core/grappler/optimizers/custom_graph_optimizer_registry.cc:113] Plugin optimizer for device_type GPU is enabled.\n"
          ]
        },
        {
          "name": "stdout",
          "output_type": "stream",
          "text": [
            "1/1 [==============================] - 0s 63ms/step\n"
          ]
        },
        {
          "name": "stderr",
          "output_type": "stream",
          "text": [
            "2022-09-01 16:16:35.487454: I tensorflow/core/grappler/optimizers/custom_graph_optimizer_registry.cc:113] Plugin optimizer for device_type GPU is enabled.\n",
            "2022-09-01 16:16:35.666363: I tensorflow/core/grappler/optimizers/custom_graph_optimizer_registry.cc:113] Plugin optimizer for device_type GPU is enabled.\n"
          ]
        },
        {
          "name": "stdout",
          "output_type": "stream",
          "text": [
            "1/1 [==============================] - 0s 71ms/step\n",
            "1/1 [==============================] - 0s 66ms/step\n"
          ]
        },
        {
          "name": "stderr",
          "output_type": "stream",
          "text": [
            "2022-09-01 16:16:35.851490: I tensorflow/core/grappler/optimizers/custom_graph_optimizer_registry.cc:113] Plugin optimizer for device_type GPU is enabled.\n",
            "2022-09-01 16:16:36.041453: I tensorflow/core/grappler/optimizers/custom_graph_optimizer_registry.cc:113] Plugin optimizer for device_type GPU is enabled.\n"
          ]
        },
        {
          "name": "stdout",
          "output_type": "stream",
          "text": [
            "1/1 [==============================] - 0s 70ms/step\n",
            "1/1 [==============================] - 0s 56ms/step\n",
            "1/1 [==============================] - 0s 52ms/step\n"
          ]
        },
        {
          "name": "stderr",
          "output_type": "stream",
          "text": [
            "2022-09-01 16:16:36.216785: I tensorflow/core/grappler/optimizers/custom_graph_optimizer_registry.cc:113] Plugin optimizer for device_type GPU is enabled.\n",
            "2022-09-01 16:16:36.368867: I tensorflow/core/grappler/optimizers/custom_graph_optimizer_registry.cc:113] Plugin optimizer for device_type GPU is enabled.\n"
          ]
        },
        {
          "name": "stdout",
          "output_type": "stream",
          "text": [
            "1/1 [==============================] - 0s 47ms/step\n",
            "1/1 [==============================] - 0s 41ms/step\n"
          ]
        },
        {
          "name": "stderr",
          "output_type": "stream",
          "text": [
            "2022-09-01 16:16:36.516816: I tensorflow/core/grappler/optimizers/custom_graph_optimizer_registry.cc:113] Plugin optimizer for device_type GPU is enabled.\n",
            "2022-09-01 16:16:36.640390: I tensorflow/core/grappler/optimizers/custom_graph_optimizer_registry.cc:113] Plugin optimizer for device_type GPU is enabled.\n"
          ]
        },
        {
          "name": "stdout",
          "output_type": "stream",
          "text": [
            "1/1 [==============================] - 0s 38ms/step\n",
            "1/1 [==============================] - 0s 39ms/step\n"
          ]
        },
        {
          "name": "stderr",
          "output_type": "stream",
          "text": [
            "2022-09-01 16:16:36.757365: I tensorflow/core/grappler/optimizers/custom_graph_optimizer_registry.cc:113] Plugin optimizer for device_type GPU is enabled.\n",
            "2022-09-01 16:16:36.867595: I tensorflow/core/grappler/optimizers/custom_graph_optimizer_registry.cc:113] Plugin optimizer for device_type GPU is enabled.\n"
          ]
        },
        {
          "name": "stdout",
          "output_type": "stream",
          "text": [
            "1/1 [==============================] - 0s 37ms/step\n",
            "1/1 [==============================] - 0s 38ms/step\n"
          ]
        },
        {
          "name": "stderr",
          "output_type": "stream",
          "text": [
            "2022-09-01 16:16:36.969925: I tensorflow/core/grappler/optimizers/custom_graph_optimizer_registry.cc:113] Plugin optimizer for device_type GPU is enabled.\n",
            "2022-09-01 16:16:37.075474: I tensorflow/core/grappler/optimizers/custom_graph_optimizer_registry.cc:113] Plugin optimizer for device_type GPU is enabled.\n"
          ]
        },
        {
          "name": "stdout",
          "output_type": "stream",
          "text": [
            "1/1 [==============================] - 0s 43ms/step\n",
            "1/1 [==============================] - 0s 34ms/step\n"
          ]
        },
        {
          "name": "stderr",
          "output_type": "stream",
          "text": [
            "2022-09-01 16:16:37.697713: I tensorflow/core/grappler/optimizers/custom_graph_optimizer_registry.cc:113] Plugin optimizer for device_type GPU is enabled.\n",
            "2022-09-01 16:16:37.806460: I tensorflow/core/grappler/optimizers/custom_graph_optimizer_registry.cc:113] Plugin optimizer for device_type GPU is enabled.\n"
          ]
        },
        {
          "name": "stdout",
          "output_type": "stream",
          "text": [
            "1/1 [==============================] - 0s 37ms/step\n",
            "1/1 [==============================] - 0s 36ms/step\n"
          ]
        },
        {
          "name": "stderr",
          "output_type": "stream",
          "text": [
            "2022-09-01 16:16:37.901421: I tensorflow/core/grappler/optimizers/custom_graph_optimizer_registry.cc:113] Plugin optimizer for device_type GPU is enabled.\n",
            "2022-09-01 16:16:38.005013: I tensorflow/core/grappler/optimizers/custom_graph_optimizer_registry.cc:113] Plugin optimizer for device_type GPU is enabled.\n"
          ]
        },
        {
          "name": "stdout",
          "output_type": "stream",
          "text": [
            "1/1 [==============================] - 0s 35ms/step\n",
            "1/1 [==============================] - 0s 35ms/step\n"
          ]
        },
        {
          "name": "stderr",
          "output_type": "stream",
          "text": [
            "2022-09-01 16:16:38.104665: I tensorflow/core/grappler/optimizers/custom_graph_optimizer_registry.cc:113] Plugin optimizer for device_type GPU is enabled.\n",
            "2022-09-01 16:16:38.205721: I tensorflow/core/grappler/optimizers/custom_graph_optimizer_registry.cc:113] Plugin optimizer for device_type GPU is enabled.\n"
          ]
        },
        {
          "name": "stdout",
          "output_type": "stream",
          "text": [
            "1/1 [==============================] - 0s 38ms/step\n",
            "1/1 [==============================] - 0s 35ms/step\n"
          ]
        },
        {
          "name": "stderr",
          "output_type": "stream",
          "text": [
            "2022-09-01 16:16:38.313367: I tensorflow/core/grappler/optimizers/custom_graph_optimizer_registry.cc:113] Plugin optimizer for device_type GPU is enabled.\n",
            "2022-09-01 16:16:38.413358: I tensorflow/core/grappler/optimizers/custom_graph_optimizer_registry.cc:113] Plugin optimizer for device_type GPU is enabled.\n",
            "2022-09-01 16:16:38.515435: I tensorflow/core/grappler/optimizers/custom_graph_optimizer_registry.cc:113] Plugin optimizer for device_type GPU is enabled.\n"
          ]
        },
        {
          "name": "stdout",
          "output_type": "stream",
          "text": [
            "1/1 [==============================] - 0s 36ms/step\n",
            "1/1 [==============================] - 0s 35ms/step\n",
            "1/1 [==============================] - 0s 35ms/step\n"
          ]
        },
        {
          "name": "stderr",
          "output_type": "stream",
          "text": [
            "2022-09-01 16:16:38.616349: I tensorflow/core/grappler/optimizers/custom_graph_optimizer_registry.cc:113] Plugin optimizer for device_type GPU is enabled.\n",
            "2022-09-01 16:16:38.717119: I tensorflow/core/grappler/optimizers/custom_graph_optimizer_registry.cc:113] Plugin optimizer for device_type GPU is enabled.\n"
          ]
        },
        {
          "name": "stdout",
          "output_type": "stream",
          "text": [
            "1/1 [==============================] - 0s 37ms/step\n",
            "1/1 [==============================] - 0s 38ms/step\n"
          ]
        },
        {
          "name": "stderr",
          "output_type": "stream",
          "text": [
            "2022-09-01 16:16:38.819743: I tensorflow/core/grappler/optimizers/custom_graph_optimizer_registry.cc:113] Plugin optimizer for device_type GPU is enabled.\n",
            "2022-09-01 16:16:38.919983: I tensorflow/core/grappler/optimizers/custom_graph_optimizer_registry.cc:113] Plugin optimizer for device_type GPU is enabled.\n",
            " 50%|█████     | 5/10 [00:25<00:25,  5.04s/it]"
          ]
        },
        {
          "name": "stdout",
          "output_type": "stream",
          "text": [
            "1/1 [==============================] - 0s 41ms/step\n",
            "1/1 [==============================] - 0s 38ms/step\n"
          ]
        },
        {
          "name": "stderr",
          "output_type": "stream",
          "text": [
            "2022-09-01 16:16:39.030767: I tensorflow/core/grappler/optimizers/custom_graph_optimizer_registry.cc:113] Plugin optimizer for device_type GPU is enabled.\n",
            "2022-09-01 16:16:39.136511: I tensorflow/core/grappler/optimizers/custom_graph_optimizer_registry.cc:113] Plugin optimizer for device_type GPU is enabled.\n"
          ]
        },
        {
          "name": "stdout",
          "output_type": "stream",
          "text": [
            "1/1 [==============================] - 0s 40ms/step\n",
            "1/1 [==============================] - 0s 43ms/step\n"
          ]
        },
        {
          "name": "stderr",
          "output_type": "stream",
          "text": [
            "2022-09-01 16:16:39.243069: I tensorflow/core/grappler/optimizers/custom_graph_optimizer_registry.cc:113] Plugin optimizer for device_type GPU is enabled.\n",
            "2022-09-01 16:16:39.357352: I tensorflow/core/grappler/optimizers/custom_graph_optimizer_registry.cc:113] Plugin optimizer for device_type GPU is enabled.\n"
          ]
        },
        {
          "name": "stdout",
          "output_type": "stream",
          "text": [
            "1/1 [==============================] - 0s 49ms/step\n",
            "1/1 [==============================] - 0s 57ms/step\n"
          ]
        },
        {
          "name": "stderr",
          "output_type": "stream",
          "text": [
            "2022-09-01 16:16:39.528552: I tensorflow/core/grappler/optimizers/custom_graph_optimizer_registry.cc:113] Plugin optimizer for device_type GPU is enabled.\n",
            "2022-09-01 16:16:39.679669: I tensorflow/core/grappler/optimizers/custom_graph_optimizer_registry.cc:113] Plugin optimizer for device_type GPU is enabled.\n"
          ]
        },
        {
          "name": "stdout",
          "output_type": "stream",
          "text": [
            "1/1 [==============================] - 0s 61ms/step\n",
            "1/1 [==============================] - 0s 58ms/step\n"
          ]
        },
        {
          "name": "stderr",
          "output_type": "stream",
          "text": [
            "2022-09-01 16:16:39.835431: I tensorflow/core/grappler/optimizers/custom_graph_optimizer_registry.cc:113] Plugin optimizer for device_type GPU is enabled.\n",
            "2022-09-01 16:16:39.997727: I tensorflow/core/grappler/optimizers/custom_graph_optimizer_registry.cc:113] Plugin optimizer for device_type GPU is enabled.\n"
          ]
        },
        {
          "name": "stdout",
          "output_type": "stream",
          "text": [
            "1/1 [==============================] - 0s 61ms/step\n"
          ]
        },
        {
          "name": "stderr",
          "output_type": "stream",
          "text": [
            "2022-09-01 16:16:40.159501: I tensorflow/core/grappler/optimizers/custom_graph_optimizer_registry.cc:113] Plugin optimizer for device_type GPU is enabled.\n",
            "2022-09-01 16:16:40.335022: I tensorflow/core/grappler/optimizers/custom_graph_optimizer_registry.cc:113] Plugin optimizer for device_type GPU is enabled.\n"
          ]
        },
        {
          "name": "stdout",
          "output_type": "stream",
          "text": [
            "1/1 [==============================] - 0s 74ms/step\n",
            "1/1 [==============================] - 0s 76ms/step\n"
          ]
        },
        {
          "name": "stderr",
          "output_type": "stream",
          "text": [
            "2022-09-01 16:16:40.524316: I tensorflow/core/grappler/optimizers/custom_graph_optimizer_registry.cc:113] Plugin optimizer for device_type GPU is enabled.\n",
            "2022-09-01 16:16:40.715698: I tensorflow/core/grappler/optimizers/custom_graph_optimizer_registry.cc:113] Plugin optimizer for device_type GPU is enabled.\n"
          ]
        },
        {
          "name": "stdout",
          "output_type": "stream",
          "text": [
            "1/1 [==============================] - 0s 66ms/step\n",
            "1/1 [==============================] - 0s 57ms/step\n",
            "1/1 [==============================] - 0s 57ms/step\n"
          ]
        },
        {
          "name": "stderr",
          "output_type": "stream",
          "text": [
            "2022-09-01 16:16:40.886700: I tensorflow/core/grappler/optimizers/custom_graph_optimizer_registry.cc:113] Plugin optimizer for device_type GPU is enabled.\n",
            "2022-09-01 16:16:41.038345: I tensorflow/core/grappler/optimizers/custom_graph_optimizer_registry.cc:113] Plugin optimizer for device_type GPU is enabled.\n"
          ]
        },
        {
          "name": "stdout",
          "output_type": "stream",
          "text": [
            "1/1 [==============================] - 0s 51ms/step\n",
            "1/1 [==============================] - 0s 56ms/step\n"
          ]
        },
        {
          "name": "stderr",
          "output_type": "stream",
          "text": [
            "2022-09-01 16:16:41.189068: I tensorflow/core/grappler/optimizers/custom_graph_optimizer_registry.cc:113] Plugin optimizer for device_type GPU is enabled.\n",
            "2022-09-01 16:16:41.335548: I tensorflow/core/grappler/optimizers/custom_graph_optimizer_registry.cc:113] Plugin optimizer for device_type GPU is enabled.\n"
          ]
        },
        {
          "name": "stdout",
          "output_type": "stream",
          "text": [
            "1/1 [==============================] - 0s 49ms/step\n",
            "1/1 [==============================] - 0s 45ms/step\n"
          ]
        },
        {
          "name": "stderr",
          "output_type": "stream",
          "text": [
            "2022-09-01 16:16:41.476296: I tensorflow/core/grappler/optimizers/custom_graph_optimizer_registry.cc:113] Plugin optimizer for device_type GPU is enabled.\n",
            "2022-09-01 16:16:41.598601: I tensorflow/core/grappler/optimizers/custom_graph_optimizer_registry.cc:113] Plugin optimizer for device_type GPU is enabled.\n"
          ]
        },
        {
          "name": "stdout",
          "output_type": "stream",
          "text": [
            "1/1 [==============================] - 0s 44ms/step\n",
            "1/1 [==============================] - 0s 42ms/step\n"
          ]
        },
        {
          "name": "stderr",
          "output_type": "stream",
          "text": [
            "2022-09-01 16:16:41.716352: I tensorflow/core/grappler/optimizers/custom_graph_optimizer_registry.cc:113] Plugin optimizer for device_type GPU is enabled.\n",
            "2022-09-01 16:16:41.831269: I tensorflow/core/grappler/optimizers/custom_graph_optimizer_registry.cc:113] Plugin optimizer for device_type GPU is enabled.\n"
          ]
        },
        {
          "name": "stdout",
          "output_type": "stream",
          "text": [
            "1/1 [==============================] - 0s 46ms/step\n",
            "1/1 [==============================] - 0s 42ms/step\n"
          ]
        },
        {
          "name": "stderr",
          "output_type": "stream",
          "text": [
            "2022-09-01 16:16:41.945046: I tensorflow/core/grappler/optimizers/custom_graph_optimizer_registry.cc:113] Plugin optimizer for device_type GPU is enabled.\n",
            "2022-09-01 16:16:42.069326: I tensorflow/core/grappler/optimizers/custom_graph_optimizer_registry.cc:113] Plugin optimizer for device_type GPU is enabled.\n"
          ]
        },
        {
          "name": "stdout",
          "output_type": "stream",
          "text": [
            "1/1 [==============================] - 0s 38ms/step\n",
            "1/1 [==============================] - 0s 39ms/step\n"
          ]
        },
        {
          "name": "stderr",
          "output_type": "stream",
          "text": [
            "2022-09-01 16:16:42.186658: I tensorflow/core/grappler/optimizers/custom_graph_optimizer_registry.cc:113] Plugin optimizer for device_type GPU is enabled.\n",
            "2022-09-01 16:16:42.296703: I tensorflow/core/grappler/optimizers/custom_graph_optimizer_registry.cc:113] Plugin optimizer for device_type GPU is enabled.\n"
          ]
        },
        {
          "name": "stdout",
          "output_type": "stream",
          "text": [
            "1/1 [==============================] - 0s 41ms/step\n",
            "1/1 [==============================] - 0s 36ms/step\n"
          ]
        },
        {
          "name": "stderr",
          "output_type": "stream",
          "text": [
            "2022-09-01 16:16:42.407610: I tensorflow/core/grappler/optimizers/custom_graph_optimizer_registry.cc:113] Plugin optimizer for device_type GPU is enabled.\n",
            "2022-09-01 16:16:42.518833: I tensorflow/core/grappler/optimizers/custom_graph_optimizer_registry.cc:113] Plugin optimizer for device_type GPU is enabled.\n"
          ]
        },
        {
          "name": "stdout",
          "output_type": "stream",
          "text": [
            "1/1 [==============================] - 0s 36ms/step\n",
            "1/1 [==============================] - 0s 36ms/step\n"
          ]
        },
        {
          "name": "stderr",
          "output_type": "stream",
          "text": [
            "2022-09-01 16:16:42.631572: I tensorflow/core/grappler/optimizers/custom_graph_optimizer_registry.cc:113] Plugin optimizer for device_type GPU is enabled.\n",
            "2022-09-01 16:16:42.735762: I tensorflow/core/grappler/optimizers/custom_graph_optimizer_registry.cc:113] Plugin optimizer for device_type GPU is enabled.\n"
          ]
        },
        {
          "name": "stdout",
          "output_type": "stream",
          "text": [
            "1/1 [==============================] - 0s 37ms/step\n",
            "1/1 [==============================] - 0s 36ms/step\n"
          ]
        },
        {
          "name": "stderr",
          "output_type": "stream",
          "text": [
            "2022-09-01 16:16:42.839416: I tensorflow/core/grappler/optimizers/custom_graph_optimizer_registry.cc:113] Plugin optimizer for device_type GPU is enabled.\n",
            "2022-09-01 16:16:42.940830: I tensorflow/core/grappler/optimizers/custom_graph_optimizer_registry.cc:113] Plugin optimizer for device_type GPU is enabled.\n"
          ]
        },
        {
          "name": "stdout",
          "output_type": "stream",
          "text": [
            "1/1 [==============================] - 0s 37ms/step\n",
            "1/1 [==============================] - 0s 42ms/step\n"
          ]
        },
        {
          "name": "stderr",
          "output_type": "stream",
          "text": [
            "2022-09-01 16:16:43.046634: I tensorflow/core/grappler/optimizers/custom_graph_optimizer_registry.cc:113] Plugin optimizer for device_type GPU is enabled.\n",
            "2022-09-01 16:16:43.150863: I tensorflow/core/grappler/optimizers/custom_graph_optimizer_registry.cc:113] Plugin optimizer for device_type GPU is enabled.\n"
          ]
        },
        {
          "name": "stdout",
          "output_type": "stream",
          "text": [
            "1/1 [==============================] - 0s 37ms/step\n",
            "1/1 [==============================] - 0s 36ms/step\n"
          ]
        },
        {
          "name": "stderr",
          "output_type": "stream",
          "text": [
            "2022-09-01 16:16:43.256680: I tensorflow/core/grappler/optimizers/custom_graph_optimizer_registry.cc:113] Plugin optimizer for device_type GPU is enabled.\n",
            "2022-09-01 16:16:43.360592: I tensorflow/core/grappler/optimizers/custom_graph_optimizer_registry.cc:113] Plugin optimizer for device_type GPU is enabled.\n"
          ]
        },
        {
          "name": "stdout",
          "output_type": "stream",
          "text": [
            "1/1 [==============================] - 0s 39ms/step\n",
            "1/1 [==============================] - 0s 36ms/step\n"
          ]
        },
        {
          "name": "stderr",
          "output_type": "stream",
          "text": [
            "2022-09-01 16:16:43.461819: I tensorflow/core/grappler/optimizers/custom_graph_optimizer_registry.cc:113] Plugin optimizer for device_type GPU is enabled.\n",
            "2022-09-01 16:16:43.567814: I tensorflow/core/grappler/optimizers/custom_graph_optimizer_registry.cc:113] Plugin optimizer for device_type GPU is enabled.\n"
          ]
        },
        {
          "name": "stdout",
          "output_type": "stream",
          "text": [
            "1/1 [==============================] - 0s 37ms/step\n"
          ]
        },
        {
          "name": "stderr",
          "output_type": "stream",
          "text": [
            "2022-09-01 16:16:43.671168: I tensorflow/core/grappler/optimizers/custom_graph_optimizer_registry.cc:113] Plugin optimizer for device_type GPU is enabled.\n",
            " 60%|██████    | 6/10 [00:30<00:19,  4.94s/it]"
          ]
        },
        {
          "name": "stdout",
          "output_type": "stream",
          "text": [
            "1/1 [==============================] - 0s 36ms/step\n"
          ]
        },
        {
          "name": "stderr",
          "output_type": "stream",
          "text": [
            "2022-09-01 16:16:43.779066: I tensorflow/core/grappler/optimizers/custom_graph_optimizer_registry.cc:113] Plugin optimizer for device_type GPU is enabled.\n"
          ]
        },
        {
          "name": "stdout",
          "output_type": "stream",
          "text": [
            "1/1 [==============================] - 0s 40ms/step\n"
          ]
        },
        {
          "name": "stderr",
          "output_type": "stream",
          "text": [
            "2022-09-01 16:16:43.884449: I tensorflow/core/grappler/optimizers/custom_graph_optimizer_registry.cc:113] Plugin optimizer for device_type GPU is enabled.\n"
          ]
        },
        {
          "name": "stdout",
          "output_type": "stream",
          "text": [
            "1/1 [==============================] - 0s 38ms/step\n"
          ]
        },
        {
          "name": "stderr",
          "output_type": "stream",
          "text": [
            "2022-09-01 16:16:43.990466: I tensorflow/core/grappler/optimizers/custom_graph_optimizer_registry.cc:113] Plugin optimizer for device_type GPU is enabled.\n"
          ]
        },
        {
          "name": "stdout",
          "output_type": "stream",
          "text": [
            "1/1 [==============================] - 0s 37ms/step\n"
          ]
        },
        {
          "name": "stderr",
          "output_type": "stream",
          "text": [
            "2022-09-01 16:16:44.097187: I tensorflow/core/grappler/optimizers/custom_graph_optimizer_registry.cc:113] Plugin optimizer for device_type GPU is enabled.\n"
          ]
        },
        {
          "name": "stdout",
          "output_type": "stream",
          "text": [
            "1/1 [==============================] - 0s 41ms/step\n"
          ]
        },
        {
          "name": "stderr",
          "output_type": "stream",
          "text": [
            "2022-09-01 16:16:44.206912: I tensorflow/core/grappler/optimizers/custom_graph_optimizer_registry.cc:113] Plugin optimizer for device_type GPU is enabled.\n"
          ]
        },
        {
          "name": "stdout",
          "output_type": "stream",
          "text": [
            "1/1 [==============================] - 0s 57ms/step\n"
          ]
        },
        {
          "name": "stderr",
          "output_type": "stream",
          "text": [
            "2022-09-01 16:16:44.351651: I tensorflow/core/grappler/optimizers/custom_graph_optimizer_registry.cc:113] Plugin optimizer for device_type GPU is enabled.\n",
            "2022-09-01 16:16:44.525576: I tensorflow/core/grappler/optimizers/custom_graph_optimizer_registry.cc:113] Plugin optimizer for device_type GPU is enabled.\n"
          ]
        },
        {
          "name": "stdout",
          "output_type": "stream",
          "text": [
            "1/1 [==============================] - 0s 76ms/step\n"
          ]
        },
        {
          "name": "stderr",
          "output_type": "stream",
          "text": [
            "2022-09-01 16:16:44.720055: I tensorflow/core/grappler/optimizers/custom_graph_optimizer_registry.cc:113] Plugin optimizer for device_type GPU is enabled.\n"
          ]
        },
        {
          "name": "stdout",
          "output_type": "stream",
          "text": [
            "1/1 [==============================] - 0s 75ms/step\n",
            "1/1 [==============================] - 0s 80ms/step\n"
          ]
        },
        {
          "name": "stderr",
          "output_type": "stream",
          "text": [
            "2022-09-01 16:16:44.936643: I tensorflow/core/grappler/optimizers/custom_graph_optimizer_registry.cc:113] Plugin optimizer for device_type GPU is enabled.\n"
          ]
        },
        {
          "name": "stdout",
          "output_type": "stream",
          "text": [
            "1/1 [==============================] - 0s 74ms/step\n"
          ]
        },
        {
          "name": "stderr",
          "output_type": "stream",
          "text": [
            "2022-09-01 16:16:45.146419: I tensorflow/core/grappler/optimizers/custom_graph_optimizer_registry.cc:113] Plugin optimizer for device_type GPU is enabled.\n"
          ]
        },
        {
          "name": "stdout",
          "output_type": "stream",
          "text": [
            "1/1 [==============================] - 0s 80ms/step\n"
          ]
        },
        {
          "name": "stderr",
          "output_type": "stream",
          "text": [
            "2022-09-01 16:16:45.364338: I tensorflow/core/grappler/optimizers/custom_graph_optimizer_registry.cc:113] Plugin optimizer for device_type GPU is enabled.\n"
          ]
        },
        {
          "name": "stdout",
          "output_type": "stream",
          "text": [
            "1/1 [==============================] - 0s 79ms/step\n"
          ]
        },
        {
          "name": "stderr",
          "output_type": "stream",
          "text": [
            "2022-09-01 16:16:45.571479: I tensorflow/core/grappler/optimizers/custom_graph_optimizer_registry.cc:113] Plugin optimizer for device_type GPU is enabled.\n"
          ]
        },
        {
          "name": "stdout",
          "output_type": "stream",
          "text": [
            "1/1 [==============================] - 0s 89ms/step\n"
          ]
        },
        {
          "name": "stderr",
          "output_type": "stream",
          "text": [
            "2022-09-01 16:16:45.794766: I tensorflow/core/grappler/optimizers/custom_graph_optimizer_registry.cc:113] Plugin optimizer for device_type GPU is enabled.\n"
          ]
        },
        {
          "name": "stdout",
          "output_type": "stream",
          "text": [
            "1/1 [==============================] - 0s 94ms/step\n"
          ]
        },
        {
          "name": "stderr",
          "output_type": "stream",
          "text": [
            "2022-09-01 16:16:46.039063: I tensorflow/core/grappler/optimizers/custom_graph_optimizer_registry.cc:113] Plugin optimizer for device_type GPU is enabled.\n"
          ]
        },
        {
          "name": "stdout",
          "output_type": "stream",
          "text": [
            "1/1 [==============================] - 0s 71ms/step\n"
          ]
        },
        {
          "name": "stderr",
          "output_type": "stream",
          "text": [
            "2022-09-01 16:16:46.260262: I tensorflow/core/grappler/optimizers/custom_graph_optimizer_registry.cc:113] Plugin optimizer for device_type GPU is enabled.\n"
          ]
        },
        {
          "name": "stdout",
          "output_type": "stream",
          "text": [
            "1/1 [==============================] - 0s 84ms/step\n"
          ]
        },
        {
          "name": "stderr",
          "output_type": "stream",
          "text": [
            "2022-09-01 16:16:46.471646: I tensorflow/core/grappler/optimizers/custom_graph_optimizer_registry.cc:113] Plugin optimizer for device_type GPU is enabled.\n"
          ]
        },
        {
          "name": "stdout",
          "output_type": "stream",
          "text": [
            "1/1 [==============================] - 0s 71ms/step\n",
            "1/1 [==============================] - 0s 55ms/step\n"
          ]
        },
        {
          "name": "stderr",
          "output_type": "stream",
          "text": [
            "2022-09-01 16:16:46.682529: I tensorflow/core/grappler/optimizers/custom_graph_optimizer_registry.cc:113] Plugin optimizer for device_type GPU is enabled.\n",
            "2022-09-01 16:16:46.851264: I tensorflow/core/grappler/optimizers/custom_graph_optimizer_registry.cc:113] Plugin optimizer for device_type GPU is enabled.\n"
          ]
        },
        {
          "name": "stdout",
          "output_type": "stream",
          "text": [
            "1/1 [==============================] - 0s 54ms/step\n",
            "1/1 [==============================] - 0s 48ms/step\n"
          ]
        },
        {
          "name": "stderr",
          "output_type": "stream",
          "text": [
            "2022-09-01 16:16:47.001734: I tensorflow/core/grappler/optimizers/custom_graph_optimizer_registry.cc:113] Plugin optimizer for device_type GPU is enabled.\n",
            "2022-09-01 16:16:47.146795: I tensorflow/core/grappler/optimizers/custom_graph_optimizer_registry.cc:113] Plugin optimizer for device_type GPU is enabled.\n"
          ]
        },
        {
          "name": "stdout",
          "output_type": "stream",
          "text": [
            "1/1 [==============================] - 0s 44ms/step\n",
            "1/1 [==============================] - 0s 38ms/step\n"
          ]
        },
        {
          "name": "stderr",
          "output_type": "stream",
          "text": [
            "2022-09-01 16:16:47.274991: I tensorflow/core/grappler/optimizers/custom_graph_optimizer_registry.cc:113] Plugin optimizer for device_type GPU is enabled.\n",
            "2022-09-01 16:16:47.386173: I tensorflow/core/grappler/optimizers/custom_graph_optimizer_registry.cc:113] Plugin optimizer for device_type GPU is enabled.\n"
          ]
        },
        {
          "name": "stdout",
          "output_type": "stream",
          "text": [
            "1/1 [==============================] - 0s 36ms/step\n",
            "1/1 [==============================] - 0s 36ms/step\n"
          ]
        },
        {
          "name": "stderr",
          "output_type": "stream",
          "text": [
            "2022-09-01 16:16:47.494947: I tensorflow/core/grappler/optimizers/custom_graph_optimizer_registry.cc:113] Plugin optimizer for device_type GPU is enabled.\n",
            "2022-09-01 16:16:47.595978: I tensorflow/core/grappler/optimizers/custom_graph_optimizer_registry.cc:113] Plugin optimizer for device_type GPU is enabled.\n"
          ]
        },
        {
          "name": "stdout",
          "output_type": "stream",
          "text": [
            "1/1 [==============================] - 0s 36ms/step\n",
            "1/1 [==============================] - 0s 36ms/step\n"
          ]
        },
        {
          "name": "stderr",
          "output_type": "stream",
          "text": [
            "2022-09-01 16:16:47.699331: I tensorflow/core/grappler/optimizers/custom_graph_optimizer_registry.cc:113] Plugin optimizer for device_type GPU is enabled.\n",
            "2022-09-01 16:16:47.801851: I tensorflow/core/grappler/optimizers/custom_graph_optimizer_registry.cc:113] Plugin optimizer for device_type GPU is enabled.\n"
          ]
        },
        {
          "name": "stdout",
          "output_type": "stream",
          "text": [
            "1/1 [==============================] - 0s 38ms/step\n",
            "1/1 [==============================] - 0s 38ms/step\n"
          ]
        },
        {
          "name": "stderr",
          "output_type": "stream",
          "text": [
            "2022-09-01 16:16:47.904821: I tensorflow/core/grappler/optimizers/custom_graph_optimizer_registry.cc:113] Plugin optimizer for device_type GPU is enabled.\n",
            "2022-09-01 16:16:48.010671: I tensorflow/core/grappler/optimizers/custom_graph_optimizer_registry.cc:113] Plugin optimizer for device_type GPU is enabled.\n"
          ]
        },
        {
          "name": "stdout",
          "output_type": "stream",
          "text": [
            "1/1 [==============================] - 0s 36ms/step\n",
            "1/1 [==============================] - 0s 35ms/step\n"
          ]
        },
        {
          "name": "stderr",
          "output_type": "stream",
          "text": [
            "2022-09-01 16:16:48.111560: I tensorflow/core/grappler/optimizers/custom_graph_optimizer_registry.cc:113] Plugin optimizer for device_type GPU is enabled.\n",
            "2022-09-01 16:16:48.215637: I tensorflow/core/grappler/optimizers/custom_graph_optimizer_registry.cc:113] Plugin optimizer for device_type GPU is enabled.\n"
          ]
        },
        {
          "name": "stdout",
          "output_type": "stream",
          "text": [
            "1/1 [==============================] - 0s 36ms/step\n",
            "1/1 [==============================] - 0s 36ms/step\n"
          ]
        },
        {
          "name": "stderr",
          "output_type": "stream",
          "text": [
            "2022-09-01 16:16:48.315771: I tensorflow/core/grappler/optimizers/custom_graph_optimizer_registry.cc:113] Plugin optimizer for device_type GPU is enabled.\n",
            "2022-09-01 16:16:48.418779: I tensorflow/core/grappler/optimizers/custom_graph_optimizer_registry.cc:113] Plugin optimizer for device_type GPU is enabled.\n"
          ]
        },
        {
          "name": "stdout",
          "output_type": "stream",
          "text": [
            "1/1 [==============================] - 0s 35ms/step\n",
            "1/1 [==============================] - 0s 35ms/step\n"
          ]
        },
        {
          "name": "stderr",
          "output_type": "stream",
          "text": [
            "2022-09-01 16:16:48.519438: I tensorflow/core/grappler/optimizers/custom_graph_optimizer_registry.cc:113] Plugin optimizer for device_type GPU is enabled.\n",
            "2022-09-01 16:16:48.624106: I tensorflow/core/grappler/optimizers/custom_graph_optimizer_registry.cc:113] Plugin optimizer for device_type GPU is enabled.\n"
          ]
        },
        {
          "name": "stdout",
          "output_type": "stream",
          "text": [
            "1/1 [==============================] - 0s 38ms/step\n",
            "1/1 [==============================] - 0s 39ms/step\n"
          ]
        },
        {
          "name": "stderr",
          "output_type": "stream",
          "text": [
            "2022-09-01 16:16:48.727811: I tensorflow/core/grappler/optimizers/custom_graph_optimizer_registry.cc:113] Plugin optimizer for device_type GPU is enabled.\n",
            "2022-09-01 16:16:48.829271: I tensorflow/core/grappler/optimizers/custom_graph_optimizer_registry.cc:113] Plugin optimizer for device_type GPU is enabled.\n"
          ]
        },
        {
          "name": "stdout",
          "output_type": "stream",
          "text": [
            "1/1 [==============================] - 0s 38ms/step\n"
          ]
        },
        {
          "name": "stderr",
          "output_type": "stream",
          "text": [
            "2022-09-01 16:16:48.936724: I tensorflow/core/grappler/optimizers/custom_graph_optimizer_registry.cc:113] Plugin optimizer for device_type GPU is enabled.\n",
            " 70%|███████   | 7/10 [00:35<00:15,  5.05s/it]"
          ]
        },
        {
          "name": "stdout",
          "output_type": "stream",
          "text": [
            "1/1 [==============================] - 0s 35ms/step\n"
          ]
        },
        {
          "name": "stderr",
          "output_type": "stream",
          "text": [
            "2022-09-01 16:16:49.041079: I tensorflow/core/grappler/optimizers/custom_graph_optimizer_registry.cc:113] Plugin optimizer for device_type GPU is enabled.\n"
          ]
        },
        {
          "name": "stdout",
          "output_type": "stream",
          "text": [
            "1/1 [==============================] - 0s 36ms/step\n"
          ]
        },
        {
          "name": "stderr",
          "output_type": "stream",
          "text": [
            "2022-09-01 16:16:49.144268: I tensorflow/core/grappler/optimizers/custom_graph_optimizer_registry.cc:113] Plugin optimizer for device_type GPU is enabled.\n"
          ]
        },
        {
          "name": "stdout",
          "output_type": "stream",
          "text": [
            "1/1 [==============================] - 0s 38ms/step\n"
          ]
        },
        {
          "name": "stderr",
          "output_type": "stream",
          "text": [
            "2022-09-01 16:16:49.252093: I tensorflow/core/grappler/optimizers/custom_graph_optimizer_registry.cc:113] Plugin optimizer for device_type GPU is enabled.\n"
          ]
        },
        {
          "name": "stdout",
          "output_type": "stream",
          "text": [
            "1/1 [==============================] - 0s 36ms/step\n"
          ]
        },
        {
          "name": "stderr",
          "output_type": "stream",
          "text": [
            "2022-09-01 16:16:49.356072: I tensorflow/core/grappler/optimizers/custom_graph_optimizer_registry.cc:113] Plugin optimizer for device_type GPU is enabled.\n"
          ]
        },
        {
          "name": "stdout",
          "output_type": "stream",
          "text": [
            "1/1 [==============================] - 0s 38ms/step\n"
          ]
        },
        {
          "name": "stderr",
          "output_type": "stream",
          "text": [
            "2022-09-01 16:16:49.461129: I tensorflow/core/grappler/optimizers/custom_graph_optimizer_registry.cc:113] Plugin optimizer for device_type GPU is enabled.\n"
          ]
        },
        {
          "name": "stdout",
          "output_type": "stream",
          "text": [
            "1/1 [==============================] - 0s 40ms/step\n"
          ]
        },
        {
          "name": "stderr",
          "output_type": "stream",
          "text": [
            "2022-09-01 16:16:49.569616: I tensorflow/core/grappler/optimizers/custom_graph_optimizer_registry.cc:113] Plugin optimizer for device_type GPU is enabled.\n"
          ]
        },
        {
          "name": "stdout",
          "output_type": "stream",
          "text": [
            "1/1 [==============================] - 0s 47ms/step\n"
          ]
        },
        {
          "name": "stderr",
          "output_type": "stream",
          "text": [
            "2022-09-01 16:16:49.699675: I tensorflow/core/grappler/optimizers/custom_graph_optimizer_registry.cc:113] Plugin optimizer for device_type GPU is enabled.\n"
          ]
        },
        {
          "name": "stdout",
          "output_type": "stream",
          "text": [
            "1/1 [==============================] - 0s 63ms/step\n"
          ]
        },
        {
          "name": "stderr",
          "output_type": "stream",
          "text": [
            "2022-09-01 16:16:49.848536: I tensorflow/core/grappler/optimizers/custom_graph_optimizer_registry.cc:113] Plugin optimizer for device_type GPU is enabled.\n"
          ]
        },
        {
          "name": "stdout",
          "output_type": "stream",
          "text": [
            "1/1 [==============================] - 0s 72ms/step\n"
          ]
        },
        {
          "name": "stderr",
          "output_type": "stream",
          "text": [
            "2022-09-01 16:16:50.070463: I tensorflow/core/grappler/optimizers/custom_graph_optimizer_registry.cc:113] Plugin optimizer for device_type GPU is enabled.\n"
          ]
        },
        {
          "name": "stdout",
          "output_type": "stream",
          "text": [
            "1/1 [==============================] - 0s 96ms/step\n"
          ]
        },
        {
          "name": "stderr",
          "output_type": "stream",
          "text": [
            "2022-09-01 16:16:50.325316: I tensorflow/core/grappler/optimizers/custom_graph_optimizer_registry.cc:113] Plugin optimizer for device_type GPU is enabled.\n"
          ]
        },
        {
          "name": "stdout",
          "output_type": "stream",
          "text": [
            "1/1 [==============================] - 0s 89ms/step\n"
          ]
        },
        {
          "name": "stderr",
          "output_type": "stream",
          "text": [
            "2022-09-01 16:16:50.619745: I tensorflow/core/grappler/optimizers/custom_graph_optimizer_registry.cc:113] Plugin optimizer for device_type GPU is enabled.\n"
          ]
        },
        {
          "name": "stdout",
          "output_type": "stream",
          "text": [
            "1/1 [==============================] - 0s 114ms/step\n"
          ]
        },
        {
          "name": "stderr",
          "output_type": "stream",
          "text": [
            "2022-09-01 16:16:50.873105: I tensorflow/core/grappler/optimizers/custom_graph_optimizer_registry.cc:113] Plugin optimizer for device_type GPU is enabled.\n"
          ]
        },
        {
          "name": "stdout",
          "output_type": "stream",
          "text": [
            "1/1 [==============================] - 0s 86ms/step\n"
          ]
        },
        {
          "name": "stderr",
          "output_type": "stream",
          "text": [
            "2022-09-01 16:16:51.168105: I tensorflow/core/grappler/optimizers/custom_graph_optimizer_registry.cc:113] Plugin optimizer for device_type GPU is enabled.\n"
          ]
        },
        {
          "name": "stdout",
          "output_type": "stream",
          "text": [
            "1/1 [==============================] - 0s 68ms/step\n"
          ]
        },
        {
          "name": "stderr",
          "output_type": "stream",
          "text": [
            "2022-09-01 16:16:51.375902: I tensorflow/core/grappler/optimizers/custom_graph_optimizer_registry.cc:113] Plugin optimizer for device_type GPU is enabled.\n",
            "2022-09-01 16:16:51.544737: I tensorflow/core/grappler/optimizers/custom_graph_optimizer_registry.cc:113] Plugin optimizer for device_type GPU is enabled.\n"
          ]
        },
        {
          "name": "stdout",
          "output_type": "stream",
          "text": [
            "1/1 [==============================] - 0s 62ms/step\n",
            "1/1 [==============================] - 0s 66ms/step\n"
          ]
        },
        {
          "name": "stderr",
          "output_type": "stream",
          "text": [
            "2022-09-01 16:16:51.718317: I tensorflow/core/grappler/optimizers/custom_graph_optimizer_registry.cc:113] Plugin optimizer for device_type GPU is enabled.\n",
            "2022-09-01 16:16:51.886004: I tensorflow/core/grappler/optimizers/custom_graph_optimizer_registry.cc:113] Plugin optimizer for device_type GPU is enabled.\n"
          ]
        },
        {
          "name": "stdout",
          "output_type": "stream",
          "text": [
            "1/1 [==============================] - 0s 61ms/step\n",
            "1/1 [==============================] - 0s 61ms/step\n"
          ]
        },
        {
          "name": "stderr",
          "output_type": "stream",
          "text": [
            "2022-09-01 16:16:52.049038: I tensorflow/core/grappler/optimizers/custom_graph_optimizer_registry.cc:113] Plugin optimizer for device_type GPU is enabled.\n",
            "2022-09-01 16:16:52.215450: I tensorflow/core/grappler/optimizers/custom_graph_optimizer_registry.cc:113] Plugin optimizer for device_type GPU is enabled.\n"
          ]
        },
        {
          "name": "stdout",
          "output_type": "stream",
          "text": [
            "1/1 [==============================] - 0s 65ms/step\n",
            "1/1 [==============================] - 0s 62ms/step\n"
          ]
        },
        {
          "name": "stderr",
          "output_type": "stream",
          "text": [
            "2022-09-01 16:16:52.379767: I tensorflow/core/grappler/optimizers/custom_graph_optimizer_registry.cc:113] Plugin optimizer for device_type GPU is enabled.\n",
            "2022-09-01 16:16:52.551025: I tensorflow/core/grappler/optimizers/custom_graph_optimizer_registry.cc:113] Plugin optimizer for device_type GPU is enabled.\n"
          ]
        },
        {
          "name": "stdout",
          "output_type": "stream",
          "text": [
            "1/1 [==============================] - 0s 69ms/step\n",
            "1/1 [==============================] - 0s 68ms/step\n"
          ]
        },
        {
          "name": "stderr",
          "output_type": "stream",
          "text": [
            "2022-09-01 16:16:52.738919: I tensorflow/core/grappler/optimizers/custom_graph_optimizer_registry.cc:113] Plugin optimizer for device_type GPU is enabled.\n"
          ]
        },
        {
          "name": "stdout",
          "output_type": "stream",
          "text": [
            "1/1 [==============================] - 0s 87ms/step\n"
          ]
        },
        {
          "name": "stderr",
          "output_type": "stream",
          "text": [
            "2022-09-01 16:16:52.950750: I tensorflow/core/grappler/optimizers/custom_graph_optimizer_registry.cc:113] Plugin optimizer for device_type GPU is enabled.\n"
          ]
        },
        {
          "name": "stdout",
          "output_type": "stream",
          "text": [
            "1/1 [==============================] - 0s 114ms/step\n"
          ]
        },
        {
          "name": "stderr",
          "output_type": "stream",
          "text": [
            "2022-09-01 16:16:53.222376: I tensorflow/core/grappler/optimizers/custom_graph_optimizer_registry.cc:113] Plugin optimizer for device_type GPU is enabled.\n"
          ]
        },
        {
          "name": "stdout",
          "output_type": "stream",
          "text": [
            "1/1 [==============================] - 0s 97ms/step\n"
          ]
        },
        {
          "name": "stderr",
          "output_type": "stream",
          "text": [
            "2022-09-01 16:16:54.663627: I tensorflow/core/grappler/optimizers/custom_graph_optimizer_registry.cc:113] Plugin optimizer for device_type GPU is enabled.\n"
          ]
        },
        {
          "name": "stdout",
          "output_type": "stream",
          "text": [
            "1/1 [==============================] - 0s 110ms/step\n"
          ]
        },
        {
          "name": "stderr",
          "output_type": "stream",
          "text": [
            "2022-09-01 16:16:55.031471: I tensorflow/core/grappler/optimizers/custom_graph_optimizer_registry.cc:113] Plugin optimizer for device_type GPU is enabled.\n"
          ]
        },
        {
          "name": "stdout",
          "output_type": "stream",
          "text": [
            "1/1 [==============================] - 0s 91ms/step\n"
          ]
        },
        {
          "name": "stderr",
          "output_type": "stream",
          "text": [
            "2022-09-01 16:16:55.315797: I tensorflow/core/grappler/optimizers/custom_graph_optimizer_registry.cc:113] Plugin optimizer for device_type GPU is enabled.\n"
          ]
        },
        {
          "name": "stdout",
          "output_type": "stream",
          "text": [
            "1/1 [==============================] - 0s 125ms/step\n"
          ]
        },
        {
          "name": "stderr",
          "output_type": "stream",
          "text": [
            "2022-09-01 16:16:55.717216: I tensorflow/core/grappler/optimizers/custom_graph_optimizer_registry.cc:113] Plugin optimizer for device_type GPU is enabled.\n"
          ]
        },
        {
          "name": "stdout",
          "output_type": "stream",
          "text": [
            "1/1 [==============================] - 0s 96ms/step\n"
          ]
        },
        {
          "name": "stderr",
          "output_type": "stream",
          "text": [
            "2022-09-01 16:16:56.028865: I tensorflow/core/grappler/optimizers/custom_graph_optimizer_registry.cc:113] Plugin optimizer for device_type GPU is enabled.\n"
          ]
        },
        {
          "name": "stdout",
          "output_type": "stream",
          "text": [
            "1/1 [==============================] - 0s 132ms/step\n"
          ]
        },
        {
          "name": "stderr",
          "output_type": "stream",
          "text": [
            "2022-09-01 16:16:56.316287: I tensorflow/core/grappler/optimizers/custom_graph_optimizer_registry.cc:113] Plugin optimizer for device_type GPU is enabled.\n"
          ]
        },
        {
          "name": "stdout",
          "output_type": "stream",
          "text": [
            "1/1 [==============================] - 0s 112ms/step\n"
          ]
        },
        {
          "name": "stderr",
          "output_type": "stream",
          "text": [
            "2022-09-01 16:16:56.642243: I tensorflow/core/grappler/optimizers/custom_graph_optimizer_registry.cc:113] Plugin optimizer for device_type GPU is enabled.\n"
          ]
        },
        {
          "name": "stdout",
          "output_type": "stream",
          "text": [
            "1/1 [==============================] - 0s 109ms/step\n"
          ]
        },
        {
          "name": "stderr",
          "output_type": "stream",
          "text": [
            "2022-09-01 16:16:57.008882: I tensorflow/core/grappler/optimizers/custom_graph_optimizer_registry.cc:113] Plugin optimizer for device_type GPU is enabled.\n"
          ]
        },
        {
          "name": "stdout",
          "output_type": "stream",
          "text": [
            "1/1 [==============================] - 0s 105ms/step\n"
          ]
        },
        {
          "name": "stderr",
          "output_type": "stream",
          "text": [
            "2022-09-01 16:16:57.282676: I tensorflow/core/grappler/optimizers/custom_graph_optimizer_registry.cc:113] Plugin optimizer for device_type GPU is enabled.\n"
          ]
        },
        {
          "name": "stdout",
          "output_type": "stream",
          "text": [
            "1/1 [==============================] - 0s 83ms/step\n"
          ]
        },
        {
          "name": "stderr",
          "output_type": "stream",
          "text": [
            "2022-09-01 16:16:57.524592: I tensorflow/core/grappler/optimizers/custom_graph_optimizer_registry.cc:113] Plugin optimizer for device_type GPU is enabled.\n"
          ]
        },
        {
          "name": "stdout",
          "output_type": "stream",
          "text": [
            "1/1 [==============================] - 0s 124ms/step\n"
          ]
        },
        {
          "name": "stderr",
          "output_type": "stream",
          "text": [
            "2022-09-01 16:16:57.786768: I tensorflow/core/grappler/optimizers/custom_graph_optimizer_registry.cc:113] Plugin optimizer for device_type GPU is enabled.\n"
          ]
        },
        {
          "name": "stdout",
          "output_type": "stream",
          "text": [
            "1/1 [==============================] - 0s 93ms/step\n"
          ]
        },
        {
          "name": "stderr",
          "output_type": "stream",
          "text": [
            "2022-09-01 16:16:58.110757: I tensorflow/core/grappler/optimizers/custom_graph_optimizer_registry.cc:113] Plugin optimizer for device_type GPU is enabled.\n"
          ]
        },
        {
          "name": "stdout",
          "output_type": "stream",
          "text": [
            "1/1 [==============================] - 0s 93ms/step\n"
          ]
        },
        {
          "name": "stderr",
          "output_type": "stream",
          "text": [
            "2022-09-01 16:16:58.354749: I tensorflow/core/grappler/optimizers/custom_graph_optimizer_registry.cc:113] Plugin optimizer for device_type GPU is enabled.\n",
            " 80%|████████  | 8/10 [00:44<00:12,  6.45s/it]"
          ]
        },
        {
          "name": "stdout",
          "output_type": "stream",
          "text": [
            "1/1 [==============================] - 0s 102ms/step\n"
          ]
        },
        {
          "name": "stderr",
          "output_type": "stream",
          "text": [
            "2022-09-01 16:16:58.638629: I tensorflow/core/grappler/optimizers/custom_graph_optimizer_registry.cc:113] Plugin optimizer for device_type GPU is enabled.\n"
          ]
        },
        {
          "name": "stdout",
          "output_type": "stream",
          "text": [
            "1/1 [==============================] - 0s 114ms/step\n"
          ]
        },
        {
          "name": "stderr",
          "output_type": "stream",
          "text": [
            "2022-09-01 16:16:58.957892: I tensorflow/core/grappler/optimizers/custom_graph_optimizer_registry.cc:113] Plugin optimizer for device_type GPU is enabled.\n"
          ]
        },
        {
          "name": "stdout",
          "output_type": "stream",
          "text": [
            "1/1 [==============================] - 0s 122ms/step\n"
          ]
        },
        {
          "name": "stderr",
          "output_type": "stream",
          "text": [
            "2022-09-01 16:16:59.323212: I tensorflow/core/grappler/optimizers/custom_graph_optimizer_registry.cc:113] Plugin optimizer for device_type GPU is enabled.\n"
          ]
        },
        {
          "name": "stdout",
          "output_type": "stream",
          "text": [
            "1/1 [==============================] - 0s 108ms/step\n"
          ]
        },
        {
          "name": "stderr",
          "output_type": "stream",
          "text": [
            "2022-09-01 16:16:59.617399: I tensorflow/core/grappler/optimizers/custom_graph_optimizer_registry.cc:113] Plugin optimizer for device_type GPU is enabled.\n"
          ]
        },
        {
          "name": "stdout",
          "output_type": "stream",
          "text": [
            "1/1 [==============================] - 0s 142ms/step\n"
          ]
        },
        {
          "name": "stderr",
          "output_type": "stream",
          "text": [
            "2022-09-01 16:16:59.915412: I tensorflow/core/grappler/optimizers/custom_graph_optimizer_registry.cc:113] Plugin optimizer for device_type GPU is enabled.\n"
          ]
        },
        {
          "name": "stdout",
          "output_type": "stream",
          "text": [
            "1/1 [==============================] - 0s 115ms/step\n"
          ]
        },
        {
          "name": "stderr",
          "output_type": "stream",
          "text": [
            "2022-09-01 16:17:00.236672: I tensorflow/core/grappler/optimizers/custom_graph_optimizer_registry.cc:113] Plugin optimizer for device_type GPU is enabled.\n"
          ]
        },
        {
          "name": "stdout",
          "output_type": "stream",
          "text": [
            "1/1 [==============================] - 0s 128ms/step\n"
          ]
        },
        {
          "name": "stderr",
          "output_type": "stream",
          "text": [
            "2022-09-01 16:17:00.632451: I tensorflow/core/grappler/optimizers/custom_graph_optimizer_registry.cc:113] Plugin optimizer for device_type GPU is enabled.\n"
          ]
        },
        {
          "name": "stdout",
          "output_type": "stream",
          "text": [
            "1/1 [==============================] - 0s 199ms/step\n"
          ]
        },
        {
          "name": "stderr",
          "output_type": "stream",
          "text": [
            "2022-09-01 16:17:01.073509: I tensorflow/core/grappler/optimizers/custom_graph_optimizer_registry.cc:113] Plugin optimizer for device_type GPU is enabled.\n"
          ]
        },
        {
          "name": "stdout",
          "output_type": "stream",
          "text": [
            "1/1 [==============================] - 0s 108ms/step\n"
          ]
        },
        {
          "name": "stderr",
          "output_type": "stream",
          "text": [
            "2022-09-01 16:17:01.422890: I tensorflow/core/grappler/optimizers/custom_graph_optimizer_registry.cc:113] Plugin optimizer for device_type GPU is enabled.\n"
          ]
        },
        {
          "name": "stdout",
          "output_type": "stream",
          "text": [
            "1/1 [==============================] - 0s 92ms/step\n"
          ]
        },
        {
          "name": "stderr",
          "output_type": "stream",
          "text": [
            "2022-09-01 16:17:01.680040: I tensorflow/core/grappler/optimizers/custom_graph_optimizer_registry.cc:113] Plugin optimizer for device_type GPU is enabled.\n"
          ]
        },
        {
          "name": "stdout",
          "output_type": "stream",
          "text": [
            "1/1 [==============================] - 0s 130ms/step\n"
          ]
        },
        {
          "name": "stderr",
          "output_type": "stream",
          "text": [
            "2022-09-01 16:17:01.976739: I tensorflow/core/grappler/optimizers/custom_graph_optimizer_registry.cc:113] Plugin optimizer for device_type GPU is enabled.\n"
          ]
        },
        {
          "name": "stdout",
          "output_type": "stream",
          "text": [
            "1/1 [==============================] - 0s 99ms/step\n"
          ]
        },
        {
          "name": "stderr",
          "output_type": "stream",
          "text": [
            "2022-09-01 16:17:02.279410: I tensorflow/core/grappler/optimizers/custom_graph_optimizer_registry.cc:113] Plugin optimizer for device_type GPU is enabled.\n"
          ]
        },
        {
          "name": "stdout",
          "output_type": "stream",
          "text": [
            "1/1 [==============================] - 0s 80ms/step\n"
          ]
        },
        {
          "name": "stderr",
          "output_type": "stream",
          "text": [
            "2022-09-01 16:17:02.528156: I tensorflow/core/grappler/optimizers/custom_graph_optimizer_registry.cc:113] Plugin optimizer for device_type GPU is enabled.\n"
          ]
        },
        {
          "name": "stdout",
          "output_type": "stream",
          "text": [
            "1/1 [==============================] - 0s 140ms/step\n"
          ]
        },
        {
          "name": "stderr",
          "output_type": "stream",
          "text": [
            "2022-09-01 16:17:02.813881: I tensorflow/core/grappler/optimizers/custom_graph_optimizer_registry.cc:113] Plugin optimizer for device_type GPU is enabled.\n"
          ]
        },
        {
          "name": "stdout",
          "output_type": "stream",
          "text": [
            "1/1 [==============================] - 0s 155ms/step\n"
          ]
        },
        {
          "name": "stderr",
          "output_type": "stream",
          "text": [
            "2022-09-01 16:17:03.260271: I tensorflow/core/grappler/optimizers/custom_graph_optimizer_registry.cc:113] Plugin optimizer for device_type GPU is enabled.\n"
          ]
        },
        {
          "name": "stdout",
          "output_type": "stream",
          "text": [
            "1/1 [==============================] - 0s 131ms/step\n"
          ]
        },
        {
          "name": "stderr",
          "output_type": "stream",
          "text": [
            "2022-09-01 16:17:03.658126: I tensorflow/core/grappler/optimizers/custom_graph_optimizer_registry.cc:113] Plugin optimizer for device_type GPU is enabled.\n"
          ]
        },
        {
          "name": "stdout",
          "output_type": "stream",
          "text": [
            "1/1 [==============================] - 0s 150ms/step\n"
          ]
        },
        {
          "name": "stderr",
          "output_type": "stream",
          "text": [
            "2022-09-01 16:17:04.053230: I tensorflow/core/grappler/optimizers/custom_graph_optimizer_registry.cc:113] Plugin optimizer for device_type GPU is enabled.\n"
          ]
        },
        {
          "name": "stdout",
          "output_type": "stream",
          "text": [
            "1/1 [==============================] - 0s 101ms/step\n"
          ]
        },
        {
          "name": "stderr",
          "output_type": "stream",
          "text": [
            "2022-09-01 16:17:04.390287: I tensorflow/core/grappler/optimizers/custom_graph_optimizer_registry.cc:113] Plugin optimizer for device_type GPU is enabled.\n"
          ]
        },
        {
          "name": "stdout",
          "output_type": "stream",
          "text": [
            "1/1 [==============================] - 0s 104ms/step\n"
          ]
        },
        {
          "name": "stderr",
          "output_type": "stream",
          "text": [
            "2022-09-01 16:17:04.664691: I tensorflow/core/grappler/optimizers/custom_graph_optimizer_registry.cc:113] Plugin optimizer for device_type GPU is enabled.\n"
          ]
        },
        {
          "name": "stdout",
          "output_type": "stream",
          "text": [
            "1/1 [==============================] - 0s 100ms/step\n"
          ]
        },
        {
          "name": "stderr",
          "output_type": "stream",
          "text": [
            "2022-09-01 16:17:04.951305: I tensorflow/core/grappler/optimizers/custom_graph_optimizer_registry.cc:113] Plugin optimizer for device_type GPU is enabled.\n"
          ]
        },
        {
          "name": "stdout",
          "output_type": "stream",
          "text": [
            "1/1 [==============================] - 0s 106ms/step\n"
          ]
        },
        {
          "name": "stderr",
          "output_type": "stream",
          "text": [
            "2022-09-01 16:17:05.252108: I tensorflow/core/grappler/optimizers/custom_graph_optimizer_registry.cc:113] Plugin optimizer for device_type GPU is enabled.\n"
          ]
        },
        {
          "name": "stdout",
          "output_type": "stream",
          "text": [
            "1/1 [==============================] - 0s 112ms/step\n"
          ]
        },
        {
          "name": "stderr",
          "output_type": "stream",
          "text": [
            "2022-09-01 16:17:05.555525: I tensorflow/core/grappler/optimizers/custom_graph_optimizer_registry.cc:113] Plugin optimizer for device_type GPU is enabled.\n"
          ]
        },
        {
          "name": "stdout",
          "output_type": "stream",
          "text": [
            "1/1 [==============================] - 0s 79ms/step\n"
          ]
        },
        {
          "name": "stderr",
          "output_type": "stream",
          "text": [
            "2022-09-01 16:17:05.797939: I tensorflow/core/grappler/optimizers/custom_graph_optimizer_registry.cc:113] Plugin optimizer for device_type GPU is enabled.\n",
            "2022-09-01 16:17:05.987951: I tensorflow/core/grappler/optimizers/custom_graph_optimizer_registry.cc:113] Plugin optimizer for device_type GPU is enabled.\n"
          ]
        },
        {
          "name": "stdout",
          "output_type": "stream",
          "text": [
            "1/1 [==============================] - 0s 57ms/step\n",
            "1/1 [==============================] - 0s 60ms/step\n",
            "1/1 [==============================] - 0s 61ms/step\n"
          ]
        },
        {
          "name": "stderr",
          "output_type": "stream",
          "text": [
            "2022-09-01 16:17:06.146597: I tensorflow/core/grappler/optimizers/custom_graph_optimizer_registry.cc:113] Plugin optimizer for device_type GPU is enabled.\n",
            "2022-09-01 16:17:06.311497: I tensorflow/core/grappler/optimizers/custom_graph_optimizer_registry.cc:113] Plugin optimizer for device_type GPU is enabled.\n"
          ]
        },
        {
          "name": "stdout",
          "output_type": "stream",
          "text": [
            "1/1 [==============================] - 0s 71ms/step\n"
          ]
        },
        {
          "name": "stderr",
          "output_type": "stream",
          "text": [
            "2022-09-01 16:17:06.490311: I tensorflow/core/grappler/optimizers/custom_graph_optimizer_registry.cc:113] Plugin optimizer for device_type GPU is enabled.\n",
            "2022-09-01 16:17:06.676022: I tensorflow/core/grappler/optimizers/custom_graph_optimizer_registry.cc:113] Plugin optimizer for device_type GPU is enabled.\n"
          ]
        },
        {
          "name": "stdout",
          "output_type": "stream",
          "text": [
            "1/1 [==============================] - 0s 65ms/step\n",
            "1/1 [==============================] - 0s 61ms/step\n"
          ]
        },
        {
          "name": "stderr",
          "output_type": "stream",
          "text": [
            "2022-09-01 16:17:06.866972: I tensorflow/core/grappler/optimizers/custom_graph_optimizer_registry.cc:113] Plugin optimizer for device_type GPU is enabled.\n",
            "2022-09-01 16:17:07.057655: I tensorflow/core/grappler/optimizers/custom_graph_optimizer_registry.cc:113] Plugin optimizer for device_type GPU is enabled.\n"
          ]
        },
        {
          "name": "stdout",
          "output_type": "stream",
          "text": [
            "1/1 [==============================] - 0s 79ms/step\n",
            "1/1 [==============================] - 0s 93ms/step\n"
          ]
        },
        {
          "name": "stderr",
          "output_type": "stream",
          "text": [
            "2022-09-01 16:17:07.286570: I tensorflow/core/grappler/optimizers/custom_graph_optimizer_registry.cc:113] Plugin optimizer for device_type GPU is enabled.\n"
          ]
        },
        {
          "name": "stdout",
          "output_type": "stream",
          "text": [
            "1/1 [==============================] - 0s 95ms/step\n"
          ]
        },
        {
          "name": "stderr",
          "output_type": "stream",
          "text": [
            "2022-09-01 16:17:07.531489: I tensorflow/core/grappler/optimizers/custom_graph_optimizer_registry.cc:113] Plugin optimizer for device_type GPU is enabled.\n"
          ]
        },
        {
          "name": "stdout",
          "output_type": "stream",
          "text": [
            "1/1 [==============================] - 0s 88ms/step\n"
          ]
        },
        {
          "name": "stderr",
          "output_type": "stream",
          "text": [
            "2022-09-01 16:17:07.801471: I tensorflow/core/grappler/optimizers/custom_graph_optimizer_registry.cc:113] Plugin optimizer for device_type GPU is enabled.\n"
          ]
        },
        {
          "name": "stdout",
          "output_type": "stream",
          "text": [
            "1/1 [==============================] - 0s 74ms/step\n"
          ]
        },
        {
          "name": "stderr",
          "output_type": "stream",
          "text": [
            "2022-09-01 16:17:08.027143: I tensorflow/core/grappler/optimizers/custom_graph_optimizer_registry.cc:113] Plugin optimizer for device_type GPU is enabled.\n",
            "2022-09-01 16:17:08.218764: I tensorflow/core/grappler/optimizers/custom_graph_optimizer_registry.cc:113] Plugin optimizer for device_type GPU is enabled.\n"
          ]
        },
        {
          "name": "stdout",
          "output_type": "stream",
          "text": [
            "1/1 [==============================] - 0s 77ms/step\n",
            "1/1 [==============================] - 0s 86ms/step\n"
          ]
        },
        {
          "name": "stderr",
          "output_type": "stream",
          "text": [
            "2022-09-01 16:17:08.487732: I tensorflow/core/grappler/optimizers/custom_graph_optimizer_registry.cc:113] Plugin optimizer for device_type GPU is enabled.\n"
          ]
        },
        {
          "name": "stdout",
          "output_type": "stream",
          "text": [
            "1/1 [==============================] - 0s 76ms/step\n"
          ]
        },
        {
          "name": "stderr",
          "output_type": "stream",
          "text": [
            "2022-09-01 16:17:08.700156: I tensorflow/core/grappler/optimizers/custom_graph_optimizer_registry.cc:113] Plugin optimizer for device_type GPU is enabled.\n",
            " 90%|█████████ | 9/10 [00:55<00:07,  7.67s/it]"
          ]
        },
        {
          "name": "stdout",
          "output_type": "stream",
          "text": [
            "1/1 [==============================] - 0s 78ms/step\n"
          ]
        },
        {
          "name": "stderr",
          "output_type": "stream",
          "text": [
            "2022-09-01 16:17:08.918904: I tensorflow/core/grappler/optimizers/custom_graph_optimizer_registry.cc:113] Plugin optimizer for device_type GPU is enabled.\n"
          ]
        },
        {
          "name": "stdout",
          "output_type": "stream",
          "text": [
            "1/1 [==============================] - 0s 93ms/step\n"
          ]
        },
        {
          "name": "stderr",
          "output_type": "stream",
          "text": [
            "2022-09-01 16:17:09.166852: I tensorflow/core/grappler/optimizers/custom_graph_optimizer_registry.cc:113] Plugin optimizer for device_type GPU is enabled.\n"
          ]
        },
        {
          "name": "stdout",
          "output_type": "stream",
          "text": [
            "1/1 [==============================] - 0s 72ms/step\n"
          ]
        },
        {
          "name": "stderr",
          "output_type": "stream",
          "text": [
            "2022-09-01 16:17:09.377563: I tensorflow/core/grappler/optimizers/custom_graph_optimizer_registry.cc:113] Plugin optimizer for device_type GPU is enabled.\n",
            "2022-09-01 16:17:09.573526: I tensorflow/core/grappler/optimizers/custom_graph_optimizer_registry.cc:113] Plugin optimizer for device_type GPU is enabled.\n"
          ]
        },
        {
          "name": "stdout",
          "output_type": "stream",
          "text": [
            "1/1 [==============================] - 0s 78ms/step\n",
            "1/1 [==============================] - 0s 80ms/step\n"
          ]
        },
        {
          "name": "stderr",
          "output_type": "stream",
          "text": [
            "2022-09-01 16:17:09.813032: I tensorflow/core/grappler/optimizers/custom_graph_optimizer_registry.cc:113] Plugin optimizer for device_type GPU is enabled.\n"
          ]
        },
        {
          "name": "stdout",
          "output_type": "stream",
          "text": [
            "1/1 [==============================] - 0s 96ms/step\n"
          ]
        },
        {
          "name": "stderr",
          "output_type": "stream",
          "text": [
            "2022-09-01 16:17:10.063837: I tensorflow/core/grappler/optimizers/custom_graph_optimizer_registry.cc:113] Plugin optimizer for device_type GPU is enabled.\n"
          ]
        },
        {
          "name": "stdout",
          "output_type": "stream",
          "text": [
            "1/1 [==============================] - 0s 109ms/step\n"
          ]
        },
        {
          "name": "stderr",
          "output_type": "stream",
          "text": [
            "2022-09-01 16:17:10.329786: I tensorflow/core/grappler/optimizers/custom_graph_optimizer_registry.cc:113] Plugin optimizer for device_type GPU is enabled.\n"
          ]
        },
        {
          "name": "stdout",
          "output_type": "stream",
          "text": [
            "1/1 [==============================] - 0s 93ms/step\n"
          ]
        },
        {
          "name": "stderr",
          "output_type": "stream",
          "text": [
            "2022-09-01 16:17:10.603458: I tensorflow/core/grappler/optimizers/custom_graph_optimizer_registry.cc:113] Plugin optimizer for device_type GPU is enabled.\n"
          ]
        },
        {
          "name": "stdout",
          "output_type": "stream",
          "text": [
            "1/1 [==============================] - 0s 91ms/step\n"
          ]
        },
        {
          "name": "stderr",
          "output_type": "stream",
          "text": [
            "2022-09-01 16:17:10.856992: I tensorflow/core/grappler/optimizers/custom_graph_optimizer_registry.cc:113] Plugin optimizer for device_type GPU is enabled.\n"
          ]
        },
        {
          "name": "stdout",
          "output_type": "stream",
          "text": [
            "1/1 [==============================] - 0s 73ms/step\n"
          ]
        },
        {
          "name": "stderr",
          "output_type": "stream",
          "text": [
            "2022-09-01 16:17:11.079146: I tensorflow/core/grappler/optimizers/custom_graph_optimizer_registry.cc:113] Plugin optimizer for device_type GPU is enabled.\n"
          ]
        },
        {
          "name": "stdout",
          "output_type": "stream",
          "text": [
            "1/1 [==============================] - 0s 89ms/step\n"
          ]
        },
        {
          "name": "stderr",
          "output_type": "stream",
          "text": [
            "2022-09-01 16:17:11.317871: I tensorflow/core/grappler/optimizers/custom_graph_optimizer_registry.cc:113] Plugin optimizer for device_type GPU is enabled.\n"
          ]
        },
        {
          "name": "stdout",
          "output_type": "stream",
          "text": [
            "1/1 [==============================] - 0s 73ms/step\n"
          ]
        },
        {
          "name": "stderr",
          "output_type": "stream",
          "text": [
            "2022-09-01 16:17:11.529647: I tensorflow/core/grappler/optimizers/custom_graph_optimizer_registry.cc:113] Plugin optimizer for device_type GPU is enabled.\n",
            "2022-09-01 16:17:11.719801: I tensorflow/core/grappler/optimizers/custom_graph_optimizer_registry.cc:113] Plugin optimizer for device_type GPU is enabled.\n"
          ]
        },
        {
          "name": "stdout",
          "output_type": "stream",
          "text": [
            "1/1 [==============================] - 0s 58ms/step\n",
            "1/1 [==============================] - 0s 60ms/step\n"
          ]
        },
        {
          "name": "stderr",
          "output_type": "stream",
          "text": [
            "2022-09-01 16:17:11.876474: I tensorflow/core/grappler/optimizers/custom_graph_optimizer_registry.cc:113] Plugin optimizer for device_type GPU is enabled.\n"
          ]
        },
        {
          "name": "stdout",
          "output_type": "stream",
          "text": [
            "1/1 [==============================] - 0s 57ms/step\n",
            "1/1 [==============================] - 0s 58ms/step\n"
          ]
        },
        {
          "name": "stderr",
          "output_type": "stream",
          "text": [
            "2022-09-01 16:17:12.091505: I tensorflow/core/grappler/optimizers/custom_graph_optimizer_registry.cc:113] Plugin optimizer for device_type GPU is enabled.\n",
            "2022-09-01 16:17:12.248776: I tensorflow/core/grappler/optimizers/custom_graph_optimizer_registry.cc:113] Plugin optimizer for device_type GPU is enabled.\n"
          ]
        },
        {
          "name": "stdout",
          "output_type": "stream",
          "text": [
            "1/1 [==============================] - 0s 54ms/step\n",
            "1/1 [==============================] - 0s 56ms/step\n"
          ]
        },
        {
          "name": "stderr",
          "output_type": "stream",
          "text": [
            "2022-09-01 16:17:12.419234: I tensorflow/core/grappler/optimizers/custom_graph_optimizer_registry.cc:113] Plugin optimizer for device_type GPU is enabled.\n",
            "2022-09-01 16:17:12.569514: I tensorflow/core/grappler/optimizers/custom_graph_optimizer_registry.cc:113] Plugin optimizer for device_type GPU is enabled.\n"
          ]
        },
        {
          "name": "stdout",
          "output_type": "stream",
          "text": [
            "1/1 [==============================] - 0s 54ms/step\n",
            "1/1 [==============================] - 0s 66ms/step\n"
          ]
        },
        {
          "name": "stderr",
          "output_type": "stream",
          "text": [
            "2022-09-01 16:17:12.715030: I tensorflow/core/grappler/optimizers/custom_graph_optimizer_registry.cc:113] Plugin optimizer for device_type GPU is enabled.\n",
            "2022-09-01 16:17:12.874795: I tensorflow/core/grappler/optimizers/custom_graph_optimizer_registry.cc:113] Plugin optimizer for device_type GPU is enabled.\n"
          ]
        },
        {
          "name": "stdout",
          "output_type": "stream",
          "text": [
            "1/1 [==============================] - 0s 78ms/step\n"
          ]
        },
        {
          "name": "stderr",
          "output_type": "stream",
          "text": [
            "2022-09-01 16:17:13.083713: I tensorflow/core/grappler/optimizers/custom_graph_optimizer_registry.cc:113] Plugin optimizer for device_type GPU is enabled.\n",
            "2022-09-01 16:17:13.273187: I tensorflow/core/grappler/optimizers/custom_graph_optimizer_registry.cc:113] Plugin optimizer for device_type GPU is enabled.\n"
          ]
        },
        {
          "name": "stdout",
          "output_type": "stream",
          "text": [
            "1/1 [==============================] - 0s 73ms/step\n",
            "1/1 [==============================] - 0s 70ms/step\n"
          ]
        },
        {
          "name": "stderr",
          "output_type": "stream",
          "text": [
            "2022-09-01 16:17:13.455303: I tensorflow/core/grappler/optimizers/custom_graph_optimizer_registry.cc:113] Plugin optimizer for device_type GPU is enabled.\n",
            "2022-09-01 16:17:13.635851: I tensorflow/core/grappler/optimizers/custom_graph_optimizer_registry.cc:113] Plugin optimizer for device_type GPU is enabled.\n"
          ]
        },
        {
          "name": "stdout",
          "output_type": "stream",
          "text": [
            "1/1 [==============================] - 0s 60ms/step\n",
            "1/1 [==============================] - 0s 86ms/step\n"
          ]
        },
        {
          "name": "stderr",
          "output_type": "stream",
          "text": [
            "2022-09-01 16:17:13.862869: I tensorflow/core/grappler/optimizers/custom_graph_optimizer_registry.cc:113] Plugin optimizer for device_type GPU is enabled.\n"
          ]
        },
        {
          "name": "stdout",
          "output_type": "stream",
          "text": [
            "1/1 [==============================] - 0s 94ms/step\n"
          ]
        },
        {
          "name": "stderr",
          "output_type": "stream",
          "text": [
            "2022-09-01 16:17:14.109693: I tensorflow/core/grappler/optimizers/custom_graph_optimizer_registry.cc:113] Plugin optimizer for device_type GPU is enabled.\n"
          ]
        },
        {
          "name": "stdout",
          "output_type": "stream",
          "text": [
            "1/1 [==============================] - 0s 67ms/step\n"
          ]
        },
        {
          "name": "stderr",
          "output_type": "stream",
          "text": [
            "2022-09-01 16:17:14.322666: I tensorflow/core/grappler/optimizers/custom_graph_optimizer_registry.cc:113] Plugin optimizer for device_type GPU is enabled.\n"
          ]
        },
        {
          "name": "stdout",
          "output_type": "stream",
          "text": [
            "1/1 [==============================] - 0s 92ms/step\n"
          ]
        },
        {
          "name": "stderr",
          "output_type": "stream",
          "text": [
            "2022-09-01 16:17:14.551340: I tensorflow/core/grappler/optimizers/custom_graph_optimizer_registry.cc:113] Plugin optimizer for device_type GPU is enabled.\n"
          ]
        },
        {
          "name": "stdout",
          "output_type": "stream",
          "text": [
            "1/1 [==============================] - 0s 88ms/step\n"
          ]
        },
        {
          "name": "stderr",
          "output_type": "stream",
          "text": [
            "2022-09-01 16:17:14.777065: I tensorflow/core/grappler/optimizers/custom_graph_optimizer_registry.cc:113] Plugin optimizer for device_type GPU is enabled.\n"
          ]
        },
        {
          "name": "stdout",
          "output_type": "stream",
          "text": [
            "1/1 [==============================] - 0s 75ms/step\n"
          ]
        },
        {
          "name": "stderr",
          "output_type": "stream",
          "text": [
            "2022-09-01 16:17:14.988353: I tensorflow/core/grappler/optimizers/custom_graph_optimizer_registry.cc:113] Plugin optimizer for device_type GPU is enabled.\n"
          ]
        },
        {
          "name": "stdout",
          "output_type": "stream",
          "text": [
            "1/1 [==============================] - 0s 85ms/step\n"
          ]
        },
        {
          "name": "stderr",
          "output_type": "stream",
          "text": [
            "2022-09-01 16:17:15.233767: I tensorflow/core/grappler/optimizers/custom_graph_optimizer_registry.cc:113] Plugin optimizer for device_type GPU is enabled.\n"
          ]
        },
        {
          "name": "stdout",
          "output_type": "stream",
          "text": [
            "1/1 [==============================] - 0s 90ms/step\n"
          ]
        },
        {
          "name": "stderr",
          "output_type": "stream",
          "text": [
            "2022-09-01 16:17:15.476817: I tensorflow/core/grappler/optimizers/custom_graph_optimizer_registry.cc:113] Plugin optimizer for device_type GPU is enabled.\n",
            "2022-09-01 16:17:15.672892: I tensorflow/core/grappler/optimizers/custom_graph_optimizer_registry.cc:113] Plugin optimizer for device_type GPU is enabled.\n"
          ]
        },
        {
          "name": "stdout",
          "output_type": "stream",
          "text": [
            "1/1 [==============================] - 0s 71ms/step\n",
            "1/1 [==============================] - 0s 69ms/step\n"
          ]
        },
        {
          "name": "stderr",
          "output_type": "stream",
          "text": [
            "2022-09-01 16:17:15.871929: I tensorflow/core/grappler/optimizers/custom_graph_optimizer_registry.cc:113] Plugin optimizer for device_type GPU is enabled.\n"
          ]
        },
        {
          "name": "stdout",
          "output_type": "stream",
          "text": [
            "1/1 [==============================] - 0s 74ms/step\n"
          ]
        },
        {
          "name": "stderr",
          "output_type": "stream",
          "text": [
            "2022-09-01 16:17:16.081153: I tensorflow/core/grappler/optimizers/custom_graph_optimizer_registry.cc:113] Plugin optimizer for device_type GPU is enabled.\n"
          ]
        },
        {
          "name": "stdout",
          "output_type": "stream",
          "text": [
            "1/1 [==============================] - 0s 71ms/step\n",
            "1/1 [==============================] - 0s 61ms/step\n"
          ]
        },
        {
          "name": "stderr",
          "output_type": "stream",
          "text": [
            "2022-09-01 16:17:16.314714: I tensorflow/core/grappler/optimizers/custom_graph_optimizer_registry.cc:113] Plugin optimizer for device_type GPU is enabled.\n",
            "2022-09-01 16:17:16.478442: I tensorflow/core/grappler/optimizers/custom_graph_optimizer_registry.cc:113] Plugin optimizer for device_type GPU is enabled.\n",
            "100%|██████████| 10/10 [01:03<00:00,  6.30s/it]\n"
          ]
        }
      ],
      "source": [
        "zero_csv = [0 for i in range(14)]  # 시점이 비어있는 데이터 0으로 채우기 위한 변수\n",
        "\n",
        "for i in tqdm(range(10)):\n",
        "    data_list = glob(f'./aT_data/data/test/set_{i}/*.csv')\n",
        "    for idx,j in enumerate(data_list):\n",
        "        df = pd.read_csv(j)\n",
        "\n",
        "        if len(df) == 0:\n",
        "            df['zero_non'] = zero_csv\n",
        "            df = df.fillna(0)\n",
        "            df.drop('zero_non', axis=1, inplace=True)\n",
        "\n",
        "\n",
        "        file_number = j.split('test_')[1].split('.')[0]\n",
        "\n",
        "        # 사용할 열 선택, index 설정\n",
        "        df.drop(ts_del_list, axis=1, inplace=True)\n",
        "        df.set_index('datadate', drop=True, inplace=True)\n",
        "\n",
        "        # train input 과 형상 맞추기\n",
        "        add_col = [i for i in check_col if i not in df.columns]\n",
        "\n",
        "        for a in add_col:\n",
        "            df[a] = 0\n",
        "\n",
        "        # ' ' -> nan 으로 변경\n",
        "        for a in df.columns:\n",
        "            df[a] = df[a].replace({' ': np.nan})\n",
        "\n",
        "        # nan 처리\n",
        "        df = df.fillna(0)\n",
        "\n",
        "        # x_test  생성\n",
        "        df_test = astype_data(df.values.reshape(1, df.values.shape[0], df.values.shape[1]))\n",
        "\n",
        "        # model test\n",
        "        if os.path.exists('./model_output') == False:\n",
        "            os.mkdir(f'./model_output/{test_num}')\n",
        "\n",
        "        if os.path.exists(f'./model_output/{test_num}/set_{i}') == False:\n",
        "            os.mkdir(f'./model_output/{test_num}/set_{i}')\n",
        "\n",
        "        # 해당하는 모델 불러오기\n",
        "        model_test = tf.keras.models.load_model(f'./model/transformer-{file_number}-{epoch}-{batch}.h5')\n",
        "        pred = model_test.predict(df_test)\n",
        "\n",
        "\n",
        "        # 결과 저장\n",
        "        save_df = pd.DataFrame(pred).T\n",
        "        save_df.to_csv(f'./model_output/{test_num}/set_{i}/predict_{file_number}.csv', index=False)"
      ]
    },
    {
      "cell_type": "markdown",
      "metadata": {
        "id": "jaiVnMjZVGIQ"
      },
      "source": [
        "&nbsp;"
      ]
    },
    {
      "cell_type": "markdown",
      "metadata": {
        "id": "oBzRP7HJVHaP"
      },
      "source": [
        "## 정답 제출 파일생성"
      ]
    },
    {
      "cell_type": "code",
      "execution_count": null,
      "metadata": {
        "id": "_LnvUoVirpYL"
      },
      "outputs": [
        {
          "name": "stderr",
          "output_type": "stream",
          "text": [
            "100%|██████████| 10/10 [00:01<00:00,  5.23it/s]\n"
          ]
        }
      ],
      "source": [
        "for k in tqdm(range(10)):\n",
        "  globals()[f'set_df_{k}'] = pd.DataFrame()\n",
        "  answer_df_list = glob(f'./model_output/{test_num}/set_{k}/*.csv') # 예측한 결과 불러오기\n",
        "  pum_list = glob(f'./aT_data/aT_test_raw/sep_{k}/*.csv') # 기존 test input 불러오기\n",
        "  pummok = [a for a in pum_list if 'pummok' in a.split('/')[-1]]\n",
        "\n",
        "  for i in answer_df_list:\n",
        "    df = pd.read_csv(i)\n",
        "    number = i.split('_')[-1].split('.')[0]\n",
        "\n",
        "    base_number = 0\n",
        "    for p in pummok:\n",
        "      if number == p.split('_')[-1].split('.')[0]:\n",
        "        pum_df = pd.read_csv(p)\n",
        "\n",
        "        if len(pum_df) != 0:\n",
        "           base_number = pum_df.iloc[len(pum_df)-1]['해당일자_전체평균가격(원)']  # 기존 각 sep 마다 test input의 마지막 target 값 가져오기 (변동률 계산을 위해)\n",
        "        else:\n",
        "          base_number = np.nan\n",
        "\n",
        "    globals()[f'set_df_{k}'][f'품목{number}']  = [base_number] + list(df[df.columns[-1]].values) # 각 품목당 순서를 t, t+1 ... t+28 로 변경\n",
        "\n",
        "  globals()[f'set_df_{k}'] = globals()[f'set_df_{k}'][[f'품목{col}' for col in range(37)]] # 열 순서를 품목0 ~ 품목36 으로 변경"
      ]
    },
    {
      "cell_type": "markdown",
      "metadata": {
        "id": "_snOtIhAGaCZ"
      },
      "source": [
        "- 변동률 계산을 위한 t, t+1 ... t+28 설정"
      ]
    },
    {
      "cell_type": "code",
      "execution_count": null,
      "metadata": {
        "id": "4KtiJup_xl00"
      },
      "outputs": [
        {
          "data": {
            "text/html": [
              "<div>\n",
              "<style scoped>\n",
              "    .dataframe tbody tr th:only-of-type {\n",
              "        vertical-align: middle;\n",
              "    }\n",
              "\n",
              "    .dataframe tbody tr th {\n",
              "        vertical-align: top;\n",
              "    }\n",
              "\n",
              "    .dataframe thead th {\n",
              "        text-align: right;\n",
              "    }\n",
              "</style>\n",
              "<table border=\"1\" class=\"dataframe\">\n",
              "  <thead>\n",
              "    <tr style=\"text-align: right;\">\n",
              "      <th></th>\n",
              "      <th>품목0</th>\n",
              "      <th>품목1</th>\n",
              "      <th>품목2</th>\n",
              "      <th>품목3</th>\n",
              "      <th>품목4</th>\n",
              "      <th>품목5</th>\n",
              "      <th>품목6</th>\n",
              "      <th>품목7</th>\n",
              "      <th>품목8</th>\n",
              "      <th>품목9</th>\n",
              "      <th>...</th>\n",
              "      <th>품목27</th>\n",
              "      <th>품목28</th>\n",
              "      <th>품목29</th>\n",
              "      <th>품목30</th>\n",
              "      <th>품목31</th>\n",
              "      <th>품목32</th>\n",
              "      <th>품목33</th>\n",
              "      <th>품목34</th>\n",
              "      <th>품목35</th>\n",
              "      <th>품목36</th>\n",
              "    </tr>\n",
              "  </thead>\n",
              "  <tbody>\n",
              "    <tr>\n",
              "      <th>0</th>\n",
              "      <td>3871.1250</td>\n",
              "      <td>1362.117613</td>\n",
              "      <td>2909.783785</td>\n",
              "      <td>3400.075583</td>\n",
              "      <td>3947.809169</td>\n",
              "      <td>9253.947514</td>\n",
              "      <td>2717.2800</td>\n",
              "      <td>3361.030923</td>\n",
              "      <td>4911.899864</td>\n",
              "      <td>1173.018633</td>\n",
              "      <td>...</td>\n",
              "      <td>8640.811309</td>\n",
              "      <td>602.005658</td>\n",
              "      <td>1105.412623</td>\n",
              "      <td>1566.274239</td>\n",
              "      <td>3633.464557</td>\n",
              "      <td>5454.710444</td>\n",
              "      <td>5619.188362</td>\n",
              "      <td>5230.620027</td>\n",
              "      <td>2905.100888</td>\n",
              "      <td>2087.675036</td>\n",
              "    </tr>\n",
              "    <tr>\n",
              "      <th>1</th>\n",
              "      <td>4010.2180</td>\n",
              "      <td>1274.486800</td>\n",
              "      <td>4152.300300</td>\n",
              "      <td>1602.558800</td>\n",
              "      <td>345.014280</td>\n",
              "      <td>3175.380400</td>\n",
              "      <td>2513.2542</td>\n",
              "      <td>3674.744100</td>\n",
              "      <td>3490.030800</td>\n",
              "      <td>1045.201900</td>\n",
              "      <td>...</td>\n",
              "      <td>8719.250000</td>\n",
              "      <td>304.951780</td>\n",
              "      <td>6.278003</td>\n",
              "      <td>48.830406</td>\n",
              "      <td>2763.178000</td>\n",
              "      <td>3061.719200</td>\n",
              "      <td>2579.786000</td>\n",
              "      <td>1670.883800</td>\n",
              "      <td>1841.851600</td>\n",
              "      <td>1273.903700</td>\n",
              "    </tr>\n",
              "    <tr>\n",
              "      <th>2</th>\n",
              "      <td>3425.8008</td>\n",
              "      <td>663.017500</td>\n",
              "      <td>3946.863000</td>\n",
              "      <td>1366.238300</td>\n",
              "      <td>354.067230</td>\n",
              "      <td>3197.351300</td>\n",
              "      <td>2527.6853</td>\n",
              "      <td>3596.737800</td>\n",
              "      <td>2966.023200</td>\n",
              "      <td>1031.955800</td>\n",
              "      <td>...</td>\n",
              "      <td>6377.046400</td>\n",
              "      <td>288.547940</td>\n",
              "      <td>7.225252</td>\n",
              "      <td>216.359480</td>\n",
              "      <td>2115.840600</td>\n",
              "      <td>3155.327100</td>\n",
              "      <td>2805.118000</td>\n",
              "      <td>1593.719500</td>\n",
              "      <td>1653.569500</td>\n",
              "      <td>1297.211700</td>\n",
              "    </tr>\n",
              "    <tr>\n",
              "      <th>3</th>\n",
              "      <td>1331.3796</td>\n",
              "      <td>475.995450</td>\n",
              "      <td>1069.459000</td>\n",
              "      <td>1288.427100</td>\n",
              "      <td>351.256230</td>\n",
              "      <td>3189.434800</td>\n",
              "      <td>2506.0576</td>\n",
              "      <td>1424.195600</td>\n",
              "      <td>208.273500</td>\n",
              "      <td>987.363340</td>\n",
              "      <td>...</td>\n",
              "      <td>2879.781000</td>\n",
              "      <td>201.790880</td>\n",
              "      <td>6.438143</td>\n",
              "      <td>165.246890</td>\n",
              "      <td>98.739220</td>\n",
              "      <td>3135.564200</td>\n",
              "      <td>-79.765434</td>\n",
              "      <td>1638.713000</td>\n",
              "      <td>448.106780</td>\n",
              "      <td>1293.540000</td>\n",
              "    </tr>\n",
              "    <tr>\n",
              "      <th>4</th>\n",
              "      <td>3996.8232</td>\n",
              "      <td>1244.307500</td>\n",
              "      <td>5087.919000</td>\n",
              "      <td>1693.385500</td>\n",
              "      <td>347.120670</td>\n",
              "      <td>3146.936800</td>\n",
              "      <td>2491.6057</td>\n",
              "      <td>4171.572000</td>\n",
              "      <td>3245.354500</td>\n",
              "      <td>1051.638100</td>\n",
              "      <td>...</td>\n",
              "      <td>9300.624000</td>\n",
              "      <td>206.518550</td>\n",
              "      <td>8.039433</td>\n",
              "      <td>193.506800</td>\n",
              "      <td>2418.688200</td>\n",
              "      <td>3630.155500</td>\n",
              "      <td>3311.626200</td>\n",
              "      <td>1680.267700</td>\n",
              "      <td>2004.952500</td>\n",
              "      <td>1302.802200</td>\n",
              "    </tr>\n",
              "    <tr>\n",
              "      <th>5</th>\n",
              "      <td>4103.5600</td>\n",
              "      <td>1277.105500</td>\n",
              "      <td>4318.174300</td>\n",
              "      <td>1904.789400</td>\n",
              "      <td>350.541930</td>\n",
              "      <td>3162.900100</td>\n",
              "      <td>2505.7910</td>\n",
              "      <td>4177.147000</td>\n",
              "      <td>3414.382000</td>\n",
              "      <td>1063.103600</td>\n",
              "      <td>...</td>\n",
              "      <td>8598.991000</td>\n",
              "      <td>255.892430</td>\n",
              "      <td>6.029510</td>\n",
              "      <td>227.746520</td>\n",
              "      <td>2331.620000</td>\n",
              "      <td>2916.526900</td>\n",
              "      <td>3164.286600</td>\n",
              "      <td>1693.429700</td>\n",
              "      <td>1997.534900</td>\n",
              "      <td>1327.684600</td>\n",
              "    </tr>\n",
              "    <tr>\n",
              "      <th>6</th>\n",
              "      <td>3939.3508</td>\n",
              "      <td>1300.134200</td>\n",
              "      <td>4594.152000</td>\n",
              "      <td>1870.413700</td>\n",
              "      <td>355.472530</td>\n",
              "      <td>3158.036400</td>\n",
              "      <td>2476.8948</td>\n",
              "      <td>4387.514000</td>\n",
              "      <td>3531.918500</td>\n",
              "      <td>1055.991700</td>\n",
              "      <td>...</td>\n",
              "      <td>8438.967000</td>\n",
              "      <td>294.780150</td>\n",
              "      <td>7.364776</td>\n",
              "      <td>182.000820</td>\n",
              "      <td>2278.482700</td>\n",
              "      <td>2858.214400</td>\n",
              "      <td>2591.370600</td>\n",
              "      <td>1690.235200</td>\n",
              "      <td>1722.246000</td>\n",
              "      <td>1318.172100</td>\n",
              "    </tr>\n",
              "    <tr>\n",
              "      <th>7</th>\n",
              "      <td>3753.7178</td>\n",
              "      <td>1280.308500</td>\n",
              "      <td>4465.989700</td>\n",
              "      <td>1951.158200</td>\n",
              "      <td>351.315120</td>\n",
              "      <td>3160.953900</td>\n",
              "      <td>2463.8374</td>\n",
              "      <td>3825.167700</td>\n",
              "      <td>3267.746000</td>\n",
              "      <td>1076.719100</td>\n",
              "      <td>...</td>\n",
              "      <td>8115.673000</td>\n",
              "      <td>304.400940</td>\n",
              "      <td>7.334653</td>\n",
              "      <td>251.109360</td>\n",
              "      <td>2426.748500</td>\n",
              "      <td>2897.916500</td>\n",
              "      <td>2864.647700</td>\n",
              "      <td>1649.009900</td>\n",
              "      <td>1709.534300</td>\n",
              "      <td>1317.167100</td>\n",
              "    </tr>\n",
              "    <tr>\n",
              "      <th>8</th>\n",
              "      <td>3993.1938</td>\n",
              "      <td>1247.143100</td>\n",
              "      <td>4155.241700</td>\n",
              "      <td>1423.454300</td>\n",
              "      <td>348.965330</td>\n",
              "      <td>3190.738000</td>\n",
              "      <td>2464.0770</td>\n",
              "      <td>3343.472200</td>\n",
              "      <td>2878.704800</td>\n",
              "      <td>1036.814500</td>\n",
              "      <td>...</td>\n",
              "      <td>7379.530000</td>\n",
              "      <td>305.344500</td>\n",
              "      <td>8.665063</td>\n",
              "      <td>21.993930</td>\n",
              "      <td>2313.196500</td>\n",
              "      <td>3051.437300</td>\n",
              "      <td>2371.627000</td>\n",
              "      <td>1592.720700</td>\n",
              "      <td>1712.574100</td>\n",
              "      <td>1273.168600</td>\n",
              "    </tr>\n",
              "    <tr>\n",
              "      <th>9</th>\n",
              "      <td>3435.8042</td>\n",
              "      <td>686.618650</td>\n",
              "      <td>3648.192100</td>\n",
              "      <td>1147.715700</td>\n",
              "      <td>359.032870</td>\n",
              "      <td>3208.490500</td>\n",
              "      <td>2484.1208</td>\n",
              "      <td>2956.795000</td>\n",
              "      <td>2901.518600</td>\n",
              "      <td>1129.259200</td>\n",
              "      <td>...</td>\n",
              "      <td>4784.182000</td>\n",
              "      <td>289.936460</td>\n",
              "      <td>8.662633</td>\n",
              "      <td>235.883620</td>\n",
              "      <td>1969.290600</td>\n",
              "      <td>3242.777800</td>\n",
              "      <td>2776.775600</td>\n",
              "      <td>1707.372200</td>\n",
              "      <td>1644.170400</td>\n",
              "      <td>1297.356600</td>\n",
              "    </tr>\n",
              "    <tr>\n",
              "      <th>10</th>\n",
              "      <td>1405.7673</td>\n",
              "      <td>491.333280</td>\n",
              "      <td>1063.528200</td>\n",
              "      <td>1185.580400</td>\n",
              "      <td>358.366030</td>\n",
              "      <td>3203.417500</td>\n",
              "      <td>2494.5525</td>\n",
              "      <td>1799.740600</td>\n",
              "      <td>368.043300</td>\n",
              "      <td>976.252800</td>\n",
              "      <td>...</td>\n",
              "      <td>2313.148700</td>\n",
              "      <td>214.625840</td>\n",
              "      <td>8.844821</td>\n",
              "      <td>195.268450</td>\n",
              "      <td>402.183840</td>\n",
              "      <td>3200.908000</td>\n",
              "      <td>29.595608</td>\n",
              "      <td>1637.599700</td>\n",
              "      <td>278.317870</td>\n",
              "      <td>1294.557700</td>\n",
              "    </tr>\n",
              "    <tr>\n",
              "      <th>11</th>\n",
              "      <td>3863.6147</td>\n",
              "      <td>1251.539100</td>\n",
              "      <td>5052.633300</td>\n",
              "      <td>1594.030600</td>\n",
              "      <td>351.315950</td>\n",
              "      <td>3188.792200</td>\n",
              "      <td>2486.1697</td>\n",
              "      <td>4754.670400</td>\n",
              "      <td>3196.464600</td>\n",
              "      <td>980.208560</td>\n",
              "      <td>...</td>\n",
              "      <td>8190.914000</td>\n",
              "      <td>211.819440</td>\n",
              "      <td>8.563340</td>\n",
              "      <td>208.622060</td>\n",
              "      <td>2851.941000</td>\n",
              "      <td>3629.368400</td>\n",
              "      <td>3095.833300</td>\n",
              "      <td>1704.278200</td>\n",
              "      <td>1860.599000</td>\n",
              "      <td>1309.966900</td>\n",
              "    </tr>\n",
              "    <tr>\n",
              "      <th>12</th>\n",
              "      <td>4291.2207</td>\n",
              "      <td>1269.351300</td>\n",
              "      <td>4502.441400</td>\n",
              "      <td>1752.872100</td>\n",
              "      <td>355.562700</td>\n",
              "      <td>3162.358000</td>\n",
              "      <td>2449.8833</td>\n",
              "      <td>3727.798300</td>\n",
              "      <td>3396.383800</td>\n",
              "      <td>1033.131300</td>\n",
              "      <td>...</td>\n",
              "      <td>8838.161000</td>\n",
              "      <td>272.487580</td>\n",
              "      <td>8.275618</td>\n",
              "      <td>246.802410</td>\n",
              "      <td>2564.206500</td>\n",
              "      <td>2956.499300</td>\n",
              "      <td>2821.386000</td>\n",
              "      <td>1865.305800</td>\n",
              "      <td>1992.404200</td>\n",
              "      <td>1329.652100</td>\n",
              "    </tr>\n",
              "    <tr>\n",
              "      <th>13</th>\n",
              "      <td>3616.3257</td>\n",
              "      <td>1298.029500</td>\n",
              "      <td>4665.940400</td>\n",
              "      <td>1799.922600</td>\n",
              "      <td>360.373720</td>\n",
              "      <td>3215.397700</td>\n",
              "      <td>2433.6565</td>\n",
              "      <td>4495.588000</td>\n",
              "      <td>3583.979000</td>\n",
              "      <td>1138.441400</td>\n",
              "      <td>...</td>\n",
              "      <td>8697.473000</td>\n",
              "      <td>282.323550</td>\n",
              "      <td>6.792370</td>\n",
              "      <td>195.221010</td>\n",
              "      <td>2413.168500</td>\n",
              "      <td>2764.203400</td>\n",
              "      <td>2592.817000</td>\n",
              "      <td>1560.907700</td>\n",
              "      <td>1743.716200</td>\n",
              "      <td>1321.681000</td>\n",
              "    </tr>\n",
              "    <tr>\n",
              "      <th>14</th>\n",
              "      <td>3776.9912</td>\n",
              "      <td>1259.743400</td>\n",
              "      <td>4623.774000</td>\n",
              "      <td>1926.656700</td>\n",
              "      <td>357.809360</td>\n",
              "      <td>3198.638000</td>\n",
              "      <td>2447.3950</td>\n",
              "      <td>3962.421900</td>\n",
              "      <td>3642.771500</td>\n",
              "      <td>1151.741700</td>\n",
              "      <td>...</td>\n",
              "      <td>8765.164000</td>\n",
              "      <td>302.007080</td>\n",
              "      <td>7.290730</td>\n",
              "      <td>258.882100</td>\n",
              "      <td>2430.836000</td>\n",
              "      <td>2844.575400</td>\n",
              "      <td>2953.188500</td>\n",
              "      <td>1630.200400</td>\n",
              "      <td>1716.084200</td>\n",
              "      <td>1318.787500</td>\n",
              "    </tr>\n",
              "    <tr>\n",
              "      <th>15</th>\n",
              "      <td>3980.3865</td>\n",
              "      <td>1246.680900</td>\n",
              "      <td>3995.968300</td>\n",
              "      <td>1389.933000</td>\n",
              "      <td>358.287750</td>\n",
              "      <td>3198.055700</td>\n",
              "      <td>2419.6800</td>\n",
              "      <td>3625.541500</td>\n",
              "      <td>3473.795000</td>\n",
              "      <td>954.553470</td>\n",
              "      <td>...</td>\n",
              "      <td>7797.580000</td>\n",
              "      <td>298.136930</td>\n",
              "      <td>8.391665</td>\n",
              "      <td>98.191890</td>\n",
              "      <td>2537.333300</td>\n",
              "      <td>3053.505600</td>\n",
              "      <td>2760.728300</td>\n",
              "      <td>1711.649000</td>\n",
              "      <td>1718.957500</td>\n",
              "      <td>1284.863300</td>\n",
              "    </tr>\n",
              "    <tr>\n",
              "      <th>16</th>\n",
              "      <td>3398.2722</td>\n",
              "      <td>730.423030</td>\n",
              "      <td>3870.385300</td>\n",
              "      <td>1118.307000</td>\n",
              "      <td>357.269070</td>\n",
              "      <td>3236.559000</td>\n",
              "      <td>2453.0386</td>\n",
              "      <td>2964.901100</td>\n",
              "      <td>3233.690400</td>\n",
              "      <td>1029.992200</td>\n",
              "      <td>...</td>\n",
              "      <td>6270.626000</td>\n",
              "      <td>288.635500</td>\n",
              "      <td>7.604549</td>\n",
              "      <td>248.779040</td>\n",
              "      <td>1851.146100</td>\n",
              "      <td>3247.747800</td>\n",
              "      <td>2365.004000</td>\n",
              "      <td>1803.062300</td>\n",
              "      <td>1804.909400</td>\n",
              "      <td>1309.733400</td>\n",
              "    </tr>\n",
              "    <tr>\n",
              "      <th>17</th>\n",
              "      <td>1306.5404</td>\n",
              "      <td>478.919620</td>\n",
              "      <td>1120.645400</td>\n",
              "      <td>1261.696700</td>\n",
              "      <td>359.196140</td>\n",
              "      <td>3232.913800</td>\n",
              "      <td>2451.9858</td>\n",
              "      <td>1999.092300</td>\n",
              "      <td>190.110080</td>\n",
              "      <td>910.457800</td>\n",
              "      <td>...</td>\n",
              "      <td>2906.860000</td>\n",
              "      <td>180.547130</td>\n",
              "      <td>6.291832</td>\n",
              "      <td>210.014160</td>\n",
              "      <td>667.393000</td>\n",
              "      <td>3222.271500</td>\n",
              "      <td>-186.330410</td>\n",
              "      <td>1196.648200</td>\n",
              "      <td>348.438260</td>\n",
              "      <td>1294.557600</td>\n",
              "    </tr>\n",
              "    <tr>\n",
              "      <th>18</th>\n",
              "      <td>3910.0947</td>\n",
              "      <td>1266.386700</td>\n",
              "      <td>4889.244600</td>\n",
              "      <td>1451.873500</td>\n",
              "      <td>353.393950</td>\n",
              "      <td>3237.836400</td>\n",
              "      <td>2384.8374</td>\n",
              "      <td>4689.193000</td>\n",
              "      <td>3035.480000</td>\n",
              "      <td>981.886960</td>\n",
              "      <td>...</td>\n",
              "      <td>8538.647000</td>\n",
              "      <td>219.537960</td>\n",
              "      <td>7.717797</td>\n",
              "      <td>230.108720</td>\n",
              "      <td>2314.410000</td>\n",
              "      <td>3615.966300</td>\n",
              "      <td>2751.942600</td>\n",
              "      <td>1698.317500</td>\n",
              "      <td>2188.412400</td>\n",
              "      <td>1316.105300</td>\n",
              "    </tr>\n",
              "    <tr>\n",
              "      <th>19</th>\n",
              "      <td>4072.0784</td>\n",
              "      <td>1291.851800</td>\n",
              "      <td>4052.851800</td>\n",
              "      <td>1798.931500</td>\n",
              "      <td>357.523440</td>\n",
              "      <td>3207.405000</td>\n",
              "      <td>2381.2644</td>\n",
              "      <td>4325.915000</td>\n",
              "      <td>2987.130000</td>\n",
              "      <td>1065.476600</td>\n",
              "      <td>...</td>\n",
              "      <td>8213.899000</td>\n",
              "      <td>267.548650</td>\n",
              "      <td>7.584162</td>\n",
              "      <td>262.351800</td>\n",
              "      <td>2260.985600</td>\n",
              "      <td>2912.605000</td>\n",
              "      <td>2881.459000</td>\n",
              "      <td>2133.122600</td>\n",
              "      <td>2299.473000</td>\n",
              "      <td>1341.534500</td>\n",
              "    </tr>\n",
              "    <tr>\n",
              "      <th>20</th>\n",
              "      <td>4089.2740</td>\n",
              "      <td>1300.563800</td>\n",
              "      <td>4307.390600</td>\n",
              "      <td>1796.935400</td>\n",
              "      <td>359.460570</td>\n",
              "      <td>3249.917700</td>\n",
              "      <td>2441.2068</td>\n",
              "      <td>3874.170000</td>\n",
              "      <td>3151.954000</td>\n",
              "      <td>1037.403200</td>\n",
              "      <td>...</td>\n",
              "      <td>7854.148000</td>\n",
              "      <td>287.752100</td>\n",
              "      <td>8.545768</td>\n",
              "      <td>220.238940</td>\n",
              "      <td>2235.385000</td>\n",
              "      <td>2811.373000</td>\n",
              "      <td>2335.554700</td>\n",
              "      <td>1755.729900</td>\n",
              "      <td>2095.479000</td>\n",
              "      <td>1321.690200</td>\n",
              "    </tr>\n",
              "    <tr>\n",
              "      <th>21</th>\n",
              "      <td>3900.3738</td>\n",
              "      <td>1263.178600</td>\n",
              "      <td>4125.275400</td>\n",
              "      <td>1900.888700</td>\n",
              "      <td>355.928470</td>\n",
              "      <td>3219.876200</td>\n",
              "      <td>2387.2551</td>\n",
              "      <td>4209.873500</td>\n",
              "      <td>3310.577100</td>\n",
              "      <td>1290.576300</td>\n",
              "      <td>...</td>\n",
              "      <td>7997.205000</td>\n",
              "      <td>301.398600</td>\n",
              "      <td>8.845348</td>\n",
              "      <td>271.389500</td>\n",
              "      <td>2523.692900</td>\n",
              "      <td>2835.834000</td>\n",
              "      <td>2695.403800</td>\n",
              "      <td>1973.511700</td>\n",
              "      <td>1905.238900</td>\n",
              "      <td>1305.941900</td>\n",
              "    </tr>\n",
              "    <tr>\n",
              "      <th>22</th>\n",
              "      <td>4224.1470</td>\n",
              "      <td>1241.181400</td>\n",
              "      <td>3920.146500</td>\n",
              "      <td>1366.836300</td>\n",
              "      <td>360.827330</td>\n",
              "      <td>3214.783400</td>\n",
              "      <td>2374.7236</td>\n",
              "      <td>3292.326000</td>\n",
              "      <td>3047.951700</td>\n",
              "      <td>1094.504300</td>\n",
              "      <td>...</td>\n",
              "      <td>7204.572000</td>\n",
              "      <td>304.844640</td>\n",
              "      <td>7.117324</td>\n",
              "      <td>110.864680</td>\n",
              "      <td>2223.480200</td>\n",
              "      <td>3067.106200</td>\n",
              "      <td>2790.958000</td>\n",
              "      <td>1702.462000</td>\n",
              "      <td>1839.210300</td>\n",
              "      <td>1292.412100</td>\n",
              "    </tr>\n",
              "    <tr>\n",
              "      <th>23</th>\n",
              "      <td>3476.8810</td>\n",
              "      <td>678.124270</td>\n",
              "      <td>3495.167500</td>\n",
              "      <td>1068.417800</td>\n",
              "      <td>357.647160</td>\n",
              "      <td>3259.948500</td>\n",
              "      <td>2429.1167</td>\n",
              "      <td>2815.886000</td>\n",
              "      <td>2712.101600</td>\n",
              "      <td>1134.411900</td>\n",
              "      <td>...</td>\n",
              "      <td>5767.339000</td>\n",
              "      <td>295.396640</td>\n",
              "      <td>6.881444</td>\n",
              "      <td>229.650830</td>\n",
              "      <td>1783.069600</td>\n",
              "      <td>3181.716600</td>\n",
              "      <td>2352.986300</td>\n",
              "      <td>1776.375200</td>\n",
              "      <td>1764.629600</td>\n",
              "      <td>1300.655400</td>\n",
              "    </tr>\n",
              "    <tr>\n",
              "      <th>24</th>\n",
              "      <td>1566.9045</td>\n",
              "      <td>492.690400</td>\n",
              "      <td>1212.182600</td>\n",
              "      <td>1233.802400</td>\n",
              "      <td>352.400240</td>\n",
              "      <td>3263.999500</td>\n",
              "      <td>2399.1558</td>\n",
              "      <td>2071.744600</td>\n",
              "      <td>371.624900</td>\n",
              "      <td>1274.687900</td>\n",
              "      <td>...</td>\n",
              "      <td>2599.431400</td>\n",
              "      <td>186.315430</td>\n",
              "      <td>7.082031</td>\n",
              "      <td>217.359950</td>\n",
              "      <td>1113.042500</td>\n",
              "      <td>3129.558300</td>\n",
              "      <td>-160.565840</td>\n",
              "      <td>1977.170000</td>\n",
              "      <td>510.978580</td>\n",
              "      <td>1284.967800</td>\n",
              "    </tr>\n",
              "    <tr>\n",
              "      <th>25</th>\n",
              "      <td>4010.5957</td>\n",
              "      <td>1248.820100</td>\n",
              "      <td>4626.005400</td>\n",
              "      <td>1436.565800</td>\n",
              "      <td>346.772400</td>\n",
              "      <td>3207.193800</td>\n",
              "      <td>2366.8050</td>\n",
              "      <td>4291.480500</td>\n",
              "      <td>3238.386200</td>\n",
              "      <td>1722.706400</td>\n",
              "      <td>...</td>\n",
              "      <td>8339.196000</td>\n",
              "      <td>193.730910</td>\n",
              "      <td>9.110163</td>\n",
              "      <td>231.231430</td>\n",
              "      <td>2598.244000</td>\n",
              "      <td>3555.178000</td>\n",
              "      <td>2981.156200</td>\n",
              "      <td>1558.402500</td>\n",
              "      <td>2130.039000</td>\n",
              "      <td>1307.782300</td>\n",
              "    </tr>\n",
              "    <tr>\n",
              "      <th>26</th>\n",
              "      <td>3896.8489</td>\n",
              "      <td>1291.640300</td>\n",
              "      <td>3817.378700</td>\n",
              "      <td>1785.182400</td>\n",
              "      <td>351.216220</td>\n",
              "      <td>3240.254000</td>\n",
              "      <td>2438.8027</td>\n",
              "      <td>4445.752000</td>\n",
              "      <td>3129.182600</td>\n",
              "      <td>1187.635300</td>\n",
              "      <td>...</td>\n",
              "      <td>8292.589000</td>\n",
              "      <td>275.201800</td>\n",
              "      <td>6.615232</td>\n",
              "      <td>246.269230</td>\n",
              "      <td>1974.871600</td>\n",
              "      <td>2802.177200</td>\n",
              "      <td>3035.199000</td>\n",
              "      <td>1860.782200</td>\n",
              "      <td>2223.983400</td>\n",
              "      <td>1337.693500</td>\n",
              "    </tr>\n",
              "    <tr>\n",
              "      <th>27</th>\n",
              "      <td>3963.6646</td>\n",
              "      <td>1295.126000</td>\n",
              "      <td>3976.529000</td>\n",
              "      <td>1805.497100</td>\n",
              "      <td>357.414520</td>\n",
              "      <td>3237.500700</td>\n",
              "      <td>2381.1643</td>\n",
              "      <td>4392.730500</td>\n",
              "      <td>3564.844000</td>\n",
              "      <td>1071.209600</td>\n",
              "      <td>...</td>\n",
              "      <td>8143.391000</td>\n",
              "      <td>296.874050</td>\n",
              "      <td>7.764003</td>\n",
              "      <td>203.054810</td>\n",
              "      <td>1927.578900</td>\n",
              "      <td>2741.924600</td>\n",
              "      <td>2507.835400</td>\n",
              "      <td>1680.967700</td>\n",
              "      <td>1807.184600</td>\n",
              "      <td>1310.444100</td>\n",
              "    </tr>\n",
              "    <tr>\n",
              "      <th>28</th>\n",
              "      <td>3854.8906</td>\n",
              "      <td>1246.617400</td>\n",
              "      <td>4321.836400</td>\n",
              "      <td>1948.019400</td>\n",
              "      <td>348.910460</td>\n",
              "      <td>3214.168500</td>\n",
              "      <td>2375.1118</td>\n",
              "      <td>4004.964800</td>\n",
              "      <td>3564.168500</td>\n",
              "      <td>1084.289800</td>\n",
              "      <td>...</td>\n",
              "      <td>8128.171000</td>\n",
              "      <td>312.327640</td>\n",
              "      <td>7.202856</td>\n",
              "      <td>276.430180</td>\n",
              "      <td>2378.803200</td>\n",
              "      <td>2806.799600</td>\n",
              "      <td>2942.887700</td>\n",
              "      <td>1811.312300</td>\n",
              "      <td>1740.926400</td>\n",
              "      <td>1298.561200</td>\n",
              "    </tr>\n",
              "  </tbody>\n",
              "</table>\n",
              "<p>29 rows × 37 columns</p>\n",
              "</div>"
            ],
            "text/plain": [
              "          품목0          품목1          품목2          품목3          품목4  \\\n",
              "0   3871.1250  1362.117613  2909.783785  3400.075583  3947.809169   \n",
              "1   4010.2180  1274.486800  4152.300300  1602.558800   345.014280   \n",
              "2   3425.8008   663.017500  3946.863000  1366.238300   354.067230   \n",
              "3   1331.3796   475.995450  1069.459000  1288.427100   351.256230   \n",
              "4   3996.8232  1244.307500  5087.919000  1693.385500   347.120670   \n",
              "5   4103.5600  1277.105500  4318.174300  1904.789400   350.541930   \n",
              "6   3939.3508  1300.134200  4594.152000  1870.413700   355.472530   \n",
              "7   3753.7178  1280.308500  4465.989700  1951.158200   351.315120   \n",
              "8   3993.1938  1247.143100  4155.241700  1423.454300   348.965330   \n",
              "9   3435.8042   686.618650  3648.192100  1147.715700   359.032870   \n",
              "10  1405.7673   491.333280  1063.528200  1185.580400   358.366030   \n",
              "11  3863.6147  1251.539100  5052.633300  1594.030600   351.315950   \n",
              "12  4291.2207  1269.351300  4502.441400  1752.872100   355.562700   \n",
              "13  3616.3257  1298.029500  4665.940400  1799.922600   360.373720   \n",
              "14  3776.9912  1259.743400  4623.774000  1926.656700   357.809360   \n",
              "15  3980.3865  1246.680900  3995.968300  1389.933000   358.287750   \n",
              "16  3398.2722   730.423030  3870.385300  1118.307000   357.269070   \n",
              "17  1306.5404   478.919620  1120.645400  1261.696700   359.196140   \n",
              "18  3910.0947  1266.386700  4889.244600  1451.873500   353.393950   \n",
              "19  4072.0784  1291.851800  4052.851800  1798.931500   357.523440   \n",
              "20  4089.2740  1300.563800  4307.390600  1796.935400   359.460570   \n",
              "21  3900.3738  1263.178600  4125.275400  1900.888700   355.928470   \n",
              "22  4224.1470  1241.181400  3920.146500  1366.836300   360.827330   \n",
              "23  3476.8810   678.124270  3495.167500  1068.417800   357.647160   \n",
              "24  1566.9045   492.690400  1212.182600  1233.802400   352.400240   \n",
              "25  4010.5957  1248.820100  4626.005400  1436.565800   346.772400   \n",
              "26  3896.8489  1291.640300  3817.378700  1785.182400   351.216220   \n",
              "27  3963.6646  1295.126000  3976.529000  1805.497100   357.414520   \n",
              "28  3854.8906  1246.617400  4321.836400  1948.019400   348.910460   \n",
              "\n",
              "            품목5        품목6          품목7          품목8          품목9  ...  \\\n",
              "0   9253.947514  2717.2800  3361.030923  4911.899864  1173.018633  ...   \n",
              "1   3175.380400  2513.2542  3674.744100  3490.030800  1045.201900  ...   \n",
              "2   3197.351300  2527.6853  3596.737800  2966.023200  1031.955800  ...   \n",
              "3   3189.434800  2506.0576  1424.195600   208.273500   987.363340  ...   \n",
              "4   3146.936800  2491.6057  4171.572000  3245.354500  1051.638100  ...   \n",
              "5   3162.900100  2505.7910  4177.147000  3414.382000  1063.103600  ...   \n",
              "6   3158.036400  2476.8948  4387.514000  3531.918500  1055.991700  ...   \n",
              "7   3160.953900  2463.8374  3825.167700  3267.746000  1076.719100  ...   \n",
              "8   3190.738000  2464.0770  3343.472200  2878.704800  1036.814500  ...   \n",
              "9   3208.490500  2484.1208  2956.795000  2901.518600  1129.259200  ...   \n",
              "10  3203.417500  2494.5525  1799.740600   368.043300   976.252800  ...   \n",
              "11  3188.792200  2486.1697  4754.670400  3196.464600   980.208560  ...   \n",
              "12  3162.358000  2449.8833  3727.798300  3396.383800  1033.131300  ...   \n",
              "13  3215.397700  2433.6565  4495.588000  3583.979000  1138.441400  ...   \n",
              "14  3198.638000  2447.3950  3962.421900  3642.771500  1151.741700  ...   \n",
              "15  3198.055700  2419.6800  3625.541500  3473.795000   954.553470  ...   \n",
              "16  3236.559000  2453.0386  2964.901100  3233.690400  1029.992200  ...   \n",
              "17  3232.913800  2451.9858  1999.092300   190.110080   910.457800  ...   \n",
              "18  3237.836400  2384.8374  4689.193000  3035.480000   981.886960  ...   \n",
              "19  3207.405000  2381.2644  4325.915000  2987.130000  1065.476600  ...   \n",
              "20  3249.917700  2441.2068  3874.170000  3151.954000  1037.403200  ...   \n",
              "21  3219.876200  2387.2551  4209.873500  3310.577100  1290.576300  ...   \n",
              "22  3214.783400  2374.7236  3292.326000  3047.951700  1094.504300  ...   \n",
              "23  3259.948500  2429.1167  2815.886000  2712.101600  1134.411900  ...   \n",
              "24  3263.999500  2399.1558  2071.744600   371.624900  1274.687900  ...   \n",
              "25  3207.193800  2366.8050  4291.480500  3238.386200  1722.706400  ...   \n",
              "26  3240.254000  2438.8027  4445.752000  3129.182600  1187.635300  ...   \n",
              "27  3237.500700  2381.1643  4392.730500  3564.844000  1071.209600  ...   \n",
              "28  3214.168500  2375.1118  4004.964800  3564.168500  1084.289800  ...   \n",
              "\n",
              "           품목27        품목28         품목29         품목30         품목31  \\\n",
              "0   8640.811309  602.005658  1105.412623  1566.274239  3633.464557   \n",
              "1   8719.250000  304.951780     6.278003    48.830406  2763.178000   \n",
              "2   6377.046400  288.547940     7.225252   216.359480  2115.840600   \n",
              "3   2879.781000  201.790880     6.438143   165.246890    98.739220   \n",
              "4   9300.624000  206.518550     8.039433   193.506800  2418.688200   \n",
              "5   8598.991000  255.892430     6.029510   227.746520  2331.620000   \n",
              "6   8438.967000  294.780150     7.364776   182.000820  2278.482700   \n",
              "7   8115.673000  304.400940     7.334653   251.109360  2426.748500   \n",
              "8   7379.530000  305.344500     8.665063    21.993930  2313.196500   \n",
              "9   4784.182000  289.936460     8.662633   235.883620  1969.290600   \n",
              "10  2313.148700  214.625840     8.844821   195.268450   402.183840   \n",
              "11  8190.914000  211.819440     8.563340   208.622060  2851.941000   \n",
              "12  8838.161000  272.487580     8.275618   246.802410  2564.206500   \n",
              "13  8697.473000  282.323550     6.792370   195.221010  2413.168500   \n",
              "14  8765.164000  302.007080     7.290730   258.882100  2430.836000   \n",
              "15  7797.580000  298.136930     8.391665    98.191890  2537.333300   \n",
              "16  6270.626000  288.635500     7.604549   248.779040  1851.146100   \n",
              "17  2906.860000  180.547130     6.291832   210.014160   667.393000   \n",
              "18  8538.647000  219.537960     7.717797   230.108720  2314.410000   \n",
              "19  8213.899000  267.548650     7.584162   262.351800  2260.985600   \n",
              "20  7854.148000  287.752100     8.545768   220.238940  2235.385000   \n",
              "21  7997.205000  301.398600     8.845348   271.389500  2523.692900   \n",
              "22  7204.572000  304.844640     7.117324   110.864680  2223.480200   \n",
              "23  5767.339000  295.396640     6.881444   229.650830  1783.069600   \n",
              "24  2599.431400  186.315430     7.082031   217.359950  1113.042500   \n",
              "25  8339.196000  193.730910     9.110163   231.231430  2598.244000   \n",
              "26  8292.589000  275.201800     6.615232   246.269230  1974.871600   \n",
              "27  8143.391000  296.874050     7.764003   203.054810  1927.578900   \n",
              "28  8128.171000  312.327640     7.202856   276.430180  2378.803200   \n",
              "\n",
              "           품목32         품목33         품목34         품목35         품목36  \n",
              "0   5454.710444  5619.188362  5230.620027  2905.100888  2087.675036  \n",
              "1   3061.719200  2579.786000  1670.883800  1841.851600  1273.903700  \n",
              "2   3155.327100  2805.118000  1593.719500  1653.569500  1297.211700  \n",
              "3   3135.564200   -79.765434  1638.713000   448.106780  1293.540000  \n",
              "4   3630.155500  3311.626200  1680.267700  2004.952500  1302.802200  \n",
              "5   2916.526900  3164.286600  1693.429700  1997.534900  1327.684600  \n",
              "6   2858.214400  2591.370600  1690.235200  1722.246000  1318.172100  \n",
              "7   2897.916500  2864.647700  1649.009900  1709.534300  1317.167100  \n",
              "8   3051.437300  2371.627000  1592.720700  1712.574100  1273.168600  \n",
              "9   3242.777800  2776.775600  1707.372200  1644.170400  1297.356600  \n",
              "10  3200.908000    29.595608  1637.599700   278.317870  1294.557700  \n",
              "11  3629.368400  3095.833300  1704.278200  1860.599000  1309.966900  \n",
              "12  2956.499300  2821.386000  1865.305800  1992.404200  1329.652100  \n",
              "13  2764.203400  2592.817000  1560.907700  1743.716200  1321.681000  \n",
              "14  2844.575400  2953.188500  1630.200400  1716.084200  1318.787500  \n",
              "15  3053.505600  2760.728300  1711.649000  1718.957500  1284.863300  \n",
              "16  3247.747800  2365.004000  1803.062300  1804.909400  1309.733400  \n",
              "17  3222.271500  -186.330410  1196.648200   348.438260  1294.557600  \n",
              "18  3615.966300  2751.942600  1698.317500  2188.412400  1316.105300  \n",
              "19  2912.605000  2881.459000  2133.122600  2299.473000  1341.534500  \n",
              "20  2811.373000  2335.554700  1755.729900  2095.479000  1321.690200  \n",
              "21  2835.834000  2695.403800  1973.511700  1905.238900  1305.941900  \n",
              "22  3067.106200  2790.958000  1702.462000  1839.210300  1292.412100  \n",
              "23  3181.716600  2352.986300  1776.375200  1764.629600  1300.655400  \n",
              "24  3129.558300  -160.565840  1977.170000   510.978580  1284.967800  \n",
              "25  3555.178000  2981.156200  1558.402500  2130.039000  1307.782300  \n",
              "26  2802.177200  3035.199000  1860.782200  2223.983400  1337.693500  \n",
              "27  2741.924600  2507.835400  1680.967700  1807.184600  1310.444100  \n",
              "28  2806.799600  2942.887700  1811.312300  1740.926400  1298.561200  \n",
              "\n",
              "[29 rows x 37 columns]"
            ]
          },
          "execution_count": 76,
          "metadata": {},
          "output_type": "execute_result"
        }
      ],
      "source": [
        "set_df_0"
      ]
    },
    {
      "cell_type": "markdown",
      "metadata": {
        "id": "aaTBCR5y3DA5"
      },
      "source": [
        "- 변동률 계산 "
      ]
    },
    {
      "cell_type": "code",
      "execution_count": null,
      "metadata": {
        "id": "xUAw88bXupw7"
      },
      "outputs": [],
      "source": [
        "date = [f'd+{i}' for i in range(1,15)] + ['d+22 ~ 28 평균']\n",
        "\n",
        "\n",
        "for k in range(10):\n",
        "  globals()[f'answer_df_{k}'] = pd.DataFrame()\n",
        "  for c in globals()[f'set_df_{k}'].columns:\n",
        "    base_d = globals()[f'set_df_{k}'][c][0] # 변동률 기준 t 값\n",
        "\n",
        "    ans_1_14 = []\n",
        "    for i in range(14):\n",
        "      ans_1_14.append((globals()[f'set_df_{k}'][c].iloc[i+1]- base_d)/base_d)  # t+1 ~ t+14 까지는 (t+n - t)/t 로 계산\n",
        "\n",
        "    ans_22_28 = (globals()[f'set_df_{k}'][c][22:29].mean() - base_d)/base_d # t+22 ~ t+28은 np.mean(t+22 ~ t+28) - t / t\n",
        "\n",
        "    globals()[f'answer_df_{k}'][f'{c} 변동률'] = ans_1_14 + [ans_22_28]\n",
        "  \n",
        "  globals()[f'answer_df_{k}']['Set'] = k # set 번호 설정\n",
        "  globals()[f'answer_df_{k}']['일자'] = date # 일자 설정"
      ]
    },
    {
      "cell_type": "markdown",
      "metadata": {
        "id": "UoXfNkur3Hl4"
      },
      "source": [
        "- sep 0  ~ sep 9 까지 합치기"
      ]
    },
    {
      "cell_type": "code",
      "execution_count": null,
      "metadata": {
        "id": "mrEcol7zz0xY"
      },
      "outputs": [],
      "source": [
        "# 위에서 계산된 변동률 들을 합쳐주는 과정\n",
        "\n",
        "all_df =pd.DataFrame()\n",
        "for i in range(10):\n",
        "  if i== 0 :\n",
        "    all_df = pd.concat([all_df, globals()[f'answer_df_{i}']],axis=1)\n",
        "  else:\n",
        "    all_df = pd.concat([all_df, globals()[f'answer_df_{i}']])\n",
        "\n",
        "\n",
        "all_df = all_df[['Set','일자'] + list(all_df.columns[:-2])]\n",
        "all_df.reset_index(drop=True, inplace=True)"
      ]
    },
    {
      "cell_type": "code",
      "execution_count": null,
      "metadata": {},
      "outputs": [
        {
          "data": {
            "text/html": [
              "<div>\n",
              "<style scoped>\n",
              "    .dataframe tbody tr th:only-of-type {\n",
              "        vertical-align: middle;\n",
              "    }\n",
              "\n",
              "    .dataframe tbody tr th {\n",
              "        vertical-align: top;\n",
              "    }\n",
              "\n",
              "    .dataframe thead th {\n",
              "        text-align: right;\n",
              "    }\n",
              "</style>\n",
              "<table border=\"1\" class=\"dataframe\">\n",
              "  <thead>\n",
              "    <tr style=\"text-align: right;\">\n",
              "      <th></th>\n",
              "      <th>품목0 변동률</th>\n",
              "      <th>품목1 변동률</th>\n",
              "      <th>품목2 변동률</th>\n",
              "      <th>품목3 변동률</th>\n",
              "      <th>품목4 변동률</th>\n",
              "      <th>품목5 변동률</th>\n",
              "      <th>품목6 변동률</th>\n",
              "      <th>품목7 변동률</th>\n",
              "      <th>품목8 변동률</th>\n",
              "      <th>품목9 변동률</th>\n",
              "      <th>...</th>\n",
              "      <th>품목29 변동률</th>\n",
              "      <th>품목30 변동률</th>\n",
              "      <th>품목31 변동률</th>\n",
              "      <th>품목32 변동률</th>\n",
              "      <th>품목33 변동률</th>\n",
              "      <th>품목34 변동률</th>\n",
              "      <th>품목35 변동률</th>\n",
              "      <th>품목36 변동률</th>\n",
              "      <th>Set</th>\n",
              "      <th>일자</th>\n",
              "    </tr>\n",
              "  </thead>\n",
              "  <tbody>\n",
              "    <tr>\n",
              "      <th>0</th>\n",
              "      <td>0.035931</td>\n",
              "      <td>-0.064334</td>\n",
              "      <td>0.427013</td>\n",
              "      <td>-0.528670</td>\n",
              "      <td>-0.912606</td>\n",
              "      <td>-0.656862</td>\n",
              "      <td>-0.075085</td>\n",
              "      <td>0.093338</td>\n",
              "      <td>-0.289474</td>\n",
              "      <td>-0.108964</td>\n",
              "      <td>...</td>\n",
              "      <td>-0.994321</td>\n",
              "      <td>-0.968824</td>\n",
              "      <td>-0.239520</td>\n",
              "      <td>-0.438702</td>\n",
              "      <td>-0.540897</td>\n",
              "      <td>-0.680557</td>\n",
              "      <td>-0.365994</td>\n",
              "      <td>-0.389798</td>\n",
              "      <td>0</td>\n",
              "      <td>d+1</td>\n",
              "    </tr>\n",
              "    <tr>\n",
              "      <th>1</th>\n",
              "      <td>-0.115037</td>\n",
              "      <td>-0.513245</td>\n",
              "      <td>0.356411</td>\n",
              "      <td>-0.598174</td>\n",
              "      <td>-0.910313</td>\n",
              "      <td>-0.654488</td>\n",
              "      <td>-0.069774</td>\n",
              "      <td>0.070129</td>\n",
              "      <td>-0.396156</td>\n",
              "      <td>-0.120256</td>\n",
              "      <td>...</td>\n",
              "      <td>-0.993464</td>\n",
              "      <td>-0.861864</td>\n",
              "      <td>-0.417680</td>\n",
              "      <td>-0.421541</td>\n",
              "      <td>-0.500797</td>\n",
              "      <td>-0.695310</td>\n",
              "      <td>-0.430805</td>\n",
              "      <td>-0.378633</td>\n",
              "      <td>0</td>\n",
              "      <td>d+2</td>\n",
              "    </tr>\n",
              "    <tr>\n",
              "      <th>2</th>\n",
              "      <td>-0.656074</td>\n",
              "      <td>-0.650547</td>\n",
              "      <td>-0.632461</td>\n",
              "      <td>-0.621059</td>\n",
              "      <td>-0.911025</td>\n",
              "      <td>-0.655343</td>\n",
              "      <td>-0.077733</td>\n",
              "      <td>-0.576262</td>\n",
              "      <td>-0.957598</td>\n",
              "      <td>-0.158271</td>\n",
              "      <td>...</td>\n",
              "      <td>-0.994176</td>\n",
              "      <td>-0.894497</td>\n",
              "      <td>-0.972825</td>\n",
              "      <td>-0.425164</td>\n",
              "      <td>-1.014195</td>\n",
              "      <td>-0.686708</td>\n",
              "      <td>-0.845752</td>\n",
              "      <td>-0.380392</td>\n",
              "      <td>0</td>\n",
              "      <td>d+3</td>\n",
              "    </tr>\n",
              "    <tr>\n",
              "      <th>3</th>\n",
              "      <td>0.032471</td>\n",
              "      <td>-0.086490</td>\n",
              "      <td>0.748556</td>\n",
              "      <td>-0.501957</td>\n",
              "      <td>-0.912073</td>\n",
              "      <td>-0.659936</td>\n",
              "      <td>-0.083052</td>\n",
              "      <td>0.241158</td>\n",
              "      <td>-0.339287</td>\n",
              "      <td>-0.103477</td>\n",
              "      <td>...</td>\n",
              "      <td>-0.992727</td>\n",
              "      <td>-0.876454</td>\n",
              "      <td>-0.334330</td>\n",
              "      <td>-0.334492</td>\n",
              "      <td>-0.410658</td>\n",
              "      <td>-0.678763</td>\n",
              "      <td>-0.309851</td>\n",
              "      <td>-0.375955</td>\n",
              "      <td>0</td>\n",
              "      <td>d+4</td>\n",
              "    </tr>\n",
              "    <tr>\n",
              "      <th>4</th>\n",
              "      <td>0.060043</td>\n",
              "      <td>-0.062412</td>\n",
              "      <td>0.484019</td>\n",
              "      <td>-0.439780</td>\n",
              "      <td>-0.911206</td>\n",
              "      <td>-0.658211</td>\n",
              "      <td>-0.077831</td>\n",
              "      <td>0.242817</td>\n",
              "      <td>-0.304875</td>\n",
              "      <td>-0.093703</td>\n",
              "      <td>...</td>\n",
              "      <td>-0.994545</td>\n",
              "      <td>-0.854593</td>\n",
              "      <td>-0.358293</td>\n",
              "      <td>-0.465320</td>\n",
              "      <td>-0.436878</td>\n",
              "      <td>-0.676247</td>\n",
              "      <td>-0.312404</td>\n",
              "      <td>-0.364037</td>\n",
              "      <td>0</td>\n",
              "      <td>d+5</td>\n",
              "    </tr>\n",
              "    <tr>\n",
              "      <th>5</th>\n",
              "      <td>0.017624</td>\n",
              "      <td>-0.045505</td>\n",
              "      <td>0.578864</td>\n",
              "      <td>-0.449891</td>\n",
              "      <td>-0.909957</td>\n",
              "      <td>-0.658736</td>\n",
              "      <td>-0.088465</td>\n",
              "      <td>0.305407</td>\n",
              "      <td>-0.280947</td>\n",
              "      <td>-0.099766</td>\n",
              "      <td>...</td>\n",
              "      <td>-0.993338</td>\n",
              "      <td>-0.883800</td>\n",
              "      <td>-0.372917</td>\n",
              "      <td>-0.476010</td>\n",
              "      <td>-0.538835</td>\n",
              "      <td>-0.676858</td>\n",
              "      <td>-0.407165</td>\n",
              "      <td>-0.368593</td>\n",
              "      <td>0</td>\n",
              "      <td>d+6</td>\n",
              "    </tr>\n",
              "    <tr>\n",
              "      <th>6</th>\n",
              "      <td>-0.030329</td>\n",
              "      <td>-0.060060</td>\n",
              "      <td>0.534818</td>\n",
              "      <td>-0.426143</td>\n",
              "      <td>-0.911010</td>\n",
              "      <td>-0.658421</td>\n",
              "      <td>-0.093271</td>\n",
              "      <td>0.138094</td>\n",
              "      <td>-0.334729</td>\n",
              "      <td>-0.082095</td>\n",
              "      <td>...</td>\n",
              "      <td>-0.993365</td>\n",
              "      <td>-0.839677</td>\n",
              "      <td>-0.332112</td>\n",
              "      <td>-0.468731</td>\n",
              "      <td>-0.490203</td>\n",
              "      <td>-0.684739</td>\n",
              "      <td>-0.411540</td>\n",
              "      <td>-0.369075</td>\n",
              "      <td>0</td>\n",
              "      <td>d+7</td>\n",
              "    </tr>\n",
              "    <tr>\n",
              "      <th>7</th>\n",
              "      <td>0.031533</td>\n",
              "      <td>-0.084409</td>\n",
              "      <td>0.428024</td>\n",
              "      <td>-0.581346</td>\n",
              "      <td>-0.911605</td>\n",
              "      <td>-0.655202</td>\n",
              "      <td>-0.093183</td>\n",
              "      <td>-0.005224</td>\n",
              "      <td>-0.413933</td>\n",
              "      <td>-0.116114</td>\n",
              "      <td>...</td>\n",
              "      <td>-0.992161</td>\n",
              "      <td>-0.985958</td>\n",
              "      <td>-0.363363</td>\n",
              "      <td>-0.440587</td>\n",
              "      <td>-0.577941</td>\n",
              "      <td>-0.695501</td>\n",
              "      <td>-0.410494</td>\n",
              "      <td>-0.390150</td>\n",
              "      <td>0</td>\n",
              "      <td>d+8</td>\n",
              "    </tr>\n",
              "    <tr>\n",
              "      <th>8</th>\n",
              "      <td>-0.112453</td>\n",
              "      <td>-0.495918</td>\n",
              "      <td>0.253767</td>\n",
              "      <td>-0.662444</td>\n",
              "      <td>-0.909055</td>\n",
              "      <td>-0.653284</td>\n",
              "      <td>-0.085806</td>\n",
              "      <td>-0.120271</td>\n",
              "      <td>-0.409288</td>\n",
              "      <td>-0.037305</td>\n",
              "      <td>...</td>\n",
              "      <td>-0.992163</td>\n",
              "      <td>-0.849398</td>\n",
              "      <td>-0.458013</td>\n",
              "      <td>-0.405509</td>\n",
              "      <td>-0.505840</td>\n",
              "      <td>-0.673581</td>\n",
              "      <td>-0.434040</td>\n",
              "      <td>-0.378564</td>\n",
              "      <td>0</td>\n",
              "      <td>d+9</td>\n",
              "    </tr>\n",
              "    <tr>\n",
              "      <th>9</th>\n",
              "      <td>-0.636858</td>\n",
              "      <td>-0.639287</td>\n",
              "      <td>-0.634499</td>\n",
              "      <td>-0.651308</td>\n",
              "      <td>-0.909224</td>\n",
              "      <td>-0.653832</td>\n",
              "      <td>-0.081967</td>\n",
              "      <td>-0.464527</td>\n",
              "      <td>-0.925071</td>\n",
              "      <td>-0.167743</td>\n",
              "      <td>...</td>\n",
              "      <td>-0.991999</td>\n",
              "      <td>-0.875329</td>\n",
              "      <td>-0.889311</td>\n",
              "      <td>-0.413185</td>\n",
              "      <td>-0.994733</td>\n",
              "      <td>-0.686921</td>\n",
              "      <td>-0.904197</td>\n",
              "      <td>-0.379905</td>\n",
              "      <td>0</td>\n",
              "      <td>d+10</td>\n",
              "    </tr>\n",
              "    <tr>\n",
              "      <th>10</th>\n",
              "      <td>-0.001940</td>\n",
              "      <td>-0.081181</td>\n",
              "      <td>0.736429</td>\n",
              "      <td>-0.531178</td>\n",
              "      <td>-0.911010</td>\n",
              "      <td>-0.655413</td>\n",
              "      <td>-0.085052</td>\n",
              "      <td>0.414646</td>\n",
              "      <td>-0.349241</td>\n",
              "      <td>-0.164371</td>\n",
              "      <td>...</td>\n",
              "      <td>-0.992253</td>\n",
              "      <td>-0.866804</td>\n",
              "      <td>-0.215090</td>\n",
              "      <td>-0.334636</td>\n",
              "      <td>-0.449060</td>\n",
              "      <td>-0.674173</td>\n",
              "      <td>-0.359541</td>\n",
              "      <td>-0.372524</td>\n",
              "      <td>0</td>\n",
              "      <td>d+11</td>\n",
              "    </tr>\n",
              "    <tr>\n",
              "      <th>11</th>\n",
              "      <td>0.108520</td>\n",
              "      <td>-0.068104</td>\n",
              "      <td>0.547346</td>\n",
              "      <td>-0.484461</td>\n",
              "      <td>-0.909934</td>\n",
              "      <td>-0.658269</td>\n",
              "      <td>-0.098406</td>\n",
              "      <td>0.109123</td>\n",
              "      <td>-0.308540</td>\n",
              "      <td>-0.119254</td>\n",
              "      <td>...</td>\n",
              "      <td>-0.992514</td>\n",
              "      <td>-0.842427</td>\n",
              "      <td>-0.294281</td>\n",
              "      <td>-0.457992</td>\n",
              "      <td>-0.497902</td>\n",
              "      <td>-0.643387</td>\n",
              "      <td>-0.314170</td>\n",
              "      <td>-0.363094</td>\n",
              "      <td>0</td>\n",
              "      <td>d+12</td>\n",
              "    </tr>\n",
              "    <tr>\n",
              "      <th>12</th>\n",
              "      <td>-0.065820</td>\n",
              "      <td>-0.047050</td>\n",
              "      <td>0.603535</td>\n",
              "      <td>-0.470623</td>\n",
              "      <td>-0.908716</td>\n",
              "      <td>-0.652538</td>\n",
              "      <td>-0.104378</td>\n",
              "      <td>0.337562</td>\n",
              "      <td>-0.270348</td>\n",
              "      <td>-0.029477</td>\n",
              "      <td>...</td>\n",
              "      <td>-0.993855</td>\n",
              "      <td>-0.875360</td>\n",
              "      <td>-0.335849</td>\n",
              "      <td>-0.493245</td>\n",
              "      <td>-0.538578</td>\n",
              "      <td>-0.701583</td>\n",
              "      <td>-0.399774</td>\n",
              "      <td>-0.366912</td>\n",
              "      <td>0</td>\n",
              "      <td>d+13</td>\n",
              "    </tr>\n",
              "    <tr>\n",
              "      <th>13</th>\n",
              "      <td>-0.024317</td>\n",
              "      <td>-0.075158</td>\n",
              "      <td>0.589044</td>\n",
              "      <td>-0.433349</td>\n",
              "      <td>-0.909365</td>\n",
              "      <td>-0.654349</td>\n",
              "      <td>-0.099322</td>\n",
              "      <td>0.178931</td>\n",
              "      <td>-0.258378</td>\n",
              "      <td>-0.018139</td>\n",
              "      <td>...</td>\n",
              "      <td>-0.993405</td>\n",
              "      <td>-0.834715</td>\n",
              "      <td>-0.330987</td>\n",
              "      <td>-0.478510</td>\n",
              "      <td>-0.474446</td>\n",
              "      <td>-0.688335</td>\n",
              "      <td>-0.409286</td>\n",
              "      <td>-0.368298</td>\n",
              "      <td>0</td>\n",
              "      <td>d+14</td>\n",
              "    </tr>\n",
              "    <tr>\n",
              "      <th>14</th>\n",
              "      <td>-0.077642</td>\n",
              "      <td>-0.214018</td>\n",
              "      <td>0.245515</td>\n",
              "      <td>-0.552770</td>\n",
              "      <td>-0.910432</td>\n",
              "      <td>-0.650530</td>\n",
              "      <td>-0.118610</td>\n",
              "      <td>0.075983</td>\n",
              "      <td>-0.429134</td>\n",
              "      <td>0.043638</td>\n",
              "      <td>...</td>\n",
              "      <td>-0.993309</td>\n",
              "      <td>-0.861832</td>\n",
              "      <td>-0.449597</td>\n",
              "      <td>-0.442567</td>\n",
              "      <td>-0.581779</td>\n",
              "      <td>-0.662223</td>\n",
              "      <td>-0.409071</td>\n",
              "      <td>-0.375073</td>\n",
              "      <td>0</td>\n",
              "      <td>d+22 ~ 28 평균</td>\n",
              "    </tr>\n",
              "  </tbody>\n",
              "</table>\n",
              "<p>15 rows × 39 columns</p>\n",
              "</div>"
            ],
            "text/plain": [
              "     품목0 변동률   품목1 변동률   품목2 변동률   품목3 변동률   품목4 변동률   품목5 변동률   품목6 변동률  \\\n",
              "0   0.035931 -0.064334  0.427013 -0.528670 -0.912606 -0.656862 -0.075085   \n",
              "1  -0.115037 -0.513245  0.356411 -0.598174 -0.910313 -0.654488 -0.069774   \n",
              "2  -0.656074 -0.650547 -0.632461 -0.621059 -0.911025 -0.655343 -0.077733   \n",
              "3   0.032471 -0.086490  0.748556 -0.501957 -0.912073 -0.659936 -0.083052   \n",
              "4   0.060043 -0.062412  0.484019 -0.439780 -0.911206 -0.658211 -0.077831   \n",
              "5   0.017624 -0.045505  0.578864 -0.449891 -0.909957 -0.658736 -0.088465   \n",
              "6  -0.030329 -0.060060  0.534818 -0.426143 -0.911010 -0.658421 -0.093271   \n",
              "7   0.031533 -0.084409  0.428024 -0.581346 -0.911605 -0.655202 -0.093183   \n",
              "8  -0.112453 -0.495918  0.253767 -0.662444 -0.909055 -0.653284 -0.085806   \n",
              "9  -0.636858 -0.639287 -0.634499 -0.651308 -0.909224 -0.653832 -0.081967   \n",
              "10 -0.001940 -0.081181  0.736429 -0.531178 -0.911010 -0.655413 -0.085052   \n",
              "11  0.108520 -0.068104  0.547346 -0.484461 -0.909934 -0.658269 -0.098406   \n",
              "12 -0.065820 -0.047050  0.603535 -0.470623 -0.908716 -0.652538 -0.104378   \n",
              "13 -0.024317 -0.075158  0.589044 -0.433349 -0.909365 -0.654349 -0.099322   \n",
              "14 -0.077642 -0.214018  0.245515 -0.552770 -0.910432 -0.650530 -0.118610   \n",
              "\n",
              "     품목7 변동률   품목8 변동률   품목9 변동률  ...  품목29 변동률  품목30 변동률  품목31 변동률  품목32 변동률  \\\n",
              "0   0.093338 -0.289474 -0.108964  ... -0.994321 -0.968824 -0.239520 -0.438702   \n",
              "1   0.070129 -0.396156 -0.120256  ... -0.993464 -0.861864 -0.417680 -0.421541   \n",
              "2  -0.576262 -0.957598 -0.158271  ... -0.994176 -0.894497 -0.972825 -0.425164   \n",
              "3   0.241158 -0.339287 -0.103477  ... -0.992727 -0.876454 -0.334330 -0.334492   \n",
              "4   0.242817 -0.304875 -0.093703  ... -0.994545 -0.854593 -0.358293 -0.465320   \n",
              "5   0.305407 -0.280947 -0.099766  ... -0.993338 -0.883800 -0.372917 -0.476010   \n",
              "6   0.138094 -0.334729 -0.082095  ... -0.993365 -0.839677 -0.332112 -0.468731   \n",
              "7  -0.005224 -0.413933 -0.116114  ... -0.992161 -0.985958 -0.363363 -0.440587   \n",
              "8  -0.120271 -0.409288 -0.037305  ... -0.992163 -0.849398 -0.458013 -0.405509   \n",
              "9  -0.464527 -0.925071 -0.167743  ... -0.991999 -0.875329 -0.889311 -0.413185   \n",
              "10  0.414646 -0.349241 -0.164371  ... -0.992253 -0.866804 -0.215090 -0.334636   \n",
              "11  0.109123 -0.308540 -0.119254  ... -0.992514 -0.842427 -0.294281 -0.457992   \n",
              "12  0.337562 -0.270348 -0.029477  ... -0.993855 -0.875360 -0.335849 -0.493245   \n",
              "13  0.178931 -0.258378 -0.018139  ... -0.993405 -0.834715 -0.330987 -0.478510   \n",
              "14  0.075983 -0.429134  0.043638  ... -0.993309 -0.861832 -0.449597 -0.442567   \n",
              "\n",
              "    품목33 변동률  품목34 변동률  품목35 변동률  품목36 변동률  Set            일자  \n",
              "0  -0.540897 -0.680557 -0.365994 -0.389798    0           d+1  \n",
              "1  -0.500797 -0.695310 -0.430805 -0.378633    0           d+2  \n",
              "2  -1.014195 -0.686708 -0.845752 -0.380392    0           d+3  \n",
              "3  -0.410658 -0.678763 -0.309851 -0.375955    0           d+4  \n",
              "4  -0.436878 -0.676247 -0.312404 -0.364037    0           d+5  \n",
              "5  -0.538835 -0.676858 -0.407165 -0.368593    0           d+6  \n",
              "6  -0.490203 -0.684739 -0.411540 -0.369075    0           d+7  \n",
              "7  -0.577941 -0.695501 -0.410494 -0.390150    0           d+8  \n",
              "8  -0.505840 -0.673581 -0.434040 -0.378564    0           d+9  \n",
              "9  -0.994733 -0.686921 -0.904197 -0.379905    0          d+10  \n",
              "10 -0.449060 -0.674173 -0.359541 -0.372524    0          d+11  \n",
              "11 -0.497902 -0.643387 -0.314170 -0.363094    0          d+12  \n",
              "12 -0.538578 -0.701583 -0.399774 -0.366912    0          d+13  \n",
              "13 -0.474446 -0.688335 -0.409286 -0.368298    0          d+14  \n",
              "14 -0.581779 -0.662223 -0.409071 -0.375073    0  d+22 ~ 28 평균  \n",
              "\n",
              "[15 rows x 39 columns]"
            ]
          },
          "execution_count": 79,
          "metadata": {},
          "output_type": "execute_result"
        }
      ],
      "source": [
        "answer_df_0"
      ]
    },
    {
      "cell_type": "markdown",
      "metadata": {
        "id": "tiRvcBaMD82b"
      },
      "source": [
        "- 정답 양식으로 변경"
      ]
    },
    {
      "cell_type": "code",
      "execution_count": null,
      "metadata": {
        "id": "TDCkhEIz10g1"
      },
      "outputs": [],
      "source": [
        "# set, 일자 기억하기위해 따로 저장\n",
        "\n",
        "re_set = list(all_df['Set'])\n",
        "re_date = list(all_df['일자'])\n",
        "\n",
        "\n",
        "# 정답 양식 불러오기\n",
        "out_ans = pd.read_csv('./aT_data/answer_example.csv')\n",
        "\n",
        "# 두 dataframe 합치기 (nan + 숫자 = nan 이용)\n",
        "submit_df = all_df + out_ans\n",
        "\n",
        "submit_df['Set'] = re_set\n",
        "submit_df['일자'] = re_date\n",
        "\n",
        "\n",
        "# 최종 저장\n",
        "submit_df.to_csv(f'./submit/submit_{test_num}.csv',index=False)"
      ]
    },
    {
      "cell_type": "markdown",
      "metadata": {
        "id": "KDA0Hq3jFv39"
      },
      "source": [
        "- 계산된 변동률 결과물"
      ]
    },
    {
      "cell_type": "code",
      "execution_count": null,
      "metadata": {
        "id": "_mKkxdrSFzpm"
      },
      "outputs": [
        {
          "data": {
            "text/html": [
              "<div>\n",
              "<style scoped>\n",
              "    .dataframe tbody tr th:only-of-type {\n",
              "        vertical-align: middle;\n",
              "    }\n",
              "\n",
              "    .dataframe tbody tr th {\n",
              "        vertical-align: top;\n",
              "    }\n",
              "\n",
              "    .dataframe thead th {\n",
              "        text-align: right;\n",
              "    }\n",
              "</style>\n",
              "<table border=\"1\" class=\"dataframe\">\n",
              "  <thead>\n",
              "    <tr style=\"text-align: right;\">\n",
              "      <th></th>\n",
              "      <th>Set</th>\n",
              "      <th>일자</th>\n",
              "      <th>품목0 변동률</th>\n",
              "      <th>품목1 변동률</th>\n",
              "      <th>품목2 변동률</th>\n",
              "      <th>품목3 변동률</th>\n",
              "      <th>품목4 변동률</th>\n",
              "      <th>품목5 변동률</th>\n",
              "      <th>품목6 변동률</th>\n",
              "      <th>품목7 변동률</th>\n",
              "      <th>...</th>\n",
              "      <th>품목27 변동률</th>\n",
              "      <th>품목28 변동률</th>\n",
              "      <th>품목29 변동률</th>\n",
              "      <th>품목30 변동률</th>\n",
              "      <th>품목31 변동률</th>\n",
              "      <th>품목32 변동률</th>\n",
              "      <th>품목33 변동률</th>\n",
              "      <th>품목34 변동률</th>\n",
              "      <th>품목35 변동률</th>\n",
              "      <th>품목36 변동률</th>\n",
              "    </tr>\n",
              "  </thead>\n",
              "  <tbody>\n",
              "    <tr>\n",
              "      <th>0</th>\n",
              "      <td>0</td>\n",
              "      <td>d+1</td>\n",
              "      <td>0.035931</td>\n",
              "      <td>-0.064334</td>\n",
              "      <td>0.427013</td>\n",
              "      <td>-0.528670</td>\n",
              "      <td>-0.912606</td>\n",
              "      <td>-0.656862</td>\n",
              "      <td>-0.075085</td>\n",
              "      <td>0.093338</td>\n",
              "      <td>...</td>\n",
              "      <td>0.009078</td>\n",
              "      <td>-0.493440</td>\n",
              "      <td>-0.994321</td>\n",
              "      <td>-0.968824</td>\n",
              "      <td>-0.239520</td>\n",
              "      <td>-0.438702</td>\n",
              "      <td>-0.540897</td>\n",
              "      <td>-0.680557</td>\n",
              "      <td>-0.365994</td>\n",
              "      <td>-0.389798</td>\n",
              "    </tr>\n",
              "    <tr>\n",
              "      <th>1</th>\n",
              "      <td>0</td>\n",
              "      <td>d+2</td>\n",
              "      <td>-0.115037</td>\n",
              "      <td>-0.513245</td>\n",
              "      <td>0.356411</td>\n",
              "      <td>-0.598174</td>\n",
              "      <td>-0.910313</td>\n",
              "      <td>-0.654488</td>\n",
              "      <td>-0.069774</td>\n",
              "      <td>0.070129</td>\n",
              "      <td>...</td>\n",
              "      <td>-0.261985</td>\n",
              "      <td>-0.520689</td>\n",
              "      <td>-0.993464</td>\n",
              "      <td>-0.861864</td>\n",
              "      <td>-0.417680</td>\n",
              "      <td>-0.421541</td>\n",
              "      <td>-0.500797</td>\n",
              "      <td>-0.695310</td>\n",
              "      <td>-0.430805</td>\n",
              "      <td>-0.378633</td>\n",
              "    </tr>\n",
              "    <tr>\n",
              "      <th>2</th>\n",
              "      <td>0</td>\n",
              "      <td>d+3</td>\n",
              "      <td>-0.656074</td>\n",
              "      <td>-0.650547</td>\n",
              "      <td>-0.632461</td>\n",
              "      <td>-0.621059</td>\n",
              "      <td>-0.911025</td>\n",
              "      <td>-0.655343</td>\n",
              "      <td>-0.077733</td>\n",
              "      <td>-0.576262</td>\n",
              "      <td>...</td>\n",
              "      <td>-0.666723</td>\n",
              "      <td>-0.664802</td>\n",
              "      <td>-0.994176</td>\n",
              "      <td>-0.894497</td>\n",
              "      <td>-0.972825</td>\n",
              "      <td>-0.425164</td>\n",
              "      <td>-1.014195</td>\n",
              "      <td>-0.686708</td>\n",
              "      <td>-0.845752</td>\n",
              "      <td>-0.380392</td>\n",
              "    </tr>\n",
              "    <tr>\n",
              "      <th>3</th>\n",
              "      <td>0</td>\n",
              "      <td>d+4</td>\n",
              "      <td>0.032471</td>\n",
              "      <td>-0.086490</td>\n",
              "      <td>0.748556</td>\n",
              "      <td>-0.501957</td>\n",
              "      <td>-0.912073</td>\n",
              "      <td>-0.659936</td>\n",
              "      <td>-0.083052</td>\n",
              "      <td>0.241158</td>\n",
              "      <td>...</td>\n",
              "      <td>0.076360</td>\n",
              "      <td>-0.656949</td>\n",
              "      <td>-0.992727</td>\n",
              "      <td>-0.876454</td>\n",
              "      <td>-0.334330</td>\n",
              "      <td>-0.334492</td>\n",
              "      <td>-0.410658</td>\n",
              "      <td>-0.678763</td>\n",
              "      <td>-0.309851</td>\n",
              "      <td>-0.375955</td>\n",
              "    </tr>\n",
              "    <tr>\n",
              "      <th>4</th>\n",
              "      <td>0</td>\n",
              "      <td>d+5</td>\n",
              "      <td>0.060043</td>\n",
              "      <td>-0.062412</td>\n",
              "      <td>0.484019</td>\n",
              "      <td>-0.439780</td>\n",
              "      <td>-0.911206</td>\n",
              "      <td>-0.658211</td>\n",
              "      <td>-0.077831</td>\n",
              "      <td>0.242817</td>\n",
              "      <td>...</td>\n",
              "      <td>-0.004840</td>\n",
              "      <td>-0.574934</td>\n",
              "      <td>-0.994545</td>\n",
              "      <td>-0.854593</td>\n",
              "      <td>-0.358293</td>\n",
              "      <td>-0.465320</td>\n",
              "      <td>-0.436878</td>\n",
              "      <td>-0.676247</td>\n",
              "      <td>-0.312404</td>\n",
              "      <td>-0.364037</td>\n",
              "    </tr>\n",
              "    <tr>\n",
              "      <th>...</th>\n",
              "      <td>...</td>\n",
              "      <td>...</td>\n",
              "      <td>...</td>\n",
              "      <td>...</td>\n",
              "      <td>...</td>\n",
              "      <td>...</td>\n",
              "      <td>...</td>\n",
              "      <td>...</td>\n",
              "      <td>...</td>\n",
              "      <td>...</td>\n",
              "      <td>...</td>\n",
              "      <td>...</td>\n",
              "      <td>...</td>\n",
              "      <td>...</td>\n",
              "      <td>...</td>\n",
              "      <td>...</td>\n",
              "      <td>...</td>\n",
              "      <td>...</td>\n",
              "      <td>...</td>\n",
              "      <td>...</td>\n",
              "      <td>...</td>\n",
              "    </tr>\n",
              "    <tr>\n",
              "      <th>145</th>\n",
              "      <td>9</td>\n",
              "      <td>d+11</td>\n",
              "      <td>-0.333259</td>\n",
              "      <td>-0.150941</td>\n",
              "      <td>0.215028</td>\n",
              "      <td>-0.123271</td>\n",
              "      <td>-0.654930</td>\n",
              "      <td>-0.766785</td>\n",
              "      <td>-0.822911</td>\n",
              "      <td>NaN</td>\n",
              "      <td>...</td>\n",
              "      <td>-0.049888</td>\n",
              "      <td>-0.714168</td>\n",
              "      <td>-0.993062</td>\n",
              "      <td>-1.523844</td>\n",
              "      <td>-0.015295</td>\n",
              "      <td>-0.186742</td>\n",
              "      <td>-0.617940</td>\n",
              "      <td>0.037620</td>\n",
              "      <td>-0.085884</td>\n",
              "      <td>-0.493653</td>\n",
              "    </tr>\n",
              "    <tr>\n",
              "      <th>146</th>\n",
              "      <td>9</td>\n",
              "      <td>d+12</td>\n",
              "      <td>-0.345852</td>\n",
              "      <td>-0.168063</td>\n",
              "      <td>0.130232</td>\n",
              "      <td>-0.162403</td>\n",
              "      <td>-0.678327</td>\n",
              "      <td>-0.770218</td>\n",
              "      <td>-0.816687</td>\n",
              "      <td>NaN</td>\n",
              "      <td>...</td>\n",
              "      <td>-0.070860</td>\n",
              "      <td>-0.557075</td>\n",
              "      <td>-0.993295</td>\n",
              "      <td>0.396585</td>\n",
              "      <td>-0.026242</td>\n",
              "      <td>-0.304954</td>\n",
              "      <td>-0.587855</td>\n",
              "      <td>0.128025</td>\n",
              "      <td>-0.089726</td>\n",
              "      <td>-0.484652</td>\n",
              "    </tr>\n",
              "    <tr>\n",
              "      <th>147</th>\n",
              "      <td>9</td>\n",
              "      <td>d+13</td>\n",
              "      <td>-0.402864</td>\n",
              "      <td>-0.127313</td>\n",
              "      <td>0.165152</td>\n",
              "      <td>-0.161243</td>\n",
              "      <td>-0.618772</td>\n",
              "      <td>-0.766023</td>\n",
              "      <td>-0.829573</td>\n",
              "      <td>NaN</td>\n",
              "      <td>...</td>\n",
              "      <td>-0.062880</td>\n",
              "      <td>-0.562561</td>\n",
              "      <td>-0.994497</td>\n",
              "      <td>-0.268160</td>\n",
              "      <td>-0.096355</td>\n",
              "      <td>-0.382257</td>\n",
              "      <td>-0.636426</td>\n",
              "      <td>-0.046316</td>\n",
              "      <td>-0.166886</td>\n",
              "      <td>-0.491094</td>\n",
              "    </tr>\n",
              "    <tr>\n",
              "      <th>148</th>\n",
              "      <td>9</td>\n",
              "      <td>d+14</td>\n",
              "      <td>-0.411495</td>\n",
              "      <td>-0.119988</td>\n",
              "      <td>0.148485</td>\n",
              "      <td>-0.131628</td>\n",
              "      <td>-0.668598</td>\n",
              "      <td>-0.765657</td>\n",
              "      <td>-0.824809</td>\n",
              "      <td>NaN</td>\n",
              "      <td>...</td>\n",
              "      <td>-0.064678</td>\n",
              "      <td>-0.551531</td>\n",
              "      <td>-0.994093</td>\n",
              "      <td>-0.453503</td>\n",
              "      <td>-0.047449</td>\n",
              "      <td>-0.335234</td>\n",
              "      <td>-0.663255</td>\n",
              "      <td>0.001727</td>\n",
              "      <td>-0.139577</td>\n",
              "      <td>-0.490446</td>\n",
              "    </tr>\n",
              "    <tr>\n",
              "      <th>149</th>\n",
              "      <td>9</td>\n",
              "      <td>d+22 ~ 28 평균</td>\n",
              "      <td>-0.437212</td>\n",
              "      <td>-0.250703</td>\n",
              "      <td>-0.006095</td>\n",
              "      <td>-0.258169</td>\n",
              "      <td>-0.719366</td>\n",
              "      <td>-0.765150</td>\n",
              "      <td>-0.828524</td>\n",
              "      <td>NaN</td>\n",
              "      <td>...</td>\n",
              "      <td>-0.170916</td>\n",
              "      <td>-0.603577</td>\n",
              "      <td>-0.994007</td>\n",
              "      <td>-0.675650</td>\n",
              "      <td>-0.196184</td>\n",
              "      <td>-0.331241</td>\n",
              "      <td>-0.667361</td>\n",
              "      <td>0.084462</td>\n",
              "      <td>-0.270471</td>\n",
              "      <td>-0.496256</td>\n",
              "    </tr>\n",
              "  </tbody>\n",
              "</table>\n",
              "<p>150 rows × 39 columns</p>\n",
              "</div>"
            ],
            "text/plain": [
              "     Set            일자   품목0 변동률   품목1 변동률   품목2 변동률   품목3 변동률   품목4 변동률  \\\n",
              "0      0           d+1  0.035931 -0.064334  0.427013 -0.528670 -0.912606   \n",
              "1      0           d+2 -0.115037 -0.513245  0.356411 -0.598174 -0.910313   \n",
              "2      0           d+3 -0.656074 -0.650547 -0.632461 -0.621059 -0.911025   \n",
              "3      0           d+4  0.032471 -0.086490  0.748556 -0.501957 -0.912073   \n",
              "4      0           d+5  0.060043 -0.062412  0.484019 -0.439780 -0.911206   \n",
              "..   ...           ...       ...       ...       ...       ...       ...   \n",
              "145    9          d+11 -0.333259 -0.150941  0.215028 -0.123271 -0.654930   \n",
              "146    9          d+12 -0.345852 -0.168063  0.130232 -0.162403 -0.678327   \n",
              "147    9          d+13 -0.402864 -0.127313  0.165152 -0.161243 -0.618772   \n",
              "148    9          d+14 -0.411495 -0.119988  0.148485 -0.131628 -0.668598   \n",
              "149    9  d+22 ~ 28 평균 -0.437212 -0.250703 -0.006095 -0.258169 -0.719366   \n",
              "\n",
              "      품목5 변동률   품목6 변동률   품목7 변동률  ...  품목27 변동률  품목28 변동률  품목29 변동률  \\\n",
              "0   -0.656862 -0.075085  0.093338  ...  0.009078 -0.493440 -0.994321   \n",
              "1   -0.654488 -0.069774  0.070129  ... -0.261985 -0.520689 -0.993464   \n",
              "2   -0.655343 -0.077733 -0.576262  ... -0.666723 -0.664802 -0.994176   \n",
              "3   -0.659936 -0.083052  0.241158  ...  0.076360 -0.656949 -0.992727   \n",
              "4   -0.658211 -0.077831  0.242817  ... -0.004840 -0.574934 -0.994545   \n",
              "..        ...       ...       ...  ...       ...       ...       ...   \n",
              "145 -0.766785 -0.822911       NaN  ... -0.049888 -0.714168 -0.993062   \n",
              "146 -0.770218 -0.816687       NaN  ... -0.070860 -0.557075 -0.993295   \n",
              "147 -0.766023 -0.829573       NaN  ... -0.062880 -0.562561 -0.994497   \n",
              "148 -0.765657 -0.824809       NaN  ... -0.064678 -0.551531 -0.994093   \n",
              "149 -0.765150 -0.828524       NaN  ... -0.170916 -0.603577 -0.994007   \n",
              "\n",
              "     품목30 변동률  품목31 변동률  품목32 변동률  품목33 변동률  품목34 변동률  품목35 변동률  품목36 변동률  \n",
              "0   -0.968824 -0.239520 -0.438702 -0.540897 -0.680557 -0.365994 -0.389798  \n",
              "1   -0.861864 -0.417680 -0.421541 -0.500797 -0.695310 -0.430805 -0.378633  \n",
              "2   -0.894497 -0.972825 -0.425164 -1.014195 -0.686708 -0.845752 -0.380392  \n",
              "3   -0.876454 -0.334330 -0.334492 -0.410658 -0.678763 -0.309851 -0.375955  \n",
              "4   -0.854593 -0.358293 -0.465320 -0.436878 -0.676247 -0.312404 -0.364037  \n",
              "..        ...       ...       ...       ...       ...       ...       ...  \n",
              "145 -1.523844 -0.015295 -0.186742 -0.617940  0.037620 -0.085884 -0.493653  \n",
              "146  0.396585 -0.026242 -0.304954 -0.587855  0.128025 -0.089726 -0.484652  \n",
              "147 -0.268160 -0.096355 -0.382257 -0.636426 -0.046316 -0.166886 -0.491094  \n",
              "148 -0.453503 -0.047449 -0.335234 -0.663255  0.001727 -0.139577 -0.490446  \n",
              "149 -0.675650 -0.196184 -0.331241 -0.667361  0.084462 -0.270471 -0.496256  \n",
              "\n",
              "[150 rows x 39 columns]"
            ]
          },
          "execution_count": 81,
          "metadata": {},
          "output_type": "execute_result"
        }
      ],
      "source": [
        "all_df"
      ]
    },
    {
      "cell_type": "markdown",
      "metadata": {
        "id": "B4ZIqhpdF26-"
      },
      "source": [
        "- 제출 양식"
      ]
    },
    {
      "cell_type": "code",
      "execution_count": null,
      "metadata": {
        "id": "lgBJdo0iF45J"
      },
      "outputs": [
        {
          "data": {
            "text/html": [
              "<div>\n",
              "<style scoped>\n",
              "    .dataframe tbody tr th:only-of-type {\n",
              "        vertical-align: middle;\n",
              "    }\n",
              "\n",
              "    .dataframe tbody tr th {\n",
              "        vertical-align: top;\n",
              "    }\n",
              "\n",
              "    .dataframe thead th {\n",
              "        text-align: right;\n",
              "    }\n",
              "</style>\n",
              "<table border=\"1\" class=\"dataframe\">\n",
              "  <thead>\n",
              "    <tr style=\"text-align: right;\">\n",
              "      <th></th>\n",
              "      <th>Set</th>\n",
              "      <th>일자</th>\n",
              "      <th>품목0 변동률</th>\n",
              "      <th>품목1 변동률</th>\n",
              "      <th>품목2 변동률</th>\n",
              "      <th>품목3 변동률</th>\n",
              "      <th>품목4 변동률</th>\n",
              "      <th>품목5 변동률</th>\n",
              "      <th>품목6 변동률</th>\n",
              "      <th>품목7 변동률</th>\n",
              "      <th>...</th>\n",
              "      <th>품목27 변동률</th>\n",
              "      <th>품목28 변동률</th>\n",
              "      <th>품목29 변동률</th>\n",
              "      <th>품목30 변동률</th>\n",
              "      <th>품목31 변동률</th>\n",
              "      <th>품목32 변동률</th>\n",
              "      <th>품목33 변동률</th>\n",
              "      <th>품목34 변동률</th>\n",
              "      <th>품목35 변동률</th>\n",
              "      <th>품목36 변동률</th>\n",
              "    </tr>\n",
              "  </thead>\n",
              "  <tbody>\n",
              "    <tr>\n",
              "      <th>0</th>\n",
              "      <td>0</td>\n",
              "      <td>d+1</td>\n",
              "      <td>0.0</td>\n",
              "      <td>0.0</td>\n",
              "      <td>0.0</td>\n",
              "      <td>0.0</td>\n",
              "      <td>0.0</td>\n",
              "      <td>0.0</td>\n",
              "      <td>0.0</td>\n",
              "      <td>0.0</td>\n",
              "      <td>...</td>\n",
              "      <td>0.0</td>\n",
              "      <td>0.0</td>\n",
              "      <td>0.0</td>\n",
              "      <td>0.0</td>\n",
              "      <td>0.0</td>\n",
              "      <td>0.0</td>\n",
              "      <td>0.0</td>\n",
              "      <td>0.0</td>\n",
              "      <td>0.0</td>\n",
              "      <td>0.0</td>\n",
              "    </tr>\n",
              "    <tr>\n",
              "      <th>1</th>\n",
              "      <td>0</td>\n",
              "      <td>d+2</td>\n",
              "      <td>0.0</td>\n",
              "      <td>0.0</td>\n",
              "      <td>0.0</td>\n",
              "      <td>0.0</td>\n",
              "      <td>0.0</td>\n",
              "      <td>0.0</td>\n",
              "      <td>NaN</td>\n",
              "      <td>0.0</td>\n",
              "      <td>...</td>\n",
              "      <td>0.0</td>\n",
              "      <td>0.0</td>\n",
              "      <td>0.0</td>\n",
              "      <td>0.0</td>\n",
              "      <td>0.0</td>\n",
              "      <td>0.0</td>\n",
              "      <td>0.0</td>\n",
              "      <td>0.0</td>\n",
              "      <td>0.0</td>\n",
              "      <td>0.0</td>\n",
              "    </tr>\n",
              "    <tr>\n",
              "      <th>2</th>\n",
              "      <td>0</td>\n",
              "      <td>d+3</td>\n",
              "      <td>NaN</td>\n",
              "      <td>NaN</td>\n",
              "      <td>NaN</td>\n",
              "      <td>NaN</td>\n",
              "      <td>NaN</td>\n",
              "      <td>NaN</td>\n",
              "      <td>0.0</td>\n",
              "      <td>NaN</td>\n",
              "      <td>...</td>\n",
              "      <td>NaN</td>\n",
              "      <td>NaN</td>\n",
              "      <td>NaN</td>\n",
              "      <td>NaN</td>\n",
              "      <td>NaN</td>\n",
              "      <td>NaN</td>\n",
              "      <td>NaN</td>\n",
              "      <td>NaN</td>\n",
              "      <td>NaN</td>\n",
              "      <td>NaN</td>\n",
              "    </tr>\n",
              "    <tr>\n",
              "      <th>3</th>\n",
              "      <td>0</td>\n",
              "      <td>d+4</td>\n",
              "      <td>0.0</td>\n",
              "      <td>0.0</td>\n",
              "      <td>0.0</td>\n",
              "      <td>0.0</td>\n",
              "      <td>0.0</td>\n",
              "      <td>0.0</td>\n",
              "      <td>NaN</td>\n",
              "      <td>0.0</td>\n",
              "      <td>...</td>\n",
              "      <td>0.0</td>\n",
              "      <td>0.0</td>\n",
              "      <td>0.0</td>\n",
              "      <td>0.0</td>\n",
              "      <td>0.0</td>\n",
              "      <td>0.0</td>\n",
              "      <td>0.0</td>\n",
              "      <td>0.0</td>\n",
              "      <td>0.0</td>\n",
              "      <td>0.0</td>\n",
              "    </tr>\n",
              "    <tr>\n",
              "      <th>4</th>\n",
              "      <td>0</td>\n",
              "      <td>d+5</td>\n",
              "      <td>0.0</td>\n",
              "      <td>0.0</td>\n",
              "      <td>0.0</td>\n",
              "      <td>0.0</td>\n",
              "      <td>0.0</td>\n",
              "      <td>0.0</td>\n",
              "      <td>NaN</td>\n",
              "      <td>0.0</td>\n",
              "      <td>...</td>\n",
              "      <td>0.0</td>\n",
              "      <td>0.0</td>\n",
              "      <td>0.0</td>\n",
              "      <td>0.0</td>\n",
              "      <td>0.0</td>\n",
              "      <td>0.0</td>\n",
              "      <td>0.0</td>\n",
              "      <td>0.0</td>\n",
              "      <td>0.0</td>\n",
              "      <td>0.0</td>\n",
              "    </tr>\n",
              "    <tr>\n",
              "      <th>...</th>\n",
              "      <td>...</td>\n",
              "      <td>...</td>\n",
              "      <td>...</td>\n",
              "      <td>...</td>\n",
              "      <td>...</td>\n",
              "      <td>...</td>\n",
              "      <td>...</td>\n",
              "      <td>...</td>\n",
              "      <td>...</td>\n",
              "      <td>...</td>\n",
              "      <td>...</td>\n",
              "      <td>...</td>\n",
              "      <td>...</td>\n",
              "      <td>...</td>\n",
              "      <td>...</td>\n",
              "      <td>...</td>\n",
              "      <td>...</td>\n",
              "      <td>...</td>\n",
              "      <td>...</td>\n",
              "      <td>...</td>\n",
              "      <td>...</td>\n",
              "    </tr>\n",
              "    <tr>\n",
              "      <th>145</th>\n",
              "      <td>9</td>\n",
              "      <td>d+11</td>\n",
              "      <td>0.0</td>\n",
              "      <td>0.0</td>\n",
              "      <td>0.0</td>\n",
              "      <td>0.0</td>\n",
              "      <td>0.0</td>\n",
              "      <td>0.0</td>\n",
              "      <td>0.0</td>\n",
              "      <td>0.0</td>\n",
              "      <td>...</td>\n",
              "      <td>0.0</td>\n",
              "      <td>0.0</td>\n",
              "      <td>0.0</td>\n",
              "      <td>0.0</td>\n",
              "      <td>0.0</td>\n",
              "      <td>0.0</td>\n",
              "      <td>0.0</td>\n",
              "      <td>0.0</td>\n",
              "      <td>0.0</td>\n",
              "      <td>0.0</td>\n",
              "    </tr>\n",
              "    <tr>\n",
              "      <th>146</th>\n",
              "      <td>9</td>\n",
              "      <td>d+12</td>\n",
              "      <td>0.0</td>\n",
              "      <td>0.0</td>\n",
              "      <td>0.0</td>\n",
              "      <td>0.0</td>\n",
              "      <td>0.0</td>\n",
              "      <td>0.0</td>\n",
              "      <td>0.0</td>\n",
              "      <td>0.0</td>\n",
              "      <td>...</td>\n",
              "      <td>0.0</td>\n",
              "      <td>0.0</td>\n",
              "      <td>0.0</td>\n",
              "      <td>0.0</td>\n",
              "      <td>0.0</td>\n",
              "      <td>0.0</td>\n",
              "      <td>0.0</td>\n",
              "      <td>0.0</td>\n",
              "      <td>0.0</td>\n",
              "      <td>0.0</td>\n",
              "    </tr>\n",
              "    <tr>\n",
              "      <th>147</th>\n",
              "      <td>9</td>\n",
              "      <td>d+13</td>\n",
              "      <td>0.0</td>\n",
              "      <td>0.0</td>\n",
              "      <td>0.0</td>\n",
              "      <td>0.0</td>\n",
              "      <td>0.0</td>\n",
              "      <td>0.0</td>\n",
              "      <td>NaN</td>\n",
              "      <td>0.0</td>\n",
              "      <td>...</td>\n",
              "      <td>0.0</td>\n",
              "      <td>0.0</td>\n",
              "      <td>0.0</td>\n",
              "      <td>0.0</td>\n",
              "      <td>0.0</td>\n",
              "      <td>0.0</td>\n",
              "      <td>0.0</td>\n",
              "      <td>0.0</td>\n",
              "      <td>0.0</td>\n",
              "      <td>0.0</td>\n",
              "    </tr>\n",
              "    <tr>\n",
              "      <th>148</th>\n",
              "      <td>9</td>\n",
              "      <td>d+14</td>\n",
              "      <td>0.0</td>\n",
              "      <td>0.0</td>\n",
              "      <td>0.0</td>\n",
              "      <td>0.0</td>\n",
              "      <td>0.0</td>\n",
              "      <td>0.0</td>\n",
              "      <td>0.0</td>\n",
              "      <td>0.0</td>\n",
              "      <td>...</td>\n",
              "      <td>0.0</td>\n",
              "      <td>0.0</td>\n",
              "      <td>0.0</td>\n",
              "      <td>0.0</td>\n",
              "      <td>0.0</td>\n",
              "      <td>0.0</td>\n",
              "      <td>0.0</td>\n",
              "      <td>0.0</td>\n",
              "      <td>0.0</td>\n",
              "      <td>0.0</td>\n",
              "    </tr>\n",
              "    <tr>\n",
              "      <th>149</th>\n",
              "      <td>9</td>\n",
              "      <td>d+22 ~ 28 평균</td>\n",
              "      <td>0.0</td>\n",
              "      <td>0.0</td>\n",
              "      <td>0.0</td>\n",
              "      <td>0.0</td>\n",
              "      <td>0.0</td>\n",
              "      <td>0.0</td>\n",
              "      <td>0.0</td>\n",
              "      <td>0.0</td>\n",
              "      <td>...</td>\n",
              "      <td>0.0</td>\n",
              "      <td>0.0</td>\n",
              "      <td>0.0</td>\n",
              "      <td>0.0</td>\n",
              "      <td>0.0</td>\n",
              "      <td>0.0</td>\n",
              "      <td>0.0</td>\n",
              "      <td>0.0</td>\n",
              "      <td>0.0</td>\n",
              "      <td>0.0</td>\n",
              "    </tr>\n",
              "  </tbody>\n",
              "</table>\n",
              "<p>150 rows × 39 columns</p>\n",
              "</div>"
            ],
            "text/plain": [
              "     Set            일자  품목0 변동률  품목1 변동률  품목2 변동률  품목3 변동률  품목4 변동률  품목5 변동률  \\\n",
              "0      0           d+1      0.0      0.0      0.0      0.0      0.0      0.0   \n",
              "1      0           d+2      0.0      0.0      0.0      0.0      0.0      0.0   \n",
              "2      0           d+3      NaN      NaN      NaN      NaN      NaN      NaN   \n",
              "3      0           d+4      0.0      0.0      0.0      0.0      0.0      0.0   \n",
              "4      0           d+5      0.0      0.0      0.0      0.0      0.0      0.0   \n",
              "..   ...           ...      ...      ...      ...      ...      ...      ...   \n",
              "145    9          d+11      0.0      0.0      0.0      0.0      0.0      0.0   \n",
              "146    9          d+12      0.0      0.0      0.0      0.0      0.0      0.0   \n",
              "147    9          d+13      0.0      0.0      0.0      0.0      0.0      0.0   \n",
              "148    9          d+14      0.0      0.0      0.0      0.0      0.0      0.0   \n",
              "149    9  d+22 ~ 28 평균      0.0      0.0      0.0      0.0      0.0      0.0   \n",
              "\n",
              "     품목6 변동률  품목7 변동률  ...  품목27 변동률  품목28 변동률  품목29 변동률  품목30 변동률  품목31 변동률  \\\n",
              "0        0.0      0.0  ...       0.0       0.0       0.0       0.0       0.0   \n",
              "1        NaN      0.0  ...       0.0       0.0       0.0       0.0       0.0   \n",
              "2        0.0      NaN  ...       NaN       NaN       NaN       NaN       NaN   \n",
              "3        NaN      0.0  ...       0.0       0.0       0.0       0.0       0.0   \n",
              "4        NaN      0.0  ...       0.0       0.0       0.0       0.0       0.0   \n",
              "..       ...      ...  ...       ...       ...       ...       ...       ...   \n",
              "145      0.0      0.0  ...       0.0       0.0       0.0       0.0       0.0   \n",
              "146      0.0      0.0  ...       0.0       0.0       0.0       0.0       0.0   \n",
              "147      NaN      0.0  ...       0.0       0.0       0.0       0.0       0.0   \n",
              "148      0.0      0.0  ...       0.0       0.0       0.0       0.0       0.0   \n",
              "149      0.0      0.0  ...       0.0       0.0       0.0       0.0       0.0   \n",
              "\n",
              "     품목32 변동률  품목33 변동률  품목34 변동률  품목35 변동률  품목36 변동률  \n",
              "0         0.0       0.0       0.0       0.0       0.0  \n",
              "1         0.0       0.0       0.0       0.0       0.0  \n",
              "2         NaN       NaN       NaN       NaN       NaN  \n",
              "3         0.0       0.0       0.0       0.0       0.0  \n",
              "4         0.0       0.0       0.0       0.0       0.0  \n",
              "..        ...       ...       ...       ...       ...  \n",
              "145       0.0       0.0       0.0       0.0       0.0  \n",
              "146       0.0       0.0       0.0       0.0       0.0  \n",
              "147       0.0       0.0       0.0       0.0       0.0  \n",
              "148       0.0       0.0       0.0       0.0       0.0  \n",
              "149       0.0       0.0       0.0       0.0       0.0  \n",
              "\n",
              "[150 rows x 39 columns]"
            ]
          },
          "execution_count": 82,
          "metadata": {},
          "output_type": "execute_result"
        }
      ],
      "source": [
        "out_ans"
      ]
    },
    {
      "cell_type": "markdown",
      "metadata": {
        "id": "AQbCc_EJFuJL"
      },
      "source": [
        "- 제출 양식 반영한 최종 결과물 (**실 제출용**)"
      ]
    },
    {
      "cell_type": "code",
      "execution_count": null,
      "metadata": {
        "id": "Yd7vYCmaERDh"
      },
      "outputs": [
        {
          "data": {
            "text/html": [
              "<div>\n",
              "<style scoped>\n",
              "    .dataframe tbody tr th:only-of-type {\n",
              "        vertical-align: middle;\n",
              "    }\n",
              "\n",
              "    .dataframe tbody tr th {\n",
              "        vertical-align: top;\n",
              "    }\n",
              "\n",
              "    .dataframe thead th {\n",
              "        text-align: right;\n",
              "    }\n",
              "</style>\n",
              "<table border=\"1\" class=\"dataframe\">\n",
              "  <thead>\n",
              "    <tr style=\"text-align: right;\">\n",
              "      <th></th>\n",
              "      <th>Set</th>\n",
              "      <th>일자</th>\n",
              "      <th>품목0 변동률</th>\n",
              "      <th>품목1 변동률</th>\n",
              "      <th>품목2 변동률</th>\n",
              "      <th>품목3 변동률</th>\n",
              "      <th>품목4 변동률</th>\n",
              "      <th>품목5 변동률</th>\n",
              "      <th>품목6 변동률</th>\n",
              "      <th>품목7 변동률</th>\n",
              "      <th>...</th>\n",
              "      <th>품목27 변동률</th>\n",
              "      <th>품목28 변동률</th>\n",
              "      <th>품목29 변동률</th>\n",
              "      <th>품목30 변동률</th>\n",
              "      <th>품목31 변동률</th>\n",
              "      <th>품목32 변동률</th>\n",
              "      <th>품목33 변동률</th>\n",
              "      <th>품목34 변동률</th>\n",
              "      <th>품목35 변동률</th>\n",
              "      <th>품목36 변동률</th>\n",
              "    </tr>\n",
              "  </thead>\n",
              "  <tbody>\n",
              "    <tr>\n",
              "      <th>0</th>\n",
              "      <td>0</td>\n",
              "      <td>d+1</td>\n",
              "      <td>0.035931</td>\n",
              "      <td>-0.064334</td>\n",
              "      <td>0.427013</td>\n",
              "      <td>-0.528670</td>\n",
              "      <td>-0.912606</td>\n",
              "      <td>-0.656862</td>\n",
              "      <td>-0.075085</td>\n",
              "      <td>0.093338</td>\n",
              "      <td>...</td>\n",
              "      <td>0.009078</td>\n",
              "      <td>-0.493440</td>\n",
              "      <td>-0.994321</td>\n",
              "      <td>-0.968824</td>\n",
              "      <td>-0.239520</td>\n",
              "      <td>-0.438702</td>\n",
              "      <td>-0.540897</td>\n",
              "      <td>-0.680557</td>\n",
              "      <td>-0.365994</td>\n",
              "      <td>-0.389798</td>\n",
              "    </tr>\n",
              "    <tr>\n",
              "      <th>1</th>\n",
              "      <td>0</td>\n",
              "      <td>d+2</td>\n",
              "      <td>-0.115037</td>\n",
              "      <td>-0.513245</td>\n",
              "      <td>0.356411</td>\n",
              "      <td>-0.598174</td>\n",
              "      <td>-0.910313</td>\n",
              "      <td>-0.654488</td>\n",
              "      <td>NaN</td>\n",
              "      <td>0.070129</td>\n",
              "      <td>...</td>\n",
              "      <td>-0.261985</td>\n",
              "      <td>-0.520689</td>\n",
              "      <td>-0.993464</td>\n",
              "      <td>-0.861864</td>\n",
              "      <td>-0.417680</td>\n",
              "      <td>-0.421541</td>\n",
              "      <td>-0.500797</td>\n",
              "      <td>-0.695310</td>\n",
              "      <td>-0.430805</td>\n",
              "      <td>-0.378633</td>\n",
              "    </tr>\n",
              "    <tr>\n",
              "      <th>2</th>\n",
              "      <td>0</td>\n",
              "      <td>d+3</td>\n",
              "      <td>NaN</td>\n",
              "      <td>NaN</td>\n",
              "      <td>NaN</td>\n",
              "      <td>NaN</td>\n",
              "      <td>NaN</td>\n",
              "      <td>NaN</td>\n",
              "      <td>-0.077733</td>\n",
              "      <td>NaN</td>\n",
              "      <td>...</td>\n",
              "      <td>NaN</td>\n",
              "      <td>NaN</td>\n",
              "      <td>NaN</td>\n",
              "      <td>NaN</td>\n",
              "      <td>NaN</td>\n",
              "      <td>NaN</td>\n",
              "      <td>NaN</td>\n",
              "      <td>NaN</td>\n",
              "      <td>NaN</td>\n",
              "      <td>NaN</td>\n",
              "    </tr>\n",
              "    <tr>\n",
              "      <th>3</th>\n",
              "      <td>0</td>\n",
              "      <td>d+4</td>\n",
              "      <td>0.032471</td>\n",
              "      <td>-0.086490</td>\n",
              "      <td>0.748556</td>\n",
              "      <td>-0.501957</td>\n",
              "      <td>-0.912073</td>\n",
              "      <td>-0.659936</td>\n",
              "      <td>NaN</td>\n",
              "      <td>0.241158</td>\n",
              "      <td>...</td>\n",
              "      <td>0.076360</td>\n",
              "      <td>-0.656949</td>\n",
              "      <td>-0.992727</td>\n",
              "      <td>-0.876454</td>\n",
              "      <td>-0.334330</td>\n",
              "      <td>-0.334492</td>\n",
              "      <td>-0.410658</td>\n",
              "      <td>-0.678763</td>\n",
              "      <td>-0.309851</td>\n",
              "      <td>-0.375955</td>\n",
              "    </tr>\n",
              "    <tr>\n",
              "      <th>4</th>\n",
              "      <td>0</td>\n",
              "      <td>d+5</td>\n",
              "      <td>0.060043</td>\n",
              "      <td>-0.062412</td>\n",
              "      <td>0.484019</td>\n",
              "      <td>-0.439780</td>\n",
              "      <td>-0.911206</td>\n",
              "      <td>-0.658211</td>\n",
              "      <td>NaN</td>\n",
              "      <td>0.242817</td>\n",
              "      <td>...</td>\n",
              "      <td>-0.004840</td>\n",
              "      <td>-0.574934</td>\n",
              "      <td>-0.994545</td>\n",
              "      <td>-0.854593</td>\n",
              "      <td>-0.358293</td>\n",
              "      <td>-0.465320</td>\n",
              "      <td>-0.436878</td>\n",
              "      <td>-0.676247</td>\n",
              "      <td>-0.312404</td>\n",
              "      <td>-0.364037</td>\n",
              "    </tr>\n",
              "    <tr>\n",
              "      <th>...</th>\n",
              "      <td>...</td>\n",
              "      <td>...</td>\n",
              "      <td>...</td>\n",
              "      <td>...</td>\n",
              "      <td>...</td>\n",
              "      <td>...</td>\n",
              "      <td>...</td>\n",
              "      <td>...</td>\n",
              "      <td>...</td>\n",
              "      <td>...</td>\n",
              "      <td>...</td>\n",
              "      <td>...</td>\n",
              "      <td>...</td>\n",
              "      <td>...</td>\n",
              "      <td>...</td>\n",
              "      <td>...</td>\n",
              "      <td>...</td>\n",
              "      <td>...</td>\n",
              "      <td>...</td>\n",
              "      <td>...</td>\n",
              "      <td>...</td>\n",
              "    </tr>\n",
              "    <tr>\n",
              "      <th>145</th>\n",
              "      <td>9</td>\n",
              "      <td>d+11</td>\n",
              "      <td>-0.333259</td>\n",
              "      <td>-0.150941</td>\n",
              "      <td>0.215028</td>\n",
              "      <td>-0.123271</td>\n",
              "      <td>-0.654930</td>\n",
              "      <td>-0.766785</td>\n",
              "      <td>-0.822911</td>\n",
              "      <td>NaN</td>\n",
              "      <td>...</td>\n",
              "      <td>-0.049888</td>\n",
              "      <td>-0.714168</td>\n",
              "      <td>-0.993062</td>\n",
              "      <td>-1.523844</td>\n",
              "      <td>-0.015295</td>\n",
              "      <td>-0.186742</td>\n",
              "      <td>-0.617940</td>\n",
              "      <td>0.037620</td>\n",
              "      <td>-0.085884</td>\n",
              "      <td>-0.493653</td>\n",
              "    </tr>\n",
              "    <tr>\n",
              "      <th>146</th>\n",
              "      <td>9</td>\n",
              "      <td>d+12</td>\n",
              "      <td>-0.345852</td>\n",
              "      <td>-0.168063</td>\n",
              "      <td>0.130232</td>\n",
              "      <td>-0.162403</td>\n",
              "      <td>-0.678327</td>\n",
              "      <td>-0.770218</td>\n",
              "      <td>-0.816687</td>\n",
              "      <td>NaN</td>\n",
              "      <td>...</td>\n",
              "      <td>-0.070860</td>\n",
              "      <td>-0.557075</td>\n",
              "      <td>-0.993295</td>\n",
              "      <td>0.396585</td>\n",
              "      <td>-0.026242</td>\n",
              "      <td>-0.304954</td>\n",
              "      <td>-0.587855</td>\n",
              "      <td>0.128025</td>\n",
              "      <td>-0.089726</td>\n",
              "      <td>-0.484652</td>\n",
              "    </tr>\n",
              "    <tr>\n",
              "      <th>147</th>\n",
              "      <td>9</td>\n",
              "      <td>d+13</td>\n",
              "      <td>-0.402864</td>\n",
              "      <td>-0.127313</td>\n",
              "      <td>0.165152</td>\n",
              "      <td>-0.161243</td>\n",
              "      <td>-0.618772</td>\n",
              "      <td>-0.766023</td>\n",
              "      <td>NaN</td>\n",
              "      <td>NaN</td>\n",
              "      <td>...</td>\n",
              "      <td>-0.062880</td>\n",
              "      <td>-0.562561</td>\n",
              "      <td>-0.994497</td>\n",
              "      <td>-0.268160</td>\n",
              "      <td>-0.096355</td>\n",
              "      <td>-0.382257</td>\n",
              "      <td>-0.636426</td>\n",
              "      <td>-0.046316</td>\n",
              "      <td>-0.166886</td>\n",
              "      <td>-0.491094</td>\n",
              "    </tr>\n",
              "    <tr>\n",
              "      <th>148</th>\n",
              "      <td>9</td>\n",
              "      <td>d+14</td>\n",
              "      <td>-0.411495</td>\n",
              "      <td>-0.119988</td>\n",
              "      <td>0.148485</td>\n",
              "      <td>-0.131628</td>\n",
              "      <td>-0.668598</td>\n",
              "      <td>-0.765657</td>\n",
              "      <td>-0.824809</td>\n",
              "      <td>NaN</td>\n",
              "      <td>...</td>\n",
              "      <td>-0.064678</td>\n",
              "      <td>-0.551531</td>\n",
              "      <td>-0.994093</td>\n",
              "      <td>-0.453503</td>\n",
              "      <td>-0.047449</td>\n",
              "      <td>-0.335234</td>\n",
              "      <td>-0.663255</td>\n",
              "      <td>0.001727</td>\n",
              "      <td>-0.139577</td>\n",
              "      <td>-0.490446</td>\n",
              "    </tr>\n",
              "    <tr>\n",
              "      <th>149</th>\n",
              "      <td>9</td>\n",
              "      <td>d+22 ~ 28 평균</td>\n",
              "      <td>-0.437212</td>\n",
              "      <td>-0.250703</td>\n",
              "      <td>-0.006095</td>\n",
              "      <td>-0.258169</td>\n",
              "      <td>-0.719366</td>\n",
              "      <td>-0.765150</td>\n",
              "      <td>-0.828524</td>\n",
              "      <td>NaN</td>\n",
              "      <td>...</td>\n",
              "      <td>-0.170916</td>\n",
              "      <td>-0.603577</td>\n",
              "      <td>-0.994007</td>\n",
              "      <td>-0.675650</td>\n",
              "      <td>-0.196184</td>\n",
              "      <td>-0.331241</td>\n",
              "      <td>-0.667361</td>\n",
              "      <td>0.084462</td>\n",
              "      <td>-0.270471</td>\n",
              "      <td>-0.496256</td>\n",
              "    </tr>\n",
              "  </tbody>\n",
              "</table>\n",
              "<p>150 rows × 39 columns</p>\n",
              "</div>"
            ],
            "text/plain": [
              "     Set            일자   품목0 변동률   품목1 변동률   품목2 변동률   품목3 변동률   품목4 변동률  \\\n",
              "0      0           d+1  0.035931 -0.064334  0.427013 -0.528670 -0.912606   \n",
              "1      0           d+2 -0.115037 -0.513245  0.356411 -0.598174 -0.910313   \n",
              "2      0           d+3       NaN       NaN       NaN       NaN       NaN   \n",
              "3      0           d+4  0.032471 -0.086490  0.748556 -0.501957 -0.912073   \n",
              "4      0           d+5  0.060043 -0.062412  0.484019 -0.439780 -0.911206   \n",
              "..   ...           ...       ...       ...       ...       ...       ...   \n",
              "145    9          d+11 -0.333259 -0.150941  0.215028 -0.123271 -0.654930   \n",
              "146    9          d+12 -0.345852 -0.168063  0.130232 -0.162403 -0.678327   \n",
              "147    9          d+13 -0.402864 -0.127313  0.165152 -0.161243 -0.618772   \n",
              "148    9          d+14 -0.411495 -0.119988  0.148485 -0.131628 -0.668598   \n",
              "149    9  d+22 ~ 28 평균 -0.437212 -0.250703 -0.006095 -0.258169 -0.719366   \n",
              "\n",
              "      품목5 변동률   품목6 변동률   품목7 변동률  ...  품목27 변동률  품목28 변동률  품목29 변동률  \\\n",
              "0   -0.656862 -0.075085  0.093338  ...  0.009078 -0.493440 -0.994321   \n",
              "1   -0.654488       NaN  0.070129  ... -0.261985 -0.520689 -0.993464   \n",
              "2         NaN -0.077733       NaN  ...       NaN       NaN       NaN   \n",
              "3   -0.659936       NaN  0.241158  ...  0.076360 -0.656949 -0.992727   \n",
              "4   -0.658211       NaN  0.242817  ... -0.004840 -0.574934 -0.994545   \n",
              "..        ...       ...       ...  ...       ...       ...       ...   \n",
              "145 -0.766785 -0.822911       NaN  ... -0.049888 -0.714168 -0.993062   \n",
              "146 -0.770218 -0.816687       NaN  ... -0.070860 -0.557075 -0.993295   \n",
              "147 -0.766023       NaN       NaN  ... -0.062880 -0.562561 -0.994497   \n",
              "148 -0.765657 -0.824809       NaN  ... -0.064678 -0.551531 -0.994093   \n",
              "149 -0.765150 -0.828524       NaN  ... -0.170916 -0.603577 -0.994007   \n",
              "\n",
              "     품목30 변동률  품목31 변동률  품목32 변동률  품목33 변동률  품목34 변동률  품목35 변동률  품목36 변동률  \n",
              "0   -0.968824 -0.239520 -0.438702 -0.540897 -0.680557 -0.365994 -0.389798  \n",
              "1   -0.861864 -0.417680 -0.421541 -0.500797 -0.695310 -0.430805 -0.378633  \n",
              "2         NaN       NaN       NaN       NaN       NaN       NaN       NaN  \n",
              "3   -0.876454 -0.334330 -0.334492 -0.410658 -0.678763 -0.309851 -0.375955  \n",
              "4   -0.854593 -0.358293 -0.465320 -0.436878 -0.676247 -0.312404 -0.364037  \n",
              "..        ...       ...       ...       ...       ...       ...       ...  \n",
              "145 -1.523844 -0.015295 -0.186742 -0.617940  0.037620 -0.085884 -0.493653  \n",
              "146  0.396585 -0.026242 -0.304954 -0.587855  0.128025 -0.089726 -0.484652  \n",
              "147 -0.268160 -0.096355 -0.382257 -0.636426 -0.046316 -0.166886 -0.491094  \n",
              "148 -0.453503 -0.047449 -0.335234 -0.663255  0.001727 -0.139577 -0.490446  \n",
              "149 -0.675650 -0.196184 -0.331241 -0.667361  0.084462 -0.270471 -0.496256  \n",
              "\n",
              "[150 rows x 39 columns]"
            ]
          },
          "execution_count": 83,
          "metadata": {},
          "output_type": "execute_result"
        }
      ],
      "source": [
        "submit_df"
      ]
    }
  ],
  "metadata": {
    "accelerator": "GPU",
    "colab": {
      "collapsed_sections": [],
      "machine_shape": "hm",
      "name": "aT_베이스라인.ipynb",
      "provenance": []
    },
    "gpuClass": "standard",
    "interpreter": {
      "hash": "deb94bf6632a2af5d89f59053d61b91cc60ad2a44d7146a6478888aec677e164"
    },
    "kernelspec": {
      "display_name": "Python 3.8.13 64-bit ('nongnet': conda)",
      "name": "python3"
    },
    "language_info": {
      "codemirror_mode": {
        "name": "ipython",
        "version": 3
      },
      "file_extension": ".py",
      "mimetype": "text/x-python",
      "name": "python",
      "nbconvert_exporter": "python",
      "pygments_lexer": "ipython3",
      "version": "3.8.13"
    }
  },
  "nbformat": 4,
  "nbformat_minor": 0
}
