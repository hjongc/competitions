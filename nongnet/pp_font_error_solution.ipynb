{
 "cells": [
  {
   "cell_type": "code",
   "execution_count": 2,
   "metadata": {},
   "outputs": [
    {
     "name": "stdout",
     "output_type": "stream",
     "text": [
      "Name: pandas-profiling\n",
      "Version: 3.3.0\n",
      "Summary: Generate profile report for pandas DataFrame\n",
      "Home-page: https://github.com/ydataai/pandas-profiling\n",
      "Author: YData Labs Inc\n",
      "Author-email: opensource@ydata.ai\n",
      "License: MIT\n",
      "Location: /Users/chai/miniforge3/envs/nnenv/lib/python3.9/site-packages\n",
      "Requires: htmlmin, jinja2, joblib, matplotlib, missingno, multimethod, numpy, pandas, phik, pydantic, PyYAML, requests, scipy, seaborn, statsmodels, tangled-up-in-unicode, tqdm, visions\n",
      "Required-by: \n"
     ]
    }
   ],
   "source": [
    "# 버전 및 위치 확인\n",
    "\n",
    "import pandas_profiling\n",
    "\n",
    "!pip show pandas_profiling"
   ]
  }
 ],
 "metadata": {
  "interpreter": {
   "hash": "0ac99b679e96e98709c35eb1edc554e4edf87e6f7c8255750be86327ee221383"
  },
  "kernelspec": {
   "display_name": "Python 3.9.13 64-bit ('nnenv': conda)",
   "name": "python3"
  },
  "language_info": {
   "codemirror_mode": {
    "name": "ipython",
    "version": 3
   },
   "file_extension": ".py",
   "mimetype": "text/x-python",
   "name": "python",
   "nbconvert_exporter": "python",
   "pygments_lexer": "ipython3",
   "version": "3.9.13"
  },
  "orig_nbformat": 4
 },
 "nbformat": 4,
 "nbformat_minor": 2
}
