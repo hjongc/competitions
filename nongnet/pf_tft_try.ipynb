{
 "cells": [
  {
   "cell_type": "code",
   "execution_count": 1,
   "metadata": {},
   "outputs": [],
   "source": [
    "import os\n",
    "import warnings\n",
    "\n",
    "warnings.filterwarnings(\"ignore\")  # avoid printing out absolute paths"
   ]
  },
  {
   "cell_type": "code",
   "execution_count": 26,
   "metadata": {},
   "outputs": [],
   "source": [
    "import copy\n",
    "from pathlib import Path\n",
    "import warnings\n",
    "\n",
    "import numpy as np\n",
    "import pandas as pd\n",
    "import pytorch_lightning as pl\n",
    "from pytorch_lightning.callbacks import EarlyStopping, LearningRateMonitor\n",
    "from pytorch_lightning.loggers import TensorBoardLogger\n",
    "import torch\n",
    "\n",
    "from pytorch_forecasting import Baseline, TemporalFusionTransformer, TimeSeriesDataSet\n",
    "from pytorch_forecasting.data import GroupNormalizer, EncoderNormalizer\n",
    "from pytorch_forecasting.metrics import SMAPE, PoissonLoss, QuantileLoss\n",
    "from pytorch_forecasting.models.temporal_fusion_transformer.tuning import optimize_hyperparameters\n",
    "\n",
    "from sklearn.preprocessing import RobustScaler"
   ]
  },
  {
   "cell_type": "code",
   "execution_count": 27,
   "metadata": {},
   "outputs": [],
   "source": [
    "from glob2 import glob\n",
    "from numba import jit\n",
    "from pandas_profiling import ProfileReport\n",
    "from tqdm import tqdm"
   ]
  },
  {
   "cell_type": "code",
   "execution_count": 34,
   "metadata": {},
   "outputs": [],
   "source": [
    "train_list = glob('./aT_data/data/train/*.csv')\n",
    "test_list = glob('./aT_data/data/test/set_0/*.csv')"
   ]
  },
  {
   "cell_type": "code",
   "execution_count": 35,
   "metadata": {},
   "outputs": [
    {
     "data": {
      "text/html": [
       "<div>\n",
       "<style scoped>\n",
       "    .dataframe tbody tr th:only-of-type {\n",
       "        vertical-align: middle;\n",
       "    }\n",
       "\n",
       "    .dataframe tbody tr th {\n",
       "        vertical-align: top;\n",
       "    }\n",
       "\n",
       "    .dataframe thead th {\n",
       "        text-align: right;\n",
       "    }\n",
       "</style>\n",
       "<table border=\"1\" class=\"dataframe\">\n",
       "  <thead>\n",
       "    <tr style=\"text-align: right;\">\n",
       "      <th></th>\n",
       "      <th>datadate</th>\n",
       "      <th>단가(원)</th>\n",
       "      <th>거래량</th>\n",
       "      <th>거래대금(원)</th>\n",
       "      <th>경매건수</th>\n",
       "      <th>도매시장코드</th>\n",
       "      <th>도매법인코드</th>\n",
       "      <th>산지코드</th>\n",
       "      <th>해당일자_전체평균가격(원)</th>\n",
       "      <th>해당일자_전체거래물량(kg)</th>\n",
       "      <th>...</th>\n",
       "      <th>월구분_1월</th>\n",
       "      <th>월구분_2월</th>\n",
       "      <th>월구분_3월</th>\n",
       "      <th>월구분_4월</th>\n",
       "      <th>월구분_5월</th>\n",
       "      <th>월구분_6월</th>\n",
       "      <th>월구분_7월</th>\n",
       "      <th>월구분_8월</th>\n",
       "      <th>월구분_9월</th>\n",
       "      <th>group_id</th>\n",
       "    </tr>\n",
       "  </thead>\n",
       "  <tbody>\n",
       "    <tr>\n",
       "      <th>0</th>\n",
       "      <td>20130101</td>\n",
       "      <td>NaN</td>\n",
       "      <td>NaN</td>\n",
       "      <td>NaN</td>\n",
       "      <td>NaN</td>\n",
       "      <td>NaN</td>\n",
       "      <td>NaN</td>\n",
       "      <td>NaN</td>\n",
       "      <td>NaN</td>\n",
       "      <td>NaN</td>\n",
       "      <td>...</td>\n",
       "      <td>1</td>\n",
       "      <td>0</td>\n",
       "      <td>0</td>\n",
       "      <td>0</td>\n",
       "      <td>0</td>\n",
       "      <td>0</td>\n",
       "      <td>0</td>\n",
       "      <td>0</td>\n",
       "      <td>0</td>\n",
       "      <td>4</td>\n",
       "    </tr>\n",
       "    <tr>\n",
       "      <th>1</th>\n",
       "      <td>20130102</td>\n",
       "      <td>1298.70</td>\n",
       "      <td>435.0</td>\n",
       "      <td>566065.5</td>\n",
       "      <td>3.0</td>\n",
       "      <td>350301.0</td>\n",
       "      <td>35030101.0</td>\n",
       "      <td>561.0</td>\n",
       "      <td>1587.314723</td>\n",
       "      <td>116539.0</td>\n",
       "      <td>...</td>\n",
       "      <td>1</td>\n",
       "      <td>0</td>\n",
       "      <td>0</td>\n",
       "      <td>0</td>\n",
       "      <td>0</td>\n",
       "      <td>0</td>\n",
       "      <td>0</td>\n",
       "      <td>0</td>\n",
       "      <td>0</td>\n",
       "      <td>4</td>\n",
       "    </tr>\n",
       "    <tr>\n",
       "      <th>2</th>\n",
       "      <td>20130103</td>\n",
       "      <td>929.07</td>\n",
       "      <td>1005.0</td>\n",
       "      <td>936562.5</td>\n",
       "      <td>5.0</td>\n",
       "      <td>350402.0</td>\n",
       "      <td>35040202.0</td>\n",
       "      <td>580.0</td>\n",
       "      <td>1731.765036</td>\n",
       "      <td>812663.0</td>\n",
       "      <td>...</td>\n",
       "      <td>1</td>\n",
       "      <td>0</td>\n",
       "      <td>0</td>\n",
       "      <td>0</td>\n",
       "      <td>0</td>\n",
       "      <td>0</td>\n",
       "      <td>0</td>\n",
       "      <td>0</td>\n",
       "      <td>0</td>\n",
       "      <td>4</td>\n",
       "    </tr>\n",
       "    <tr>\n",
       "      <th>3</th>\n",
       "      <td>20130104</td>\n",
       "      <td>960.96</td>\n",
       "      <td>360.0</td>\n",
       "      <td>346653.0</td>\n",
       "      <td>4.0</td>\n",
       "      <td>340101.0</td>\n",
       "      <td>34010102.0</td>\n",
       "      <td>330.0</td>\n",
       "      <td>1433.421743</td>\n",
       "      <td>282245.0</td>\n",
       "      <td>...</td>\n",
       "      <td>1</td>\n",
       "      <td>0</td>\n",
       "      <td>0</td>\n",
       "      <td>0</td>\n",
       "      <td>0</td>\n",
       "      <td>0</td>\n",
       "      <td>0</td>\n",
       "      <td>0</td>\n",
       "      <td>0</td>\n",
       "      <td>4</td>\n",
       "    </tr>\n",
       "    <tr>\n",
       "      <th>4</th>\n",
       "      <td>20130105</td>\n",
       "      <td>720.72</td>\n",
       "      <td>5400.0</td>\n",
       "      <td>3903900.0</td>\n",
       "      <td>1.0</td>\n",
       "      <td>311201.0</td>\n",
       "      <td>31120103.0</td>\n",
       "      <td>467.0</td>\n",
       "      <td>1549.518789</td>\n",
       "      <td>347766.0</td>\n",
       "      <td>...</td>\n",
       "      <td>1</td>\n",
       "      <td>0</td>\n",
       "      <td>0</td>\n",
       "      <td>0</td>\n",
       "      <td>0</td>\n",
       "      <td>0</td>\n",
       "      <td>0</td>\n",
       "      <td>0</td>\n",
       "      <td>0</td>\n",
       "      <td>4</td>\n",
       "    </tr>\n",
       "    <tr>\n",
       "      <th>...</th>\n",
       "      <td>...</td>\n",
       "      <td>...</td>\n",
       "      <td>...</td>\n",
       "      <td>...</td>\n",
       "      <td>...</td>\n",
       "      <td>...</td>\n",
       "      <td>...</td>\n",
       "      <td>...</td>\n",
       "      <td>...</td>\n",
       "      <td>...</td>\n",
       "      <td>...</td>\n",
       "      <td>...</td>\n",
       "      <td>...</td>\n",
       "      <td>...</td>\n",
       "      <td>...</td>\n",
       "      <td>...</td>\n",
       "      <td>...</td>\n",
       "      <td>...</td>\n",
       "      <td>...</td>\n",
       "      <td>...</td>\n",
       "      <td>...</td>\n",
       "    </tr>\n",
       "    <tr>\n",
       "      <th>54052</th>\n",
       "      <td>20161227</td>\n",
       "      <td>NaN</td>\n",
       "      <td>NaN</td>\n",
       "      <td>NaN</td>\n",
       "      <td>NaN</td>\n",
       "      <td>NaN</td>\n",
       "      <td>NaN</td>\n",
       "      <td>NaN</td>\n",
       "      <td>NaN</td>\n",
       "      <td>NaN</td>\n",
       "      <td>...</td>\n",
       "      <td>0</td>\n",
       "      <td>0</td>\n",
       "      <td>0</td>\n",
       "      <td>0</td>\n",
       "      <td>0</td>\n",
       "      <td>0</td>\n",
       "      <td>0</td>\n",
       "      <td>0</td>\n",
       "      <td>0</td>\n",
       "      <td>9</td>\n",
       "    </tr>\n",
       "    <tr>\n",
       "      <th>54053</th>\n",
       "      <td>20161228</td>\n",
       "      <td>1181.18</td>\n",
       "      <td>1872.0</td>\n",
       "      <td>2203201.0</td>\n",
       "      <td>12.0</td>\n",
       "      <td>310101.0</td>\n",
       "      <td>31010102.0</td>\n",
       "      <td>461</td>\n",
       "      <td>1045.424358</td>\n",
       "      <td>642449.0</td>\n",
       "      <td>...</td>\n",
       "      <td>0</td>\n",
       "      <td>0</td>\n",
       "      <td>0</td>\n",
       "      <td>0</td>\n",
       "      <td>0</td>\n",
       "      <td>0</td>\n",
       "      <td>0</td>\n",
       "      <td>0</td>\n",
       "      <td>0</td>\n",
       "      <td>9</td>\n",
       "    </tr>\n",
       "    <tr>\n",
       "      <th>54054</th>\n",
       "      <td>20161229</td>\n",
       "      <td>1131.13</td>\n",
       "      <td>14040.0</td>\n",
       "      <td>15860124.0</td>\n",
       "      <td>20.0</td>\n",
       "      <td>360301.0</td>\n",
       "      <td>36030102.0</td>\n",
       "      <td>800</td>\n",
       "      <td>1034.546961</td>\n",
       "      <td>479628.0</td>\n",
       "      <td>...</td>\n",
       "      <td>0</td>\n",
       "      <td>0</td>\n",
       "      <td>0</td>\n",
       "      <td>0</td>\n",
       "      <td>0</td>\n",
       "      <td>0</td>\n",
       "      <td>0</td>\n",
       "      <td>0</td>\n",
       "      <td>0</td>\n",
       "      <td>9</td>\n",
       "    </tr>\n",
       "    <tr>\n",
       "      <th>54055</th>\n",
       "      <td>20161230</td>\n",
       "      <td>1231.23</td>\n",
       "      <td>4407.0</td>\n",
       "      <td>5434060.5</td>\n",
       "      <td>22.0</td>\n",
       "      <td>220001.0</td>\n",
       "      <td>22000105.0</td>\n",
       "      <td>903</td>\n",
       "      <td>1045.917875</td>\n",
       "      <td>534612.0</td>\n",
       "      <td>...</td>\n",
       "      <td>0</td>\n",
       "      <td>0</td>\n",
       "      <td>0</td>\n",
       "      <td>0</td>\n",
       "      <td>0</td>\n",
       "      <td>0</td>\n",
       "      <td>0</td>\n",
       "      <td>0</td>\n",
       "      <td>0</td>\n",
       "      <td>9</td>\n",
       "    </tr>\n",
       "    <tr>\n",
       "      <th>54056</th>\n",
       "      <td>20161231</td>\n",
       "      <td>1228.77</td>\n",
       "      <td>1365.0</td>\n",
       "      <td>1681680.0</td>\n",
       "      <td>6.0</td>\n",
       "      <td>330201.0</td>\n",
       "      <td>33020101.0</td>\n",
       "      <td>800</td>\n",
       "      <td>1070.774846</td>\n",
       "      <td>699746.0</td>\n",
       "      <td>...</td>\n",
       "      <td>0</td>\n",
       "      <td>0</td>\n",
       "      <td>0</td>\n",
       "      <td>0</td>\n",
       "      <td>0</td>\n",
       "      <td>0</td>\n",
       "      <td>0</td>\n",
       "      <td>0</td>\n",
       "      <td>0</td>\n",
       "      <td>9</td>\n",
       "    </tr>\n",
       "  </tbody>\n",
       "</table>\n",
       "<p>54057 rows × 59 columns</p>\n",
       "</div>"
      ],
      "text/plain": [
       "       datadate    단가(원)      거래량     거래대금(원)  경매건수    도매시장코드      도매법인코드  \\\n",
       "0      20130101      NaN      NaN         NaN   NaN       NaN         NaN   \n",
       "1      20130102  1298.70    435.0    566065.5   3.0  350301.0  35030101.0   \n",
       "2      20130103   929.07   1005.0    936562.5   5.0  350402.0  35040202.0   \n",
       "3      20130104   960.96    360.0    346653.0   4.0  340101.0  34010102.0   \n",
       "4      20130105   720.72   5400.0   3903900.0   1.0  311201.0  31120103.0   \n",
       "...         ...      ...      ...         ...   ...       ...         ...   \n",
       "54052  20161227      NaN      NaN         NaN   NaN       NaN         NaN   \n",
       "54053  20161228  1181.18   1872.0   2203201.0  12.0  310101.0  31010102.0   \n",
       "54054  20161229  1131.13  14040.0  15860124.0  20.0  360301.0  36030102.0   \n",
       "54055  20161230  1231.23   4407.0   5434060.5  22.0  220001.0  22000105.0   \n",
       "54056  20161231  1228.77   1365.0   1681680.0   6.0  330201.0  33020101.0   \n",
       "\n",
       "       산지코드   해당일자_전체평균가격(원)  해당일자_전체거래물량(kg)  ...  월구분_1월  월구분_2월  월구분_3월  \\\n",
       "0        NaN             NaN              NaN  ...       1       0       0   \n",
       "1      561.0     1587.314723         116539.0  ...       1       0       0   \n",
       "2      580.0     1731.765036         812663.0  ...       1       0       0   \n",
       "3      330.0     1433.421743         282245.0  ...       1       0       0   \n",
       "4      467.0     1549.518789         347766.0  ...       1       0       0   \n",
       "...      ...             ...              ...  ...     ...     ...     ...   \n",
       "54052    NaN             NaN              NaN  ...       0       0       0   \n",
       "54053   461      1045.424358         642449.0  ...       0       0       0   \n",
       "54054   800      1034.546961         479628.0  ...       0       0       0   \n",
       "54055   903      1045.917875         534612.0  ...       0       0       0   \n",
       "54056   800      1070.774846         699746.0  ...       0       0       0   \n",
       "\n",
       "       월구분_4월  월구분_5월  월구분_6월  월구분_7월  월구분_8월  월구분_9월  group_id  \n",
       "0           0       0       0       0       0       0         4  \n",
       "1           0       0       0       0       0       0         4  \n",
       "2           0       0       0       0       0       0         4  \n",
       "3           0       0       0       0       0       0         4  \n",
       "4           0       0       0       0       0       0         4  \n",
       "...       ...     ...     ...     ...     ...     ...       ...  \n",
       "54052       0       0       0       0       0       0         9  \n",
       "54053       0       0       0       0       0       0         9  \n",
       "54054       0       0       0       0       0       0         9  \n",
       "54055       0       0       0       0       0       0         9  \n",
       "54056       0       0       0       0       0       0         9  \n",
       "\n",
       "[54057 rows x 59 columns]"
      ]
     },
     "execution_count": 35,
     "metadata": {},
     "output_type": "execute_result"
    }
   ],
   "source": [
    "# feature engineering\n",
    "# 함수 정의하기.\n",
    "\n",
    "df_train = pd.DataFrame()\n",
    "\n",
    "for i in train_list:\n",
    "    group_id = i.split(\"_\")[-1].split(\".\")[0]\n",
    "    tmp = pd.read_csv(i)\n",
    "\n",
    "    tmp['group_id'] = group_id\n",
    "    \n",
    "    df_train = pd.concat([df_train, tmp], ignore_index= True)\n",
    "    \n",
    "df_train"
   ]
  },
  {
   "cell_type": "code",
   "execution_count": 36,
   "metadata": {},
   "outputs": [
    {
     "data": {
      "text/plain": [
       "Index(['datadate', '단가(원)', '거래량', '거래대금(원)', '경매건수', '도매시장코드', '도매법인코드',\n",
       "       '산지코드 ', '해당일자_전체평균가격(원)', '해당일자_전체거래물량(kg)', '하위가격 평균가(원)',\n",
       "       '상위가격 평균가(원)', '하위가격 거래물량(kg)', '상위가격 거래물량(kg)', '일자별_도매가격_최대(원)',\n",
       "       '일자별_도매가격_평균(원)', '일자별_도매가격_최소(원)', '일자별_소매가격_최대(원)', '일자별_소매가격_평균(원)',\n",
       "       '일자별_소매가격_최소(원)', '수출중량(kg)', '수출금액(달러)', '수입중량(kg)', '수입금액(달러)',\n",
       "       '무역수지(달러)', '주산지_0_초기온도(℃)', '주산지_0_최대온도(℃)', '주산지_0_최저온도(℃)',\n",
       "       '주산지_0_평균온도(℃)', '주산지_0_강수량(ml)', '주산지_0_습도(%)', '주산지_1_초기온도(℃)',\n",
       "       '주산지_1_최대온도(℃)', '주산지_1_최저온도(℃)', '주산지_1_평균온도(℃)', '주산지_1_강수량(ml)',\n",
       "       '주산지_1_습도(%)', '주산지_2_초기온도(℃)', '주산지_2_최대온도(℃)', '주산지_2_최저온도(℃)',\n",
       "       '주산지_2_평균온도(℃)', '주산지_2_강수량(ml)', '주산지_2_습도(%)', '일자구분_중순', '일자구분_초순',\n",
       "       '월구분_1월'],\n",
       "      dtype='object')"
      ]
     },
     "execution_count": 36,
     "metadata": {},
     "output_type": "execute_result"
    }
   ],
   "source": [
    "df_test = pd.read_csv(test_list[0])\n",
    "df_test.columns"
   ]
  },
  {
   "cell_type": "code",
   "execution_count": 67,
   "metadata": {},
   "outputs": [],
   "source": [
    "df_test['group_id'] = str(0)"
   ]
  },
  {
   "cell_type": "code",
   "execution_count": 65,
   "metadata": {},
   "outputs": [
    {
     "data": {
      "text/plain": [
       "Index(['datadate', '단가(원)', '거래량', '해당일자_전체평균가격(원)', '해당일자_전체거래물량(kg)',\n",
       "       '하위가격 평균가(원)', '상위가격 평균가(원)', '하위가격 거래물량(kg)', '상위가격 거래물량(kg)',\n",
       "       '일자별_도매가격_최대(원)', '일자별_도매가격_평균(원)', '일자별_도매가격_최소(원)', '일자별_소매가격_최대(원)',\n",
       "       '일자별_소매가격_평균(원)', '일자별_소매가격_최소(원)', '수출중량(kg)', '수출금액(달러)', '수입중량(kg)',\n",
       "       '수입금액(달러)', '무역수지(달러)', 'group_id', 'datetime', 'cos_time', '주산지_초기온도',\n",
       "       '주산지_최대온도', '주산지_최저온도', '주산지_평균온도', '주산지_강수량'],\n",
       "      dtype='object')"
      ]
     },
     "execution_count": 65,
     "metadata": {},
     "output_type": "execute_result"
    }
   ],
   "source": [
    "df_train.columns"
   ]
  },
  {
   "cell_type": "code",
   "execution_count": 38,
   "metadata": {},
   "outputs": [],
   "source": [
    "def feature_engineer(df):\n",
    "       # 시간 코사인 인코딩\n",
    "       df['datetime'] = pd.to_datetime(df['datadate'], format=\"%Y%m%d\")\n",
    "       df['cos_time'] = np.cos(2*np.pi*df['datetime'].dt.dayofyear/365)\n",
    "\n",
    "       # 결측치\n",
    "       df = df.replace(' ', np.nan)\n",
    "       \n",
    "       # 주산지 초기온도, 최대온도, 최저온도, 평균온도, 강수량, 습도\n",
    "       df['주산지_초기온도'] = (df['주산지_0_초기온도(℃)'] + df['주산지_1_초기온도(℃)'] + df['주산지_2_초기온도(℃)'])/3\n",
    "       df['주산지_최대온도'] = (df['주산지_0_최대온도(℃)'] + df['주산지_1_최대온도(℃)'] + df['주산지_2_최대온도(℃)'])/3\n",
    "       df['주산지_최저온도'] = (df['주산지_0_최저온도(℃)'] + df['주산지_1_최저온도(℃)'] + df['주산지_2_최저온도(℃)'])/3\n",
    "       df['주산지_평균온도'] = (df['주산지_0_평균온도(℃)'] + df['주산지_1_평균온도(℃)'] + df['주산지_2_평균온도(℃)'])/3\n",
    "       df['주산지_강수량'] = (df['주산지_0_강수량(ml)'] + df['주산지_1_강수량(ml)'] + df['주산지_2_강수량(ml)'])/3\n",
    "\n",
    "       # 필요없는 컬럼 제거\n",
    "       trunc_columns = ['거래대금(원)', '경매건수', '도매시장코드', '도매법인코드', '산지코드 ','일자구분_중순', '일자구분_초순',\n",
    "       '일자구분_하순', '월구분_10월', '월구분_11월', '월구분_12월', '월구분_1월', '월구분_2월',\n",
    "       '월구분_3월', '월구분_4월', '월구분_5월', '월구분_6월', '월구분_7월', '월구분_8월', '월구분_9월',\n",
    "       '주산지_0_초기온도(℃)', '주산지_1_초기온도(℃)', '주산지_2_초기온도(℃)',\n",
    "       '주산지_0_최대온도(℃)', '주산지_1_최대온도(℃)', '주산지_2_최대온도(℃)',\n",
    "       '주산지_0_최저온도(℃)', '주산지_1_최저온도(℃)', '주산지_2_최저온도(℃)',\n",
    "       '주산지_0_평균온도(℃)', '주산지_1_평균온도(℃)', '주산지_2_평균온도(℃)',\n",
    "       '주산지_0_강수량(ml)', '주산지_1_강수량(ml)', '주산지_2_강수량(ml)',\n",
    "       '주산지_0_습도(%)', '주산지_1_습도(%)', '주산지_2_습도(%)']\n",
    "\n",
    "       df = df[[c for c in df.columns if c not in trunc_columns]]\n",
    "\n",
    "       return df\n",
    "\n"
   ]
  },
  {
   "cell_type": "code",
   "execution_count": 39,
   "metadata": {},
   "outputs": [
    {
     "data": {
      "text/html": [
       "<div>\n",
       "<style scoped>\n",
       "    .dataframe tbody tr th:only-of-type {\n",
       "        vertical-align: middle;\n",
       "    }\n",
       "\n",
       "    .dataframe tbody tr th {\n",
       "        vertical-align: top;\n",
       "    }\n",
       "\n",
       "    .dataframe thead th {\n",
       "        text-align: right;\n",
       "    }\n",
       "</style>\n",
       "<table border=\"1\" class=\"dataframe\">\n",
       "  <thead>\n",
       "    <tr style=\"text-align: right;\">\n",
       "      <th></th>\n",
       "      <th>datadate</th>\n",
       "      <th>단가(원)</th>\n",
       "      <th>거래량</th>\n",
       "      <th>해당일자_전체평균가격(원)</th>\n",
       "      <th>해당일자_전체거래물량(kg)</th>\n",
       "      <th>하위가격 평균가(원)</th>\n",
       "      <th>상위가격 평균가(원)</th>\n",
       "      <th>하위가격 거래물량(kg)</th>\n",
       "      <th>상위가격 거래물량(kg)</th>\n",
       "      <th>일자별_도매가격_최대(원)</th>\n",
       "      <th>...</th>\n",
       "      <th>수입금액(달러)</th>\n",
       "      <th>무역수지(달러)</th>\n",
       "      <th>group_id</th>\n",
       "      <th>datetime</th>\n",
       "      <th>cos_time</th>\n",
       "      <th>주산지_초기온도</th>\n",
       "      <th>주산지_최대온도</th>\n",
       "      <th>주산지_최저온도</th>\n",
       "      <th>주산지_평균온도</th>\n",
       "      <th>주산지_강수량</th>\n",
       "    </tr>\n",
       "  </thead>\n",
       "  <tbody>\n",
       "    <tr>\n",
       "      <th>0</th>\n",
       "      <td>20130101</td>\n",
       "      <td>NaN</td>\n",
       "      <td>NaN</td>\n",
       "      <td>NaN</td>\n",
       "      <td>NaN</td>\n",
       "      <td>NaN</td>\n",
       "      <td>NaN</td>\n",
       "      <td>NaN</td>\n",
       "      <td>NaN</td>\n",
       "      <td>NaN</td>\n",
       "      <td>...</td>\n",
       "      <td>89161.0</td>\n",
       "      <td>6636713.0</td>\n",
       "      <td>4</td>\n",
       "      <td>2013-01-01</td>\n",
       "      <td>0.999852</td>\n",
       "      <td>1.433333</td>\n",
       "      <td>9.600000</td>\n",
       "      <td>-1.100000</td>\n",
       "      <td>4.466667</td>\n",
       "      <td>0.000000</td>\n",
       "    </tr>\n",
       "    <tr>\n",
       "      <th>1</th>\n",
       "      <td>20130102</td>\n",
       "      <td>1298.70</td>\n",
       "      <td>435.0</td>\n",
       "      <td>1587.314723</td>\n",
       "      <td>116539.0</td>\n",
       "      <td>1192.610955</td>\n",
       "      <td>2047.122982</td>\n",
       "      <td>62709.0</td>\n",
       "      <td>53830.0</td>\n",
       "      <td>45000.0</td>\n",
       "      <td>...</td>\n",
       "      <td>89161.0</td>\n",
       "      <td>6636713.0</td>\n",
       "      <td>4</td>\n",
       "      <td>2013-01-02</td>\n",
       "      <td>0.999407</td>\n",
       "      <td>4.333333</td>\n",
       "      <td>11.333333</td>\n",
       "      <td>2.500000</td>\n",
       "      <td>7.466667</td>\n",
       "      <td>0.000000</td>\n",
       "    </tr>\n",
       "    <tr>\n",
       "      <th>2</th>\n",
       "      <td>20130103</td>\n",
       "      <td>929.07</td>\n",
       "      <td>1005.0</td>\n",
       "      <td>1731.765036</td>\n",
       "      <td>812663.0</td>\n",
       "      <td>1420.352265</td>\n",
       "      <td>2046.621791</td>\n",
       "      <td>408566.0</td>\n",
       "      <td>404097.0</td>\n",
       "      <td>45000.0</td>\n",
       "      <td>...</td>\n",
       "      <td>89161.0</td>\n",
       "      <td>6636713.0</td>\n",
       "      <td>4</td>\n",
       "      <td>2013-01-03</td>\n",
       "      <td>0.998667</td>\n",
       "      <td>3.066667</td>\n",
       "      <td>10.300000</td>\n",
       "      <td>0.033333</td>\n",
       "      <td>4.633333</td>\n",
       "      <td>0.000000</td>\n",
       "    </tr>\n",
       "    <tr>\n",
       "      <th>3</th>\n",
       "      <td>20130104</td>\n",
       "      <td>960.96</td>\n",
       "      <td>360.0</td>\n",
       "      <td>1433.421743</td>\n",
       "      <td>282245.0</td>\n",
       "      <td>1108.175190</td>\n",
       "      <td>1802.850161</td>\n",
       "      <td>150098.0</td>\n",
       "      <td>132147.0</td>\n",
       "      <td>45000.0</td>\n",
       "      <td>...</td>\n",
       "      <td>89161.0</td>\n",
       "      <td>6636713.0</td>\n",
       "      <td>4</td>\n",
       "      <td>2013-01-04</td>\n",
       "      <td>0.997630</td>\n",
       "      <td>3.066667</td>\n",
       "      <td>10.833333</td>\n",
       "      <td>-0.733333</td>\n",
       "      <td>5.000000</td>\n",
       "      <td>0.000000</td>\n",
       "    </tr>\n",
       "    <tr>\n",
       "      <th>4</th>\n",
       "      <td>20130105</td>\n",
       "      <td>720.72</td>\n",
       "      <td>5400.0</td>\n",
       "      <td>1549.518789</td>\n",
       "      <td>347766.0</td>\n",
       "      <td>1231.243133</td>\n",
       "      <td>1950.208595</td>\n",
       "      <td>193815.0</td>\n",
       "      <td>153951.0</td>\n",
       "      <td>45000.0</td>\n",
       "      <td>...</td>\n",
       "      <td>89161.0</td>\n",
       "      <td>6636713.0</td>\n",
       "      <td>4</td>\n",
       "      <td>2013-01-05</td>\n",
       "      <td>0.996298</td>\n",
       "      <td>1.566667</td>\n",
       "      <td>8.166667</td>\n",
       "      <td>0.433333</td>\n",
       "      <td>4.166667</td>\n",
       "      <td>2.666667</td>\n",
       "    </tr>\n",
       "    <tr>\n",
       "      <th>...</th>\n",
       "      <td>...</td>\n",
       "      <td>...</td>\n",
       "      <td>...</td>\n",
       "      <td>...</td>\n",
       "      <td>...</td>\n",
       "      <td>...</td>\n",
       "      <td>...</td>\n",
       "      <td>...</td>\n",
       "      <td>...</td>\n",
       "      <td>...</td>\n",
       "      <td>...</td>\n",
       "      <td>...</td>\n",
       "      <td>...</td>\n",
       "      <td>...</td>\n",
       "      <td>...</td>\n",
       "      <td>...</td>\n",
       "      <td>...</td>\n",
       "      <td>...</td>\n",
       "      <td>...</td>\n",
       "      <td>...</td>\n",
       "      <td>...</td>\n",
       "    </tr>\n",
       "    <tr>\n",
       "      <th>54052</th>\n",
       "      <td>20161227</td>\n",
       "      <td>NaN</td>\n",
       "      <td>NaN</td>\n",
       "      <td>NaN</td>\n",
       "      <td>NaN</td>\n",
       "      <td>NaN</td>\n",
       "      <td>NaN</td>\n",
       "      <td>NaN</td>\n",
       "      <td>NaN</td>\n",
       "      <td>NaN</td>\n",
       "      <td>...</td>\n",
       "      <td>22360318.0</td>\n",
       "      <td>-22360318.0</td>\n",
       "      <td>9</td>\n",
       "      <td>2016-12-27</td>\n",
       "      <td>0.998667</td>\n",
       "      <td>0.866667</td>\n",
       "      <td>9.333333</td>\n",
       "      <td>-1.200000</td>\n",
       "      <td>3.933333</td>\n",
       "      <td>0.000000</td>\n",
       "    </tr>\n",
       "    <tr>\n",
       "      <th>54053</th>\n",
       "      <td>20161228</td>\n",
       "      <td>1181.18</td>\n",
       "      <td>1872.0</td>\n",
       "      <td>1045.424358</td>\n",
       "      <td>642449.0</td>\n",
       "      <td>942.313948</td>\n",
       "      <td>1178.813959</td>\n",
       "      <td>362351.0</td>\n",
       "      <td>280098.0</td>\n",
       "      <td>20600.0</td>\n",
       "      <td>...</td>\n",
       "      <td>22360318.0</td>\n",
       "      <td>-22360318.0</td>\n",
       "      <td>9</td>\n",
       "      <td>2016-12-28</td>\n",
       "      <td>0.999407</td>\n",
       "      <td>2.833333</td>\n",
       "      <td>12.600000</td>\n",
       "      <td>-2.200000</td>\n",
       "      <td>4.266667</td>\n",
       "      <td>0.000000</td>\n",
       "    </tr>\n",
       "    <tr>\n",
       "      <th>54054</th>\n",
       "      <td>20161229</td>\n",
       "      <td>1131.13</td>\n",
       "      <td>14040.0</td>\n",
       "      <td>1034.546961</td>\n",
       "      <td>479628.0</td>\n",
       "      <td>948.947250</td>\n",
       "      <td>1150.786982</td>\n",
       "      <td>276219.0</td>\n",
       "      <td>203409.0</td>\n",
       "      <td>20600.0</td>\n",
       "      <td>...</td>\n",
       "      <td>22360318.0</td>\n",
       "      <td>-22360318.0</td>\n",
       "      <td>9</td>\n",
       "      <td>2016-12-29</td>\n",
       "      <td>0.999852</td>\n",
       "      <td>0.733333</td>\n",
       "      <td>9.033333</td>\n",
       "      <td>-4.166667</td>\n",
       "      <td>2.400000</td>\n",
       "      <td>0.466667</td>\n",
       "    </tr>\n",
       "    <tr>\n",
       "      <th>54055</th>\n",
       "      <td>20161230</td>\n",
       "      <td>1231.23</td>\n",
       "      <td>4407.0</td>\n",
       "      <td>1045.917875</td>\n",
       "      <td>534612.0</td>\n",
       "      <td>969.206041</td>\n",
       "      <td>1161.925409</td>\n",
       "      <td>321810.0</td>\n",
       "      <td>212802.0</td>\n",
       "      <td>20000.0</td>\n",
       "      <td>...</td>\n",
       "      <td>22360318.0</td>\n",
       "      <td>-22360318.0</td>\n",
       "      <td>9</td>\n",
       "      <td>2016-12-30</td>\n",
       "      <td>1.000000</td>\n",
       "      <td>0.133333</td>\n",
       "      <td>-0.366667</td>\n",
       "      <td>-10.200000</td>\n",
       "      <td>-6.366667</td>\n",
       "      <td>0.500000</td>\n",
       "    </tr>\n",
       "    <tr>\n",
       "      <th>54056</th>\n",
       "      <td>20161231</td>\n",
       "      <td>1228.77</td>\n",
       "      <td>1365.0</td>\n",
       "      <td>1070.774846</td>\n",
       "      <td>699746.0</td>\n",
       "      <td>965.943606</td>\n",
       "      <td>1199.013460</td>\n",
       "      <td>385011.0</td>\n",
       "      <td>314735.0</td>\n",
       "      <td>20000.0</td>\n",
       "      <td>...</td>\n",
       "      <td>22360318.0</td>\n",
       "      <td>-22360318.0</td>\n",
       "      <td>9</td>\n",
       "      <td>2016-12-31</td>\n",
       "      <td>0.999852</td>\n",
       "      <td>-10.266667</td>\n",
       "      <td>-1.266667</td>\n",
       "      <td>-11.800000</td>\n",
       "      <td>-7.133333</td>\n",
       "      <td>0.000000</td>\n",
       "    </tr>\n",
       "  </tbody>\n",
       "</table>\n",
       "<p>54057 rows × 28 columns</p>\n",
       "</div>"
      ],
      "text/plain": [
       "       datadate    단가(원)      거래량  해당일자_전체평균가격(원)  해당일자_전체거래물량(kg)  \\\n",
       "0      20130101      NaN      NaN             NaN              NaN   \n",
       "1      20130102  1298.70    435.0     1587.314723         116539.0   \n",
       "2      20130103   929.07   1005.0     1731.765036         812663.0   \n",
       "3      20130104   960.96    360.0     1433.421743         282245.0   \n",
       "4      20130105   720.72   5400.0     1549.518789         347766.0   \n",
       "...         ...      ...      ...             ...              ...   \n",
       "54052  20161227      NaN      NaN             NaN              NaN   \n",
       "54053  20161228  1181.18   1872.0     1045.424358         642449.0   \n",
       "54054  20161229  1131.13  14040.0     1034.546961         479628.0   \n",
       "54055  20161230  1231.23   4407.0     1045.917875         534612.0   \n",
       "54056  20161231  1228.77   1365.0     1070.774846         699746.0   \n",
       "\n",
       "       하위가격 평균가(원)  상위가격 평균가(원)  하위가격 거래물량(kg)  상위가격 거래물량(kg)  일자별_도매가격_최대(원)  \\\n",
       "0              NaN          NaN            NaN            NaN             NaN   \n",
       "1      1192.610955  2047.122982        62709.0        53830.0         45000.0   \n",
       "2      1420.352265  2046.621791       408566.0       404097.0         45000.0   \n",
       "3      1108.175190  1802.850161       150098.0       132147.0         45000.0   \n",
       "4      1231.243133  1950.208595       193815.0       153951.0         45000.0   \n",
       "...            ...          ...            ...            ...             ...   \n",
       "54052          NaN          NaN            NaN            NaN             NaN   \n",
       "54053   942.313948  1178.813959       362351.0       280098.0         20600.0   \n",
       "54054   948.947250  1150.786982       276219.0       203409.0         20600.0   \n",
       "54055   969.206041  1161.925409       321810.0       212802.0         20000.0   \n",
       "54056   965.943606  1199.013460       385011.0       314735.0         20000.0   \n",
       "\n",
       "       ...    수입금액(달러)    무역수지(달러)  group_id   datetime  cos_time   주산지_초기온도  \\\n",
       "0      ...     89161.0   6636713.0         4 2013-01-01  0.999852   1.433333   \n",
       "1      ...     89161.0   6636713.0         4 2013-01-02  0.999407   4.333333   \n",
       "2      ...     89161.0   6636713.0         4 2013-01-03  0.998667   3.066667   \n",
       "3      ...     89161.0   6636713.0         4 2013-01-04  0.997630   3.066667   \n",
       "4      ...     89161.0   6636713.0         4 2013-01-05  0.996298   1.566667   \n",
       "...    ...         ...         ...       ...        ...       ...        ...   \n",
       "54052  ...  22360318.0 -22360318.0         9 2016-12-27  0.998667   0.866667   \n",
       "54053  ...  22360318.0 -22360318.0         9 2016-12-28  0.999407   2.833333   \n",
       "54054  ...  22360318.0 -22360318.0         9 2016-12-29  0.999852   0.733333   \n",
       "54055  ...  22360318.0 -22360318.0         9 2016-12-30  1.000000   0.133333   \n",
       "54056  ...  22360318.0 -22360318.0         9 2016-12-31  0.999852 -10.266667   \n",
       "\n",
       "        주산지_최대온도   주산지_최저온도  주산지_평균온도   주산지_강수량  \n",
       "0       9.600000  -1.100000  4.466667  0.000000  \n",
       "1      11.333333   2.500000  7.466667  0.000000  \n",
       "2      10.300000   0.033333  4.633333  0.000000  \n",
       "3      10.833333  -0.733333  5.000000  0.000000  \n",
       "4       8.166667   0.433333  4.166667  2.666667  \n",
       "...          ...        ...       ...       ...  \n",
       "54052   9.333333  -1.200000  3.933333  0.000000  \n",
       "54053  12.600000  -2.200000  4.266667  0.000000  \n",
       "54054   9.033333  -4.166667  2.400000  0.466667  \n",
       "54055  -0.366667 -10.200000 -6.366667  0.500000  \n",
       "54056  -1.266667 -11.800000 -7.133333  0.000000  \n",
       "\n",
       "[54057 rows x 28 columns]"
      ]
     },
     "execution_count": 39,
     "metadata": {},
     "output_type": "execute_result"
    }
   ],
   "source": [
    "df_train = feature_engineer(df_train)\n",
    "df_train"
   ]
  },
  {
   "cell_type": "code",
   "execution_count": 40,
   "metadata": {},
   "outputs": [
    {
     "name": "stdout",
     "output_type": "stream",
     "text": [
      "<class 'pandas.core.frame.DataFrame'>\n",
      "RangeIndex: 54057 entries, 0 to 54056\n",
      "Data columns (total 28 columns):\n",
      " #   Column           Non-Null Count  Dtype         \n",
      "---  ------           --------------  -----         \n",
      " 0   datadate         54057 non-null  int64         \n",
      " 1   단가(원)            54057 non-null  float64       \n",
      " 2   거래량              54057 non-null  float64       \n",
      " 3   해당일자_전체평균가격(원)   54057 non-null  float64       \n",
      " 4   해당일자_전체거래물량(kg)  54057 non-null  float64       \n",
      " 5   하위가격 평균가(원)      54057 non-null  float64       \n",
      " 6   상위가격 평균가(원)      54057 non-null  float64       \n",
      " 7   하위가격 거래물량(kg)    54057 non-null  float64       \n",
      " 8   상위가격 거래물량(kg)    54057 non-null  float64       \n",
      " 9   일자별_도매가격_최대(원)   54057 non-null  float64       \n",
      " 10  일자별_도매가격_평균(원)   54057 non-null  float64       \n",
      " 11  일자별_도매가격_최소(원)   54057 non-null  float64       \n",
      " 12  일자별_소매가격_최대(원)   54057 non-null  float64       \n",
      " 13  일자별_소매가격_평균(원)   54057 non-null  float64       \n",
      " 14  일자별_소매가격_최소(원)   54057 non-null  float64       \n",
      " 15  수출중량(kg)         54057 non-null  float64       \n",
      " 16  수출금액(달러)         54057 non-null  float64       \n",
      " 17  수입중량(kg)         54057 non-null  float64       \n",
      " 18  수입금액(달러)         54057 non-null  float64       \n",
      " 19  무역수지(달러)         54057 non-null  float64       \n",
      " 20  group_id         54057 non-null  object        \n",
      " 21  datetime         54057 non-null  datetime64[ns]\n",
      " 22  cos_time         54057 non-null  float64       \n",
      " 23  주산지_초기온도         54057 non-null  float64       \n",
      " 24  주산지_최대온도         54057 non-null  float64       \n",
      " 25  주산지_최저온도         54057 non-null  float64       \n",
      " 26  주산지_평균온도         54057 non-null  float64       \n",
      " 27  주산지_강수량          54057 non-null  float64       \n",
      "dtypes: datetime64[ns](1), float64(25), int64(1), object(1)\n",
      "memory usage: 11.5+ MB\n"
     ]
    }
   ],
   "source": [
    "df_train = df_train.fillna(0)\n",
    "df_train.info()"
   ]
  },
  {
   "cell_type": "code",
   "execution_count": 69,
   "metadata": {},
   "outputs": [],
   "source": [
    "prediction_length = 28\n",
    "encoder_length = 14\n",
    "X_columns = ['단가(원)', '거래량', '해당일자_전체거래물량(kg)',\n",
    "       '하위가격 평균가(원)', '상위가격 평균가(원)', '하위가격 거래물량(kg)', '상위가격 거래물량(kg)',\n",
    "       '일자별_도매가격_최대(원)', '일자별_도매가격_평균(원)', '일자별_도매가격_최소(원)', '일자별_소매가격_최대(원)',\n",
    "       '일자별_소매가격_평균(원)', '일자별_소매가격_최소(원)', 'cos_time', '주산지_초기온도', '주산지_최대온도',\n",
    "       '주산지_최저온도', '주산지_평균온도', '주산지_강수량']\n",
    "\n",
    "training = TimeSeriesDataSet(\n",
    "    df_train[:-28],\n",
    "    time_idx=\"datadate\",\n",
    "    target=\"해당일자_전체평균가격(원)\",\n",
    "    group_ids=[\"group_id\"],\n",
    "    min_encoder_length=1,  # keep encoder length long (as it is in the validation set)\n",
    "    max_encoder_length=encoder_length,\n",
    "    min_prediction_length=1,\n",
    "    max_prediction_length=prediction_length-1,\n",
    "    static_categoricals=[\"group_id\"],\n",
    "    # time_varying_known_categoricals=X_columns,\n",
    "    time_varying_known_reals=X_columns,\n",
    "    target_normalizer=GroupNormalizer(\n",
    "        groups=[\"group_id\"], transformation=\"softplus\"\n",
    "    ),  # use softplus and normalize by group\n",
    "    # scalers = EncoderNormalizer(),\n",
    "    add_relative_time_idx=True,\n",
    "    add_target_scales=True,\n",
    "    add_encoder_length=True,\n",
    "    allow_missing_timesteps=True\n",
    "    \n",
    ")\n",
    "\n",
    "# create validation set (predict=True) which means to predict the last max_prediction_length points in time\n",
    "# for each series\n",
    "validation = TimeSeriesDataSet.from_dataset(training, df_train, predict=True, stop_randomization=True)\n",
    "\n",
    "# create dataloaders for model\n",
    "batch_size = 64  # set this between 32 to 128\n",
    "train_dataloader = training.to_dataloader(train=True, batch_size=batch_size, num_workers=0)\n",
    "val_dataloader = validation.to_dataloader(train=False, batch_size=batch_size * 10, num_workers=0)"
   ]
  },
  {
   "cell_type": "code",
   "execution_count": 70,
   "metadata": {},
   "outputs": [
    {
     "data": {
      "text/plain": [
       "992.4351806640625"
      ]
     },
     "execution_count": 70,
     "metadata": {},
     "output_type": "execute_result"
    }
   ],
   "source": [
    "# calculate baseline mean absolute error, i.e. predict next value as the last available value from the history\n",
    "actuals = torch.cat([y for x, (y, weight) in iter(val_dataloader)])\n",
    "baseline_predictions = Baseline().predict(val_dataloader)\n",
    "(actuals - baseline_predictions).abs().mean().item()"
   ]
  },
  {
   "cell_type": "code",
   "execution_count": 71,
   "metadata": {},
   "outputs": [
    {
     "name": "stderr",
     "output_type": "stream",
     "text": [
      "Global seed set to 42\n",
      "GPU available: True (mps), used: False\n",
      "TPU available: False, using: 0 TPU cores\n",
      "IPU available: False, using: 0 IPUs\n",
      "HPU available: False, using: 0 HPUs\n"
     ]
    },
    {
     "name": "stdout",
     "output_type": "stream",
     "text": [
      "Number of parameters in network: 45.1k\n"
     ]
    }
   ],
   "source": [
    "# configure network and trainer\n",
    "pl.seed_everything(42)\n",
    "trainer = pl.Trainer(\n",
    "    # gpus=1,\n",
    "    # accelerator=\"mps\", \n",
    "    # devices=1,\n",
    "    # clipping gradients is a hyperparameter and important to prevent divergance\n",
    "    # of the gradient for recurrent neural networks\n",
    "    gradient_clip_val=0.1,\n",
    ")\n",
    "\n",
    "\n",
    "tft = TemporalFusionTransformer.from_dataset(\n",
    "    training,\n",
    "    # not meaningful for finding the learning rate but otherwise very important\n",
    "    learning_rate=0.03,\n",
    "    hidden_size=16,  # most important hyperparameter apart from learning rate\n",
    "    # number of attention heads. Set to up to 4 for large datasets\n",
    "    attention_head_size=1,\n",
    "    dropout=0.2,  # between 0.1 and 0.3 are good values\n",
    "    hidden_continuous_size=8,  # set to <= hidden_size\n",
    "    output_size=7,  # 7 quantiles by default\n",
    "    loss=QuantileLoss(),\n",
    "    # reduce learning rate if no improvement in validation loss after x epochs\n",
    "    reduce_on_plateau_patience=4,\n",
    ")\n",
    "print(f\"Number of parameters in network: {tft.size()/1e3:.1f}k\")"
   ]
  },
  {
   "cell_type": "code",
   "execution_count": 72,
   "metadata": {},
   "outputs": [
    {
     "data": {
      "application/vnd.jupyter.widget-view+json": {
       "model_id": "5acbfc7451bd405ea679e458c1cef8af",
       "version_major": 2,
       "version_minor": 0
      },
      "text/plain": [
       "Finding best initial lr:   0%|          | 0/100 [00:00<?, ?it/s]"
      ]
     },
     "metadata": {},
     "output_type": "display_data"
    },
    {
     "name": "stderr",
     "output_type": "stream",
     "text": [
      "`Trainer.fit` stopped: `max_steps=100` reached.\n",
      "Restoring states from the checkpoint path at /Users/chai/myRepo/Competitions/nongnet/.lr_find_a532d14e-9be3-40f0-b1a3-0489dbd051b1.ckpt\n"
     ]
    },
    {
     "name": "stdout",
     "output_type": "stream",
     "text": [
      "suggested learning rate: 0.041686938347033554\n"
     ]
    },
    {
     "data": {
      "image/png": "[encoded data removed]",
      "text/plain": [
       "<Figure size 432x288 with 1 Axes>"
      ]
     },
     "metadata": {
      "needs_background": "light"
     },
     "output_type": "display_data"
    }
   ],
   "source": [
    "# find optimal learning rate\n",
    "res = trainer.tuner.lr_find(\n",
    "    tft,\n",
    "    train_dataloaders=train_dataloader,\n",
    "    val_dataloaders=val_dataloader,\n",
    "    max_lr=10.0,\n",
    "    min_lr=1e-6,\n",
    ")\n",
    "\n",
    "print(f\"suggested learning rate: {res.suggestion()}\")\n",
    "fig = res.plot(show=True, suggest=True)\n",
    "fig.show()"
   ]
  },
  {
   "cell_type": "code",
   "execution_count": 73,
   "metadata": {},
   "outputs": [
    {
     "name": "stderr",
     "output_type": "stream",
     "text": [
      "/Users/chai/miniforge3/envs/nnenv/lib/python3.9/site-packages/pytorch_lightning/trainer/connectors/accelerator_connector.py:447: LightningDeprecationWarning: Setting `Trainer(gpus=0)` is deprecated in v1.7 and will be removed in v2.0. Please use `Trainer(accelerator='gpu', devices=0)` instead.\n",
      "  rank_zero_deprecation(\n",
      "GPU available: True (mps), used: False\n",
      "TPU available: False, using: 0 TPU cores\n",
      "IPU available: False, using: 0 IPUs\n",
      "HPU available: False, using: 0 HPUs\n"
     ]
    },
    {
     "name": "stdout",
     "output_type": "stream",
     "text": [
      "Number of parameters in network: 45.5k\n"
     ]
    }
   ],
   "source": [
    "early_stop_callback = EarlyStopping(monitor=\"val_loss\", min_delta=1e-4, patience=10, verbose=False, mode=\"min\")\n",
    "lr_logger = LearningRateMonitor()  # log the learning rate\n",
    "logger = TensorBoardLogger(\"lightning_logs\")  # logging results to a tensorboard\n",
    "\n",
    "trainer = pl.Trainer(\n",
    "    max_epochs=100,\n",
    "    gpus=0,\n",
    "    enable_model_summary=True,\n",
    "    gradient_clip_val=0.1,\n",
    "    limit_train_batches=30,  # coment in for training, running valiation every 30 batches\n",
    "    # fast_dev_run=True,  # comment in to check that networkor dataset has no serious bugs\n",
    "    callbacks=[lr_logger, early_stop_callback],\n",
    "    logger=logger,\n",
    ")\n",
    "\n",
    "\n",
    "tft = TemporalFusionTransformer.from_dataset(\n",
    "    training,\n",
    "    learning_rate=0.01,\n",
    "    hidden_size=16,\n",
    "    attention_head_size=1,\n",
    "    dropout=0.1,\n",
    "    hidden_continuous_size=8,\n",
    "    output_size=28,  # 7 quantiles by default\n",
    "    loss=QuantileLoss(),\n",
    "    log_interval=10,  # uncomment for learning rate finder and otherwise, e.g. to 10 for logging every 10 batches\n",
    "    reduce_on_plateau_patience=4,\n",
    ")\n",
    "print(f\"Number of parameters in network: {tft.size()/1e3:.1f}k\")"
   ]
  },
  {
   "cell_type": "code",
   "execution_count": 74,
   "metadata": {},
   "outputs": [
    {
     "name": "stderr",
     "output_type": "stream",
     "text": [
      "\n",
      "   | Name                               | Type                            | Params\n",
      "----------------------------------------------------------------------------------------\n",
      "0  | loss                               | QuantileLoss                    | 0     \n",
      "1  | logging_metrics                    | ModuleList                      | 0     \n",
      "2  | input_embeddings                   | MultiEmbedding                  | 444   \n",
      "3  | prescalers                         | ModuleDict                      | 368   \n",
      "4  | static_variable_selection          | VariableSelectionNetwork        | 1.9 K \n",
      "5  | encoder_variable_selection         | VariableSelectionNetwork        | 14.4 K\n",
      "6  | decoder_variable_selection         | VariableSelectionNetwork        | 14.4 K\n",
      "7  | static_context_variable_selection  | GatedResidualNetwork            | 1.1 K \n",
      "8  | static_context_initial_hidden_lstm | GatedResidualNetwork            | 1.1 K \n",
      "9  | static_context_initial_cell_lstm   | GatedResidualNetwork            | 1.1 K \n",
      "10 | static_context_enrichment          | GatedResidualNetwork            | 1.1 K \n",
      "11 | lstm_encoder                       | LSTM                            | 2.2 K \n",
      "12 | lstm_decoder                       | LSTM                            | 2.2 K \n",
      "13 | post_lstm_gate_encoder             | GatedLinearUnit                 | 544   \n",
      "14 | post_lstm_add_norm_encoder         | AddNorm                         | 32    \n",
      "15 | static_enrichment                  | GatedResidualNetwork            | 1.4 K \n",
      "16 | multihead_attn                     | InterpretableMultiHeadAttention | 1.1 K \n",
      "17 | post_attn_gate_norm                | GateAddNorm                     | 576   \n",
      "18 | pos_wise_ff                        | GatedResidualNetwork            | 1.1 K \n",
      "19 | pre_output_gate_norm               | GateAddNorm                     | 576   \n",
      "20 | output_layer                       | Linear                          | 476   \n",
      "----------------------------------------------------------------------------------------\n",
      "45.5 K    Trainable params\n",
      "0         Non-trainable params\n",
      "45.5 K    Total params\n",
      "0.182     Total estimated model params size (MB)\n"
     ]
    },
    {
     "data": {
      "application/vnd.jupyter.widget-view+json": {
       "model_id": "c7a8822bfd5b45ce9f5a3d59d9748958",
       "version_major": 2,
       "version_minor": 0
      },
      "text/plain": [
       "Sanity Checking: 0it [00:00, ?it/s]"
      ]
     },
     "metadata": {},
     "output_type": "display_data"
    },
    {
     "data": {
      "application/vnd.jupyter.widget-view+json": {
       "model_id": "d6f504b040ea48218c3c85511451ed67",
       "version_major": 2,
       "version_minor": 0
      },
      "text/plain": [
       "Training: 0it [00:00, ?it/s]"
      ]
     },
     "metadata": {},
     "output_type": "display_data"
    },
    {
     "data": {
      "application/vnd.jupyter.widget-view+json": {
       "model_id": "cb1c10e3012947928fab44ec5e35c4be",
       "version_major": 2,
       "version_minor": 0
      },
      "text/plain": [
       "Validation: 0it [00:00, ?it/s]"
      ]
     },
     "metadata": {},
     "output_type": "display_data"
    },
    {
     "data": {
      "application/vnd.jupyter.widget-view+json": {
       "model_id": "36adbc0ba0c74e53b428da46e3436144",
       "version_major": 2,
       "version_minor": 0
      },
      "text/plain": [
       "Validation: 0it [00:00, ?it/s]"
      ]
     },
     "metadata": {},
     "output_type": "display_data"
    },
    {
     "data": {
      "application/vnd.jupyter.widget-view+json": {
       "model_id": "f5bde65df02144488f1e08e0c2839bd4",
       "version_major": 2,
       "version_minor": 0
      },
      "text/plain": [
       "Validation: 0it [00:00, ?it/s]"
      ]
     },
     "metadata": {},
     "output_type": "display_data"
    },
    {
     "data": {
      "application/vnd.jupyter.widget-view+json": {
       "model_id": "e83c51e26a5c441684720197c625c913",
       "version_major": 2,
       "version_minor": 0
      },
      "text/plain": [
       "Validation: 0it [00:00, ?it/s]"
      ]
     },
     "metadata": {},
     "output_type": "display_data"
    },
    {
     "data": {
      "application/vnd.jupyter.widget-view+json": {
       "model_id": "ba7f0d01613046ac96cc78e4b65fca04",
       "version_major": 2,
       "version_minor": 0
      },
      "text/plain": [
       "Validation: 0it [00:00, ?it/s]"
      ]
     },
     "metadata": {},
     "output_type": "display_data"
    },
    {
     "data": {
      "application/vnd.jupyter.widget-view+json": {
       "model_id": "18f587ab48834ba8bd0b3c229b57db20",
       "version_major": 2,
       "version_minor": 0
      },
      "text/plain": [
       "Validation: 0it [00:00, ?it/s]"
      ]
     },
     "metadata": {},
     "output_type": "display_data"
    },
    {
     "data": {
      "application/vnd.jupyter.widget-view+json": {
       "model_id": "a4fe4a9ea99c410b946eddf80b52bae5",
       "version_major": 2,
       "version_minor": 0
      },
      "text/plain": [
       "Validation: 0it [00:00, ?it/s]"
      ]
     },
     "metadata": {},
     "output_type": "display_data"
    },
    {
     "data": {
      "application/vnd.jupyter.widget-view+json": {
       "model_id": "c463e7040ec94f29906819dbfb43c33c",
       "version_major": 2,
       "version_minor": 0
      },
      "text/plain": [
       "Validation: 0it [00:00, ?it/s]"
      ]
     },
     "metadata": {},
     "output_type": "display_data"
    },
    {
     "data": {
      "application/vnd.jupyter.widget-view+json": {
       "model_id": "d3e7cac32e5049cfbdef649c1bae12a6",
       "version_major": 2,
       "version_minor": 0
      },
      "text/plain": [
       "Validation: 0it [00:00, ?it/s]"
      ]
     },
     "metadata": {},
     "output_type": "display_data"
    },
    {
     "data": {
      "application/vnd.jupyter.widget-view+json": {
       "model_id": "c8a60e0c22c44d6594f3793888cee2aa",
       "version_major": 2,
       "version_minor": 0
      },
      "text/plain": [
       "Validation: 0it [00:00, ?it/s]"
      ]
     },
     "metadata": {},
     "output_type": "display_data"
    },
    {
     "data": {
      "application/vnd.jupyter.widget-view+json": {
       "model_id": "b9ae93b66e0a459a848402ac9f467ed6",
       "version_major": 2,
       "version_minor": 0
      },
      "text/plain": [
       "Validation: 0it [00:00, ?it/s]"
      ]
     },
     "metadata": {},
     "output_type": "display_data"
    },
    {
     "data": {
      "application/vnd.jupyter.widget-view+json": {
       "model_id": "76ef699335c847a0a6987338a6d0ed47",
       "version_major": 2,
       "version_minor": 0
      },
      "text/plain": [
       "Validation: 0it [00:00, ?it/s]"
      ]
     },
     "metadata": {},
     "output_type": "display_data"
    },
    {
     "data": {
      "application/vnd.jupyter.widget-view+json": {
       "model_id": "cac02f30f15742d6ab4c049a7c220d52",
       "version_major": 2,
       "version_minor": 0
      },
      "text/plain": [
       "Validation: 0it [00:00, ?it/s]"
      ]
     },
     "metadata": {},
     "output_type": "display_data"
    },
    {
     "data": {
      "application/vnd.jupyter.widget-view+json": {
       "model_id": "f8a438207a3742a08f997a10fec63c11",
       "version_major": 2,
       "version_minor": 0
      },
      "text/plain": [
       "Validation: 0it [00:00, ?it/s]"
      ]
     },
     "metadata": {},
     "output_type": "display_data"
    },
    {
     "data": {
      "application/vnd.jupyter.widget-view+json": {
       "model_id": "525119b3135448e4873743ec6ba0de8f",
       "version_major": 2,
       "version_minor": 0
      },
      "text/plain": [
       "Validation: 0it [00:00, ?it/s]"
      ]
     },
     "metadata": {},
     "output_type": "display_data"
    },
    {
     "data": {
      "application/vnd.jupyter.widget-view+json": {
       "model_id": "4bbd6a6553db49df87f16f476f004b1a",
       "version_major": 2,
       "version_minor": 0
      },
      "text/plain": [
       "Validation: 0it [00:00, ?it/s]"
      ]
     },
     "metadata": {},
     "output_type": "display_data"
    },
    {
     "data": {
      "application/vnd.jupyter.widget-view+json": {
       "model_id": "cd0c4c22258f4f1f9dd6cbffbef12f35",
       "version_major": 2,
       "version_minor": 0
      },
      "text/plain": [
       "Validation: 0it [00:00, ?it/s]"
      ]
     },
     "metadata": {},
     "output_type": "display_data"
    },
    {
     "data": {
      "application/vnd.jupyter.widget-view+json": {
       "model_id": "7bb1c72d65cc4c54bd701d099cba0bdf",
       "version_major": 2,
       "version_minor": 0
      },
      "text/plain": [
       "Validation: 0it [00:00, ?it/s]"
      ]
     },
     "metadata": {},
     "output_type": "display_data"
    },
    {
     "data": {
      "application/vnd.jupyter.widget-view+json": {
       "model_id": "4403fc4ce039480082e0752447e5fa62",
       "version_major": 2,
       "version_minor": 0
      },
      "text/plain": [
       "Validation: 0it [00:00, ?it/s]"
      ]
     },
     "metadata": {},
     "output_type": "display_data"
    },
    {
     "data": {
      "application/vnd.jupyter.widget-view+json": {
       "model_id": "952fe1cde0fd4215a003bba1ef151e53",
       "version_major": 2,
       "version_minor": 0
      },
      "text/plain": [
       "Validation: 0it [00:00, ?it/s]"
      ]
     },
     "metadata": {},
     "output_type": "display_data"
    },
    {
     "data": {
      "application/vnd.jupyter.widget-view+json": {
       "model_id": "1aecbade59ac440d8d9710a8f21d7f8c",
       "version_major": 2,
       "version_minor": 0
      },
      "text/plain": [
       "Validation: 0it [00:00, ?it/s]"
      ]
     },
     "metadata": {},
     "output_type": "display_data"
    },
    {
     "data": {
      "application/vnd.jupyter.widget-view+json": {
       "model_id": "1f3d179884d94c9d8fa6ffe63f5a1006",
       "version_major": 2,
       "version_minor": 0
      },
      "text/plain": [
       "Validation: 0it [00:00, ?it/s]"
      ]
     },
     "metadata": {},
     "output_type": "display_data"
    },
    {
     "data": {
      "application/vnd.jupyter.widget-view+json": {
       "model_id": "56340e4b2ec743308052150cfdc46a77",
       "version_major": 2,
       "version_minor": 0
      },
      "text/plain": [
       "Validation: 0it [00:00, ?it/s]"
      ]
     },
     "metadata": {},
     "output_type": "display_data"
    },
    {
     "data": {
      "application/vnd.jupyter.widget-view+json": {
       "model_id": "53b45e22e928498785227ef9ac98711b",
       "version_major": 2,
       "version_minor": 0
      },
      "text/plain": [
       "Validation: 0it [00:00, ?it/s]"
      ]
     },
     "metadata": {},
     "output_type": "display_data"
    },
    {
     "data": {
      "application/vnd.jupyter.widget-view+json": {
       "model_id": "e13603819a8f47f1a00b12de4a6e7c7b",
       "version_major": 2,
       "version_minor": 0
      },
      "text/plain": [
       "Validation: 0it [00:00, ?it/s]"
      ]
     },
     "metadata": {},
     "output_type": "display_data"
    },
    {
     "data": {
      "application/vnd.jupyter.widget-view+json": {
       "model_id": "74b37e6c0c424a659d62d965cf462e3f",
       "version_major": 2,
       "version_minor": 0
      },
      "text/plain": [
       "Validation: 0it [00:00, ?it/s]"
      ]
     },
     "metadata": {},
     "output_type": "display_data"
    },
    {
     "data": {
      "application/vnd.jupyter.widget-view+json": {
       "model_id": "e9ca161a63ce42498591689cda5b8490",
       "version_major": 2,
       "version_minor": 0
      },
      "text/plain": [
       "Validation: 0it [00:00, ?it/s]"
      ]
     },
     "metadata": {},
     "output_type": "display_data"
    },
    {
     "data": {
      "application/vnd.jupyter.widget-view+json": {
       "model_id": "70cb9071a40f4b9fb2712925e06ba7fd",
       "version_major": 2,
       "version_minor": 0
      },
      "text/plain": [
       "Validation: 0it [00:00, ?it/s]"
      ]
     },
     "metadata": {},
     "output_type": "display_data"
    },
    {
     "data": {
      "application/vnd.jupyter.widget-view+json": {
       "model_id": "69481df414dd4cabb724d45ce7013890",
       "version_major": 2,
       "version_minor": 0
      },
      "text/plain": [
       "Validation: 0it [00:00, ?it/s]"
      ]
     },
     "metadata": {},
     "output_type": "display_data"
    },
    {
     "data": {
      "application/vnd.jupyter.widget-view+json": {
       "model_id": "3f2133240af74f6b9da1fbf2f07b0f72",
       "version_major": 2,
       "version_minor": 0
      },
      "text/plain": [
       "Validation: 0it [00:00, ?it/s]"
      ]
     },
     "metadata": {},
     "output_type": "display_data"
    },
    {
     "data": {
      "application/vnd.jupyter.widget-view+json": {
       "model_id": "422cbcac8aa2470ba551eaa5335cd172",
       "version_major": 2,
       "version_minor": 0
      },
      "text/plain": [
       "Validation: 0it [00:00, ?it/s]"
      ]
     },
     "metadata": {},
     "output_type": "display_data"
    },
    {
     "data": {
      "application/vnd.jupyter.widget-view+json": {
       "model_id": "24ed5ae1f6fd4da983bade548f7a03ce",
       "version_major": 2,
       "version_minor": 0
      },
      "text/plain": [
       "Validation: 0it [00:00, ?it/s]"
      ]
     },
     "metadata": {},
     "output_type": "display_data"
    },
    {
     "data": {
      "application/vnd.jupyter.widget-view+json": {
       "model_id": "474fd0c89981485089025af8688a12af",
       "version_major": 2,
       "version_minor": 0
      },
      "text/plain": [
       "Validation: 0it [00:00, ?it/s]"
      ]
     },
     "metadata": {},
     "output_type": "display_data"
    },
    {
     "data": {
      "application/vnd.jupyter.widget-view+json": {
       "model_id": "30143a0352c3424ab0913cb1fc546760",
       "version_major": 2,
       "version_minor": 0
      },
      "text/plain": [
       "Validation: 0it [00:00, ?it/s]"
      ]
     },
     "metadata": {},
     "output_type": "display_data"
    },
    {
     "data": {
      "application/vnd.jupyter.widget-view+json": {
       "model_id": "3445702122cb4c3abae76916d0e00301",
       "version_major": 2,
       "version_minor": 0
      },
      "text/plain": [
       "Validation: 0it [00:00, ?it/s]"
      ]
     },
     "metadata": {},
     "output_type": "display_data"
    },
    {
     "data": {
      "application/vnd.jupyter.widget-view+json": {
       "model_id": "be31d0e2c9494f488ebd61bc12e96345",
       "version_major": 2,
       "version_minor": 0
      },
      "text/plain": [
       "Validation: 0it [00:00, ?it/s]"
      ]
     },
     "metadata": {},
     "output_type": "display_data"
    },
    {
     "data": {
      "application/vnd.jupyter.widget-view+json": {
       "model_id": "2849c9922ed24af7a7c8d6665793d777",
       "version_major": 2,
       "version_minor": 0
      },
      "text/plain": [
       "Validation: 0it [00:00, ?it/s]"
      ]
     },
     "metadata": {},
     "output_type": "display_data"
    },
    {
     "data": {
      "application/vnd.jupyter.widget-view+json": {
       "model_id": "03682a0dfa62445a92835e820063c7b1",
       "version_major": 2,
       "version_minor": 0
      },
      "text/plain": [
       "Validation: 0it [00:00, ?it/s]"
      ]
     },
     "metadata": {},
     "output_type": "display_data"
    },
    {
     "data": {
      "application/vnd.jupyter.widget-view+json": {
       "model_id": "5885d6daaa3b4eb4b91929be0cb32352",
       "version_major": 2,
       "version_minor": 0
      },
      "text/plain": [
       "Validation: 0it [00:00, ?it/s]"
      ]
     },
     "metadata": {},
     "output_type": "display_data"
    },
    {
     "data": {
      "application/vnd.jupyter.widget-view+json": {
       "model_id": "29ba448bd29e4328b7075db65790448d",
       "version_major": 2,
       "version_minor": 0
      },
      "text/plain": [
       "Validation: 0it [00:00, ?it/s]"
      ]
     },
     "metadata": {},
     "output_type": "display_data"
    },
    {
     "data": {
      "application/vnd.jupyter.widget-view+json": {
       "model_id": "1e61166024c5435cb3d1047e0f617b4d",
       "version_major": 2,
       "version_minor": 0
      },
      "text/plain": [
       "Validation: 0it [00:00, ?it/s]"
      ]
     },
     "metadata": {},
     "output_type": "display_data"
    },
    {
     "data": {
      "application/vnd.jupyter.widget-view+json": {
       "model_id": "33e81b7fa9c440879dd6576c7ae08387",
       "version_major": 2,
       "version_minor": 0
      },
      "text/plain": [
       "Validation: 0it [00:00, ?it/s]"
      ]
     },
     "metadata": {},
     "output_type": "display_data"
    },
    {
     "data": {
      "application/vnd.jupyter.widget-view+json": {
       "model_id": "c4c8c40df25b4e0bb28dce34ff31b336",
       "version_major": 2,
       "version_minor": 0
      },
      "text/plain": [
       "Validation: 0it [00:00, ?it/s]"
      ]
     },
     "metadata": {},
     "output_type": "display_data"
    },
    {
     "data": {
      "application/vnd.jupyter.widget-view+json": {
       "model_id": "9174854ff1dd425abd008cff59894589",
       "version_major": 2,
       "version_minor": 0
      },
      "text/plain": [
       "Validation: 0it [00:00, ?it/s]"
      ]
     },
     "metadata": {},
     "output_type": "display_data"
    },
    {
     "data": {
      "application/vnd.jupyter.widget-view+json": {
       "model_id": "880e8ae6b8ea48ec8825e8da720b09b7",
       "version_major": 2,
       "version_minor": 0
      },
      "text/plain": [
       "Validation: 0it [00:00, ?it/s]"
      ]
     },
     "metadata": {},
     "output_type": "display_data"
    },
    {
     "data": {
      "application/vnd.jupyter.widget-view+json": {
       "model_id": "d27cfaef2b914295940da200a42057de",
       "version_major": 2,
       "version_minor": 0
      },
      "text/plain": [
       "Validation: 0it [00:00, ?it/s]"
      ]
     },
     "metadata": {},
     "output_type": "display_data"
    },
    {
     "data": {
      "application/vnd.jupyter.widget-view+json": {
       "model_id": "027efebb7c264069b8e2bf51a01c1496",
       "version_major": 2,
       "version_minor": 0
      },
      "text/plain": [
       "Validation: 0it [00:00, ?it/s]"
      ]
     },
     "metadata": {},
     "output_type": "display_data"
    },
    {
     "data": {
      "application/vnd.jupyter.widget-view+json": {
       "model_id": "eb3d5b9a60424c428bab95c4facb2bd7",
       "version_major": 2,
       "version_minor": 0
      },
      "text/plain": [
       "Validation: 0it [00:00, ?it/s]"
      ]
     },
     "metadata": {},
     "output_type": "display_data"
    },
    {
     "data": {
      "application/vnd.jupyter.widget-view+json": {
       "model_id": "7b2fe0a2fe4c4f09886ce36283cca62d",
       "version_major": 2,
       "version_minor": 0
      },
      "text/plain": [
       "Validation: 0it [00:00, ?it/s]"
      ]
     },
     "metadata": {},
     "output_type": "display_data"
    },
    {
     "data": {
      "application/vnd.jupyter.widget-view+json": {
       "model_id": "5686ab5aee534839a1190b3644f20ae1",
       "version_major": 2,
       "version_minor": 0
      },
      "text/plain": [
       "Validation: 0it [00:00, ?it/s]"
      ]
     },
     "metadata": {},
     "output_type": "display_data"
    },
    {
     "data": {
      "application/vnd.jupyter.widget-view+json": {
       "model_id": "1cbfa41191d8402687b0e77879b1bc4f",
       "version_major": 2,
       "version_minor": 0
      },
      "text/plain": [
       "Validation: 0it [00:00, ?it/s]"
      ]
     },
     "metadata": {},
     "output_type": "display_data"
    },
    {
     "data": {
      "application/vnd.jupyter.widget-view+json": {
       "model_id": "08d0613e27384849ac0c72f9d1f0a4e2",
       "version_major": 2,
       "version_minor": 0
      },
      "text/plain": [
       "Validation: 0it [00:00, ?it/s]"
      ]
     },
     "metadata": {},
     "output_type": "display_data"
    },
    {
     "data": {
      "application/vnd.jupyter.widget-view+json": {
       "model_id": "a7ef71f9f64a497abead7e06ebac92f9",
       "version_major": 2,
       "version_minor": 0
      },
      "text/plain": [
       "Validation: 0it [00:00, ?it/s]"
      ]
     },
     "metadata": {},
     "output_type": "display_data"
    },
    {
     "data": {
      "application/vnd.jupyter.widget-view+json": {
       "model_id": "672f4bd6eb0b4dc8bf0fd407e664deb3",
       "version_major": 2,
       "version_minor": 0
      },
      "text/plain": [
       "Validation: 0it [00:00, ?it/s]"
      ]
     },
     "metadata": {},
     "output_type": "display_data"
    },
    {
     "data": {
      "application/vnd.jupyter.widget-view+json": {
       "model_id": "df7c99b8b57a4610a02800f41f37e6f7",
       "version_major": 2,
       "version_minor": 0
      },
      "text/plain": [
       "Validation: 0it [00:00, ?it/s]"
      ]
     },
     "metadata": {},
     "output_type": "display_data"
    },
    {
     "data": {
      "application/vnd.jupyter.widget-view+json": {
       "model_id": "cba221139b4d4e09ba0b016fb4dc24fb",
       "version_major": 2,
       "version_minor": 0
      },
      "text/plain": [
       "Validation: 0it [00:00, ?it/s]"
      ]
     },
     "metadata": {},
     "output_type": "display_data"
    },
    {
     "data": {
      "application/vnd.jupyter.widget-view+json": {
       "model_id": "befb4c36b96642c79c8aad6372b71ece",
       "version_major": 2,
       "version_minor": 0
      },
      "text/plain": [
       "Validation: 0it [00:00, ?it/s]"
      ]
     },
     "metadata": {},
     "output_type": "display_data"
    },
    {
     "data": {
      "application/vnd.jupyter.widget-view+json": {
       "model_id": "f2871273be0c48778b0675b7a62670d8",
       "version_major": 2,
       "version_minor": 0
      },
      "text/plain": [
       "Validation: 0it [00:00, ?it/s]"
      ]
     },
     "metadata": {},
     "output_type": "display_data"
    },
    {
     "data": {
      "application/vnd.jupyter.widget-view+json": {
       "model_id": "85622e70dcdc45cf8327e9df075fafb6",
       "version_major": 2,
       "version_minor": 0
      },
      "text/plain": [
       "Validation: 0it [00:00, ?it/s]"
      ]
     },
     "metadata": {},
     "output_type": "display_data"
    },
    {
     "data": {
      "application/vnd.jupyter.widget-view+json": {
       "model_id": "a89d1bd3c78949158332b9faefa35ada",
       "version_major": 2,
       "version_minor": 0
      },
      "text/plain": [
       "Validation: 0it [00:00, ?it/s]"
      ]
     },
     "metadata": {},
     "output_type": "display_data"
    },
    {
     "data": {
      "application/vnd.jupyter.widget-view+json": {
       "model_id": "17121d9d4c8a4bd59d34d5a094e62926",
       "version_major": 2,
       "version_minor": 0
      },
      "text/plain": [
       "Validation: 0it [00:00, ?it/s]"
      ]
     },
     "metadata": {},
     "output_type": "display_data"
    },
    {
     "data": {
      "application/vnd.jupyter.widget-view+json": {
       "model_id": "cf64c35bdb12420ca2fa7835b4c75547",
       "version_major": 2,
       "version_minor": 0
      },
      "text/plain": [
       "Validation: 0it [00:00, ?it/s]"
      ]
     },
     "metadata": {},
     "output_type": "display_data"
    },
    {
     "data": {
      "application/vnd.jupyter.widget-view+json": {
       "model_id": "4e43b5d6e10948a9a25f45492e56e61a",
       "version_major": 2,
       "version_minor": 0
      },
      "text/plain": [
       "Validation: 0it [00:00, ?it/s]"
      ]
     },
     "metadata": {},
     "output_type": "display_data"
    },
    {
     "data": {
      "application/vnd.jupyter.widget-view+json": {
       "model_id": "5303a9ae58444775954df676868ddab6",
       "version_major": 2,
       "version_minor": 0
      },
      "text/plain": [
       "Validation: 0it [00:00, ?it/s]"
      ]
     },
     "metadata": {},
     "output_type": "display_data"
    },
    {
     "data": {
      "application/vnd.jupyter.widget-view+json": {
       "model_id": "ce7d690f4f414c7ea674f30185d8a57f",
       "version_major": 2,
       "version_minor": 0
      },
      "text/plain": [
       "Validation: 0it [00:00, ?it/s]"
      ]
     },
     "metadata": {},
     "output_type": "display_data"
    },
    {
     "data": {
      "application/vnd.jupyter.widget-view+json": {
       "model_id": "9253840726fa4dd1b24bd56a3015e07a",
       "version_major": 2,
       "version_minor": 0
      },
      "text/plain": [
       "Validation: 0it [00:00, ?it/s]"
      ]
     },
     "metadata": {},
     "output_type": "display_data"
    },
    {
     "data": {
      "application/vnd.jupyter.widget-view+json": {
       "model_id": "85317a53de2c4547bef5c08d5838de46",
       "version_major": 2,
       "version_minor": 0
      },
      "text/plain": [
       "Validation: 0it [00:00, ?it/s]"
      ]
     },
     "metadata": {},
     "output_type": "display_data"
    },
    {
     "data": {
      "application/vnd.jupyter.widget-view+json": {
       "model_id": "e406f9c1a11042b5a5db12f4b319e47d",
       "version_major": 2,
       "version_minor": 0
      },
      "text/plain": [
       "Validation: 0it [00:00, ?it/s]"
      ]
     },
     "metadata": {},
     "output_type": "display_data"
    },
    {
     "data": {
      "application/vnd.jupyter.widget-view+json": {
       "model_id": "f4befeb7d2f041b6b30ceec118c11abb",
       "version_major": 2,
       "version_minor": 0
      },
      "text/plain": [
       "Validation: 0it [00:00, ?it/s]"
      ]
     },
     "metadata": {},
     "output_type": "display_data"
    },
    {
     "data": {
      "application/vnd.jupyter.widget-view+json": {
       "model_id": "97b37628c7d84c90bfc75e5d4d13aec4",
       "version_major": 2,
       "version_minor": 0
      },
      "text/plain": [
       "Validation: 0it [00:00, ?it/s]"
      ]
     },
     "metadata": {},
     "output_type": "display_data"
    },
    {
     "data": {
      "application/vnd.jupyter.widget-view+json": {
       "model_id": "541b5f9d3d624c0dabf90c3f8eb5111d",
       "version_major": 2,
       "version_minor": 0
      },
      "text/plain": [
       "Validation: 0it [00:00, ?it/s]"
      ]
     },
     "metadata": {},
     "output_type": "display_data"
    },
    {
     "data": {
      "application/vnd.jupyter.widget-view+json": {
       "model_id": "74ba8617026141e49705128268be91e8",
       "version_major": 2,
       "version_minor": 0
      },
      "text/plain": [
       "Validation: 0it [00:00, ?it/s]"
      ]
     },
     "metadata": {},
     "output_type": "display_data"
    },
    {
     "data": {
      "application/vnd.jupyter.widget-view+json": {
       "model_id": "c45ae02e7bf5473182c9ecaf8f522b68",
       "version_major": 2,
       "version_minor": 0
      },
      "text/plain": [
       "Validation: 0it [00:00, ?it/s]"
      ]
     },
     "metadata": {},
     "output_type": "display_data"
    },
    {
     "data": {
      "application/vnd.jupyter.widget-view+json": {
       "model_id": "7d89112c33364f4b8ec73d860085c51b",
       "version_major": 2,
       "version_minor": 0
      },
      "text/plain": [
       "Validation: 0it [00:00, ?it/s]"
      ]
     },
     "metadata": {},
     "output_type": "display_data"
    },
    {
     "data": {
      "application/vnd.jupyter.widget-view+json": {
       "model_id": "1e23e5347d47489d8c8255c44406d339",
       "version_major": 2,
       "version_minor": 0
      },
      "text/plain": [
       "Validation: 0it [00:00, ?it/s]"
      ]
     },
     "metadata": {},
     "output_type": "display_data"
    },
    {
     "data": {
      "application/vnd.jupyter.widget-view+json": {
       "model_id": "e7180e4d5d7341219e4f5d75bc0fe5cf",
       "version_major": 2,
       "version_minor": 0
      },
      "text/plain": [
       "Validation: 0it [00:00, ?it/s]"
      ]
     },
     "metadata": {},
     "output_type": "display_data"
    },
    {
     "data": {
      "application/vnd.jupyter.widget-view+json": {
       "model_id": "5d92ce6a891142b98f5cf5e694e0c999",
       "version_major": 2,
       "version_minor": 0
      },
      "text/plain": [
       "Validation: 0it [00:00, ?it/s]"
      ]
     },
     "metadata": {},
     "output_type": "display_data"
    },
    {
     "data": {
      "application/vnd.jupyter.widget-view+json": {
       "model_id": "6d5347b625ba4c8e87506aa165dec1b5",
       "version_major": 2,
       "version_minor": 0
      },
      "text/plain": [
       "Validation: 0it [00:00, ?it/s]"
      ]
     },
     "metadata": {},
     "output_type": "display_data"
    },
    {
     "data": {
      "application/vnd.jupyter.widget-view+json": {
       "model_id": "13c103a5ad5d423b8e6dc5c2b27d20df",
       "version_major": 2,
       "version_minor": 0
      },
      "text/plain": [
       "Validation: 0it [00:00, ?it/s]"
      ]
     },
     "metadata": {},
     "output_type": "display_data"
    },
    {
     "data": {
      "application/vnd.jupyter.widget-view+json": {
       "model_id": "4db0ffa398a746c493c911117d09a307",
       "version_major": 2,
       "version_minor": 0
      },
      "text/plain": [
       "Validation: 0it [00:00, ?it/s]"
      ]
     },
     "metadata": {},
     "output_type": "display_data"
    },
    {
     "data": {
      "application/vnd.jupyter.widget-view+json": {
       "model_id": "4fd44c9040424a9d87603c28014f78d0",
       "version_major": 2,
       "version_minor": 0
      },
      "text/plain": [
       "Validation: 0it [00:00, ?it/s]"
      ]
     },
     "metadata": {},
     "output_type": "display_data"
    },
    {
     "data": {
      "application/vnd.jupyter.widget-view+json": {
       "model_id": "31c3c0e370ef4bab9e438ee8380cd995",
       "version_major": 2,
       "version_minor": 0
      },
      "text/plain": [
       "Validation: 0it [00:00, ?it/s]"
      ]
     },
     "metadata": {},
     "output_type": "display_data"
    },
    {
     "data": {
      "application/vnd.jupyter.widget-view+json": {
       "model_id": "0e71f0b143b449c5a79b004149b8a6c6",
       "version_major": 2,
       "version_minor": 0
      },
      "text/plain": [
       "Validation: 0it [00:00, ?it/s]"
      ]
     },
     "metadata": {},
     "output_type": "display_data"
    },
    {
     "data": {
      "application/vnd.jupyter.widget-view+json": {
       "model_id": "e1ed14956faf4272985a6c8cbc27b58c",
       "version_major": 2,
       "version_minor": 0
      },
      "text/plain": [
       "Validation: 0it [00:00, ?it/s]"
      ]
     },
     "metadata": {},
     "output_type": "display_data"
    },
    {
     "data": {
      "application/vnd.jupyter.widget-view+json": {
       "model_id": "e89261a9e2114c61806f5d979cebecf9",
       "version_major": 2,
       "version_minor": 0
      },
      "text/plain": [
       "Validation: 0it [00:00, ?it/s]"
      ]
     },
     "metadata": {},
     "output_type": "display_data"
    },
    {
     "data": {
      "application/vnd.jupyter.widget-view+json": {
       "model_id": "f773a63aff2a43aabef616acf3254d24",
       "version_major": 2,
       "version_minor": 0
      },
      "text/plain": [
       "Validation: 0it [00:00, ?it/s]"
      ]
     },
     "metadata": {},
     "output_type": "display_data"
    },
    {
     "data": {
      "application/vnd.jupyter.widget-view+json": {
       "model_id": "ef4337ffe6e643d18e00555e76ae1ffb",
       "version_major": 2,
       "version_minor": 0
      },
      "text/plain": [
       "Validation: 0it [00:00, ?it/s]"
      ]
     },
     "metadata": {},
     "output_type": "display_data"
    },
    {
     "data": {
      "application/vnd.jupyter.widget-view+json": {
       "model_id": "44354e9b18db4b05a45f6b2c5ac9ede7",
       "version_major": 2,
       "version_minor": 0
      },
      "text/plain": [
       "Validation: 0it [00:00, ?it/s]"
      ]
     },
     "metadata": {},
     "output_type": "display_data"
    },
    {
     "data": {
      "application/vnd.jupyter.widget-view+json": {
       "model_id": "70c951a0c0114e2bafec3d2b337d32df",
       "version_major": 2,
       "version_minor": 0
      },
      "text/plain": [
       "Validation: 0it [00:00, ?it/s]"
      ]
     },
     "metadata": {},
     "output_type": "display_data"
    },
    {
     "data": {
      "application/vnd.jupyter.widget-view+json": {
       "model_id": "72cdef04185a4b379ae5f94038fd1133",
       "version_major": 2,
       "version_minor": 0
      },
      "text/plain": [
       "Validation: 0it [00:00, ?it/s]"
      ]
     },
     "metadata": {},
     "output_type": "display_data"
    },
    {
     "data": {
      "application/vnd.jupyter.widget-view+json": {
       "model_id": "caed3a5ce4ce4676ade0887ba332a78c",
       "version_major": 2,
       "version_minor": 0
      },
      "text/plain": [
       "Validation: 0it [00:00, ?it/s]"
      ]
     },
     "metadata": {},
     "output_type": "display_data"
    },
    {
     "data": {
      "application/vnd.jupyter.widget-view+json": {
       "model_id": "0acca92fdf4c43afb7406123c86dadb0",
       "version_major": 2,
       "version_minor": 0
      },
      "text/plain": [
       "Validation: 0it [00:00, ?it/s]"
      ]
     },
     "metadata": {},
     "output_type": "display_data"
    },
    {
     "data": {
      "application/vnd.jupyter.widget-view+json": {
       "model_id": "949a46be948c4cafafd6ab35b1ca3da7",
       "version_major": 2,
       "version_minor": 0
      },
      "text/plain": [
       "Validation: 0it [00:00, ?it/s]"
      ]
     },
     "metadata": {},
     "output_type": "display_data"
    },
    {
     "data": {
      "application/vnd.jupyter.widget-view+json": {
       "model_id": "4fbf9862e2aa4be6b0ce622de358ea87",
       "version_major": 2,
       "version_minor": 0
      },
      "text/plain": [
       "Validation: 0it [00:00, ?it/s]"
      ]
     },
     "metadata": {},
     "output_type": "display_data"
    },
    {
     "data": {
      "application/vnd.jupyter.widget-view+json": {
       "model_id": "c707a84b7cde4642b8327fd3612bdc73",
       "version_major": 2,
       "version_minor": 0
      },
      "text/plain": [
       "Validation: 0it [00:00, ?it/s]"
      ]
     },
     "metadata": {},
     "output_type": "display_data"
    },
    {
     "data": {
      "application/vnd.jupyter.widget-view+json": {
       "model_id": "aad5fbc3932a4a8e97baaa2df1b3acf3",
       "version_major": 2,
       "version_minor": 0
      },
      "text/plain": [
       "Validation: 0it [00:00, ?it/s]"
      ]
     },
     "metadata": {},
     "output_type": "display_data"
    },
    {
     "data": {
      "application/vnd.jupyter.widget-view+json": {
       "model_id": "280ed6d2e5ec424c9f600d37df269d16",
       "version_major": 2,
       "version_minor": 0
      },
      "text/plain": [
       "Validation: 0it [00:00, ?it/s]"
      ]
     },
     "metadata": {},
     "output_type": "display_data"
    },
    {
     "data": {
      "application/vnd.jupyter.widget-view+json": {
       "model_id": "9ce47414847f4601acdcb15a5fa64156",
       "version_major": 2,
       "version_minor": 0
      },
      "text/plain": [
       "Validation: 0it [00:00, ?it/s]"
      ]
     },
     "metadata": {},
     "output_type": "display_data"
    },
    {
     "data": {
      "application/vnd.jupyter.widget-view+json": {
       "model_id": "8377617662ab46cea2de25c656c28f8c",
       "version_major": 2,
       "version_minor": 0
      },
      "text/plain": [
       "Validation: 0it [00:00, ?it/s]"
      ]
     },
     "metadata": {},
     "output_type": "display_data"
    },
    {
     "data": {
      "application/vnd.jupyter.widget-view+json": {
       "model_id": "a64d70e5bf5f4d20b5ccd79963fe9d5d",
       "version_major": 2,
       "version_minor": 0
      },
      "text/plain": [
       "Validation: 0it [00:00, ?it/s]"
      ]
     },
     "metadata": {},
     "output_type": "display_data"
    },
    {
     "name": "stderr",
     "output_type": "stream",
     "text": [
      "`Trainer.fit` stopped: `max_epochs=100` reached.\n"
     ]
    }
   ],
   "source": [
    "# fit network\n",
    "trainer.fit(\n",
    "    tft,\n",
    "    train_dataloaders=train_dataloader,\n",
    "    val_dataloaders=val_dataloader,\n",
    ")"
   ]
  },
  {
   "cell_type": "code",
   "execution_count": 75,
   "metadata": {},
   "outputs": [],
   "source": [
    "# load the best model according to the validation loss\n",
    "# (given that we use early stopping, this is not necessarily the last epoch)\n",
    "best_model_path = trainer.checkpoint_callback.best_model_path\n",
    "best_tft = TemporalFusionTransformer.load_from_checkpoint(best_model_path)"
   ]
  },
  {
   "cell_type": "code",
   "execution_count": 76,
   "metadata": {},
   "outputs": [
    {
     "data": {
      "text/plain": [
       "tensor(94.3442)"
      ]
     },
     "execution_count": 76,
     "metadata": {},
     "output_type": "execute_result"
    }
   ],
   "source": [
    "# calcualte mean absolute error on validation set\n",
    "actuals = torch.cat([y[0] for x, y in iter(val_dataloader)])\n",
    "predictions = best_tft.predict(val_dataloader)\n",
    "(actuals - predictions).abs().mean()"
   ]
  },
  {
   "cell_type": "code",
   "execution_count": 77,
   "metadata": {},
   "outputs": [
    {
     "data": {
      "text/html": [
       "<div>\n",
       "<style scoped>\n",
       "    .dataframe tbody tr th:only-of-type {\n",
       "        vertical-align: middle;\n",
       "    }\n",
       "\n",
       "    .dataframe tbody tr th {\n",
       "        vertical-align: top;\n",
       "    }\n",
       "\n",
       "    .dataframe thead th {\n",
       "        text-align: right;\n",
       "    }\n",
       "</style>\n",
       "<table border=\"1\" class=\"dataframe\">\n",
       "  <thead>\n",
       "    <tr style=\"text-align: right;\">\n",
       "      <th></th>\n",
       "      <th>datadate</th>\n",
       "      <th>단가(원)</th>\n",
       "      <th>거래량</th>\n",
       "      <th>해당일자_전체평균가격(원)</th>\n",
       "      <th>해당일자_전체거래물량(kg)</th>\n",
       "      <th>하위가격 평균가(원)</th>\n",
       "      <th>상위가격 평균가(원)</th>\n",
       "      <th>하위가격 거래물량(kg)</th>\n",
       "      <th>상위가격 거래물량(kg)</th>\n",
       "      <th>일자별_도매가격_최대(원)</th>\n",
       "      <th>...</th>\n",
       "      <th>수입중량(kg)</th>\n",
       "      <th>수입금액(달러)</th>\n",
       "      <th>무역수지(달러)</th>\n",
       "      <th>datetime</th>\n",
       "      <th>cos_time</th>\n",
       "      <th>주산지_초기온도</th>\n",
       "      <th>주산지_최대온도</th>\n",
       "      <th>주산지_최저온도</th>\n",
       "      <th>주산지_평균온도</th>\n",
       "      <th>주산지_강수량</th>\n",
       "    </tr>\n",
       "  </thead>\n",
       "  <tbody>\n",
       "    <tr>\n",
       "      <th>0</th>\n",
       "      <td>20170226</td>\n",
       "      <td>2597.40</td>\n",
       "      <td>252.0</td>\n",
       "      <td>1999.077583</td>\n",
       "      <td>182741.0</td>\n",
       "      <td>1580.565637</td>\n",
       "      <td>2418.520380</td>\n",
       "      <td>91472.0</td>\n",
       "      <td>91269.0</td>\n",
       "      <td>13000.0</td>\n",
       "      <td>...</td>\n",
       "      <td>NaN</td>\n",
       "      <td>NaN</td>\n",
       "      <td>NaN</td>\n",
       "      <td>2017-02-26</td>\n",
       "      <td>0.556017</td>\n",
       "      <td>0.366667</td>\n",
       "      <td>9.800000</td>\n",
       "      <td>-2.466667</td>\n",
       "      <td>3.566667</td>\n",
       "      <td>0.000000</td>\n",
       "    </tr>\n",
       "    <tr>\n",
       "      <th>1</th>\n",
       "      <td>20170227</td>\n",
       "      <td>1541.54</td>\n",
       "      <td>70.0</td>\n",
       "      <td>1940.740624</td>\n",
       "      <td>198469.0</td>\n",
       "      <td>1557.462695</td>\n",
       "      <td>2368.759247</td>\n",
       "      <td>104707.0</td>\n",
       "      <td>93762.0</td>\n",
       "      <td>NaN</td>\n",
       "      <td>...</td>\n",
       "      <td>NaN</td>\n",
       "      <td>NaN</td>\n",
       "      <td>NaN</td>\n",
       "      <td>2017-02-27</td>\n",
       "      <td>0.541628</td>\n",
       "      <td>0.933333</td>\n",
       "      <td>10.033333</td>\n",
       "      <td>-0.900000</td>\n",
       "      <td>4.466667</td>\n",
       "      <td>0.600000</td>\n",
       "    </tr>\n",
       "    <tr>\n",
       "      <th>2</th>\n",
       "      <td>20170228</td>\n",
       "      <td>NaN</td>\n",
       "      <td>NaN</td>\n",
       "      <td>NaN</td>\n",
       "      <td>NaN</td>\n",
       "      <td>NaN</td>\n",
       "      <td>NaN</td>\n",
       "      <td>NaN</td>\n",
       "      <td>NaN</td>\n",
       "      <td>NaN</td>\n",
       "      <td>...</td>\n",
       "      <td>NaN</td>\n",
       "      <td>NaN</td>\n",
       "      <td>NaN</td>\n",
       "      <td>2017-02-28</td>\n",
       "      <td>0.527078</td>\n",
       "      <td>2.833333</td>\n",
       "      <td>9.533333</td>\n",
       "      <td>0.133333</td>\n",
       "      <td>5.600000</td>\n",
       "      <td>0.666667</td>\n",
       "    </tr>\n",
       "    <tr>\n",
       "      <th>3</th>\n",
       "      <td>20170301</td>\n",
       "      <td>620.62</td>\n",
       "      <td>80.0</td>\n",
       "      <td>2054.058569</td>\n",
       "      <td>233421.0</td>\n",
       "      <td>1658.672927</td>\n",
       "      <td>2460.878216</td>\n",
       "      <td>118374.0</td>\n",
       "      <td>115047.0</td>\n",
       "      <td>NaN</td>\n",
       "      <td>...</td>\n",
       "      <td>NaN</td>\n",
       "      <td>NaN</td>\n",
       "      <td>NaN</td>\n",
       "      <td>2017-03-01</td>\n",
       "      <td>0.512371</td>\n",
       "      <td>5.266667</td>\n",
       "      <td>5.966667</td>\n",
       "      <td>-2.333333</td>\n",
       "      <td>1.833333</td>\n",
       "      <td>40.366667</td>\n",
       "    </tr>\n",
       "    <tr>\n",
       "      <th>4</th>\n",
       "      <td>20170302</td>\n",
       "      <td>1981.98</td>\n",
       "      <td>292.0</td>\n",
       "      <td>2073.866690</td>\n",
       "      <td>203541.0</td>\n",
       "      <td>1615.181770</td>\n",
       "      <td>2535.177704</td>\n",
       "      <td>102061.0</td>\n",
       "      <td>101480.0</td>\n",
       "      <td>15000.0</td>\n",
       "      <td>...</td>\n",
       "      <td>NaN</td>\n",
       "      <td>NaN</td>\n",
       "      <td>NaN</td>\n",
       "      <td>2017-03-02</td>\n",
       "      <td>0.497513</td>\n",
       "      <td>-3.100000</td>\n",
       "      <td>2.566667</td>\n",
       "      <td>-4.300000</td>\n",
       "      <td>-0.466667</td>\n",
       "      <td>50.000000</td>\n",
       "    </tr>\n",
       "    <tr>\n",
       "      <th>5</th>\n",
       "      <td>20170303</td>\n",
       "      <td>2382.38</td>\n",
       "      <td>40.0</td>\n",
       "      <td>1997.451460</td>\n",
       "      <td>219305.0</td>\n",
       "      <td>1556.459276</td>\n",
       "      <td>2501.658026</td>\n",
       "      <td>116986.0</td>\n",
       "      <td>102319.0</td>\n",
       "      <td>14000.0</td>\n",
       "      <td>...</td>\n",
       "      <td>NaN</td>\n",
       "      <td>NaN</td>\n",
       "      <td>NaN</td>\n",
       "      <td>2017-03-03</td>\n",
       "      <td>0.482508</td>\n",
       "      <td>-3.566667</td>\n",
       "      <td>5.366667</td>\n",
       "      <td>-5.000000</td>\n",
       "      <td>0.033333</td>\n",
       "      <td>0.333333</td>\n",
       "    </tr>\n",
       "    <tr>\n",
       "      <th>6</th>\n",
       "      <td>20170304</td>\n",
       "      <td>2607.39</td>\n",
       "      <td>24.0</td>\n",
       "      <td>1968.545825</td>\n",
       "      <td>193849.0</td>\n",
       "      <td>1568.182955</td>\n",
       "      <td>2407.735777</td>\n",
       "      <td>101407.0</td>\n",
       "      <td>92442.0</td>\n",
       "      <td>13300.0</td>\n",
       "      <td>...</td>\n",
       "      <td>NaN</td>\n",
       "      <td>NaN</td>\n",
       "      <td>NaN</td>\n",
       "      <td>2017-03-04</td>\n",
       "      <td>0.467359</td>\n",
       "      <td>-0.866667</td>\n",
       "      <td>8.400000</td>\n",
       "      <td>-0.833333</td>\n",
       "      <td>3.766667</td>\n",
       "      <td>0.000000</td>\n",
       "    </tr>\n",
       "    <tr>\n",
       "      <th>7</th>\n",
       "      <td>20170305</td>\n",
       "      <td>1451.45</td>\n",
       "      <td>60.0</td>\n",
       "      <td>2181.100469</td>\n",
       "      <td>199588.0</td>\n",
       "      <td>1750.080471</td>\n",
       "      <td>2632.610908</td>\n",
       "      <td>102111.0</td>\n",
       "      <td>97477.0</td>\n",
       "      <td>16000.0</td>\n",
       "      <td>...</td>\n",
       "      <td>NaN</td>\n",
       "      <td>NaN</td>\n",
       "      <td>NaN</td>\n",
       "      <td>2017-03-05</td>\n",
       "      <td>0.452072</td>\n",
       "      <td>1.500000</td>\n",
       "      <td>12.800000</td>\n",
       "      <td>0.200000</td>\n",
       "      <td>6.900000</td>\n",
       "      <td>0.000000</td>\n",
       "    </tr>\n",
       "    <tr>\n",
       "      <th>8</th>\n",
       "      <td>20170306</td>\n",
       "      <td>1901.90</td>\n",
       "      <td>1368.0</td>\n",
       "      <td>2987.253790</td>\n",
       "      <td>203557.0</td>\n",
       "      <td>2169.169746</td>\n",
       "      <td>3892.709979</td>\n",
       "      <td>106938.0</td>\n",
       "      <td>96619.0</td>\n",
       "      <td>NaN</td>\n",
       "      <td>...</td>\n",
       "      <td>NaN</td>\n",
       "      <td>NaN</td>\n",
       "      <td>NaN</td>\n",
       "      <td>2017-03-06</td>\n",
       "      <td>0.436651</td>\n",
       "      <td>3.933333</td>\n",
       "      <td>7.900000</td>\n",
       "      <td>-1.566667</td>\n",
       "      <td>1.566667</td>\n",
       "      <td>5.866667</td>\n",
       "    </tr>\n",
       "    <tr>\n",
       "      <th>9</th>\n",
       "      <td>20170307</td>\n",
       "      <td>NaN</td>\n",
       "      <td>NaN</td>\n",
       "      <td>NaN</td>\n",
       "      <td>NaN</td>\n",
       "      <td>NaN</td>\n",
       "      <td>NaN</td>\n",
       "      <td>NaN</td>\n",
       "      <td>NaN</td>\n",
       "      <td>NaN</td>\n",
       "      <td>...</td>\n",
       "      <td>NaN</td>\n",
       "      <td>NaN</td>\n",
       "      <td>NaN</td>\n",
       "      <td>2017-03-07</td>\n",
       "      <td>0.421101</td>\n",
       "      <td>-0.566667</td>\n",
       "      <td>7.300000</td>\n",
       "      <td>-2.066667</td>\n",
       "      <td>1.900000</td>\n",
       "      <td>7.166667</td>\n",
       "    </tr>\n",
       "    <tr>\n",
       "      <th>10</th>\n",
       "      <td>20170308</td>\n",
       "      <td>1781.78</td>\n",
       "      <td>240.0</td>\n",
       "      <td>3061.617869</td>\n",
       "      <td>252581.0</td>\n",
       "      <td>2263.480184</td>\n",
       "      <td>3686.295365</td>\n",
       "      <td>110894.0</td>\n",
       "      <td>141687.0</td>\n",
       "      <td>21000.0</td>\n",
       "      <td>...</td>\n",
       "      <td>NaN</td>\n",
       "      <td>NaN</td>\n",
       "      <td>NaN</td>\n",
       "      <td>2017-03-08</td>\n",
       "      <td>0.405426</td>\n",
       "      <td>-0.700000</td>\n",
       "      <td>8.400000</td>\n",
       "      <td>-1.966667</td>\n",
       "      <td>3.466667</td>\n",
       "      <td>0.000000</td>\n",
       "    </tr>\n",
       "    <tr>\n",
       "      <th>11</th>\n",
       "      <td>20170309</td>\n",
       "      <td>3003.00</td>\n",
       "      <td>68.0</td>\n",
       "      <td>2590.109438</td>\n",
       "      <td>219303.0</td>\n",
       "      <td>2096.096403</td>\n",
       "      <td>3124.327493</td>\n",
       "      <td>113939.0</td>\n",
       "      <td>105364.0</td>\n",
       "      <td>17300.0</td>\n",
       "      <td>...</td>\n",
       "      <td>NaN</td>\n",
       "      <td>NaN</td>\n",
       "      <td>NaN</td>\n",
       "      <td>2017-03-09</td>\n",
       "      <td>0.389630</td>\n",
       "      <td>0.300000</td>\n",
       "      <td>9.666667</td>\n",
       "      <td>-1.800000</td>\n",
       "      <td>4.666667</td>\n",
       "      <td>0.000000</td>\n",
       "    </tr>\n",
       "    <tr>\n",
       "      <th>12</th>\n",
       "      <td>20170310</td>\n",
       "      <td>1428.57</td>\n",
       "      <td>132.0</td>\n",
       "      <td>2337.906179</td>\n",
       "      <td>210666.0</td>\n",
       "      <td>1915.057441</td>\n",
       "      <td>2923.272714</td>\n",
       "      <td>122312.0</td>\n",
       "      <td>88354.0</td>\n",
       "      <td>17000.0</td>\n",
       "      <td>...</td>\n",
       "      <td>NaN</td>\n",
       "      <td>NaN</td>\n",
       "      <td>NaN</td>\n",
       "      <td>2017-03-10</td>\n",
       "      <td>0.373720</td>\n",
       "      <td>1.566667</td>\n",
       "      <td>12.966667</td>\n",
       "      <td>-1.366667</td>\n",
       "      <td>6.200000</td>\n",
       "      <td>0.000000</td>\n",
       "    </tr>\n",
       "    <tr>\n",
       "      <th>13</th>\n",
       "      <td>20170311</td>\n",
       "      <td>2937.06</td>\n",
       "      <td>140.0</td>\n",
       "      <td>2262.844137</td>\n",
       "      <td>197712.0</td>\n",
       "      <td>1765.753743</td>\n",
       "      <td>2740.267986</td>\n",
       "      <td>96861.0</td>\n",
       "      <td>100851.0</td>\n",
       "      <td>15000.0</td>\n",
       "      <td>...</td>\n",
       "      <td>NaN</td>\n",
       "      <td>NaN</td>\n",
       "      <td>NaN</td>\n",
       "      <td>2017-03-11</td>\n",
       "      <td>0.357698</td>\n",
       "      <td>2.533333</td>\n",
       "      <td>13.833333</td>\n",
       "      <td>1.166667</td>\n",
       "      <td>6.800000</td>\n",
       "      <td>0.000000</td>\n",
       "    </tr>\n",
       "  </tbody>\n",
       "</table>\n",
       "<p>14 rows × 27 columns</p>\n",
       "</div>"
      ],
      "text/plain": [
       "    datadate    단가(원)     거래량  해당일자_전체평균가격(원)  해당일자_전체거래물량(kg)  하위가격 평균가(원)  \\\n",
       "0   20170226  2597.40   252.0     1999.077583         182741.0  1580.565637   \n",
       "1   20170227  1541.54    70.0     1940.740624         198469.0  1557.462695   \n",
       "2   20170228      NaN     NaN             NaN              NaN          NaN   \n",
       "3   20170301   620.62    80.0     2054.058569         233421.0  1658.672927   \n",
       "4   20170302  1981.98   292.0     2073.866690         203541.0  1615.181770   \n",
       "5   20170303  2382.38    40.0     1997.451460         219305.0  1556.459276   \n",
       "6   20170304  2607.39    24.0     1968.545825         193849.0  1568.182955   \n",
       "7   20170305  1451.45    60.0     2181.100469         199588.0  1750.080471   \n",
       "8   20170306  1901.90  1368.0     2987.253790         203557.0  2169.169746   \n",
       "9   20170307      NaN     NaN             NaN              NaN          NaN   \n",
       "10  20170308  1781.78   240.0     3061.617869         252581.0  2263.480184   \n",
       "11  20170309  3003.00    68.0     2590.109438         219303.0  2096.096403   \n",
       "12  20170310  1428.57   132.0     2337.906179         210666.0  1915.057441   \n",
       "13  20170311  2937.06   140.0     2262.844137         197712.0  1765.753743   \n",
       "\n",
       "    상위가격 평균가(원)  하위가격 거래물량(kg)  상위가격 거래물량(kg)  일자별_도매가격_최대(원)  ...  수입중량(kg)  \\\n",
       "0   2418.520380        91472.0        91269.0         13000.0  ...       NaN   \n",
       "1   2368.759247       104707.0        93762.0             NaN  ...       NaN   \n",
       "2           NaN            NaN            NaN             NaN  ...       NaN   \n",
       "3   2460.878216       118374.0       115047.0             NaN  ...       NaN   \n",
       "4   2535.177704       102061.0       101480.0         15000.0  ...       NaN   \n",
       "5   2501.658026       116986.0       102319.0         14000.0  ...       NaN   \n",
       "6   2407.735777       101407.0        92442.0         13300.0  ...       NaN   \n",
       "7   2632.610908       102111.0        97477.0         16000.0  ...       NaN   \n",
       "8   3892.709979       106938.0        96619.0             NaN  ...       NaN   \n",
       "9           NaN            NaN            NaN             NaN  ...       NaN   \n",
       "10  3686.295365       110894.0       141687.0         21000.0  ...       NaN   \n",
       "11  3124.327493       113939.0       105364.0         17300.0  ...       NaN   \n",
       "12  2923.272714       122312.0        88354.0         17000.0  ...       NaN   \n",
       "13  2740.267986        96861.0       100851.0         15000.0  ...       NaN   \n",
       "\n",
       "    수입금액(달러)  무역수지(달러)   datetime  cos_time  주산지_초기온도   주산지_최대온도  주산지_최저온도  \\\n",
       "0        NaN       NaN 2017-02-26  0.556017  0.366667   9.800000 -2.466667   \n",
       "1        NaN       NaN 2017-02-27  0.541628  0.933333  10.033333 -0.900000   \n",
       "2        NaN       NaN 2017-02-28  0.527078  2.833333   9.533333  0.133333   \n",
       "3        NaN       NaN 2017-03-01  0.512371  5.266667   5.966667 -2.333333   \n",
       "4        NaN       NaN 2017-03-02  0.497513 -3.100000   2.566667 -4.300000   \n",
       "5        NaN       NaN 2017-03-03  0.482508 -3.566667   5.366667 -5.000000   \n",
       "6        NaN       NaN 2017-03-04  0.467359 -0.866667   8.400000 -0.833333   \n",
       "7        NaN       NaN 2017-03-05  0.452072  1.500000  12.800000  0.200000   \n",
       "8        NaN       NaN 2017-03-06  0.436651  3.933333   7.900000 -1.566667   \n",
       "9        NaN       NaN 2017-03-07  0.421101 -0.566667   7.300000 -2.066667   \n",
       "10       NaN       NaN 2017-03-08  0.405426 -0.700000   8.400000 -1.966667   \n",
       "11       NaN       NaN 2017-03-09  0.389630  0.300000   9.666667 -1.800000   \n",
       "12       NaN       NaN 2017-03-10  0.373720  1.566667  12.966667 -1.366667   \n",
       "13       NaN       NaN 2017-03-11  0.357698  2.533333  13.833333  1.166667   \n",
       "\n",
       "    주산지_평균온도    주산지_강수량  \n",
       "0   3.566667   0.000000  \n",
       "1   4.466667   0.600000  \n",
       "2   5.600000   0.666667  \n",
       "3   1.833333  40.366667  \n",
       "4  -0.466667  50.000000  \n",
       "5   0.033333   0.333333  \n",
       "6   3.766667   0.000000  \n",
       "7   6.900000   0.000000  \n",
       "8   1.566667   5.866667  \n",
       "9   1.900000   7.166667  \n",
       "10  3.466667   0.000000  \n",
       "11  4.666667   0.000000  \n",
       "12  6.200000   0.000000  \n",
       "13  6.800000   0.000000  \n",
       "\n",
       "[14 rows x 27 columns]"
      ]
     },
     "execution_count": 77,
     "metadata": {},
     "output_type": "execute_result"
    }
   ],
   "source": [
    "test_list = glob('./aT_data/data/test/set_1/*.csv')\n",
    "df_test = pd.read_csv(test_list[0])\n",
    "\n",
    "df_test = feature_engineer(df_test)\n",
    "df_test"
   ]
  },
  {
   "cell_type": "code",
   "execution_count": 78,
   "metadata": {},
   "outputs": [
    {
     "ename": "KeyError",
     "evalue": "'variable group_id specified but not found in data'",
     "output_type": "error",
     "traceback": [
      "\u001b[0;31m---------------------------------------------------------------------------\u001b[0m",
      "\u001b[0;31mKeyError\u001b[0m                                  Traceback (most recent call last)",
      "\u001b[0;32m/var/folders/8t/p9vrbnhn7xj3s_2zmct430yw0000gn/T/ipykernel_28554/1725410718.py\u001b[0m in \u001b[0;36m<module>\u001b[0;34m\u001b[0m\n\u001b[0;32m----> 1\u001b[0;31m \u001b[0mbest_tft\u001b[0m\u001b[0;34m.\u001b[0m\u001b[0mpredict\u001b[0m\u001b[0;34m(\u001b[0m\u001b[0mdf_test\u001b[0m\u001b[0;34m)\u001b[0m\u001b[0;34m\u001b[0m\u001b[0;34m\u001b[0m\u001b[0m\n\u001b[0m",
      "\u001b[0;32m~/miniforge3/envs/nnenv/lib/python3.9/site-packages/pytorch_forecasting/models/base_model.py\u001b[0m in \u001b[0;36mpredict\u001b[0;34m(self, data, mode, return_index, return_decoder_lengths, batch_size, num_workers, fast_dev_run, show_progress_bar, return_x, mode_kwargs, **kwargs)\u001b[0m\n\u001b[1;32m   1136\u001b[0m         \u001b[0;31m# convert to dataloader\u001b[0m\u001b[0;34m\u001b[0m\u001b[0;34m\u001b[0m\u001b[0m\n\u001b[1;32m   1137\u001b[0m         \u001b[0;32mif\u001b[0m \u001b[0misinstance\u001b[0m\u001b[0;34m(\u001b[0m\u001b[0mdata\u001b[0m\u001b[0;34m,\u001b[0m \u001b[0mpd\u001b[0m\u001b[0;34m.\u001b[0m\u001b[0mDataFrame\u001b[0m\u001b[0;34m)\u001b[0m\u001b[0;34m:\u001b[0m\u001b[0;34m\u001b[0m\u001b[0;34m\u001b[0m\u001b[0m\n\u001b[0;32m-> 1138\u001b[0;31m             \u001b[0mdata\u001b[0m \u001b[0;34m=\u001b[0m \u001b[0mTimeSeriesDataSet\u001b[0m\u001b[0;34m.\u001b[0m\u001b[0mfrom_parameters\u001b[0m\u001b[0;34m(\u001b[0m\u001b[0mself\u001b[0m\u001b[0;34m.\u001b[0m\u001b[0mdataset_parameters\u001b[0m\u001b[0;34m,\u001b[0m \u001b[0mdata\u001b[0m\u001b[0;34m,\u001b[0m \u001b[0mpredict\u001b[0m\u001b[0;34m=\u001b[0m\u001b[0;32mTrue\u001b[0m\u001b[0;34m)\u001b[0m\u001b[0;34m\u001b[0m\u001b[0;34m\u001b[0m\u001b[0m\n\u001b[0m\u001b[1;32m   1139\u001b[0m         \u001b[0;32mif\u001b[0m \u001b[0misinstance\u001b[0m\u001b[0;34m(\u001b[0m\u001b[0mdata\u001b[0m\u001b[0;34m,\u001b[0m \u001b[0mTimeSeriesDataSet\u001b[0m\u001b[0;34m)\u001b[0m\u001b[0;34m:\u001b[0m\u001b[0;34m\u001b[0m\u001b[0;34m\u001b[0m\u001b[0m\n\u001b[1;32m   1140\u001b[0m             \u001b[0mdataloader\u001b[0m \u001b[0;34m=\u001b[0m \u001b[0mdata\u001b[0m\u001b[0;34m.\u001b[0m\u001b[0mto_dataloader\u001b[0m\u001b[0;34m(\u001b[0m\u001b[0mbatch_size\u001b[0m\u001b[0;34m=\u001b[0m\u001b[0mbatch_size\u001b[0m\u001b[0;34m,\u001b[0m \u001b[0mtrain\u001b[0m\u001b[0;34m=\u001b[0m\u001b[0;32mFalse\u001b[0m\u001b[0;34m,\u001b[0m \u001b[0mnum_workers\u001b[0m\u001b[0;34m=\u001b[0m\u001b[0mnum_workers\u001b[0m\u001b[0;34m)\u001b[0m\u001b[0;34m\u001b[0m\u001b[0;34m\u001b[0m\u001b[0m\n",
      "\u001b[0;32m~/miniforge3/envs/nnenv/lib/python3.9/site-packages/pytorch_forecasting/data/timeseries.py\u001b[0m in \u001b[0;36mfrom_parameters\u001b[0;34m(cls, parameters, data, stop_randomization, predict, **update_kwargs)\u001b[0m\n\u001b[1;32m   1199\u001b[0m         \u001b[0mparameters\u001b[0m\u001b[0;34m.\u001b[0m\u001b[0mupdate\u001b[0m\u001b[0;34m(\u001b[0m\u001b[0mupdate_kwargs\u001b[0m\u001b[0;34m)\u001b[0m\u001b[0;34m\u001b[0m\u001b[0;34m\u001b[0m\u001b[0m\n\u001b[1;32m   1200\u001b[0m \u001b[0;34m\u001b[0m\u001b[0m\n\u001b[0;32m-> 1201\u001b[0;31m         \u001b[0mnew\u001b[0m \u001b[0;34m=\u001b[0m \u001b[0mcls\u001b[0m\u001b[0;34m(\u001b[0m\u001b[0mdata\u001b[0m\u001b[0;34m,\u001b[0m \u001b[0;34m**\u001b[0m\u001b[0mparameters\u001b[0m\u001b[0;34m)\u001b[0m\u001b[0;34m\u001b[0m\u001b[0;34m\u001b[0m\u001b[0m\n\u001b[0m\u001b[1;32m   1202\u001b[0m         \u001b[0;32mreturn\u001b[0m \u001b[0mnew\u001b[0m\u001b[0;34m\u001b[0m\u001b[0;34m\u001b[0m\u001b[0m\n\u001b[1;32m   1203\u001b[0m \u001b[0;34m\u001b[0m\u001b[0m\n",
      "\u001b[0;32m~/miniforge3/envs/nnenv/lib/python3.9/site-packages/pytorch_forecasting/data/timeseries.py\u001b[0m in \u001b[0;36m__init__\u001b[0;34m(self, data, time_idx, target, group_ids, weight, max_encoder_length, min_encoder_length, min_prediction_idx, min_prediction_length, max_prediction_length, static_categoricals, static_reals, time_varying_known_categoricals, time_varying_known_reals, time_varying_unknown_categoricals, time_varying_unknown_reals, variable_groups, constant_fill_strategy, allow_missing_timesteps, lags, add_relative_time_idx, add_target_scales, add_encoder_length, target_normalizer, categorical_encoders, scalers, randomize_length, predict_mode)\u001b[0m\n\u001b[1;32m    424\u001b[0m \u001b[0;34m\u001b[0m\u001b[0m\n\u001b[1;32m    425\u001b[0m         \u001b[0;31m# validate\u001b[0m\u001b[0;34m\u001b[0m\u001b[0;34m\u001b[0m\u001b[0m\n\u001b[0;32m--> 426\u001b[0;31m         \u001b[0mself\u001b[0m\u001b[0;34m.\u001b[0m\u001b[0m_validate_data\u001b[0m\u001b[0;34m(\u001b[0m\u001b[0mdata\u001b[0m\u001b[0;34m)\u001b[0m\u001b[0;34m\u001b[0m\u001b[0;34m\u001b[0m\u001b[0m\n\u001b[0m\u001b[1;32m    427\u001b[0m         \u001b[0;32massert\u001b[0m \u001b[0mdata\u001b[0m\u001b[0;34m.\u001b[0m\u001b[0mindex\u001b[0m\u001b[0;34m.\u001b[0m\u001b[0mis_unique\u001b[0m\u001b[0;34m,\u001b[0m \u001b[0;34m\"data index has to be unique\"\u001b[0m\u001b[0;34m\u001b[0m\u001b[0;34m\u001b[0m\u001b[0m\n\u001b[1;32m    428\u001b[0m \u001b[0;34m\u001b[0m\u001b[0m\n",
      "\u001b[0;32m~/miniforge3/envs/nnenv/lib/python3.9/site-packages/pytorch_forecasting/data/timeseries.py\u001b[0m in \u001b[0;36m_validate_data\u001b[0;34m(self, data)\u001b[0m\n\u001b[1;32m    632\u001b[0m         \u001b[0;32mfor\u001b[0m \u001b[0mname\u001b[0m \u001b[0;32min\u001b[0m \u001b[0mself\u001b[0m\u001b[0;34m.\u001b[0m\u001b[0mflat_categoricals\u001b[0m\u001b[0;34m:\u001b[0m\u001b[0;34m\u001b[0m\u001b[0;34m\u001b[0m\u001b[0m\n\u001b[1;32m    633\u001b[0m             \u001b[0;32mif\u001b[0m \u001b[0mname\u001b[0m \u001b[0;32mnot\u001b[0m \u001b[0;32min\u001b[0m \u001b[0mdata\u001b[0m\u001b[0;34m.\u001b[0m\u001b[0mcolumns\u001b[0m\u001b[0;34m:\u001b[0m\u001b[0;34m\u001b[0m\u001b[0;34m\u001b[0m\u001b[0m\n\u001b[0;32m--> 634\u001b[0;31m                 \u001b[0;32mraise\u001b[0m \u001b[0mKeyError\u001b[0m\u001b[0;34m(\u001b[0m\u001b[0;34mf\"variable {name} specified but not found in data\"\u001b[0m\u001b[0;34m)\u001b[0m\u001b[0;34m\u001b[0m\u001b[0;34m\u001b[0m\u001b[0m\n\u001b[0m\u001b[1;32m    635\u001b[0m             if not (\n\u001b[1;32m    636\u001b[0m                 \u001b[0mname\u001b[0m \u001b[0;32min\u001b[0m \u001b[0mobject_columns\u001b[0m\u001b[0;34m\u001b[0m\u001b[0;34m\u001b[0m\u001b[0m\n",
      "\u001b[0;31mKeyError\u001b[0m: 'variable group_id specified but not found in data'"
     ]
    }
   ],
   "source": [
    "best_tft.predict(df_test)"
   ]
  },
  {
   "cell_type": "code",
   "execution_count": null,
   "metadata": {},
   "outputs": [],
   "source": []
  }
 ],
 "metadata": {
  "interpreter": {
   "hash": "0ac99b679e96e98709c35eb1edc554e4edf87e6f7c8255750be86327ee221383"
  },
  "kernelspec": {
   "display_name": "Python 3.9.13 64-bit ('nnenv': conda)",
   "name": "python3"
  },
  "language_info": {
   "codemirror_mode": {
    "name": "ipython",
    "version": 3
   },
   "file_extension": ".py",
   "mimetype": "text/x-python",
   "name": "python",
   "nbconvert_exporter": "python",
   "pygments_lexer": "ipython3",
   "version": "3.9.13"
  },
  "orig_nbformat": 4
 },
 "nbformat": 4,
 "nbformat_minor": 2
}
