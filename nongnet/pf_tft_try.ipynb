{
 "cells": [
  {
   "cell_type": "code",
   "execution_count": 1,
   "metadata": {},
   "outputs": [],
   "source": [
    "import os\n",
    "import warnings\n",
    "\n",
    "warnings.filterwarnings(\"ignore\")  # avoid printing out absolute paths"
   ]
  },
  {
   "cell_type": "code",
   "execution_count": 2,
   "metadata": {},
   "outputs": [],
   "source": [
    "import copy\n",
    "from pathlib import Path\n",
    "import warnings\n",
    "\n",
    "import numpy as np\n",
    "import pandas as pd\n",
    "import pytorch_lightning as pl\n",
    "from pytorch_lightning.callbacks import EarlyStopping, LearningRateMonitor\n",
    "from pytorch_lightning.loggers import TensorBoardLogger\n",
    "import torch\n",
    "\n",
    "from pytorch_forecasting import Baseline, TemporalFusionTransformer, TimeSeriesDataSet\n",
    "from pytorch_forecasting.data import GroupNormalizer\n",
    "from pytorch_forecasting.metrics import SMAPE, PoissonLoss, QuantileLoss\n",
    "from pytorch_forecasting.models.temporal_fusion_transformer.tuning import optimize_hyperparameters"
   ]
  },
  {
   "cell_type": "code",
   "execution_count": 3,
   "metadata": {},
   "outputs": [],
   "source": [
    "from glob2 import glob\n",
    "from numba import jit\n",
    "from pandas_profiling import ProfileReport\n",
    "from tqdm import tqdm"
   ]
  },
  {
   "cell_type": "code",
   "execution_count": 128,
   "metadata": {},
   "outputs": [],
   "source": [
    "data_list = glob('./aT_data/data/train/*.csv')"
   ]
  },
  {
   "cell_type": "code",
   "execution_count": 129,
   "metadata": {},
   "outputs": [
    {
     "data": {
      "text/html": [
       "<div>\n",
       "<style scoped>\n",
       "    .dataframe tbody tr th:only-of-type {\n",
       "        vertical-align: middle;\n",
       "    }\n",
       "\n",
       "    .dataframe tbody tr th {\n",
       "        vertical-align: top;\n",
       "    }\n",
       "\n",
       "    .dataframe thead th {\n",
       "        text-align: right;\n",
       "    }\n",
       "</style>\n",
       "<table border=\"1\" class=\"dataframe\">\n",
       "  <thead>\n",
       "    <tr style=\"text-align: right;\">\n",
       "      <th></th>\n",
       "      <th>datadate</th>\n",
       "      <th>단가(원)</th>\n",
       "      <th>거래량</th>\n",
       "      <th>거래대금(원)</th>\n",
       "      <th>경매건수</th>\n",
       "      <th>도매시장코드</th>\n",
       "      <th>도매법인코드</th>\n",
       "      <th>산지코드</th>\n",
       "      <th>해당일자_전체평균가격(원)</th>\n",
       "      <th>해당일자_전체거래물량(kg)</th>\n",
       "      <th>...</th>\n",
       "      <th>월구분_12월</th>\n",
       "      <th>월구분_1월</th>\n",
       "      <th>월구분_2월</th>\n",
       "      <th>월구분_3월</th>\n",
       "      <th>월구분_4월</th>\n",
       "      <th>월구분_5월</th>\n",
       "      <th>월구분_6월</th>\n",
       "      <th>월구분_7월</th>\n",
       "      <th>월구분_8월</th>\n",
       "      <th>월구분_9월</th>\n",
       "    </tr>\n",
       "  </thead>\n",
       "  <tbody>\n",
       "    <tr>\n",
       "      <th>0</th>\n",
       "      <td>20130101</td>\n",
       "      <td>NaN</td>\n",
       "      <td>NaN</td>\n",
       "      <td>NaN</td>\n",
       "      <td>NaN</td>\n",
       "      <td>NaN</td>\n",
       "      <td>NaN</td>\n",
       "      <td>NaN</td>\n",
       "      <td>NaN</td>\n",
       "      <td>NaN</td>\n",
       "      <td>...</td>\n",
       "      <td>0</td>\n",
       "      <td>1</td>\n",
       "      <td>0</td>\n",
       "      <td>0</td>\n",
       "      <td>0</td>\n",
       "      <td>0</td>\n",
       "      <td>0</td>\n",
       "      <td>0</td>\n",
       "      <td>0</td>\n",
       "      <td>0</td>\n",
       "    </tr>\n",
       "    <tr>\n",
       "      <th>1</th>\n",
       "      <td>20130102</td>\n",
       "      <td>1298.70</td>\n",
       "      <td>435.0</td>\n",
       "      <td>566065.5</td>\n",
       "      <td>3.0</td>\n",
       "      <td>350301.0</td>\n",
       "      <td>35030101.0</td>\n",
       "      <td>561.0</td>\n",
       "      <td>1587.314723</td>\n",
       "      <td>116539.0</td>\n",
       "      <td>...</td>\n",
       "      <td>0</td>\n",
       "      <td>1</td>\n",
       "      <td>0</td>\n",
       "      <td>0</td>\n",
       "      <td>0</td>\n",
       "      <td>0</td>\n",
       "      <td>0</td>\n",
       "      <td>0</td>\n",
       "      <td>0</td>\n",
       "      <td>0</td>\n",
       "    </tr>\n",
       "    <tr>\n",
       "      <th>2</th>\n",
       "      <td>20130103</td>\n",
       "      <td>929.07</td>\n",
       "      <td>1005.0</td>\n",
       "      <td>936562.5</td>\n",
       "      <td>5.0</td>\n",
       "      <td>350402.0</td>\n",
       "      <td>35040202.0</td>\n",
       "      <td>580.0</td>\n",
       "      <td>1731.765036</td>\n",
       "      <td>812663.0</td>\n",
       "      <td>...</td>\n",
       "      <td>0</td>\n",
       "      <td>1</td>\n",
       "      <td>0</td>\n",
       "      <td>0</td>\n",
       "      <td>0</td>\n",
       "      <td>0</td>\n",
       "      <td>0</td>\n",
       "      <td>0</td>\n",
       "      <td>0</td>\n",
       "      <td>0</td>\n",
       "    </tr>\n",
       "    <tr>\n",
       "      <th>3</th>\n",
       "      <td>20130104</td>\n",
       "      <td>960.96</td>\n",
       "      <td>360.0</td>\n",
       "      <td>346653.0</td>\n",
       "      <td>4.0</td>\n",
       "      <td>340101.0</td>\n",
       "      <td>34010102.0</td>\n",
       "      <td>330.0</td>\n",
       "      <td>1433.421743</td>\n",
       "      <td>282245.0</td>\n",
       "      <td>...</td>\n",
       "      <td>0</td>\n",
       "      <td>1</td>\n",
       "      <td>0</td>\n",
       "      <td>0</td>\n",
       "      <td>0</td>\n",
       "      <td>0</td>\n",
       "      <td>0</td>\n",
       "      <td>0</td>\n",
       "      <td>0</td>\n",
       "      <td>0</td>\n",
       "    </tr>\n",
       "    <tr>\n",
       "      <th>4</th>\n",
       "      <td>20130105</td>\n",
       "      <td>720.72</td>\n",
       "      <td>5400.0</td>\n",
       "      <td>3903900.0</td>\n",
       "      <td>1.0</td>\n",
       "      <td>311201.0</td>\n",
       "      <td>31120103.0</td>\n",
       "      <td>467.0</td>\n",
       "      <td>1549.518789</td>\n",
       "      <td>347766.0</td>\n",
       "      <td>...</td>\n",
       "      <td>0</td>\n",
       "      <td>1</td>\n",
       "      <td>0</td>\n",
       "      <td>0</td>\n",
       "      <td>0</td>\n",
       "      <td>0</td>\n",
       "      <td>0</td>\n",
       "      <td>0</td>\n",
       "      <td>0</td>\n",
       "      <td>0</td>\n",
       "    </tr>\n",
       "    <tr>\n",
       "      <th>5</th>\n",
       "      <td>20130106</td>\n",
       "      <td>1271.27</td>\n",
       "      <td>360.0</td>\n",
       "      <td>455544.0</td>\n",
       "      <td>2.0</td>\n",
       "      <td>370401.0</td>\n",
       "      <td>37040101.0</td>\n",
       "      <td>766.0</td>\n",
       "      <td>1533.847531</td>\n",
       "      <td>469554.0</td>\n",
       "      <td>...</td>\n",
       "      <td>0</td>\n",
       "      <td>1</td>\n",
       "      <td>0</td>\n",
       "      <td>0</td>\n",
       "      <td>0</td>\n",
       "      <td>0</td>\n",
       "      <td>0</td>\n",
       "      <td>0</td>\n",
       "      <td>0</td>\n",
       "      <td>0</td>\n",
       "    </tr>\n",
       "    <tr>\n",
       "      <th>6</th>\n",
       "      <td>20130107</td>\n",
       "      <td>1168.83</td>\n",
       "      <td>150.0</td>\n",
       "      <td>175175.0</td>\n",
       "      <td>3.0</td>\n",
       "      <td>380201.0</td>\n",
       "      <td>38020102.0</td>\n",
       "      <td>680.0</td>\n",
       "      <td>1498.667145</td>\n",
       "      <td>294222.0</td>\n",
       "      <td>...</td>\n",
       "      <td>0</td>\n",
       "      <td>1</td>\n",
       "      <td>0</td>\n",
       "      <td>0</td>\n",
       "      <td>0</td>\n",
       "      <td>0</td>\n",
       "      <td>0</td>\n",
       "      <td>0</td>\n",
       "      <td>0</td>\n",
       "      <td>0</td>\n",
       "    </tr>\n",
       "    <tr>\n",
       "      <th>7</th>\n",
       "      <td>20130108</td>\n",
       "      <td>NaN</td>\n",
       "      <td>NaN</td>\n",
       "      <td>NaN</td>\n",
       "      <td>NaN</td>\n",
       "      <td>NaN</td>\n",
       "      <td>NaN</td>\n",
       "      <td>NaN</td>\n",
       "      <td>NaN</td>\n",
       "      <td>NaN</td>\n",
       "      <td>...</td>\n",
       "      <td>0</td>\n",
       "      <td>1</td>\n",
       "      <td>0</td>\n",
       "      <td>0</td>\n",
       "      <td>0</td>\n",
       "      <td>0</td>\n",
       "      <td>0</td>\n",
       "      <td>0</td>\n",
       "      <td>0</td>\n",
       "      <td>0</td>\n",
       "    </tr>\n",
       "    <tr>\n",
       "      <th>8</th>\n",
       "      <td>20130109</td>\n",
       "      <td>1298.70</td>\n",
       "      <td>2820.0</td>\n",
       "      <td>3660336.0</td>\n",
       "      <td>10.0</td>\n",
       "      <td>210009.0</td>\n",
       "      <td>21000901.0</td>\n",
       "      <td>960.0</td>\n",
       "      <td>1671.561473</td>\n",
       "      <td>766088.0</td>\n",
       "      <td>...</td>\n",
       "      <td>0</td>\n",
       "      <td>1</td>\n",
       "      <td>0</td>\n",
       "      <td>0</td>\n",
       "      <td>0</td>\n",
       "      <td>0</td>\n",
       "      <td>0</td>\n",
       "      <td>0</td>\n",
       "      <td>0</td>\n",
       "      <td>0</td>\n",
       "    </tr>\n",
       "    <tr>\n",
       "      <th>9</th>\n",
       "      <td>20130110</td>\n",
       "      <td>839.16</td>\n",
       "      <td>690.0</td>\n",
       "      <td>575424.0</td>\n",
       "      <td>9.0</td>\n",
       "      <td>250003.0</td>\n",
       "      <td>25000302.0</td>\n",
       "      <td>339.0</td>\n",
       "      <td>1837.608567</td>\n",
       "      <td>747973.0</td>\n",
       "      <td>...</td>\n",
       "      <td>0</td>\n",
       "      <td>1</td>\n",
       "      <td>0</td>\n",
       "      <td>0</td>\n",
       "      <td>0</td>\n",
       "      <td>0</td>\n",
       "      <td>0</td>\n",
       "      <td>0</td>\n",
       "      <td>0</td>\n",
       "      <td>0</td>\n",
       "    </tr>\n",
       "    <tr>\n",
       "      <th>10</th>\n",
       "      <td>20130111</td>\n",
       "      <td>1031.03</td>\n",
       "      <td>1065.0</td>\n",
       "      <td>1100099.0</td>\n",
       "      <td>6.0</td>\n",
       "      <td>110001.0</td>\n",
       "      <td>11000101.0</td>\n",
       "      <td>467.0</td>\n",
       "      <td>1901.409393</td>\n",
       "      <td>915034.0</td>\n",
       "      <td>...</td>\n",
       "      <td>0</td>\n",
       "      <td>1</td>\n",
       "      <td>0</td>\n",
       "      <td>0</td>\n",
       "      <td>0</td>\n",
       "      <td>0</td>\n",
       "      <td>0</td>\n",
       "      <td>0</td>\n",
       "      <td>0</td>\n",
       "      <td>0</td>\n",
       "    </tr>\n",
       "    <tr>\n",
       "      <th>11</th>\n",
       "      <td>20130112</td>\n",
       "      <td>1171.17</td>\n",
       "      <td>1080.0</td>\n",
       "      <td>1269268.0</td>\n",
       "      <td>3.0</td>\n",
       "      <td>110001.0</td>\n",
       "      <td>11000105.0</td>\n",
       "      <td>471.0</td>\n",
       "      <td>2037.190436</td>\n",
       "      <td>1295426.0</td>\n",
       "      <td>...</td>\n",
       "      <td>0</td>\n",
       "      <td>1</td>\n",
       "      <td>0</td>\n",
       "      <td>0</td>\n",
       "      <td>0</td>\n",
       "      <td>0</td>\n",
       "      <td>0</td>\n",
       "      <td>0</td>\n",
       "      <td>0</td>\n",
       "      <td>0</td>\n",
       "    </tr>\n",
       "    <tr>\n",
       "      <th>12</th>\n",
       "      <td>20130113</td>\n",
       "      <td>2412.41</td>\n",
       "      <td>4654.0</td>\n",
       "      <td>11191297.5</td>\n",
       "      <td>9.0</td>\n",
       "      <td>310101.0</td>\n",
       "      <td>31010101.0</td>\n",
       "      <td>330.0</td>\n",
       "      <td>2030.128889</td>\n",
       "      <td>2090755.0</td>\n",
       "      <td>...</td>\n",
       "      <td>0</td>\n",
       "      <td>1</td>\n",
       "      <td>0</td>\n",
       "      <td>0</td>\n",
       "      <td>0</td>\n",
       "      <td>0</td>\n",
       "      <td>0</td>\n",
       "      <td>0</td>\n",
       "      <td>0</td>\n",
       "      <td>0</td>\n",
       "    </tr>\n",
       "    <tr>\n",
       "      <th>13</th>\n",
       "      <td>20130114</td>\n",
       "      <td>1921.92</td>\n",
       "      <td>3344.0</td>\n",
       "      <td>6439433.0</td>\n",
       "      <td>7.0</td>\n",
       "      <td>240001.0</td>\n",
       "      <td>24000102.0</td>\n",
       "      <td>506.0</td>\n",
       "      <td>1974.086986</td>\n",
       "      <td>1841468.0</td>\n",
       "      <td>...</td>\n",
       "      <td>0</td>\n",
       "      <td>1</td>\n",
       "      <td>0</td>\n",
       "      <td>0</td>\n",
       "      <td>0</td>\n",
       "      <td>0</td>\n",
       "      <td>0</td>\n",
       "      <td>0</td>\n",
       "      <td>0</td>\n",
       "      <td>0</td>\n",
       "    </tr>\n",
       "    <tr>\n",
       "      <th>14</th>\n",
       "      <td>20130115</td>\n",
       "      <td>NaN</td>\n",
       "      <td>NaN</td>\n",
       "      <td>NaN</td>\n",
       "      <td>NaN</td>\n",
       "      <td>NaN</td>\n",
       "      <td>NaN</td>\n",
       "      <td>NaN</td>\n",
       "      <td>NaN</td>\n",
       "      <td>NaN</td>\n",
       "      <td>...</td>\n",
       "      <td>0</td>\n",
       "      <td>1</td>\n",
       "      <td>0</td>\n",
       "      <td>0</td>\n",
       "      <td>0</td>\n",
       "      <td>0</td>\n",
       "      <td>0</td>\n",
       "      <td>0</td>\n",
       "      <td>0</td>\n",
       "      <td>0</td>\n",
       "    </tr>\n",
       "    <tr>\n",
       "      <th>15</th>\n",
       "      <td>20130116</td>\n",
       "      <td>1961.96</td>\n",
       "      <td>7032.0</td>\n",
       "      <td>13767754.0</td>\n",
       "      <td>12.0</td>\n",
       "      <td>230003.0</td>\n",
       "      <td>23000303.0</td>\n",
       "      <td>585.0</td>\n",
       "      <td>1957.488371</td>\n",
       "      <td>3579335.0</td>\n",
       "      <td>...</td>\n",
       "      <td>0</td>\n",
       "      <td>1</td>\n",
       "      <td>0</td>\n",
       "      <td>0</td>\n",
       "      <td>0</td>\n",
       "      <td>0</td>\n",
       "      <td>0</td>\n",
       "      <td>0</td>\n",
       "      <td>0</td>\n",
       "      <td>0</td>\n",
       "    </tr>\n",
       "    <tr>\n",
       "      <th>16</th>\n",
       "      <td>20130117</td>\n",
       "      <td>2757.24</td>\n",
       "      <td>4752.0</td>\n",
       "      <td>13122864.0</td>\n",
       "      <td>12.0</td>\n",
       "      <td>250001.0</td>\n",
       "      <td>25000101.0</td>\n",
       "      <td>339.0</td>\n",
       "      <td>1928.961207</td>\n",
       "      <td>3279439.0</td>\n",
       "      <td>...</td>\n",
       "      <td>0</td>\n",
       "      <td>1</td>\n",
       "      <td>0</td>\n",
       "      <td>0</td>\n",
       "      <td>0</td>\n",
       "      <td>0</td>\n",
       "      <td>0</td>\n",
       "      <td>0</td>\n",
       "      <td>0</td>\n",
       "      <td>0</td>\n",
       "    </tr>\n",
       "    <tr>\n",
       "      <th>17</th>\n",
       "      <td>20130118</td>\n",
       "      <td>2667.33</td>\n",
       "      <td>4070.0</td>\n",
       "      <td>10845144.0</td>\n",
       "      <td>14.0</td>\n",
       "      <td>320101.0</td>\n",
       "      <td>32010101.0</td>\n",
       "      <td>330.0</td>\n",
       "      <td>1945.785612</td>\n",
       "      <td>3374990.0</td>\n",
       "      <td>...</td>\n",
       "      <td>0</td>\n",
       "      <td>1</td>\n",
       "      <td>0</td>\n",
       "      <td>0</td>\n",
       "      <td>0</td>\n",
       "      <td>0</td>\n",
       "      <td>0</td>\n",
       "      <td>0</td>\n",
       "      <td>0</td>\n",
       "      <td>0</td>\n",
       "    </tr>\n",
       "    <tr>\n",
       "      <th>18</th>\n",
       "      <td>20130119</td>\n",
       "      <td>1461.46</td>\n",
       "      <td>1920.0</td>\n",
       "      <td>2795202.0</td>\n",
       "      <td>4.0</td>\n",
       "      <td>310901.0</td>\n",
       "      <td>31090101.0</td>\n",
       "      <td>339.0</td>\n",
       "      <td>1927.708559</td>\n",
       "      <td>3143608.0</td>\n",
       "      <td>...</td>\n",
       "      <td>0</td>\n",
       "      <td>1</td>\n",
       "      <td>0</td>\n",
       "      <td>0</td>\n",
       "      <td>0</td>\n",
       "      <td>0</td>\n",
       "      <td>0</td>\n",
       "      <td>0</td>\n",
       "      <td>0</td>\n",
       "      <td>0</td>\n",
       "    </tr>\n",
       "    <tr>\n",
       "      <th>19</th>\n",
       "      <td>20130120</td>\n",
       "      <td>939.06</td>\n",
       "      <td>6120.0</td>\n",
       "      <td>5747241.5</td>\n",
       "      <td>8.0</td>\n",
       "      <td>240004.0</td>\n",
       "      <td>24000403.0</td>\n",
       "      <td>526.0</td>\n",
       "      <td>1915.232046</td>\n",
       "      <td>2835094.0</td>\n",
       "      <td>...</td>\n",
       "      <td>0</td>\n",
       "      <td>1</td>\n",
       "      <td>0</td>\n",
       "      <td>0</td>\n",
       "      <td>0</td>\n",
       "      <td>0</td>\n",
       "      <td>0</td>\n",
       "      <td>0</td>\n",
       "      <td>0</td>\n",
       "      <td>0</td>\n",
       "    </tr>\n",
       "  </tbody>\n",
       "</table>\n",
       "<p>20 rows × 58 columns</p>\n",
       "</div>"
      ],
      "text/plain": [
       "    datadate    단가(원)     거래량     거래대금(원)  경매건수    도매시장코드      도매법인코드  산지코드   \\\n",
       "0   20130101      NaN     NaN         NaN   NaN       NaN         NaN    NaN   \n",
       "1   20130102  1298.70   435.0    566065.5   3.0  350301.0  35030101.0  561.0   \n",
       "2   20130103   929.07  1005.0    936562.5   5.0  350402.0  35040202.0  580.0   \n",
       "3   20130104   960.96   360.0    346653.0   4.0  340101.0  34010102.0  330.0   \n",
       "4   20130105   720.72  5400.0   3903900.0   1.0  311201.0  31120103.0  467.0   \n",
       "5   20130106  1271.27   360.0    455544.0   2.0  370401.0  37040101.0  766.0   \n",
       "6   20130107  1168.83   150.0    175175.0   3.0  380201.0  38020102.0  680.0   \n",
       "7   20130108      NaN     NaN         NaN   NaN       NaN         NaN    NaN   \n",
       "8   20130109  1298.70  2820.0   3660336.0  10.0  210009.0  21000901.0  960.0   \n",
       "9   20130110   839.16   690.0    575424.0   9.0  250003.0  25000302.0  339.0   \n",
       "10  20130111  1031.03  1065.0   1100099.0   6.0  110001.0  11000101.0  467.0   \n",
       "11  20130112  1171.17  1080.0   1269268.0   3.0  110001.0  11000105.0  471.0   \n",
       "12  20130113  2412.41  4654.0  11191297.5   9.0  310101.0  31010101.0  330.0   \n",
       "13  20130114  1921.92  3344.0   6439433.0   7.0  240001.0  24000102.0  506.0   \n",
       "14  20130115      NaN     NaN         NaN   NaN       NaN         NaN    NaN   \n",
       "15  20130116  1961.96  7032.0  13767754.0  12.0  230003.0  23000303.0  585.0   \n",
       "16  20130117  2757.24  4752.0  13122864.0  12.0  250001.0  25000101.0  339.0   \n",
       "17  20130118  2667.33  4070.0  10845144.0  14.0  320101.0  32010101.0  330.0   \n",
       "18  20130119  1461.46  1920.0   2795202.0   4.0  310901.0  31090101.0  339.0   \n",
       "19  20130120   939.06  6120.0   5747241.5   8.0  240004.0  24000403.0  526.0   \n",
       "\n",
       "    해당일자_전체평균가격(원)  해당일자_전체거래물량(kg)  ...  월구분_12월  월구분_1월  월구분_2월  월구분_3월  \\\n",
       "0              NaN              NaN  ...        0       1       0       0   \n",
       "1      1587.314723         116539.0  ...        0       1       0       0   \n",
       "2      1731.765036         812663.0  ...        0       1       0       0   \n",
       "3      1433.421743         282245.0  ...        0       1       0       0   \n",
       "4      1549.518789         347766.0  ...        0       1       0       0   \n",
       "5      1533.847531         469554.0  ...        0       1       0       0   \n",
       "6      1498.667145         294222.0  ...        0       1       0       0   \n",
       "7              NaN              NaN  ...        0       1       0       0   \n",
       "8      1671.561473         766088.0  ...        0       1       0       0   \n",
       "9      1837.608567         747973.0  ...        0       1       0       0   \n",
       "10     1901.409393         915034.0  ...        0       1       0       0   \n",
       "11     2037.190436        1295426.0  ...        0       1       0       0   \n",
       "12     2030.128889        2090755.0  ...        0       1       0       0   \n",
       "13     1974.086986        1841468.0  ...        0       1       0       0   \n",
       "14             NaN              NaN  ...        0       1       0       0   \n",
       "15     1957.488371        3579335.0  ...        0       1       0       0   \n",
       "16     1928.961207        3279439.0  ...        0       1       0       0   \n",
       "17     1945.785612        3374990.0  ...        0       1       0       0   \n",
       "18     1927.708559        3143608.0  ...        0       1       0       0   \n",
       "19     1915.232046        2835094.0  ...        0       1       0       0   \n",
       "\n",
       "    월구분_4월  월구분_5월  월구분_6월  월구분_7월  월구분_8월  월구분_9월  \n",
       "0        0       0       0       0       0       0  \n",
       "1        0       0       0       0       0       0  \n",
       "2        0       0       0       0       0       0  \n",
       "3        0       0       0       0       0       0  \n",
       "4        0       0       0       0       0       0  \n",
       "5        0       0       0       0       0       0  \n",
       "6        0       0       0       0       0       0  \n",
       "7        0       0       0       0       0       0  \n",
       "8        0       0       0       0       0       0  \n",
       "9        0       0       0       0       0       0  \n",
       "10       0       0       0       0       0       0  \n",
       "11       0       0       0       0       0       0  \n",
       "12       0       0       0       0       0       0  \n",
       "13       0       0       0       0       0       0  \n",
       "14       0       0       0       0       0       0  \n",
       "15       0       0       0       0       0       0  \n",
       "16       0       0       0       0       0       0  \n",
       "17       0       0       0       0       0       0  \n",
       "18       0       0       0       0       0       0  \n",
       "19       0       0       0       0       0       0  \n",
       "\n",
       "[20 rows x 58 columns]"
      ]
     },
     "execution_count": 129,
     "metadata": {},
     "output_type": "execute_result"
    }
   ],
   "source": [
    "# feature engineering\n",
    "# 함수 정의하기.\n",
    "\n",
    "df_train = pd.read_csv(data_list[0])\n",
    "df_train.head(20)"
   ]
  },
  {
   "cell_type": "code",
   "execution_count": 130,
   "metadata": {},
   "outputs": [
    {
     "data": {
      "text/plain": [
       "1461"
      ]
     },
     "execution_count": 130,
     "metadata": {},
     "output_type": "execute_result"
    }
   ],
   "source": [
    "df_train = df_train.replace(' ', np.nan)\n",
    "df_train['주산지_0_습도(%)'].isnull().count()"
   ]
  },
  {
   "cell_type": "code",
   "execution_count": 131,
   "metadata": {},
   "outputs": [
    {
     "data": {
      "text/plain": [
       "Index(['datadate', '단가(원)', '거래량', '거래대금(원)', '경매건수', '도매시장코드', '도매법인코드',\n",
       "       '산지코드 ', '해당일자_전체평균가격(원)', '해당일자_전체거래물량(kg)', '하위가격 평균가(원)',\n",
       "       '상위가격 평균가(원)', '하위가격 거래물량(kg)', '상위가격 거래물량(kg)', '일자별_도매가격_최대(원)',\n",
       "       '일자별_도매가격_평균(원)', '일자별_도매가격_최소(원)', '일자별_소매가격_최대(원)', '일자별_소매가격_평균(원)',\n",
       "       '일자별_소매가격_최소(원)', '수출중량(kg)', '수출금액(달러)', '수입중량(kg)', '수입금액(달러)',\n",
       "       '무역수지(달러)', '주산지_0_초기온도(℃)', '주산지_0_최대온도(℃)', '주산지_0_최저온도(℃)',\n",
       "       '주산지_0_평균온도(℃)', '주산지_0_강수량(ml)', '주산지_0_습도(%)', '주산지_1_초기온도(℃)',\n",
       "       '주산지_1_최대온도(℃)', '주산지_1_최저온도(℃)', '주산지_1_평균온도(℃)', '주산지_1_강수량(ml)',\n",
       "       '주산지_1_습도(%)', '주산지_2_초기온도(℃)', '주산지_2_최대온도(℃)', '주산지_2_최저온도(℃)',\n",
       "       '주산지_2_평균온도(℃)', '주산지_2_강수량(ml)', '주산지_2_습도(%)', '일자구분_중순', '일자구분_초순',\n",
       "       '일자구분_하순', '월구분_10월', '월구분_11월', '월구분_12월', '월구분_1월', '월구분_2월',\n",
       "       '월구분_3월', '월구분_4월', '월구분_5월', '월구분_6월', '월구분_7월', '월구분_8월', '월구분_9월'],\n",
       "      dtype='object')"
      ]
     },
     "execution_count": 131,
     "metadata": {},
     "output_type": "execute_result"
    }
   ],
   "source": [
    "df_train.columns"
   ]
  },
  {
   "cell_type": "code",
   "execution_count": 132,
   "metadata": {},
   "outputs": [],
   "source": [
    "# 주산지 초기온도, 최대온도, 최저온도, 평균온도, 강수량, 습도\n",
    "df_train['group_id'] = 0\n",
    "\n",
    "df_train['주산지_초기온도'] = (df_train['주산지_0_초기온도(℃)'] + df_train['주산지_1_초기온도(℃)'] + df_train['주산지_2_초기온도(℃)'])/3\n",
    "df_train['주산지_최대온도'] = (df_train['주산지_0_최대온도(℃)'] + df_train['주산지_1_최대온도(℃)'] + df_train['주산지_2_최대온도(℃)'])/3\n",
    "df_train['주산지_최저온도'] = (df_train['주산지_0_최저온도(℃)'] + df_train['주산지_1_최저온도(℃)'] + df_train['주산지_2_최저온도(℃)'])/3\n",
    "df_train['주산지_평균온도'] = (df_train['주산지_0_평균온도(℃)'] + df_train['주산지_1_평균온도(℃)'] + df_train['주산지_2_평균온도(℃)'])/3\n",
    "\n",
    "df_train['주산지_강수량'] = (df_train['주산지_0_강수량(ml)'] + df_train['주산지_1_강수량(ml)'] + df_train['주산지_2_강수량(ml)'])/3\n",
    "# df_train['주산지_습도'] = (df_train['주산지_0_습도(%)'] + df_train['주산지_1_습도(%)'] + df_train['주산지_2_습도(%)'])/3\n",
    "\n",
    "df_train.drop(['도매시장코드', '도매법인코드', '산지코드 ','일자구분_중순', '일자구분_초순',\n",
    "       '일자구분_하순', '월구분_10월', '월구분_11월', '월구분_12월', '월구분_1월', '월구분_2월',\n",
    "       '월구분_3월', '월구분_4월', '월구분_5월', '월구분_6월', '월구분_7월', '월구분_8월', '월구분_9월',\n",
    "       '주산지_0_초기온도(℃)', '주산지_1_초기온도(℃)', '주산지_2_초기온도(℃)',\n",
    "       '주산지_0_최대온도(℃)', '주산지_1_최대온도(℃)', '주산지_2_최대온도(℃)',\n",
    "       '주산지_0_최저온도(℃)', '주산지_1_최저온도(℃)', '주산지_2_최저온도(℃)',\n",
    "       '주산지_0_평균온도(℃)', '주산지_1_평균온도(℃)', '주산지_2_평균온도(℃)',\n",
    "       '주산지_0_강수량(ml)', '주산지_1_강수량(ml)', '주산지_2_강수량(ml)',\n",
    "       '주산지_0_습도(%)', '주산지_1_습도(%)', '주산지_2_습도(%)'\n",
    "       ], axis = 1, inplace = True)"
   ]
  },
  {
   "cell_type": "code",
   "execution_count": 133,
   "metadata": {},
   "outputs": [
    {
     "data": {
      "text/plain": [
       "Index(['datadate', '단가(원)', '거래량', '거래대금(원)', '경매건수', '해당일자_전체평균가격(원)',\n",
       "       '해당일자_전체거래물량(kg)', '하위가격 평균가(원)', '상위가격 평균가(원)', '하위가격 거래물량(kg)',\n",
       "       '상위가격 거래물량(kg)', '일자별_도매가격_최대(원)', '일자별_도매가격_평균(원)', '일자별_도매가격_최소(원)',\n",
       "       '일자별_소매가격_최대(원)', '일자별_소매가격_평균(원)', '일자별_소매가격_최소(원)', '수출중량(kg)',\n",
       "       '수출금액(달러)', '수입중량(kg)', '수입금액(달러)', '무역수지(달러)', 'group_id', '주산지_초기온도',\n",
       "       '주산지_최대온도', '주산지_최저온도', '주산지_평균온도', '주산지_강수량'],\n",
       "      dtype='object')"
      ]
     },
     "execution_count": 133,
     "metadata": {},
     "output_type": "execute_result"
    }
   ],
   "source": [
    "df_train.columns"
   ]
  },
  {
   "cell_type": "code",
   "execution_count": 134,
   "metadata": {},
   "outputs": [
    {
     "name": "stdout",
     "output_type": "stream",
     "text": [
      "<class 'pandas.core.frame.DataFrame'>\n",
      "RangeIndex: 1461 entries, 0 to 1460\n",
      "Data columns (total 28 columns):\n",
      " #   Column           Non-Null Count  Dtype  \n",
      "---  ------           --------------  -----  \n",
      " 0   datadate         1461 non-null   int64  \n",
      " 1   단가(원)            1461 non-null   float64\n",
      " 2   거래량              1461 non-null   float64\n",
      " 3   거래대금(원)          1461 non-null   float64\n",
      " 4   경매건수             1461 non-null   float64\n",
      " 5   해당일자_전체평균가격(원)   1461 non-null   float64\n",
      " 6   해당일자_전체거래물량(kg)  1461 non-null   float64\n",
      " 7   하위가격 평균가(원)      1461 non-null   float64\n",
      " 8   상위가격 평균가(원)      1461 non-null   float64\n",
      " 9   하위가격 거래물량(kg)    1461 non-null   float64\n",
      " 10  상위가격 거래물량(kg)    1461 non-null   float64\n",
      " 11  일자별_도매가격_최대(원)   1461 non-null   float64\n",
      " 12  일자별_도매가격_평균(원)   1461 non-null   float64\n",
      " 13  일자별_도매가격_최소(원)   1461 non-null   float64\n",
      " 14  일자별_소매가격_최대(원)   1461 non-null   float64\n",
      " 15  일자별_소매가격_평균(원)   1461 non-null   float64\n",
      " 16  일자별_소매가격_최소(원)   1461 non-null   float64\n",
      " 17  수출중량(kg)         1461 non-null   float64\n",
      " 18  수출금액(달러)         1461 non-null   float64\n",
      " 19  수입중량(kg)         1461 non-null   float64\n",
      " 20  수입금액(달러)         1461 non-null   float64\n",
      " 21  무역수지(달러)         1461 non-null   float64\n",
      " 22  group_id         1461 non-null   int64  \n",
      " 23  주산지_초기온도         1461 non-null   float64\n",
      " 24  주산지_최대온도         1461 non-null   float64\n",
      " 25  주산지_최저온도         1461 non-null   float64\n",
      " 26  주산지_평균온도         1461 non-null   float64\n",
      " 27  주산지_강수량          1461 non-null   float64\n",
      "dtypes: float64(26), int64(2)\n",
      "memory usage: 319.7 KB\n"
     ]
    }
   ],
   "source": [
    "df_train = df_train.fillna(0)\n",
    "df_train.info()"
   ]
  },
  {
   "cell_type": "code",
   "execution_count": 135,
   "metadata": {},
   "outputs": [],
   "source": [
    "prediction_length = 28\n",
    "encoder_length = 14\n",
    "X_columns = ['단가(원)', '거래량', \n",
    "       '해당일자_전체거래물량(kg)', '하위가격 평균가(원)', '상위가격 평균가(원)', '하위가격 거래물량(kg)',\n",
    "       '상위가격 거래물량(kg)', '일자별_도매가격_최대(원)', '일자별_도매가격_평균(원)', '일자별_도매가격_최소(원)',\n",
    "       '일자별_소매가격_최대(원)', '일자별_소매가격_평균(원)', '일자별_소매가격_최소(원)', '주산지_초기온도', '주산지_최대온도',\n",
    "       '주산지_최저온도', '주산지_평균온도', '주산지_강수량']\n",
    "\n",
    "\n",
    "# '해당일자_전체평균가격(원)', '거래대금(원)', '경매건수', '수출중량(kg)', '수출금액(달러)', '수입중량(kg)', '수입금액(달러)', '무역수지(달러)'\n",
    "training = TimeSeriesDataSet(\n",
    "    df_train[:-28],\n",
    "    time_idx=\"datadate\",\n",
    "    target=\"해당일자_전체평균가격(원)\",\n",
    "    group_ids=[\"group_id\"],\n",
    "    min_encoder_length=1,  # keep encoder length long (as it is in the validation set)\n",
    "    max_encoder_length=encoder_length,\n",
    "    min_prediction_length=1,\n",
    "    max_prediction_length=prediction_length,\n",
    "    # static_categoricals=[\"agency\", \"sku\"],\n",
    "    # static_reals=[\"avg_population_2017\", \"avg_yearly_household_income_2017\"],\n",
    "    # time_varying_known_categoricals=X_columns,\n",
    "    # variable_groups={\"special_days\": special_days},  # group of categorical variables can be treated as one variable\n",
    "    time_varying_known_reals=X_columns,\n",
    "    # time_varying_unknown_categoricals=[],\n",
    "    # time_varying_unknown_reals=[\n",
    "    #     \"volume\",\n",
    "    #     \"log_volume\",\n",
    "    #     \"industry_volume\",\n",
    "    #     \"soda_volume\",\n",
    "    #     \"avg_max_temp\",\n",
    "    #     \"avg_volume_by_agency\",\n",
    "    #     \"avg_volume_by_sku\",\n",
    "    # ],\n",
    "    # target_normalizer=GroupNormalizer(\n",
    "    #     groups=[\"agency\", \"sku\"], transformation=\"softplus\"\n",
    "    # ),  # use softplus and normalize by group\n",
    "    add_relative_time_idx=True,\n",
    "    add_target_scales=True,\n",
    "    add_encoder_length=True,\n",
    "    allow_missing_timesteps=True\n",
    "    \n",
    ")\n",
    "\n",
    "# create validation set (predict=True) which means to predict the last max_prediction_length points in time\n",
    "# for each series\n",
    "validation = TimeSeriesDataSet.from_dataset(training, df_train, predict=True, stop_randomization=True)\n",
    "\n",
    "# create dataloaders for model\n",
    "batch_size = 64  # set this between 32 to 128\n",
    "train_dataloader = training.to_dataloader(train=True, batch_size=batch_size, num_workers=0)\n",
    "val_dataloader = validation.to_dataloader(train=False, batch_size=batch_size * 10, num_workers=0)"
   ]
  },
  {
   "cell_type": "code",
   "execution_count": 136,
   "metadata": {},
   "outputs": [
    {
     "data": {
      "text/plain": [
       "592.8562622070312"
      ]
     },
     "execution_count": 136,
     "metadata": {},
     "output_type": "execute_result"
    }
   ],
   "source": [
    "# calculate baseline mean absolute error, i.e. predict next value as the last available value from the history\n",
    "actuals = torch.cat([y for x, (y, weight) in iter(val_dataloader)])\n",
    "baseline_predictions = Baseline().predict(val_dataloader)\n",
    "(actuals - baseline_predictions).abs().mean().item()"
   ]
  },
  {
   "cell_type": "code",
   "execution_count": 137,
   "metadata": {},
   "outputs": [
    {
     "name": "stderr",
     "output_type": "stream",
     "text": [
      "Global seed set to 42\n",
      "/Users/chai/miniforge3/envs/nnenv/lib/python3.9/site-packages/pytorch_lightning/trainer/connectors/accelerator_connector.py:447: LightningDeprecationWarning: Setting `Trainer(gpus=0)` is deprecated in v1.7 and will be removed in v2.0. Please use `Trainer(accelerator='gpu', devices=0)` instead.\n",
      "  rank_zero_deprecation(\n",
      "GPU available: True (mps), used: False\n",
      "TPU available: False, using: 0 TPU cores\n",
      "IPU available: False, using: 0 IPUs\n",
      "HPU available: False, using: 0 HPUs\n"
     ]
    },
    {
     "name": "stdout",
     "output_type": "stream",
     "text": [
      "Number of parameters in network: 43.2k\n"
     ]
    }
   ],
   "source": [
    "# configure network and trainer\n",
    "pl.seed_everything(42)\n",
    "trainer = pl.Trainer(\n",
    "    gpus=0,\n",
    "    # accelerator=\"mps\", \n",
    "    # devices=1,\n",
    "    # clipping gradients is a hyperparameter and important to prevent divergance\n",
    "    # of the gradient for recurrent neural networks\n",
    "    gradient_clip_val=0.1,\n",
    ")\n",
    "\n",
    "\n",
    "tft = TemporalFusionTransformer.from_dataset(\n",
    "    training,\n",
    "    # not meaningful for finding the learning rate but otherwise very important\n",
    "    learning_rate=0.03,\n",
    "    hidden_size=16,  # most important hyperparameter apart from learning rate\n",
    "    # number of attention heads. Set to up to 4 for large datasets\n",
    "    attention_head_size=1,\n",
    "    dropout=0.1,  # between 0.1 and 0.3 are good values\n",
    "    hidden_continuous_size=8,  # set to <= hidden_size\n",
    "    output_size=7,  # 7 quantiles by default\n",
    "    loss=QuantileLoss(),\n",
    "    # reduce learning rate if no improvement in validation loss after x epochs\n",
    "    reduce_on_plateau_patience=4,\n",
    ")\n",
    "print(f\"Number of parameters in network: {tft.size()/1e3:.1f}k\")"
   ]
  },
  {
   "cell_type": "code",
   "execution_count": 138,
   "metadata": {},
   "outputs": [
    {
     "data": {
      "application/vnd.jupyter.widget-view+json": {
       "model_id": "512fb8adbd3a4f46afb7a768bb1601b8",
       "version_major": 2,
       "version_minor": 0
      },
      "text/plain": [
       "Finding best initial lr:   0%|          | 0/100 [00:00<?, ?it/s]"
      ]
     },
     "metadata": {},
     "output_type": "display_data"
    },
    {
     "name": "stderr",
     "output_type": "stream",
     "text": [
      "`Trainer.fit` stopped: `max_steps=100` reached.\n",
      "Restoring states from the checkpoint path at /Users/chai/myRepo/Competitions/nongnet/.lr_find_e31e4341-4ef7-453c-9e90-210b7e8c45ed.ckpt\n"
     ]
    },
    {
     "name": "stdout",
     "output_type": "stream",
     "text": [
      "suggested learning rate: 0.09332543007969905\n"
     ]
    },
    {
     "data": {
      "image/png": "[encoded data removed]",
      "text/plain": [
       "<Figure size 432x288 with 1 Axes>"
      ]
     },
     "metadata": {
      "needs_background": "light"
     },
     "output_type": "display_data"
    }
   ],
   "source": [
    "# find optimal learning rate\n",
    "res = trainer.tuner.lr_find(\n",
    "    tft,\n",
    "    train_dataloaders=train_dataloader,\n",
    "    val_dataloaders=val_dataloader,\n",
    "    max_lr=10.0,\n",
    "    min_lr=1e-6,\n",
    ")\n",
    "\n",
    "print(f\"suggested learning rate: {res.suggestion()}\")\n",
    "fig = res.plot(show=True, suggest=True)\n",
    "fig.show()"
   ]
  },
  {
   "cell_type": "code",
   "execution_count": 139,
   "metadata": {},
   "outputs": [
    {
     "name": "stderr",
     "output_type": "stream",
     "text": [
      "GPU available: True (mps), used: False\n",
      "TPU available: False, using: 0 TPU cores\n",
      "IPU available: False, using: 0 IPUs\n",
      "HPU available: False, using: 0 HPUs\n"
     ]
    },
    {
     "name": "stdout",
     "output_type": "stream",
     "text": [
      "Number of parameters in network: 43.2k\n"
     ]
    }
   ],
   "source": [
    "early_stop_callback = EarlyStopping(monitor=\"val_loss\", min_delta=1e-4, patience=10, verbose=False, mode=\"min\")\n",
    "lr_logger = LearningRateMonitor()  # log the learning rate\n",
    "logger = TensorBoardLogger(\"lightning_logs\")  # logging results to a tensorboard\n",
    "\n",
    "trainer = pl.Trainer(\n",
    "    max_epochs=100,\n",
    "    gpus=0,\n",
    "    enable_model_summary=True,\n",
    "    gradient_clip_val=0.1,\n",
    "    limit_train_batches=30,  # coment in for training, running valiation every 30 batches\n",
    "    # fast_dev_run=True,  # comment in to check that networkor dataset has no serious bugs\n",
    "    callbacks=[lr_logger, early_stop_callback],\n",
    "    logger=logger,\n",
    ")\n",
    "\n",
    "\n",
    "tft = TemporalFusionTransformer.from_dataset(\n",
    "    training,\n",
    "    learning_rate=0.01,\n",
    "    hidden_size=16,\n",
    "    attention_head_size=1,\n",
    "    dropout=0.1,\n",
    "    hidden_continuous_size=8,\n",
    "    output_size=7,  # 7 quantiles by default\n",
    "    loss=QuantileLoss(),\n",
    "    log_interval=10,  # uncomment for learning rate finder and otherwise, e.g. to 10 for logging every 10 batches\n",
    "    reduce_on_plateau_patience=4,\n",
    ")\n",
    "print(f\"Number of parameters in network: {tft.size()/1e3:.1f}k\")"
   ]
  },
  {
   "cell_type": "code",
   "execution_count": 140,
   "metadata": {},
   "outputs": [
    {
     "name": "stderr",
     "output_type": "stream",
     "text": [
      "\n",
      "   | Name                               | Type                            | Params\n",
      "----------------------------------------------------------------------------------------\n",
      "0  | loss                               | QuantileLoss                    | 0     \n",
      "1  | logging_metrics                    | ModuleList                      | 0     \n",
      "2  | input_embeddings                   | MultiEmbedding                  | 0     \n",
      "3  | prescalers                         | ModuleDict                      | 352   \n",
      "4  | static_variable_selection          | VariableSelectionNetwork        | 1.7 K \n",
      "5  | encoder_variable_selection         | VariableSelectionNetwork        | 13.7 K\n",
      "6  | decoder_variable_selection         | VariableSelectionNetwork        | 13.7 K\n",
      "7  | static_context_variable_selection  | GatedResidualNetwork            | 1.1 K \n",
      "8  | static_context_initial_hidden_lstm | GatedResidualNetwork            | 1.1 K \n",
      "9  | static_context_initial_cell_lstm   | GatedResidualNetwork            | 1.1 K \n",
      "10 | static_context_enrichment          | GatedResidualNetwork            | 1.1 K \n",
      "11 | lstm_encoder                       | LSTM                            | 2.2 K \n",
      "12 | lstm_decoder                       | LSTM                            | 2.2 K \n",
      "13 | post_lstm_gate_encoder             | GatedLinearUnit                 | 544   \n",
      "14 | post_lstm_add_norm_encoder         | AddNorm                         | 32    \n",
      "15 | static_enrichment                  | GatedResidualNetwork            | 1.4 K \n",
      "16 | multihead_attn                     | InterpretableMultiHeadAttention | 1.1 K \n",
      "17 | post_attn_gate_norm                | GateAddNorm                     | 576   \n",
      "18 | pos_wise_ff                        | GatedResidualNetwork            | 1.1 K \n",
      "19 | pre_output_gate_norm               | GateAddNorm                     | 576   \n",
      "20 | output_layer                       | Linear                          | 119   \n",
      "----------------------------------------------------------------------------------------\n",
      "43.2 K    Trainable params\n",
      "0         Non-trainable params\n",
      "43.2 K    Total params\n",
      "0.173     Total estimated model params size (MB)\n"
     ]
    },
    {
     "data": {
      "application/vnd.jupyter.widget-view+json": {
       "model_id": "c76ea54f3bb7429ca34b541deac8c4ff",
       "version_major": 2,
       "version_minor": 0
      },
      "text/plain": [
       "Sanity Checking: 0it [00:00, ?it/s]"
      ]
     },
     "metadata": {},
     "output_type": "display_data"
    },
    {
     "data": {
      "application/vnd.jupyter.widget-view+json": {
       "model_id": "ff38a09e97c14eba9035020f5ec4c719",
       "version_major": 2,
       "version_minor": 0
      },
      "text/plain": [
       "Training: 0it [00:00, ?it/s]"
      ]
     },
     "metadata": {},
     "output_type": "display_data"
    },
    {
     "data": {
      "application/vnd.jupyter.widget-view+json": {
       "model_id": "d1df0111863c4252b0013928de92a984",
       "version_major": 2,
       "version_minor": 0
      },
      "text/plain": [
       "Validation: 0it [00:00, ?it/s]"
      ]
     },
     "metadata": {},
     "output_type": "display_data"
    },
    {
     "data": {
      "application/vnd.jupyter.widget-view+json": {
       "model_id": "a498857a25c54f8ca260f42ae285c22d",
       "version_major": 2,
       "version_minor": 0
      },
      "text/plain": [
       "Validation: 0it [00:00, ?it/s]"
      ]
     },
     "metadata": {},
     "output_type": "display_data"
    },
    {
     "data": {
      "application/vnd.jupyter.widget-view+json": {
       "model_id": "4f10f1e74faa4ed7b2cbbe5eb7446015",
       "version_major": 2,
       "version_minor": 0
      },
      "text/plain": [
       "Validation: 0it [00:00, ?it/s]"
      ]
     },
     "metadata": {},
     "output_type": "display_data"
    },
    {
     "data": {
      "application/vnd.jupyter.widget-view+json": {
       "model_id": "c10752d20cc847a991b23afe2fe0e3bf",
       "version_major": 2,
       "version_minor": 0
      },
      "text/plain": [
       "Validation: 0it [00:00, ?it/s]"
      ]
     },
     "metadata": {},
     "output_type": "display_data"
    },
    {
     "data": {
      "application/vnd.jupyter.widget-view+json": {
       "model_id": "ef4c5979e9ac453aa34a9795794f272c",
       "version_major": 2,
       "version_minor": 0
      },
      "text/plain": [
       "Validation: 0it [00:00, ?it/s]"
      ]
     },
     "metadata": {},
     "output_type": "display_data"
    },
    {
     "data": {
      "application/vnd.jupyter.widget-view+json": {
       "model_id": "05fc7309a6ad4ddc914306e4f50bbb23",
       "version_major": 2,
       "version_minor": 0
      },
      "text/plain": [
       "Validation: 0it [00:00, ?it/s]"
      ]
     },
     "metadata": {},
     "output_type": "display_data"
    },
    {
     "data": {
      "application/vnd.jupyter.widget-view+json": {
       "model_id": "07de034306d5479e99eac9452d0763a8",
       "version_major": 2,
       "version_minor": 0
      },
      "text/plain": [
       "Validation: 0it [00:00, ?it/s]"
      ]
     },
     "metadata": {},
     "output_type": "display_data"
    },
    {
     "data": {
      "application/vnd.jupyter.widget-view+json": {
       "model_id": "0138eead1ce74cb1aae6f78dd1b7b069",
       "version_major": 2,
       "version_minor": 0
      },
      "text/plain": [
       "Validation: 0it [00:00, ?it/s]"
      ]
     },
     "metadata": {},
     "output_type": "display_data"
    },
    {
     "data": {
      "application/vnd.jupyter.widget-view+json": {
       "model_id": "f16486c759e64fbf831228eaac4415cf",
       "version_major": 2,
       "version_minor": 0
      },
      "text/plain": [
       "Validation: 0it [00:00, ?it/s]"
      ]
     },
     "metadata": {},
     "output_type": "display_data"
    },
    {
     "data": {
      "application/vnd.jupyter.widget-view+json": {
       "model_id": "4ed968c9b8044ff48ac64a34395ce320",
       "version_major": 2,
       "version_minor": 0
      },
      "text/plain": [
       "Validation: 0it [00:00, ?it/s]"
      ]
     },
     "metadata": {},
     "output_type": "display_data"
    },
    {
     "data": {
      "application/vnd.jupyter.widget-view+json": {
       "model_id": "d9e4822ed3ca478b85e00eb3c7e270ce",
       "version_major": 2,
       "version_minor": 0
      },
      "text/plain": [
       "Validation: 0it [00:00, ?it/s]"
      ]
     },
     "metadata": {},
     "output_type": "display_data"
    },
    {
     "data": {
      "application/vnd.jupyter.widget-view+json": {
       "model_id": "ada301dc966640d1ba72b475e57ba20e",
       "version_major": 2,
       "version_minor": 0
      },
      "text/plain": [
       "Validation: 0it [00:00, ?it/s]"
      ]
     },
     "metadata": {},
     "output_type": "display_data"
    },
    {
     "data": {
      "application/vnd.jupyter.widget-view+json": {
       "model_id": "0644724dc7224dc690d465dd29ead1eb",
       "version_major": 2,
       "version_minor": 0
      },
      "text/plain": [
       "Validation: 0it [00:00, ?it/s]"
      ]
     },
     "metadata": {},
     "output_type": "display_data"
    },
    {
     "data": {
      "application/vnd.jupyter.widget-view+json": {
       "model_id": "de1c7aa592d941f3af746cf1bf8aa977",
       "version_major": 2,
       "version_minor": 0
      },
      "text/plain": [
       "Validation: 0it [00:00, ?it/s]"
      ]
     },
     "metadata": {},
     "output_type": "display_data"
    },
    {
     "data": {
      "application/vnd.jupyter.widget-view+json": {
       "model_id": "65b613dfe8e642ddbeb88da19ef0d897",
       "version_major": 2,
       "version_minor": 0
      },
      "text/plain": [
       "Validation: 0it [00:00, ?it/s]"
      ]
     },
     "metadata": {},
     "output_type": "display_data"
    },
    {
     "data": {
      "application/vnd.jupyter.widget-view+json": {
       "model_id": "f6c6f13541e34c6aa251a432fbaa31f0",
       "version_major": 2,
       "version_minor": 0
      },
      "text/plain": [
       "Validation: 0it [00:00, ?it/s]"
      ]
     },
     "metadata": {},
     "output_type": "display_data"
    },
    {
     "data": {
      "application/vnd.jupyter.widget-view+json": {
       "model_id": "d7803be589484a8f9aee5173e76128ff",
       "version_major": 2,
       "version_minor": 0
      },
      "text/plain": [
       "Validation: 0it [00:00, ?it/s]"
      ]
     },
     "metadata": {},
     "output_type": "display_data"
    },
    {
     "data": {
      "application/vnd.jupyter.widget-view+json": {
       "model_id": "98dc272dfd614f3c9c3729d1f624091f",
       "version_major": 2,
       "version_minor": 0
      },
      "text/plain": [
       "Validation: 0it [00:00, ?it/s]"
      ]
     },
     "metadata": {},
     "output_type": "display_data"
    },
    {
     "data": {
      "application/vnd.jupyter.widget-view+json": {
       "model_id": "69f7aa1998b84d7dacf3b2c0c447d01e",
       "version_major": 2,
       "version_minor": 0
      },
      "text/plain": [
       "Validation: 0it [00:00, ?it/s]"
      ]
     },
     "metadata": {},
     "output_type": "display_data"
    },
    {
     "data": {
      "application/vnd.jupyter.widget-view+json": {
       "model_id": "569c008162f649a0bc02fc3ed52a42eb",
       "version_major": 2,
       "version_minor": 0
      },
      "text/plain": [
       "Validation: 0it [00:00, ?it/s]"
      ]
     },
     "metadata": {},
     "output_type": "display_data"
    },
    {
     "data": {
      "application/vnd.jupyter.widget-view+json": {
       "model_id": "c9bd7754a6ec425aafa7d5bc05f64ef3",
       "version_major": 2,
       "version_minor": 0
      },
      "text/plain": [
       "Validation: 0it [00:00, ?it/s]"
      ]
     },
     "metadata": {},
     "output_type": "display_data"
    },
    {
     "data": {
      "application/vnd.jupyter.widget-view+json": {
       "model_id": "427856f99da14d1e80401b8cefc6eecb",
       "version_major": 2,
       "version_minor": 0
      },
      "text/plain": [
       "Validation: 0it [00:00, ?it/s]"
      ]
     },
     "metadata": {},
     "output_type": "display_data"
    },
    {
     "data": {
      "application/vnd.jupyter.widget-view+json": {
       "model_id": "5133ba4dd66749d9a5efa2f58c227dc0",
       "version_major": 2,
       "version_minor": 0
      },
      "text/plain": [
       "Validation: 0it [00:00, ?it/s]"
      ]
     },
     "metadata": {},
     "output_type": "display_data"
    },
    {
     "data": {
      "application/vnd.jupyter.widget-view+json": {
       "model_id": "9396c55522d04948be8f79e5649e4de1",
       "version_major": 2,
       "version_minor": 0
      },
      "text/plain": [
       "Validation: 0it [00:00, ?it/s]"
      ]
     },
     "metadata": {},
     "output_type": "display_data"
    },
    {
     "data": {
      "application/vnd.jupyter.widget-view+json": {
       "model_id": "f55d7a77ed3544c68f1dd6a87e4fc8cc",
       "version_major": 2,
       "version_minor": 0
      },
      "text/plain": [
       "Validation: 0it [00:00, ?it/s]"
      ]
     },
     "metadata": {},
     "output_type": "display_data"
    },
    {
     "data": {
      "application/vnd.jupyter.widget-view+json": {
       "model_id": "c7f086284cc447f89bdfb7c216e26527",
       "version_major": 2,
       "version_minor": 0
      },
      "text/plain": [
       "Validation: 0it [00:00, ?it/s]"
      ]
     },
     "metadata": {},
     "output_type": "display_data"
    },
    {
     "data": {
      "application/vnd.jupyter.widget-view+json": {
       "model_id": "ccd65d903a724a16bf61d099b1f2692e",
       "version_major": 2,
       "version_minor": 0
      },
      "text/plain": [
       "Validation: 0it [00:00, ?it/s]"
      ]
     },
     "metadata": {},
     "output_type": "display_data"
    },
    {
     "data": {
      "application/vnd.jupyter.widget-view+json": {
       "model_id": "13ec81790ffc48169b16bbaba1bd2c44",
       "version_major": 2,
       "version_minor": 0
      },
      "text/plain": [
       "Validation: 0it [00:00, ?it/s]"
      ]
     },
     "metadata": {},
     "output_type": "display_data"
    },
    {
     "data": {
      "application/vnd.jupyter.widget-view+json": {
       "model_id": "a5303f03cdcb4ba1b9160ad7254672ff",
       "version_major": 2,
       "version_minor": 0
      },
      "text/plain": [
       "Validation: 0it [00:00, ?it/s]"
      ]
     },
     "metadata": {},
     "output_type": "display_data"
    },
    {
     "data": {
      "application/vnd.jupyter.widget-view+json": {
       "model_id": "811c40f64c6f410a967ffb0b04c3c8b4",
       "version_major": 2,
       "version_minor": 0
      },
      "text/plain": [
       "Validation: 0it [00:00, ?it/s]"
      ]
     },
     "metadata": {},
     "output_type": "display_data"
    },
    {
     "data": {
      "application/vnd.jupyter.widget-view+json": {
       "model_id": "7e54abc857284276995b00214432b5ee",
       "version_major": 2,
       "version_minor": 0
      },
      "text/plain": [
       "Validation: 0it [00:00, ?it/s]"
      ]
     },
     "metadata": {},
     "output_type": "display_data"
    },
    {
     "data": {
      "application/vnd.jupyter.widget-view+json": {
       "model_id": "3548763c17c146b28548530428c2bed3",
       "version_major": 2,
       "version_minor": 0
      },
      "text/plain": [
       "Validation: 0it [00:00, ?it/s]"
      ]
     },
     "metadata": {},
     "output_type": "display_data"
    },
    {
     "data": {
      "application/vnd.jupyter.widget-view+json": {
       "model_id": "d96d4f8d7ca64e3ea65303fbcb555248",
       "version_major": 2,
       "version_minor": 0
      },
      "text/plain": [
       "Validation: 0it [00:00, ?it/s]"
      ]
     },
     "metadata": {},
     "output_type": "display_data"
    },
    {
     "data": {
      "application/vnd.jupyter.widget-view+json": {
       "model_id": "fc37d5589d334929b995256894ea4436",
       "version_major": 2,
       "version_minor": 0
      },
      "text/plain": [
       "Validation: 0it [00:00, ?it/s]"
      ]
     },
     "metadata": {},
     "output_type": "display_data"
    },
    {
     "data": {
      "application/vnd.jupyter.widget-view+json": {
       "model_id": "b0a2cd6cb9d841bea4d3e0d1a1b84553",
       "version_major": 2,
       "version_minor": 0
      },
      "text/plain": [
       "Validation: 0it [00:00, ?it/s]"
      ]
     },
     "metadata": {},
     "output_type": "display_data"
    },
    {
     "data": {
      "application/vnd.jupyter.widget-view+json": {
       "model_id": "cac46ce7efaa40058354c71472af08a9",
       "version_major": 2,
       "version_minor": 0
      },
      "text/plain": [
       "Validation: 0it [00:00, ?it/s]"
      ]
     },
     "metadata": {},
     "output_type": "display_data"
    },
    {
     "data": {
      "application/vnd.jupyter.widget-view+json": {
       "model_id": "102e4416563645889015b1ea2cc698d3",
       "version_major": 2,
       "version_minor": 0
      },
      "text/plain": [
       "Validation: 0it [00:00, ?it/s]"
      ]
     },
     "metadata": {},
     "output_type": "display_data"
    },
    {
     "data": {
      "application/vnd.jupyter.widget-view+json": {
       "model_id": "65f201921bf24cab9cac95158369ebaf",
       "version_major": 2,
       "version_minor": 0
      },
      "text/plain": [
       "Validation: 0it [00:00, ?it/s]"
      ]
     },
     "metadata": {},
     "output_type": "display_data"
    },
    {
     "data": {
      "application/vnd.jupyter.widget-view+json": {
       "model_id": "885615d0e67944c58d24f960547e153e",
       "version_major": 2,
       "version_minor": 0
      },
      "text/plain": [
       "Validation: 0it [00:00, ?it/s]"
      ]
     },
     "metadata": {},
     "output_type": "display_data"
    },
    {
     "data": {
      "application/vnd.jupyter.widget-view+json": {
       "model_id": "0b259ae5d13643198672cb9b45db50b6",
       "version_major": 2,
       "version_minor": 0
      },
      "text/plain": [
       "Validation: 0it [00:00, ?it/s]"
      ]
     },
     "metadata": {},
     "output_type": "display_data"
    },
    {
     "data": {
      "application/vnd.jupyter.widget-view+json": {
       "model_id": "ecb6ddc824dc4094817495f41bed7004",
       "version_major": 2,
       "version_minor": 0
      },
      "text/plain": [
       "Validation: 0it [00:00, ?it/s]"
      ]
     },
     "metadata": {},
     "output_type": "display_data"
    },
    {
     "data": {
      "application/vnd.jupyter.widget-view+json": {
       "model_id": "e62e2b78969546dcbb0936abff7c39f8",
       "version_major": 2,
       "version_minor": 0
      },
      "text/plain": [
       "Validation: 0it [00:00, ?it/s]"
      ]
     },
     "metadata": {},
     "output_type": "display_data"
    },
    {
     "data": {
      "application/vnd.jupyter.widget-view+json": {
       "model_id": "6737d6862e3b49b4a8f19452677455f6",
       "version_major": 2,
       "version_minor": 0
      },
      "text/plain": [
       "Validation: 0it [00:00, ?it/s]"
      ]
     },
     "metadata": {},
     "output_type": "display_data"
    },
    {
     "data": {
      "application/vnd.jupyter.widget-view+json": {
       "model_id": "a5621d7ba8b74584aee5d0964d812928",
       "version_major": 2,
       "version_minor": 0
      },
      "text/plain": [
       "Validation: 0it [00:00, ?it/s]"
      ]
     },
     "metadata": {},
     "output_type": "display_data"
    },
    {
     "data": {
      "application/vnd.jupyter.widget-view+json": {
       "model_id": "c739417e026e44d1ad214e94ea2436aa",
       "version_major": 2,
       "version_minor": 0
      },
      "text/plain": [
       "Validation: 0it [00:00, ?it/s]"
      ]
     },
     "metadata": {},
     "output_type": "display_data"
    },
    {
     "data": {
      "application/vnd.jupyter.widget-view+json": {
       "model_id": "97f915998d9c468c8bab9a8596278444",
       "version_major": 2,
       "version_minor": 0
      },
      "text/plain": [
       "Validation: 0it [00:00, ?it/s]"
      ]
     },
     "metadata": {},
     "output_type": "display_data"
    },
    {
     "data": {
      "application/vnd.jupyter.widget-view+json": {
       "model_id": "a988d4ff5db24807aa4f4106b7ee1084",
       "version_major": 2,
       "version_minor": 0
      },
      "text/plain": [
       "Validation: 0it [00:00, ?it/s]"
      ]
     },
     "metadata": {},
     "output_type": "display_data"
    },
    {
     "data": {
      "application/vnd.jupyter.widget-view+json": {
       "model_id": "9493637e032c4f30961abefdc861b142",
       "version_major": 2,
       "version_minor": 0
      },
      "text/plain": [
       "Validation: 0it [00:00, ?it/s]"
      ]
     },
     "metadata": {},
     "output_type": "display_data"
    },
    {
     "data": {
      "application/vnd.jupyter.widget-view+json": {
       "model_id": "2b2183a32df34e63810bd41f482dc576",
       "version_major": 2,
       "version_minor": 0
      },
      "text/plain": [
       "Validation: 0it [00:00, ?it/s]"
      ]
     },
     "metadata": {},
     "output_type": "display_data"
    },
    {
     "data": {
      "application/vnd.jupyter.widget-view+json": {
       "model_id": "f9caa1769bf548098bd0e0e6c3b08190",
       "version_major": 2,
       "version_minor": 0
      },
      "text/plain": [
       "Validation: 0it [00:00, ?it/s]"
      ]
     },
     "metadata": {},
     "output_type": "display_data"
    },
    {
     "data": {
      "application/vnd.jupyter.widget-view+json": {
       "model_id": "c592390896ad4af3aaa524487a20e880",
       "version_major": 2,
       "version_minor": 0
      },
      "text/plain": [
       "Validation: 0it [00:00, ?it/s]"
      ]
     },
     "metadata": {},
     "output_type": "display_data"
    },
    {
     "data": {
      "application/vnd.jupyter.widget-view+json": {
       "model_id": "e87b84001a5c41ecbf9cf70c85e7c4a9",
       "version_major": 2,
       "version_minor": 0
      },
      "text/plain": [
       "Validation: 0it [00:00, ?it/s]"
      ]
     },
     "metadata": {},
     "output_type": "display_data"
    },
    {
     "data": {
      "application/vnd.jupyter.widget-view+json": {
       "model_id": "7189baeba8c44ee9bd901e1ad135c5f5",
       "version_major": 2,
       "version_minor": 0
      },
      "text/plain": [
       "Validation: 0it [00:00, ?it/s]"
      ]
     },
     "metadata": {},
     "output_type": "display_data"
    },
    {
     "data": {
      "application/vnd.jupyter.widget-view+json": {
       "model_id": "0690b00ff6fa4548aa1af6b784262bc0",
       "version_major": 2,
       "version_minor": 0
      },
      "text/plain": [
       "Validation: 0it [00:00, ?it/s]"
      ]
     },
     "metadata": {},
     "output_type": "display_data"
    }
   ],
   "source": [
    "# fit network\n",
    "trainer.fit(\n",
    "    tft,\n",
    "    train_dataloaders=train_dataloader,\n",
    "    val_dataloaders=val_dataloader,\n",
    ")"
   ]
  },
  {
   "cell_type": "code",
   "execution_count": 141,
   "metadata": {},
   "outputs": [],
   "source": [
    "# load the best model according to the validation loss\n",
    "# (given that we use early stopping, this is not necessarily the last epoch)\n",
    "best_model_path = trainer.checkpoint_callback.best_model_path\n",
    "best_tft = TemporalFusionTransformer.load_from_checkpoint(best_model_path)"
   ]
  },
  {
   "cell_type": "code",
   "execution_count": 142,
   "metadata": {},
   "outputs": [
    {
     "data": {
      "text/plain": [
       "tensor(71.2812)"
      ]
     },
     "execution_count": 142,
     "metadata": {},
     "output_type": "execute_result"
    }
   ],
   "source": [
    "# calcualte mean absolute error on validation set\n",
    "actuals = torch.cat([y[0] for x, y in iter(val_dataloader)])\n",
    "predictions = best_tft.predict(val_dataloader)\n",
    "(actuals - predictions).abs().mean()"
   ]
  },
  {
   "cell_type": "code",
   "execution_count": 143,
   "metadata": {},
   "outputs": [
    {
     "data": {
      "text/html": [
       "<div>\n",
       "<style scoped>\n",
       "    .dataframe tbody tr th:only-of-type {\n",
       "        vertical-align: middle;\n",
       "    }\n",
       "\n",
       "    .dataframe tbody tr th {\n",
       "        vertical-align: top;\n",
       "    }\n",
       "\n",
       "    .dataframe thead th {\n",
       "        text-align: right;\n",
       "    }\n",
       "</style>\n",
       "<table border=\"1\" class=\"dataframe\">\n",
       "  <thead>\n",
       "    <tr style=\"text-align: right;\">\n",
       "      <th></th>\n",
       "      <th>datadate</th>\n",
       "      <th>단가(원)</th>\n",
       "      <th>거래량</th>\n",
       "      <th>거래대금(원)</th>\n",
       "      <th>경매건수</th>\n",
       "      <th>도매시장코드</th>\n",
       "      <th>도매법인코드</th>\n",
       "      <th>산지코드</th>\n",
       "      <th>해당일자_전체평균가격(원)</th>\n",
       "      <th>해당일자_전체거래물량(kg)</th>\n",
       "      <th>...</th>\n",
       "      <th>주산지_2_최대온도(℃)</th>\n",
       "      <th>주산지_2_최저온도(℃)</th>\n",
       "      <th>주산지_2_평균온도(℃)</th>\n",
       "      <th>주산지_2_강수량(ml)</th>\n",
       "      <th>주산지_2_습도(%)</th>\n",
       "      <th>일자구분_중순</th>\n",
       "      <th>일자구분_초순</th>\n",
       "      <th>일자구분_하순</th>\n",
       "      <th>월구분_2월</th>\n",
       "      <th>월구분_3월</th>\n",
       "    </tr>\n",
       "  </thead>\n",
       "  <tbody>\n",
       "    <tr>\n",
       "      <th>0</th>\n",
       "      <td>20170226</td>\n",
       "      <td>2597.40</td>\n",
       "      <td>252.0</td>\n",
       "      <td>655655.0</td>\n",
       "      <td>4.0</td>\n",
       "      <td>250001.0</td>\n",
       "      <td>25000102.0</td>\n",
       "      <td>560.0</td>\n",
       "      <td>1999.077583</td>\n",
       "      <td>182741.0</td>\n",
       "      <td>...</td>\n",
       "      <td>15.3</td>\n",
       "      <td>-3.0</td>\n",
       "      <td>6.5</td>\n",
       "      <td>0.0</td>\n",
       "      <td>44.8</td>\n",
       "      <td>0</td>\n",
       "      <td>0</td>\n",
       "      <td>1</td>\n",
       "      <td>1</td>\n",
       "      <td>0</td>\n",
       "    </tr>\n",
       "    <tr>\n",
       "      <th>1</th>\n",
       "      <td>20170227</td>\n",
       "      <td>1541.54</td>\n",
       "      <td>70.0</td>\n",
       "      <td>107392.5</td>\n",
       "      <td>3.0</td>\n",
       "      <td>210001.0</td>\n",
       "      <td>21000102.0</td>\n",
       "      <td>621.0</td>\n",
       "      <td>1940.740624</td>\n",
       "      <td>198469.0</td>\n",
       "      <td>...</td>\n",
       "      <td>15.5</td>\n",
       "      <td>1.0</td>\n",
       "      <td>9.5</td>\n",
       "      <td>0.0</td>\n",
       "      <td>52.8</td>\n",
       "      <td>0</td>\n",
       "      <td>0</td>\n",
       "      <td>1</td>\n",
       "      <td>1</td>\n",
       "      <td>0</td>\n",
       "    </tr>\n",
       "    <tr>\n",
       "      <th>2</th>\n",
       "      <td>20170228</td>\n",
       "      <td>NaN</td>\n",
       "      <td>NaN</td>\n",
       "      <td>NaN</td>\n",
       "      <td>NaN</td>\n",
       "      <td>NaN</td>\n",
       "      <td>NaN</td>\n",
       "      <td>NaN</td>\n",
       "      <td>NaN</td>\n",
       "      <td>NaN</td>\n",
       "      <td>...</td>\n",
       "      <td>11.3</td>\n",
       "      <td>-1.6</td>\n",
       "      <td>7.5</td>\n",
       "      <td>0.0</td>\n",
       "      <td>55.6</td>\n",
       "      <td>0</td>\n",
       "      <td>0</td>\n",
       "      <td>1</td>\n",
       "      <td>1</td>\n",
       "      <td>0</td>\n",
       "    </tr>\n",
       "    <tr>\n",
       "      <th>3</th>\n",
       "      <td>20170301</td>\n",
       "      <td>620.62</td>\n",
       "      <td>80.0</td>\n",
       "      <td>50050.0</td>\n",
       "      <td>1.0</td>\n",
       "      <td>230003.0</td>\n",
       "      <td>23000303.0</td>\n",
       "      <td>401.0</td>\n",
       "      <td>2054.058569</td>\n",
       "      <td>233421.0</td>\n",
       "      <td>...</td>\n",
       "      <td>7.7</td>\n",
       "      <td>1.0</td>\n",
       "      <td>5.4</td>\n",
       "      <td>40.2</td>\n",
       "      <td>90.7</td>\n",
       "      <td>0</td>\n",
       "      <td>1</td>\n",
       "      <td>0</td>\n",
       "      <td>0</td>\n",
       "      <td>1</td>\n",
       "    </tr>\n",
       "    <tr>\n",
       "      <th>4</th>\n",
       "      <td>20170302</td>\n",
       "      <td>1981.98</td>\n",
       "      <td>292.0</td>\n",
       "      <td>577577.0</td>\n",
       "      <td>4.0</td>\n",
       "      <td>230001.0</td>\n",
       "      <td>23000101.0</td>\n",
       "      <td>320.0</td>\n",
       "      <td>2073.866690</td>\n",
       "      <td>203541.0</td>\n",
       "      <td>...</td>\n",
       "      <td>7.2</td>\n",
       "      <td>-1.4</td>\n",
       "      <td>3.7</td>\n",
       "      <td>69.5</td>\n",
       "      <td>76.6</td>\n",
       "      <td>0</td>\n",
       "      <td>1</td>\n",
       "      <td>0</td>\n",
       "      <td>0</td>\n",
       "      <td>1</td>\n",
       "    </tr>\n",
       "    <tr>\n",
       "      <th>5</th>\n",
       "      <td>20170303</td>\n",
       "      <td>2382.38</td>\n",
       "      <td>40.0</td>\n",
       "      <td>95095.0</td>\n",
       "      <td>2.0</td>\n",
       "      <td>220001.0</td>\n",
       "      <td>22000106.0</td>\n",
       "      <td>719.0</td>\n",
       "      <td>1997.451460</td>\n",
       "      <td>219305.0</td>\n",
       "      <td>...</td>\n",
       "      <td>9.6</td>\n",
       "      <td>-3.3</td>\n",
       "      <td>2.9</td>\n",
       "      <td>0.0</td>\n",
       "      <td>71.7</td>\n",
       "      <td>0</td>\n",
       "      <td>1</td>\n",
       "      <td>0</td>\n",
       "      <td>0</td>\n",
       "      <td>1</td>\n",
       "    </tr>\n",
       "    <tr>\n",
       "      <th>6</th>\n",
       "      <td>20170304</td>\n",
       "      <td>2607.39</td>\n",
       "      <td>24.0</td>\n",
       "      <td>62637.3</td>\n",
       "      <td>1.0</td>\n",
       "      <td>310901.0</td>\n",
       "      <td>31090105.0</td>\n",
       "      <td>472.0</td>\n",
       "      <td>1968.545825</td>\n",
       "      <td>193849.0</td>\n",
       "      <td>...</td>\n",
       "      <td>12.7</td>\n",
       "      <td>1.0</td>\n",
       "      <td>7.7</td>\n",
       "      <td>0.0</td>\n",
       "      <td>73.0</td>\n",
       "      <td>0</td>\n",
       "      <td>1</td>\n",
       "      <td>0</td>\n",
       "      <td>0</td>\n",
       "      <td>1</td>\n",
       "    </tr>\n",
       "    <tr>\n",
       "      <th>7</th>\n",
       "      <td>20170305</td>\n",
       "      <td>1451.45</td>\n",
       "      <td>60.0</td>\n",
       "      <td>87087.0</td>\n",
       "      <td>1.0</td>\n",
       "      <td>210009.0</td>\n",
       "      <td>21000901.0</td>\n",
       "      <td>970.0</td>\n",
       "      <td>2181.100469</td>\n",
       "      <td>199588.0</td>\n",
       "      <td>...</td>\n",
       "      <td>16.3</td>\n",
       "      <td>1.0</td>\n",
       "      <td>10.2</td>\n",
       "      <td>0.0</td>\n",
       "      <td>73.6</td>\n",
       "      <td>0</td>\n",
       "      <td>1</td>\n",
       "      <td>0</td>\n",
       "      <td>0</td>\n",
       "      <td>1</td>\n",
       "    </tr>\n",
       "    <tr>\n",
       "      <th>8</th>\n",
       "      <td>20170306</td>\n",
       "      <td>1901.90</td>\n",
       "      <td>1368.0</td>\n",
       "      <td>2597799.6</td>\n",
       "      <td>7.0</td>\n",
       "      <td>110001.0</td>\n",
       "      <td>11000103.0</td>\n",
       "      <td>461.0</td>\n",
       "      <td>2987.253790</td>\n",
       "      <td>203557.0</td>\n",
       "      <td>...</td>\n",
       "      <td>11.4</td>\n",
       "      <td>2.5</td>\n",
       "      <td>6.4</td>\n",
       "      <td>0.0</td>\n",
       "      <td>72.0</td>\n",
       "      <td>0</td>\n",
       "      <td>1</td>\n",
       "      <td>0</td>\n",
       "      <td>0</td>\n",
       "      <td>1</td>\n",
       "    </tr>\n",
       "    <tr>\n",
       "      <th>9</th>\n",
       "      <td>20170307</td>\n",
       "      <td>NaN</td>\n",
       "      <td>NaN</td>\n",
       "      <td>NaN</td>\n",
       "      <td>NaN</td>\n",
       "      <td>NaN</td>\n",
       "      <td>NaN</td>\n",
       "      <td>NaN</td>\n",
       "      <td>NaN</td>\n",
       "      <td>NaN</td>\n",
       "      <td>...</td>\n",
       "      <td>12.1</td>\n",
       "      <td>1.1</td>\n",
       "      <td>5.8</td>\n",
       "      <td>0.0</td>\n",
       "      <td>65.4</td>\n",
       "      <td>0</td>\n",
       "      <td>1</td>\n",
       "      <td>0</td>\n",
       "      <td>0</td>\n",
       "      <td>1</td>\n",
       "    </tr>\n",
       "    <tr>\n",
       "      <th>10</th>\n",
       "      <td>20170308</td>\n",
       "      <td>1781.78</td>\n",
       "      <td>240.0</td>\n",
       "      <td>428071.5</td>\n",
       "      <td>3.0</td>\n",
       "      <td>250003.0</td>\n",
       "      <td>25000301.0</td>\n",
       "      <td>467.0</td>\n",
       "      <td>3061.617869</td>\n",
       "      <td>252581.0</td>\n",
       "      <td>...</td>\n",
       "      <td>14.2</td>\n",
       "      <td>-1.4</td>\n",
       "      <td>7.3</td>\n",
       "      <td>0.0</td>\n",
       "      <td>69.8</td>\n",
       "      <td>0</td>\n",
       "      <td>1</td>\n",
       "      <td>0</td>\n",
       "      <td>0</td>\n",
       "      <td>1</td>\n",
       "    </tr>\n",
       "    <tr>\n",
       "      <th>11</th>\n",
       "      <td>20170309</td>\n",
       "      <td>3003.00</td>\n",
       "      <td>68.0</td>\n",
       "      <td>204204.0</td>\n",
       "      <td>2.0</td>\n",
       "      <td>220001.0</td>\n",
       "      <td>22000104.0</td>\n",
       "      <td>719.0</td>\n",
       "      <td>2590.109438</td>\n",
       "      <td>219303.0</td>\n",
       "      <td>...</td>\n",
       "      <td>13.6</td>\n",
       "      <td>-1.2</td>\n",
       "      <td>7.6</td>\n",
       "      <td>0.0</td>\n",
       "      <td>62.5</td>\n",
       "      <td>0</td>\n",
       "      <td>1</td>\n",
       "      <td>0</td>\n",
       "      <td>0</td>\n",
       "      <td>1</td>\n",
       "    </tr>\n",
       "    <tr>\n",
       "      <th>12</th>\n",
       "      <td>20170310</td>\n",
       "      <td>1428.57</td>\n",
       "      <td>132.0</td>\n",
       "      <td>188988.8</td>\n",
       "      <td>3.0</td>\n",
       "      <td>110001.0</td>\n",
       "      <td>11000103.0</td>\n",
       "      <td>467.0</td>\n",
       "      <td>2337.906179</td>\n",
       "      <td>210666.0</td>\n",
       "      <td>...</td>\n",
       "      <td>17.2</td>\n",
       "      <td>-1.2</td>\n",
       "      <td>9.5</td>\n",
       "      <td>0.0</td>\n",
       "      <td>68.0</td>\n",
       "      <td>0</td>\n",
       "      <td>1</td>\n",
       "      <td>0</td>\n",
       "      <td>0</td>\n",
       "      <td>1</td>\n",
       "    </tr>\n",
       "    <tr>\n",
       "      <th>13</th>\n",
       "      <td>20170311</td>\n",
       "      <td>2937.06</td>\n",
       "      <td>140.0</td>\n",
       "      <td>411310.9</td>\n",
       "      <td>2.0</td>\n",
       "      <td>250003.0</td>\n",
       "      <td>25000301.0</td>\n",
       "      <td>323.0</td>\n",
       "      <td>2262.844137</td>\n",
       "      <td>197712.0</td>\n",
       "      <td>...</td>\n",
       "      <td>17.5</td>\n",
       "      <td>1.2</td>\n",
       "      <td>8.6</td>\n",
       "      <td>0.0</td>\n",
       "      <td>62.2</td>\n",
       "      <td>1</td>\n",
       "      <td>0</td>\n",
       "      <td>0</td>\n",
       "      <td>0</td>\n",
       "      <td>1</td>\n",
       "    </tr>\n",
       "  </tbody>\n",
       "</table>\n",
       "<p>14 rows × 48 columns</p>\n",
       "</div>"
      ],
      "text/plain": [
       "    datadate    단가(원)     거래량    거래대금(원)  경매건수    도매시장코드      도매법인코드  산지코드   \\\n",
       "0   20170226  2597.40   252.0   655655.0   4.0  250001.0  25000102.0  560.0   \n",
       "1   20170227  1541.54    70.0   107392.5   3.0  210001.0  21000102.0  621.0   \n",
       "2   20170228      NaN     NaN        NaN   NaN       NaN         NaN    NaN   \n",
       "3   20170301   620.62    80.0    50050.0   1.0  230003.0  23000303.0  401.0   \n",
       "4   20170302  1981.98   292.0   577577.0   4.0  230001.0  23000101.0  320.0   \n",
       "5   20170303  2382.38    40.0    95095.0   2.0  220001.0  22000106.0  719.0   \n",
       "6   20170304  2607.39    24.0    62637.3   1.0  310901.0  31090105.0  472.0   \n",
       "7   20170305  1451.45    60.0    87087.0   1.0  210009.0  21000901.0  970.0   \n",
       "8   20170306  1901.90  1368.0  2597799.6   7.0  110001.0  11000103.0  461.0   \n",
       "9   20170307      NaN     NaN        NaN   NaN       NaN         NaN    NaN   \n",
       "10  20170308  1781.78   240.0   428071.5   3.0  250003.0  25000301.0  467.0   \n",
       "11  20170309  3003.00    68.0   204204.0   2.0  220001.0  22000104.0  719.0   \n",
       "12  20170310  1428.57   132.0   188988.8   3.0  110001.0  11000103.0  467.0   \n",
       "13  20170311  2937.06   140.0   411310.9   2.0  250003.0  25000301.0  323.0   \n",
       "\n",
       "    해당일자_전체평균가격(원)  해당일자_전체거래물량(kg)  ...  주산지_2_최대온도(℃)  주산지_2_최저온도(℃)  \\\n",
       "0      1999.077583         182741.0  ...           15.3           -3.0   \n",
       "1      1940.740624         198469.0  ...           15.5            1.0   \n",
       "2              NaN              NaN  ...           11.3           -1.6   \n",
       "3      2054.058569         233421.0  ...            7.7            1.0   \n",
       "4      2073.866690         203541.0  ...            7.2           -1.4   \n",
       "5      1997.451460         219305.0  ...            9.6           -3.3   \n",
       "6      1968.545825         193849.0  ...           12.7            1.0   \n",
       "7      2181.100469         199588.0  ...           16.3            1.0   \n",
       "8      2987.253790         203557.0  ...           11.4            2.5   \n",
       "9              NaN              NaN  ...           12.1            1.1   \n",
       "10     3061.617869         252581.0  ...           14.2           -1.4   \n",
       "11     2590.109438         219303.0  ...           13.6           -1.2   \n",
       "12     2337.906179         210666.0  ...           17.2           -1.2   \n",
       "13     2262.844137         197712.0  ...           17.5            1.2   \n",
       "\n",
       "    주산지_2_평균온도(℃)  주산지_2_강수량(ml)  주산지_2_습도(%)  일자구분_중순  일자구분_초순  일자구분_하순  \\\n",
       "0             6.5            0.0         44.8        0        0        1   \n",
       "1             9.5            0.0         52.8        0        0        1   \n",
       "2             7.5            0.0         55.6        0        0        1   \n",
       "3             5.4           40.2         90.7        0        1        0   \n",
       "4             3.7           69.5         76.6        0        1        0   \n",
       "5             2.9            0.0         71.7        0        1        0   \n",
       "6             7.7            0.0         73.0        0        1        0   \n",
       "7            10.2            0.0         73.6        0        1        0   \n",
       "8             6.4            0.0         72.0        0        1        0   \n",
       "9             5.8            0.0         65.4        0        1        0   \n",
       "10            7.3            0.0         69.8        0        1        0   \n",
       "11            7.6            0.0         62.5        0        1        0   \n",
       "12            9.5            0.0         68.0        0        1        0   \n",
       "13            8.6            0.0         62.2        1        0        0   \n",
       "\n",
       "    월구분_2월  월구분_3월  \n",
       "0        1       0  \n",
       "1        1       0  \n",
       "2        1       0  \n",
       "3        0       1  \n",
       "4        0       1  \n",
       "5        0       1  \n",
       "6        0       1  \n",
       "7        0       1  \n",
       "8        0       1  \n",
       "9        0       1  \n",
       "10       0       1  \n",
       "11       0       1  \n",
       "12       0       1  \n",
       "13       0       1  \n",
       "\n",
       "[14 rows x 48 columns]"
      ]
     },
     "execution_count": 143,
     "metadata": {},
     "output_type": "execute_result"
    }
   ],
   "source": [
    "test_list = glob('./aT_data/data/test/set_1/*.csv')\n",
    "df_test = pd.read_csv(test_list[0])\n",
    "# df_test['group_id'] = 0\n",
    "\n",
    "df_test"
   ]
  },
  {
   "cell_type": "code",
   "execution_count": 145,
   "metadata": {},
   "outputs": [
    {
     "ename": "AttributeError",
     "evalue": "'DataFrame' object has no attribute 'to_dataloader'",
     "output_type": "error",
     "traceback": [
      "\u001b[0;31m---------------------------------------------------------------------------\u001b[0m",
      "\u001b[0;31mAttributeError\u001b[0m                            Traceback (most recent call last)",
      "\u001b[0;32m/var/folders/8t/p9vrbnhn7xj3s_2zmct430yw0000gn/T/ipykernel_9644/3976119829.py\u001b[0m in \u001b[0;36m<module>\u001b[0;34m\u001b[0m\n\u001b[0;32m----> 1\u001b[0;31m \u001b[0mtest_dataloader\u001b[0m \u001b[0;34m=\u001b[0m \u001b[0mdf_test\u001b[0m\u001b[0;34m.\u001b[0m\u001b[0mto_dataloader\u001b[0m\u001b[0;34m(\u001b[0m\u001b[0mtrain\u001b[0m\u001b[0;34m=\u001b[0m\u001b[0;32mFalse\u001b[0m\u001b[0;34m,\u001b[0m \u001b[0mbatch_size\u001b[0m\u001b[0;34m=\u001b[0m\u001b[0mbatch_size\u001b[0m \u001b[0;34m*\u001b[0m \u001b[0;36m10\u001b[0m\u001b[0;34m,\u001b[0m \u001b[0mnum_workers\u001b[0m\u001b[0;34m=\u001b[0m\u001b[0;36m0\u001b[0m\u001b[0;34m)\u001b[0m\u001b[0;34m\u001b[0m\u001b[0;34m\u001b[0m\u001b[0m\n\u001b[0m",
      "\u001b[0;32m~/miniforge3/envs/nnenv/lib/python3.9/site-packages/pandas/core/generic.py\u001b[0m in \u001b[0;36m__getattr__\u001b[0;34m(self, name)\u001b[0m\n\u001b[1;32m   5573\u001b[0m         ):\n\u001b[1;32m   5574\u001b[0m             \u001b[0;32mreturn\u001b[0m \u001b[0mself\u001b[0m\u001b[0;34m[\u001b[0m\u001b[0mname\u001b[0m\u001b[0;34m]\u001b[0m\u001b[0;34m\u001b[0m\u001b[0;34m\u001b[0m\u001b[0m\n\u001b[0;32m-> 5575\u001b[0;31m         \u001b[0;32mreturn\u001b[0m \u001b[0mobject\u001b[0m\u001b[0;34m.\u001b[0m\u001b[0m__getattribute__\u001b[0m\u001b[0;34m(\u001b[0m\u001b[0mself\u001b[0m\u001b[0;34m,\u001b[0m \u001b[0mname\u001b[0m\u001b[0;34m)\u001b[0m\u001b[0;34m\u001b[0m\u001b[0;34m\u001b[0m\u001b[0m\n\u001b[0m\u001b[1;32m   5576\u001b[0m \u001b[0;34m\u001b[0m\u001b[0m\n\u001b[1;32m   5577\u001b[0m     \u001b[0;32mdef\u001b[0m \u001b[0m__setattr__\u001b[0m\u001b[0;34m(\u001b[0m\u001b[0mself\u001b[0m\u001b[0;34m,\u001b[0m \u001b[0mname\u001b[0m\u001b[0;34m:\u001b[0m \u001b[0mstr\u001b[0m\u001b[0;34m,\u001b[0m \u001b[0mvalue\u001b[0m\u001b[0;34m)\u001b[0m \u001b[0;34m->\u001b[0m \u001b[0;32mNone\u001b[0m\u001b[0;34m:\u001b[0m\u001b[0;34m\u001b[0m\u001b[0;34m\u001b[0m\u001b[0m\n",
      "\u001b[0;31mAttributeError\u001b[0m: 'DataFrame' object has no attribute 'to_dataloader'"
     ]
    }
   ],
   "source": [
    "test_dataloader = df_test.to_dataloader(train=False, batch_size=batch_size * 10, num_workers=0)"
   ]
  },
  {
   "cell_type": "code",
   "execution_count": 144,
   "metadata": {},
   "outputs": [
    {
     "ename": "KeyError",
     "evalue": "'group_id'",
     "output_type": "error",
     "traceback": [
      "\u001b[0;31m---------------------------------------------------------------------------\u001b[0m",
      "\u001b[0;31mKeyError\u001b[0m                                  Traceback (most recent call last)",
      "\u001b[0;32m/var/folders/8t/p9vrbnhn7xj3s_2zmct430yw0000gn/T/ipykernel_9644/1725410718.py\u001b[0m in \u001b[0;36m<module>\u001b[0;34m\u001b[0m\n\u001b[0;32m----> 1\u001b[0;31m \u001b[0mbest_tft\u001b[0m\u001b[0;34m.\u001b[0m\u001b[0mpredict\u001b[0m\u001b[0;34m(\u001b[0m\u001b[0mdf_test\u001b[0m\u001b[0;34m)\u001b[0m\u001b[0;34m\u001b[0m\u001b[0;34m\u001b[0m\u001b[0m\n\u001b[0m",
      "\u001b[0;32m~/miniforge3/envs/nnenv/lib/python3.9/site-packages/pytorch_forecasting/models/base_model.py\u001b[0m in \u001b[0;36mpredict\u001b[0;34m(self, data, mode, return_index, return_decoder_lengths, batch_size, num_workers, fast_dev_run, show_progress_bar, return_x, mode_kwargs, **kwargs)\u001b[0m\n\u001b[1;32m   1136\u001b[0m         \u001b[0;31m# convert to dataloader\u001b[0m\u001b[0;34m\u001b[0m\u001b[0;34m\u001b[0m\u001b[0m\n\u001b[1;32m   1137\u001b[0m         \u001b[0;32mif\u001b[0m \u001b[0misinstance\u001b[0m\u001b[0;34m(\u001b[0m\u001b[0mdata\u001b[0m\u001b[0;34m,\u001b[0m \u001b[0mpd\u001b[0m\u001b[0;34m.\u001b[0m\u001b[0mDataFrame\u001b[0m\u001b[0;34m)\u001b[0m\u001b[0;34m:\u001b[0m\u001b[0;34m\u001b[0m\u001b[0;34m\u001b[0m\u001b[0m\n\u001b[0;32m-> 1138\u001b[0;31m             \u001b[0mdata\u001b[0m \u001b[0;34m=\u001b[0m \u001b[0mTimeSeriesDataSet\u001b[0m\u001b[0;34m.\u001b[0m\u001b[0mfrom_parameters\u001b[0m\u001b[0;34m(\u001b[0m\u001b[0mself\u001b[0m\u001b[0;34m.\u001b[0m\u001b[0mdataset_parameters\u001b[0m\u001b[0;34m,\u001b[0m \u001b[0mdata\u001b[0m\u001b[0;34m,\u001b[0m \u001b[0mpredict\u001b[0m\u001b[0;34m=\u001b[0m\u001b[0;32mTrue\u001b[0m\u001b[0;34m)\u001b[0m\u001b[0;34m\u001b[0m\u001b[0;34m\u001b[0m\u001b[0m\n\u001b[0m\u001b[1;32m   1139\u001b[0m         \u001b[0;32mif\u001b[0m \u001b[0misinstance\u001b[0m\u001b[0;34m(\u001b[0m\u001b[0mdata\u001b[0m\u001b[0;34m,\u001b[0m \u001b[0mTimeSeriesDataSet\u001b[0m\u001b[0;34m)\u001b[0m\u001b[0;34m:\u001b[0m\u001b[0;34m\u001b[0m\u001b[0;34m\u001b[0m\u001b[0m\n\u001b[1;32m   1140\u001b[0m             \u001b[0mdataloader\u001b[0m \u001b[0;34m=\u001b[0m \u001b[0mdata\u001b[0m\u001b[0;34m.\u001b[0m\u001b[0mto_dataloader\u001b[0m\u001b[0;34m(\u001b[0m\u001b[0mbatch_size\u001b[0m\u001b[0;34m=\u001b[0m\u001b[0mbatch_size\u001b[0m\u001b[0;34m,\u001b[0m \u001b[0mtrain\u001b[0m\u001b[0;34m=\u001b[0m\u001b[0;32mFalse\u001b[0m\u001b[0;34m,\u001b[0m \u001b[0mnum_workers\u001b[0m\u001b[0;34m=\u001b[0m\u001b[0mnum_workers\u001b[0m\u001b[0;34m)\u001b[0m\u001b[0;34m\u001b[0m\u001b[0;34m\u001b[0m\u001b[0m\n",
      "\u001b[0;32m~/miniforge3/envs/nnenv/lib/python3.9/site-packages/pytorch_forecasting/data/timeseries.py\u001b[0m in \u001b[0;36mfrom_parameters\u001b[0;34m(cls, parameters, data, stop_randomization, predict, **update_kwargs)\u001b[0m\n\u001b[1;32m   1199\u001b[0m         \u001b[0mparameters\u001b[0m\u001b[0;34m.\u001b[0m\u001b[0mupdate\u001b[0m\u001b[0;34m(\u001b[0m\u001b[0mupdate_kwargs\u001b[0m\u001b[0;34m)\u001b[0m\u001b[0;34m\u001b[0m\u001b[0;34m\u001b[0m\u001b[0m\n\u001b[1;32m   1200\u001b[0m \u001b[0;34m\u001b[0m\u001b[0m\n\u001b[0;32m-> 1201\u001b[0;31m         \u001b[0mnew\u001b[0m \u001b[0;34m=\u001b[0m \u001b[0mcls\u001b[0m\u001b[0;34m(\u001b[0m\u001b[0mdata\u001b[0m\u001b[0;34m,\u001b[0m \u001b[0;34m**\u001b[0m\u001b[0mparameters\u001b[0m\u001b[0;34m)\u001b[0m\u001b[0;34m\u001b[0m\u001b[0;34m\u001b[0m\u001b[0m\n\u001b[0m\u001b[1;32m   1202\u001b[0m         \u001b[0;32mreturn\u001b[0m \u001b[0mnew\u001b[0m\u001b[0;34m\u001b[0m\u001b[0;34m\u001b[0m\u001b[0m\n\u001b[1;32m   1203\u001b[0m \u001b[0;34m\u001b[0m\u001b[0m\n",
      "\u001b[0;32m~/miniforge3/envs/nnenv/lib/python3.9/site-packages/pytorch_forecasting/data/timeseries.py\u001b[0m in \u001b[0;36m__init__\u001b[0;34m(self, data, time_idx, target, group_ids, weight, max_encoder_length, min_encoder_length, min_prediction_idx, min_prediction_length, max_prediction_length, static_categoricals, static_reals, time_varying_known_categoricals, time_varying_known_reals, time_varying_unknown_categoricals, time_varying_unknown_reals, variable_groups, constant_fill_strategy, allow_missing_timesteps, lags, add_relative_time_idx, add_target_scales, add_encoder_length, target_normalizer, categorical_encoders, scalers, randomize_length, predict_mode)\u001b[0m\n\u001b[1;32m    471\u001b[0m             \u001b[0;31m# minimal decoder index is always >= min_prediction_idx\u001b[0m\u001b[0;34m\u001b[0m\u001b[0;34m\u001b[0m\u001b[0m\n\u001b[1;32m    472\u001b[0m             \u001b[0mdata\u001b[0m \u001b[0;34m=\u001b[0m \u001b[0mdata\u001b[0m\u001b[0;34m[\u001b[0m\u001b[0;32mlambda\u001b[0m \u001b[0mx\u001b[0m\u001b[0;34m:\u001b[0m \u001b[0mx\u001b[0m\u001b[0;34m[\u001b[0m\u001b[0mself\u001b[0m\u001b[0;34m.\u001b[0m\u001b[0mtime_idx\u001b[0m\u001b[0;34m]\u001b[0m \u001b[0;34m>=\u001b[0m \u001b[0mself\u001b[0m\u001b[0;34m.\u001b[0m\u001b[0mmin_prediction_idx\u001b[0m \u001b[0;34m-\u001b[0m \u001b[0mself\u001b[0m\u001b[0;34m.\u001b[0m\u001b[0mmax_encoder_length\u001b[0m \u001b[0;34m-\u001b[0m \u001b[0mself\u001b[0m\u001b[0;34m.\u001b[0m\u001b[0mmax_lag\u001b[0m\u001b[0;34m]\u001b[0m\u001b[0;34m\u001b[0m\u001b[0;34m\u001b[0m\u001b[0m\n\u001b[0;32m--> 473\u001b[0;31m         \u001b[0mdata\u001b[0m \u001b[0;34m=\u001b[0m \u001b[0mdata\u001b[0m\u001b[0;34m.\u001b[0m\u001b[0msort_values\u001b[0m\u001b[0;34m(\u001b[0m\u001b[0mself\u001b[0m\u001b[0;34m.\u001b[0m\u001b[0mgroup_ids\u001b[0m \u001b[0;34m+\u001b[0m \u001b[0;34m[\u001b[0m\u001b[0mself\u001b[0m\u001b[0;34m.\u001b[0m\u001b[0mtime_idx\u001b[0m\u001b[0;34m]\u001b[0m\u001b[0;34m)\u001b[0m\u001b[0;34m\u001b[0m\u001b[0;34m\u001b[0m\u001b[0m\n\u001b[0m\u001b[1;32m    474\u001b[0m \u001b[0;34m\u001b[0m\u001b[0m\n\u001b[1;32m    475\u001b[0m         \u001b[0;31m# preprocess data\u001b[0m\u001b[0;34m\u001b[0m\u001b[0;34m\u001b[0m\u001b[0m\n",
      "\u001b[0;32m~/miniforge3/envs/nnenv/lib/python3.9/site-packages/pandas/util/_decorators.py\u001b[0m in \u001b[0;36mwrapper\u001b[0;34m(*args, **kwargs)\u001b[0m\n\u001b[1;32m    309\u001b[0m                     \u001b[0mstacklevel\u001b[0m\u001b[0;34m=\u001b[0m\u001b[0mstacklevel\u001b[0m\u001b[0;34m,\u001b[0m\u001b[0;34m\u001b[0m\u001b[0;34m\u001b[0m\u001b[0m\n\u001b[1;32m    310\u001b[0m                 )\n\u001b[0;32m--> 311\u001b[0;31m             \u001b[0;32mreturn\u001b[0m \u001b[0mfunc\u001b[0m\u001b[0;34m(\u001b[0m\u001b[0;34m*\u001b[0m\u001b[0margs\u001b[0m\u001b[0;34m,\u001b[0m \u001b[0;34m**\u001b[0m\u001b[0mkwargs\u001b[0m\u001b[0;34m)\u001b[0m\u001b[0;34m\u001b[0m\u001b[0;34m\u001b[0m\u001b[0m\n\u001b[0m\u001b[1;32m    312\u001b[0m \u001b[0;34m\u001b[0m\u001b[0m\n\u001b[1;32m    313\u001b[0m         \u001b[0;32mreturn\u001b[0m \u001b[0mwrapper\u001b[0m\u001b[0;34m\u001b[0m\u001b[0;34m\u001b[0m\u001b[0m\n",
      "\u001b[0;32m~/miniforge3/envs/nnenv/lib/python3.9/site-packages/pandas/core/frame.py\u001b[0m in \u001b[0;36msort_values\u001b[0;34m(self, by, axis, ascending, inplace, kind, na_position, ignore_index, key)\u001b[0m\n\u001b[1;32m   6302\u001b[0m         \u001b[0;32mif\u001b[0m \u001b[0mlen\u001b[0m\u001b[0;34m(\u001b[0m\u001b[0mby\u001b[0m\u001b[0;34m)\u001b[0m \u001b[0;34m>\u001b[0m \u001b[0;36m1\u001b[0m\u001b[0;34m:\u001b[0m\u001b[0;34m\u001b[0m\u001b[0;34m\u001b[0m\u001b[0m\n\u001b[1;32m   6303\u001b[0m \u001b[0;34m\u001b[0m\u001b[0m\n\u001b[0;32m-> 6304\u001b[0;31m             \u001b[0mkeys\u001b[0m \u001b[0;34m=\u001b[0m \u001b[0;34m[\u001b[0m\u001b[0mself\u001b[0m\u001b[0;34m.\u001b[0m\u001b[0m_get_label_or_level_values\u001b[0m\u001b[0;34m(\u001b[0m\u001b[0mx\u001b[0m\u001b[0;34m,\u001b[0m \u001b[0maxis\u001b[0m\u001b[0;34m=\u001b[0m\u001b[0maxis\u001b[0m\u001b[0;34m)\u001b[0m \u001b[0;32mfor\u001b[0m \u001b[0mx\u001b[0m \u001b[0;32min\u001b[0m \u001b[0mby\u001b[0m\u001b[0;34m]\u001b[0m\u001b[0;34m\u001b[0m\u001b[0;34m\u001b[0m\u001b[0m\n\u001b[0m\u001b[1;32m   6305\u001b[0m \u001b[0;34m\u001b[0m\u001b[0m\n\u001b[1;32m   6306\u001b[0m             \u001b[0;31m# need to rewrap columns in Series to apply key function\u001b[0m\u001b[0;34m\u001b[0m\u001b[0;34m\u001b[0m\u001b[0m\n",
      "\u001b[0;32m~/miniforge3/envs/nnenv/lib/python3.9/site-packages/pandas/core/frame.py\u001b[0m in \u001b[0;36m<listcomp>\u001b[0;34m(.0)\u001b[0m\n\u001b[1;32m   6302\u001b[0m         \u001b[0;32mif\u001b[0m \u001b[0mlen\u001b[0m\u001b[0;34m(\u001b[0m\u001b[0mby\u001b[0m\u001b[0;34m)\u001b[0m \u001b[0;34m>\u001b[0m \u001b[0;36m1\u001b[0m\u001b[0;34m:\u001b[0m\u001b[0;34m\u001b[0m\u001b[0;34m\u001b[0m\u001b[0m\n\u001b[1;32m   6303\u001b[0m \u001b[0;34m\u001b[0m\u001b[0m\n\u001b[0;32m-> 6304\u001b[0;31m             \u001b[0mkeys\u001b[0m \u001b[0;34m=\u001b[0m \u001b[0;34m[\u001b[0m\u001b[0mself\u001b[0m\u001b[0;34m.\u001b[0m\u001b[0m_get_label_or_level_values\u001b[0m\u001b[0;34m(\u001b[0m\u001b[0mx\u001b[0m\u001b[0;34m,\u001b[0m \u001b[0maxis\u001b[0m\u001b[0;34m=\u001b[0m\u001b[0maxis\u001b[0m\u001b[0;34m)\u001b[0m \u001b[0;32mfor\u001b[0m \u001b[0mx\u001b[0m \u001b[0;32min\u001b[0m \u001b[0mby\u001b[0m\u001b[0;34m]\u001b[0m\u001b[0;34m\u001b[0m\u001b[0;34m\u001b[0m\u001b[0m\n\u001b[0m\u001b[1;32m   6305\u001b[0m \u001b[0;34m\u001b[0m\u001b[0m\n\u001b[1;32m   6306\u001b[0m             \u001b[0;31m# need to rewrap columns in Series to apply key function\u001b[0m\u001b[0;34m\u001b[0m\u001b[0;34m\u001b[0m\u001b[0m\n",
      "\u001b[0;32m~/miniforge3/envs/nnenv/lib/python3.9/site-packages/pandas/core/generic.py\u001b[0m in \u001b[0;36m_get_label_or_level_values\u001b[0;34m(self, key, axis)\u001b[0m\n\u001b[1;32m   1838\u001b[0m             \u001b[0mvalues\u001b[0m \u001b[0;34m=\u001b[0m \u001b[0mself\u001b[0m\u001b[0;34m.\u001b[0m\u001b[0maxes\u001b[0m\u001b[0;34m[\u001b[0m\u001b[0maxis\u001b[0m\u001b[0;34m]\u001b[0m\u001b[0;34m.\u001b[0m\u001b[0mget_level_values\u001b[0m\u001b[0;34m(\u001b[0m\u001b[0mkey\u001b[0m\u001b[0;34m)\u001b[0m\u001b[0;34m.\u001b[0m\u001b[0m_values\u001b[0m\u001b[0;34m\u001b[0m\u001b[0;34m\u001b[0m\u001b[0m\n\u001b[1;32m   1839\u001b[0m         \u001b[0;32melse\u001b[0m\u001b[0;34m:\u001b[0m\u001b[0;34m\u001b[0m\u001b[0;34m\u001b[0m\u001b[0m\n\u001b[0;32m-> 1840\u001b[0;31m             \u001b[0;32mraise\u001b[0m \u001b[0mKeyError\u001b[0m\u001b[0;34m(\u001b[0m\u001b[0mkey\u001b[0m\u001b[0;34m)\u001b[0m\u001b[0;34m\u001b[0m\u001b[0;34m\u001b[0m\u001b[0m\n\u001b[0m\u001b[1;32m   1841\u001b[0m \u001b[0;34m\u001b[0m\u001b[0m\n\u001b[1;32m   1842\u001b[0m         \u001b[0;31m# Check for duplicates\u001b[0m\u001b[0;34m\u001b[0m\u001b[0;34m\u001b[0m\u001b[0m\n",
      "\u001b[0;31mKeyError\u001b[0m: 'group_id'"
     ]
    }
   ],
   "source": [
    "best_tft.predict(df_test)"
   ]
  },
  {
   "cell_type": "code",
   "execution_count": 125,
   "metadata": {},
   "outputs": [
    {
     "data": {
      "image/png": "[encoded data removed]",
      "text/plain": [
       "<Figure size 432x288 with 2 Axes>"
      ]
     },
     "execution_count": 125,
     "metadata": {},
     "output_type": "execute_result"
    },
    {
     "data": {
      "image/png": "[encoded data removed]",
      "text/plain": [
       "<Figure size 432x288 with 2 Axes>"
      ]
     },
     "metadata": {
      "needs_background": "light"
     },
     "output_type": "display_data"
    }
   ],
   "source": [
    "best_tft.plot_prediction(x, raw_predictions, idx=0, add_loss_to_title=True)"
   ]
  },
  {
   "cell_type": "code",
   "execution_count": null,
   "metadata": {},
   "outputs": [],
   "source": []
  }
 ],
 "metadata": {
  "interpreter": {
   "hash": "0ac99b679e96e98709c35eb1edc554e4edf87e6f7c8255750be86327ee221383"
  },
  "kernelspec": {
   "display_name": "Python 3.9.13 64-bit ('nnenv': conda)",
   "name": "python3"
  },
  "language_info": {
   "codemirror_mode": {
    "name": "ipython",
    "version": 3
   },
   "file_extension": ".py",
   "mimetype": "text/x-python",
   "name": "python",
   "nbconvert_exporter": "python",
   "pygments_lexer": "ipython3",
   "version": "3.9.13"
  },
  "orig_nbformat": 4
 },
 "nbformat": 4,
 "nbformat_minor": 2
}
