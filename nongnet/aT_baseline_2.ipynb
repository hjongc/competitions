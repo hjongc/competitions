{
  "cells": [
    {
      "cell_type": "markdown",
      "metadata": {
        "id": "hNs6NdTdJ8eP"
      },
      "source": [
        "# best"
      ]
    },
    {
      "cell_type": "code",
      "execution_count": 1,
      "metadata": {
        "id": "PQ4fzHA5J8eV"
      },
      "outputs": [],
      "source": [
        "import pandas as pd\n",
        "import numpy as np\n",
        "from tqdm import tqdm\n",
        "import warnings\n",
        "from glob2 import glob  \n",
        "import tensorflow as tf\n",
        "from tensorflow.keras.callbacks import EarlyStopping, ModelCheckpoint\n",
        "from tensorflow import keras\n",
        "from tensorflow.keras import layers\n",
        "from sklearn.model_selection import train_test_split\n",
        "from pandasql import sqldf\n",
        "import random\n",
        "import os\n",
        "from numba import jit,njit\n",
        "\n",
        "test_num = 17\n",
        "\n",
        "# 경고 끄기\n",
        "warnings.filterwarnings(action='ignore')\n",
        "\n",
        "# 시드고정\n",
        "tf.random.set_seed(19970119)\n",
        "random.seed(19970119)\n",
        "np.random.seed(19970119)"
      ]
    },
    {
      "cell_type": "markdown",
      "metadata": {
        "id": "L6KeVclxJ8ex"
      },
      "source": [
        "&nbsp;"
      ]
    },
    {
      "cell_type": "markdown",
      "metadata": {
        "id": "Op_HKyOgJ8ex"
      },
      "source": [
        "## 입력 shape 및 형태 정의 함수"
      ]
    },
    {
      "cell_type": "code",
      "execution_count": 2,
      "metadata": {
        "id": "Gnlo6CdoJ8ey"
      },
      "outputs": [],
      "source": [
        "@jit\n",
        "def make_Tensor(array):\n",
        "    return tf.convert_to_tensor(array, dtype=tf.float32)\n",
        "\n",
        "@jit\n",
        "def astype_data(data):\n",
        "    df = data.astype(np.float32)\n",
        "    return make_Tensor(df)"
      ]
    },
    {
      "cell_type": "markdown",
      "metadata": {
        "id": "HW5tSx9CJ8ez"
      },
      "source": [
        "&nbsp;"
      ]
    },
    {
      "cell_type": "markdown",
      "metadata": {
        "id": "23d5CbY2J8e0"
      },
      "source": [
        "## Transformer 정의"
      ]
    },
    {
      "cell_type": "markdown",
      "metadata": {
        "id": "AnsaPEZxJ8e0"
      },
      "source": [
        "- encoder"
      ]
    },
    {
      "cell_type": "code",
      "execution_count": 3,
      "metadata": {
        "id": "fN-y2wg2J8e1"
      },
      "outputs": [],
      "source": [
        "@jit\n",
        "def transformer_encoder(inputs, head_size, num_heads, ff_dim, dropout=0):\n",
        "    x = layers.LayerNormalization(epsilon=1e-6)(inputs)\n",
        "    x = layers.MultiHeadAttention(\n",
        "        key_dim=head_size, num_heads=num_heads, dropout=dropout\n",
        "    )(x, x)\n",
        "    x = layers.Dropout(dropout)(x)\n",
        "    res = x + inputs\n",
        "\n",
        "    x = layers.LayerNormalization(epsilon=1e-6)(res)\n",
        "    x = layers.Conv1D(filters=ff_dim, kernel_size=1, activation=\"relu\")(x)\n",
        "    x = layers.Dropout(dropout)(x)\n",
        "    x = layers.Conv1D(filters=inputs.shape[-1], kernel_size=1)(x)\n",
        "    return x + res"
      ]
    },
    {
      "cell_type": "markdown",
      "metadata": {
        "id": "qHPatYotJ8e2"
      },
      "source": [
        "- build"
      ]
    },
    {
      "cell_type": "code",
      "execution_count": 4,
      "metadata": {
        "id": "f53uwkrVJ8e3"
      },
      "outputs": [],
      "source": [
        "@jit\n",
        "def build_model(input_shape, head_size, num_heads, ff_dim, num_transformer_blocks, mlp_units, dropout=0.2, mlp_dropout=0.2):\n",
        "    inputs = keras.Input(shape=input_shape)\n",
        "    x = inputs\n",
        "    for _ in range(num_transformer_blocks):\n",
        "        x = transformer_encoder(x, head_size, num_heads, ff_dim, dropout)\n",
        "\n",
        "    x = layers.GlobalAveragePooling1D(data_format=\"channels_first\")(x)\n",
        "    for dim in mlp_units:\n",
        "        x = layers.Dense(dim, activation=\"relu\")(x)\n",
        "        x = layers.Dropout(mlp_dropout)(x)\n",
        "    outputs = layers.Dense(28)(x) # 4주 예측\n",
        "    return keras.Model(inputs, outputs)"
      ]
    },
    {
      "cell_type": "markdown",
      "metadata": {
        "id": "Zf-P1DEqJ8e5"
      },
      "source": [
        "&nbsp;"
      ]
    },
    {
      "cell_type": "markdown",
      "metadata": {
        "id": "kt8olYmCJ8e5"
      },
      "source": [
        "## keras eraly stop, chekpoint 정의"
      ]
    },
    {
      "cell_type": "code",
      "execution_count": 5,
      "metadata": {
        "id": "dI2gT91mJ8e6"
      },
      "outputs": [],
      "source": [
        "@jit\n",
        "def call_back_set(name, epoch, batch_size):\n",
        "    early_stopping = EarlyStopping(monitor='val_loss', patience=30)\n",
        "\n",
        "    if os.path.exists(f'./check') == False:\n",
        "        os.mkdir(f'./check')\n",
        "\n",
        "    filename = f'./check/{name}-{epoch}-{batch_size}.h5'\n",
        "\n",
        "    checkpoint = ModelCheckpoint(filename,\n",
        "                                 monitor='val_loss',\n",
        "                                 verbose=0,\n",
        "                                 save_best_only=True,\n",
        "                                 save_weights_only=True,\n",
        "                                 mode='auto'\n",
        "                                 )\n",
        "    return [early_stopping, checkpoint]"
      ]
    },
    {
      "cell_type": "markdown",
      "metadata": {
        "id": "Zx-muC5oJ8e7"
      },
      "source": [
        "&nbsp;"
      ]
    },
    {
      "cell_type": "markdown",
      "metadata": {
        "id": "Qh0K9WvSJ8e8"
      },
      "source": [
        "## Model 훈련 함수"
      ]
    },
    {
      "cell_type": "code",
      "execution_count": 6,
      "metadata": {
        "id": "g5O8y4bqJ8e9"
      },
      "outputs": [],
      "source": [
        "def train(x_train, y_train, x_val, y_val, name, epoch, batch_size, learning_rate = 0.001, verbose = 0):\n",
        "    model = build_model(\n",
        "    x_train.shape[1:],\n",
        "    head_size=256,\n",
        "    num_heads=3,\n",
        "    ff_dim=4,\n",
        "    num_transformer_blocks=3,\n",
        "    mlp_units=[128],\n",
        "    mlp_dropout=0.2,\n",
        "    dropout=0.2,\n",
        "    )\n",
        "\n",
        "    model.compile(\n",
        "        loss=\"mean_squared_error\",\n",
        "        optimizer=keras.optimizers.Adam(learning_rate=learning_rate)\n",
        "    )\n",
        "\n",
        "    # Train the model\n",
        "    with tf.device('/device:GPU:1'):\n",
        "        history1 = model.fit(\n",
        "            x_train, y_train,\n",
        "            epochs = epoch,\n",
        "            steps_per_epoch=len(x_train) / batch_size,\n",
        "            batch_size=batch_size,\n",
        "            validation_data=(x_val, y_val),\n",
        "            validation_steps=len(x_val) / batch_size,\n",
        "            shuffle=False,\n",
        "            callbacks=call_back_set(name, epoch, batch_size),\n",
        "            verbose=verbose)\n",
        "\n",
        "    return model"
      ]
    },
    {
      "cell_type": "markdown",
      "metadata": {
        "id": "eLmwSKHnJ8e_"
      },
      "source": [
        "&nbsp;"
      ]
    },
    {
      "cell_type": "markdown",
      "metadata": {
        "id": "i0sTg94GJ8fA"
      },
      "source": [
        "## 시점 윈도우 생성 함수"
      ]
    },
    {
      "cell_type": "code",
      "execution_count": 7,
      "metadata": {
        "id": "G7o0auoqJ8fB"
      },
      "outputs": [],
      "source": [
        "@jit\n",
        "def time_window(df, t, t_sep):\n",
        "    seq_len = t\n",
        "    seqence_length = seq_len + t_sep\n",
        "\n",
        "    result = []\n",
        "    for index in range(len(df) - seqence_length):\n",
        "        result.append(df[index: index + seqence_length].values)\n",
        "\n",
        "    return np.array(result)\n",
        "\n",
        "@jit\n",
        "def y_time_window(df, t, t_sep):\n",
        "    seq_len = t\n",
        "    seqence_length = seq_len + t_sep\n",
        "\n",
        "    result = []\n",
        "    for index in range(14, len(df) - seqence_length):\n",
        "        result.append(df[index: index + seqence_length].values - df.iloc[index-1])\n",
        "\n",
        "    return np.array(result)"
      ]
    },
    {
      "cell_type": "markdown",
      "metadata": {
        "id": "t6x20G1VJ8fF"
      },
      "source": [
        "&nbsp;"
      ]
    },
    {
      "cell_type": "markdown",
      "metadata": {
        "id": "cqK2s1oZJ8fG"
      },
      "source": [
        "## 데이터 불러오기 및 parameter 설정"
      ]
    },
    {
      "cell_type": "code",
      "execution_count": 8,
      "metadata": {
        "id": "hkV5__kvJ8fI"
      },
      "outputs": [],
      "source": [
        "data_list = glob('./aT_data/data/train/*.csv')\n",
        "epoch = 1000\n",
        "batch = 64"
      ]
    },
    {
      "cell_type": "code",
      "execution_count": 9,
      "metadata": {
        "id": "Mm8FLNrlhp3y"
      },
      "outputs": [],
      "source": [
        "\n",
        "def feature_engineer(df):\n",
        "       #시간 코사인 인코딩\n",
        "       if df['datadate'].all() == 0:\n",
        "         df['datadate'] = 20180520\n",
        "       df['datetime'] = pd.to_datetime(df['datadate'], format=\"%Y%m%d\")\n",
        "       df['cos_time'] = np.cos(2*np.pi*df['datetime'].dt.dayofyear/365)\n",
        "\n",
        "       # 결측치\n",
        "       df = df.replace(' ', np.nan)\n",
        "       df = df.fillna(0)\n",
        "\n",
        "       # 주산지 초기온도, 최대온도, 최저온도, 평균온도, 강수량, 습도\n",
        "       df['주산지_초기온도'] = (df['주산지_0_초기온도(℃)'] + df['주산지_1_초기온도(℃)'] + df['주산지_2_초기온도(℃)'])/3\n",
        "       df['주산지_최대온도'] = (df['주산지_0_최대온도(℃)'] + df['주산지_1_최대온도(℃)'] + df['주산지_2_최대온도(℃)'])/3\n",
        "       df['주산지_최저온도'] = (df['주산지_0_최저온도(℃)'] + df['주산지_1_최저온도(℃)'] + df['주산지_2_최저온도(℃)'])/3\n",
        "       df['주산지_평균온도'] = (df['주산지_0_평균온도(℃)'] + df['주산지_1_평균온도(℃)'] + df['주산지_2_평균온도(℃)'])/3\n",
        "       df['주산지_강수량'] = (df['주산지_0_강수량(ml)'] + df['주산지_1_강수량(ml)'] + df['주산지_2_강수량(ml)'])/3\n",
        "\n",
        "       # 필요한 컬럼 선택\n",
        "       market_cols = ['단가(원)', '거래량'] # , '경매건수', '거래대금(원)'\n",
        "\n",
        "       market_code_cols = [] # '도매시장코드', '도매법인코드', '산지코드 '\n",
        "\n",
        "       market_statistics_cols = ['해당일자_전체거래물량(kg)', '일자별_도매가격_평균(원)','하위가격 평균가(원)', '상위가격 평균가(원)' ] \n",
        "       # '하위가격 거래물량(kg)', '상위가격 거래물량(kg)', '일자별_도매가격_최대(원)', , '일자별_도매가격_최소(원)', '일자별_소매가격_최대(원)', '일자별_소매가격_평균(원)', '일자별_소매가격_최소(원)', \n",
        "       \n",
        "       export_cols = [] # '수출중량(kg)', '수출금액(달러)', '수입중량(kg)', '수입금액(달러)', '무역수지(달러)'\n",
        "       \n",
        "       date_cols = ['cos_time'] # ,, '일자구분_중순', '일자구분_초순', '일자구분_하순', '월구분_10월', '월구분_11월', '월구분_12월', '월구분_1월', '월구분_2월','월구분_3월', '월구분_4월', '월구분_5월', '월구분_6월', '월구분_7월', '월구분_8월', '월구분_9월', 'datetime'\n",
        "\n",
        "       weather_cols = ['주산지_초기온도','주산지_최대온도', '주산지_최저온도', '주산지_평균온도', '주산지_강수량'] \n",
        "      #  '주산지_0_초기온도(℃)', '주산지_1_초기온도(℃)', '주산지_2_초기온도(℃)',\n",
        "      #  '주산지_0_최대온도(℃)', '주산지_1_최대온도(℃)', '주산지_2_최대온도(℃)',\n",
        "      #  '주산지_0_최저온도(℃)', '주산지_1_최저온도(℃)', '주산지_2_최저온도(℃)',\n",
        "      #  '주산지_0_평균온도(℃)', '주산지_1_평균온도(℃)', '주산지_2_평균온도(℃)',\n",
        "      #  '주산지_0_강수량(ml)', '주산지_1_강수량(ml)', '주산지_2_강수량(ml)',\n",
        "      #  '주산지_0_습도(%)', '주산지_1_습도(%)', '주산지_2_습도(%)'\n",
        "\n",
        "       selected_columns = ['datadate', '해당일자_전체평균가격(원)']  + market_cols + market_code_cols + market_statistics_cols + export_cols +  date_cols + weather_cols # train 에서 사용하지 않는 열\n",
        "\n",
        "       df = df[[c for c in df.columns if c in selected_columns]]\n",
        "\n",
        "       return df"
      ]
    },
    {
      "cell_type": "markdown",
      "metadata": {
        "id": "tQ-dAEuNJ8fJ"
      },
      "source": [
        "&nbsp;"
      ]
    },
    {
      "cell_type": "markdown",
      "metadata": {
        "id": "EF2VmW68J8fK"
      },
      "source": [
        "## Train 과정"
      ]
    },
    {
      "cell_type": "code",
      "execution_count": 10,
      "metadata": {
        "colab": {
          "background_save": true
        },
        "id": "WgmRJNAuJ8fL"
      },
      "outputs": [
        {
          "name": "stderr",
          "output_type": "stream",
          "text": [
            "  0%|          | 0/37 [00:00<?, ?it/s]"
          ]
        },
        {
          "name": "stdout",
          "output_type": "stream",
          "text": [
            "./aT_data/data/train/train_4.csv\n",
            "Metal device set to: Apple M1\n",
            "\n",
            "systemMemory: 8.00 GB\n",
            "maxCacheSize: 2.67 GB\n",
            "\n"
          ]
        },
        {
          "name": "stderr",
          "output_type": "stream",
          "text": [
            "2022-09-22 00:45:55.939207: I tensorflow/core/common_runtime/pluggable_device/pluggable_device_factory.cc:305] Could not identify NUMA node of platform GPU ID 0, defaulting to 0. Your kernel may not have been built with NUMA support.\n",
            "2022-09-22 00:45:55.939648: I tensorflow/core/common_runtime/pluggable_device/pluggable_device_factory.cc:271] Created TensorFlow device (/job:localhost/replica:0/task:0/device:GPU:0 with 0 MB memory) -> physical PluggableDevice (device: 0, name: METAL, pci bus id: <undefined>)\n",
            "2022-09-22 00:45:56.767446: W tensorflow/core/platform/profile_utils/cpu_utils.cc:128] Failed to get CPU frequency: 0 Hz\n",
            "2022-09-22 00:45:56.968028: I tensorflow/core/grappler/optimizers/custom_graph_optimizer_registry.cc:113] Plugin optimizer for device_type GPU is enabled.\n",
            "2022-09-22 00:45:57.531552: I tensorflow/core/grappler/optimizers/custom_graph_optimizer_registry.cc:113] Plugin optimizer for device_type GPU is enabled.\n",
            "  3%|▎         | 1/37 [01:31<55:05, 91.83s/it]"
          ]
        },
        {
          "name": "stdout",
          "output_type": "stream",
          "text": [
            "\n",
            "valid_loss:  1006770.5625\n",
            "./aT_data/data/train/train_15.csv\n"
          ]
        },
        {
          "name": "stderr",
          "output_type": "stream",
          "text": [
            "2022-09-22 00:47:27.535176: I tensorflow/core/grappler/optimizers/custom_graph_optimizer_registry.cc:113] Plugin optimizer for device_type GPU is enabled.\n",
            "2022-09-22 00:47:27.732118: I tensorflow/core/grappler/optimizers/custom_graph_optimizer_registry.cc:113] Plugin optimizer for device_type GPU is enabled.\n",
            "  5%|▌         | 2/37 [03:03<53:24, 91.56s/it]"
          ]
        },
        {
          "name": "stdout",
          "output_type": "stream",
          "text": [
            "\n",
            "valid_loss:  529000.6875\n",
            "./aT_data/data/train/train_29.csv\n"
          ]
        },
        {
          "name": "stderr",
          "output_type": "stream",
          "text": [
            "2022-09-22 00:48:58.912611: I tensorflow/core/grappler/optimizers/custom_graph_optimizer_registry.cc:113] Plugin optimizer for device_type GPU is enabled.\n",
            "2022-09-22 00:48:59.119570: I tensorflow/core/grappler/optimizers/custom_graph_optimizer_registry.cc:113] Plugin optimizer for device_type GPU is enabled.\n",
            "  8%|▊         | 3/37 [04:33<51:36, 91.07s/it]"
          ]
        },
        {
          "name": "stdout",
          "output_type": "stream",
          "text": [
            "\n",
            "valid_loss:  289105.21875\n",
            "./aT_data/data/train/train_28.csv\n"
          ]
        },
        {
          "name": "stderr",
          "output_type": "stream",
          "text": [
            "2022-09-22 00:50:29.378392: I tensorflow/core/grappler/optimizers/custom_graph_optimizer_registry.cc:113] Plugin optimizer for device_type GPU is enabled.\n",
            "2022-09-22 00:50:29.580223: I tensorflow/core/grappler/optimizers/custom_graph_optimizer_registry.cc:113] Plugin optimizer for device_type GPU is enabled.\n",
            " 11%|█         | 4/37 [06:02<49:40, 90.32s/it]"
          ]
        },
        {
          "name": "stdout",
          "output_type": "stream",
          "text": [
            "\n",
            "valid_loss:  73780.0703125\n",
            "./aT_data/data/train/train_14.csv\n"
          ]
        },
        {
          "name": "stderr",
          "output_type": "stream",
          "text": [
            "2022-09-22 00:51:58.538753: I tensorflow/core/grappler/optimizers/custom_graph_optimizer_registry.cc:113] Plugin optimizer for device_type GPU is enabled.\n",
            "2022-09-22 00:51:58.739526: I tensorflow/core/grappler/optimizers/custom_graph_optimizer_registry.cc:113] Plugin optimizer for device_type GPU is enabled.\n",
            " 14%|█▎        | 5/37 [07:42<50:00, 93.78s/it]"
          ]
        },
        {
          "name": "stdout",
          "output_type": "stream",
          "text": [
            "\n",
            "valid_loss:  23475406.0\n",
            "./aT_data/data/train/train_5.csv\n"
          ]
        },
        {
          "name": "stderr",
          "output_type": "stream",
          "text": [
            "2022-09-22 00:53:38.834239: I tensorflow/core/grappler/optimizers/custom_graph_optimizer_registry.cc:113] Plugin optimizer for device_type GPU is enabled.\n",
            "2022-09-22 00:53:39.050000: I tensorflow/core/grappler/optimizers/custom_graph_optimizer_registry.cc:113] Plugin optimizer for device_type GPU is enabled.\n",
            " 16%|█▌        | 6/37 [09:15<48:13, 93.33s/it]"
          ]
        },
        {
          "name": "stdout",
          "output_type": "stream",
          "text": [
            "\n",
            "valid_loss:  4440080.0\n",
            "./aT_data/data/train/train_7.csv\n"
          ]
        },
        {
          "name": "stderr",
          "output_type": "stream",
          "text": [
            "2022-09-22 00:55:10.950127: I tensorflow/core/grappler/optimizers/custom_graph_optimizer_registry.cc:113] Plugin optimizer for device_type GPU is enabled.\n",
            "2022-09-22 00:55:11.152892: I tensorflow/core/grappler/optimizers/custom_graph_optimizer_registry.cc:113] Plugin optimizer for device_type GPU is enabled.\n",
            " 19%|█▉        | 7/37 [10:50<46:54, 93.81s/it]"
          ]
        },
        {
          "name": "stdout",
          "output_type": "stream",
          "text": [
            "\n",
            "valid_loss:  5304746.5\n",
            "./aT_data/data/train/train_16.csv\n"
          ]
        },
        {
          "name": "stderr",
          "output_type": "stream",
          "text": [
            "2022-09-22 00:56:45.724470: I tensorflow/core/grappler/optimizers/custom_graph_optimizer_registry.cc:113] Plugin optimizer for device_type GPU is enabled.\n",
            "2022-09-22 00:56:45.923599: I tensorflow/core/grappler/optimizers/custom_graph_optimizer_registry.cc:113] Plugin optimizer for device_type GPU is enabled.\n",
            " 22%|██▏       | 8/37 [11:54<40:53, 84.60s/it]"
          ]
        },
        {
          "name": "stdout",
          "output_type": "stream",
          "text": [
            "\n",
            "valid_loss:  2451664.75\n",
            "./aT_data/data/train/train_17.csv\n"
          ]
        },
        {
          "name": "stderr",
          "output_type": "stream",
          "text": [
            "2022-09-22 00:57:50.602036: I tensorflow/core/grappler/optimizers/custom_graph_optimizer_registry.cc:113] Plugin optimizer for device_type GPU is enabled.\n",
            "2022-09-22 00:57:50.822822: I tensorflow/core/grappler/optimizers/custom_graph_optimizer_registry.cc:113] Plugin optimizer for device_type GPU is enabled.\n",
            " 24%|██▍       | 9/37 [13:33<41:29, 88.90s/it]"
          ]
        },
        {
          "name": "stdout",
          "output_type": "stream",
          "text": [
            "\n",
            "valid_loss:  1897049.0\n",
            "./aT_data/data/train/train_6.csv\n"
          ]
        },
        {
          "name": "stderr",
          "output_type": "stream",
          "text": [
            "2022-09-22 00:59:29.059425: I tensorflow/core/grappler/optimizers/custom_graph_optimizer_registry.cc:113] Plugin optimizer for device_type GPU is enabled.\n",
            "2022-09-22 00:59:29.340604: I tensorflow/core/grappler/optimizers/custom_graph_optimizer_registry.cc:113] Plugin optimizer for device_type GPU is enabled.\n",
            " 27%|██▋       | 10/37 [15:32<44:14, 98.33s/it]"
          ]
        },
        {
          "name": "stdout",
          "output_type": "stream",
          "text": [
            "\n",
            "valid_loss:  71059784.0\n",
            "./aT_data/data/train/train_2.csv\n"
          ]
        },
        {
          "name": "stderr",
          "output_type": "stream",
          "text": [
            "2022-09-22 01:01:28.473993: I tensorflow/core/grappler/optimizers/custom_graph_optimizer_registry.cc:113] Plugin optimizer for device_type GPU is enabled.\n",
            "2022-09-22 01:01:28.756781: I tensorflow/core/grappler/optimizers/custom_graph_optimizer_registry.cc:113] Plugin optimizer for device_type GPU is enabled.\n",
            " 30%|██▉       | 11/37 [17:05<41:55, 96.74s/it]"
          ]
        },
        {
          "name": "stdout",
          "output_type": "stream",
          "text": [
            "\n",
            "valid_loss:  1064347.25\n",
            "./aT_data/data/train/train_13.csv\n"
          ]
        },
        {
          "name": "stderr",
          "output_type": "stream",
          "text": [
            "2022-09-22 01:03:01.551643: I tensorflow/core/grappler/optimizers/custom_graph_optimizer_registry.cc:113] Plugin optimizer for device_type GPU is enabled.\n",
            "2022-09-22 01:03:02.204850: I tensorflow/core/grappler/optimizers/custom_graph_optimizer_registry.cc:113] Plugin optimizer for device_type GPU is enabled.\n",
            " 32%|███▏      | 12/37 [18:37<39:36, 95.07s/it]"
          ]
        },
        {
          "name": "stdout",
          "output_type": "stream",
          "text": [
            "\n",
            "valid_loss:  1025612.9375\n",
            "./aT_data/data/train/train_12.csv\n"
          ]
        },
        {
          "name": "stderr",
          "output_type": "stream",
          "text": [
            "2022-09-22 01:04:32.843208: I tensorflow/core/grappler/optimizers/custom_graph_optimizer_registry.cc:113] Plugin optimizer for device_type GPU is enabled.\n",
            "2022-09-22 01:04:33.091517: I tensorflow/core/grappler/optimizers/custom_graph_optimizer_registry.cc:113] Plugin optimizer for device_type GPU is enabled.\n",
            " 35%|███▌      | 13/37 [20:07<37:26, 93.62s/it]"
          ]
        },
        {
          "name": "stdout",
          "output_type": "stream",
          "text": [
            "\n",
            "valid_loss:  947423.5625\n",
            "./aT_data/data/train/train_3.csv\n"
          ]
        },
        {
          "name": "stderr",
          "output_type": "stream",
          "text": [
            "2022-09-22 01:06:03.112061: I tensorflow/core/grappler/optimizers/custom_graph_optimizer_registry.cc:113] Plugin optimizer for device_type GPU is enabled.\n",
            "2022-09-22 01:06:03.356084: I tensorflow/core/grappler/optimizers/custom_graph_optimizer_registry.cc:113] Plugin optimizer for device_type GPU is enabled.\n",
            " 38%|███▊      | 14/37 [21:37<35:32, 92.71s/it]"
          ]
        },
        {
          "name": "stdout",
          "output_type": "stream",
          "text": [
            "\n",
            "valid_loss:  1849428.375\n",
            "./aT_data/data/train/train_1.csv\n"
          ]
        },
        {
          "name": "stderr",
          "output_type": "stream",
          "text": [
            "2022-09-22 01:07:33.702145: I tensorflow/core/grappler/optimizers/custom_graph_optimizer_registry.cc:113] Plugin optimizer for device_type GPU is enabled.\n",
            "2022-09-22 01:07:33.931664: I tensorflow/core/grappler/optimizers/custom_graph_optimizer_registry.cc:113] Plugin optimizer for device_type GPU is enabled.\n",
            " 41%|████      | 15/37 [23:09<33:54, 92.48s/it]"
          ]
        },
        {
          "name": "stdout",
          "output_type": "stream",
          "text": [
            "\n",
            "valid_loss:  206623.59375\n",
            "./aT_data/data/train/train_10.csv\n"
          ]
        },
        {
          "name": "stderr",
          "output_type": "stream",
          "text": [
            "2022-09-22 01:09:05.702684: I tensorflow/core/grappler/optimizers/custom_graph_optimizer_registry.cc:113] Plugin optimizer for device_type GPU is enabled.\n",
            "2022-09-22 01:09:05.986752: I tensorflow/core/grappler/optimizers/custom_graph_optimizer_registry.cc:113] Plugin optimizer for device_type GPU is enabled.\n",
            " 43%|████▎     | 16/37 [24:57<33:55, 96.91s/it]"
          ]
        },
        {
          "name": "stdout",
          "output_type": "stream",
          "text": [
            "\n",
            "valid_loss:  325607.625\n",
            "./aT_data/data/train/train_11.csv\n"
          ]
        },
        {
          "name": "stderr",
          "output_type": "stream",
          "text": [
            "2022-09-22 01:10:52.838268: I tensorflow/core/grappler/optimizers/custom_graph_optimizer_registry.cc:113] Plugin optimizer for device_type GPU is enabled.\n",
            "2022-09-22 01:10:53.059672: I tensorflow/core/grappler/optimizers/custom_graph_optimizer_registry.cc:113] Plugin optimizer for device_type GPU is enabled.\n",
            " 46%|████▌     | 17/37 [26:32<32:06, 96.33s/it]"
          ]
        },
        {
          "name": "stdout",
          "output_type": "stream",
          "text": [
            "\n",
            "valid_loss:  4446025.0\n",
            "./aT_data/data/train/train_0.csv\n"
          ]
        },
        {
          "name": "stderr",
          "output_type": "stream",
          "text": [
            "2022-09-22 01:12:27.844818: I tensorflow/core/grappler/optimizers/custom_graph_optimizer_registry.cc:113] Plugin optimizer for device_type GPU is enabled.\n",
            "2022-09-22 01:12:28.121652: I tensorflow/core/grappler/optimizers/custom_graph_optimizer_registry.cc:113] Plugin optimizer for device_type GPU is enabled.\n",
            " 49%|████▊     | 18/37 [28:14<31:05, 98.17s/it]"
          ]
        },
        {
          "name": "stdout",
          "output_type": "stream",
          "text": [
            "\n",
            "valid_loss:  3852172.5\n",
            "./aT_data/data/train/train_34.csv\n"
          ]
        },
        {
          "name": "stderr",
          "output_type": "stream",
          "text": [
            "2022-09-22 01:14:10.857755: I tensorflow/core/grappler/optimizers/custom_graph_optimizer_registry.cc:113] Plugin optimizer for device_type GPU is enabled.\n",
            "2022-09-22 01:14:11.109381: I tensorflow/core/grappler/optimizers/custom_graph_optimizer_registry.cc:113] Plugin optimizer for device_type GPU is enabled.\n",
            " 51%|█████▏    | 19/37 [29:53<29:30, 98.37s/it]"
          ]
        },
        {
          "name": "stdout",
          "output_type": "stream",
          "text": [
            "\n",
            "valid_loss:  4172862.5\n",
            "./aT_data/data/train/train_20.csv\n"
          ]
        },
        {
          "name": "stderr",
          "output_type": "stream",
          "text": [
            "2022-09-22 01:15:49.147942: I tensorflow/core/grappler/optimizers/custom_graph_optimizer_registry.cc:113] Plugin optimizer for device_type GPU is enabled.\n",
            "2022-09-22 01:15:49.409666: I tensorflow/core/grappler/optimizers/custom_graph_optimizer_registry.cc:113] Plugin optimizer for device_type GPU is enabled.\n",
            " 54%|█████▍    | 20/37 [31:36<28:17, 99.87s/it]"
          ]
        },
        {
          "name": "stdout",
          "output_type": "stream",
          "text": [
            "\n",
            "valid_loss:  744357.5\n",
            "./aT_data/data/train/train_21.csv\n"
          ]
        },
        {
          "name": "stderr",
          "output_type": "stream",
          "text": [
            "2022-09-22 01:17:32.505111: I tensorflow/core/grappler/optimizers/custom_graph_optimizer_registry.cc:113] Plugin optimizer for device_type GPU is enabled.\n",
            "2022-09-22 01:17:32.755647: I tensorflow/core/grappler/optimizers/custom_graph_optimizer_registry.cc:113] Plugin optimizer for device_type GPU is enabled.\n",
            " 57%|█████▋    | 21/37 [33:22<27:08, 101.76s/it]"
          ]
        },
        {
          "name": "stdout",
          "output_type": "stream",
          "text": [
            "\n",
            "valid_loss:  279906.90625\n",
            "./aT_data/data/train/train_35.csv\n"
          ]
        },
        {
          "name": "stderr",
          "output_type": "stream",
          "text": [
            "2022-09-22 01:19:18.660691: I tensorflow/core/grappler/optimizers/custom_graph_optimizer_registry.cc:113] Plugin optimizer for device_type GPU is enabled.\n",
            "2022-09-22 01:19:18.914254: I tensorflow/core/grappler/optimizers/custom_graph_optimizer_registry.cc:113] Plugin optimizer for device_type GPU is enabled.\n",
            " 59%|█████▉    | 22/37 [35:10<25:52, 103.51s/it]"
          ]
        },
        {
          "name": "stdout",
          "output_type": "stream",
          "text": [
            "\n",
            "valid_loss:  1067658.75\n",
            "./aT_data/data/train/train_23.csv\n"
          ]
        },
        {
          "name": "stderr",
          "output_type": "stream",
          "text": [
            "2022-09-22 01:21:06.260893: I tensorflow/core/grappler/optimizers/custom_graph_optimizer_registry.cc:113] Plugin optimizer for device_type GPU is enabled.\n",
            "2022-09-22 01:21:06.509265: I tensorflow/core/grappler/optimizers/custom_graph_optimizer_registry.cc:113] Plugin optimizer for device_type GPU is enabled.\n",
            " 62%|██████▏   | 23/37 [36:46<23:36, 101.15s/it]"
          ]
        },
        {
          "name": "stdout",
          "output_type": "stream",
          "text": [
            "\n",
            "valid_loss:  7181153.0\n",
            "./aT_data/data/train/train_36.csv\n"
          ]
        },
        {
          "name": "stderr",
          "output_type": "stream",
          "text": [
            "2022-09-22 01:22:41.880441: I tensorflow/core/grappler/optimizers/custom_graph_optimizer_registry.cc:113] Plugin optimizer for device_type GPU is enabled.\n",
            "2022-09-22 01:22:42.135406: I tensorflow/core/grappler/optimizers/custom_graph_optimizer_registry.cc:113] Plugin optimizer for device_type GPU is enabled.\n",
            " 65%|██████▍   | 24/37 [38:19<21:24, 98.84s/it] "
          ]
        },
        {
          "name": "stdout",
          "output_type": "stream",
          "text": [
            "\n",
            "valid_loss:  459736.25\n",
            "./aT_data/data/train/train_22.csv\n"
          ]
        },
        {
          "name": "stderr",
          "output_type": "stream",
          "text": [
            "2022-09-22 01:24:15.810035: I tensorflow/core/grappler/optimizers/custom_graph_optimizer_registry.cc:113] Plugin optimizer for device_type GPU is enabled.\n",
            "2022-09-22 01:24:16.022735: I tensorflow/core/grappler/optimizers/custom_graph_optimizer_registry.cc:113] Plugin optimizer for device_type GPU is enabled.\n",
            " 68%|██████▊   | 25/37 [39:45<18:58, 94.89s/it]"
          ]
        },
        {
          "name": "stdout",
          "output_type": "stream",
          "text": [
            "\n",
            "valid_loss:  158551.03125\n",
            "./aT_data/data/train/train_26.csv\n"
          ]
        },
        {
          "name": "stderr",
          "output_type": "stream",
          "text": [
            "2022-09-22 01:25:41.024700: I tensorflow/core/grappler/optimizers/custom_graph_optimizer_registry.cc:113] Plugin optimizer for device_type GPU is enabled.\n",
            "2022-09-22 01:25:41.287884: I tensorflow/core/grappler/optimizers/custom_graph_optimizer_registry.cc:113] Plugin optimizer for device_type GPU is enabled.\n",
            " 70%|███████   | 26/37 [41:15<17:07, 93.40s/it]"
          ]
        },
        {
          "name": "stdout",
          "output_type": "stream",
          "text": [
            "\n",
            "valid_loss:  2652659.0\n",
            "./aT_data/data/train/train_32.csv\n"
          ]
        },
        {
          "name": "stderr",
          "output_type": "stream",
          "text": [
            "2022-09-22 01:27:10.949660: I tensorflow/core/grappler/optimizers/custom_graph_optimizer_registry.cc:113] Plugin optimizer for device_type GPU is enabled.\n",
            "2022-09-22 01:27:11.222436: I tensorflow/core/grappler/optimizers/custom_graph_optimizer_registry.cc:113] Plugin optimizer for device_type GPU is enabled.\n",
            " 73%|███████▎  | 27/37 [43:00<16:10, 97.05s/it]"
          ]
        },
        {
          "name": "stdout",
          "output_type": "stream",
          "text": [
            "\n",
            "valid_loss:  2300019.5\n",
            "./aT_data/data/train/train_33.csv\n"
          ]
        },
        {
          "name": "stderr",
          "output_type": "stream",
          "text": [
            "2022-09-22 01:28:56.661193: I tensorflow/core/grappler/optimizers/custom_graph_optimizer_registry.cc:113] Plugin optimizer for device_type GPU is enabled.\n",
            "2022-09-22 01:28:56.916704: I tensorflow/core/grappler/optimizers/custom_graph_optimizer_registry.cc:113] Plugin optimizer for device_type GPU is enabled.\n",
            " 76%|███████▌  | 28/37 [44:28<14:07, 94.12s/it]"
          ]
        },
        {
          "name": "stdout",
          "output_type": "stream",
          "text": [
            "\n",
            "valid_loss:  7336653.5\n",
            "./aT_data/data/train/train_27.csv\n"
          ]
        },
        {
          "name": "stderr",
          "output_type": "stream",
          "text": [
            "2022-09-22 01:30:23.888512: I tensorflow/core/grappler/optimizers/custom_graph_optimizer_registry.cc:113] Plugin optimizer for device_type GPU is enabled.\n",
            "2022-09-22 01:30:24.139600: I tensorflow/core/grappler/optimizers/custom_graph_optimizer_registry.cc:113] Plugin optimizer for device_type GPU is enabled.\n",
            " 78%|███████▊  | 29/37 [45:54<12:15, 91.94s/it]"
          ]
        },
        {
          "name": "stdout",
          "output_type": "stream",
          "text": [
            "\n",
            "valid_loss:  9925762.0\n",
            "./aT_data/data/train/train_8.csv\n"
          ]
        },
        {
          "name": "stderr",
          "output_type": "stream",
          "text": [
            "2022-09-22 01:31:50.711262: I tensorflow/core/grappler/optimizers/custom_graph_optimizer_registry.cc:113] Plugin optimizer for device_type GPU is enabled.\n",
            "2022-09-22 01:31:50.956848: I tensorflow/core/grappler/optimizers/custom_graph_optimizer_registry.cc:113] Plugin optimizer for device_type GPU is enabled.\n",
            " 81%|████████  | 30/37 [47:20<10:29, 89.98s/it]"
          ]
        },
        {
          "name": "stdout",
          "output_type": "stream",
          "text": [
            "\n",
            "valid_loss:  3122627.0\n",
            "./aT_data/data/train/train_19.csv\n"
          ]
        },
        {
          "name": "stderr",
          "output_type": "stream",
          "text": [
            "2022-09-22 01:33:16.606592: I tensorflow/core/grappler/optimizers/custom_graph_optimizer_registry.cc:113] Plugin optimizer for device_type GPU is enabled.\n",
            "2022-09-22 01:33:16.901546: I tensorflow/core/grappler/optimizers/custom_graph_optimizer_registry.cc:113] Plugin optimizer for device_type GPU is enabled.\n",
            " 84%|████████▍ | 31/37 [48:46<08:52, 88.73s/it]"
          ]
        },
        {
          "name": "stdout",
          "output_type": "stream",
          "text": [
            "\n",
            "valid_loss:  774249.5\n",
            "./aT_data/data/train/train_31.csv\n"
          ]
        },
        {
          "name": "stderr",
          "output_type": "stream",
          "text": [
            "2022-09-22 01:34:41.874777: I tensorflow/core/grappler/optimizers/custom_graph_optimizer_registry.cc:113] Plugin optimizer for device_type GPU is enabled.\n",
            "2022-09-22 01:34:42.177752: I tensorflow/core/grappler/optimizers/custom_graph_optimizer_registry.cc:113] Plugin optimizer for device_type GPU is enabled.\n",
            " 86%|████████▋ | 32/37 [50:11<07:18, 87.63s/it]"
          ]
        },
        {
          "name": "stdout",
          "output_type": "stream",
          "text": [
            "\n",
            "valid_loss:  3944540.75\n",
            "./aT_data/data/train/train_25.csv\n"
          ]
        },
        {
          "name": "stderr",
          "output_type": "stream",
          "text": [
            "2022-09-22 01:36:06.997928: I tensorflow/core/grappler/optimizers/custom_graph_optimizer_registry.cc:113] Plugin optimizer for device_type GPU is enabled.\n",
            "2022-09-22 01:36:07.287014: I tensorflow/core/grappler/optimizers/custom_graph_optimizer_registry.cc:113] Plugin optimizer for device_type GPU is enabled.\n",
            " 89%|████████▉ | 33/37 [51:37<05:48, 87.09s/it]"
          ]
        },
        {
          "name": "stdout",
          "output_type": "stream",
          "text": [
            "\n",
            "valid_loss:  4613155.5\n",
            "./aT_data/data/train/train_24.csv\n"
          ]
        },
        {
          "name": "stderr",
          "output_type": "stream",
          "text": [
            "2022-09-22 01:37:32.754794: I tensorflow/core/grappler/optimizers/custom_graph_optimizer_registry.cc:113] Plugin optimizer for device_type GPU is enabled.\n",
            "2022-09-22 01:37:33.012011: I tensorflow/core/grappler/optimizers/custom_graph_optimizer_registry.cc:113] Plugin optimizer for device_type GPU is enabled.\n",
            " 92%|█████████▏| 34/37 [53:02<04:19, 86.48s/it]"
          ]
        },
        {
          "name": "stdout",
          "output_type": "stream",
          "text": [
            "\n",
            "valid_loss:  320961.75\n",
            "./aT_data/data/train/train_30.csv\n"
          ]
        },
        {
          "name": "stderr",
          "output_type": "stream",
          "text": [
            "2022-09-22 01:38:57.848575: I tensorflow/core/grappler/optimizers/custom_graph_optimizer_registry.cc:113] Plugin optimizer for device_type GPU is enabled.\n",
            "2022-09-22 01:38:58.101411: I tensorflow/core/grappler/optimizers/custom_graph_optimizer_registry.cc:113] Plugin optimizer for device_type GPU is enabled.\n",
            " 95%|█████████▍| 35/37 [1:12:00<13:24, 402.07s/it]"
          ]
        },
        {
          "name": "stdout",
          "output_type": "stream",
          "text": [
            "\n",
            "valid_loss:  90160.4375\n",
            "./aT_data/data/train/train_18.csv\n"
          ]
        },
        {
          "name": "stderr",
          "output_type": "stream",
          "text": [
            "2022-09-22 01:57:56.278836: I tensorflow/core/grappler/optimizers/custom_graph_optimizer_registry.cc:113] Plugin optimizer for device_type GPU is enabled.\n",
            "2022-09-22 01:57:56.567919: I tensorflow/core/grappler/optimizers/custom_graph_optimizer_registry.cc:113] Plugin optimizer for device_type GPU is enabled.\n",
            " 97%|█████████▋| 36/37 [1:46:08<14:55, 895.73s/it]"
          ]
        },
        {
          "name": "stdout",
          "output_type": "stream",
          "text": [
            "\n",
            "valid_loss:  106173592.0\n",
            "./aT_data/data/train/train_9.csv\n"
          ]
        },
        {
          "name": "stderr",
          "output_type": "stream",
          "text": [
            "2022-09-22 02:32:03.877651: I tensorflow/core/grappler/optimizers/custom_graph_optimizer_registry.cc:113] Plugin optimizer for device_type GPU is enabled.\n",
            "2022-09-22 02:32:04.138626: I tensorflow/core/grappler/optimizers/custom_graph_optimizer_registry.cc:113] Plugin optimizer for device_type GPU is enabled.\n",
            "100%|██████████| 37/37 [2:02:56<00:00, 199.36s/it]"
          ]
        },
        {
          "name": "stdout",
          "output_type": "stream",
          "text": [
            "\n",
            "valid_loss:  201084.890625\n"
          ]
        },
        {
          "name": "stderr",
          "output_type": "stream",
          "text": [
            "\n"
          ]
        }
      ],
      "source": [
        "from sklearn.preprocessing import MinMaxScaler\n",
        "\n",
        "losses = []\n",
        "scalers = {}\n",
        "\n",
        "for i in tqdm(data_list):\n",
        "    print(i)\n",
        "    df_number = i.split(\"_\")[-1].split(\".\")[0]\n",
        "    df = pd.read_csv(i)\n",
        "\n",
        "    # 사용할 열 선택 및 index 설정\n",
        "    df = feature_engineer(df)\n",
        "    df.set_index('datadate', drop=True, inplace=True)\n",
        "    \n",
        "    # nan 처리\n",
        "    df = df.replace({' ': np.nan})\n",
        "    df = df.fillna(0)\n",
        "    \n",
        "    # 변수와 타겟 분리\n",
        "    x, y = df[[i for i in df.columns if i != '해당일자_전체평균가격(원)']], df['해당일자_전체평균가격(원)']\n",
        "    scaler = MinMaxScaler()\n",
        "    x = pd.DataFrame(scaler.fit_transform(x))\n",
        "    scalers[df_number] = scaler\n",
        "\n",
        "    # 2주 입력을 통한 이후 4주 예측을 위해 y의 첫 14일을 제외\n",
        "    # y = y[14:]\n",
        "\n",
        "    # time series window 생성\n",
        "    data_x = time_window(x, 13, 1)\n",
        "    data_y = y_time_window(y, 27, 1)\n",
        "\n",
        "    # y의 길이와 같은 길이로 설정\n",
        "    xdata = data_x[:len(data_y)]\n",
        "    ydata = data_y\n",
        "    \n",
        "    # train, validation 분리 (8 : 2)\n",
        "    x_train, x_val, y_train, y_val = train_test_split(xdata, ydata, test_size=0.2, shuffle=False, random_state=119)\n",
        "\n",
        "    # transformer 모델 훈련\n",
        "    transformer = train(astype_data(x_train), y_train, astype_data(x_val), y_val, f'transformer-{df_number}', epoch,\n",
        "                        batch, learning_rate = 0.002, verbose = 0)\n",
        "    \n",
        "    transformer.load_weights(f'./check/transformer-{df_number}-{epoch}-{batch}.h5')\n",
        "    loss = transformer.evaluate(astype_data(x_val), y_val, verbose=0)\n",
        "    print('\\nvalid_loss: ', loss)\n",
        "    losses.append(loss)\n",
        "\n",
        "    if os.path.exists(f'./model') == False:\n",
        "        os.mkdir(f'./model')\n",
        "\n",
        "    # 모델 저장\n",
        "    transformer.save(f'./model/transformer-{df_number}-{epoch}-{batch}.h5')"
      ]
    },
    {
      "cell_type": "code",
      "execution_count": 11,
      "metadata": {
        "id": "AGBSWYe-Nno-"
      },
      "outputs": [
        {
          "data": {
            "text/plain": [
              "[1006770.5625,\n",
              " 529000.6875,\n",
              " 289105.21875,\n",
              " 73780.0703125,\n",
              " 23475406.0,\n",
              " 4440080.0,\n",
              " 5304746.5,\n",
              " 2451664.75,\n",
              " 1897049.0,\n",
              " 71059784.0,\n",
              " 1064347.25,\n",
              " 1025612.9375,\n",
              " 947423.5625,\n",
              " 1849428.375,\n",
              " 206623.59375,\n",
              " 325607.625,\n",
              " 4446025.0,\n",
              " 3852172.5,\n",
              " 4172862.5,\n",
              " 744357.5,\n",
              " 279906.90625,\n",
              " 1067658.75,\n",
              " 7181153.0,\n",
              " 459736.25,\n",
              " 158551.03125,\n",
              " 2652659.0,\n",
              " 2300019.5,\n",
              " 7336653.5,\n",
              " 9925762.0,\n",
              " 3122627.0,\n",
              " 774249.5,\n",
              " 3944540.75,\n",
              " 4613155.5,\n",
              " 320961.75,\n",
              " 90160.4375,\n",
              " 106173592.0,\n",
              " 201084.890625]"
            ]
          },
          "execution_count": 11,
          "metadata": {},
          "output_type": "execute_result"
        }
      ],
      "source": [
        "losses"
      ]
    },
    {
      "cell_type": "markdown",
      "metadata": {
        "id": "mgp2nVPxJ8fR"
      },
      "source": [
        "&nbsp;"
      ]
    },
    {
      "cell_type": "markdown",
      "metadata": {
        "id": "pNikiLNgJ8fT"
      },
      "source": [
        "## Test 과정"
      ]
    },
    {
      "cell_type": "code",
      "execution_count": 12,
      "metadata": {
        "id": "CiWO0A8xJ8fU"
      },
      "outputs": [
        {
          "name": "stderr",
          "output_type": "stream",
          "text": [
            "  0%|          | 0/10 [00:00<?, ?it/s]2022-09-22 02:48:52.448534: I tensorflow/core/grappler/optimizers/custom_graph_optimizer_registry.cc:113] Plugin optimizer for device_type GPU is enabled.\n"
          ]
        },
        {
          "name": "stdout",
          "output_type": "stream",
          "text": [
            "1/1 [==============================] - 0s 347ms/step\n",
            "1/1 [==============================] - 0s 31ms/step\n",
            "1/1 [==============================] - 0s 32ms/step\n"
          ]
        },
        {
          "name": "stderr",
          "output_type": "stream",
          "text": [
            "2022-09-22 02:48:52.854053: I tensorflow/core/grappler/optimizers/custom_graph_optimizer_registry.cc:113] Plugin optimizer for device_type GPU is enabled.\n",
            "2022-09-22 02:48:52.944269: I tensorflow/core/grappler/optimizers/custom_graph_optimizer_registry.cc:113] Plugin optimizer for device_type GPU is enabled.\n",
            "2022-09-22 02:48:53.037633: I tensorflow/core/grappler/optimizers/custom_graph_optimizer_registry.cc:113] Plugin optimizer for device_type GPU is enabled.\n"
          ]
        },
        {
          "name": "stdout",
          "output_type": "stream",
          "text": [
            "1/1 [==============================] - 0s 35ms/step\n",
            "WARNING:tensorflow:5 out of the last 5 calls to <function Model.make_predict_function.<locals>.predict_function at 0x1655da320> triggered tf.function retracing. Tracing is expensive and the excessive number of tracings could be due to (1) creating @tf.function repeatedly in a loop, (2) passing tensors with different shapes, (3) passing Python objects instead of tensors. For (1), please define your @tf.function outside of the loop. For (2), @tf.function has reduce_retracing=True option that can avoid unnecessary retracing. For (3), please refer to https://www.tensorflow.org/guide/function#controlling_retracing and https://www.tensorflow.org/api_docs/python/tf/function for  more details.\n",
            "1/1 [==============================] - 0s 34ms/step\n",
            "WARNING:tensorflow:6 out of the last 6 calls to <function Model.make_predict_function.<locals>.predict_function at 0x1655d96c0> triggered tf.function retracing. Tracing is expensive and the excessive number of tracings could be due to (1) creating @tf.function repeatedly in a loop, (2) passing tensors with different shapes, (3) passing Python objects instead of tensors. For (1), please define your @tf.function outside of the loop. For (2), @tf.function has reduce_retracing=True option that can avoid unnecessary retracing. For (3), please refer to https://www.tensorflow.org/guide/function#controlling_retracing and https://www.tensorflow.org/api_docs/python/tf/function for  more details.\n",
            "1/1 [==============================] - 0s 34ms/step\n"
          ]
        },
        {
          "name": "stderr",
          "output_type": "stream",
          "text": [
            "2022-09-22 02:48:53.137724: I tensorflow/core/grappler/optimizers/custom_graph_optimizer_registry.cc:113] Plugin optimizer for device_type GPU is enabled.\n",
            "2022-09-22 02:48:53.227986: I tensorflow/core/grappler/optimizers/custom_graph_optimizer_registry.cc:113] Plugin optimizer for device_type GPU is enabled.\n",
            "2022-09-22 02:48:53.325306: I tensorflow/core/grappler/optimizers/custom_graph_optimizer_registry.cc:113] Plugin optimizer for device_type GPU is enabled.\n"
          ]
        },
        {
          "name": "stdout",
          "output_type": "stream",
          "text": [
            "1/1 [==============================] - 0s 31ms/step\n",
            "1/1 [==============================] - 0s 30ms/step\n",
            "1/1 [==============================] - 0s 31ms/step\n",
            "1/1 [==============================] - 0s 33ms/step\n"
          ]
        },
        {
          "name": "stderr",
          "output_type": "stream",
          "text": [
            "2022-09-22 02:48:53.417094: I tensorflow/core/grappler/optimizers/custom_graph_optimizer_registry.cc:113] Plugin optimizer for device_type GPU is enabled.\n",
            "2022-09-22 02:48:53.506765: I tensorflow/core/grappler/optimizers/custom_graph_optimizer_registry.cc:113] Plugin optimizer for device_type GPU is enabled.\n",
            "2022-09-22 02:48:53.600664: I tensorflow/core/grappler/optimizers/custom_graph_optimizer_registry.cc:113] Plugin optimizer for device_type GPU is enabled.\n"
          ]
        },
        {
          "name": "stdout",
          "output_type": "stream",
          "text": [
            "1/1 [==============================] - 0s 28ms/step\n",
            "1/1 [==============================] - 0s 26ms/step\n",
            "1/1 [==============================] - 0s 28ms/step\n"
          ]
        },
        {
          "name": "stderr",
          "output_type": "stream",
          "text": [
            "2022-09-22 02:48:53.684946: I tensorflow/core/grappler/optimizers/custom_graph_optimizer_registry.cc:113] Plugin optimizer for device_type GPU is enabled.\n",
            "2022-09-22 02:48:53.764396: I tensorflow/core/grappler/optimizers/custom_graph_optimizer_registry.cc:113] Plugin optimizer for device_type GPU is enabled.\n",
            "2022-09-22 02:48:53.846275: I tensorflow/core/grappler/optimizers/custom_graph_optimizer_registry.cc:113] Plugin optimizer for device_type GPU is enabled.\n"
          ]
        },
        {
          "name": "stdout",
          "output_type": "stream",
          "text": [
            "1/1 [==============================] - 0s 28ms/step\n",
            "1/1 [==============================] - 0s 26ms/step\n",
            "1/1 [==============================] - 0s 35ms/step\n"
          ]
        },
        {
          "name": "stderr",
          "output_type": "stream",
          "text": [
            "2022-09-22 02:48:53.937099: I tensorflow/core/grappler/optimizers/custom_graph_optimizer_registry.cc:113] Plugin optimizer for device_type GPU is enabled.\n",
            "2022-09-22 02:48:54.015525: I tensorflow/core/grappler/optimizers/custom_graph_optimizer_registry.cc:113] Plugin optimizer for device_type GPU is enabled.\n",
            "2022-09-22 02:48:54.103478: I tensorflow/core/grappler/optimizers/custom_graph_optimizer_registry.cc:113] Plugin optimizer for device_type GPU is enabled.\n"
          ]
        },
        {
          "name": "stdout",
          "output_type": "stream",
          "text": [
            "1/1 [==============================] - 0s 30ms/step\n",
            "1/1 [==============================] - 0s 26ms/step\n",
            "1/1 [==============================] - 0s 25ms/step\n"
          ]
        },
        {
          "name": "stderr",
          "output_type": "stream",
          "text": [
            "2022-09-22 02:48:54.192299: I tensorflow/core/grappler/optimizers/custom_graph_optimizer_registry.cc:113] Plugin optimizer for device_type GPU is enabled.\n",
            "2022-09-22 02:48:54.270978: I tensorflow/core/grappler/optimizers/custom_graph_optimizer_registry.cc:113] Plugin optimizer for device_type GPU is enabled.\n",
            "2022-09-22 02:48:54.348917: I tensorflow/core/grappler/optimizers/custom_graph_optimizer_registry.cc:113] Plugin optimizer for device_type GPU is enabled.\n"
          ]
        },
        {
          "name": "stdout",
          "output_type": "stream",
          "text": [
            "1/1 [==============================] - 0s 27ms/step\n",
            "1/1 [==============================] - 0s 27ms/step\n",
            "1/1 [==============================] - 0s 28ms/step\n"
          ]
        },
        {
          "name": "stderr",
          "output_type": "stream",
          "text": [
            "2022-09-22 02:48:54.427938: I tensorflow/core/grappler/optimizers/custom_graph_optimizer_registry.cc:113] Plugin optimizer for device_type GPU is enabled.\n",
            "2022-09-22 02:48:54.510007: I tensorflow/core/grappler/optimizers/custom_graph_optimizer_registry.cc:113] Plugin optimizer for device_type GPU is enabled.\n",
            "2022-09-22 02:48:54.589304: I tensorflow/core/grappler/optimizers/custom_graph_optimizer_registry.cc:113] Plugin optimizer for device_type GPU is enabled.\n"
          ]
        },
        {
          "name": "stdout",
          "output_type": "stream",
          "text": [
            "1/1 [==============================] - 0s 28ms/step\n",
            "1/1 [==============================] - 0s 32ms/step\n",
            "1/1 [==============================] - 0s 26ms/step\n"
          ]
        },
        {
          "name": "stderr",
          "output_type": "stream",
          "text": [
            "2022-09-22 02:48:54.691432: I tensorflow/core/grappler/optimizers/custom_graph_optimizer_registry.cc:113] Plugin optimizer for device_type GPU is enabled.\n",
            "2022-09-22 02:48:54.773901: I tensorflow/core/grappler/optimizers/custom_graph_optimizer_registry.cc:113] Plugin optimizer for device_type GPU is enabled.\n",
            "2022-09-22 02:48:54.855988: I tensorflow/core/grappler/optimizers/custom_graph_optimizer_registry.cc:113] Plugin optimizer for device_type GPU is enabled.\n"
          ]
        },
        {
          "name": "stdout",
          "output_type": "stream",
          "text": [
            "1/1 [==============================] - 0s 26ms/step\n",
            "1/1 [==============================] - 0s 28ms/step\n",
            "1/1 [==============================] - 0s 26ms/step\n"
          ]
        },
        {
          "name": "stderr",
          "output_type": "stream",
          "text": [
            "2022-09-22 02:48:54.933331: I tensorflow/core/grappler/optimizers/custom_graph_optimizer_registry.cc:113] Plugin optimizer for device_type GPU is enabled.\n",
            "2022-09-22 02:48:55.012607: I tensorflow/core/grappler/optimizers/custom_graph_optimizer_registry.cc:113] Plugin optimizer for device_type GPU is enabled.\n",
            "2022-09-22 02:48:55.089220: I tensorflow/core/grappler/optimizers/custom_graph_optimizer_registry.cc:113] Plugin optimizer for device_type GPU is enabled.\n"
          ]
        },
        {
          "name": "stdout",
          "output_type": "stream",
          "text": [
            "1/1 [==============================] - 0s 28ms/step\n",
            "1/1 [==============================] - 0s 26ms/step\n",
            "1/1 [==============================] - 0s 30ms/step\n"
          ]
        },
        {
          "name": "stderr",
          "output_type": "stream",
          "text": [
            "2022-09-22 02:48:55.172879: I tensorflow/core/grappler/optimizers/custom_graph_optimizer_registry.cc:113] Plugin optimizer for device_type GPU is enabled.\n",
            "2022-09-22 02:48:55.251522: I tensorflow/core/grappler/optimizers/custom_graph_optimizer_registry.cc:113] Plugin optimizer for device_type GPU is enabled.\n",
            "2022-09-22 02:48:55.335548: I tensorflow/core/grappler/optimizers/custom_graph_optimizer_registry.cc:113] Plugin optimizer for device_type GPU is enabled.\n"
          ]
        },
        {
          "name": "stdout",
          "output_type": "stream",
          "text": [
            "1/1 [==============================] - 0s 26ms/step\n",
            "1/1 [==============================] - 0s 28ms/step\n",
            "1/1 [==============================] - 0s 30ms/step\n"
          ]
        },
        {
          "name": "stderr",
          "output_type": "stream",
          "text": [
            "2022-09-22 02:48:55.418644: I tensorflow/core/grappler/optimizers/custom_graph_optimizer_registry.cc:113] Plugin optimizer for device_type GPU is enabled.\n",
            "2022-09-22 02:48:55.497410: I tensorflow/core/grappler/optimizers/custom_graph_optimizer_registry.cc:113] Plugin optimizer for device_type GPU is enabled.\n",
            "2022-09-22 02:48:55.578803: I tensorflow/core/grappler/optimizers/custom_graph_optimizer_registry.cc:113] Plugin optimizer for device_type GPU is enabled.\n"
          ]
        },
        {
          "name": "stdout",
          "output_type": "stream",
          "text": [
            "1/1 [==============================] - 0s 27ms/step\n",
            "1/1 [==============================] - 0s 29ms/step\n",
            "1/1 [==============================] - 0s 26ms/step\n"
          ]
        },
        {
          "name": "stderr",
          "output_type": "stream",
          "text": [
            "2022-09-22 02:48:55.658903: I tensorflow/core/grappler/optimizers/custom_graph_optimizer_registry.cc:113] Plugin optimizer for device_type GPU is enabled.\n",
            "2022-09-22 02:48:55.742474: I tensorflow/core/grappler/optimizers/custom_graph_optimizer_registry.cc:113] Plugin optimizer for device_type GPU is enabled.\n",
            "2022-09-22 02:48:55.824320: I tensorflow/core/grappler/optimizers/custom_graph_optimizer_registry.cc:113] Plugin optimizer for device_type GPU is enabled.\n",
            " 10%|█         | 1/10 [00:04<00:38,  4.28s/it]"
          ]
        },
        {
          "name": "stdout",
          "output_type": "stream",
          "text": [
            "1/1 [==============================] - 0s 26ms/step\n",
            "1/1 [==============================] - 0s 27ms/step\n",
            "1/1 [==============================] - 0s 26ms/step\n"
          ]
        },
        {
          "name": "stderr",
          "output_type": "stream",
          "text": [
            "2022-09-22 02:48:55.904006: I tensorflow/core/grappler/optimizers/custom_graph_optimizer_registry.cc:113] Plugin optimizer for device_type GPU is enabled.\n",
            "2022-09-22 02:48:55.982189: I tensorflow/core/grappler/optimizers/custom_graph_optimizer_registry.cc:113] Plugin optimizer for device_type GPU is enabled.\n",
            "2022-09-22 02:48:56.058261: I tensorflow/core/grappler/optimizers/custom_graph_optimizer_registry.cc:113] Plugin optimizer for device_type GPU is enabled.\n"
          ]
        },
        {
          "name": "stdout",
          "output_type": "stream",
          "text": [
            "1/1 [==============================] - 0s 29ms/step\n",
            "1/1 [==============================] - 0s 26ms/step\n",
            "1/1 [==============================] - 0s 28ms/step\n"
          ]
        },
        {
          "name": "stderr",
          "output_type": "stream",
          "text": [
            "2022-09-22 02:48:56.139448: I tensorflow/core/grappler/optimizers/custom_graph_optimizer_registry.cc:113] Plugin optimizer for device_type GPU is enabled.\n",
            "2022-09-22 02:48:56.219895: I tensorflow/core/grappler/optimizers/custom_graph_optimizer_registry.cc:113] Plugin optimizer for device_type GPU is enabled.\n",
            "2022-09-22 02:48:56.297576: I tensorflow/core/grappler/optimizers/custom_graph_optimizer_registry.cc:113] Plugin optimizer for device_type GPU is enabled.\n"
          ]
        },
        {
          "name": "stdout",
          "output_type": "stream",
          "text": [
            "1/1 [==============================] - 0s 28ms/step\n",
            "1/1 [==============================] - 0s 30ms/step\n",
            "1/1 [==============================] - 0s 36ms/step\n"
          ]
        },
        {
          "name": "stderr",
          "output_type": "stream",
          "text": [
            "2022-09-22 02:48:56.380461: I tensorflow/core/grappler/optimizers/custom_graph_optimizer_registry.cc:113] Plugin optimizer for device_type GPU is enabled.\n",
            "2022-09-22 02:48:56.470191: I tensorflow/core/grappler/optimizers/custom_graph_optimizer_registry.cc:113] Plugin optimizer for device_type GPU is enabled.\n",
            "2022-09-22 02:48:56.558792: I tensorflow/core/grappler/optimizers/custom_graph_optimizer_registry.cc:113] Plugin optimizer for device_type GPU is enabled.\n"
          ]
        },
        {
          "name": "stdout",
          "output_type": "stream",
          "text": [
            "1/1 [==============================] - 0s 31ms/step\n",
            "1/1 [==============================] - 0s 33ms/step\n",
            "1/1 [==============================] - 0s 33ms/step\n"
          ]
        },
        {
          "name": "stderr",
          "output_type": "stream",
          "text": [
            "2022-09-22 02:48:56.657039: I tensorflow/core/grappler/optimizers/custom_graph_optimizer_registry.cc:113] Plugin optimizer for device_type GPU is enabled.\n",
            "2022-09-22 02:48:56.745630: I tensorflow/core/grappler/optimizers/custom_graph_optimizer_registry.cc:113] Plugin optimizer for device_type GPU is enabled.\n",
            "2022-09-22 02:48:56.834311: I tensorflow/core/grappler/optimizers/custom_graph_optimizer_registry.cc:113] Plugin optimizer for device_type GPU is enabled.\n"
          ]
        },
        {
          "name": "stdout",
          "output_type": "stream",
          "text": [
            "1/1 [==============================] - 0s 33ms/step\n",
            "1/1 [==============================] - 0s 30ms/step\n",
            "1/1 [==============================] - 0s 28ms/step\n"
          ]
        },
        {
          "name": "stderr",
          "output_type": "stream",
          "text": [
            "2022-09-22 02:48:56.930103: I tensorflow/core/grappler/optimizers/custom_graph_optimizer_registry.cc:113] Plugin optimizer for device_type GPU is enabled.\n",
            "2022-09-22 02:48:57.022436: I tensorflow/core/grappler/optimizers/custom_graph_optimizer_registry.cc:113] Plugin optimizer for device_type GPU is enabled.\n",
            "2022-09-22 02:48:57.100590: I tensorflow/core/grappler/optimizers/custom_graph_optimizer_registry.cc:113] Plugin optimizer for device_type GPU is enabled.\n"
          ]
        },
        {
          "name": "stdout",
          "output_type": "stream",
          "text": [
            "1/1 [==============================] - 0s 27ms/step\n",
            "1/1 [==============================] - 0s 28ms/step\n",
            "1/1 [==============================] - 0s 28ms/step\n"
          ]
        },
        {
          "name": "stderr",
          "output_type": "stream",
          "text": [
            "2022-09-22 02:48:57.181655: I tensorflow/core/grappler/optimizers/custom_graph_optimizer_registry.cc:113] Plugin optimizer for device_type GPU is enabled.\n",
            "2022-09-22 02:48:57.259296: I tensorflow/core/grappler/optimizers/custom_graph_optimizer_registry.cc:113] Plugin optimizer for device_type GPU is enabled.\n",
            "2022-09-22 02:48:57.341811: I tensorflow/core/grappler/optimizers/custom_graph_optimizer_registry.cc:113] Plugin optimizer for device_type GPU is enabled.\n"
          ]
        },
        {
          "name": "stdout",
          "output_type": "stream",
          "text": [
            "1/1 [==============================] - 0s 28ms/step\n",
            "1/1 [==============================] - 0s 27ms/step\n",
            "1/1 [==============================] - 0s 30ms/step\n"
          ]
        },
        {
          "name": "stderr",
          "output_type": "stream",
          "text": [
            "2022-09-22 02:48:57.421991: I tensorflow/core/grappler/optimizers/custom_graph_optimizer_registry.cc:113] Plugin optimizer for device_type GPU is enabled.\n",
            "2022-09-22 02:48:57.502291: I tensorflow/core/grappler/optimizers/custom_graph_optimizer_registry.cc:113] Plugin optimizer for device_type GPU is enabled.\n",
            "2022-09-22 02:48:57.582365: I tensorflow/core/grappler/optimizers/custom_graph_optimizer_registry.cc:113] Plugin optimizer for device_type GPU is enabled.\n"
          ]
        },
        {
          "name": "stdout",
          "output_type": "stream",
          "text": [
            "1/1 [==============================] - 0s 27ms/step\n",
            "1/1 [==============================] - 0s 27ms/step\n",
            "1/1 [==============================] - 0s 27ms/step\n"
          ]
        },
        {
          "name": "stderr",
          "output_type": "stream",
          "text": [
            "2022-09-22 02:48:57.661085: I tensorflow/core/grappler/optimizers/custom_graph_optimizer_registry.cc:113] Plugin optimizer for device_type GPU is enabled.\n",
            "2022-09-22 02:48:57.740119: I tensorflow/core/grappler/optimizers/custom_graph_optimizer_registry.cc:113] Plugin optimizer for device_type GPU is enabled.\n",
            "2022-09-22 02:48:57.817089: I tensorflow/core/grappler/optimizers/custom_graph_optimizer_registry.cc:113] Plugin optimizer for device_type GPU is enabled.\n"
          ]
        },
        {
          "name": "stdout",
          "output_type": "stream",
          "text": [
            "1/1 [==============================] - 0s 27ms/step\n",
            "1/1 [==============================] - 0s 32ms/step\n"
          ]
        },
        {
          "name": "stderr",
          "output_type": "stream",
          "text": [
            "2022-09-22 02:48:57.895663: I tensorflow/core/grappler/optimizers/custom_graph_optimizer_registry.cc:113] Plugin optimizer for device_type GPU is enabled.\n",
            "2022-09-22 02:48:57.975604: I tensorflow/core/grappler/optimizers/custom_graph_optimizer_registry.cc:113] Plugin optimizer for device_type GPU is enabled.\n"
          ]
        },
        {
          "name": "stdout",
          "output_type": "stream",
          "text": [
            "1/1 [==============================] - 0s 29ms/step\n",
            "1/1 [==============================] - 0s 27ms/step\n",
            "1/1 [==============================] - 0s 27ms/step\n"
          ]
        },
        {
          "name": "stderr",
          "output_type": "stream",
          "text": [
            "2022-09-22 02:48:58.472578: I tensorflow/core/grappler/optimizers/custom_graph_optimizer_registry.cc:113] Plugin optimizer for device_type GPU is enabled.\n",
            "2022-09-22 02:48:58.555497: I tensorflow/core/grappler/optimizers/custom_graph_optimizer_registry.cc:113] Plugin optimizer for device_type GPU is enabled.\n",
            "2022-09-22 02:48:58.631927: I tensorflow/core/grappler/optimizers/custom_graph_optimizer_registry.cc:113] Plugin optimizer for device_type GPU is enabled.\n"
          ]
        },
        {
          "name": "stdout",
          "output_type": "stream",
          "text": [
            "1/1 [==============================] - 0s 27ms/step\n",
            "1/1 [==============================] - 0s 27ms/step\n",
            "1/1 [==============================] - 0s 27ms/step\n"
          ]
        },
        {
          "name": "stderr",
          "output_type": "stream",
          "text": [
            "2022-09-22 02:48:58.711459: I tensorflow/core/grappler/optimizers/custom_graph_optimizer_registry.cc:113] Plugin optimizer for device_type GPU is enabled.\n",
            "2022-09-22 02:48:58.791100: I tensorflow/core/grappler/optimizers/custom_graph_optimizer_registry.cc:113] Plugin optimizer for device_type GPU is enabled.\n",
            "2022-09-22 02:48:58.869166: I tensorflow/core/grappler/optimizers/custom_graph_optimizer_registry.cc:113] Plugin optimizer for device_type GPU is enabled.\n"
          ]
        },
        {
          "name": "stdout",
          "output_type": "stream",
          "text": [
            "1/1 [==============================] - 0s 27ms/step\n",
            "1/1 [==============================] - 0s 28ms/step\n",
            "1/1 [==============================] - 0s 27ms/step\n"
          ]
        },
        {
          "name": "stderr",
          "output_type": "stream",
          "text": [
            "2022-09-22 02:48:58.947307: I tensorflow/core/grappler/optimizers/custom_graph_optimizer_registry.cc:113] Plugin optimizer for device_type GPU is enabled.\n",
            "2022-09-22 02:48:59.026119: I tensorflow/core/grappler/optimizers/custom_graph_optimizer_registry.cc:113] Plugin optimizer for device_type GPU is enabled.\n",
            "2022-09-22 02:48:59.106592: I tensorflow/core/grappler/optimizers/custom_graph_optimizer_registry.cc:113] Plugin optimizer for device_type GPU is enabled.\n"
          ]
        },
        {
          "name": "stdout",
          "output_type": "stream",
          "text": [
            "1/1 [==============================] - 0s 34ms/step\n",
            "1/1 [==============================] - 0s 28ms/step\n"
          ]
        },
        {
          "name": "stderr",
          "output_type": "stream",
          "text": [
            "2022-09-22 02:48:59.187782: I tensorflow/core/grappler/optimizers/custom_graph_optimizer_registry.cc:113] Plugin optimizer for device_type GPU is enabled.\n",
            "2022-09-22 02:48:59.290496: I tensorflow/core/grappler/optimizers/custom_graph_optimizer_registry.cc:113] Plugin optimizer for device_type GPU is enabled.\n",
            " 20%|██        | 2/10 [00:07<00:30,  3.80s/it]"
          ]
        },
        {
          "name": "stdout",
          "output_type": "stream",
          "text": [
            "1/1 [==============================] - 0s 28ms/step\n"
          ]
        },
        {
          "name": "stderr",
          "output_type": "stream",
          "text": [
            "2022-09-22 02:48:59.369926: I tensorflow/core/grappler/optimizers/custom_graph_optimizer_registry.cc:113] Plugin optimizer for device_type GPU is enabled.\n"
          ]
        },
        {
          "name": "stdout",
          "output_type": "stream",
          "text": [
            "1/1 [==============================] - 0s 28ms/step\n",
            "1/1 [==============================] - 0s 28ms/step\n"
          ]
        },
        {
          "name": "stderr",
          "output_type": "stream",
          "text": [
            "2022-09-22 02:48:59.450375: I tensorflow/core/grappler/optimizers/custom_graph_optimizer_registry.cc:113] Plugin optimizer for device_type GPU is enabled.\n",
            "2022-09-22 02:48:59.529156: I tensorflow/core/grappler/optimizers/custom_graph_optimizer_registry.cc:113] Plugin optimizer for device_type GPU is enabled.\n"
          ]
        },
        {
          "name": "stdout",
          "output_type": "stream",
          "text": [
            "1/1 [==============================] - 0s 27ms/step\n"
          ]
        },
        {
          "name": "stderr",
          "output_type": "stream",
          "text": [
            "2022-09-22 02:48:59.608624: I tensorflow/core/grappler/optimizers/custom_graph_optimizer_registry.cc:113] Plugin optimizer for device_type GPU is enabled.\n"
          ]
        },
        {
          "name": "stdout",
          "output_type": "stream",
          "text": [
            "1/1 [==============================] - 0s 29ms/step\n",
            "1/1 [==============================] - 0s 26ms/step\n"
          ]
        },
        {
          "name": "stderr",
          "output_type": "stream",
          "text": [
            "2022-09-22 02:48:59.689705: I tensorflow/core/grappler/optimizers/custom_graph_optimizer_registry.cc:113] Plugin optimizer for device_type GPU is enabled.\n",
            "2022-09-22 02:48:59.766545: I tensorflow/core/grappler/optimizers/custom_graph_optimizer_registry.cc:113] Plugin optimizer for device_type GPU is enabled.\n"
          ]
        },
        {
          "name": "stdout",
          "output_type": "stream",
          "text": [
            "1/1 [==============================] - 0s 29ms/step\n"
          ]
        },
        {
          "name": "stderr",
          "output_type": "stream",
          "text": [
            "2022-09-22 02:48:59.847514: I tensorflow/core/grappler/optimizers/custom_graph_optimizer_registry.cc:113] Plugin optimizer for device_type GPU is enabled.\n"
          ]
        },
        {
          "name": "stdout",
          "output_type": "stream",
          "text": [
            "1/1 [==============================] - 0s 30ms/step\n",
            "1/1 [==============================] - 0s 32ms/step\n"
          ]
        },
        {
          "name": "stderr",
          "output_type": "stream",
          "text": [
            "2022-09-22 02:48:59.931724: I tensorflow/core/grappler/optimizers/custom_graph_optimizer_registry.cc:113] Plugin optimizer for device_type GPU is enabled.\n",
            "2022-09-22 02:49:00.019627: I tensorflow/core/grappler/optimizers/custom_graph_optimizer_registry.cc:113] Plugin optimizer for device_type GPU is enabled.\n"
          ]
        },
        {
          "name": "stdout",
          "output_type": "stream",
          "text": [
            "1/1 [==============================] - 0s 34ms/step\n"
          ]
        },
        {
          "name": "stderr",
          "output_type": "stream",
          "text": [
            "2022-09-22 02:49:00.115397: I tensorflow/core/grappler/optimizers/custom_graph_optimizer_registry.cc:113] Plugin optimizer for device_type GPU is enabled.\n"
          ]
        },
        {
          "name": "stdout",
          "output_type": "stream",
          "text": [
            "1/1 [==============================] - 0s 34ms/step\n"
          ]
        },
        {
          "name": "stderr",
          "output_type": "stream",
          "text": [
            "2022-09-22 02:49:00.209628: I tensorflow/core/grappler/optimizers/custom_graph_optimizer_registry.cc:113] Plugin optimizer for device_type GPU is enabled.\n"
          ]
        },
        {
          "name": "stdout",
          "output_type": "stream",
          "text": [
            "1/1 [==============================] - 0s 31ms/step\n"
          ]
        },
        {
          "name": "stderr",
          "output_type": "stream",
          "text": [
            "2022-09-22 02:49:00.340764: I tensorflow/core/grappler/optimizers/custom_graph_optimizer_registry.cc:113] Plugin optimizer for device_type GPU is enabled.\n"
          ]
        },
        {
          "name": "stdout",
          "output_type": "stream",
          "text": [
            "1/1 [==============================] - 0s 31ms/step\n",
            "1/1 [==============================] - 0s 27ms/step\n"
          ]
        },
        {
          "name": "stderr",
          "output_type": "stream",
          "text": [
            "2022-09-22 02:49:00.432129: I tensorflow/core/grappler/optimizers/custom_graph_optimizer_registry.cc:113] Plugin optimizer for device_type GPU is enabled.\n",
            "2022-09-22 02:49:00.515555: I tensorflow/core/grappler/optimizers/custom_graph_optimizer_registry.cc:113] Plugin optimizer for device_type GPU is enabled.\n"
          ]
        },
        {
          "name": "stdout",
          "output_type": "stream",
          "text": [
            "1/1 [==============================] - 0s 30ms/step\n"
          ]
        },
        {
          "name": "stderr",
          "output_type": "stream",
          "text": [
            "2022-09-22 02:49:00.596545: I tensorflow/core/grappler/optimizers/custom_graph_optimizer_registry.cc:113] Plugin optimizer for device_type GPU is enabled.\n"
          ]
        },
        {
          "name": "stdout",
          "output_type": "stream",
          "text": [
            "1/1 [==============================] - 0s 28ms/step\n",
            "1/1 [==============================] - 0s 27ms/step\n"
          ]
        },
        {
          "name": "stderr",
          "output_type": "stream",
          "text": [
            "2022-09-22 02:49:00.678566: I tensorflow/core/grappler/optimizers/custom_graph_optimizer_registry.cc:113] Plugin optimizer for device_type GPU is enabled.\n",
            "2022-09-22 02:49:00.759632: I tensorflow/core/grappler/optimizers/custom_graph_optimizer_registry.cc:113] Plugin optimizer for device_type GPU is enabled.\n"
          ]
        },
        {
          "name": "stdout",
          "output_type": "stream",
          "text": [
            "1/1 [==============================] - 0s 27ms/step\n"
          ]
        },
        {
          "name": "stderr",
          "output_type": "stream",
          "text": [
            "2022-09-22 02:49:00.838929: I tensorflow/core/grappler/optimizers/custom_graph_optimizer_registry.cc:113] Plugin optimizer for device_type GPU is enabled.\n"
          ]
        },
        {
          "name": "stdout",
          "output_type": "stream",
          "text": [
            "1/1 [==============================] - 0s 28ms/step\n",
            "1/1 [==============================] - 0s 28ms/step\n"
          ]
        },
        {
          "name": "stderr",
          "output_type": "stream",
          "text": [
            "2022-09-22 02:49:00.918677: I tensorflow/core/grappler/optimizers/custom_graph_optimizer_registry.cc:113] Plugin optimizer for device_type GPU is enabled.\n",
            "2022-09-22 02:49:00.997414: I tensorflow/core/grappler/optimizers/custom_graph_optimizer_registry.cc:113] Plugin optimizer for device_type GPU is enabled.\n"
          ]
        },
        {
          "name": "stdout",
          "output_type": "stream",
          "text": [
            "1/1 [==============================] - 0s 28ms/step\n"
          ]
        },
        {
          "name": "stderr",
          "output_type": "stream",
          "text": [
            "2022-09-22 02:49:01.077937: I tensorflow/core/grappler/optimizers/custom_graph_optimizer_registry.cc:113] Plugin optimizer for device_type GPU is enabled.\n"
          ]
        },
        {
          "name": "stdout",
          "output_type": "stream",
          "text": [
            "1/1 [==============================] - 0s 30ms/step\n",
            "1/1 [==============================] - 0s 29ms/step\n"
          ]
        },
        {
          "name": "stderr",
          "output_type": "stream",
          "text": [
            "2022-09-22 02:49:01.159154: I tensorflow/core/grappler/optimizers/custom_graph_optimizer_registry.cc:113] Plugin optimizer for device_type GPU is enabled.\n",
            "2022-09-22 02:49:01.238381: I tensorflow/core/grappler/optimizers/custom_graph_optimizer_registry.cc:113] Plugin optimizer for device_type GPU is enabled.\n"
          ]
        },
        {
          "name": "stdout",
          "output_type": "stream",
          "text": [
            "1/1 [==============================] - 0s 30ms/step\n"
          ]
        },
        {
          "name": "stderr",
          "output_type": "stream",
          "text": [
            "2022-09-22 02:49:01.325975: I tensorflow/core/grappler/optimizers/custom_graph_optimizer_registry.cc:113] Plugin optimizer for device_type GPU is enabled.\n"
          ]
        },
        {
          "name": "stdout",
          "output_type": "stream",
          "text": [
            "1/1 [==============================] - 0s 29ms/step\n",
            "1/1 [==============================] - 0s 27ms/step\n"
          ]
        },
        {
          "name": "stderr",
          "output_type": "stream",
          "text": [
            "2022-09-22 02:49:01.406674: I tensorflow/core/grappler/optimizers/custom_graph_optimizer_registry.cc:113] Plugin optimizer for device_type GPU is enabled.\n",
            "2022-09-22 02:49:01.486158: I tensorflow/core/grappler/optimizers/custom_graph_optimizer_registry.cc:113] Plugin optimizer for device_type GPU is enabled.\n"
          ]
        },
        {
          "name": "stdout",
          "output_type": "stream",
          "text": [
            "1/1 [==============================] - 0s 33ms/step\n"
          ]
        },
        {
          "name": "stderr",
          "output_type": "stream",
          "text": [
            "2022-09-22 02:49:01.567700: I tensorflow/core/grappler/optimizers/custom_graph_optimizer_registry.cc:113] Plugin optimizer for device_type GPU is enabled.\n"
          ]
        },
        {
          "name": "stdout",
          "output_type": "stream",
          "text": [
            "1/1 [==============================] - 0s 28ms/step\n",
            "1/1 [==============================] - 0s 27ms/step\n"
          ]
        },
        {
          "name": "stderr",
          "output_type": "stream",
          "text": [
            "2022-09-22 02:49:01.649944: I tensorflow/core/grappler/optimizers/custom_graph_optimizer_registry.cc:113] Plugin optimizer for device_type GPU is enabled.\n",
            "2022-09-22 02:49:01.730570: I tensorflow/core/grappler/optimizers/custom_graph_optimizer_registry.cc:113] Plugin optimizer for device_type GPU is enabled.\n"
          ]
        },
        {
          "name": "stdout",
          "output_type": "stream",
          "text": [
            "1/1 [==============================] - 0s 30ms/step\n"
          ]
        },
        {
          "name": "stderr",
          "output_type": "stream",
          "text": [
            "2022-09-22 02:49:01.809716: I tensorflow/core/grappler/optimizers/custom_graph_optimizer_registry.cc:113] Plugin optimizer for device_type GPU is enabled.\n"
          ]
        },
        {
          "name": "stdout",
          "output_type": "stream",
          "text": [
            "1/1 [==============================] - 0s 28ms/step\n",
            "1/1 [==============================] - 0s 27ms/step\n"
          ]
        },
        {
          "name": "stderr",
          "output_type": "stream",
          "text": [
            "2022-09-22 02:49:01.892956: I tensorflow/core/grappler/optimizers/custom_graph_optimizer_registry.cc:113] Plugin optimizer for device_type GPU is enabled.\n",
            "2022-09-22 02:49:01.970824: I tensorflow/core/grappler/optimizers/custom_graph_optimizer_registry.cc:113] Plugin optimizer for device_type GPU is enabled.\n"
          ]
        },
        {
          "name": "stdout",
          "output_type": "stream",
          "text": [
            "1/1 [==============================] - 0s 31ms/step\n"
          ]
        },
        {
          "name": "stderr",
          "output_type": "stream",
          "text": [
            "2022-09-22 02:49:02.050215: I tensorflow/core/grappler/optimizers/custom_graph_optimizer_registry.cc:113] Plugin optimizer for device_type GPU is enabled.\n"
          ]
        },
        {
          "name": "stdout",
          "output_type": "stream",
          "text": [
            "1/1 [==============================] - 0s 29ms/step\n",
            "1/1 [==============================] - 0s 27ms/step\n"
          ]
        },
        {
          "name": "stderr",
          "output_type": "stream",
          "text": [
            "2022-09-22 02:49:02.134934: I tensorflow/core/grappler/optimizers/custom_graph_optimizer_registry.cc:113] Plugin optimizer for device_type GPU is enabled.\n",
            "2022-09-22 02:49:02.212287: I tensorflow/core/grappler/optimizers/custom_graph_optimizer_registry.cc:113] Plugin optimizer for device_type GPU is enabled.\n"
          ]
        },
        {
          "name": "stdout",
          "output_type": "stream",
          "text": [
            "1/1 [==============================] - 0s 28ms/step\n"
          ]
        },
        {
          "name": "stderr",
          "output_type": "stream",
          "text": [
            "2022-09-22 02:49:02.293148: I tensorflow/core/grappler/optimizers/custom_graph_optimizer_registry.cc:113] Plugin optimizer for device_type GPU is enabled.\n"
          ]
        },
        {
          "name": "stdout",
          "output_type": "stream",
          "text": [
            "1/1 [==============================] - 0s 28ms/step\n"
          ]
        },
        {
          "name": "stderr",
          "output_type": "stream",
          "text": [
            "2022-09-22 02:49:02.372367: I tensorflow/core/grappler/optimizers/custom_graph_optimizer_registry.cc:113] Plugin optimizer for device_type GPU is enabled.\n",
            " 30%|███       | 3/10 [00:10<00:24,  3.47s/it]"
          ]
        },
        {
          "name": "stdout",
          "output_type": "stream",
          "text": [
            "1/1 [==============================] - 0s 32ms/step\n"
          ]
        },
        {
          "name": "stderr",
          "output_type": "stream",
          "text": [
            "2022-09-22 02:49:02.455426: I tensorflow/core/grappler/optimizers/custom_graph_optimizer_registry.cc:113] Plugin optimizer for device_type GPU is enabled.\n"
          ]
        },
        {
          "name": "stdout",
          "output_type": "stream",
          "text": [
            "1/1 [==============================] - 0s 29ms/step\n"
          ]
        },
        {
          "name": "stderr",
          "output_type": "stream",
          "text": [
            "2022-09-22 02:49:02.538018: I tensorflow/core/grappler/optimizers/custom_graph_optimizer_registry.cc:113] Plugin optimizer for device_type GPU is enabled.\n"
          ]
        },
        {
          "name": "stdout",
          "output_type": "stream",
          "text": [
            "1/1 [==============================] - 0s 29ms/step\n"
          ]
        },
        {
          "name": "stderr",
          "output_type": "stream",
          "text": [
            "2022-09-22 02:49:02.617920: I tensorflow/core/grappler/optimizers/custom_graph_optimizer_registry.cc:113] Plugin optimizer for device_type GPU is enabled.\n",
            "2022-09-22 02:49:02.729007: I tensorflow/core/grappler/optimizers/custom_graph_optimizer_registry.cc:113] Plugin optimizer for device_type GPU is enabled.\n"
          ]
        },
        {
          "name": "stdout",
          "output_type": "stream",
          "text": [
            "1/1 [==============================] - 0s 28ms/step\n"
          ]
        },
        {
          "name": "stderr",
          "output_type": "stream",
          "text": [
            "2022-09-22 02:49:02.807448: I tensorflow/core/grappler/optimizers/custom_graph_optimizer_registry.cc:113] Plugin optimizer for device_type GPU is enabled.\n"
          ]
        },
        {
          "name": "stdout",
          "output_type": "stream",
          "text": [
            "1/1 [==============================] - 0s 28ms/step\n",
            "1/1 [==============================] - 0s 30ms/step\n"
          ]
        },
        {
          "name": "stderr",
          "output_type": "stream",
          "text": [
            "2022-09-22 02:49:02.890218: I tensorflow/core/grappler/optimizers/custom_graph_optimizer_registry.cc:113] Plugin optimizer for device_type GPU is enabled.\n"
          ]
        },
        {
          "name": "stdout",
          "output_type": "stream",
          "text": [
            "1/1 [==============================] - 0s 31ms/step\n"
          ]
        },
        {
          "name": "stderr",
          "output_type": "stream",
          "text": [
            "2022-09-22 02:49:02.975243: I tensorflow/core/grappler/optimizers/custom_graph_optimizer_registry.cc:113] Plugin optimizer for device_type GPU is enabled.\n",
            "2022-09-22 02:49:03.079284: I tensorflow/core/grappler/optimizers/custom_graph_optimizer_registry.cc:113] Plugin optimizer for device_type GPU is enabled.\n"
          ]
        },
        {
          "name": "stdout",
          "output_type": "stream",
          "text": [
            "1/1 [==============================] - 0s 36ms/step\n",
            "1/1 [==============================] - 0s 34ms/step\n"
          ]
        },
        {
          "name": "stderr",
          "output_type": "stream",
          "text": [
            "2022-09-22 02:49:03.179056: I tensorflow/core/grappler/optimizers/custom_graph_optimizer_registry.cc:113] Plugin optimizer for device_type GPU is enabled.\n",
            "2022-09-22 02:49:03.265724: I tensorflow/core/grappler/optimizers/custom_graph_optimizer_registry.cc:113] Plugin optimizer for device_type GPU is enabled.\n"
          ]
        },
        {
          "name": "stdout",
          "output_type": "stream",
          "text": [
            "1/1 [==============================] - 0s 30ms/step\n",
            "1/1 [==============================] - 0s 30ms/step\n"
          ]
        },
        {
          "name": "stderr",
          "output_type": "stream",
          "text": [
            "2022-09-22 02:49:03.355809: I tensorflow/core/grappler/optimizers/custom_graph_optimizer_registry.cc:113] Plugin optimizer for device_type GPU is enabled.\n"
          ]
        },
        {
          "name": "stdout",
          "output_type": "stream",
          "text": [
            "1/1 [==============================] - 0s 33ms/step\n",
            "1/1 [==============================] - 0s 30ms/step\n"
          ]
        },
        {
          "name": "stderr",
          "output_type": "stream",
          "text": [
            "2022-09-22 02:49:03.446968: I tensorflow/core/grappler/optimizers/custom_graph_optimizer_registry.cc:113] Plugin optimizer for device_type GPU is enabled.\n",
            "2022-09-22 02:49:03.534767: I tensorflow/core/grappler/optimizers/custom_graph_optimizer_registry.cc:113] Plugin optimizer for device_type GPU is enabled.\n"
          ]
        },
        {
          "name": "stdout",
          "output_type": "stream",
          "text": [
            "1/1 [==============================] - 0s 32ms/step\n"
          ]
        },
        {
          "name": "stderr",
          "output_type": "stream",
          "text": [
            "2022-09-22 02:49:03.626913: I tensorflow/core/grappler/optimizers/custom_graph_optimizer_registry.cc:113] Plugin optimizer for device_type GPU is enabled.\n"
          ]
        },
        {
          "name": "stdout",
          "output_type": "stream",
          "text": [
            "1/1 [==============================] - 0s 28ms/step\n",
            "1/1 [==============================] - 0s 27ms/step\n"
          ]
        },
        {
          "name": "stderr",
          "output_type": "stream",
          "text": [
            "2022-09-22 02:49:03.709526: I tensorflow/core/grappler/optimizers/custom_graph_optimizer_registry.cc:113] Plugin optimizer for device_type GPU is enabled.\n",
            "2022-09-22 02:49:03.789338: I tensorflow/core/grappler/optimizers/custom_graph_optimizer_registry.cc:113] Plugin optimizer for device_type GPU is enabled.\n"
          ]
        },
        {
          "name": "stdout",
          "output_type": "stream",
          "text": [
            "1/1 [==============================] - 0s 28ms/step\n"
          ]
        },
        {
          "name": "stderr",
          "output_type": "stream",
          "text": [
            "2022-09-22 02:49:03.872362: I tensorflow/core/grappler/optimizers/custom_graph_optimizer_registry.cc:113] Plugin optimizer for device_type GPU is enabled.\n"
          ]
        },
        {
          "name": "stdout",
          "output_type": "stream",
          "text": [
            "1/1 [==============================] - 0s 32ms/step\n",
            "1/1 [==============================] - 0s 27ms/step\n",
            "1/1 [==============================] - 0s 27ms/step\n"
          ]
        },
        {
          "name": "stderr",
          "output_type": "stream",
          "text": [
            "2022-09-22 02:49:04.160723: I tensorflow/core/grappler/optimizers/custom_graph_optimizer_registry.cc:113] Plugin optimizer for device_type GPU is enabled.\n",
            "2022-09-22 02:49:04.255409: I tensorflow/core/grappler/optimizers/custom_graph_optimizer_registry.cc:113] Plugin optimizer for device_type GPU is enabled.\n",
            "2022-09-22 02:49:04.331671: I tensorflow/core/grappler/optimizers/custom_graph_optimizer_registry.cc:113] Plugin optimizer for device_type GPU is enabled.\n"
          ]
        },
        {
          "name": "stdout",
          "output_type": "stream",
          "text": [
            "1/1 [==============================] - 0s 27ms/step\n",
            "1/1 [==============================] - 0s 28ms/step\n",
            "1/1 [==============================] - 0s 27ms/step\n"
          ]
        },
        {
          "name": "stderr",
          "output_type": "stream",
          "text": [
            "2022-09-22 02:49:04.411689: I tensorflow/core/grappler/optimizers/custom_graph_optimizer_registry.cc:113] Plugin optimizer for device_type GPU is enabled.\n",
            "2022-09-22 02:49:04.489136: I tensorflow/core/grappler/optimizers/custom_graph_optimizer_registry.cc:113] Plugin optimizer for device_type GPU is enabled.\n",
            "2022-09-22 02:49:04.568466: I tensorflow/core/grappler/optimizers/custom_graph_optimizer_registry.cc:113] Plugin optimizer for device_type GPU is enabled.\n"
          ]
        },
        {
          "name": "stdout",
          "output_type": "stream",
          "text": [
            "1/1 [==============================] - 0s 29ms/step\n",
            "1/1 [==============================] - 0s 29ms/step\n"
          ]
        },
        {
          "name": "stderr",
          "output_type": "stream",
          "text": [
            "2022-09-22 02:49:04.648721: I tensorflow/core/grappler/optimizers/custom_graph_optimizer_registry.cc:113] Plugin optimizer for device_type GPU is enabled.\n",
            "2022-09-22 02:49:04.729471: I tensorflow/core/grappler/optimizers/custom_graph_optimizer_registry.cc:113] Plugin optimizer for device_type GPU is enabled.\n",
            "2022-09-22 02:49:04.839939: I tensorflow/core/grappler/optimizers/custom_graph_optimizer_registry.cc:113] Plugin optimizer for device_type GPU is enabled.\n"
          ]
        },
        {
          "name": "stdout",
          "output_type": "stream",
          "text": [
            "1/1 [==============================] - 0s 29ms/step\n",
            "1/1 [==============================] - 0s 28ms/step\n",
            "1/1 [==============================] - 0s 27ms/step\n",
            "1/1 [==============================] - 0s 30ms/step\n"
          ]
        },
        {
          "name": "stderr",
          "output_type": "stream",
          "text": [
            "2022-09-22 02:49:04.922441: I tensorflow/core/grappler/optimizers/custom_graph_optimizer_registry.cc:113] Plugin optimizer for device_type GPU is enabled.\n",
            "2022-09-22 02:49:05.001610: I tensorflow/core/grappler/optimizers/custom_graph_optimizer_registry.cc:113] Plugin optimizer for device_type GPU is enabled.\n",
            "2022-09-22 02:49:05.084322: I tensorflow/core/grappler/optimizers/custom_graph_optimizer_registry.cc:113] Plugin optimizer for device_type GPU is enabled.\n"
          ]
        },
        {
          "name": "stdout",
          "output_type": "stream",
          "text": [
            "1/1 [==============================] - 0s 29ms/step\n",
            "1/1 [==============================] - 0s 28ms/step\n",
            "1/1 [==============================] - 0s 30ms/step\n"
          ]
        },
        {
          "name": "stderr",
          "output_type": "stream",
          "text": [
            "2022-09-22 02:49:05.164590: I tensorflow/core/grappler/optimizers/custom_graph_optimizer_registry.cc:113] Plugin optimizer for device_type GPU is enabled.\n",
            "2022-09-22 02:49:05.248110: I tensorflow/core/grappler/optimizers/custom_graph_optimizer_registry.cc:113] Plugin optimizer for device_type GPU is enabled.\n",
            "2022-09-22 02:49:05.333180: I tensorflow/core/grappler/optimizers/custom_graph_optimizer_registry.cc:113] Plugin optimizer for device_type GPU is enabled.\n"
          ]
        },
        {
          "name": "stdout",
          "output_type": "stream",
          "text": [
            "1/1 [==============================] - 0s 29ms/step\n",
            "1/1 [==============================] - 0s 27ms/step\n",
            "1/1 [==============================] - 0s 27ms/step\n"
          ]
        },
        {
          "name": "stderr",
          "output_type": "stream",
          "text": [
            "2022-09-22 02:49:05.415589: I tensorflow/core/grappler/optimizers/custom_graph_optimizer_registry.cc:113] Plugin optimizer for device_type GPU is enabled.\n",
            "2022-09-22 02:49:05.495083: I tensorflow/core/grappler/optimizers/custom_graph_optimizer_registry.cc:113] Plugin optimizer for device_type GPU is enabled.\n",
            "2022-09-22 02:49:05.573232: I tensorflow/core/grappler/optimizers/custom_graph_optimizer_registry.cc:113] Plugin optimizer for device_type GPU is enabled.\n"
          ]
        },
        {
          "name": "stdout",
          "output_type": "stream",
          "text": [
            "1/1 [==============================] - 0s 28ms/step\n",
            "1/1 [==============================] - 0s 27ms/step\n"
          ]
        },
        {
          "name": "stderr",
          "output_type": "stream",
          "text": [
            "2022-09-22 02:49:05.653348: I tensorflow/core/grappler/optimizers/custom_graph_optimizer_registry.cc:113] Plugin optimizer for device_type GPU is enabled.\n",
            "2022-09-22 02:49:05.732568: I tensorflow/core/grappler/optimizers/custom_graph_optimizer_registry.cc:113] Plugin optimizer for device_type GPU is enabled.\n",
            " 40%|████      | 4/10 [00:14<00:20,  3.43s/it]"
          ]
        },
        {
          "name": "stdout",
          "output_type": "stream",
          "text": [
            "1/1 [==============================] - 0s 28ms/step\n"
          ]
        },
        {
          "name": "stderr",
          "output_type": "stream",
          "text": [
            "2022-09-22 02:49:05.821175: I tensorflow/core/grappler/optimizers/custom_graph_optimizer_registry.cc:113] Plugin optimizer for device_type GPU is enabled.\n"
          ]
        },
        {
          "name": "stdout",
          "output_type": "stream",
          "text": [
            "1/1 [==============================] - 0s 28ms/step\n",
            "1/1 [==============================] - 0s 27ms/step\n"
          ]
        },
        {
          "name": "stderr",
          "output_type": "stream",
          "text": [
            "2022-09-22 02:49:05.899177: I tensorflow/core/grappler/optimizers/custom_graph_optimizer_registry.cc:113] Plugin optimizer for device_type GPU is enabled.\n",
            "2022-09-22 02:49:05.977210: I tensorflow/core/grappler/optimizers/custom_graph_optimizer_registry.cc:113] Plugin optimizer for device_type GPU is enabled.\n"
          ]
        },
        {
          "name": "stdout",
          "output_type": "stream",
          "text": [
            "1/1 [==============================] - 0s 28ms/step\n"
          ]
        },
        {
          "name": "stderr",
          "output_type": "stream",
          "text": [
            "2022-09-22 02:49:06.055361: I tensorflow/core/grappler/optimizers/custom_graph_optimizer_registry.cc:113] Plugin optimizer for device_type GPU is enabled.\n"
          ]
        },
        {
          "name": "stdout",
          "output_type": "stream",
          "text": [
            "1/1 [==============================] - 0s 29ms/step\n",
            "1/1 [==============================] - 0s 35ms/step\n"
          ]
        },
        {
          "name": "stderr",
          "output_type": "stream",
          "text": [
            "2022-09-22 02:49:06.136957: I tensorflow/core/grappler/optimizers/custom_graph_optimizer_registry.cc:113] Plugin optimizer for device_type GPU is enabled.\n",
            "2022-09-22 02:49:06.222045: I tensorflow/core/grappler/optimizers/custom_graph_optimizer_registry.cc:113] Plugin optimizer for device_type GPU is enabled.\n"
          ]
        },
        {
          "name": "stdout",
          "output_type": "stream",
          "text": [
            "1/1 [==============================] - 0s 30ms/step\n"
          ]
        },
        {
          "name": "stderr",
          "output_type": "stream",
          "text": [
            "2022-09-22 02:49:06.309704: I tensorflow/core/grappler/optimizers/custom_graph_optimizer_registry.cc:113] Plugin optimizer for device_type GPU is enabled.\n"
          ]
        },
        {
          "name": "stdout",
          "output_type": "stream",
          "text": [
            "1/1 [==============================] - 0s 31ms/step\n",
            "1/1 [==============================] - 0s 32ms/step\n"
          ]
        },
        {
          "name": "stderr",
          "output_type": "stream",
          "text": [
            "2022-09-22 02:49:06.402857: I tensorflow/core/grappler/optimizers/custom_graph_optimizer_registry.cc:113] Plugin optimizer for device_type GPU is enabled.\n",
            "2022-09-22 02:49:06.489947: I tensorflow/core/grappler/optimizers/custom_graph_optimizer_registry.cc:113] Plugin optimizer for device_type GPU is enabled.\n"
          ]
        },
        {
          "name": "stdout",
          "output_type": "stream",
          "text": [
            "1/1 [==============================] - 0s 30ms/step\n"
          ]
        },
        {
          "name": "stderr",
          "output_type": "stream",
          "text": [
            "2022-09-22 02:49:06.583919: I tensorflow/core/grappler/optimizers/custom_graph_optimizer_registry.cc:113] Plugin optimizer for device_type GPU is enabled.\n"
          ]
        },
        {
          "name": "stdout",
          "output_type": "stream",
          "text": [
            "1/1 [==============================] - 0s 32ms/step\n",
            "1/1 [==============================] - 0s 31ms/step\n"
          ]
        },
        {
          "name": "stderr",
          "output_type": "stream",
          "text": [
            "2022-09-22 02:49:06.673873: I tensorflow/core/grappler/optimizers/custom_graph_optimizer_registry.cc:113] Plugin optimizer for device_type GPU is enabled.\n",
            "2022-09-22 02:49:06.760840: I tensorflow/core/grappler/optimizers/custom_graph_optimizer_registry.cc:113] Plugin optimizer for device_type GPU is enabled.\n"
          ]
        },
        {
          "name": "stdout",
          "output_type": "stream",
          "text": [
            "1/1 [==============================] - 0s 28ms/step\n"
          ]
        },
        {
          "name": "stderr",
          "output_type": "stream",
          "text": [
            "2022-09-22 02:49:06.857338: I tensorflow/core/grappler/optimizers/custom_graph_optimizer_registry.cc:113] Plugin optimizer for device_type GPU is enabled.\n"
          ]
        },
        {
          "name": "stdout",
          "output_type": "stream",
          "text": [
            "1/1 [==============================] - 0s 34ms/step\n",
            "1/1 [==============================] - 0s 28ms/step\n"
          ]
        },
        {
          "name": "stderr",
          "output_type": "stream",
          "text": [
            "2022-09-22 02:49:06.937151: I tensorflow/core/grappler/optimizers/custom_graph_optimizer_registry.cc:113] Plugin optimizer for device_type GPU is enabled.\n",
            "2022-09-22 02:49:07.025747: I tensorflow/core/grappler/optimizers/custom_graph_optimizer_registry.cc:113] Plugin optimizer for device_type GPU is enabled.\n"
          ]
        },
        {
          "name": "stdout",
          "output_type": "stream",
          "text": [
            "1/1 [==============================] - 0s 28ms/step\n"
          ]
        },
        {
          "name": "stderr",
          "output_type": "stream",
          "text": [
            "2022-09-22 02:49:07.104495: I tensorflow/core/grappler/optimizers/custom_graph_optimizer_registry.cc:113] Plugin optimizer for device_type GPU is enabled.\n"
          ]
        },
        {
          "name": "stdout",
          "output_type": "stream",
          "text": [
            "1/1 [==============================] - 0s 30ms/step\n",
            "1/1 [==============================] - 0s 32ms/step\n"
          ]
        },
        {
          "name": "stderr",
          "output_type": "stream",
          "text": [
            "2022-09-22 02:49:07.187280: I tensorflow/core/grappler/optimizers/custom_graph_optimizer_registry.cc:113] Plugin optimizer for device_type GPU is enabled.\n",
            "2022-09-22 02:49:07.270965: I tensorflow/core/grappler/optimizers/custom_graph_optimizer_registry.cc:113] Plugin optimizer for device_type GPU is enabled.\n"
          ]
        },
        {
          "name": "stdout",
          "output_type": "stream",
          "text": [
            "1/1 [==============================] - 0s 27ms/step\n"
          ]
        },
        {
          "name": "stderr",
          "output_type": "stream",
          "text": [
            "2022-09-22 02:49:07.351686: I tensorflow/core/grappler/optimizers/custom_graph_optimizer_registry.cc:113] Plugin optimizer for device_type GPU is enabled.\n"
          ]
        },
        {
          "name": "stdout",
          "output_type": "stream",
          "text": [
            "1/1 [==============================] - 0s 27ms/step\n",
            "1/1 [==============================] - 0s 27ms/step\n"
          ]
        },
        {
          "name": "stderr",
          "output_type": "stream",
          "text": [
            "2022-09-22 02:49:07.432024: I tensorflow/core/grappler/optimizers/custom_graph_optimizer_registry.cc:113] Plugin optimizer for device_type GPU is enabled.\n",
            "2022-09-22 02:49:07.509442: I tensorflow/core/grappler/optimizers/custom_graph_optimizer_registry.cc:113] Plugin optimizer for device_type GPU is enabled.\n"
          ]
        },
        {
          "name": "stdout",
          "output_type": "stream",
          "text": [
            "1/1 [==============================] - 0s 28ms/step\n"
          ]
        },
        {
          "name": "stderr",
          "output_type": "stream",
          "text": [
            "2022-09-22 02:49:07.588676: I tensorflow/core/grappler/optimizers/custom_graph_optimizer_registry.cc:113] Plugin optimizer for device_type GPU is enabled.\n"
          ]
        },
        {
          "name": "stdout",
          "output_type": "stream",
          "text": [
            "1/1 [==============================] - 0s 29ms/step\n",
            "1/1 [==============================] - 0s 28ms/step\n"
          ]
        },
        {
          "name": "stderr",
          "output_type": "stream",
          "text": [
            "2022-09-22 02:49:07.671763: I tensorflow/core/grappler/optimizers/custom_graph_optimizer_registry.cc:113] Plugin optimizer for device_type GPU is enabled.\n",
            "2022-09-22 02:49:07.748307: I tensorflow/core/grappler/optimizers/custom_graph_optimizer_registry.cc:113] Plugin optimizer for device_type GPU is enabled.\n"
          ]
        },
        {
          "name": "stdout",
          "output_type": "stream",
          "text": [
            "1/1 [==============================] - 0s 27ms/step\n"
          ]
        },
        {
          "name": "stderr",
          "output_type": "stream",
          "text": [
            "2022-09-22 02:49:07.828441: I tensorflow/core/grappler/optimizers/custom_graph_optimizer_registry.cc:113] Plugin optimizer for device_type GPU is enabled.\n"
          ]
        },
        {
          "name": "stdout",
          "output_type": "stream",
          "text": [
            "1/1 [==============================] - 0s 28ms/step\n",
            "1/1 [==============================] - 0s 27ms/step\n"
          ]
        },
        {
          "name": "stderr",
          "output_type": "stream",
          "text": [
            "2022-09-22 02:49:07.909682: I tensorflow/core/grappler/optimizers/custom_graph_optimizer_registry.cc:113] Plugin optimizer for device_type GPU is enabled.\n",
            "2022-09-22 02:49:07.991855: I tensorflow/core/grappler/optimizers/custom_graph_optimizer_registry.cc:113] Plugin optimizer for device_type GPU is enabled.\n"
          ]
        },
        {
          "name": "stdout",
          "output_type": "stream",
          "text": [
            "1/1 [==============================] - 0s 27ms/step\n"
          ]
        },
        {
          "name": "stderr",
          "output_type": "stream",
          "text": [
            "2022-09-22 02:49:08.070192: I tensorflow/core/grappler/optimizers/custom_graph_optimizer_registry.cc:113] Plugin optimizer for device_type GPU is enabled.\n"
          ]
        },
        {
          "name": "stdout",
          "output_type": "stream",
          "text": [
            "1/1 [==============================] - 0s 30ms/step\n",
            "1/1 [==============================] - 0s 32ms/step\n"
          ]
        },
        {
          "name": "stderr",
          "output_type": "stream",
          "text": [
            "2022-09-22 02:49:08.150239: I tensorflow/core/grappler/optimizers/custom_graph_optimizer_registry.cc:113] Plugin optimizer for device_type GPU is enabled.\n",
            "2022-09-22 02:49:08.234921: I tensorflow/core/grappler/optimizers/custom_graph_optimizer_registry.cc:113] Plugin optimizer for device_type GPU is enabled.\n"
          ]
        },
        {
          "name": "stdout",
          "output_type": "stream",
          "text": [
            "1/1 [==============================] - 0s 33ms/step\n"
          ]
        },
        {
          "name": "stderr",
          "output_type": "stream",
          "text": [
            "2022-09-22 02:49:08.329220: I tensorflow/core/grappler/optimizers/custom_graph_optimizer_registry.cc:113] Plugin optimizer for device_type GPU is enabled.\n"
          ]
        },
        {
          "name": "stdout",
          "output_type": "stream",
          "text": [
            "1/1 [==============================] - 0s 29ms/step\n",
            "1/1 [==============================] - 0s 29ms/step\n"
          ]
        },
        {
          "name": "stderr",
          "output_type": "stream",
          "text": [
            "2022-09-22 02:49:08.416351: I tensorflow/core/grappler/optimizers/custom_graph_optimizer_registry.cc:113] Plugin optimizer for device_type GPU is enabled.\n",
            "2022-09-22 02:49:08.501611: I tensorflow/core/grappler/optimizers/custom_graph_optimizer_registry.cc:113] Plugin optimizer for device_type GPU is enabled.\n"
          ]
        },
        {
          "name": "stdout",
          "output_type": "stream",
          "text": [
            "1/1 [==============================] - 0s 38ms/step\n"
          ]
        },
        {
          "name": "stderr",
          "output_type": "stream",
          "text": [
            "2022-09-22 02:49:08.586781: I tensorflow/core/grappler/optimizers/custom_graph_optimizer_registry.cc:113] Plugin optimizer for device_type GPU is enabled.\n"
          ]
        },
        {
          "name": "stdout",
          "output_type": "stream",
          "text": [
            "1/1 [==============================] - 0s 32ms/step\n"
          ]
        },
        {
          "name": "stderr",
          "output_type": "stream",
          "text": [
            "2022-09-22 02:49:08.695685: I tensorflow/core/grappler/optimizers/custom_graph_optimizer_registry.cc:113] Plugin optimizer for device_type GPU is enabled.\n",
            "2022-09-22 02:49:08.779737: I tensorflow/core/grappler/optimizers/custom_graph_optimizer_registry.cc:113] Plugin optimizer for device_type GPU is enabled.\n"
          ]
        },
        {
          "name": "stdout",
          "output_type": "stream",
          "text": [
            "1/1 [==============================] - 0s 29ms/step\n",
            "1/1 [==============================] - 0s 30ms/step\n"
          ]
        },
        {
          "name": "stderr",
          "output_type": "stream",
          "text": [
            "2022-09-22 02:49:08.871961: I tensorflow/core/grappler/optimizers/custom_graph_optimizer_registry.cc:113] Plugin optimizer for device_type GPU is enabled.\n",
            " 50%|█████     | 5/10 [00:17<00:16,  3.33s/it]"
          ]
        },
        {
          "name": "stdout",
          "output_type": "stream",
          "text": [
            "1/1 [==============================] - 0s 30ms/step\n",
            "1/1 [==============================] - 0s 32ms/step\n"
          ]
        },
        {
          "name": "stderr",
          "output_type": "stream",
          "text": [
            "2022-09-22 02:49:08.958111: I tensorflow/core/grappler/optimizers/custom_graph_optimizer_registry.cc:113] Plugin optimizer for device_type GPU is enabled.\n",
            "2022-09-22 02:49:09.043117: I tensorflow/core/grappler/optimizers/custom_graph_optimizer_registry.cc:113] Plugin optimizer for device_type GPU is enabled.\n"
          ]
        },
        {
          "name": "stdout",
          "output_type": "stream",
          "text": [
            "1/1 [==============================] - 0s 29ms/step\n"
          ]
        },
        {
          "name": "stderr",
          "output_type": "stream",
          "text": [
            "2022-09-22 02:49:09.129689: I tensorflow/core/grappler/optimizers/custom_graph_optimizer_registry.cc:113] Plugin optimizer for device_type GPU is enabled.\n"
          ]
        },
        {
          "name": "stdout",
          "output_type": "stream",
          "text": [
            "1/1 [==============================] - 0s 30ms/step\n",
            "1/1 [==============================] - 0s 31ms/step\n"
          ]
        },
        {
          "name": "stderr",
          "output_type": "stream",
          "text": [
            "2022-09-22 02:49:09.214915: I tensorflow/core/grappler/optimizers/custom_graph_optimizer_registry.cc:113] Plugin optimizer for device_type GPU is enabled.\n",
            "2022-09-22 02:49:09.300771: I tensorflow/core/grappler/optimizers/custom_graph_optimizer_registry.cc:113] Plugin optimizer for device_type GPU is enabled.\n"
          ]
        },
        {
          "name": "stdout",
          "output_type": "stream",
          "text": [
            "1/1 [==============================] - 0s 30ms/step\n"
          ]
        },
        {
          "name": "stderr",
          "output_type": "stream",
          "text": [
            "2022-09-22 02:49:09.389369: I tensorflow/core/grappler/optimizers/custom_graph_optimizer_registry.cc:113] Plugin optimizer for device_type GPU is enabled.\n"
          ]
        },
        {
          "name": "stdout",
          "output_type": "stream",
          "text": [
            "1/1 [==============================] - 0s 35ms/step\n",
            "1/1 [==============================] - 0s 31ms/step\n",
            "1/1 [==============================] - 0s 35ms/step\n"
          ]
        },
        {
          "name": "stderr",
          "output_type": "stream",
          "text": [
            "2022-09-22 02:49:10.068189: I tensorflow/core/grappler/optimizers/custom_graph_optimizer_registry.cc:113] Plugin optimizer for device_type GPU is enabled.\n",
            "2022-09-22 02:49:10.158058: I tensorflow/core/grappler/optimizers/custom_graph_optimizer_registry.cc:113] Plugin optimizer for device_type GPU is enabled.\n",
            "2022-09-22 02:49:10.245599: I tensorflow/core/grappler/optimizers/custom_graph_optimizer_registry.cc:113] Plugin optimizer for device_type GPU is enabled.\n"
          ]
        },
        {
          "name": "stdout",
          "output_type": "stream",
          "text": [
            "1/1 [==============================] - 0s 36ms/step\n",
            "1/1 [==============================] - 0s 31ms/step\n",
            "1/1 [==============================] - 0s 30ms/step\n"
          ]
        },
        {
          "name": "stderr",
          "output_type": "stream",
          "text": [
            "2022-09-22 02:49:10.349078: I tensorflow/core/grappler/optimizers/custom_graph_optimizer_registry.cc:113] Plugin optimizer for device_type GPU is enabled.\n",
            "2022-09-22 02:49:10.440356: I tensorflow/core/grappler/optimizers/custom_graph_optimizer_registry.cc:113] Plugin optimizer for device_type GPU is enabled.\n",
            "2022-09-22 02:49:10.528362: I tensorflow/core/grappler/optimizers/custom_graph_optimizer_registry.cc:113] Plugin optimizer for device_type GPU is enabled.\n"
          ]
        },
        {
          "name": "stdout",
          "output_type": "stream",
          "text": [
            "1/1 [==============================] - 0s 31ms/step\n",
            "1/1 [==============================] - 0s 30ms/step\n",
            "1/1 [==============================] - 0s 29ms/step\n"
          ]
        },
        {
          "name": "stderr",
          "output_type": "stream",
          "text": [
            "2022-09-22 02:49:10.615472: I tensorflow/core/grappler/optimizers/custom_graph_optimizer_registry.cc:113] Plugin optimizer for device_type GPU is enabled.\n",
            "2022-09-22 02:49:10.698867: I tensorflow/core/grappler/optimizers/custom_graph_optimizer_registry.cc:113] Plugin optimizer for device_type GPU is enabled.\n",
            "2022-09-22 02:49:10.782792: I tensorflow/core/grappler/optimizers/custom_graph_optimizer_registry.cc:113] Plugin optimizer for device_type GPU is enabled.\n"
          ]
        },
        {
          "name": "stdout",
          "output_type": "stream",
          "text": [
            "1/1 [==============================] - 0s 29ms/step\n",
            "1/1 [==============================] - 0s 30ms/step\n",
            "1/1 [==============================] - 0s 29ms/step\n"
          ]
        },
        {
          "name": "stderr",
          "output_type": "stream",
          "text": [
            "2022-09-22 02:49:10.869704: I tensorflow/core/grappler/optimizers/custom_graph_optimizer_registry.cc:113] Plugin optimizer for device_type GPU is enabled.\n",
            "2022-09-22 02:49:10.958570: I tensorflow/core/grappler/optimizers/custom_graph_optimizer_registry.cc:113] Plugin optimizer for device_type GPU is enabled.\n",
            "2022-09-22 02:49:11.040572: I tensorflow/core/grappler/optimizers/custom_graph_optimizer_registry.cc:113] Plugin optimizer for device_type GPU is enabled.\n"
          ]
        },
        {
          "name": "stdout",
          "output_type": "stream",
          "text": [
            "1/1 [==============================] - 0s 29ms/step\n",
            "1/1 [==============================] - 0s 29ms/step\n",
            "1/1 [==============================] - 0s 29ms/step\n"
          ]
        },
        {
          "name": "stderr",
          "output_type": "stream",
          "text": [
            "2022-09-22 02:49:11.125042: I tensorflow/core/grappler/optimizers/custom_graph_optimizer_registry.cc:113] Plugin optimizer for device_type GPU is enabled.\n",
            "2022-09-22 02:49:11.207565: I tensorflow/core/grappler/optimizers/custom_graph_optimizer_registry.cc:113] Plugin optimizer for device_type GPU is enabled.\n",
            "2022-09-22 02:49:11.291822: I tensorflow/core/grappler/optimizers/custom_graph_optimizer_registry.cc:113] Plugin optimizer for device_type GPU is enabled.\n"
          ]
        },
        {
          "name": "stdout",
          "output_type": "stream",
          "text": [
            "1/1 [==============================] - 0s 29ms/step\n",
            "1/1 [==============================] - 0s 30ms/step\n",
            "1/1 [==============================] - 0s 29ms/step\n"
          ]
        },
        {
          "name": "stderr",
          "output_type": "stream",
          "text": [
            "2022-09-22 02:49:11.376718: I tensorflow/core/grappler/optimizers/custom_graph_optimizer_registry.cc:113] Plugin optimizer for device_type GPU is enabled.\n",
            "2022-09-22 02:49:11.463354: I tensorflow/core/grappler/optimizers/custom_graph_optimizer_registry.cc:113] Plugin optimizer for device_type GPU is enabled.\n",
            "2022-09-22 02:49:11.546662: I tensorflow/core/grappler/optimizers/custom_graph_optimizer_registry.cc:113] Plugin optimizer for device_type GPU is enabled.\n"
          ]
        },
        {
          "name": "stdout",
          "output_type": "stream",
          "text": [
            "1/1 [==============================] - 0s 32ms/step\n",
            "1/1 [==============================] - 0s 29ms/step\n",
            "1/1 [==============================] - 0s 29ms/step\n"
          ]
        },
        {
          "name": "stderr",
          "output_type": "stream",
          "text": [
            "2022-09-22 02:49:11.632313: I tensorflow/core/grappler/optimizers/custom_graph_optimizer_registry.cc:113] Plugin optimizer for device_type GPU is enabled.\n",
            "2022-09-22 02:49:11.716134: I tensorflow/core/grappler/optimizers/custom_graph_optimizer_registry.cc:113] Plugin optimizer for device_type GPU is enabled.\n",
            "2022-09-22 02:49:11.799617: I tensorflow/core/grappler/optimizers/custom_graph_optimizer_registry.cc:113] Plugin optimizer for device_type GPU is enabled.\n"
          ]
        },
        {
          "name": "stdout",
          "output_type": "stream",
          "text": [
            "1/1 [==============================] - 0s 29ms/step\n",
            "1/1 [==============================] - 0s 33ms/step\n",
            "1/1 [==============================] - 0s 32ms/step\n"
          ]
        },
        {
          "name": "stderr",
          "output_type": "stream",
          "text": [
            "2022-09-22 02:49:11.883345: I tensorflow/core/grappler/optimizers/custom_graph_optimizer_registry.cc:113] Plugin optimizer for device_type GPU is enabled.\n",
            "2022-09-22 02:49:11.974654: I tensorflow/core/grappler/optimizers/custom_graph_optimizer_registry.cc:113] Plugin optimizer for device_type GPU is enabled.\n",
            "2022-09-22 02:49:12.061002: I tensorflow/core/grappler/optimizers/custom_graph_optimizer_registry.cc:113] Plugin optimizer for device_type GPU is enabled.\n"
          ]
        },
        {
          "name": "stdout",
          "output_type": "stream",
          "text": [
            "1/1 [==============================] - 0s 32ms/step\n",
            "1/1 [==============================] - 0s 29ms/step\n",
            "1/1 [==============================] - 0s 33ms/step\n"
          ]
        },
        {
          "name": "stderr",
          "output_type": "stream",
          "text": [
            "2022-09-22 02:49:12.152750: I tensorflow/core/grappler/optimizers/custom_graph_optimizer_registry.cc:113] Plugin optimizer for device_type GPU is enabled.\n",
            "2022-09-22 02:49:12.242207: I tensorflow/core/grappler/optimizers/custom_graph_optimizer_registry.cc:113] Plugin optimizer for device_type GPU is enabled.\n",
            "2022-09-22 02:49:12.327884: I tensorflow/core/grappler/optimizers/custom_graph_optimizer_registry.cc:113] Plugin optimizer for device_type GPU is enabled.\n"
          ]
        },
        {
          "name": "stdout",
          "output_type": "stream",
          "text": [
            "1/1 [==============================] - 0s 30ms/step\n",
            "1/1 [==============================] - 0s 31ms/step\n",
            "1/1 [==============================] - 0s 31ms/step\n"
          ]
        },
        {
          "name": "stderr",
          "output_type": "stream",
          "text": [
            "2022-09-22 02:49:12.421278: I tensorflow/core/grappler/optimizers/custom_graph_optimizer_registry.cc:113] Plugin optimizer for device_type GPU is enabled.\n",
            "2022-09-22 02:49:12.503718: I tensorflow/core/grappler/optimizers/custom_graph_optimizer_registry.cc:113] Plugin optimizer for device_type GPU is enabled.\n",
            "2022-09-22 02:49:12.589847: I tensorflow/core/grappler/optimizers/custom_graph_optimizer_registry.cc:113] Plugin optimizer for device_type GPU is enabled.\n"
          ]
        },
        {
          "name": "stdout",
          "output_type": "stream",
          "text": [
            "1/1 [==============================] - 0s 32ms/step\n"
          ]
        },
        {
          "name": "stderr",
          "output_type": "stream",
          "text": [
            "2022-09-22 02:49:12.677647: I tensorflow/core/grappler/optimizers/custom_graph_optimizer_registry.cc:113] Plugin optimizer for device_type GPU is enabled.\n",
            " 60%|██████    | 6/10 [00:21<00:13,  3.49s/it]"
          ]
        },
        {
          "name": "stdout",
          "output_type": "stream",
          "text": [
            "1/1 [==============================] - 0s 30ms/step\n",
            "1/1 [==============================] - 0s 29ms/step\n"
          ]
        },
        {
          "name": "stderr",
          "output_type": "stream",
          "text": [
            "2022-09-22 02:49:12.763775: I tensorflow/core/grappler/optimizers/custom_graph_optimizer_registry.cc:113] Plugin optimizer for device_type GPU is enabled.\n",
            "2022-09-22 02:49:12.849235: I tensorflow/core/grappler/optimizers/custom_graph_optimizer_registry.cc:113] Plugin optimizer for device_type GPU is enabled.\n"
          ]
        },
        {
          "name": "stdout",
          "output_type": "stream",
          "text": [
            "1/1 [==============================] - 0s 31ms/step\n"
          ]
        },
        {
          "name": "stderr",
          "output_type": "stream",
          "text": [
            "2022-09-22 02:49:12.935131: I tensorflow/core/grappler/optimizers/custom_graph_optimizer_registry.cc:113] Plugin optimizer for device_type GPU is enabled.\n"
          ]
        },
        {
          "name": "stdout",
          "output_type": "stream",
          "text": [
            "1/1 [==============================] - 0s 31ms/step\n",
            "1/1 [==============================] - 0s 31ms/step\n"
          ]
        },
        {
          "name": "stderr",
          "output_type": "stream",
          "text": [
            "2022-09-22 02:49:13.021115: I tensorflow/core/grappler/optimizers/custom_graph_optimizer_registry.cc:113] Plugin optimizer for device_type GPU is enabled.\n",
            "2022-09-22 02:49:13.107700: I tensorflow/core/grappler/optimizers/custom_graph_optimizer_registry.cc:113] Plugin optimizer for device_type GPU is enabled.\n"
          ]
        },
        {
          "name": "stdout",
          "output_type": "stream",
          "text": [
            "1/1 [==============================] - 0s 31ms/step\n"
          ]
        },
        {
          "name": "stderr",
          "output_type": "stream",
          "text": [
            "2022-09-22 02:49:13.191667: I tensorflow/core/grappler/optimizers/custom_graph_optimizer_registry.cc:113] Plugin optimizer for device_type GPU is enabled.\n"
          ]
        },
        {
          "name": "stdout",
          "output_type": "stream",
          "text": [
            "1/1 [==============================] - 0s 32ms/step\n"
          ]
        },
        {
          "name": "stderr",
          "output_type": "stream",
          "text": [
            "2022-09-22 02:49:13.284052: I tensorflow/core/grappler/optimizers/custom_graph_optimizer_registry.cc:113] Plugin optimizer for device_type GPU is enabled.\n",
            "2022-09-22 02:49:13.379128: I tensorflow/core/grappler/optimizers/custom_graph_optimizer_registry.cc:113] Plugin optimizer for device_type GPU is enabled.\n"
          ]
        },
        {
          "name": "stdout",
          "output_type": "stream",
          "text": [
            "1/1 [==============================] - 0s 34ms/step\n"
          ]
        },
        {
          "name": "stderr",
          "output_type": "stream",
          "text": [
            "2022-09-22 02:49:13.476079: I tensorflow/core/grappler/optimizers/custom_graph_optimizer_registry.cc:113] Plugin optimizer for device_type GPU is enabled.\n"
          ]
        },
        {
          "name": "stdout",
          "output_type": "stream",
          "text": [
            "1/1 [==============================] - 0s 34ms/step\n",
            "1/1 [==============================] - 0s 31ms/step\n"
          ]
        },
        {
          "name": "stderr",
          "output_type": "stream",
          "text": [
            "2022-09-22 02:49:13.568495: I tensorflow/core/grappler/optimizers/custom_graph_optimizer_registry.cc:113] Plugin optimizer for device_type GPU is enabled.\n",
            "2022-09-22 02:49:13.666345: I tensorflow/core/grappler/optimizers/custom_graph_optimizer_registry.cc:113] Plugin optimizer for device_type GPU is enabled.\n"
          ]
        },
        {
          "name": "stdout",
          "output_type": "stream",
          "text": [
            "1/1 [==============================] - 0s 35ms/step\n"
          ]
        },
        {
          "name": "stderr",
          "output_type": "stream",
          "text": [
            "2022-09-22 02:49:13.761725: I tensorflow/core/grappler/optimizers/custom_graph_optimizer_registry.cc:113] Plugin optimizer for device_type GPU is enabled.\n"
          ]
        },
        {
          "name": "stdout",
          "output_type": "stream",
          "text": [
            "1/1 [==============================] - 0s 34ms/step\n",
            "1/1 [==============================] - 0s 34ms/step\n",
            "1/1 [==============================] - 0s 30ms/step\n"
          ]
        },
        {
          "name": "stderr",
          "output_type": "stream",
          "text": [
            "2022-09-22 02:49:13.855635: I tensorflow/core/grappler/optimizers/custom_graph_optimizer_registry.cc:113] Plugin optimizer for device_type GPU is enabled.\n",
            "2022-09-22 02:49:13.941909: I tensorflow/core/grappler/optimizers/custom_graph_optimizer_registry.cc:113] Plugin optimizer for device_type GPU is enabled.\n"
          ]
        },
        {
          "name": "stdout",
          "output_type": "stream",
          "text": [
            "1/1 [==============================] - 0s 30ms/step\n"
          ]
        },
        {
          "name": "stderr",
          "output_type": "stream",
          "text": [
            "2022-09-22 02:49:14.026015: I tensorflow/core/grappler/optimizers/custom_graph_optimizer_registry.cc:113] Plugin optimizer for device_type GPU is enabled.\n"
          ]
        },
        {
          "name": "stdout",
          "output_type": "stream",
          "text": [
            "1/1 [==============================] - 0s 30ms/step\n",
            "1/1 [==============================] - 0s 32ms/step\n"
          ]
        },
        {
          "name": "stderr",
          "output_type": "stream",
          "text": [
            "2022-09-22 02:49:14.113530: I tensorflow/core/grappler/optimizers/custom_graph_optimizer_registry.cc:113] Plugin optimizer for device_type GPU is enabled.\n",
            "2022-09-22 02:49:14.199279: I tensorflow/core/grappler/optimizers/custom_graph_optimizer_registry.cc:113] Plugin optimizer for device_type GPU is enabled.\n"
          ]
        },
        {
          "name": "stdout",
          "output_type": "stream",
          "text": [
            "1/1 [==============================] - 0s 30ms/step\n"
          ]
        },
        {
          "name": "stderr",
          "output_type": "stream",
          "text": [
            "2022-09-22 02:49:14.285302: I tensorflow/core/grappler/optimizers/custom_graph_optimizer_registry.cc:113] Plugin optimizer for device_type GPU is enabled.\n"
          ]
        },
        {
          "name": "stdout",
          "output_type": "stream",
          "text": [
            "1/1 [==============================] - 0s 31ms/step\n",
            "1/1 [==============================] - 0s 31ms/step\n"
          ]
        },
        {
          "name": "stderr",
          "output_type": "stream",
          "text": [
            "2022-09-22 02:49:14.373843: I tensorflow/core/grappler/optimizers/custom_graph_optimizer_registry.cc:113] Plugin optimizer for device_type GPU is enabled.\n",
            "2022-09-22 02:49:14.458777: I tensorflow/core/grappler/optimizers/custom_graph_optimizer_registry.cc:113] Plugin optimizer for device_type GPU is enabled.\n"
          ]
        },
        {
          "name": "stdout",
          "output_type": "stream",
          "text": [
            "1/1 [==============================] - 0s 31ms/step\n"
          ]
        },
        {
          "name": "stderr",
          "output_type": "stream",
          "text": [
            "2022-09-22 02:49:14.544837: I tensorflow/core/grappler/optimizers/custom_graph_optimizer_registry.cc:113] Plugin optimizer for device_type GPU is enabled.\n"
          ]
        },
        {
          "name": "stdout",
          "output_type": "stream",
          "text": [
            "1/1 [==============================] - 0s 30ms/step\n",
            "1/1 [==============================] - 0s 30ms/step\n"
          ]
        },
        {
          "name": "stderr",
          "output_type": "stream",
          "text": [
            "2022-09-22 02:49:14.629335: I tensorflow/core/grappler/optimizers/custom_graph_optimizer_registry.cc:113] Plugin optimizer for device_type GPU is enabled.\n",
            "2022-09-22 02:49:14.713917: I tensorflow/core/grappler/optimizers/custom_graph_optimizer_registry.cc:113] Plugin optimizer for device_type GPU is enabled.\n"
          ]
        },
        {
          "name": "stdout",
          "output_type": "stream",
          "text": [
            "1/1 [==============================] - 0s 31ms/step\n"
          ]
        },
        {
          "name": "stderr",
          "output_type": "stream",
          "text": [
            "2022-09-22 02:49:14.801355: I tensorflow/core/grappler/optimizers/custom_graph_optimizer_registry.cc:113] Plugin optimizer for device_type GPU is enabled.\n"
          ]
        },
        {
          "name": "stdout",
          "output_type": "stream",
          "text": [
            "1/1 [==============================] - 0s 30ms/step\n",
            "1/1 [==============================] - 0s 30ms/step\n"
          ]
        },
        {
          "name": "stderr",
          "output_type": "stream",
          "text": [
            "2022-09-22 02:49:14.885647: I tensorflow/core/grappler/optimizers/custom_graph_optimizer_registry.cc:113] Plugin optimizer for device_type GPU is enabled.\n",
            "2022-09-22 02:49:14.970813: I tensorflow/core/grappler/optimizers/custom_graph_optimizer_registry.cc:113] Plugin optimizer for device_type GPU is enabled.\n"
          ]
        },
        {
          "name": "stdout",
          "output_type": "stream",
          "text": [
            "1/1 [==============================] - 0s 29ms/step\n"
          ]
        },
        {
          "name": "stderr",
          "output_type": "stream",
          "text": [
            "2022-09-22 02:49:15.055358: I tensorflow/core/grappler/optimizers/custom_graph_optimizer_registry.cc:113] Plugin optimizer for device_type GPU is enabled.\n"
          ]
        },
        {
          "name": "stdout",
          "output_type": "stream",
          "text": [
            "1/1 [==============================] - 0s 30ms/step\n"
          ]
        },
        {
          "name": "stderr",
          "output_type": "stream",
          "text": [
            "2022-09-22 02:49:15.163586: I tensorflow/core/grappler/optimizers/custom_graph_optimizer_registry.cc:113] Plugin optimizer for device_type GPU is enabled.\n",
            "2022-09-22 02:49:15.251927: I tensorflow/core/grappler/optimizers/custom_graph_optimizer_registry.cc:113] Plugin optimizer for device_type GPU is enabled.\n"
          ]
        },
        {
          "name": "stdout",
          "output_type": "stream",
          "text": [
            "1/1 [==============================] - 0s 31ms/step\n",
            "1/1 [==============================] - 0s 29ms/step\n"
          ]
        },
        {
          "name": "stderr",
          "output_type": "stream",
          "text": [
            "2022-09-22 02:49:15.335779: I tensorflow/core/grappler/optimizers/custom_graph_optimizer_registry.cc:113] Plugin optimizer for device_type GPU is enabled.\n"
          ]
        },
        {
          "name": "stdout",
          "output_type": "stream",
          "text": [
            "1/1 [==============================] - 0s 31ms/step\n",
            "1/1 [==============================] - 0s 29ms/step\n"
          ]
        },
        {
          "name": "stderr",
          "output_type": "stream",
          "text": [
            "2022-09-22 02:49:15.423028: I tensorflow/core/grappler/optimizers/custom_graph_optimizer_registry.cc:113] Plugin optimizer for device_type GPU is enabled.\n",
            "2022-09-22 02:49:15.506874: I tensorflow/core/grappler/optimizers/custom_graph_optimizer_registry.cc:113] Plugin optimizer for device_type GPU is enabled.\n"
          ]
        },
        {
          "name": "stdout",
          "output_type": "stream",
          "text": [
            "1/1 [==============================] - 0s 30ms/step\n"
          ]
        },
        {
          "name": "stderr",
          "output_type": "stream",
          "text": [
            "2022-09-22 02:49:15.593241: I tensorflow/core/grappler/optimizers/custom_graph_optimizer_registry.cc:113] Plugin optimizer for device_type GPU is enabled.\n"
          ]
        },
        {
          "name": "stdout",
          "output_type": "stream",
          "text": [
            "1/1 [==============================] - 0s 29ms/step\n"
          ]
        },
        {
          "name": "stderr",
          "output_type": "stream",
          "text": [
            "2022-09-22 02:49:15.680071: I tensorflow/core/grappler/optimizers/custom_graph_optimizer_registry.cc:113] Plugin optimizer for device_type GPU is enabled.\n"
          ]
        },
        {
          "name": "stdout",
          "output_type": "stream",
          "text": [
            "1/1 [==============================] - 0s 30ms/step\n",
            "1/1 [==============================] - 0s 30ms/step\n",
            "1/1 [==============================] - 0s 30ms/step\n"
          ]
        },
        {
          "name": "stderr",
          "output_type": "stream",
          "text": [
            "2022-09-22 02:49:15.986380: I tensorflow/core/grappler/optimizers/custom_graph_optimizer_registry.cc:113] Plugin optimizer for device_type GPU is enabled.\n",
            "2022-09-22 02:49:16.072152: I tensorflow/core/grappler/optimizers/custom_graph_optimizer_registry.cc:113] Plugin optimizer for device_type GPU is enabled.\n",
            "2022-09-22 02:49:16.155360: I tensorflow/core/grappler/optimizers/custom_graph_optimizer_registry.cc:113] Plugin optimizer for device_type GPU is enabled.\n",
            " 70%|███████   | 7/10 [00:24<00:10,  3.48s/it]"
          ]
        },
        {
          "name": "stdout",
          "output_type": "stream",
          "text": [
            "1/1 [==============================] - 0s 30ms/step\n",
            "1/1 [==============================] - 0s 29ms/step\n",
            "1/1 [==============================] - 0s 29ms/step\n"
          ]
        },
        {
          "name": "stderr",
          "output_type": "stream",
          "text": [
            "2022-09-22 02:49:16.243389: I tensorflow/core/grappler/optimizers/custom_graph_optimizer_registry.cc:113] Plugin optimizer for device_type GPU is enabled.\n",
            "2022-09-22 02:49:16.329512: I tensorflow/core/grappler/optimizers/custom_graph_optimizer_registry.cc:113] Plugin optimizer for device_type GPU is enabled.\n",
            "2022-09-22 02:49:16.412298: I tensorflow/core/grappler/optimizers/custom_graph_optimizer_registry.cc:113] Plugin optimizer for device_type GPU is enabled.\n"
          ]
        },
        {
          "name": "stdout",
          "output_type": "stream",
          "text": [
            "1/1 [==============================] - 0s 29ms/step\n",
            "1/1 [==============================] - 0s 30ms/step\n",
            "1/1 [==============================] - 0s 32ms/step\n"
          ]
        },
        {
          "name": "stderr",
          "output_type": "stream",
          "text": [
            "2022-09-22 02:49:16.496188: I tensorflow/core/grappler/optimizers/custom_graph_optimizer_registry.cc:113] Plugin optimizer for device_type GPU is enabled.\n",
            "2022-09-22 02:49:16.581876: I tensorflow/core/grappler/optimizers/custom_graph_optimizer_registry.cc:113] Plugin optimizer for device_type GPU is enabled.\n",
            "2022-09-22 02:49:16.671627: I tensorflow/core/grappler/optimizers/custom_graph_optimizer_registry.cc:113] Plugin optimizer for device_type GPU is enabled.\n"
          ]
        },
        {
          "name": "stdout",
          "output_type": "stream",
          "text": [
            "1/1 [==============================] - 0s 32ms/step\n",
            "1/1 [==============================] - 0s 34ms/step\n"
          ]
        },
        {
          "name": "stderr",
          "output_type": "stream",
          "text": [
            "2022-09-22 02:49:16.764377: I tensorflow/core/grappler/optimizers/custom_graph_optimizer_registry.cc:113] Plugin optimizer for device_type GPU is enabled.\n",
            "2022-09-22 02:49:16.862456: I tensorflow/core/grappler/optimizers/custom_graph_optimizer_registry.cc:113] Plugin optimizer for device_type GPU is enabled.\n",
            "2022-09-22 02:49:16.956639: I tensorflow/core/grappler/optimizers/custom_graph_optimizer_registry.cc:113] Plugin optimizer for device_type GPU is enabled.\n"
          ]
        },
        {
          "name": "stdout",
          "output_type": "stream",
          "text": [
            "1/1 [==============================] - 0s 34ms/step\n",
            "1/1 [==============================] - 0s 32ms/step\n",
            "1/1 [==============================] - 0s 33ms/step\n"
          ]
        },
        {
          "name": "stderr",
          "output_type": "stream",
          "text": [
            "2022-09-22 02:49:17.051002: I tensorflow/core/grappler/optimizers/custom_graph_optimizer_registry.cc:113] Plugin optimizer for device_type GPU is enabled.\n",
            "2022-09-22 02:49:17.145060: I tensorflow/core/grappler/optimizers/custom_graph_optimizer_registry.cc:113] Plugin optimizer for device_type GPU is enabled.\n",
            "2022-09-22 02:49:17.241051: I tensorflow/core/grappler/optimizers/custom_graph_optimizer_registry.cc:113] Plugin optimizer for device_type GPU is enabled.\n"
          ]
        },
        {
          "name": "stdout",
          "output_type": "stream",
          "text": [
            "1/1 [==============================] - 0s 33ms/step\n",
            "1/1 [==============================] - 0s 31ms/step\n",
            "1/1 [==============================] - 0s 31ms/step\n",
            "1/1 [==============================] - 0s 30ms/step\n"
          ]
        },
        {
          "name": "stderr",
          "output_type": "stream",
          "text": [
            "2022-09-22 02:49:17.329037: I tensorflow/core/grappler/optimizers/custom_graph_optimizer_registry.cc:113] Plugin optimizer for device_type GPU is enabled.\n",
            "2022-09-22 02:49:17.417025: I tensorflow/core/grappler/optimizers/custom_graph_optimizer_registry.cc:113] Plugin optimizer for device_type GPU is enabled.\n",
            "2022-09-22 02:49:17.500473: I tensorflow/core/grappler/optimizers/custom_graph_optimizer_registry.cc:113] Plugin optimizer for device_type GPU is enabled.\n"
          ]
        },
        {
          "name": "stdout",
          "output_type": "stream",
          "text": [
            "1/1 [==============================] - 0s 30ms/step\n",
            "1/1 [==============================] - 0s 29ms/step\n",
            "1/1 [==============================] - 0s 30ms/step\n"
          ]
        },
        {
          "name": "stderr",
          "output_type": "stream",
          "text": [
            "2022-09-22 02:49:17.586418: I tensorflow/core/grappler/optimizers/custom_graph_optimizer_registry.cc:113] Plugin optimizer for device_type GPU is enabled.\n",
            "2022-09-22 02:49:17.669720: I tensorflow/core/grappler/optimizers/custom_graph_optimizer_registry.cc:113] Plugin optimizer for device_type GPU is enabled.\n",
            "2022-09-22 02:49:17.754446: I tensorflow/core/grappler/optimizers/custom_graph_optimizer_registry.cc:113] Plugin optimizer for device_type GPU is enabled.\n"
          ]
        },
        {
          "name": "stdout",
          "output_type": "stream",
          "text": [
            "1/1 [==============================] - 0s 32ms/step\n",
            "1/1 [==============================] - 0s 30ms/step\n",
            "1/1 [==============================] - 0s 30ms/step\n"
          ]
        },
        {
          "name": "stderr",
          "output_type": "stream",
          "text": [
            "2022-09-22 02:49:17.840542: I tensorflow/core/grappler/optimizers/custom_graph_optimizer_registry.cc:113] Plugin optimizer for device_type GPU is enabled.\n",
            "2022-09-22 02:49:17.928292: I tensorflow/core/grappler/optimizers/custom_graph_optimizer_registry.cc:113] Plugin optimizer for device_type GPU is enabled.\n",
            "2022-09-22 02:49:18.013387: I tensorflow/core/grappler/optimizers/custom_graph_optimizer_registry.cc:113] Plugin optimizer for device_type GPU is enabled.\n"
          ]
        },
        {
          "name": "stdout",
          "output_type": "stream",
          "text": [
            "1/1 [==============================] - 0s 30ms/step\n",
            "1/1 [==============================] - 0s 30ms/step\n",
            "1/1 [==============================] - 0s 32ms/step\n"
          ]
        },
        {
          "name": "stderr",
          "output_type": "stream",
          "text": [
            "2022-09-22 02:49:18.098125: I tensorflow/core/grappler/optimizers/custom_graph_optimizer_registry.cc:113] Plugin optimizer for device_type GPU is enabled.\n",
            "2022-09-22 02:49:18.182692: I tensorflow/core/grappler/optimizers/custom_graph_optimizer_registry.cc:113] Plugin optimizer for device_type GPU is enabled.\n",
            "2022-09-22 02:49:18.267822: I tensorflow/core/grappler/optimizers/custom_graph_optimizer_registry.cc:113] Plugin optimizer for device_type GPU is enabled.\n"
          ]
        },
        {
          "name": "stdout",
          "output_type": "stream",
          "text": [
            "1/1 [==============================] - 0s 30ms/step\n",
            "1/1 [==============================] - 0s 30ms/step\n",
            "1/1 [==============================] - 0s 30ms/step\n"
          ]
        },
        {
          "name": "stderr",
          "output_type": "stream",
          "text": [
            "2022-09-22 02:49:18.352946: I tensorflow/core/grappler/optimizers/custom_graph_optimizer_registry.cc:113] Plugin optimizer for device_type GPU is enabled.\n",
            "2022-09-22 02:49:18.443086: I tensorflow/core/grappler/optimizers/custom_graph_optimizer_registry.cc:113] Plugin optimizer for device_type GPU is enabled.\n",
            "2022-09-22 02:49:18.526261: I tensorflow/core/grappler/optimizers/custom_graph_optimizer_registry.cc:113] Plugin optimizer for device_type GPU is enabled.\n"
          ]
        },
        {
          "name": "stdout",
          "output_type": "stream",
          "text": [
            "1/1 [==============================] - 0s 30ms/step\n",
            "1/1 [==============================] - 0s 30ms/step\n",
            "1/1 [==============================] - 0s 30ms/step\n"
          ]
        },
        {
          "name": "stderr",
          "output_type": "stream",
          "text": [
            "2022-09-22 02:49:18.610733: I tensorflow/core/grappler/optimizers/custom_graph_optimizer_registry.cc:113] Plugin optimizer for device_type GPU is enabled.\n",
            "2022-09-22 02:49:18.696134: I tensorflow/core/grappler/optimizers/custom_graph_optimizer_registry.cc:113] Plugin optimizer for device_type GPU is enabled.\n",
            "2022-09-22 02:49:18.781234: I tensorflow/core/grappler/optimizers/custom_graph_optimizer_registry.cc:113] Plugin optimizer for device_type GPU is enabled.\n"
          ]
        },
        {
          "name": "stdout",
          "output_type": "stream",
          "text": [
            "1/1 [==============================] - 0s 48ms/step\n",
            "1/1 [==============================] - 0s 51ms/step\n"
          ]
        },
        {
          "name": "stderr",
          "output_type": "stream",
          "text": [
            "2022-09-22 02:49:18.882159: I tensorflow/core/grappler/optimizers/custom_graph_optimizer_registry.cc:113] Plugin optimizer for device_type GPU is enabled.\n",
            "2022-09-22 02:49:18.968776: I tensorflow/core/grappler/optimizers/custom_graph_optimizer_registry.cc:113] Plugin optimizer for device_type GPU is enabled.\n"
          ]
        },
        {
          "name": "stdout",
          "output_type": "stream",
          "text": [
            "1/1 [==============================] - 0s 31ms/step\n",
            "1/1 [==============================] - 0s 29ms/step\n",
            "1/1 [==============================] - 0s 30ms/step\n"
          ]
        },
        {
          "name": "stderr",
          "output_type": "stream",
          "text": [
            "2022-09-22 02:49:19.113800: I tensorflow/core/grappler/optimizers/custom_graph_optimizer_registry.cc:113] Plugin optimizer for device_type GPU is enabled.\n",
            "2022-09-22 02:49:19.198122: I tensorflow/core/grappler/optimizers/custom_graph_optimizer_registry.cc:113] Plugin optimizer for device_type GPU is enabled.\n",
            "2022-09-22 02:49:19.290109: I tensorflow/core/grappler/optimizers/custom_graph_optimizer_registry.cc:113] Plugin optimizer for device_type GPU is enabled.\n"
          ]
        },
        {
          "name": "stdout",
          "output_type": "stream",
          "text": [
            "1/1 [==============================] - 0s 37ms/step\n",
            "1/1 [==============================] - 0s 30ms/step\n"
          ]
        },
        {
          "name": "stderr",
          "output_type": "stream",
          "text": [
            "2022-09-22 02:49:19.384415: I tensorflow/core/grappler/optimizers/custom_graph_optimizer_registry.cc:113] Plugin optimizer for device_type GPU is enabled.\n",
            "2022-09-22 02:49:19.474701: I tensorflow/core/grappler/optimizers/custom_graph_optimizer_registry.cc:113] Plugin optimizer for device_type GPU is enabled.\n",
            " 80%|████████  | 8/10 [00:27<00:06,  3.43s/it]"
          ]
        },
        {
          "name": "stdout",
          "output_type": "stream",
          "text": [
            "1/1 [==============================] - 0s 29ms/step\n"
          ]
        },
        {
          "name": "stderr",
          "output_type": "stream",
          "text": [
            "2022-09-22 02:49:19.566126: I tensorflow/core/grappler/optimizers/custom_graph_optimizer_registry.cc:113] Plugin optimizer for device_type GPU is enabled.\n"
          ]
        },
        {
          "name": "stdout",
          "output_type": "stream",
          "text": [
            "1/1 [==============================] - 0s 29ms/step\n",
            "1/1 [==============================] - 0s 32ms/step\n"
          ]
        },
        {
          "name": "stderr",
          "output_type": "stream",
          "text": [
            "2022-09-22 02:49:19.651218: I tensorflow/core/grappler/optimizers/custom_graph_optimizer_registry.cc:113] Plugin optimizer for device_type GPU is enabled.\n",
            "2022-09-22 02:49:19.744270: I tensorflow/core/grappler/optimizers/custom_graph_optimizer_registry.cc:113] Plugin optimizer for device_type GPU is enabled.\n"
          ]
        },
        {
          "name": "stdout",
          "output_type": "stream",
          "text": [
            "1/1 [==============================] - 0s 29ms/step\n"
          ]
        },
        {
          "name": "stderr",
          "output_type": "stream",
          "text": [
            "2022-09-22 02:49:19.832411: I tensorflow/core/grappler/optimizers/custom_graph_optimizer_registry.cc:113] Plugin optimizer for device_type GPU is enabled.\n"
          ]
        },
        {
          "name": "stdout",
          "output_type": "stream",
          "text": [
            "1/1 [==============================] - 0s 31ms/step\n",
            "1/1 [==============================] - 0s 34ms/step\n"
          ]
        },
        {
          "name": "stderr",
          "output_type": "stream",
          "text": [
            "2022-09-22 02:49:19.920216: I tensorflow/core/grappler/optimizers/custom_graph_optimizer_registry.cc:113] Plugin optimizer for device_type GPU is enabled.\n",
            "2022-09-22 02:49:20.014709: I tensorflow/core/grappler/optimizers/custom_graph_optimizer_registry.cc:113] Plugin optimizer for device_type GPU is enabled.\n",
            "2022-09-22 02:49:20.107293: I tensorflow/core/grappler/optimizers/custom_graph_optimizer_registry.cc:113] Plugin optimizer for device_type GPU is enabled.\n"
          ]
        },
        {
          "name": "stdout",
          "output_type": "stream",
          "text": [
            "1/1 [==============================] - 0s 33ms/step\n",
            "1/1 [==============================] - 0s 33ms/step\n"
          ]
        },
        {
          "name": "stderr",
          "output_type": "stream",
          "text": [
            "2022-09-22 02:49:20.203080: I tensorflow/core/grappler/optimizers/custom_graph_optimizer_registry.cc:113] Plugin optimizer for device_type GPU is enabled.\n",
            "2022-09-22 02:49:20.300844: I tensorflow/core/grappler/optimizers/custom_graph_optimizer_registry.cc:113] Plugin optimizer for device_type GPU is enabled.\n"
          ]
        },
        {
          "name": "stdout",
          "output_type": "stream",
          "text": [
            "1/1 [==============================] - 0s 33ms/step\n"
          ]
        },
        {
          "name": "stderr",
          "output_type": "stream",
          "text": [
            "2022-09-22 02:49:20.393314: I tensorflow/core/grappler/optimizers/custom_graph_optimizer_registry.cc:113] Plugin optimizer for device_type GPU is enabled.\n"
          ]
        },
        {
          "name": "stdout",
          "output_type": "stream",
          "text": [
            "1/1 [==============================] - 0s 32ms/step\n",
            "1/1 [==============================] - 0s 37ms/step\n"
          ]
        },
        {
          "name": "stderr",
          "output_type": "stream",
          "text": [
            "2022-09-22 02:49:20.492770: I tensorflow/core/grappler/optimizers/custom_graph_optimizer_registry.cc:113] Plugin optimizer for device_type GPU is enabled.\n",
            "2022-09-22 02:49:20.578945: I tensorflow/core/grappler/optimizers/custom_graph_optimizer_registry.cc:113] Plugin optimizer for device_type GPU is enabled.\n"
          ]
        },
        {
          "name": "stdout",
          "output_type": "stream",
          "text": [
            "1/1 [==============================] - 0s 31ms/step\n",
            "1/1 [==============================] - 0s 30ms/step\n"
          ]
        },
        {
          "name": "stderr",
          "output_type": "stream",
          "text": [
            "2022-09-22 02:49:20.666505: I tensorflow/core/grappler/optimizers/custom_graph_optimizer_registry.cc:113] Plugin optimizer for device_type GPU is enabled.\n"
          ]
        },
        {
          "name": "stdout",
          "output_type": "stream",
          "text": [
            "1/1 [==============================] - 0s 30ms/step\n",
            "1/1 [==============================] - 0s 30ms/step\n"
          ]
        },
        {
          "name": "stderr",
          "output_type": "stream",
          "text": [
            "2022-09-22 02:49:20.750345: I tensorflow/core/grappler/optimizers/custom_graph_optimizer_registry.cc:113] Plugin optimizer for device_type GPU is enabled.\n",
            "2022-09-22 02:49:20.836078: I tensorflow/core/grappler/optimizers/custom_graph_optimizer_registry.cc:113] Plugin optimizer for device_type GPU is enabled.\n"
          ]
        },
        {
          "name": "stdout",
          "output_type": "stream",
          "text": [
            "1/1 [==============================] - 0s 31ms/step\n"
          ]
        },
        {
          "name": "stderr",
          "output_type": "stream",
          "text": [
            "2022-09-22 02:49:20.921326: I tensorflow/core/grappler/optimizers/custom_graph_optimizer_registry.cc:113] Plugin optimizer for device_type GPU is enabled.\n"
          ]
        },
        {
          "name": "stdout",
          "output_type": "stream",
          "text": [
            "1/1 [==============================] - 0s 30ms/step\n",
            "1/1 [==============================] - 0s 34ms/step\n"
          ]
        },
        {
          "name": "stderr",
          "output_type": "stream",
          "text": [
            "2022-09-22 02:49:21.008795: I tensorflow/core/grappler/optimizers/custom_graph_optimizer_registry.cc:113] Plugin optimizer for device_type GPU is enabled.\n",
            "2022-09-22 02:49:21.096694: I tensorflow/core/grappler/optimizers/custom_graph_optimizer_registry.cc:113] Plugin optimizer for device_type GPU is enabled.\n"
          ]
        },
        {
          "name": "stdout",
          "output_type": "stream",
          "text": [
            "1/1 [==============================] - 0s 33ms/step\n"
          ]
        },
        {
          "name": "stderr",
          "output_type": "stream",
          "text": [
            "2022-09-22 02:49:21.188581: I tensorflow/core/grappler/optimizers/custom_graph_optimizer_registry.cc:113] Plugin optimizer for device_type GPU is enabled.\n"
          ]
        },
        {
          "name": "stdout",
          "output_type": "stream",
          "text": [
            "1/1 [==============================] - 0s 29ms/step\n",
            "1/1 [==============================] - 0s 31ms/step\n"
          ]
        },
        {
          "name": "stderr",
          "output_type": "stream",
          "text": [
            "2022-09-22 02:49:21.281199: I tensorflow/core/grappler/optimizers/custom_graph_optimizer_registry.cc:113] Plugin optimizer for device_type GPU is enabled.\n",
            "2022-09-22 02:49:21.369889: I tensorflow/core/grappler/optimizers/custom_graph_optimizer_registry.cc:113] Plugin optimizer for device_type GPU is enabled.\n"
          ]
        },
        {
          "name": "stdout",
          "output_type": "stream",
          "text": [
            "1/1 [==============================] - 0s 30ms/step\n"
          ]
        },
        {
          "name": "stderr",
          "output_type": "stream",
          "text": [
            "2022-09-22 02:49:21.459411: I tensorflow/core/grappler/optimizers/custom_graph_optimizer_registry.cc:113] Plugin optimizer for device_type GPU is enabled.\n"
          ]
        },
        {
          "name": "stdout",
          "output_type": "stream",
          "text": [
            "1/1 [==============================] - 0s 31ms/step\n",
            "1/1 [==============================] - 0s 29ms/step\n"
          ]
        },
        {
          "name": "stderr",
          "output_type": "stream",
          "text": [
            "2022-09-22 02:49:21.546822: I tensorflow/core/grappler/optimizers/custom_graph_optimizer_registry.cc:113] Plugin optimizer for device_type GPU is enabled.\n",
            "2022-09-22 02:49:21.630857: I tensorflow/core/grappler/optimizers/custom_graph_optimizer_registry.cc:113] Plugin optimizer for device_type GPU is enabled.\n"
          ]
        },
        {
          "name": "stdout",
          "output_type": "stream",
          "text": [
            "1/1 [==============================] - 0s 415ms/step\n",
            "1/1 [==============================] - 0s 29ms/step\n",
            "1/1 [==============================] - 0s 30ms/step\n"
          ]
        },
        {
          "name": "stderr",
          "output_type": "stream",
          "text": [
            "2022-09-22 02:49:22.097750: I tensorflow/core/grappler/optimizers/custom_graph_optimizer_registry.cc:113] Plugin optimizer for device_type GPU is enabled.\n",
            "2022-09-22 02:49:22.187405: I tensorflow/core/grappler/optimizers/custom_graph_optimizer_registry.cc:113] Plugin optimizer for device_type GPU is enabled.\n",
            "2022-09-22 02:49:22.271541: I tensorflow/core/grappler/optimizers/custom_graph_optimizer_registry.cc:113] Plugin optimizer for device_type GPU is enabled.\n"
          ]
        },
        {
          "name": "stdout",
          "output_type": "stream",
          "text": [
            "1/1 [==============================] - 0s 30ms/step\n",
            "1/1 [==============================] - 0s 29ms/step\n",
            "1/1 [==============================] - 0s 30ms/step\n"
          ]
        },
        {
          "name": "stderr",
          "output_type": "stream",
          "text": [
            "2022-09-22 02:49:22.356089: I tensorflow/core/grappler/optimizers/custom_graph_optimizer_registry.cc:113] Plugin optimizer for device_type GPU is enabled.\n",
            "2022-09-22 02:49:22.439257: I tensorflow/core/grappler/optimizers/custom_graph_optimizer_registry.cc:113] Plugin optimizer for device_type GPU is enabled.\n",
            "2022-09-22 02:49:22.523499: I tensorflow/core/grappler/optimizers/custom_graph_optimizer_registry.cc:113] Plugin optimizer for device_type GPU is enabled.\n"
          ]
        },
        {
          "name": "stdout",
          "output_type": "stream",
          "text": [
            "1/1 [==============================] - 0s 32ms/step\n",
            "1/1 [==============================] - 0s 30ms/step\n",
            "1/1 [==============================] - 0s 29ms/step\n"
          ]
        },
        {
          "name": "stderr",
          "output_type": "stream",
          "text": [
            "2022-09-22 02:49:22.609405: I tensorflow/core/grappler/optimizers/custom_graph_optimizer_registry.cc:113] Plugin optimizer for device_type GPU is enabled.\n",
            "2022-09-22 02:49:22.694364: I tensorflow/core/grappler/optimizers/custom_graph_optimizer_registry.cc:113] Plugin optimizer for device_type GPU is enabled.\n",
            "2022-09-22 02:49:22.778995: I tensorflow/core/grappler/optimizers/custom_graph_optimizer_registry.cc:113] Plugin optimizer for device_type GPU is enabled.\n"
          ]
        },
        {
          "name": "stdout",
          "output_type": "stream",
          "text": [
            "1/1 [==============================] - 0s 30ms/step\n",
            "1/1 [==============================] - 0s 31ms/step\n",
            "1/1 [==============================] - 0s 29ms/step\n"
          ]
        },
        {
          "name": "stderr",
          "output_type": "stream",
          "text": [
            "2022-09-22 02:49:22.864336: I tensorflow/core/grappler/optimizers/custom_graph_optimizer_registry.cc:113] Plugin optimizer for device_type GPU is enabled.\n",
            "2022-09-22 02:49:22.947936: I tensorflow/core/grappler/optimizers/custom_graph_optimizer_registry.cc:113] Plugin optimizer for device_type GPU is enabled.\n",
            "2022-09-22 02:49:23.032151: I tensorflow/core/grappler/optimizers/custom_graph_optimizer_registry.cc:113] Plugin optimizer for device_type GPU is enabled.\n"
          ]
        },
        {
          "name": "stdout",
          "output_type": "stream",
          "text": [
            "1/1 [==============================] - 0s 30ms/step\n"
          ]
        },
        {
          "name": "stderr",
          "output_type": "stream",
          "text": [
            "2022-09-22 02:49:23.117971: I tensorflow/core/grappler/optimizers/custom_graph_optimizer_registry.cc:113] Plugin optimizer for device_type GPU is enabled.\n",
            " 90%|█████████ | 9/10 [00:31<00:03,  3.50s/it]"
          ]
        },
        {
          "name": "stdout",
          "output_type": "stream",
          "text": [
            "1/1 [==============================] - 0s 30ms/step\n",
            "1/1 [==============================] - 0s 29ms/step\n"
          ]
        },
        {
          "name": "stderr",
          "output_type": "stream",
          "text": [
            "2022-09-22 02:49:23.202765: I tensorflow/core/grappler/optimizers/custom_graph_optimizer_registry.cc:113] Plugin optimizer for device_type GPU is enabled.\n",
            "2022-09-22 02:49:23.286519: I tensorflow/core/grappler/optimizers/custom_graph_optimizer_registry.cc:113] Plugin optimizer for device_type GPU is enabled.\n"
          ]
        },
        {
          "name": "stdout",
          "output_type": "stream",
          "text": [
            "1/1 [==============================] - 0s 33ms/step\n"
          ]
        },
        {
          "name": "stderr",
          "output_type": "stream",
          "text": [
            "2022-09-22 02:49:23.376589: I tensorflow/core/grappler/optimizers/custom_graph_optimizer_registry.cc:113] Plugin optimizer for device_type GPU is enabled.\n"
          ]
        },
        {
          "name": "stdout",
          "output_type": "stream",
          "text": [
            "1/1 [==============================] - 0s 30ms/step\n",
            "1/1 [==============================] - 0s 30ms/step\n"
          ]
        },
        {
          "name": "stderr",
          "output_type": "stream",
          "text": [
            "2022-09-22 02:49:23.462134: I tensorflow/core/grappler/optimizers/custom_graph_optimizer_registry.cc:113] Plugin optimizer for device_type GPU is enabled.\n",
            "2022-09-22 02:49:23.547489: I tensorflow/core/grappler/optimizers/custom_graph_optimizer_registry.cc:113] Plugin optimizer for device_type GPU is enabled.\n"
          ]
        },
        {
          "name": "stdout",
          "output_type": "stream",
          "text": [
            "1/1 [==============================] - 0s 30ms/step\n"
          ]
        },
        {
          "name": "stderr",
          "output_type": "stream",
          "text": [
            "2022-09-22 02:49:23.633003: I tensorflow/core/grappler/optimizers/custom_graph_optimizer_registry.cc:113] Plugin optimizer for device_type GPU is enabled.\n"
          ]
        },
        {
          "name": "stdout",
          "output_type": "stream",
          "text": [
            "1/1 [==============================] - 0s 30ms/step\n",
            "1/1 [==============================] - 0s 33ms/step\n"
          ]
        },
        {
          "name": "stderr",
          "output_type": "stream",
          "text": [
            "2022-09-22 02:49:23.717928: I tensorflow/core/grappler/optimizers/custom_graph_optimizer_registry.cc:113] Plugin optimizer for device_type GPU is enabled.\n",
            "2022-09-22 02:49:23.810241: I tensorflow/core/grappler/optimizers/custom_graph_optimizer_registry.cc:113] Plugin optimizer for device_type GPU is enabled.\n",
            "2022-09-22 02:49:23.904236: I tensorflow/core/grappler/optimizers/custom_graph_optimizer_registry.cc:113] Plugin optimizer for device_type GPU is enabled.\n"
          ]
        },
        {
          "name": "stdout",
          "output_type": "stream",
          "text": [
            "1/1 [==============================] - 0s 33ms/step\n",
            "1/1 [==============================] - 0s 34ms/step\n"
          ]
        },
        {
          "name": "stderr",
          "output_type": "stream",
          "text": [
            "2022-09-22 02:49:24.006164: I tensorflow/core/grappler/optimizers/custom_graph_optimizer_registry.cc:113] Plugin optimizer for device_type GPU is enabled.\n",
            "2022-09-22 02:49:24.101540: I tensorflow/core/grappler/optimizers/custom_graph_optimizer_registry.cc:113] Plugin optimizer for device_type GPU is enabled.\n"
          ]
        },
        {
          "name": "stdout",
          "output_type": "stream",
          "text": [
            "1/1 [==============================] - 0s 35ms/step\n"
          ]
        },
        {
          "name": "stderr",
          "output_type": "stream",
          "text": [
            "2022-09-22 02:49:24.200425: I tensorflow/core/grappler/optimizers/custom_graph_optimizer_registry.cc:113] Plugin optimizer for device_type GPU is enabled.\n"
          ]
        },
        {
          "name": "stdout",
          "output_type": "stream",
          "text": [
            "1/1 [==============================] - 0s 34ms/step\n",
            "1/1 [==============================] - 0s 32ms/step\n"
          ]
        },
        {
          "name": "stderr",
          "output_type": "stream",
          "text": [
            "2022-09-22 02:49:24.298155: I tensorflow/core/grappler/optimizers/custom_graph_optimizer_registry.cc:113] Plugin optimizer for device_type GPU is enabled.\n",
            "2022-09-22 02:49:24.396841: I tensorflow/core/grappler/optimizers/custom_graph_optimizer_registry.cc:113] Plugin optimizer for device_type GPU is enabled.\n"
          ]
        },
        {
          "name": "stdout",
          "output_type": "stream",
          "text": [
            "1/1 [==============================] - 0s 35ms/step\n"
          ]
        },
        {
          "name": "stderr",
          "output_type": "stream",
          "text": [
            "2022-09-22 02:49:24.496835: I tensorflow/core/grappler/optimizers/custom_graph_optimizer_registry.cc:113] Plugin optimizer for device_type GPU is enabled.\n"
          ]
        },
        {
          "name": "stdout",
          "output_type": "stream",
          "text": [
            "1/1 [==============================] - 0s 31ms/step\n",
            "1/1 [==============================] - 0s 31ms/step\n",
            "1/1 [==============================] - 0s 30ms/step\n"
          ]
        },
        {
          "name": "stderr",
          "output_type": "stream",
          "text": [
            "2022-09-22 02:49:24.586339: I tensorflow/core/grappler/optimizers/custom_graph_optimizer_registry.cc:113] Plugin optimizer for device_type GPU is enabled.\n",
            "2022-09-22 02:49:24.672733: I tensorflow/core/grappler/optimizers/custom_graph_optimizer_registry.cc:113] Plugin optimizer for device_type GPU is enabled.\n"
          ]
        },
        {
          "name": "stdout",
          "output_type": "stream",
          "text": [
            "1/1 [==============================] - 0s 30ms/step\n"
          ]
        },
        {
          "name": "stderr",
          "output_type": "stream",
          "text": [
            "2022-09-22 02:49:24.762520: I tensorflow/core/grappler/optimizers/custom_graph_optimizer_registry.cc:113] Plugin optimizer for device_type GPU is enabled.\n"
          ]
        },
        {
          "name": "stdout",
          "output_type": "stream",
          "text": [
            "1/1 [==============================] - 0s 30ms/step\n",
            "1/1 [==============================] - 0s 30ms/step\n"
          ]
        },
        {
          "name": "stderr",
          "output_type": "stream",
          "text": [
            "2022-09-22 02:49:24.848430: I tensorflow/core/grappler/optimizers/custom_graph_optimizer_registry.cc:113] Plugin optimizer for device_type GPU is enabled.\n",
            "2022-09-22 02:49:24.936379: I tensorflow/core/grappler/optimizers/custom_graph_optimizer_registry.cc:113] Plugin optimizer for device_type GPU is enabled.\n"
          ]
        },
        {
          "name": "stdout",
          "output_type": "stream",
          "text": [
            "1/1 [==============================] - 0s 29ms/step\n"
          ]
        },
        {
          "name": "stderr",
          "output_type": "stream",
          "text": [
            "2022-09-22 02:49:25.021856: I tensorflow/core/grappler/optimizers/custom_graph_optimizer_registry.cc:113] Plugin optimizer for device_type GPU is enabled.\n"
          ]
        },
        {
          "name": "stdout",
          "output_type": "stream",
          "text": [
            "1/1 [==============================] - 0s 30ms/step\n",
            "1/1 [==============================] - 0s 32ms/step\n"
          ]
        },
        {
          "name": "stderr",
          "output_type": "stream",
          "text": [
            "2022-09-22 02:49:25.109230: I tensorflow/core/grappler/optimizers/custom_graph_optimizer_registry.cc:113] Plugin optimizer for device_type GPU is enabled.\n",
            "2022-09-22 02:49:25.198607: I tensorflow/core/grappler/optimizers/custom_graph_optimizer_registry.cc:113] Plugin optimizer for device_type GPU is enabled.\n"
          ]
        },
        {
          "name": "stdout",
          "output_type": "stream",
          "text": [
            "1/1 [==============================] - 0s 30ms/step\n"
          ]
        },
        {
          "name": "stderr",
          "output_type": "stream",
          "text": [
            "2022-09-22 02:49:25.285284: I tensorflow/core/grappler/optimizers/custom_graph_optimizer_registry.cc:113] Plugin optimizer for device_type GPU is enabled.\n"
          ]
        },
        {
          "name": "stdout",
          "output_type": "stream",
          "text": [
            "1/1 [==============================] - 0s 30ms/step\n",
            "1/1 [==============================] - 0s 30ms/step\n"
          ]
        },
        {
          "name": "stderr",
          "output_type": "stream",
          "text": [
            "2022-09-22 02:49:25.373401: I tensorflow/core/grappler/optimizers/custom_graph_optimizer_registry.cc:113] Plugin optimizer for device_type GPU is enabled.\n",
            "2022-09-22 02:49:25.458904: I tensorflow/core/grappler/optimizers/custom_graph_optimizer_registry.cc:113] Plugin optimizer for device_type GPU is enabled.\n"
          ]
        },
        {
          "name": "stdout",
          "output_type": "stream",
          "text": [
            "1/1 [==============================] - 0s 31ms/step\n"
          ]
        },
        {
          "name": "stderr",
          "output_type": "stream",
          "text": [
            "2022-09-22 02:49:25.549588: I tensorflow/core/grappler/optimizers/custom_graph_optimizer_registry.cc:113] Plugin optimizer for device_type GPU is enabled.\n"
          ]
        },
        {
          "name": "stdout",
          "output_type": "stream",
          "text": [
            "1/1 [==============================] - 0s 31ms/step\n",
            "1/1 [==============================] - 0s 32ms/step\n"
          ]
        },
        {
          "name": "stderr",
          "output_type": "stream",
          "text": [
            "2022-09-22 02:49:25.636965: I tensorflow/core/grappler/optimizers/custom_graph_optimizer_registry.cc:113] Plugin optimizer for device_type GPU is enabled.\n",
            "2022-09-22 02:49:25.723161: I tensorflow/core/grappler/optimizers/custom_graph_optimizer_registry.cc:113] Plugin optimizer for device_type GPU is enabled.\n"
          ]
        },
        {
          "name": "stdout",
          "output_type": "stream",
          "text": [
            "1/1 [==============================] - 0s 29ms/step\n"
          ]
        },
        {
          "name": "stderr",
          "output_type": "stream",
          "text": [
            "2022-09-22 02:49:25.811204: I tensorflow/core/grappler/optimizers/custom_graph_optimizer_registry.cc:113] Plugin optimizer for device_type GPU is enabled.\n"
          ]
        },
        {
          "name": "stdout",
          "output_type": "stream",
          "text": [
            "1/1 [==============================] - 0s 34ms/step\n",
            "1/1 [==============================] - 0s 30ms/step\n"
          ]
        },
        {
          "name": "stderr",
          "output_type": "stream",
          "text": [
            "2022-09-22 02:49:25.900122: I tensorflow/core/grappler/optimizers/custom_graph_optimizer_registry.cc:113] Plugin optimizer for device_type GPU is enabled.\n",
            "2022-09-22 02:49:25.988759: I tensorflow/core/grappler/optimizers/custom_graph_optimizer_registry.cc:113] Plugin optimizer for device_type GPU is enabled.\n"
          ]
        },
        {
          "name": "stdout",
          "output_type": "stream",
          "text": [
            "1/1 [==============================] - 0s 30ms/step\n"
          ]
        },
        {
          "name": "stderr",
          "output_type": "stream",
          "text": [
            "2022-09-22 02:49:26.074364: I tensorflow/core/grappler/optimizers/custom_graph_optimizer_registry.cc:113] Plugin optimizer for device_type GPU is enabled.\n"
          ]
        },
        {
          "name": "stdout",
          "output_type": "stream",
          "text": [
            "1/1 [==============================] - 0s 30ms/step\n",
            "1/1 [==============================] - 0s 31ms/step\n"
          ]
        },
        {
          "name": "stderr",
          "output_type": "stream",
          "text": [
            "2022-09-22 02:49:26.161336: I tensorflow/core/grappler/optimizers/custom_graph_optimizer_registry.cc:113] Plugin optimizer for device_type GPU is enabled.\n",
            "2022-09-22 02:49:26.250816: I tensorflow/core/grappler/optimizers/custom_graph_optimizer_registry.cc:113] Plugin optimizer for device_type GPU is enabled.\n"
          ]
        },
        {
          "name": "stdout",
          "output_type": "stream",
          "text": [
            "1/1 [==============================] - 0s 30ms/step\n"
          ]
        },
        {
          "name": "stderr",
          "output_type": "stream",
          "text": [
            "2022-09-22 02:49:26.335280: I tensorflow/core/grappler/optimizers/custom_graph_optimizer_registry.cc:113] Plugin optimizer for device_type GPU is enabled.\n"
          ]
        },
        {
          "name": "stdout",
          "output_type": "stream",
          "text": [
            "1/1 [==============================] - 0s 29ms/step\n"
          ]
        },
        {
          "name": "stderr",
          "output_type": "stream",
          "text": [
            "2022-09-22 02:49:26.424569: I tensorflow/core/grappler/optimizers/custom_graph_optimizer_registry.cc:113] Plugin optimizer for device_type GPU is enabled.\n",
            "100%|██████████| 10/10 [00:34<00:00,  3.49s/it]\n"
          ]
        }
      ],
      "source": [
        "zero_csv = [0 for i in range(14)]  # 시점이 비어있는 데이터 0으로 채우기 위한 변수\n",
        "\n",
        "for i in tqdm(range(10)):\n",
        "    data_list = glob(f'./aT_data/data/test/set_{i}/*.csv')\n",
        "    for idx,j in enumerate(data_list):\n",
        "        df = pd.read_csv(j)\n",
        "        \n",
        "        if len(df) == 0:\n",
        "            df['zero_non'] = zero_csv\n",
        "            df = df.fillna(0)\n",
        "            df.drop('zero_non', axis=1, inplace=True)\n",
        "\n",
        "        file_number = j.split('test_')[1].split('.')[0]\n",
        "\n",
        "        # 사용할 열 선택 및 index 설정\n",
        "\n",
        "        df = feature_engineer(df)\n",
        "        df = df[[c for c in df.columns if c != '해당일자_전체평균가격(원)']]\n",
        "\n",
        "        df.set_index('datadate', drop=True, inplace=True)\n",
        "        \n",
        "        # # nan 처리\n",
        "        # df = df.replace({' ': np.nan})\n",
        "        # df = df.fillna(0)\n",
        "\n",
        "        # # train input 과 형상 맞추기\n",
        "        # add_col = [i for i in check_col if i not in df.columns]\n",
        "\n",
        "        # for a in add_col:\n",
        "        #     df[a] = 0\n",
        "\n",
        "        # # ' ' -> nan 으로 변경\n",
        "        # for a in df.columns:\n",
        "        #     df[a] = df[a].replace({' ': np.nan})\n",
        "\n",
        "        # # nan 처리\n",
        "        # df = df.fillna(0)\n",
        "        # # df = df.interpolate(method = 'values')\n",
        "\n",
        "        df = pd.DataFrame(scalers[file_number].transform(df))\n",
        "\n",
        "        # x_test  생성\n",
        "        df_test = astype_data(df.values.reshape(1, df.values.shape[0], df.values.shape[1]))\n",
        "\n",
        "        # model test\n",
        "        if os.path.exists(f'./model_output/{test_num}') == False:\n",
        "            os.mkdir(f'./model_output/{test_num}')\n",
        "\n",
        "        if os.path.exists(f'./model_output/{test_num}/set_{i}') == False:\n",
        "            os.mkdir(f'./model_output/{test_num}/set_{i}')\n",
        "\n",
        "        # 해당하는 모델 불러오기\n",
        "        model_test = tf.keras.models.load_model(f'./model/transformer-{file_number}-{epoch}-{batch}.h5')\n",
        "        pred = model_test.predict(df_test)\n",
        "\n",
        "\n",
        "        # 결과 저장\n",
        "        save_df = pd.DataFrame(pred).T\n",
        "        save_df.to_csv(f'./model_output/{test_num}/set_{i}/predict_{file_number}.csv', index=False)"
      ]
    },
    {
      "cell_type": "markdown",
      "metadata": {
        "id": "z4MQRAWbJ8fW"
      },
      "source": [
        "&nbsp;"
      ]
    },
    {
      "cell_type": "markdown",
      "metadata": {
        "id": "pXoDxJGKJ8fX"
      },
      "source": [
        "## 정답 제출 파일생성"
      ]
    },
    {
      "cell_type": "code",
      "execution_count": 13,
      "metadata": {
        "id": "VXtt4y4vJ8fY"
      },
      "outputs": [
        {
          "name": "stderr",
          "output_type": "stream",
          "text": [
            "100%|██████████| 10/10 [00:01<00:00,  9.36it/s]\n"
          ]
        }
      ],
      "source": [
        "for k in tqdm(range(10)):\n",
        "  globals()[f'set_df_{k}'] = pd.DataFrame()\n",
        "  answer_df_list = glob(f'./model_output/{test_num}/set_{k}/*.csv') # 예측한 결과 불러오기\n",
        "  pum_list = glob(f'./aT_data/aT_test_raw/sep_{k}/*.csv') # 기존 test input 불러오기\n",
        "  pummok = [a for a in pum_list if 'pummok' in a.split('/')[-1]]\n",
        "\n",
        "  for i in answer_df_list:\n",
        "    df = pd.read_csv(i)\n",
        "    number = i.split('_')[-1].split('.')[0]\n",
        "\n",
        "    base_number = 0\n",
        "    for p in pummok:\n",
        "      if number == p.split('_')[-1].split('.')[0]:\n",
        "        pum_df = pd.read_csv(p)\n",
        "\n",
        "        if len(pum_df) != 0:\n",
        "           base_number = pum_df.iloc[len(pum_df)-1]['해당일자_전체평균가격(원)']  # 기존 각 sep 마다 test input의 마지막 target 값 가져오기 (변동률 계산을 위해)\n",
        "        else:\n",
        "          base_number = np.nan\n",
        "\n",
        "    globals()[f'set_df_{k}'][f'품목{number}']  = [base_number] + list(df[df.columns[-1]].values) # 각 품목당 순서를 t, t+1 ... t+28 로 변경\n",
        "\n",
        "  globals()[f'set_df_{k}'] = globals()[f'set_df_{k}'][[f'품목{col}' for col in range(37)]] # 열 순서를 품목0 ~ 품목36 으로 변경"
      ]
    },
    {
      "cell_type": "markdown",
      "metadata": {
        "id": "v2NbT2FCJ8fZ"
      },
      "source": [
        "- 변동률 계산을 위한 t, t+1 ... t+28 설정"
      ]
    },
    {
      "cell_type": "code",
      "execution_count": 14,
      "metadata": {
        "id": "sqT2NTY7J8fa"
      },
      "outputs": [
        {
          "data": {
            "text/html": [
              "<div>\n",
              "<style scoped>\n",
              "    .dataframe tbody tr th:only-of-type {\n",
              "        vertical-align: middle;\n",
              "    }\n",
              "\n",
              "    .dataframe tbody tr th {\n",
              "        vertical-align: top;\n",
              "    }\n",
              "\n",
              "    .dataframe thead th {\n",
              "        text-align: right;\n",
              "    }\n",
              "</style>\n",
              "<table border=\"1\" class=\"dataframe\">\n",
              "  <thead>\n",
              "    <tr style=\"text-align: right;\">\n",
              "      <th></th>\n",
              "      <th>품목0</th>\n",
              "      <th>품목1</th>\n",
              "      <th>품목2</th>\n",
              "      <th>품목3</th>\n",
              "      <th>품목4</th>\n",
              "      <th>품목5</th>\n",
              "      <th>품목6</th>\n",
              "      <th>품목7</th>\n",
              "      <th>품목8</th>\n",
              "      <th>품목9</th>\n",
              "      <th>...</th>\n",
              "      <th>품목27</th>\n",
              "      <th>품목28</th>\n",
              "      <th>품목29</th>\n",
              "      <th>품목30</th>\n",
              "      <th>품목31</th>\n",
              "      <th>품목32</th>\n",
              "      <th>품목33</th>\n",
              "      <th>품목34</th>\n",
              "      <th>품목35</th>\n",
              "      <th>품목36</th>\n",
              "    </tr>\n",
              "  </thead>\n",
              "  <tbody>\n",
              "    <tr>\n",
              "      <th>0</th>\n",
              "      <td>3871.12500</td>\n",
              "      <td>1362.117613</td>\n",
              "      <td>2909.783785</td>\n",
              "      <td>3400.075583</td>\n",
              "      <td>3947.809169</td>\n",
              "      <td>9253.947514</td>\n",
              "      <td>2717.280000</td>\n",
              "      <td>3361.030923</td>\n",
              "      <td>4911.899864</td>\n",
              "      <td>1173.018633</td>\n",
              "      <td>...</td>\n",
              "      <td>8640.811309</td>\n",
              "      <td>602.005658</td>\n",
              "      <td>1105.412623</td>\n",
              "      <td>1566.274239</td>\n",
              "      <td>3633.464557</td>\n",
              "      <td>5454.710444</td>\n",
              "      <td>5619.188362</td>\n",
              "      <td>5230.620027</td>\n",
              "      <td>2905.100888</td>\n",
              "      <td>2087.675036</td>\n",
              "    </tr>\n",
              "    <tr>\n",
              "      <th>1</th>\n",
              "      <td>-1755.51540</td>\n",
              "      <td>-428.310600</td>\n",
              "      <td>-899.836100</td>\n",
              "      <td>-904.880430</td>\n",
              "      <td>-1071.717000</td>\n",
              "      <td>-1890.552500</td>\n",
              "      <td>185.665470</td>\n",
              "      <td>-1383.559200</td>\n",
              "      <td>-1668.901600</td>\n",
              "      <td>-283.745030</td>\n",
              "      <td>...</td>\n",
              "      <td>-3156.816700</td>\n",
              "      <td>-317.845860</td>\n",
              "      <td>-370.382080</td>\n",
              "      <td>-370.479980</td>\n",
              "      <td>-1410.476900</td>\n",
              "      <td>-2561.183600</td>\n",
              "      <td>-1862.741700</td>\n",
              "      <td>-1592.230100</td>\n",
              "      <td>-972.629700</td>\n",
              "      <td>-696.067200</td>\n",
              "    </tr>\n",
              "    <tr>\n",
              "      <th>2</th>\n",
              "      <td>-2169.26510</td>\n",
              "      <td>-548.203060</td>\n",
              "      <td>-1304.013300</td>\n",
              "      <td>-1207.942300</td>\n",
              "      <td>-1364.035600</td>\n",
              "      <td>-2279.715800</td>\n",
              "      <td>124.714400</td>\n",
              "      <td>-1968.657500</td>\n",
              "      <td>-2215.343500</td>\n",
              "      <td>-506.667140</td>\n",
              "      <td>...</td>\n",
              "      <td>-3871.513700</td>\n",
              "      <td>-436.600650</td>\n",
              "      <td>-619.164900</td>\n",
              "      <td>-464.467770</td>\n",
              "      <td>-1636.667000</td>\n",
              "      <td>-3445.241500</td>\n",
              "      <td>-2288.213000</td>\n",
              "      <td>-2024.710600</td>\n",
              "      <td>-1205.245800</td>\n",
              "      <td>-829.958100</td>\n",
              "    </tr>\n",
              "    <tr>\n",
              "      <th>3</th>\n",
              "      <td>-1995.95730</td>\n",
              "      <td>-572.635600</td>\n",
              "      <td>-1078.157200</td>\n",
              "      <td>-1145.684300</td>\n",
              "      <td>-1224.753200</td>\n",
              "      <td>-1978.088500</td>\n",
              "      <td>118.568160</td>\n",
              "      <td>-2026.429000</td>\n",
              "      <td>-1990.579500</td>\n",
              "      <td>-836.541560</td>\n",
              "      <td>...</td>\n",
              "      <td>-3894.800300</td>\n",
              "      <td>-378.427460</td>\n",
              "      <td>-591.457900</td>\n",
              "      <td>-757.406100</td>\n",
              "      <td>-1522.274300</td>\n",
              "      <td>-3141.059800</td>\n",
              "      <td>-2449.217800</td>\n",
              "      <td>-2096.052500</td>\n",
              "      <td>-1157.750400</td>\n",
              "      <td>-752.670600</td>\n",
              "    </tr>\n",
              "    <tr>\n",
              "      <th>4</th>\n",
              "      <td>-1940.91490</td>\n",
              "      <td>-548.355300</td>\n",
              "      <td>-650.151370</td>\n",
              "      <td>-1084.408400</td>\n",
              "      <td>-1089.647800</td>\n",
              "      <td>-1822.651100</td>\n",
              "      <td>56.793137</td>\n",
              "      <td>-2009.034300</td>\n",
              "      <td>-1833.287600</td>\n",
              "      <td>-370.153870</td>\n",
              "      <td>...</td>\n",
              "      <td>-3857.970500</td>\n",
              "      <td>-312.538120</td>\n",
              "      <td>-406.988250</td>\n",
              "      <td>-449.226350</td>\n",
              "      <td>-1521.986600</td>\n",
              "      <td>-2752.106000</td>\n",
              "      <td>-2180.901400</td>\n",
              "      <td>-2047.164400</td>\n",
              "      <td>-1154.472000</td>\n",
              "      <td>-475.630650</td>\n",
              "    </tr>\n",
              "    <tr>\n",
              "      <th>5</th>\n",
              "      <td>-1934.88920</td>\n",
              "      <td>-483.496830</td>\n",
              "      <td>-170.133160</td>\n",
              "      <td>-1098.354000</td>\n",
              "      <td>-1093.964100</td>\n",
              "      <td>-1994.030600</td>\n",
              "      <td>119.908775</td>\n",
              "      <td>-1959.534900</td>\n",
              "      <td>-1635.962300</td>\n",
              "      <td>-60.942760</td>\n",
              "      <td>...</td>\n",
              "      <td>-3794.941200</td>\n",
              "      <td>-295.715300</td>\n",
              "      <td>-296.688700</td>\n",
              "      <td>-82.421580</td>\n",
              "      <td>-1565.927500</td>\n",
              "      <td>-2861.763200</td>\n",
              "      <td>-1939.751300</td>\n",
              "      <td>-1919.257100</td>\n",
              "      <td>-1199.873300</td>\n",
              "      <td>-458.847080</td>\n",
              "    </tr>\n",
              "    <tr>\n",
              "      <th>6</th>\n",
              "      <td>-1571.24730</td>\n",
              "      <td>-365.120540</td>\n",
              "      <td>-74.432884</td>\n",
              "      <td>-869.724700</td>\n",
              "      <td>-909.200500</td>\n",
              "      <td>-1466.739300</td>\n",
              "      <td>60.985703</td>\n",
              "      <td>-1559.334200</td>\n",
              "      <td>-994.586360</td>\n",
              "      <td>-122.583855</td>\n",
              "      <td>...</td>\n",
              "      <td>-3217.728800</td>\n",
              "      <td>-229.878370</td>\n",
              "      <td>-156.712950</td>\n",
              "      <td>-82.678700</td>\n",
              "      <td>-1293.252000</td>\n",
              "      <td>-2216.881000</td>\n",
              "      <td>-1400.765700</td>\n",
              "      <td>-1516.632300</td>\n",
              "      <td>-961.667800</td>\n",
              "      <td>-355.787500</td>\n",
              "    </tr>\n",
              "    <tr>\n",
              "      <th>7</th>\n",
              "      <td>-284.64220</td>\n",
              "      <td>-36.517190</td>\n",
              "      <td>-110.142180</td>\n",
              "      <td>-180.288330</td>\n",
              "      <td>-245.407380</td>\n",
              "      <td>-232.561100</td>\n",
              "      <td>-4.779504</td>\n",
              "      <td>-627.051640</td>\n",
              "      <td>-338.430050</td>\n",
              "      <td>-70.123060</td>\n",
              "      <td>...</td>\n",
              "      <td>-768.979900</td>\n",
              "      <td>-76.955956</td>\n",
              "      <td>-83.501470</td>\n",
              "      <td>-73.971870</td>\n",
              "      <td>-155.542560</td>\n",
              "      <td>-356.412050</td>\n",
              "      <td>-178.997620</td>\n",
              "      <td>-325.240420</td>\n",
              "      <td>-271.127900</td>\n",
              "      <td>-108.157840</td>\n",
              "    </tr>\n",
              "    <tr>\n",
              "      <th>8</th>\n",
              "      <td>-1687.93090</td>\n",
              "      <td>-410.907780</td>\n",
              "      <td>-955.073240</td>\n",
              "      <td>-995.953500</td>\n",
              "      <td>-1201.967000</td>\n",
              "      <td>-1868.619500</td>\n",
              "      <td>41.500980</td>\n",
              "      <td>-1442.305200</td>\n",
              "      <td>-1768.748500</td>\n",
              "      <td>-334.810420</td>\n",
              "      <td>...</td>\n",
              "      <td>-3195.259500</td>\n",
              "      <td>-324.758330</td>\n",
              "      <td>-429.291400</td>\n",
              "      <td>-414.331760</td>\n",
              "      <td>-1300.497700</td>\n",
              "      <td>-2823.542500</td>\n",
              "      <td>-1891.184400</td>\n",
              "      <td>-1635.226900</td>\n",
              "      <td>-1110.917000</td>\n",
              "      <td>-718.867900</td>\n",
              "    </tr>\n",
              "    <tr>\n",
              "      <th>9</th>\n",
              "      <td>-2145.82130</td>\n",
              "      <td>-517.698850</td>\n",
              "      <td>-1322.154700</td>\n",
              "      <td>-1263.616300</td>\n",
              "      <td>-1464.479700</td>\n",
              "      <td>-2210.911600</td>\n",
              "      <td>76.311165</td>\n",
              "      <td>-1902.141500</td>\n",
              "      <td>-2212.106400</td>\n",
              "      <td>-535.494400</td>\n",
              "      <td>...</td>\n",
              "      <td>-3567.559800</td>\n",
              "      <td>-426.933960</td>\n",
              "      <td>-642.840450</td>\n",
              "      <td>-514.126300</td>\n",
              "      <td>-1448.006500</td>\n",
              "      <td>-3537.013700</td>\n",
              "      <td>-2282.080800</td>\n",
              "      <td>-1916.444500</td>\n",
              "      <td>-1282.793300</td>\n",
              "      <td>-805.319300</td>\n",
              "    </tr>\n",
              "    <tr>\n",
              "      <th>10</th>\n",
              "      <td>-1925.91940</td>\n",
              "      <td>-541.452200</td>\n",
              "      <td>-1113.211200</td>\n",
              "      <td>-1207.073600</td>\n",
              "      <td>-1322.797000</td>\n",
              "      <td>-1940.390500</td>\n",
              "      <td>52.790836</td>\n",
              "      <td>-1898.470500</td>\n",
              "      <td>-2029.189600</td>\n",
              "      <td>-819.620240</td>\n",
              "      <td>...</td>\n",
              "      <td>-3451.681600</td>\n",
              "      <td>-382.862400</td>\n",
              "      <td>-588.878100</td>\n",
              "      <td>-779.318300</td>\n",
              "      <td>-1358.857500</td>\n",
              "      <td>-3170.455300</td>\n",
              "      <td>-2363.938500</td>\n",
              "      <td>-1952.646200</td>\n",
              "      <td>-1182.071000</td>\n",
              "      <td>-726.087000</td>\n",
              "    </tr>\n",
              "    <tr>\n",
              "      <th>11</th>\n",
              "      <td>-1886.17180</td>\n",
              "      <td>-515.127600</td>\n",
              "      <td>-689.831800</td>\n",
              "      <td>-1151.501300</td>\n",
              "      <td>-1232.112000</td>\n",
              "      <td>-1844.355700</td>\n",
              "      <td>77.627640</td>\n",
              "      <td>-1882.589600</td>\n",
              "      <td>-1860.811300</td>\n",
              "      <td>-369.395570</td>\n",
              "      <td>...</td>\n",
              "      <td>-3385.688000</td>\n",
              "      <td>-333.429530</td>\n",
              "      <td>-418.371060</td>\n",
              "      <td>-487.798130</td>\n",
              "      <td>-1369.016500</td>\n",
              "      <td>-2800.944600</td>\n",
              "      <td>-2128.777800</td>\n",
              "      <td>-1905.558700</td>\n",
              "      <td>-1148.523400</td>\n",
              "      <td>-513.175100</td>\n",
              "    </tr>\n",
              "    <tr>\n",
              "      <th>12</th>\n",
              "      <td>-1796.46630</td>\n",
              "      <td>-456.042000</td>\n",
              "      <td>-219.754850</td>\n",
              "      <td>-1155.286600</td>\n",
              "      <td>-1187.672000</td>\n",
              "      <td>-1925.413500</td>\n",
              "      <td>46.646587</td>\n",
              "      <td>-1875.095800</td>\n",
              "      <td>-1631.414900</td>\n",
              "      <td>-48.217216</td>\n",
              "      <td>...</td>\n",
              "      <td>-3232.837200</td>\n",
              "      <td>-312.051200</td>\n",
              "      <td>-298.171750</td>\n",
              "      <td>-113.657110</td>\n",
              "      <td>-1365.321300</td>\n",
              "      <td>-2871.430000</td>\n",
              "      <td>-1874.272600</td>\n",
              "      <td>-1740.666700</td>\n",
              "      <td>-1207.775300</td>\n",
              "      <td>-494.124600</td>\n",
              "    </tr>\n",
              "    <tr>\n",
              "      <th>13</th>\n",
              "      <td>-1436.19860</td>\n",
              "      <td>-347.619780</td>\n",
              "      <td>-84.960880</td>\n",
              "      <td>-897.484400</td>\n",
              "      <td>-954.568400</td>\n",
              "      <td>-1460.249000</td>\n",
              "      <td>34.891315</td>\n",
              "      <td>-1383.265900</td>\n",
              "      <td>-1003.108500</td>\n",
              "      <td>-110.673300</td>\n",
              "      <td>...</td>\n",
              "      <td>-2676.301800</td>\n",
              "      <td>-228.233380</td>\n",
              "      <td>-142.376570</td>\n",
              "      <td>-97.752520</td>\n",
              "      <td>-1141.581300</td>\n",
              "      <td>-2286.677500</td>\n",
              "      <td>-1361.493200</td>\n",
              "      <td>-1388.901000</td>\n",
              "      <td>-987.405760</td>\n",
              "      <td>-384.038420</td>\n",
              "    </tr>\n",
              "    <tr>\n",
              "      <th>14</th>\n",
              "      <td>-273.70640</td>\n",
              "      <td>-49.187280</td>\n",
              "      <td>-42.879906</td>\n",
              "      <td>-212.424450</td>\n",
              "      <td>-262.057980</td>\n",
              "      <td>-172.928820</td>\n",
              "      <td>75.126915</td>\n",
              "      <td>-514.979700</td>\n",
              "      <td>-281.298430</td>\n",
              "      <td>-47.514637</td>\n",
              "      <td>...</td>\n",
              "      <td>-647.778930</td>\n",
              "      <td>-78.024410</td>\n",
              "      <td>-38.639860</td>\n",
              "      <td>-66.116516</td>\n",
              "      <td>-120.075440</td>\n",
              "      <td>-292.796800</td>\n",
              "      <td>-135.523330</td>\n",
              "      <td>-311.034970</td>\n",
              "      <td>-272.033480</td>\n",
              "      <td>-99.240870</td>\n",
              "    </tr>\n",
              "    <tr>\n",
              "      <th>15</th>\n",
              "      <td>-1537.72000</td>\n",
              "      <td>-370.947540</td>\n",
              "      <td>-897.956500</td>\n",
              "      <td>-982.373700</td>\n",
              "      <td>-1170.671900</td>\n",
              "      <td>-1726.318500</td>\n",
              "      <td>53.058510</td>\n",
              "      <td>-1271.547500</td>\n",
              "      <td>-1755.824700</td>\n",
              "      <td>-315.623440</td>\n",
              "      <td>...</td>\n",
              "      <td>-2628.374300</td>\n",
              "      <td>-289.614260</td>\n",
              "      <td>-402.471900</td>\n",
              "      <td>-406.895000</td>\n",
              "      <td>-1150.772100</td>\n",
              "      <td>-2697.497300</td>\n",
              "      <td>-1797.841300</td>\n",
              "      <td>-1467.306400</td>\n",
              "      <td>-1082.681000</td>\n",
              "      <td>-677.900500</td>\n",
              "    </tr>\n",
              "    <tr>\n",
              "      <th>16</th>\n",
              "      <td>-1954.46350</td>\n",
              "      <td>-462.490420</td>\n",
              "      <td>-1275.088100</td>\n",
              "      <td>-1218.591200</td>\n",
              "      <td>-1402.408400</td>\n",
              "      <td>-2027.407300</td>\n",
              "      <td>64.506516</td>\n",
              "      <td>-1648.009400</td>\n",
              "      <td>-2144.565400</td>\n",
              "      <td>-528.571400</td>\n",
              "      <td>...</td>\n",
              "      <td>-2945.135000</td>\n",
              "      <td>-383.437800</td>\n",
              "      <td>-610.674400</td>\n",
              "      <td>-517.128600</td>\n",
              "      <td>-1312.869400</td>\n",
              "      <td>-3404.760700</td>\n",
              "      <td>-2171.806000</td>\n",
              "      <td>-1710.513900</td>\n",
              "      <td>-1229.869400</td>\n",
              "      <td>-753.792970</td>\n",
              "    </tr>\n",
              "    <tr>\n",
              "      <th>17</th>\n",
              "      <td>-1836.81740</td>\n",
              "      <td>-488.845500</td>\n",
              "      <td>-1048.951300</td>\n",
              "      <td>-1161.203100</td>\n",
              "      <td>-1266.130100</td>\n",
              "      <td>-1820.310000</td>\n",
              "      <td>-1.351672</td>\n",
              "      <td>-1604.965300</td>\n",
              "      <td>-1959.649700</td>\n",
              "      <td>-815.002140</td>\n",
              "      <td>...</td>\n",
              "      <td>-2911.719500</td>\n",
              "      <td>-343.441200</td>\n",
              "      <td>-579.183040</td>\n",
              "      <td>-768.312560</td>\n",
              "      <td>-1259.876800</td>\n",
              "      <td>-3139.113500</td>\n",
              "      <td>-2274.800500</td>\n",
              "      <td>-1744.952900</td>\n",
              "      <td>-1146.220800</td>\n",
              "      <td>-676.457400</td>\n",
              "    </tr>\n",
              "    <tr>\n",
              "      <th>18</th>\n",
              "      <td>-1698.58140</td>\n",
              "      <td>-469.089140</td>\n",
              "      <td>-671.028260</td>\n",
              "      <td>-1115.768300</td>\n",
              "      <td>-1202.655800</td>\n",
              "      <td>-1749.237200</td>\n",
              "      <td>-1.499602</td>\n",
              "      <td>-1609.308000</td>\n",
              "      <td>-1808.831200</td>\n",
              "      <td>-370.903140</td>\n",
              "      <td>...</td>\n",
              "      <td>-2921.193000</td>\n",
              "      <td>-318.206600</td>\n",
              "      <td>-404.618470</td>\n",
              "      <td>-501.413150</td>\n",
              "      <td>-1286.814000</td>\n",
              "      <td>-2813.702400</td>\n",
              "      <td>-2096.360800</td>\n",
              "      <td>-1728.004000</td>\n",
              "      <td>-1116.993400</td>\n",
              "      <td>-515.538700</td>\n",
              "    </tr>\n",
              "    <tr>\n",
              "      <th>19</th>\n",
              "      <td>-1686.79600</td>\n",
              "      <td>-425.993350</td>\n",
              "      <td>-272.569060</td>\n",
              "      <td>-1123.125100</td>\n",
              "      <td>-1195.241200</td>\n",
              "      <td>-1800.124400</td>\n",
              "      <td>28.496883</td>\n",
              "      <td>-1596.730200</td>\n",
              "      <td>-1654.666900</td>\n",
              "      <td>-57.642310</td>\n",
              "      <td>...</td>\n",
              "      <td>-2913.602300</td>\n",
              "      <td>-296.580500</td>\n",
              "      <td>-324.180820</td>\n",
              "      <td>-142.796280</td>\n",
              "      <td>-1276.735200</td>\n",
              "      <td>-2875.830800</td>\n",
              "      <td>-1833.334800</td>\n",
              "      <td>-1603.604200</td>\n",
              "      <td>-1169.184400</td>\n",
              "      <td>-506.705540</td>\n",
              "    </tr>\n",
              "    <tr>\n",
              "      <th>20</th>\n",
              "      <td>-1332.88350</td>\n",
              "      <td>-332.204830</td>\n",
              "      <td>-152.076870</td>\n",
              "      <td>-887.943900</td>\n",
              "      <td>-944.427730</td>\n",
              "      <td>-1405.684200</td>\n",
              "      <td>29.586267</td>\n",
              "      <td>-1123.727700</td>\n",
              "      <td>-1033.406200</td>\n",
              "      <td>-122.966650</td>\n",
              "      <td>...</td>\n",
              "      <td>-2443.295400</td>\n",
              "      <td>-206.768460</td>\n",
              "      <td>-174.314360</td>\n",
              "      <td>-100.493900</td>\n",
              "      <td>-1038.116100</td>\n",
              "      <td>-2335.198500</td>\n",
              "      <td>-1302.223600</td>\n",
              "      <td>-1278.443500</td>\n",
              "      <td>-952.370700</td>\n",
              "      <td>-419.833800</td>\n",
              "    </tr>\n",
              "    <tr>\n",
              "      <th>21</th>\n",
              "      <td>-250.96070</td>\n",
              "      <td>-62.639400</td>\n",
              "      <td>-54.100304</td>\n",
              "      <td>-201.982120</td>\n",
              "      <td>-250.819290</td>\n",
              "      <td>-160.408130</td>\n",
              "      <td>23.180810</td>\n",
              "      <td>-350.466100</td>\n",
              "      <td>-231.421500</td>\n",
              "      <td>-45.420532</td>\n",
              "      <td>...</td>\n",
              "      <td>-680.610660</td>\n",
              "      <td>-64.317020</td>\n",
              "      <td>-57.066162</td>\n",
              "      <td>-67.276510</td>\n",
              "      <td>-101.496070</td>\n",
              "      <td>-314.968630</td>\n",
              "      <td>-46.241016</td>\n",
              "      <td>-296.391700</td>\n",
              "      <td>-244.637180</td>\n",
              "      <td>-128.091060</td>\n",
              "    </tr>\n",
              "    <tr>\n",
              "      <th>22</th>\n",
              "      <td>-1401.76160</td>\n",
              "      <td>-348.518650</td>\n",
              "      <td>-891.971600</td>\n",
              "      <td>-965.424900</td>\n",
              "      <td>-1109.736800</td>\n",
              "      <td>-1629.517000</td>\n",
              "      <td>2.821853</td>\n",
              "      <td>-1082.794200</td>\n",
              "      <td>-1675.233900</td>\n",
              "      <td>-330.086360</td>\n",
              "      <td>...</td>\n",
              "      <td>-2446.327000</td>\n",
              "      <td>-259.400200</td>\n",
              "      <td>-408.541560</td>\n",
              "      <td>-402.737880</td>\n",
              "      <td>-1083.942700</td>\n",
              "      <td>-2714.734600</td>\n",
              "      <td>-1691.040600</td>\n",
              "      <td>-1338.189300</td>\n",
              "      <td>-1033.305900</td>\n",
              "      <td>-655.624450</td>\n",
              "    </tr>\n",
              "    <tr>\n",
              "      <th>23</th>\n",
              "      <td>-1823.54440</td>\n",
              "      <td>-425.671400</td>\n",
              "      <td>-1221.884400</td>\n",
              "      <td>-1202.619300</td>\n",
              "      <td>-1340.866600</td>\n",
              "      <td>-1894.513200</td>\n",
              "      <td>1.252884</td>\n",
              "      <td>-1418.191400</td>\n",
              "      <td>-2082.109100</td>\n",
              "      <td>-531.964500</td>\n",
              "      <td>...</td>\n",
              "      <td>-2705.182000</td>\n",
              "      <td>-349.232240</td>\n",
              "      <td>-592.480800</td>\n",
              "      <td>-509.329440</td>\n",
              "      <td>-1222.932100</td>\n",
              "      <td>-3399.679000</td>\n",
              "      <td>-2072.082500</td>\n",
              "      <td>-1583.735100</td>\n",
              "      <td>-1190.066000</td>\n",
              "      <td>-730.175660</td>\n",
              "    </tr>\n",
              "    <tr>\n",
              "      <th>24</th>\n",
              "      <td>-1697.55330</td>\n",
              "      <td>-446.551600</td>\n",
              "      <td>-1013.964900</td>\n",
              "      <td>-1151.287100</td>\n",
              "      <td>-1218.925400</td>\n",
              "      <td>-1704.405400</td>\n",
              "      <td>-15.143062</td>\n",
              "      <td>-1377.034000</td>\n",
              "      <td>-1915.406500</td>\n",
              "      <td>-793.588800</td>\n",
              "      <td>...</td>\n",
              "      <td>-2651.942000</td>\n",
              "      <td>-316.087950</td>\n",
              "      <td>-558.957400</td>\n",
              "      <td>-739.511400</td>\n",
              "      <td>-1187.521600</td>\n",
              "      <td>-3131.454300</td>\n",
              "      <td>-2167.565200</td>\n",
              "      <td>-1630.502000</td>\n",
              "      <td>-1110.208100</td>\n",
              "      <td>-656.160640</td>\n",
              "    </tr>\n",
              "    <tr>\n",
              "      <th>25</th>\n",
              "      <td>-1579.42550</td>\n",
              "      <td>-435.765840</td>\n",
              "      <td>-670.117400</td>\n",
              "      <td>-1119.744500</td>\n",
              "      <td>-1158.154800</td>\n",
              "      <td>-1653.819200</td>\n",
              "      <td>18.039711</td>\n",
              "      <td>-1370.167100</td>\n",
              "      <td>-1786.672900</td>\n",
              "      <td>-394.817170</td>\n",
              "      <td>...</td>\n",
              "      <td>-2702.270000</td>\n",
              "      <td>-301.141200</td>\n",
              "      <td>-407.615800</td>\n",
              "      <td>-509.157070</td>\n",
              "      <td>-1218.835300</td>\n",
              "      <td>-2850.275400</td>\n",
              "      <td>-1997.701400</td>\n",
              "      <td>-1638.200000</td>\n",
              "      <td>-1116.150600</td>\n",
              "      <td>-522.068850</td>\n",
              "    </tr>\n",
              "    <tr>\n",
              "      <th>26</th>\n",
              "      <td>-1551.30700</td>\n",
              "      <td>-405.662960</td>\n",
              "      <td>-322.375000</td>\n",
              "      <td>-1138.962600</td>\n",
              "      <td>-1175.737500</td>\n",
              "      <td>-1697.995600</td>\n",
              "      <td>3.023265</td>\n",
              "      <td>-1337.721600</td>\n",
              "      <td>-1651.781100</td>\n",
              "      <td>-84.702930</td>\n",
              "      <td>...</td>\n",
              "      <td>-2662.788000</td>\n",
              "      <td>-283.367030</td>\n",
              "      <td>-319.241670</td>\n",
              "      <td>-161.690660</td>\n",
              "      <td>-1237.472500</td>\n",
              "      <td>-2937.134000</td>\n",
              "      <td>-1772.864000</td>\n",
              "      <td>-1533.191000</td>\n",
              "      <td>-1162.056600</td>\n",
              "      <td>-520.180000</td>\n",
              "    </tr>\n",
              "    <tr>\n",
              "      <th>27</th>\n",
              "      <td>-1249.97510</td>\n",
              "      <td>-320.718380</td>\n",
              "      <td>-215.740040</td>\n",
              "      <td>-920.751650</td>\n",
              "      <td>-915.066400</td>\n",
              "      <td>-1349.507800</td>\n",
              "      <td>-17.653542</td>\n",
              "      <td>-1009.931500</td>\n",
              "      <td>-1056.242700</td>\n",
              "      <td>-127.896515</td>\n",
              "      <td>...</td>\n",
              "      <td>-2244.509800</td>\n",
              "      <td>-200.151180</td>\n",
              "      <td>-200.782000</td>\n",
              "      <td>-117.740520</td>\n",
              "      <td>-1042.105600</td>\n",
              "      <td>-2379.213100</td>\n",
              "      <td>-1243.309100</td>\n",
              "      <td>-1232.649900</td>\n",
              "      <td>-955.313350</td>\n",
              "      <td>-424.860570</td>\n",
              "    </tr>\n",
              "    <tr>\n",
              "      <th>28</th>\n",
              "      <td>-193.05066</td>\n",
              "      <td>-67.573710</td>\n",
              "      <td>-71.467710</td>\n",
              "      <td>-198.288620</td>\n",
              "      <td>-219.187480</td>\n",
              "      <td>-152.605290</td>\n",
              "      <td>1.812137</td>\n",
              "      <td>-310.984440</td>\n",
              "      <td>-220.511700</td>\n",
              "      <td>-52.900130</td>\n",
              "      <td>...</td>\n",
              "      <td>-637.273700</td>\n",
              "      <td>-76.191950</td>\n",
              "      <td>-57.752000</td>\n",
              "      <td>-81.879340</td>\n",
              "      <td>-120.242310</td>\n",
              "      <td>-370.782380</td>\n",
              "      <td>-24.149555</td>\n",
              "      <td>-324.818080</td>\n",
              "      <td>-254.825930</td>\n",
              "      <td>-111.221460</td>\n",
              "    </tr>\n",
              "  </tbody>\n",
              "</table>\n",
              "<p>29 rows × 37 columns</p>\n",
              "</div>"
            ],
            "text/plain": [
              "           품목0          품목1          품목2          품목3          품목4  \\\n",
              "0   3871.12500  1362.117613  2909.783785  3400.075583  3947.809169   \n",
              "1  -1755.51540  -428.310600  -899.836100  -904.880430 -1071.717000   \n",
              "2  -2169.26510  -548.203060 -1304.013300 -1207.942300 -1364.035600   \n",
              "3  -1995.95730  -572.635600 -1078.157200 -1145.684300 -1224.753200   \n",
              "4  -1940.91490  -548.355300  -650.151370 -1084.408400 -1089.647800   \n",
              "5  -1934.88920  -483.496830  -170.133160 -1098.354000 -1093.964100   \n",
              "6  -1571.24730  -365.120540   -74.432884  -869.724700  -909.200500   \n",
              "7   -284.64220   -36.517190  -110.142180  -180.288330  -245.407380   \n",
              "8  -1687.93090  -410.907780  -955.073240  -995.953500 -1201.967000   \n",
              "9  -2145.82130  -517.698850 -1322.154700 -1263.616300 -1464.479700   \n",
              "10 -1925.91940  -541.452200 -1113.211200 -1207.073600 -1322.797000   \n",
              "11 -1886.17180  -515.127600  -689.831800 -1151.501300 -1232.112000   \n",
              "12 -1796.46630  -456.042000  -219.754850 -1155.286600 -1187.672000   \n",
              "13 -1436.19860  -347.619780   -84.960880  -897.484400  -954.568400   \n",
              "14  -273.70640   -49.187280   -42.879906  -212.424450  -262.057980   \n",
              "15 -1537.72000  -370.947540  -897.956500  -982.373700 -1170.671900   \n",
              "16 -1954.46350  -462.490420 -1275.088100 -1218.591200 -1402.408400   \n",
              "17 -1836.81740  -488.845500 -1048.951300 -1161.203100 -1266.130100   \n",
              "18 -1698.58140  -469.089140  -671.028260 -1115.768300 -1202.655800   \n",
              "19 -1686.79600  -425.993350  -272.569060 -1123.125100 -1195.241200   \n",
              "20 -1332.88350  -332.204830  -152.076870  -887.943900  -944.427730   \n",
              "21  -250.96070   -62.639400   -54.100304  -201.982120  -250.819290   \n",
              "22 -1401.76160  -348.518650  -891.971600  -965.424900 -1109.736800   \n",
              "23 -1823.54440  -425.671400 -1221.884400 -1202.619300 -1340.866600   \n",
              "24 -1697.55330  -446.551600 -1013.964900 -1151.287100 -1218.925400   \n",
              "25 -1579.42550  -435.765840  -670.117400 -1119.744500 -1158.154800   \n",
              "26 -1551.30700  -405.662960  -322.375000 -1138.962600 -1175.737500   \n",
              "27 -1249.97510  -320.718380  -215.740040  -920.751650  -915.066400   \n",
              "28  -193.05066   -67.573710   -71.467710  -198.288620  -219.187480   \n",
              "\n",
              "            품목5          품목6          품목7          품목8          품목9  ...  \\\n",
              "0   9253.947514  2717.280000  3361.030923  4911.899864  1173.018633  ...   \n",
              "1  -1890.552500   185.665470 -1383.559200 -1668.901600  -283.745030  ...   \n",
              "2  -2279.715800   124.714400 -1968.657500 -2215.343500  -506.667140  ...   \n",
              "3  -1978.088500   118.568160 -2026.429000 -1990.579500  -836.541560  ...   \n",
              "4  -1822.651100    56.793137 -2009.034300 -1833.287600  -370.153870  ...   \n",
              "5  -1994.030600   119.908775 -1959.534900 -1635.962300   -60.942760  ...   \n",
              "6  -1466.739300    60.985703 -1559.334200  -994.586360  -122.583855  ...   \n",
              "7   -232.561100    -4.779504  -627.051640  -338.430050   -70.123060  ...   \n",
              "8  -1868.619500    41.500980 -1442.305200 -1768.748500  -334.810420  ...   \n",
              "9  -2210.911600    76.311165 -1902.141500 -2212.106400  -535.494400  ...   \n",
              "10 -1940.390500    52.790836 -1898.470500 -2029.189600  -819.620240  ...   \n",
              "11 -1844.355700    77.627640 -1882.589600 -1860.811300  -369.395570  ...   \n",
              "12 -1925.413500    46.646587 -1875.095800 -1631.414900   -48.217216  ...   \n",
              "13 -1460.249000    34.891315 -1383.265900 -1003.108500  -110.673300  ...   \n",
              "14  -172.928820    75.126915  -514.979700  -281.298430   -47.514637  ...   \n",
              "15 -1726.318500    53.058510 -1271.547500 -1755.824700  -315.623440  ...   \n",
              "16 -2027.407300    64.506516 -1648.009400 -2144.565400  -528.571400  ...   \n",
              "17 -1820.310000    -1.351672 -1604.965300 -1959.649700  -815.002140  ...   \n",
              "18 -1749.237200    -1.499602 -1609.308000 -1808.831200  -370.903140  ...   \n",
              "19 -1800.124400    28.496883 -1596.730200 -1654.666900   -57.642310  ...   \n",
              "20 -1405.684200    29.586267 -1123.727700 -1033.406200  -122.966650  ...   \n",
              "21  -160.408130    23.180810  -350.466100  -231.421500   -45.420532  ...   \n",
              "22 -1629.517000     2.821853 -1082.794200 -1675.233900  -330.086360  ...   \n",
              "23 -1894.513200     1.252884 -1418.191400 -2082.109100  -531.964500  ...   \n",
              "24 -1704.405400   -15.143062 -1377.034000 -1915.406500  -793.588800  ...   \n",
              "25 -1653.819200    18.039711 -1370.167100 -1786.672900  -394.817170  ...   \n",
              "26 -1697.995600     3.023265 -1337.721600 -1651.781100   -84.702930  ...   \n",
              "27 -1349.507800   -17.653542 -1009.931500 -1056.242700  -127.896515  ...   \n",
              "28  -152.605290     1.812137  -310.984440  -220.511700   -52.900130  ...   \n",
              "\n",
              "           품목27        품목28         품목29         품목30         품목31  \\\n",
              "0   8640.811309  602.005658  1105.412623  1566.274239  3633.464557   \n",
              "1  -3156.816700 -317.845860  -370.382080  -370.479980 -1410.476900   \n",
              "2  -3871.513700 -436.600650  -619.164900  -464.467770 -1636.667000   \n",
              "3  -3894.800300 -378.427460  -591.457900  -757.406100 -1522.274300   \n",
              "4  -3857.970500 -312.538120  -406.988250  -449.226350 -1521.986600   \n",
              "5  -3794.941200 -295.715300  -296.688700   -82.421580 -1565.927500   \n",
              "6  -3217.728800 -229.878370  -156.712950   -82.678700 -1293.252000   \n",
              "7   -768.979900  -76.955956   -83.501470   -73.971870  -155.542560   \n",
              "8  -3195.259500 -324.758330  -429.291400  -414.331760 -1300.497700   \n",
              "9  -3567.559800 -426.933960  -642.840450  -514.126300 -1448.006500   \n",
              "10 -3451.681600 -382.862400  -588.878100  -779.318300 -1358.857500   \n",
              "11 -3385.688000 -333.429530  -418.371060  -487.798130 -1369.016500   \n",
              "12 -3232.837200 -312.051200  -298.171750  -113.657110 -1365.321300   \n",
              "13 -2676.301800 -228.233380  -142.376570   -97.752520 -1141.581300   \n",
              "14  -647.778930  -78.024410   -38.639860   -66.116516  -120.075440   \n",
              "15 -2628.374300 -289.614260  -402.471900  -406.895000 -1150.772100   \n",
              "16 -2945.135000 -383.437800  -610.674400  -517.128600 -1312.869400   \n",
              "17 -2911.719500 -343.441200  -579.183040  -768.312560 -1259.876800   \n",
              "18 -2921.193000 -318.206600  -404.618470  -501.413150 -1286.814000   \n",
              "19 -2913.602300 -296.580500  -324.180820  -142.796280 -1276.735200   \n",
              "20 -2443.295400 -206.768460  -174.314360  -100.493900 -1038.116100   \n",
              "21  -680.610660  -64.317020   -57.066162   -67.276510  -101.496070   \n",
              "22 -2446.327000 -259.400200  -408.541560  -402.737880 -1083.942700   \n",
              "23 -2705.182000 -349.232240  -592.480800  -509.329440 -1222.932100   \n",
              "24 -2651.942000 -316.087950  -558.957400  -739.511400 -1187.521600   \n",
              "25 -2702.270000 -301.141200  -407.615800  -509.157070 -1218.835300   \n",
              "26 -2662.788000 -283.367030  -319.241670  -161.690660 -1237.472500   \n",
              "27 -2244.509800 -200.151180  -200.782000  -117.740520 -1042.105600   \n",
              "28  -637.273700  -76.191950   -57.752000   -81.879340  -120.242310   \n",
              "\n",
              "           품목32         품목33         품목34         품목35         품목36  \n",
              "0   5454.710444  5619.188362  5230.620027  2905.100888  2087.675036  \n",
              "1  -2561.183600 -1862.741700 -1592.230100  -972.629700  -696.067200  \n",
              "2  -3445.241500 -2288.213000 -2024.710600 -1205.245800  -829.958100  \n",
              "3  -3141.059800 -2449.217800 -2096.052500 -1157.750400  -752.670600  \n",
              "4  -2752.106000 -2180.901400 -2047.164400 -1154.472000  -475.630650  \n",
              "5  -2861.763200 -1939.751300 -1919.257100 -1199.873300  -458.847080  \n",
              "6  -2216.881000 -1400.765700 -1516.632300  -961.667800  -355.787500  \n",
              "7   -356.412050  -178.997620  -325.240420  -271.127900  -108.157840  \n",
              "8  -2823.542500 -1891.184400 -1635.226900 -1110.917000  -718.867900  \n",
              "9  -3537.013700 -2282.080800 -1916.444500 -1282.793300  -805.319300  \n",
              "10 -3170.455300 -2363.938500 -1952.646200 -1182.071000  -726.087000  \n",
              "11 -2800.944600 -2128.777800 -1905.558700 -1148.523400  -513.175100  \n",
              "12 -2871.430000 -1874.272600 -1740.666700 -1207.775300  -494.124600  \n",
              "13 -2286.677500 -1361.493200 -1388.901000  -987.405760  -384.038420  \n",
              "14  -292.796800  -135.523330  -311.034970  -272.033480   -99.240870  \n",
              "15 -2697.497300 -1797.841300 -1467.306400 -1082.681000  -677.900500  \n",
              "16 -3404.760700 -2171.806000 -1710.513900 -1229.869400  -753.792970  \n",
              "17 -3139.113500 -2274.800500 -1744.952900 -1146.220800  -676.457400  \n",
              "18 -2813.702400 -2096.360800 -1728.004000 -1116.993400  -515.538700  \n",
              "19 -2875.830800 -1833.334800 -1603.604200 -1169.184400  -506.705540  \n",
              "20 -2335.198500 -1302.223600 -1278.443500  -952.370700  -419.833800  \n",
              "21  -314.968630   -46.241016  -296.391700  -244.637180  -128.091060  \n",
              "22 -2714.734600 -1691.040600 -1338.189300 -1033.305900  -655.624450  \n",
              "23 -3399.679000 -2072.082500 -1583.735100 -1190.066000  -730.175660  \n",
              "24 -3131.454300 -2167.565200 -1630.502000 -1110.208100  -656.160640  \n",
              "25 -2850.275400 -1997.701400 -1638.200000 -1116.150600  -522.068850  \n",
              "26 -2937.134000 -1772.864000 -1533.191000 -1162.056600  -520.180000  \n",
              "27 -2379.213100 -1243.309100 -1232.649900  -955.313350  -424.860570  \n",
              "28  -370.782380   -24.149555  -324.818080  -254.825930  -111.221460  \n",
              "\n",
              "[29 rows x 37 columns]"
            ]
          },
          "execution_count": 14,
          "metadata": {},
          "output_type": "execute_result"
        }
      ],
      "source": [
        "set_df_0"
      ]
    },
    {
      "cell_type": "markdown",
      "metadata": {
        "id": "d6GWHYtTJ8fb"
      },
      "source": [
        "- 변동률 계산 "
      ]
    },
    {
      "cell_type": "code",
      "execution_count": 15,
      "metadata": {
        "id": "G7guVyL7J8fc"
      },
      "outputs": [],
      "source": [
        "date = [f'd+{i}' for i in range(1,15)] + ['d+22 ~ 28 평균']\n",
        "\n",
        "for k in range(10):\n",
        "  globals()[f'answer_df_{k}'] = pd.DataFrame()\n",
        "  for c in globals()[f'set_df_{k}'].columns:\n",
        "    base_d = globals()[f'set_df_{k}'][c][0] # 변동률 기준 t 값\n",
        "    ans_1_14 = []\n",
        "    for i in range(14):\n",
        "      ans_1_14.append((globals()[f'set_df_{k}'][c].iloc[i+1])/base_d)\n",
        "    \n",
        "    ans_22_28 = (globals()[f'set_df_{k}'][c][22:29].mean())/base_d\n",
        "    globals()[f'answer_df_{k}'][f'{c} 변동률'] = ans_1_14 + [ans_22_28]\n",
        "  \n",
        "  globals()[f'answer_df_{k}']['Set'] = k # set 번호 설정\n",
        "  globals()[f'answer_df_{k}']['일자'] = date # 일자 설정"
      ]
    },
    {
      "cell_type": "markdown",
      "metadata": {
        "id": "0kl8cEL6J8fe"
      },
      "source": [
        "- sep 0  ~ sep 9 까지 합치기"
      ]
    },
    {
      "cell_type": "code",
      "execution_count": 16,
      "metadata": {
        "id": "T8nepRwGJ8ff"
      },
      "outputs": [],
      "source": [
        "# 위에서 계산된 변동률 들을 합쳐주는 과정\n",
        "\n",
        "all_df =pd.DataFrame()\n",
        "for i in range(10):\n",
        "  if i== 0 :\n",
        "    all_df = pd.concat([all_df, globals()[f'answer_df_{i}']],axis=1)\n",
        "  else:\n",
        "    all_df = pd.concat([all_df, globals()[f'answer_df_{i}']])\n",
        "\n",
        "\n",
        "all_df = all_df[['Set','일자'] + list(all_df.columns[:-2])]\n",
        "all_df.reset_index(drop=True, inplace=True)"
      ]
    },
    {
      "cell_type": "code",
      "execution_count": 17,
      "metadata": {
        "id": "1_Qxfg3_J8fg"
      },
      "outputs": [
        {
          "data": {
            "text/html": [
              "<div>\n",
              "<style scoped>\n",
              "    .dataframe tbody tr th:only-of-type {\n",
              "        vertical-align: middle;\n",
              "    }\n",
              "\n",
              "    .dataframe tbody tr th {\n",
              "        vertical-align: top;\n",
              "    }\n",
              "\n",
              "    .dataframe thead th {\n",
              "        text-align: right;\n",
              "    }\n",
              "</style>\n",
              "<table border=\"1\" class=\"dataframe\">\n",
              "  <thead>\n",
              "    <tr style=\"text-align: right;\">\n",
              "      <th></th>\n",
              "      <th>품목0 변동률</th>\n",
              "      <th>품목1 변동률</th>\n",
              "      <th>품목2 변동률</th>\n",
              "      <th>품목3 변동률</th>\n",
              "      <th>품목4 변동률</th>\n",
              "      <th>품목5 변동률</th>\n",
              "      <th>품목6 변동률</th>\n",
              "      <th>품목7 변동률</th>\n",
              "      <th>품목8 변동률</th>\n",
              "      <th>품목9 변동률</th>\n",
              "      <th>...</th>\n",
              "      <th>품목29 변동률</th>\n",
              "      <th>품목30 변동률</th>\n",
              "      <th>품목31 변동률</th>\n",
              "      <th>품목32 변동률</th>\n",
              "      <th>품목33 변동률</th>\n",
              "      <th>품목34 변동률</th>\n",
              "      <th>품목35 변동률</th>\n",
              "      <th>품목36 변동률</th>\n",
              "      <th>Set</th>\n",
              "      <th>일자</th>\n",
              "    </tr>\n",
              "  </thead>\n",
              "  <tbody>\n",
              "    <tr>\n",
              "      <th>0</th>\n",
              "      <td>-0.453490</td>\n",
              "      <td>-0.314445</td>\n",
              "      <td>-0.309245</td>\n",
              "      <td>-0.266135</td>\n",
              "      <td>-0.271471</td>\n",
              "      <td>-0.204297</td>\n",
              "      <td>0.068328</td>\n",
              "      <td>-0.411647</td>\n",
              "      <td>-0.339767</td>\n",
              "      <td>-0.241893</td>\n",
              "      <td>...</td>\n",
              "      <td>-0.335062</td>\n",
              "      <td>-0.236536</td>\n",
              "      <td>-0.388191</td>\n",
              "      <td>-0.469536</td>\n",
              "      <td>-0.331497</td>\n",
              "      <td>-0.304406</td>\n",
              "      <td>-0.334801</td>\n",
              "      <td>-0.333417</td>\n",
              "      <td>0</td>\n",
              "      <td>d+1</td>\n",
              "    </tr>\n",
              "    <tr>\n",
              "      <th>1</th>\n",
              "      <td>-0.560371</td>\n",
              "      <td>-0.402464</td>\n",
              "      <td>-0.448148</td>\n",
              "      <td>-0.355269</td>\n",
              "      <td>-0.345517</td>\n",
              "      <td>-0.246351</td>\n",
              "      <td>0.045897</td>\n",
              "      <td>-0.585730</td>\n",
              "      <td>-0.451016</td>\n",
              "      <td>-0.431934</td>\n",
              "      <td>...</td>\n",
              "      <td>-0.560121</td>\n",
              "      <td>-0.296543</td>\n",
              "      <td>-0.450443</td>\n",
              "      <td>-0.631609</td>\n",
              "      <td>-0.407214</td>\n",
              "      <td>-0.387088</td>\n",
              "      <td>-0.414872</td>\n",
              "      <td>-0.397551</td>\n",
              "      <td>0</td>\n",
              "      <td>d+2</td>\n",
              "    </tr>\n",
              "    <tr>\n",
              "      <th>2</th>\n",
              "      <td>-0.515601</td>\n",
              "      <td>-0.420401</td>\n",
              "      <td>-0.370528</td>\n",
              "      <td>-0.336958</td>\n",
              "      <td>-0.310236</td>\n",
              "      <td>-0.213756</td>\n",
              "      <td>0.043635</td>\n",
              "      <td>-0.602919</td>\n",
              "      <td>-0.405257</td>\n",
              "      <td>-0.713153</td>\n",
              "      <td>...</td>\n",
              "      <td>-0.535056</td>\n",
              "      <td>-0.483572</td>\n",
              "      <td>-0.418959</td>\n",
              "      <td>-0.575844</td>\n",
              "      <td>-0.435867</td>\n",
              "      <td>-0.400727</td>\n",
              "      <td>-0.398523</td>\n",
              "      <td>-0.360531</td>\n",
              "      <td>0</td>\n",
              "      <td>d+3</td>\n",
              "    </tr>\n",
              "    <tr>\n",
              "      <th>3</th>\n",
              "      <td>-0.501383</td>\n",
              "      <td>-0.402576</td>\n",
              "      <td>-0.223436</td>\n",
              "      <td>-0.318937</td>\n",
              "      <td>-0.276013</td>\n",
              "      <td>-0.196959</td>\n",
              "      <td>0.020901</td>\n",
              "      <td>-0.597743</td>\n",
              "      <td>-0.373234</td>\n",
              "      <td>-0.315557</td>\n",
              "      <td>...</td>\n",
              "      <td>-0.368178</td>\n",
              "      <td>-0.286812</td>\n",
              "      <td>-0.418880</td>\n",
              "      <td>-0.504538</td>\n",
              "      <td>-0.388117</td>\n",
              "      <td>-0.391381</td>\n",
              "      <td>-0.397395</td>\n",
              "      <td>-0.227828</td>\n",
              "      <td>0</td>\n",
              "      <td>d+4</td>\n",
              "    </tr>\n",
              "    <tr>\n",
              "      <th>4</th>\n",
              "      <td>-0.499826</td>\n",
              "      <td>-0.354960</td>\n",
              "      <td>-0.058469</td>\n",
              "      <td>-0.323038</td>\n",
              "      <td>-0.277107</td>\n",
              "      <td>-0.215479</td>\n",
              "      <td>0.044128</td>\n",
              "      <td>-0.583016</td>\n",
              "      <td>-0.333061</td>\n",
              "      <td>-0.051954</td>\n",
              "      <td>...</td>\n",
              "      <td>-0.268396</td>\n",
              "      <td>-0.052623</td>\n",
              "      <td>-0.430974</td>\n",
              "      <td>-0.524641</td>\n",
              "      <td>-0.345201</td>\n",
              "      <td>-0.366927</td>\n",
              "      <td>-0.413023</td>\n",
              "      <td>-0.219789</td>\n",
              "      <td>0</td>\n",
              "      <td>d+5</td>\n",
              "    </tr>\n",
              "    <tr>\n",
              "      <th>5</th>\n",
              "      <td>-0.405889</td>\n",
              "      <td>-0.268054</td>\n",
              "      <td>-0.025580</td>\n",
              "      <td>-0.255796</td>\n",
              "      <td>-0.230305</td>\n",
              "      <td>-0.158499</td>\n",
              "      <td>0.022444</td>\n",
              "      <td>-0.463945</td>\n",
              "      <td>-0.202485</td>\n",
              "      <td>-0.104503</td>\n",
              "      <td>...</td>\n",
              "      <td>-0.141769</td>\n",
              "      <td>-0.052787</td>\n",
              "      <td>-0.355928</td>\n",
              "      <td>-0.406416</td>\n",
              "      <td>-0.249283</td>\n",
              "      <td>-0.289953</td>\n",
              "      <td>-0.331027</td>\n",
              "      <td>-0.170423</td>\n",
              "      <td>0</td>\n",
              "      <td>d+6</td>\n",
              "    </tr>\n",
              "    <tr>\n",
              "      <th>6</th>\n",
              "      <td>-0.073530</td>\n",
              "      <td>-0.026809</td>\n",
              "      <td>-0.037852</td>\n",
              "      <td>-0.053025</td>\n",
              "      <td>-0.062163</td>\n",
              "      <td>-0.025131</td>\n",
              "      <td>-0.001759</td>\n",
              "      <td>-0.186565</td>\n",
              "      <td>-0.068900</td>\n",
              "      <td>-0.059780</td>\n",
              "      <td>...</td>\n",
              "      <td>-0.075539</td>\n",
              "      <td>-0.047228</td>\n",
              "      <td>-0.042808</td>\n",
              "      <td>-0.065340</td>\n",
              "      <td>-0.031855</td>\n",
              "      <td>-0.062180</td>\n",
              "      <td>-0.093328</td>\n",
              "      <td>-0.051808</td>\n",
              "      <td>0</td>\n",
              "      <td>d+7</td>\n",
              "    </tr>\n",
              "    <tr>\n",
              "      <th>7</th>\n",
              "      <td>-0.436031</td>\n",
              "      <td>-0.301668</td>\n",
              "      <td>-0.328228</td>\n",
              "      <td>-0.292921</td>\n",
              "      <td>-0.304464</td>\n",
              "      <td>-0.201927</td>\n",
              "      <td>0.015273</td>\n",
              "      <td>-0.429126</td>\n",
              "      <td>-0.360095</td>\n",
              "      <td>-0.285426</td>\n",
              "      <td>...</td>\n",
              "      <td>-0.388354</td>\n",
              "      <td>-0.264533</td>\n",
              "      <td>-0.357922</td>\n",
              "      <td>-0.517634</td>\n",
              "      <td>-0.336558</td>\n",
              "      <td>-0.312626</td>\n",
              "      <td>-0.382402</td>\n",
              "      <td>-0.344339</td>\n",
              "      <td>0</td>\n",
              "      <td>d+8</td>\n",
              "    </tr>\n",
              "    <tr>\n",
              "      <th>8</th>\n",
              "      <td>-0.554315</td>\n",
              "      <td>-0.380069</td>\n",
              "      <td>-0.454382</td>\n",
              "      <td>-0.371644</td>\n",
              "      <td>-0.370960</td>\n",
              "      <td>-0.238916</td>\n",
              "      <td>0.028084</td>\n",
              "      <td>-0.565940</td>\n",
              "      <td>-0.450357</td>\n",
              "      <td>-0.456510</td>\n",
              "      <td>...</td>\n",
              "      <td>-0.581539</td>\n",
              "      <td>-0.328248</td>\n",
              "      <td>-0.398520</td>\n",
              "      <td>-0.648433</td>\n",
              "      <td>-0.406123</td>\n",
              "      <td>-0.366390</td>\n",
              "      <td>-0.441566</td>\n",
              "      <td>-0.385749</td>\n",
              "      <td>0</td>\n",
              "      <td>d+9</td>\n",
              "    </tr>\n",
              "    <tr>\n",
              "      <th>9</th>\n",
              "      <td>-0.497509</td>\n",
              "      <td>-0.397508</td>\n",
              "      <td>-0.382575</td>\n",
              "      <td>-0.355014</td>\n",
              "      <td>-0.335071</td>\n",
              "      <td>-0.209682</td>\n",
              "      <td>0.019428</td>\n",
              "      <td>-0.564848</td>\n",
              "      <td>-0.413117</td>\n",
              "      <td>-0.698727</td>\n",
              "      <td>...</td>\n",
              "      <td>-0.532722</td>\n",
              "      <td>-0.497562</td>\n",
              "      <td>-0.373984</td>\n",
              "      <td>-0.581233</td>\n",
              "      <td>-0.420690</td>\n",
              "      <td>-0.373311</td>\n",
              "      <td>-0.406895</td>\n",
              "      <td>-0.347797</td>\n",
              "      <td>0</td>\n",
              "      <td>d+10</td>\n",
              "    </tr>\n",
              "    <tr>\n",
              "      <th>10</th>\n",
              "      <td>-0.487241</td>\n",
              "      <td>-0.378181</td>\n",
              "      <td>-0.237073</td>\n",
              "      <td>-0.338669</td>\n",
              "      <td>-0.312100</td>\n",
              "      <td>-0.199305</td>\n",
              "      <td>0.028568</td>\n",
              "      <td>-0.560123</td>\n",
              "      <td>-0.378837</td>\n",
              "      <td>-0.314910</td>\n",
              "      <td>...</td>\n",
              "      <td>-0.378475</td>\n",
              "      <td>-0.311439</td>\n",
              "      <td>-0.376780</td>\n",
              "      <td>-0.513491</td>\n",
              "      <td>-0.378841</td>\n",
              "      <td>-0.364308</td>\n",
              "      <td>-0.395347</td>\n",
              "      <td>-0.245812</td>\n",
              "      <td>0</td>\n",
              "      <td>d+11</td>\n",
              "    </tr>\n",
              "    <tr>\n",
              "      <th>11</th>\n",
              "      <td>-0.464068</td>\n",
              "      <td>-0.334804</td>\n",
              "      <td>-0.075523</td>\n",
              "      <td>-0.339783</td>\n",
              "      <td>-0.300843</td>\n",
              "      <td>-0.208064</td>\n",
              "      <td>0.017167</td>\n",
              "      <td>-0.557893</td>\n",
              "      <td>-0.332135</td>\n",
              "      <td>-0.041105</td>\n",
              "      <td>...</td>\n",
              "      <td>-0.269738</td>\n",
              "      <td>-0.072565</td>\n",
              "      <td>-0.375763</td>\n",
              "      <td>-0.526413</td>\n",
              "      <td>-0.333549</td>\n",
              "      <td>-0.332784</td>\n",
              "      <td>-0.415743</td>\n",
              "      <td>-0.236687</td>\n",
              "      <td>0</td>\n",
              "      <td>d+12</td>\n",
              "    </tr>\n",
              "    <tr>\n",
              "      <th>12</th>\n",
              "      <td>-0.371003</td>\n",
              "      <td>-0.255205</td>\n",
              "      <td>-0.029198</td>\n",
              "      <td>-0.263960</td>\n",
              "      <td>-0.241797</td>\n",
              "      <td>-0.157797</td>\n",
              "      <td>0.012841</td>\n",
              "      <td>-0.411560</td>\n",
              "      <td>-0.204220</td>\n",
              "      <td>-0.094349</td>\n",
              "      <td>...</td>\n",
              "      <td>-0.128799</td>\n",
              "      <td>-0.062411</td>\n",
              "      <td>-0.314185</td>\n",
              "      <td>-0.419212</td>\n",
              "      <td>-0.242294</td>\n",
              "      <td>-0.265533</td>\n",
              "      <td>-0.339887</td>\n",
              "      <td>-0.183955</td>\n",
              "      <td>0</td>\n",
              "      <td>d+13</td>\n",
              "    </tr>\n",
              "    <tr>\n",
              "      <th>13</th>\n",
              "      <td>-0.070705</td>\n",
              "      <td>-0.036111</td>\n",
              "      <td>-0.014736</td>\n",
              "      <td>-0.062476</td>\n",
              "      <td>-0.066381</td>\n",
              "      <td>-0.018687</td>\n",
              "      <td>0.027648</td>\n",
              "      <td>-0.153221</td>\n",
              "      <td>-0.057269</td>\n",
              "      <td>-0.040506</td>\n",
              "      <td>...</td>\n",
              "      <td>-0.034955</td>\n",
              "      <td>-0.042213</td>\n",
              "      <td>-0.033047</td>\n",
              "      <td>-0.053678</td>\n",
              "      <td>-0.024118</td>\n",
              "      <td>-0.059464</td>\n",
              "      <td>-0.093640</td>\n",
              "      <td>-0.047537</td>\n",
              "      <td>0</td>\n",
              "      <td>d+14</td>\n",
              "    </tr>\n",
              "    <tr>\n",
              "      <th>14</th>\n",
              "      <td>-0.350456</td>\n",
              "      <td>-0.257001</td>\n",
              "      <td>-0.216389</td>\n",
              "      <td>-0.281384</td>\n",
              "      <td>-0.258287</td>\n",
              "      <td>-0.155646</td>\n",
              "      <td>-0.000307</td>\n",
              "      <td>-0.336071</td>\n",
              "      <td>-0.302122</td>\n",
              "      <td>-0.282051</td>\n",
              "      <td>...</td>\n",
              "      <td>-0.328949</td>\n",
              "      <td>-0.230031</td>\n",
              "      <td>-0.279664</td>\n",
              "      <td>-0.465738</td>\n",
              "      <td>-0.278859</td>\n",
              "      <td>-0.253488</td>\n",
              "      <td>-0.335465</td>\n",
              "      <td>-0.247732</td>\n",
              "      <td>0</td>\n",
              "      <td>d+22 ~ 28 평균</td>\n",
              "    </tr>\n",
              "  </tbody>\n",
              "</table>\n",
              "<p>15 rows × 39 columns</p>\n",
              "</div>"
            ],
            "text/plain": [
              "     품목0 변동률   품목1 변동률   품목2 변동률   품목3 변동률   품목4 변동률   품목5 변동률   품목6 변동률  \\\n",
              "0  -0.453490 -0.314445 -0.309245 -0.266135 -0.271471 -0.204297  0.068328   \n",
              "1  -0.560371 -0.402464 -0.448148 -0.355269 -0.345517 -0.246351  0.045897   \n",
              "2  -0.515601 -0.420401 -0.370528 -0.336958 -0.310236 -0.213756  0.043635   \n",
              "3  -0.501383 -0.402576 -0.223436 -0.318937 -0.276013 -0.196959  0.020901   \n",
              "4  -0.499826 -0.354960 -0.058469 -0.323038 -0.277107 -0.215479  0.044128   \n",
              "5  -0.405889 -0.268054 -0.025580 -0.255796 -0.230305 -0.158499  0.022444   \n",
              "6  -0.073530 -0.026809 -0.037852 -0.053025 -0.062163 -0.025131 -0.001759   \n",
              "7  -0.436031 -0.301668 -0.328228 -0.292921 -0.304464 -0.201927  0.015273   \n",
              "8  -0.554315 -0.380069 -0.454382 -0.371644 -0.370960 -0.238916  0.028084   \n",
              "9  -0.497509 -0.397508 -0.382575 -0.355014 -0.335071 -0.209682  0.019428   \n",
              "10 -0.487241 -0.378181 -0.237073 -0.338669 -0.312100 -0.199305  0.028568   \n",
              "11 -0.464068 -0.334804 -0.075523 -0.339783 -0.300843 -0.208064  0.017167   \n",
              "12 -0.371003 -0.255205 -0.029198 -0.263960 -0.241797 -0.157797  0.012841   \n",
              "13 -0.070705 -0.036111 -0.014736 -0.062476 -0.066381 -0.018687  0.027648   \n",
              "14 -0.350456 -0.257001 -0.216389 -0.281384 -0.258287 -0.155646 -0.000307   \n",
              "\n",
              "     품목7 변동률   품목8 변동률   품목9 변동률  ...  품목29 변동률  품목30 변동률  품목31 변동률  품목32 변동률  \\\n",
              "0  -0.411647 -0.339767 -0.241893  ... -0.335062 -0.236536 -0.388191 -0.469536   \n",
              "1  -0.585730 -0.451016 -0.431934  ... -0.560121 -0.296543 -0.450443 -0.631609   \n",
              "2  -0.602919 -0.405257 -0.713153  ... -0.535056 -0.483572 -0.418959 -0.575844   \n",
              "3  -0.597743 -0.373234 -0.315557  ... -0.368178 -0.286812 -0.418880 -0.504538   \n",
              "4  -0.583016 -0.333061 -0.051954  ... -0.268396 -0.052623 -0.430974 -0.524641   \n",
              "5  -0.463945 -0.202485 -0.104503  ... -0.141769 -0.052787 -0.355928 -0.406416   \n",
              "6  -0.186565 -0.068900 -0.059780  ... -0.075539 -0.047228 -0.042808 -0.065340   \n",
              "7  -0.429126 -0.360095 -0.285426  ... -0.388354 -0.264533 -0.357922 -0.517634   \n",
              "8  -0.565940 -0.450357 -0.456510  ... -0.581539 -0.328248 -0.398520 -0.648433   \n",
              "9  -0.564848 -0.413117 -0.698727  ... -0.532722 -0.497562 -0.373984 -0.581233   \n",
              "10 -0.560123 -0.378837 -0.314910  ... -0.378475 -0.311439 -0.376780 -0.513491   \n",
              "11 -0.557893 -0.332135 -0.041105  ... -0.269738 -0.072565 -0.375763 -0.526413   \n",
              "12 -0.411560 -0.204220 -0.094349  ... -0.128799 -0.062411 -0.314185 -0.419212   \n",
              "13 -0.153221 -0.057269 -0.040506  ... -0.034955 -0.042213 -0.033047 -0.053678   \n",
              "14 -0.336071 -0.302122 -0.282051  ... -0.328949 -0.230031 -0.279664 -0.465738   \n",
              "\n",
              "    품목33 변동률  품목34 변동률  품목35 변동률  품목36 변동률  Set            일자  \n",
              "0  -0.331497 -0.304406 -0.334801 -0.333417    0           d+1  \n",
              "1  -0.407214 -0.387088 -0.414872 -0.397551    0           d+2  \n",
              "2  -0.435867 -0.400727 -0.398523 -0.360531    0           d+3  \n",
              "3  -0.388117 -0.391381 -0.397395 -0.227828    0           d+4  \n",
              "4  -0.345201 -0.366927 -0.413023 -0.219789    0           d+5  \n",
              "5  -0.249283 -0.289953 -0.331027 -0.170423    0           d+6  \n",
              "6  -0.031855 -0.062180 -0.093328 -0.051808    0           d+7  \n",
              "7  -0.336558 -0.312626 -0.382402 -0.344339    0           d+8  \n",
              "8  -0.406123 -0.366390 -0.441566 -0.385749    0           d+9  \n",
              "9  -0.420690 -0.373311 -0.406895 -0.347797    0          d+10  \n",
              "10 -0.378841 -0.364308 -0.395347 -0.245812    0          d+11  \n",
              "11 -0.333549 -0.332784 -0.415743 -0.236687    0          d+12  \n",
              "12 -0.242294 -0.265533 -0.339887 -0.183955    0          d+13  \n",
              "13 -0.024118 -0.059464 -0.093640 -0.047537    0          d+14  \n",
              "14 -0.278859 -0.253488 -0.335465 -0.247732    0  d+22 ~ 28 평균  \n",
              "\n",
              "[15 rows x 39 columns]"
            ]
          },
          "execution_count": 17,
          "metadata": {},
          "output_type": "execute_result"
        }
      ],
      "source": [
        "answer_df_0"
      ]
    },
    {
      "cell_type": "markdown",
      "metadata": {
        "id": "WObZCCMwJ8fi"
      },
      "source": [
        "- 정답 양식으로 변경"
      ]
    },
    {
      "cell_type": "code",
      "execution_count": 18,
      "metadata": {
        "id": "WF_5UI2wJ8fj"
      },
      "outputs": [],
      "source": [
        "# set, 일자 기억하기위해 따로 저장\n",
        "\n",
        "re_set = list(all_df['Set'])\n",
        "re_date = list(all_df['일자'])\n",
        "\n",
        "\n",
        "# 정답 양식 불러오기\n",
        "out_ans = pd.read_csv('./aT_data/answer_example.csv')\n",
        "\n",
        "# 두 dataframe 합치기 (nan + 숫자 = nan 이용)\n",
        "submit_df = all_df + out_ans\n",
        "\n",
        "submit_df['Set'] = re_set\n",
        "submit_df['일자'] = re_date\n",
        "\n",
        "\n",
        "# 최종 저장\n",
        "submit_df.to_csv(f'./submit/submit_{test_num}.csv',index=False)"
      ]
    },
    {
      "cell_type": "markdown",
      "metadata": {
        "id": "GBIveJrBJ8fn"
      },
      "source": [
        "- 계산된 변동률 결과물"
      ]
    },
    {
      "cell_type": "code",
      "execution_count": 19,
      "metadata": {
        "id": "m8fySZ0aJ8fp"
      },
      "outputs": [
        {
          "data": {
            "text/html": [
              "<div>\n",
              "<style scoped>\n",
              "    .dataframe tbody tr th:only-of-type {\n",
              "        vertical-align: middle;\n",
              "    }\n",
              "\n",
              "    .dataframe tbody tr th {\n",
              "        vertical-align: top;\n",
              "    }\n",
              "\n",
              "    .dataframe thead th {\n",
              "        text-align: right;\n",
              "    }\n",
              "</style>\n",
              "<table border=\"1\" class=\"dataframe\">\n",
              "  <thead>\n",
              "    <tr style=\"text-align: right;\">\n",
              "      <th></th>\n",
              "      <th>Set</th>\n",
              "      <th>일자</th>\n",
              "      <th>품목0 변동률</th>\n",
              "      <th>품목1 변동률</th>\n",
              "      <th>품목2 변동률</th>\n",
              "      <th>품목3 변동률</th>\n",
              "      <th>품목4 변동률</th>\n",
              "      <th>품목5 변동률</th>\n",
              "      <th>품목6 변동률</th>\n",
              "      <th>품목7 변동률</th>\n",
              "      <th>...</th>\n",
              "      <th>품목27 변동률</th>\n",
              "      <th>품목28 변동률</th>\n",
              "      <th>품목29 변동률</th>\n",
              "      <th>품목30 변동률</th>\n",
              "      <th>품목31 변동률</th>\n",
              "      <th>품목32 변동률</th>\n",
              "      <th>품목33 변동률</th>\n",
              "      <th>품목34 변동률</th>\n",
              "      <th>품목35 변동률</th>\n",
              "      <th>품목36 변동률</th>\n",
              "    </tr>\n",
              "  </thead>\n",
              "  <tbody>\n",
              "    <tr>\n",
              "      <th>0</th>\n",
              "      <td>0</td>\n",
              "      <td>d+1</td>\n",
              "      <td>-0.453490</td>\n",
              "      <td>-0.314445</td>\n",
              "      <td>-0.309245</td>\n",
              "      <td>-0.266135</td>\n",
              "      <td>-0.271471</td>\n",
              "      <td>-0.204297</td>\n",
              "      <td>0.068328</td>\n",
              "      <td>-0.411647</td>\n",
              "      <td>...</td>\n",
              "      <td>-0.365338</td>\n",
              "      <td>-0.527978</td>\n",
              "      <td>-0.335062</td>\n",
              "      <td>-0.236536</td>\n",
              "      <td>-0.388191</td>\n",
              "      <td>-0.469536</td>\n",
              "      <td>-0.331497</td>\n",
              "      <td>-0.304406</td>\n",
              "      <td>-0.334801</td>\n",
              "      <td>-0.333417</td>\n",
              "    </tr>\n",
              "    <tr>\n",
              "      <th>1</th>\n",
              "      <td>0</td>\n",
              "      <td>d+2</td>\n",
              "      <td>-0.560371</td>\n",
              "      <td>-0.402464</td>\n",
              "      <td>-0.448148</td>\n",
              "      <td>-0.355269</td>\n",
              "      <td>-0.345517</td>\n",
              "      <td>-0.246351</td>\n",
              "      <td>0.045897</td>\n",
              "      <td>-0.585730</td>\n",
              "      <td>...</td>\n",
              "      <td>-0.448050</td>\n",
              "      <td>-0.725243</td>\n",
              "      <td>-0.560121</td>\n",
              "      <td>-0.296543</td>\n",
              "      <td>-0.450443</td>\n",
              "      <td>-0.631609</td>\n",
              "      <td>-0.407214</td>\n",
              "      <td>-0.387088</td>\n",
              "      <td>-0.414872</td>\n",
              "      <td>-0.397551</td>\n",
              "    </tr>\n",
              "    <tr>\n",
              "      <th>2</th>\n",
              "      <td>0</td>\n",
              "      <td>d+3</td>\n",
              "      <td>-0.515601</td>\n",
              "      <td>-0.420401</td>\n",
              "      <td>-0.370528</td>\n",
              "      <td>-0.336958</td>\n",
              "      <td>-0.310236</td>\n",
              "      <td>-0.213756</td>\n",
              "      <td>0.043635</td>\n",
              "      <td>-0.602919</td>\n",
              "      <td>...</td>\n",
              "      <td>-0.450745</td>\n",
              "      <td>-0.628611</td>\n",
              "      <td>-0.535056</td>\n",
              "      <td>-0.483572</td>\n",
              "      <td>-0.418959</td>\n",
              "      <td>-0.575844</td>\n",
              "      <td>-0.435867</td>\n",
              "      <td>-0.400727</td>\n",
              "      <td>-0.398523</td>\n",
              "      <td>-0.360531</td>\n",
              "    </tr>\n",
              "    <tr>\n",
              "      <th>3</th>\n",
              "      <td>0</td>\n",
              "      <td>d+4</td>\n",
              "      <td>-0.501383</td>\n",
              "      <td>-0.402576</td>\n",
              "      <td>-0.223436</td>\n",
              "      <td>-0.318937</td>\n",
              "      <td>-0.276013</td>\n",
              "      <td>-0.196959</td>\n",
              "      <td>0.020901</td>\n",
              "      <td>-0.597743</td>\n",
              "      <td>...</td>\n",
              "      <td>-0.446482</td>\n",
              "      <td>-0.519161</td>\n",
              "      <td>-0.368178</td>\n",
              "      <td>-0.286812</td>\n",
              "      <td>-0.418880</td>\n",
              "      <td>-0.504538</td>\n",
              "      <td>-0.388117</td>\n",
              "      <td>-0.391381</td>\n",
              "      <td>-0.397395</td>\n",
              "      <td>-0.227828</td>\n",
              "    </tr>\n",
              "    <tr>\n",
              "      <th>4</th>\n",
              "      <td>0</td>\n",
              "      <td>d+5</td>\n",
              "      <td>-0.499826</td>\n",
              "      <td>-0.354960</td>\n",
              "      <td>-0.058469</td>\n",
              "      <td>-0.323038</td>\n",
              "      <td>-0.277107</td>\n",
              "      <td>-0.215479</td>\n",
              "      <td>0.044128</td>\n",
              "      <td>-0.583016</td>\n",
              "      <td>...</td>\n",
              "      <td>-0.439188</td>\n",
              "      <td>-0.491217</td>\n",
              "      <td>-0.268396</td>\n",
              "      <td>-0.052623</td>\n",
              "      <td>-0.430974</td>\n",
              "      <td>-0.524641</td>\n",
              "      <td>-0.345201</td>\n",
              "      <td>-0.366927</td>\n",
              "      <td>-0.413023</td>\n",
              "      <td>-0.219789</td>\n",
              "    </tr>\n",
              "    <tr>\n",
              "      <th>...</th>\n",
              "      <td>...</td>\n",
              "      <td>...</td>\n",
              "      <td>...</td>\n",
              "      <td>...</td>\n",
              "      <td>...</td>\n",
              "      <td>...</td>\n",
              "      <td>...</td>\n",
              "      <td>...</td>\n",
              "      <td>...</td>\n",
              "      <td>...</td>\n",
              "      <td>...</td>\n",
              "      <td>...</td>\n",
              "      <td>...</td>\n",
              "      <td>...</td>\n",
              "      <td>...</td>\n",
              "      <td>...</td>\n",
              "      <td>...</td>\n",
              "      <td>...</td>\n",
              "      <td>...</td>\n",
              "      <td>...</td>\n",
              "      <td>...</td>\n",
              "    </tr>\n",
              "    <tr>\n",
              "      <th>145</th>\n",
              "      <td>9</td>\n",
              "      <td>d+11</td>\n",
              "      <td>-0.067534</td>\n",
              "      <td>-0.212668</td>\n",
              "      <td>-0.171184</td>\n",
              "      <td>-0.132016</td>\n",
              "      <td>-0.222891</td>\n",
              "      <td>-0.053962</td>\n",
              "      <td>-0.002723</td>\n",
              "      <td>NaN</td>\n",
              "      <td>...</td>\n",
              "      <td>-0.043108</td>\n",
              "      <td>0.071165</td>\n",
              "      <td>-0.141434</td>\n",
              "      <td>-0.175684</td>\n",
              "      <td>-0.152009</td>\n",
              "      <td>-0.083392</td>\n",
              "      <td>-0.191056</td>\n",
              "      <td>-0.096892</td>\n",
              "      <td>-0.149172</td>\n",
              "      <td>-0.075420</td>\n",
              "    </tr>\n",
              "    <tr>\n",
              "      <th>146</th>\n",
              "      <td>9</td>\n",
              "      <td>d+12</td>\n",
              "      <td>-0.048000</td>\n",
              "      <td>-0.203423</td>\n",
              "      <td>-0.081414</td>\n",
              "      <td>-0.126789</td>\n",
              "      <td>-0.206864</td>\n",
              "      <td>-0.046236</td>\n",
              "      <td>-0.006859</td>\n",
              "      <td>NaN</td>\n",
              "      <td>...</td>\n",
              "      <td>-0.045542</td>\n",
              "      <td>0.146284</td>\n",
              "      <td>0.034059</td>\n",
              "      <td>0.021111</td>\n",
              "      <td>-0.153362</td>\n",
              "      <td>0.022379</td>\n",
              "      <td>-0.178557</td>\n",
              "      <td>-0.088449</td>\n",
              "      <td>-0.136405</td>\n",
              "      <td>-0.081287</td>\n",
              "    </tr>\n",
              "    <tr>\n",
              "      <th>147</th>\n",
              "      <td>9</td>\n",
              "      <td>d+13</td>\n",
              "      <td>-0.035347</td>\n",
              "      <td>-0.169401</td>\n",
              "      <td>-0.087759</td>\n",
              "      <td>-0.107162</td>\n",
              "      <td>-0.163667</td>\n",
              "      <td>-0.059107</td>\n",
              "      <td>-0.007241</td>\n",
              "      <td>NaN</td>\n",
              "      <td>...</td>\n",
              "      <td>-0.041185</td>\n",
              "      <td>0.116371</td>\n",
              "      <td>0.009425</td>\n",
              "      <td>-0.049868</td>\n",
              "      <td>-0.133194</td>\n",
              "      <td>-0.001207</td>\n",
              "      <td>-0.162878</td>\n",
              "      <td>-0.067319</td>\n",
              "      <td>-0.129592</td>\n",
              "      <td>-0.136730</td>\n",
              "    </tr>\n",
              "    <tr>\n",
              "      <th>148</th>\n",
              "      <td>9</td>\n",
              "      <td>d+14</td>\n",
              "      <td>-0.007142</td>\n",
              "      <td>-0.021297</td>\n",
              "      <td>0.006092</td>\n",
              "      <td>-0.028906</td>\n",
              "      <td>-0.043534</td>\n",
              "      <td>-0.002256</td>\n",
              "      <td>0.001624</td>\n",
              "      <td>NaN</td>\n",
              "      <td>...</td>\n",
              "      <td>-0.014627</td>\n",
              "      <td>0.001828</td>\n",
              "      <td>0.007582</td>\n",
              "      <td>-0.008175</td>\n",
              "      <td>0.000259</td>\n",
              "      <td>0.001457</td>\n",
              "      <td>0.016327</td>\n",
              "      <td>-0.009263</td>\n",
              "      <td>-0.029832</td>\n",
              "      <td>-0.008645</td>\n",
              "    </tr>\n",
              "    <tr>\n",
              "      <th>149</th>\n",
              "      <td>9</td>\n",
              "      <td>d+22 ~ 28 평균</td>\n",
              "      <td>-0.037135</td>\n",
              "      <td>-0.160449</td>\n",
              "      <td>-0.150362</td>\n",
              "      <td>-0.111291</td>\n",
              "      <td>-0.178079</td>\n",
              "      <td>-0.048427</td>\n",
              "      <td>-0.011971</td>\n",
              "      <td>NaN</td>\n",
              "      <td>...</td>\n",
              "      <td>-0.037501</td>\n",
              "      <td>0.044489</td>\n",
              "      <td>-0.098419</td>\n",
              "      <td>-0.123614</td>\n",
              "      <td>-0.108755</td>\n",
              "      <td>-0.071215</td>\n",
              "      <td>-0.141425</td>\n",
              "      <td>-0.060167</td>\n",
              "      <td>-0.123367</td>\n",
              "      <td>-0.092930</td>\n",
              "    </tr>\n",
              "  </tbody>\n",
              "</table>\n",
              "<p>150 rows × 39 columns</p>\n",
              "</div>"
            ],
            "text/plain": [
              "     Set            일자   품목0 변동률   품목1 변동률   품목2 변동률   품목3 변동률   품목4 변동률  \\\n",
              "0      0           d+1 -0.453490 -0.314445 -0.309245 -0.266135 -0.271471   \n",
              "1      0           d+2 -0.560371 -0.402464 -0.448148 -0.355269 -0.345517   \n",
              "2      0           d+3 -0.515601 -0.420401 -0.370528 -0.336958 -0.310236   \n",
              "3      0           d+4 -0.501383 -0.402576 -0.223436 -0.318937 -0.276013   \n",
              "4      0           d+5 -0.499826 -0.354960 -0.058469 -0.323038 -0.277107   \n",
              "..   ...           ...       ...       ...       ...       ...       ...   \n",
              "145    9          d+11 -0.067534 -0.212668 -0.171184 -0.132016 -0.222891   \n",
              "146    9          d+12 -0.048000 -0.203423 -0.081414 -0.126789 -0.206864   \n",
              "147    9          d+13 -0.035347 -0.169401 -0.087759 -0.107162 -0.163667   \n",
              "148    9          d+14 -0.007142 -0.021297  0.006092 -0.028906 -0.043534   \n",
              "149    9  d+22 ~ 28 평균 -0.037135 -0.160449 -0.150362 -0.111291 -0.178079   \n",
              "\n",
              "      품목5 변동률   품목6 변동률   품목7 변동률  ...  품목27 변동률  품목28 변동률  품목29 변동률  \\\n",
              "0   -0.204297  0.068328 -0.411647  ... -0.365338 -0.527978 -0.335062   \n",
              "1   -0.246351  0.045897 -0.585730  ... -0.448050 -0.725243 -0.560121   \n",
              "2   -0.213756  0.043635 -0.602919  ... -0.450745 -0.628611 -0.535056   \n",
              "3   -0.196959  0.020901 -0.597743  ... -0.446482 -0.519161 -0.368178   \n",
              "4   -0.215479  0.044128 -0.583016  ... -0.439188 -0.491217 -0.268396   \n",
              "..        ...       ...       ...  ...       ...       ...       ...   \n",
              "145 -0.053962 -0.002723       NaN  ... -0.043108  0.071165 -0.141434   \n",
              "146 -0.046236 -0.006859       NaN  ... -0.045542  0.146284  0.034059   \n",
              "147 -0.059107 -0.007241       NaN  ... -0.041185  0.116371  0.009425   \n",
              "148 -0.002256  0.001624       NaN  ... -0.014627  0.001828  0.007582   \n",
              "149 -0.048427 -0.011971       NaN  ... -0.037501  0.044489 -0.098419   \n",
              "\n",
              "     품목30 변동률  품목31 변동률  품목32 변동률  품목33 변동률  품목34 변동률  품목35 변동률  품목36 변동률  \n",
              "0   -0.236536 -0.388191 -0.469536 -0.331497 -0.304406 -0.334801 -0.333417  \n",
              "1   -0.296543 -0.450443 -0.631609 -0.407214 -0.387088 -0.414872 -0.397551  \n",
              "2   -0.483572 -0.418959 -0.575844 -0.435867 -0.400727 -0.398523 -0.360531  \n",
              "3   -0.286812 -0.418880 -0.504538 -0.388117 -0.391381 -0.397395 -0.227828  \n",
              "4   -0.052623 -0.430974 -0.524641 -0.345201 -0.366927 -0.413023 -0.219789  \n",
              "..        ...       ...       ...       ...       ...       ...       ...  \n",
              "145 -0.175684 -0.152009 -0.083392 -0.191056 -0.096892 -0.149172 -0.075420  \n",
              "146  0.021111 -0.153362  0.022379 -0.178557 -0.088449 -0.136405 -0.081287  \n",
              "147 -0.049868 -0.133194 -0.001207 -0.162878 -0.067319 -0.129592 -0.136730  \n",
              "148 -0.008175  0.000259  0.001457  0.016327 -0.009263 -0.029832 -0.008645  \n",
              "149 -0.123614 -0.108755 -0.071215 -0.141425 -0.060167 -0.123367 -0.092930  \n",
              "\n",
              "[150 rows x 39 columns]"
            ]
          },
          "execution_count": 19,
          "metadata": {},
          "output_type": "execute_result"
        }
      ],
      "source": [
        "all_df"
      ]
    },
    {
      "cell_type": "markdown",
      "metadata": {
        "id": "-OCf5arQJ8fq"
      },
      "source": [
        "- 제출 양식"
      ]
    },
    {
      "cell_type": "code",
      "execution_count": 20,
      "metadata": {
        "id": "9gI2ehAsJ8fq"
      },
      "outputs": [
        {
          "data": {
            "text/html": [
              "<div>\n",
              "<style scoped>\n",
              "    .dataframe tbody tr th:only-of-type {\n",
              "        vertical-align: middle;\n",
              "    }\n",
              "\n",
              "    .dataframe tbody tr th {\n",
              "        vertical-align: top;\n",
              "    }\n",
              "\n",
              "    .dataframe thead th {\n",
              "        text-align: right;\n",
              "    }\n",
              "</style>\n",
              "<table border=\"1\" class=\"dataframe\">\n",
              "  <thead>\n",
              "    <tr style=\"text-align: right;\">\n",
              "      <th></th>\n",
              "      <th>Set</th>\n",
              "      <th>일자</th>\n",
              "      <th>품목0 변동률</th>\n",
              "      <th>품목1 변동률</th>\n",
              "      <th>품목2 변동률</th>\n",
              "      <th>품목3 변동률</th>\n",
              "      <th>품목4 변동률</th>\n",
              "      <th>품목5 변동률</th>\n",
              "      <th>품목6 변동률</th>\n",
              "      <th>품목7 변동률</th>\n",
              "      <th>...</th>\n",
              "      <th>품목27 변동률</th>\n",
              "      <th>품목28 변동률</th>\n",
              "      <th>품목29 변동률</th>\n",
              "      <th>품목30 변동률</th>\n",
              "      <th>품목31 변동률</th>\n",
              "      <th>품목32 변동률</th>\n",
              "      <th>품목33 변동률</th>\n",
              "      <th>품목34 변동률</th>\n",
              "      <th>품목35 변동률</th>\n",
              "      <th>품목36 변동률</th>\n",
              "    </tr>\n",
              "  </thead>\n",
              "  <tbody>\n",
              "    <tr>\n",
              "      <th>0</th>\n",
              "      <td>0</td>\n",
              "      <td>d+1</td>\n",
              "      <td>0.0</td>\n",
              "      <td>0.0</td>\n",
              "      <td>0.0</td>\n",
              "      <td>0.0</td>\n",
              "      <td>0.0</td>\n",
              "      <td>0.0</td>\n",
              "      <td>0.0</td>\n",
              "      <td>0.0</td>\n",
              "      <td>...</td>\n",
              "      <td>0.0</td>\n",
              "      <td>0.0</td>\n",
              "      <td>0.0</td>\n",
              "      <td>0.0</td>\n",
              "      <td>0.0</td>\n",
              "      <td>0.0</td>\n",
              "      <td>0.0</td>\n",
              "      <td>0.0</td>\n",
              "      <td>0.0</td>\n",
              "      <td>0.0</td>\n",
              "    </tr>\n",
              "    <tr>\n",
              "      <th>1</th>\n",
              "      <td>0</td>\n",
              "      <td>d+2</td>\n",
              "      <td>0.0</td>\n",
              "      <td>0.0</td>\n",
              "      <td>0.0</td>\n",
              "      <td>0.0</td>\n",
              "      <td>0.0</td>\n",
              "      <td>0.0</td>\n",
              "      <td>NaN</td>\n",
              "      <td>0.0</td>\n",
              "      <td>...</td>\n",
              "      <td>0.0</td>\n",
              "      <td>0.0</td>\n",
              "      <td>0.0</td>\n",
              "      <td>0.0</td>\n",
              "      <td>0.0</td>\n",
              "      <td>0.0</td>\n",
              "      <td>0.0</td>\n",
              "      <td>0.0</td>\n",
              "      <td>0.0</td>\n",
              "      <td>0.0</td>\n",
              "    </tr>\n",
              "    <tr>\n",
              "      <th>2</th>\n",
              "      <td>0</td>\n",
              "      <td>d+3</td>\n",
              "      <td>NaN</td>\n",
              "      <td>NaN</td>\n",
              "      <td>NaN</td>\n",
              "      <td>NaN</td>\n",
              "      <td>NaN</td>\n",
              "      <td>NaN</td>\n",
              "      <td>0.0</td>\n",
              "      <td>NaN</td>\n",
              "      <td>...</td>\n",
              "      <td>NaN</td>\n",
              "      <td>NaN</td>\n",
              "      <td>NaN</td>\n",
              "      <td>NaN</td>\n",
              "      <td>NaN</td>\n",
              "      <td>NaN</td>\n",
              "      <td>NaN</td>\n",
              "      <td>NaN</td>\n",
              "      <td>NaN</td>\n",
              "      <td>NaN</td>\n",
              "    </tr>\n",
              "    <tr>\n",
              "      <th>3</th>\n",
              "      <td>0</td>\n",
              "      <td>d+4</td>\n",
              "      <td>0.0</td>\n",
              "      <td>0.0</td>\n",
              "      <td>0.0</td>\n",
              "      <td>0.0</td>\n",
              "      <td>0.0</td>\n",
              "      <td>0.0</td>\n",
              "      <td>NaN</td>\n",
              "      <td>0.0</td>\n",
              "      <td>...</td>\n",
              "      <td>0.0</td>\n",
              "      <td>0.0</td>\n",
              "      <td>0.0</td>\n",
              "      <td>0.0</td>\n",
              "      <td>0.0</td>\n",
              "      <td>0.0</td>\n",
              "      <td>0.0</td>\n",
              "      <td>0.0</td>\n",
              "      <td>0.0</td>\n",
              "      <td>0.0</td>\n",
              "    </tr>\n",
              "    <tr>\n",
              "      <th>4</th>\n",
              "      <td>0</td>\n",
              "      <td>d+5</td>\n",
              "      <td>0.0</td>\n",
              "      <td>0.0</td>\n",
              "      <td>0.0</td>\n",
              "      <td>0.0</td>\n",
              "      <td>0.0</td>\n",
              "      <td>0.0</td>\n",
              "      <td>NaN</td>\n",
              "      <td>0.0</td>\n",
              "      <td>...</td>\n",
              "      <td>0.0</td>\n",
              "      <td>0.0</td>\n",
              "      <td>0.0</td>\n",
              "      <td>0.0</td>\n",
              "      <td>0.0</td>\n",
              "      <td>0.0</td>\n",
              "      <td>0.0</td>\n",
              "      <td>0.0</td>\n",
              "      <td>0.0</td>\n",
              "      <td>0.0</td>\n",
              "    </tr>\n",
              "    <tr>\n",
              "      <th>...</th>\n",
              "      <td>...</td>\n",
              "      <td>...</td>\n",
              "      <td>...</td>\n",
              "      <td>...</td>\n",
              "      <td>...</td>\n",
              "      <td>...</td>\n",
              "      <td>...</td>\n",
              "      <td>...</td>\n",
              "      <td>...</td>\n",
              "      <td>...</td>\n",
              "      <td>...</td>\n",
              "      <td>...</td>\n",
              "      <td>...</td>\n",
              "      <td>...</td>\n",
              "      <td>...</td>\n",
              "      <td>...</td>\n",
              "      <td>...</td>\n",
              "      <td>...</td>\n",
              "      <td>...</td>\n",
              "      <td>...</td>\n",
              "      <td>...</td>\n",
              "    </tr>\n",
              "    <tr>\n",
              "      <th>145</th>\n",
              "      <td>9</td>\n",
              "      <td>d+11</td>\n",
              "      <td>0.0</td>\n",
              "      <td>0.0</td>\n",
              "      <td>0.0</td>\n",
              "      <td>0.0</td>\n",
              "      <td>0.0</td>\n",
              "      <td>0.0</td>\n",
              "      <td>0.0</td>\n",
              "      <td>NaN</td>\n",
              "      <td>...</td>\n",
              "      <td>0.0</td>\n",
              "      <td>0.0</td>\n",
              "      <td>0.0</td>\n",
              "      <td>0.0</td>\n",
              "      <td>0.0</td>\n",
              "      <td>0.0</td>\n",
              "      <td>0.0</td>\n",
              "      <td>0.0</td>\n",
              "      <td>0.0</td>\n",
              "      <td>0.0</td>\n",
              "    </tr>\n",
              "    <tr>\n",
              "      <th>146</th>\n",
              "      <td>9</td>\n",
              "      <td>d+12</td>\n",
              "      <td>0.0</td>\n",
              "      <td>0.0</td>\n",
              "      <td>0.0</td>\n",
              "      <td>0.0</td>\n",
              "      <td>0.0</td>\n",
              "      <td>0.0</td>\n",
              "      <td>0.0</td>\n",
              "      <td>NaN</td>\n",
              "      <td>...</td>\n",
              "      <td>0.0</td>\n",
              "      <td>0.0</td>\n",
              "      <td>0.0</td>\n",
              "      <td>0.0</td>\n",
              "      <td>0.0</td>\n",
              "      <td>0.0</td>\n",
              "      <td>0.0</td>\n",
              "      <td>0.0</td>\n",
              "      <td>0.0</td>\n",
              "      <td>0.0</td>\n",
              "    </tr>\n",
              "    <tr>\n",
              "      <th>147</th>\n",
              "      <td>9</td>\n",
              "      <td>d+13</td>\n",
              "      <td>0.0</td>\n",
              "      <td>0.0</td>\n",
              "      <td>0.0</td>\n",
              "      <td>0.0</td>\n",
              "      <td>0.0</td>\n",
              "      <td>0.0</td>\n",
              "      <td>0.0</td>\n",
              "      <td>NaN</td>\n",
              "      <td>...</td>\n",
              "      <td>0.0</td>\n",
              "      <td>0.0</td>\n",
              "      <td>0.0</td>\n",
              "      <td>0.0</td>\n",
              "      <td>0.0</td>\n",
              "      <td>0.0</td>\n",
              "      <td>0.0</td>\n",
              "      <td>0.0</td>\n",
              "      <td>0.0</td>\n",
              "      <td>0.0</td>\n",
              "    </tr>\n",
              "    <tr>\n",
              "      <th>148</th>\n",
              "      <td>9</td>\n",
              "      <td>d+14</td>\n",
              "      <td>0.0</td>\n",
              "      <td>0.0</td>\n",
              "      <td>0.0</td>\n",
              "      <td>0.0</td>\n",
              "      <td>0.0</td>\n",
              "      <td>0.0</td>\n",
              "      <td>0.0</td>\n",
              "      <td>NaN</td>\n",
              "      <td>...</td>\n",
              "      <td>0.0</td>\n",
              "      <td>0.0</td>\n",
              "      <td>0.0</td>\n",
              "      <td>0.0</td>\n",
              "      <td>0.0</td>\n",
              "      <td>0.0</td>\n",
              "      <td>0.0</td>\n",
              "      <td>0.0</td>\n",
              "      <td>0.0</td>\n",
              "      <td>0.0</td>\n",
              "    </tr>\n",
              "    <tr>\n",
              "      <th>149</th>\n",
              "      <td>9</td>\n",
              "      <td>d+22 ~ 28 평균</td>\n",
              "      <td>0.0</td>\n",
              "      <td>0.0</td>\n",
              "      <td>0.0</td>\n",
              "      <td>0.0</td>\n",
              "      <td>0.0</td>\n",
              "      <td>0.0</td>\n",
              "      <td>NaN</td>\n",
              "      <td>NaN</td>\n",
              "      <td>...</td>\n",
              "      <td>0.0</td>\n",
              "      <td>0.0</td>\n",
              "      <td>0.0</td>\n",
              "      <td>0.0</td>\n",
              "      <td>0.0</td>\n",
              "      <td>0.0</td>\n",
              "      <td>0.0</td>\n",
              "      <td>0.0</td>\n",
              "      <td>0.0</td>\n",
              "      <td>0.0</td>\n",
              "    </tr>\n",
              "  </tbody>\n",
              "</table>\n",
              "<p>150 rows × 39 columns</p>\n",
              "</div>"
            ],
            "text/plain": [
              "     Set            일자  품목0 변동률  품목1 변동률  품목2 변동률  품목3 변동률  품목4 변동률  품목5 변동률  \\\n",
              "0      0           d+1      0.0      0.0      0.0      0.0      0.0      0.0   \n",
              "1      0           d+2      0.0      0.0      0.0      0.0      0.0      0.0   \n",
              "2      0           d+3      NaN      NaN      NaN      NaN      NaN      NaN   \n",
              "3      0           d+4      0.0      0.0      0.0      0.0      0.0      0.0   \n",
              "4      0           d+5      0.0      0.0      0.0      0.0      0.0      0.0   \n",
              "..   ...           ...      ...      ...      ...      ...      ...      ...   \n",
              "145    9          d+11      0.0      0.0      0.0      0.0      0.0      0.0   \n",
              "146    9          d+12      0.0      0.0      0.0      0.0      0.0      0.0   \n",
              "147    9          d+13      0.0      0.0      0.0      0.0      0.0      0.0   \n",
              "148    9          d+14      0.0      0.0      0.0      0.0      0.0      0.0   \n",
              "149    9  d+22 ~ 28 평균      0.0      0.0      0.0      0.0      0.0      0.0   \n",
              "\n",
              "     품목6 변동률  품목7 변동률  ...  품목27 변동률  품목28 변동률  품목29 변동률  품목30 변동률  품목31 변동률  \\\n",
              "0        0.0      0.0  ...       0.0       0.0       0.0       0.0       0.0   \n",
              "1        NaN      0.0  ...       0.0       0.0       0.0       0.0       0.0   \n",
              "2        0.0      NaN  ...       NaN       NaN       NaN       NaN       NaN   \n",
              "3        NaN      0.0  ...       0.0       0.0       0.0       0.0       0.0   \n",
              "4        NaN      0.0  ...       0.0       0.0       0.0       0.0       0.0   \n",
              "..       ...      ...  ...       ...       ...       ...       ...       ...   \n",
              "145      0.0      NaN  ...       0.0       0.0       0.0       0.0       0.0   \n",
              "146      0.0      NaN  ...       0.0       0.0       0.0       0.0       0.0   \n",
              "147      0.0      NaN  ...       0.0       0.0       0.0       0.0       0.0   \n",
              "148      0.0      NaN  ...       0.0       0.0       0.0       0.0       0.0   \n",
              "149      NaN      NaN  ...       0.0       0.0       0.0       0.0       0.0   \n",
              "\n",
              "     품목32 변동률  품목33 변동률  품목34 변동률  품목35 변동률  품목36 변동률  \n",
              "0         0.0       0.0       0.0       0.0       0.0  \n",
              "1         0.0       0.0       0.0       0.0       0.0  \n",
              "2         NaN       NaN       NaN       NaN       NaN  \n",
              "3         0.0       0.0       0.0       0.0       0.0  \n",
              "4         0.0       0.0       0.0       0.0       0.0  \n",
              "..        ...       ...       ...       ...       ...  \n",
              "145       0.0       0.0       0.0       0.0       0.0  \n",
              "146       0.0       0.0       0.0       0.0       0.0  \n",
              "147       0.0       0.0       0.0       0.0       0.0  \n",
              "148       0.0       0.0       0.0       0.0       0.0  \n",
              "149       0.0       0.0       0.0       0.0       0.0  \n",
              "\n",
              "[150 rows x 39 columns]"
            ]
          },
          "execution_count": 20,
          "metadata": {},
          "output_type": "execute_result"
        }
      ],
      "source": [
        "out_ans"
      ]
    },
    {
      "cell_type": "markdown",
      "metadata": {
        "id": "PwVuAQnjJ8fs"
      },
      "source": [
        "- 제출 양식 반영한 최종 결과물 (**실 제출용**)"
      ]
    },
    {
      "cell_type": "code",
      "execution_count": 21,
      "metadata": {
        "id": "01gJL4kXJ8fs"
      },
      "outputs": [
        {
          "data": {
            "text/html": [
              "<div>\n",
              "<style scoped>\n",
              "    .dataframe tbody tr th:only-of-type {\n",
              "        vertical-align: middle;\n",
              "    }\n",
              "\n",
              "    .dataframe tbody tr th {\n",
              "        vertical-align: top;\n",
              "    }\n",
              "\n",
              "    .dataframe thead th {\n",
              "        text-align: right;\n",
              "    }\n",
              "</style>\n",
              "<table border=\"1\" class=\"dataframe\">\n",
              "  <thead>\n",
              "    <tr style=\"text-align: right;\">\n",
              "      <th></th>\n",
              "      <th>Set</th>\n",
              "      <th>일자</th>\n",
              "      <th>품목0 변동률</th>\n",
              "      <th>품목1 변동률</th>\n",
              "      <th>품목2 변동률</th>\n",
              "      <th>품목3 변동률</th>\n",
              "      <th>품목4 변동률</th>\n",
              "      <th>품목5 변동률</th>\n",
              "      <th>품목6 변동률</th>\n",
              "      <th>품목7 변동률</th>\n",
              "      <th>...</th>\n",
              "      <th>품목27 변동률</th>\n",
              "      <th>품목28 변동률</th>\n",
              "      <th>품목29 변동률</th>\n",
              "      <th>품목30 변동률</th>\n",
              "      <th>품목31 변동률</th>\n",
              "      <th>품목32 변동률</th>\n",
              "      <th>품목33 변동률</th>\n",
              "      <th>품목34 변동률</th>\n",
              "      <th>품목35 변동률</th>\n",
              "      <th>품목36 변동률</th>\n",
              "    </tr>\n",
              "  </thead>\n",
              "  <tbody>\n",
              "    <tr>\n",
              "      <th>0</th>\n",
              "      <td>0</td>\n",
              "      <td>d+1</td>\n",
              "      <td>-0.453490</td>\n",
              "      <td>-0.314445</td>\n",
              "      <td>-0.309245</td>\n",
              "      <td>-0.266135</td>\n",
              "      <td>-0.271471</td>\n",
              "      <td>-0.204297</td>\n",
              "      <td>0.068328</td>\n",
              "      <td>-0.411647</td>\n",
              "      <td>...</td>\n",
              "      <td>-0.365338</td>\n",
              "      <td>-0.527978</td>\n",
              "      <td>-0.335062</td>\n",
              "      <td>-0.236536</td>\n",
              "      <td>-0.388191</td>\n",
              "      <td>-0.469536</td>\n",
              "      <td>-0.331497</td>\n",
              "      <td>-0.304406</td>\n",
              "      <td>-0.334801</td>\n",
              "      <td>-0.333417</td>\n",
              "    </tr>\n",
              "    <tr>\n",
              "      <th>1</th>\n",
              "      <td>0</td>\n",
              "      <td>d+2</td>\n",
              "      <td>-0.560371</td>\n",
              "      <td>-0.402464</td>\n",
              "      <td>-0.448148</td>\n",
              "      <td>-0.355269</td>\n",
              "      <td>-0.345517</td>\n",
              "      <td>-0.246351</td>\n",
              "      <td>NaN</td>\n",
              "      <td>-0.585730</td>\n",
              "      <td>...</td>\n",
              "      <td>-0.448050</td>\n",
              "      <td>-0.725243</td>\n",
              "      <td>-0.560121</td>\n",
              "      <td>-0.296543</td>\n",
              "      <td>-0.450443</td>\n",
              "      <td>-0.631609</td>\n",
              "      <td>-0.407214</td>\n",
              "      <td>-0.387088</td>\n",
              "      <td>-0.414872</td>\n",
              "      <td>-0.397551</td>\n",
              "    </tr>\n",
              "    <tr>\n",
              "      <th>2</th>\n",
              "      <td>0</td>\n",
              "      <td>d+3</td>\n",
              "      <td>NaN</td>\n",
              "      <td>NaN</td>\n",
              "      <td>NaN</td>\n",
              "      <td>NaN</td>\n",
              "      <td>NaN</td>\n",
              "      <td>NaN</td>\n",
              "      <td>0.043635</td>\n",
              "      <td>NaN</td>\n",
              "      <td>...</td>\n",
              "      <td>NaN</td>\n",
              "      <td>NaN</td>\n",
              "      <td>NaN</td>\n",
              "      <td>NaN</td>\n",
              "      <td>NaN</td>\n",
              "      <td>NaN</td>\n",
              "      <td>NaN</td>\n",
              "      <td>NaN</td>\n",
              "      <td>NaN</td>\n",
              "      <td>NaN</td>\n",
              "    </tr>\n",
              "    <tr>\n",
              "      <th>3</th>\n",
              "      <td>0</td>\n",
              "      <td>d+4</td>\n",
              "      <td>-0.501383</td>\n",
              "      <td>-0.402576</td>\n",
              "      <td>-0.223436</td>\n",
              "      <td>-0.318937</td>\n",
              "      <td>-0.276013</td>\n",
              "      <td>-0.196959</td>\n",
              "      <td>NaN</td>\n",
              "      <td>-0.597743</td>\n",
              "      <td>...</td>\n",
              "      <td>-0.446482</td>\n",
              "      <td>-0.519161</td>\n",
              "      <td>-0.368178</td>\n",
              "      <td>-0.286812</td>\n",
              "      <td>-0.418880</td>\n",
              "      <td>-0.504538</td>\n",
              "      <td>-0.388117</td>\n",
              "      <td>-0.391381</td>\n",
              "      <td>-0.397395</td>\n",
              "      <td>-0.227828</td>\n",
              "    </tr>\n",
              "    <tr>\n",
              "      <th>4</th>\n",
              "      <td>0</td>\n",
              "      <td>d+5</td>\n",
              "      <td>-0.499826</td>\n",
              "      <td>-0.354960</td>\n",
              "      <td>-0.058469</td>\n",
              "      <td>-0.323038</td>\n",
              "      <td>-0.277107</td>\n",
              "      <td>-0.215479</td>\n",
              "      <td>NaN</td>\n",
              "      <td>-0.583016</td>\n",
              "      <td>...</td>\n",
              "      <td>-0.439188</td>\n",
              "      <td>-0.491217</td>\n",
              "      <td>-0.268396</td>\n",
              "      <td>-0.052623</td>\n",
              "      <td>-0.430974</td>\n",
              "      <td>-0.524641</td>\n",
              "      <td>-0.345201</td>\n",
              "      <td>-0.366927</td>\n",
              "      <td>-0.413023</td>\n",
              "      <td>-0.219789</td>\n",
              "    </tr>\n",
              "    <tr>\n",
              "      <th>...</th>\n",
              "      <td>...</td>\n",
              "      <td>...</td>\n",
              "      <td>...</td>\n",
              "      <td>...</td>\n",
              "      <td>...</td>\n",
              "      <td>...</td>\n",
              "      <td>...</td>\n",
              "      <td>...</td>\n",
              "      <td>...</td>\n",
              "      <td>...</td>\n",
              "      <td>...</td>\n",
              "      <td>...</td>\n",
              "      <td>...</td>\n",
              "      <td>...</td>\n",
              "      <td>...</td>\n",
              "      <td>...</td>\n",
              "      <td>...</td>\n",
              "      <td>...</td>\n",
              "      <td>...</td>\n",
              "      <td>...</td>\n",
              "      <td>...</td>\n",
              "    </tr>\n",
              "    <tr>\n",
              "      <th>145</th>\n",
              "      <td>9</td>\n",
              "      <td>d+11</td>\n",
              "      <td>-0.067534</td>\n",
              "      <td>-0.212668</td>\n",
              "      <td>-0.171184</td>\n",
              "      <td>-0.132016</td>\n",
              "      <td>-0.222891</td>\n",
              "      <td>-0.053962</td>\n",
              "      <td>-0.002723</td>\n",
              "      <td>NaN</td>\n",
              "      <td>...</td>\n",
              "      <td>-0.043108</td>\n",
              "      <td>0.071165</td>\n",
              "      <td>-0.141434</td>\n",
              "      <td>-0.175684</td>\n",
              "      <td>-0.152009</td>\n",
              "      <td>-0.083392</td>\n",
              "      <td>-0.191056</td>\n",
              "      <td>-0.096892</td>\n",
              "      <td>-0.149172</td>\n",
              "      <td>-0.075420</td>\n",
              "    </tr>\n",
              "    <tr>\n",
              "      <th>146</th>\n",
              "      <td>9</td>\n",
              "      <td>d+12</td>\n",
              "      <td>-0.048000</td>\n",
              "      <td>-0.203423</td>\n",
              "      <td>-0.081414</td>\n",
              "      <td>-0.126789</td>\n",
              "      <td>-0.206864</td>\n",
              "      <td>-0.046236</td>\n",
              "      <td>-0.006859</td>\n",
              "      <td>NaN</td>\n",
              "      <td>...</td>\n",
              "      <td>-0.045542</td>\n",
              "      <td>0.146284</td>\n",
              "      <td>0.034059</td>\n",
              "      <td>0.021111</td>\n",
              "      <td>-0.153362</td>\n",
              "      <td>0.022379</td>\n",
              "      <td>-0.178557</td>\n",
              "      <td>-0.088449</td>\n",
              "      <td>-0.136405</td>\n",
              "      <td>-0.081287</td>\n",
              "    </tr>\n",
              "    <tr>\n",
              "      <th>147</th>\n",
              "      <td>9</td>\n",
              "      <td>d+13</td>\n",
              "      <td>-0.035347</td>\n",
              "      <td>-0.169401</td>\n",
              "      <td>-0.087759</td>\n",
              "      <td>-0.107162</td>\n",
              "      <td>-0.163667</td>\n",
              "      <td>-0.059107</td>\n",
              "      <td>-0.007241</td>\n",
              "      <td>NaN</td>\n",
              "      <td>...</td>\n",
              "      <td>-0.041185</td>\n",
              "      <td>0.116371</td>\n",
              "      <td>0.009425</td>\n",
              "      <td>-0.049868</td>\n",
              "      <td>-0.133194</td>\n",
              "      <td>-0.001207</td>\n",
              "      <td>-0.162878</td>\n",
              "      <td>-0.067319</td>\n",
              "      <td>-0.129592</td>\n",
              "      <td>-0.136730</td>\n",
              "    </tr>\n",
              "    <tr>\n",
              "      <th>148</th>\n",
              "      <td>9</td>\n",
              "      <td>d+14</td>\n",
              "      <td>-0.007142</td>\n",
              "      <td>-0.021297</td>\n",
              "      <td>0.006092</td>\n",
              "      <td>-0.028906</td>\n",
              "      <td>-0.043534</td>\n",
              "      <td>-0.002256</td>\n",
              "      <td>0.001624</td>\n",
              "      <td>NaN</td>\n",
              "      <td>...</td>\n",
              "      <td>-0.014627</td>\n",
              "      <td>0.001828</td>\n",
              "      <td>0.007582</td>\n",
              "      <td>-0.008175</td>\n",
              "      <td>0.000259</td>\n",
              "      <td>0.001457</td>\n",
              "      <td>0.016327</td>\n",
              "      <td>-0.009263</td>\n",
              "      <td>-0.029832</td>\n",
              "      <td>-0.008645</td>\n",
              "    </tr>\n",
              "    <tr>\n",
              "      <th>149</th>\n",
              "      <td>9</td>\n",
              "      <td>d+22 ~ 28 평균</td>\n",
              "      <td>-0.037135</td>\n",
              "      <td>-0.160449</td>\n",
              "      <td>-0.150362</td>\n",
              "      <td>-0.111291</td>\n",
              "      <td>-0.178079</td>\n",
              "      <td>-0.048427</td>\n",
              "      <td>NaN</td>\n",
              "      <td>NaN</td>\n",
              "      <td>...</td>\n",
              "      <td>-0.037501</td>\n",
              "      <td>0.044489</td>\n",
              "      <td>-0.098419</td>\n",
              "      <td>-0.123614</td>\n",
              "      <td>-0.108755</td>\n",
              "      <td>-0.071215</td>\n",
              "      <td>-0.141425</td>\n",
              "      <td>-0.060167</td>\n",
              "      <td>-0.123367</td>\n",
              "      <td>-0.092930</td>\n",
              "    </tr>\n",
              "  </tbody>\n",
              "</table>\n",
              "<p>150 rows × 39 columns</p>\n",
              "</div>"
            ],
            "text/plain": [
              "     Set            일자   품목0 변동률   품목1 변동률   품목2 변동률   품목3 변동률   품목4 변동률  \\\n",
              "0      0           d+1 -0.453490 -0.314445 -0.309245 -0.266135 -0.271471   \n",
              "1      0           d+2 -0.560371 -0.402464 -0.448148 -0.355269 -0.345517   \n",
              "2      0           d+3       NaN       NaN       NaN       NaN       NaN   \n",
              "3      0           d+4 -0.501383 -0.402576 -0.223436 -0.318937 -0.276013   \n",
              "4      0           d+5 -0.499826 -0.354960 -0.058469 -0.323038 -0.277107   \n",
              "..   ...           ...       ...       ...       ...       ...       ...   \n",
              "145    9          d+11 -0.067534 -0.212668 -0.171184 -0.132016 -0.222891   \n",
              "146    9          d+12 -0.048000 -0.203423 -0.081414 -0.126789 -0.206864   \n",
              "147    9          d+13 -0.035347 -0.169401 -0.087759 -0.107162 -0.163667   \n",
              "148    9          d+14 -0.007142 -0.021297  0.006092 -0.028906 -0.043534   \n",
              "149    9  d+22 ~ 28 평균 -0.037135 -0.160449 -0.150362 -0.111291 -0.178079   \n",
              "\n",
              "      품목5 변동률   품목6 변동률   품목7 변동률  ...  품목27 변동률  품목28 변동률  품목29 변동률  \\\n",
              "0   -0.204297  0.068328 -0.411647  ... -0.365338 -0.527978 -0.335062   \n",
              "1   -0.246351       NaN -0.585730  ... -0.448050 -0.725243 -0.560121   \n",
              "2         NaN  0.043635       NaN  ...       NaN       NaN       NaN   \n",
              "3   -0.196959       NaN -0.597743  ... -0.446482 -0.519161 -0.368178   \n",
              "4   -0.215479       NaN -0.583016  ... -0.439188 -0.491217 -0.268396   \n",
              "..        ...       ...       ...  ...       ...       ...       ...   \n",
              "145 -0.053962 -0.002723       NaN  ... -0.043108  0.071165 -0.141434   \n",
              "146 -0.046236 -0.006859       NaN  ... -0.045542  0.146284  0.034059   \n",
              "147 -0.059107 -0.007241       NaN  ... -0.041185  0.116371  0.009425   \n",
              "148 -0.002256  0.001624       NaN  ... -0.014627  0.001828  0.007582   \n",
              "149 -0.048427       NaN       NaN  ... -0.037501  0.044489 -0.098419   \n",
              "\n",
              "     품목30 변동률  품목31 변동률  품목32 변동률  품목33 변동률  품목34 변동률  품목35 변동률  품목36 변동률  \n",
              "0   -0.236536 -0.388191 -0.469536 -0.331497 -0.304406 -0.334801 -0.333417  \n",
              "1   -0.296543 -0.450443 -0.631609 -0.407214 -0.387088 -0.414872 -0.397551  \n",
              "2         NaN       NaN       NaN       NaN       NaN       NaN       NaN  \n",
              "3   -0.286812 -0.418880 -0.504538 -0.388117 -0.391381 -0.397395 -0.227828  \n",
              "4   -0.052623 -0.430974 -0.524641 -0.345201 -0.366927 -0.413023 -0.219789  \n",
              "..        ...       ...       ...       ...       ...       ...       ...  \n",
              "145 -0.175684 -0.152009 -0.083392 -0.191056 -0.096892 -0.149172 -0.075420  \n",
              "146  0.021111 -0.153362  0.022379 -0.178557 -0.088449 -0.136405 -0.081287  \n",
              "147 -0.049868 -0.133194 -0.001207 -0.162878 -0.067319 -0.129592 -0.136730  \n",
              "148 -0.008175  0.000259  0.001457  0.016327 -0.009263 -0.029832 -0.008645  \n",
              "149 -0.123614 -0.108755 -0.071215 -0.141425 -0.060167 -0.123367 -0.092930  \n",
              "\n",
              "[150 rows x 39 columns]"
            ]
          },
          "execution_count": 21,
          "metadata": {},
          "output_type": "execute_result"
        }
      ],
      "source": [
        "submit_df"
      ]
    }
  ],
  "metadata": {
    "accelerator": "GPU",
    "colab": {
      "collapsed_sections": [],
      "provenance": []
    },
    "interpreter": {
      "hash": "8103e069ec51355429052e158df4f5ba0ef95071c815cf0f00b63f8cf0232057"
    },
    "kernelspec": {
      "display_name": "Python 3.10.6 64-bit ('tfenv': conda)",
      "name": "python3"
    },
    "language_info": {
      "codemirror_mode": {
        "name": "ipython",
        "version": 3
      },
      "file_extension": ".py",
      "mimetype": "text/x-python",
      "name": "python",
      "nbconvert_exporter": "python",
      "pygments_lexer": "ipython3",
      "version": "3.10.6"
    }
  },
  "nbformat": 4,
  "nbformat_minor": 0
}
