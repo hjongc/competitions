{
  "cells": [
    {
      "cell_type": "markdown",
      "metadata": {
        "id": "hNs6NdTdJ8eP"
      },
      "source": [
        "# best"
      ]
    },
    {
      "cell_type": "code",
      "execution_count": 97,
      "metadata": {
        "id": "PQ4fzHA5J8eV"
      },
      "outputs": [],
      "source": [
        "import pandas as pd\n",
        "import numpy as np\n",
        "from tqdm import tqdm\n",
        "import warnings\n",
        "from glob2 import glob  \n",
        "import tensorflow as tf\n",
        "from tensorflow.keras.callbacks import EarlyStopping, ModelCheckpoint\n",
        "from tensorflow import keras\n",
        "from tensorflow.keras import layers\n",
        "from sklearn.model_selection import train_test_split\n",
        "from pandasql import sqldf\n",
        "import random\n",
        "import os\n",
        "from numba import jit\n",
        "\n",
        "test_num = 17\n",
        "\n",
        "# 경고 끄기\n",
        "warnings.filterwarnings(action='ignore')\n",
        "\n",
        "# 시드고정\n",
        "tf.random.set_seed(19970119)\n",
        "random.seed(19970119)\n",
        "np.random.seed(19970119)"
      ]
    },
    {
      "cell_type": "markdown",
      "metadata": {
        "id": "L6KeVclxJ8ex"
      },
      "source": [
        "&nbsp;"
      ]
    },
    {
      "cell_type": "markdown",
      "metadata": {
        "id": "Op_HKyOgJ8ex"
      },
      "source": [
        "## 입력 shape 및 형태 정의 함수"
      ]
    },
    {
      "cell_type": "code",
      "execution_count": 98,
      "metadata": {
        "id": "Gnlo6CdoJ8ey"
      },
      "outputs": [],
      "source": [
        "@jit\n",
        "def make_Tensor(array):\n",
        "    return tf.convert_to_tensor(array, dtype=tf.float32)\n",
        "\n",
        "@jit\n",
        "def astype_data(data):\n",
        "    df = data.astype(np.float32)\n",
        "    return make_Tensor(df)"
      ]
    },
    {
      "cell_type": "markdown",
      "metadata": {
        "id": "HW5tSx9CJ8ez"
      },
      "source": [
        "&nbsp;"
      ]
    },
    {
      "cell_type": "markdown",
      "metadata": {
        "id": "23d5CbY2J8e0"
      },
      "source": [
        "## Transformer 정의"
      ]
    },
    {
      "cell_type": "markdown",
      "metadata": {
        "id": "AnsaPEZxJ8e0"
      },
      "source": [
        "- encoder"
      ]
    },
    {
      "cell_type": "code",
      "execution_count": 99,
      "metadata": {
        "id": "fN-y2wg2J8e1"
      },
      "outputs": [],
      "source": [
        "@jit\n",
        "def transformer_encoder(inputs, head_size, num_heads, ff_dim, dropout=0):\n",
        "    x = layers.LayerNormalization(epsilon=1e-6)(inputs)\n",
        "    x = layers.MultiHeadAttention(\n",
        "        key_dim=head_size, num_heads=num_heads, dropout=dropout\n",
        "    )(x, x)\n",
        "    x = layers.Dropout(dropout)(x)\n",
        "    res = x + inputs\n",
        "\n",
        "    x = layers.LayerNormalization(epsilon=1e-6)(res)\n",
        "    x = layers.Conv1D(filters=ff_dim, kernel_size=1, activation=\"relu\")(x)\n",
        "    x = layers.Dropout(dropout)(x)\n",
        "    x = layers.Conv1D(filters=inputs.shape[-1], kernel_size=1)(x)\n",
        "    return x + res"
      ]
    },
    {
      "cell_type": "markdown",
      "metadata": {
        "id": "qHPatYotJ8e2"
      },
      "source": [
        "- build"
      ]
    },
    {
      "cell_type": "code",
      "execution_count": 100,
      "metadata": {
        "id": "f53uwkrVJ8e3"
      },
      "outputs": [],
      "source": [
        "@jit\n",
        "def build_model(input_shape, head_size, num_heads, ff_dim, num_transformer_blocks, mlp_units, dropout=0.2, mlp_dropout=0.2):\n",
        "    inputs = keras.Input(shape=input_shape)\n",
        "    x = inputs\n",
        "    for _ in range(num_transformer_blocks):\n",
        "        x = transformer_encoder(x, head_size, num_heads, ff_dim, dropout)\n",
        "\n",
        "    x = layers.GlobalAveragePooling1D(data_format=\"channels_first\")(x)\n",
        "    for dim in mlp_units:\n",
        "        x = layers.Dense(dim, activation=\"relu\")(x)\n",
        "        x = layers.Dropout(mlp_dropout)(x)\n",
        "    outputs = layers.Dense(28)(x) # 4주 예측\n",
        "    return keras.Model(inputs, outputs)"
      ]
    },
    {
      "cell_type": "markdown",
      "metadata": {
        "id": "Zf-P1DEqJ8e5"
      },
      "source": [
        "&nbsp;"
      ]
    },
    {
      "cell_type": "markdown",
      "metadata": {
        "id": "kt8olYmCJ8e5"
      },
      "source": [
        "## keras eraly stop, chekpoint 정의"
      ]
    },
    {
      "cell_type": "code",
      "execution_count": 101,
      "metadata": {
        "id": "dI2gT91mJ8e6"
      },
      "outputs": [],
      "source": [
        "@jit\n",
        "def call_back_set(name, epoch, batch_size):\n",
        "    early_stopping = EarlyStopping(monitor='val_loss', patience=30)\n",
        "\n",
        "    if os.path.exists(f'./check') == False:\n",
        "        os.mkdir(f'./check')\n",
        "\n",
        "    filename = f'./check/{name}-{epoch}-{batch_size}.h5'\n",
        "\n",
        "    checkpoint = ModelCheckpoint(filename,\n",
        "                                 monitor='val_loss',\n",
        "                                 verbose=0,\n",
        "                                 save_best_only=True,\n",
        "                                 save_weights_only=True,\n",
        "                                 mode='auto'\n",
        "                                 )\n",
        "    return [early_stopping, checkpoint]"
      ]
    },
    {
      "cell_type": "markdown",
      "metadata": {
        "id": "Zx-muC5oJ8e7"
      },
      "source": [
        "&nbsp;"
      ]
    },
    {
      "cell_type": "markdown",
      "metadata": {
        "id": "Qh0K9WvSJ8e8"
      },
      "source": [
        "## Model 훈련 함수"
      ]
    },
    {
      "cell_type": "code",
      "execution_count": 102,
      "metadata": {
        "id": "g5O8y4bqJ8e9"
      },
      "outputs": [],
      "source": [
        "def train(x_train, y_train, x_val, y_val, name, epoch, batch_size, learning_rate = 0.001, verbose = 0):\n",
        "    model = build_model(\n",
        "    x_train.shape[1:],\n",
        "    head_size=256,\n",
        "    num_heads=3,\n",
        "    ff_dim=4,\n",
        "    num_transformer_blocks=3,\n",
        "    mlp_units=[128],\n",
        "    mlp_dropout=0.2,\n",
        "    dropout=0.2,\n",
        "    )\n",
        "\n",
        "    model.compile(\n",
        "        loss=\"mean_squared_error\",\n",
        "        optimizer=keras.optimizers.Adam(learning_rate=learning_rate)\n",
        "    )\n",
        "\n",
        "    # Train the model\n",
        "    with tf.device('/device:GPU:1'):\n",
        "        history1 = model.fit(\n",
        "            x_train, y_train,\n",
        "            epochs = epoch,\n",
        "            steps_per_epoch=len(x_train) / batch_size,\n",
        "            batch_size=batch_size,\n",
        "            validation_data=(x_val, y_val),\n",
        "            validation_steps=len(x_val) / batch_size,\n",
        "            shuffle=False,\n",
        "            callbacks=call_back_set(name, epoch, batch_size),\n",
        "            verbose=verbose)\n",
        "\n",
        "    return model"
      ]
    },
    {
      "cell_type": "markdown",
      "metadata": {
        "id": "eLmwSKHnJ8e_"
      },
      "source": [
        "&nbsp;"
      ]
    },
    {
      "cell_type": "markdown",
      "metadata": {
        "id": "i0sTg94GJ8fA"
      },
      "source": [
        "## 시점 윈도우 생성 함수"
      ]
    },
    {
      "cell_type": "code",
      "execution_count": 103,
      "metadata": {
        "id": "G7o0auoqJ8fB"
      },
      "outputs": [],
      "source": [
        "@jit\n",
        "def x_time_window(df, t, t_sep):\n",
        "    seq_len = t\n",
        "    seqence_length = seq_len + t_sep\n",
        "\n",
        "    result = []\n",
        "    for index in range(len(df) - seqence_length):\n",
        "        result.append(df[index: index + seqence_length].values)\n",
        "\n",
        "    return np.array(result)\n",
        "\n",
        "@jit\n",
        "def y_time_window(df, t, t_sep):\n",
        "    seq_len = t\n",
        "    seqence_length = seq_len + t_sep\n",
        "\n",
        "    result = []\n",
        "    for index in range(14, len(df) - seqence_length):\n",
        "        result.append(df[index: index + seqence_length].values - df.iloc[index-1])\n",
        "\n",
        "    return np.array(result)"
      ]
    },
    {
      "cell_type": "markdown",
      "metadata": {
        "id": "t6x20G1VJ8fF"
      },
      "source": [
        "&nbsp;"
      ]
    },
    {
      "cell_type": "markdown",
      "metadata": {
        "id": "cqK2s1oZJ8fG"
      },
      "source": [
        "## 데이터 불러오기 및 parameter 설정"
      ]
    },
    {
      "cell_type": "code",
      "execution_count": 104,
      "metadata": {
        "id": "hkV5__kvJ8fI"
      },
      "outputs": [],
      "source": [
        "data_list = glob('./aT_data/data/train/*.csv')\n",
        "epoch = 1\n",
        "batch = 64"
      ]
    },
    {
      "cell_type": "code",
      "execution_count": 105,
      "metadata": {
        "id": "Mm8FLNrlhp3y"
      },
      "outputs": [],
      "source": [
        "\n",
        "def feature_engineer(df):\n",
        "       #시간 코사인 인코딩\n",
        "       if df['datadate'].all() == 0:\n",
        "         df['datadate'] = 20180520\n",
        "       df['datetime'] = pd.to_datetime(df['datadate'], format=\"%Y%m%d\")\n",
        "       df['cos_time'] = np.cos(2*np.pi*df['datetime'].dt.dayofyear/365)\n",
        "\n",
        "       # 결측치\n",
        "       df = df.replace(' ', np.nan)\n",
        "       df = df.fillna(0)\n",
        "\n",
        "       # 주산지 초기온도, 최대온도, 최저온도, 평균온도, 강수량, 습도\n",
        "       df['주산지_초기온도'] = (df['주산지_0_초기온도(℃)'] + df['주산지_1_초기온도(℃)'] + df['주산지_2_초기온도(℃)'])/3\n",
        "       df['주산지_최대온도'] = (df['주산지_0_최대온도(℃)'] + df['주산지_1_최대온도(℃)'] + df['주산지_2_최대온도(℃)'])/3\n",
        "       df['주산지_최저온도'] = (df['주산지_0_최저온도(℃)'] + df['주산지_1_최저온도(℃)'] + df['주산지_2_최저온도(℃)'])/3\n",
        "       df['주산지_평균온도'] = (df['주산지_0_평균온도(℃)'] + df['주산지_1_평균온도(℃)'] + df['주산지_2_평균온도(℃)'])/3\n",
        "       df['주산지_강수량'] = (df['주산지_0_강수량(ml)'] + df['주산지_1_강수량(ml)'] + df['주산지_2_강수량(ml)'])/3\n",
        "\n",
        "       # 필요한 컬럼 선택\n",
        "       market_cols = ['단가(원)', '거래량'] # , '경매건수', '거래대금(원)'\n",
        "\n",
        "       market_code_cols = [] # '도매시장코드', '도매법인코드', '산지코드 '\n",
        "\n",
        "       market_statistics_cols = ['해당일자_전체거래물량(kg)', '일자별_도매가격_평균(원)','하위가격 평균가(원)', '상위가격 평균가(원)' ] \n",
        "       # '하위가격 거래물량(kg)', '상위가격 거래물량(kg)', '일자별_도매가격_최대(원)', , '일자별_도매가격_최소(원)', '일자별_소매가격_최대(원)', '일자별_소매가격_평균(원)', '일자별_소매가격_최소(원)', \n",
        "       \n",
        "       export_cols = [] # '수출중량(kg)', '수출금액(달러)', '수입중량(kg)', '수입금액(달러)', '무역수지(달러)'\n",
        "       \n",
        "       date_cols = ['cos_time'] # ,, '일자구분_중순', '일자구분_초순', '일자구분_하순', '월구분_10월', '월구분_11월', '월구분_12월', '월구분_1월', '월구분_2월','월구분_3월', '월구분_4월', '월구분_5월', '월구분_6월', '월구분_7월', '월구분_8월', '월구분_9월', 'datetime'\n",
        "\n",
        "       weather_cols = ['주산지_초기온도','주산지_최대온도', '주산지_최저온도', '주산지_평균온도', '주산지_강수량'] \n",
        "      #  '주산지_0_초기온도(℃)', '주산지_1_초기온도(℃)', '주산지_2_초기온도(℃)',\n",
        "      #  '주산지_0_최대온도(℃)', '주산지_1_최대온도(℃)', '주산지_2_최대온도(℃)',\n",
        "      #  '주산지_0_최저온도(℃)', '주산지_1_최저온도(℃)', '주산지_2_최저온도(℃)',\n",
        "      #  '주산지_0_평균온도(℃)', '주산지_1_평균온도(℃)', '주산지_2_평균온도(℃)',\n",
        "      #  '주산지_0_강수량(ml)', '주산지_1_강수량(ml)', '주산지_2_강수량(ml)',\n",
        "      #  '주산지_0_습도(%)', '주산지_1_습도(%)', '주산지_2_습도(%)'\n",
        "\n",
        "       selected_columns = ['datadate', '해당일자_전체평균가격(원)']  + market_cols + market_code_cols + market_statistics_cols + export_cols +  date_cols + weather_cols # train 에서 사용하지 않는 열\n",
        "\n",
        "       df = df[[c for c in df.columns if c in selected_columns]]\n",
        "\n",
        "       return df"
      ]
    },
    {
      "cell_type": "markdown",
      "metadata": {
        "id": "tQ-dAEuNJ8fJ"
      },
      "source": [
        "&nbsp;"
      ]
    },
    {
      "cell_type": "markdown",
      "metadata": {
        "id": "EF2VmW68J8fK"
      },
      "source": [
        "## Train 과정"
      ]
    },
    {
      "cell_type": "code",
      "execution_count": 106,
      "metadata": {
        "colab": {
          "background_save": true
        },
        "id": "WgmRJNAuJ8fL"
      },
      "outputs": [
        {
          "name": "stderr",
          "output_type": "stream",
          "text": [
            "  0%|          | 0/37 [00:00<?, ?it/s]2022-09-28 00:23:07.038122: I tensorflow/core/grappler/optimizers/custom_graph_optimizer_registry.cc:113] Plugin optimizer for device_type GPU is enabled.\n",
            "2022-09-28 00:23:07.402337: I tensorflow/core/grappler/optimizers/custom_graph_optimizer_registry.cc:113] Plugin optimizer for device_type GPU is enabled.\n",
            "  3%|▎         | 1/37 [00:01<01:10,  1.97s/it]"
          ]
        },
        {
          "name": "stdout",
          "output_type": "stream",
          "text": [
            "\n",
            "valid_loss:  1679040.25\n"
          ]
        },
        {
          "name": "stderr",
          "output_type": "stream",
          "text": [
            "2022-09-28 00:23:07.980085: I tensorflow/core/grappler/optimizers/custom_graph_optimizer_registry.cc:113] Plugin optimizer for device_type GPU is enabled.\n",
            "2022-09-28 00:23:08.307669: I tensorflow/core/grappler/optimizers/custom_graph_optimizer_registry.cc:113] Plugin optimizer for device_type GPU is enabled.\n",
            "  5%|▌         | 2/37 [00:02<00:46,  1.33s/it]"
          ]
        },
        {
          "name": "stdout",
          "output_type": "stream",
          "text": [
            "\n",
            "valid_loss:  819961.4375\n"
          ]
        },
        {
          "name": "stderr",
          "output_type": "stream",
          "text": [
            "2022-09-28 00:23:09.168531: I tensorflow/core/grappler/optimizers/custom_graph_optimizer_registry.cc:113] Plugin optimizer for device_type GPU is enabled.\n",
            "2022-09-28 00:23:09.466176: I tensorflow/core/grappler/optimizers/custom_graph_optimizer_registry.cc:113] Plugin optimizer for device_type GPU is enabled.\n",
            "  8%|▊         | 3/37 [00:04<00:42,  1.25s/it]"
          ]
        },
        {
          "name": "stdout",
          "output_type": "stream",
          "text": [
            "\n",
            "valid_loss:  528436.75\n"
          ]
        },
        {
          "name": "stderr",
          "output_type": "stream",
          "text": [
            "2022-09-28 00:23:10.004338: I tensorflow/core/grappler/optimizers/custom_graph_optimizer_registry.cc:113] Plugin optimizer for device_type GPU is enabled.\n",
            "2022-09-28 00:23:10.292711: I tensorflow/core/grappler/optimizers/custom_graph_optimizer_registry.cc:113] Plugin optimizer for device_type GPU is enabled.\n",
            " 11%|█         | 4/37 [00:04<00:35,  1.08s/it]"
          ]
        },
        {
          "name": "stdout",
          "output_type": "stream",
          "text": [
            "\n",
            "valid_loss:  97453.6328125\n"
          ]
        },
        {
          "name": "stderr",
          "output_type": "stream",
          "text": [
            "2022-09-28 00:23:10.780887: I tensorflow/core/grappler/optimizers/custom_graph_optimizer_registry.cc:113] Plugin optimizer for device_type GPU is enabled.\n",
            "2022-09-28 00:23:11.040564: I tensorflow/core/grappler/optimizers/custom_graph_optimizer_registry.cc:113] Plugin optimizer for device_type GPU is enabled.\n",
            " 14%|█▎        | 5/37 [00:05<00:30,  1.04it/s]"
          ]
        },
        {
          "name": "stdout",
          "output_type": "stream",
          "text": [
            "\n",
            "valid_loss:  34038948.0\n"
          ]
        },
        {
          "name": "stderr",
          "output_type": "stream",
          "text": [
            "2022-09-28 00:23:11.532497: I tensorflow/core/grappler/optimizers/custom_graph_optimizer_registry.cc:113] Plugin optimizer for device_type GPU is enabled.\n",
            "2022-09-28 00:23:11.781969: I tensorflow/core/grappler/optimizers/custom_graph_optimizer_registry.cc:113] Plugin optimizer for device_type GPU is enabled.\n",
            " 16%|█▌        | 6/37 [00:06<00:27,  1.13it/s]"
          ]
        },
        {
          "name": "stdout",
          "output_type": "stream",
          "text": [
            "\n",
            "valid_loss:  8028599.0\n"
          ]
        },
        {
          "name": "stderr",
          "output_type": "stream",
          "text": [
            "2022-09-28 00:23:12.286963: I tensorflow/core/grappler/optimizers/custom_graph_optimizer_registry.cc:113] Plugin optimizer for device_type GPU is enabled.\n",
            "2022-09-28 00:23:12.543748: I tensorflow/core/grappler/optimizers/custom_graph_optimizer_registry.cc:113] Plugin optimizer for device_type GPU is enabled.\n",
            " 19%|█▉        | 7/37 [00:07<00:25,  1.18it/s]"
          ]
        },
        {
          "name": "stdout",
          "output_type": "stream",
          "text": [
            "\n",
            "valid_loss:  5783926.5\n"
          ]
        },
        {
          "name": "stderr",
          "output_type": "stream",
          "text": [
            "2022-09-28 00:23:13.069810: I tensorflow/core/grappler/optimizers/custom_graph_optimizer_registry.cc:113] Plugin optimizer for device_type GPU is enabled.\n",
            "2022-09-28 00:23:13.383251: I tensorflow/core/grappler/optimizers/custom_graph_optimizer_registry.cc:113] Plugin optimizer for device_type GPU is enabled.\n",
            " 22%|██▏       | 8/37 [00:07<00:24,  1.16it/s]"
          ]
        },
        {
          "name": "stdout",
          "output_type": "stream",
          "text": [
            "\n",
            "valid_loss:  3380958.5\n"
          ]
        },
        {
          "name": "stderr",
          "output_type": "stream",
          "text": [
            "2022-09-28 00:23:14.028175: I tensorflow/core/grappler/optimizers/custom_graph_optimizer_registry.cc:113] Plugin optimizer for device_type GPU is enabled.\n",
            "2022-09-28 00:23:14.430019: I tensorflow/core/grappler/optimizers/custom_graph_optimizer_registry.cc:113] Plugin optimizer for device_type GPU is enabled.\n",
            " 24%|██▍       | 9/37 [00:08<00:25,  1.10it/s]"
          ]
        },
        {
          "name": "stdout",
          "output_type": "stream",
          "text": [
            "\n",
            "valid_loss:  2938472.75\n"
          ]
        },
        {
          "name": "stderr",
          "output_type": "stream",
          "text": [
            "2022-09-28 00:23:15.371884: I tensorflow/core/grappler/optimizers/custom_graph_optimizer_registry.cc:113] Plugin optimizer for device_type GPU is enabled.\n",
            "2022-09-28 00:23:15.672816: I tensorflow/core/grappler/optimizers/custom_graph_optimizer_registry.cc:113] Plugin optimizer for device_type GPU is enabled.\n",
            " 27%|██▋       | 10/37 [00:10<00:27,  1.01s/it]"
          ]
        },
        {
          "name": "stdout",
          "output_type": "stream",
          "text": [
            "\n",
            "valid_loss:  71198984.0\n"
          ]
        },
        {
          "name": "stderr",
          "output_type": "stream",
          "text": [
            "2022-09-28 00:23:16.225249: I tensorflow/core/grappler/optimizers/custom_graph_optimizer_registry.cc:113] Plugin optimizer for device_type GPU is enabled.\n",
            "2022-09-28 00:23:16.531801: I tensorflow/core/grappler/optimizers/custom_graph_optimizer_registry.cc:113] Plugin optimizer for device_type GPU is enabled.\n",
            " 30%|██▉       | 11/37 [00:11<00:25,  1.03it/s]"
          ]
        },
        {
          "name": "stdout",
          "output_type": "stream",
          "text": [
            "\n",
            "valid_loss:  2357067.75\n"
          ]
        },
        {
          "name": "stderr",
          "output_type": "stream",
          "text": [
            "2022-09-28 00:23:17.094357: I tensorflow/core/grappler/optimizers/custom_graph_optimizer_registry.cc:113] Plugin optimizer for device_type GPU is enabled.\n",
            "2022-09-28 00:23:17.423656: I tensorflow/core/grappler/optimizers/custom_graph_optimizer_registry.cc:113] Plugin optimizer for device_type GPU is enabled.\n",
            " 32%|███▏      | 12/37 [00:11<00:23,  1.06it/s]"
          ]
        },
        {
          "name": "stdout",
          "output_type": "stream",
          "text": [
            "\n",
            "valid_loss:  1855499.5\n"
          ]
        },
        {
          "name": "stderr",
          "output_type": "stream",
          "text": [
            "2022-09-28 00:23:17.963471: I tensorflow/core/grappler/optimizers/custom_graph_optimizer_registry.cc:113] Plugin optimizer for device_type GPU is enabled.\n",
            "2022-09-28 00:23:18.255969: I tensorflow/core/grappler/optimizers/custom_graph_optimizer_registry.cc:113] Plugin optimizer for device_type GPU is enabled.\n",
            " 35%|███▌      | 13/37 [00:12<00:21,  1.10it/s]"
          ]
        },
        {
          "name": "stdout",
          "output_type": "stream",
          "text": [
            "\n",
            "valid_loss:  1654212.625\n"
          ]
        },
        {
          "name": "stderr",
          "output_type": "stream",
          "text": [
            "2022-09-28 00:23:18.787172: I tensorflow/core/grappler/optimizers/custom_graph_optimizer_registry.cc:113] Plugin optimizer for device_type GPU is enabled.\n",
            "2022-09-28 00:23:19.089125: I tensorflow/core/grappler/optimizers/custom_graph_optimizer_registry.cc:113] Plugin optimizer for device_type GPU is enabled.\n",
            " 38%|███▊      | 14/37 [00:13<00:20,  1.13it/s]"
          ]
        },
        {
          "name": "stdout",
          "output_type": "stream",
          "text": [
            "\n",
            "valid_loss:  2695987.25\n"
          ]
        },
        {
          "name": "stderr",
          "output_type": "stream",
          "text": [
            "2022-09-28 00:23:19.632522: I tensorflow/core/grappler/optimizers/custom_graph_optimizer_registry.cc:113] Plugin optimizer for device_type GPU is enabled.\n",
            "2022-09-28 00:23:19.988701: I tensorflow/core/grappler/optimizers/custom_graph_optimizer_registry.cc:113] Plugin optimizer for device_type GPU is enabled.\n",
            " 41%|████      | 15/37 [00:14<00:19,  1.12it/s]"
          ]
        },
        {
          "name": "stdout",
          "output_type": "stream",
          "text": [
            "\n",
            "valid_loss:  340957.6875\n"
          ]
        },
        {
          "name": "stderr",
          "output_type": "stream",
          "text": [
            "2022-09-28 00:23:20.563265: I tensorflow/core/grappler/optimizers/custom_graph_optimizer_registry.cc:113] Plugin optimizer for device_type GPU is enabled.\n",
            "2022-09-28 00:23:21.287728: I tensorflow/core/grappler/optimizers/custom_graph_optimizer_registry.cc:113] Plugin optimizer for device_type GPU is enabled.\n",
            " 43%|████▎     | 16/37 [00:15<00:21,  1.03s/it]"
          ]
        },
        {
          "name": "stdout",
          "output_type": "stream",
          "text": [
            "\n",
            "valid_loss:  744355.1875\n"
          ]
        },
        {
          "name": "stderr",
          "output_type": "stream",
          "text": [
            "2022-09-28 00:23:21.945951: I tensorflow/core/grappler/optimizers/custom_graph_optimizer_registry.cc:113] Plugin optimizer for device_type GPU is enabled.\n",
            "2022-09-28 00:23:22.257690: I tensorflow/core/grappler/optimizers/custom_graph_optimizer_registry.cc:113] Plugin optimizer for device_type GPU is enabled.\n",
            " 46%|████▌     | 17/37 [00:16<00:19,  1.01it/s]"
          ]
        },
        {
          "name": "stdout",
          "output_type": "stream",
          "text": [
            "\n",
            "valid_loss:  6792965.5\n"
          ]
        },
        {
          "name": "stderr",
          "output_type": "stream",
          "text": [
            "2022-09-28 00:23:22.777346: I tensorflow/core/grappler/optimizers/custom_graph_optimizer_registry.cc:113] Plugin optimizer for device_type GPU is enabled.\n",
            "2022-09-28 00:23:23.081499: I tensorflow/core/grappler/optimizers/custom_graph_optimizer_registry.cc:113] Plugin optimizer for device_type GPU is enabled.\n",
            " 49%|████▊     | 18/37 [00:17<00:17,  1.06it/s]"
          ]
        },
        {
          "name": "stdout",
          "output_type": "stream",
          "text": [
            "\n",
            "valid_loss:  6002071.5\n"
          ]
        },
        {
          "name": "stderr",
          "output_type": "stream",
          "text": [
            "2022-09-28 00:23:23.600867: I tensorflow/core/grappler/optimizers/custom_graph_optimizer_registry.cc:113] Plugin optimizer for device_type GPU is enabled.\n",
            "2022-09-28 00:23:23.910126: I tensorflow/core/grappler/optimizers/custom_graph_optimizer_registry.cc:113] Plugin optimizer for device_type GPU is enabled.\n",
            " 51%|█████▏    | 19/37 [00:18<00:16,  1.10it/s]"
          ]
        },
        {
          "name": "stdout",
          "output_type": "stream",
          "text": [
            "\n",
            "valid_loss:  6199208.5\n"
          ]
        },
        {
          "name": "stderr",
          "output_type": "stream",
          "text": [
            "2022-09-28 00:23:24.460924: I tensorflow/core/grappler/optimizers/custom_graph_optimizer_registry.cc:113] Plugin optimizer for device_type GPU is enabled.\n",
            "2022-09-28 00:23:24.767117: I tensorflow/core/grappler/optimizers/custom_graph_optimizer_registry.cc:113] Plugin optimizer for device_type GPU is enabled.\n",
            " 54%|█████▍    | 20/37 [00:19<00:15,  1.12it/s]"
          ]
        },
        {
          "name": "stdout",
          "output_type": "stream",
          "text": [
            "\n",
            "valid_loss:  1031681.4375\n"
          ]
        },
        {
          "name": "stderr",
          "output_type": "stream",
          "text": [
            "2022-09-28 00:23:25.303816: I tensorflow/core/grappler/optimizers/custom_graph_optimizer_registry.cc:113] Plugin optimizer for device_type GPU is enabled.\n",
            "2022-09-28 00:23:25.587737: I tensorflow/core/grappler/optimizers/custom_graph_optimizer_registry.cc:113] Plugin optimizer for device_type GPU is enabled.\n",
            " 57%|█████▋    | 21/37 [00:20<00:14,  1.14it/s]"
          ]
        },
        {
          "name": "stdout",
          "output_type": "stream",
          "text": [
            "\n",
            "valid_loss:  345607.125\n"
          ]
        },
        {
          "name": "stderr",
          "output_type": "stream",
          "text": [
            "2022-09-28 00:23:26.467912: I tensorflow/core/grappler/optimizers/custom_graph_optimizer_registry.cc:113] Plugin optimizer for device_type GPU is enabled.\n",
            "2022-09-28 00:23:26.793623: I tensorflow/core/grappler/optimizers/custom_graph_optimizer_registry.cc:113] Plugin optimizer for device_type GPU is enabled.\n",
            " 59%|█████▉    | 22/37 [00:21<00:14,  1.02it/s]"
          ]
        },
        {
          "name": "stdout",
          "output_type": "stream",
          "text": [
            "\n",
            "valid_loss:  1583355.875\n"
          ]
        },
        {
          "name": "stderr",
          "output_type": "stream",
          "text": [
            "2022-09-28 00:23:27.397790: I tensorflow/core/grappler/optimizers/custom_graph_optimizer_registry.cc:113] Plugin optimizer for device_type GPU is enabled.\n",
            "2022-09-28 00:23:27.685002: I tensorflow/core/grappler/optimizers/custom_graph_optimizer_registry.cc:113] Plugin optimizer for device_type GPU is enabled.\n",
            " 62%|██████▏   | 23/37 [00:22<00:13,  1.05it/s]"
          ]
        },
        {
          "name": "stdout",
          "output_type": "stream",
          "text": [
            "\n",
            "valid_loss:  8670705.0\n"
          ]
        },
        {
          "name": "stderr",
          "output_type": "stream",
          "text": [
            "2022-09-28 00:23:28.710156: I tensorflow/core/grappler/optimizers/custom_graph_optimizer_registry.cc:113] Plugin optimizer for device_type GPU is enabled.\n",
            "2022-09-28 00:23:29.046129: I tensorflow/core/grappler/optimizers/custom_graph_optimizer_registry.cc:113] Plugin optimizer for device_type GPU is enabled.\n",
            " 65%|██████▍   | 24/37 [00:23<00:13,  1.07s/it]"
          ]
        },
        {
          "name": "stdout",
          "output_type": "stream",
          "text": [
            "\n",
            "valid_loss:  827029.3125\n"
          ]
        },
        {
          "name": "stderr",
          "output_type": "stream",
          "text": [
            "2022-09-28 00:23:29.631494: I tensorflow/core/grappler/optimizers/custom_graph_optimizer_registry.cc:113] Plugin optimizer for device_type GPU is enabled.\n",
            "2022-09-28 00:23:29.927543: I tensorflow/core/grappler/optimizers/custom_graph_optimizer_registry.cc:113] Plugin optimizer for device_type GPU is enabled.\n",
            " 68%|██████▊   | 25/37 [00:24<00:12,  1.01s/it]"
          ]
        },
        {
          "name": "stdout",
          "output_type": "stream",
          "text": [
            "\n",
            "valid_loss:  270017.8125\n"
          ]
        },
        {
          "name": "stderr",
          "output_type": "stream",
          "text": [
            "2022-09-28 00:23:30.453738: I tensorflow/core/grappler/optimizers/custom_graph_optimizer_registry.cc:113] Plugin optimizer for device_type GPU is enabled.\n",
            "2022-09-28 00:23:30.755970: I tensorflow/core/grappler/optimizers/custom_graph_optimizer_registry.cc:113] Plugin optimizer for device_type GPU is enabled.\n",
            " 70%|███████   | 26/37 [00:25<00:10,  1.04it/s]"
          ]
        },
        {
          "name": "stdout",
          "output_type": "stream",
          "text": [
            "\n",
            "valid_loss:  3531181.0\n"
          ]
        },
        {
          "name": "stderr",
          "output_type": "stream",
          "text": [
            "2022-09-28 00:23:31.298170: I tensorflow/core/grappler/optimizers/custom_graph_optimizer_registry.cc:113] Plugin optimizer for device_type GPU is enabled.\n",
            "2022-09-28 00:23:31.598922: I tensorflow/core/grappler/optimizers/custom_graph_optimizer_registry.cc:113] Plugin optimizer for device_type GPU is enabled.\n",
            " 73%|███████▎  | 27/37 [00:26<00:09,  1.09it/s]"
          ]
        },
        {
          "name": "stdout",
          "output_type": "stream",
          "text": [
            "\n",
            "valid_loss:  4505874.5\n"
          ]
        },
        {
          "name": "stderr",
          "output_type": "stream",
          "text": [
            "2022-09-28 00:23:32.127335: I tensorflow/core/grappler/optimizers/custom_graph_optimizer_registry.cc:113] Plugin optimizer for device_type GPU is enabled.\n",
            "2022-09-28 00:23:32.440208: I tensorflow/core/grappler/optimizers/custom_graph_optimizer_registry.cc:113] Plugin optimizer for device_type GPU is enabled.\n",
            " 76%|███████▌  | 28/37 [00:26<00:08,  1.11it/s]"
          ]
        },
        {
          "name": "stdout",
          "output_type": "stream",
          "text": [
            "\n",
            "valid_loss:  14427727.0\n"
          ]
        },
        {
          "name": "stderr",
          "output_type": "stream",
          "text": [
            "2022-09-28 00:23:33.006270: I tensorflow/core/grappler/optimizers/custom_graph_optimizer_registry.cc:113] Plugin optimizer for device_type GPU is enabled.\n",
            "2022-09-28 00:23:33.301826: I tensorflow/core/grappler/optimizers/custom_graph_optimizer_registry.cc:113] Plugin optimizer for device_type GPU is enabled.\n",
            " 78%|███████▊  | 29/37 [00:27<00:07,  1.13it/s]"
          ]
        },
        {
          "name": "stdout",
          "output_type": "stream",
          "text": [
            "\n",
            "valid_loss:  13615026.0\n"
          ]
        },
        {
          "name": "stderr",
          "output_type": "stream",
          "text": [
            "2022-09-28 00:23:33.934640: I tensorflow/core/grappler/optimizers/custom_graph_optimizer_registry.cc:113] Plugin optimizer for device_type GPU is enabled.\n",
            "2022-09-28 00:23:34.283175: I tensorflow/core/grappler/optimizers/custom_graph_optimizer_registry.cc:113] Plugin optimizer for device_type GPU is enabled.\n",
            " 81%|████████  | 30/37 [00:28<00:06,  1.08it/s]"
          ]
        },
        {
          "name": "stdout",
          "output_type": "stream",
          "text": [
            "\n",
            "valid_loss:  6045929.0\n"
          ]
        },
        {
          "name": "stderr",
          "output_type": "stream",
          "text": [
            "2022-09-28 00:23:35.454840: I tensorflow/core/grappler/optimizers/custom_graph_optimizer_registry.cc:113] Plugin optimizer for device_type GPU is enabled.\n",
            "2022-09-28 00:23:35.852310: I tensorflow/core/grappler/optimizers/custom_graph_optimizer_registry.cc:113] Plugin optimizer for device_type GPU is enabled.\n",
            " 84%|████████▍ | 31/37 [00:30<00:06,  1.11s/it]"
          ]
        },
        {
          "name": "stdout",
          "output_type": "stream",
          "text": [
            "\n",
            "valid_loss:  1062617.5\n"
          ]
        },
        {
          "name": "stderr",
          "output_type": "stream",
          "text": [
            "2022-09-28 00:23:36.410219: I tensorflow/core/grappler/optimizers/custom_graph_optimizer_registry.cc:113] Plugin optimizer for device_type GPU is enabled.\n",
            "2022-09-28 00:23:36.686295: I tensorflow/core/grappler/optimizers/custom_graph_optimizer_registry.cc:113] Plugin optimizer for device_type GPU is enabled.\n",
            " 86%|████████▋ | 32/37 [00:31<00:05,  1.02s/it]"
          ]
        },
        {
          "name": "stdout",
          "output_type": "stream",
          "text": [
            "\n",
            "valid_loss:  5623128.5\n"
          ]
        },
        {
          "name": "stderr",
          "output_type": "stream",
          "text": [
            "2022-09-28 00:23:37.216883: I tensorflow/core/grappler/optimizers/custom_graph_optimizer_registry.cc:113] Plugin optimizer for device_type GPU is enabled.\n",
            "2022-09-28 00:23:37.521052: I tensorflow/core/grappler/optimizers/custom_graph_optimizer_registry.cc:113] Plugin optimizer for device_type GPU is enabled.\n",
            " 89%|████████▉ | 33/37 [00:32<00:03,  1.03it/s]"
          ]
        },
        {
          "name": "stdout",
          "output_type": "stream",
          "text": [
            "\n",
            "valid_loss:  5299667.5\n"
          ]
        },
        {
          "name": "stderr",
          "output_type": "stream",
          "text": [
            "2022-09-28 00:23:38.063205: I tensorflow/core/grappler/optimizers/custom_graph_optimizer_registry.cc:113] Plugin optimizer for device_type GPU is enabled.\n",
            "2022-09-28 00:23:38.341213: I tensorflow/core/grappler/optimizers/custom_graph_optimizer_registry.cc:113] Plugin optimizer for device_type GPU is enabled.\n",
            " 92%|█████████▏| 34/37 [00:32<00:02,  1.08it/s]"
          ]
        },
        {
          "name": "stdout",
          "output_type": "stream",
          "text": [
            "\n",
            "valid_loss:  473336.5\n"
          ]
        },
        {
          "name": "stderr",
          "output_type": "stream",
          "text": [
            "2022-09-28 00:23:38.894923: I tensorflow/core/grappler/optimizers/custom_graph_optimizer_registry.cc:113] Plugin optimizer for device_type GPU is enabled.\n",
            "2022-09-28 00:23:39.162087: I tensorflow/core/grappler/optimizers/custom_graph_optimizer_registry.cc:113] Plugin optimizer for device_type GPU is enabled.\n",
            " 95%|█████████▍| 35/37 [00:33<00:01,  1.12it/s]"
          ]
        },
        {
          "name": "stdout",
          "output_type": "stream",
          "text": [
            "\n",
            "valid_loss:  215519.96875\n"
          ]
        },
        {
          "name": "stderr",
          "output_type": "stream",
          "text": [
            "2022-09-28 00:23:39.698208: I tensorflow/core/grappler/optimizers/custom_graph_optimizer_registry.cc:113] Plugin optimizer for device_type GPU is enabled.\n",
            "2022-09-28 00:23:40.014945: I tensorflow/core/grappler/optimizers/custom_graph_optimizer_registry.cc:113] Plugin optimizer for device_type GPU is enabled.\n",
            " 97%|█████████▋| 36/37 [00:34<00:00,  1.13it/s]"
          ]
        },
        {
          "name": "stdout",
          "output_type": "stream",
          "text": [
            "\n",
            "valid_loss:  111643520.0\n"
          ]
        },
        {
          "name": "stderr",
          "output_type": "stream",
          "text": [
            "2022-09-28 00:23:40.585461: I tensorflow/core/grappler/optimizers/custom_graph_optimizer_registry.cc:113] Plugin optimizer for device_type GPU is enabled.\n",
            "2022-09-28 00:23:40.911185: I tensorflow/core/grappler/optimizers/custom_graph_optimizer_registry.cc:113] Plugin optimizer for device_type GPU is enabled.\n",
            "100%|██████████| 37/37 [00:35<00:00,  1.04it/s]"
          ]
        },
        {
          "name": "stdout",
          "output_type": "stream",
          "text": [
            "\n",
            "valid_loss:  710292.125\n"
          ]
        },
        {
          "name": "stderr",
          "output_type": "stream",
          "text": [
            "\n"
          ]
        }
      ],
      "source": [
        "from sklearn.preprocessing import MinMaxScaler\n",
        "\n",
        "losses = []\n",
        "scalers = {}\n",
        "\n",
        "for i in tqdm(data_list):\n",
        "    df_number = i.split(\"_\")[-1].split(\".\")[0]\n",
        "    df = pd.read_csv(i)\n",
        "\n",
        "    # 사용할 열 선택 및 index 설정\n",
        "    df = feature_engineer(df)\n",
        "    df.set_index('datadate', drop=True, inplace=True)\n",
        "    \n",
        "    # nan 처리\n",
        "    df = df.replace({' ': np.nan})\n",
        "    df = df.fillna(0)\n",
        "    \n",
        "    # 변수와 타겟 분리\n",
        "    x, y = df[[i for i in df.columns if i != '해당일자_전체평균가격(원)']], df['해당일자_전체평균가격(원)']\n",
        "    scaler = MinMaxScaler()\n",
        "    x = pd.DataFrame(scaler.fit_transform(x))\n",
        "    scalers[df_number] = scaler\n",
        "\n",
        "    # 2주 입력을 통한 이후 4주 예측을 위해 y의 첫 14일을 제외\n",
        "    # y = y[14:]\n",
        "\n",
        "    # time series window 생성\n",
        "    data_x = time_window(x, 13, 1)\n",
        "    data_y = y_time_window(y, 27, 1)\n",
        "\n",
        "    # y의 길이와 같은 길이로 설정\n",
        "    xdata = data_x[:len(data_y)]\n",
        "    ydata = data_y\n",
        "    \n",
        "    # train, validation 분리 (8 : 2)\n",
        "    x_train, x_val, y_train, y_val = train_test_split(xdata, ydata, test_size=0.2, shuffle=False, random_state=119)\n",
        " \n",
        "    # transformer 모델 훈련\n",
        "    transformer = train(astype_data(x_train), y_train, astype_data(x_val), y_val, f'transformer-{df_number}', epoch,\n",
        "                        batch, learning_rate = 0.002, verbose = 0)\n",
        "    \n",
        "    transformer.load_weights(f'./check/transformer-{df_number}-{epoch}-{batch}.h5')\n",
        "    loss = transformer.evaluate(astype_data(x_val), y_val, verbose=0)\n",
        "    print('\\nvalid_loss: ', loss)\n",
        "    losses.append(loss)\n",
        "\n",
        "    if os.path.exists(f'./model') == False:\n",
        "        os.mkdir(f'./model')\n",
        "\n",
        "    # 모델 저장\n",
        "    transformer.save(f'./model/transformer-{df_number}-{epoch}-{batch}.h5')"
      ]
    },
    {
      "cell_type": "code",
      "execution_count": 107,
      "metadata": {
        "id": "AGBSWYe-Nno-"
      },
      "outputs": [
        {
          "data": {
            "text/plain": [
              "[1679040.25,\n",
              " 819961.4375,\n",
              " 528436.75,\n",
              " 97453.6328125,\n",
              " 34038948.0,\n",
              " 8028599.0,\n",
              " 5783926.5,\n",
              " 3380958.5,\n",
              " 2938472.75,\n",
              " 71198984.0,\n",
              " 2357067.75,\n",
              " 1855499.5,\n",
              " 1654212.625,\n",
              " 2695987.25,\n",
              " 340957.6875,\n",
              " 744355.1875,\n",
              " 6792965.5,\n",
              " 6002071.5,\n",
              " 6199208.5,\n",
              " 1031681.4375,\n",
              " 345607.125,\n",
              " 1583355.875,\n",
              " 8670705.0,\n",
              " 827029.3125,\n",
              " 270017.8125,\n",
              " 3531181.0,\n",
              " 4505874.5,\n",
              " 14427727.0,\n",
              " 13615026.0,\n",
              " 6045929.0,\n",
              " 1062617.5,\n",
              " 5623128.5,\n",
              " 5299667.5,\n",
              " 473336.5,\n",
              " 215519.96875,\n",
              " 111643520.0,\n",
              " 710292.125]"
            ]
          },
          "execution_count": 107,
          "metadata": {},
          "output_type": "execute_result"
        }
      ],
      "source": [
        "losses"
      ]
    },
    {
      "cell_type": "markdown",
      "metadata": {
        "id": "mgp2nVPxJ8fR"
      },
      "source": [
        "&nbsp;"
      ]
    },
    {
      "cell_type": "markdown",
      "metadata": {
        "id": "pNikiLNgJ8fT"
      },
      "source": [
        "## Test 과정"
      ]
    },
    {
      "cell_type": "code",
      "execution_count": 108,
      "metadata": {
        "id": "CiWO0A8xJ8fU"
      },
      "outputs": [
        {
          "name": "stderr",
          "output_type": "stream",
          "text": [
            "  0%|          | 0/10 [00:00<?, ?it/s]"
          ]
        },
        {
          "name": "stdout",
          "output_type": "stream",
          "text": [
            "1/1 [==============================] - 0s 38ms/step\n"
          ]
        },
        {
          "name": "stderr",
          "output_type": "stream",
          "text": [
            "2022-09-28 00:23:41.233768: I tensorflow/core/grappler/optimizers/custom_graph_optimizer_registry.cc:113] Plugin optimizer for device_type GPU is enabled.\n"
          ]
        },
        {
          "name": "stdout",
          "output_type": "stream",
          "text": [
            "1/1 [==============================] - 0s 33ms/step\n"
          ]
        },
        {
          "name": "stderr",
          "output_type": "stream",
          "text": [
            "2022-09-28 00:23:41.325773: I tensorflow/core/grappler/optimizers/custom_graph_optimizer_registry.cc:113] Plugin optimizer for device_type GPU is enabled.\n"
          ]
        },
        {
          "name": "stdout",
          "output_type": "stream",
          "text": [
            "1/1 [==============================] - 1s 554ms/step\n",
            "1/1 [==============================] - 0s 38ms/step\n"
          ]
        },
        {
          "name": "stderr",
          "output_type": "stream",
          "text": [
            "2022-09-28 00:23:41.917175: I tensorflow/core/grappler/optimizers/custom_graph_optimizer_registry.cc:113] Plugin optimizer for device_type GPU is enabled.\n",
            "2022-09-28 00:23:42.048070: I tensorflow/core/grappler/optimizers/custom_graph_optimizer_registry.cc:113] Plugin optimizer for device_type GPU is enabled.\n"
          ]
        },
        {
          "name": "stdout",
          "output_type": "stream",
          "text": [
            "1/1 [==============================] - 0s 33ms/step\n",
            "1/1 [==============================] - 0s 33ms/step\n",
            "1/1 [==============================] - 0s 32ms/step\n"
          ]
        },
        {
          "name": "stderr",
          "output_type": "stream",
          "text": [
            "2022-09-28 00:23:42.144955: I tensorflow/core/grappler/optimizers/custom_graph_optimizer_registry.cc:113] Plugin optimizer for device_type GPU is enabled.\n",
            "2022-09-28 00:23:42.231575: I tensorflow/core/grappler/optimizers/custom_graph_optimizer_registry.cc:113] Plugin optimizer for device_type GPU is enabled.\n",
            "2022-09-28 00:23:42.321306: I tensorflow/core/grappler/optimizers/custom_graph_optimizer_registry.cc:113] Plugin optimizer for device_type GPU is enabled.\n"
          ]
        },
        {
          "name": "stdout",
          "output_type": "stream",
          "text": [
            "1/1 [==============================] - 0s 34ms/step\n",
            "1/1 [==============================] - 0s 35ms/step\n"
          ]
        },
        {
          "name": "stderr",
          "output_type": "stream",
          "text": [
            "2022-09-28 00:23:42.414756: I tensorflow/core/grappler/optimizers/custom_graph_optimizer_registry.cc:113] Plugin optimizer for device_type GPU is enabled.\n",
            "2022-09-28 00:23:42.514236: I tensorflow/core/grappler/optimizers/custom_graph_optimizer_registry.cc:113] Plugin optimizer for device_type GPU is enabled.\n",
            "2022-09-28 00:23:42.608323: I tensorflow/core/grappler/optimizers/custom_graph_optimizer_registry.cc:113] Plugin optimizer for device_type GPU is enabled.\n"
          ]
        },
        {
          "name": "stdout",
          "output_type": "stream",
          "text": [
            "1/1 [==============================] - 0s 33ms/step\n",
            "1/1 [==============================] - 0s 34ms/step\n",
            "1/1 [==============================] - 0s 35ms/step\n",
            "1/1 [==============================] - ETA: 0s"
          ]
        },
        {
          "name": "stderr",
          "output_type": "stream",
          "text": [
            "2022-09-28 00:23:42.705094: I tensorflow/core/grappler/optimizers/custom_graph_optimizer_registry.cc:113] Plugin optimizer for device_type GPU is enabled.\n",
            "2022-09-28 00:23:42.796635: I tensorflow/core/grappler/optimizers/custom_graph_optimizer_registry.cc:113] Plugin optimizer for device_type GPU is enabled.\n",
            "2022-09-28 00:23:42.887243: I tensorflow/core/grappler/optimizers/custom_graph_optimizer_registry.cc:113] Plugin optimizer for device_type GPU is enabled.\n"
          ]
        },
        {
          "name": "stdout",
          "output_type": "stream",
          "text": [
            "1/1 [==============================] - 0s 32ms/step\n",
            "1/1 [==============================] - 0s 31ms/step\n",
            "1/1 [==============================] - 0s 35ms/step\n"
          ]
        },
        {
          "name": "stderr",
          "output_type": "stream",
          "text": [
            "2022-09-28 00:23:42.978728: I tensorflow/core/grappler/optimizers/custom_graph_optimizer_registry.cc:113] Plugin optimizer for device_type GPU is enabled.\n",
            "2022-09-28 00:23:43.073130: I tensorflow/core/grappler/optimizers/custom_graph_optimizer_registry.cc:113] Plugin optimizer for device_type GPU is enabled.\n",
            "2022-09-28 00:23:43.165747: I tensorflow/core/grappler/optimizers/custom_graph_optimizer_registry.cc:113] Plugin optimizer for device_type GPU is enabled.\n"
          ]
        },
        {
          "name": "stdout",
          "output_type": "stream",
          "text": [
            "1/1 [==============================] - 0s 32ms/step\n",
            "1/1 [==============================] - 0s 39ms/step\n",
            "1/1 [==============================] - 0s 39ms/step\n"
          ]
        },
        {
          "name": "stderr",
          "output_type": "stream",
          "text": [
            "2022-09-28 00:23:43.258533: I tensorflow/core/grappler/optimizers/custom_graph_optimizer_registry.cc:113] Plugin optimizer for device_type GPU is enabled.\n",
            "2022-09-28 00:23:43.365634: I tensorflow/core/grappler/optimizers/custom_graph_optimizer_registry.cc:113] Plugin optimizer for device_type GPU is enabled.\n"
          ]
        },
        {
          "name": "stdout",
          "output_type": "stream",
          "text": [
            "1/1 [==============================] - 0s 36ms/step\n",
            "1/1 [==============================] - 0s 41ms/step\n"
          ]
        },
        {
          "name": "stderr",
          "output_type": "stream",
          "text": [
            "2022-09-28 00:23:43.474966: I tensorflow/core/grappler/optimizers/custom_graph_optimizer_registry.cc:113] Plugin optimizer for device_type GPU is enabled.\n",
            "2022-09-28 00:23:43.585083: I tensorflow/core/grappler/optimizers/custom_graph_optimizer_registry.cc:113] Plugin optimizer for device_type GPU is enabled.\n"
          ]
        },
        {
          "name": "stdout",
          "output_type": "stream",
          "text": [
            "1/1 [==============================] - 0s 124ms/step\n"
          ]
        },
        {
          "name": "stderr",
          "output_type": "stream",
          "text": [
            "2022-09-28 00:23:43.689375: I tensorflow/core/grappler/optimizers/custom_graph_optimizer_registry.cc:113] Plugin optimizer for device_type GPU is enabled.\n",
            "2022-09-28 00:23:43.877868: I tensorflow/core/grappler/optimizers/custom_graph_optimizer_registry.cc:113] Plugin optimizer for device_type GPU is enabled.\n"
          ]
        },
        {
          "name": "stdout",
          "output_type": "stream",
          "text": [
            "1/1 [==============================] - 0s 32ms/step\n",
            "1/1 [==============================] - 0s 33ms/step\n",
            "1/1 [==============================] - 0s 31ms/step\n",
            "1/1 [==============================] - 0s 34ms/step\n"
          ]
        },
        {
          "name": "stderr",
          "output_type": "stream",
          "text": [
            "2022-09-28 00:23:43.964251: I tensorflow/core/grappler/optimizers/custom_graph_optimizer_registry.cc:113] Plugin optimizer for device_type GPU is enabled.\n",
            "2022-09-28 00:23:44.056807: I tensorflow/core/grappler/optimizers/custom_graph_optimizer_registry.cc:113] Plugin optimizer for device_type GPU is enabled.\n",
            "2022-09-28 00:23:44.144947: I tensorflow/core/grappler/optimizers/custom_graph_optimizer_registry.cc:113] Plugin optimizer for device_type GPU is enabled.\n"
          ]
        },
        {
          "name": "stdout",
          "output_type": "stream",
          "text": [
            "1/1 [==============================] - 0s 37ms/step\n",
            "1/1 [==============================] - 0s 37ms/step\n"
          ]
        },
        {
          "name": "stderr",
          "output_type": "stream",
          "text": [
            "2022-09-28 00:23:44.235303: I tensorflow/core/grappler/optimizers/custom_graph_optimizer_registry.cc:113] Plugin optimizer for device_type GPU is enabled.\n",
            "2022-09-28 00:23:44.361727: I tensorflow/core/grappler/optimizers/custom_graph_optimizer_registry.cc:113] Plugin optimizer for device_type GPU is enabled.\n"
          ]
        },
        {
          "name": "stdout",
          "output_type": "stream",
          "text": [
            "1/1 [==============================] - 0s 41ms/step\n",
            "1/1 [==============================] - 0s 34ms/step\n"
          ]
        },
        {
          "name": "stderr",
          "output_type": "stream",
          "text": [
            "2022-09-28 00:23:44.472838: I tensorflow/core/grappler/optimizers/custom_graph_optimizer_registry.cc:113] Plugin optimizer for device_type GPU is enabled.\n",
            "2022-09-28 00:23:44.569579: I tensorflow/core/grappler/optimizers/custom_graph_optimizer_registry.cc:113] Plugin optimizer for device_type GPU is enabled.\n",
            "2022-09-28 00:23:44.660711: I tensorflow/core/grappler/optimizers/custom_graph_optimizer_registry.cc:113] Plugin optimizer for device_type GPU is enabled.\n"
          ]
        },
        {
          "name": "stdout",
          "output_type": "stream",
          "text": [
            "1/1 [==============================] - 0s 35ms/step\n",
            "1/1 [==============================] - 0s 32ms/step\n",
            "1/1 [==============================] - 0s 36ms/step\n"
          ]
        },
        {
          "name": "stderr",
          "output_type": "stream",
          "text": [
            "2022-09-28 00:23:44.748005: I tensorflow/core/grappler/optimizers/custom_graph_optimizer_registry.cc:113] Plugin optimizer for device_type GPU is enabled.\n",
            "2022-09-28 00:23:44.849322: I tensorflow/core/grappler/optimizers/custom_graph_optimizer_registry.cc:113] Plugin optimizer for device_type GPU is enabled.\n",
            "2022-09-28 00:23:44.940610: I tensorflow/core/grappler/optimizers/custom_graph_optimizer_registry.cc:113] Plugin optimizer for device_type GPU is enabled.\n"
          ]
        },
        {
          "name": "stdout",
          "output_type": "stream",
          "text": [
            "1/1 [==============================] - 0s 33ms/step\n",
            "1/1 [==============================] - 0s 32ms/step\n",
            "1/1 [==============================] - 0s 36ms/step\n"
          ]
        },
        {
          "name": "stderr",
          "output_type": "stream",
          "text": [
            "2022-09-28 00:23:45.030927: I tensorflow/core/grappler/optimizers/custom_graph_optimizer_registry.cc:113] Plugin optimizer for device_type GPU is enabled.\n",
            "2022-09-28 00:23:45.124564: I tensorflow/core/grappler/optimizers/custom_graph_optimizer_registry.cc:113] Plugin optimizer for device_type GPU is enabled.\n",
            "2022-09-28 00:23:45.216771: I tensorflow/core/grappler/optimizers/custom_graph_optimizer_registry.cc:113] Plugin optimizer for device_type GPU is enabled.\n"
          ]
        },
        {
          "name": "stdout",
          "output_type": "stream",
          "text": [
            "1/1 [==============================] - 0s 37ms/step\n",
            "1/1 [==============================] - 0s 39ms/step\n"
          ]
        },
        {
          "name": "stderr",
          "output_type": "stream",
          "text": [
            "2022-09-28 00:23:45.317471: I tensorflow/core/grappler/optimizers/custom_graph_optimizer_registry.cc:113] Plugin optimizer for device_type GPU is enabled.\n",
            " 10%|█         | 1/10 [00:04<00:38,  4.24s/it]"
          ]
        },
        {
          "name": "stdout",
          "output_type": "stream",
          "text": [
            "1/1 [==============================] - 0s 32ms/step\n"
          ]
        },
        {
          "name": "stderr",
          "output_type": "stream",
          "text": [
            "2022-09-28 00:23:45.410563: I tensorflow/core/grappler/optimizers/custom_graph_optimizer_registry.cc:113] Plugin optimizer for device_type GPU is enabled.\n",
            "2022-09-28 00:23:45.501616: I tensorflow/core/grappler/optimizers/custom_graph_optimizer_registry.cc:113] Plugin optimizer for device_type GPU is enabled.\n"
          ]
        },
        {
          "name": "stdout",
          "output_type": "stream",
          "text": [
            "1/1 [==============================] - 0s 33ms/step\n",
            "1/1 [==============================] - 0s 32ms/step\n"
          ]
        },
        {
          "name": "stderr",
          "output_type": "stream",
          "text": [
            "2022-09-28 00:23:45.588410: I tensorflow/core/grappler/optimizers/custom_graph_optimizer_registry.cc:113] Plugin optimizer for device_type GPU is enabled.\n"
          ]
        },
        {
          "name": "stdout",
          "output_type": "stream",
          "text": [
            "1/1 [==============================] - 0s 33ms/step\n",
            "1/1 [==============================] - 0s 35ms/step\n"
          ]
        },
        {
          "name": "stderr",
          "output_type": "stream",
          "text": [
            "2022-09-28 00:23:45.681802: I tensorflow/core/grappler/optimizers/custom_graph_optimizer_registry.cc:113] Plugin optimizer for device_type GPU is enabled.\n",
            "2022-09-28 00:23:45.769511: I tensorflow/core/grappler/optimizers/custom_graph_optimizer_registry.cc:113] Plugin optimizer for device_type GPU is enabled.\n"
          ]
        },
        {
          "name": "stdout",
          "output_type": "stream",
          "text": [
            "1/1 [==============================] - 0s 32ms/step\n"
          ]
        },
        {
          "name": "stderr",
          "output_type": "stream",
          "text": [
            "2022-09-28 00:23:45.857577: I tensorflow/core/grappler/optimizers/custom_graph_optimizer_registry.cc:113] Plugin optimizer for device_type GPU is enabled.\n"
          ]
        },
        {
          "name": "stdout",
          "output_type": "stream",
          "text": [
            "1/1 [==============================] - 0s 35ms/step\n"
          ]
        },
        {
          "name": "stderr",
          "output_type": "stream",
          "text": [
            "2022-09-28 00:23:45.950168: I tensorflow/core/grappler/optimizers/custom_graph_optimizer_registry.cc:113] Plugin optimizer for device_type GPU is enabled.\n",
            "2022-09-28 00:23:46.047951: I tensorflow/core/grappler/optimizers/custom_graph_optimizer_registry.cc:113] Plugin optimizer for device_type GPU is enabled.\n"
          ]
        },
        {
          "name": "stdout",
          "output_type": "stream",
          "text": [
            "1/1 [==============================] - 0s 36ms/step\n"
          ]
        },
        {
          "name": "stderr",
          "output_type": "stream",
          "text": [
            "2022-09-28 00:23:46.149429: I tensorflow/core/grappler/optimizers/custom_graph_optimizer_registry.cc:113] Plugin optimizer for device_type GPU is enabled.\n"
          ]
        },
        {
          "name": "stdout",
          "output_type": "stream",
          "text": [
            "1/1 [==============================] - 0s 37ms/step\n",
            "1/1 [==============================] - 0s 36ms/step\n"
          ]
        },
        {
          "name": "stderr",
          "output_type": "stream",
          "text": [
            "2022-09-28 00:23:46.248101: I tensorflow/core/grappler/optimizers/custom_graph_optimizer_registry.cc:113] Plugin optimizer for device_type GPU is enabled.\n",
            "2022-09-28 00:23:46.338458: I tensorflow/core/grappler/optimizers/custom_graph_optimizer_registry.cc:113] Plugin optimizer for device_type GPU is enabled.\n"
          ]
        },
        {
          "name": "stdout",
          "output_type": "stream",
          "text": [
            "1/1 [==============================] - 0s 33ms/step\n",
            "1/1 [==============================] - 0s 34ms/step\n"
          ]
        },
        {
          "name": "stderr",
          "output_type": "stream",
          "text": [
            "2022-09-28 00:23:46.427720: I tensorflow/core/grappler/optimizers/custom_graph_optimizer_registry.cc:113] Plugin optimizer for device_type GPU is enabled.\n"
          ]
        },
        {
          "name": "stdout",
          "output_type": "stream",
          "text": [
            "1/1 [==============================] - 0s 31ms/step\n",
            "1/1 [==============================] - 0s 34ms/step\n"
          ]
        },
        {
          "name": "stderr",
          "output_type": "stream",
          "text": [
            "2022-09-28 00:23:46.514882: I tensorflow/core/grappler/optimizers/custom_graph_optimizer_registry.cc:113] Plugin optimizer for device_type GPU is enabled.\n",
            "2022-09-28 00:23:46.603996: I tensorflow/core/grappler/optimizers/custom_graph_optimizer_registry.cc:113] Plugin optimizer for device_type GPU is enabled.\n"
          ]
        },
        {
          "name": "stdout",
          "output_type": "stream",
          "text": [
            "1/1 [==============================] - 0s 32ms/step\n"
          ]
        },
        {
          "name": "stderr",
          "output_type": "stream",
          "text": [
            "2022-09-28 00:23:46.691688: I tensorflow/core/grappler/optimizers/custom_graph_optimizer_registry.cc:113] Plugin optimizer for device_type GPU is enabled.\n"
          ]
        },
        {
          "name": "stdout",
          "output_type": "stream",
          "text": [
            "1/1 [==============================] - 0s 34ms/step\n"
          ]
        },
        {
          "name": "stderr",
          "output_type": "stream",
          "text": [
            "2022-09-28 00:23:46.779653: I tensorflow/core/grappler/optimizers/custom_graph_optimizer_registry.cc:113] Plugin optimizer for device_type GPU is enabled.\n",
            "2022-09-28 00:23:46.889197: I tensorflow/core/grappler/optimizers/custom_graph_optimizer_registry.cc:113] Plugin optimizer for device_type GPU is enabled.\n"
          ]
        },
        {
          "name": "stdout",
          "output_type": "stream",
          "text": [
            "1/1 [==============================] - 0s 45ms/step\n",
            "1/1 [==============================] - 0s 38ms/step\n",
            "1/1 [==============================] - 0s 33ms/step\n"
          ]
        },
        {
          "name": "stderr",
          "output_type": "stream",
          "text": [
            "2022-09-28 00:23:46.995036: I tensorflow/core/grappler/optimizers/custom_graph_optimizer_registry.cc:113] Plugin optimizer for device_type GPU is enabled.\n",
            "2022-09-28 00:23:47.089924: I tensorflow/core/grappler/optimizers/custom_graph_optimizer_registry.cc:113] Plugin optimizer for device_type GPU is enabled.\n",
            "2022-09-28 00:23:47.177853: I tensorflow/core/grappler/optimizers/custom_graph_optimizer_registry.cc:113] Plugin optimizer for device_type GPU is enabled.\n"
          ]
        },
        {
          "name": "stdout",
          "output_type": "stream",
          "text": [
            "1/1 [==============================] - 0s 36ms/step\n",
            "1/1 [==============================] - 0s 33ms/step\n",
            "1/1 [==============================] - 0s 34ms/step\n",
            "1/1 [==============================] - 0s 34ms/step\n"
          ]
        },
        {
          "name": "stderr",
          "output_type": "stream",
          "text": [
            "2022-09-28 00:23:47.270751: I tensorflow/core/grappler/optimizers/custom_graph_optimizer_registry.cc:113] Plugin optimizer for device_type GPU is enabled.\n",
            "2022-09-28 00:23:47.358643: I tensorflow/core/grappler/optimizers/custom_graph_optimizer_registry.cc:113] Plugin optimizer for device_type GPU is enabled.\n",
            "2022-09-28 00:23:47.448472: I tensorflow/core/grappler/optimizers/custom_graph_optimizer_registry.cc:113] Plugin optimizer for device_type GPU is enabled.\n"
          ]
        },
        {
          "name": "stdout",
          "output_type": "stream",
          "text": [
            "1/1 [==============================] - 0s 36ms/step\n",
            "1/1 [==============================] - 0s 34ms/step\n",
            "1/1 [==============================] - 0s 33ms/step\n"
          ]
        },
        {
          "name": "stderr",
          "output_type": "stream",
          "text": [
            "2022-09-28 00:23:47.540663: I tensorflow/core/grappler/optimizers/custom_graph_optimizer_registry.cc:113] Plugin optimizer for device_type GPU is enabled.\n",
            "2022-09-28 00:23:47.628439: I tensorflow/core/grappler/optimizers/custom_graph_optimizer_registry.cc:113] Plugin optimizer for device_type GPU is enabled.\n",
            "2022-09-28 00:23:47.717754: I tensorflow/core/grappler/optimizers/custom_graph_optimizer_registry.cc:113] Plugin optimizer for device_type GPU is enabled.\n"
          ]
        },
        {
          "name": "stdout",
          "output_type": "stream",
          "text": [
            "1/1 [==============================] - 0s 32ms/step\n",
            "1/1 [==============================] - 0s 33ms/step\n",
            "1/1 [==============================] - 0s 35ms/step\n"
          ]
        },
        {
          "name": "stderr",
          "output_type": "stream",
          "text": [
            "2022-09-28 00:23:47.807561: I tensorflow/core/grappler/optimizers/custom_graph_optimizer_registry.cc:113] Plugin optimizer for device_type GPU is enabled.\n",
            "2022-09-28 00:23:47.896791: I tensorflow/core/grappler/optimizers/custom_graph_optimizer_registry.cc:113] Plugin optimizer for device_type GPU is enabled.\n",
            "2022-09-28 00:23:47.988402: I tensorflow/core/grappler/optimizers/custom_graph_optimizer_registry.cc:113] Plugin optimizer for device_type GPU is enabled.\n"
          ]
        },
        {
          "name": "stdout",
          "output_type": "stream",
          "text": [
            "1/1 [==============================] - 0s 33ms/step\n",
            "1/1 [==============================] - 0s 33ms/step\n"
          ]
        },
        {
          "name": "stderr",
          "output_type": "stream",
          "text": [
            "2022-09-28 00:23:48.077185: I tensorflow/core/grappler/optimizers/custom_graph_optimizer_registry.cc:113] Plugin optimizer for device_type GPU is enabled.\n",
            "2022-09-28 00:23:48.170199: I tensorflow/core/grappler/optimizers/custom_graph_optimizer_registry.cc:113] Plugin optimizer for device_type GPU is enabled.\n",
            "2022-09-28 00:23:48.261129: I tensorflow/core/grappler/optimizers/custom_graph_optimizer_registry.cc:113] Plugin optimizer for device_type GPU is enabled.\n"
          ]
        },
        {
          "name": "stdout",
          "output_type": "stream",
          "text": [
            "1/1 [==============================] - 0s 38ms/step\n",
            "1/1 [==============================] - 0s 35ms/step\n",
            "1/1 [==============================] - 0s 32ms/step\n"
          ]
        },
        {
          "name": "stderr",
          "output_type": "stream",
          "text": [
            "2022-09-28 00:23:48.375242: I tensorflow/core/grappler/optimizers/custom_graph_optimizer_registry.cc:113] Plugin optimizer for device_type GPU is enabled.\n",
            "2022-09-28 00:23:48.464106: I tensorflow/core/grappler/optimizers/custom_graph_optimizer_registry.cc:113] Plugin optimizer for device_type GPU is enabled.\n",
            "2022-09-28 00:23:48.565746: I tensorflow/core/grappler/optimizers/custom_graph_optimizer_registry.cc:113] Plugin optimizer for device_type GPU is enabled.\n"
          ]
        },
        {
          "name": "stdout",
          "output_type": "stream",
          "text": [
            "1/1 [==============================] - 0s 42ms/step\n",
            "1/1 [==============================] - 0s 36ms/step\n",
            "1/1 [==============================] - 0s 32ms/step\n"
          ]
        },
        {
          "name": "stderr",
          "output_type": "stream",
          "text": [
            "2022-09-28 00:23:48.678511: I tensorflow/core/grappler/optimizers/custom_graph_optimizer_registry.cc:113] Plugin optimizer for device_type GPU is enabled.\n",
            "2022-09-28 00:23:48.767860: I tensorflow/core/grappler/optimizers/custom_graph_optimizer_registry.cc:113] Plugin optimizer for device_type GPU is enabled.\n",
            " 20%|██        | 2/10 [00:07<00:30,  3.78s/it]2022-09-28 00:23:48.862296: I tensorflow/core/grappler/optimizers/custom_graph_optimizer_registry.cc:113] Plugin optimizer for device_type GPU is enabled.\n"
          ]
        },
        {
          "name": "stdout",
          "output_type": "stream",
          "text": [
            "1/1 [==============================] - 0s 37ms/step\n",
            "1/1 [==============================] - 0s 33ms/step\n"
          ]
        },
        {
          "name": "stderr",
          "output_type": "stream",
          "text": [
            "2022-09-28 00:23:48.957696: I tensorflow/core/grappler/optimizers/custom_graph_optimizer_registry.cc:113] Plugin optimizer for device_type GPU is enabled.\n"
          ]
        },
        {
          "name": "stdout",
          "output_type": "stream",
          "text": [
            "1/1 [==============================] - 0s 36ms/step\n",
            "1/1 [==============================] - 0s 34ms/step\n"
          ]
        },
        {
          "name": "stderr",
          "output_type": "stream",
          "text": [
            "2022-09-28 00:23:49.340307: I tensorflow/core/grappler/optimizers/custom_graph_optimizer_registry.cc:113] Plugin optimizer for device_type GPU is enabled.\n",
            "2022-09-28 00:23:49.436025: I tensorflow/core/grappler/optimizers/custom_graph_optimizer_registry.cc:113] Plugin optimizer for device_type GPU is enabled.\n",
            "2022-09-28 00:23:49.527906: I tensorflow/core/grappler/optimizers/custom_graph_optimizer_registry.cc:113] Plugin optimizer for device_type GPU is enabled.\n"
          ]
        },
        {
          "name": "stdout",
          "output_type": "stream",
          "text": [
            "1/1 [==============================] - 0s 34ms/step\n",
            "1/1 [==============================] - 0s 41ms/step\n",
            "1/1 [==============================] - 0s 36ms/step\n"
          ]
        },
        {
          "name": "stderr",
          "output_type": "stream",
          "text": [
            "2022-09-28 00:23:49.623725: I tensorflow/core/grappler/optimizers/custom_graph_optimizer_registry.cc:113] Plugin optimizer for device_type GPU is enabled.\n",
            "2022-09-28 00:23:49.722407: I tensorflow/core/grappler/optimizers/custom_graph_optimizer_registry.cc:113] Plugin optimizer for device_type GPU is enabled.\n",
            "2022-09-28 00:23:49.814163: I tensorflow/core/grappler/optimizers/custom_graph_optimizer_registry.cc:113] Plugin optimizer for device_type GPU is enabled.\n"
          ]
        },
        {
          "name": "stdout",
          "output_type": "stream",
          "text": [
            "1/1 [==============================] - 0s 35ms/step\n",
            "1/1 [==============================] - 0s 35ms/step\n",
            "1/1 [==============================] - 0s 36ms/step\n"
          ]
        },
        {
          "name": "stderr",
          "output_type": "stream",
          "text": [
            "2022-09-28 00:23:49.905317: I tensorflow/core/grappler/optimizers/custom_graph_optimizer_registry.cc:113] Plugin optimizer for device_type GPU is enabled.\n",
            "2022-09-28 00:23:49.995409: I tensorflow/core/grappler/optimizers/custom_graph_optimizer_registry.cc:113] Plugin optimizer for device_type GPU is enabled.\n",
            "2022-09-28 00:23:50.096872: I tensorflow/core/grappler/optimizers/custom_graph_optimizer_registry.cc:113] Plugin optimizer for device_type GPU is enabled.\n"
          ]
        },
        {
          "name": "stdout",
          "output_type": "stream",
          "text": [
            "1/1 [==============================] - 0s 38ms/step\n",
            "1/1 [==============================] - 0s 34ms/step\n",
            "1/1 [==============================] - 0s 34ms/step\n"
          ]
        },
        {
          "name": "stderr",
          "output_type": "stream",
          "text": [
            "2022-09-28 00:23:50.193333: I tensorflow/core/grappler/optimizers/custom_graph_optimizer_registry.cc:113] Plugin optimizer for device_type GPU is enabled.\n",
            "2022-09-28 00:23:50.288666: I tensorflow/core/grappler/optimizers/custom_graph_optimizer_registry.cc:113] Plugin optimizer for device_type GPU is enabled.\n",
            "2022-09-28 00:23:50.380673: I tensorflow/core/grappler/optimizers/custom_graph_optimizer_registry.cc:113] Plugin optimizer for device_type GPU is enabled.\n"
          ]
        },
        {
          "name": "stdout",
          "output_type": "stream",
          "text": [
            "1/1 [==============================] - 0s 33ms/step\n",
            "1/1 [==============================] - 0s 32ms/step\n",
            "1/1 [==============================] - 0s 35ms/step\n",
            "1/1 [==============================] - 0s 33ms/step\n"
          ]
        },
        {
          "name": "stderr",
          "output_type": "stream",
          "text": [
            "2022-09-28 00:23:50.469610: I tensorflow/core/grappler/optimizers/custom_graph_optimizer_registry.cc:113] Plugin optimizer for device_type GPU is enabled.\n",
            "2022-09-28 00:23:50.559228: I tensorflow/core/grappler/optimizers/custom_graph_optimizer_registry.cc:113] Plugin optimizer for device_type GPU is enabled.\n",
            "2022-09-28 00:23:50.646194: I tensorflow/core/grappler/optimizers/custom_graph_optimizer_registry.cc:113] Plugin optimizer for device_type GPU is enabled.\n"
          ]
        },
        {
          "name": "stdout",
          "output_type": "stream",
          "text": [
            "1/1 [==============================] - 0s 33ms/step\n",
            "1/1 [==============================] - 0s 36ms/step\n"
          ]
        },
        {
          "name": "stderr",
          "output_type": "stream",
          "text": [
            "2022-09-28 00:23:50.737041: I tensorflow/core/grappler/optimizers/custom_graph_optimizer_registry.cc:113] Plugin optimizer for device_type GPU is enabled.\n",
            "2022-09-28 00:23:50.834259: I tensorflow/core/grappler/optimizers/custom_graph_optimizer_registry.cc:113] Plugin optimizer for device_type GPU is enabled.\n",
            "2022-09-28 00:23:50.920735: I tensorflow/core/grappler/optimizers/custom_graph_optimizer_registry.cc:113] Plugin optimizer for device_type GPU is enabled.\n"
          ]
        },
        {
          "name": "stdout",
          "output_type": "stream",
          "text": [
            "1/1 [==============================] - 0s 37ms/step\n",
            "1/1 [==============================] - 0s 60ms/step\n",
            "1/1 [==============================] - 0s 50ms/step\n"
          ]
        },
        {
          "name": "stderr",
          "output_type": "stream",
          "text": [
            "2022-09-28 00:23:51.173710: I tensorflow/core/grappler/optimizers/custom_graph_optimizer_registry.cc:113] Plugin optimizer for device_type GPU is enabled.\n",
            "2022-09-28 00:23:51.330722: I tensorflow/core/grappler/optimizers/custom_graph_optimizer_registry.cc:113] Plugin optimizer for device_type GPU is enabled.\n"
          ]
        },
        {
          "name": "stdout",
          "output_type": "stream",
          "text": [
            "1/1 [==============================] - 0s 42ms/step\n",
            "1/1 [==============================] - 0s 38ms/step\n"
          ]
        },
        {
          "name": "stderr",
          "output_type": "stream",
          "text": [
            "2022-09-28 00:23:51.460420: I tensorflow/core/grappler/optimizers/custom_graph_optimizer_registry.cc:113] Plugin optimizer for device_type GPU is enabled.\n",
            "2022-09-28 00:23:51.563469: I tensorflow/core/grappler/optimizers/custom_graph_optimizer_registry.cc:113] Plugin optimizer for device_type GPU is enabled.\n"
          ]
        },
        {
          "name": "stdout",
          "output_type": "stream",
          "text": [
            "1/1 [==============================] - 0s 36ms/step\n",
            "1/1 [==============================] - 0s 33ms/step\n"
          ]
        },
        {
          "name": "stderr",
          "output_type": "stream",
          "text": [
            "2022-09-28 00:23:51.665866: I tensorflow/core/grappler/optimizers/custom_graph_optimizer_registry.cc:113] Plugin optimizer for device_type GPU is enabled.\n",
            "2022-09-28 00:23:51.768341: I tensorflow/core/grappler/optimizers/custom_graph_optimizer_registry.cc:113] Plugin optimizer for device_type GPU is enabled.\n",
            "2022-09-28 00:23:51.855319: I tensorflow/core/grappler/optimizers/custom_graph_optimizer_registry.cc:113] Plugin optimizer for device_type GPU is enabled.\n"
          ]
        },
        {
          "name": "stdout",
          "output_type": "stream",
          "text": [
            "1/1 [==============================] - 0s 36ms/step\n",
            "1/1 [==============================] - 0s 35ms/step\n",
            "1/1 [==============================] - 0s 36ms/step\n"
          ]
        },
        {
          "name": "stderr",
          "output_type": "stream",
          "text": [
            "2022-09-28 00:23:51.962603: I tensorflow/core/grappler/optimizers/custom_graph_optimizer_registry.cc:113] Plugin optimizer for device_type GPU is enabled.\n",
            "2022-09-28 00:23:52.059518: I tensorflow/core/grappler/optimizers/custom_graph_optimizer_registry.cc:113] Plugin optimizer for device_type GPU is enabled.\n",
            "2022-09-28 00:23:52.152882: I tensorflow/core/grappler/optimizers/custom_graph_optimizer_registry.cc:113] Plugin optimizer for device_type GPU is enabled.\n"
          ]
        },
        {
          "name": "stdout",
          "output_type": "stream",
          "text": [
            "1/1 [==============================] - 0s 34ms/step\n",
            "1/1 [==============================] - 0s 34ms/step\n",
            "1/1 [==============================] - 0s 33ms/step\n"
          ]
        },
        {
          "name": "stderr",
          "output_type": "stream",
          "text": [
            "2022-09-28 00:23:52.249625: I tensorflow/core/grappler/optimizers/custom_graph_optimizer_registry.cc:113] Plugin optimizer for device_type GPU is enabled.\n",
            "2022-09-28 00:23:52.340719: I tensorflow/core/grappler/optimizers/custom_graph_optimizer_registry.cc:113] Plugin optimizer for device_type GPU is enabled.\n"
          ]
        },
        {
          "name": "stdout",
          "output_type": "stream",
          "text": [
            "1/1 [==============================] - 0s 33ms/step\n",
            "1/1 [==============================] - 0s 35ms/step\n"
          ]
        },
        {
          "name": "stderr",
          "output_type": "stream",
          "text": [
            "2022-09-28 00:23:52.487070: I tensorflow/core/grappler/optimizers/custom_graph_optimizer_registry.cc:113] Plugin optimizer for device_type GPU is enabled.\n",
            "2022-09-28 00:23:52.583589: I tensorflow/core/grappler/optimizers/custom_graph_optimizer_registry.cc:113] Plugin optimizer for device_type GPU is enabled.\n",
            "2022-09-28 00:23:52.674069: I tensorflow/core/grappler/optimizers/custom_graph_optimizer_registry.cc:113] Plugin optimizer for device_type GPU is enabled.\n"
          ]
        },
        {
          "name": "stdout",
          "output_type": "stream",
          "text": [
            "1/1 [==============================] - 0s 35ms/step\n",
            "1/1 [==============================] - 0s 33ms/step\n",
            "1/1 [==============================] - 0s 32ms/step\n"
          ]
        },
        {
          "name": "stderr",
          "output_type": "stream",
          "text": [
            "2022-09-28 00:23:52.769015: I tensorflow/core/grappler/optimizers/custom_graph_optimizer_registry.cc:113] Plugin optimizer for device_type GPU is enabled.\n",
            "2022-09-28 00:23:52.857383: I tensorflow/core/grappler/optimizers/custom_graph_optimizer_registry.cc:113] Plugin optimizer for device_type GPU is enabled.\n",
            " 30%|███       | 3/10 [00:11<00:27,  3.92s/it]2022-09-28 00:23:52.949530: I tensorflow/core/grappler/optimizers/custom_graph_optimizer_registry.cc:113] Plugin optimizer for device_type GPU is enabled.\n"
          ]
        },
        {
          "name": "stdout",
          "output_type": "stream",
          "text": [
            "1/1 [==============================] - 0s 36ms/step\n",
            "1/1 [==============================] - 0s 42ms/step\n"
          ]
        },
        {
          "name": "stderr",
          "output_type": "stream",
          "text": [
            "2022-09-28 00:23:53.050197: I tensorflow/core/grappler/optimizers/custom_graph_optimizer_registry.cc:113] Plugin optimizer for device_type GPU is enabled.\n",
            "2022-09-28 00:23:53.146720: I tensorflow/core/grappler/optimizers/custom_graph_optimizer_registry.cc:113] Plugin optimizer for device_type GPU is enabled.\n"
          ]
        },
        {
          "name": "stdout",
          "output_type": "stream",
          "text": [
            "1/1 [==============================] - 0s 34ms/step\n"
          ]
        },
        {
          "name": "stderr",
          "output_type": "stream",
          "text": [
            "2022-09-28 00:23:53.246671: I tensorflow/core/grappler/optimizers/custom_graph_optimizer_registry.cc:113] Plugin optimizer for device_type GPU is enabled.\n"
          ]
        },
        {
          "name": "stdout",
          "output_type": "stream",
          "text": [
            "1/1 [==============================] - 0s 36ms/step\n",
            "1/1 [==============================] - 0s 35ms/step\n"
          ]
        },
        {
          "name": "stderr",
          "output_type": "stream",
          "text": [
            "2022-09-28 00:23:53.336383: I tensorflow/core/grappler/optimizers/custom_graph_optimizer_registry.cc:113] Plugin optimizer for device_type GPU is enabled.\n",
            "2022-09-28 00:23:53.447317: I tensorflow/core/grappler/optimizers/custom_graph_optimizer_registry.cc:113] Plugin optimizer for device_type GPU is enabled.\n"
          ]
        },
        {
          "name": "stdout",
          "output_type": "stream",
          "text": [
            "1/1 [==============================] - 0s 51ms/step\n",
            "1/1 [==============================] - 0s 42ms/step\n",
            "1/1 [==============================] - 0s 39ms/step\n"
          ]
        },
        {
          "name": "stderr",
          "output_type": "stream",
          "text": [
            "2022-09-28 00:23:53.582488: I tensorflow/core/grappler/optimizers/custom_graph_optimizer_registry.cc:113] Plugin optimizer for device_type GPU is enabled.\n",
            "2022-09-28 00:23:53.687345: I tensorflow/core/grappler/optimizers/custom_graph_optimizer_registry.cc:113] Plugin optimizer for device_type GPU is enabled.\n",
            "2022-09-28 00:23:53.783077: I tensorflow/core/grappler/optimizers/custom_graph_optimizer_registry.cc:113] Plugin optimizer for device_type GPU is enabled.\n"
          ]
        },
        {
          "name": "stdout",
          "output_type": "stream",
          "text": [
            "1/1 [==============================] - 0s 35ms/step\n",
            "1/1 [==============================] - 0s 35ms/step\n",
            "1/1 [==============================] - 0s 35ms/step\n"
          ]
        },
        {
          "name": "stderr",
          "output_type": "stream",
          "text": [
            "2022-09-28 00:23:53.876571: I tensorflow/core/grappler/optimizers/custom_graph_optimizer_registry.cc:113] Plugin optimizer for device_type GPU is enabled.\n",
            "2022-09-28 00:23:53.970400: I tensorflow/core/grappler/optimizers/custom_graph_optimizer_registry.cc:113] Plugin optimizer for device_type GPU is enabled.\n",
            "2022-09-28 00:23:54.058622: I tensorflow/core/grappler/optimizers/custom_graph_optimizer_registry.cc:113] Plugin optimizer for device_type GPU is enabled.\n"
          ]
        },
        {
          "name": "stdout",
          "output_type": "stream",
          "text": [
            "1/1 [==============================] - 0s 34ms/step\n",
            "1/1 [==============================] - 0s 34ms/step\n",
            "1/1 [==============================] - 0s 33ms/step\n",
            "1/1 [==============================] - 0s 33ms/step\n"
          ]
        },
        {
          "name": "stderr",
          "output_type": "stream",
          "text": [
            "2022-09-28 00:23:54.148946: I tensorflow/core/grappler/optimizers/custom_graph_optimizer_registry.cc:113] Plugin optimizer for device_type GPU is enabled.\n",
            "2022-09-28 00:23:54.237896: I tensorflow/core/grappler/optimizers/custom_graph_optimizer_registry.cc:113] Plugin optimizer for device_type GPU is enabled.\n",
            "2022-09-28 00:23:54.328991: I tensorflow/core/grappler/optimizers/custom_graph_optimizer_registry.cc:113] Plugin optimizer for device_type GPU is enabled.\n"
          ]
        },
        {
          "name": "stdout",
          "output_type": "stream",
          "text": [
            "1/1 [==============================] - 0s 38ms/step\n",
            "1/1 [==============================] - 0s 33ms/step\n",
            "1/1 [==============================] - 0s 34ms/step\n"
          ]
        },
        {
          "name": "stderr",
          "output_type": "stream",
          "text": [
            "2022-09-28 00:23:54.421362: I tensorflow/core/grappler/optimizers/custom_graph_optimizer_registry.cc:113] Plugin optimizer for device_type GPU is enabled.\n",
            "2022-09-28 00:23:54.512336: I tensorflow/core/grappler/optimizers/custom_graph_optimizer_registry.cc:113] Plugin optimizer for device_type GPU is enabled.\n",
            "2022-09-28 00:23:54.602003: I tensorflow/core/grappler/optimizers/custom_graph_optimizer_registry.cc:113] Plugin optimizer for device_type GPU is enabled.\n"
          ]
        },
        {
          "name": "stdout",
          "output_type": "stream",
          "text": [
            "1/1 [==============================] - 0s 37ms/step\n",
            "1/1 [==============================] - 0s 38ms/step\n"
          ]
        },
        {
          "name": "stderr",
          "output_type": "stream",
          "text": [
            "2022-09-28 00:23:54.691405: I tensorflow/core/grappler/optimizers/custom_graph_optimizer_registry.cc:113] Plugin optimizer for device_type GPU is enabled.\n",
            "2022-09-28 00:23:54.795385: I tensorflow/core/grappler/optimizers/custom_graph_optimizer_registry.cc:113] Plugin optimizer for device_type GPU is enabled.\n",
            "2022-09-28 00:23:54.889095: I tensorflow/core/grappler/optimizers/custom_graph_optimizer_registry.cc:113] Plugin optimizer for device_type GPU is enabled.\n"
          ]
        },
        {
          "name": "stdout",
          "output_type": "stream",
          "text": [
            "1/1 [==============================] - 0s 36ms/step\n",
            "1/1 [==============================] - 0s 33ms/step\n",
            "1/1 [==============================] - 0s 33ms/step\n"
          ]
        },
        {
          "name": "stderr",
          "output_type": "stream",
          "text": [
            "2022-09-28 00:23:54.977541: I tensorflow/core/grappler/optimizers/custom_graph_optimizer_registry.cc:113] Plugin optimizer for device_type GPU is enabled.\n",
            "2022-09-28 00:23:55.068860: I tensorflow/core/grappler/optimizers/custom_graph_optimizer_registry.cc:113] Plugin optimizer for device_type GPU is enabled.\n",
            "2022-09-28 00:23:55.164579: I tensorflow/core/grappler/optimizers/custom_graph_optimizer_registry.cc:113] Plugin optimizer for device_type GPU is enabled.\n"
          ]
        },
        {
          "name": "stdout",
          "output_type": "stream",
          "text": [
            "1/1 [==============================] - 0s 35ms/step\n",
            "1/1 [==============================] - 0s 34ms/step\n",
            "1/1 [==============================] - 0s 35ms/step\n"
          ]
        },
        {
          "name": "stderr",
          "output_type": "stream",
          "text": [
            "2022-09-28 00:23:55.256079: I tensorflow/core/grappler/optimizers/custom_graph_optimizer_registry.cc:113] Plugin optimizer for device_type GPU is enabled.\n",
            "2022-09-28 00:23:55.345346: I tensorflow/core/grappler/optimizers/custom_graph_optimizer_registry.cc:113] Plugin optimizer for device_type GPU is enabled.\n",
            "2022-09-28 00:23:55.444873: I tensorflow/core/grappler/optimizers/custom_graph_optimizer_registry.cc:113] Plugin optimizer for device_type GPU is enabled.\n"
          ]
        },
        {
          "name": "stdout",
          "output_type": "stream",
          "text": [
            "1/1 [==============================] - 0s 33ms/step\n",
            "1/1 [==============================] - 0s 39ms/step\n",
            "1/1 [==============================] - 0s 35ms/step\n"
          ]
        },
        {
          "name": "stderr",
          "output_type": "stream",
          "text": [
            "2022-09-28 00:23:55.542224: I tensorflow/core/grappler/optimizers/custom_graph_optimizer_registry.cc:113] Plugin optimizer for device_type GPU is enabled.\n",
            "2022-09-28 00:23:55.644522: I tensorflow/core/grappler/optimizers/custom_graph_optimizer_registry.cc:113] Plugin optimizer for device_type GPU is enabled.\n",
            "2022-09-28 00:23:55.737489: I tensorflow/core/grappler/optimizers/custom_graph_optimizer_registry.cc:113] Plugin optimizer for device_type GPU is enabled.\n"
          ]
        },
        {
          "name": "stdout",
          "output_type": "stream",
          "text": [
            "1/1 [==============================] - 0s 34ms/step\n",
            "1/1 [==============================] - 0s 34ms/step\n",
            "1/1 [==============================] - 0s 35ms/step\n"
          ]
        },
        {
          "name": "stderr",
          "output_type": "stream",
          "text": [
            "2022-09-28 00:23:55.828246: I tensorflow/core/grappler/optimizers/custom_graph_optimizer_registry.cc:113] Plugin optimizer for device_type GPU is enabled.\n",
            "2022-09-28 00:23:55.919649: I tensorflow/core/grappler/optimizers/custom_graph_optimizer_registry.cc:113] Plugin optimizer for device_type GPU is enabled.\n"
          ]
        },
        {
          "name": "stdout",
          "output_type": "stream",
          "text": [
            "1/1 [==============================] - 0s 42ms/step\n",
            "1/1 [==============================] - 0s 42ms/step\n"
          ]
        },
        {
          "name": "stderr",
          "output_type": "stream",
          "text": [
            "2022-09-28 00:23:56.029827: I tensorflow/core/grappler/optimizers/custom_graph_optimizer_registry.cc:113] Plugin optimizer for device_type GPU is enabled.\n",
            "2022-09-28 00:23:56.135041: I tensorflow/core/grappler/optimizers/custom_graph_optimizer_registry.cc:113] Plugin optimizer for device_type GPU is enabled.\n"
          ]
        },
        {
          "name": "stdout",
          "output_type": "stream",
          "text": [
            "1/1 [==============================] - 0s 39ms/step\n",
            "1/1 [==============================] - 0s 35ms/step\n"
          ]
        },
        {
          "name": "stderr",
          "output_type": "stream",
          "text": [
            "2022-09-28 00:23:56.251579: I tensorflow/core/grappler/optimizers/custom_graph_optimizer_registry.cc:113] Plugin optimizer for device_type GPU is enabled.\n",
            "2022-09-28 00:23:56.348478: I tensorflow/core/grappler/optimizers/custom_graph_optimizer_registry.cc:113] Plugin optimizer for device_type GPU is enabled.\n"
          ]
        },
        {
          "name": "stdout",
          "output_type": "stream",
          "text": [
            "1/1 [==============================] - 0s 44ms/step\n"
          ]
        },
        {
          "name": "stderr",
          "output_type": "stream",
          "text": [
            "2022-09-28 00:23:56.812041: I tensorflow/core/grappler/optimizers/custom_graph_optimizer_registry.cc:113] Plugin optimizer for device_type GPU is enabled.\n",
            " 40%|████      | 4/10 [00:15<00:23,  3.94s/it]"
          ]
        },
        {
          "name": "stdout",
          "output_type": "stream",
          "text": [
            "1/1 [==============================] - 0s 36ms/step\n"
          ]
        },
        {
          "name": "stderr",
          "output_type": "stream",
          "text": [
            "2022-09-28 00:23:56.920598: I tensorflow/core/grappler/optimizers/custom_graph_optimizer_registry.cc:113] Plugin optimizer for device_type GPU is enabled.\n"
          ]
        },
        {
          "name": "stdout",
          "output_type": "stream",
          "text": [
            "1/1 [==============================] - 0s 35ms/step\n"
          ]
        },
        {
          "name": "stderr",
          "output_type": "stream",
          "text": [
            "2022-09-28 00:23:57.015036: I tensorflow/core/grappler/optimizers/custom_graph_optimizer_registry.cc:113] Plugin optimizer for device_type GPU is enabled.\n",
            "2022-09-28 00:23:57.112786: I tensorflow/core/grappler/optimizers/custom_graph_optimizer_registry.cc:113] Plugin optimizer for device_type GPU is enabled.\n"
          ]
        },
        {
          "name": "stdout",
          "output_type": "stream",
          "text": [
            "1/1 [==============================] - 0s 36ms/step\n",
            "1/1 [==============================] - 0s 34ms/step\n",
            "1/1 [==============================] - 0s 35ms/step\n"
          ]
        },
        {
          "name": "stderr",
          "output_type": "stream",
          "text": [
            "2022-09-28 00:23:57.216454: I tensorflow/core/grappler/optimizers/custom_graph_optimizer_registry.cc:113] Plugin optimizer for device_type GPU is enabled.\n",
            "2022-09-28 00:23:57.309112: I tensorflow/core/grappler/optimizers/custom_graph_optimizer_registry.cc:113] Plugin optimizer for device_type GPU is enabled.\n",
            "2022-09-28 00:23:57.400822: I tensorflow/core/grappler/optimizers/custom_graph_optimizer_registry.cc:113] Plugin optimizer for device_type GPU is enabled.\n"
          ]
        },
        {
          "name": "stdout",
          "output_type": "stream",
          "text": [
            "1/1 [==============================] - 0s 34ms/step\n",
            "1/1 [==============================] - 0s 34ms/step\n",
            "1/1 [==============================] - 0s 35ms/step\n"
          ]
        },
        {
          "name": "stderr",
          "output_type": "stream",
          "text": [
            "2022-09-28 00:23:57.492235: I tensorflow/core/grappler/optimizers/custom_graph_optimizer_registry.cc:113] Plugin optimizer for device_type GPU is enabled.\n",
            "2022-09-28 00:23:57.582649: I tensorflow/core/grappler/optimizers/custom_graph_optimizer_registry.cc:113] Plugin optimizer for device_type GPU is enabled.\n",
            "2022-09-28 00:23:57.692957: I tensorflow/core/grappler/optimizers/custom_graph_optimizer_registry.cc:113] Plugin optimizer for device_type GPU is enabled.\n"
          ]
        },
        {
          "name": "stdout",
          "output_type": "stream",
          "text": [
            "1/1 [==============================] - 0s 43ms/step\n",
            "1/1 [==============================] - 0s 33ms/step\n",
            "1/1 [==============================] - 0s 35ms/step\n"
          ]
        },
        {
          "name": "stderr",
          "output_type": "stream",
          "text": [
            "2022-09-28 00:23:57.790812: I tensorflow/core/grappler/optimizers/custom_graph_optimizer_registry.cc:113] Plugin optimizer for device_type GPU is enabled.\n",
            "2022-09-28 00:23:57.882490: I tensorflow/core/grappler/optimizers/custom_graph_optimizer_registry.cc:113] Plugin optimizer for device_type GPU is enabled.\n",
            "2022-09-28 00:23:57.976699: I tensorflow/core/grappler/optimizers/custom_graph_optimizer_registry.cc:113] Plugin optimizer for device_type GPU is enabled.\n"
          ]
        },
        {
          "name": "stdout",
          "output_type": "stream",
          "text": [
            "1/1 [==============================] - 0s 34ms/step\n",
            "1/1 [==============================] - 0s 39ms/step\n",
            "1/1 [==============================] - 0s 33ms/step\n"
          ]
        },
        {
          "name": "stderr",
          "output_type": "stream",
          "text": [
            "2022-09-28 00:23:58.075130: I tensorflow/core/grappler/optimizers/custom_graph_optimizer_registry.cc:113] Plugin optimizer for device_type GPU is enabled.\n",
            "2022-09-28 00:23:58.169880: I tensorflow/core/grappler/optimizers/custom_graph_optimizer_registry.cc:113] Plugin optimizer for device_type GPU is enabled.\n",
            "2022-09-28 00:23:58.260488: I tensorflow/core/grappler/optimizers/custom_graph_optimizer_registry.cc:113] Plugin optimizer for device_type GPU is enabled.\n"
          ]
        },
        {
          "name": "stdout",
          "output_type": "stream",
          "text": [
            "1/1 [==============================] - 0s 33ms/step\n",
            "1/1 [==============================] - 0s 36ms/step\n",
            "1/1 [==============================] - 0s 34ms/step\n"
          ]
        },
        {
          "name": "stderr",
          "output_type": "stream",
          "text": [
            "2022-09-28 00:23:58.356798: I tensorflow/core/grappler/optimizers/custom_graph_optimizer_registry.cc:113] Plugin optimizer for device_type GPU is enabled.\n",
            "2022-09-28 00:23:58.449824: I tensorflow/core/grappler/optimizers/custom_graph_optimizer_registry.cc:113] Plugin optimizer for device_type GPU is enabled.\n",
            "2022-09-28 00:23:58.542311: I tensorflow/core/grappler/optimizers/custom_graph_optimizer_registry.cc:113] Plugin optimizer for device_type GPU is enabled.\n"
          ]
        },
        {
          "name": "stdout",
          "output_type": "stream",
          "text": [
            "1/1 [==============================] - 0s 36ms/step\n",
            "1/1 [==============================] - 0s 33ms/step\n",
            "1/1 [==============================] - 0s 33ms/step\n",
            "1/1 [==============================] - 0s 33ms/step\n"
          ]
        },
        {
          "name": "stderr",
          "output_type": "stream",
          "text": [
            "2022-09-28 00:23:58.629099: I tensorflow/core/grappler/optimizers/custom_graph_optimizer_registry.cc:113] Plugin optimizer for device_type GPU is enabled.\n",
            "2022-09-28 00:23:58.720249: I tensorflow/core/grappler/optimizers/custom_graph_optimizer_registry.cc:113] Plugin optimizer for device_type GPU is enabled.\n",
            "2022-09-28 00:23:58.809356: I tensorflow/core/grappler/optimizers/custom_graph_optimizer_registry.cc:113] Plugin optimizer for device_type GPU is enabled.\n"
          ]
        },
        {
          "name": "stdout",
          "output_type": "stream",
          "text": [
            "1/1 [==============================] - 0s 34ms/step\n",
            "1/1 [==============================] - 0s 35ms/step\n",
            "1/1 [==============================] - 0s 33ms/step\n"
          ]
        },
        {
          "name": "stderr",
          "output_type": "stream",
          "text": [
            "2022-09-28 00:23:58.898518: I tensorflow/core/grappler/optimizers/custom_graph_optimizer_registry.cc:113] Plugin optimizer for device_type GPU is enabled.\n",
            "2022-09-28 00:23:58.988800: I tensorflow/core/grappler/optimizers/custom_graph_optimizer_registry.cc:113] Plugin optimizer for device_type GPU is enabled.\n",
            "2022-09-28 00:23:59.078012: I tensorflow/core/grappler/optimizers/custom_graph_optimizer_registry.cc:113] Plugin optimizer for device_type GPU is enabled.\n"
          ]
        },
        {
          "name": "stdout",
          "output_type": "stream",
          "text": [
            "1/1 [==============================] - 0s 34ms/step\n",
            "1/1 [==============================] - 0s 33ms/step\n",
            "1/1 [==============================] - 0s 32ms/step\n"
          ]
        },
        {
          "name": "stderr",
          "output_type": "stream",
          "text": [
            "2022-09-28 00:23:59.168931: I tensorflow/core/grappler/optimizers/custom_graph_optimizer_registry.cc:113] Plugin optimizer for device_type GPU is enabled.\n",
            "2022-09-28 00:23:59.256891: I tensorflow/core/grappler/optimizers/custom_graph_optimizer_registry.cc:113] Plugin optimizer for device_type GPU is enabled.\n",
            "2022-09-28 00:23:59.345207: I tensorflow/core/grappler/optimizers/custom_graph_optimizer_registry.cc:113] Plugin optimizer for device_type GPU is enabled.\n"
          ]
        },
        {
          "name": "stdout",
          "output_type": "stream",
          "text": [
            "1/1 [==============================] - 0s 34ms/step\n",
            "1/1 [==============================] - 0s 33ms/step\n"
          ]
        },
        {
          "name": "stderr",
          "output_type": "stream",
          "text": [
            "2022-09-28 00:23:59.436889: I tensorflow/core/grappler/optimizers/custom_graph_optimizer_registry.cc:113] Plugin optimizer for device_type GPU is enabled.\n",
            "2022-09-28 00:23:59.525912: I tensorflow/core/grappler/optimizers/custom_graph_optimizer_registry.cc:113] Plugin optimizer for device_type GPU is enabled.\n",
            "2022-09-28 00:23:59.618953: I tensorflow/core/grappler/optimizers/custom_graph_optimizer_registry.cc:113] Plugin optimizer for device_type GPU is enabled.\n"
          ]
        },
        {
          "name": "stdout",
          "output_type": "stream",
          "text": [
            "1/1 [==============================] - 0s 35ms/step\n",
            "1/1 [==============================] - 0s 34ms/step\n",
            "1/1 [==============================] - 0s 34ms/step\n",
            "1/1 [==============================] - 0s 34ms/step\n"
          ]
        },
        {
          "name": "stderr",
          "output_type": "stream",
          "text": [
            "2022-09-28 00:23:59.709083: I tensorflow/core/grappler/optimizers/custom_graph_optimizer_registry.cc:113] Plugin optimizer for device_type GPU is enabled.\n",
            "2022-09-28 00:23:59.800103: I tensorflow/core/grappler/optimizers/custom_graph_optimizer_registry.cc:113] Plugin optimizer for device_type GPU is enabled.\n",
            "2022-09-28 00:23:59.887730: I tensorflow/core/grappler/optimizers/custom_graph_optimizer_registry.cc:113] Plugin optimizer for device_type GPU is enabled.\n"
          ]
        },
        {
          "name": "stdout",
          "output_type": "stream",
          "text": [
            "1/1 [==============================] - 0s 34ms/step\n",
            "1/1 [==============================] - 0s 44ms/step\n"
          ]
        },
        {
          "name": "stderr",
          "output_type": "stream",
          "text": [
            "2022-09-28 00:23:59.980229: I tensorflow/core/grappler/optimizers/custom_graph_optimizer_registry.cc:113] Plugin optimizer for device_type GPU is enabled.\n",
            "2022-09-28 00:24:00.082064: I tensorflow/core/grappler/optimizers/custom_graph_optimizer_registry.cc:113] Plugin optimizer for device_type GPU is enabled.\n",
            "2022-09-28 00:24:00.176923: I tensorflow/core/grappler/optimizers/custom_graph_optimizer_registry.cc:113] Plugin optimizer for device_type GPU is enabled.\n"
          ]
        },
        {
          "name": "stdout",
          "output_type": "stream",
          "text": [
            "1/1 [==============================] - 0s 37ms/step\n",
            "1/1 [==============================] - 0s 33ms/step\n"
          ]
        },
        {
          "name": "stderr",
          "output_type": "stream",
          "text": [
            "2022-09-28 00:24:00.271684: I tensorflow/core/grappler/optimizers/custom_graph_optimizer_registry.cc:113] Plugin optimizer for device_type GPU is enabled.\n",
            " 50%|█████     | 5/10 [00:19<00:18,  3.76s/it]"
          ]
        },
        {
          "name": "stdout",
          "output_type": "stream",
          "text": [
            "1/1 [==============================] - 0s 34ms/step\n",
            "1/1 [==============================] - 0s 34ms/step\n"
          ]
        },
        {
          "name": "stderr",
          "output_type": "stream",
          "text": [
            "2022-09-28 00:24:00.361632: I tensorflow/core/grappler/optimizers/custom_graph_optimizer_registry.cc:113] Plugin optimizer for device_type GPU is enabled.\n",
            "2022-09-28 00:24:00.451545: I tensorflow/core/grappler/optimizers/custom_graph_optimizer_registry.cc:113] Plugin optimizer for device_type GPU is enabled.\n"
          ]
        },
        {
          "name": "stdout",
          "output_type": "stream",
          "text": [
            "1/1 [==============================] - 0s 33ms/step\n"
          ]
        },
        {
          "name": "stderr",
          "output_type": "stream",
          "text": [
            "2022-09-28 00:24:00.539781: I tensorflow/core/grappler/optimizers/custom_graph_optimizer_registry.cc:113] Plugin optimizer for device_type GPU is enabled.\n"
          ]
        },
        {
          "name": "stdout",
          "output_type": "stream",
          "text": [
            "1/1 [==============================] - 0s 35ms/step\n"
          ]
        },
        {
          "name": "stderr",
          "output_type": "stream",
          "text": [
            "2022-09-28 00:24:00.631184: I tensorflow/core/grappler/optimizers/custom_graph_optimizer_registry.cc:113] Plugin optimizer for device_type GPU is enabled.\n",
            "2022-09-28 00:24:00.724579: I tensorflow/core/grappler/optimizers/custom_graph_optimizer_registry.cc:113] Plugin optimizer for device_type GPU is enabled.\n"
          ]
        },
        {
          "name": "stdout",
          "output_type": "stream",
          "text": [
            "1/1 [==============================] - 0s 36ms/step\n"
          ]
        },
        {
          "name": "stderr",
          "output_type": "stream",
          "text": [
            "2022-09-28 00:24:00.813394: I tensorflow/core/grappler/optimizers/custom_graph_optimizer_registry.cc:113] Plugin optimizer for device_type GPU is enabled.\n"
          ]
        },
        {
          "name": "stdout",
          "output_type": "stream",
          "text": [
            "1/1 [==============================] - 0s 34ms/step\n",
            "1/1 [==============================] - 0s 34ms/step\n"
          ]
        },
        {
          "name": "stderr",
          "output_type": "stream",
          "text": [
            "2022-09-28 00:24:00.907845: I tensorflow/core/grappler/optimizers/custom_graph_optimizer_registry.cc:113] Plugin optimizer for device_type GPU is enabled.\n",
            "2022-09-28 00:24:01.001799: I tensorflow/core/grappler/optimizers/custom_graph_optimizer_registry.cc:113] Plugin optimizer for device_type GPU is enabled.\n"
          ]
        },
        {
          "name": "stdout",
          "output_type": "stream",
          "text": [
            "1/1 [==============================] - 0s 59ms/step\n",
            "1/1 [==============================] - 0s 39ms/step\n",
            "1/1 [==============================] - 0s 68ms/step\n"
          ]
        },
        {
          "name": "stderr",
          "output_type": "stream",
          "text": [
            "2022-09-28 00:24:01.143075: I tensorflow/core/grappler/optimizers/custom_graph_optimizer_registry.cc:113] Plugin optimizer for device_type GPU is enabled.\n",
            "2022-09-28 00:24:01.254227: I tensorflow/core/grappler/optimizers/custom_graph_optimizer_registry.cc:113] Plugin optimizer for device_type GPU is enabled.\n"
          ]
        },
        {
          "name": "stdout",
          "output_type": "stream",
          "text": [
            "1/1 [==============================] - 0s 39ms/step\n",
            "1/1 [==============================] - 0s 36ms/step\n"
          ]
        },
        {
          "name": "stderr",
          "output_type": "stream",
          "text": [
            "2022-09-28 00:24:01.400728: I tensorflow/core/grappler/optimizers/custom_graph_optimizer_registry.cc:113] Plugin optimizer for device_type GPU is enabled.\n",
            "2022-09-28 00:24:01.515897: I tensorflow/core/grappler/optimizers/custom_graph_optimizer_registry.cc:113] Plugin optimizer for device_type GPU is enabled.\n"
          ]
        },
        {
          "name": "stdout",
          "output_type": "stream",
          "text": [
            "1/1 [==============================] - 0s 38ms/step\n",
            "1/1 [==============================] - 0s 35ms/step\n"
          ]
        },
        {
          "name": "stderr",
          "output_type": "stream",
          "text": [
            "2022-09-28 00:24:01.614643: I tensorflow/core/grappler/optimizers/custom_graph_optimizer_registry.cc:113] Plugin optimizer for device_type GPU is enabled.\n",
            "2022-09-28 00:24:01.712092: I tensorflow/core/grappler/optimizers/custom_graph_optimizer_registry.cc:113] Plugin optimizer for device_type GPU is enabled.\n",
            "2022-09-28 00:24:01.800866: I tensorflow/core/grappler/optimizers/custom_graph_optimizer_registry.cc:113] Plugin optimizer for device_type GPU is enabled.\n"
          ]
        },
        {
          "name": "stdout",
          "output_type": "stream",
          "text": [
            "1/1 [==============================] - 0s 37ms/step\n",
            "1/1 [==============================] - 0s 34ms/step\n",
            "1/1 [==============================] - 0s 46ms/step\n"
          ]
        },
        {
          "name": "stderr",
          "output_type": "stream",
          "text": [
            "2022-09-28 00:24:01.901451: I tensorflow/core/grappler/optimizers/custom_graph_optimizer_registry.cc:113] Plugin optimizer for device_type GPU is enabled.\n",
            "2022-09-28 00:24:02.008207: I tensorflow/core/grappler/optimizers/custom_graph_optimizer_registry.cc:113] Plugin optimizer for device_type GPU is enabled.\n"
          ]
        },
        {
          "name": "stdout",
          "output_type": "stream",
          "text": [
            "1/1 [==============================] - 0s 38ms/step\n",
            "1/1 [==============================] - 0s 60ms/step\n"
          ]
        },
        {
          "name": "stderr",
          "output_type": "stream",
          "text": [
            "2022-09-28 00:24:02.111345: I tensorflow/core/grappler/optimizers/custom_graph_optimizer_registry.cc:113] Plugin optimizer for device_type GPU is enabled.\n",
            "2022-09-28 00:24:02.252943: I tensorflow/core/grappler/optimizers/custom_graph_optimizer_registry.cc:113] Plugin optimizer for device_type GPU is enabled.\n"
          ]
        },
        {
          "name": "stdout",
          "output_type": "stream",
          "text": [
            "1/1 [==============================] - 0s 41ms/step\n",
            "1/1 [==============================] - 0s 40ms/step\n"
          ]
        },
        {
          "name": "stderr",
          "output_type": "stream",
          "text": [
            "2022-09-28 00:24:02.372969: I tensorflow/core/grappler/optimizers/custom_graph_optimizer_registry.cc:113] Plugin optimizer for device_type GPU is enabled.\n",
            "2022-09-28 00:24:02.478172: I tensorflow/core/grappler/optimizers/custom_graph_optimizer_registry.cc:113] Plugin optimizer for device_type GPU is enabled.\n"
          ]
        },
        {
          "name": "stdout",
          "output_type": "stream",
          "text": [
            "1/1 [==============================] - 0s 41ms/step\n",
            "1/1 [==============================] - 0s 37ms/step\n"
          ]
        },
        {
          "name": "stderr",
          "output_type": "stream",
          "text": [
            "2022-09-28 00:24:02.590330: I tensorflow/core/grappler/optimizers/custom_graph_optimizer_registry.cc:113] Plugin optimizer for device_type GPU is enabled.\n",
            "2022-09-28 00:24:02.690913: I tensorflow/core/grappler/optimizers/custom_graph_optimizer_registry.cc:113] Plugin optimizer for device_type GPU is enabled.\n"
          ]
        },
        {
          "name": "stdout",
          "output_type": "stream",
          "text": [
            "1/1 [==============================] - 0s 47ms/step\n",
            "1/1 [==============================] - 0s 35ms/step\n"
          ]
        },
        {
          "name": "stderr",
          "output_type": "stream",
          "text": [
            "2022-09-28 00:24:02.809253: I tensorflow/core/grappler/optimizers/custom_graph_optimizer_registry.cc:113] Plugin optimizer for device_type GPU is enabled.\n",
            "2022-09-28 00:24:02.911370: I tensorflow/core/grappler/optimizers/custom_graph_optimizer_registry.cc:113] Plugin optimizer for device_type GPU is enabled.\n",
            "2022-09-28 00:24:03.004760: I tensorflow/core/grappler/optimizers/custom_graph_optimizer_registry.cc:113] Plugin optimizer for device_type GPU is enabled.\n"
          ]
        },
        {
          "name": "stdout",
          "output_type": "stream",
          "text": [
            "1/1 [==============================] - 0s 36ms/step\n",
            "1/1 [==============================] - 0s 33ms/step\n",
            "1/1 [==============================] - 0s 34ms/step\n"
          ]
        },
        {
          "name": "stderr",
          "output_type": "stream",
          "text": [
            "2022-09-28 00:24:03.096290: I tensorflow/core/grappler/optimizers/custom_graph_optimizer_registry.cc:113] Plugin optimizer for device_type GPU is enabled.\n",
            "2022-09-28 00:24:03.188241: I tensorflow/core/grappler/optimizers/custom_graph_optimizer_registry.cc:113] Plugin optimizer for device_type GPU is enabled.\n",
            "2022-09-28 00:24:03.283493: I tensorflow/core/grappler/optimizers/custom_graph_optimizer_registry.cc:113] Plugin optimizer for device_type GPU is enabled.\n"
          ]
        },
        {
          "name": "stdout",
          "output_type": "stream",
          "text": [
            "1/1 [==============================] - 0s 36ms/step\n",
            "1/1 [==============================] - 0s 37ms/step\n",
            "1/1 [==============================] - 0s 34ms/step\n"
          ]
        },
        {
          "name": "stderr",
          "output_type": "stream",
          "text": [
            "2022-09-28 00:24:03.373859: I tensorflow/core/grappler/optimizers/custom_graph_optimizer_registry.cc:113] Plugin optimizer for device_type GPU is enabled.\n",
            "2022-09-28 00:24:03.479401: I tensorflow/core/grappler/optimizers/custom_graph_optimizer_registry.cc:113] Plugin optimizer for device_type GPU is enabled.\n"
          ]
        },
        {
          "name": "stdout",
          "output_type": "stream",
          "text": [
            "1/1 [==============================] - 0s 35ms/step\n",
            "1/1 [==============================] - 0s 39ms/step\n"
          ]
        },
        {
          "name": "stderr",
          "output_type": "stream",
          "text": [
            "2022-09-28 00:24:03.577092: I tensorflow/core/grappler/optimizers/custom_graph_optimizer_registry.cc:113] Plugin optimizer for device_type GPU is enabled.\n",
            "2022-09-28 00:24:03.673515: I tensorflow/core/grappler/optimizers/custom_graph_optimizer_registry.cc:113] Plugin optimizer for device_type GPU is enabled.\n",
            "2022-09-28 00:24:03.769865: I tensorflow/core/grappler/optimizers/custom_graph_optimizer_registry.cc:113] Plugin optimizer for device_type GPU is enabled.\n"
          ]
        },
        {
          "name": "stdout",
          "output_type": "stream",
          "text": [
            "1/1 [==============================] - 0s 35ms/step\n",
            "1/1 [==============================] - 0s 33ms/step\n"
          ]
        },
        {
          "name": "stderr",
          "output_type": "stream",
          "text": [
            "2022-09-28 00:24:03.863963: I tensorflow/core/grappler/optimizers/custom_graph_optimizer_registry.cc:113] Plugin optimizer for device_type GPU is enabled.\n"
          ]
        },
        {
          "name": "stdout",
          "output_type": "stream",
          "text": [
            "1/1 [==============================] - 0s 381ms/step\n",
            "1/1 [==============================] - 0s 45ms/step\n"
          ]
        },
        {
          "name": "stderr",
          "output_type": "stream",
          "text": [
            "2022-09-28 00:24:04.297898: I tensorflow/core/grappler/optimizers/custom_graph_optimizer_registry.cc:113] Plugin optimizer for device_type GPU is enabled.\n",
            "2022-09-28 00:24:04.397241: I tensorflow/core/grappler/optimizers/custom_graph_optimizer_registry.cc:113] Plugin optimizer for device_type GPU is enabled.\n",
            " 60%|██████    | 6/10 [00:23<00:15,  3.89s/it]"
          ]
        },
        {
          "name": "stdout",
          "output_type": "stream",
          "text": [
            "1/1 [==============================] - 0s 34ms/step\n",
            "1/1 [==============================] - 0s 37ms/step\n"
          ]
        },
        {
          "name": "stderr",
          "output_type": "stream",
          "text": [
            "2022-09-28 00:24:04.506371: I tensorflow/core/grappler/optimizers/custom_graph_optimizer_registry.cc:113] Plugin optimizer for device_type GPU is enabled.\n",
            "2022-09-28 00:24:04.604729: I tensorflow/core/grappler/optimizers/custom_graph_optimizer_registry.cc:113] Plugin optimizer for device_type GPU is enabled.\n"
          ]
        },
        {
          "name": "stdout",
          "output_type": "stream",
          "text": [
            "1/1 [==============================] - 0s 124ms/step\n",
            "1/1 [==============================] - 0s 53ms/step\n"
          ]
        },
        {
          "name": "stderr",
          "output_type": "stream",
          "text": [
            "2022-09-28 00:24:04.797922: I tensorflow/core/grappler/optimizers/custom_graph_optimizer_registry.cc:113] Plugin optimizer for device_type GPU is enabled.\n",
            "2022-09-28 00:24:04.948262: I tensorflow/core/grappler/optimizers/custom_graph_optimizer_registry.cc:113] Plugin optimizer for device_type GPU is enabled.\n"
          ]
        },
        {
          "name": "stdout",
          "output_type": "stream",
          "text": [
            "1/1 [==============================] - 0s 41ms/step\n",
            "1/1 [==============================] - 0s 36ms/step\n"
          ]
        },
        {
          "name": "stderr",
          "output_type": "stream",
          "text": [
            "2022-09-28 00:24:05.081757: I tensorflow/core/grappler/optimizers/custom_graph_optimizer_registry.cc:113] Plugin optimizer for device_type GPU is enabled.\n",
            "2022-09-28 00:24:05.204034: I tensorflow/core/grappler/optimizers/custom_graph_optimizer_registry.cc:113] Plugin optimizer for device_type GPU is enabled.\n"
          ]
        },
        {
          "name": "stdout",
          "output_type": "stream",
          "text": [
            "1/1 [==============================] - 0s 37ms/step\n",
            "1/1 [==============================] - 0s 36ms/step\n"
          ]
        },
        {
          "name": "stderr",
          "output_type": "stream",
          "text": [
            "2022-09-28 00:24:05.297532: I tensorflow/core/grappler/optimizers/custom_graph_optimizer_registry.cc:113] Plugin optimizer for device_type GPU is enabled.\n",
            "2022-09-28 00:24:05.393130: I tensorflow/core/grappler/optimizers/custom_graph_optimizer_registry.cc:113] Plugin optimizer for device_type GPU is enabled.\n",
            "2022-09-28 00:24:05.496159: I tensorflow/core/grappler/optimizers/custom_graph_optimizer_registry.cc:113] Plugin optimizer for device_type GPU is enabled.\n"
          ]
        },
        {
          "name": "stdout",
          "output_type": "stream",
          "text": [
            "1/1 [==============================] - 0s 35ms/step\n",
            "1/1 [==============================] - 0s 42ms/step\n",
            "1/1 [==============================] - 0s 40ms/step\n"
          ]
        },
        {
          "name": "stderr",
          "output_type": "stream",
          "text": [
            "2022-09-28 00:24:05.607837: I tensorflow/core/grappler/optimizers/custom_graph_optimizer_registry.cc:113] Plugin optimizer for device_type GPU is enabled.\n",
            "2022-09-28 00:24:05.733894: I tensorflow/core/grappler/optimizers/custom_graph_optimizer_registry.cc:113] Plugin optimizer for device_type GPU is enabled.\n"
          ]
        },
        {
          "name": "stdout",
          "output_type": "stream",
          "text": [
            "1/1 [==============================] - 0s 35ms/step\n",
            "1/1 [==============================] - 0s 38ms/step\n"
          ]
        },
        {
          "name": "stderr",
          "output_type": "stream",
          "text": [
            "2022-09-28 00:24:05.848249: I tensorflow/core/grappler/optimizers/custom_graph_optimizer_registry.cc:113] Plugin optimizer for device_type GPU is enabled.\n",
            "2022-09-28 00:24:05.941217: I tensorflow/core/grappler/optimizers/custom_graph_optimizer_registry.cc:113] Plugin optimizer for device_type GPU is enabled.\n",
            "2022-09-28 00:24:06.037113: I tensorflow/core/grappler/optimizers/custom_graph_optimizer_registry.cc:113] Plugin optimizer for device_type GPU is enabled.\n"
          ]
        },
        {
          "name": "stdout",
          "output_type": "stream",
          "text": [
            "1/1 [==============================] - 0s 34ms/step\n",
            "1/1 [==============================] - 0s 33ms/step\n",
            "1/1 [==============================] - 0s 34ms/step\n"
          ]
        },
        {
          "name": "stderr",
          "output_type": "stream",
          "text": [
            "2022-09-28 00:24:06.132519: I tensorflow/core/grappler/optimizers/custom_graph_optimizer_registry.cc:113] Plugin optimizer for device_type GPU is enabled.\n",
            "2022-09-28 00:24:06.224977: I tensorflow/core/grappler/optimizers/custom_graph_optimizer_registry.cc:113] Plugin optimizer for device_type GPU is enabled.\n",
            "2022-09-28 00:24:06.314498: I tensorflow/core/grappler/optimizers/custom_graph_optimizer_registry.cc:113] Plugin optimizer for device_type GPU is enabled.\n"
          ]
        },
        {
          "name": "stdout",
          "output_type": "stream",
          "text": [
            "1/1 [==============================] - 0s 34ms/step\n",
            "1/1 [==============================] - 0s 34ms/step\n",
            "1/1 [==============================] - 0s 39ms/step\n"
          ]
        },
        {
          "name": "stderr",
          "output_type": "stream",
          "text": [
            "2022-09-28 00:24:06.407584: I tensorflow/core/grappler/optimizers/custom_graph_optimizer_registry.cc:113] Plugin optimizer for device_type GPU is enabled.\n",
            "2022-09-28 00:24:06.501666: I tensorflow/core/grappler/optimizers/custom_graph_optimizer_registry.cc:113] Plugin optimizer for device_type GPU is enabled.\n",
            "2022-09-28 00:24:06.600478: I tensorflow/core/grappler/optimizers/custom_graph_optimizer_registry.cc:113] Plugin optimizer for device_type GPU is enabled.\n"
          ]
        },
        {
          "name": "stdout",
          "output_type": "stream",
          "text": [
            "1/1 [==============================] - 0s 35ms/step\n",
            "1/1 [==============================] - 0s 35ms/step\n",
            "1/1 [==============================] - 0s 38ms/step\n"
          ]
        },
        {
          "name": "stderr",
          "output_type": "stream",
          "text": [
            "2022-09-28 00:24:06.711777: I tensorflow/core/grappler/optimizers/custom_graph_optimizer_registry.cc:113] Plugin optimizer for device_type GPU is enabled.\n",
            "2022-09-28 00:24:06.818455: I tensorflow/core/grappler/optimizers/custom_graph_optimizer_registry.cc:113] Plugin optimizer for device_type GPU is enabled.\n",
            "2022-09-28 00:24:06.911306: I tensorflow/core/grappler/optimizers/custom_graph_optimizer_registry.cc:113] Plugin optimizer for device_type GPU is enabled.\n"
          ]
        },
        {
          "name": "stdout",
          "output_type": "stream",
          "text": [
            "1/1 [==============================] - 0s 34ms/step\n",
            "1/1 [==============================] - 0s 35ms/step\n",
            "1/1 [==============================] - 0s 41ms/step\n"
          ]
        },
        {
          "name": "stderr",
          "output_type": "stream",
          "text": [
            "2022-09-28 00:24:07.008484: I tensorflow/core/grappler/optimizers/custom_graph_optimizer_registry.cc:113] Plugin optimizer for device_type GPU is enabled.\n",
            "2022-09-28 00:24:07.100241: I tensorflow/core/grappler/optimizers/custom_graph_optimizer_registry.cc:113] Plugin optimizer for device_type GPU is enabled.\n",
            "2022-09-28 00:24:07.207918: I tensorflow/core/grappler/optimizers/custom_graph_optimizer_registry.cc:113] Plugin optimizer for device_type GPU is enabled.\n"
          ]
        },
        {
          "name": "stdout",
          "output_type": "stream",
          "text": [
            "1/1 [==============================] - 0s 45ms/step\n",
            "1/1 [==============================] - 0s 34ms/step\n",
            "1/1 [==============================] - 0s 36ms/step\n"
          ]
        },
        {
          "name": "stderr",
          "output_type": "stream",
          "text": [
            "2022-09-28 00:24:07.299009: I tensorflow/core/grappler/optimizers/custom_graph_optimizer_registry.cc:113] Plugin optimizer for device_type GPU is enabled.\n",
            "2022-09-28 00:24:07.401600: I tensorflow/core/grappler/optimizers/custom_graph_optimizer_registry.cc:113] Plugin optimizer for device_type GPU is enabled.\n",
            "2022-09-28 00:24:07.492005: I tensorflow/core/grappler/optimizers/custom_graph_optimizer_registry.cc:113] Plugin optimizer for device_type GPU is enabled.\n"
          ]
        },
        {
          "name": "stdout",
          "output_type": "stream",
          "text": [
            "1/1 [==============================] - 0s 35ms/step\n",
            "1/1 [==============================] - 0s 35ms/step\n",
            "1/1 [==============================] - 0s 37ms/step\n"
          ]
        },
        {
          "name": "stderr",
          "output_type": "stream",
          "text": [
            "2022-09-28 00:24:07.583531: I tensorflow/core/grappler/optimizers/custom_graph_optimizer_registry.cc:113] Plugin optimizer for device_type GPU is enabled.\n",
            "2022-09-28 00:24:07.677378: I tensorflow/core/grappler/optimizers/custom_graph_optimizer_registry.cc:113] Plugin optimizer for device_type GPU is enabled.\n",
            "2022-09-28 00:24:07.767869: I tensorflow/core/grappler/optimizers/custom_graph_optimizer_registry.cc:113] Plugin optimizer for device_type GPU is enabled.\n"
          ]
        },
        {
          "name": "stdout",
          "output_type": "stream",
          "text": [
            "1/1 [==============================] - 0s 35ms/step\n",
            "1/1 [==============================] - 0s 36ms/step\n",
            "1/1 [==============================] - 0s 35ms/step\n"
          ]
        },
        {
          "name": "stderr",
          "output_type": "stream",
          "text": [
            "2022-09-28 00:24:07.865997: I tensorflow/core/grappler/optimizers/custom_graph_optimizer_registry.cc:113] Plugin optimizer for device_type GPU is enabled.\n",
            "2022-09-28 00:24:07.958363: I tensorflow/core/grappler/optimizers/custom_graph_optimizer_registry.cc:113] Plugin optimizer for device_type GPU is enabled.\n",
            "2022-09-28 00:24:08.049837: I tensorflow/core/grappler/optimizers/custom_graph_optimizer_registry.cc:113] Plugin optimizer for device_type GPU is enabled.\n"
          ]
        },
        {
          "name": "stdout",
          "output_type": "stream",
          "text": [
            "1/1 [==============================] - 0s 36ms/step\n",
            "1/1 [==============================] - 0s 35ms/step\n",
            "1/1 [==============================] - 0s 35ms/step\n"
          ]
        },
        {
          "name": "stderr",
          "output_type": "stream",
          "text": [
            "2022-09-28 00:24:08.148679: I tensorflow/core/grappler/optimizers/custom_graph_optimizer_registry.cc:113] Plugin optimizer for device_type GPU is enabled.\n",
            "2022-09-28 00:24:08.240920: I tensorflow/core/grappler/optimizers/custom_graph_optimizer_registry.cc:113] Plugin optimizer for device_type GPU is enabled.\n",
            " 70%|███████   | 7/10 [00:27<00:11,  3.87s/it]2022-09-28 00:24:08.338785: I tensorflow/core/grappler/optimizers/custom_graph_optimizer_registry.cc:113] Plugin optimizer for device_type GPU is enabled.\n"
          ]
        },
        {
          "name": "stdout",
          "output_type": "stream",
          "text": [
            "1/1 [==============================] - 0s 36ms/step\n",
            "1/1 [==============================] - 0s 35ms/step\n"
          ]
        },
        {
          "name": "stderr",
          "output_type": "stream",
          "text": [
            "2022-09-28 00:24:08.433260: I tensorflow/core/grappler/optimizers/custom_graph_optimizer_registry.cc:113] Plugin optimizer for device_type GPU is enabled.\n",
            "2022-09-28 00:24:08.528812: I tensorflow/core/grappler/optimizers/custom_graph_optimizer_registry.cc:113] Plugin optimizer for device_type GPU is enabled.\n"
          ]
        },
        {
          "name": "stdout",
          "output_type": "stream",
          "text": [
            "1/1 [==============================] - 0s 35ms/step\n"
          ]
        },
        {
          "name": "stderr",
          "output_type": "stream",
          "text": [
            "2022-09-28 00:24:08.620857: I tensorflow/core/grappler/optimizers/custom_graph_optimizer_registry.cc:113] Plugin optimizer for device_type GPU is enabled.\n"
          ]
        },
        {
          "name": "stdout",
          "output_type": "stream",
          "text": [
            "1/1 [==============================] - 0s 37ms/step\n",
            "1/1 [==============================] - 0s 37ms/step\n"
          ]
        },
        {
          "name": "stderr",
          "output_type": "stream",
          "text": [
            "2022-09-28 00:24:08.714969: I tensorflow/core/grappler/optimizers/custom_graph_optimizer_registry.cc:113] Plugin optimizer for device_type GPU is enabled.\n",
            "2022-09-28 00:24:08.814527: I tensorflow/core/grappler/optimizers/custom_graph_optimizer_registry.cc:113] Plugin optimizer for device_type GPU is enabled.\n"
          ]
        },
        {
          "name": "stdout",
          "output_type": "stream",
          "text": [
            "1/1 [==============================] - 0s 38ms/step\n"
          ]
        },
        {
          "name": "stderr",
          "output_type": "stream",
          "text": [
            "2022-09-28 00:24:08.908381: I tensorflow/core/grappler/optimizers/custom_graph_optimizer_registry.cc:113] Plugin optimizer for device_type GPU is enabled.\n"
          ]
        },
        {
          "name": "stdout",
          "output_type": "stream",
          "text": [
            "1/1 [==============================] - 0s 35ms/step\n",
            "1/1 [==============================] - 0s 34ms/step\n"
          ]
        },
        {
          "name": "stderr",
          "output_type": "stream",
          "text": [
            "2022-09-28 00:24:09.000677: I tensorflow/core/grappler/optimizers/custom_graph_optimizer_registry.cc:113] Plugin optimizer for device_type GPU is enabled.\n",
            "2022-09-28 00:24:09.091676: I tensorflow/core/grappler/optimizers/custom_graph_optimizer_registry.cc:113] Plugin optimizer for device_type GPU is enabled.\n"
          ]
        },
        {
          "name": "stdout",
          "output_type": "stream",
          "text": [
            "1/1 [==============================] - 0s 35ms/step\n"
          ]
        },
        {
          "name": "stderr",
          "output_type": "stream",
          "text": [
            "2022-09-28 00:24:09.184875: I tensorflow/core/grappler/optimizers/custom_graph_optimizer_registry.cc:113] Plugin optimizer for device_type GPU is enabled.\n"
          ]
        },
        {
          "name": "stdout",
          "output_type": "stream",
          "text": [
            "1/1 [==============================] - 0s 35ms/step\n",
            "1/1 [==============================] - 0s 33ms/step\n"
          ]
        },
        {
          "name": "stderr",
          "output_type": "stream",
          "text": [
            "2022-09-28 00:24:09.276223: I tensorflow/core/grappler/optimizers/custom_graph_optimizer_registry.cc:113] Plugin optimizer for device_type GPU is enabled.\n",
            "2022-09-28 00:24:09.371977: I tensorflow/core/grappler/optimizers/custom_graph_optimizer_registry.cc:113] Plugin optimizer for device_type GPU is enabled.\n"
          ]
        },
        {
          "name": "stdout",
          "output_type": "stream",
          "text": [
            "1/1 [==============================] - 0s 39ms/step\n"
          ]
        },
        {
          "name": "stderr",
          "output_type": "stream",
          "text": [
            "2022-09-28 00:24:09.465984: I tensorflow/core/grappler/optimizers/custom_graph_optimizer_registry.cc:113] Plugin optimizer for device_type GPU is enabled.\n"
          ]
        },
        {
          "name": "stdout",
          "output_type": "stream",
          "text": [
            "1/1 [==============================] - 0s 37ms/step\n",
            "1/1 [==============================] - 0s 36ms/step\n"
          ]
        },
        {
          "name": "stderr",
          "output_type": "stream",
          "text": [
            "2022-09-28 00:24:09.559026: I tensorflow/core/grappler/optimizers/custom_graph_optimizer_registry.cc:113] Plugin optimizer for device_type GPU is enabled.\n",
            "2022-09-28 00:24:09.666318: I tensorflow/core/grappler/optimizers/custom_graph_optimizer_registry.cc:113] Plugin optimizer for device_type GPU is enabled.\n"
          ]
        },
        {
          "name": "stdout",
          "output_type": "stream",
          "text": [
            "1/1 [==============================] - 0s 37ms/step\n"
          ]
        },
        {
          "name": "stderr",
          "output_type": "stream",
          "text": [
            "2022-09-28 00:24:09.759715: I tensorflow/core/grappler/optimizers/custom_graph_optimizer_registry.cc:113] Plugin optimizer for device_type GPU is enabled.\n"
          ]
        },
        {
          "name": "stdout",
          "output_type": "stream",
          "text": [
            "1/1 [==============================] - 0s 36ms/step\n",
            "1/1 [==============================] - 0s 34ms/step\n"
          ]
        },
        {
          "name": "stderr",
          "output_type": "stream",
          "text": [
            "2022-09-28 00:24:09.851852: I tensorflow/core/grappler/optimizers/custom_graph_optimizer_registry.cc:113] Plugin optimizer for device_type GPU is enabled.\n",
            "2022-09-28 00:24:09.948139: I tensorflow/core/grappler/optimizers/custom_graph_optimizer_registry.cc:113] Plugin optimizer for device_type GPU is enabled.\n"
          ]
        },
        {
          "name": "stdout",
          "output_type": "stream",
          "text": [
            "1/1 [==============================] - 0s 40ms/step\n"
          ]
        },
        {
          "name": "stderr",
          "output_type": "stream",
          "text": [
            "2022-09-28 00:24:10.040151: I tensorflow/core/grappler/optimizers/custom_graph_optimizer_registry.cc:113] Plugin optimizer for device_type GPU is enabled.\n"
          ]
        },
        {
          "name": "stdout",
          "output_type": "stream",
          "text": [
            "1/1 [==============================] - 0s 39ms/step\n",
            "1/1 [==============================] - 0s 34ms/step\n"
          ]
        },
        {
          "name": "stderr",
          "output_type": "stream",
          "text": [
            "2022-09-28 00:24:10.136947: I tensorflow/core/grappler/optimizers/custom_graph_optimizer_registry.cc:113] Plugin optimizer for device_type GPU is enabled.\n",
            "2022-09-28 00:24:10.226808: I tensorflow/core/grappler/optimizers/custom_graph_optimizer_registry.cc:113] Plugin optimizer for device_type GPU is enabled.\n"
          ]
        },
        {
          "name": "stdout",
          "output_type": "stream",
          "text": [
            "1/1 [==============================] - 0s 35ms/step\n",
            "1/1 [==============================] - 0s 34ms/step\n"
          ]
        },
        {
          "name": "stderr",
          "output_type": "stream",
          "text": [
            "2022-09-28 00:24:10.317105: I tensorflow/core/grappler/optimizers/custom_graph_optimizer_registry.cc:113] Plugin optimizer for device_type GPU is enabled.\n"
          ]
        },
        {
          "name": "stdout",
          "output_type": "stream",
          "text": [
            "1/1 [==============================] - 0s 33ms/step\n"
          ]
        },
        {
          "name": "stderr",
          "output_type": "stream",
          "text": [
            "2022-09-28 00:24:10.411252: I tensorflow/core/grappler/optimizers/custom_graph_optimizer_registry.cc:113] Plugin optimizer for device_type GPU is enabled.\n",
            "2022-09-28 00:24:10.504225: I tensorflow/core/grappler/optimizers/custom_graph_optimizer_registry.cc:113] Plugin optimizer for device_type GPU is enabled.\n"
          ]
        },
        {
          "name": "stdout",
          "output_type": "stream",
          "text": [
            "1/1 [==============================] - 0s 35ms/step\n"
          ]
        },
        {
          "name": "stderr",
          "output_type": "stream",
          "text": [
            "2022-09-28 00:24:10.595357: I tensorflow/core/grappler/optimizers/custom_graph_optimizer_registry.cc:113] Plugin optimizer for device_type GPU is enabled.\n"
          ]
        },
        {
          "name": "stdout",
          "output_type": "stream",
          "text": [
            "1/1 [==============================] - 0s 37ms/step\n",
            "1/1 [==============================] - 0s 34ms/step\n"
          ]
        },
        {
          "name": "stderr",
          "output_type": "stream",
          "text": [
            "2022-09-28 00:24:10.685696: I tensorflow/core/grappler/optimizers/custom_graph_optimizer_registry.cc:113] Plugin optimizer for device_type GPU is enabled.\n",
            "2022-09-28 00:24:10.783087: I tensorflow/core/grappler/optimizers/custom_graph_optimizer_registry.cc:113] Plugin optimizer for device_type GPU is enabled.\n"
          ]
        },
        {
          "name": "stdout",
          "output_type": "stream",
          "text": [
            "1/1 [==============================] - 0s 38ms/step\n"
          ]
        },
        {
          "name": "stderr",
          "output_type": "stream",
          "text": [
            "2022-09-28 00:24:10.873167: I tensorflow/core/grappler/optimizers/custom_graph_optimizer_registry.cc:113] Plugin optimizer for device_type GPU is enabled.\n"
          ]
        },
        {
          "name": "stdout",
          "output_type": "stream",
          "text": [
            "1/1 [==============================] - 0s 34ms/step\n",
            "1/1 [==============================] - 0s 37ms/step\n"
          ]
        },
        {
          "name": "stderr",
          "output_type": "stream",
          "text": [
            "2022-09-28 00:24:10.967690: I tensorflow/core/grappler/optimizers/custom_graph_optimizer_registry.cc:113] Plugin optimizer for device_type GPU is enabled.\n",
            "2022-09-28 00:24:11.058343: I tensorflow/core/grappler/optimizers/custom_graph_optimizer_registry.cc:113] Plugin optimizer for device_type GPU is enabled.\n"
          ]
        },
        {
          "name": "stdout",
          "output_type": "stream",
          "text": [
            "1/1 [==============================] - 0s 36ms/step\n"
          ]
        },
        {
          "name": "stderr",
          "output_type": "stream",
          "text": [
            "2022-09-28 00:24:11.148828: I tensorflow/core/grappler/optimizers/custom_graph_optimizer_registry.cc:113] Plugin optimizer for device_type GPU is enabled.\n"
          ]
        },
        {
          "name": "stdout",
          "output_type": "stream",
          "text": [
            "1/1 [==============================] - 0s 33ms/step\n",
            "1/1 [==============================] - 0s 51ms/step\n"
          ]
        },
        {
          "name": "stderr",
          "output_type": "stream",
          "text": [
            "2022-09-28 00:24:11.247450: I tensorflow/core/grappler/optimizers/custom_graph_optimizer_registry.cc:113] Plugin optimizer for device_type GPU is enabled.\n"
          ]
        },
        {
          "name": "stdout",
          "output_type": "stream",
          "text": [
            "1/1 [==============================] - 0s 36ms/step\n"
          ]
        },
        {
          "name": "stderr",
          "output_type": "stream",
          "text": [
            "2022-09-28 00:24:11.354765: I tensorflow/core/grappler/optimizers/custom_graph_optimizer_registry.cc:113] Plugin optimizer for device_type GPU is enabled.\n"
          ]
        },
        {
          "name": "stdout",
          "output_type": "stream",
          "text": [
            "1/1 [==============================] - 0s 36ms/step\n",
            "1/1 [==============================] - 0s 38ms/step\n"
          ]
        },
        {
          "name": "stderr",
          "output_type": "stream",
          "text": [
            "2022-09-28 00:24:11.730178: I tensorflow/core/grappler/optimizers/custom_graph_optimizer_registry.cc:113] Plugin optimizer for device_type GPU is enabled.\n",
            "2022-09-28 00:24:11.827490: I tensorflow/core/grappler/optimizers/custom_graph_optimizer_registry.cc:113] Plugin optimizer for device_type GPU is enabled.\n",
            "2022-09-28 00:24:11.917351: I tensorflow/core/grappler/optimizers/custom_graph_optimizer_registry.cc:113] Plugin optimizer for device_type GPU is enabled.\n"
          ]
        },
        {
          "name": "stdout",
          "output_type": "stream",
          "text": [
            "1/1 [==============================] - 0s 34ms/step\n",
            "1/1 [==============================] - 0s 33ms/step\n"
          ]
        },
        {
          "name": "stderr",
          "output_type": "stream",
          "text": [
            "2022-09-28 00:24:12.008658: I tensorflow/core/grappler/optimizers/custom_graph_optimizer_registry.cc:113] Plugin optimizer for device_type GPU is enabled.\n",
            " 80%|████████  | 8/10 [00:30<00:07,  3.84s/it]"
          ]
        },
        {
          "name": "stdout",
          "output_type": "stream",
          "text": [
            "1/1 [==============================] - 0s 34ms/step\n"
          ]
        },
        {
          "name": "stderr",
          "output_type": "stream",
          "text": [
            "2022-09-28 00:24:12.100936: I tensorflow/core/grappler/optimizers/custom_graph_optimizer_registry.cc:113] Plugin optimizer for device_type GPU is enabled.\n",
            "2022-09-28 00:24:12.193512: I tensorflow/core/grappler/optimizers/custom_graph_optimizer_registry.cc:113] Plugin optimizer for device_type GPU is enabled.\n"
          ]
        },
        {
          "name": "stdout",
          "output_type": "stream",
          "text": [
            "1/1 [==============================] - 0s 34ms/step\n"
          ]
        },
        {
          "name": "stderr",
          "output_type": "stream",
          "text": [
            "2022-09-28 00:24:12.284433: I tensorflow/core/grappler/optimizers/custom_graph_optimizer_registry.cc:113] Plugin optimizer for device_type GPU is enabled.\n"
          ]
        },
        {
          "name": "stdout",
          "output_type": "stream",
          "text": [
            "1/1 [==============================] - 0s 34ms/step\n",
            "1/1 [==============================] - 0s 40ms/step\n"
          ]
        },
        {
          "name": "stderr",
          "output_type": "stream",
          "text": [
            "2022-09-28 00:24:12.386204: I tensorflow/core/grappler/optimizers/custom_graph_optimizer_registry.cc:113] Plugin optimizer for device_type GPU is enabled.\n",
            "2022-09-28 00:24:12.480170: I tensorflow/core/grappler/optimizers/custom_graph_optimizer_registry.cc:113] Plugin optimizer for device_type GPU is enabled.\n"
          ]
        },
        {
          "name": "stdout",
          "output_type": "stream",
          "text": [
            "1/1 [==============================] - 0s 35ms/step\n"
          ]
        },
        {
          "name": "stderr",
          "output_type": "stream",
          "text": [
            "2022-09-28 00:24:12.572391: I tensorflow/core/grappler/optimizers/custom_graph_optimizer_registry.cc:113] Plugin optimizer for device_type GPU is enabled.\n"
          ]
        },
        {
          "name": "stdout",
          "output_type": "stream",
          "text": [
            "1/1 [==============================] - 0s 34ms/step\n",
            "1/1 [==============================] - 0s 37ms/step\n"
          ]
        },
        {
          "name": "stderr",
          "output_type": "stream",
          "text": [
            "2022-09-28 00:24:12.661836: I tensorflow/core/grappler/optimizers/custom_graph_optimizer_registry.cc:113] Plugin optimizer for device_type GPU is enabled.\n"
          ]
        },
        {
          "name": "stdout",
          "output_type": "stream",
          "text": [
            "1/1 [==============================] - 0s 69ms/step\n"
          ]
        },
        {
          "name": "stderr",
          "output_type": "stream",
          "text": [
            "2022-09-28 00:24:12.808624: I tensorflow/core/grappler/optimizers/custom_graph_optimizer_registry.cc:113] Plugin optimizer for device_type GPU is enabled.\n"
          ]
        },
        {
          "name": "stdout",
          "output_type": "stream",
          "text": [
            "1/1 [==============================] - 0s 36ms/step\n"
          ]
        },
        {
          "name": "stderr",
          "output_type": "stream",
          "text": [
            "2022-09-28 00:24:12.957921: I tensorflow/core/grappler/optimizers/custom_graph_optimizer_registry.cc:113] Plugin optimizer for device_type GPU is enabled.\n"
          ]
        },
        {
          "name": "stdout",
          "output_type": "stream",
          "text": [
            "1/1 [==============================] - 0s 35ms/step\n"
          ]
        },
        {
          "name": "stderr",
          "output_type": "stream",
          "text": [
            "2022-09-28 00:24:13.053982: I tensorflow/core/grappler/optimizers/custom_graph_optimizer_registry.cc:113] Plugin optimizer for device_type GPU is enabled.\n",
            "2022-09-28 00:24:13.146855: I tensorflow/core/grappler/optimizers/custom_graph_optimizer_registry.cc:113] Plugin optimizer for device_type GPU is enabled.\n"
          ]
        },
        {
          "name": "stdout",
          "output_type": "stream",
          "text": [
            "1/1 [==============================] - 0s 40ms/step\n",
            "1/1 [==============================] - 0s 35ms/step\n",
            "1/1 [==============================] - 0s 34ms/step\n"
          ]
        },
        {
          "name": "stderr",
          "output_type": "stream",
          "text": [
            "2022-09-28 00:24:13.260497: I tensorflow/core/grappler/optimizers/custom_graph_optimizer_registry.cc:113] Plugin optimizer for device_type GPU is enabled.\n",
            "2022-09-28 00:24:13.350633: I tensorflow/core/grappler/optimizers/custom_graph_optimizer_registry.cc:113] Plugin optimizer for device_type GPU is enabled.\n",
            "2022-09-28 00:24:13.444483: I tensorflow/core/grappler/optimizers/custom_graph_optimizer_registry.cc:113] Plugin optimizer for device_type GPU is enabled.\n"
          ]
        },
        {
          "name": "stdout",
          "output_type": "stream",
          "text": [
            "1/1 [==============================] - 0s 43ms/step\n",
            "1/1 [==============================] - 0s 46ms/step\n",
            "1/1 [==============================] - 0s 34ms/step\n"
          ]
        },
        {
          "name": "stderr",
          "output_type": "stream",
          "text": [
            "2022-09-28 00:24:13.553880: I tensorflow/core/grappler/optimizers/custom_graph_optimizer_registry.cc:113] Plugin optimizer for device_type GPU is enabled.\n",
            "2022-09-28 00:24:13.648202: I tensorflow/core/grappler/optimizers/custom_graph_optimizer_registry.cc:113] Plugin optimizer for device_type GPU is enabled.\n",
            "2022-09-28 00:24:13.742651: I tensorflow/core/grappler/optimizers/custom_graph_optimizer_registry.cc:113] Plugin optimizer for device_type GPU is enabled.\n"
          ]
        },
        {
          "name": "stdout",
          "output_type": "stream",
          "text": [
            "1/1 [==============================] - 0s 36ms/step\n",
            "1/1 [==============================] - 0s 35ms/step\n",
            "1/1 [==============================] - 0s 34ms/step\n"
          ]
        },
        {
          "name": "stderr",
          "output_type": "stream",
          "text": [
            "2022-09-28 00:24:13.839988: I tensorflow/core/grappler/optimizers/custom_graph_optimizer_registry.cc:113] Plugin optimizer for device_type GPU is enabled.\n",
            "2022-09-28 00:24:13.931805: I tensorflow/core/grappler/optimizers/custom_graph_optimizer_registry.cc:113] Plugin optimizer for device_type GPU is enabled.\n",
            "2022-09-28 00:24:14.022822: I tensorflow/core/grappler/optimizers/custom_graph_optimizer_registry.cc:113] Plugin optimizer for device_type GPU is enabled.\n"
          ]
        },
        {
          "name": "stdout",
          "output_type": "stream",
          "text": [
            "1/1 [==============================] - 0s 38ms/step\n",
            "1/1 [==============================] - 0s 34ms/step\n",
            "1/1 [==============================] - 0s 40ms/step\n"
          ]
        },
        {
          "name": "stderr",
          "output_type": "stream",
          "text": [
            "2022-09-28 00:24:14.120933: I tensorflow/core/grappler/optimizers/custom_graph_optimizer_registry.cc:113] Plugin optimizer for device_type GPU is enabled.\n",
            "2022-09-28 00:24:14.243207: I tensorflow/core/grappler/optimizers/custom_graph_optimizer_registry.cc:113] Plugin optimizer for device_type GPU is enabled.\n"
          ]
        },
        {
          "name": "stdout",
          "output_type": "stream",
          "text": [
            "1/1 [==============================] - 0s 58ms/step\n",
            "1/1 [==============================] - 0s 34ms/step\n"
          ]
        },
        {
          "name": "stderr",
          "output_type": "stream",
          "text": [
            "2022-09-28 00:24:14.339012: I tensorflow/core/grappler/optimizers/custom_graph_optimizer_registry.cc:113] Plugin optimizer for device_type GPU is enabled.\n",
            "2022-09-28 00:24:14.453902: I tensorflow/core/grappler/optimizers/custom_graph_optimizer_registry.cc:113] Plugin optimizer for device_type GPU is enabled.\n"
          ]
        },
        {
          "name": "stdout",
          "output_type": "stream",
          "text": [
            "1/1 [==============================] - 0s 36ms/step\n",
            "1/1 [==============================] - 0s 34ms/step\n"
          ]
        },
        {
          "name": "stderr",
          "output_type": "stream",
          "text": [
            "2022-09-28 00:24:14.543708: I tensorflow/core/grappler/optimizers/custom_graph_optimizer_registry.cc:113] Plugin optimizer for device_type GPU is enabled.\n",
            "2022-09-28 00:24:14.639578: I tensorflow/core/grappler/optimizers/custom_graph_optimizer_registry.cc:113] Plugin optimizer for device_type GPU is enabled.\n",
            "2022-09-28 00:24:14.740086: I tensorflow/core/grappler/optimizers/custom_graph_optimizer_registry.cc:113] Plugin optimizer for device_type GPU is enabled.\n"
          ]
        },
        {
          "name": "stdout",
          "output_type": "stream",
          "text": [
            "1/1 [==============================] - 0s 36ms/step\n",
            "1/1 [==============================] - 0s 40ms/step\n",
            "1/1 [==============================] - 0s 35ms/step\n"
          ]
        },
        {
          "name": "stderr",
          "output_type": "stream",
          "text": [
            "2022-09-28 00:24:14.835827: I tensorflow/core/grappler/optimizers/custom_graph_optimizer_registry.cc:113] Plugin optimizer for device_type GPU is enabled.\n",
            "2022-09-28 00:24:14.931244: I tensorflow/core/grappler/optimizers/custom_graph_optimizer_registry.cc:113] Plugin optimizer for device_type GPU is enabled.\n",
            "2022-09-28 00:24:15.030169: I tensorflow/core/grappler/optimizers/custom_graph_optimizer_registry.cc:113] Plugin optimizer for device_type GPU is enabled.\n"
          ]
        },
        {
          "name": "stdout",
          "output_type": "stream",
          "text": [
            "1/1 [==============================] - 0s 36ms/step\n",
            "1/1 [==============================] - 0s 34ms/step\n",
            "1/1 [==============================] - 0s 34ms/step\n"
          ]
        },
        {
          "name": "stderr",
          "output_type": "stream",
          "text": [
            "2022-09-28 00:24:15.125289: I tensorflow/core/grappler/optimizers/custom_graph_optimizer_registry.cc:113] Plugin optimizer for device_type GPU is enabled.\n",
            "2022-09-28 00:24:15.216069: I tensorflow/core/grappler/optimizers/custom_graph_optimizer_registry.cc:113] Plugin optimizer for device_type GPU is enabled.\n",
            "2022-09-28 00:24:15.307656: I tensorflow/core/grappler/optimizers/custom_graph_optimizer_registry.cc:113] Plugin optimizer for device_type GPU is enabled.\n"
          ]
        },
        {
          "name": "stdout",
          "output_type": "stream",
          "text": [
            "1/1 [==============================] - 0s 35ms/step\n",
            "1/1 [==============================] - 0s 37ms/step\n",
            "1/1 [==============================] - 0s 34ms/step\n"
          ]
        },
        {
          "name": "stderr",
          "output_type": "stream",
          "text": [
            "2022-09-28 00:24:15.399729: I tensorflow/core/grappler/optimizers/custom_graph_optimizer_registry.cc:113] Plugin optimizer for device_type GPU is enabled.\n",
            "2022-09-28 00:24:15.490075: I tensorflow/core/grappler/optimizers/custom_graph_optimizer_registry.cc:113] Plugin optimizer for device_type GPU is enabled.\n",
            "2022-09-28 00:24:15.583314: I tensorflow/core/grappler/optimizers/custom_graph_optimizer_registry.cc:113] Plugin optimizer for device_type GPU is enabled.\n"
          ]
        },
        {
          "name": "stdout",
          "output_type": "stream",
          "text": [
            "1/1 [==============================] - 0s 34ms/step\n",
            "1/1 [==============================] - 0s 36ms/step\n"
          ]
        },
        {
          "name": "stderr",
          "output_type": "stream",
          "text": [
            "2022-09-28 00:24:15.673800: I tensorflow/core/grappler/optimizers/custom_graph_optimizer_registry.cc:113] Plugin optimizer for device_type GPU is enabled.\n",
            " 90%|█████████ | 9/10 [00:34<00:03,  3.78s/it]"
          ]
        },
        {
          "name": "stdout",
          "output_type": "stream",
          "text": [
            "1/1 [==============================] - 0s 34ms/step\n"
          ]
        },
        {
          "name": "stderr",
          "output_type": "stream",
          "text": [
            "2022-09-28 00:24:15.767999: I tensorflow/core/grappler/optimizers/custom_graph_optimizer_registry.cc:113] Plugin optimizer for device_type GPU is enabled.\n",
            "2022-09-28 00:24:15.859222: I tensorflow/core/grappler/optimizers/custom_graph_optimizer_registry.cc:113] Plugin optimizer for device_type GPU is enabled.\n"
          ]
        },
        {
          "name": "stdout",
          "output_type": "stream",
          "text": [
            "1/1 [==============================] - 0s 36ms/step\n"
          ]
        },
        {
          "name": "stderr",
          "output_type": "stream",
          "text": [
            "2022-09-28 00:24:15.952094: I tensorflow/core/grappler/optimizers/custom_graph_optimizer_registry.cc:113] Plugin optimizer for device_type GPU is enabled.\n"
          ]
        },
        {
          "name": "stdout",
          "output_type": "stream",
          "text": [
            "1/1 [==============================] - 0s 35ms/step\n",
            "1/1 [==============================] - 0s 34ms/step\n"
          ]
        },
        {
          "name": "stderr",
          "output_type": "stream",
          "text": [
            "2022-09-28 00:24:16.044713: I tensorflow/core/grappler/optimizers/custom_graph_optimizer_registry.cc:113] Plugin optimizer for device_type GPU is enabled.\n",
            "2022-09-28 00:24:16.135246: I tensorflow/core/grappler/optimizers/custom_graph_optimizer_registry.cc:113] Plugin optimizer for device_type GPU is enabled.\n"
          ]
        },
        {
          "name": "stdout",
          "output_type": "stream",
          "text": [
            "1/1 [==============================] - 0s 36ms/step\n"
          ]
        },
        {
          "name": "stderr",
          "output_type": "stream",
          "text": [
            "2022-09-28 00:24:16.228393: I tensorflow/core/grappler/optimizers/custom_graph_optimizer_registry.cc:113] Plugin optimizer for device_type GPU is enabled.\n"
          ]
        },
        {
          "name": "stdout",
          "output_type": "stream",
          "text": [
            "1/1 [==============================] - 0s 35ms/step\n",
            "1/1 [==============================] - 0s 34ms/step\n"
          ]
        },
        {
          "name": "stderr",
          "output_type": "stream",
          "text": [
            "2022-09-28 00:24:16.318583: I tensorflow/core/grappler/optimizers/custom_graph_optimizer_registry.cc:113] Plugin optimizer for device_type GPU is enabled.\n",
            "2022-09-28 00:24:16.413758: I tensorflow/core/grappler/optimizers/custom_graph_optimizer_registry.cc:113] Plugin optimizer for device_type GPU is enabled.\n"
          ]
        },
        {
          "name": "stdout",
          "output_type": "stream",
          "text": [
            "1/1 [==============================] - 0s 35ms/step\n"
          ]
        },
        {
          "name": "stderr",
          "output_type": "stream",
          "text": [
            "2022-09-28 00:24:16.508294: I tensorflow/core/grappler/optimizers/custom_graph_optimizer_registry.cc:113] Plugin optimizer for device_type GPU is enabled.\n"
          ]
        },
        {
          "name": "stdout",
          "output_type": "stream",
          "text": [
            "1/1 [==============================] - 0s 39ms/step\n",
            "1/1 [==============================] - 0s 34ms/step\n"
          ]
        },
        {
          "name": "stderr",
          "output_type": "stream",
          "text": [
            "2022-09-28 00:24:16.601541: I tensorflow/core/grappler/optimizers/custom_graph_optimizer_registry.cc:113] Plugin optimizer for device_type GPU is enabled.\n",
            "2022-09-28 00:24:16.697555: I tensorflow/core/grappler/optimizers/custom_graph_optimizer_registry.cc:113] Plugin optimizer for device_type GPU is enabled.\n"
          ]
        },
        {
          "name": "stdout",
          "output_type": "stream",
          "text": [
            "1/1 [==============================] - 0s 36ms/step\n"
          ]
        },
        {
          "name": "stderr",
          "output_type": "stream",
          "text": [
            "2022-09-28 00:24:16.795941: I tensorflow/core/grappler/optimizers/custom_graph_optimizer_registry.cc:113] Plugin optimizer for device_type GPU is enabled.\n"
          ]
        },
        {
          "name": "stdout",
          "output_type": "stream",
          "text": [
            "1/1 [==============================] - 0s 34ms/step\n",
            "1/1 [==============================] - 0s 42ms/step\n"
          ]
        },
        {
          "name": "stderr",
          "output_type": "stream",
          "text": [
            "2022-09-28 00:24:16.935390: I tensorflow/core/grappler/optimizers/custom_graph_optimizer_registry.cc:113] Plugin optimizer for device_type GPU is enabled.\n"
          ]
        },
        {
          "name": "stdout",
          "output_type": "stream",
          "text": [
            "1/1 [==============================] - 0s 37ms/step\n"
          ]
        },
        {
          "name": "stderr",
          "output_type": "stream",
          "text": [
            "2022-09-28 00:24:17.043896: I tensorflow/core/grappler/optimizers/custom_graph_optimizer_registry.cc:113] Plugin optimizer for device_type GPU is enabled.\n"
          ]
        },
        {
          "name": "stdout",
          "output_type": "stream",
          "text": [
            "1/1 [==============================] - 0s 42ms/step\n"
          ]
        },
        {
          "name": "stderr",
          "output_type": "stream",
          "text": [
            "2022-09-28 00:24:17.147871: I tensorflow/core/grappler/optimizers/custom_graph_optimizer_registry.cc:113] Plugin optimizer for device_type GPU is enabled.\n"
          ]
        },
        {
          "name": "stdout",
          "output_type": "stream",
          "text": [
            "1/1 [==============================] - 0s 49ms/step\n"
          ]
        },
        {
          "name": "stderr",
          "output_type": "stream",
          "text": [
            "2022-09-28 00:24:17.259406: I tensorflow/core/grappler/optimizers/custom_graph_optimizer_registry.cc:113] Plugin optimizer for device_type GPU is enabled.\n"
          ]
        },
        {
          "name": "stdout",
          "output_type": "stream",
          "text": [
            "1/1 [==============================] - 0s 39ms/step\n"
          ]
        },
        {
          "name": "stderr",
          "output_type": "stream",
          "text": [
            "2022-09-28 00:24:17.366189: I tensorflow/core/grappler/optimizers/custom_graph_optimizer_registry.cc:113] Plugin optimizer for device_type GPU is enabled.\n"
          ]
        },
        {
          "name": "stdout",
          "output_type": "stream",
          "text": [
            "1/1 [==============================] - 0s 36ms/step\n"
          ]
        },
        {
          "name": "stderr",
          "output_type": "stream",
          "text": [
            "2022-09-28 00:24:17.462860: I tensorflow/core/grappler/optimizers/custom_graph_optimizer_registry.cc:113] Plugin optimizer for device_type GPU is enabled.\n",
            "2022-09-28 00:24:17.555119: I tensorflow/core/grappler/optimizers/custom_graph_optimizer_registry.cc:113] Plugin optimizer for device_type GPU is enabled.\n"
          ]
        },
        {
          "name": "stdout",
          "output_type": "stream",
          "text": [
            "1/1 [==============================] - 0s 34ms/step\n"
          ]
        },
        {
          "name": "stderr",
          "output_type": "stream",
          "text": [
            "2022-09-28 00:24:17.650421: I tensorflow/core/grappler/optimizers/custom_graph_optimizer_registry.cc:113] Plugin optimizer for device_type GPU is enabled.\n"
          ]
        },
        {
          "name": "stdout",
          "output_type": "stream",
          "text": [
            "1/1 [==============================] - 0s 35ms/step\n",
            "1/1 [==============================] - 0s 36ms/step\n"
          ]
        },
        {
          "name": "stderr",
          "output_type": "stream",
          "text": [
            "2022-09-28 00:24:17.743561: I tensorflow/core/grappler/optimizers/custom_graph_optimizer_registry.cc:113] Plugin optimizer for device_type GPU is enabled.\n",
            "2022-09-28 00:24:17.832332: I tensorflow/core/grappler/optimizers/custom_graph_optimizer_registry.cc:113] Plugin optimizer for device_type GPU is enabled.\n"
          ]
        },
        {
          "name": "stdout",
          "output_type": "stream",
          "text": [
            "1/1 [==============================] - 0s 34ms/step\n",
            "1/1 [==============================] - ETA: 0s"
          ]
        },
        {
          "name": "stderr",
          "output_type": "stream",
          "text": [
            "2022-09-28 00:24:17.924153: I tensorflow/core/grappler/optimizers/custom_graph_optimizer_registry.cc:113] Plugin optimizer for device_type GPU is enabled.\n"
          ]
        },
        {
          "name": "stdout",
          "output_type": "stream",
          "text": [
            "1/1 [==============================] - 0s 34ms/step\n",
            "1/1 [==============================] - 0s 34ms/step\n"
          ]
        },
        {
          "name": "stderr",
          "output_type": "stream",
          "text": [
            "2022-09-28 00:24:18.014836: I tensorflow/core/grappler/optimizers/custom_graph_optimizer_registry.cc:113] Plugin optimizer for device_type GPU is enabled.\n",
            "2022-09-28 00:24:18.107070: I tensorflow/core/grappler/optimizers/custom_graph_optimizer_registry.cc:113] Plugin optimizer for device_type GPU is enabled.\n"
          ]
        },
        {
          "name": "stdout",
          "output_type": "stream",
          "text": [
            "1/1 [==============================] - 0s 36ms/step\n"
          ]
        },
        {
          "name": "stderr",
          "output_type": "stream",
          "text": [
            "2022-09-28 00:24:18.198620: I tensorflow/core/grappler/optimizers/custom_graph_optimizer_registry.cc:113] Plugin optimizer for device_type GPU is enabled.\n"
          ]
        },
        {
          "name": "stdout",
          "output_type": "stream",
          "text": [
            "1/1 [==============================] - 0s 36ms/step\n",
            "1/1 [==============================] - 0s 35ms/step\n"
          ]
        },
        {
          "name": "stderr",
          "output_type": "stream",
          "text": [
            "2022-09-28 00:24:18.289959: I tensorflow/core/grappler/optimizers/custom_graph_optimizer_registry.cc:113] Plugin optimizer for device_type GPU is enabled.\n",
            "2022-09-28 00:24:18.384865: I tensorflow/core/grappler/optimizers/custom_graph_optimizer_registry.cc:113] Plugin optimizer for device_type GPU is enabled.\n"
          ]
        },
        {
          "name": "stdout",
          "output_type": "stream",
          "text": [
            "1/1 [==============================] - 0s 35ms/step\n"
          ]
        },
        {
          "name": "stderr",
          "output_type": "stream",
          "text": [
            "2022-09-28 00:24:18.475405: I tensorflow/core/grappler/optimizers/custom_graph_optimizer_registry.cc:113] Plugin optimizer for device_type GPU is enabled.\n"
          ]
        },
        {
          "name": "stdout",
          "output_type": "stream",
          "text": [
            "1/1 [==============================] - 0s 35ms/step\n",
            "1/1 [==============================] - 0s 34ms/step\n"
          ]
        },
        {
          "name": "stderr",
          "output_type": "stream",
          "text": [
            "2022-09-28 00:24:18.569108: I tensorflow/core/grappler/optimizers/custom_graph_optimizer_registry.cc:113] Plugin optimizer for device_type GPU is enabled.\n",
            "2022-09-28 00:24:18.660255: I tensorflow/core/grappler/optimizers/custom_graph_optimizer_registry.cc:113] Plugin optimizer for device_type GPU is enabled.\n"
          ]
        },
        {
          "name": "stdout",
          "output_type": "stream",
          "text": [
            "1/1 [==============================] - 0s 34ms/step\n"
          ]
        },
        {
          "name": "stderr",
          "output_type": "stream",
          "text": [
            "2022-09-28 00:24:18.762355: I tensorflow/core/grappler/optimizers/custom_graph_optimizer_registry.cc:113] Plugin optimizer for device_type GPU is enabled.\n"
          ]
        },
        {
          "name": "stdout",
          "output_type": "stream",
          "text": [
            "1/1 [==============================] - 0s 35ms/step\n",
            "1/1 [==============================] - 0s 331ms/step\n",
            "1/1 [==============================] - 0s 35ms/step\n"
          ]
        },
        {
          "name": "stderr",
          "output_type": "stream",
          "text": [
            "2022-09-28 00:24:19.155923: I tensorflow/core/grappler/optimizers/custom_graph_optimizer_registry.cc:113] Plugin optimizer for device_type GPU is enabled.\n",
            "2022-09-28 00:24:19.255129: I tensorflow/core/grappler/optimizers/custom_graph_optimizer_registry.cc:113] Plugin optimizer for device_type GPU is enabled.\n",
            "2022-09-28 00:24:19.351219: I tensorflow/core/grappler/optimizers/custom_graph_optimizer_registry.cc:113] Plugin optimizer for device_type GPU is enabled.\n"
          ]
        },
        {
          "name": "stdout",
          "output_type": "stream",
          "text": [
            "1/1 [==============================] - 0s 56ms/step\n",
            "1/1 [==============================] - 0s 34ms/step\n",
            "1/1 [==============================] - 0s 34ms/step\n"
          ]
        },
        {
          "name": "stderr",
          "output_type": "stream",
          "text": [
            "2022-09-28 00:24:19.460224: I tensorflow/core/grappler/optimizers/custom_graph_optimizer_registry.cc:113] Plugin optimizer for device_type GPU is enabled.\n",
            "2022-09-28 00:24:19.552009: I tensorflow/core/grappler/optimizers/custom_graph_optimizer_registry.cc:113] Plugin optimizer for device_type GPU is enabled.\n",
            "100%|██████████| 10/10 [00:38<00:00,  3.85s/it]\n"
          ]
        }
      ],
      "source": [
        "zero_csv = [0 for i in range(14)]  # 시점이 비어있는 데이터 0으로 채우기 위한 변수\n",
        "\n",
        "for i in tqdm(range(10)):\n",
        "    data_list = glob(f'./aT_data/data/test/set_{i}/*.csv')\n",
        "    for idx,j in enumerate(data_list):\n",
        "        df = pd.read_csv(j)\n",
        "        \n",
        "        if len(df) == 0:\n",
        "            df['zero_non'] = zero_csv\n",
        "            df = df.fillna(0)\n",
        "            df.drop('zero_non', axis=1, inplace=True)\n",
        "\n",
        "        file_number = j.split('test_')[1].split('.')[0]\n",
        "\n",
        "        # 사용할 열 선택 및 index 설정\n",
        "\n",
        "        df = feature_engineer(df)\n",
        "        df = df[[c for c in df.columns if c != '해당일자_전체평균가격(원)']]\n",
        "\n",
        "        df.set_index('datadate', drop=True, inplace=True)\n",
        "        \n",
        "        # # nan 처리\n",
        "        # df = df.replace({' ': np.nan})\n",
        "        # df = df.fillna(0)\n",
        "\n",
        "        # # train input 과 형상 맞추기\n",
        "        # add_col = [i for i in check_col if i not in df.columns]\n",
        "\n",
        "        # for a in add_col:\n",
        "        #     df[a] = 0\n",
        "\n",
        "        # # ' ' -> nan 으로 변경\n",
        "        # for a in df.columns:\n",
        "        #     df[a] = df[a].replace({' ': np.nan})\n",
        "\n",
        "        # # nan 처리\n",
        "        # df = df.fillna(0)\n",
        "        # # df = df.interpolate(method = 'values')\n",
        "\n",
        "        df = pd.DataFrame(scalers[file_number].transform(df))\n",
        "\n",
        "        # x_test  생성\n",
        "        df_test = astype_data(df.values.reshape(1, df.values.shape[0], df.values.shape[1]))\n",
        "\n",
        "        # model test\n",
        "        if os.path.exists(f'./model_output/{test_num}') == False:\n",
        "            os.mkdir(f'./model_output/{test_num}')\n",
        "\n",
        "        if os.path.exists(f'./model_output/{test_num}/set_{i}') == False:\n",
        "            os.mkdir(f'./model_output/{test_num}/set_{i}')\n",
        "\n",
        "        # 해당하는 모델 불러오기\n",
        "        model_test = tf.keras.models.load_model(f'./model/transformer-{file_number}-{epoch}-{batch}.h5')\n",
        "        pred = model_test.predict(df_test)\n",
        "\n",
        "\n",
        "        # 결과 저장\n",
        "        save_df = pd.DataFrame(pred).T\n",
        "        save_df.to_csv(f'./model_output/{test_num}/set_{i}/predict_{file_number}.csv', index=False)"
      ]
    },
    {
      "cell_type": "markdown",
      "metadata": {
        "id": "z4MQRAWbJ8fW"
      },
      "source": [
        "&nbsp;"
      ]
    },
    {
      "cell_type": "markdown",
      "metadata": {
        "id": "pXoDxJGKJ8fX"
      },
      "source": [
        "## 정답 제출 파일생성"
      ]
    },
    {
      "cell_type": "code",
      "execution_count": 109,
      "metadata": {
        "id": "VXtt4y4vJ8fY"
      },
      "outputs": [
        {
          "name": "stderr",
          "output_type": "stream",
          "text": [
            "100%|██████████| 10/10 [00:01<00:00,  6.90it/s]\n"
          ]
        }
      ],
      "source": [
        "for k in tqdm(range(10)):\n",
        "  globals()[f'set_df_{k}'] = pd.DataFrame()\n",
        "  answer_df_list = glob(f'./model_output/{test_num}/set_{k}/*.csv') # 예측한 결과 불러오기\n",
        "  pum_list = glob(f'./aT_data/aT_test_raw/sep_{k}/*.csv') # 기존 test input 불러오기\n",
        "  pummok = [a for a in pum_list if 'pummok' in a.split('/')[-1]]\n",
        "\n",
        "  for i in answer_df_list:\n",
        "    df = pd.read_csv(i)\n",
        "    number = i.split('_')[-1].split('.')[0]\n",
        "\n",
        "    base_number = 0\n",
        "    for p in pummok:\n",
        "      if number == p.split('_')[-1].split('.')[0]:\n",
        "        pum_df = pd.read_csv(p)\n",
        "\n",
        "        if len(pum_df) != 0:\n",
        "           base_number = pum_df.iloc[len(pum_df)-1]['해당일자_전체평균가격(원)']  # 기존 각 sep 마다 test input의 마지막 target 값 가져오기 (변동률 계산을 위해)\n",
        "        else:\n",
        "          base_number = np.nan\n",
        "\n",
        "    globals()[f'set_df_{k}'][f'품목{number}']  = [base_number] + list(df[df.columns[-1]].values) # 각 품목당 순서를 t, t+1 ... t+28 로 변경\n",
        "\n",
        "  globals()[f'set_df_{k}'] = globals()[f'set_df_{k}'][[f'품목{col}' for col in range(37)]] # 열 순서를 품목0 ~ 품목36 으로 변경"
      ]
    },
    {
      "cell_type": "markdown",
      "metadata": {
        "id": "v2NbT2FCJ8fZ"
      },
      "source": [
        "- 변동률 계산을 위한 t, t+1 ... t+28 설정"
      ]
    },
    {
      "cell_type": "code",
      "execution_count": 110,
      "metadata": {
        "id": "sqT2NTY7J8fa"
      },
      "outputs": [
        {
          "data": {
            "text/html": [
              "<div>\n",
              "<style scoped>\n",
              "    .dataframe tbody tr th:only-of-type {\n",
              "        vertical-align: middle;\n",
              "    }\n",
              "\n",
              "    .dataframe tbody tr th {\n",
              "        vertical-align: top;\n",
              "    }\n",
              "\n",
              "    .dataframe thead th {\n",
              "        text-align: right;\n",
              "    }\n",
              "</style>\n",
              "<table border=\"1\" class=\"dataframe\">\n",
              "  <thead>\n",
              "    <tr style=\"text-align: right;\">\n",
              "      <th></th>\n",
              "      <th>품목0</th>\n",
              "      <th>품목1</th>\n",
              "      <th>품목2</th>\n",
              "      <th>품목3</th>\n",
              "      <th>품목4</th>\n",
              "      <th>품목5</th>\n",
              "      <th>품목6</th>\n",
              "      <th>품목7</th>\n",
              "      <th>품목8</th>\n",
              "      <th>품목9</th>\n",
              "      <th>...</th>\n",
              "      <th>품목27</th>\n",
              "      <th>품목28</th>\n",
              "      <th>품목29</th>\n",
              "      <th>품목30</th>\n",
              "      <th>품목31</th>\n",
              "      <th>품목32</th>\n",
              "      <th>품목33</th>\n",
              "      <th>품목34</th>\n",
              "      <th>품목35</th>\n",
              "      <th>품목36</th>\n",
              "    </tr>\n",
              "  </thead>\n",
              "  <tbody>\n",
              "    <tr>\n",
              "      <th>0</th>\n",
              "      <td>3871.125000</td>\n",
              "      <td>1362.117613</td>\n",
              "      <td>2909.783785</td>\n",
              "      <td>3400.075583</td>\n",
              "      <td>3947.809169</td>\n",
              "      <td>9253.947514</td>\n",
              "      <td>2717.280000</td>\n",
              "      <td>3361.030923</td>\n",
              "      <td>4911.899864</td>\n",
              "      <td>1173.018633</td>\n",
              "      <td>...</td>\n",
              "      <td>8640.811309</td>\n",
              "      <td>602.005658</td>\n",
              "      <td>1105.412623</td>\n",
              "      <td>1566.274239</td>\n",
              "      <td>3633.464557</td>\n",
              "      <td>5454.710444</td>\n",
              "      <td>5619.188362</td>\n",
              "      <td>5230.620027</td>\n",
              "      <td>2905.100888</td>\n",
              "      <td>2087.675036</td>\n",
              "    </tr>\n",
              "    <tr>\n",
              "      <th>1</th>\n",
              "      <td>-0.081870</td>\n",
              "      <td>0.074852</td>\n",
              "      <td>-0.154469</td>\n",
              "      <td>-0.001254</td>\n",
              "      <td>0.135612</td>\n",
              "      <td>-0.107048</td>\n",
              "      <td>0.133038</td>\n",
              "      <td>-0.040790</td>\n",
              "      <td>0.025041</td>\n",
              "      <td>-0.039719</td>\n",
              "      <td>...</td>\n",
              "      <td>-0.171847</td>\n",
              "      <td>-0.079323</td>\n",
              "      <td>0.052147</td>\n",
              "      <td>-0.294156</td>\n",
              "      <td>0.093019</td>\n",
              "      <td>-0.022026</td>\n",
              "      <td>-0.312477</td>\n",
              "      <td>-0.102238</td>\n",
              "      <td>0.032309</td>\n",
              "      <td>-0.000369</td>\n",
              "    </tr>\n",
              "    <tr>\n",
              "      <th>2</th>\n",
              "      <td>-0.110311</td>\n",
              "      <td>-0.005178</td>\n",
              "      <td>0.041741</td>\n",
              "      <td>0.095035</td>\n",
              "      <td>0.101359</td>\n",
              "      <td>-0.230833</td>\n",
              "      <td>0.179566</td>\n",
              "      <td>-0.237868</td>\n",
              "      <td>0.079583</td>\n",
              "      <td>-0.048661</td>\n",
              "      <td>...</td>\n",
              "      <td>-0.421356</td>\n",
              "      <td>0.035242</td>\n",
              "      <td>-0.139542</td>\n",
              "      <td>-0.089146</td>\n",
              "      <td>-0.042147</td>\n",
              "      <td>-0.318338</td>\n",
              "      <td>-0.013110</td>\n",
              "      <td>0.041940</td>\n",
              "      <td>-0.008803</td>\n",
              "      <td>-0.153753</td>\n",
              "    </tr>\n",
              "    <tr>\n",
              "      <th>3</th>\n",
              "      <td>-0.003078</td>\n",
              "      <td>-0.191846</td>\n",
              "      <td>-0.148452</td>\n",
              "      <td>-0.265654</td>\n",
              "      <td>-0.109891</td>\n",
              "      <td>-0.019821</td>\n",
              "      <td>0.055776</td>\n",
              "      <td>-0.167166</td>\n",
              "      <td>-0.039779</td>\n",
              "      <td>-0.092593</td>\n",
              "      <td>...</td>\n",
              "      <td>-0.161707</td>\n",
              "      <td>0.030426</td>\n",
              "      <td>-0.185304</td>\n",
              "      <td>-0.083325</td>\n",
              "      <td>-0.091512</td>\n",
              "      <td>0.048788</td>\n",
              "      <td>0.074908</td>\n",
              "      <td>-0.171834</td>\n",
              "      <td>-0.277242</td>\n",
              "      <td>0.112325</td>\n",
              "    </tr>\n",
              "    <tr>\n",
              "      <th>4</th>\n",
              "      <td>-0.058841</td>\n",
              "      <td>-0.009157</td>\n",
              "      <td>-0.023146</td>\n",
              "      <td>-0.198924</td>\n",
              "      <td>0.103976</td>\n",
              "      <td>-0.069671</td>\n",
              "      <td>-0.060409</td>\n",
              "      <td>0.018535</td>\n",
              "      <td>-0.127289</td>\n",
              "      <td>0.085170</td>\n",
              "      <td>...</td>\n",
              "      <td>0.110693</td>\n",
              "      <td>0.066697</td>\n",
              "      <td>-0.030572</td>\n",
              "      <td>-0.143473</td>\n",
              "      <td>0.143820</td>\n",
              "      <td>0.154136</td>\n",
              "      <td>0.031341</td>\n",
              "      <td>-0.015224</td>\n",
              "      <td>-0.117547</td>\n",
              "      <td>-0.119274</td>\n",
              "    </tr>\n",
              "    <tr>\n",
              "      <th>5</th>\n",
              "      <td>-0.047421</td>\n",
              "      <td>-0.032627</td>\n",
              "      <td>0.057941</td>\n",
              "      <td>0.047827</td>\n",
              "      <td>0.003260</td>\n",
              "      <td>0.147030</td>\n",
              "      <td>0.046323</td>\n",
              "      <td>-0.129557</td>\n",
              "      <td>0.057108</td>\n",
              "      <td>-0.042467</td>\n",
              "      <td>...</td>\n",
              "      <td>-0.288010</td>\n",
              "      <td>-0.193166</td>\n",
              "      <td>-0.193611</td>\n",
              "      <td>0.045949</td>\n",
              "      <td>-0.003679</td>\n",
              "      <td>-0.331364</td>\n",
              "      <td>0.173600</td>\n",
              "      <td>-0.017443</td>\n",
              "      <td>-0.147110</td>\n",
              "      <td>-0.194647</td>\n",
              "    </tr>\n",
              "    <tr>\n",
              "      <th>6</th>\n",
              "      <td>-0.105600</td>\n",
              "      <td>0.057912</td>\n",
              "      <td>-0.206427</td>\n",
              "      <td>-0.013137</td>\n",
              "      <td>0.040522</td>\n",
              "      <td>-0.060739</td>\n",
              "      <td>0.102488</td>\n",
              "      <td>-0.214844</td>\n",
              "      <td>-0.092035</td>\n",
              "      <td>-0.056977</td>\n",
              "      <td>...</td>\n",
              "      <td>-0.028958</td>\n",
              "      <td>-0.057511</td>\n",
              "      <td>-0.009862</td>\n",
              "      <td>-0.011015</td>\n",
              "      <td>0.057403</td>\n",
              "      <td>-0.133926</td>\n",
              "      <td>-0.039363</td>\n",
              "      <td>0.005048</td>\n",
              "      <td>0.048370</td>\n",
              "      <td>0.065178</td>\n",
              "    </tr>\n",
              "    <tr>\n",
              "      <th>7</th>\n",
              "      <td>0.156740</td>\n",
              "      <td>0.027145</td>\n",
              "      <td>-0.198239</td>\n",
              "      <td>-0.153262</td>\n",
              "      <td>0.160374</td>\n",
              "      <td>-0.014653</td>\n",
              "      <td>0.022074</td>\n",
              "      <td>0.043407</td>\n",
              "      <td>0.088578</td>\n",
              "      <td>0.003393</td>\n",
              "      <td>...</td>\n",
              "      <td>-0.290767</td>\n",
              "      <td>0.113928</td>\n",
              "      <td>-0.017917</td>\n",
              "      <td>0.040937</td>\n",
              "      <td>0.058994</td>\n",
              "      <td>-0.161599</td>\n",
              "      <td>-0.013443</td>\n",
              "      <td>-0.137775</td>\n",
              "      <td>-0.082267</td>\n",
              "      <td>-0.015270</td>\n",
              "    </tr>\n",
              "    <tr>\n",
              "      <th>8</th>\n",
              "      <td>-0.107123</td>\n",
              "      <td>0.091745</td>\n",
              "      <td>0.080058</td>\n",
              "      <td>-0.111577</td>\n",
              "      <td>0.246185</td>\n",
              "      <td>0.247396</td>\n",
              "      <td>-0.029416</td>\n",
              "      <td>-0.097551</td>\n",
              "      <td>-0.070470</td>\n",
              "      <td>-0.089310</td>\n",
              "      <td>...</td>\n",
              "      <td>-0.119534</td>\n",
              "      <td>-0.117810</td>\n",
              "      <td>-0.002882</td>\n",
              "      <td>-0.035233</td>\n",
              "      <td>0.059844</td>\n",
              "      <td>-0.446125</td>\n",
              "      <td>0.122083</td>\n",
              "      <td>-0.171744</td>\n",
              "      <td>-0.124691</td>\n",
              "      <td>0.094922</td>\n",
              "    </tr>\n",
              "    <tr>\n",
              "      <th>9</th>\n",
              "      <td>-0.117043</td>\n",
              "      <td>-0.058097</td>\n",
              "      <td>-0.335975</td>\n",
              "      <td>-0.124769</td>\n",
              "      <td>-0.147788</td>\n",
              "      <td>-0.061768</td>\n",
              "      <td>0.099191</td>\n",
              "      <td>-0.200936</td>\n",
              "      <td>-0.097182</td>\n",
              "      <td>-0.148130</td>\n",
              "      <td>...</td>\n",
              "      <td>-0.045754</td>\n",
              "      <td>-0.094014</td>\n",
              "      <td>-0.111134</td>\n",
              "      <td>-0.580332</td>\n",
              "      <td>-0.069177</td>\n",
              "      <td>-0.112930</td>\n",
              "      <td>0.107484</td>\n",
              "      <td>-0.017990</td>\n",
              "      <td>0.122845</td>\n",
              "      <td>-0.224561</td>\n",
              "    </tr>\n",
              "    <tr>\n",
              "      <th>10</th>\n",
              "      <td>-0.259170</td>\n",
              "      <td>-0.016049</td>\n",
              "      <td>-0.036641</td>\n",
              "      <td>-0.128419</td>\n",
              "      <td>-0.302123</td>\n",
              "      <td>0.161468</td>\n",
              "      <td>0.044127</td>\n",
              "      <td>-0.031470</td>\n",
              "      <td>0.100006</td>\n",
              "      <td>-0.060673</td>\n",
              "      <td>...</td>\n",
              "      <td>-0.147421</td>\n",
              "      <td>-0.051935</td>\n",
              "      <td>-0.035892</td>\n",
              "      <td>0.051246</td>\n",
              "      <td>-0.043945</td>\n",
              "      <td>-0.012779</td>\n",
              "      <td>-0.027481</td>\n",
              "      <td>0.013823</td>\n",
              "      <td>-0.033609</td>\n",
              "      <td>-0.027979</td>\n",
              "    </tr>\n",
              "    <tr>\n",
              "      <th>11</th>\n",
              "      <td>-0.024875</td>\n",
              "      <td>0.000677</td>\n",
              "      <td>-0.007710</td>\n",
              "      <td>-0.277879</td>\n",
              "      <td>-0.085875</td>\n",
              "      <td>-0.140096</td>\n",
              "      <td>0.139189</td>\n",
              "      <td>-0.127896</td>\n",
              "      <td>-0.015061</td>\n",
              "      <td>-0.011820</td>\n",
              "      <td>...</td>\n",
              "      <td>-0.106774</td>\n",
              "      <td>-0.101311</td>\n",
              "      <td>-0.113223</td>\n",
              "      <td>-0.238718</td>\n",
              "      <td>-0.139090</td>\n",
              "      <td>-0.177804</td>\n",
              "      <td>0.210962</td>\n",
              "      <td>-0.098473</td>\n",
              "      <td>-0.129355</td>\n",
              "      <td>0.083696</td>\n",
              "    </tr>\n",
              "    <tr>\n",
              "      <th>12</th>\n",
              "      <td>0.139238</td>\n",
              "      <td>0.133243</td>\n",
              "      <td>0.032959</td>\n",
              "      <td>0.061443</td>\n",
              "      <td>-0.075406</td>\n",
              "      <td>-0.061346</td>\n",
              "      <td>-0.019184</td>\n",
              "      <td>-0.231805</td>\n",
              "      <td>0.053138</td>\n",
              "      <td>0.006418</td>\n",
              "      <td>...</td>\n",
              "      <td>-0.227215</td>\n",
              "      <td>0.102834</td>\n",
              "      <td>0.019885</td>\n",
              "      <td>0.016758</td>\n",
              "      <td>0.037085</td>\n",
              "      <td>-0.219935</td>\n",
              "      <td>-0.087924</td>\n",
              "      <td>0.048721</td>\n",
              "      <td>0.091481</td>\n",
              "      <td>-0.077715</td>\n",
              "    </tr>\n",
              "    <tr>\n",
              "      <th>13</th>\n",
              "      <td>0.109544</td>\n",
              "      <td>0.277858</td>\n",
              "      <td>0.417621</td>\n",
              "      <td>-0.173658</td>\n",
              "      <td>-0.259824</td>\n",
              "      <td>-0.059118</td>\n",
              "      <td>-0.102884</td>\n",
              "      <td>0.106907</td>\n",
              "      <td>-0.141478</td>\n",
              "      <td>0.117480</td>\n",
              "      <td>...</td>\n",
              "      <td>-0.108160</td>\n",
              "      <td>0.006900</td>\n",
              "      <td>-0.092596</td>\n",
              "      <td>-0.040998</td>\n",
              "      <td>-0.069394</td>\n",
              "      <td>0.110091</td>\n",
              "      <td>-0.191420</td>\n",
              "      <td>-0.127351</td>\n",
              "      <td>-0.172335</td>\n",
              "      <td>0.129052</td>\n",
              "    </tr>\n",
              "    <tr>\n",
              "      <th>14</th>\n",
              "      <td>-0.040652</td>\n",
              "      <td>-0.083734</td>\n",
              "      <td>-0.055323</td>\n",
              "      <td>-0.043788</td>\n",
              "      <td>-0.002715</td>\n",
              "      <td>-0.050650</td>\n",
              "      <td>0.016674</td>\n",
              "      <td>-0.212075</td>\n",
              "      <td>-0.017714</td>\n",
              "      <td>-0.074608</td>\n",
              "      <td>...</td>\n",
              "      <td>-0.183649</td>\n",
              "      <td>0.082578</td>\n",
              "      <td>0.011431</td>\n",
              "      <td>-0.080647</td>\n",
              "      <td>-0.094621</td>\n",
              "      <td>-0.015990</td>\n",
              "      <td>0.190573</td>\n",
              "      <td>-0.059472</td>\n",
              "      <td>-0.044075</td>\n",
              "      <td>0.169148</td>\n",
              "    </tr>\n",
              "    <tr>\n",
              "      <th>15</th>\n",
              "      <td>0.168545</td>\n",
              "      <td>-0.120079</td>\n",
              "      <td>-0.140417</td>\n",
              "      <td>-0.042471</td>\n",
              "      <td>-0.204888</td>\n",
              "      <td>-0.006387</td>\n",
              "      <td>-0.034519</td>\n",
              "      <td>0.041514</td>\n",
              "      <td>0.019032</td>\n",
              "      <td>-0.009996</td>\n",
              "      <td>...</td>\n",
              "      <td>-0.237934</td>\n",
              "      <td>-0.122388</td>\n",
              "      <td>0.006491</td>\n",
              "      <td>0.016622</td>\n",
              "      <td>-0.140202</td>\n",
              "      <td>-0.365562</td>\n",
              "      <td>0.153324</td>\n",
              "      <td>-0.056913</td>\n",
              "      <td>-0.010166</td>\n",
              "      <td>-0.034754</td>\n",
              "    </tr>\n",
              "    <tr>\n",
              "      <th>16</th>\n",
              "      <td>0.138637</td>\n",
              "      <td>0.352502</td>\n",
              "      <td>-0.196422</td>\n",
              "      <td>0.092428</td>\n",
              "      <td>-0.071026</td>\n",
              "      <td>-0.017194</td>\n",
              "      <td>-0.194855</td>\n",
              "      <td>0.132270</td>\n",
              "      <td>-0.132541</td>\n",
              "      <td>-0.040108</td>\n",
              "      <td>...</td>\n",
              "      <td>-0.030160</td>\n",
              "      <td>-0.036936</td>\n",
              "      <td>-0.051189</td>\n",
              "      <td>0.046257</td>\n",
              "      <td>-0.057108</td>\n",
              "      <td>0.015906</td>\n",
              "      <td>0.139070</td>\n",
              "      <td>0.007466</td>\n",
              "      <td>-0.148644</td>\n",
              "      <td>-0.100945</td>\n",
              "    </tr>\n",
              "    <tr>\n",
              "      <th>17</th>\n",
              "      <td>-0.039581</td>\n",
              "      <td>-0.035036</td>\n",
              "      <td>0.195647</td>\n",
              "      <td>-0.003569</td>\n",
              "      <td>0.072553</td>\n",
              "      <td>-0.057721</td>\n",
              "      <td>-0.050481</td>\n",
              "      <td>-0.180750</td>\n",
              "      <td>-0.084250</td>\n",
              "      <td>0.114596</td>\n",
              "      <td>...</td>\n",
              "      <td>-0.249225</td>\n",
              "      <td>0.041907</td>\n",
              "      <td>0.096409</td>\n",
              "      <td>-0.019284</td>\n",
              "      <td>0.057313</td>\n",
              "      <td>0.014419</td>\n",
              "      <td>0.104007</td>\n",
              "      <td>0.082186</td>\n",
              "      <td>-0.033666</td>\n",
              "      <td>-0.155834</td>\n",
              "    </tr>\n",
              "    <tr>\n",
              "      <th>18</th>\n",
              "      <td>0.071576</td>\n",
              "      <td>0.108891</td>\n",
              "      <td>0.126116</td>\n",
              "      <td>0.029674</td>\n",
              "      <td>0.053017</td>\n",
              "      <td>0.109857</td>\n",
              "      <td>-0.040151</td>\n",
              "      <td>-0.120831</td>\n",
              "      <td>-0.147136</td>\n",
              "      <td>-0.030176</td>\n",
              "      <td>...</td>\n",
              "      <td>-0.149107</td>\n",
              "      <td>0.124217</td>\n",
              "      <td>0.107777</td>\n",
              "      <td>-0.092489</td>\n",
              "      <td>0.055701</td>\n",
              "      <td>0.005409</td>\n",
              "      <td>0.105781</td>\n",
              "      <td>-0.063594</td>\n",
              "      <td>-0.005673</td>\n",
              "      <td>0.179351</td>\n",
              "    </tr>\n",
              "    <tr>\n",
              "      <th>19</th>\n",
              "      <td>0.024572</td>\n",
              "      <td>-0.036787</td>\n",
              "      <td>0.170726</td>\n",
              "      <td>-0.180907</td>\n",
              "      <td>0.037347</td>\n",
              "      <td>0.282759</td>\n",
              "      <td>0.141040</td>\n",
              "      <td>-0.189867</td>\n",
              "      <td>-0.207485</td>\n",
              "      <td>0.010670</td>\n",
              "      <td>...</td>\n",
              "      <td>-0.140763</td>\n",
              "      <td>-0.113418</td>\n",
              "      <td>-0.048603</td>\n",
              "      <td>-0.074955</td>\n",
              "      <td>0.072875</td>\n",
              "      <td>-0.021642</td>\n",
              "      <td>0.262472</td>\n",
              "      <td>-0.134916</td>\n",
              "      <td>-0.023734</td>\n",
              "      <td>0.105967</td>\n",
              "    </tr>\n",
              "    <tr>\n",
              "      <th>20</th>\n",
              "      <td>0.089079</td>\n",
              "      <td>0.170271</td>\n",
              "      <td>0.529340</td>\n",
              "      <td>0.208307</td>\n",
              "      <td>0.090344</td>\n",
              "      <td>-0.058606</td>\n",
              "      <td>0.126332</td>\n",
              "      <td>0.113926</td>\n",
              "      <td>-0.134056</td>\n",
              "      <td>0.022183</td>\n",
              "      <td>...</td>\n",
              "      <td>-0.206049</td>\n",
              "      <td>0.001673</td>\n",
              "      <td>-0.005840</td>\n",
              "      <td>0.154140</td>\n",
              "      <td>-0.077155</td>\n",
              "      <td>0.053845</td>\n",
              "      <td>0.082903</td>\n",
              "      <td>-0.073456</td>\n",
              "      <td>0.057126</td>\n",
              "      <td>0.186242</td>\n",
              "    </tr>\n",
              "    <tr>\n",
              "      <th>21</th>\n",
              "      <td>0.118923</td>\n",
              "      <td>-0.079254</td>\n",
              "      <td>0.186615</td>\n",
              "      <td>-0.065229</td>\n",
              "      <td>0.100824</td>\n",
              "      <td>-0.145377</td>\n",
              "      <td>0.108828</td>\n",
              "      <td>0.168480</td>\n",
              "      <td>0.271523</td>\n",
              "      <td>0.201389</td>\n",
              "      <td>...</td>\n",
              "      <td>-0.162627</td>\n",
              "      <td>0.037873</td>\n",
              "      <td>-0.079778</td>\n",
              "      <td>-0.024787</td>\n",
              "      <td>0.035346</td>\n",
              "      <td>0.026013</td>\n",
              "      <td>0.148754</td>\n",
              "      <td>-0.063873</td>\n",
              "      <td>0.130671</td>\n",
              "      <td>0.118557</td>\n",
              "    </tr>\n",
              "    <tr>\n",
              "      <th>22</th>\n",
              "      <td>-0.061725</td>\n",
              "      <td>-0.022689</td>\n",
              "      <td>-0.179921</td>\n",
              "      <td>-0.084770</td>\n",
              "      <td>-0.119762</td>\n",
              "      <td>-0.008145</td>\n",
              "      <td>0.053697</td>\n",
              "      <td>0.137019</td>\n",
              "      <td>-0.040974</td>\n",
              "      <td>0.139015</td>\n",
              "      <td>...</td>\n",
              "      <td>0.030860</td>\n",
              "      <td>0.027359</td>\n",
              "      <td>0.014645</td>\n",
              "      <td>-0.140823</td>\n",
              "      <td>0.022483</td>\n",
              "      <td>-0.015752</td>\n",
              "      <td>0.082962</td>\n",
              "      <td>-0.016639</td>\n",
              "      <td>-0.187032</td>\n",
              "      <td>0.025130</td>\n",
              "    </tr>\n",
              "    <tr>\n",
              "      <th>23</th>\n",
              "      <td>-0.080383</td>\n",
              "      <td>0.042292</td>\n",
              "      <td>-0.185554</td>\n",
              "      <td>-0.156969</td>\n",
              "      <td>0.119290</td>\n",
              "      <td>-0.057829</td>\n",
              "      <td>0.002002</td>\n",
              "      <td>0.016638</td>\n",
              "      <td>0.168131</td>\n",
              "      <td>-0.059231</td>\n",
              "      <td>...</td>\n",
              "      <td>-0.121031</td>\n",
              "      <td>-0.005065</td>\n",
              "      <td>-0.196187</td>\n",
              "      <td>0.075154</td>\n",
              "      <td>0.066519</td>\n",
              "      <td>0.045572</td>\n",
              "      <td>0.297112</td>\n",
              "      <td>-0.058872</td>\n",
              "      <td>-0.160371</td>\n",
              "      <td>0.030946</td>\n",
              "    </tr>\n",
              "    <tr>\n",
              "      <th>24</th>\n",
              "      <td>0.016806</td>\n",
              "      <td>0.027427</td>\n",
              "      <td>0.249635</td>\n",
              "      <td>0.065889</td>\n",
              "      <td>0.126964</td>\n",
              "      <td>0.094577</td>\n",
              "      <td>-0.156171</td>\n",
              "      <td>0.000081</td>\n",
              "      <td>0.102388</td>\n",
              "      <td>-0.149800</td>\n",
              "      <td>...</td>\n",
              "      <td>-0.404109</td>\n",
              "      <td>0.052843</td>\n",
              "      <td>-0.011586</td>\n",
              "      <td>-0.246470</td>\n",
              "      <td>0.079917</td>\n",
              "      <td>0.132229</td>\n",
              "      <td>0.284719</td>\n",
              "      <td>-0.080844</td>\n",
              "      <td>-0.103340</td>\n",
              "      <td>0.106770</td>\n",
              "    </tr>\n",
              "    <tr>\n",
              "      <th>25</th>\n",
              "      <td>0.123228</td>\n",
              "      <td>0.010066</td>\n",
              "      <td>0.039595</td>\n",
              "      <td>0.036169</td>\n",
              "      <td>-0.024080</td>\n",
              "      <td>0.234672</td>\n",
              "      <td>-0.144759</td>\n",
              "      <td>-0.027383</td>\n",
              "      <td>-0.097283</td>\n",
              "      <td>0.177945</td>\n",
              "      <td>...</td>\n",
              "      <td>-0.194030</td>\n",
              "      <td>-0.134353</td>\n",
              "      <td>-0.006360</td>\n",
              "      <td>0.036183</td>\n",
              "      <td>-0.063954</td>\n",
              "      <td>0.041437</td>\n",
              "      <td>0.287141</td>\n",
              "      <td>0.076655</td>\n",
              "      <td>-0.001346</td>\n",
              "      <td>0.070181</td>\n",
              "    </tr>\n",
              "    <tr>\n",
              "      <th>26</th>\n",
              "      <td>0.101188</td>\n",
              "      <td>-0.013194</td>\n",
              "      <td>-0.066081</td>\n",
              "      <td>0.001220</td>\n",
              "      <td>0.053901</td>\n",
              "      <td>-0.127476</td>\n",
              "      <td>-0.054397</td>\n",
              "      <td>0.030531</td>\n",
              "      <td>0.000024</td>\n",
              "      <td>0.123464</td>\n",
              "      <td>...</td>\n",
              "      <td>0.002789</td>\n",
              "      <td>-0.001242</td>\n",
              "      <td>-0.085023</td>\n",
              "      <td>0.233340</td>\n",
              "      <td>0.039181</td>\n",
              "      <td>0.074079</td>\n",
              "      <td>0.151736</td>\n",
              "      <td>-0.064987</td>\n",
              "      <td>-0.057324</td>\n",
              "      <td>-0.096144</td>\n",
              "    </tr>\n",
              "    <tr>\n",
              "      <th>27</th>\n",
              "      <td>-0.125650</td>\n",
              "      <td>0.047397</td>\n",
              "      <td>0.192518</td>\n",
              "      <td>0.089766</td>\n",
              "      <td>0.039521</td>\n",
              "      <td>0.078553</td>\n",
              "      <td>0.102787</td>\n",
              "      <td>0.159039</td>\n",
              "      <td>0.087135</td>\n",
              "      <td>-0.044078</td>\n",
              "      <td>...</td>\n",
              "      <td>-0.062075</td>\n",
              "      <td>-0.026074</td>\n",
              "      <td>-0.049189</td>\n",
              "      <td>-0.181525</td>\n",
              "      <td>0.098603</td>\n",
              "      <td>0.243154</td>\n",
              "      <td>0.014406</td>\n",
              "      <td>-0.187602</td>\n",
              "      <td>0.053508</td>\n",
              "      <td>-0.138775</td>\n",
              "    </tr>\n",
              "    <tr>\n",
              "      <th>28</th>\n",
              "      <td>0.065667</td>\n",
              "      <td>0.147810</td>\n",
              "      <td>0.258371</td>\n",
              "      <td>0.154400</td>\n",
              "      <td>0.047901</td>\n",
              "      <td>-0.043356</td>\n",
              "      <td>0.010517</td>\n",
              "      <td>0.038226</td>\n",
              "      <td>0.116031</td>\n",
              "      <td>-0.033002</td>\n",
              "      <td>...</td>\n",
              "      <td>-0.191482</td>\n",
              "      <td>-0.040235</td>\n",
              "      <td>-0.156071</td>\n",
              "      <td>-0.232625</td>\n",
              "      <td>-0.035720</td>\n",
              "      <td>0.132928</td>\n",
              "      <td>0.368130</td>\n",
              "      <td>-0.104947</td>\n",
              "      <td>0.029247</td>\n",
              "      <td>-0.007604</td>\n",
              "    </tr>\n",
              "  </tbody>\n",
              "</table>\n",
              "<p>29 rows × 37 columns</p>\n",
              "</div>"
            ],
            "text/plain": [
              "            품목0          품목1          품목2          품목3          품목4  \\\n",
              "0   3871.125000  1362.117613  2909.783785  3400.075583  3947.809169   \n",
              "1     -0.081870     0.074852    -0.154469    -0.001254     0.135612   \n",
              "2     -0.110311    -0.005178     0.041741     0.095035     0.101359   \n",
              "3     -0.003078    -0.191846    -0.148452    -0.265654    -0.109891   \n",
              "4     -0.058841    -0.009157    -0.023146    -0.198924     0.103976   \n",
              "5     -0.047421    -0.032627     0.057941     0.047827     0.003260   \n",
              "6     -0.105600     0.057912    -0.206427    -0.013137     0.040522   \n",
              "7      0.156740     0.027145    -0.198239    -0.153262     0.160374   \n",
              "8     -0.107123     0.091745     0.080058    -0.111577     0.246185   \n",
              "9     -0.117043    -0.058097    -0.335975    -0.124769    -0.147788   \n",
              "10    -0.259170    -0.016049    -0.036641    -0.128419    -0.302123   \n",
              "11    -0.024875     0.000677    -0.007710    -0.277879    -0.085875   \n",
              "12     0.139238     0.133243     0.032959     0.061443    -0.075406   \n",
              "13     0.109544     0.277858     0.417621    -0.173658    -0.259824   \n",
              "14    -0.040652    -0.083734    -0.055323    -0.043788    -0.002715   \n",
              "15     0.168545    -0.120079    -0.140417    -0.042471    -0.204888   \n",
              "16     0.138637     0.352502    -0.196422     0.092428    -0.071026   \n",
              "17    -0.039581    -0.035036     0.195647    -0.003569     0.072553   \n",
              "18     0.071576     0.108891     0.126116     0.029674     0.053017   \n",
              "19     0.024572    -0.036787     0.170726    -0.180907     0.037347   \n",
              "20     0.089079     0.170271     0.529340     0.208307     0.090344   \n",
              "21     0.118923    -0.079254     0.186615    -0.065229     0.100824   \n",
              "22    -0.061725    -0.022689    -0.179921    -0.084770    -0.119762   \n",
              "23    -0.080383     0.042292    -0.185554    -0.156969     0.119290   \n",
              "24     0.016806     0.027427     0.249635     0.065889     0.126964   \n",
              "25     0.123228     0.010066     0.039595     0.036169    -0.024080   \n",
              "26     0.101188    -0.013194    -0.066081     0.001220     0.053901   \n",
              "27    -0.125650     0.047397     0.192518     0.089766     0.039521   \n",
              "28     0.065667     0.147810     0.258371     0.154400     0.047901   \n",
              "\n",
              "            품목5          품목6          품목7          품목8          품목9  ...  \\\n",
              "0   9253.947514  2717.280000  3361.030923  4911.899864  1173.018633  ...   \n",
              "1     -0.107048     0.133038    -0.040790     0.025041    -0.039719  ...   \n",
              "2     -0.230833     0.179566    -0.237868     0.079583    -0.048661  ...   \n",
              "3     -0.019821     0.055776    -0.167166    -0.039779    -0.092593  ...   \n",
              "4     -0.069671    -0.060409     0.018535    -0.127289     0.085170  ...   \n",
              "5      0.147030     0.046323    -0.129557     0.057108    -0.042467  ...   \n",
              "6     -0.060739     0.102488    -0.214844    -0.092035    -0.056977  ...   \n",
              "7     -0.014653     0.022074     0.043407     0.088578     0.003393  ...   \n",
              "8      0.247396    -0.029416    -0.097551    -0.070470    -0.089310  ...   \n",
              "9     -0.061768     0.099191    -0.200936    -0.097182    -0.148130  ...   \n",
              "10     0.161468     0.044127    -0.031470     0.100006    -0.060673  ...   \n",
              "11    -0.140096     0.139189    -0.127896    -0.015061    -0.011820  ...   \n",
              "12    -0.061346    -0.019184    -0.231805     0.053138     0.006418  ...   \n",
              "13    -0.059118    -0.102884     0.106907    -0.141478     0.117480  ...   \n",
              "14    -0.050650     0.016674    -0.212075    -0.017714    -0.074608  ...   \n",
              "15    -0.006387    -0.034519     0.041514     0.019032    -0.009996  ...   \n",
              "16    -0.017194    -0.194855     0.132270    -0.132541    -0.040108  ...   \n",
              "17    -0.057721    -0.050481    -0.180750    -0.084250     0.114596  ...   \n",
              "18     0.109857    -0.040151    -0.120831    -0.147136    -0.030176  ...   \n",
              "19     0.282759     0.141040    -0.189867    -0.207485     0.010670  ...   \n",
              "20    -0.058606     0.126332     0.113926    -0.134056     0.022183  ...   \n",
              "21    -0.145377     0.108828     0.168480     0.271523     0.201389  ...   \n",
              "22    -0.008145     0.053697     0.137019    -0.040974     0.139015  ...   \n",
              "23    -0.057829     0.002002     0.016638     0.168131    -0.059231  ...   \n",
              "24     0.094577    -0.156171     0.000081     0.102388    -0.149800  ...   \n",
              "25     0.234672    -0.144759    -0.027383    -0.097283     0.177945  ...   \n",
              "26    -0.127476    -0.054397     0.030531     0.000024     0.123464  ...   \n",
              "27     0.078553     0.102787     0.159039     0.087135    -0.044078  ...   \n",
              "28    -0.043356     0.010517     0.038226     0.116031    -0.033002  ...   \n",
              "\n",
              "           품목27        품목28         품목29         품목30         품목31  \\\n",
              "0   8640.811309  602.005658  1105.412623  1566.274239  3633.464557   \n",
              "1     -0.171847   -0.079323     0.052147    -0.294156     0.093019   \n",
              "2     -0.421356    0.035242    -0.139542    -0.089146    -0.042147   \n",
              "3     -0.161707    0.030426    -0.185304    -0.083325    -0.091512   \n",
              "4      0.110693    0.066697    -0.030572    -0.143473     0.143820   \n",
              "5     -0.288010   -0.193166    -0.193611     0.045949    -0.003679   \n",
              "6     -0.028958   -0.057511    -0.009862    -0.011015     0.057403   \n",
              "7     -0.290767    0.113928    -0.017917     0.040937     0.058994   \n",
              "8     -0.119534   -0.117810    -0.002882    -0.035233     0.059844   \n",
              "9     -0.045754   -0.094014    -0.111134    -0.580332    -0.069177   \n",
              "10    -0.147421   -0.051935    -0.035892     0.051246    -0.043945   \n",
              "11    -0.106774   -0.101311    -0.113223    -0.238718    -0.139090   \n",
              "12    -0.227215    0.102834     0.019885     0.016758     0.037085   \n",
              "13    -0.108160    0.006900    -0.092596    -0.040998    -0.069394   \n",
              "14    -0.183649    0.082578     0.011431    -0.080647    -0.094621   \n",
              "15    -0.237934   -0.122388     0.006491     0.016622    -0.140202   \n",
              "16    -0.030160   -0.036936    -0.051189     0.046257    -0.057108   \n",
              "17    -0.249225    0.041907     0.096409    -0.019284     0.057313   \n",
              "18    -0.149107    0.124217     0.107777    -0.092489     0.055701   \n",
              "19    -0.140763   -0.113418    -0.048603    -0.074955     0.072875   \n",
              "20    -0.206049    0.001673    -0.005840     0.154140    -0.077155   \n",
              "21    -0.162627    0.037873    -0.079778    -0.024787     0.035346   \n",
              "22     0.030860    0.027359     0.014645    -0.140823     0.022483   \n",
              "23    -0.121031   -0.005065    -0.196187     0.075154     0.066519   \n",
              "24    -0.404109    0.052843    -0.011586    -0.246470     0.079917   \n",
              "25    -0.194030   -0.134353    -0.006360     0.036183    -0.063954   \n",
              "26     0.002789   -0.001242    -0.085023     0.233340     0.039181   \n",
              "27    -0.062075   -0.026074    -0.049189    -0.181525     0.098603   \n",
              "28    -0.191482   -0.040235    -0.156071    -0.232625    -0.035720   \n",
              "\n",
              "           품목32         품목33         품목34         품목35         품목36  \n",
              "0   5454.710444  5619.188362  5230.620027  2905.100888  2087.675036  \n",
              "1     -0.022026    -0.312477    -0.102238     0.032309    -0.000369  \n",
              "2     -0.318338    -0.013110     0.041940    -0.008803    -0.153753  \n",
              "3      0.048788     0.074908    -0.171834    -0.277242     0.112325  \n",
              "4      0.154136     0.031341    -0.015224    -0.117547    -0.119274  \n",
              "5     -0.331364     0.173600    -0.017443    -0.147110    -0.194647  \n",
              "6     -0.133926    -0.039363     0.005048     0.048370     0.065178  \n",
              "7     -0.161599    -0.013443    -0.137775    -0.082267    -0.015270  \n",
              "8     -0.446125     0.122083    -0.171744    -0.124691     0.094922  \n",
              "9     -0.112930     0.107484    -0.017990     0.122845    -0.224561  \n",
              "10    -0.012779    -0.027481     0.013823    -0.033609    -0.027979  \n",
              "11    -0.177804     0.210962    -0.098473    -0.129355     0.083696  \n",
              "12    -0.219935    -0.087924     0.048721     0.091481    -0.077715  \n",
              "13     0.110091    -0.191420    -0.127351    -0.172335     0.129052  \n",
              "14    -0.015990     0.190573    -0.059472    -0.044075     0.169148  \n",
              "15    -0.365562     0.153324    -0.056913    -0.010166    -0.034754  \n",
              "16     0.015906     0.139070     0.007466    -0.148644    -0.100945  \n",
              "17     0.014419     0.104007     0.082186    -0.033666    -0.155834  \n",
              "18     0.005409     0.105781    -0.063594    -0.005673     0.179351  \n",
              "19    -0.021642     0.262472    -0.134916    -0.023734     0.105967  \n",
              "20     0.053845     0.082903    -0.073456     0.057126     0.186242  \n",
              "21     0.026013     0.148754    -0.063873     0.130671     0.118557  \n",
              "22    -0.015752     0.082962    -0.016639    -0.187032     0.025130  \n",
              "23     0.045572     0.297112    -0.058872    -0.160371     0.030946  \n",
              "24     0.132229     0.284719    -0.080844    -0.103340     0.106770  \n",
              "25     0.041437     0.287141     0.076655    -0.001346     0.070181  \n",
              "26     0.074079     0.151736    -0.064987    -0.057324    -0.096144  \n",
              "27     0.243154     0.014406    -0.187602     0.053508    -0.138775  \n",
              "28     0.132928     0.368130    -0.104947     0.029247    -0.007604  \n",
              "\n",
              "[29 rows x 37 columns]"
            ]
          },
          "execution_count": 110,
          "metadata": {},
          "output_type": "execute_result"
        }
      ],
      "source": [
        "set_df_0"
      ]
    },
    {
      "cell_type": "markdown",
      "metadata": {
        "id": "d6GWHYtTJ8fb"
      },
      "source": [
        "- 변동률 계산 "
      ]
    },
    {
      "cell_type": "code",
      "execution_count": 111,
      "metadata": {
        "id": "G7guVyL7J8fc"
      },
      "outputs": [],
      "source": [
        "date = [f'd+{i}' for i in range(1,15)] + ['d+22 ~ 28 평균']\n",
        "\n",
        "for k in range(10):\n",
        "  globals()[f'answer_df_{k}'] = pd.DataFrame()\n",
        "  for c in globals()[f'set_df_{k}'].columns:\n",
        "    base_d = globals()[f'set_df_{k}'][c][0] # 변동률 기준 t 값\n",
        "    ans_1_14 = []\n",
        "    for i in range(14):\n",
        "      ans_1_14.append((globals()[f'set_df_{k}'][c].iloc[i+1])/base_d)\n",
        "    \n",
        "    ans_22_28 = (globals()[f'set_df_{k}'][c][22:29].mean())/base_d\n",
        "    globals()[f'answer_df_{k}'][f'{c} 변동률'] = ans_1_14 + [ans_22_28]\n",
        "  \n",
        "  globals()[f'answer_df_{k}']['Set'] = k # set 번호 설정\n",
        "  globals()[f'answer_df_{k}']['일자'] = date # 일자 설정"
      ]
    },
    {
      "cell_type": "markdown",
      "metadata": {
        "id": "0kl8cEL6J8fe"
      },
      "source": [
        "- sep 0  ~ sep 9 까지 합치기"
      ]
    },
    {
      "cell_type": "code",
      "execution_count": 112,
      "metadata": {
        "id": "T8nepRwGJ8ff"
      },
      "outputs": [],
      "source": [
        "# 위에서 계산된 변동률 들을 합쳐주는 과정\n",
        "\n",
        "all_df =pd.DataFrame()\n",
        "for i in range(10):\n",
        "  if i== 0 :\n",
        "    all_df = pd.concat([all_df, globals()[f'answer_df_{i}']],axis=1)\n",
        "  else:\n",
        "    all_df = pd.concat([all_df, globals()[f'answer_df_{i}']])\n",
        "\n",
        "\n",
        "all_df = all_df[['Set','일자'] + list(all_df.columns[:-2])]\n",
        "all_df.reset_index(drop=True, inplace=True)"
      ]
    },
    {
      "cell_type": "code",
      "execution_count": 113,
      "metadata": {
        "id": "1_Qxfg3_J8fg"
      },
      "outputs": [
        {
          "data": {
            "text/html": [
              "<div>\n",
              "<style scoped>\n",
              "    .dataframe tbody tr th:only-of-type {\n",
              "        vertical-align: middle;\n",
              "    }\n",
              "\n",
              "    .dataframe tbody tr th {\n",
              "        vertical-align: top;\n",
              "    }\n",
              "\n",
              "    .dataframe thead th {\n",
              "        text-align: right;\n",
              "    }\n",
              "</style>\n",
              "<table border=\"1\" class=\"dataframe\">\n",
              "  <thead>\n",
              "    <tr style=\"text-align: right;\">\n",
              "      <th></th>\n",
              "      <th>품목0 변동률</th>\n",
              "      <th>품목1 변동률</th>\n",
              "      <th>품목2 변동률</th>\n",
              "      <th>품목3 변동률</th>\n",
              "      <th>품목4 변동률</th>\n",
              "      <th>품목5 변동률</th>\n",
              "      <th>품목6 변동률</th>\n",
              "      <th>품목7 변동률</th>\n",
              "      <th>품목8 변동률</th>\n",
              "      <th>품목9 변동률</th>\n",
              "      <th>...</th>\n",
              "      <th>품목29 변동률</th>\n",
              "      <th>품목30 변동률</th>\n",
              "      <th>품목31 변동률</th>\n",
              "      <th>품목32 변동률</th>\n",
              "      <th>품목33 변동률</th>\n",
              "      <th>품목34 변동률</th>\n",
              "      <th>품목35 변동률</th>\n",
              "      <th>품목36 변동률</th>\n",
              "      <th>Set</th>\n",
              "      <th>일자</th>\n",
              "    </tr>\n",
              "  </thead>\n",
              "  <tbody>\n",
              "    <tr>\n",
              "      <th>0</th>\n",
              "      <td>-2.114899e-05</td>\n",
              "      <td>5.495246e-05</td>\n",
              "      <td>-0.000053</td>\n",
              "      <td>-3.688581e-07</td>\n",
              "      <td>3.435116e-05</td>\n",
              "      <td>-0.000012</td>\n",
              "      <td>0.000049</td>\n",
              "      <td>-0.000012</td>\n",
              "      <td>0.000005</td>\n",
              "      <td>-0.000034</td>\n",
              "      <td>...</td>\n",
              "      <td>0.000047</td>\n",
              "      <td>-0.000188</td>\n",
              "      <td>0.000026</td>\n",
              "      <td>-0.000004</td>\n",
              "      <td>-0.000056</td>\n",
              "      <td>-1.954601e-05</td>\n",
              "      <td>0.000011</td>\n",
              "      <td>-1.768177e-07</td>\n",
              "      <td>0</td>\n",
              "      <td>d+1</td>\n",
              "    </tr>\n",
              "    <tr>\n",
              "      <th>1</th>\n",
              "      <td>-2.849578e-05</td>\n",
              "      <td>-3.801668e-06</td>\n",
              "      <td>0.000014</td>\n",
              "      <td>2.795093e-05</td>\n",
              "      <td>2.567463e-05</td>\n",
              "      <td>-0.000025</td>\n",
              "      <td>0.000066</td>\n",
              "      <td>-0.000071</td>\n",
              "      <td>0.000016</td>\n",
              "      <td>-0.000041</td>\n",
              "      <td>...</td>\n",
              "      <td>-0.000126</td>\n",
              "      <td>-0.000057</td>\n",
              "      <td>-0.000012</td>\n",
              "      <td>-0.000058</td>\n",
              "      <td>-0.000002</td>\n",
              "      <td>8.018089e-06</td>\n",
              "      <td>-0.000003</td>\n",
              "      <td>-7.364773e-05</td>\n",
              "      <td>0</td>\n",
              "      <td>d+2</td>\n",
              "    </tr>\n",
              "    <tr>\n",
              "      <th>2</th>\n",
              "      <td>-7.950957e-07</td>\n",
              "      <td>-1.408441e-04</td>\n",
              "      <td>-0.000051</td>\n",
              "      <td>-7.813190e-05</td>\n",
              "      <td>-2.783603e-05</td>\n",
              "      <td>-0.000002</td>\n",
              "      <td>0.000021</td>\n",
              "      <td>-0.000050</td>\n",
              "      <td>-0.000008</td>\n",
              "      <td>-0.000079</td>\n",
              "      <td>...</td>\n",
              "      <td>-0.000168</td>\n",
              "      <td>-0.000053</td>\n",
              "      <td>-0.000025</td>\n",
              "      <td>0.000009</td>\n",
              "      <td>0.000013</td>\n",
              "      <td>-3.285150e-05</td>\n",
              "      <td>-0.000095</td>\n",
              "      <td>5.380373e-05</td>\n",
              "      <td>0</td>\n",
              "      <td>d+3</td>\n",
              "    </tr>\n",
              "    <tr>\n",
              "      <th>3</th>\n",
              "      <td>-1.519986e-05</td>\n",
              "      <td>-6.722919e-06</td>\n",
              "      <td>-0.000008</td>\n",
              "      <td>-5.850575e-05</td>\n",
              "      <td>2.633777e-05</td>\n",
              "      <td>-0.000008</td>\n",
              "      <td>-0.000022</td>\n",
              "      <td>0.000006</td>\n",
              "      <td>-0.000026</td>\n",
              "      <td>0.000073</td>\n",
              "      <td>...</td>\n",
              "      <td>-0.000028</td>\n",
              "      <td>-0.000092</td>\n",
              "      <td>0.000040</td>\n",
              "      <td>0.000028</td>\n",
              "      <td>0.000006</td>\n",
              "      <td>-2.910604e-06</td>\n",
              "      <td>-0.000040</td>\n",
              "      <td>-5.713238e-05</td>\n",
              "      <td>0</td>\n",
              "      <td>d+4</td>\n",
              "    </tr>\n",
              "    <tr>\n",
              "      <th>4</th>\n",
              "      <td>-1.224994e-05</td>\n",
              "      <td>-2.395351e-05</td>\n",
              "      <td>0.000020</td>\n",
              "      <td>1.406655e-05</td>\n",
              "      <td>8.258353e-07</td>\n",
              "      <td>0.000016</td>\n",
              "      <td>0.000017</td>\n",
              "      <td>-0.000039</td>\n",
              "      <td>0.000012</td>\n",
              "      <td>-0.000036</td>\n",
              "      <td>...</td>\n",
              "      <td>-0.000175</td>\n",
              "      <td>0.000029</td>\n",
              "      <td>-0.000001</td>\n",
              "      <td>-0.000061</td>\n",
              "      <td>0.000031</td>\n",
              "      <td>-3.334854e-06</td>\n",
              "      <td>-0.000051</td>\n",
              "      <td>-9.323612e-05</td>\n",
              "      <td>0</td>\n",
              "      <td>d+5</td>\n",
              "    </tr>\n",
              "    <tr>\n",
              "      <th>5</th>\n",
              "      <td>-2.727886e-05</td>\n",
              "      <td>4.251606e-05</td>\n",
              "      <td>-0.000071</td>\n",
              "      <td>-3.863715e-06</td>\n",
              "      <td>1.026431e-05</td>\n",
              "      <td>-0.000007</td>\n",
              "      <td>0.000038</td>\n",
              "      <td>-0.000064</td>\n",
              "      <td>-0.000019</td>\n",
              "      <td>-0.000049</td>\n",
              "      <td>...</td>\n",
              "      <td>-0.000009</td>\n",
              "      <td>-0.000007</td>\n",
              "      <td>0.000016</td>\n",
              "      <td>-0.000025</td>\n",
              "      <td>-0.000007</td>\n",
              "      <td>9.651759e-07</td>\n",
              "      <td>0.000017</td>\n",
              "      <td>3.122038e-05</td>\n",
              "      <td>0</td>\n",
              "      <td>d+6</td>\n",
              "    </tr>\n",
              "    <tr>\n",
              "      <th>6</th>\n",
              "      <td>4.048949e-05</td>\n",
              "      <td>1.992855e-05</td>\n",
              "      <td>-0.000068</td>\n",
              "      <td>-4.507620e-05</td>\n",
              "      <td>4.062354e-05</td>\n",
              "      <td>-0.000002</td>\n",
              "      <td>0.000008</td>\n",
              "      <td>0.000013</td>\n",
              "      <td>0.000018</td>\n",
              "      <td>0.000003</td>\n",
              "      <td>...</td>\n",
              "      <td>-0.000016</td>\n",
              "      <td>0.000026</td>\n",
              "      <td>0.000016</td>\n",
              "      <td>-0.000030</td>\n",
              "      <td>-0.000002</td>\n",
              "      <td>-2.634010e-05</td>\n",
              "      <td>-0.000028</td>\n",
              "      <td>-7.314565e-06</td>\n",
              "      <td>0</td>\n",
              "      <td>d+7</td>\n",
              "    </tr>\n",
              "    <tr>\n",
              "      <th>7</th>\n",
              "      <td>-2.767242e-05</td>\n",
              "      <td>6.735477e-05</td>\n",
              "      <td>0.000028</td>\n",
              "      <td>-3.281595e-05</td>\n",
              "      <td>6.235980e-05</td>\n",
              "      <td>0.000027</td>\n",
              "      <td>-0.000011</td>\n",
              "      <td>-0.000029</td>\n",
              "      <td>-0.000014</td>\n",
              "      <td>-0.000076</td>\n",
              "      <td>...</td>\n",
              "      <td>-0.000003</td>\n",
              "      <td>-0.000022</td>\n",
              "      <td>0.000016</td>\n",
              "      <td>-0.000082</td>\n",
              "      <td>0.000022</td>\n",
              "      <td>-3.283430e-05</td>\n",
              "      <td>-0.000043</td>\n",
              "      <td>4.546787e-05</td>\n",
              "      <td>0</td>\n",
              "      <td>d+8</td>\n",
              "    </tr>\n",
              "    <tr>\n",
              "      <th>8</th>\n",
              "      <td>-3.023492e-05</td>\n",
              "      <td>-4.265164e-05</td>\n",
              "      <td>-0.000115</td>\n",
              "      <td>-3.669599e-05</td>\n",
              "      <td>-3.743551e-05</td>\n",
              "      <td>-0.000007</td>\n",
              "      <td>0.000037</td>\n",
              "      <td>-0.000060</td>\n",
              "      <td>-0.000020</td>\n",
              "      <td>-0.000126</td>\n",
              "      <td>...</td>\n",
              "      <td>-0.000101</td>\n",
              "      <td>-0.000371</td>\n",
              "      <td>-0.000019</td>\n",
              "      <td>-0.000021</td>\n",
              "      <td>0.000019</td>\n",
              "      <td>-3.439296e-06</td>\n",
              "      <td>0.000042</td>\n",
              "      <td>-1.075650e-04</td>\n",
              "      <td>0</td>\n",
              "      <td>d+9</td>\n",
              "    </tr>\n",
              "    <tr>\n",
              "      <th>9</th>\n",
              "      <td>-6.694954e-05</td>\n",
              "      <td>-1.178238e-05</td>\n",
              "      <td>-0.000013</td>\n",
              "      <td>-3.776936e-05</td>\n",
              "      <td>-7.652933e-05</td>\n",
              "      <td>0.000017</td>\n",
              "      <td>0.000016</td>\n",
              "      <td>-0.000009</td>\n",
              "      <td>0.000020</td>\n",
              "      <td>-0.000052</td>\n",
              "      <td>...</td>\n",
              "      <td>-0.000032</td>\n",
              "      <td>0.000033</td>\n",
              "      <td>-0.000012</td>\n",
              "      <td>-0.000002</td>\n",
              "      <td>-0.000005</td>\n",
              "      <td>2.642724e-06</td>\n",
              "      <td>-0.000012</td>\n",
              "      <td>-1.340203e-05</td>\n",
              "      <td>0</td>\n",
              "      <td>d+10</td>\n",
              "    </tr>\n",
              "    <tr>\n",
              "      <th>10</th>\n",
              "      <td>-6.425716e-06</td>\n",
              "      <td>4.972033e-07</td>\n",
              "      <td>-0.000003</td>\n",
              "      <td>-8.172729e-05</td>\n",
              "      <td>-2.175255e-05</td>\n",
              "      <td>-0.000015</td>\n",
              "      <td>0.000051</td>\n",
              "      <td>-0.000038</td>\n",
              "      <td>-0.000003</td>\n",
              "      <td>-0.000010</td>\n",
              "      <td>...</td>\n",
              "      <td>-0.000102</td>\n",
              "      <td>-0.000152</td>\n",
              "      <td>-0.000038</td>\n",
              "      <td>-0.000033</td>\n",
              "      <td>0.000038</td>\n",
              "      <td>-1.882627e-05</td>\n",
              "      <td>-0.000045</td>\n",
              "      <td>4.009033e-05</td>\n",
              "      <td>0</td>\n",
              "      <td>d+11</td>\n",
              "    </tr>\n",
              "    <tr>\n",
              "      <th>11</th>\n",
              "      <td>3.596826e-05</td>\n",
              "      <td>9.782016e-05</td>\n",
              "      <td>0.000011</td>\n",
              "      <td>1.807105e-05</td>\n",
              "      <td>-1.910069e-05</td>\n",
              "      <td>-0.000007</td>\n",
              "      <td>-0.000007</td>\n",
              "      <td>-0.000069</td>\n",
              "      <td>0.000011</td>\n",
              "      <td>0.000005</td>\n",
              "      <td>...</td>\n",
              "      <td>0.000018</td>\n",
              "      <td>0.000011</td>\n",
              "      <td>0.000010</td>\n",
              "      <td>-0.000040</td>\n",
              "      <td>-0.000016</td>\n",
              "      <td>9.314585e-06</td>\n",
              "      <td>0.000031</td>\n",
              "      <td>-3.722581e-05</td>\n",
              "      <td>0</td>\n",
              "      <td>d+12</td>\n",
              "    </tr>\n",
              "    <tr>\n",
              "      <th>12</th>\n",
              "      <td>2.829779e-05</td>\n",
              "      <td>2.039896e-04</td>\n",
              "      <td>0.000144</td>\n",
              "      <td>-5.107485e-05</td>\n",
              "      <td>-6.581473e-05</td>\n",
              "      <td>-0.000006</td>\n",
              "      <td>-0.000038</td>\n",
              "      <td>0.000032</td>\n",
              "      <td>-0.000029</td>\n",
              "      <td>0.000100</td>\n",
              "      <td>...</td>\n",
              "      <td>-0.000084</td>\n",
              "      <td>-0.000026</td>\n",
              "      <td>-0.000019</td>\n",
              "      <td>0.000020</td>\n",
              "      <td>-0.000034</td>\n",
              "      <td>-2.434719e-05</td>\n",
              "      <td>-0.000059</td>\n",
              "      <td>6.181622e-05</td>\n",
              "      <td>0</td>\n",
              "      <td>d+13</td>\n",
              "    </tr>\n",
              "    <tr>\n",
              "      <th>13</th>\n",
              "      <td>-1.050125e-05</td>\n",
              "      <td>-6.147345e-05</td>\n",
              "      <td>-0.000019</td>\n",
              "      <td>-1.287854e-05</td>\n",
              "      <td>-6.877938e-07</td>\n",
              "      <td>-0.000005</td>\n",
              "      <td>0.000006</td>\n",
              "      <td>-0.000063</td>\n",
              "      <td>-0.000004</td>\n",
              "      <td>-0.000064</td>\n",
              "      <td>...</td>\n",
              "      <td>0.000010</td>\n",
              "      <td>-0.000051</td>\n",
              "      <td>-0.000026</td>\n",
              "      <td>-0.000003</td>\n",
              "      <td>0.000034</td>\n",
              "      <td>-1.136998e-05</td>\n",
              "      <td>-0.000015</td>\n",
              "      <td>8.102231e-05</td>\n",
              "      <td>0</td>\n",
              "      <td>d+14</td>\n",
              "    </tr>\n",
              "    <tr>\n",
              "      <th>14</th>\n",
              "      <td>1.444043e-06</td>\n",
              "      <td>2.507732e-05</td>\n",
              "      <td>0.000015</td>\n",
              "      <td>4.441279e-06</td>\n",
              "      <td>8.819862e-06</td>\n",
              "      <td>0.000003</td>\n",
              "      <td>-0.000010</td>\n",
              "      <td>0.000015</td>\n",
              "      <td>0.000010</td>\n",
              "      <td>0.000019</td>\n",
              "      <td>...</td>\n",
              "      <td>-0.000063</td>\n",
              "      <td>-0.000042</td>\n",
              "      <td>0.000008</td>\n",
              "      <td>0.000017</td>\n",
              "      <td>0.000038</td>\n",
              "      <td>-1.194161e-05</td>\n",
              "      <td>-0.000021</td>\n",
              "      <td>-6.498251e-07</td>\n",
              "      <td>0</td>\n",
              "      <td>d+22 ~ 28 평균</td>\n",
              "    </tr>\n",
              "  </tbody>\n",
              "</table>\n",
              "<p>15 rows × 39 columns</p>\n",
              "</div>"
            ],
            "text/plain": [
              "         품목0 변동률       품목1 변동률   품목2 변동률       품목3 변동률       품목4 변동률  \\\n",
              "0  -2.114899e-05  5.495246e-05 -0.000053 -3.688581e-07  3.435116e-05   \n",
              "1  -2.849578e-05 -3.801668e-06  0.000014  2.795093e-05  2.567463e-05   \n",
              "2  -7.950957e-07 -1.408441e-04 -0.000051 -7.813190e-05 -2.783603e-05   \n",
              "3  -1.519986e-05 -6.722919e-06 -0.000008 -5.850575e-05  2.633777e-05   \n",
              "4  -1.224994e-05 -2.395351e-05  0.000020  1.406655e-05  8.258353e-07   \n",
              "5  -2.727886e-05  4.251606e-05 -0.000071 -3.863715e-06  1.026431e-05   \n",
              "6   4.048949e-05  1.992855e-05 -0.000068 -4.507620e-05  4.062354e-05   \n",
              "7  -2.767242e-05  6.735477e-05  0.000028 -3.281595e-05  6.235980e-05   \n",
              "8  -3.023492e-05 -4.265164e-05 -0.000115 -3.669599e-05 -3.743551e-05   \n",
              "9  -6.694954e-05 -1.178238e-05 -0.000013 -3.776936e-05 -7.652933e-05   \n",
              "10 -6.425716e-06  4.972033e-07 -0.000003 -8.172729e-05 -2.175255e-05   \n",
              "11  3.596826e-05  9.782016e-05  0.000011  1.807105e-05 -1.910069e-05   \n",
              "12  2.829779e-05  2.039896e-04  0.000144 -5.107485e-05 -6.581473e-05   \n",
              "13 -1.050125e-05 -6.147345e-05 -0.000019 -1.287854e-05 -6.877938e-07   \n",
              "14  1.444043e-06  2.507732e-05  0.000015  4.441279e-06  8.819862e-06   \n",
              "\n",
              "     품목5 변동률   품목6 변동률   품목7 변동률   품목8 변동률   품목9 변동률  ...  품목29 변동률  품목30 변동률  \\\n",
              "0  -0.000012  0.000049 -0.000012  0.000005 -0.000034  ...  0.000047 -0.000188   \n",
              "1  -0.000025  0.000066 -0.000071  0.000016 -0.000041  ... -0.000126 -0.000057   \n",
              "2  -0.000002  0.000021 -0.000050 -0.000008 -0.000079  ... -0.000168 -0.000053   \n",
              "3  -0.000008 -0.000022  0.000006 -0.000026  0.000073  ... -0.000028 -0.000092   \n",
              "4   0.000016  0.000017 -0.000039  0.000012 -0.000036  ... -0.000175  0.000029   \n",
              "5  -0.000007  0.000038 -0.000064 -0.000019 -0.000049  ... -0.000009 -0.000007   \n",
              "6  -0.000002  0.000008  0.000013  0.000018  0.000003  ... -0.000016  0.000026   \n",
              "7   0.000027 -0.000011 -0.000029 -0.000014 -0.000076  ... -0.000003 -0.000022   \n",
              "8  -0.000007  0.000037 -0.000060 -0.000020 -0.000126  ... -0.000101 -0.000371   \n",
              "9   0.000017  0.000016 -0.000009  0.000020 -0.000052  ... -0.000032  0.000033   \n",
              "10 -0.000015  0.000051 -0.000038 -0.000003 -0.000010  ... -0.000102 -0.000152   \n",
              "11 -0.000007 -0.000007 -0.000069  0.000011  0.000005  ...  0.000018  0.000011   \n",
              "12 -0.000006 -0.000038  0.000032 -0.000029  0.000100  ... -0.000084 -0.000026   \n",
              "13 -0.000005  0.000006 -0.000063 -0.000004 -0.000064  ...  0.000010 -0.000051   \n",
              "14  0.000003 -0.000010  0.000015  0.000010  0.000019  ... -0.000063 -0.000042   \n",
              "\n",
              "    품목31 변동률  품목32 변동률  품목33 변동률      품목34 변동률  품목35 변동률      품목36 변동률  Set  \\\n",
              "0   0.000026 -0.000004 -0.000056 -1.954601e-05  0.000011 -1.768177e-07    0   \n",
              "1  -0.000012 -0.000058 -0.000002  8.018089e-06 -0.000003 -7.364773e-05    0   \n",
              "2  -0.000025  0.000009  0.000013 -3.285150e-05 -0.000095  5.380373e-05    0   \n",
              "3   0.000040  0.000028  0.000006 -2.910604e-06 -0.000040 -5.713238e-05    0   \n",
              "4  -0.000001 -0.000061  0.000031 -3.334854e-06 -0.000051 -9.323612e-05    0   \n",
              "5   0.000016 -0.000025 -0.000007  9.651759e-07  0.000017  3.122038e-05    0   \n",
              "6   0.000016 -0.000030 -0.000002 -2.634010e-05 -0.000028 -7.314565e-06    0   \n",
              "7   0.000016 -0.000082  0.000022 -3.283430e-05 -0.000043  4.546787e-05    0   \n",
              "8  -0.000019 -0.000021  0.000019 -3.439296e-06  0.000042 -1.075650e-04    0   \n",
              "9  -0.000012 -0.000002 -0.000005  2.642724e-06 -0.000012 -1.340203e-05    0   \n",
              "10 -0.000038 -0.000033  0.000038 -1.882627e-05 -0.000045  4.009033e-05    0   \n",
              "11  0.000010 -0.000040 -0.000016  9.314585e-06  0.000031 -3.722581e-05    0   \n",
              "12 -0.000019  0.000020 -0.000034 -2.434719e-05 -0.000059  6.181622e-05    0   \n",
              "13 -0.000026 -0.000003  0.000034 -1.136998e-05 -0.000015  8.102231e-05    0   \n",
              "14  0.000008  0.000017  0.000038 -1.194161e-05 -0.000021 -6.498251e-07    0   \n",
              "\n",
              "              일자  \n",
              "0            d+1  \n",
              "1            d+2  \n",
              "2            d+3  \n",
              "3            d+4  \n",
              "4            d+5  \n",
              "5            d+6  \n",
              "6            d+7  \n",
              "7            d+8  \n",
              "8            d+9  \n",
              "9           d+10  \n",
              "10          d+11  \n",
              "11          d+12  \n",
              "12          d+13  \n",
              "13          d+14  \n",
              "14  d+22 ~ 28 평균  \n",
              "\n",
              "[15 rows x 39 columns]"
            ]
          },
          "execution_count": 113,
          "metadata": {},
          "output_type": "execute_result"
        }
      ],
      "source": [
        "answer_df_0"
      ]
    },
    {
      "cell_type": "markdown",
      "metadata": {
        "id": "WObZCCMwJ8fi"
      },
      "source": [
        "- 정답 양식으로 변경"
      ]
    },
    {
      "cell_type": "code",
      "execution_count": 114,
      "metadata": {
        "id": "WF_5UI2wJ8fj"
      },
      "outputs": [],
      "source": [
        "# set, 일자 기억하기위해 따로 저장\n",
        "\n",
        "re_set = list(all_df['Set'])\n",
        "re_date = list(all_df['일자'])\n",
        "\n",
        "\n",
        "# 정답 양식 불러오기\n",
        "out_ans = pd.read_csv('./aT_data/answer_example.csv')\n",
        "\n",
        "# 두 dataframe 합치기 (nan + 숫자 = nan 이용)\n",
        "submit_df = all_df + out_ans\n",
        "\n",
        "submit_df['Set'] = re_set\n",
        "submit_df['일자'] = re_date\n",
        "\n",
        "\n",
        "# 최종 저장\n",
        "submit_df.to_csv(f'./submit/submit_{test_num}.csv',index=False)"
      ]
    },
    {
      "cell_type": "markdown",
      "metadata": {
        "id": "GBIveJrBJ8fn"
      },
      "source": [
        "- 계산된 변동률 결과물"
      ]
    },
    {
      "cell_type": "code",
      "execution_count": 115,
      "metadata": {
        "id": "m8fySZ0aJ8fp"
      },
      "outputs": [
        {
          "data": {
            "text/html": [
              "<div>\n",
              "<style scoped>\n",
              "    .dataframe tbody tr th:only-of-type {\n",
              "        vertical-align: middle;\n",
              "    }\n",
              "\n",
              "    .dataframe tbody tr th {\n",
              "        vertical-align: top;\n",
              "    }\n",
              "\n",
              "    .dataframe thead th {\n",
              "        text-align: right;\n",
              "    }\n",
              "</style>\n",
              "<table border=\"1\" class=\"dataframe\">\n",
              "  <thead>\n",
              "    <tr style=\"text-align: right;\">\n",
              "      <th></th>\n",
              "      <th>Set</th>\n",
              "      <th>일자</th>\n",
              "      <th>품목0 변동률</th>\n",
              "      <th>품목1 변동률</th>\n",
              "      <th>품목2 변동률</th>\n",
              "      <th>품목3 변동률</th>\n",
              "      <th>품목4 변동률</th>\n",
              "      <th>품목5 변동률</th>\n",
              "      <th>품목6 변동률</th>\n",
              "      <th>품목7 변동률</th>\n",
              "      <th>...</th>\n",
              "      <th>품목27 변동률</th>\n",
              "      <th>품목28 변동률</th>\n",
              "      <th>품목29 변동률</th>\n",
              "      <th>품목30 변동률</th>\n",
              "      <th>품목31 변동률</th>\n",
              "      <th>품목32 변동률</th>\n",
              "      <th>품목33 변동률</th>\n",
              "      <th>품목34 변동률</th>\n",
              "      <th>품목35 변동률</th>\n",
              "      <th>품목36 변동률</th>\n",
              "    </tr>\n",
              "  </thead>\n",
              "  <tbody>\n",
              "    <tr>\n",
              "      <th>0</th>\n",
              "      <td>0</td>\n",
              "      <td>d+1</td>\n",
              "      <td>-2.114899e-05</td>\n",
              "      <td>0.000055</td>\n",
              "      <td>-5.308607e-05</td>\n",
              "      <td>-3.688581e-07</td>\n",
              "      <td>3.435116e-05</td>\n",
              "      <td>-0.000012</td>\n",
              "      <td>0.000049</td>\n",
              "      <td>-0.000012</td>\n",
              "      <td>...</td>\n",
              "      <td>-0.000020</td>\n",
              "      <td>-0.000132</td>\n",
              "      <td>0.000047</td>\n",
              "      <td>-0.000188</td>\n",
              "      <td>0.000026</td>\n",
              "      <td>-0.000004</td>\n",
              "      <td>-0.000056</td>\n",
              "      <td>-0.000020</td>\n",
              "      <td>0.000011</td>\n",
              "      <td>-1.768177e-07</td>\n",
              "    </tr>\n",
              "    <tr>\n",
              "      <th>1</th>\n",
              "      <td>0</td>\n",
              "      <td>d+2</td>\n",
              "      <td>-2.849578e-05</td>\n",
              "      <td>-0.000004</td>\n",
              "      <td>1.434499e-05</td>\n",
              "      <td>2.795093e-05</td>\n",
              "      <td>2.567463e-05</td>\n",
              "      <td>-0.000025</td>\n",
              "      <td>0.000066</td>\n",
              "      <td>-0.000071</td>\n",
              "      <td>...</td>\n",
              "      <td>-0.000049</td>\n",
              "      <td>0.000059</td>\n",
              "      <td>-0.000126</td>\n",
              "      <td>-0.000057</td>\n",
              "      <td>-0.000012</td>\n",
              "      <td>-0.000058</td>\n",
              "      <td>-0.000002</td>\n",
              "      <td>0.000008</td>\n",
              "      <td>-0.000003</td>\n",
              "      <td>-7.364773e-05</td>\n",
              "    </tr>\n",
              "    <tr>\n",
              "      <th>2</th>\n",
              "      <td>0</td>\n",
              "      <td>d+3</td>\n",
              "      <td>-7.950957e-07</td>\n",
              "      <td>-0.000141</td>\n",
              "      <td>-5.101824e-05</td>\n",
              "      <td>-7.813190e-05</td>\n",
              "      <td>-2.783603e-05</td>\n",
              "      <td>-0.000002</td>\n",
              "      <td>0.000021</td>\n",
              "      <td>-0.000050</td>\n",
              "      <td>...</td>\n",
              "      <td>-0.000019</td>\n",
              "      <td>0.000051</td>\n",
              "      <td>-0.000168</td>\n",
              "      <td>-0.000053</td>\n",
              "      <td>-0.000025</td>\n",
              "      <td>0.000009</td>\n",
              "      <td>0.000013</td>\n",
              "      <td>-0.000033</td>\n",
              "      <td>-0.000095</td>\n",
              "      <td>5.380373e-05</td>\n",
              "    </tr>\n",
              "    <tr>\n",
              "      <th>3</th>\n",
              "      <td>0</td>\n",
              "      <td>d+4</td>\n",
              "      <td>-1.519986e-05</td>\n",
              "      <td>-0.000007</td>\n",
              "      <td>-7.954503e-06</td>\n",
              "      <td>-5.850575e-05</td>\n",
              "      <td>2.633777e-05</td>\n",
              "      <td>-0.000008</td>\n",
              "      <td>-0.000022</td>\n",
              "      <td>0.000006</td>\n",
              "      <td>...</td>\n",
              "      <td>0.000013</td>\n",
              "      <td>0.000111</td>\n",
              "      <td>-0.000028</td>\n",
              "      <td>-0.000092</td>\n",
              "      <td>0.000040</td>\n",
              "      <td>0.000028</td>\n",
              "      <td>0.000006</td>\n",
              "      <td>-0.000003</td>\n",
              "      <td>-0.000040</td>\n",
              "      <td>-5.713238e-05</td>\n",
              "    </tr>\n",
              "    <tr>\n",
              "      <th>4</th>\n",
              "      <td>0</td>\n",
              "      <td>d+5</td>\n",
              "      <td>-1.224994e-05</td>\n",
              "      <td>-0.000024</td>\n",
              "      <td>1.991241e-05</td>\n",
              "      <td>1.406655e-05</td>\n",
              "      <td>8.258353e-07</td>\n",
              "      <td>0.000016</td>\n",
              "      <td>0.000017</td>\n",
              "      <td>-0.000039</td>\n",
              "      <td>...</td>\n",
              "      <td>-0.000033</td>\n",
              "      <td>-0.000321</td>\n",
              "      <td>-0.000175</td>\n",
              "      <td>0.000029</td>\n",
              "      <td>-0.000001</td>\n",
              "      <td>-0.000061</td>\n",
              "      <td>0.000031</td>\n",
              "      <td>-0.000003</td>\n",
              "      <td>-0.000051</td>\n",
              "      <td>-9.323612e-05</td>\n",
              "    </tr>\n",
              "    <tr>\n",
              "      <th>...</th>\n",
              "      <td>...</td>\n",
              "      <td>...</td>\n",
              "      <td>...</td>\n",
              "      <td>...</td>\n",
              "      <td>...</td>\n",
              "      <td>...</td>\n",
              "      <td>...</td>\n",
              "      <td>...</td>\n",
              "      <td>...</td>\n",
              "      <td>...</td>\n",
              "      <td>...</td>\n",
              "      <td>...</td>\n",
              "      <td>...</td>\n",
              "      <td>...</td>\n",
              "      <td>...</td>\n",
              "      <td>...</td>\n",
              "      <td>...</td>\n",
              "      <td>...</td>\n",
              "      <td>...</td>\n",
              "      <td>...</td>\n",
              "      <td>...</td>\n",
              "    </tr>\n",
              "    <tr>\n",
              "      <th>145</th>\n",
              "      <td>9</td>\n",
              "      <td>d+11</td>\n",
              "      <td>-2.379852e-06</td>\n",
              "      <td>0.000004</td>\n",
              "      <td>1.296565e-05</td>\n",
              "      <td>-1.082171e-04</td>\n",
              "      <td>-3.334251e-05</td>\n",
              "      <td>-0.000019</td>\n",
              "      <td>0.000024</td>\n",
              "      <td>NaN</td>\n",
              "      <td>...</td>\n",
              "      <td>-0.000026</td>\n",
              "      <td>-0.000248</td>\n",
              "      <td>-0.000067</td>\n",
              "      <td>-0.000195</td>\n",
              "      <td>-0.000059</td>\n",
              "      <td>-0.000022</td>\n",
              "      <td>0.000111</td>\n",
              "      <td>-0.000040</td>\n",
              "      <td>-0.000066</td>\n",
              "      <td>1.023611e-04</td>\n",
              "    </tr>\n",
              "    <tr>\n",
              "      <th>146</th>\n",
              "      <td>9</td>\n",
              "      <td>d+12</td>\n",
              "      <td>2.391539e-05</td>\n",
              "      <td>0.000107</td>\n",
              "      <td>-6.063943e-07</td>\n",
              "      <td>2.240952e-05</td>\n",
              "      <td>-3.252162e-05</td>\n",
              "      <td>-0.000018</td>\n",
              "      <td>-0.000001</td>\n",
              "      <td>NaN</td>\n",
              "      <td>...</td>\n",
              "      <td>-0.000043</td>\n",
              "      <td>0.000321</td>\n",
              "      <td>-0.000026</td>\n",
              "      <td>0.000107</td>\n",
              "      <td>0.000002</td>\n",
              "      <td>-0.000049</td>\n",
              "      <td>-0.000049</td>\n",
              "      <td>0.000031</td>\n",
              "      <td>0.000072</td>\n",
              "      <td>-4.710899e-05</td>\n",
              "    </tr>\n",
              "    <tr>\n",
              "      <th>147</th>\n",
              "      <td>9</td>\n",
              "      <td>d+13</td>\n",
              "      <td>2.561837e-05</td>\n",
              "      <td>0.000365</td>\n",
              "      <td>3.655130e-04</td>\n",
              "      <td>-6.525877e-05</td>\n",
              "      <td>-9.483037e-05</td>\n",
              "      <td>-0.000005</td>\n",
              "      <td>-0.000022</td>\n",
              "      <td>NaN</td>\n",
              "      <td>...</td>\n",
              "      <td>-0.000022</td>\n",
              "      <td>-0.000029</td>\n",
              "      <td>-0.000122</td>\n",
              "      <td>0.000014</td>\n",
              "      <td>-0.000028</td>\n",
              "      <td>0.000042</td>\n",
              "      <td>-0.000070</td>\n",
              "      <td>-0.000075</td>\n",
              "      <td>-0.000117</td>\n",
              "      <td>9.123462e-05</td>\n",
              "    </tr>\n",
              "    <tr>\n",
              "      <th>148</th>\n",
              "      <td>9</td>\n",
              "      <td>d+14</td>\n",
              "      <td>-1.375562e-05</td>\n",
              "      <td>-0.000087</td>\n",
              "      <td>-3.045215e-05</td>\n",
              "      <td>-1.883471e-05</td>\n",
              "      <td>-2.213836e-05</td>\n",
              "      <td>-0.000002</td>\n",
              "      <td>0.000011</td>\n",
              "      <td>NaN</td>\n",
              "      <td>...</td>\n",
              "      <td>-0.000036</td>\n",
              "      <td>0.000284</td>\n",
              "      <td>0.000010</td>\n",
              "      <td>-0.000161</td>\n",
              "      <td>-0.000034</td>\n",
              "      <td>-0.000009</td>\n",
              "      <td>0.000088</td>\n",
              "      <td>-0.000061</td>\n",
              "      <td>-0.000038</td>\n",
              "      <td>1.012043e-04</td>\n",
              "    </tr>\n",
              "    <tr>\n",
              "      <th>149</th>\n",
              "      <td>9</td>\n",
              "      <td>d+22 ~ 28 평균</td>\n",
              "      <td>4.995725e-06</td>\n",
              "      <td>0.000049</td>\n",
              "      <td>6.419985e-05</td>\n",
              "      <td>1.058508e-05</td>\n",
              "      <td>1.612839e-05</td>\n",
              "      <td>0.000009</td>\n",
              "      <td>-0.000006</td>\n",
              "      <td>NaN</td>\n",
              "      <td>...</td>\n",
              "      <td>-0.000022</td>\n",
              "      <td>-0.000052</td>\n",
              "      <td>-0.000057</td>\n",
              "      <td>-0.000042</td>\n",
              "      <td>0.000016</td>\n",
              "      <td>0.000025</td>\n",
              "      <td>0.000103</td>\n",
              "      <td>-0.000037</td>\n",
              "      <td>-0.000026</td>\n",
              "      <td>1.167216e-05</td>\n",
              "    </tr>\n",
              "  </tbody>\n",
              "</table>\n",
              "<p>150 rows × 39 columns</p>\n",
              "</div>"
            ],
            "text/plain": [
              "     Set            일자       품목0 변동률   품목1 변동률       품목2 변동률       품목3 변동률  \\\n",
              "0      0           d+1 -2.114899e-05  0.000055 -5.308607e-05 -3.688581e-07   \n",
              "1      0           d+2 -2.849578e-05 -0.000004  1.434499e-05  2.795093e-05   \n",
              "2      0           d+3 -7.950957e-07 -0.000141 -5.101824e-05 -7.813190e-05   \n",
              "3      0           d+4 -1.519986e-05 -0.000007 -7.954503e-06 -5.850575e-05   \n",
              "4      0           d+5 -1.224994e-05 -0.000024  1.991241e-05  1.406655e-05   \n",
              "..   ...           ...           ...       ...           ...           ...   \n",
              "145    9          d+11 -2.379852e-06  0.000004  1.296565e-05 -1.082171e-04   \n",
              "146    9          d+12  2.391539e-05  0.000107 -6.063943e-07  2.240952e-05   \n",
              "147    9          d+13  2.561837e-05  0.000365  3.655130e-04 -6.525877e-05   \n",
              "148    9          d+14 -1.375562e-05 -0.000087 -3.045215e-05 -1.883471e-05   \n",
              "149    9  d+22 ~ 28 평균  4.995725e-06  0.000049  6.419985e-05  1.058508e-05   \n",
              "\n",
              "          품목4 변동률   품목5 변동률   품목6 변동률   품목7 변동률  ...  품목27 변동률  품목28 변동률  \\\n",
              "0    3.435116e-05 -0.000012  0.000049 -0.000012  ... -0.000020 -0.000132   \n",
              "1    2.567463e-05 -0.000025  0.000066 -0.000071  ... -0.000049  0.000059   \n",
              "2   -2.783603e-05 -0.000002  0.000021 -0.000050  ... -0.000019  0.000051   \n",
              "3    2.633777e-05 -0.000008 -0.000022  0.000006  ...  0.000013  0.000111   \n",
              "4    8.258353e-07  0.000016  0.000017 -0.000039  ... -0.000033 -0.000321   \n",
              "..            ...       ...       ...       ...  ...       ...       ...   \n",
              "145 -3.334251e-05 -0.000019  0.000024       NaN  ... -0.000026 -0.000248   \n",
              "146 -3.252162e-05 -0.000018 -0.000001       NaN  ... -0.000043  0.000321   \n",
              "147 -9.483037e-05 -0.000005 -0.000022       NaN  ... -0.000022 -0.000029   \n",
              "148 -2.213836e-05 -0.000002  0.000011       NaN  ... -0.000036  0.000284   \n",
              "149  1.612839e-05  0.000009 -0.000006       NaN  ... -0.000022 -0.000052   \n",
              "\n",
              "     품목29 변동률  품목30 변동률  품목31 변동률  품목32 변동률  품목33 변동률  품목34 변동률  품목35 변동률  \\\n",
              "0    0.000047 -0.000188  0.000026 -0.000004 -0.000056 -0.000020  0.000011   \n",
              "1   -0.000126 -0.000057 -0.000012 -0.000058 -0.000002  0.000008 -0.000003   \n",
              "2   -0.000168 -0.000053 -0.000025  0.000009  0.000013 -0.000033 -0.000095   \n",
              "3   -0.000028 -0.000092  0.000040  0.000028  0.000006 -0.000003 -0.000040   \n",
              "4   -0.000175  0.000029 -0.000001 -0.000061  0.000031 -0.000003 -0.000051   \n",
              "..        ...       ...       ...       ...       ...       ...       ...   \n",
              "145 -0.000067 -0.000195 -0.000059 -0.000022  0.000111 -0.000040 -0.000066   \n",
              "146 -0.000026  0.000107  0.000002 -0.000049 -0.000049  0.000031  0.000072   \n",
              "147 -0.000122  0.000014 -0.000028  0.000042 -0.000070 -0.000075 -0.000117   \n",
              "148  0.000010 -0.000161 -0.000034 -0.000009  0.000088 -0.000061 -0.000038   \n",
              "149 -0.000057 -0.000042  0.000016  0.000025  0.000103 -0.000037 -0.000026   \n",
              "\n",
              "         품목36 변동률  \n",
              "0   -1.768177e-07  \n",
              "1   -7.364773e-05  \n",
              "2    5.380373e-05  \n",
              "3   -5.713238e-05  \n",
              "4   -9.323612e-05  \n",
              "..            ...  \n",
              "145  1.023611e-04  \n",
              "146 -4.710899e-05  \n",
              "147  9.123462e-05  \n",
              "148  1.012043e-04  \n",
              "149  1.167216e-05  \n",
              "\n",
              "[150 rows x 39 columns]"
            ]
          },
          "execution_count": 115,
          "metadata": {},
          "output_type": "execute_result"
        }
      ],
      "source": [
        "all_df"
      ]
    },
    {
      "cell_type": "markdown",
      "metadata": {
        "id": "-OCf5arQJ8fq"
      },
      "source": [
        "- 제출 양식"
      ]
    },
    {
      "cell_type": "code",
      "execution_count": 116,
      "metadata": {
        "id": "9gI2ehAsJ8fq"
      },
      "outputs": [
        {
          "data": {
            "text/html": [
              "<div>\n",
              "<style scoped>\n",
              "    .dataframe tbody tr th:only-of-type {\n",
              "        vertical-align: middle;\n",
              "    }\n",
              "\n",
              "    .dataframe tbody tr th {\n",
              "        vertical-align: top;\n",
              "    }\n",
              "\n",
              "    .dataframe thead th {\n",
              "        text-align: right;\n",
              "    }\n",
              "</style>\n",
              "<table border=\"1\" class=\"dataframe\">\n",
              "  <thead>\n",
              "    <tr style=\"text-align: right;\">\n",
              "      <th></th>\n",
              "      <th>Set</th>\n",
              "      <th>일자</th>\n",
              "      <th>품목0 변동률</th>\n",
              "      <th>품목1 변동률</th>\n",
              "      <th>품목2 변동률</th>\n",
              "      <th>품목3 변동률</th>\n",
              "      <th>품목4 변동률</th>\n",
              "      <th>품목5 변동률</th>\n",
              "      <th>품목6 변동률</th>\n",
              "      <th>품목7 변동률</th>\n",
              "      <th>...</th>\n",
              "      <th>품목27 변동률</th>\n",
              "      <th>품목28 변동률</th>\n",
              "      <th>품목29 변동률</th>\n",
              "      <th>품목30 변동률</th>\n",
              "      <th>품목31 변동률</th>\n",
              "      <th>품목32 변동률</th>\n",
              "      <th>품목33 변동률</th>\n",
              "      <th>품목34 변동률</th>\n",
              "      <th>품목35 변동률</th>\n",
              "      <th>품목36 변동률</th>\n",
              "    </tr>\n",
              "  </thead>\n",
              "  <tbody>\n",
              "    <tr>\n",
              "      <th>0</th>\n",
              "      <td>0</td>\n",
              "      <td>d+1</td>\n",
              "      <td>0.0</td>\n",
              "      <td>0.0</td>\n",
              "      <td>0.0</td>\n",
              "      <td>0.0</td>\n",
              "      <td>0.0</td>\n",
              "      <td>0.0</td>\n",
              "      <td>0.0</td>\n",
              "      <td>0.0</td>\n",
              "      <td>...</td>\n",
              "      <td>0.0</td>\n",
              "      <td>0.0</td>\n",
              "      <td>0.0</td>\n",
              "      <td>0.0</td>\n",
              "      <td>0.0</td>\n",
              "      <td>0.0</td>\n",
              "      <td>0.0</td>\n",
              "      <td>0.0</td>\n",
              "      <td>0.0</td>\n",
              "      <td>0.0</td>\n",
              "    </tr>\n",
              "    <tr>\n",
              "      <th>1</th>\n",
              "      <td>0</td>\n",
              "      <td>d+2</td>\n",
              "      <td>0.0</td>\n",
              "      <td>0.0</td>\n",
              "      <td>0.0</td>\n",
              "      <td>0.0</td>\n",
              "      <td>0.0</td>\n",
              "      <td>0.0</td>\n",
              "      <td>NaN</td>\n",
              "      <td>0.0</td>\n",
              "      <td>...</td>\n",
              "      <td>0.0</td>\n",
              "      <td>0.0</td>\n",
              "      <td>0.0</td>\n",
              "      <td>0.0</td>\n",
              "      <td>0.0</td>\n",
              "      <td>0.0</td>\n",
              "      <td>0.0</td>\n",
              "      <td>0.0</td>\n",
              "      <td>0.0</td>\n",
              "      <td>0.0</td>\n",
              "    </tr>\n",
              "    <tr>\n",
              "      <th>2</th>\n",
              "      <td>0</td>\n",
              "      <td>d+3</td>\n",
              "      <td>NaN</td>\n",
              "      <td>NaN</td>\n",
              "      <td>NaN</td>\n",
              "      <td>NaN</td>\n",
              "      <td>NaN</td>\n",
              "      <td>NaN</td>\n",
              "      <td>0.0</td>\n",
              "      <td>NaN</td>\n",
              "      <td>...</td>\n",
              "      <td>NaN</td>\n",
              "      <td>NaN</td>\n",
              "      <td>NaN</td>\n",
              "      <td>NaN</td>\n",
              "      <td>NaN</td>\n",
              "      <td>NaN</td>\n",
              "      <td>NaN</td>\n",
              "      <td>NaN</td>\n",
              "      <td>NaN</td>\n",
              "      <td>NaN</td>\n",
              "    </tr>\n",
              "    <tr>\n",
              "      <th>3</th>\n",
              "      <td>0</td>\n",
              "      <td>d+4</td>\n",
              "      <td>0.0</td>\n",
              "      <td>0.0</td>\n",
              "      <td>0.0</td>\n",
              "      <td>0.0</td>\n",
              "      <td>0.0</td>\n",
              "      <td>0.0</td>\n",
              "      <td>NaN</td>\n",
              "      <td>0.0</td>\n",
              "      <td>...</td>\n",
              "      <td>0.0</td>\n",
              "      <td>0.0</td>\n",
              "      <td>0.0</td>\n",
              "      <td>0.0</td>\n",
              "      <td>0.0</td>\n",
              "      <td>0.0</td>\n",
              "      <td>0.0</td>\n",
              "      <td>0.0</td>\n",
              "      <td>0.0</td>\n",
              "      <td>0.0</td>\n",
              "    </tr>\n",
              "    <tr>\n",
              "      <th>4</th>\n",
              "      <td>0</td>\n",
              "      <td>d+5</td>\n",
              "      <td>0.0</td>\n",
              "      <td>0.0</td>\n",
              "      <td>0.0</td>\n",
              "      <td>0.0</td>\n",
              "      <td>0.0</td>\n",
              "      <td>0.0</td>\n",
              "      <td>NaN</td>\n",
              "      <td>0.0</td>\n",
              "      <td>...</td>\n",
              "      <td>0.0</td>\n",
              "      <td>0.0</td>\n",
              "      <td>0.0</td>\n",
              "      <td>0.0</td>\n",
              "      <td>0.0</td>\n",
              "      <td>0.0</td>\n",
              "      <td>0.0</td>\n",
              "      <td>0.0</td>\n",
              "      <td>0.0</td>\n",
              "      <td>0.0</td>\n",
              "    </tr>\n",
              "    <tr>\n",
              "      <th>...</th>\n",
              "      <td>...</td>\n",
              "      <td>...</td>\n",
              "      <td>...</td>\n",
              "      <td>...</td>\n",
              "      <td>...</td>\n",
              "      <td>...</td>\n",
              "      <td>...</td>\n",
              "      <td>...</td>\n",
              "      <td>...</td>\n",
              "      <td>...</td>\n",
              "      <td>...</td>\n",
              "      <td>...</td>\n",
              "      <td>...</td>\n",
              "      <td>...</td>\n",
              "      <td>...</td>\n",
              "      <td>...</td>\n",
              "      <td>...</td>\n",
              "      <td>...</td>\n",
              "      <td>...</td>\n",
              "      <td>...</td>\n",
              "      <td>...</td>\n",
              "    </tr>\n",
              "    <tr>\n",
              "      <th>145</th>\n",
              "      <td>9</td>\n",
              "      <td>d+11</td>\n",
              "      <td>0.0</td>\n",
              "      <td>0.0</td>\n",
              "      <td>0.0</td>\n",
              "      <td>0.0</td>\n",
              "      <td>0.0</td>\n",
              "      <td>0.0</td>\n",
              "      <td>0.0</td>\n",
              "      <td>NaN</td>\n",
              "      <td>...</td>\n",
              "      <td>0.0</td>\n",
              "      <td>0.0</td>\n",
              "      <td>0.0</td>\n",
              "      <td>0.0</td>\n",
              "      <td>0.0</td>\n",
              "      <td>0.0</td>\n",
              "      <td>0.0</td>\n",
              "      <td>0.0</td>\n",
              "      <td>0.0</td>\n",
              "      <td>0.0</td>\n",
              "    </tr>\n",
              "    <tr>\n",
              "      <th>146</th>\n",
              "      <td>9</td>\n",
              "      <td>d+12</td>\n",
              "      <td>0.0</td>\n",
              "      <td>0.0</td>\n",
              "      <td>0.0</td>\n",
              "      <td>0.0</td>\n",
              "      <td>0.0</td>\n",
              "      <td>0.0</td>\n",
              "      <td>0.0</td>\n",
              "      <td>NaN</td>\n",
              "      <td>...</td>\n",
              "      <td>0.0</td>\n",
              "      <td>0.0</td>\n",
              "      <td>0.0</td>\n",
              "      <td>0.0</td>\n",
              "      <td>0.0</td>\n",
              "      <td>0.0</td>\n",
              "      <td>0.0</td>\n",
              "      <td>0.0</td>\n",
              "      <td>0.0</td>\n",
              "      <td>0.0</td>\n",
              "    </tr>\n",
              "    <tr>\n",
              "      <th>147</th>\n",
              "      <td>9</td>\n",
              "      <td>d+13</td>\n",
              "      <td>0.0</td>\n",
              "      <td>0.0</td>\n",
              "      <td>0.0</td>\n",
              "      <td>0.0</td>\n",
              "      <td>0.0</td>\n",
              "      <td>0.0</td>\n",
              "      <td>0.0</td>\n",
              "      <td>NaN</td>\n",
              "      <td>...</td>\n",
              "      <td>0.0</td>\n",
              "      <td>0.0</td>\n",
              "      <td>0.0</td>\n",
              "      <td>0.0</td>\n",
              "      <td>0.0</td>\n",
              "      <td>0.0</td>\n",
              "      <td>0.0</td>\n",
              "      <td>0.0</td>\n",
              "      <td>0.0</td>\n",
              "      <td>0.0</td>\n",
              "    </tr>\n",
              "    <tr>\n",
              "      <th>148</th>\n",
              "      <td>9</td>\n",
              "      <td>d+14</td>\n",
              "      <td>0.0</td>\n",
              "      <td>0.0</td>\n",
              "      <td>0.0</td>\n",
              "      <td>0.0</td>\n",
              "      <td>0.0</td>\n",
              "      <td>0.0</td>\n",
              "      <td>0.0</td>\n",
              "      <td>NaN</td>\n",
              "      <td>...</td>\n",
              "      <td>0.0</td>\n",
              "      <td>0.0</td>\n",
              "      <td>0.0</td>\n",
              "      <td>0.0</td>\n",
              "      <td>0.0</td>\n",
              "      <td>0.0</td>\n",
              "      <td>0.0</td>\n",
              "      <td>0.0</td>\n",
              "      <td>0.0</td>\n",
              "      <td>0.0</td>\n",
              "    </tr>\n",
              "    <tr>\n",
              "      <th>149</th>\n",
              "      <td>9</td>\n",
              "      <td>d+22 ~ 28 평균</td>\n",
              "      <td>0.0</td>\n",
              "      <td>0.0</td>\n",
              "      <td>0.0</td>\n",
              "      <td>0.0</td>\n",
              "      <td>0.0</td>\n",
              "      <td>0.0</td>\n",
              "      <td>NaN</td>\n",
              "      <td>NaN</td>\n",
              "      <td>...</td>\n",
              "      <td>0.0</td>\n",
              "      <td>0.0</td>\n",
              "      <td>0.0</td>\n",
              "      <td>0.0</td>\n",
              "      <td>0.0</td>\n",
              "      <td>0.0</td>\n",
              "      <td>0.0</td>\n",
              "      <td>0.0</td>\n",
              "      <td>0.0</td>\n",
              "      <td>0.0</td>\n",
              "    </tr>\n",
              "  </tbody>\n",
              "</table>\n",
              "<p>150 rows × 39 columns</p>\n",
              "</div>"
            ],
            "text/plain": [
              "     Set            일자  품목0 변동률  품목1 변동률  품목2 변동률  품목3 변동률  품목4 변동률  품목5 변동률  \\\n",
              "0      0           d+1      0.0      0.0      0.0      0.0      0.0      0.0   \n",
              "1      0           d+2      0.0      0.0      0.0      0.0      0.0      0.0   \n",
              "2      0           d+3      NaN      NaN      NaN      NaN      NaN      NaN   \n",
              "3      0           d+4      0.0      0.0      0.0      0.0      0.0      0.0   \n",
              "4      0           d+5      0.0      0.0      0.0      0.0      0.0      0.0   \n",
              "..   ...           ...      ...      ...      ...      ...      ...      ...   \n",
              "145    9          d+11      0.0      0.0      0.0      0.0      0.0      0.0   \n",
              "146    9          d+12      0.0      0.0      0.0      0.0      0.0      0.0   \n",
              "147    9          d+13      0.0      0.0      0.0      0.0      0.0      0.0   \n",
              "148    9          d+14      0.0      0.0      0.0      0.0      0.0      0.0   \n",
              "149    9  d+22 ~ 28 평균      0.0      0.0      0.0      0.0      0.0      0.0   \n",
              "\n",
              "     품목6 변동률  품목7 변동률  ...  품목27 변동률  품목28 변동률  품목29 변동률  품목30 변동률  품목31 변동률  \\\n",
              "0        0.0      0.0  ...       0.0       0.0       0.0       0.0       0.0   \n",
              "1        NaN      0.0  ...       0.0       0.0       0.0       0.0       0.0   \n",
              "2        0.0      NaN  ...       NaN       NaN       NaN       NaN       NaN   \n",
              "3        NaN      0.0  ...       0.0       0.0       0.0       0.0       0.0   \n",
              "4        NaN      0.0  ...       0.0       0.0       0.0       0.0       0.0   \n",
              "..       ...      ...  ...       ...       ...       ...       ...       ...   \n",
              "145      0.0      NaN  ...       0.0       0.0       0.0       0.0       0.0   \n",
              "146      0.0      NaN  ...       0.0       0.0       0.0       0.0       0.0   \n",
              "147      0.0      NaN  ...       0.0       0.0       0.0       0.0       0.0   \n",
              "148      0.0      NaN  ...       0.0       0.0       0.0       0.0       0.0   \n",
              "149      NaN      NaN  ...       0.0       0.0       0.0       0.0       0.0   \n",
              "\n",
              "     품목32 변동률  품목33 변동률  품목34 변동률  품목35 변동률  품목36 변동률  \n",
              "0         0.0       0.0       0.0       0.0       0.0  \n",
              "1         0.0       0.0       0.0       0.0       0.0  \n",
              "2         NaN       NaN       NaN       NaN       NaN  \n",
              "3         0.0       0.0       0.0       0.0       0.0  \n",
              "4         0.0       0.0       0.0       0.0       0.0  \n",
              "..        ...       ...       ...       ...       ...  \n",
              "145       0.0       0.0       0.0       0.0       0.0  \n",
              "146       0.0       0.0       0.0       0.0       0.0  \n",
              "147       0.0       0.0       0.0       0.0       0.0  \n",
              "148       0.0       0.0       0.0       0.0       0.0  \n",
              "149       0.0       0.0       0.0       0.0       0.0  \n",
              "\n",
              "[150 rows x 39 columns]"
            ]
          },
          "execution_count": 116,
          "metadata": {},
          "output_type": "execute_result"
        }
      ],
      "source": [
        "out_ans"
      ]
    },
    {
      "cell_type": "markdown",
      "metadata": {
        "id": "PwVuAQnjJ8fs"
      },
      "source": [
        "- 제출 양식 반영한 최종 결과물 (**실 제출용**)"
      ]
    },
    {
      "cell_type": "code",
      "execution_count": 117,
      "metadata": {
        "id": "01gJL4kXJ8fs"
      },
      "outputs": [
        {
          "data": {
            "text/html": [
              "<div>\n",
              "<style scoped>\n",
              "    .dataframe tbody tr th:only-of-type {\n",
              "        vertical-align: middle;\n",
              "    }\n",
              "\n",
              "    .dataframe tbody tr th {\n",
              "        vertical-align: top;\n",
              "    }\n",
              "\n",
              "    .dataframe thead th {\n",
              "        text-align: right;\n",
              "    }\n",
              "</style>\n",
              "<table border=\"1\" class=\"dataframe\">\n",
              "  <thead>\n",
              "    <tr style=\"text-align: right;\">\n",
              "      <th></th>\n",
              "      <th>Set</th>\n",
              "      <th>일자</th>\n",
              "      <th>품목0 변동률</th>\n",
              "      <th>품목1 변동률</th>\n",
              "      <th>품목2 변동률</th>\n",
              "      <th>품목3 변동률</th>\n",
              "      <th>품목4 변동률</th>\n",
              "      <th>품목5 변동률</th>\n",
              "      <th>품목6 변동률</th>\n",
              "      <th>품목7 변동률</th>\n",
              "      <th>...</th>\n",
              "      <th>품목27 변동률</th>\n",
              "      <th>품목28 변동률</th>\n",
              "      <th>품목29 변동률</th>\n",
              "      <th>품목30 변동률</th>\n",
              "      <th>품목31 변동률</th>\n",
              "      <th>품목32 변동률</th>\n",
              "      <th>품목33 변동률</th>\n",
              "      <th>품목34 변동률</th>\n",
              "      <th>품목35 변동률</th>\n",
              "      <th>품목36 변동률</th>\n",
              "    </tr>\n",
              "  </thead>\n",
              "  <tbody>\n",
              "    <tr>\n",
              "      <th>0</th>\n",
              "      <td>0</td>\n",
              "      <td>d+1</td>\n",
              "      <td>-0.000021</td>\n",
              "      <td>0.000055</td>\n",
              "      <td>-5.308607e-05</td>\n",
              "      <td>-3.688581e-07</td>\n",
              "      <td>3.435116e-05</td>\n",
              "      <td>-0.000012</td>\n",
              "      <td>0.000049</td>\n",
              "      <td>-0.000012</td>\n",
              "      <td>...</td>\n",
              "      <td>-0.000020</td>\n",
              "      <td>-0.000132</td>\n",
              "      <td>0.000047</td>\n",
              "      <td>-0.000188</td>\n",
              "      <td>0.000026</td>\n",
              "      <td>-0.000004</td>\n",
              "      <td>-0.000056</td>\n",
              "      <td>-0.000020</td>\n",
              "      <td>0.000011</td>\n",
              "      <td>-1.768177e-07</td>\n",
              "    </tr>\n",
              "    <tr>\n",
              "      <th>1</th>\n",
              "      <td>0</td>\n",
              "      <td>d+2</td>\n",
              "      <td>-0.000028</td>\n",
              "      <td>-0.000004</td>\n",
              "      <td>1.434499e-05</td>\n",
              "      <td>2.795093e-05</td>\n",
              "      <td>2.567463e-05</td>\n",
              "      <td>-0.000025</td>\n",
              "      <td>NaN</td>\n",
              "      <td>-0.000071</td>\n",
              "      <td>...</td>\n",
              "      <td>-0.000049</td>\n",
              "      <td>0.000059</td>\n",
              "      <td>-0.000126</td>\n",
              "      <td>-0.000057</td>\n",
              "      <td>-0.000012</td>\n",
              "      <td>-0.000058</td>\n",
              "      <td>-0.000002</td>\n",
              "      <td>0.000008</td>\n",
              "      <td>-0.000003</td>\n",
              "      <td>-7.364773e-05</td>\n",
              "    </tr>\n",
              "    <tr>\n",
              "      <th>2</th>\n",
              "      <td>0</td>\n",
              "      <td>d+3</td>\n",
              "      <td>NaN</td>\n",
              "      <td>NaN</td>\n",
              "      <td>NaN</td>\n",
              "      <td>NaN</td>\n",
              "      <td>NaN</td>\n",
              "      <td>NaN</td>\n",
              "      <td>0.000021</td>\n",
              "      <td>NaN</td>\n",
              "      <td>...</td>\n",
              "      <td>NaN</td>\n",
              "      <td>NaN</td>\n",
              "      <td>NaN</td>\n",
              "      <td>NaN</td>\n",
              "      <td>NaN</td>\n",
              "      <td>NaN</td>\n",
              "      <td>NaN</td>\n",
              "      <td>NaN</td>\n",
              "      <td>NaN</td>\n",
              "      <td>NaN</td>\n",
              "    </tr>\n",
              "    <tr>\n",
              "      <th>3</th>\n",
              "      <td>0</td>\n",
              "      <td>d+4</td>\n",
              "      <td>-0.000015</td>\n",
              "      <td>-0.000007</td>\n",
              "      <td>-7.954503e-06</td>\n",
              "      <td>-5.850575e-05</td>\n",
              "      <td>2.633777e-05</td>\n",
              "      <td>-0.000008</td>\n",
              "      <td>NaN</td>\n",
              "      <td>0.000006</td>\n",
              "      <td>...</td>\n",
              "      <td>0.000013</td>\n",
              "      <td>0.000111</td>\n",
              "      <td>-0.000028</td>\n",
              "      <td>-0.000092</td>\n",
              "      <td>0.000040</td>\n",
              "      <td>0.000028</td>\n",
              "      <td>0.000006</td>\n",
              "      <td>-0.000003</td>\n",
              "      <td>-0.000040</td>\n",
              "      <td>-5.713238e-05</td>\n",
              "    </tr>\n",
              "    <tr>\n",
              "      <th>4</th>\n",
              "      <td>0</td>\n",
              "      <td>d+5</td>\n",
              "      <td>-0.000012</td>\n",
              "      <td>-0.000024</td>\n",
              "      <td>1.991241e-05</td>\n",
              "      <td>1.406655e-05</td>\n",
              "      <td>8.258353e-07</td>\n",
              "      <td>0.000016</td>\n",
              "      <td>NaN</td>\n",
              "      <td>-0.000039</td>\n",
              "      <td>...</td>\n",
              "      <td>-0.000033</td>\n",
              "      <td>-0.000321</td>\n",
              "      <td>-0.000175</td>\n",
              "      <td>0.000029</td>\n",
              "      <td>-0.000001</td>\n",
              "      <td>-0.000061</td>\n",
              "      <td>0.000031</td>\n",
              "      <td>-0.000003</td>\n",
              "      <td>-0.000051</td>\n",
              "      <td>-9.323612e-05</td>\n",
              "    </tr>\n",
              "    <tr>\n",
              "      <th>...</th>\n",
              "      <td>...</td>\n",
              "      <td>...</td>\n",
              "      <td>...</td>\n",
              "      <td>...</td>\n",
              "      <td>...</td>\n",
              "      <td>...</td>\n",
              "      <td>...</td>\n",
              "      <td>...</td>\n",
              "      <td>...</td>\n",
              "      <td>...</td>\n",
              "      <td>...</td>\n",
              "      <td>...</td>\n",
              "      <td>...</td>\n",
              "      <td>...</td>\n",
              "      <td>...</td>\n",
              "      <td>...</td>\n",
              "      <td>...</td>\n",
              "      <td>...</td>\n",
              "      <td>...</td>\n",
              "      <td>...</td>\n",
              "      <td>...</td>\n",
              "    </tr>\n",
              "    <tr>\n",
              "      <th>145</th>\n",
              "      <td>9</td>\n",
              "      <td>d+11</td>\n",
              "      <td>-0.000002</td>\n",
              "      <td>0.000004</td>\n",
              "      <td>1.296565e-05</td>\n",
              "      <td>-1.082171e-04</td>\n",
              "      <td>-3.334251e-05</td>\n",
              "      <td>-0.000019</td>\n",
              "      <td>0.000024</td>\n",
              "      <td>NaN</td>\n",
              "      <td>...</td>\n",
              "      <td>-0.000026</td>\n",
              "      <td>-0.000248</td>\n",
              "      <td>-0.000067</td>\n",
              "      <td>-0.000195</td>\n",
              "      <td>-0.000059</td>\n",
              "      <td>-0.000022</td>\n",
              "      <td>0.000111</td>\n",
              "      <td>-0.000040</td>\n",
              "      <td>-0.000066</td>\n",
              "      <td>1.023611e-04</td>\n",
              "    </tr>\n",
              "    <tr>\n",
              "      <th>146</th>\n",
              "      <td>9</td>\n",
              "      <td>d+12</td>\n",
              "      <td>0.000024</td>\n",
              "      <td>0.000107</td>\n",
              "      <td>-6.063943e-07</td>\n",
              "      <td>2.240952e-05</td>\n",
              "      <td>-3.252162e-05</td>\n",
              "      <td>-0.000018</td>\n",
              "      <td>-0.000001</td>\n",
              "      <td>NaN</td>\n",
              "      <td>...</td>\n",
              "      <td>-0.000043</td>\n",
              "      <td>0.000321</td>\n",
              "      <td>-0.000026</td>\n",
              "      <td>0.000107</td>\n",
              "      <td>0.000002</td>\n",
              "      <td>-0.000049</td>\n",
              "      <td>-0.000049</td>\n",
              "      <td>0.000031</td>\n",
              "      <td>0.000072</td>\n",
              "      <td>-4.710899e-05</td>\n",
              "    </tr>\n",
              "    <tr>\n",
              "      <th>147</th>\n",
              "      <td>9</td>\n",
              "      <td>d+13</td>\n",
              "      <td>0.000026</td>\n",
              "      <td>0.000365</td>\n",
              "      <td>3.655130e-04</td>\n",
              "      <td>-6.525877e-05</td>\n",
              "      <td>-9.483037e-05</td>\n",
              "      <td>-0.000005</td>\n",
              "      <td>-0.000022</td>\n",
              "      <td>NaN</td>\n",
              "      <td>...</td>\n",
              "      <td>-0.000022</td>\n",
              "      <td>-0.000029</td>\n",
              "      <td>-0.000122</td>\n",
              "      <td>0.000014</td>\n",
              "      <td>-0.000028</td>\n",
              "      <td>0.000042</td>\n",
              "      <td>-0.000070</td>\n",
              "      <td>-0.000075</td>\n",
              "      <td>-0.000117</td>\n",
              "      <td>9.123462e-05</td>\n",
              "    </tr>\n",
              "    <tr>\n",
              "      <th>148</th>\n",
              "      <td>9</td>\n",
              "      <td>d+14</td>\n",
              "      <td>-0.000014</td>\n",
              "      <td>-0.000087</td>\n",
              "      <td>-3.045215e-05</td>\n",
              "      <td>-1.883471e-05</td>\n",
              "      <td>-2.213836e-05</td>\n",
              "      <td>-0.000002</td>\n",
              "      <td>0.000011</td>\n",
              "      <td>NaN</td>\n",
              "      <td>...</td>\n",
              "      <td>-0.000036</td>\n",
              "      <td>0.000284</td>\n",
              "      <td>0.000010</td>\n",
              "      <td>-0.000161</td>\n",
              "      <td>-0.000034</td>\n",
              "      <td>-0.000009</td>\n",
              "      <td>0.000088</td>\n",
              "      <td>-0.000061</td>\n",
              "      <td>-0.000038</td>\n",
              "      <td>1.012043e-04</td>\n",
              "    </tr>\n",
              "    <tr>\n",
              "      <th>149</th>\n",
              "      <td>9</td>\n",
              "      <td>d+22 ~ 28 평균</td>\n",
              "      <td>0.000005</td>\n",
              "      <td>0.000049</td>\n",
              "      <td>6.419985e-05</td>\n",
              "      <td>1.058508e-05</td>\n",
              "      <td>1.612839e-05</td>\n",
              "      <td>0.000009</td>\n",
              "      <td>NaN</td>\n",
              "      <td>NaN</td>\n",
              "      <td>...</td>\n",
              "      <td>-0.000022</td>\n",
              "      <td>-0.000052</td>\n",
              "      <td>-0.000057</td>\n",
              "      <td>-0.000042</td>\n",
              "      <td>0.000016</td>\n",
              "      <td>0.000025</td>\n",
              "      <td>0.000103</td>\n",
              "      <td>-0.000037</td>\n",
              "      <td>-0.000026</td>\n",
              "      <td>1.167216e-05</td>\n",
              "    </tr>\n",
              "  </tbody>\n",
              "</table>\n",
              "<p>150 rows × 39 columns</p>\n",
              "</div>"
            ],
            "text/plain": [
              "     Set            일자   품목0 변동률   품목1 변동률       품목2 변동률       품목3 변동률  \\\n",
              "0      0           d+1 -0.000021  0.000055 -5.308607e-05 -3.688581e-07   \n",
              "1      0           d+2 -0.000028 -0.000004  1.434499e-05  2.795093e-05   \n",
              "2      0           d+3       NaN       NaN           NaN           NaN   \n",
              "3      0           d+4 -0.000015 -0.000007 -7.954503e-06 -5.850575e-05   \n",
              "4      0           d+5 -0.000012 -0.000024  1.991241e-05  1.406655e-05   \n",
              "..   ...           ...       ...       ...           ...           ...   \n",
              "145    9          d+11 -0.000002  0.000004  1.296565e-05 -1.082171e-04   \n",
              "146    9          d+12  0.000024  0.000107 -6.063943e-07  2.240952e-05   \n",
              "147    9          d+13  0.000026  0.000365  3.655130e-04 -6.525877e-05   \n",
              "148    9          d+14 -0.000014 -0.000087 -3.045215e-05 -1.883471e-05   \n",
              "149    9  d+22 ~ 28 평균  0.000005  0.000049  6.419985e-05  1.058508e-05   \n",
              "\n",
              "          품목4 변동률   품목5 변동률   품목6 변동률   품목7 변동률  ...  품목27 변동률  품목28 변동률  \\\n",
              "0    3.435116e-05 -0.000012  0.000049 -0.000012  ... -0.000020 -0.000132   \n",
              "1    2.567463e-05 -0.000025       NaN -0.000071  ... -0.000049  0.000059   \n",
              "2             NaN       NaN  0.000021       NaN  ...       NaN       NaN   \n",
              "3    2.633777e-05 -0.000008       NaN  0.000006  ...  0.000013  0.000111   \n",
              "4    8.258353e-07  0.000016       NaN -0.000039  ... -0.000033 -0.000321   \n",
              "..            ...       ...       ...       ...  ...       ...       ...   \n",
              "145 -3.334251e-05 -0.000019  0.000024       NaN  ... -0.000026 -0.000248   \n",
              "146 -3.252162e-05 -0.000018 -0.000001       NaN  ... -0.000043  0.000321   \n",
              "147 -9.483037e-05 -0.000005 -0.000022       NaN  ... -0.000022 -0.000029   \n",
              "148 -2.213836e-05 -0.000002  0.000011       NaN  ... -0.000036  0.000284   \n",
              "149  1.612839e-05  0.000009       NaN       NaN  ... -0.000022 -0.000052   \n",
              "\n",
              "     품목29 변동률  품목30 변동률  품목31 변동률  품목32 변동률  품목33 변동률  품목34 변동률  품목35 변동률  \\\n",
              "0    0.000047 -0.000188  0.000026 -0.000004 -0.000056 -0.000020  0.000011   \n",
              "1   -0.000126 -0.000057 -0.000012 -0.000058 -0.000002  0.000008 -0.000003   \n",
              "2         NaN       NaN       NaN       NaN       NaN       NaN       NaN   \n",
              "3   -0.000028 -0.000092  0.000040  0.000028  0.000006 -0.000003 -0.000040   \n",
              "4   -0.000175  0.000029 -0.000001 -0.000061  0.000031 -0.000003 -0.000051   \n",
              "..        ...       ...       ...       ...       ...       ...       ...   \n",
              "145 -0.000067 -0.000195 -0.000059 -0.000022  0.000111 -0.000040 -0.000066   \n",
              "146 -0.000026  0.000107  0.000002 -0.000049 -0.000049  0.000031  0.000072   \n",
              "147 -0.000122  0.000014 -0.000028  0.000042 -0.000070 -0.000075 -0.000117   \n",
              "148  0.000010 -0.000161 -0.000034 -0.000009  0.000088 -0.000061 -0.000038   \n",
              "149 -0.000057 -0.000042  0.000016  0.000025  0.000103 -0.000037 -0.000026   \n",
              "\n",
              "         품목36 변동률  \n",
              "0   -1.768177e-07  \n",
              "1   -7.364773e-05  \n",
              "2             NaN  \n",
              "3   -5.713238e-05  \n",
              "4   -9.323612e-05  \n",
              "..            ...  \n",
              "145  1.023611e-04  \n",
              "146 -4.710899e-05  \n",
              "147  9.123462e-05  \n",
              "148  1.012043e-04  \n",
              "149  1.167216e-05  \n",
              "\n",
              "[150 rows x 39 columns]"
            ]
          },
          "execution_count": 117,
          "metadata": {},
          "output_type": "execute_result"
        }
      ],
      "source": [
        "submit_df"
      ]
    }
  ],
  "metadata": {
    "accelerator": "GPU",
    "colab": {
      "collapsed_sections": [],
      "provenance": []
    },
    "interpreter": {
      "hash": "8103e069ec51355429052e158df4f5ba0ef95071c815cf0f00b63f8cf0232057"
    },
    "kernelspec": {
      "display_name": "Python 3.10.6 64-bit ('tfenv': conda)",
      "name": "python3"
    },
    "language_info": {
      "codemirror_mode": {
        "name": "ipython",
        "version": 3
      },
      "file_extension": ".py",
      "mimetype": "text/x-python",
      "name": "python",
      "nbconvert_exporter": "python",
      "pygments_lexer": "ipython3",
      "version": "3.10.6"
    }
  },
  "nbformat": 4,
  "nbformat_minor": 0
}
