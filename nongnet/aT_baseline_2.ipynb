{
  "cells": [
    {
      "cell_type": "markdown",
      "metadata": {
        "id": "hNs6NdTdJ8eP"
      },
      "source": [
        "# best"
      ]
    },
    {
      "cell_type": "code",
      "execution_count": 1,
      "metadata": {
        "id": "PQ4fzHA5J8eV"
      },
      "outputs": [],
      "source": [
        "import pandas as pd\n",
        "import numpy as np\n",
        "from tqdm import tqdm\n",
        "import warnings\n",
        "from glob2 import glob\n",
        "import tensorflow as tf\n",
        "from tensorflow.keras.callbacks import EarlyStopping, ModelCheckpoint\n",
        "from tensorflow import keras\n",
        "from tensorflow.keras import layers\n",
        "from sklearn.model_selection import train_test_split\n",
        "from pandasql import sqldf\n",
        "import random\n",
        "import os\n",
        "from numba import jit,njit\n",
        "\n",
        "test_num = 14\n",
        "\n",
        "# 경고 끄기\n",
        "warnings.filterwarnings(action='ignore')\n",
        "\n",
        "# 시드고정\n",
        "tf.random.set_seed(19970119)\n",
        "random.seed(19970119)\n",
        "np.random.seed(19970119)"
      ]
    },
    {
      "cell_type": "markdown",
      "metadata": {
        "id": "L6KeVclxJ8ex"
      },
      "source": [
        "&nbsp;"
      ]
    },
    {
      "cell_type": "markdown",
      "metadata": {
        "id": "Op_HKyOgJ8ex"
      },
      "source": [
        "## 입력 shape 및 형태 정의 함수"
      ]
    },
    {
      "cell_type": "code",
      "execution_count": 2,
      "metadata": {
        "id": "Gnlo6CdoJ8ey"
      },
      "outputs": [],
      "source": [
        "@jit\n",
        "def make_Tensor(array):\n",
        "    return tf.convert_to_tensor(array, dtype=tf.float32)\n",
        "\n",
        "@jit\n",
        "def astype_data(data):\n",
        "    df = data.astype(np.float32)\n",
        "    return make_Tensor(df)"
      ]
    },
    {
      "cell_type": "markdown",
      "metadata": {
        "id": "HW5tSx9CJ8ez"
      },
      "source": [
        "&nbsp;"
      ]
    },
    {
      "cell_type": "markdown",
      "metadata": {
        "id": "23d5CbY2J8e0"
      },
      "source": [
        "## Transformer 정의"
      ]
    },
    {
      "cell_type": "markdown",
      "metadata": {
        "id": "AnsaPEZxJ8e0"
      },
      "source": [
        "- encoder"
      ]
    },
    {
      "cell_type": "code",
      "execution_count": 3,
      "metadata": {
        "id": "fN-y2wg2J8e1"
      },
      "outputs": [],
      "source": [
        "@jit\n",
        "def transformer_encoder(inputs, head_size, num_heads, ff_dim, dropout=0):\n",
        "    x = layers.LayerNormalization(epsilon=1e-6)(inputs)\n",
        "    x = layers.MultiHeadAttention(\n",
        "        key_dim=head_size, num_heads=num_heads, dropout=dropout\n",
        "    )(x, x)\n",
        "    x = layers.Dropout(dropout)(x)\n",
        "    res = x + inputs\n",
        "\n",
        "    x = layers.LayerNormalization(epsilon=1e-6)(res)\n",
        "    x = layers.Conv1D(filters=ff_dim, kernel_size=1, activation=\"relu\")(x)\n",
        "    x = layers.Dropout(dropout)(x)\n",
        "    x = layers.Conv1D(filters=inputs.shape[-1], kernel_size=1)(x)\n",
        "    return x + res"
      ]
    },
    {
      "cell_type": "markdown",
      "metadata": {
        "id": "qHPatYotJ8e2"
      },
      "source": [
        "- build"
      ]
    },
    {
      "cell_type": "code",
      "execution_count": 4,
      "metadata": {
        "id": "f53uwkrVJ8e3"
      },
      "outputs": [],
      "source": [
        "@jit\n",
        "def build_model(input_shape, head_size, num_heads, ff_dim, num_transformer_blocks, mlp_units, dropout=0, mlp_dropout=0):\n",
        "    inputs = keras.Input(shape=input_shape)\n",
        "    x = inputs\n",
        "    for _ in range(num_transformer_blocks):\n",
        "        x = transformer_encoder(x, head_size, num_heads, ff_dim, dropout)\n",
        "\n",
        "    x = layers.GlobalAveragePooling1D(data_format=\"channels_first\")(x)\n",
        "    for dim in mlp_units:\n",
        "        x = layers.Dense(dim, activation=\"relu\")(x)\n",
        "        x = layers.Dropout(mlp_dropout)(x)\n",
        "    outputs = layers.Dense(28)(x) # 4주 예측\n",
        "    return keras.Model(inputs, outputs)"
      ]
    },
    {
      "cell_type": "markdown",
      "metadata": {
        "id": "Zf-P1DEqJ8e5"
      },
      "source": [
        "&nbsp;"
      ]
    },
    {
      "cell_type": "markdown",
      "metadata": {
        "id": "kt8olYmCJ8e5"
      },
      "source": [
        "## keras eraly stop, chekpoint 정의"
      ]
    },
    {
      "cell_type": "code",
      "execution_count": 5,
      "metadata": {
        "id": "dI2gT91mJ8e6"
      },
      "outputs": [],
      "source": [
        "@jit\n",
        "def call_back_set(name, epoch, batch_size):\n",
        "    early_stopping = EarlyStopping(monitor='val_loss', patience=30)\n",
        "\n",
        "    if os.path.exists(f'./check') == False:\n",
        "        os.mkdir(f'./check')\n",
        "\n",
        "    filename = f'./check/{name}-{epoch}-{batch_size}.h5'\n",
        "\n",
        "    checkpoint = ModelCheckpoint(filename,\n",
        "                                 monitor='val_loss',\n",
        "                                 verbose=0,\n",
        "                                 save_best_only=True,\n",
        "                                 save_weights_only=True,\n",
        "                                 mode='auto'\n",
        "                                 )\n",
        "    return [early_stopping, checkpoint]"
      ]
    },
    {
      "cell_type": "markdown",
      "metadata": {
        "id": "Zx-muC5oJ8e7"
      },
      "source": [
        "&nbsp;"
      ]
    },
    {
      "cell_type": "markdown",
      "metadata": {
        "id": "Qh0K9WvSJ8e8"
      },
      "source": [
        "## Model 훈련 함수"
      ]
    },
    {
      "cell_type": "code",
      "execution_count": 6,
      "metadata": {
        "id": "g5O8y4bqJ8e9"
      },
      "outputs": [],
      "source": [
        "def train(x_train, y_train, x_val, y_val, name, epoch, batch_size, learning_rate = 0.001, verbose = 0):\n",
        "    model = build_model(\n",
        "    x_train.shape[1:],\n",
        "    head_size=256,\n",
        "    num_heads=3,\n",
        "    ff_dim=4,\n",
        "    num_transformer_blocks=3,\n",
        "    mlp_units=[128],\n",
        "    mlp_dropout=0.25,\n",
        "    dropout=0.25,\n",
        "    )\n",
        "\n",
        "    model.compile(\n",
        "        loss=\"mean_squared_error\",\n",
        "        optimizer=keras.optimizers.Adam(learning_rate=learning_rate)\n",
        "    )\n",
        "\n",
        "    # Train the model\n",
        "    with tf.device('/device:GPU:1'):\n",
        "        history1 = model.fit(\n",
        "            x_train, y_train,\n",
        "            epochs = epoch,\n",
        "            steps_per_epoch=len(x_train) / batch_size,\n",
        "            batch_size=batch_size,\n",
        "            validation_data=(x_val, y_val),\n",
        "            validation_steps=len(x_val) / batch_size,\n",
        "            shuffle=False,\n",
        "            callbacks=call_back_set(name, epoch, batch_size),\n",
        "            verbose=verbose)\n",
        "\n",
        "    return model"
      ]
    },
    {
      "cell_type": "markdown",
      "metadata": {
        "id": "eLmwSKHnJ8e_"
      },
      "source": [
        "&nbsp;"
      ]
    },
    {
      "cell_type": "markdown",
      "metadata": {
        "id": "i0sTg94GJ8fA"
      },
      "source": [
        "## 시점 윈도우 생성 함수"
      ]
    },
    {
      "cell_type": "code",
      "execution_count": 7,
      "metadata": {
        "id": "G7o0auoqJ8fB"
      },
      "outputs": [],
      "source": [
        "@jit\n",
        "def time_window(df, t, t_sep):\n",
        "    seq_len = t\n",
        "    seqence_length = seq_len + t_sep\n",
        "\n",
        "    result = []\n",
        "    for index in range(len(df) - seqence_length):\n",
        "        result.append(df[index: index + seqence_length].values)\n",
        "\n",
        "    return np.array(result)\n",
        "\n",
        "@jit\n",
        "def y_time_window(df, t, t_sep):\n",
        "    seq_len = t\n",
        "    seqence_length = seq_len + t_sep\n",
        "\n",
        "    result = []\n",
        "    for index in range(14, len(df) - seqence_length):\n",
        "        result.append(df[index: index + seqence_length].values - df.iloc[index-1])\n",
        "\n",
        "    return np.array(result)"
      ]
    },
    {
      "cell_type": "markdown",
      "metadata": {
        "id": "t6x20G1VJ8fF"
      },
      "source": [
        "&nbsp;"
      ]
    },
    {
      "cell_type": "markdown",
      "metadata": {
        "id": "cqK2s1oZJ8fG"
      },
      "source": [
        "## 데이터 불러오기 및 parameter 설정"
      ]
    },
    {
      "cell_type": "code",
      "execution_count": 8,
      "metadata": {
        "id": "hkV5__kvJ8fI"
      },
      "outputs": [],
      "source": [
        "data_list = glob('./aT_data/data/train/*.csv')\n",
        "epoch = 1000\n",
        "batch = 64"
      ]
    },
    {
      "cell_type": "code",
      "execution_count": 9,
      "metadata": {
        "id": "Mm8FLNrlhp3y"
      },
      "outputs": [],
      "source": [
        "\n",
        "def feature_engineer(df):\n",
        "       #시간 코사인 인코딩\n",
        "       if df['datadate'].all() == 0:\n",
        "         df['datadate'] = 20180520\n",
        "       df['datetime'] = pd.to_datetime(df['datadate'], format=\"%Y%m%d\")\n",
        "       df['cos_time'] = np.cos(2*np.pi*df['datetime'].dt.dayofyear/365)\n",
        "\n",
        "       # 결측치\n",
        "       df = df.replace(' ', np.nan)\n",
        "       df = df.fillna(0)\n",
        "\n",
        "       # 주산지 초기온도, 최대온도, 최저온도, 평균온도, 강수량, 습도\n",
        "       df['주산지_초기온도'] = (df['주산지_0_초기온도(℃)'] + df['주산지_1_초기온도(℃)'] + df['주산지_2_초기온도(℃)'])/3\n",
        "       df['주산지_최대온도'] = (df['주산지_0_최대온도(℃)'] + df['주산지_1_최대온도(℃)'] + df['주산지_2_최대온도(℃)'])/3\n",
        "       df['주산지_최저온도'] = (df['주산지_0_최저온도(℃)'] + df['주산지_1_최저온도(℃)'] + df['주산지_2_최저온도(℃)'])/3\n",
        "       df['주산지_평균온도'] = (df['주산지_0_평균온도(℃)'] + df['주산지_1_평균온도(℃)'] + df['주산지_2_평균온도(℃)'])/3\n",
        "       df['주산지_강수량'] = (df['주산지_0_강수량(ml)'] + df['주산지_1_강수량(ml)'] + df['주산지_2_강수량(ml)'])/3\n",
        "\n",
        "       # 필요한 컬럼 선택\n",
        "       market_cols = ['단가(원)', '경매건수', '거래량', '거래대금(원)'] # \n",
        "\n",
        "       market_code_cols = [] # '도매시장코드', '도매법인코드', '산지코드 '\n",
        "\n",
        "       market_statistics_cols = [] \n",
        "       # , '하위가격 거래물량(kg)', '상위가격 거래물량(kg)', '일자별_도매가격_최대(원)', '하위가격 평균가(원)',\n",
        "       #  '상위가격 평균가(원)', '해당일자_전체거래물량(kg)', '일자별_소매가격_최대(원)', '일자별_소매가격_평균(원)', '일자별_소매가격_최소(원)'\n",
        "       #  '일자별_도매가격_평균(원)', '일자별_도매가격_최소(원)', , \n",
        "       \n",
        "       export_cols = [] # '수출중량(kg)', '수출금액(달러)', '수입중량(kg)', '수입금액(달러)', '무역수지(달러)'\n",
        "       \n",
        "       date_cols = ['datadate', 'cos_time'] # ,, '일자구분_중순', '일자구분_초순', '일자구분_하순', '월구분_10월', '월구분_11월', '월구분_12월', '월구분_1월', '월구분_2월','월구분_3월', '월구분_4월', '월구분_5월', '월구분_6월', '월구분_7월', '월구분_8월', '월구분_9월', 'datetime'\n",
        "\n",
        "       weather_cols = [] \n",
        "      #  '주산지_0_초기온도(℃)', '주산지_1_초기온도(℃)', '주산지_2_초기온도(℃)',\n",
        "      #  '주산지_0_최대온도(℃)', '주산지_1_최대온도(℃)', '주산지_2_최대온도(℃)',\n",
        "      #  '주산지_0_최저온도(℃)', '주산지_1_최저온도(℃)', '주산지_2_최저온도(℃)',\n",
        "      #  '주산지_0_평균온도(℃)', '주산지_1_평균온도(℃)', '주산지_2_평균온도(℃)',\n",
        "      #  '주산지_0_강수량(ml)', '주산지_1_강수량(ml)', '주산지_2_강수량(ml)',\n",
        "      #  '주산지_0_습도(%)', '주산지_1_습도(%)', '주산지_2_습도(%)'\n",
        "\n",
        "       selected_columns = ['해당일자_전체평균가격(원)']  + market_cols + market_code_cols + market_statistics_cols + export_cols +  date_cols + weather_cols # train 에서 사용하지 않는 열\n",
        "\n",
        "       df = df[[c for c in df.columns if c in selected_columns]]\n",
        "\n",
        "       return df"
      ]
    },
    {
      "cell_type": "markdown",
      "metadata": {
        "id": "tQ-dAEuNJ8fJ"
      },
      "source": [
        "&nbsp;"
      ]
    },
    {
      "cell_type": "markdown",
      "metadata": {
        "id": "EF2VmW68J8fK"
      },
      "source": [
        "## Train 과정"
      ]
    },
    {
      "cell_type": "code",
      "execution_count": 10,
      "metadata": {
        "colab": {
          "background_save": true
        },
        "id": "WgmRJNAuJ8fL"
      },
      "outputs": [
        {
          "name": "stderr",
          "output_type": "stream",
          "text": [
            "  0%|          | 0/37 [00:00<?, ?it/s]"
          ]
        },
        {
          "name": "stdout",
          "output_type": "stream",
          "text": [
            "./aT_data/data/train/train_4.csv\n",
            "Metal device set to: Apple M1\n",
            "\n",
            "systemMemory: 8.00 GB\n",
            "maxCacheSize: 2.67 GB\n",
            "\n"
          ]
        },
        {
          "name": "stderr",
          "output_type": "stream",
          "text": [
            "2022-09-21 13:03:15.753398: I tensorflow/core/common_runtime/pluggable_device/pluggable_device_factory.cc:305] Could not identify NUMA node of platform GPU ID 0, defaulting to 0. Your kernel may not have been built with NUMA support.\n",
            "2022-09-21 13:03:15.753808: I tensorflow/core/common_runtime/pluggable_device/pluggable_device_factory.cc:271] Created TensorFlow device (/job:localhost/replica:0/task:0/device:GPU:0 with 0 MB memory) -> physical PluggableDevice (device: 0, name: METAL, pci bus id: <undefined>)\n",
            "2022-09-21 13:03:16.697154: W tensorflow/core/platform/profile_utils/cpu_utils.cc:128] Failed to get CPU frequency: 0 Hz\n",
            "2022-09-21 13:03:16.856661: I tensorflow/core/grappler/optimizers/custom_graph_optimizer_registry.cc:113] Plugin optimizer for device_type GPU is enabled.\n",
            "2022-09-21 13:03:17.156944: I tensorflow/core/grappler/optimizers/custom_graph_optimizer_registry.cc:113] Plugin optimizer for device_type GPU is enabled.\n",
            "  3%|▎         | 1/37 [01:24<50:54, 84.84s/it]"
          ]
        },
        {
          "name": "stdout",
          "output_type": "stream",
          "text": [
            "\n",
            "valid_loss:  1408579.75\n",
            "./aT_data/data/train/train_15.csv\n"
          ]
        },
        {
          "name": "stderr",
          "output_type": "stream",
          "text": [
            "2022-09-21 13:04:40.319119: I tensorflow/core/grappler/optimizers/custom_graph_optimizer_registry.cc:113] Plugin optimizer for device_type GPU is enabled.\n",
            "2022-09-21 13:04:40.499639: I tensorflow/core/grappler/optimizers/custom_graph_optimizer_registry.cc:113] Plugin optimizer for device_type GPU is enabled.\n",
            "  5%|▌         | 2/37 [02:48<48:58, 83.96s/it]"
          ]
        },
        {
          "name": "stdout",
          "output_type": "stream",
          "text": [
            "\n",
            "valid_loss:  557766.125\n",
            "./aT_data/data/train/train_29.csv\n"
          ]
        },
        {
          "name": "stderr",
          "output_type": "stream",
          "text": [
            "2022-09-21 13:06:03.683036: I tensorflow/core/grappler/optimizers/custom_graph_optimizer_registry.cc:113] Plugin optimizer for device_type GPU is enabled.\n",
            "2022-09-21 13:06:03.890997: I tensorflow/core/grappler/optimizers/custom_graph_optimizer_registry.cc:113] Plugin optimizer for device_type GPU is enabled.\n",
            "  8%|▊         | 3/37 [04:12<47:47, 84.34s/it]"
          ]
        },
        {
          "name": "stdout",
          "output_type": "stream",
          "text": [
            "\n",
            "valid_loss:  315245.0625\n",
            "./aT_data/data/train/train_28.csv\n"
          ]
        },
        {
          "name": "stderr",
          "output_type": "stream",
          "text": [
            "2022-09-21 13:07:28.474946: I tensorflow/core/grappler/optimizers/custom_graph_optimizer_registry.cc:113] Plugin optimizer for device_type GPU is enabled.\n",
            "2022-09-21 13:07:28.685517: I tensorflow/core/grappler/optimizers/custom_graph_optimizer_registry.cc:113] Plugin optimizer for device_type GPU is enabled.\n",
            " 11%|█         | 4/37 [05:38<46:43, 84.96s/it]"
          ]
        },
        {
          "name": "stdout",
          "output_type": "stream",
          "text": [
            "\n",
            "valid_loss:  73800.7890625\n",
            "./aT_data/data/train/train_14.csv\n"
          ]
        },
        {
          "name": "stderr",
          "output_type": "stream",
          "text": [
            "2022-09-21 13:08:54.522190: I tensorflow/core/grappler/optimizers/custom_graph_optimizer_registry.cc:113] Plugin optimizer for device_type GPU is enabled.\n",
            "2022-09-21 13:08:54.786807: I tensorflow/core/grappler/optimizers/custom_graph_optimizer_registry.cc:113] Plugin optimizer for device_type GPU is enabled.\n",
            " 14%|█▎        | 5/37 [07:08<46:17, 86.81s/it]"
          ]
        },
        {
          "name": "stdout",
          "output_type": "stream",
          "text": [
            "\n",
            "valid_loss:  27782410.0\n",
            "./aT_data/data/train/train_5.csv\n"
          ]
        },
        {
          "name": "stderr",
          "output_type": "stream",
          "text": [
            "2022-09-21 13:10:24.831785: I tensorflow/core/grappler/optimizers/custom_graph_optimizer_registry.cc:113] Plugin optimizer for device_type GPU is enabled.\n",
            "2022-09-21 13:10:25.030365: I tensorflow/core/grappler/optimizers/custom_graph_optimizer_registry.cc:113] Plugin optimizer for device_type GPU is enabled.\n",
            " 16%|█▌        | 6/37 [08:41<45:48, 88.65s/it]"
          ]
        },
        {
          "name": "stdout",
          "output_type": "stream",
          "text": [
            "\n",
            "valid_loss:  5546303.0\n",
            "./aT_data/data/train/train_7.csv\n"
          ]
        },
        {
          "name": "stderr",
          "output_type": "stream",
          "text": [
            "2022-09-21 13:11:56.755221: I tensorflow/core/grappler/optimizers/custom_graph_optimizer_registry.cc:113] Plugin optimizer for device_type GPU is enabled.\n",
            "2022-09-21 13:11:56.967478: I tensorflow/core/grappler/optimizers/custom_graph_optimizer_registry.cc:113] Plugin optimizer for device_type GPU is enabled.\n",
            " 19%|█▉        | 7/37 [10:14<45:03, 90.13s/it]"
          ]
        },
        {
          "name": "stdout",
          "output_type": "stream",
          "text": [
            "\n",
            "valid_loss:  4960280.0\n",
            "./aT_data/data/train/train_16.csv\n"
          ]
        },
        {
          "name": "stderr",
          "output_type": "stream",
          "text": [
            "2022-09-21 13:13:29.885845: I tensorflow/core/grappler/optimizers/custom_graph_optimizer_registry.cc:113] Plugin optimizer for device_type GPU is enabled.\n",
            "2022-09-21 13:13:30.079706: I tensorflow/core/grappler/optimizers/custom_graph_optimizer_registry.cc:113] Plugin optimizer for device_type GPU is enabled.\n",
            " 22%|██▏       | 8/37 [11:42<43:16, 89.52s/it]"
          ]
        },
        {
          "name": "stdout",
          "output_type": "stream",
          "text": [
            "\n",
            "valid_loss:  2640655.5\n",
            "./aT_data/data/train/train_17.csv\n"
          ]
        },
        {
          "name": "stderr",
          "output_type": "stream",
          "text": [
            "2022-09-21 13:14:58.103143: I tensorflow/core/grappler/optimizers/custom_graph_optimizer_registry.cc:113] Plugin optimizer for device_type GPU is enabled.\n",
            "2022-09-21 13:14:58.295438: I tensorflow/core/grappler/optimizers/custom_graph_optimizer_registry.cc:113] Plugin optimizer for device_type GPU is enabled.\n",
            " 24%|██▍       | 9/37 [13:10<41:34, 89.07s/it]"
          ]
        },
        {
          "name": "stdout",
          "output_type": "stream",
          "text": [
            "\n",
            "valid_loss:  2004114.625\n",
            "./aT_data/data/train/train_6.csv\n"
          ]
        },
        {
          "name": "stderr",
          "output_type": "stream",
          "text": [
            "2022-09-21 13:16:26.213648: I tensorflow/core/grappler/optimizers/custom_graph_optimizer_registry.cc:113] Plugin optimizer for device_type GPU is enabled.\n",
            "2022-09-21 13:16:26.412398: I tensorflow/core/grappler/optimizers/custom_graph_optimizer_registry.cc:113] Plugin optimizer for device_type GPU is enabled.\n",
            " 27%|██▋       | 10/37 [14:39<40:06, 89.12s/it]"
          ]
        },
        {
          "name": "stdout",
          "output_type": "stream",
          "text": [
            "\n",
            "valid_loss:  70874512.0\n",
            "./aT_data/data/train/train_2.csv\n"
          ]
        },
        {
          "name": "stderr",
          "output_type": "stream",
          "text": [
            "2022-09-21 13:17:55.460925: I tensorflow/core/grappler/optimizers/custom_graph_optimizer_registry.cc:113] Plugin optimizer for device_type GPU is enabled.\n",
            "2022-09-21 13:17:55.686849: I tensorflow/core/grappler/optimizers/custom_graph_optimizer_registry.cc:113] Plugin optimizer for device_type GPU is enabled.\n",
            " 30%|██▉       | 11/37 [16:10<38:49, 89.58s/it]"
          ]
        },
        {
          "name": "stdout",
          "output_type": "stream",
          "text": [
            "\n",
            "valid_loss:  1421587.375\n",
            "./aT_data/data/train/train_13.csv\n"
          ]
        },
        {
          "name": "stderr",
          "output_type": "stream",
          "text": [
            "2022-09-21 13:19:26.062132: I tensorflow/core/grappler/optimizers/custom_graph_optimizer_registry.cc:113] Plugin optimizer for device_type GPU is enabled.\n",
            "2022-09-21 13:19:26.791268: I tensorflow/core/grappler/optimizers/custom_graph_optimizer_registry.cc:113] Plugin optimizer for device_type GPU is enabled.\n",
            " 32%|███▏      | 12/37 [17:42<37:38, 90.33s/it]"
          ]
        },
        {
          "name": "stdout",
          "output_type": "stream",
          "text": [
            "\n",
            "valid_loss:  999465.5625\n",
            "./aT_data/data/train/train_12.csv\n"
          ]
        },
        {
          "name": "stderr",
          "output_type": "stream",
          "text": [
            "2022-09-21 13:20:58.132832: I tensorflow/core/grappler/optimizers/custom_graph_optimizer_registry.cc:113] Plugin optimizer for device_type GPU is enabled.\n",
            "2022-09-21 13:20:58.355386: I tensorflow/core/grappler/optimizers/custom_graph_optimizer_registry.cc:113] Plugin optimizer for device_type GPU is enabled.\n",
            " 35%|███▌      | 13/37 [19:09<35:45, 89.38s/it]"
          ]
        },
        {
          "name": "stdout",
          "output_type": "stream",
          "text": [
            "\n",
            "valid_loss:  1168714.75\n",
            "./aT_data/data/train/train_3.csv\n"
          ]
        },
        {
          "name": "stderr",
          "output_type": "stream",
          "text": [
            "2022-09-21 13:22:25.292474: I tensorflow/core/grappler/optimizers/custom_graph_optimizer_registry.cc:113] Plugin optimizer for device_type GPU is enabled.\n",
            "2022-09-21 13:22:25.515554: I tensorflow/core/grappler/optimizers/custom_graph_optimizer_registry.cc:113] Plugin optimizer for device_type GPU is enabled.\n",
            " 38%|███▊      | 14/37 [20:36<33:55, 88.48s/it]"
          ]
        },
        {
          "name": "stdout",
          "output_type": "stream",
          "text": [
            "\n",
            "valid_loss:  2262624.75\n",
            "./aT_data/data/train/train_1.csv\n"
          ]
        },
        {
          "name": "stderr",
          "output_type": "stream",
          "text": [
            "2022-09-21 13:23:51.734662: I tensorflow/core/grappler/optimizers/custom_graph_optimizer_registry.cc:113] Plugin optimizer for device_type GPU is enabled.\n",
            "2022-09-21 13:23:51.956425: I tensorflow/core/grappler/optimizers/custom_graph_optimizer_registry.cc:113] Plugin optimizer for device_type GPU is enabled.\n",
            " 41%|████      | 15/37 [22:04<32:25, 88.41s/it]"
          ]
        },
        {
          "name": "stdout",
          "output_type": "stream",
          "text": [
            "\n",
            "valid_loss:  269160.40625\n",
            "./aT_data/data/train/train_10.csv\n"
          ]
        },
        {
          "name": "stderr",
          "output_type": "stream",
          "text": [
            "2022-09-21 13:25:19.982307: I tensorflow/core/grappler/optimizers/custom_graph_optimizer_registry.cc:113] Plugin optimizer for device_type GPU is enabled.\n",
            "2022-09-21 13:25:20.194096: I tensorflow/core/grappler/optimizers/custom_graph_optimizer_registry.cc:113] Plugin optimizer for device_type GPU is enabled.\n",
            " 43%|████▎     | 16/37 [23:32<30:56, 88.40s/it]"
          ]
        },
        {
          "name": "stdout",
          "output_type": "stream",
          "text": [
            "\n",
            "valid_loss:  362445.6875\n",
            "./aT_data/data/train/train_11.csv\n"
          ]
        },
        {
          "name": "stderr",
          "output_type": "stream",
          "text": [
            "2022-09-21 13:26:48.383866: I tensorflow/core/grappler/optimizers/custom_graph_optimizer_registry.cc:113] Plugin optimizer for device_type GPU is enabled.\n",
            "2022-09-21 13:26:48.608975: I tensorflow/core/grappler/optimizers/custom_graph_optimizer_registry.cc:113] Plugin optimizer for device_type GPU is enabled.\n",
            " 46%|████▌     | 17/37 [25:00<29:21, 88.09s/it]"
          ]
        },
        {
          "name": "stdout",
          "output_type": "stream",
          "text": [
            "\n",
            "valid_loss:  4391882.5\n",
            "./aT_data/data/train/train_0.csv\n"
          ]
        },
        {
          "name": "stderr",
          "output_type": "stream",
          "text": [
            "2022-09-21 13:28:15.718375: I tensorflow/core/grappler/optimizers/custom_graph_optimizer_registry.cc:113] Plugin optimizer for device_type GPU is enabled.\n",
            "2022-09-21 13:28:15.936781: I tensorflow/core/grappler/optimizers/custom_graph_optimizer_registry.cc:113] Plugin optimizer for device_type GPU is enabled.\n",
            " 49%|████▊     | 18/37 [26:27<27:50, 87.95s/it]"
          ]
        },
        {
          "name": "stdout",
          "output_type": "stream",
          "text": [
            "\n",
            "valid_loss:  4977432.5\n",
            "./aT_data/data/train/train_34.csv\n"
          ]
        },
        {
          "name": "stderr",
          "output_type": "stream",
          "text": [
            "2022-09-21 13:29:43.744541: I tensorflow/core/grappler/optimizers/custom_graph_optimizer_registry.cc:113] Plugin optimizer for device_type GPU is enabled.\n",
            "2022-09-21 13:29:43.954484: I tensorflow/core/grappler/optimizers/custom_graph_optimizer_registry.cc:113] Plugin optimizer for device_type GPU is enabled.\n",
            " 51%|█████▏    | 19/37 [27:55<26:22, 87.91s/it]"
          ]
        },
        {
          "name": "stdout",
          "output_type": "stream",
          "text": [
            "\n",
            "valid_loss:  4186075.0\n",
            "./aT_data/data/train/train_20.csv\n"
          ]
        },
        {
          "name": "stderr",
          "output_type": "stream",
          "text": [
            "2022-09-21 13:31:11.174467: I tensorflow/core/grappler/optimizers/custom_graph_optimizer_registry.cc:113] Plugin optimizer for device_type GPU is enabled.\n",
            "2022-09-21 13:31:11.410082: I tensorflow/core/grappler/optimizers/custom_graph_optimizer_registry.cc:113] Plugin optimizer for device_type GPU is enabled.\n",
            " 54%|█████▍    | 20/37 [29:23<24:55, 87.96s/it]"
          ]
        },
        {
          "name": "stdout",
          "output_type": "stream",
          "text": [
            "\n",
            "valid_loss:  823748.5625\n",
            "./aT_data/data/train/train_21.csv\n"
          ]
        },
        {
          "name": "stderr",
          "output_type": "stream",
          "text": [
            "2022-09-21 13:32:39.297451: I tensorflow/core/grappler/optimizers/custom_graph_optimizer_registry.cc:113] Plugin optimizer for device_type GPU is enabled.\n",
            "2022-09-21 13:32:39.519960: I tensorflow/core/grappler/optimizers/custom_graph_optimizer_registry.cc:113] Plugin optimizer for device_type GPU is enabled.\n",
            " 57%|█████▋    | 21/37 [30:51<23:26, 87.93s/it]"
          ]
        },
        {
          "name": "stdout",
          "output_type": "stream",
          "text": [
            "\n",
            "valid_loss:  308031.875\n",
            "./aT_data/data/train/train_35.csv\n"
          ]
        },
        {
          "name": "stderr",
          "output_type": "stream",
          "text": [
            "2022-09-21 13:34:07.097605: I tensorflow/core/grappler/optimizers/custom_graph_optimizer_registry.cc:113] Plugin optimizer for device_type GPU is enabled.\n",
            "2022-09-21 13:34:07.318684: I tensorflow/core/grappler/optimizers/custom_graph_optimizer_registry.cc:113] Plugin optimizer for device_type GPU is enabled.\n",
            " 59%|█████▉    | 22/37 [32:18<21:56, 87.78s/it]"
          ]
        },
        {
          "name": "stdout",
          "output_type": "stream",
          "text": [
            "\n",
            "valid_loss:  1168825.25\n",
            "./aT_data/data/train/train_23.csv\n"
          ]
        },
        {
          "name": "stderr",
          "output_type": "stream",
          "text": [
            "2022-09-21 13:35:34.553917: I tensorflow/core/grappler/optimizers/custom_graph_optimizer_registry.cc:113] Plugin optimizer for device_type GPU is enabled.\n",
            "2022-09-21 13:35:34.773378: I tensorflow/core/grappler/optimizers/custom_graph_optimizer_registry.cc:113] Plugin optimizer for device_type GPU is enabled.\n",
            " 62%|██████▏   | 23/37 [33:44<20:17, 86.98s/it]"
          ]
        },
        {
          "name": "stdout",
          "output_type": "stream",
          "text": [
            "\n",
            "valid_loss:  7058630.5\n",
            "./aT_data/data/train/train_36.csv\n"
          ]
        },
        {
          "name": "stderr",
          "output_type": "stream",
          "text": [
            "2022-09-21 13:36:59.645333: I tensorflow/core/grappler/optimizers/custom_graph_optimizer_registry.cc:113] Plugin optimizer for device_type GPU is enabled.\n",
            "2022-09-21 13:36:59.881783: I tensorflow/core/grappler/optimizers/custom_graph_optimizer_registry.cc:113] Plugin optimizer for device_type GPU is enabled.\n",
            " 65%|██████▍   | 24/37 [35:09<18:45, 86.55s/it]"
          ]
        },
        {
          "name": "stdout",
          "output_type": "stream",
          "text": [
            "\n",
            "valid_loss:  561510.4375\n",
            "./aT_data/data/train/train_22.csv\n"
          ]
        },
        {
          "name": "stderr",
          "output_type": "stream",
          "text": [
            "2022-09-21 13:38:25.556916: I tensorflow/core/grappler/optimizers/custom_graph_optimizer_registry.cc:113] Plugin optimizer for device_type GPU is enabled.\n",
            "2022-09-21 13:38:25.769710: I tensorflow/core/grappler/optimizers/custom_graph_optimizer_registry.cc:113] Plugin optimizer for device_type GPU is enabled.\n",
            " 68%|██████▊   | 25/37 [36:35<17:16, 86.40s/it]"
          ]
        },
        {
          "name": "stdout",
          "output_type": "stream",
          "text": [
            "\n",
            "valid_loss:  212205.296875\n",
            "./aT_data/data/train/train_26.csv\n"
          ]
        },
        {
          "name": "stderr",
          "output_type": "stream",
          "text": [
            "2022-09-21 13:39:51.287671: I tensorflow/core/grappler/optimizers/custom_graph_optimizer_registry.cc:113] Plugin optimizer for device_type GPU is enabled.\n",
            "2022-09-21 13:39:51.546180: I tensorflow/core/grappler/optimizers/custom_graph_optimizer_registry.cc:113] Plugin optimizer for device_type GPU is enabled.\n",
            " 70%|███████   | 26/37 [37:59<15:43, 85.76s/it]"
          ]
        },
        {
          "name": "stdout",
          "output_type": "stream",
          "text": [
            "\n",
            "valid_loss:  2918951.25\n",
            "./aT_data/data/train/train_32.csv\n"
          ]
        },
        {
          "name": "stderr",
          "output_type": "stream",
          "text": [
            "2022-09-21 13:41:15.535705: I tensorflow/core/grappler/optimizers/custom_graph_optimizer_registry.cc:113] Plugin optimizer for device_type GPU is enabled.\n",
            "2022-09-21 13:41:15.783932: I tensorflow/core/grappler/optimizers/custom_graph_optimizer_registry.cc:113] Plugin optimizer for device_type GPU is enabled.\n",
            " 73%|███████▎  | 27/37 [39:23<14:11, 85.16s/it]"
          ]
        },
        {
          "name": "stdout",
          "output_type": "stream",
          "text": [
            "\n",
            "valid_loss:  3084290.0\n",
            "./aT_data/data/train/train_33.csv\n"
          ]
        },
        {
          "name": "stderr",
          "output_type": "stream",
          "text": [
            "2022-09-21 13:42:39.272657: I tensorflow/core/grappler/optimizers/custom_graph_optimizer_registry.cc:113] Plugin optimizer for device_type GPU is enabled.\n",
            "2022-09-21 13:42:39.509893: I tensorflow/core/grappler/optimizers/custom_graph_optimizer_registry.cc:113] Plugin optimizer for device_type GPU is enabled.\n",
            " 76%|███████▌  | 28/37 [40:47<12:41, 84.61s/it]"
          ]
        },
        {
          "name": "stdout",
          "output_type": "stream",
          "text": [
            "\n",
            "valid_loss:  9059943.0\n",
            "./aT_data/data/train/train_27.csv\n"
          ]
        },
        {
          "name": "stderr",
          "output_type": "stream",
          "text": [
            "2022-09-21 13:44:02.594069: I tensorflow/core/grappler/optimizers/custom_graph_optimizer_registry.cc:113] Plugin optimizer for device_type GPU is enabled.\n",
            "2022-09-21 13:44:02.845864: I tensorflow/core/grappler/optimizers/custom_graph_optimizer_registry.cc:113] Plugin optimizer for device_type GPU is enabled.\n",
            " 78%|███████▊  | 29/37 [42:12<11:19, 84.91s/it]"
          ]
        },
        {
          "name": "stdout",
          "output_type": "stream",
          "text": [
            "\n",
            "valid_loss:  11501902.0\n",
            "./aT_data/data/train/train_8.csv\n"
          ]
        },
        {
          "name": "stderr",
          "output_type": "stream",
          "text": [
            "2022-09-21 13:45:28.277418: I tensorflow/core/grappler/optimizers/custom_graph_optimizer_registry.cc:113] Plugin optimizer for device_type GPU is enabled.\n",
            "2022-09-21 13:45:28.550908: I tensorflow/core/grappler/optimizers/custom_graph_optimizer_registry.cc:113] Plugin optimizer for device_type GPU is enabled.\n",
            " 81%|████████  | 30/37 [59:26<43:07, 369.66s/it]"
          ]
        },
        {
          "name": "stdout",
          "output_type": "stream",
          "text": [
            "\n",
            "valid_loss:  4349948.0\n",
            "./aT_data/data/train/train_19.csv\n"
          ]
        },
        {
          "name": "stderr",
          "output_type": "stream",
          "text": [
            "2022-09-21 14:02:42.769455: I tensorflow/core/grappler/optimizers/custom_graph_optimizer_registry.cc:113] Plugin optimizer for device_type GPU is enabled.\n",
            "2022-09-21 14:02:43.008595: I tensorflow/core/grappler/optimizers/custom_graph_optimizer_registry.cc:113] Plugin optimizer for device_type GPU is enabled.\n",
            " 84%|████████▍ | 31/37 [1:11:11<47:01, 470.23s/it]"
          ]
        },
        {
          "name": "stdout",
          "output_type": "stream",
          "text": [
            "\n",
            "valid_loss:  881660.4375\n",
            "./aT_data/data/train/train_31.csv\n"
          ]
        },
        {
          "name": "stderr",
          "output_type": "stream",
          "text": [
            "2022-09-21 14:14:27.235800: I tensorflow/core/grappler/optimizers/custom_graph_optimizer_registry.cc:113] Plugin optimizer for device_type GPU is enabled.\n",
            "2022-09-21 14:14:27.492897: I tensorflow/core/grappler/optimizers/custom_graph_optimizer_registry.cc:113] Plugin optimizer for device_type GPU is enabled.\n",
            " 86%|████████▋ | 32/37 [1:12:44<29:45, 357.04s/it]"
          ]
        },
        {
          "name": "stdout",
          "output_type": "stream",
          "text": [
            "\n",
            "valid_loss:  4649194.5\n",
            "./aT_data/data/train/train_25.csv\n"
          ]
        },
        {
          "name": "stderr",
          "output_type": "stream",
          "text": [
            "2022-09-21 14:16:00.096634: I tensorflow/core/grappler/optimizers/custom_graph_optimizer_registry.cc:113] Plugin optimizer for device_type GPU is enabled.\n",
            "2022-09-21 14:16:00.354210: I tensorflow/core/grappler/optimizers/custom_graph_optimizer_registry.cc:113] Plugin optimizer for device_type GPU is enabled.\n",
            " 89%|████████▉ | 33/37 [1:14:13<18:25, 276.50s/it]"
          ]
        },
        {
          "name": "stdout",
          "output_type": "stream",
          "text": [
            "\n",
            "valid_loss:  4826007.0\n",
            "./aT_data/data/train/train_24.csv\n"
          ]
        },
        {
          "name": "stderr",
          "output_type": "stream",
          "text": [
            "2022-09-21 14:17:28.745773: I tensorflow/core/grappler/optimizers/custom_graph_optimizer_registry.cc:113] Plugin optimizer for device_type GPU is enabled.\n",
            "2022-09-21 14:17:29.018410: I tensorflow/core/grappler/optimizers/custom_graph_optimizer_registry.cc:113] Plugin optimizer for device_type GPU is enabled.\n",
            " 92%|█████████▏| 34/37 [1:15:40<10:59, 219.78s/it]"
          ]
        },
        {
          "name": "stdout",
          "output_type": "stream",
          "text": [
            "\n",
            "valid_loss:  341928.21875\n",
            "./aT_data/data/train/train_30.csv\n"
          ]
        },
        {
          "name": "stderr",
          "output_type": "stream",
          "text": [
            "2022-09-21 14:18:56.120213: I tensorflow/core/grappler/optimizers/custom_graph_optimizer_registry.cc:113] Plugin optimizer for device_type GPU is enabled.\n",
            "2022-09-21 14:18:56.394525: I tensorflow/core/grappler/optimizers/custom_graph_optimizer_registry.cc:113] Plugin optimizer for device_type GPU is enabled.\n",
            " 95%|█████████▍| 35/37 [1:17:08<06:00, 180.25s/it]"
          ]
        },
        {
          "name": "stdout",
          "output_type": "stream",
          "text": [
            "\n",
            "valid_loss:  130541.2109375\n",
            "./aT_data/data/train/train_18.csv\n"
          ]
        },
        {
          "name": "stderr",
          "output_type": "stream",
          "text": [
            "2022-09-21 14:20:24.149875: I tensorflow/core/grappler/optimizers/custom_graph_optimizer_registry.cc:113] Plugin optimizer for device_type GPU is enabled.\n",
            "2022-09-21 14:20:24.407856: I tensorflow/core/grappler/optimizers/custom_graph_optimizer_registry.cc:113] Plugin optimizer for device_type GPU is enabled.\n",
            " 97%|█████████▋| 36/37 [1:18:33<02:31, 151.75s/it]"
          ]
        },
        {
          "name": "stdout",
          "output_type": "stream",
          "text": [
            "\n",
            "valid_loss:  101500592.0\n",
            "./aT_data/data/train/train_9.csv\n"
          ]
        },
        {
          "name": "stderr",
          "output_type": "stream",
          "text": [
            "2022-09-21 14:21:49.382943: I tensorflow/core/grappler/optimizers/custom_graph_optimizer_registry.cc:113] Plugin optimizer for device_type GPU is enabled.\n",
            "2022-09-21 14:21:49.644349: I tensorflow/core/grappler/optimizers/custom_graph_optimizer_registry.cc:113] Plugin optimizer for device_type GPU is enabled.\n",
            "100%|██████████| 37/37 [1:19:59<00:00, 129.71s/it]"
          ]
        },
        {
          "name": "stdout",
          "output_type": "stream",
          "text": [
            "\n",
            "valid_loss:  332148.0625\n"
          ]
        },
        {
          "name": "stderr",
          "output_type": "stream",
          "text": [
            "\n"
          ]
        }
      ],
      "source": [
        "from sklearn.preprocessing import MinMaxScaler\n",
        "\n",
        "losses = []\n",
        "scalers = {}\n",
        "\n",
        "for i in tqdm(data_list):\n",
        "    print(i)\n",
        "    df_number = i.split(\"_\")[-1].split(\".\")[0]\n",
        "    df = pd.read_csv(i)\n",
        "\n",
        "    # 사용할 열 선택 및 index 설정\n",
        "    df = feature_engineer(df)\n",
        "    df.set_index('datadate', drop=True, inplace=True)\n",
        "    \n",
        "    # nan 처리\n",
        "    df = df.replace({' ': np.nan})\n",
        "    df = df.fillna(0)\n",
        "    \n",
        "    # 변수와 타겟 분리\n",
        "    x, y = df[[i for i in df.columns if i != '해당일자_전체평균가격(원)']], df['해당일자_전체평균가격(원)']\n",
        "    scaler = MinMaxScaler()\n",
        "    x = pd.DataFrame(scaler.fit_transform(x))\n",
        "    scalers[df_number] = scaler\n",
        "\n",
        "    # 2주 입력을 통한 이후 4주 예측을 위해 y의 첫 14일을 제외\n",
        "    # y = y[14:]\n",
        "\n",
        "    # time series window 생성\n",
        "    data_x = time_window(x, 13, 1)\n",
        "    data_y = y_time_window(y, 27, 1)\n",
        "\n",
        "    # y의 길이와 같은 길이로 설정\n",
        "    xdata = data_x[:len(data_y)]\n",
        "    ydata = data_y\n",
        "    \n",
        "    # train, validation 분리 (8 : 2)\n",
        "    x_train, x_val, y_train, y_val = train_test_split(xdata, ydata, test_size=0.2, shuffle=False, random_state=119)\n",
        "\n",
        "    # transformer 모델 훈련\n",
        "    transformer = train(astype_data(x_train), y_train, astype_data(x_val), y_val, f'transformer-{df_number}', epoch,\n",
        "                        batch, learning_rate = 0.001, verbose = 0)\n",
        "    \n",
        "    transformer.load_weights(f'./check/transformer-{df_number}-{epoch}-{batch}.h5')\n",
        "    loss = transformer.evaluate(astype_data(x_val), y_val, verbose=0)\n",
        "    print('\\nvalid_loss: ', loss)\n",
        "    losses.append(loss)\n",
        "\n",
        "    if os.path.exists(f'./model') == False:\n",
        "        os.mkdir(f'./model')\n",
        "\n",
        "    # 모델 저장\n",
        "    transformer.save(f'./model/transformer-{df_number}-{epoch}-{batch}.h5')"
      ]
    },
    {
      "cell_type": "code",
      "execution_count": 11,
      "metadata": {
        "id": "AGBSWYe-Nno-"
      },
      "outputs": [
        {
          "data": {
            "text/plain": [
              "[1408579.75,\n",
              " 557766.125,\n",
              " 315245.0625,\n",
              " 73800.7890625,\n",
              " 27782410.0,\n",
              " 5546303.0,\n",
              " 4960280.0,\n",
              " 2640655.5,\n",
              " 2004114.625,\n",
              " 70874512.0,\n",
              " 1421587.375,\n",
              " 999465.5625,\n",
              " 1168714.75,\n",
              " 2262624.75,\n",
              " 269160.40625,\n",
              " 362445.6875,\n",
              " 4391882.5,\n",
              " 4977432.5,\n",
              " 4186075.0,\n",
              " 823748.5625,\n",
              " 308031.875,\n",
              " 1168825.25,\n",
              " 7058630.5,\n",
              " 561510.4375,\n",
              " 212205.296875,\n",
              " 2918951.25,\n",
              " 3084290.0,\n",
              " 9059943.0,\n",
              " 11501902.0,\n",
              " 4349948.0,\n",
              " 881660.4375,\n",
              " 4649194.5,\n",
              " 4826007.0,\n",
              " 341928.21875,\n",
              " 130541.2109375,\n",
              " 101500592.0,\n",
              " 332148.0625]"
            ]
          },
          "execution_count": 11,
          "metadata": {},
          "output_type": "execute_result"
        }
      ],
      "source": [
        "losses"
      ]
    },
    {
      "cell_type": "markdown",
      "metadata": {
        "id": "mgp2nVPxJ8fR"
      },
      "source": [
        "&nbsp;"
      ]
    },
    {
      "cell_type": "markdown",
      "metadata": {
        "id": "pNikiLNgJ8fT"
      },
      "source": [
        "## Test 과정"
      ]
    },
    {
      "cell_type": "code",
      "execution_count": 12,
      "metadata": {
        "id": "CiWO0A8xJ8fU"
      },
      "outputs": [
        {
          "name": "stderr",
          "output_type": "stream",
          "text": [
            "  0%|          | 0/10 [00:00<?, ?it/s]2022-09-21 14:23:15.136861: I tensorflow/core/grappler/optimizers/custom_graph_optimizer_registry.cc:113] Plugin optimizer for device_type GPU is enabled.\n"
          ]
        },
        {
          "name": "stdout",
          "output_type": "stream",
          "text": [
            "1/1 [==============================] - 0s 318ms/step\n",
            "1/1 [==============================] - 0s 34ms/step\n",
            "1/1 [==============================] - 0s 40ms/step\n"
          ]
        },
        {
          "name": "stderr",
          "output_type": "stream",
          "text": [
            "2022-09-21 14:23:15.509757: I tensorflow/core/grappler/optimizers/custom_graph_optimizer_registry.cc:113] Plugin optimizer for device_type GPU is enabled.\n",
            "2022-09-21 14:23:15.610908: I tensorflow/core/grappler/optimizers/custom_graph_optimizer_registry.cc:113] Plugin optimizer for device_type GPU is enabled.\n"
          ]
        },
        {
          "name": "stdout",
          "output_type": "stream",
          "text": [
            "1/1 [==============================] - 0s 41ms/step\n",
            "WARNING:tensorflow:5 out of the last 5 calls to <function Model.make_predict_function.<locals>.predict_function at 0x1438f5ab0> triggered tf.function retracing. Tracing is expensive and the excessive number of tracings could be due to (1) creating @tf.function repeatedly in a loop, (2) passing tensors with different shapes, (3) passing Python objects instead of tensors. For (1), please define your @tf.function outside of the loop. For (2), @tf.function has reduce_retracing=True option that can avoid unnecessary retracing. For (3), please refer to https://www.tensorflow.org/guide/function#controlling_retracing and https://www.tensorflow.org/api_docs/python/tf/function for  more details.\n",
            "1/1 [==============================] - 0s 32ms/step\n"
          ]
        },
        {
          "name": "stderr",
          "output_type": "stream",
          "text": [
            "2022-09-21 14:23:15.716871: I tensorflow/core/grappler/optimizers/custom_graph_optimizer_registry.cc:113] Plugin optimizer for device_type GPU is enabled.\n",
            "2022-09-21 14:23:15.826836: I tensorflow/core/grappler/optimizers/custom_graph_optimizer_registry.cc:113] Plugin optimizer for device_type GPU is enabled.\n",
            "2022-09-21 14:23:15.914412: I tensorflow/core/grappler/optimizers/custom_graph_optimizer_registry.cc:113] Plugin optimizer for device_type GPU is enabled.\n"
          ]
        },
        {
          "name": "stdout",
          "output_type": "stream",
          "text": [
            "WARNING:tensorflow:6 out of the last 6 calls to <function Model.make_predict_function.<locals>.predict_function at 0x143b4b5b0> triggered tf.function retracing. Tracing is expensive and the excessive number of tracings could be due to (1) creating @tf.function repeatedly in a loop, (2) passing tensors with different shapes, (3) passing Python objects instead of tensors. For (1), please define your @tf.function outside of the loop. For (2), @tf.function has reduce_retracing=True option that can avoid unnecessary retracing. For (3), please refer to https://www.tensorflow.org/guide/function#controlling_retracing and https://www.tensorflow.org/api_docs/python/tf/function for  more details.\n",
            "1/1 [==============================] - 0s 35ms/step\n",
            "1/1 [==============================] - 0s 30ms/step\n",
            "1/1 [==============================] - 0s 32ms/step\n"
          ]
        },
        {
          "name": "stderr",
          "output_type": "stream",
          "text": [
            "2022-09-21 14:23:16.013391: I tensorflow/core/grappler/optimizers/custom_graph_optimizer_registry.cc:113] Plugin optimizer for device_type GPU is enabled.\n",
            "2022-09-21 14:23:16.115076: I tensorflow/core/grappler/optimizers/custom_graph_optimizer_registry.cc:113] Plugin optimizer for device_type GPU is enabled.\n",
            "2022-09-21 14:23:16.205481: I tensorflow/core/grappler/optimizers/custom_graph_optimizer_registry.cc:113] Plugin optimizer for device_type GPU is enabled.\n"
          ]
        },
        {
          "name": "stdout",
          "output_type": "stream",
          "text": [
            "1/1 [==============================] - 0s 31ms/step\n",
            "1/1 [==============================] - 0s 30ms/step\n",
            "1/1 [==============================] - 0s 29ms/step\n",
            "1/1 [==============================] - 0s 28ms/step\n"
          ]
        },
        {
          "name": "stderr",
          "output_type": "stream",
          "text": [
            "2022-09-21 14:23:16.300165: I tensorflow/core/grappler/optimizers/custom_graph_optimizer_registry.cc:113] Plugin optimizer for device_type GPU is enabled.\n",
            "2022-09-21 14:23:16.385413: I tensorflow/core/grappler/optimizers/custom_graph_optimizer_registry.cc:113] Plugin optimizer for device_type GPU is enabled.\n",
            "2022-09-21 14:23:16.465633: I tensorflow/core/grappler/optimizers/custom_graph_optimizer_registry.cc:113] Plugin optimizer for device_type GPU is enabled.\n"
          ]
        },
        {
          "name": "stdout",
          "output_type": "stream",
          "text": [
            "1/1 [==============================] - 0s 29ms/step\n",
            "1/1 [==============================] - 0s 30ms/step\n",
            "1/1 [==============================] - 0s 29ms/step\n"
          ]
        },
        {
          "name": "stderr",
          "output_type": "stream",
          "text": [
            "2022-09-21 14:23:16.545855: I tensorflow/core/grappler/optimizers/custom_graph_optimizer_registry.cc:113] Plugin optimizer for device_type GPU is enabled.\n",
            "2022-09-21 14:23:16.629561: I tensorflow/core/grappler/optimizers/custom_graph_optimizer_registry.cc:113] Plugin optimizer for device_type GPU is enabled.\n",
            "2022-09-21 14:23:16.711130: I tensorflow/core/grappler/optimizers/custom_graph_optimizer_registry.cc:113] Plugin optimizer for device_type GPU is enabled.\n"
          ]
        },
        {
          "name": "stdout",
          "output_type": "stream",
          "text": [
            "1/1 [==============================] - 0s 29ms/step\n",
            "1/1 [==============================] - 0s 29ms/step\n",
            "1/1 [==============================] - 0s 30ms/step\n"
          ]
        },
        {
          "name": "stderr",
          "output_type": "stream",
          "text": [
            "2022-09-21 14:23:16.792912: I tensorflow/core/grappler/optimizers/custom_graph_optimizer_registry.cc:113] Plugin optimizer for device_type GPU is enabled.\n",
            "2022-09-21 14:23:16.876574: I tensorflow/core/grappler/optimizers/custom_graph_optimizer_registry.cc:113] Plugin optimizer for device_type GPU is enabled.\n",
            "2022-09-21 14:23:16.959156: I tensorflow/core/grappler/optimizers/custom_graph_optimizer_registry.cc:113] Plugin optimizer for device_type GPU is enabled.\n"
          ]
        },
        {
          "name": "stdout",
          "output_type": "stream",
          "text": [
            "1/1 [==============================] - 0s 30ms/step\n",
            "1/1 [==============================] - 0s 28ms/step\n",
            "1/1 [==============================] - 0s 29ms/step\n"
          ]
        },
        {
          "name": "stderr",
          "output_type": "stream",
          "text": [
            "2022-09-21 14:23:17.040478: I tensorflow/core/grappler/optimizers/custom_graph_optimizer_registry.cc:113] Plugin optimizer for device_type GPU is enabled.\n",
            "2022-09-21 14:23:17.122709: I tensorflow/core/grappler/optimizers/custom_graph_optimizer_registry.cc:113] Plugin optimizer for device_type GPU is enabled.\n",
            "2022-09-21 14:23:17.210187: I tensorflow/core/grappler/optimizers/custom_graph_optimizer_registry.cc:113] Plugin optimizer for device_type GPU is enabled.\n"
          ]
        },
        {
          "name": "stdout",
          "output_type": "stream",
          "text": [
            "1/1 [==============================] - 0s 31ms/step\n",
            "1/1 [==============================] - 0s 27ms/step\n",
            "1/1 [==============================] - 0s 28ms/step\n"
          ]
        },
        {
          "name": "stderr",
          "output_type": "stream",
          "text": [
            "2022-09-21 14:23:17.293675: I tensorflow/core/grappler/optimizers/custom_graph_optimizer_registry.cc:113] Plugin optimizer for device_type GPU is enabled.\n",
            "2022-09-21 14:23:17.375533: I tensorflow/core/grappler/optimizers/custom_graph_optimizer_registry.cc:113] Plugin optimizer for device_type GPU is enabled.\n",
            "2022-09-21 14:23:17.456006: I tensorflow/core/grappler/optimizers/custom_graph_optimizer_registry.cc:113] Plugin optimizer for device_type GPU is enabled.\n"
          ]
        },
        {
          "name": "stdout",
          "output_type": "stream",
          "text": [
            "1/1 [==============================] - 0s 28ms/step\n",
            "1/1 [==============================] - 0s 29ms/step\n",
            "1/1 [==============================] - 0s 31ms/step\n"
          ]
        },
        {
          "name": "stderr",
          "output_type": "stream",
          "text": [
            "2022-09-21 14:23:17.536007: I tensorflow/core/grappler/optimizers/custom_graph_optimizer_registry.cc:113] Plugin optimizer for device_type GPU is enabled.\n",
            "2022-09-21 14:23:17.617540: I tensorflow/core/grappler/optimizers/custom_graph_optimizer_registry.cc:113] Plugin optimizer for device_type GPU is enabled.\n",
            "2022-09-21 14:23:17.699606: I tensorflow/core/grappler/optimizers/custom_graph_optimizer_registry.cc:113] Plugin optimizer for device_type GPU is enabled.\n"
          ]
        },
        {
          "name": "stdout",
          "output_type": "stream",
          "text": [
            "1/1 [==============================] - 0s 29ms/step\n",
            "1/1 [==============================] - 0s 28ms/step\n",
            "1/1 [==============================] - 0s 28ms/step\n"
          ]
        },
        {
          "name": "stderr",
          "output_type": "stream",
          "text": [
            "2022-09-21 14:23:17.780966: I tensorflow/core/grappler/optimizers/custom_graph_optimizer_registry.cc:113] Plugin optimizer for device_type GPU is enabled.\n",
            "2022-09-21 14:23:17.863713: I tensorflow/core/grappler/optimizers/custom_graph_optimizer_registry.cc:113] Plugin optimizer for device_type GPU is enabled.\n",
            "2022-09-21 14:23:17.943280: I tensorflow/core/grappler/optimizers/custom_graph_optimizer_registry.cc:113] Plugin optimizer for device_type GPU is enabled.\n"
          ]
        },
        {
          "name": "stdout",
          "output_type": "stream",
          "text": [
            "1/1 [==============================] - 0s 29ms/step\n",
            "1/1 [==============================] - 0s 28ms/step\n",
            "1/1 [==============================] - 0s 28ms/step\n"
          ]
        },
        {
          "name": "stderr",
          "output_type": "stream",
          "text": [
            "2022-09-21 14:23:18.025903: I tensorflow/core/grappler/optimizers/custom_graph_optimizer_registry.cc:113] Plugin optimizer for device_type GPU is enabled.\n",
            "2022-09-21 14:23:18.108585: I tensorflow/core/grappler/optimizers/custom_graph_optimizer_registry.cc:113] Plugin optimizer for device_type GPU is enabled.\n",
            "2022-09-21 14:23:18.189292: I tensorflow/core/grappler/optimizers/custom_graph_optimizer_registry.cc:113] Plugin optimizer for device_type GPU is enabled.\n"
          ]
        },
        {
          "name": "stdout",
          "output_type": "stream",
          "text": [
            "1/1 [==============================] - 0s 31ms/step\n",
            "1/1 [==============================] - 0s 29ms/step\n",
            "1/1 [==============================] - 0s 28ms/step\n"
          ]
        },
        {
          "name": "stderr",
          "output_type": "stream",
          "text": [
            "2022-09-21 14:23:18.272381: I tensorflow/core/grappler/optimizers/custom_graph_optimizer_registry.cc:113] Plugin optimizer for device_type GPU is enabled.\n",
            "2022-09-21 14:23:18.352400: I tensorflow/core/grappler/optimizers/custom_graph_optimizer_registry.cc:113] Plugin optimizer for device_type GPU is enabled.\n",
            "2022-09-21 14:23:18.435367: I tensorflow/core/grappler/optimizers/custom_graph_optimizer_registry.cc:113] Plugin optimizer for device_type GPU is enabled.\n"
          ]
        },
        {
          "name": "stdout",
          "output_type": "stream",
          "text": [
            "1/1 [==============================] - 0s 29ms/step\n"
          ]
        },
        {
          "name": "stderr",
          "output_type": "stream",
          "text": [
            "2022-09-21 14:23:18.516260: I tensorflow/core/grappler/optimizers/custom_graph_optimizer_registry.cc:113] Plugin optimizer for device_type GPU is enabled.\n",
            " 10%|█         | 1/10 [00:04<00:36,  4.10s/it]"
          ]
        },
        {
          "name": "stdout",
          "output_type": "stream",
          "text": [
            "1/1 [==============================] - 0s 29ms/step\n",
            "1/1 [==============================] - 0s 30ms/step\n"
          ]
        },
        {
          "name": "stderr",
          "output_type": "stream",
          "text": [
            "2022-09-21 14:23:18.598078: I tensorflow/core/grappler/optimizers/custom_graph_optimizer_registry.cc:113] Plugin optimizer for device_type GPU is enabled.\n",
            "2022-09-21 14:23:18.680265: I tensorflow/core/grappler/optimizers/custom_graph_optimizer_registry.cc:113] Plugin optimizer for device_type GPU is enabled.\n"
          ]
        },
        {
          "name": "stdout",
          "output_type": "stream",
          "text": [
            "1/1 [==============================] - 0s 29ms/step\n"
          ]
        },
        {
          "name": "stderr",
          "output_type": "stream",
          "text": [
            "2022-09-21 14:23:18.760031: I tensorflow/core/grappler/optimizers/custom_graph_optimizer_registry.cc:113] Plugin optimizer for device_type GPU is enabled.\n"
          ]
        },
        {
          "name": "stdout",
          "output_type": "stream",
          "text": [
            "1/1 [==============================] - 0s 29ms/step\n",
            "1/1 [==============================] - 0s 29ms/step\n"
          ]
        },
        {
          "name": "stderr",
          "output_type": "stream",
          "text": [
            "2022-09-21 14:23:18.843966: I tensorflow/core/grappler/optimizers/custom_graph_optimizer_registry.cc:113] Plugin optimizer for device_type GPU is enabled.\n",
            "2022-09-21 14:23:18.925106: I tensorflow/core/grappler/optimizers/custom_graph_optimizer_registry.cc:113] Plugin optimizer for device_type GPU is enabled.\n"
          ]
        },
        {
          "name": "stdout",
          "output_type": "stream",
          "text": [
            "1/1 [==============================] - 0s 29ms/step\n"
          ]
        },
        {
          "name": "stderr",
          "output_type": "stream",
          "text": [
            "2022-09-21 14:23:19.006701: I tensorflow/core/grappler/optimizers/custom_graph_optimizer_registry.cc:113] Plugin optimizer for device_type GPU is enabled.\n"
          ]
        },
        {
          "name": "stdout",
          "output_type": "stream",
          "text": [
            "1/1 [==============================] - 0s 30ms/step\n",
            "1/1 [==============================] - 0s 31ms/step\n"
          ]
        },
        {
          "name": "stderr",
          "output_type": "stream",
          "text": [
            "2022-09-21 14:23:19.093299: I tensorflow/core/grappler/optimizers/custom_graph_optimizer_registry.cc:113] Plugin optimizer for device_type GPU is enabled.\n",
            "2022-09-21 14:23:19.182955: I tensorflow/core/grappler/optimizers/custom_graph_optimizer_registry.cc:113] Plugin optimizer for device_type GPU is enabled.\n",
            "2022-09-21 14:23:19.282341: I tensorflow/core/grappler/optimizers/custom_graph_optimizer_registry.cc:113] Plugin optimizer for device_type GPU is enabled.\n"
          ]
        },
        {
          "name": "stdout",
          "output_type": "stream",
          "text": [
            "1/1 [==============================] - 0s 34ms/step\n",
            "1/1 [==============================] - 0s 32ms/step\n"
          ]
        },
        {
          "name": "stderr",
          "output_type": "stream",
          "text": [
            "2022-09-21 14:23:19.375484: I tensorflow/core/grappler/optimizers/custom_graph_optimizer_registry.cc:113] Plugin optimizer for device_type GPU is enabled.\n",
            "2022-09-21 14:23:19.470154: I tensorflow/core/grappler/optimizers/custom_graph_optimizer_registry.cc:113] Plugin optimizer for device_type GPU is enabled.\n"
          ]
        },
        {
          "name": "stdout",
          "output_type": "stream",
          "text": [
            "1/1 [==============================] - 0s 33ms/step\n",
            "1/1 [==============================] - 0s 31ms/step\n"
          ]
        },
        {
          "name": "stderr",
          "output_type": "stream",
          "text": [
            "2022-09-21 14:23:19.557413: I tensorflow/core/grappler/optimizers/custom_graph_optimizer_registry.cc:113] Plugin optimizer for device_type GPU is enabled.\n"
          ]
        },
        {
          "name": "stdout",
          "output_type": "stream",
          "text": [
            "1/1 [==============================] - 0s 30ms/step\n",
            "1/1 [==============================] - 0s 30ms/step\n"
          ]
        },
        {
          "name": "stderr",
          "output_type": "stream",
          "text": [
            "2022-09-21 14:23:19.645382: I tensorflow/core/grappler/optimizers/custom_graph_optimizer_registry.cc:113] Plugin optimizer for device_type GPU is enabled.\n",
            "2022-09-21 14:23:19.729883: I tensorflow/core/grappler/optimizers/custom_graph_optimizer_registry.cc:113] Plugin optimizer for device_type GPU is enabled.\n"
          ]
        },
        {
          "name": "stdout",
          "output_type": "stream",
          "text": [
            "1/1 [==============================] - 0s 28ms/step\n"
          ]
        },
        {
          "name": "stderr",
          "output_type": "stream",
          "text": [
            "2022-09-21 14:23:19.810098: I tensorflow/core/grappler/optimizers/custom_graph_optimizer_registry.cc:113] Plugin optimizer for device_type GPU is enabled.\n"
          ]
        },
        {
          "name": "stdout",
          "output_type": "stream",
          "text": [
            "1/1 [==============================] - 0s 28ms/step\n",
            "1/1 [==============================] - 0s 28ms/step\n"
          ]
        },
        {
          "name": "stderr",
          "output_type": "stream",
          "text": [
            "2022-09-21 14:23:19.892654: I tensorflow/core/grappler/optimizers/custom_graph_optimizer_registry.cc:113] Plugin optimizer for device_type GPU is enabled.\n",
            "2022-09-21 14:23:19.971934: I tensorflow/core/grappler/optimizers/custom_graph_optimizer_registry.cc:113] Plugin optimizer for device_type GPU is enabled.\n"
          ]
        },
        {
          "name": "stdout",
          "output_type": "stream",
          "text": [
            "1/1 [==============================] - 0s 28ms/step\n"
          ]
        },
        {
          "name": "stderr",
          "output_type": "stream",
          "text": [
            "2022-09-21 14:23:20.052558: I tensorflow/core/grappler/optimizers/custom_graph_optimizer_registry.cc:113] Plugin optimizer for device_type GPU is enabled.\n"
          ]
        },
        {
          "name": "stdout",
          "output_type": "stream",
          "text": [
            "1/1 [==============================] - 0s 29ms/step\n",
            "1/1 [==============================] - 0s 28ms/step\n"
          ]
        },
        {
          "name": "stderr",
          "output_type": "stream",
          "text": [
            "2022-09-21 14:23:20.132958: I tensorflow/core/grappler/optimizers/custom_graph_optimizer_registry.cc:113] Plugin optimizer for device_type GPU is enabled.\n",
            "2022-09-21 14:23:20.214355: I tensorflow/core/grappler/optimizers/custom_graph_optimizer_registry.cc:113] Plugin optimizer for device_type GPU is enabled.\n"
          ]
        },
        {
          "name": "stdout",
          "output_type": "stream",
          "text": [
            "1/1 [==============================] - 0s 30ms/step\n"
          ]
        },
        {
          "name": "stderr",
          "output_type": "stream",
          "text": [
            "2022-09-21 14:23:20.296725: I tensorflow/core/grappler/optimizers/custom_graph_optimizer_registry.cc:113] Plugin optimizer for device_type GPU is enabled.\n"
          ]
        },
        {
          "name": "stdout",
          "output_type": "stream",
          "text": [
            "1/1 [==============================] - 0s 28ms/step\n",
            "1/1 [==============================] - 0s 29ms/step\n"
          ]
        },
        {
          "name": "stderr",
          "output_type": "stream",
          "text": [
            "2022-09-21 14:23:20.377244: I tensorflow/core/grappler/optimizers/custom_graph_optimizer_registry.cc:113] Plugin optimizer for device_type GPU is enabled.\n",
            "2022-09-21 14:23:20.458488: I tensorflow/core/grappler/optimizers/custom_graph_optimizer_registry.cc:113] Plugin optimizer for device_type GPU is enabled.\n"
          ]
        },
        {
          "name": "stdout",
          "output_type": "stream",
          "text": [
            "1/1 [==============================] - 0s 29ms/step\n"
          ]
        },
        {
          "name": "stderr",
          "output_type": "stream",
          "text": [
            "2022-09-21 14:23:20.537525: I tensorflow/core/grappler/optimizers/custom_graph_optimizer_registry.cc:113] Plugin optimizer for device_type GPU is enabled.\n"
          ]
        },
        {
          "name": "stdout",
          "output_type": "stream",
          "text": [
            "1/1 [==============================] - 0s 28ms/step\n",
            "1/1 [==============================] - 0s 30ms/step\n"
          ]
        },
        {
          "name": "stderr",
          "output_type": "stream",
          "text": [
            "2022-09-21 14:23:20.619568: I tensorflow/core/grappler/optimizers/custom_graph_optimizer_registry.cc:113] Plugin optimizer for device_type GPU is enabled.\n",
            "2022-09-21 14:23:20.701103: I tensorflow/core/grappler/optimizers/custom_graph_optimizer_registry.cc:113] Plugin optimizer for device_type GPU is enabled.\n"
          ]
        },
        {
          "name": "stdout",
          "output_type": "stream",
          "text": [
            "1/1 [==============================] - 0s 28ms/step\n",
            "1/1 [==============================] - 0s 29ms/step\n",
            "1/1 [==============================] - 0s 27ms/step\n"
          ]
        },
        {
          "name": "stderr",
          "output_type": "stream",
          "text": [
            "2022-09-21 14:23:20.953799: I tensorflow/core/grappler/optimizers/custom_graph_optimizer_registry.cc:113] Plugin optimizer for device_type GPU is enabled.\n",
            "2022-09-21 14:23:21.035716: I tensorflow/core/grappler/optimizers/custom_graph_optimizer_registry.cc:113] Plugin optimizer for device_type GPU is enabled.\n",
            "2022-09-21 14:23:21.114528: I tensorflow/core/grappler/optimizers/custom_graph_optimizer_registry.cc:113] Plugin optimizer for device_type GPU is enabled.\n"
          ]
        },
        {
          "name": "stdout",
          "output_type": "stream",
          "text": [
            "1/1 [==============================] - 0s 28ms/step\n",
            "1/1 [==============================] - 0s 29ms/step\n",
            "1/1 [==============================] - 0s 28ms/step\n"
          ]
        },
        {
          "name": "stderr",
          "output_type": "stream",
          "text": [
            "2022-09-21 14:23:21.193380: I tensorflow/core/grappler/optimizers/custom_graph_optimizer_registry.cc:113] Plugin optimizer for device_type GPU is enabled.\n",
            "2022-09-21 14:23:21.274658: I tensorflow/core/grappler/optimizers/custom_graph_optimizer_registry.cc:113] Plugin optimizer for device_type GPU is enabled.\n",
            "2022-09-21 14:23:21.353053: I tensorflow/core/grappler/optimizers/custom_graph_optimizer_registry.cc:113] Plugin optimizer for device_type GPU is enabled.\n"
          ]
        },
        {
          "name": "stdout",
          "output_type": "stream",
          "text": [
            "1/1 [==============================] - 0s 27ms/step\n",
            "1/1 [==============================] - 0s 28ms/step\n",
            "1/1 [==============================] - 0s 29ms/step\n"
          ]
        },
        {
          "name": "stderr",
          "output_type": "stream",
          "text": [
            "2022-09-21 14:23:21.433453: I tensorflow/core/grappler/optimizers/custom_graph_optimizer_registry.cc:113] Plugin optimizer for device_type GPU is enabled.\n",
            "2022-09-21 14:23:21.513044: I tensorflow/core/grappler/optimizers/custom_graph_optimizer_registry.cc:113] Plugin optimizer for device_type GPU is enabled.\n",
            "2022-09-21 14:23:21.592727: I tensorflow/core/grappler/optimizers/custom_graph_optimizer_registry.cc:113] Plugin optimizer for device_type GPU is enabled.\n"
          ]
        },
        {
          "name": "stdout",
          "output_type": "stream",
          "text": [
            "1/1 [==============================] - 0s 29ms/step\n",
            "1/1 [==============================] - 0s 28ms/step\n"
          ]
        },
        {
          "name": "stderr",
          "output_type": "stream",
          "text": [
            "2022-09-21 14:23:21.673954: I tensorflow/core/grappler/optimizers/custom_graph_optimizer_registry.cc:113] Plugin optimizer for device_type GPU is enabled.\n",
            "2022-09-21 14:23:21.753996: I tensorflow/core/grappler/optimizers/custom_graph_optimizer_registry.cc:113] Plugin optimizer for device_type GPU is enabled.\n",
            " 20%|██        | 2/10 [00:07<00:28,  3.59s/it]"
          ]
        },
        {
          "name": "stdout",
          "output_type": "stream",
          "text": [
            "1/1 [==============================] - 0s 27ms/step\n"
          ]
        },
        {
          "name": "stderr",
          "output_type": "stream",
          "text": [
            "2022-09-21 14:23:21.833059: I tensorflow/core/grappler/optimizers/custom_graph_optimizer_registry.cc:113] Plugin optimizer for device_type GPU is enabled.\n"
          ]
        },
        {
          "name": "stdout",
          "output_type": "stream",
          "text": [
            "1/1 [==============================] - 0s 28ms/step\n",
            "1/1 [==============================] - 0s 30ms/step\n"
          ]
        },
        {
          "name": "stderr",
          "output_type": "stream",
          "text": [
            "2022-09-21 14:23:21.913322: I tensorflow/core/grappler/optimizers/custom_graph_optimizer_registry.cc:113] Plugin optimizer for device_type GPU is enabled.\n",
            "2022-09-21 14:23:21.992647: I tensorflow/core/grappler/optimizers/custom_graph_optimizer_registry.cc:113] Plugin optimizer for device_type GPU is enabled.\n"
          ]
        },
        {
          "name": "stdout",
          "output_type": "stream",
          "text": [
            "1/1 [==============================] - 0s 27ms/step\n"
          ]
        },
        {
          "name": "stderr",
          "output_type": "stream",
          "text": [
            "2022-09-21 14:23:22.073822: I tensorflow/core/grappler/optimizers/custom_graph_optimizer_registry.cc:113] Plugin optimizer for device_type GPU is enabled.\n"
          ]
        },
        {
          "name": "stdout",
          "output_type": "stream",
          "text": [
            "1/1 [==============================] - 0s 28ms/step\n",
            "1/1 [==============================] - 0s 29ms/step\n"
          ]
        },
        {
          "name": "stderr",
          "output_type": "stream",
          "text": [
            "2022-09-21 14:23:22.154345: I tensorflow/core/grappler/optimizers/custom_graph_optimizer_registry.cc:113] Plugin optimizer for device_type GPU is enabled.\n",
            "2022-09-21 14:23:22.232514: I tensorflow/core/grappler/optimizers/custom_graph_optimizer_registry.cc:113] Plugin optimizer for device_type GPU is enabled.\n"
          ]
        },
        {
          "name": "stdout",
          "output_type": "stream",
          "text": [
            "1/1 [==============================] - 0s 29ms/step\n"
          ]
        },
        {
          "name": "stderr",
          "output_type": "stream",
          "text": [
            "2022-09-21 14:23:22.314512: I tensorflow/core/grappler/optimizers/custom_graph_optimizer_registry.cc:113] Plugin optimizer for device_type GPU is enabled.\n"
          ]
        },
        {
          "name": "stdout",
          "output_type": "stream",
          "text": [
            "1/1 [==============================] - 0s 34ms/step\n",
            "1/1 [==============================] - 0s 30ms/step\n"
          ]
        },
        {
          "name": "stderr",
          "output_type": "stream",
          "text": [
            "2022-09-21 14:23:22.406377: I tensorflow/core/grappler/optimizers/custom_graph_optimizer_registry.cc:113] Plugin optimizer for device_type GPU is enabled.\n",
            "2022-09-21 14:23:22.498052: I tensorflow/core/grappler/optimizers/custom_graph_optimizer_registry.cc:113] Plugin optimizer for device_type GPU is enabled.\n"
          ]
        },
        {
          "name": "stdout",
          "output_type": "stream",
          "text": [
            "1/1 [==============================] - 0s 31ms/step\n"
          ]
        },
        {
          "name": "stderr",
          "output_type": "stream",
          "text": [
            "2022-09-21 14:23:22.586651: I tensorflow/core/grappler/optimizers/custom_graph_optimizer_registry.cc:113] Plugin optimizer for device_type GPU is enabled.\n"
          ]
        },
        {
          "name": "stdout",
          "output_type": "stream",
          "text": [
            "1/1 [==============================] - 0s 31ms/step\n",
            "1/1 [==============================] - 0s 32ms/step\n"
          ]
        },
        {
          "name": "stderr",
          "output_type": "stream",
          "text": [
            "2022-09-21 14:23:22.675819: I tensorflow/core/grappler/optimizers/custom_graph_optimizer_registry.cc:113] Plugin optimizer for device_type GPU is enabled.\n",
            "2022-09-21 14:23:22.767243: I tensorflow/core/grappler/optimizers/custom_graph_optimizer_registry.cc:113] Plugin optimizer for device_type GPU is enabled.\n"
          ]
        },
        {
          "name": "stdout",
          "output_type": "stream",
          "text": [
            "1/1 [==============================] - 0s 33ms/step\n"
          ]
        },
        {
          "name": "stderr",
          "output_type": "stream",
          "text": [
            "2022-09-21 14:23:22.856911: I tensorflow/core/grappler/optimizers/custom_graph_optimizer_registry.cc:113] Plugin optimizer for device_type GPU is enabled.\n"
          ]
        },
        {
          "name": "stdout",
          "output_type": "stream",
          "text": [
            "1/1 [==============================] - 0s 29ms/step\n",
            "1/1 [==============================] - 0s 29ms/step\n"
          ]
        },
        {
          "name": "stderr",
          "output_type": "stream",
          "text": [
            "2022-09-21 14:23:22.940338: I tensorflow/core/grappler/optimizers/custom_graph_optimizer_registry.cc:113] Plugin optimizer for device_type GPU is enabled.\n",
            "2022-09-21 14:23:23.023332: I tensorflow/core/grappler/optimizers/custom_graph_optimizer_registry.cc:113] Plugin optimizer for device_type GPU is enabled.\n"
          ]
        },
        {
          "name": "stdout",
          "output_type": "stream",
          "text": [
            "1/1 [==============================] - 0s 28ms/step\n"
          ]
        },
        {
          "name": "stderr",
          "output_type": "stream",
          "text": [
            "2022-09-21 14:23:23.102708: I tensorflow/core/grappler/optimizers/custom_graph_optimizer_registry.cc:113] Plugin optimizer for device_type GPU is enabled.\n"
          ]
        },
        {
          "name": "stdout",
          "output_type": "stream",
          "text": [
            "1/1 [==============================] - 0s 29ms/step\n",
            "1/1 [==============================] - 0s 29ms/step\n"
          ]
        },
        {
          "name": "stderr",
          "output_type": "stream",
          "text": [
            "2022-09-21 14:23:23.183822: I tensorflow/core/grappler/optimizers/custom_graph_optimizer_registry.cc:113] Plugin optimizer for device_type GPU is enabled.\n",
            "2022-09-21 14:23:23.262975: I tensorflow/core/grappler/optimizers/custom_graph_optimizer_registry.cc:113] Plugin optimizer for device_type GPU is enabled.\n"
          ]
        },
        {
          "name": "stdout",
          "output_type": "stream",
          "text": [
            "1/1 [==============================] - 0s 28ms/step\n"
          ]
        },
        {
          "name": "stderr",
          "output_type": "stream",
          "text": [
            "2022-09-21 14:23:23.344317: I tensorflow/core/grappler/optimizers/custom_graph_optimizer_registry.cc:113] Plugin optimizer for device_type GPU is enabled.\n"
          ]
        },
        {
          "name": "stdout",
          "output_type": "stream",
          "text": [
            "1/1 [==============================] - 0s 31ms/step\n",
            "1/1 [==============================] - 0s 28ms/step\n"
          ]
        },
        {
          "name": "stderr",
          "output_type": "stream",
          "text": [
            "2022-09-21 14:23:23.427134: I tensorflow/core/grappler/optimizers/custom_graph_optimizer_registry.cc:113] Plugin optimizer for device_type GPU is enabled.\n",
            "2022-09-21 14:23:23.505915: I tensorflow/core/grappler/optimizers/custom_graph_optimizer_registry.cc:113] Plugin optimizer for device_type GPU is enabled.\n"
          ]
        },
        {
          "name": "stdout",
          "output_type": "stream",
          "text": [
            "1/1 [==============================] - 0s 28ms/step\n"
          ]
        },
        {
          "name": "stderr",
          "output_type": "stream",
          "text": [
            "2022-09-21 14:23:23.587611: I tensorflow/core/grappler/optimizers/custom_graph_optimizer_registry.cc:113] Plugin optimizer for device_type GPU is enabled.\n"
          ]
        },
        {
          "name": "stdout",
          "output_type": "stream",
          "text": [
            "1/1 [==============================] - 0s 28ms/step\n",
            "1/1 [==============================] - 0s 28ms/step\n"
          ]
        },
        {
          "name": "stderr",
          "output_type": "stream",
          "text": [
            "2022-09-21 14:23:23.667167: I tensorflow/core/grappler/optimizers/custom_graph_optimizer_registry.cc:113] Plugin optimizer for device_type GPU is enabled.\n",
            "2022-09-21 14:23:23.746689: I tensorflow/core/grappler/optimizers/custom_graph_optimizer_registry.cc:113] Plugin optimizer for device_type GPU is enabled.\n"
          ]
        },
        {
          "name": "stdout",
          "output_type": "stream",
          "text": [
            "1/1 [==============================] - 0s 30ms/step\n"
          ]
        },
        {
          "name": "stderr",
          "output_type": "stream",
          "text": [
            "2022-09-21 14:23:23.827602: I tensorflow/core/grappler/optimizers/custom_graph_optimizer_registry.cc:113] Plugin optimizer for device_type GPU is enabled.\n"
          ]
        },
        {
          "name": "stdout",
          "output_type": "stream",
          "text": [
            "1/1 [==============================] - 0s 32ms/step\n",
            "1/1 [==============================] - 0s 28ms/step\n"
          ]
        },
        {
          "name": "stderr",
          "output_type": "stream",
          "text": [
            "2022-09-21 14:23:23.907342: I tensorflow/core/grappler/optimizers/custom_graph_optimizer_registry.cc:113] Plugin optimizer for device_type GPU is enabled.\n",
            "2022-09-21 14:23:23.992615: I tensorflow/core/grappler/optimizers/custom_graph_optimizer_registry.cc:113] Plugin optimizer for device_type GPU is enabled.\n"
          ]
        },
        {
          "name": "stdout",
          "output_type": "stream",
          "text": [
            "1/1 [==============================] - 0s 28ms/step\n"
          ]
        },
        {
          "name": "stderr",
          "output_type": "stream",
          "text": [
            "2022-09-21 14:23:24.073331: I tensorflow/core/grappler/optimizers/custom_graph_optimizer_registry.cc:113] Plugin optimizer for device_type GPU is enabled.\n"
          ]
        },
        {
          "name": "stdout",
          "output_type": "stream",
          "text": [
            "1/1 [==============================] - 0s 32ms/step\n",
            "1/1 [==============================] - 0s 30ms/step\n"
          ]
        },
        {
          "name": "stderr",
          "output_type": "stream",
          "text": [
            "2022-09-21 14:23:24.158467: I tensorflow/core/grappler/optimizers/custom_graph_optimizer_registry.cc:113] Plugin optimizer for device_type GPU is enabled.\n",
            "2022-09-21 14:23:24.240162: I tensorflow/core/grappler/optimizers/custom_graph_optimizer_registry.cc:113] Plugin optimizer for device_type GPU is enabled.\n"
          ]
        },
        {
          "name": "stdout",
          "output_type": "stream",
          "text": [
            "1/1 [==============================] - 0s 29ms/step\n"
          ]
        },
        {
          "name": "stderr",
          "output_type": "stream",
          "text": [
            "2022-09-21 14:23:24.321330: I tensorflow/core/grappler/optimizers/custom_graph_optimizer_registry.cc:113] Plugin optimizer for device_type GPU is enabled.\n"
          ]
        },
        {
          "name": "stdout",
          "output_type": "stream",
          "text": [
            "1/1 [==============================] - 0s 31ms/step\n",
            "1/1 [==============================] - 0s 28ms/step\n"
          ]
        },
        {
          "name": "stderr",
          "output_type": "stream",
          "text": [
            "2022-09-21 14:23:24.403795: I tensorflow/core/grappler/optimizers/custom_graph_optimizer_registry.cc:113] Plugin optimizer for device_type GPU is enabled.\n",
            "2022-09-21 14:23:24.484071: I tensorflow/core/grappler/optimizers/custom_graph_optimizer_registry.cc:113] Plugin optimizer for device_type GPU is enabled.\n"
          ]
        },
        {
          "name": "stdout",
          "output_type": "stream",
          "text": [
            "1/1 [==============================] - 0s 28ms/step\n"
          ]
        },
        {
          "name": "stderr",
          "output_type": "stream",
          "text": [
            "2022-09-21 14:23:24.565180: I tensorflow/core/grappler/optimizers/custom_graph_optimizer_registry.cc:113] Plugin optimizer for device_type GPU is enabled.\n"
          ]
        },
        {
          "name": "stdout",
          "output_type": "stream",
          "text": [
            "1/1 [==============================] - 0s 28ms/step\n",
            "1/1 [==============================] - 0s 28ms/step\n"
          ]
        },
        {
          "name": "stderr",
          "output_type": "stream",
          "text": [
            "2022-09-21 14:23:24.644798: I tensorflow/core/grappler/optimizers/custom_graph_optimizer_registry.cc:113] Plugin optimizer for device_type GPU is enabled.\n",
            "2022-09-21 14:23:24.724686: I tensorflow/core/grappler/optimizers/custom_graph_optimizer_registry.cc:113] Plugin optimizer for device_type GPU is enabled.\n"
          ]
        },
        {
          "name": "stdout",
          "output_type": "stream",
          "text": [
            "1/1 [==============================] - 0s 30ms/step\n"
          ]
        },
        {
          "name": "stderr",
          "output_type": "stream",
          "text": [
            "2022-09-21 14:23:24.806849: I tensorflow/core/grappler/optimizers/custom_graph_optimizer_registry.cc:113] Plugin optimizer for device_type GPU is enabled.\n",
            " 30%|███       | 3/10 [00:10<00:23,  3.35s/it]"
          ]
        },
        {
          "name": "stdout",
          "output_type": "stream",
          "text": [
            "1/1 [==============================] - 0s 28ms/step\n",
            "1/1 [==============================] - 0s 28ms/step\n"
          ]
        },
        {
          "name": "stderr",
          "output_type": "stream",
          "text": [
            "2022-09-21 14:23:24.886824: I tensorflow/core/grappler/optimizers/custom_graph_optimizer_registry.cc:113] Plugin optimizer for device_type GPU is enabled.\n",
            "2022-09-21 14:23:24.966791: I tensorflow/core/grappler/optimizers/custom_graph_optimizer_registry.cc:113] Plugin optimizer for device_type GPU is enabled.\n"
          ]
        },
        {
          "name": "stdout",
          "output_type": "stream",
          "text": [
            "1/1 [==============================] - 0s 28ms/step\n"
          ]
        },
        {
          "name": "stderr",
          "output_type": "stream",
          "text": [
            "2022-09-21 14:23:25.046124: I tensorflow/core/grappler/optimizers/custom_graph_optimizer_registry.cc:113] Plugin optimizer for device_type GPU is enabled.\n"
          ]
        },
        {
          "name": "stdout",
          "output_type": "stream",
          "text": [
            "1/1 [==============================] - 0s 28ms/step\n",
            "1/1 [==============================] - 0s 30ms/step\n"
          ]
        },
        {
          "name": "stderr",
          "output_type": "stream",
          "text": [
            "2022-09-21 14:23:25.126866: I tensorflow/core/grappler/optimizers/custom_graph_optimizer_registry.cc:113] Plugin optimizer for device_type GPU is enabled.\n",
            "2022-09-21 14:23:25.205841: I tensorflow/core/grappler/optimizers/custom_graph_optimizer_registry.cc:113] Plugin optimizer for device_type GPU is enabled.\n"
          ]
        },
        {
          "name": "stdout",
          "output_type": "stream",
          "text": [
            "1/1 [==============================] - 0s 28ms/step\n"
          ]
        },
        {
          "name": "stderr",
          "output_type": "stream",
          "text": [
            "2022-09-21 14:23:25.288203: I tensorflow/core/grappler/optimizers/custom_graph_optimizer_registry.cc:113] Plugin optimizer for device_type GPU is enabled.\n"
          ]
        },
        {
          "name": "stdout",
          "output_type": "stream",
          "text": [
            "1/1 [==============================] - 0s 32ms/step\n",
            "1/1 [==============================] - 0s 30ms/step\n"
          ]
        },
        {
          "name": "stderr",
          "output_type": "stream",
          "text": [
            "2022-09-21 14:23:25.373208: I tensorflow/core/grappler/optimizers/custom_graph_optimizer_registry.cc:113] Plugin optimizer for device_type GPU is enabled.\n",
            "2022-09-21 14:23:25.457855: I tensorflow/core/grappler/optimizers/custom_graph_optimizer_registry.cc:113] Plugin optimizer for device_type GPU is enabled.\n"
          ]
        },
        {
          "name": "stdout",
          "output_type": "stream",
          "text": [
            "1/1 [==============================] - 0s 31ms/step\n"
          ]
        },
        {
          "name": "stderr",
          "output_type": "stream",
          "text": [
            "2022-09-21 14:23:25.551772: I tensorflow/core/grappler/optimizers/custom_graph_optimizer_registry.cc:113] Plugin optimizer for device_type GPU is enabled.\n"
          ]
        },
        {
          "name": "stdout",
          "output_type": "stream",
          "text": [
            "1/1 [==============================] - 0s 30ms/step\n",
            "1/1 [==============================] - 0s 31ms/step\n"
          ]
        },
        {
          "name": "stderr",
          "output_type": "stream",
          "text": [
            "2022-09-21 14:23:25.641854: I tensorflow/core/grappler/optimizers/custom_graph_optimizer_registry.cc:113] Plugin optimizer for device_type GPU is enabled.\n",
            "2022-09-21 14:23:25.728445: I tensorflow/core/grappler/optimizers/custom_graph_optimizer_registry.cc:113] Plugin optimizer for device_type GPU is enabled.\n"
          ]
        },
        {
          "name": "stdout",
          "output_type": "stream",
          "text": [
            "1/1 [==============================] - 0s 31ms/step\n"
          ]
        },
        {
          "name": "stderr",
          "output_type": "stream",
          "text": [
            "2022-09-21 14:23:25.816608: I tensorflow/core/grappler/optimizers/custom_graph_optimizer_registry.cc:113] Plugin optimizer for device_type GPU is enabled.\n"
          ]
        },
        {
          "name": "stdout",
          "output_type": "stream",
          "text": [
            "1/1 [==============================] - 0s 33ms/step\n",
            "1/1 [==============================] - 0s 29ms/step\n"
          ]
        },
        {
          "name": "stderr",
          "output_type": "stream",
          "text": [
            "2022-09-21 14:23:25.912630: I tensorflow/core/grappler/optimizers/custom_graph_optimizer_registry.cc:113] Plugin optimizer for device_type GPU is enabled.\n",
            "2022-09-21 14:23:25.999235: I tensorflow/core/grappler/optimizers/custom_graph_optimizer_registry.cc:113] Plugin optimizer for device_type GPU is enabled.\n"
          ]
        },
        {
          "name": "stdout",
          "output_type": "stream",
          "text": [
            "1/1 [==============================] - 0s 28ms/step\n"
          ]
        },
        {
          "name": "stderr",
          "output_type": "stream",
          "text": [
            "2022-09-21 14:23:26.079053: I tensorflow/core/grappler/optimizers/custom_graph_optimizer_registry.cc:113] Plugin optimizer for device_type GPU is enabled.\n"
          ]
        },
        {
          "name": "stdout",
          "output_type": "stream",
          "text": [
            "1/1 [==============================] - 0s 28ms/step\n",
            "1/1 [==============================] - 0s 28ms/step\n"
          ]
        },
        {
          "name": "stderr",
          "output_type": "stream",
          "text": [
            "2022-09-21 14:23:26.166863: I tensorflow/core/grappler/optimizers/custom_graph_optimizer_registry.cc:113] Plugin optimizer for device_type GPU is enabled.\n",
            "2022-09-21 14:23:26.244699: I tensorflow/core/grappler/optimizers/custom_graph_optimizer_registry.cc:113] Plugin optimizer for device_type GPU is enabled.\n"
          ]
        },
        {
          "name": "stdout",
          "output_type": "stream",
          "text": [
            "1/1 [==============================] - 0s 28ms/step\n",
            "1/1 [==============================] - 0s 28ms/step\n",
            "1/1 [==============================] - 0s 29ms/step\n"
          ]
        },
        {
          "name": "stderr",
          "output_type": "stream",
          "text": [
            "2022-09-21 14:23:26.485535: I tensorflow/core/grappler/optimizers/custom_graph_optimizer_registry.cc:113] Plugin optimizer for device_type GPU is enabled.\n",
            "2022-09-21 14:23:26.566111: I tensorflow/core/grappler/optimizers/custom_graph_optimizer_registry.cc:113] Plugin optimizer for device_type GPU is enabled.\n",
            "2022-09-21 14:23:26.644064: I tensorflow/core/grappler/optimizers/custom_graph_optimizer_registry.cc:113] Plugin optimizer for device_type GPU is enabled.\n"
          ]
        },
        {
          "name": "stdout",
          "output_type": "stream",
          "text": [
            "1/1 [==============================] - 0s 27ms/step\n",
            "1/1 [==============================] - 0s 29ms/step\n",
            "1/1 [==============================] - 0s 27ms/step\n"
          ]
        },
        {
          "name": "stderr",
          "output_type": "stream",
          "text": [
            "2022-09-21 14:23:26.723591: I tensorflow/core/grappler/optimizers/custom_graph_optimizer_registry.cc:113] Plugin optimizer for device_type GPU is enabled.\n",
            "2022-09-21 14:23:26.802517: I tensorflow/core/grappler/optimizers/custom_graph_optimizer_registry.cc:113] Plugin optimizer for device_type GPU is enabled.\n",
            "2022-09-21 14:23:26.879263: I tensorflow/core/grappler/optimizers/custom_graph_optimizer_registry.cc:113] Plugin optimizer for device_type GPU is enabled.\n"
          ]
        },
        {
          "name": "stdout",
          "output_type": "stream",
          "text": [
            "1/1 [==============================] - 0s 27ms/step\n",
            "1/1 [==============================] - 0s 27ms/step\n",
            "1/1 [==============================] - 0s 27ms/step\n"
          ]
        },
        {
          "name": "stderr",
          "output_type": "stream",
          "text": [
            "2022-09-21 14:23:26.959367: I tensorflow/core/grappler/optimizers/custom_graph_optimizer_registry.cc:113] Plugin optimizer for device_type GPU is enabled.\n",
            "2022-09-21 14:23:27.036941: I tensorflow/core/grappler/optimizers/custom_graph_optimizer_registry.cc:113] Plugin optimizer for device_type GPU is enabled.\n",
            "2022-09-21 14:23:27.119348: I tensorflow/core/grappler/optimizers/custom_graph_optimizer_registry.cc:113] Plugin optimizer for device_type GPU is enabled.\n"
          ]
        },
        {
          "name": "stdout",
          "output_type": "stream",
          "text": [
            "1/1 [==============================] - 0s 28ms/step\n",
            "1/1 [==============================] - 0s 28ms/step\n",
            "1/1 [==============================] - 0s 27ms/step\n"
          ]
        },
        {
          "name": "stderr",
          "output_type": "stream",
          "text": [
            "2022-09-21 14:23:27.198608: I tensorflow/core/grappler/optimizers/custom_graph_optimizer_registry.cc:113] Plugin optimizer for device_type GPU is enabled.\n",
            "2022-09-21 14:23:27.276325: I tensorflow/core/grappler/optimizers/custom_graph_optimizer_registry.cc:113] Plugin optimizer for device_type GPU is enabled.\n",
            "2022-09-21 14:23:27.356312: I tensorflow/core/grappler/optimizers/custom_graph_optimizer_registry.cc:113] Plugin optimizer for device_type GPU is enabled.\n"
          ]
        },
        {
          "name": "stdout",
          "output_type": "stream",
          "text": [
            "1/1 [==============================] - 0s 28ms/step\n",
            "1/1 [==============================] - 0s 28ms/step\n",
            "1/1 [==============================] - 0s 29ms/step\n"
          ]
        },
        {
          "name": "stderr",
          "output_type": "stream",
          "text": [
            "2022-09-21 14:23:27.434845: I tensorflow/core/grappler/optimizers/custom_graph_optimizer_registry.cc:113] Plugin optimizer for device_type GPU is enabled.\n",
            "2022-09-21 14:23:27.513004: I tensorflow/core/grappler/optimizers/custom_graph_optimizer_registry.cc:113] Plugin optimizer for device_type GPU is enabled.\n",
            "2022-09-21 14:23:27.593164: I tensorflow/core/grappler/optimizers/custom_graph_optimizer_registry.cc:113] Plugin optimizer for device_type GPU is enabled.\n"
          ]
        },
        {
          "name": "stdout",
          "output_type": "stream",
          "text": [
            "1/1 [==============================] - 0s 27ms/step\n",
            "1/1 [==============================] - 0s 27ms/step\n",
            "1/1 [==============================] - 0s 27ms/step\n"
          ]
        },
        {
          "name": "stderr",
          "output_type": "stream",
          "text": [
            "2022-09-21 14:23:27.670927: I tensorflow/core/grappler/optimizers/custom_graph_optimizer_registry.cc:113] Plugin optimizer for device_type GPU is enabled.\n",
            "2022-09-21 14:23:27.750132: I tensorflow/core/grappler/optimizers/custom_graph_optimizer_registry.cc:113] Plugin optimizer for device_type GPU is enabled.\n",
            "2022-09-21 14:23:27.827532: I tensorflow/core/grappler/optimizers/custom_graph_optimizer_registry.cc:113] Plugin optimizer for device_type GPU is enabled.\n"
          ]
        },
        {
          "name": "stdout",
          "output_type": "stream",
          "text": [
            "1/1 [==============================] - 0s 28ms/step\n",
            "1/1 [==============================] - 0s 29ms/step\n"
          ]
        },
        {
          "name": "stderr",
          "output_type": "stream",
          "text": [
            "2022-09-21 14:23:27.906818: I tensorflow/core/grappler/optimizers/custom_graph_optimizer_registry.cc:113] Plugin optimizer for device_type GPU is enabled.\n",
            "2022-09-21 14:23:27.986542: I tensorflow/core/grappler/optimizers/custom_graph_optimizer_registry.cc:113] Plugin optimizer for device_type GPU is enabled.\n",
            " 40%|████      | 4/10 [00:13<00:19,  3.28s/it]"
          ]
        },
        {
          "name": "stdout",
          "output_type": "stream",
          "text": [
            "1/1 [==============================] - 0s 28ms/step\n"
          ]
        },
        {
          "name": "stderr",
          "output_type": "stream",
          "text": [
            "2022-09-21 14:23:28.065305: I tensorflow/core/grappler/optimizers/custom_graph_optimizer_registry.cc:113] Plugin optimizer for device_type GPU is enabled.\n"
          ]
        },
        {
          "name": "stdout",
          "output_type": "stream",
          "text": [
            "1/1 [==============================] - 0s 28ms/step\n",
            "1/1 [==============================] - 0s 28ms/step\n"
          ]
        },
        {
          "name": "stderr",
          "output_type": "stream",
          "text": [
            "2022-09-21 14:23:28.147013: I tensorflow/core/grappler/optimizers/custom_graph_optimizer_registry.cc:113] Plugin optimizer for device_type GPU is enabled.\n",
            "2022-09-21 14:23:28.224446: I tensorflow/core/grappler/optimizers/custom_graph_optimizer_registry.cc:113] Plugin optimizer for device_type GPU is enabled.\n"
          ]
        },
        {
          "name": "stdout",
          "output_type": "stream",
          "text": [
            "1/1 [==============================] - 0s 28ms/step\n"
          ]
        },
        {
          "name": "stderr",
          "output_type": "stream",
          "text": [
            "2022-09-21 14:23:28.304446: I tensorflow/core/grappler/optimizers/custom_graph_optimizer_registry.cc:113] Plugin optimizer for device_type GPU is enabled.\n"
          ]
        },
        {
          "name": "stdout",
          "output_type": "stream",
          "text": [
            "1/1 [==============================] - 0s 28ms/step\n",
            "1/1 [==============================] - 0s 30ms/step\n"
          ]
        },
        {
          "name": "stderr",
          "output_type": "stream",
          "text": [
            "2022-09-21 14:23:28.385895: I tensorflow/core/grappler/optimizers/custom_graph_optimizer_registry.cc:113] Plugin optimizer for device_type GPU is enabled.\n",
            "2022-09-21 14:23:28.475804: I tensorflow/core/grappler/optimizers/custom_graph_optimizer_registry.cc:113] Plugin optimizer for device_type GPU is enabled.\n"
          ]
        },
        {
          "name": "stdout",
          "output_type": "stream",
          "text": [
            "1/1 [==============================] - 0s 33ms/step\n"
          ]
        },
        {
          "name": "stderr",
          "output_type": "stream",
          "text": [
            "2022-09-21 14:23:28.564723: I tensorflow/core/grappler/optimizers/custom_graph_optimizer_registry.cc:113] Plugin optimizer for device_type GPU is enabled.\n"
          ]
        },
        {
          "name": "stdout",
          "output_type": "stream",
          "text": [
            "1/1 [==============================] - 0s 32ms/step\n",
            "1/1 [==============================] - 0s 32ms/step\n"
          ]
        },
        {
          "name": "stderr",
          "output_type": "stream",
          "text": [
            "2022-09-21 14:23:28.653585: I tensorflow/core/grappler/optimizers/custom_graph_optimizer_registry.cc:113] Plugin optimizer for device_type GPU is enabled.\n",
            "2022-09-21 14:23:28.745811: I tensorflow/core/grappler/optimizers/custom_graph_optimizer_registry.cc:113] Plugin optimizer for device_type GPU is enabled.\n"
          ]
        },
        {
          "name": "stdout",
          "output_type": "stream",
          "text": [
            "1/1 [==============================] - ETA: 0s"
          ]
        },
        {
          "name": "stderr",
          "output_type": "stream",
          "text": [
            "2022-09-21 14:23:28.837495: I tensorflow/core/grappler/optimizers/custom_graph_optimizer_registry.cc:113] Plugin optimizer for device_type GPU is enabled.\n"
          ]
        },
        {
          "name": "stdout",
          "output_type": "stream",
          "text": [
            "1/1 [==============================] - 0s 32ms/step\n",
            "1/1 [==============================] - 0s 35ms/step\n",
            "1/1 [==============================] - 0s 29ms/step\n"
          ]
        },
        {
          "name": "stderr",
          "output_type": "stream",
          "text": [
            "2022-09-21 14:23:28.930031: I tensorflow/core/grappler/optimizers/custom_graph_optimizer_registry.cc:113] Plugin optimizer for device_type GPU is enabled.\n",
            "2022-09-21 14:23:29.012291: I tensorflow/core/grappler/optimizers/custom_graph_optimizer_registry.cc:113] Plugin optimizer for device_type GPU is enabled.\n"
          ]
        },
        {
          "name": "stdout",
          "output_type": "stream",
          "text": [
            "1/1 [==============================] - 0s 29ms/step\n"
          ]
        },
        {
          "name": "stderr",
          "output_type": "stream",
          "text": [
            "2022-09-21 14:23:29.090942: I tensorflow/core/grappler/optimizers/custom_graph_optimizer_registry.cc:113] Plugin optimizer for device_type GPU is enabled.\n"
          ]
        },
        {
          "name": "stdout",
          "output_type": "stream",
          "text": [
            "1/1 [==============================] - 0s 27ms/step\n",
            "1/1 [==============================] - 0s 28ms/step\n"
          ]
        },
        {
          "name": "stderr",
          "output_type": "stream",
          "text": [
            "2022-09-21 14:23:29.172648: I tensorflow/core/grappler/optimizers/custom_graph_optimizer_registry.cc:113] Plugin optimizer for device_type GPU is enabled.\n",
            "2022-09-21 14:23:29.250048: I tensorflow/core/grappler/optimizers/custom_graph_optimizer_registry.cc:113] Plugin optimizer for device_type GPU is enabled.\n"
          ]
        },
        {
          "name": "stdout",
          "output_type": "stream",
          "text": [
            "1/1 [==============================] - 0s 28ms/step\n"
          ]
        },
        {
          "name": "stderr",
          "output_type": "stream",
          "text": [
            "2022-09-21 14:23:29.331270: I tensorflow/core/grappler/optimizers/custom_graph_optimizer_registry.cc:113] Plugin optimizer for device_type GPU is enabled.\n"
          ]
        },
        {
          "name": "stdout",
          "output_type": "stream",
          "text": [
            "1/1 [==============================] - 0s 27ms/step\n",
            "1/1 [==============================] - 0s 27ms/step\n"
          ]
        },
        {
          "name": "stderr",
          "output_type": "stream",
          "text": [
            "2022-09-21 14:23:29.412742: I tensorflow/core/grappler/optimizers/custom_graph_optimizer_registry.cc:113] Plugin optimizer for device_type GPU is enabled.\n",
            "2022-09-21 14:23:29.490900: I tensorflow/core/grappler/optimizers/custom_graph_optimizer_registry.cc:113] Plugin optimizer for device_type GPU is enabled.\n"
          ]
        },
        {
          "name": "stdout",
          "output_type": "stream",
          "text": [
            "1/1 [==============================] - 0s 29ms/step\n"
          ]
        },
        {
          "name": "stderr",
          "output_type": "stream",
          "text": [
            "2022-09-21 14:23:29.570568: I tensorflow/core/grappler/optimizers/custom_graph_optimizer_registry.cc:113] Plugin optimizer for device_type GPU is enabled.\n"
          ]
        },
        {
          "name": "stdout",
          "output_type": "stream",
          "text": [
            "1/1 [==============================] - 0s 28ms/step\n",
            "1/1 [==============================] - 0s 27ms/step\n"
          ]
        },
        {
          "name": "stderr",
          "output_type": "stream",
          "text": [
            "2022-09-21 14:23:29.648784: I tensorflow/core/grappler/optimizers/custom_graph_optimizer_registry.cc:113] Plugin optimizer for device_type GPU is enabled.\n",
            "2022-09-21 14:23:29.728303: I tensorflow/core/grappler/optimizers/custom_graph_optimizer_registry.cc:113] Plugin optimizer for device_type GPU is enabled.\n"
          ]
        },
        {
          "name": "stdout",
          "output_type": "stream",
          "text": [
            "1/1 [==============================] - 0s 27ms/step\n"
          ]
        },
        {
          "name": "stderr",
          "output_type": "stream",
          "text": [
            "2022-09-21 14:23:29.808093: I tensorflow/core/grappler/optimizers/custom_graph_optimizer_registry.cc:113] Plugin optimizer for device_type GPU is enabled.\n"
          ]
        },
        {
          "name": "stdout",
          "output_type": "stream",
          "text": [
            "1/1 [==============================] - 0s 29ms/step\n",
            "1/1 [==============================] - 0s 29ms/step\n"
          ]
        },
        {
          "name": "stderr",
          "output_type": "stream",
          "text": [
            "2022-09-21 14:23:29.888515: I tensorflow/core/grappler/optimizers/custom_graph_optimizer_registry.cc:113] Plugin optimizer for device_type GPU is enabled.\n",
            "2022-09-21 14:23:29.968762: I tensorflow/core/grappler/optimizers/custom_graph_optimizer_registry.cc:113] Plugin optimizer for device_type GPU is enabled.\n"
          ]
        },
        {
          "name": "stdout",
          "output_type": "stream",
          "text": [
            "1/1 [==============================] - 0s 27ms/step\n"
          ]
        },
        {
          "name": "stderr",
          "output_type": "stream",
          "text": [
            "2022-09-21 14:23:30.045478: I tensorflow/core/grappler/optimizers/custom_graph_optimizer_registry.cc:113] Plugin optimizer for device_type GPU is enabled.\n"
          ]
        },
        {
          "name": "stdout",
          "output_type": "stream",
          "text": [
            "1/1 [==============================] - 0s 28ms/step\n",
            "1/1 [==============================] - 0s 30ms/step\n"
          ]
        },
        {
          "name": "stderr",
          "output_type": "stream",
          "text": [
            "2022-09-21 14:23:30.126867: I tensorflow/core/grappler/optimizers/custom_graph_optimizer_registry.cc:113] Plugin optimizer for device_type GPU is enabled.\n",
            "2022-09-21 14:23:30.203816: I tensorflow/core/grappler/optimizers/custom_graph_optimizer_registry.cc:113] Plugin optimizer for device_type GPU is enabled.\n"
          ]
        },
        {
          "name": "stdout",
          "output_type": "stream",
          "text": [
            "1/1 [==============================] - 0s 28ms/step\n"
          ]
        },
        {
          "name": "stderr",
          "output_type": "stream",
          "text": [
            "2022-09-21 14:23:30.288064: I tensorflow/core/grappler/optimizers/custom_graph_optimizer_registry.cc:113] Plugin optimizer for device_type GPU is enabled.\n"
          ]
        },
        {
          "name": "stdout",
          "output_type": "stream",
          "text": [
            "1/1 [==============================] - 0s 28ms/step\n",
            "1/1 [==============================] - 0s 28ms/step\n"
          ]
        },
        {
          "name": "stderr",
          "output_type": "stream",
          "text": [
            "2022-09-21 14:23:30.366580: I tensorflow/core/grappler/optimizers/custom_graph_optimizer_registry.cc:113] Plugin optimizer for device_type GPU is enabled.\n",
            "2022-09-21 14:23:30.447639: I tensorflow/core/grappler/optimizers/custom_graph_optimizer_registry.cc:113] Plugin optimizer for device_type GPU is enabled.\n"
          ]
        },
        {
          "name": "stdout",
          "output_type": "stream",
          "text": [
            "1/1 [==============================] - 0s 29ms/step\n"
          ]
        },
        {
          "name": "stderr",
          "output_type": "stream",
          "text": [
            "2022-09-21 14:23:30.532191: I tensorflow/core/grappler/optimizers/custom_graph_optimizer_registry.cc:113] Plugin optimizer for device_type GPU is enabled.\n"
          ]
        },
        {
          "name": "stdout",
          "output_type": "stream",
          "text": [
            "1/1 [==============================] - 0s 29ms/step\n",
            "1/1 [==============================] - 0s 30ms/step\n"
          ]
        },
        {
          "name": "stderr",
          "output_type": "stream",
          "text": [
            "2022-09-21 14:23:30.611047: I tensorflow/core/grappler/optimizers/custom_graph_optimizer_registry.cc:113] Plugin optimizer for device_type GPU is enabled.\n",
            "2022-09-21 14:23:30.696239: I tensorflow/core/grappler/optimizers/custom_graph_optimizer_registry.cc:113] Plugin optimizer for device_type GPU is enabled.\n"
          ]
        },
        {
          "name": "stdout",
          "output_type": "stream",
          "text": [
            "1/1 [==============================] - 0s 29ms/step\n"
          ]
        },
        {
          "name": "stderr",
          "output_type": "stream",
          "text": [
            "2022-09-21 14:23:30.779032: I tensorflow/core/grappler/optimizers/custom_graph_optimizer_registry.cc:113] Plugin optimizer for device_type GPU is enabled.\n"
          ]
        },
        {
          "name": "stdout",
          "output_type": "stream",
          "text": [
            "1/1 [==============================] - 0s 29ms/step\n",
            "1/1 [==============================] - 0s 31ms/step\n"
          ]
        },
        {
          "name": "stderr",
          "output_type": "stream",
          "text": [
            "2022-09-21 14:23:30.863754: I tensorflow/core/grappler/optimizers/custom_graph_optimizer_registry.cc:113] Plugin optimizer for device_type GPU is enabled.\n",
            "2022-09-21 14:23:30.948463: I tensorflow/core/grappler/optimizers/custom_graph_optimizer_registry.cc:113] Plugin optimizer for device_type GPU is enabled.\n"
          ]
        },
        {
          "name": "stdout",
          "output_type": "stream",
          "text": [
            "1/1 [==============================] - 0s 30ms/step\n"
          ]
        },
        {
          "name": "stderr",
          "output_type": "stream",
          "text": [
            "2022-09-21 14:23:31.032484: I tensorflow/core/grappler/optimizers/custom_graph_optimizer_registry.cc:113] Plugin optimizer for device_type GPU is enabled.\n",
            " 50%|█████     | 5/10 [00:16<00:15,  3.20s/it]"
          ]
        },
        {
          "name": "stdout",
          "output_type": "stream",
          "text": [
            "1/1 [==============================] - 0s 30ms/step\n",
            "1/1 [==============================] - 0s 29ms/step\n"
          ]
        },
        {
          "name": "stderr",
          "output_type": "stream",
          "text": [
            "2022-09-21 14:23:31.119694: I tensorflow/core/grappler/optimizers/custom_graph_optimizer_registry.cc:113] Plugin optimizer for device_type GPU is enabled.\n",
            "2022-09-21 14:23:31.203290: I tensorflow/core/grappler/optimizers/custom_graph_optimizer_registry.cc:113] Plugin optimizer for device_type GPU is enabled.\n"
          ]
        },
        {
          "name": "stdout",
          "output_type": "stream",
          "text": [
            "1/1 [==============================] - 0s 29ms/step\n"
          ]
        },
        {
          "name": "stderr",
          "output_type": "stream",
          "text": [
            "2022-09-21 14:23:31.288001: I tensorflow/core/grappler/optimizers/custom_graph_optimizer_registry.cc:113] Plugin optimizer for device_type GPU is enabled.\n"
          ]
        },
        {
          "name": "stdout",
          "output_type": "stream",
          "text": [
            "1/1 [==============================] - 0s 31ms/step\n",
            "1/1 [==============================] - 0s 32ms/step\n"
          ]
        },
        {
          "name": "stderr",
          "output_type": "stream",
          "text": [
            "2022-09-21 14:23:31.372940: I tensorflow/core/grappler/optimizers/custom_graph_optimizer_registry.cc:113] Plugin optimizer for device_type GPU is enabled.\n",
            "2022-09-21 14:23:31.465022: I tensorflow/core/grappler/optimizers/custom_graph_optimizer_registry.cc:113] Plugin optimizer for device_type GPU is enabled.\n",
            "2022-09-21 14:23:31.564053: I tensorflow/core/grappler/optimizers/custom_graph_optimizer_registry.cc:113] Plugin optimizer for device_type GPU is enabled.\n"
          ]
        },
        {
          "name": "stdout",
          "output_type": "stream",
          "text": [
            "1/1 [==============================] - 0s 36ms/step\n",
            "1/1 [==============================] - 0s 32ms/step\n"
          ]
        },
        {
          "name": "stderr",
          "output_type": "stream",
          "text": [
            "2022-09-21 14:23:31.658379: I tensorflow/core/grappler/optimizers/custom_graph_optimizer_registry.cc:113] Plugin optimizer for device_type GPU is enabled.\n",
            "2022-09-21 14:23:31.754520: I tensorflow/core/grappler/optimizers/custom_graph_optimizer_registry.cc:113] Plugin optimizer for device_type GPU is enabled.\n"
          ]
        },
        {
          "name": "stdout",
          "output_type": "stream",
          "text": [
            "1/1 [==============================] - 0s 34ms/step\n",
            "1/1 [==============================] - 0s 45ms/step\n"
          ]
        },
        {
          "name": "stderr",
          "output_type": "stream",
          "text": [
            "2022-09-21 14:23:31.861297: I tensorflow/core/grappler/optimizers/custom_graph_optimizer_registry.cc:113] Plugin optimizer for device_type GPU is enabled.\n"
          ]
        },
        {
          "name": "stdout",
          "output_type": "stream",
          "text": [
            "1/1 [==============================] - 0s 34ms/step\n",
            "1/1 [==============================] - 0s 33ms/step\n",
            "1/1 [==============================] - 0s 30ms/step\n"
          ]
        },
        {
          "name": "stderr",
          "output_type": "stream",
          "text": [
            "2022-09-21 14:23:32.211658: I tensorflow/core/grappler/optimizers/custom_graph_optimizer_registry.cc:113] Plugin optimizer for device_type GPU is enabled.\n",
            "2022-09-21 14:23:32.302611: I tensorflow/core/grappler/optimizers/custom_graph_optimizer_registry.cc:113] Plugin optimizer for device_type GPU is enabled.\n",
            "2022-09-21 14:23:32.389668: I tensorflow/core/grappler/optimizers/custom_graph_optimizer_registry.cc:113] Plugin optimizer for device_type GPU is enabled.\n"
          ]
        },
        {
          "name": "stdout",
          "output_type": "stream",
          "text": [
            "1/1 [==============================] - 0s 30ms/step\n",
            "1/1 [==============================] - 0s 30ms/step\n",
            "1/1 [==============================] - 0s 30ms/step\n"
          ]
        },
        {
          "name": "stderr",
          "output_type": "stream",
          "text": [
            "2022-09-21 14:23:32.475458: I tensorflow/core/grappler/optimizers/custom_graph_optimizer_registry.cc:113] Plugin optimizer for device_type GPU is enabled.\n",
            "2022-09-21 14:23:32.559560: I tensorflow/core/grappler/optimizers/custom_graph_optimizer_registry.cc:113] Plugin optimizer for device_type GPU is enabled.\n",
            "2022-09-21 14:23:32.648632: I tensorflow/core/grappler/optimizers/custom_graph_optimizer_registry.cc:113] Plugin optimizer for device_type GPU is enabled.\n"
          ]
        },
        {
          "name": "stdout",
          "output_type": "stream",
          "text": [
            "1/1 [==============================] - 0s 30ms/step\n",
            "1/1 [==============================] - 0s 31ms/step\n",
            "1/1 [==============================] - 0s 29ms/step\n"
          ]
        },
        {
          "name": "stderr",
          "output_type": "stream",
          "text": [
            "2022-09-21 14:23:32.733988: I tensorflow/core/grappler/optimizers/custom_graph_optimizer_registry.cc:113] Plugin optimizer for device_type GPU is enabled.\n",
            "2022-09-21 14:23:32.818349: I tensorflow/core/grappler/optimizers/custom_graph_optimizer_registry.cc:113] Plugin optimizer for device_type GPU is enabled.\n",
            "2022-09-21 14:23:32.902103: I tensorflow/core/grappler/optimizers/custom_graph_optimizer_registry.cc:113] Plugin optimizer for device_type GPU is enabled.\n"
          ]
        },
        {
          "name": "stdout",
          "output_type": "stream",
          "text": [
            "1/1 [==============================] - 0s 30ms/step\n",
            "1/1 [==============================] - 0s 31ms/step\n",
            "1/1 [==============================] - 0s 29ms/step\n"
          ]
        },
        {
          "name": "stderr",
          "output_type": "stream",
          "text": [
            "2022-09-21 14:23:32.987385: I tensorflow/core/grappler/optimizers/custom_graph_optimizer_registry.cc:113] Plugin optimizer for device_type GPU is enabled.\n",
            "2022-09-21 14:23:33.072017: I tensorflow/core/grappler/optimizers/custom_graph_optimizer_registry.cc:113] Plugin optimizer for device_type GPU is enabled.\n",
            "2022-09-21 14:23:33.155100: I tensorflow/core/grappler/optimizers/custom_graph_optimizer_registry.cc:113] Plugin optimizer for device_type GPU is enabled.\n"
          ]
        },
        {
          "name": "stdout",
          "output_type": "stream",
          "text": [
            "1/1 [==============================] - 0s 31ms/step\n",
            "1/1 [==============================] - 0s 30ms/step\n",
            "1/1 [==============================] - 0s 30ms/step\n"
          ]
        },
        {
          "name": "stderr",
          "output_type": "stream",
          "text": [
            "2022-09-21 14:23:33.240377: I tensorflow/core/grappler/optimizers/custom_graph_optimizer_registry.cc:113] Plugin optimizer for device_type GPU is enabled.\n",
            "2022-09-21 14:23:33.325428: I tensorflow/core/grappler/optimizers/custom_graph_optimizer_registry.cc:113] Plugin optimizer for device_type GPU is enabled.\n",
            "2022-09-21 14:23:33.409232: I tensorflow/core/grappler/optimizers/custom_graph_optimizer_registry.cc:113] Plugin optimizer for device_type GPU is enabled.\n"
          ]
        },
        {
          "name": "stdout",
          "output_type": "stream",
          "text": [
            "1/1 [==============================] - 0s 30ms/step\n",
            "1/1 [==============================] - 0s 30ms/step\n",
            "1/1 [==============================] - 0s 30ms/step\n"
          ]
        },
        {
          "name": "stderr",
          "output_type": "stream",
          "text": [
            "2022-09-21 14:23:33.494884: I tensorflow/core/grappler/optimizers/custom_graph_optimizer_registry.cc:113] Plugin optimizer for device_type GPU is enabled.\n",
            "2022-09-21 14:23:33.579225: I tensorflow/core/grappler/optimizers/custom_graph_optimizer_registry.cc:113] Plugin optimizer for device_type GPU is enabled.\n",
            "2022-09-21 14:23:33.662662: I tensorflow/core/grappler/optimizers/custom_graph_optimizer_registry.cc:113] Plugin optimizer for device_type GPU is enabled.\n"
          ]
        },
        {
          "name": "stdout",
          "output_type": "stream",
          "text": [
            "1/1 [==============================] - 0s 30ms/step\n",
            "1/1 [==============================] - 0s 31ms/step\n",
            "1/1 [==============================] - 0s 31ms/step\n"
          ]
        },
        {
          "name": "stderr",
          "output_type": "stream",
          "text": [
            "2022-09-21 14:23:33.749464: I tensorflow/core/grappler/optimizers/custom_graph_optimizer_registry.cc:113] Plugin optimizer for device_type GPU is enabled.\n",
            "2022-09-21 14:23:33.833987: I tensorflow/core/grappler/optimizers/custom_graph_optimizer_registry.cc:113] Plugin optimizer for device_type GPU is enabled.\n",
            "2022-09-21 14:23:33.917555: I tensorflow/core/grappler/optimizers/custom_graph_optimizer_registry.cc:113] Plugin optimizer for device_type GPU is enabled.\n"
          ]
        },
        {
          "name": "stdout",
          "output_type": "stream",
          "text": [
            "1/1 [==============================] - 0s 30ms/step\n",
            "1/1 [==============================] - 0s 30ms/step\n",
            "1/1 [==============================] - 0s 30ms/step\n"
          ]
        },
        {
          "name": "stderr",
          "output_type": "stream",
          "text": [
            "2022-09-21 14:23:34.005749: I tensorflow/core/grappler/optimizers/custom_graph_optimizer_registry.cc:113] Plugin optimizer for device_type GPU is enabled.\n",
            "2022-09-21 14:23:34.089659: I tensorflow/core/grappler/optimizers/custom_graph_optimizer_registry.cc:113] Plugin optimizer for device_type GPU is enabled.\n",
            "2022-09-21 14:23:34.173884: I tensorflow/core/grappler/optimizers/custom_graph_optimizer_registry.cc:113] Plugin optimizer for device_type GPU is enabled.\n"
          ]
        },
        {
          "name": "stdout",
          "output_type": "stream",
          "text": [
            "1/1 [==============================] - 0s 30ms/step\n",
            "1/1 [==============================] - 0s 31ms/step\n",
            "1/1 [==============================] - 0s 32ms/step\n"
          ]
        },
        {
          "name": "stderr",
          "output_type": "stream",
          "text": [
            "2022-09-21 14:23:34.259406: I tensorflow/core/grappler/optimizers/custom_graph_optimizer_registry.cc:113] Plugin optimizer for device_type GPU is enabled.\n",
            "2022-09-21 14:23:34.345428: I tensorflow/core/grappler/optimizers/custom_graph_optimizer_registry.cc:113] Plugin optimizer for device_type GPU is enabled.\n",
            "2022-09-21 14:23:34.431532: I tensorflow/core/grappler/optimizers/custom_graph_optimizer_registry.cc:113] Plugin optimizer for device_type GPU is enabled.\n"
          ]
        },
        {
          "name": "stdout",
          "output_type": "stream",
          "text": [
            "1/1 [==============================] - 0s 30ms/step\n"
          ]
        },
        {
          "name": "stderr",
          "output_type": "stream",
          "text": [
            "2022-09-21 14:23:34.516397: I tensorflow/core/grappler/optimizers/custom_graph_optimizer_registry.cc:113] Plugin optimizer for device_type GPU is enabled.\n",
            " 60%|██████    | 6/10 [00:20<00:13,  3.29s/it]"
          ]
        },
        {
          "name": "stdout",
          "output_type": "stream",
          "text": [
            "1/1 [==============================] - 0s 30ms/step\n",
            "1/1 [==============================] - 0s 30ms/step\n"
          ]
        },
        {
          "name": "stderr",
          "output_type": "stream",
          "text": [
            "2022-09-21 14:23:34.603655: I tensorflow/core/grappler/optimizers/custom_graph_optimizer_registry.cc:113] Plugin optimizer for device_type GPU is enabled.\n",
            "2022-09-21 14:23:34.690323: I tensorflow/core/grappler/optimizers/custom_graph_optimizer_registry.cc:113] Plugin optimizer for device_type GPU is enabled.\n"
          ]
        },
        {
          "name": "stdout",
          "output_type": "stream",
          "text": [
            "1/1 [==============================] - 0s 30ms/step\n"
          ]
        },
        {
          "name": "stderr",
          "output_type": "stream",
          "text": [
            "2022-09-21 14:23:34.775949: I tensorflow/core/grappler/optimizers/custom_graph_optimizer_registry.cc:113] Plugin optimizer for device_type GPU is enabled.\n"
          ]
        },
        {
          "name": "stdout",
          "output_type": "stream",
          "text": [
            "1/1 [==============================] - 0s 32ms/step\n",
            "1/1 [==============================] - 0s 32ms/step\n"
          ]
        },
        {
          "name": "stderr",
          "output_type": "stream",
          "text": [
            "2022-09-21 14:23:34.863272: I tensorflow/core/grappler/optimizers/custom_graph_optimizer_registry.cc:113] Plugin optimizer for device_type GPU is enabled.\n",
            "2022-09-21 14:23:34.953145: I tensorflow/core/grappler/optimizers/custom_graph_optimizer_registry.cc:113] Plugin optimizer for device_type GPU is enabled.\n",
            "2022-09-21 14:23:35.051743: I tensorflow/core/grappler/optimizers/custom_graph_optimizer_registry.cc:113] Plugin optimizer for device_type GPU is enabled.\n"
          ]
        },
        {
          "name": "stdout",
          "output_type": "stream",
          "text": [
            "1/1 [==============================] - 0s 32ms/step\n",
            "1/1 [==============================] - 0s 35ms/step\n"
          ]
        },
        {
          "name": "stderr",
          "output_type": "stream",
          "text": [
            "2022-09-21 14:23:35.146082: I tensorflow/core/grappler/optimizers/custom_graph_optimizer_registry.cc:113] Plugin optimizer for device_type GPU is enabled.\n",
            "2022-09-21 14:23:35.245231: I tensorflow/core/grappler/optimizers/custom_graph_optimizer_registry.cc:113] Plugin optimizer for device_type GPU is enabled.\n"
          ]
        },
        {
          "name": "stdout",
          "output_type": "stream",
          "text": [
            "1/1 [==============================] - 0s 33ms/step\n"
          ]
        },
        {
          "name": "stderr",
          "output_type": "stream",
          "text": [
            "2022-09-21 14:23:35.340813: I tensorflow/core/grappler/optimizers/custom_graph_optimizer_registry.cc:113] Plugin optimizer for device_type GPU is enabled.\n"
          ]
        },
        {
          "name": "stdout",
          "output_type": "stream",
          "text": [
            "1/1 [==============================] - 0s 33ms/step\n",
            "1/1 [==============================] - 0s 34ms/step\n"
          ]
        },
        {
          "name": "stderr",
          "output_type": "stream",
          "text": [
            "2022-09-21 14:23:35.436367: I tensorflow/core/grappler/optimizers/custom_graph_optimizer_registry.cc:113] Plugin optimizer for device_type GPU is enabled.\n",
            "2022-09-21 14:23:35.534446: I tensorflow/core/grappler/optimizers/custom_graph_optimizer_registry.cc:113] Plugin optimizer for device_type GPU is enabled.\n"
          ]
        },
        {
          "name": "stdout",
          "output_type": "stream",
          "text": [
            "1/1 [==============================] - 0s 37ms/step\n"
          ]
        },
        {
          "name": "stderr",
          "output_type": "stream",
          "text": [
            "2022-09-21 14:23:35.623119: I tensorflow/core/grappler/optimizers/custom_graph_optimizer_registry.cc:113] Plugin optimizer for device_type GPU is enabled.\n"
          ]
        },
        {
          "name": "stdout",
          "output_type": "stream",
          "text": [
            "1/1 [==============================] - 0s 30ms/step\n",
            "1/1 [==============================] - 0s 30ms/step\n",
            "1/1 [==============================] - 0s 30ms/step\n"
          ]
        },
        {
          "name": "stderr",
          "output_type": "stream",
          "text": [
            "2022-09-21 14:23:35.708423: I tensorflow/core/grappler/optimizers/custom_graph_optimizer_registry.cc:113] Plugin optimizer for device_type GPU is enabled.\n",
            "2022-09-21 14:23:35.792234: I tensorflow/core/grappler/optimizers/custom_graph_optimizer_registry.cc:113] Plugin optimizer for device_type GPU is enabled.\n"
          ]
        },
        {
          "name": "stdout",
          "output_type": "stream",
          "text": [
            "1/1 [==============================] - 0s 32ms/step\n"
          ]
        },
        {
          "name": "stderr",
          "output_type": "stream",
          "text": [
            "2022-09-21 14:23:35.878609: I tensorflow/core/grappler/optimizers/custom_graph_optimizer_registry.cc:113] Plugin optimizer for device_type GPU is enabled.\n"
          ]
        },
        {
          "name": "stdout",
          "output_type": "stream",
          "text": [
            "1/1 [==============================] - 0s 33ms/step\n",
            "1/1 [==============================] - 0s 30ms/step\n"
          ]
        },
        {
          "name": "stderr",
          "output_type": "stream",
          "text": [
            "2022-09-21 14:23:35.967866: I tensorflow/core/grappler/optimizers/custom_graph_optimizer_registry.cc:113] Plugin optimizer for device_type GPU is enabled.\n",
            "2022-09-21 14:23:36.050905: I tensorflow/core/grappler/optimizers/custom_graph_optimizer_registry.cc:113] Plugin optimizer for device_type GPU is enabled.\n"
          ]
        },
        {
          "name": "stdout",
          "output_type": "stream",
          "text": [
            "1/1 [==============================] - 0s 30ms/step\n"
          ]
        },
        {
          "name": "stderr",
          "output_type": "stream",
          "text": [
            "2022-09-21 14:23:36.137553: I tensorflow/core/grappler/optimizers/custom_graph_optimizer_registry.cc:113] Plugin optimizer for device_type GPU is enabled.\n"
          ]
        },
        {
          "name": "stdout",
          "output_type": "stream",
          "text": [
            "1/1 [==============================] - 0s 30ms/step\n",
            "1/1 [==============================] - 0s 30ms/step\n"
          ]
        },
        {
          "name": "stderr",
          "output_type": "stream",
          "text": [
            "2022-09-21 14:23:36.226973: I tensorflow/core/grappler/optimizers/custom_graph_optimizer_registry.cc:113] Plugin optimizer for device_type GPU is enabled.\n",
            "2022-09-21 14:23:36.312256: I tensorflow/core/grappler/optimizers/custom_graph_optimizer_registry.cc:113] Plugin optimizer for device_type GPU is enabled.\n"
          ]
        },
        {
          "name": "stdout",
          "output_type": "stream",
          "text": [
            "1/1 [==============================] - 0s 30ms/step\n"
          ]
        },
        {
          "name": "stderr",
          "output_type": "stream",
          "text": [
            "2022-09-21 14:23:36.397507: I tensorflow/core/grappler/optimizers/custom_graph_optimizer_registry.cc:113] Plugin optimizer for device_type GPU is enabled.\n"
          ]
        },
        {
          "name": "stdout",
          "output_type": "stream",
          "text": [
            "1/1 [==============================] - 0s 31ms/step\n",
            "1/1 [==============================] - 0s 32ms/step\n"
          ]
        },
        {
          "name": "stderr",
          "output_type": "stream",
          "text": [
            "2022-09-21 14:23:36.484283: I tensorflow/core/grappler/optimizers/custom_graph_optimizer_registry.cc:113] Plugin optimizer for device_type GPU is enabled.\n",
            "2022-09-21 14:23:36.571116: I tensorflow/core/grappler/optimizers/custom_graph_optimizer_registry.cc:113] Plugin optimizer for device_type GPU is enabled.\n"
          ]
        },
        {
          "name": "stdout",
          "output_type": "stream",
          "text": [
            "1/1 [==============================] - 0s 31ms/step\n"
          ]
        },
        {
          "name": "stderr",
          "output_type": "stream",
          "text": [
            "2022-09-21 14:23:36.658371: I tensorflow/core/grappler/optimizers/custom_graph_optimizer_registry.cc:113] Plugin optimizer for device_type GPU is enabled.\n"
          ]
        },
        {
          "name": "stdout",
          "output_type": "stream",
          "text": [
            "1/1 [==============================] - 0s 30ms/step\n",
            "1/1 [==============================] - 0s 30ms/step\n"
          ]
        },
        {
          "name": "stderr",
          "output_type": "stream",
          "text": [
            "2022-09-21 14:23:36.746686: I tensorflow/core/grappler/optimizers/custom_graph_optimizer_registry.cc:113] Plugin optimizer for device_type GPU is enabled.\n",
            "2022-09-21 14:23:36.831599: I tensorflow/core/grappler/optimizers/custom_graph_optimizer_registry.cc:113] Plugin optimizer for device_type GPU is enabled.\n"
          ]
        },
        {
          "name": "stdout",
          "output_type": "stream",
          "text": [
            "1/1 [==============================] - 0s 30ms/step\n"
          ]
        },
        {
          "name": "stderr",
          "output_type": "stream",
          "text": [
            "2022-09-21 14:23:36.917501: I tensorflow/core/grappler/optimizers/custom_graph_optimizer_registry.cc:113] Plugin optimizer for device_type GPU is enabled.\n"
          ]
        },
        {
          "name": "stdout",
          "output_type": "stream",
          "text": [
            "1/1 [==============================] - 0s 32ms/step\n",
            "1/1 [==============================] - 0s 29ms/step\n"
          ]
        },
        {
          "name": "stderr",
          "output_type": "stream",
          "text": [
            "2022-09-21 14:23:37.004640: I tensorflow/core/grappler/optimizers/custom_graph_optimizer_registry.cc:113] Plugin optimizer for device_type GPU is enabled.\n",
            "2022-09-21 14:23:37.093487: I tensorflow/core/grappler/optimizers/custom_graph_optimizer_registry.cc:113] Plugin optimizer for device_type GPU is enabled.\n",
            "2022-09-21 14:23:37.192500: I tensorflow/core/grappler/optimizers/custom_graph_optimizer_registry.cc:113] Plugin optimizer for device_type GPU is enabled.\n"
          ]
        },
        {
          "name": "stdout",
          "output_type": "stream",
          "text": [
            "1/1 [==============================] - 0s 32ms/step\n",
            "1/1 [==============================] - 0s 30ms/step\n",
            "1/1 [==============================] - 0s 29ms/step\n"
          ]
        },
        {
          "name": "stderr",
          "output_type": "stream",
          "text": [
            "2022-09-21 14:23:37.276794: I tensorflow/core/grappler/optimizers/custom_graph_optimizer_registry.cc:113] Plugin optimizer for device_type GPU is enabled.\n",
            "2022-09-21 14:23:37.362127: I tensorflow/core/grappler/optimizers/custom_graph_optimizer_registry.cc:113] Plugin optimizer for device_type GPU is enabled.\n"
          ]
        },
        {
          "name": "stdout",
          "output_type": "stream",
          "text": [
            "1/1 [==============================] - 0s 30ms/step\n"
          ]
        },
        {
          "name": "stderr",
          "output_type": "stream",
          "text": [
            "2022-09-21 14:23:37.449659: I tensorflow/core/grappler/optimizers/custom_graph_optimizer_registry.cc:113] Plugin optimizer for device_type GPU is enabled.\n"
          ]
        },
        {
          "name": "stdout",
          "output_type": "stream",
          "text": [
            "1/1 [==============================] - 0s 30ms/step\n"
          ]
        },
        {
          "name": "stderr",
          "output_type": "stream",
          "text": [
            "2022-09-21 14:23:37.536230: I tensorflow/core/grappler/optimizers/custom_graph_optimizer_registry.cc:113] Plugin optimizer for device_type GPU is enabled.\n"
          ]
        },
        {
          "name": "stdout",
          "output_type": "stream",
          "text": [
            "1/1 [==============================] - 0s 202ms/step\n",
            "1/1 [==============================] - 0s 29ms/step\n",
            "1/1 [==============================] - 0s 29ms/step\n"
          ]
        },
        {
          "name": "stderr",
          "output_type": "stream",
          "text": [
            "2022-09-21 14:23:37.793235: I tensorflow/core/grappler/optimizers/custom_graph_optimizer_registry.cc:113] Plugin optimizer for device_type GPU is enabled.\n",
            "2022-09-21 14:23:37.877302: I tensorflow/core/grappler/optimizers/custom_graph_optimizer_registry.cc:113] Plugin optimizer for device_type GPU is enabled.\n",
            "2022-09-21 14:23:37.963124: I tensorflow/core/grappler/optimizers/custom_graph_optimizer_registry.cc:113] Plugin optimizer for device_type GPU is enabled.\n",
            " 70%|███████   | 7/10 [00:23<00:10,  3.34s/it]"
          ]
        },
        {
          "name": "stdout",
          "output_type": "stream",
          "text": [
            "1/1 [==============================] - 0s 29ms/step\n",
            "1/1 [==============================] - 0s 29ms/step\n",
            "1/1 [==============================] - 0s 29ms/step\n"
          ]
        },
        {
          "name": "stderr",
          "output_type": "stream",
          "text": [
            "2022-09-21 14:23:38.047356: I tensorflow/core/grappler/optimizers/custom_graph_optimizer_registry.cc:113] Plugin optimizer for device_type GPU is enabled.\n",
            "2022-09-21 14:23:38.130464: I tensorflow/core/grappler/optimizers/custom_graph_optimizer_registry.cc:113] Plugin optimizer for device_type GPU is enabled.\n",
            "2022-09-21 14:23:38.215667: I tensorflow/core/grappler/optimizers/custom_graph_optimizer_registry.cc:113] Plugin optimizer for device_type GPU is enabled.\n"
          ]
        },
        {
          "name": "stdout",
          "output_type": "stream",
          "text": [
            "1/1 [==============================] - 0s 29ms/step\n",
            "1/1 [==============================] - 0s 29ms/step\n",
            "1/1 [==============================] - 0s 31ms/step\n"
          ]
        },
        {
          "name": "stderr",
          "output_type": "stream",
          "text": [
            "2022-09-21 14:23:38.300402: I tensorflow/core/grappler/optimizers/custom_graph_optimizer_registry.cc:113] Plugin optimizer for device_type GPU is enabled.\n",
            "2022-09-21 14:23:38.385193: I tensorflow/core/grappler/optimizers/custom_graph_optimizer_registry.cc:113] Plugin optimizer for device_type GPU is enabled.\n",
            "2022-09-21 14:23:38.472301: I tensorflow/core/grappler/optimizers/custom_graph_optimizer_registry.cc:113] Plugin optimizer for device_type GPU is enabled.\n"
          ]
        },
        {
          "name": "stdout",
          "output_type": "stream",
          "text": [
            "1/1 [==============================] - 0s 35ms/step\n",
            "1/1 [==============================] - 0s 33ms/step\n"
          ]
        },
        {
          "name": "stderr",
          "output_type": "stream",
          "text": [
            "2022-09-21 14:23:38.564064: I tensorflow/core/grappler/optimizers/custom_graph_optimizer_registry.cc:113] Plugin optimizer for device_type GPU is enabled.\n",
            "2022-09-21 14:23:38.660125: I tensorflow/core/grappler/optimizers/custom_graph_optimizer_registry.cc:113] Plugin optimizer for device_type GPU is enabled.\n",
            "2022-09-21 14:23:38.759926: I tensorflow/core/grappler/optimizers/custom_graph_optimizer_registry.cc:113] Plugin optimizer for device_type GPU is enabled.\n"
          ]
        },
        {
          "name": "stdout",
          "output_type": "stream",
          "text": [
            "1/1 [==============================] - 0s 33ms/step\n",
            "1/1 [==============================] - 0s 34ms/step\n",
            "1/1 [==============================] - 0s 32ms/step\n"
          ]
        },
        {
          "name": "stderr",
          "output_type": "stream",
          "text": [
            "2022-09-21 14:23:38.858658: I tensorflow/core/grappler/optimizers/custom_graph_optimizer_registry.cc:113] Plugin optimizer for device_type GPU is enabled.\n",
            "2022-09-21 14:23:38.953678: I tensorflow/core/grappler/optimizers/custom_graph_optimizer_registry.cc:113] Plugin optimizer for device_type GPU is enabled.\n",
            "2022-09-21 14:23:39.049924: I tensorflow/core/grappler/optimizers/custom_graph_optimizer_registry.cc:113] Plugin optimizer for device_type GPU is enabled.\n"
          ]
        },
        {
          "name": "stdout",
          "output_type": "stream",
          "text": [
            "1/1 [==============================] - 0s 33ms/step\n",
            "1/1 [==============================] - 0s 30ms/step\n",
            "1/1 [==============================] - 0s 29ms/step\n",
            "1/1 [==============================] - 0s 30ms/step\n"
          ]
        },
        {
          "name": "stderr",
          "output_type": "stream",
          "text": [
            "2022-09-21 14:23:39.141641: I tensorflow/core/grappler/optimizers/custom_graph_optimizer_registry.cc:113] Plugin optimizer for device_type GPU is enabled.\n",
            "2022-09-21 14:23:39.225892: I tensorflow/core/grappler/optimizers/custom_graph_optimizer_registry.cc:113] Plugin optimizer for device_type GPU is enabled.\n",
            "2022-09-21 14:23:39.310809: I tensorflow/core/grappler/optimizers/custom_graph_optimizer_registry.cc:113] Plugin optimizer for device_type GPU is enabled.\n"
          ]
        },
        {
          "name": "stdout",
          "output_type": "stream",
          "text": [
            "1/1 [==============================] - 0s 30ms/step\n",
            "1/1 [==============================] - 0s 30ms/step\n",
            "1/1 [==============================] - 0s 29ms/step\n"
          ]
        },
        {
          "name": "stderr",
          "output_type": "stream",
          "text": [
            "2022-09-21 14:23:39.394703: I tensorflow/core/grappler/optimizers/custom_graph_optimizer_registry.cc:113] Plugin optimizer for device_type GPU is enabled.\n",
            "2022-09-21 14:23:39.481059: I tensorflow/core/grappler/optimizers/custom_graph_optimizer_registry.cc:113] Plugin optimizer for device_type GPU is enabled.\n",
            "2022-09-21 14:23:39.564086: I tensorflow/core/grappler/optimizers/custom_graph_optimizer_registry.cc:113] Plugin optimizer for device_type GPU is enabled.\n"
          ]
        },
        {
          "name": "stdout",
          "output_type": "stream",
          "text": [
            "1/1 [==============================] - 0s 30ms/step\n",
            "1/1 [==============================] - 0s 32ms/step\n",
            "1/1 [==============================] - 0s 30ms/step\n"
          ]
        },
        {
          "name": "stderr",
          "output_type": "stream",
          "text": [
            "2022-09-21 14:23:39.649580: I tensorflow/core/grappler/optimizers/custom_graph_optimizer_registry.cc:113] Plugin optimizer for device_type GPU is enabled.\n",
            "2022-09-21 14:23:39.735621: I tensorflow/core/grappler/optimizers/custom_graph_optimizer_registry.cc:113] Plugin optimizer for device_type GPU is enabled.\n",
            "2022-09-21 14:23:39.820049: I tensorflow/core/grappler/optimizers/custom_graph_optimizer_registry.cc:113] Plugin optimizer for device_type GPU is enabled.\n"
          ]
        },
        {
          "name": "stdout",
          "output_type": "stream",
          "text": [
            "1/1 [==============================] - 0s 30ms/step\n",
            "1/1 [==============================] - 0s 30ms/step\n",
            "1/1 [==============================] - 0s 30ms/step\n"
          ]
        },
        {
          "name": "stderr",
          "output_type": "stream",
          "text": [
            "2022-09-21 14:23:39.906047: I tensorflow/core/grappler/optimizers/custom_graph_optimizer_registry.cc:113] Plugin optimizer for device_type GPU is enabled.\n",
            "2022-09-21 14:23:39.990249: I tensorflow/core/grappler/optimizers/custom_graph_optimizer_registry.cc:113] Plugin optimizer for device_type GPU is enabled.\n",
            "2022-09-21 14:23:40.074377: I tensorflow/core/grappler/optimizers/custom_graph_optimizer_registry.cc:113] Plugin optimizer for device_type GPU is enabled.\n"
          ]
        },
        {
          "name": "stdout",
          "output_type": "stream",
          "text": [
            "1/1 [==============================] - 0s 32ms/step\n",
            "1/1 [==============================] - 0s 30ms/step\n",
            "1/1 [==============================] - 0s 30ms/step\n"
          ]
        },
        {
          "name": "stderr",
          "output_type": "stream",
          "text": [
            "2022-09-21 14:23:40.162201: I tensorflow/core/grappler/optimizers/custom_graph_optimizer_registry.cc:113] Plugin optimizer for device_type GPU is enabled.\n",
            "2022-09-21 14:23:40.246459: I tensorflow/core/grappler/optimizers/custom_graph_optimizer_registry.cc:113] Plugin optimizer for device_type GPU is enabled.\n",
            "2022-09-21 14:23:40.331959: I tensorflow/core/grappler/optimizers/custom_graph_optimizer_registry.cc:113] Plugin optimizer for device_type GPU is enabled.\n"
          ]
        },
        {
          "name": "stdout",
          "output_type": "stream",
          "text": [
            "1/1 [==============================] - 0s 29ms/step\n",
            "1/1 [==============================] - 0s 30ms/step\n",
            "1/1 [==============================] - 0s 29ms/step\n"
          ]
        },
        {
          "name": "stderr",
          "output_type": "stream",
          "text": [
            "2022-09-21 14:23:40.416432: I tensorflow/core/grappler/optimizers/custom_graph_optimizer_registry.cc:113] Plugin optimizer for device_type GPU is enabled.\n",
            "2022-09-21 14:23:40.501074: I tensorflow/core/grappler/optimizers/custom_graph_optimizer_registry.cc:113] Plugin optimizer for device_type GPU is enabled.\n",
            "2022-09-21 14:23:40.583988: I tensorflow/core/grappler/optimizers/custom_graph_optimizer_registry.cc:113] Plugin optimizer for device_type GPU is enabled.\n"
          ]
        },
        {
          "name": "stdout",
          "output_type": "stream",
          "text": [
            "1/1 [==============================] - 0s 30ms/step\n",
            "1/1 [==============================] - 0s 32ms/step\n",
            "1/1 [==============================] - 0s 29ms/step\n"
          ]
        },
        {
          "name": "stderr",
          "output_type": "stream",
          "text": [
            "2022-09-21 14:23:40.670089: I tensorflow/core/grappler/optimizers/custom_graph_optimizer_registry.cc:113] Plugin optimizer for device_type GPU is enabled.\n",
            "2022-09-21 14:23:40.759599: I tensorflow/core/grappler/optimizers/custom_graph_optimizer_registry.cc:113] Plugin optimizer for device_type GPU is enabled.\n",
            "2022-09-21 14:23:40.842642: I tensorflow/core/grappler/optimizers/custom_graph_optimizer_registry.cc:113] Plugin optimizer for device_type GPU is enabled.\n"
          ]
        },
        {
          "name": "stdout",
          "output_type": "stream",
          "text": [
            "1/1 [==============================] - 0s 30ms/step\n",
            "1/1 [==============================] - 0s 30ms/step\n",
            "1/1 [==============================] - 0s 30ms/step\n"
          ]
        },
        {
          "name": "stderr",
          "output_type": "stream",
          "text": [
            "2022-09-21 14:23:40.928957: I tensorflow/core/grappler/optimizers/custom_graph_optimizer_registry.cc:113] Plugin optimizer for device_type GPU is enabled.\n",
            "2022-09-21 14:23:41.012783: I tensorflow/core/grappler/optimizers/custom_graph_optimizer_registry.cc:113] Plugin optimizer for device_type GPU is enabled.\n",
            "2022-09-21 14:23:41.100898: I tensorflow/core/grappler/optimizers/custom_graph_optimizer_registry.cc:113] Plugin optimizer for device_type GPU is enabled.\n"
          ]
        },
        {
          "name": "stdout",
          "output_type": "stream",
          "text": [
            "1/1 [==============================] - 0s 31ms/step\n"
          ]
        },
        {
          "name": "stderr",
          "output_type": "stream",
          "text": [
            "2022-09-21 14:23:41.185847: I tensorflow/core/grappler/optimizers/custom_graph_optimizer_registry.cc:113] Plugin optimizer for device_type GPU is enabled.\n",
            " 80%|████████  | 8/10 [00:26<00:06,  3.31s/it]"
          ]
        },
        {
          "name": "stdout",
          "output_type": "stream",
          "text": [
            "1/1 [==============================] - 0s 30ms/step\n",
            "1/1 [==============================] - 0s 30ms/step\n"
          ]
        },
        {
          "name": "stderr",
          "output_type": "stream",
          "text": [
            "2022-09-21 14:23:41.271244: I tensorflow/core/grappler/optimizers/custom_graph_optimizer_registry.cc:113] Plugin optimizer for device_type GPU is enabled.\n",
            "2022-09-21 14:23:41.357466: I tensorflow/core/grappler/optimizers/custom_graph_optimizer_registry.cc:113] Plugin optimizer for device_type GPU is enabled.\n"
          ]
        },
        {
          "name": "stdout",
          "output_type": "stream",
          "text": [
            "1/1 [==============================] - 0s 30ms/step\n"
          ]
        },
        {
          "name": "stderr",
          "output_type": "stream",
          "text": [
            "2022-09-21 14:23:41.442711: I tensorflow/core/grappler/optimizers/custom_graph_optimizer_registry.cc:113] Plugin optimizer for device_type GPU is enabled.\n"
          ]
        },
        {
          "name": "stdout",
          "output_type": "stream",
          "text": [
            "1/1 [==============================] - 0s 30ms/step\n",
            "1/1 [==============================] - 0s 30ms/step\n"
          ]
        },
        {
          "name": "stderr",
          "output_type": "stream",
          "text": [
            "2022-09-21 14:23:41.527860: I tensorflow/core/grappler/optimizers/custom_graph_optimizer_registry.cc:113] Plugin optimizer for device_type GPU is enabled.\n",
            "2022-09-21 14:23:41.612553: I tensorflow/core/grappler/optimizers/custom_graph_optimizer_registry.cc:113] Plugin optimizer for device_type GPU is enabled.\n"
          ]
        },
        {
          "name": "stdout",
          "output_type": "stream",
          "text": [
            "1/1 [==============================] - 0s 30ms/step\n"
          ]
        },
        {
          "name": "stderr",
          "output_type": "stream",
          "text": [
            "2022-09-21 14:23:41.698038: I tensorflow/core/grappler/optimizers/custom_graph_optimizer_registry.cc:113] Plugin optimizer for device_type GPU is enabled.\n"
          ]
        },
        {
          "name": "stdout",
          "output_type": "stream",
          "text": [
            "1/1 [==============================] - 0s 34ms/step\n"
          ]
        },
        {
          "name": "stderr",
          "output_type": "stream",
          "text": [
            "2022-09-21 14:23:41.788694: I tensorflow/core/grappler/optimizers/custom_graph_optimizer_registry.cc:113] Plugin optimizer for device_type GPU is enabled.\n",
            "2022-09-21 14:23:41.883230: I tensorflow/core/grappler/optimizers/custom_graph_optimizer_registry.cc:113] Plugin optimizer for device_type GPU is enabled.\n"
          ]
        },
        {
          "name": "stdout",
          "output_type": "stream",
          "text": [
            "1/1 [==============================] - 0s 34ms/step\n"
          ]
        },
        {
          "name": "stderr",
          "output_type": "stream",
          "text": [
            "2022-09-21 14:23:41.983698: I tensorflow/core/grappler/optimizers/custom_graph_optimizer_registry.cc:113] Plugin optimizer for device_type GPU is enabled.\n"
          ]
        },
        {
          "name": "stdout",
          "output_type": "stream",
          "text": [
            "1/1 [==============================] - 0s 32ms/step\n",
            "1/1 [==============================] - 0s 33ms/step\n"
          ]
        },
        {
          "name": "stderr",
          "output_type": "stream",
          "text": [
            "2022-09-21 14:23:42.076270: I tensorflow/core/grappler/optimizers/custom_graph_optimizer_registry.cc:113] Plugin optimizer for device_type GPU is enabled.\n",
            "2022-09-21 14:23:42.169502: I tensorflow/core/grappler/optimizers/custom_graph_optimizer_registry.cc:113] Plugin optimizer for device_type GPU is enabled.\n"
          ]
        },
        {
          "name": "stdout",
          "output_type": "stream",
          "text": [
            "1/1 [==============================] - 0s 32ms/step\n"
          ]
        },
        {
          "name": "stderr",
          "output_type": "stream",
          "text": [
            "2022-09-21 14:23:42.267878: I tensorflow/core/grappler/optimizers/custom_graph_optimizer_registry.cc:113] Plugin optimizer for device_type GPU is enabled.\n"
          ]
        },
        {
          "name": "stdout",
          "output_type": "stream",
          "text": [
            "1/1 [==============================] - 0s 37ms/step\n",
            "1/1 [==============================] - 0s 33ms/step\n"
          ]
        },
        {
          "name": "stderr",
          "output_type": "stream",
          "text": [
            "2022-09-21 14:23:42.365687: I tensorflow/core/grappler/optimizers/custom_graph_optimizer_registry.cc:113] Plugin optimizer for device_type GPU is enabled.\n",
            "2022-09-21 14:23:42.454295: I tensorflow/core/grappler/optimizers/custom_graph_optimizer_registry.cc:113] Plugin optimizer for device_type GPU is enabled.\n"
          ]
        },
        {
          "name": "stdout",
          "output_type": "stream",
          "text": [
            "1/1 [==============================] - 0s 30ms/step\n",
            "1/1 [==============================] - 0s 30ms/step\n"
          ]
        },
        {
          "name": "stderr",
          "output_type": "stream",
          "text": [
            "2022-09-21 14:23:42.538181: I tensorflow/core/grappler/optimizers/custom_graph_optimizer_registry.cc:113] Plugin optimizer for device_type GPU is enabled.\n"
          ]
        },
        {
          "name": "stdout",
          "output_type": "stream",
          "text": [
            "1/1 [==============================] - 0s 30ms/step\n",
            "1/1 [==============================] - 0s 30ms/step\n"
          ]
        },
        {
          "name": "stderr",
          "output_type": "stream",
          "text": [
            "2022-09-21 14:23:42.624398: I tensorflow/core/grappler/optimizers/custom_graph_optimizer_registry.cc:113] Plugin optimizer for device_type GPU is enabled.\n",
            "2022-09-21 14:23:42.712148: I tensorflow/core/grappler/optimizers/custom_graph_optimizer_registry.cc:113] Plugin optimizer for device_type GPU is enabled.\n"
          ]
        },
        {
          "name": "stdout",
          "output_type": "stream",
          "text": [
            "1/1 [==============================] - 0s 31ms/step\n"
          ]
        },
        {
          "name": "stderr",
          "output_type": "stream",
          "text": [
            "2022-09-21 14:23:42.798693: I tensorflow/core/grappler/optimizers/custom_graph_optimizer_registry.cc:113] Plugin optimizer for device_type GPU is enabled.\n"
          ]
        },
        {
          "name": "stdout",
          "output_type": "stream",
          "text": [
            "1/1 [==============================] - 0s 33ms/step\n",
            "1/1 [==============================] - 0s 30ms/step\n"
          ]
        },
        {
          "name": "stderr",
          "output_type": "stream",
          "text": [
            "2022-09-21 14:23:42.887500: I tensorflow/core/grappler/optimizers/custom_graph_optimizer_registry.cc:113] Plugin optimizer for device_type GPU is enabled.\n",
            "2022-09-21 14:23:42.970812: I tensorflow/core/grappler/optimizers/custom_graph_optimizer_registry.cc:113] Plugin optimizer for device_type GPU is enabled.\n"
          ]
        },
        {
          "name": "stdout",
          "output_type": "stream",
          "text": [
            "1/1 [==============================] - 0s 30ms/step\n"
          ]
        },
        {
          "name": "stderr",
          "output_type": "stream",
          "text": [
            "2022-09-21 14:23:43.057293: I tensorflow/core/grappler/optimizers/custom_graph_optimizer_registry.cc:113] Plugin optimizer for device_type GPU is enabled.\n"
          ]
        },
        {
          "name": "stdout",
          "output_type": "stream",
          "text": [
            "1/1 [==============================] - 0s 30ms/step\n",
            "1/1 [==============================] - 0s 29ms/step\n"
          ]
        },
        {
          "name": "stderr",
          "output_type": "stream",
          "text": [
            "2022-09-21 14:23:43.141945: I tensorflow/core/grappler/optimizers/custom_graph_optimizer_registry.cc:113] Plugin optimizer for device_type GPU is enabled.\n",
            "2022-09-21 14:23:43.226049: I tensorflow/core/grappler/optimizers/custom_graph_optimizer_registry.cc:113] Plugin optimizer for device_type GPU is enabled.\n"
          ]
        },
        {
          "name": "stdout",
          "output_type": "stream",
          "text": [
            "1/1 [==============================] - 0s 32ms/step\n"
          ]
        },
        {
          "name": "stderr",
          "output_type": "stream",
          "text": [
            "2022-09-21 14:23:43.314913: I tensorflow/core/grappler/optimizers/custom_graph_optimizer_registry.cc:113] Plugin optimizer for device_type GPU is enabled.\n"
          ]
        },
        {
          "name": "stdout",
          "output_type": "stream",
          "text": [
            "1/1 [==============================] - 0s 30ms/step\n",
            "1/1 [==============================] - 0s 30ms/step\n"
          ]
        },
        {
          "name": "stderr",
          "output_type": "stream",
          "text": [
            "2022-09-21 14:23:43.398572: I tensorflow/core/grappler/optimizers/custom_graph_optimizer_registry.cc:113] Plugin optimizer for device_type GPU is enabled.\n",
            "2022-09-21 14:23:43.488891: I tensorflow/core/grappler/optimizers/custom_graph_optimizer_registry.cc:113] Plugin optimizer for device_type GPU is enabled.\n"
          ]
        },
        {
          "name": "stdout",
          "output_type": "stream",
          "text": [
            "1/1 [==============================] - 0s 30ms/step\n"
          ]
        },
        {
          "name": "stderr",
          "output_type": "stream",
          "text": [
            "2022-09-21 14:23:43.575437: I tensorflow/core/grappler/optimizers/custom_graph_optimizer_registry.cc:113] Plugin optimizer for device_type GPU is enabled.\n"
          ]
        },
        {
          "name": "stdout",
          "output_type": "stream",
          "text": [
            "1/1 [==============================] - 0s 31ms/step\n",
            "1/1 [==============================] - 0s 34ms/step\n",
            "1/1 [==============================] - 0s 29ms/step\n"
          ]
        },
        {
          "name": "stderr",
          "output_type": "stream",
          "text": [
            "2022-09-21 14:23:43.892237: I tensorflow/core/grappler/optimizers/custom_graph_optimizer_registry.cc:113] Plugin optimizer for device_type GPU is enabled.\n",
            "2022-09-21 14:23:43.978064: I tensorflow/core/grappler/optimizers/custom_graph_optimizer_registry.cc:113] Plugin optimizer for device_type GPU is enabled.\n",
            "2022-09-21 14:23:44.065470: I tensorflow/core/grappler/optimizers/custom_graph_optimizer_registry.cc:113] Plugin optimizer for device_type GPU is enabled.\n"
          ]
        },
        {
          "name": "stdout",
          "output_type": "stream",
          "text": [
            "1/1 [==============================] - 0s 30ms/step\n",
            "1/1 [==============================] - 0s 29ms/step\n",
            "1/1 [==============================] - 0s 29ms/step\n"
          ]
        },
        {
          "name": "stderr",
          "output_type": "stream",
          "text": [
            "2022-09-21 14:23:44.150922: I tensorflow/core/grappler/optimizers/custom_graph_optimizer_registry.cc:113] Plugin optimizer for device_type GPU is enabled.\n",
            "2022-09-21 14:23:44.233999: I tensorflow/core/grappler/optimizers/custom_graph_optimizer_registry.cc:113] Plugin optimizer for device_type GPU is enabled.\n",
            "2022-09-21 14:23:44.319767: I tensorflow/core/grappler/optimizers/custom_graph_optimizer_registry.cc:113] Plugin optimizer for device_type GPU is enabled.\n"
          ]
        },
        {
          "name": "stdout",
          "output_type": "stream",
          "text": [
            "1/1 [==============================] - 0s 30ms/step\n",
            "1/1 [==============================] - 0s 30ms/step\n",
            "1/1 [==============================] - 0s 29ms/step\n"
          ]
        },
        {
          "name": "stderr",
          "output_type": "stream",
          "text": [
            "2022-09-21 14:23:44.406559: I tensorflow/core/grappler/optimizers/custom_graph_optimizer_registry.cc:113] Plugin optimizer for device_type GPU is enabled.\n",
            "2022-09-21 14:23:44.490366: I tensorflow/core/grappler/optimizers/custom_graph_optimizer_registry.cc:113] Plugin optimizer for device_type GPU is enabled.\n",
            "2022-09-21 14:23:44.574176: I tensorflow/core/grappler/optimizers/custom_graph_optimizer_registry.cc:113] Plugin optimizer for device_type GPU is enabled.\n"
          ]
        },
        {
          "name": "stdout",
          "output_type": "stream",
          "text": [
            "1/1 [==============================] - 0s 30ms/step\n"
          ]
        },
        {
          "name": "stderr",
          "output_type": "stream",
          "text": [
            "2022-09-21 14:23:44.662027: I tensorflow/core/grappler/optimizers/custom_graph_optimizer_registry.cc:113] Plugin optimizer for device_type GPU is enabled.\n",
            " 90%|█████████ | 9/10 [00:30<00:03,  3.36s/it]"
          ]
        },
        {
          "name": "stdout",
          "output_type": "stream",
          "text": [
            "1/1 [==============================] - 0s 29ms/step\n",
            "1/1 [==============================] - 0s 30ms/step\n"
          ]
        },
        {
          "name": "stderr",
          "output_type": "stream",
          "text": [
            "2022-09-21 14:23:44.747077: I tensorflow/core/grappler/optimizers/custom_graph_optimizer_registry.cc:113] Plugin optimizer for device_type GPU is enabled.\n",
            "2022-09-21 14:23:44.831294: I tensorflow/core/grappler/optimizers/custom_graph_optimizer_registry.cc:113] Plugin optimizer for device_type GPU is enabled.\n"
          ]
        },
        {
          "name": "stdout",
          "output_type": "stream",
          "text": [
            "1/1 [==============================] - 0s 30ms/step\n"
          ]
        },
        {
          "name": "stderr",
          "output_type": "stream",
          "text": [
            "2022-09-21 14:23:44.917891: I tensorflow/core/grappler/optimizers/custom_graph_optimizer_registry.cc:113] Plugin optimizer for device_type GPU is enabled.\n"
          ]
        },
        {
          "name": "stdout",
          "output_type": "stream",
          "text": [
            "1/1 [==============================] - 0s 29ms/step\n",
            "1/1 [==============================] - 0s 32ms/step\n"
          ]
        },
        {
          "name": "stderr",
          "output_type": "stream",
          "text": [
            "2022-09-21 14:23:45.001873: I tensorflow/core/grappler/optimizers/custom_graph_optimizer_registry.cc:113] Plugin optimizer for device_type GPU is enabled.\n",
            "2022-09-21 14:23:45.091270: I tensorflow/core/grappler/optimizers/custom_graph_optimizer_registry.cc:113] Plugin optimizer for device_type GPU is enabled.\n",
            "2022-09-21 14:23:45.185654: I tensorflow/core/grappler/optimizers/custom_graph_optimizer_registry.cc:113] Plugin optimizer for device_type GPU is enabled.\n"
          ]
        },
        {
          "name": "stdout",
          "output_type": "stream",
          "text": [
            "1/1 [==============================] - 0s 33ms/step\n",
            "1/1 [==============================] - 0s 32ms/step\n"
          ]
        },
        {
          "name": "stderr",
          "output_type": "stream",
          "text": [
            "2022-09-21 14:23:45.277102: I tensorflow/core/grappler/optimizers/custom_graph_optimizer_registry.cc:113] Plugin optimizer for device_type GPU is enabled.\n",
            "2022-09-21 14:23:45.381229: I tensorflow/core/grappler/optimizers/custom_graph_optimizer_registry.cc:113] Plugin optimizer for device_type GPU is enabled.\n"
          ]
        },
        {
          "name": "stdout",
          "output_type": "stream",
          "text": [
            "1/1 [==============================] - 0s 33ms/step\n",
            "1/1 [==============================] - 0s 36ms/step\n",
            "1/1 [==============================] - 0s 33ms/step\n",
            "1/1 [==============================] - ETA: 0s"
          ]
        },
        {
          "name": "stderr",
          "output_type": "stream",
          "text": [
            "2022-09-21 14:23:45.479880: I tensorflow/core/grappler/optimizers/custom_graph_optimizer_registry.cc:113] Plugin optimizer for device_type GPU is enabled.\n",
            "2022-09-21 14:23:45.572777: I tensorflow/core/grappler/optimizers/custom_graph_optimizer_registry.cc:113] Plugin optimizer for device_type GPU is enabled.\n",
            "2022-09-21 14:23:45.664449: I tensorflow/core/grappler/optimizers/custom_graph_optimizer_registry.cc:113] Plugin optimizer for device_type GPU is enabled.\n"
          ]
        },
        {
          "name": "stdout",
          "output_type": "stream",
          "text": [
            "1/1 [==============================] - 0s 30ms/step\n",
            "1/1 [==============================] - 0s 29ms/step\n",
            "1/1 [==============================] - 0s 30ms/step\n",
            "1/1 [==============================] - 0s 32ms/step\n"
          ]
        },
        {
          "name": "stderr",
          "output_type": "stream",
          "text": [
            "2022-09-21 14:23:45.750666: I tensorflow/core/grappler/optimizers/custom_graph_optimizer_registry.cc:113] Plugin optimizer for device_type GPU is enabled.\n",
            "2022-09-21 14:23:45.835012: I tensorflow/core/grappler/optimizers/custom_graph_optimizer_registry.cc:113] Plugin optimizer for device_type GPU is enabled.\n",
            "2022-09-21 14:23:45.920263: I tensorflow/core/grappler/optimizers/custom_graph_optimizer_registry.cc:113] Plugin optimizer for device_type GPU is enabled.\n"
          ]
        },
        {
          "name": "stdout",
          "output_type": "stream",
          "text": [
            "1/1 [==============================] - 0s 32ms/step\n",
            "1/1 [==============================] - 0s 31ms/step\n",
            "1/1 [==============================] - 0s 30ms/step\n"
          ]
        },
        {
          "name": "stderr",
          "output_type": "stream",
          "text": [
            "2022-09-21 14:23:46.007850: I tensorflow/core/grappler/optimizers/custom_graph_optimizer_registry.cc:113] Plugin optimizer for device_type GPU is enabled.\n",
            "2022-09-21 14:23:46.096776: I tensorflow/core/grappler/optimizers/custom_graph_optimizer_registry.cc:113] Plugin optimizer for device_type GPU is enabled.\n",
            "2022-09-21 14:23:46.181063: I tensorflow/core/grappler/optimizers/custom_graph_optimizer_registry.cc:113] Plugin optimizer for device_type GPU is enabled.\n"
          ]
        },
        {
          "name": "stdout",
          "output_type": "stream",
          "text": [
            "1/1 [==============================] - 0s 30ms/step\n",
            "1/1 [==============================] - 0s 32ms/step\n",
            "1/1 [==============================] - 0s 30ms/step\n"
          ]
        },
        {
          "name": "stderr",
          "output_type": "stream",
          "text": [
            "2022-09-21 14:23:46.267060: I tensorflow/core/grappler/optimizers/custom_graph_optimizer_registry.cc:113] Plugin optimizer for device_type GPU is enabled.\n",
            "2022-09-21 14:23:46.353062: I tensorflow/core/grappler/optimizers/custom_graph_optimizer_registry.cc:113] Plugin optimizer for device_type GPU is enabled.\n",
            "2022-09-21 14:23:46.436457: I tensorflow/core/grappler/optimizers/custom_graph_optimizer_registry.cc:113] Plugin optimizer for device_type GPU is enabled.\n"
          ]
        },
        {
          "name": "stdout",
          "output_type": "stream",
          "text": [
            "1/1 [==============================] - 0s 31ms/step\n",
            "1/1 [==============================] - 0s 30ms/step\n",
            "1/1 [==============================] - 0s 30ms/step\n"
          ]
        },
        {
          "name": "stderr",
          "output_type": "stream",
          "text": [
            "2022-09-21 14:23:46.523869: I tensorflow/core/grappler/optimizers/custom_graph_optimizer_registry.cc:113] Plugin optimizer for device_type GPU is enabled.\n",
            "2022-09-21 14:23:46.607965: I tensorflow/core/grappler/optimizers/custom_graph_optimizer_registry.cc:113] Plugin optimizer for device_type GPU is enabled.\n",
            "2022-09-21 14:23:46.693743: I tensorflow/core/grappler/optimizers/custom_graph_optimizer_registry.cc:113] Plugin optimizer for device_type GPU is enabled.\n"
          ]
        },
        {
          "name": "stdout",
          "output_type": "stream",
          "text": [
            "1/1 [==============================] - 0s 30ms/step\n",
            "1/1 [==============================] - 0s 30ms/step\n",
            "1/1 [==============================] - 0s 31ms/step\n"
          ]
        },
        {
          "name": "stderr",
          "output_type": "stream",
          "text": [
            "2022-09-21 14:23:46.778103: I tensorflow/core/grappler/optimizers/custom_graph_optimizer_registry.cc:113] Plugin optimizer for device_type GPU is enabled.\n",
            "2022-09-21 14:23:46.863215: I tensorflow/core/grappler/optimizers/custom_graph_optimizer_registry.cc:113] Plugin optimizer for device_type GPU is enabled.\n",
            "2022-09-21 14:23:46.948765: I tensorflow/core/grappler/optimizers/custom_graph_optimizer_registry.cc:113] Plugin optimizer for device_type GPU is enabled.\n"
          ]
        },
        {
          "name": "stdout",
          "output_type": "stream",
          "text": [
            "1/1 [==============================] - 0s 29ms/step\n",
            "1/1 [==============================] - 0s 31ms/step\n",
            "1/1 [==============================] - 0s 29ms/step\n"
          ]
        },
        {
          "name": "stderr",
          "output_type": "stream",
          "text": [
            "2022-09-21 14:23:47.033984: I tensorflow/core/grappler/optimizers/custom_graph_optimizer_registry.cc:113] Plugin optimizer for device_type GPU is enabled.\n",
            "2022-09-21 14:23:47.121370: I tensorflow/core/grappler/optimizers/custom_graph_optimizer_registry.cc:113] Plugin optimizer for device_type GPU is enabled.\n",
            "2022-09-21 14:23:47.205105: I tensorflow/core/grappler/optimizers/custom_graph_optimizer_registry.cc:113] Plugin optimizer for device_type GPU is enabled.\n"
          ]
        },
        {
          "name": "stdout",
          "output_type": "stream",
          "text": [
            "1/1 [==============================] - 0s 30ms/step\n",
            "1/1 [==============================] - 0s 32ms/step\n",
            "1/1 [==============================] - 0s 34ms/step\n"
          ]
        },
        {
          "name": "stderr",
          "output_type": "stream",
          "text": [
            "2022-09-21 14:23:47.290673: I tensorflow/core/grappler/optimizers/custom_graph_optimizer_registry.cc:113] Plugin optimizer for device_type GPU is enabled.\n",
            "2022-09-21 14:23:47.377801: I tensorflow/core/grappler/optimizers/custom_graph_optimizer_registry.cc:113] Plugin optimizer for device_type GPU is enabled.\n",
            "2022-09-21 14:23:47.465130: I tensorflow/core/grappler/optimizers/custom_graph_optimizer_registry.cc:113] Plugin optimizer for device_type GPU is enabled.\n"
          ]
        },
        {
          "name": "stdout",
          "output_type": "stream",
          "text": [
            "1/1 [==============================] - 0s 30ms/step\n",
            "1/1 [==============================] - 0s 29ms/step\n",
            "1/1 [==============================] - 0s 31ms/step\n"
          ]
        },
        {
          "name": "stderr",
          "output_type": "stream",
          "text": [
            "2022-09-21 14:23:47.553463: I tensorflow/core/grappler/optimizers/custom_graph_optimizer_registry.cc:113] Plugin optimizer for device_type GPU is enabled.\n",
            "2022-09-21 14:23:47.636885: I tensorflow/core/grappler/optimizers/custom_graph_optimizer_registry.cc:113] Plugin optimizer for device_type GPU is enabled.\n",
            "2022-09-21 14:23:47.724450: I tensorflow/core/grappler/optimizers/custom_graph_optimizer_registry.cc:113] Plugin optimizer for device_type GPU is enabled.\n"
          ]
        },
        {
          "name": "stdout",
          "output_type": "stream",
          "text": [
            "1/1 [==============================] - 0s 30ms/step\n",
            "1/1 [==============================] - 0s 30ms/step\n"
          ]
        },
        {
          "name": "stderr",
          "output_type": "stream",
          "text": [
            "2022-09-21 14:23:47.810283: I tensorflow/core/grappler/optimizers/custom_graph_optimizer_registry.cc:113] Plugin optimizer for device_type GPU is enabled.\n",
            "2022-09-21 14:23:47.896233: I tensorflow/core/grappler/optimizers/custom_graph_optimizer_registry.cc:113] Plugin optimizer for device_type GPU is enabled.\n",
            "100%|██████████| 10/10 [00:33<00:00,  3.35s/it]\n"
          ]
        }
      ],
      "source": [
        "zero_csv = [0 for i in range(14)]  # 시점이 비어있는 데이터 0으로 채우기 위한 변수\n",
        "\n",
        "for i in tqdm(range(10)):\n",
        "    data_list = glob(f'./aT_data/data/test/set_{i}/*.csv')\n",
        "    for idx,j in enumerate(data_list):\n",
        "        df = pd.read_csv(j)\n",
        "        \n",
        "        if len(df) == 0:\n",
        "            df['zero_non'] = zero_csv\n",
        "            df = df.fillna(0)\n",
        "            df.drop('zero_non', axis=1, inplace=True)\n",
        "\n",
        "        file_number = j.split('test_')[1].split('.')[0]\n",
        "\n",
        "        # 사용할 열 선택 및 index 설정\n",
        "\n",
        "        df = feature_engineer(df)\n",
        "        df = df[[c for c in df.columns if c != '해당일자_전체평균가격(원)']]\n",
        "\n",
        "        df.set_index('datadate', drop=True, inplace=True)\n",
        "        \n",
        "        # # nan 처리\n",
        "        # df = df.replace({' ': np.nan})\n",
        "        # df = df.fillna(0)\n",
        "\n",
        "        # # train input 과 형상 맞추기\n",
        "        # add_col = [i for i in check_col if i not in df.columns]\n",
        "\n",
        "        # for a in add_col:\n",
        "        #     df[a] = 0\n",
        "\n",
        "        # # ' ' -> nan 으로 변경\n",
        "        # for a in df.columns:\n",
        "        #     df[a] = df[a].replace({' ': np.nan})\n",
        "\n",
        "        # # nan 처리\n",
        "        # df = df.fillna(0)\n",
        "        # # df = df.interpolate(method = 'values')\n",
        "\n",
        "        df = pd.DataFrame(scalers[file_number].transform(df))\n",
        "\n",
        "        # x_test  생성\n",
        "        df_test = astype_data(df.values.reshape(1, df.values.shape[0], df.values.shape[1]))\n",
        "\n",
        "        # model test\n",
        "        if os.path.exists(f'./model_output/{test_num}') == False:\n",
        "            os.mkdir(f'./model_output/{test_num}')\n",
        "\n",
        "        if os.path.exists(f'./model_output/{test_num}/set_{i}') == False:\n",
        "            os.mkdir(f'./model_output/{test_num}/set_{i}')\n",
        "\n",
        "        # 해당하는 모델 불러오기\n",
        "        model_test = tf.keras.models.load_model(f'./model/transformer-{file_number}-{epoch}-{batch}.h5')\n",
        "        pred = model_test.predict(df_test)\n",
        "\n",
        "\n",
        "        # 결과 저장\n",
        "        save_df = pd.DataFrame(pred).T\n",
        "        save_df.to_csv(f'./model_output/{test_num}/set_{i}/predict_{file_number}.csv', index=False)"
      ]
    },
    {
      "cell_type": "markdown",
      "metadata": {
        "id": "z4MQRAWbJ8fW"
      },
      "source": [
        "&nbsp;"
      ]
    },
    {
      "cell_type": "markdown",
      "metadata": {
        "id": "pXoDxJGKJ8fX"
      },
      "source": [
        "## 정답 제출 파일생성"
      ]
    },
    {
      "cell_type": "code",
      "execution_count": 13,
      "metadata": {
        "id": "VXtt4y4vJ8fY"
      },
      "outputs": [
        {
          "name": "stderr",
          "output_type": "stream",
          "text": [
            "100%|██████████| 10/10 [00:01<00:00,  9.59it/s]\n"
          ]
        }
      ],
      "source": [
        "for k in tqdm(range(10)):\n",
        "  globals()[f'set_df_{k}'] = pd.DataFrame()\n",
        "  answer_df_list = glob(f'./model_output/{test_num}/set_{k}/*.csv') # 예측한 결과 불러오기\n",
        "  pum_list = glob(f'./aT_data/aT_test_raw/sep_{k}/*.csv') # 기존 test input 불러오기\n",
        "  pummok = [a for a in pum_list if 'pummok' in a.split('/')[-1]]\n",
        "\n",
        "  for i in answer_df_list:\n",
        "    df = pd.read_csv(i)\n",
        "    number = i.split('_')[-1].split('.')[0]\n",
        "\n",
        "    base_number = 0\n",
        "    for p in pummok:\n",
        "      if number == p.split('_')[-1].split('.')[0]:\n",
        "        pum_df = pd.read_csv(p)\n",
        "\n",
        "        if len(pum_df) != 0:\n",
        "           base_number = pum_df.iloc[len(pum_df)-1]['해당일자_전체평균가격(원)']  # 기존 각 sep 마다 test input의 마지막 target 값 가져오기 (변동률 계산을 위해)\n",
        "        else:\n",
        "          base_number = np.nan\n",
        "\n",
        "    globals()[f'set_df_{k}'][f'품목{number}']  = [base_number] + list(df[df.columns[-1]].values) # 각 품목당 순서를 t, t+1 ... t+28 로 변경\n",
        "\n",
        "  globals()[f'set_df_{k}'] = globals()[f'set_df_{k}'][[f'품목{col}' for col in range(37)]] # 열 순서를 품목0 ~ 품목36 으로 변경"
      ]
    },
    {
      "cell_type": "markdown",
      "metadata": {
        "id": "v2NbT2FCJ8fZ"
      },
      "source": [
        "- 변동률 계산을 위한 t, t+1 ... t+28 설정"
      ]
    },
    {
      "cell_type": "code",
      "execution_count": 14,
      "metadata": {
        "id": "sqT2NTY7J8fa"
      },
      "outputs": [
        {
          "data": {
            "text/html": [
              "<div>\n",
              "<style scoped>\n",
              "    .dataframe tbody tr th:only-of-type {\n",
              "        vertical-align: middle;\n",
              "    }\n",
              "\n",
              "    .dataframe tbody tr th {\n",
              "        vertical-align: top;\n",
              "    }\n",
              "\n",
              "    .dataframe thead th {\n",
              "        text-align: right;\n",
              "    }\n",
              "</style>\n",
              "<table border=\"1\" class=\"dataframe\">\n",
              "  <thead>\n",
              "    <tr style=\"text-align: right;\">\n",
              "      <th></th>\n",
              "      <th>품목0</th>\n",
              "      <th>품목1</th>\n",
              "      <th>품목2</th>\n",
              "      <th>품목3</th>\n",
              "      <th>품목4</th>\n",
              "      <th>품목5</th>\n",
              "      <th>품목6</th>\n",
              "      <th>품목7</th>\n",
              "      <th>품목8</th>\n",
              "      <th>품목9</th>\n",
              "      <th>...</th>\n",
              "      <th>품목27</th>\n",
              "      <th>품목28</th>\n",
              "      <th>품목29</th>\n",
              "      <th>품목30</th>\n",
              "      <th>품목31</th>\n",
              "      <th>품목32</th>\n",
              "      <th>품목33</th>\n",
              "      <th>품목34</th>\n",
              "      <th>품목35</th>\n",
              "      <th>품목36</th>\n",
              "    </tr>\n",
              "  </thead>\n",
              "  <tbody>\n",
              "    <tr>\n",
              "      <th>0</th>\n",
              "      <td>3871.12500</td>\n",
              "      <td>1362.117613</td>\n",
              "      <td>2909.783785</td>\n",
              "      <td>3400.075583</td>\n",
              "      <td>3947.809169</td>\n",
              "      <td>9253.947514</td>\n",
              "      <td>2717.280000</td>\n",
              "      <td>3361.030923</td>\n",
              "      <td>4911.899864</td>\n",
              "      <td>1173.018633</td>\n",
              "      <td>...</td>\n",
              "      <td>8640.811309</td>\n",
              "      <td>602.005658</td>\n",
              "      <td>1105.412623</td>\n",
              "      <td>1566.274239</td>\n",
              "      <td>3633.464557</td>\n",
              "      <td>5454.710444</td>\n",
              "      <td>5619.188362</td>\n",
              "      <td>5230.620027</td>\n",
              "      <td>2905.100888</td>\n",
              "      <td>2087.675036</td>\n",
              "    </tr>\n",
              "    <tr>\n",
              "      <th>1</th>\n",
              "      <td>-693.15710</td>\n",
              "      <td>-19.097841</td>\n",
              "      <td>-377.399930</td>\n",
              "      <td>141.716770</td>\n",
              "      <td>-88.644280</td>\n",
              "      <td>-2506.050300</td>\n",
              "      <td>11.875956</td>\n",
              "      <td>-645.432800</td>\n",
              "      <td>-245.990840</td>\n",
              "      <td>-286.774500</td>\n",
              "      <td>...</td>\n",
              "      <td>-832.677550</td>\n",
              "      <td>-67.378296</td>\n",
              "      <td>-254.831160</td>\n",
              "      <td>-90.530550</td>\n",
              "      <td>-772.159060</td>\n",
              "      <td>-739.136660</td>\n",
              "      <td>-2836.573200</td>\n",
              "      <td>-1077.593800</td>\n",
              "      <td>-266.935900</td>\n",
              "      <td>259.654970</td>\n",
              "    </tr>\n",
              "    <tr>\n",
              "      <th>2</th>\n",
              "      <td>-532.95660</td>\n",
              "      <td>-38.389650</td>\n",
              "      <td>-1422.012600</td>\n",
              "      <td>146.744580</td>\n",
              "      <td>-62.948715</td>\n",
              "      <td>-2465.993200</td>\n",
              "      <td>-3.146761</td>\n",
              "      <td>-738.629400</td>\n",
              "      <td>-269.118380</td>\n",
              "      <td>-231.466740</td>\n",
              "      <td>...</td>\n",
              "      <td>-968.301450</td>\n",
              "      <td>-99.839485</td>\n",
              "      <td>-286.303340</td>\n",
              "      <td>-163.199980</td>\n",
              "      <td>-840.205440</td>\n",
              "      <td>-733.489000</td>\n",
              "      <td>-2727.923800</td>\n",
              "      <td>-1249.543100</td>\n",
              "      <td>-288.679470</td>\n",
              "      <td>366.844000</td>\n",
              "    </tr>\n",
              "    <tr>\n",
              "      <th>3</th>\n",
              "      <td>-661.29156</td>\n",
              "      <td>-29.544336</td>\n",
              "      <td>-243.223600</td>\n",
              "      <td>133.070590</td>\n",
              "      <td>-72.422930</td>\n",
              "      <td>-2489.325000</td>\n",
              "      <td>-25.628496</td>\n",
              "      <td>-740.656800</td>\n",
              "      <td>-283.941560</td>\n",
              "      <td>-286.925540</td>\n",
              "      <td>...</td>\n",
              "      <td>-1096.354000</td>\n",
              "      <td>-118.346000</td>\n",
              "      <td>-336.055600</td>\n",
              "      <td>-248.582280</td>\n",
              "      <td>-697.189330</td>\n",
              "      <td>-639.804140</td>\n",
              "      <td>-3011.941200</td>\n",
              "      <td>-1327.768300</td>\n",
              "      <td>-304.290040</td>\n",
              "      <td>207.997830</td>\n",
              "    </tr>\n",
              "    <tr>\n",
              "      <th>4</th>\n",
              "      <td>-482.32327</td>\n",
              "      <td>-24.093884</td>\n",
              "      <td>-728.907400</td>\n",
              "      <td>136.818020</td>\n",
              "      <td>-57.031280</td>\n",
              "      <td>-2463.820600</td>\n",
              "      <td>-14.073060</td>\n",
              "      <td>-747.216200</td>\n",
              "      <td>-227.937330</td>\n",
              "      <td>-140.657360</td>\n",
              "      <td>...</td>\n",
              "      <td>-1072.414400</td>\n",
              "      <td>-121.599525</td>\n",
              "      <td>-204.546800</td>\n",
              "      <td>-176.583970</td>\n",
              "      <td>-690.810600</td>\n",
              "      <td>-616.085100</td>\n",
              "      <td>-2927.601800</td>\n",
              "      <td>-1329.749900</td>\n",
              "      <td>-268.038200</td>\n",
              "      <td>486.687560</td>\n",
              "    </tr>\n",
              "    <tr>\n",
              "      <th>5</th>\n",
              "      <td>-628.60340</td>\n",
              "      <td>-5.585401</td>\n",
              "      <td>1032.584400</td>\n",
              "      <td>132.068680</td>\n",
              "      <td>-50.492558</td>\n",
              "      <td>-2481.788000</td>\n",
              "      <td>1.658677</td>\n",
              "      <td>-738.745500</td>\n",
              "      <td>-199.908040</td>\n",
              "      <td>-186.661030</td>\n",
              "      <td>...</td>\n",
              "      <td>-963.008540</td>\n",
              "      <td>-99.210380</td>\n",
              "      <td>-6.601847</td>\n",
              "      <td>-39.045887</td>\n",
              "      <td>-755.449160</td>\n",
              "      <td>-701.524230</td>\n",
              "      <td>-2733.353800</td>\n",
              "      <td>-1288.381200</td>\n",
              "      <td>-284.327420</td>\n",
              "      <td>206.295490</td>\n",
              "    </tr>\n",
              "    <tr>\n",
              "      <th>6</th>\n",
              "      <td>-674.17596</td>\n",
              "      <td>-12.762246</td>\n",
              "      <td>-17.208794</td>\n",
              "      <td>136.143260</td>\n",
              "      <td>-72.508840</td>\n",
              "      <td>-2565.562000</td>\n",
              "      <td>-24.613108</td>\n",
              "      <td>-665.523440</td>\n",
              "      <td>-189.538970</td>\n",
              "      <td>-131.633870</td>\n",
              "      <td>...</td>\n",
              "      <td>-840.728940</td>\n",
              "      <td>-88.441550</td>\n",
              "      <td>151.606400</td>\n",
              "      <td>-127.395134</td>\n",
              "      <td>-632.447900</td>\n",
              "      <td>-532.636200</td>\n",
              "      <td>-2735.159200</td>\n",
              "      <td>-1124.289900</td>\n",
              "      <td>-284.659850</td>\n",
              "      <td>535.398900</td>\n",
              "    </tr>\n",
              "    <tr>\n",
              "      <th>7</th>\n",
              "      <td>-122.77166</td>\n",
              "      <td>-10.103426</td>\n",
              "      <td>-8.256965</td>\n",
              "      <td>17.318916</td>\n",
              "      <td>4.289736</td>\n",
              "      <td>-302.584750</td>\n",
              "      <td>-16.811434</td>\n",
              "      <td>-372.848850</td>\n",
              "      <td>-23.837465</td>\n",
              "      <td>-16.360197</td>\n",
              "      <td>...</td>\n",
              "      <td>-302.393620</td>\n",
              "      <td>-27.383186</td>\n",
              "      <td>-15.232314</td>\n",
              "      <td>-25.672796</td>\n",
              "      <td>-66.540115</td>\n",
              "      <td>-67.223740</td>\n",
              "      <td>-214.452940</td>\n",
              "      <td>-351.601840</td>\n",
              "      <td>-64.226690</td>\n",
              "      <td>64.397285</td>\n",
              "    </tr>\n",
              "    <tr>\n",
              "      <th>8</th>\n",
              "      <td>-688.91980</td>\n",
              "      <td>-25.845020</td>\n",
              "      <td>-351.915160</td>\n",
              "      <td>122.637780</td>\n",
              "      <td>-85.331760</td>\n",
              "      <td>-2562.314000</td>\n",
              "      <td>-4.284051</td>\n",
              "      <td>-698.348630</td>\n",
              "      <td>-237.804120</td>\n",
              "      <td>-284.080840</td>\n",
              "      <td>...</td>\n",
              "      <td>-952.654500</td>\n",
              "      <td>-80.197130</td>\n",
              "      <td>-265.319370</td>\n",
              "      <td>-108.070990</td>\n",
              "      <td>-692.364800</td>\n",
              "      <td>-746.489600</td>\n",
              "      <td>-2800.131600</td>\n",
              "      <td>-1229.852000</td>\n",
              "      <td>-278.442140</td>\n",
              "      <td>290.384640</td>\n",
              "    </tr>\n",
              "    <tr>\n",
              "      <th>9</th>\n",
              "      <td>-515.07100</td>\n",
              "      <td>-45.351536</td>\n",
              "      <td>-1278.289200</td>\n",
              "      <td>130.882050</td>\n",
              "      <td>-66.424545</td>\n",
              "      <td>-2406.207800</td>\n",
              "      <td>-14.829288</td>\n",
              "      <td>-767.558170</td>\n",
              "      <td>-275.281980</td>\n",
              "      <td>-229.853520</td>\n",
              "      <td>...</td>\n",
              "      <td>-1076.467700</td>\n",
              "      <td>-111.079990</td>\n",
              "      <td>-272.454250</td>\n",
              "      <td>-174.656190</td>\n",
              "      <td>-734.993100</td>\n",
              "      <td>-731.831900</td>\n",
              "      <td>-2625.595500</td>\n",
              "      <td>-1329.575700</td>\n",
              "      <td>-296.993740</td>\n",
              "      <td>383.647100</td>\n",
              "    </tr>\n",
              "    <tr>\n",
              "      <th>10</th>\n",
              "      <td>-615.78467</td>\n",
              "      <td>-41.088097</td>\n",
              "      <td>-180.094310</td>\n",
              "      <td>109.881780</td>\n",
              "      <td>-66.359340</td>\n",
              "      <td>-2420.969700</td>\n",
              "      <td>-30.693462</td>\n",
              "      <td>-732.794860</td>\n",
              "      <td>-286.241180</td>\n",
              "      <td>-275.413850</td>\n",
              "      <td>...</td>\n",
              "      <td>-1133.265700</td>\n",
              "      <td>-122.459570</td>\n",
              "      <td>-330.590300</td>\n",
              "      <td>-254.486800</td>\n",
              "      <td>-573.417700</td>\n",
              "      <td>-633.979100</td>\n",
              "      <td>-2909.928000</td>\n",
              "      <td>-1395.899500</td>\n",
              "      <td>-307.276400</td>\n",
              "      <td>209.190060</td>\n",
              "    </tr>\n",
              "    <tr>\n",
              "      <th>11</th>\n",
              "      <td>-471.20920</td>\n",
              "      <td>-38.821490</td>\n",
              "      <td>-720.230650</td>\n",
              "      <td>112.353424</td>\n",
              "      <td>-54.953790</td>\n",
              "      <td>-2384.861000</td>\n",
              "      <td>-9.888406</td>\n",
              "      <td>-717.866300</td>\n",
              "      <td>-253.171080</td>\n",
              "      <td>-142.822830</td>\n",
              "      <td>...</td>\n",
              "      <td>-1153.195200</td>\n",
              "      <td>-120.563240</td>\n",
              "      <td>-206.713620</td>\n",
              "      <td>-184.219220</td>\n",
              "      <td>-573.835400</td>\n",
              "      <td>-609.194340</td>\n",
              "      <td>-2794.205300</td>\n",
              "      <td>-1390.600700</td>\n",
              "      <td>-263.243130</td>\n",
              "      <td>458.311340</td>\n",
              "    </tr>\n",
              "    <tr>\n",
              "      <th>12</th>\n",
              "      <td>-586.50120</td>\n",
              "      <td>-22.799713</td>\n",
              "      <td>820.255200</td>\n",
              "      <td>118.212770</td>\n",
              "      <td>-49.937750</td>\n",
              "      <td>-2382.753000</td>\n",
              "      <td>-6.208553</td>\n",
              "      <td>-730.079800</td>\n",
              "      <td>-211.691730</td>\n",
              "      <td>-181.802410</td>\n",
              "      <td>...</td>\n",
              "      <td>-1015.324400</td>\n",
              "      <td>-104.817600</td>\n",
              "      <td>16.551980</td>\n",
              "      <td>-51.724697</td>\n",
              "      <td>-643.532300</td>\n",
              "      <td>-697.540100</td>\n",
              "      <td>-2625.319300</td>\n",
              "      <td>-1320.996600</td>\n",
              "      <td>-291.072240</td>\n",
              "      <td>201.093870</td>\n",
              "    </tr>\n",
              "    <tr>\n",
              "      <th>13</th>\n",
              "      <td>-648.59143</td>\n",
              "      <td>-19.408909</td>\n",
              "      <td>-11.380890</td>\n",
              "      <td>116.643080</td>\n",
              "      <td>-59.620815</td>\n",
              "      <td>-2496.703600</td>\n",
              "      <td>-15.515577</td>\n",
              "      <td>-619.976300</td>\n",
              "      <td>-183.555920</td>\n",
              "      <td>-128.612140</td>\n",
              "      <td>...</td>\n",
              "      <td>-918.042700</td>\n",
              "      <td>-91.535610</td>\n",
              "      <td>183.094830</td>\n",
              "      <td>-119.776620</td>\n",
              "      <td>-537.103400</td>\n",
              "      <td>-541.311100</td>\n",
              "      <td>-2660.007800</td>\n",
              "      <td>-1172.252200</td>\n",
              "      <td>-288.300020</td>\n",
              "      <td>514.030150</td>\n",
              "    </tr>\n",
              "    <tr>\n",
              "      <th>14</th>\n",
              "      <td>-126.66220</td>\n",
              "      <td>-9.354095</td>\n",
              "      <td>41.584187</td>\n",
              "      <td>14.437828</td>\n",
              "      <td>8.345176</td>\n",
              "      <td>-318.914400</td>\n",
              "      <td>-7.368343</td>\n",
              "      <td>-354.999880</td>\n",
              "      <td>-14.676312</td>\n",
              "      <td>-10.805809</td>\n",
              "      <td>...</td>\n",
              "      <td>-435.910770</td>\n",
              "      <td>-29.473160</td>\n",
              "      <td>7.119393</td>\n",
              "      <td>-21.941723</td>\n",
              "      <td>-70.000690</td>\n",
              "      <td>-47.324820</td>\n",
              "      <td>-179.891970</td>\n",
              "      <td>-450.823670</td>\n",
              "      <td>-75.590110</td>\n",
              "      <td>36.965263</td>\n",
              "    </tr>\n",
              "    <tr>\n",
              "      <th>15</th>\n",
              "      <td>-664.79120</td>\n",
              "      <td>-28.961210</td>\n",
              "      <td>-355.697080</td>\n",
              "      <td>111.720390</td>\n",
              "      <td>-75.322334</td>\n",
              "      <td>-2426.210000</td>\n",
              "      <td>2.263063</td>\n",
              "      <td>-704.090400</td>\n",
              "      <td>-236.768130</td>\n",
              "      <td>-274.860840</td>\n",
              "      <td>...</td>\n",
              "      <td>-953.396060</td>\n",
              "      <td>-75.726340</td>\n",
              "      <td>-232.972960</td>\n",
              "      <td>-103.254684</td>\n",
              "      <td>-619.655900</td>\n",
              "      <td>-720.505070</td>\n",
              "      <td>-2699.499800</td>\n",
              "      <td>-1218.599200</td>\n",
              "      <td>-281.214780</td>\n",
              "      <td>313.592650</td>\n",
              "    </tr>\n",
              "    <tr>\n",
              "      <th>16</th>\n",
              "      <td>-510.30786</td>\n",
              "      <td>-46.916492</td>\n",
              "      <td>-1217.263000</td>\n",
              "      <td>126.283270</td>\n",
              "      <td>-59.591923</td>\n",
              "      <td>-2271.611000</td>\n",
              "      <td>-9.639297</td>\n",
              "      <td>-751.962900</td>\n",
              "      <td>-268.061980</td>\n",
              "      <td>-223.336880</td>\n",
              "      <td>...</td>\n",
              "      <td>-990.875800</td>\n",
              "      <td>-108.934700</td>\n",
              "      <td>-248.758760</td>\n",
              "      <td>-170.596450</td>\n",
              "      <td>-668.426000</td>\n",
              "      <td>-719.870200</td>\n",
              "      <td>-2499.416700</td>\n",
              "      <td>-1313.863300</td>\n",
              "      <td>-290.415860</td>\n",
              "      <td>354.184270</td>\n",
              "    </tr>\n",
              "    <tr>\n",
              "      <th>17</th>\n",
              "      <td>-595.81160</td>\n",
              "      <td>-46.045310</td>\n",
              "      <td>-272.679050</td>\n",
              "      <td>110.094450</td>\n",
              "      <td>-62.519505</td>\n",
              "      <td>-2277.922400</td>\n",
              "      <td>-7.651997</td>\n",
              "      <td>-692.521400</td>\n",
              "      <td>-284.809970</td>\n",
              "      <td>-263.360000</td>\n",
              "      <td>...</td>\n",
              "      <td>-1016.382000</td>\n",
              "      <td>-116.933390</td>\n",
              "      <td>-308.195620</td>\n",
              "      <td>-240.614060</td>\n",
              "      <td>-531.823500</td>\n",
              "      <td>-620.153000</td>\n",
              "      <td>-2821.589000</td>\n",
              "      <td>-1369.077500</td>\n",
              "      <td>-296.898600</td>\n",
              "      <td>228.232710</td>\n",
              "    </tr>\n",
              "    <tr>\n",
              "      <th>18</th>\n",
              "      <td>-436.91055</td>\n",
              "      <td>-41.998740</td>\n",
              "      <td>-665.635100</td>\n",
              "      <td>118.500980</td>\n",
              "      <td>-50.886480</td>\n",
              "      <td>-2235.401600</td>\n",
              "      <td>9.933037</td>\n",
              "      <td>-672.661740</td>\n",
              "      <td>-228.708740</td>\n",
              "      <td>-135.284790</td>\n",
              "      <td>...</td>\n",
              "      <td>-1043.609900</td>\n",
              "      <td>-120.342440</td>\n",
              "      <td>-201.253570</td>\n",
              "      <td>-173.562270</td>\n",
              "      <td>-536.130550</td>\n",
              "      <td>-586.125240</td>\n",
              "      <td>-2685.710000</td>\n",
              "      <td>-1365.153200</td>\n",
              "      <td>-268.959700</td>\n",
              "      <td>454.555970</td>\n",
              "    </tr>\n",
              "    <tr>\n",
              "      <th>19</th>\n",
              "      <td>-554.70560</td>\n",
              "      <td>-32.403347</td>\n",
              "      <td>676.311340</td>\n",
              "      <td>126.880200</td>\n",
              "      <td>-53.070904</td>\n",
              "      <td>-2193.463100</td>\n",
              "      <td>10.662577</td>\n",
              "      <td>-707.418000</td>\n",
              "      <td>-195.463750</td>\n",
              "      <td>-168.756150</td>\n",
              "      <td>...</td>\n",
              "      <td>-944.567900</td>\n",
              "      <td>-98.486916</td>\n",
              "      <td>-4.545780</td>\n",
              "      <td>-44.126510</td>\n",
              "      <td>-578.923600</td>\n",
              "      <td>-677.094800</td>\n",
              "      <td>-2539.058300</td>\n",
              "      <td>-1291.234100</td>\n",
              "      <td>-286.933470</td>\n",
              "      <td>236.278210</td>\n",
              "    </tr>\n",
              "    <tr>\n",
              "      <th>20</th>\n",
              "      <td>-613.29390</td>\n",
              "      <td>-20.841644</td>\n",
              "      <td>-36.765280</td>\n",
              "      <td>121.690460</td>\n",
              "      <td>-59.244114</td>\n",
              "      <td>-2394.613300</td>\n",
              "      <td>6.657414</td>\n",
              "      <td>-615.170300</td>\n",
              "      <td>-182.927810</td>\n",
              "      <td>-124.978140</td>\n",
              "      <td>...</td>\n",
              "      <td>-879.215150</td>\n",
              "      <td>-92.239570</td>\n",
              "      <td>139.334060</td>\n",
              "      <td>-105.652916</td>\n",
              "      <td>-497.725650</td>\n",
              "      <td>-544.318360</td>\n",
              "      <td>-2554.996300</td>\n",
              "      <td>-1150.342800</td>\n",
              "      <td>-287.142900</td>\n",
              "      <td>496.073180</td>\n",
              "    </tr>\n",
              "    <tr>\n",
              "      <th>21</th>\n",
              "      <td>-139.32158</td>\n",
              "      <td>-13.938198</td>\n",
              "      <td>44.959488</td>\n",
              "      <td>19.816307</td>\n",
              "      <td>2.334563</td>\n",
              "      <td>-300.976380</td>\n",
              "      <td>2.146644</td>\n",
              "      <td>-338.027530</td>\n",
              "      <td>-7.409970</td>\n",
              "      <td>-8.345154</td>\n",
              "      <td>...</td>\n",
              "      <td>-477.240720</td>\n",
              "      <td>-31.795261</td>\n",
              "      <td>-17.267933</td>\n",
              "      <td>3.383597</td>\n",
              "      <td>-86.476890</td>\n",
              "      <td>-55.355568</td>\n",
              "      <td>-100.800920</td>\n",
              "      <td>-511.195300</td>\n",
              "      <td>-62.626785</td>\n",
              "      <td>21.194397</td>\n",
              "    </tr>\n",
              "    <tr>\n",
              "      <th>22</th>\n",
              "      <td>-609.93933</td>\n",
              "      <td>-25.543522</td>\n",
              "      <td>-356.549300</td>\n",
              "      <td>113.472270</td>\n",
              "      <td>-78.551765</td>\n",
              "      <td>-2186.851800</td>\n",
              "      <td>-5.891678</td>\n",
              "      <td>-678.191830</td>\n",
              "      <td>-232.440950</td>\n",
              "      <td>-263.119260</td>\n",
              "      <td>...</td>\n",
              "      <td>-923.572400</td>\n",
              "      <td>-76.465350</td>\n",
              "      <td>-245.283020</td>\n",
              "      <td>-89.393780</td>\n",
              "      <td>-580.563700</td>\n",
              "      <td>-701.543150</td>\n",
              "      <td>-2522.095500</td>\n",
              "      <td>-1224.457400</td>\n",
              "      <td>-279.320650</td>\n",
              "      <td>316.421630</td>\n",
              "    </tr>\n",
              "    <tr>\n",
              "      <th>23</th>\n",
              "      <td>-495.75580</td>\n",
              "      <td>-43.080810</td>\n",
              "      <td>-1088.097200</td>\n",
              "      <td>123.909140</td>\n",
              "      <td>-64.474170</td>\n",
              "      <td>-2075.199000</td>\n",
              "      <td>-13.552430</td>\n",
              "      <td>-739.981930</td>\n",
              "      <td>-255.748550</td>\n",
              "      <td>-219.614070</td>\n",
              "      <td>...</td>\n",
              "      <td>-945.093300</td>\n",
              "      <td>-102.233940</td>\n",
              "      <td>-247.189770</td>\n",
              "      <td>-158.832150</td>\n",
              "      <td>-599.262760</td>\n",
              "      <td>-713.940060</td>\n",
              "      <td>-2331.479000</td>\n",
              "      <td>-1322.866300</td>\n",
              "      <td>-289.358550</td>\n",
              "      <td>352.051880</td>\n",
              "    </tr>\n",
              "    <tr>\n",
              "      <th>24</th>\n",
              "      <td>-570.05900</td>\n",
              "      <td>-43.956700</td>\n",
              "      <td>-307.845030</td>\n",
              "      <td>110.636370</td>\n",
              "      <td>-69.608650</td>\n",
              "      <td>-2089.546900</td>\n",
              "      <td>6.200880</td>\n",
              "      <td>-672.361200</td>\n",
              "      <td>-283.514900</td>\n",
              "      <td>-255.933060</td>\n",
              "      <td>...</td>\n",
              "      <td>-989.032530</td>\n",
              "      <td>-106.212135</td>\n",
              "      <td>-275.799300</td>\n",
              "      <td>-232.376980</td>\n",
              "      <td>-487.058320</td>\n",
              "      <td>-621.980350</td>\n",
              "      <td>-2637.642000</td>\n",
              "      <td>-1339.751800</td>\n",
              "      <td>-287.258640</td>\n",
              "      <td>250.923660</td>\n",
              "    </tr>\n",
              "    <tr>\n",
              "      <th>25</th>\n",
              "      <td>-433.75705</td>\n",
              "      <td>-43.548645</td>\n",
              "      <td>-648.904400</td>\n",
              "      <td>119.273690</td>\n",
              "      <td>-62.617287</td>\n",
              "      <td>-2087.182100</td>\n",
              "      <td>13.545363</td>\n",
              "      <td>-637.913400</td>\n",
              "      <td>-233.906190</td>\n",
              "      <td>-140.659670</td>\n",
              "      <td>...</td>\n",
              "      <td>-1052.794300</td>\n",
              "      <td>-122.449190</td>\n",
              "      <td>-162.885400</td>\n",
              "      <td>-169.627780</td>\n",
              "      <td>-504.684540</td>\n",
              "      <td>-605.149700</td>\n",
              "      <td>-2538.067900</td>\n",
              "      <td>-1357.796800</td>\n",
              "      <td>-271.427900</td>\n",
              "      <td>449.103800</td>\n",
              "    </tr>\n",
              "    <tr>\n",
              "      <th>26</th>\n",
              "      <td>-515.45910</td>\n",
              "      <td>-36.488964</td>\n",
              "      <td>499.544830</td>\n",
              "      <td>122.762040</td>\n",
              "      <td>-61.237470</td>\n",
              "      <td>-2030.453400</td>\n",
              "      <td>16.712940</td>\n",
              "      <td>-664.148740</td>\n",
              "      <td>-204.643400</td>\n",
              "      <td>-171.201840</td>\n",
              "      <td>...</td>\n",
              "      <td>-948.590300</td>\n",
              "      <td>-105.893060</td>\n",
              "      <td>17.290604</td>\n",
              "      <td>-43.493103</td>\n",
              "      <td>-547.439500</td>\n",
              "      <td>-690.674300</td>\n",
              "      <td>-2406.409400</td>\n",
              "      <td>-1298.134600</td>\n",
              "      <td>-290.831330</td>\n",
              "      <td>254.222020</td>\n",
              "    </tr>\n",
              "    <tr>\n",
              "      <th>27</th>\n",
              "      <td>-602.77280</td>\n",
              "      <td>-26.151823</td>\n",
              "      <td>-82.725160</td>\n",
              "      <td>110.455124</td>\n",
              "      <td>-69.269630</td>\n",
              "      <td>-2212.450400</td>\n",
              "      <td>1.207047</td>\n",
              "      <td>-585.687440</td>\n",
              "      <td>-184.385990</td>\n",
              "      <td>-129.506160</td>\n",
              "      <td>...</td>\n",
              "      <td>-883.586550</td>\n",
              "      <td>-89.111824</td>\n",
              "      <td>120.384660</td>\n",
              "      <td>-105.646150</td>\n",
              "      <td>-481.763460</td>\n",
              "      <td>-559.394650</td>\n",
              "      <td>-2367.344700</td>\n",
              "      <td>-1171.045400</td>\n",
              "      <td>-285.967070</td>\n",
              "      <td>489.248400</td>\n",
              "    </tr>\n",
              "    <tr>\n",
              "      <th>28</th>\n",
              "      <td>-129.66968</td>\n",
              "      <td>-17.911030</td>\n",
              "      <td>-72.554460</td>\n",
              "      <td>14.577949</td>\n",
              "      <td>-10.806347</td>\n",
              "      <td>-253.998730</td>\n",
              "      <td>7.507418</td>\n",
              "      <td>-328.358030</td>\n",
              "      <td>-20.375637</td>\n",
              "      <td>-9.850417</td>\n",
              "      <td>...</td>\n",
              "      <td>-518.637400</td>\n",
              "      <td>-34.615124</td>\n",
              "      <td>-23.572803</td>\n",
              "      <td>0.334551</td>\n",
              "      <td>-80.068430</td>\n",
              "      <td>-83.267200</td>\n",
              "      <td>-38.811638</td>\n",
              "      <td>-584.382900</td>\n",
              "      <td>-83.068794</td>\n",
              "      <td>49.226430</td>\n",
              "    </tr>\n",
              "  </tbody>\n",
              "</table>\n",
              "<p>29 rows × 37 columns</p>\n",
              "</div>"
            ],
            "text/plain": [
              "           품목0          품목1          품목2          품목3          품목4  \\\n",
              "0   3871.12500  1362.117613  2909.783785  3400.075583  3947.809169   \n",
              "1   -693.15710   -19.097841  -377.399930   141.716770   -88.644280   \n",
              "2   -532.95660   -38.389650 -1422.012600   146.744580   -62.948715   \n",
              "3   -661.29156   -29.544336  -243.223600   133.070590   -72.422930   \n",
              "4   -482.32327   -24.093884  -728.907400   136.818020   -57.031280   \n",
              "5   -628.60340    -5.585401  1032.584400   132.068680   -50.492558   \n",
              "6   -674.17596   -12.762246   -17.208794   136.143260   -72.508840   \n",
              "7   -122.77166   -10.103426    -8.256965    17.318916     4.289736   \n",
              "8   -688.91980   -25.845020  -351.915160   122.637780   -85.331760   \n",
              "9   -515.07100   -45.351536 -1278.289200   130.882050   -66.424545   \n",
              "10  -615.78467   -41.088097  -180.094310   109.881780   -66.359340   \n",
              "11  -471.20920   -38.821490  -720.230650   112.353424   -54.953790   \n",
              "12  -586.50120   -22.799713   820.255200   118.212770   -49.937750   \n",
              "13  -648.59143   -19.408909   -11.380890   116.643080   -59.620815   \n",
              "14  -126.66220    -9.354095    41.584187    14.437828     8.345176   \n",
              "15  -664.79120   -28.961210  -355.697080   111.720390   -75.322334   \n",
              "16  -510.30786   -46.916492 -1217.263000   126.283270   -59.591923   \n",
              "17  -595.81160   -46.045310  -272.679050   110.094450   -62.519505   \n",
              "18  -436.91055   -41.998740  -665.635100   118.500980   -50.886480   \n",
              "19  -554.70560   -32.403347   676.311340   126.880200   -53.070904   \n",
              "20  -613.29390   -20.841644   -36.765280   121.690460   -59.244114   \n",
              "21  -139.32158   -13.938198    44.959488    19.816307     2.334563   \n",
              "22  -609.93933   -25.543522  -356.549300   113.472270   -78.551765   \n",
              "23  -495.75580   -43.080810 -1088.097200   123.909140   -64.474170   \n",
              "24  -570.05900   -43.956700  -307.845030   110.636370   -69.608650   \n",
              "25  -433.75705   -43.548645  -648.904400   119.273690   -62.617287   \n",
              "26  -515.45910   -36.488964   499.544830   122.762040   -61.237470   \n",
              "27  -602.77280   -26.151823   -82.725160   110.455124   -69.269630   \n",
              "28  -129.66968   -17.911030   -72.554460    14.577949   -10.806347   \n",
              "\n",
              "            품목5          품목6          품목7          품목8          품목9  ...  \\\n",
              "0   9253.947514  2717.280000  3361.030923  4911.899864  1173.018633  ...   \n",
              "1  -2506.050300    11.875956  -645.432800  -245.990840  -286.774500  ...   \n",
              "2  -2465.993200    -3.146761  -738.629400  -269.118380  -231.466740  ...   \n",
              "3  -2489.325000   -25.628496  -740.656800  -283.941560  -286.925540  ...   \n",
              "4  -2463.820600   -14.073060  -747.216200  -227.937330  -140.657360  ...   \n",
              "5  -2481.788000     1.658677  -738.745500  -199.908040  -186.661030  ...   \n",
              "6  -2565.562000   -24.613108  -665.523440  -189.538970  -131.633870  ...   \n",
              "7   -302.584750   -16.811434  -372.848850   -23.837465   -16.360197  ...   \n",
              "8  -2562.314000    -4.284051  -698.348630  -237.804120  -284.080840  ...   \n",
              "9  -2406.207800   -14.829288  -767.558170  -275.281980  -229.853520  ...   \n",
              "10 -2420.969700   -30.693462  -732.794860  -286.241180  -275.413850  ...   \n",
              "11 -2384.861000    -9.888406  -717.866300  -253.171080  -142.822830  ...   \n",
              "12 -2382.753000    -6.208553  -730.079800  -211.691730  -181.802410  ...   \n",
              "13 -2496.703600   -15.515577  -619.976300  -183.555920  -128.612140  ...   \n",
              "14  -318.914400    -7.368343  -354.999880   -14.676312   -10.805809  ...   \n",
              "15 -2426.210000     2.263063  -704.090400  -236.768130  -274.860840  ...   \n",
              "16 -2271.611000    -9.639297  -751.962900  -268.061980  -223.336880  ...   \n",
              "17 -2277.922400    -7.651997  -692.521400  -284.809970  -263.360000  ...   \n",
              "18 -2235.401600     9.933037  -672.661740  -228.708740  -135.284790  ...   \n",
              "19 -2193.463100    10.662577  -707.418000  -195.463750  -168.756150  ...   \n",
              "20 -2394.613300     6.657414  -615.170300  -182.927810  -124.978140  ...   \n",
              "21  -300.976380     2.146644  -338.027530    -7.409970    -8.345154  ...   \n",
              "22 -2186.851800    -5.891678  -678.191830  -232.440950  -263.119260  ...   \n",
              "23 -2075.199000   -13.552430  -739.981930  -255.748550  -219.614070  ...   \n",
              "24 -2089.546900     6.200880  -672.361200  -283.514900  -255.933060  ...   \n",
              "25 -2087.182100    13.545363  -637.913400  -233.906190  -140.659670  ...   \n",
              "26 -2030.453400    16.712940  -664.148740  -204.643400  -171.201840  ...   \n",
              "27 -2212.450400     1.207047  -585.687440  -184.385990  -129.506160  ...   \n",
              "28  -253.998730     7.507418  -328.358030   -20.375637    -9.850417  ...   \n",
              "\n",
              "           품목27        품목28         품목29         품목30         품목31  \\\n",
              "0   8640.811309  602.005658  1105.412623  1566.274239  3633.464557   \n",
              "1   -832.677550  -67.378296  -254.831160   -90.530550  -772.159060   \n",
              "2   -968.301450  -99.839485  -286.303340  -163.199980  -840.205440   \n",
              "3  -1096.354000 -118.346000  -336.055600  -248.582280  -697.189330   \n",
              "4  -1072.414400 -121.599525  -204.546800  -176.583970  -690.810600   \n",
              "5   -963.008540  -99.210380    -6.601847   -39.045887  -755.449160   \n",
              "6   -840.728940  -88.441550   151.606400  -127.395134  -632.447900   \n",
              "7   -302.393620  -27.383186   -15.232314   -25.672796   -66.540115   \n",
              "8   -952.654500  -80.197130  -265.319370  -108.070990  -692.364800   \n",
              "9  -1076.467700 -111.079990  -272.454250  -174.656190  -734.993100   \n",
              "10 -1133.265700 -122.459570  -330.590300  -254.486800  -573.417700   \n",
              "11 -1153.195200 -120.563240  -206.713620  -184.219220  -573.835400   \n",
              "12 -1015.324400 -104.817600    16.551980   -51.724697  -643.532300   \n",
              "13  -918.042700  -91.535610   183.094830  -119.776620  -537.103400   \n",
              "14  -435.910770  -29.473160     7.119393   -21.941723   -70.000690   \n",
              "15  -953.396060  -75.726340  -232.972960  -103.254684  -619.655900   \n",
              "16  -990.875800 -108.934700  -248.758760  -170.596450  -668.426000   \n",
              "17 -1016.382000 -116.933390  -308.195620  -240.614060  -531.823500   \n",
              "18 -1043.609900 -120.342440  -201.253570  -173.562270  -536.130550   \n",
              "19  -944.567900  -98.486916    -4.545780   -44.126510  -578.923600   \n",
              "20  -879.215150  -92.239570   139.334060  -105.652916  -497.725650   \n",
              "21  -477.240720  -31.795261   -17.267933     3.383597   -86.476890   \n",
              "22  -923.572400  -76.465350  -245.283020   -89.393780  -580.563700   \n",
              "23  -945.093300 -102.233940  -247.189770  -158.832150  -599.262760   \n",
              "24  -989.032530 -106.212135  -275.799300  -232.376980  -487.058320   \n",
              "25 -1052.794300 -122.449190  -162.885400  -169.627780  -504.684540   \n",
              "26  -948.590300 -105.893060    17.290604   -43.493103  -547.439500   \n",
              "27  -883.586550  -89.111824   120.384660  -105.646150  -481.763460   \n",
              "28  -518.637400  -34.615124   -23.572803     0.334551   -80.068430   \n",
              "\n",
              "           품목32         품목33         품목34         품목35         품목36  \n",
              "0   5454.710444  5619.188362  5230.620027  2905.100888  2087.675036  \n",
              "1   -739.136660 -2836.573200 -1077.593800  -266.935900   259.654970  \n",
              "2   -733.489000 -2727.923800 -1249.543100  -288.679470   366.844000  \n",
              "3   -639.804140 -3011.941200 -1327.768300  -304.290040   207.997830  \n",
              "4   -616.085100 -2927.601800 -1329.749900  -268.038200   486.687560  \n",
              "5   -701.524230 -2733.353800 -1288.381200  -284.327420   206.295490  \n",
              "6   -532.636200 -2735.159200 -1124.289900  -284.659850   535.398900  \n",
              "7    -67.223740  -214.452940  -351.601840   -64.226690    64.397285  \n",
              "8   -746.489600 -2800.131600 -1229.852000  -278.442140   290.384640  \n",
              "9   -731.831900 -2625.595500 -1329.575700  -296.993740   383.647100  \n",
              "10  -633.979100 -2909.928000 -1395.899500  -307.276400   209.190060  \n",
              "11  -609.194340 -2794.205300 -1390.600700  -263.243130   458.311340  \n",
              "12  -697.540100 -2625.319300 -1320.996600  -291.072240   201.093870  \n",
              "13  -541.311100 -2660.007800 -1172.252200  -288.300020   514.030150  \n",
              "14   -47.324820  -179.891970  -450.823670   -75.590110    36.965263  \n",
              "15  -720.505070 -2699.499800 -1218.599200  -281.214780   313.592650  \n",
              "16  -719.870200 -2499.416700 -1313.863300  -290.415860   354.184270  \n",
              "17  -620.153000 -2821.589000 -1369.077500  -296.898600   228.232710  \n",
              "18  -586.125240 -2685.710000 -1365.153200  -268.959700   454.555970  \n",
              "19  -677.094800 -2539.058300 -1291.234100  -286.933470   236.278210  \n",
              "20  -544.318360 -2554.996300 -1150.342800  -287.142900   496.073180  \n",
              "21   -55.355568  -100.800920  -511.195300   -62.626785    21.194397  \n",
              "22  -701.543150 -2522.095500 -1224.457400  -279.320650   316.421630  \n",
              "23  -713.940060 -2331.479000 -1322.866300  -289.358550   352.051880  \n",
              "24  -621.980350 -2637.642000 -1339.751800  -287.258640   250.923660  \n",
              "25  -605.149700 -2538.067900 -1357.796800  -271.427900   449.103800  \n",
              "26  -690.674300 -2406.409400 -1298.134600  -290.831330   254.222020  \n",
              "27  -559.394650 -2367.344700 -1171.045400  -285.967070   489.248400  \n",
              "28   -83.267200   -38.811638  -584.382900   -83.068794    49.226430  \n",
              "\n",
              "[29 rows x 37 columns]"
            ]
          },
          "execution_count": 14,
          "metadata": {},
          "output_type": "execute_result"
        }
      ],
      "source": [
        "set_df_0"
      ]
    },
    {
      "cell_type": "markdown",
      "metadata": {
        "id": "d6GWHYtTJ8fb"
      },
      "source": [
        "- 변동률 계산 "
      ]
    },
    {
      "cell_type": "code",
      "execution_count": 15,
      "metadata": {
        "id": "G7guVyL7J8fc"
      },
      "outputs": [],
      "source": [
        "date = [f'd+{i}' for i in range(1,15)] + ['d+22 ~ 28 평균']\n",
        "\n",
        "for k in range(10):\n",
        "  globals()[f'answer_df_{k}'] = pd.DataFrame()\n",
        "  for c in globals()[f'set_df_{k}'].columns:\n",
        "    base_d = globals()[f'set_df_{k}'][c][0] # 변동률 기준 t 값\n",
        "    ans_1_14 = []\n",
        "    for i in range(14):\n",
        "      ans_1_14.append((globals()[f'set_df_{k}'][c].iloc[i+1])/base_d)\n",
        "    \n",
        "    ans_22_28 = (globals()[f'set_df_{k}'][c][22:29].mean())/base_d\n",
        "    globals()[f'answer_df_{k}'][f'{c} 변동률'] = ans_1_14 + [ans_22_28]\n",
        "  \n",
        "  globals()[f'answer_df_{k}']['Set'] = k # set 번호 설정\n",
        "  globals()[f'answer_df_{k}']['일자'] = date # 일자 설정"
      ]
    },
    {
      "cell_type": "markdown",
      "metadata": {
        "id": "0kl8cEL6J8fe"
      },
      "source": [
        "- sep 0  ~ sep 9 까지 합치기"
      ]
    },
    {
      "cell_type": "code",
      "execution_count": 16,
      "metadata": {
        "id": "T8nepRwGJ8ff"
      },
      "outputs": [],
      "source": [
        "# 위에서 계산된 변동률 들을 합쳐주는 과정\n",
        "\n",
        "all_df =pd.DataFrame()\n",
        "for i in range(10):\n",
        "  if i== 0 :\n",
        "    all_df = pd.concat([all_df, globals()[f'answer_df_{i}']],axis=1)\n",
        "  else:\n",
        "    all_df = pd.concat([all_df, globals()[f'answer_df_{i}']])\n",
        "\n",
        "\n",
        "all_df = all_df[['Set','일자'] + list(all_df.columns[:-2])]\n",
        "all_df.reset_index(drop=True, inplace=True)"
      ]
    },
    {
      "cell_type": "code",
      "execution_count": 17,
      "metadata": {
        "id": "1_Qxfg3_J8fg"
      },
      "outputs": [
        {
          "data": {
            "text/html": [
              "<div>\n",
              "<style scoped>\n",
              "    .dataframe tbody tr th:only-of-type {\n",
              "        vertical-align: middle;\n",
              "    }\n",
              "\n",
              "    .dataframe tbody tr th {\n",
              "        vertical-align: top;\n",
              "    }\n",
              "\n",
              "    .dataframe thead th {\n",
              "        text-align: right;\n",
              "    }\n",
              "</style>\n",
              "<table border=\"1\" class=\"dataframe\">\n",
              "  <thead>\n",
              "    <tr style=\"text-align: right;\">\n",
              "      <th></th>\n",
              "      <th>품목0 변동률</th>\n",
              "      <th>품목1 변동률</th>\n",
              "      <th>품목2 변동률</th>\n",
              "      <th>품목3 변동률</th>\n",
              "      <th>품목4 변동률</th>\n",
              "      <th>품목5 변동률</th>\n",
              "      <th>품목6 변동률</th>\n",
              "      <th>품목7 변동률</th>\n",
              "      <th>품목8 변동률</th>\n",
              "      <th>품목9 변동률</th>\n",
              "      <th>...</th>\n",
              "      <th>품목29 변동률</th>\n",
              "      <th>품목30 변동률</th>\n",
              "      <th>품목31 변동률</th>\n",
              "      <th>품목32 변동률</th>\n",
              "      <th>품목33 변동률</th>\n",
              "      <th>품목34 변동률</th>\n",
              "      <th>품목35 변동률</th>\n",
              "      <th>품목36 변동률</th>\n",
              "      <th>Set</th>\n",
              "      <th>일자</th>\n",
              "    </tr>\n",
              "  </thead>\n",
              "  <tbody>\n",
              "    <tr>\n",
              "      <th>0</th>\n",
              "      <td>-0.179058</td>\n",
              "      <td>-0.014021</td>\n",
              "      <td>-0.129700</td>\n",
              "      <td>0.041680</td>\n",
              "      <td>-0.022454</td>\n",
              "      <td>-0.270809</td>\n",
              "      <td>0.004371</td>\n",
              "      <td>-0.192034</td>\n",
              "      <td>-0.050081</td>\n",
              "      <td>-0.244476</td>\n",
              "      <td>...</td>\n",
              "      <td>-0.230530</td>\n",
              "      <td>-0.057800</td>\n",
              "      <td>-0.212513</td>\n",
              "      <td>-0.135504</td>\n",
              "      <td>-0.504801</td>\n",
              "      <td>-0.206016</td>\n",
              "      <td>-0.091885</td>\n",
              "      <td>0.124375</td>\n",
              "      <td>0</td>\n",
              "      <td>d+1</td>\n",
              "    </tr>\n",
              "    <tr>\n",
              "      <th>1</th>\n",
              "      <td>-0.137675</td>\n",
              "      <td>-0.028184</td>\n",
              "      <td>-0.488700</td>\n",
              "      <td>0.043159</td>\n",
              "      <td>-0.015945</td>\n",
              "      <td>-0.266480</td>\n",
              "      <td>-0.001158</td>\n",
              "      <td>-0.219763</td>\n",
              "      <td>-0.054789</td>\n",
              "      <td>-0.197326</td>\n",
              "      <td>...</td>\n",
              "      <td>-0.259001</td>\n",
              "      <td>-0.104196</td>\n",
              "      <td>-0.231241</td>\n",
              "      <td>-0.134469</td>\n",
              "      <td>-0.485466</td>\n",
              "      <td>-0.238890</td>\n",
              "      <td>-0.099370</td>\n",
              "      <td>0.175719</td>\n",
              "      <td>0</td>\n",
              "      <td>d+2</td>\n",
              "    </tr>\n",
              "    <tr>\n",
              "      <th>2</th>\n",
              "      <td>-0.170827</td>\n",
              "      <td>-0.021690</td>\n",
              "      <td>-0.083588</td>\n",
              "      <td>0.039138</td>\n",
              "      <td>-0.018345</td>\n",
              "      <td>-0.269001</td>\n",
              "      <td>-0.009432</td>\n",
              "      <td>-0.220366</td>\n",
              "      <td>-0.057807</td>\n",
              "      <td>-0.244604</td>\n",
              "      <td>...</td>\n",
              "      <td>-0.304009</td>\n",
              "      <td>-0.158709</td>\n",
              "      <td>-0.191880</td>\n",
              "      <td>-0.117294</td>\n",
              "      <td>-0.536010</td>\n",
              "      <td>-0.253845</td>\n",
              "      <td>-0.104743</td>\n",
              "      <td>0.099631</td>\n",
              "      <td>0</td>\n",
              "      <td>d+3</td>\n",
              "    </tr>\n",
              "    <tr>\n",
              "      <th>3</th>\n",
              "      <td>-0.124595</td>\n",
              "      <td>-0.017689</td>\n",
              "      <td>-0.250502</td>\n",
              "      <td>0.040240</td>\n",
              "      <td>-0.014446</td>\n",
              "      <td>-0.266245</td>\n",
              "      <td>-0.005179</td>\n",
              "      <td>-0.222318</td>\n",
              "      <td>-0.046405</td>\n",
              "      <td>-0.119911</td>\n",
              "      <td>...</td>\n",
              "      <td>-0.185041</td>\n",
              "      <td>-0.112741</td>\n",
              "      <td>-0.190124</td>\n",
              "      <td>-0.112946</td>\n",
              "      <td>-0.521001</td>\n",
              "      <td>-0.254224</td>\n",
              "      <td>-0.092265</td>\n",
              "      <td>0.233124</td>\n",
              "      <td>0</td>\n",
              "      <td>d+4</td>\n",
              "    </tr>\n",
              "    <tr>\n",
              "      <th>4</th>\n",
              "      <td>-0.162383</td>\n",
              "      <td>-0.004101</td>\n",
              "      <td>0.354866</td>\n",
              "      <td>0.038843</td>\n",
              "      <td>-0.012790</td>\n",
              "      <td>-0.268187</td>\n",
              "      <td>0.000610</td>\n",
              "      <td>-0.219797</td>\n",
              "      <td>-0.040699</td>\n",
              "      <td>-0.159129</td>\n",
              "      <td>...</td>\n",
              "      <td>-0.005972</td>\n",
              "      <td>-0.024929</td>\n",
              "      <td>-0.207914</td>\n",
              "      <td>-0.128609</td>\n",
              "      <td>-0.486432</td>\n",
              "      <td>-0.246315</td>\n",
              "      <td>-0.097872</td>\n",
              "      <td>0.098816</td>\n",
              "      <td>0</td>\n",
              "      <td>d+5</td>\n",
              "    </tr>\n",
              "    <tr>\n",
              "      <th>5</th>\n",
              "      <td>-0.174155</td>\n",
              "      <td>-0.009369</td>\n",
              "      <td>-0.005914</td>\n",
              "      <td>0.040041</td>\n",
              "      <td>-0.018367</td>\n",
              "      <td>-0.277240</td>\n",
              "      <td>-0.009058</td>\n",
              "      <td>-0.198012</td>\n",
              "      <td>-0.038588</td>\n",
              "      <td>-0.112218</td>\n",
              "      <td>...</td>\n",
              "      <td>0.137149</td>\n",
              "      <td>-0.081336</td>\n",
              "      <td>-0.174062</td>\n",
              "      <td>-0.097647</td>\n",
              "      <td>-0.486753</td>\n",
              "      <td>-0.214944</td>\n",
              "      <td>-0.097986</td>\n",
              "      <td>0.256457</td>\n",
              "      <td>0</td>\n",
              "      <td>d+6</td>\n",
              "    </tr>\n",
              "    <tr>\n",
              "      <th>6</th>\n",
              "      <td>-0.031715</td>\n",
              "      <td>-0.007417</td>\n",
              "      <td>-0.002838</td>\n",
              "      <td>0.005094</td>\n",
              "      <td>0.001087</td>\n",
              "      <td>-0.032698</td>\n",
              "      <td>-0.006187</td>\n",
              "      <td>-0.110933</td>\n",
              "      <td>-0.004853</td>\n",
              "      <td>-0.013947</td>\n",
              "      <td>...</td>\n",
              "      <td>-0.013780</td>\n",
              "      <td>-0.016391</td>\n",
              "      <td>-0.018313</td>\n",
              "      <td>-0.012324</td>\n",
              "      <td>-0.038164</td>\n",
              "      <td>-0.067220</td>\n",
              "      <td>-0.022108</td>\n",
              "      <td>0.030846</td>\n",
              "      <td>0</td>\n",
              "      <td>d+7</td>\n",
              "    </tr>\n",
              "    <tr>\n",
              "      <th>7</th>\n",
              "      <td>-0.177964</td>\n",
              "      <td>-0.018974</td>\n",
              "      <td>-0.120942</td>\n",
              "      <td>0.036069</td>\n",
              "      <td>-0.021615</td>\n",
              "      <td>-0.276889</td>\n",
              "      <td>-0.001577</td>\n",
              "      <td>-0.207778</td>\n",
              "      <td>-0.048414</td>\n",
              "      <td>-0.242179</td>\n",
              "      <td>...</td>\n",
              "      <td>-0.240018</td>\n",
              "      <td>-0.068999</td>\n",
              "      <td>-0.190552</td>\n",
              "      <td>-0.136852</td>\n",
              "      <td>-0.498316</td>\n",
              "      <td>-0.235125</td>\n",
              "      <td>-0.095846</td>\n",
              "      <td>0.139095</td>\n",
              "      <td>0</td>\n",
              "      <td>d+8</td>\n",
              "    </tr>\n",
              "    <tr>\n",
              "      <th>8</th>\n",
              "      <td>-0.133055</td>\n",
              "      <td>-0.033295</td>\n",
              "      <td>-0.439307</td>\n",
              "      <td>0.038494</td>\n",
              "      <td>-0.016826</td>\n",
              "      <td>-0.260020</td>\n",
              "      <td>-0.005457</td>\n",
              "      <td>-0.228370</td>\n",
              "      <td>-0.056044</td>\n",
              "      <td>-0.195950</td>\n",
              "      <td>...</td>\n",
              "      <td>-0.246473</td>\n",
              "      <td>-0.111511</td>\n",
              "      <td>-0.202284</td>\n",
              "      <td>-0.134165</td>\n",
              "      <td>-0.467255</td>\n",
              "      <td>-0.254191</td>\n",
              "      <td>-0.102232</td>\n",
              "      <td>0.183768</td>\n",
              "      <td>0</td>\n",
              "      <td>d+9</td>\n",
              "    </tr>\n",
              "    <tr>\n",
              "      <th>9</th>\n",
              "      <td>-0.159071</td>\n",
              "      <td>-0.030165</td>\n",
              "      <td>-0.061893</td>\n",
              "      <td>0.032317</td>\n",
              "      <td>-0.016809</td>\n",
              "      <td>-0.261615</td>\n",
              "      <td>-0.011296</td>\n",
              "      <td>-0.218027</td>\n",
              "      <td>-0.058275</td>\n",
              "      <td>-0.234791</td>\n",
              "      <td>...</td>\n",
              "      <td>-0.299065</td>\n",
              "      <td>-0.162479</td>\n",
              "      <td>-0.157816</td>\n",
              "      <td>-0.116226</td>\n",
              "      <td>-0.517856</td>\n",
              "      <td>-0.266871</td>\n",
              "      <td>-0.105771</td>\n",
              "      <td>0.100202</td>\n",
              "      <td>0</td>\n",
              "      <td>d+10</td>\n",
              "    </tr>\n",
              "    <tr>\n",
              "      <th>10</th>\n",
              "      <td>-0.121724</td>\n",
              "      <td>-0.028501</td>\n",
              "      <td>-0.247520</td>\n",
              "      <td>0.033044</td>\n",
              "      <td>-0.013920</td>\n",
              "      <td>-0.257713</td>\n",
              "      <td>-0.003639</td>\n",
              "      <td>-0.213585</td>\n",
              "      <td>-0.051542</td>\n",
              "      <td>-0.121757</td>\n",
              "      <td>...</td>\n",
              "      <td>-0.187001</td>\n",
              "      <td>-0.117616</td>\n",
              "      <td>-0.157931</td>\n",
              "      <td>-0.111682</td>\n",
              "      <td>-0.497261</td>\n",
              "      <td>-0.265858</td>\n",
              "      <td>-0.090614</td>\n",
              "      <td>0.219532</td>\n",
              "      <td>0</td>\n",
              "      <td>d+11</td>\n",
              "    </tr>\n",
              "    <tr>\n",
              "      <th>11</th>\n",
              "      <td>-0.151507</td>\n",
              "      <td>-0.016738</td>\n",
              "      <td>0.281896</td>\n",
              "      <td>0.034768</td>\n",
              "      <td>-0.012649</td>\n",
              "      <td>-0.257485</td>\n",
              "      <td>-0.002285</td>\n",
              "      <td>-0.217219</td>\n",
              "      <td>-0.043098</td>\n",
              "      <td>-0.154987</td>\n",
              "      <td>...</td>\n",
              "      <td>0.014974</td>\n",
              "      <td>-0.033024</td>\n",
              "      <td>-0.177113</td>\n",
              "      <td>-0.127878</td>\n",
              "      <td>-0.467206</td>\n",
              "      <td>-0.252551</td>\n",
              "      <td>-0.100194</td>\n",
              "      <td>0.096324</td>\n",
              "      <td>0</td>\n",
              "      <td>d+12</td>\n",
              "    </tr>\n",
              "    <tr>\n",
              "      <th>12</th>\n",
              "      <td>-0.167546</td>\n",
              "      <td>-0.014249</td>\n",
              "      <td>-0.003911</td>\n",
              "      <td>0.034306</td>\n",
              "      <td>-0.015102</td>\n",
              "      <td>-0.269799</td>\n",
              "      <td>-0.005710</td>\n",
              "      <td>-0.184460</td>\n",
              "      <td>-0.037370</td>\n",
              "      <td>-0.109642</td>\n",
              "      <td>...</td>\n",
              "      <td>0.165635</td>\n",
              "      <td>-0.076472</td>\n",
              "      <td>-0.147821</td>\n",
              "      <td>-0.099237</td>\n",
              "      <td>-0.473379</td>\n",
              "      <td>-0.224113</td>\n",
              "      <td>-0.099239</td>\n",
              "      <td>0.246221</td>\n",
              "      <td>0</td>\n",
              "      <td>d+13</td>\n",
              "    </tr>\n",
              "    <tr>\n",
              "      <th>13</th>\n",
              "      <td>-0.032720</td>\n",
              "      <td>-0.006867</td>\n",
              "      <td>0.014291</td>\n",
              "      <td>0.004246</td>\n",
              "      <td>0.002114</td>\n",
              "      <td>-0.034463</td>\n",
              "      <td>-0.002712</td>\n",
              "      <td>-0.105622</td>\n",
              "      <td>-0.002988</td>\n",
              "      <td>-0.009212</td>\n",
              "      <td>...</td>\n",
              "      <td>0.006440</td>\n",
              "      <td>-0.014009</td>\n",
              "      <td>-0.019266</td>\n",
              "      <td>-0.008676</td>\n",
              "      <td>-0.032014</td>\n",
              "      <td>-0.086189</td>\n",
              "      <td>-0.026020</td>\n",
              "      <td>0.017706</td>\n",
              "      <td>0</td>\n",
              "      <td>d+14</td>\n",
              "    </tr>\n",
              "    <tr>\n",
              "      <th>14</th>\n",
              "      <td>-0.123899</td>\n",
              "      <td>-0.024823</td>\n",
              "      <td>-0.100996</td>\n",
              "      <td>0.030045</td>\n",
              "      <td>-0.015074</td>\n",
              "      <td>-0.199694</td>\n",
              "      <td>0.001353</td>\n",
              "      <td>-0.183049</td>\n",
              "      <td>-0.041154</td>\n",
              "      <td>-0.144911</td>\n",
              "      <td>...</td>\n",
              "      <td>-0.105591</td>\n",
              "      <td>-0.072879</td>\n",
              "      <td>-0.128993</td>\n",
              "      <td>-0.104129</td>\n",
              "      <td>-0.377326</td>\n",
              "      <td>-0.226644</td>\n",
              "      <td>-0.087886</td>\n",
              "      <td>0.147888</td>\n",
              "      <td>0</td>\n",
              "      <td>d+22 ~ 28 평균</td>\n",
              "    </tr>\n",
              "  </tbody>\n",
              "</table>\n",
              "<p>15 rows × 39 columns</p>\n",
              "</div>"
            ],
            "text/plain": [
              "     품목0 변동률   품목1 변동률   품목2 변동률   품목3 변동률   품목4 변동률   품목5 변동률   품목6 변동률  \\\n",
              "0  -0.179058 -0.014021 -0.129700  0.041680 -0.022454 -0.270809  0.004371   \n",
              "1  -0.137675 -0.028184 -0.488700  0.043159 -0.015945 -0.266480 -0.001158   \n",
              "2  -0.170827 -0.021690 -0.083588  0.039138 -0.018345 -0.269001 -0.009432   \n",
              "3  -0.124595 -0.017689 -0.250502  0.040240 -0.014446 -0.266245 -0.005179   \n",
              "4  -0.162383 -0.004101  0.354866  0.038843 -0.012790 -0.268187  0.000610   \n",
              "5  -0.174155 -0.009369 -0.005914  0.040041 -0.018367 -0.277240 -0.009058   \n",
              "6  -0.031715 -0.007417 -0.002838  0.005094  0.001087 -0.032698 -0.006187   \n",
              "7  -0.177964 -0.018974 -0.120942  0.036069 -0.021615 -0.276889 -0.001577   \n",
              "8  -0.133055 -0.033295 -0.439307  0.038494 -0.016826 -0.260020 -0.005457   \n",
              "9  -0.159071 -0.030165 -0.061893  0.032317 -0.016809 -0.261615 -0.011296   \n",
              "10 -0.121724 -0.028501 -0.247520  0.033044 -0.013920 -0.257713 -0.003639   \n",
              "11 -0.151507 -0.016738  0.281896  0.034768 -0.012649 -0.257485 -0.002285   \n",
              "12 -0.167546 -0.014249 -0.003911  0.034306 -0.015102 -0.269799 -0.005710   \n",
              "13 -0.032720 -0.006867  0.014291  0.004246  0.002114 -0.034463 -0.002712   \n",
              "14 -0.123899 -0.024823 -0.100996  0.030045 -0.015074 -0.199694  0.001353   \n",
              "\n",
              "     품목7 변동률   품목8 변동률   품목9 변동률  ...  품목29 변동률  품목30 변동률  품목31 변동률  품목32 변동률  \\\n",
              "0  -0.192034 -0.050081 -0.244476  ... -0.230530 -0.057800 -0.212513 -0.135504   \n",
              "1  -0.219763 -0.054789 -0.197326  ... -0.259001 -0.104196 -0.231241 -0.134469   \n",
              "2  -0.220366 -0.057807 -0.244604  ... -0.304009 -0.158709 -0.191880 -0.117294   \n",
              "3  -0.222318 -0.046405 -0.119911  ... -0.185041 -0.112741 -0.190124 -0.112946   \n",
              "4  -0.219797 -0.040699 -0.159129  ... -0.005972 -0.024929 -0.207914 -0.128609   \n",
              "5  -0.198012 -0.038588 -0.112218  ...  0.137149 -0.081336 -0.174062 -0.097647   \n",
              "6  -0.110933 -0.004853 -0.013947  ... -0.013780 -0.016391 -0.018313 -0.012324   \n",
              "7  -0.207778 -0.048414 -0.242179  ... -0.240018 -0.068999 -0.190552 -0.136852   \n",
              "8  -0.228370 -0.056044 -0.195950  ... -0.246473 -0.111511 -0.202284 -0.134165   \n",
              "9  -0.218027 -0.058275 -0.234791  ... -0.299065 -0.162479 -0.157816 -0.116226   \n",
              "10 -0.213585 -0.051542 -0.121757  ... -0.187001 -0.117616 -0.157931 -0.111682   \n",
              "11 -0.217219 -0.043098 -0.154987  ...  0.014974 -0.033024 -0.177113 -0.127878   \n",
              "12 -0.184460 -0.037370 -0.109642  ...  0.165635 -0.076472 -0.147821 -0.099237   \n",
              "13 -0.105622 -0.002988 -0.009212  ...  0.006440 -0.014009 -0.019266 -0.008676   \n",
              "14 -0.183049 -0.041154 -0.144911  ... -0.105591 -0.072879 -0.128993 -0.104129   \n",
              "\n",
              "    품목33 변동률  품목34 변동률  품목35 변동률  품목36 변동률  Set            일자  \n",
              "0  -0.504801 -0.206016 -0.091885  0.124375    0           d+1  \n",
              "1  -0.485466 -0.238890 -0.099370  0.175719    0           d+2  \n",
              "2  -0.536010 -0.253845 -0.104743  0.099631    0           d+3  \n",
              "3  -0.521001 -0.254224 -0.092265  0.233124    0           d+4  \n",
              "4  -0.486432 -0.246315 -0.097872  0.098816    0           d+5  \n",
              "5  -0.486753 -0.214944 -0.097986  0.256457    0           d+6  \n",
              "6  -0.038164 -0.067220 -0.022108  0.030846    0           d+7  \n",
              "7  -0.498316 -0.235125 -0.095846  0.139095    0           d+8  \n",
              "8  -0.467255 -0.254191 -0.102232  0.183768    0           d+9  \n",
              "9  -0.517856 -0.266871 -0.105771  0.100202    0          d+10  \n",
              "10 -0.497261 -0.265858 -0.090614  0.219532    0          d+11  \n",
              "11 -0.467206 -0.252551 -0.100194  0.096324    0          d+12  \n",
              "12 -0.473379 -0.224113 -0.099239  0.246221    0          d+13  \n",
              "13 -0.032014 -0.086189 -0.026020  0.017706    0          d+14  \n",
              "14 -0.377326 -0.226644 -0.087886  0.147888    0  d+22 ~ 28 평균  \n",
              "\n",
              "[15 rows x 39 columns]"
            ]
          },
          "execution_count": 17,
          "metadata": {},
          "output_type": "execute_result"
        }
      ],
      "source": [
        "answer_df_0"
      ]
    },
    {
      "cell_type": "markdown",
      "metadata": {
        "id": "WObZCCMwJ8fi"
      },
      "source": [
        "- 정답 양식으로 변경"
      ]
    },
    {
      "cell_type": "code",
      "execution_count": 18,
      "metadata": {
        "id": "WF_5UI2wJ8fj"
      },
      "outputs": [],
      "source": [
        "# set, 일자 기억하기위해 따로 저장\n",
        "\n",
        "re_set = list(all_df['Set'])\n",
        "re_date = list(all_df['일자'])\n",
        "\n",
        "\n",
        "# 정답 양식 불러오기\n",
        "out_ans = pd.read_csv('./aT_data/answer_example.csv')\n",
        "\n",
        "# 두 dataframe 합치기 (nan + 숫자 = nan 이용)\n",
        "submit_df = all_df + out_ans\n",
        "\n",
        "submit_df['Set'] = re_set\n",
        "submit_df['일자'] = re_date\n",
        "\n",
        "\n",
        "# 최종 저장\n",
        "submit_df.to_csv(f'./submit/submit_{test_num}.csv',index=False)"
      ]
    },
    {
      "cell_type": "markdown",
      "metadata": {
        "id": "GBIveJrBJ8fn"
      },
      "source": [
        "- 계산된 변동률 결과물"
      ]
    },
    {
      "cell_type": "code",
      "execution_count": 19,
      "metadata": {
        "id": "m8fySZ0aJ8fp"
      },
      "outputs": [
        {
          "data": {
            "text/html": [
              "<div>\n",
              "<style scoped>\n",
              "    .dataframe tbody tr th:only-of-type {\n",
              "        vertical-align: middle;\n",
              "    }\n",
              "\n",
              "    .dataframe tbody tr th {\n",
              "        vertical-align: top;\n",
              "    }\n",
              "\n",
              "    .dataframe thead th {\n",
              "        text-align: right;\n",
              "    }\n",
              "</style>\n",
              "<table border=\"1\" class=\"dataframe\">\n",
              "  <thead>\n",
              "    <tr style=\"text-align: right;\">\n",
              "      <th></th>\n",
              "      <th>Set</th>\n",
              "      <th>일자</th>\n",
              "      <th>품목0 변동률</th>\n",
              "      <th>품목1 변동률</th>\n",
              "      <th>품목2 변동률</th>\n",
              "      <th>품목3 변동률</th>\n",
              "      <th>품목4 변동률</th>\n",
              "      <th>품목5 변동률</th>\n",
              "      <th>품목6 변동률</th>\n",
              "      <th>품목7 변동률</th>\n",
              "      <th>...</th>\n",
              "      <th>품목27 변동률</th>\n",
              "      <th>품목28 변동률</th>\n",
              "      <th>품목29 변동률</th>\n",
              "      <th>품목30 변동률</th>\n",
              "      <th>품목31 변동률</th>\n",
              "      <th>품목32 변동률</th>\n",
              "      <th>품목33 변동률</th>\n",
              "      <th>품목34 변동률</th>\n",
              "      <th>품목35 변동률</th>\n",
              "      <th>품목36 변동률</th>\n",
              "    </tr>\n",
              "  </thead>\n",
              "  <tbody>\n",
              "    <tr>\n",
              "      <th>0</th>\n",
              "      <td>0</td>\n",
              "      <td>d+1</td>\n",
              "      <td>-0.179058</td>\n",
              "      <td>-0.014021</td>\n",
              "      <td>-0.129700</td>\n",
              "      <td>0.041680</td>\n",
              "      <td>-0.022454</td>\n",
              "      <td>-0.270809</td>\n",
              "      <td>0.004371</td>\n",
              "      <td>-0.192034</td>\n",
              "      <td>...</td>\n",
              "      <td>-0.096366</td>\n",
              "      <td>-0.111923</td>\n",
              "      <td>-0.230530</td>\n",
              "      <td>-0.057800</td>\n",
              "      <td>-0.212513</td>\n",
              "      <td>-0.135504</td>\n",
              "      <td>-0.504801</td>\n",
              "      <td>-0.206016</td>\n",
              "      <td>-0.091885</td>\n",
              "      <td>0.124375</td>\n",
              "    </tr>\n",
              "    <tr>\n",
              "      <th>1</th>\n",
              "      <td>0</td>\n",
              "      <td>d+2</td>\n",
              "      <td>-0.137675</td>\n",
              "      <td>-0.028184</td>\n",
              "      <td>-0.488700</td>\n",
              "      <td>0.043159</td>\n",
              "      <td>-0.015945</td>\n",
              "      <td>-0.266480</td>\n",
              "      <td>-0.001158</td>\n",
              "      <td>-0.219763</td>\n",
              "      <td>...</td>\n",
              "      <td>-0.112061</td>\n",
              "      <td>-0.165845</td>\n",
              "      <td>-0.259001</td>\n",
              "      <td>-0.104196</td>\n",
              "      <td>-0.231241</td>\n",
              "      <td>-0.134469</td>\n",
              "      <td>-0.485466</td>\n",
              "      <td>-0.238890</td>\n",
              "      <td>-0.099370</td>\n",
              "      <td>0.175719</td>\n",
              "    </tr>\n",
              "    <tr>\n",
              "      <th>2</th>\n",
              "      <td>0</td>\n",
              "      <td>d+3</td>\n",
              "      <td>-0.170827</td>\n",
              "      <td>-0.021690</td>\n",
              "      <td>-0.083588</td>\n",
              "      <td>0.039138</td>\n",
              "      <td>-0.018345</td>\n",
              "      <td>-0.269001</td>\n",
              "      <td>-0.009432</td>\n",
              "      <td>-0.220366</td>\n",
              "      <td>...</td>\n",
              "      <td>-0.126881</td>\n",
              "      <td>-0.196586</td>\n",
              "      <td>-0.304009</td>\n",
              "      <td>-0.158709</td>\n",
              "      <td>-0.191880</td>\n",
              "      <td>-0.117294</td>\n",
              "      <td>-0.536010</td>\n",
              "      <td>-0.253845</td>\n",
              "      <td>-0.104743</td>\n",
              "      <td>0.099631</td>\n",
              "    </tr>\n",
              "    <tr>\n",
              "      <th>3</th>\n",
              "      <td>0</td>\n",
              "      <td>d+4</td>\n",
              "      <td>-0.124595</td>\n",
              "      <td>-0.017689</td>\n",
              "      <td>-0.250502</td>\n",
              "      <td>0.040240</td>\n",
              "      <td>-0.014446</td>\n",
              "      <td>-0.266245</td>\n",
              "      <td>-0.005179</td>\n",
              "      <td>-0.222318</td>\n",
              "      <td>...</td>\n",
              "      <td>-0.124110</td>\n",
              "      <td>-0.201991</td>\n",
              "      <td>-0.185041</td>\n",
              "      <td>-0.112741</td>\n",
              "      <td>-0.190124</td>\n",
              "      <td>-0.112946</td>\n",
              "      <td>-0.521001</td>\n",
              "      <td>-0.254224</td>\n",
              "      <td>-0.092265</td>\n",
              "      <td>0.233124</td>\n",
              "    </tr>\n",
              "    <tr>\n",
              "      <th>4</th>\n",
              "      <td>0</td>\n",
              "      <td>d+5</td>\n",
              "      <td>-0.162383</td>\n",
              "      <td>-0.004101</td>\n",
              "      <td>0.354866</td>\n",
              "      <td>0.038843</td>\n",
              "      <td>-0.012790</td>\n",
              "      <td>-0.268187</td>\n",
              "      <td>0.000610</td>\n",
              "      <td>-0.219797</td>\n",
              "      <td>...</td>\n",
              "      <td>-0.111449</td>\n",
              "      <td>-0.164800</td>\n",
              "      <td>-0.005972</td>\n",
              "      <td>-0.024929</td>\n",
              "      <td>-0.207914</td>\n",
              "      <td>-0.128609</td>\n",
              "      <td>-0.486432</td>\n",
              "      <td>-0.246315</td>\n",
              "      <td>-0.097872</td>\n",
              "      <td>0.098816</td>\n",
              "    </tr>\n",
              "    <tr>\n",
              "      <th>...</th>\n",
              "      <td>...</td>\n",
              "      <td>...</td>\n",
              "      <td>...</td>\n",
              "      <td>...</td>\n",
              "      <td>...</td>\n",
              "      <td>...</td>\n",
              "      <td>...</td>\n",
              "      <td>...</td>\n",
              "      <td>...</td>\n",
              "      <td>...</td>\n",
              "      <td>...</td>\n",
              "      <td>...</td>\n",
              "      <td>...</td>\n",
              "      <td>...</td>\n",
              "      <td>...</td>\n",
              "      <td>...</td>\n",
              "      <td>...</td>\n",
              "      <td>...</td>\n",
              "      <td>...</td>\n",
              "      <td>...</td>\n",
              "      <td>...</td>\n",
              "    </tr>\n",
              "    <tr>\n",
              "      <th>145</th>\n",
              "      <td>9</td>\n",
              "      <td>d+11</td>\n",
              "      <td>-0.017169</td>\n",
              "      <td>-0.090603</td>\n",
              "      <td>-0.111864</td>\n",
              "      <td>-0.147927</td>\n",
              "      <td>0.075078</td>\n",
              "      <td>0.276018</td>\n",
              "      <td>-0.003979</td>\n",
              "      <td>NaN</td>\n",
              "      <td>...</td>\n",
              "      <td>0.100819</td>\n",
              "      <td>0.604327</td>\n",
              "      <td>-0.193293</td>\n",
              "      <td>-0.058679</td>\n",
              "      <td>-0.169903</td>\n",
              "      <td>0.220468</td>\n",
              "      <td>-0.070613</td>\n",
              "      <td>-0.019520</td>\n",
              "      <td>-0.353669</td>\n",
              "      <td>-0.163980</td>\n",
              "    </tr>\n",
              "    <tr>\n",
              "      <th>146</th>\n",
              "      <td>9</td>\n",
              "      <td>d+12</td>\n",
              "      <td>-0.024144</td>\n",
              "      <td>-0.094108</td>\n",
              "      <td>-0.306029</td>\n",
              "      <td>-0.135757</td>\n",
              "      <td>0.064877</td>\n",
              "      <td>0.288518</td>\n",
              "      <td>-0.003099</td>\n",
              "      <td>NaN</td>\n",
              "      <td>...</td>\n",
              "      <td>0.088553</td>\n",
              "      <td>0.536768</td>\n",
              "      <td>-0.037298</td>\n",
              "      <td>-0.122545</td>\n",
              "      <td>-0.188561</td>\n",
              "      <td>0.239831</td>\n",
              "      <td>-0.085954</td>\n",
              "      <td>-0.022283</td>\n",
              "      <td>-0.350705</td>\n",
              "      <td>-0.149029</td>\n",
              "    </tr>\n",
              "    <tr>\n",
              "      <th>147</th>\n",
              "      <td>9</td>\n",
              "      <td>d+13</td>\n",
              "      <td>-0.026520</td>\n",
              "      <td>-0.079615</td>\n",
              "      <td>-0.288377</td>\n",
              "      <td>-0.123810</td>\n",
              "      <td>0.061390</td>\n",
              "      <td>0.282827</td>\n",
              "      <td>-0.005296</td>\n",
              "      <td>NaN</td>\n",
              "      <td>...</td>\n",
              "      <td>0.067761</td>\n",
              "      <td>0.283808</td>\n",
              "      <td>-0.053329</td>\n",
              "      <td>-0.056917</td>\n",
              "      <td>-0.161215</td>\n",
              "      <td>0.204126</td>\n",
              "      <td>-0.064020</td>\n",
              "      <td>-0.007540</td>\n",
              "      <td>-0.354855</td>\n",
              "      <td>-0.189833</td>\n",
              "    </tr>\n",
              "    <tr>\n",
              "      <th>148</th>\n",
              "      <td>9</td>\n",
              "      <td>d+14</td>\n",
              "      <td>-0.003816</td>\n",
              "      <td>-0.016804</td>\n",
              "      <td>-0.043378</td>\n",
              "      <td>-0.048815</td>\n",
              "      <td>0.027020</td>\n",
              "      <td>0.032157</td>\n",
              "      <td>-0.004542</td>\n",
              "      <td>NaN</td>\n",
              "      <td>...</td>\n",
              "      <td>0.017109</td>\n",
              "      <td>0.166281</td>\n",
              "      <td>-0.011387</td>\n",
              "      <td>-0.011001</td>\n",
              "      <td>-0.019464</td>\n",
              "      <td>0.016681</td>\n",
              "      <td>0.017832</td>\n",
              "      <td>-0.011578</td>\n",
              "      <td>-0.092571</td>\n",
              "      <td>-0.030373</td>\n",
              "    </tr>\n",
              "    <tr>\n",
              "      <th>149</th>\n",
              "      <td>9</td>\n",
              "      <td>d+22 ~ 28 평균</td>\n",
              "      <td>-0.021974</td>\n",
              "      <td>-0.073398</td>\n",
              "      <td>-0.259865</td>\n",
              "      <td>-0.118612</td>\n",
              "      <td>0.049064</td>\n",
              "      <td>0.212840</td>\n",
              "      <td>-0.002036</td>\n",
              "      <td>NaN</td>\n",
              "      <td>...</td>\n",
              "      <td>0.065849</td>\n",
              "      <td>0.237898</td>\n",
              "      <td>-0.132242</td>\n",
              "      <td>-0.079374</td>\n",
              "      <td>-0.137633</td>\n",
              "      <td>0.175825</td>\n",
              "      <td>-0.046020</td>\n",
              "      <td>-0.025628</td>\n",
              "      <td>-0.323161</td>\n",
              "      <td>-0.145692</td>\n",
              "    </tr>\n",
              "  </tbody>\n",
              "</table>\n",
              "<p>150 rows × 39 columns</p>\n",
              "</div>"
            ],
            "text/plain": [
              "     Set            일자   품목0 변동률   품목1 변동률   품목2 변동률   품목3 변동률   품목4 변동률  \\\n",
              "0      0           d+1 -0.179058 -0.014021 -0.129700  0.041680 -0.022454   \n",
              "1      0           d+2 -0.137675 -0.028184 -0.488700  0.043159 -0.015945   \n",
              "2      0           d+3 -0.170827 -0.021690 -0.083588  0.039138 -0.018345   \n",
              "3      0           d+4 -0.124595 -0.017689 -0.250502  0.040240 -0.014446   \n",
              "4      0           d+5 -0.162383 -0.004101  0.354866  0.038843 -0.012790   \n",
              "..   ...           ...       ...       ...       ...       ...       ...   \n",
              "145    9          d+11 -0.017169 -0.090603 -0.111864 -0.147927  0.075078   \n",
              "146    9          d+12 -0.024144 -0.094108 -0.306029 -0.135757  0.064877   \n",
              "147    9          d+13 -0.026520 -0.079615 -0.288377 -0.123810  0.061390   \n",
              "148    9          d+14 -0.003816 -0.016804 -0.043378 -0.048815  0.027020   \n",
              "149    9  d+22 ~ 28 평균 -0.021974 -0.073398 -0.259865 -0.118612  0.049064   \n",
              "\n",
              "      품목5 변동률   품목6 변동률   품목7 변동률  ...  품목27 변동률  품목28 변동률  품목29 변동률  \\\n",
              "0   -0.270809  0.004371 -0.192034  ... -0.096366 -0.111923 -0.230530   \n",
              "1   -0.266480 -0.001158 -0.219763  ... -0.112061 -0.165845 -0.259001   \n",
              "2   -0.269001 -0.009432 -0.220366  ... -0.126881 -0.196586 -0.304009   \n",
              "3   -0.266245 -0.005179 -0.222318  ... -0.124110 -0.201991 -0.185041   \n",
              "4   -0.268187  0.000610 -0.219797  ... -0.111449 -0.164800 -0.005972   \n",
              "..        ...       ...       ...  ...       ...       ...       ...   \n",
              "145  0.276018 -0.003979       NaN  ...  0.100819  0.604327 -0.193293   \n",
              "146  0.288518 -0.003099       NaN  ...  0.088553  0.536768 -0.037298   \n",
              "147  0.282827 -0.005296       NaN  ...  0.067761  0.283808 -0.053329   \n",
              "148  0.032157 -0.004542       NaN  ...  0.017109  0.166281 -0.011387   \n",
              "149  0.212840 -0.002036       NaN  ...  0.065849  0.237898 -0.132242   \n",
              "\n",
              "     품목30 변동률  품목31 변동률  품목32 변동률  품목33 변동률  품목34 변동률  품목35 변동률  품목36 변동률  \n",
              "0   -0.057800 -0.212513 -0.135504 -0.504801 -0.206016 -0.091885  0.124375  \n",
              "1   -0.104196 -0.231241 -0.134469 -0.485466 -0.238890 -0.099370  0.175719  \n",
              "2   -0.158709 -0.191880 -0.117294 -0.536010 -0.253845 -0.104743  0.099631  \n",
              "3   -0.112741 -0.190124 -0.112946 -0.521001 -0.254224 -0.092265  0.233124  \n",
              "4   -0.024929 -0.207914 -0.128609 -0.486432 -0.246315 -0.097872  0.098816  \n",
              "..        ...       ...       ...       ...       ...       ...       ...  \n",
              "145 -0.058679 -0.169903  0.220468 -0.070613 -0.019520 -0.353669 -0.163980  \n",
              "146 -0.122545 -0.188561  0.239831 -0.085954 -0.022283 -0.350705 -0.149029  \n",
              "147 -0.056917 -0.161215  0.204126 -0.064020 -0.007540 -0.354855 -0.189833  \n",
              "148 -0.011001 -0.019464  0.016681  0.017832 -0.011578 -0.092571 -0.030373  \n",
              "149 -0.079374 -0.137633  0.175825 -0.046020 -0.025628 -0.323161 -0.145692  \n",
              "\n",
              "[150 rows x 39 columns]"
            ]
          },
          "execution_count": 19,
          "metadata": {},
          "output_type": "execute_result"
        }
      ],
      "source": [
        "all_df"
      ]
    },
    {
      "cell_type": "markdown",
      "metadata": {
        "id": "-OCf5arQJ8fq"
      },
      "source": [
        "- 제출 양식"
      ]
    },
    {
      "cell_type": "code",
      "execution_count": 20,
      "metadata": {
        "id": "9gI2ehAsJ8fq"
      },
      "outputs": [
        {
          "data": {
            "text/html": [
              "<div>\n",
              "<style scoped>\n",
              "    .dataframe tbody tr th:only-of-type {\n",
              "        vertical-align: middle;\n",
              "    }\n",
              "\n",
              "    .dataframe tbody tr th {\n",
              "        vertical-align: top;\n",
              "    }\n",
              "\n",
              "    .dataframe thead th {\n",
              "        text-align: right;\n",
              "    }\n",
              "</style>\n",
              "<table border=\"1\" class=\"dataframe\">\n",
              "  <thead>\n",
              "    <tr style=\"text-align: right;\">\n",
              "      <th></th>\n",
              "      <th>Set</th>\n",
              "      <th>일자</th>\n",
              "      <th>품목0 변동률</th>\n",
              "      <th>품목1 변동률</th>\n",
              "      <th>품목2 변동률</th>\n",
              "      <th>품목3 변동률</th>\n",
              "      <th>품목4 변동률</th>\n",
              "      <th>품목5 변동률</th>\n",
              "      <th>품목6 변동률</th>\n",
              "      <th>품목7 변동률</th>\n",
              "      <th>...</th>\n",
              "      <th>품목27 변동률</th>\n",
              "      <th>품목28 변동률</th>\n",
              "      <th>품목29 변동률</th>\n",
              "      <th>품목30 변동률</th>\n",
              "      <th>품목31 변동률</th>\n",
              "      <th>품목32 변동률</th>\n",
              "      <th>품목33 변동률</th>\n",
              "      <th>품목34 변동률</th>\n",
              "      <th>품목35 변동률</th>\n",
              "      <th>품목36 변동률</th>\n",
              "    </tr>\n",
              "  </thead>\n",
              "  <tbody>\n",
              "    <tr>\n",
              "      <th>0</th>\n",
              "      <td>0</td>\n",
              "      <td>d+1</td>\n",
              "      <td>0.0</td>\n",
              "      <td>0.0</td>\n",
              "      <td>0.0</td>\n",
              "      <td>0.0</td>\n",
              "      <td>0.0</td>\n",
              "      <td>0.0</td>\n",
              "      <td>0.0</td>\n",
              "      <td>0.0</td>\n",
              "      <td>...</td>\n",
              "      <td>0.0</td>\n",
              "      <td>0.0</td>\n",
              "      <td>0.0</td>\n",
              "      <td>0.0</td>\n",
              "      <td>0.0</td>\n",
              "      <td>0.0</td>\n",
              "      <td>0.0</td>\n",
              "      <td>0.0</td>\n",
              "      <td>0.0</td>\n",
              "      <td>0.0</td>\n",
              "    </tr>\n",
              "    <tr>\n",
              "      <th>1</th>\n",
              "      <td>0</td>\n",
              "      <td>d+2</td>\n",
              "      <td>0.0</td>\n",
              "      <td>0.0</td>\n",
              "      <td>0.0</td>\n",
              "      <td>0.0</td>\n",
              "      <td>0.0</td>\n",
              "      <td>0.0</td>\n",
              "      <td>NaN</td>\n",
              "      <td>0.0</td>\n",
              "      <td>...</td>\n",
              "      <td>0.0</td>\n",
              "      <td>0.0</td>\n",
              "      <td>0.0</td>\n",
              "      <td>0.0</td>\n",
              "      <td>0.0</td>\n",
              "      <td>0.0</td>\n",
              "      <td>0.0</td>\n",
              "      <td>0.0</td>\n",
              "      <td>0.0</td>\n",
              "      <td>0.0</td>\n",
              "    </tr>\n",
              "    <tr>\n",
              "      <th>2</th>\n",
              "      <td>0</td>\n",
              "      <td>d+3</td>\n",
              "      <td>NaN</td>\n",
              "      <td>NaN</td>\n",
              "      <td>NaN</td>\n",
              "      <td>NaN</td>\n",
              "      <td>NaN</td>\n",
              "      <td>NaN</td>\n",
              "      <td>0.0</td>\n",
              "      <td>NaN</td>\n",
              "      <td>...</td>\n",
              "      <td>NaN</td>\n",
              "      <td>NaN</td>\n",
              "      <td>NaN</td>\n",
              "      <td>NaN</td>\n",
              "      <td>NaN</td>\n",
              "      <td>NaN</td>\n",
              "      <td>NaN</td>\n",
              "      <td>NaN</td>\n",
              "      <td>NaN</td>\n",
              "      <td>NaN</td>\n",
              "    </tr>\n",
              "    <tr>\n",
              "      <th>3</th>\n",
              "      <td>0</td>\n",
              "      <td>d+4</td>\n",
              "      <td>0.0</td>\n",
              "      <td>0.0</td>\n",
              "      <td>0.0</td>\n",
              "      <td>0.0</td>\n",
              "      <td>0.0</td>\n",
              "      <td>0.0</td>\n",
              "      <td>NaN</td>\n",
              "      <td>0.0</td>\n",
              "      <td>...</td>\n",
              "      <td>0.0</td>\n",
              "      <td>0.0</td>\n",
              "      <td>0.0</td>\n",
              "      <td>0.0</td>\n",
              "      <td>0.0</td>\n",
              "      <td>0.0</td>\n",
              "      <td>0.0</td>\n",
              "      <td>0.0</td>\n",
              "      <td>0.0</td>\n",
              "      <td>0.0</td>\n",
              "    </tr>\n",
              "    <tr>\n",
              "      <th>4</th>\n",
              "      <td>0</td>\n",
              "      <td>d+5</td>\n",
              "      <td>0.0</td>\n",
              "      <td>0.0</td>\n",
              "      <td>0.0</td>\n",
              "      <td>0.0</td>\n",
              "      <td>0.0</td>\n",
              "      <td>0.0</td>\n",
              "      <td>NaN</td>\n",
              "      <td>0.0</td>\n",
              "      <td>...</td>\n",
              "      <td>0.0</td>\n",
              "      <td>0.0</td>\n",
              "      <td>0.0</td>\n",
              "      <td>0.0</td>\n",
              "      <td>0.0</td>\n",
              "      <td>0.0</td>\n",
              "      <td>0.0</td>\n",
              "      <td>0.0</td>\n",
              "      <td>0.0</td>\n",
              "      <td>0.0</td>\n",
              "    </tr>\n",
              "    <tr>\n",
              "      <th>...</th>\n",
              "      <td>...</td>\n",
              "      <td>...</td>\n",
              "      <td>...</td>\n",
              "      <td>...</td>\n",
              "      <td>...</td>\n",
              "      <td>...</td>\n",
              "      <td>...</td>\n",
              "      <td>...</td>\n",
              "      <td>...</td>\n",
              "      <td>...</td>\n",
              "      <td>...</td>\n",
              "      <td>...</td>\n",
              "      <td>...</td>\n",
              "      <td>...</td>\n",
              "      <td>...</td>\n",
              "      <td>...</td>\n",
              "      <td>...</td>\n",
              "      <td>...</td>\n",
              "      <td>...</td>\n",
              "      <td>...</td>\n",
              "      <td>...</td>\n",
              "    </tr>\n",
              "    <tr>\n",
              "      <th>145</th>\n",
              "      <td>9</td>\n",
              "      <td>d+11</td>\n",
              "      <td>0.0</td>\n",
              "      <td>0.0</td>\n",
              "      <td>0.0</td>\n",
              "      <td>0.0</td>\n",
              "      <td>0.0</td>\n",
              "      <td>0.0</td>\n",
              "      <td>0.0</td>\n",
              "      <td>NaN</td>\n",
              "      <td>...</td>\n",
              "      <td>0.0</td>\n",
              "      <td>0.0</td>\n",
              "      <td>0.0</td>\n",
              "      <td>0.0</td>\n",
              "      <td>0.0</td>\n",
              "      <td>0.0</td>\n",
              "      <td>0.0</td>\n",
              "      <td>0.0</td>\n",
              "      <td>0.0</td>\n",
              "      <td>0.0</td>\n",
              "    </tr>\n",
              "    <tr>\n",
              "      <th>146</th>\n",
              "      <td>9</td>\n",
              "      <td>d+12</td>\n",
              "      <td>0.0</td>\n",
              "      <td>0.0</td>\n",
              "      <td>0.0</td>\n",
              "      <td>0.0</td>\n",
              "      <td>0.0</td>\n",
              "      <td>0.0</td>\n",
              "      <td>0.0</td>\n",
              "      <td>NaN</td>\n",
              "      <td>...</td>\n",
              "      <td>0.0</td>\n",
              "      <td>0.0</td>\n",
              "      <td>0.0</td>\n",
              "      <td>0.0</td>\n",
              "      <td>0.0</td>\n",
              "      <td>0.0</td>\n",
              "      <td>0.0</td>\n",
              "      <td>0.0</td>\n",
              "      <td>0.0</td>\n",
              "      <td>0.0</td>\n",
              "    </tr>\n",
              "    <tr>\n",
              "      <th>147</th>\n",
              "      <td>9</td>\n",
              "      <td>d+13</td>\n",
              "      <td>0.0</td>\n",
              "      <td>0.0</td>\n",
              "      <td>0.0</td>\n",
              "      <td>0.0</td>\n",
              "      <td>0.0</td>\n",
              "      <td>0.0</td>\n",
              "      <td>0.0</td>\n",
              "      <td>NaN</td>\n",
              "      <td>...</td>\n",
              "      <td>0.0</td>\n",
              "      <td>0.0</td>\n",
              "      <td>0.0</td>\n",
              "      <td>0.0</td>\n",
              "      <td>0.0</td>\n",
              "      <td>0.0</td>\n",
              "      <td>0.0</td>\n",
              "      <td>0.0</td>\n",
              "      <td>0.0</td>\n",
              "      <td>0.0</td>\n",
              "    </tr>\n",
              "    <tr>\n",
              "      <th>148</th>\n",
              "      <td>9</td>\n",
              "      <td>d+14</td>\n",
              "      <td>0.0</td>\n",
              "      <td>0.0</td>\n",
              "      <td>0.0</td>\n",
              "      <td>0.0</td>\n",
              "      <td>0.0</td>\n",
              "      <td>0.0</td>\n",
              "      <td>0.0</td>\n",
              "      <td>NaN</td>\n",
              "      <td>...</td>\n",
              "      <td>0.0</td>\n",
              "      <td>0.0</td>\n",
              "      <td>0.0</td>\n",
              "      <td>0.0</td>\n",
              "      <td>0.0</td>\n",
              "      <td>0.0</td>\n",
              "      <td>0.0</td>\n",
              "      <td>0.0</td>\n",
              "      <td>0.0</td>\n",
              "      <td>0.0</td>\n",
              "    </tr>\n",
              "    <tr>\n",
              "      <th>149</th>\n",
              "      <td>9</td>\n",
              "      <td>d+22 ~ 28 평균</td>\n",
              "      <td>0.0</td>\n",
              "      <td>0.0</td>\n",
              "      <td>0.0</td>\n",
              "      <td>0.0</td>\n",
              "      <td>0.0</td>\n",
              "      <td>0.0</td>\n",
              "      <td>NaN</td>\n",
              "      <td>NaN</td>\n",
              "      <td>...</td>\n",
              "      <td>0.0</td>\n",
              "      <td>0.0</td>\n",
              "      <td>0.0</td>\n",
              "      <td>0.0</td>\n",
              "      <td>0.0</td>\n",
              "      <td>0.0</td>\n",
              "      <td>0.0</td>\n",
              "      <td>0.0</td>\n",
              "      <td>0.0</td>\n",
              "      <td>0.0</td>\n",
              "    </tr>\n",
              "  </tbody>\n",
              "</table>\n",
              "<p>150 rows × 39 columns</p>\n",
              "</div>"
            ],
            "text/plain": [
              "     Set            일자  품목0 변동률  품목1 변동률  품목2 변동률  품목3 변동률  품목4 변동률  품목5 변동률  \\\n",
              "0      0           d+1      0.0      0.0      0.0      0.0      0.0      0.0   \n",
              "1      0           d+2      0.0      0.0      0.0      0.0      0.0      0.0   \n",
              "2      0           d+3      NaN      NaN      NaN      NaN      NaN      NaN   \n",
              "3      0           d+4      0.0      0.0      0.0      0.0      0.0      0.0   \n",
              "4      0           d+5      0.0      0.0      0.0      0.0      0.0      0.0   \n",
              "..   ...           ...      ...      ...      ...      ...      ...      ...   \n",
              "145    9          d+11      0.0      0.0      0.0      0.0      0.0      0.0   \n",
              "146    9          d+12      0.0      0.0      0.0      0.0      0.0      0.0   \n",
              "147    9          d+13      0.0      0.0      0.0      0.0      0.0      0.0   \n",
              "148    9          d+14      0.0      0.0      0.0      0.0      0.0      0.0   \n",
              "149    9  d+22 ~ 28 평균      0.0      0.0      0.0      0.0      0.0      0.0   \n",
              "\n",
              "     품목6 변동률  품목7 변동률  ...  품목27 변동률  품목28 변동률  품목29 변동률  품목30 변동률  품목31 변동률  \\\n",
              "0        0.0      0.0  ...       0.0       0.0       0.0       0.0       0.0   \n",
              "1        NaN      0.0  ...       0.0       0.0       0.0       0.0       0.0   \n",
              "2        0.0      NaN  ...       NaN       NaN       NaN       NaN       NaN   \n",
              "3        NaN      0.0  ...       0.0       0.0       0.0       0.0       0.0   \n",
              "4        NaN      0.0  ...       0.0       0.0       0.0       0.0       0.0   \n",
              "..       ...      ...  ...       ...       ...       ...       ...       ...   \n",
              "145      0.0      NaN  ...       0.0       0.0       0.0       0.0       0.0   \n",
              "146      0.0      NaN  ...       0.0       0.0       0.0       0.0       0.0   \n",
              "147      0.0      NaN  ...       0.0       0.0       0.0       0.0       0.0   \n",
              "148      0.0      NaN  ...       0.0       0.0       0.0       0.0       0.0   \n",
              "149      NaN      NaN  ...       0.0       0.0       0.0       0.0       0.0   \n",
              "\n",
              "     품목32 변동률  품목33 변동률  품목34 변동률  품목35 변동률  품목36 변동률  \n",
              "0         0.0       0.0       0.0       0.0       0.0  \n",
              "1         0.0       0.0       0.0       0.0       0.0  \n",
              "2         NaN       NaN       NaN       NaN       NaN  \n",
              "3         0.0       0.0       0.0       0.0       0.0  \n",
              "4         0.0       0.0       0.0       0.0       0.0  \n",
              "..        ...       ...       ...       ...       ...  \n",
              "145       0.0       0.0       0.0       0.0       0.0  \n",
              "146       0.0       0.0       0.0       0.0       0.0  \n",
              "147       0.0       0.0       0.0       0.0       0.0  \n",
              "148       0.0       0.0       0.0       0.0       0.0  \n",
              "149       0.0       0.0       0.0       0.0       0.0  \n",
              "\n",
              "[150 rows x 39 columns]"
            ]
          },
          "execution_count": 20,
          "metadata": {},
          "output_type": "execute_result"
        }
      ],
      "source": [
        "out_ans"
      ]
    },
    {
      "cell_type": "markdown",
      "metadata": {
        "id": "PwVuAQnjJ8fs"
      },
      "source": [
        "- 제출 양식 반영한 최종 결과물 (**실 제출용**)"
      ]
    },
    {
      "cell_type": "code",
      "execution_count": 21,
      "metadata": {
        "id": "01gJL4kXJ8fs"
      },
      "outputs": [
        {
          "data": {
            "text/html": [
              "<div>\n",
              "<style scoped>\n",
              "    .dataframe tbody tr th:only-of-type {\n",
              "        vertical-align: middle;\n",
              "    }\n",
              "\n",
              "    .dataframe tbody tr th {\n",
              "        vertical-align: top;\n",
              "    }\n",
              "\n",
              "    .dataframe thead th {\n",
              "        text-align: right;\n",
              "    }\n",
              "</style>\n",
              "<table border=\"1\" class=\"dataframe\">\n",
              "  <thead>\n",
              "    <tr style=\"text-align: right;\">\n",
              "      <th></th>\n",
              "      <th>Set</th>\n",
              "      <th>일자</th>\n",
              "      <th>품목0 변동률</th>\n",
              "      <th>품목1 변동률</th>\n",
              "      <th>품목2 변동률</th>\n",
              "      <th>품목3 변동률</th>\n",
              "      <th>품목4 변동률</th>\n",
              "      <th>품목5 변동률</th>\n",
              "      <th>품목6 변동률</th>\n",
              "      <th>품목7 변동률</th>\n",
              "      <th>...</th>\n",
              "      <th>품목27 변동률</th>\n",
              "      <th>품목28 변동률</th>\n",
              "      <th>품목29 변동률</th>\n",
              "      <th>품목30 변동률</th>\n",
              "      <th>품목31 변동률</th>\n",
              "      <th>품목32 변동률</th>\n",
              "      <th>품목33 변동률</th>\n",
              "      <th>품목34 변동률</th>\n",
              "      <th>품목35 변동률</th>\n",
              "      <th>품목36 변동률</th>\n",
              "    </tr>\n",
              "  </thead>\n",
              "  <tbody>\n",
              "    <tr>\n",
              "      <th>0</th>\n",
              "      <td>0</td>\n",
              "      <td>d+1</td>\n",
              "      <td>-0.179058</td>\n",
              "      <td>-0.014021</td>\n",
              "      <td>-0.129700</td>\n",
              "      <td>0.041680</td>\n",
              "      <td>-0.022454</td>\n",
              "      <td>-0.270809</td>\n",
              "      <td>0.004371</td>\n",
              "      <td>-0.192034</td>\n",
              "      <td>...</td>\n",
              "      <td>-0.096366</td>\n",
              "      <td>-0.111923</td>\n",
              "      <td>-0.230530</td>\n",
              "      <td>-0.057800</td>\n",
              "      <td>-0.212513</td>\n",
              "      <td>-0.135504</td>\n",
              "      <td>-0.504801</td>\n",
              "      <td>-0.206016</td>\n",
              "      <td>-0.091885</td>\n",
              "      <td>0.124375</td>\n",
              "    </tr>\n",
              "    <tr>\n",
              "      <th>1</th>\n",
              "      <td>0</td>\n",
              "      <td>d+2</td>\n",
              "      <td>-0.137675</td>\n",
              "      <td>-0.028184</td>\n",
              "      <td>-0.488700</td>\n",
              "      <td>0.043159</td>\n",
              "      <td>-0.015945</td>\n",
              "      <td>-0.266480</td>\n",
              "      <td>NaN</td>\n",
              "      <td>-0.219763</td>\n",
              "      <td>...</td>\n",
              "      <td>-0.112061</td>\n",
              "      <td>-0.165845</td>\n",
              "      <td>-0.259001</td>\n",
              "      <td>-0.104196</td>\n",
              "      <td>-0.231241</td>\n",
              "      <td>-0.134469</td>\n",
              "      <td>-0.485466</td>\n",
              "      <td>-0.238890</td>\n",
              "      <td>-0.099370</td>\n",
              "      <td>0.175719</td>\n",
              "    </tr>\n",
              "    <tr>\n",
              "      <th>2</th>\n",
              "      <td>0</td>\n",
              "      <td>d+3</td>\n",
              "      <td>NaN</td>\n",
              "      <td>NaN</td>\n",
              "      <td>NaN</td>\n",
              "      <td>NaN</td>\n",
              "      <td>NaN</td>\n",
              "      <td>NaN</td>\n",
              "      <td>-0.009432</td>\n",
              "      <td>NaN</td>\n",
              "      <td>...</td>\n",
              "      <td>NaN</td>\n",
              "      <td>NaN</td>\n",
              "      <td>NaN</td>\n",
              "      <td>NaN</td>\n",
              "      <td>NaN</td>\n",
              "      <td>NaN</td>\n",
              "      <td>NaN</td>\n",
              "      <td>NaN</td>\n",
              "      <td>NaN</td>\n",
              "      <td>NaN</td>\n",
              "    </tr>\n",
              "    <tr>\n",
              "      <th>3</th>\n",
              "      <td>0</td>\n",
              "      <td>d+4</td>\n",
              "      <td>-0.124595</td>\n",
              "      <td>-0.017689</td>\n",
              "      <td>-0.250502</td>\n",
              "      <td>0.040240</td>\n",
              "      <td>-0.014446</td>\n",
              "      <td>-0.266245</td>\n",
              "      <td>NaN</td>\n",
              "      <td>-0.222318</td>\n",
              "      <td>...</td>\n",
              "      <td>-0.124110</td>\n",
              "      <td>-0.201991</td>\n",
              "      <td>-0.185041</td>\n",
              "      <td>-0.112741</td>\n",
              "      <td>-0.190124</td>\n",
              "      <td>-0.112946</td>\n",
              "      <td>-0.521001</td>\n",
              "      <td>-0.254224</td>\n",
              "      <td>-0.092265</td>\n",
              "      <td>0.233124</td>\n",
              "    </tr>\n",
              "    <tr>\n",
              "      <th>4</th>\n",
              "      <td>0</td>\n",
              "      <td>d+5</td>\n",
              "      <td>-0.162383</td>\n",
              "      <td>-0.004101</td>\n",
              "      <td>0.354866</td>\n",
              "      <td>0.038843</td>\n",
              "      <td>-0.012790</td>\n",
              "      <td>-0.268187</td>\n",
              "      <td>NaN</td>\n",
              "      <td>-0.219797</td>\n",
              "      <td>...</td>\n",
              "      <td>-0.111449</td>\n",
              "      <td>-0.164800</td>\n",
              "      <td>-0.005972</td>\n",
              "      <td>-0.024929</td>\n",
              "      <td>-0.207914</td>\n",
              "      <td>-0.128609</td>\n",
              "      <td>-0.486432</td>\n",
              "      <td>-0.246315</td>\n",
              "      <td>-0.097872</td>\n",
              "      <td>0.098816</td>\n",
              "    </tr>\n",
              "    <tr>\n",
              "      <th>...</th>\n",
              "      <td>...</td>\n",
              "      <td>...</td>\n",
              "      <td>...</td>\n",
              "      <td>...</td>\n",
              "      <td>...</td>\n",
              "      <td>...</td>\n",
              "      <td>...</td>\n",
              "      <td>...</td>\n",
              "      <td>...</td>\n",
              "      <td>...</td>\n",
              "      <td>...</td>\n",
              "      <td>...</td>\n",
              "      <td>...</td>\n",
              "      <td>...</td>\n",
              "      <td>...</td>\n",
              "      <td>...</td>\n",
              "      <td>...</td>\n",
              "      <td>...</td>\n",
              "      <td>...</td>\n",
              "      <td>...</td>\n",
              "      <td>...</td>\n",
              "    </tr>\n",
              "    <tr>\n",
              "      <th>145</th>\n",
              "      <td>9</td>\n",
              "      <td>d+11</td>\n",
              "      <td>-0.017169</td>\n",
              "      <td>-0.090603</td>\n",
              "      <td>-0.111864</td>\n",
              "      <td>-0.147927</td>\n",
              "      <td>0.075078</td>\n",
              "      <td>0.276018</td>\n",
              "      <td>-0.003979</td>\n",
              "      <td>NaN</td>\n",
              "      <td>...</td>\n",
              "      <td>0.100819</td>\n",
              "      <td>0.604327</td>\n",
              "      <td>-0.193293</td>\n",
              "      <td>-0.058679</td>\n",
              "      <td>-0.169903</td>\n",
              "      <td>0.220468</td>\n",
              "      <td>-0.070613</td>\n",
              "      <td>-0.019520</td>\n",
              "      <td>-0.353669</td>\n",
              "      <td>-0.163980</td>\n",
              "    </tr>\n",
              "    <tr>\n",
              "      <th>146</th>\n",
              "      <td>9</td>\n",
              "      <td>d+12</td>\n",
              "      <td>-0.024144</td>\n",
              "      <td>-0.094108</td>\n",
              "      <td>-0.306029</td>\n",
              "      <td>-0.135757</td>\n",
              "      <td>0.064877</td>\n",
              "      <td>0.288518</td>\n",
              "      <td>-0.003099</td>\n",
              "      <td>NaN</td>\n",
              "      <td>...</td>\n",
              "      <td>0.088553</td>\n",
              "      <td>0.536768</td>\n",
              "      <td>-0.037298</td>\n",
              "      <td>-0.122545</td>\n",
              "      <td>-0.188561</td>\n",
              "      <td>0.239831</td>\n",
              "      <td>-0.085954</td>\n",
              "      <td>-0.022283</td>\n",
              "      <td>-0.350705</td>\n",
              "      <td>-0.149029</td>\n",
              "    </tr>\n",
              "    <tr>\n",
              "      <th>147</th>\n",
              "      <td>9</td>\n",
              "      <td>d+13</td>\n",
              "      <td>-0.026520</td>\n",
              "      <td>-0.079615</td>\n",
              "      <td>-0.288377</td>\n",
              "      <td>-0.123810</td>\n",
              "      <td>0.061390</td>\n",
              "      <td>0.282827</td>\n",
              "      <td>-0.005296</td>\n",
              "      <td>NaN</td>\n",
              "      <td>...</td>\n",
              "      <td>0.067761</td>\n",
              "      <td>0.283808</td>\n",
              "      <td>-0.053329</td>\n",
              "      <td>-0.056917</td>\n",
              "      <td>-0.161215</td>\n",
              "      <td>0.204126</td>\n",
              "      <td>-0.064020</td>\n",
              "      <td>-0.007540</td>\n",
              "      <td>-0.354855</td>\n",
              "      <td>-0.189833</td>\n",
              "    </tr>\n",
              "    <tr>\n",
              "      <th>148</th>\n",
              "      <td>9</td>\n",
              "      <td>d+14</td>\n",
              "      <td>-0.003816</td>\n",
              "      <td>-0.016804</td>\n",
              "      <td>-0.043378</td>\n",
              "      <td>-0.048815</td>\n",
              "      <td>0.027020</td>\n",
              "      <td>0.032157</td>\n",
              "      <td>-0.004542</td>\n",
              "      <td>NaN</td>\n",
              "      <td>...</td>\n",
              "      <td>0.017109</td>\n",
              "      <td>0.166281</td>\n",
              "      <td>-0.011387</td>\n",
              "      <td>-0.011001</td>\n",
              "      <td>-0.019464</td>\n",
              "      <td>0.016681</td>\n",
              "      <td>0.017832</td>\n",
              "      <td>-0.011578</td>\n",
              "      <td>-0.092571</td>\n",
              "      <td>-0.030373</td>\n",
              "    </tr>\n",
              "    <tr>\n",
              "      <th>149</th>\n",
              "      <td>9</td>\n",
              "      <td>d+22 ~ 28 평균</td>\n",
              "      <td>-0.021974</td>\n",
              "      <td>-0.073398</td>\n",
              "      <td>-0.259865</td>\n",
              "      <td>-0.118612</td>\n",
              "      <td>0.049064</td>\n",
              "      <td>0.212840</td>\n",
              "      <td>NaN</td>\n",
              "      <td>NaN</td>\n",
              "      <td>...</td>\n",
              "      <td>0.065849</td>\n",
              "      <td>0.237898</td>\n",
              "      <td>-0.132242</td>\n",
              "      <td>-0.079374</td>\n",
              "      <td>-0.137633</td>\n",
              "      <td>0.175825</td>\n",
              "      <td>-0.046020</td>\n",
              "      <td>-0.025628</td>\n",
              "      <td>-0.323161</td>\n",
              "      <td>-0.145692</td>\n",
              "    </tr>\n",
              "  </tbody>\n",
              "</table>\n",
              "<p>150 rows × 39 columns</p>\n",
              "</div>"
            ],
            "text/plain": [
              "     Set            일자   품목0 변동률   품목1 변동률   품목2 변동률   품목3 변동률   품목4 변동률  \\\n",
              "0      0           d+1 -0.179058 -0.014021 -0.129700  0.041680 -0.022454   \n",
              "1      0           d+2 -0.137675 -0.028184 -0.488700  0.043159 -0.015945   \n",
              "2      0           d+3       NaN       NaN       NaN       NaN       NaN   \n",
              "3      0           d+4 -0.124595 -0.017689 -0.250502  0.040240 -0.014446   \n",
              "4      0           d+5 -0.162383 -0.004101  0.354866  0.038843 -0.012790   \n",
              "..   ...           ...       ...       ...       ...       ...       ...   \n",
              "145    9          d+11 -0.017169 -0.090603 -0.111864 -0.147927  0.075078   \n",
              "146    9          d+12 -0.024144 -0.094108 -0.306029 -0.135757  0.064877   \n",
              "147    9          d+13 -0.026520 -0.079615 -0.288377 -0.123810  0.061390   \n",
              "148    9          d+14 -0.003816 -0.016804 -0.043378 -0.048815  0.027020   \n",
              "149    9  d+22 ~ 28 평균 -0.021974 -0.073398 -0.259865 -0.118612  0.049064   \n",
              "\n",
              "      품목5 변동률   품목6 변동률   품목7 변동률  ...  품목27 변동률  품목28 변동률  품목29 변동률  \\\n",
              "0   -0.270809  0.004371 -0.192034  ... -0.096366 -0.111923 -0.230530   \n",
              "1   -0.266480       NaN -0.219763  ... -0.112061 -0.165845 -0.259001   \n",
              "2         NaN -0.009432       NaN  ...       NaN       NaN       NaN   \n",
              "3   -0.266245       NaN -0.222318  ... -0.124110 -0.201991 -0.185041   \n",
              "4   -0.268187       NaN -0.219797  ... -0.111449 -0.164800 -0.005972   \n",
              "..        ...       ...       ...  ...       ...       ...       ...   \n",
              "145  0.276018 -0.003979       NaN  ...  0.100819  0.604327 -0.193293   \n",
              "146  0.288518 -0.003099       NaN  ...  0.088553  0.536768 -0.037298   \n",
              "147  0.282827 -0.005296       NaN  ...  0.067761  0.283808 -0.053329   \n",
              "148  0.032157 -0.004542       NaN  ...  0.017109  0.166281 -0.011387   \n",
              "149  0.212840       NaN       NaN  ...  0.065849  0.237898 -0.132242   \n",
              "\n",
              "     품목30 변동률  품목31 변동률  품목32 변동률  품목33 변동률  품목34 변동률  품목35 변동률  품목36 변동률  \n",
              "0   -0.057800 -0.212513 -0.135504 -0.504801 -0.206016 -0.091885  0.124375  \n",
              "1   -0.104196 -0.231241 -0.134469 -0.485466 -0.238890 -0.099370  0.175719  \n",
              "2         NaN       NaN       NaN       NaN       NaN       NaN       NaN  \n",
              "3   -0.112741 -0.190124 -0.112946 -0.521001 -0.254224 -0.092265  0.233124  \n",
              "4   -0.024929 -0.207914 -0.128609 -0.486432 -0.246315 -0.097872  0.098816  \n",
              "..        ...       ...       ...       ...       ...       ...       ...  \n",
              "145 -0.058679 -0.169903  0.220468 -0.070613 -0.019520 -0.353669 -0.163980  \n",
              "146 -0.122545 -0.188561  0.239831 -0.085954 -0.022283 -0.350705 -0.149029  \n",
              "147 -0.056917 -0.161215  0.204126 -0.064020 -0.007540 -0.354855 -0.189833  \n",
              "148 -0.011001 -0.019464  0.016681  0.017832 -0.011578 -0.092571 -0.030373  \n",
              "149 -0.079374 -0.137633  0.175825 -0.046020 -0.025628 -0.323161 -0.145692  \n",
              "\n",
              "[150 rows x 39 columns]"
            ]
          },
          "execution_count": 21,
          "metadata": {},
          "output_type": "execute_result"
        }
      ],
      "source": [
        "submit_df"
      ]
    }
  ],
  "metadata": {
    "accelerator": "GPU",
    "colab": {
      "collapsed_sections": [],
      "provenance": []
    },
    "interpreter": {
      "hash": "8103e069ec51355429052e158df4f5ba0ef95071c815cf0f00b63f8cf0232057"
    },
    "kernelspec": {
      "display_name": "Python 3.10.6 64-bit ('tfenv': conda)",
      "name": "python3"
    },
    "language_info": {
      "codemirror_mode": {
        "name": "ipython",
        "version": 3
      },
      "file_extension": ".py",
      "mimetype": "text/x-python",
      "name": "python",
      "nbconvert_exporter": "python",
      "pygments_lexer": "ipython3",
      "version": "3.10.6"
    }
  },
  "nbformat": 4,
  "nbformat_minor": 0
}
