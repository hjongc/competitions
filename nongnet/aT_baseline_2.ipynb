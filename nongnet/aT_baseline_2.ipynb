{
  "cells": [
    {
      "cell_type": "markdown",
      "metadata": {
        "id": "hNs6NdTdJ8eP"
      },
      "source": [
        "# best"
      ]
    },
    {
      "cell_type": "code",
      "execution_count": 1,
      "metadata": {
        "id": "PQ4fzHA5J8eV"
      },
      "outputs": [],
      "source": [
        "import pandas as pd\n",
        "import numpy as np\n",
        "from tqdm import tqdm\n",
        "import warnings\n",
        "from glob2 import glob\n",
        "import tensorflow as tf\n",
        "from tensorflow.keras.callbacks import EarlyStopping, ModelCheckpoint\n",
        "from tensorflow import keras\n",
        "from tensorflow.keras import layers\n",
        "from sklearn.model_selection import train_test_split\n",
        "from pandasql import sqldf\n",
        "import random\n",
        "import os\n",
        "from numba import jit,njit\n",
        "\n",
        "test_num = 16\n",
        "\n",
        "# 경고 끄기\n",
        "warnings.filterwarnings(action='ignore')\n",
        "\n",
        "# 시드고정\n",
        "tf.random.set_seed(19970119)\n",
        "random.seed(19970119)\n",
        "np.random.seed(19970119)"
      ]
    },
    {
      "cell_type": "markdown",
      "metadata": {
        "id": "L6KeVclxJ8ex"
      },
      "source": [
        "&nbsp;"
      ]
    },
    {
      "cell_type": "markdown",
      "metadata": {
        "id": "Op_HKyOgJ8ex"
      },
      "source": [
        "## 입력 shape 및 형태 정의 함수"
      ]
    },
    {
      "cell_type": "code",
      "execution_count": 2,
      "metadata": {
        "id": "Gnlo6CdoJ8ey"
      },
      "outputs": [],
      "source": [
        "@jit\n",
        "def make_Tensor(array):\n",
        "    return tf.convert_to_tensor(array, dtype=tf.float32)\n",
        "\n",
        "@jit\n",
        "def astype_data(data):\n",
        "    df = data.astype(np.float32)\n",
        "    return make_Tensor(df)"
      ]
    },
    {
      "cell_type": "markdown",
      "metadata": {
        "id": "HW5tSx9CJ8ez"
      },
      "source": [
        "&nbsp;"
      ]
    },
    {
      "cell_type": "markdown",
      "metadata": {
        "id": "23d5CbY2J8e0"
      },
      "source": [
        "## Transformer 정의"
      ]
    },
    {
      "cell_type": "markdown",
      "metadata": {
        "id": "AnsaPEZxJ8e0"
      },
      "source": [
        "- encoder"
      ]
    },
    {
      "cell_type": "code",
      "execution_count": 3,
      "metadata": {
        "id": "fN-y2wg2J8e1"
      },
      "outputs": [],
      "source": [
        "@jit\n",
        "def transformer_encoder(inputs, head_size, num_heads, ff_dim, dropout=0):\n",
        "    x = layers.LayerNormalization(epsilon=1e-6)(inputs)\n",
        "    x = layers.MultiHeadAttention(\n",
        "        key_dim=head_size, num_heads=num_heads, dropout=dropout\n",
        "    )(x, x)\n",
        "    x = layers.Dropout(dropout)(x)\n",
        "    res = x + inputs\n",
        "\n",
        "    x = layers.LayerNormalization(epsilon=1e-6)(res)\n",
        "    x = layers.Conv1D(filters=ff_dim, kernel_size=1, activation=\"relu\")(x)\n",
        "    x = layers.Dropout(dropout)(x)\n",
        "    x = layers.Conv1D(filters=inputs.shape[-1], kernel_size=1)(x)\n",
        "    return x + res"
      ]
    },
    {
      "cell_type": "markdown",
      "metadata": {
        "id": "qHPatYotJ8e2"
      },
      "source": [
        "- build"
      ]
    },
    {
      "cell_type": "code",
      "execution_count": 4,
      "metadata": {
        "id": "f53uwkrVJ8e3"
      },
      "outputs": [],
      "source": [
        "@jit\n",
        "def build_model(input_shape, head_size, num_heads, ff_dim, num_transformer_blocks, mlp_units, dropout=0, mlp_dropout=0):\n",
        "    inputs = keras.Input(shape=input_shape)\n",
        "    x = inputs\n",
        "    for _ in range(num_transformer_blocks):\n",
        "        x = transformer_encoder(x, head_size, num_heads, ff_dim, dropout)\n",
        "\n",
        "    x = layers.GlobalAveragePooling1D(data_format=\"channels_first\")(x)\n",
        "    for dim in mlp_units:\n",
        "        x = layers.Dense(dim, activation=\"relu\")(x)\n",
        "        x = layers.Dropout(mlp_dropout)(x)\n",
        "    outputs = layers.Dense(28)(x) # 4주 예측\n",
        "    return keras.Model(inputs, outputs)"
      ]
    },
    {
      "cell_type": "markdown",
      "metadata": {
        "id": "Zf-P1DEqJ8e5"
      },
      "source": [
        "&nbsp;"
      ]
    },
    {
      "cell_type": "markdown",
      "metadata": {
        "id": "kt8olYmCJ8e5"
      },
      "source": [
        "## keras eraly stop, chekpoint 정의"
      ]
    },
    {
      "cell_type": "code",
      "execution_count": 5,
      "metadata": {
        "id": "dI2gT91mJ8e6"
      },
      "outputs": [],
      "source": [
        "@jit\n",
        "def call_back_set(name, epoch, batch_size):\n",
        "    early_stopping = EarlyStopping(monitor='val_loss', patience=30)\n",
        "\n",
        "    if os.path.exists(f'./check') == False:\n",
        "        os.mkdir(f'./check')\n",
        "\n",
        "    filename = f'./check/{name}-{epoch}-{batch_size}.h5'\n",
        "\n",
        "    checkpoint = ModelCheckpoint(filename,\n",
        "                                 monitor='val_loss',\n",
        "                                 verbose=0,\n",
        "                                 save_best_only=True,\n",
        "                                 save_weights_only=True,\n",
        "                                 mode='auto'\n",
        "                                 )\n",
        "    return [early_stopping, checkpoint]"
      ]
    },
    {
      "cell_type": "markdown",
      "metadata": {
        "id": "Zx-muC5oJ8e7"
      },
      "source": [
        "&nbsp;"
      ]
    },
    {
      "cell_type": "markdown",
      "metadata": {
        "id": "Qh0K9WvSJ8e8"
      },
      "source": [
        "## Model 훈련 함수"
      ]
    },
    {
      "cell_type": "code",
      "execution_count": 6,
      "metadata": {
        "id": "g5O8y4bqJ8e9"
      },
      "outputs": [],
      "source": [
        "def train(x_train, y_train, x_val, y_val, name, epoch, batch_size, learning_rate = 0.001, verbose = 0):\n",
        "    model = build_model(\n",
        "    x_train.shape[1:],\n",
        "    head_size=256,\n",
        "    num_heads=3,\n",
        "    ff_dim=4,\n",
        "    num_transformer_blocks=3,\n",
        "    mlp_units=[128],\n",
        "    mlp_dropout=0.25,\n",
        "    dropout=0.25,\n",
        "    )\n",
        "\n",
        "    model.compile(\n",
        "        loss=\"mean_squared_error\",\n",
        "        optimizer=keras.optimizers.Adam(learning_rate=learning_rate)\n",
        "    )\n",
        "\n",
        "    # Train the model\n",
        "    with tf.device('/device:GPU:1'):\n",
        "        history1 = model.fit(\n",
        "            x_train, y_train,\n",
        "            epochs = epoch,\n",
        "            steps_per_epoch=len(x_train) / batch_size,\n",
        "            batch_size=batch_size,\n",
        "            validation_data=(x_val, y_val),\n",
        "            validation_steps=len(x_val) / batch_size,\n",
        "            shuffle=False,\n",
        "            callbacks=call_back_set(name, epoch, batch_size),\n",
        "            verbose=verbose)\n",
        "\n",
        "    return model"
      ]
    },
    {
      "cell_type": "markdown",
      "metadata": {
        "id": "eLmwSKHnJ8e_"
      },
      "source": [
        "&nbsp;"
      ]
    },
    {
      "cell_type": "markdown",
      "metadata": {
        "id": "i0sTg94GJ8fA"
      },
      "source": [
        "## 시점 윈도우 생성 함수"
      ]
    },
    {
      "cell_type": "code",
      "execution_count": 7,
      "metadata": {
        "id": "G7o0auoqJ8fB"
      },
      "outputs": [],
      "source": [
        "@jit\n",
        "def time_window(df, t, t_sep):\n",
        "    seq_len = t\n",
        "    seqence_length = seq_len + t_sep\n",
        "\n",
        "    result = []\n",
        "    for index in range(len(df) - seqence_length):\n",
        "        result.append(df[index: index + seqence_length].values)\n",
        "\n",
        "    return np.array(result)\n",
        "\n",
        "@jit\n",
        "def y_time_window(df, t, t_sep):\n",
        "    seq_len = t\n",
        "    seqence_length = seq_len + t_sep\n",
        "\n",
        "    result = []\n",
        "    for index in range(14, len(df) - seqence_length):\n",
        "        result.append(df[index: index + seqence_length].values - df.iloc[index-1])\n",
        "\n",
        "    return np.array(result)"
      ]
    },
    {
      "cell_type": "markdown",
      "metadata": {
        "id": "t6x20G1VJ8fF"
      },
      "source": [
        "&nbsp;"
      ]
    },
    {
      "cell_type": "markdown",
      "metadata": {
        "id": "cqK2s1oZJ8fG"
      },
      "source": [
        "## 데이터 불러오기 및 parameter 설정"
      ]
    },
    {
      "cell_type": "code",
      "execution_count": 8,
      "metadata": {
        "id": "hkV5__kvJ8fI"
      },
      "outputs": [],
      "source": [
        "data_list = glob('./aT_data/data/train/*.csv')\n",
        "epoch = 1000\n",
        "batch = 64"
      ]
    },
    {
      "cell_type": "code",
      "execution_count": 9,
      "metadata": {
        "id": "Mm8FLNrlhp3y"
      },
      "outputs": [],
      "source": [
        "\n",
        "def feature_engineer(df):\n",
        "       #시간 코사인 인코딩\n",
        "       if df['datadate'].all() == 0:\n",
        "         df['datadate'] = 20180520\n",
        "       df['datetime'] = pd.to_datetime(df['datadate'], format=\"%Y%m%d\")\n",
        "       df['cos_time'] = np.cos(2*np.pi*df['datetime'].dt.dayofyear/365)\n",
        "\n",
        "       # 결측치\n",
        "       df = df.replace(' ', np.nan)\n",
        "       df = df.fillna(0)\n",
        "\n",
        "       # 주산지 초기온도, 최대온도, 최저온도, 평균온도, 강수량, 습도\n",
        "       df['주산지_초기온도'] = (df['주산지_0_초기온도(℃)'] + df['주산지_1_초기온도(℃)'] + df['주산지_2_초기온도(℃)'])/3\n",
        "       df['주산지_최대온도'] = (df['주산지_0_최대온도(℃)'] + df['주산지_1_최대온도(℃)'] + df['주산지_2_최대온도(℃)'])/3\n",
        "       df['주산지_최저온도'] = (df['주산지_0_최저온도(℃)'] + df['주산지_1_최저온도(℃)'] + df['주산지_2_최저온도(℃)'])/3\n",
        "       df['주산지_평균온도'] = (df['주산지_0_평균온도(℃)'] + df['주산지_1_평균온도(℃)'] + df['주산지_2_평균온도(℃)'])/3\n",
        "       df['주산지_강수량'] = (df['주산지_0_강수량(ml)'] + df['주산지_1_강수량(ml)'] + df['주산지_2_강수량(ml)'])/3\n",
        "\n",
        "       # 필요한 컬럼 선택\n",
        "       market_cols = ['단가(원)', '경매건수', '거래량', '거래대금(원)'] # \n",
        "\n",
        "       market_code_cols = [] # '도매시장코드', '도매법인코드', '산지코드 '\n",
        "\n",
        "       market_statistics_cols = ['하위가격 거래물량(kg)', '상위가격 거래물량(kg)', '해당일자_전체거래물량(kg)',\n",
        "       '일자별_도매가격_최대(원)', '일자별_도매가격_평균(원)', '일자별_도매가격_최소(원)', '일자별_소매가격_최대(원)', '일자별_소매가격_평균(원)', '일자별_소매가격_최소(원)', \n",
        "       '하위가격 평균가(원)', '상위가격 평균가(원)' ] \n",
        "       # \n",
        "       \n",
        "       export_cols = [] # '수출중량(kg)', '수출금액(달러)', '수입중량(kg)', '수입금액(달러)', '무역수지(달러)'\n",
        "       \n",
        "       date_cols = ['datadate', 'cos_time'] # ,, '일자구분_중순', '일자구분_초순', '일자구분_하순', '월구분_10월', '월구분_11월', '월구분_12월', '월구분_1월', '월구분_2월','월구분_3월', '월구분_4월', '월구분_5월', '월구분_6월', '월구분_7월', '월구분_8월', '월구분_9월', 'datetime'\n",
        "\n",
        "       weather_cols = [] \n",
        "      #  '주산지_0_초기온도(℃)', '주산지_1_초기온도(℃)', '주산지_2_초기온도(℃)',\n",
        "      #  '주산지_0_최대온도(℃)', '주산지_1_최대온도(℃)', '주산지_2_최대온도(℃)',\n",
        "      #  '주산지_0_최저온도(℃)', '주산지_1_최저온도(℃)', '주산지_2_최저온도(℃)',\n",
        "      #  '주산지_0_평균온도(℃)', '주산지_1_평균온도(℃)', '주산지_2_평균온도(℃)',\n",
        "      #  '주산지_0_강수량(ml)', '주산지_1_강수량(ml)', '주산지_2_강수량(ml)',\n",
        "      #  '주산지_0_습도(%)', '주산지_1_습도(%)', '주산지_2_습도(%)'\n",
        "\n",
        "       selected_columns = ['해당일자_전체평균가격(원)']  + market_cols + market_code_cols + market_statistics_cols + export_cols +  date_cols + weather_cols # train 에서 사용하지 않는 열\n",
        "\n",
        "       df = df[[c for c in df.columns if c in selected_columns]]\n",
        "\n",
        "       return df"
      ]
    },
    {
      "cell_type": "markdown",
      "metadata": {
        "id": "tQ-dAEuNJ8fJ"
      },
      "source": [
        "&nbsp;"
      ]
    },
    {
      "cell_type": "markdown",
      "metadata": {
        "id": "EF2VmW68J8fK"
      },
      "source": [
        "## Train 과정"
      ]
    },
    {
      "cell_type": "code",
      "execution_count": 10,
      "metadata": {
        "colab": {
          "background_save": true
        },
        "id": "WgmRJNAuJ8fL"
      },
      "outputs": [
        {
          "name": "stderr",
          "output_type": "stream",
          "text": [
            "  0%|          | 0/37 [00:00<?, ?it/s]"
          ]
        },
        {
          "name": "stdout",
          "output_type": "stream",
          "text": [
            "./aT_data/data/train/train_4.csv\n",
            "Metal device set to: Apple M1\n",
            "\n",
            "systemMemory: 8.00 GB\n",
            "maxCacheSize: 2.67 GB\n",
            "\n"
          ]
        },
        {
          "name": "stderr",
          "output_type": "stream",
          "text": [
            "2022-09-21 18:23:42.111263: I tensorflow/core/common_runtime/pluggable_device/pluggable_device_factory.cc:305] Could not identify NUMA node of platform GPU ID 0, defaulting to 0. Your kernel may not have been built with NUMA support.\n",
            "2022-09-21 18:23:42.111832: I tensorflow/core/common_runtime/pluggable_device/pluggable_device_factory.cc:271] Created TensorFlow device (/job:localhost/replica:0/task:0/device:GPU:0 with 0 MB memory) -> physical PluggableDevice (device: 0, name: METAL, pci bus id: <undefined>)\n",
            "2022-09-21 18:23:42.920881: W tensorflow/core/platform/profile_utils/cpu_utils.cc:128] Failed to get CPU frequency: 0 Hz\n",
            "2022-09-21 18:23:43.097232: I tensorflow/core/grappler/optimizers/custom_graph_optimizer_registry.cc:113] Plugin optimizer for device_type GPU is enabled.\n",
            "2022-09-21 18:23:43.587583: I tensorflow/core/grappler/optimizers/custom_graph_optimizer_registry.cc:113] Plugin optimizer for device_type GPU is enabled.\n",
            "  3%|▎         | 1/37 [01:37<58:14, 97.06s/it]"
          ]
        },
        {
          "name": "stdout",
          "output_type": "stream",
          "text": [
            "\n",
            "valid_loss:  751001.4375\n",
            "./aT_data/data/train/train_15.csv\n"
          ]
        },
        {
          "name": "stderr",
          "output_type": "stream",
          "text": [
            "2022-09-21 18:25:18.917291: I tensorflow/core/grappler/optimizers/custom_graph_optimizer_registry.cc:113] Plugin optimizer for device_type GPU is enabled.\n",
            "2022-09-21 18:25:19.128467: I tensorflow/core/grappler/optimizers/custom_graph_optimizer_registry.cc:113] Plugin optimizer for device_type GPU is enabled.\n",
            "  5%|▌         | 2/37 [03:19<58:21, 100.06s/it]"
          ]
        },
        {
          "name": "stdout",
          "output_type": "stream",
          "text": [
            "\n",
            "valid_loss:  396421.90625\n",
            "./aT_data/data/train/train_29.csv\n"
          ]
        },
        {
          "name": "stderr",
          "output_type": "stream",
          "text": [
            "2022-09-21 18:27:01.115483: I tensorflow/core/grappler/optimizers/custom_graph_optimizer_registry.cc:113] Plugin optimizer for device_type GPU is enabled.\n",
            "2022-09-21 18:27:01.358253: I tensorflow/core/grappler/optimizers/custom_graph_optimizer_registry.cc:113] Plugin optimizer for device_type GPU is enabled.\n",
            "  8%|▊         | 3/37 [05:09<59:26, 104.90s/it]"
          ]
        },
        {
          "name": "stdout",
          "output_type": "stream",
          "text": [
            "\n",
            "valid_loss:  208970.03125\n",
            "./aT_data/data/train/train_28.csv\n"
          ]
        },
        {
          "name": "stderr",
          "output_type": "stream",
          "text": [
            "2022-09-21 18:28:51.773974: I tensorflow/core/grappler/optimizers/custom_graph_optimizer_registry.cc:113] Plugin optimizer for device_type GPU is enabled.\n",
            "2022-09-21 18:28:52.009496: I tensorflow/core/grappler/optimizers/custom_graph_optimizer_registry.cc:113] Plugin optimizer for device_type GPU is enabled.\n",
            " 11%|█         | 4/37 [06:59<58:46, 106.87s/it]"
          ]
        },
        {
          "name": "stdout",
          "output_type": "stream",
          "text": [
            "\n",
            "valid_loss:  47639.41015625\n",
            "./aT_data/data/train/train_14.csv\n"
          ]
        },
        {
          "name": "stderr",
          "output_type": "stream",
          "text": [
            "2022-09-21 18:30:41.663539: I tensorflow/core/grappler/optimizers/custom_graph_optimizer_registry.cc:113] Plugin optimizer for device_type GPU is enabled.\n",
            "2022-09-21 18:30:41.902832: I tensorflow/core/grappler/optimizers/custom_graph_optimizer_registry.cc:113] Plugin optimizer for device_type GPU is enabled.\n",
            " 14%|█▎        | 5/37 [08:46<57:00, 106.88s/it]"
          ]
        },
        {
          "name": "stdout",
          "output_type": "stream",
          "text": [
            "\n",
            "valid_loss:  23399532.0\n",
            "./aT_data/data/train/train_5.csv\n"
          ]
        },
        {
          "name": "stderr",
          "output_type": "stream",
          "text": [
            "2022-09-21 18:32:28.854606: I tensorflow/core/grappler/optimizers/custom_graph_optimizer_registry.cc:113] Plugin optimizer for device_type GPU is enabled.\n",
            "2022-09-21 18:32:29.060444: I tensorflow/core/grappler/optimizers/custom_graph_optimizer_registry.cc:113] Plugin optimizer for device_type GPU is enabled.\n",
            " 16%|█▌        | 6/37 [10:29<54:34, 105.64s/it]"
          ]
        },
        {
          "name": "stdout",
          "output_type": "stream",
          "text": [
            "\n",
            "valid_loss:  4107801.25\n",
            "./aT_data/data/train/train_7.csv\n"
          ]
        },
        {
          "name": "stderr",
          "output_type": "stream",
          "text": [
            "2022-09-21 18:34:11.792307: I tensorflow/core/grappler/optimizers/custom_graph_optimizer_registry.cc:113] Plugin optimizer for device_type GPU is enabled.\n",
            "2022-09-21 18:34:12.023632: I tensorflow/core/grappler/optimizers/custom_graph_optimizer_registry.cc:113] Plugin optimizer for device_type GPU is enabled.\n",
            " 19%|█▉        | 7/37 [12:17<53:06, 106.21s/it]"
          ]
        },
        {
          "name": "stdout",
          "output_type": "stream",
          "text": [
            "\n",
            "valid_loss:  5155220.0\n",
            "./aT_data/data/train/train_16.csv\n"
          ]
        },
        {
          "name": "stderr",
          "output_type": "stream",
          "text": [
            "2022-09-21 18:35:59.146191: I tensorflow/core/grappler/optimizers/custom_graph_optimizer_registry.cc:113] Plugin optimizer for device_type GPU is enabled.\n",
            "2022-09-21 18:35:59.384595: I tensorflow/core/grappler/optimizers/custom_graph_optimizer_registry.cc:113] Plugin optimizer for device_type GPU is enabled.\n",
            " 22%|██▏       | 8/37 [13:57<50:22, 104.21s/it]"
          ]
        },
        {
          "name": "stdout",
          "output_type": "stream",
          "text": [
            "\n",
            "valid_loss:  2243115.75\n",
            "./aT_data/data/train/train_17.csv\n"
          ]
        },
        {
          "name": "stderr",
          "output_type": "stream",
          "text": [
            "2022-09-21 18:37:39.096034: I tensorflow/core/grappler/optimizers/custom_graph_optimizer_registry.cc:113] Plugin optimizer for device_type GPU is enabled.\n",
            "2022-09-21 18:37:39.304804: I tensorflow/core/grappler/optimizers/custom_graph_optimizer_registry.cc:113] Plugin optimizer for device_type GPU is enabled.\n",
            " 24%|██▍       | 9/37 [15:44<49:09, 105.32s/it]"
          ]
        },
        {
          "name": "stdout",
          "output_type": "stream",
          "text": [
            "\n",
            "valid_loss:  1547819.375\n",
            "./aT_data/data/train/train_6.csv\n"
          ]
        },
        {
          "name": "stderr",
          "output_type": "stream",
          "text": [
            "2022-09-21 18:39:26.857272: I tensorflow/core/grappler/optimizers/custom_graph_optimizer_registry.cc:113] Plugin optimizer for device_type GPU is enabled.\n",
            "2022-09-21 18:39:27.074431: I tensorflow/core/grappler/optimizers/custom_graph_optimizer_registry.cc:113] Plugin optimizer for device_type GPU is enabled.\n",
            " 27%|██▋       | 10/37 [17:14<45:09, 100.37s/it]"
          ]
        },
        {
          "name": "stdout",
          "output_type": "stream",
          "text": [
            "\n",
            "valid_loss:  70643728.0\n",
            "./aT_data/data/train/train_2.csv\n"
          ]
        },
        {
          "name": "stderr",
          "output_type": "stream",
          "text": [
            "2022-09-21 18:40:56.088808: I tensorflow/core/grappler/optimizers/custom_graph_optimizer_registry.cc:113] Plugin optimizer for device_type GPU is enabled.\n",
            "2022-09-21 18:40:56.285148: I tensorflow/core/grappler/optimizers/custom_graph_optimizer_registry.cc:113] Plugin optimizer for device_type GPU is enabled.\n",
            " 30%|██▉       | 11/37 [18:44<42:07, 97.21s/it] "
          ]
        },
        {
          "name": "stdout",
          "output_type": "stream",
          "text": [
            "\n",
            "valid_loss:  845366.75\n",
            "./aT_data/data/train/train_13.csv\n"
          ]
        },
        {
          "name": "stderr",
          "output_type": "stream",
          "text": [
            "2022-09-21 18:42:26.141206: I tensorflow/core/grappler/optimizers/custom_graph_optimizer_registry.cc:113] Plugin optimizer for device_type GPU is enabled.\n",
            "2022-09-21 18:42:26.753047: I tensorflow/core/grappler/optimizers/custom_graph_optimizer_registry.cc:113] Plugin optimizer for device_type GPU is enabled.\n",
            " 32%|███▏      | 12/37 [20:12<39:20, 94.43s/it]"
          ]
        },
        {
          "name": "stdout",
          "output_type": "stream",
          "text": [
            "\n",
            "valid_loss:  694899.5625\n",
            "./aT_data/data/train/train_12.csv\n"
          ]
        },
        {
          "name": "stderr",
          "output_type": "stream",
          "text": [
            "2022-09-21 18:43:54.259427: I tensorflow/core/grappler/optimizers/custom_graph_optimizer_registry.cc:113] Plugin optimizer for device_type GPU is enabled.\n",
            "2022-09-21 18:43:54.482278: I tensorflow/core/grappler/optimizers/custom_graph_optimizer_registry.cc:113] Plugin optimizer for device_type GPU is enabled.\n",
            " 35%|███▌      | 13/37 [21:41<37:04, 92.70s/it]"
          ]
        },
        {
          "name": "stdout",
          "output_type": "stream",
          "text": [
            "\n",
            "valid_loss:  568734.1875\n",
            "./aT_data/data/train/train_3.csv\n"
          ]
        },
        {
          "name": "stderr",
          "output_type": "stream",
          "text": [
            "2022-09-21 18:45:22.950833: I tensorflow/core/grappler/optimizers/custom_graph_optimizer_registry.cc:113] Plugin optimizer for device_type GPU is enabled.\n",
            "2022-09-21 18:45:23.174598: I tensorflow/core/grappler/optimizers/custom_graph_optimizer_registry.cc:113] Plugin optimizer for device_type GPU is enabled.\n",
            " 38%|███▊      | 14/37 [23:09<35:00, 91.33s/it]"
          ]
        },
        {
          "name": "stdout",
          "output_type": "stream",
          "text": [
            "\n",
            "valid_loss:  1433096.0\n",
            "./aT_data/data/train/train_1.csv\n"
          ]
        },
        {
          "name": "stderr",
          "output_type": "stream",
          "text": [
            "2022-09-21 18:46:51.135773: I tensorflow/core/grappler/optimizers/custom_graph_optimizer_registry.cc:113] Plugin optimizer for device_type GPU is enabled.\n",
            "2022-09-21 18:46:51.347795: I tensorflow/core/grappler/optimizers/custom_graph_optimizer_registry.cc:113] Plugin optimizer for device_type GPU is enabled.\n",
            " 41%|████      | 15/37 [24:39<33:21, 90.95s/it]"
          ]
        },
        {
          "name": "stdout",
          "output_type": "stream",
          "text": [
            "\n",
            "valid_loss:  155009.0\n",
            "./aT_data/data/train/train_10.csv\n"
          ]
        },
        {
          "name": "stderr",
          "output_type": "stream",
          "text": [
            "2022-09-21 18:48:21.194862: I tensorflow/core/grappler/optimizers/custom_graph_optimizer_registry.cc:113] Plugin optimizer for device_type GPU is enabled.\n",
            "2022-09-21 18:48:21.420747: I tensorflow/core/grappler/optimizers/custom_graph_optimizer_registry.cc:113] Plugin optimizer for device_type GPU is enabled.\n",
            " 43%|████▎     | 16/37 [26:10<31:49, 90.94s/it]"
          ]
        },
        {
          "name": "stdout",
          "output_type": "stream",
          "text": [
            "\n",
            "valid_loss:  184306.21875\n",
            "./aT_data/data/train/train_11.csv\n"
          ]
        },
        {
          "name": "stderr",
          "output_type": "stream",
          "text": [
            "2022-09-21 18:49:52.227730: I tensorflow/core/grappler/optimizers/custom_graph_optimizer_registry.cc:113] Plugin optimizer for device_type GPU is enabled.\n",
            "2022-09-21 18:49:52.530809: I tensorflow/core/grappler/optimizers/custom_graph_optimizer_registry.cc:113] Plugin optimizer for device_type GPU is enabled.\n",
            " 46%|████▌     | 17/37 [27:49<31:11, 93.58s/it]"
          ]
        },
        {
          "name": "stdout",
          "output_type": "stream",
          "text": [
            "\n",
            "valid_loss:  5128294.5\n",
            "./aT_data/data/train/train_0.csv\n"
          ]
        },
        {
          "name": "stderr",
          "output_type": "stream",
          "text": [
            "2022-09-21 18:51:31.918733: I tensorflow/core/grappler/optimizers/custom_graph_optimizer_registry.cc:113] Plugin optimizer for device_type GPU is enabled.\n",
            "2022-09-21 18:51:32.172025: I tensorflow/core/grappler/optimizers/custom_graph_optimizer_registry.cc:113] Plugin optimizer for device_type GPU is enabled.\n",
            " 49%|████▊     | 18/37 [29:28<30:05, 95.02s/it]"
          ]
        },
        {
          "name": "stdout",
          "output_type": "stream",
          "text": [
            "\n",
            "valid_loss:  2973533.75\n",
            "./aT_data/data/train/train_34.csv\n"
          ]
        },
        {
          "name": "stderr",
          "output_type": "stream",
          "text": [
            "2022-09-21 18:53:10.719437: I tensorflow/core/grappler/optimizers/custom_graph_optimizer_registry.cc:113] Plugin optimizer for device_type GPU is enabled.\n",
            "2022-09-21 18:53:10.980455: I tensorflow/core/grappler/optimizers/custom_graph_optimizer_registry.cc:113] Plugin optimizer for device_type GPU is enabled.\n",
            " 51%|█████▏    | 19/37 [30:58<28:02, 93.46s/it]"
          ]
        },
        {
          "name": "stdout",
          "output_type": "stream",
          "text": [
            "\n",
            "valid_loss:  3618560.5\n",
            "./aT_data/data/train/train_20.csv\n"
          ]
        },
        {
          "name": "stderr",
          "output_type": "stream",
          "text": [
            "2022-09-21 18:54:40.071764: I tensorflow/core/grappler/optimizers/custom_graph_optimizer_registry.cc:113] Plugin optimizer for device_type GPU is enabled.\n",
            "2022-09-21 18:54:40.355627: I tensorflow/core/grappler/optimizers/custom_graph_optimizer_registry.cc:113] Plugin optimizer for device_type GPU is enabled.\n",
            " 54%|█████▍    | 20/37 [32:27<26:07, 92.21s/it]"
          ]
        },
        {
          "name": "stdout",
          "output_type": "stream",
          "text": [
            "\n",
            "valid_loss:  585460.375\n",
            "./aT_data/data/train/train_21.csv\n"
          ]
        },
        {
          "name": "stderr",
          "output_type": "stream",
          "text": [
            "2022-09-21 18:56:09.345920: I tensorflow/core/grappler/optimizers/custom_graph_optimizer_registry.cc:113] Plugin optimizer for device_type GPU is enabled.\n",
            "2022-09-21 18:56:09.596837: I tensorflow/core/grappler/optimizers/custom_graph_optimizer_registry.cc:113] Plugin optimizer for device_type GPU is enabled.\n",
            " 57%|█████▋    | 21/37 [34:46<28:21, 106.37s/it]"
          ]
        },
        {
          "name": "stdout",
          "output_type": "stream",
          "text": [
            "\n",
            "valid_loss:  247897.859375\n",
            "./aT_data/data/train/train_35.csv\n"
          ]
        },
        {
          "name": "stderr",
          "output_type": "stream",
          "text": [
            "2022-09-21 18:58:28.736169: I tensorflow/core/grappler/optimizers/custom_graph_optimizer_registry.cc:113] Plugin optimizer for device_type GPU is enabled.\n",
            "2022-09-21 18:58:28.957830: I tensorflow/core/grappler/optimizers/custom_graph_optimizer_registry.cc:113] Plugin optimizer for device_type GPU is enabled.\n",
            " 59%|█████▉    | 22/37 [36:41<27:11, 108.76s/it]"
          ]
        },
        {
          "name": "stdout",
          "output_type": "stream",
          "text": [
            "\n",
            "valid_loss:  828530.125\n",
            "./aT_data/data/train/train_23.csv\n"
          ]
        },
        {
          "name": "stderr",
          "output_type": "stream",
          "text": [
            "2022-09-21 19:00:23.152317: I tensorflow/core/grappler/optimizers/custom_graph_optimizer_registry.cc:113] Plugin optimizer for device_type GPU is enabled.\n",
            "2022-09-21 19:00:23.432948: I tensorflow/core/grappler/optimizers/custom_graph_optimizer_registry.cc:113] Plugin optimizer for device_type GPU is enabled.\n",
            " 62%|██████▏   | 23/37 [38:43<26:17, 112.70s/it]"
          ]
        },
        {
          "name": "stdout",
          "output_type": "stream",
          "text": [
            "\n",
            "valid_loss:  6296029.0\n",
            "./aT_data/data/train/train_36.csv\n"
          ]
        },
        {
          "name": "stderr",
          "output_type": "stream",
          "text": [
            "2022-09-21 19:02:24.970958: I tensorflow/core/grappler/optimizers/custom_graph_optimizer_registry.cc:113] Plugin optimizer for device_type GPU is enabled.\n",
            "2022-09-21 19:02:25.195057: I tensorflow/core/grappler/optimizers/custom_graph_optimizer_registry.cc:113] Plugin optimizer for device_type GPU is enabled.\n",
            " 65%|██████▍   | 24/37 [41:18<27:11, 125.47s/it]"
          ]
        },
        {
          "name": "stdout",
          "output_type": "stream",
          "text": [
            "\n",
            "valid_loss:  345366.03125\n",
            "./aT_data/data/train/train_22.csv\n"
          ]
        },
        {
          "name": "stderr",
          "output_type": "stream",
          "text": [
            "2022-09-21 19:05:00.971419: I tensorflow/core/grappler/optimizers/custom_graph_optimizer_registry.cc:113] Plugin optimizer for device_type GPU is enabled.\n",
            "2022-09-21 19:05:01.259696: I tensorflow/core/grappler/optimizers/custom_graph_optimizer_registry.cc:113] Plugin optimizer for device_type GPU is enabled.\n",
            " 68%|██████▊   | 25/37 [43:05<24:01, 120.13s/it]"
          ]
        },
        {
          "name": "stdout",
          "output_type": "stream",
          "text": [
            "\n",
            "valid_loss:  129421.40625\n",
            "./aT_data/data/train/train_26.csv\n"
          ]
        },
        {
          "name": "stderr",
          "output_type": "stream",
          "text": [
            "2022-09-21 19:06:47.866870: I tensorflow/core/grappler/optimizers/custom_graph_optimizer_registry.cc:113] Plugin optimizer for device_type GPU is enabled.\n",
            "2022-09-21 19:06:48.094716: I tensorflow/core/grappler/optimizers/custom_graph_optimizer_registry.cc:113] Plugin optimizer for device_type GPU is enabled.\n",
            " 70%|███████   | 26/37 [45:35<23:39, 129.03s/it]"
          ]
        },
        {
          "name": "stdout",
          "output_type": "stream",
          "text": [
            "\n",
            "valid_loss:  2562734.25\n",
            "./aT_data/data/train/train_32.csv\n"
          ]
        },
        {
          "name": "stderr",
          "output_type": "stream",
          "text": [
            "2022-09-21 19:09:17.802267: I tensorflow/core/grappler/optimizers/custom_graph_optimizer_registry.cc:113] Plugin optimizer for device_type GPU is enabled.\n",
            "2022-09-21 19:09:18.152889: I tensorflow/core/grappler/optimizers/custom_graph_optimizer_registry.cc:113] Plugin optimizer for device_type GPU is enabled.\n",
            " 73%|███████▎  | 27/37 [47:43<21:25, 128.57s/it]"
          ]
        },
        {
          "name": "stdout",
          "output_type": "stream",
          "text": [
            "\n",
            "valid_loss:  2345519.75\n",
            "./aT_data/data/train/train_33.csv\n"
          ]
        },
        {
          "name": "stderr",
          "output_type": "stream",
          "text": [
            "2022-09-21 19:11:25.294877: I tensorflow/core/grappler/optimizers/custom_graph_optimizer_registry.cc:113] Plugin optimizer for device_type GPU is enabled.\n",
            "2022-09-21 19:11:25.570063: I tensorflow/core/grappler/optimizers/custom_graph_optimizer_registry.cc:113] Plugin optimizer for device_type GPU is enabled.\n",
            " 76%|███████▌  | 28/37 [49:37<18:38, 124.31s/it]"
          ]
        },
        {
          "name": "stdout",
          "output_type": "stream",
          "text": [
            "\n",
            "valid_loss:  6458560.0\n",
            "./aT_data/data/train/train_27.csv\n"
          ]
        },
        {
          "name": "stderr",
          "output_type": "stream",
          "text": [
            "2022-09-21 19:13:19.813538: I tensorflow/core/grappler/optimizers/custom_graph_optimizer_registry.cc:113] Plugin optimizer for device_type GPU is enabled.\n",
            "2022-09-21 19:13:20.140379: I tensorflow/core/grappler/optimizers/custom_graph_optimizer_registry.cc:113] Plugin optimizer for device_type GPU is enabled.\n",
            " 78%|███████▊  | 29/37 [51:07<15:11, 113.93s/it]"
          ]
        },
        {
          "name": "stdout",
          "output_type": "stream",
          "text": [
            "\n",
            "valid_loss:  9804542.0\n",
            "./aT_data/data/train/train_8.csv\n"
          ]
        },
        {
          "name": "stderr",
          "output_type": "stream",
          "text": [
            "2022-09-21 19:14:49.295268: I tensorflow/core/grappler/optimizers/custom_graph_optimizer_registry.cc:113] Plugin optimizer for device_type GPU is enabled.\n",
            "2022-09-21 19:14:49.549305: I tensorflow/core/grappler/optimizers/custom_graph_optimizer_registry.cc:113] Plugin optimizer for device_type GPU is enabled.\n",
            " 81%|████████  | 30/37 [52:35<12:23, 106.19s/it]"
          ]
        },
        {
          "name": "stdout",
          "output_type": "stream",
          "text": [
            "\n",
            "valid_loss:  2352154.0\n",
            "./aT_data/data/train/train_19.csv\n"
          ]
        },
        {
          "name": "stderr",
          "output_type": "stream",
          "text": [
            "2022-09-21 19:16:17.810401: I tensorflow/core/grappler/optimizers/custom_graph_optimizer_registry.cc:113] Plugin optimizer for device_type GPU is enabled.\n",
            "2022-09-21 19:16:18.035629: I tensorflow/core/grappler/optimizers/custom_graph_optimizer_registry.cc:113] Plugin optimizer for device_type GPU is enabled.\n",
            " 84%|████████▍ | 31/37 [54:00<09:59, 99.85s/it] "
          ]
        },
        {
          "name": "stdout",
          "output_type": "stream",
          "text": [
            "\n",
            "valid_loss:  567381.9375\n",
            "./aT_data/data/train/train_31.csv\n"
          ]
        },
        {
          "name": "stderr",
          "output_type": "stream",
          "text": [
            "2022-09-21 19:17:42.456667: I tensorflow/core/grappler/optimizers/custom_graph_optimizer_registry.cc:113] Plugin optimizer for device_type GPU is enabled.\n",
            "2022-09-21 19:17:42.701308: I tensorflow/core/grappler/optimizers/custom_graph_optimizer_registry.cc:113] Plugin optimizer for device_type GPU is enabled.\n",
            " 86%|████████▋ | 32/37 [55:33<08:08, 97.68s/it]"
          ]
        },
        {
          "name": "stdout",
          "output_type": "stream",
          "text": [
            "\n",
            "valid_loss:  3793452.0\n",
            "./aT_data/data/train/train_25.csv\n"
          ]
        },
        {
          "name": "stderr",
          "output_type": "stream",
          "text": [
            "2022-09-21 19:19:15.081917: I tensorflow/core/grappler/optimizers/custom_graph_optimizer_registry.cc:113] Plugin optimizer for device_type GPU is enabled.\n",
            "2022-09-21 19:19:15.326608: I tensorflow/core/grappler/optimizers/custom_graph_optimizer_registry.cc:113] Plugin optimizer for device_type GPU is enabled.\n",
            " 89%|████████▉ | 33/37 [57:00<06:18, 94.57s/it]"
          ]
        },
        {
          "name": "stdout",
          "output_type": "stream",
          "text": [
            "\n",
            "valid_loss:  3878465.75\n",
            "./aT_data/data/train/train_24.csv\n"
          ]
        },
        {
          "name": "stderr",
          "output_type": "stream",
          "text": [
            "2022-09-21 19:20:42.390522: I tensorflow/core/grappler/optimizers/custom_graph_optimizer_registry.cc:113] Plugin optimizer for device_type GPU is enabled.\n",
            "2022-09-21 19:20:42.718506: I tensorflow/core/grappler/optimizers/custom_graph_optimizer_registry.cc:113] Plugin optimizer for device_type GPU is enabled.\n",
            " 92%|█████████▏| 34/37 [58:29<04:38, 92.75s/it]"
          ]
        },
        {
          "name": "stdout",
          "output_type": "stream",
          "text": [
            "\n",
            "valid_loss:  269063.5625\n",
            "./aT_data/data/train/train_30.csv\n"
          ]
        },
        {
          "name": "stderr",
          "output_type": "stream",
          "text": [
            "2022-09-21 19:22:10.913511: I tensorflow/core/grappler/optimizers/custom_graph_optimizer_registry.cc:113] Plugin optimizer for device_type GPU is enabled.\n",
            "2022-09-21 19:22:11.176663: I tensorflow/core/grappler/optimizers/custom_graph_optimizer_registry.cc:113] Plugin optimizer for device_type GPU is enabled.\n",
            " 95%|█████████▍| 35/37 [1:00:00<03:04, 92.27s/it]"
          ]
        },
        {
          "name": "stdout",
          "output_type": "stream",
          "text": [
            "\n",
            "valid_loss:  72550.8984375\n",
            "./aT_data/data/train/train_18.csv\n"
          ]
        },
        {
          "name": "stderr",
          "output_type": "stream",
          "text": [
            "2022-09-21 19:23:42.050103: I tensorflow/core/grappler/optimizers/custom_graph_optimizer_registry.cc:113] Plugin optimizer for device_type GPU is enabled.\n",
            "2022-09-21 19:23:42.317915: I tensorflow/core/grappler/optimizers/custom_graph_optimizer_registry.cc:113] Plugin optimizer for device_type GPU is enabled.\n",
            " 97%|█████████▋| 36/37 [1:01:33<01:32, 92.66s/it]"
          ]
        },
        {
          "name": "stdout",
          "output_type": "stream",
          "text": [
            "\n",
            "valid_loss:  106420168.0\n",
            "./aT_data/data/train/train_9.csv\n"
          ]
        },
        {
          "name": "stderr",
          "output_type": "stream",
          "text": [
            "2022-09-21 19:25:15.633249: I tensorflow/core/grappler/optimizers/custom_graph_optimizer_registry.cc:113] Plugin optimizer for device_type GPU is enabled.\n",
            "2022-09-21 19:25:16.389723: I tensorflow/core/grappler/optimizers/custom_graph_optimizer_registry.cc:113] Plugin optimizer for device_type GPU is enabled.\n",
            "100%|██████████| 37/37 [1:02:59<00:00, 102.16s/it]"
          ]
        },
        {
          "name": "stdout",
          "output_type": "stream",
          "text": [
            "\n",
            "valid_loss:  143529.59375\n"
          ]
        },
        {
          "name": "stderr",
          "output_type": "stream",
          "text": [
            "\n"
          ]
        }
      ],
      "source": [
        "from sklearn.preprocessing import MinMaxScaler\n",
        "\n",
        "losses = []\n",
        "scalers = {}\n",
        "\n",
        "for i in tqdm(data_list):\n",
        "    print(i)\n",
        "    df_number = i.split(\"_\")[-1].split(\".\")[0]\n",
        "    df = pd.read_csv(i)\n",
        "\n",
        "    # 사용할 열 선택 및 index 설정\n",
        "    df = feature_engineer(df)\n",
        "    df.set_index('datadate', drop=True, inplace=True)\n",
        "    \n",
        "    # nan 처리\n",
        "    df = df.replace({' ': np.nan})\n",
        "    df = df.fillna(0)\n",
        "    \n",
        "    # 변수와 타겟 분리\n",
        "    x, y = df[[i for i in df.columns if i != '해당일자_전체평균가격(원)']], df['해당일자_전체평균가격(원)']\n",
        "    scaler = MinMaxScaler()\n",
        "    x = pd.DataFrame(scaler.fit_transform(x))\n",
        "    scalers[df_number] = scaler\n",
        "\n",
        "    # 2주 입력을 통한 이후 4주 예측을 위해 y의 첫 14일을 제외\n",
        "    # y = y[14:]\n",
        "\n",
        "    # time series window 생성\n",
        "    data_x = time_window(x, 13, 1)\n",
        "    data_y = y_time_window(y, 27, 1)\n",
        "\n",
        "    # y의 길이와 같은 길이로 설정\n",
        "    xdata = data_x[:len(data_y)]\n",
        "    ydata = data_y\n",
        "    \n",
        "    # train, validation 분리 (8 : 2)\n",
        "    x_train, x_val, y_train, y_val = train_test_split(xdata, ydata, test_size=0.2, shuffle=False, random_state=119)\n",
        "\n",
        "    # transformer 모델 훈련\n",
        "    transformer = train(astype_data(x_train), y_train, astype_data(x_val), y_val, f'transformer-{df_number}', epoch,\n",
        "                        batch, learning_rate = 0.001, verbose = 0)\n",
        "    \n",
        "    transformer.load_weights(f'./check/transformer-{df_number}-{epoch}-{batch}.h5')\n",
        "    loss = transformer.evaluate(astype_data(x_val), y_val, verbose=0)\n",
        "    print('\\nvalid_loss: ', loss)\n",
        "    losses.append(loss)\n",
        "\n",
        "    if os.path.exists(f'./model') == False:\n",
        "        os.mkdir(f'./model')\n",
        "\n",
        "    # 모델 저장\n",
        "    transformer.save(f'./model/transformer-{df_number}-{epoch}-{batch}.h5')"
      ]
    },
    {
      "cell_type": "code",
      "execution_count": 11,
      "metadata": {
        "id": "AGBSWYe-Nno-"
      },
      "outputs": [
        {
          "data": {
            "text/plain": [
              "[751001.4375,\n",
              " 396421.90625,\n",
              " 208970.03125,\n",
              " 47639.41015625,\n",
              " 23399532.0,\n",
              " 4107801.25,\n",
              " 5155220.0,\n",
              " 2243115.75,\n",
              " 1547819.375,\n",
              " 70643728.0,\n",
              " 845366.75,\n",
              " 694899.5625,\n",
              " 568734.1875,\n",
              " 1433096.0,\n",
              " 155009.0,\n",
              " 184306.21875,\n",
              " 5128294.5,\n",
              " 2973533.75,\n",
              " 3618560.5,\n",
              " 585460.375,\n",
              " 247897.859375,\n",
              " 828530.125,\n",
              " 6296029.0,\n",
              " 345366.03125,\n",
              " 129421.40625,\n",
              " 2562734.25,\n",
              " 2345519.75,\n",
              " 6458560.0,\n",
              " 9804542.0,\n",
              " 2352154.0,\n",
              " 567381.9375,\n",
              " 3793452.0,\n",
              " 3878465.75,\n",
              " 269063.5625,\n",
              " 72550.8984375,\n",
              " 106420168.0,\n",
              " 143529.59375]"
            ]
          },
          "execution_count": 11,
          "metadata": {},
          "output_type": "execute_result"
        }
      ],
      "source": [
        "losses"
      ]
    },
    {
      "cell_type": "markdown",
      "metadata": {
        "id": "mgp2nVPxJ8fR"
      },
      "source": [
        "&nbsp;"
      ]
    },
    {
      "cell_type": "markdown",
      "metadata": {
        "id": "pNikiLNgJ8fT"
      },
      "source": [
        "## Test 과정"
      ]
    },
    {
      "cell_type": "code",
      "execution_count": 12,
      "metadata": {
        "id": "CiWO0A8xJ8fU"
      },
      "outputs": [
        {
          "name": "stderr",
          "output_type": "stream",
          "text": [
            "  0%|          | 0/10 [00:00<?, ?it/s]"
          ]
        },
        {
          "name": "stdout",
          "output_type": "stream",
          "text": [
            "1/1 [==============================] - 0s 173ms/step\n"
          ]
        },
        {
          "name": "stderr",
          "output_type": "stream",
          "text": [
            "2022-09-21 19:26:41.736471: I tensorflow/core/grappler/optimizers/custom_graph_optimizer_registry.cc:113] Plugin optimizer for device_type GPU is enabled.\n",
            "2022-09-21 19:26:41.934743: I tensorflow/core/grappler/optimizers/custom_graph_optimizer_registry.cc:113] Plugin optimizer for device_type GPU is enabled.\n"
          ]
        },
        {
          "name": "stdout",
          "output_type": "stream",
          "text": [
            "1/1 [==============================] - 0s 28ms/step\n",
            "1/1 [==============================] - 0s 29ms/step\n",
            "1/1 [==============================] - 0s 27ms/step\n",
            "WARNING:tensorflow:5 out of the last 5 calls to <function Model.make_predict_function.<locals>.predict_function at 0x1425065f0> triggered tf.function retracing. Tracing is expensive and the excessive number of tracings could be due to (1) creating @tf.function repeatedly in a loop, (2) passing tensors with different shapes, (3) passing Python objects instead of tensors. For (1), please define your @tf.function outside of the loop. For (2), @tf.function has reduce_retracing=True option that can avoid unnecessary retracing. For (3), please refer to https://www.tensorflow.org/guide/function#controlling_retracing and https://www.tensorflow.org/api_docs/python/tf/function for  more details.\n",
            "1/1 [==============================] - 0s 28ms/step\n"
          ]
        },
        {
          "name": "stderr",
          "output_type": "stream",
          "text": [
            "2022-09-21 19:26:42.015115: I tensorflow/core/grappler/optimizers/custom_graph_optimizer_registry.cc:113] Plugin optimizer for device_type GPU is enabled.\n",
            "2022-09-21 19:26:42.096197: I tensorflow/core/grappler/optimizers/custom_graph_optimizer_registry.cc:113] Plugin optimizer for device_type GPU is enabled.\n",
            "2022-09-21 19:26:42.175212: I tensorflow/core/grappler/optimizers/custom_graph_optimizer_registry.cc:113] Plugin optimizer for device_type GPU is enabled.\n"
          ]
        },
        {
          "name": "stdout",
          "output_type": "stream",
          "text": [
            "WARNING:tensorflow:6 out of the last 6 calls to <function Model.make_predict_function.<locals>.predict_function at 0x146bae710> triggered tf.function retracing. Tracing is expensive and the excessive number of tracings could be due to (1) creating @tf.function repeatedly in a loop, (2) passing tensors with different shapes, (3) passing Python objects instead of tensors. For (1), please define your @tf.function outside of the loop. For (2), @tf.function has reduce_retracing=True option that can avoid unnecessary retracing. For (3), please refer to https://www.tensorflow.org/guide/function#controlling_retracing and https://www.tensorflow.org/api_docs/python/tf/function for  more details.\n",
            "1/1 [==============================] - 0s 29ms/step\n",
            "1/1 [==============================] - 0s 27ms/step\n",
            "1/1 [==============================] - 0s 28ms/step\n"
          ]
        },
        {
          "name": "stderr",
          "output_type": "stream",
          "text": [
            "2022-09-21 19:26:42.262763: I tensorflow/core/grappler/optimizers/custom_graph_optimizer_registry.cc:113] Plugin optimizer for device_type GPU is enabled.\n",
            "2022-09-21 19:26:42.340632: I tensorflow/core/grappler/optimizers/custom_graph_optimizer_registry.cc:113] Plugin optimizer for device_type GPU is enabled.\n",
            "2022-09-21 19:26:42.422991: I tensorflow/core/grappler/optimizers/custom_graph_optimizer_registry.cc:113] Plugin optimizer for device_type GPU is enabled.\n"
          ]
        },
        {
          "name": "stdout",
          "output_type": "stream",
          "text": [
            "1/1 [==============================] - 0s 31ms/step\n",
            "1/1 [==============================] - 0s 28ms/step\n",
            "1/1 [==============================] - 0s 29ms/step\n"
          ]
        },
        {
          "name": "stderr",
          "output_type": "stream",
          "text": [
            "2022-09-21 19:26:42.503145: I tensorflow/core/grappler/optimizers/custom_graph_optimizer_registry.cc:113] Plugin optimizer for device_type GPU is enabled.\n",
            "2022-09-21 19:26:42.587833: I tensorflow/core/grappler/optimizers/custom_graph_optimizer_registry.cc:113] Plugin optimizer for device_type GPU is enabled.\n",
            "2022-09-21 19:26:42.668835: I tensorflow/core/grappler/optimizers/custom_graph_optimizer_registry.cc:113] Plugin optimizer for device_type GPU is enabled.\n"
          ]
        },
        {
          "name": "stdout",
          "output_type": "stream",
          "text": [
            "1/1 [==============================] - 0s 27ms/step\n",
            "1/1 [==============================] - 0s 27ms/step\n",
            "1/1 [==============================] - 0s 29ms/step\n"
          ]
        },
        {
          "name": "stderr",
          "output_type": "stream",
          "text": [
            "2022-09-21 19:26:42.747743: I tensorflow/core/grappler/optimizers/custom_graph_optimizer_registry.cc:113] Plugin optimizer for device_type GPU is enabled.\n",
            "2022-09-21 19:26:42.827562: I tensorflow/core/grappler/optimizers/custom_graph_optimizer_registry.cc:113] Plugin optimizer for device_type GPU is enabled.\n",
            "2022-09-21 19:26:42.905509: I tensorflow/core/grappler/optimizers/custom_graph_optimizer_registry.cc:113] Plugin optimizer for device_type GPU is enabled.\n"
          ]
        },
        {
          "name": "stdout",
          "output_type": "stream",
          "text": [
            "1/1 [==============================] - 0s 29ms/step\n",
            "1/1 [==============================] - 0s 33ms/step\n",
            "1/1 [==============================] - 0s 28ms/step\n"
          ]
        },
        {
          "name": "stderr",
          "output_type": "stream",
          "text": [
            "2022-09-21 19:26:42.989352: I tensorflow/core/grappler/optimizers/custom_graph_optimizer_registry.cc:113] Plugin optimizer for device_type GPU is enabled.\n",
            "2022-09-21 19:26:43.069727: I tensorflow/core/grappler/optimizers/custom_graph_optimizer_registry.cc:113] Plugin optimizer for device_type GPU is enabled.\n",
            "2022-09-21 19:26:43.156909: I tensorflow/core/grappler/optimizers/custom_graph_optimizer_registry.cc:113] Plugin optimizer for device_type GPU is enabled.\n"
          ]
        },
        {
          "name": "stdout",
          "output_type": "stream",
          "text": [
            "1/1 [==============================] - 0s 29ms/step\n",
            "1/1 [==============================] - 0s 34ms/step\n",
            "1/1 [==============================] - 0s 30ms/step\n"
          ]
        },
        {
          "name": "stderr",
          "output_type": "stream",
          "text": [
            "2022-09-21 19:26:43.240215: I tensorflow/core/grappler/optimizers/custom_graph_optimizer_registry.cc:113] Plugin optimizer for device_type GPU is enabled.\n",
            "2022-09-21 19:26:43.317926: I tensorflow/core/grappler/optimizers/custom_graph_optimizer_registry.cc:113] Plugin optimizer for device_type GPU is enabled.\n",
            "2022-09-21 19:26:43.406242: I tensorflow/core/grappler/optimizers/custom_graph_optimizer_registry.cc:113] Plugin optimizer for device_type GPU is enabled.\n"
          ]
        },
        {
          "name": "stdout",
          "output_type": "stream",
          "text": [
            "1/1 [==============================] - 0s 28ms/step\n",
            "1/1 [==============================] - 0s 28ms/step\n",
            "1/1 [==============================] - 0s 29ms/step\n"
          ]
        },
        {
          "name": "stderr",
          "output_type": "stream",
          "text": [
            "2022-09-21 19:26:43.489706: I tensorflow/core/grappler/optimizers/custom_graph_optimizer_registry.cc:113] Plugin optimizer for device_type GPU is enabled.\n",
            "2022-09-21 19:26:43.570909: I tensorflow/core/grappler/optimizers/custom_graph_optimizer_registry.cc:113] Plugin optimizer for device_type GPU is enabled.\n",
            "2022-09-21 19:26:43.652623: I tensorflow/core/grappler/optimizers/custom_graph_optimizer_registry.cc:113] Plugin optimizer for device_type GPU is enabled.\n"
          ]
        },
        {
          "name": "stdout",
          "output_type": "stream",
          "text": [
            "1/1 [==============================] - 0s 27ms/step\n",
            "1/1 [==============================] - 0s 33ms/step\n",
            "1/1 [==============================] - 0s 27ms/step\n"
          ]
        },
        {
          "name": "stderr",
          "output_type": "stream",
          "text": [
            "2022-09-21 19:26:43.733557: I tensorflow/core/grappler/optimizers/custom_graph_optimizer_registry.cc:113] Plugin optimizer for device_type GPU is enabled.\n",
            "2022-09-21 19:26:43.817278: I tensorflow/core/grappler/optimizers/custom_graph_optimizer_registry.cc:113] Plugin optimizer for device_type GPU is enabled.\n",
            "2022-09-21 19:26:43.902745: I tensorflow/core/grappler/optimizers/custom_graph_optimizer_registry.cc:113] Plugin optimizer for device_type GPU is enabled.\n"
          ]
        },
        {
          "name": "stdout",
          "output_type": "stream",
          "text": [
            "1/1 [==============================] - 0s 29ms/step\n",
            "1/1 [==============================] - 0s 27ms/step\n",
            "1/1 [==============================] - 0s 34ms/step\n"
          ]
        },
        {
          "name": "stderr",
          "output_type": "stream",
          "text": [
            "2022-09-21 19:26:43.983692: I tensorflow/core/grappler/optimizers/custom_graph_optimizer_registry.cc:113] Plugin optimizer for device_type GPU is enabled.\n",
            "2022-09-21 19:26:44.063695: I tensorflow/core/grappler/optimizers/custom_graph_optimizer_registry.cc:113] Plugin optimizer for device_type GPU is enabled.\n",
            "2022-09-21 19:26:44.143905: I tensorflow/core/grappler/optimizers/custom_graph_optimizer_registry.cc:113] Plugin optimizer for device_type GPU is enabled.\n"
          ]
        },
        {
          "name": "stdout",
          "output_type": "stream",
          "text": [
            "1/1 [==============================] - 0s 31ms/step\n",
            "1/1 [==============================] - 0s 27ms/step\n",
            "1/1 [==============================] - 0s 30ms/step\n"
          ]
        },
        {
          "name": "stderr",
          "output_type": "stream",
          "text": [
            "2022-09-21 19:26:44.247973: I tensorflow/core/grappler/optimizers/custom_graph_optimizer_registry.cc:113] Plugin optimizer for device_type GPU is enabled.\n",
            "2022-09-21 19:26:44.334311: I tensorflow/core/grappler/optimizers/custom_graph_optimizer_registry.cc:113] Plugin optimizer for device_type GPU is enabled.\n",
            "2022-09-21 19:26:44.414623: I tensorflow/core/grappler/optimizers/custom_graph_optimizer_registry.cc:113] Plugin optimizer for device_type GPU is enabled.\n"
          ]
        },
        {
          "name": "stdout",
          "output_type": "stream",
          "text": [
            "1/1 [==============================] - 0s 29ms/step\n",
            "1/1 [==============================] - 0s 31ms/step\n",
            "1/1 [==============================] - 0s 36ms/step\n"
          ]
        },
        {
          "name": "stderr",
          "output_type": "stream",
          "text": [
            "2022-09-21 19:26:44.500269: I tensorflow/core/grappler/optimizers/custom_graph_optimizer_registry.cc:113] Plugin optimizer for device_type GPU is enabled.\n",
            "2022-09-21 19:26:44.584875: I tensorflow/core/grappler/optimizers/custom_graph_optimizer_registry.cc:113] Plugin optimizer for device_type GPU is enabled.\n",
            "2022-09-21 19:26:44.677603: I tensorflow/core/grappler/optimizers/custom_graph_optimizer_registry.cc:113] Plugin optimizer for device_type GPU is enabled.\n"
          ]
        },
        {
          "name": "stdout",
          "output_type": "stream",
          "text": [
            "1/1 [==============================] - 0s 30ms/step\n",
            "1/1 [==============================] - 0s 28ms/step\n"
          ]
        },
        {
          "name": "stderr",
          "output_type": "stream",
          "text": [
            "2022-09-21 19:26:44.765523: I tensorflow/core/grappler/optimizers/custom_graph_optimizer_registry.cc:113] Plugin optimizer for device_type GPU is enabled.\n",
            "2022-09-21 19:26:44.852528: I tensorflow/core/grappler/optimizers/custom_graph_optimizer_registry.cc:113] Plugin optimizer for device_type GPU is enabled.\n",
            " 10%|█         | 1/10 [00:03<00:30,  3.37s/it]"
          ]
        },
        {
          "name": "stdout",
          "output_type": "stream",
          "text": [
            "1/1 [==============================] - 0s 29ms/step\n"
          ]
        },
        {
          "name": "stderr",
          "output_type": "stream",
          "text": [
            "2022-09-21 19:26:44.938735: I tensorflow/core/grappler/optimizers/custom_graph_optimizer_registry.cc:113] Plugin optimizer for device_type GPU is enabled.\n"
          ]
        },
        {
          "name": "stdout",
          "output_type": "stream",
          "text": [
            "1/1 [==============================] - 0s 36ms/step\n"
          ]
        },
        {
          "name": "stderr",
          "output_type": "stream",
          "text": [
            "2022-09-21 19:26:45.031548: I tensorflow/core/grappler/optimizers/custom_graph_optimizer_registry.cc:113] Plugin optimizer for device_type GPU is enabled.\n",
            "2022-09-21 19:26:45.130369: I tensorflow/core/grappler/optimizers/custom_graph_optimizer_registry.cc:113] Plugin optimizer for device_type GPU is enabled.\n"
          ]
        },
        {
          "name": "stdout",
          "output_type": "stream",
          "text": [
            "1/1 [==============================] - 0s 44ms/step\n"
          ]
        },
        {
          "name": "stderr",
          "output_type": "stream",
          "text": [
            "2022-09-21 19:26:45.232184: I tensorflow/core/grappler/optimizers/custom_graph_optimizer_registry.cc:113] Plugin optimizer for device_type GPU is enabled.\n"
          ]
        },
        {
          "name": "stdout",
          "output_type": "stream",
          "text": [
            "1/1 [==============================] - 0s 33ms/step\n",
            "1/1 [==============================] - 0s 31ms/step\n",
            "1/1 [==============================] - 0s 29ms/step\n"
          ]
        },
        {
          "name": "stderr",
          "output_type": "stream",
          "text": [
            "2022-09-21 19:26:45.327376: I tensorflow/core/grappler/optimizers/custom_graph_optimizer_registry.cc:113] Plugin optimizer for device_type GPU is enabled.\n",
            "2022-09-21 19:26:45.410976: I tensorflow/core/grappler/optimizers/custom_graph_optimizer_registry.cc:113] Plugin optimizer for device_type GPU is enabled.\n"
          ]
        },
        {
          "name": "stdout",
          "output_type": "stream",
          "text": [
            "1/1 [==============================] - 0s 28ms/step\n"
          ]
        },
        {
          "name": "stderr",
          "output_type": "stream",
          "text": [
            "2022-09-21 19:26:45.503189: I tensorflow/core/grappler/optimizers/custom_graph_optimizer_registry.cc:113] Plugin optimizer for device_type GPU is enabled.\n"
          ]
        },
        {
          "name": "stdout",
          "output_type": "stream",
          "text": [
            "1/1 [==============================] - 0s 29ms/step\n"
          ]
        },
        {
          "name": "stderr",
          "output_type": "stream",
          "text": [
            "2022-09-21 19:26:45.582153: I tensorflow/core/grappler/optimizers/custom_graph_optimizer_registry.cc:113] Plugin optimizer for device_type GPU is enabled.\n",
            "2022-09-21 19:26:45.690898: I tensorflow/core/grappler/optimizers/custom_graph_optimizer_registry.cc:113] Plugin optimizer for device_type GPU is enabled.\n"
          ]
        },
        {
          "name": "stdout",
          "output_type": "stream",
          "text": [
            "1/1 [==============================] - 0s 29ms/step\n"
          ]
        },
        {
          "name": "stderr",
          "output_type": "stream",
          "text": [
            "2022-09-21 19:26:45.772963: I tensorflow/core/grappler/optimizers/custom_graph_optimizer_registry.cc:113] Plugin optimizer for device_type GPU is enabled.\n"
          ]
        },
        {
          "name": "stdout",
          "output_type": "stream",
          "text": [
            "1/1 [==============================] - 0s 30ms/step\n",
            "1/1 [==============================] - 0s 28ms/step\n",
            "1/1 [==============================] - 0s 32ms/step\n"
          ]
        },
        {
          "name": "stderr",
          "output_type": "stream",
          "text": [
            "2022-09-21 19:26:45.852175: I tensorflow/core/grappler/optimizers/custom_graph_optimizer_registry.cc:113] Plugin optimizer for device_type GPU is enabled.\n",
            "2022-09-21 19:26:45.933636: I tensorflow/core/grappler/optimizers/custom_graph_optimizer_registry.cc:113] Plugin optimizer for device_type GPU is enabled.\n"
          ]
        },
        {
          "name": "stdout",
          "output_type": "stream",
          "text": [
            "1/1 [==============================] - 0s 28ms/step\n"
          ]
        },
        {
          "name": "stderr",
          "output_type": "stream",
          "text": [
            "2022-09-21 19:26:46.022397: I tensorflow/core/grappler/optimizers/custom_graph_optimizer_registry.cc:113] Plugin optimizer for device_type GPU is enabled.\n"
          ]
        },
        {
          "name": "stdout",
          "output_type": "stream",
          "text": [
            "1/1 [==============================] - 0s 30ms/step\n",
            "1/1 [==============================] - 0s 29ms/step\n"
          ]
        },
        {
          "name": "stderr",
          "output_type": "stream",
          "text": [
            "2022-09-21 19:26:46.103688: I tensorflow/core/grappler/optimizers/custom_graph_optimizer_registry.cc:113] Plugin optimizer for device_type GPU is enabled.\n",
            "2022-09-21 19:26:46.187800: I tensorflow/core/grappler/optimizers/custom_graph_optimizer_registry.cc:113] Plugin optimizer for device_type GPU is enabled.\n"
          ]
        },
        {
          "name": "stdout",
          "output_type": "stream",
          "text": [
            "1/1 [==============================] - 0s 30ms/step\n"
          ]
        },
        {
          "name": "stderr",
          "output_type": "stream",
          "text": [
            "2022-09-21 19:26:46.270506: I tensorflow/core/grappler/optimizers/custom_graph_optimizer_registry.cc:113] Plugin optimizer for device_type GPU is enabled.\n"
          ]
        },
        {
          "name": "stdout",
          "output_type": "stream",
          "text": [
            "1/1 [==============================] - 0s 29ms/step\n",
            "1/1 [==============================] - 0s 29ms/step\n"
          ]
        },
        {
          "name": "stderr",
          "output_type": "stream",
          "text": [
            "2022-09-21 19:26:46.352998: I tensorflow/core/grappler/optimizers/custom_graph_optimizer_registry.cc:113] Plugin optimizer for device_type GPU is enabled.\n",
            "2022-09-21 19:26:46.432137: I tensorflow/core/grappler/optimizers/custom_graph_optimizer_registry.cc:113] Plugin optimizer for device_type GPU is enabled.\n"
          ]
        },
        {
          "name": "stdout",
          "output_type": "stream",
          "text": [
            "1/1 [==============================] - 0s 29ms/step\n"
          ]
        },
        {
          "name": "stderr",
          "output_type": "stream",
          "text": [
            "2022-09-21 19:26:46.516992: I tensorflow/core/grappler/optimizers/custom_graph_optimizer_registry.cc:113] Plugin optimizer for device_type GPU is enabled.\n"
          ]
        },
        {
          "name": "stdout",
          "output_type": "stream",
          "text": [
            "1/1 [==============================] - 0s 32ms/step\n",
            "1/1 [==============================] - 0s 29ms/step\n"
          ]
        },
        {
          "name": "stderr",
          "output_type": "stream",
          "text": [
            "2022-09-21 19:26:46.597608: I tensorflow/core/grappler/optimizers/custom_graph_optimizer_registry.cc:113] Plugin optimizer for device_type GPU is enabled.\n",
            "2022-09-21 19:26:46.680939: I tensorflow/core/grappler/optimizers/custom_graph_optimizer_registry.cc:113] Plugin optimizer for device_type GPU is enabled.\n"
          ]
        },
        {
          "name": "stdout",
          "output_type": "stream",
          "text": [
            "1/1 [==============================] - 0s 30ms/step\n"
          ]
        },
        {
          "name": "stderr",
          "output_type": "stream",
          "text": [
            "2022-09-21 19:26:46.763395: I tensorflow/core/grappler/optimizers/custom_graph_optimizer_registry.cc:113] Plugin optimizer for device_type GPU is enabled.\n"
          ]
        },
        {
          "name": "stdout",
          "output_type": "stream",
          "text": [
            "1/1 [==============================] - 0s 31ms/step\n",
            "1/1 [==============================] - 0s 29ms/step\n"
          ]
        },
        {
          "name": "stderr",
          "output_type": "stream",
          "text": [
            "2022-09-21 19:26:46.843160: I tensorflow/core/grappler/optimizers/custom_graph_optimizer_registry.cc:113] Plugin optimizer for device_type GPU is enabled.\n",
            "2022-09-21 19:26:46.926762: I tensorflow/core/grappler/optimizers/custom_graph_optimizer_registry.cc:113] Plugin optimizer for device_type GPU is enabled.\n"
          ]
        },
        {
          "name": "stdout",
          "output_type": "stream",
          "text": [
            "1/1 [==============================] - 0s 31ms/step\n"
          ]
        },
        {
          "name": "stderr",
          "output_type": "stream",
          "text": [
            "2022-09-21 19:26:47.008449: I tensorflow/core/grappler/optimizers/custom_graph_optimizer_registry.cc:113] Plugin optimizer for device_type GPU is enabled.\n"
          ]
        },
        {
          "name": "stdout",
          "output_type": "stream",
          "text": [
            "1/1 [==============================] - 0s 28ms/step\n",
            "1/1 [==============================] - 0s 29ms/step\n",
            "1/1 [==============================] - 0s 30ms/step\n"
          ]
        },
        {
          "name": "stderr",
          "output_type": "stream",
          "text": [
            "2022-09-21 19:26:47.300138: I tensorflow/core/grappler/optimizers/custom_graph_optimizer_registry.cc:113] Plugin optimizer for device_type GPU is enabled.\n",
            "2022-09-21 19:26:47.379517: I tensorflow/core/grappler/optimizers/custom_graph_optimizer_registry.cc:113] Plugin optimizer for device_type GPU is enabled.\n",
            "2022-09-21 19:26:47.458933: I tensorflow/core/grappler/optimizers/custom_graph_optimizer_registry.cc:113] Plugin optimizer for device_type GPU is enabled.\n"
          ]
        },
        {
          "name": "stdout",
          "output_type": "stream",
          "text": [
            "1/1 [==============================] - 0s 28ms/step\n",
            "1/1 [==============================] - 0s 27ms/step\n",
            "1/1 [==============================] - 0s 29ms/step\n"
          ]
        },
        {
          "name": "stderr",
          "output_type": "stream",
          "text": [
            "2022-09-21 19:26:47.541961: I tensorflow/core/grappler/optimizers/custom_graph_optimizer_registry.cc:113] Plugin optimizer for device_type GPU is enabled.\n",
            "2022-09-21 19:26:47.621100: I tensorflow/core/grappler/optimizers/custom_graph_optimizer_registry.cc:113] Plugin optimizer for device_type GPU is enabled.\n",
            "2022-09-21 19:26:47.700248: I tensorflow/core/grappler/optimizers/custom_graph_optimizer_registry.cc:113] Plugin optimizer for device_type GPU is enabled.\n"
          ]
        },
        {
          "name": "stdout",
          "output_type": "stream",
          "text": [
            "1/1 [==============================] - 0s 28ms/step\n",
            "1/1 [==============================] - 0s 29ms/step\n",
            "1/1 [==============================] - 0s 26ms/step\n"
          ]
        },
        {
          "name": "stderr",
          "output_type": "stream",
          "text": [
            "2022-09-21 19:26:47.783754: I tensorflow/core/grappler/optimizers/custom_graph_optimizer_registry.cc:113] Plugin optimizer for device_type GPU is enabled.\n",
            "2022-09-21 19:26:47.862033: I tensorflow/core/grappler/optimizers/custom_graph_optimizer_registry.cc:113] Plugin optimizer for device_type GPU is enabled.\n",
            "2022-09-21 19:26:47.942475: I tensorflow/core/grappler/optimizers/custom_graph_optimizer_registry.cc:113] Plugin optimizer for device_type GPU is enabled.\n"
          ]
        },
        {
          "name": "stdout",
          "output_type": "stream",
          "text": [
            "1/1 [==============================] - 0s 28ms/step\n",
            "1/1 [==============================] - 0s 28ms/step\n",
            "1/1 [==============================] - 0s 29ms/step\n"
          ]
        },
        {
          "name": "stderr",
          "output_type": "stream",
          "text": [
            "2022-09-21 19:26:48.022329: I tensorflow/core/grappler/optimizers/custom_graph_optimizer_registry.cc:113] Plugin optimizer for device_type GPU is enabled.\n",
            "2022-09-21 19:26:48.101254: I tensorflow/core/grappler/optimizers/custom_graph_optimizer_registry.cc:113] Plugin optimizer for device_type GPU is enabled.\n",
            "2022-09-21 19:26:48.179814: I tensorflow/core/grappler/optimizers/custom_graph_optimizer_registry.cc:113] Plugin optimizer for device_type GPU is enabled.\n",
            " 20%|██        | 2/10 [00:06<00:26,  3.34s/it]"
          ]
        },
        {
          "name": "stdout",
          "output_type": "stream",
          "text": [
            "1/1 [==============================] - 0s 28ms/step\n",
            "1/1 [==============================] - 0s 32ms/step\n",
            "1/1 [==============================] - 0s 29ms/step\n"
          ]
        },
        {
          "name": "stderr",
          "output_type": "stream",
          "text": [
            "2022-09-21 19:26:48.265646: I tensorflow/core/grappler/optimizers/custom_graph_optimizer_registry.cc:113] Plugin optimizer for device_type GPU is enabled.\n",
            "2022-09-21 19:26:48.350691: I tensorflow/core/grappler/optimizers/custom_graph_optimizer_registry.cc:113] Plugin optimizer for device_type GPU is enabled.\n",
            "2022-09-21 19:26:48.430687: I tensorflow/core/grappler/optimizers/custom_graph_optimizer_registry.cc:113] Plugin optimizer for device_type GPU is enabled.\n"
          ]
        },
        {
          "name": "stdout",
          "output_type": "stream",
          "text": [
            "1/1 [==============================] - 0s 30ms/step\n",
            "1/1 [==============================] - 0s 29ms/step\n",
            "1/1 [==============================] - 0s 30ms/step\n"
          ]
        },
        {
          "name": "stderr",
          "output_type": "stream",
          "text": [
            "2022-09-21 19:26:48.514361: I tensorflow/core/grappler/optimizers/custom_graph_optimizer_registry.cc:113] Plugin optimizer for device_type GPU is enabled.\n",
            "2022-09-21 19:26:48.597355: I tensorflow/core/grappler/optimizers/custom_graph_optimizer_registry.cc:113] Plugin optimizer for device_type GPU is enabled.\n",
            "2022-09-21 19:26:48.679560: I tensorflow/core/grappler/optimizers/custom_graph_optimizer_registry.cc:113] Plugin optimizer for device_type GPU is enabled.\n"
          ]
        },
        {
          "name": "stdout",
          "output_type": "stream",
          "text": [
            "1/1 [==============================] - 0s 30ms/step\n",
            "1/1 [==============================] - 0s 29ms/step\n",
            "1/1 [==============================] - 0s 30ms/step\n"
          ]
        },
        {
          "name": "stderr",
          "output_type": "stream",
          "text": [
            "2022-09-21 19:26:48.765821: I tensorflow/core/grappler/optimizers/custom_graph_optimizer_registry.cc:113] Plugin optimizer for device_type GPU is enabled.\n",
            "2022-09-21 19:26:48.846978: I tensorflow/core/grappler/optimizers/custom_graph_optimizer_registry.cc:113] Plugin optimizer for device_type GPU is enabled.\n",
            "2022-09-21 19:26:48.933275: I tensorflow/core/grappler/optimizers/custom_graph_optimizer_registry.cc:113] Plugin optimizer for device_type GPU is enabled.\n"
          ]
        },
        {
          "name": "stdout",
          "output_type": "stream",
          "text": [
            "1/1 [==============================] - 0s 29ms/step\n",
            "1/1 [==============================] - 0s 29ms/step\n",
            "1/1 [==============================] - 0s 34ms/step\n"
          ]
        },
        {
          "name": "stderr",
          "output_type": "stream",
          "text": [
            "2022-09-21 19:26:49.016364: I tensorflow/core/grappler/optimizers/custom_graph_optimizer_registry.cc:113] Plugin optimizer for device_type GPU is enabled.\n",
            "2022-09-21 19:26:49.098597: I tensorflow/core/grappler/optimizers/custom_graph_optimizer_registry.cc:113] Plugin optimizer for device_type GPU is enabled.\n",
            "2022-09-21 19:26:49.181687: I tensorflow/core/grappler/optimizers/custom_graph_optimizer_registry.cc:113] Plugin optimizer for device_type GPU is enabled.\n"
          ]
        },
        {
          "name": "stdout",
          "output_type": "stream",
          "text": [
            "1/1 [==============================] - 0s 31ms/step\n",
            "1/1 [==============================] - 0s 29ms/step\n",
            "1/1 [==============================] - 0s 30ms/step\n"
          ]
        },
        {
          "name": "stderr",
          "output_type": "stream",
          "text": [
            "2022-09-21 19:26:49.266978: I tensorflow/core/grappler/optimizers/custom_graph_optimizer_registry.cc:113] Plugin optimizer for device_type GPU is enabled.\n",
            "2022-09-21 19:26:49.352610: I tensorflow/core/grappler/optimizers/custom_graph_optimizer_registry.cc:113] Plugin optimizer for device_type GPU is enabled.\n",
            "2022-09-21 19:26:49.433838: I tensorflow/core/grappler/optimizers/custom_graph_optimizer_registry.cc:113] Plugin optimizer for device_type GPU is enabled.\n"
          ]
        },
        {
          "name": "stdout",
          "output_type": "stream",
          "text": [
            "1/1 [==============================] - 0s 33ms/step\n",
            "1/1 [==============================] - 0s 29ms/step\n",
            "1/1 [==============================] - 0s 29ms/step\n"
          ]
        },
        {
          "name": "stderr",
          "output_type": "stream",
          "text": [
            "2022-09-21 19:26:49.546248: I tensorflow/core/grappler/optimizers/custom_graph_optimizer_registry.cc:113] Plugin optimizer for device_type GPU is enabled.\n",
            "2022-09-21 19:26:49.629665: I tensorflow/core/grappler/optimizers/custom_graph_optimizer_registry.cc:113] Plugin optimizer for device_type GPU is enabled.\n",
            "2022-09-21 19:26:49.711988: I tensorflow/core/grappler/optimizers/custom_graph_optimizer_registry.cc:113] Plugin optimizer for device_type GPU is enabled.\n"
          ]
        },
        {
          "name": "stdout",
          "output_type": "stream",
          "text": [
            "1/1 [==============================] - 0s 34ms/step\n",
            "1/1 [==============================] - 0s 31ms/step\n",
            "1/1 [==============================] - 0s 30ms/step\n"
          ]
        },
        {
          "name": "stderr",
          "output_type": "stream",
          "text": [
            "2022-09-21 19:26:49.796154: I tensorflow/core/grappler/optimizers/custom_graph_optimizer_registry.cc:113] Plugin optimizer for device_type GPU is enabled.\n",
            "2022-09-21 19:26:49.882553: I tensorflow/core/grappler/optimizers/custom_graph_optimizer_registry.cc:113] Plugin optimizer for device_type GPU is enabled.\n",
            "2022-09-21 19:26:49.975027: I tensorflow/core/grappler/optimizers/custom_graph_optimizer_registry.cc:113] Plugin optimizer for device_type GPU is enabled.\n"
          ]
        },
        {
          "name": "stdout",
          "output_type": "stream",
          "text": [
            "1/1 [==============================] - 0s 28ms/step\n",
            "1/1 [==============================] - 0s 29ms/step\n",
            "1/1 [==============================] - 0s 32ms/step\n"
          ]
        },
        {
          "name": "stderr",
          "output_type": "stream",
          "text": [
            "2022-09-21 19:26:50.056906: I tensorflow/core/grappler/optimizers/custom_graph_optimizer_registry.cc:113] Plugin optimizer for device_type GPU is enabled.\n",
            "2022-09-21 19:26:50.138090: I tensorflow/core/grappler/optimizers/custom_graph_optimizer_registry.cc:113] Plugin optimizer for device_type GPU is enabled.\n",
            "2022-09-21 19:26:50.225919: I tensorflow/core/grappler/optimizers/custom_graph_optimizer_registry.cc:113] Plugin optimizer for device_type GPU is enabled.\n"
          ]
        },
        {
          "name": "stdout",
          "output_type": "stream",
          "text": [
            "1/1 [==============================] - 0s 30ms/step\n",
            "1/1 [==============================] - 0s 30ms/step\n",
            "1/1 [==============================] - 0s 30ms/step\n"
          ]
        },
        {
          "name": "stderr",
          "output_type": "stream",
          "text": [
            "2022-09-21 19:26:50.310138: I tensorflow/core/grappler/optimizers/custom_graph_optimizer_registry.cc:113] Plugin optimizer for device_type GPU is enabled.\n",
            "2022-09-21 19:26:50.399473: I tensorflow/core/grappler/optimizers/custom_graph_optimizer_registry.cc:113] Plugin optimizer for device_type GPU is enabled.\n",
            "2022-09-21 19:26:50.482194: I tensorflow/core/grappler/optimizers/custom_graph_optimizer_registry.cc:113] Plugin optimizer for device_type GPU is enabled.\n"
          ]
        },
        {
          "name": "stdout",
          "output_type": "stream",
          "text": [
            "1/1 [==============================] - 0s 30ms/step\n",
            "1/1 [==============================] - 0s 29ms/step\n",
            "1/1 [==============================] - 0s 39ms/step\n"
          ]
        },
        {
          "name": "stderr",
          "output_type": "stream",
          "text": [
            "2022-09-21 19:26:50.567081: I tensorflow/core/grappler/optimizers/custom_graph_optimizer_registry.cc:113] Plugin optimizer for device_type GPU is enabled.\n",
            "2022-09-21 19:26:50.652084: I tensorflow/core/grappler/optimizers/custom_graph_optimizer_registry.cc:113] Plugin optimizer for device_type GPU is enabled.\n",
            "2022-09-21 19:26:50.748482: I tensorflow/core/grappler/optimizers/custom_graph_optimizer_registry.cc:113] Plugin optimizer for device_type GPU is enabled.\n"
          ]
        },
        {
          "name": "stdout",
          "output_type": "stream",
          "text": [
            "1/1 [==============================] - 0s 36ms/step\n",
            "1/1 [==============================] - 0s 35ms/step\n"
          ]
        },
        {
          "name": "stderr",
          "output_type": "stream",
          "text": [
            "2022-09-21 19:26:50.845376: I tensorflow/core/grappler/optimizers/custom_graph_optimizer_registry.cc:113] Plugin optimizer for device_type GPU is enabled.\n",
            "2022-09-21 19:26:50.940911: I tensorflow/core/grappler/optimizers/custom_graph_optimizer_registry.cc:113] Plugin optimizer for device_type GPU is enabled.\n",
            "2022-09-21 19:26:51.034553: I tensorflow/core/grappler/optimizers/custom_graph_optimizer_registry.cc:113] Plugin optimizer for device_type GPU is enabled.\n"
          ]
        },
        {
          "name": "stdout",
          "output_type": "stream",
          "text": [
            "1/1 [==============================] - 0s 33ms/step\n",
            "1/1 [==============================] - 0s 30ms/step\n",
            "1/1 [==============================] - 0s 30ms/step\n",
            "1/1 [==============================] - 0s 32ms/step\n"
          ]
        },
        {
          "name": "stderr",
          "output_type": "stream",
          "text": [
            "2022-09-21 19:26:51.117505: I tensorflow/core/grappler/optimizers/custom_graph_optimizer_registry.cc:113] Plugin optimizer for device_type GPU is enabled.\n",
            "2022-09-21 19:26:51.207617: I tensorflow/core/grappler/optimizers/custom_graph_optimizer_registry.cc:113] Plugin optimizer for device_type GPU is enabled.\n",
            "2022-09-21 19:26:51.291257: I tensorflow/core/grappler/optimizers/custom_graph_optimizer_registry.cc:113] Plugin optimizer for device_type GPU is enabled.\n"
          ]
        },
        {
          "name": "stdout",
          "output_type": "stream",
          "text": [
            "1/1 [==============================] - 0s 29ms/step\n"
          ]
        },
        {
          "name": "stderr",
          "output_type": "stream",
          "text": [
            "2022-09-21 19:26:51.374290: I tensorflow/core/grappler/optimizers/custom_graph_optimizer_registry.cc:113] Plugin optimizer for device_type GPU is enabled.\n",
            " 30%|███       | 3/10 [00:09<00:22,  3.28s/it]"
          ]
        },
        {
          "name": "stdout",
          "output_type": "stream",
          "text": [
            "1/1 [==============================] - 0s 29ms/step\n",
            "1/1 [==============================] - 0s 30ms/step\n"
          ]
        },
        {
          "name": "stderr",
          "output_type": "stream",
          "text": [
            "2022-09-21 19:26:51.462532: I tensorflow/core/grappler/optimizers/custom_graph_optimizer_registry.cc:113] Plugin optimizer for device_type GPU is enabled.\n",
            "2022-09-21 19:26:51.544123: I tensorflow/core/grappler/optimizers/custom_graph_optimizer_registry.cc:113] Plugin optimizer for device_type GPU is enabled.\n"
          ]
        },
        {
          "name": "stdout",
          "output_type": "stream",
          "text": [
            "1/1 [==============================] - 0s 29ms/step\n"
          ]
        },
        {
          "name": "stderr",
          "output_type": "stream",
          "text": [
            "2022-09-21 19:26:51.628071: I tensorflow/core/grappler/optimizers/custom_graph_optimizer_registry.cc:113] Plugin optimizer for device_type GPU is enabled.\n"
          ]
        },
        {
          "name": "stdout",
          "output_type": "stream",
          "text": [
            "1/1 [==============================] - 0s 34ms/step\n"
          ]
        },
        {
          "name": "stderr",
          "output_type": "stream",
          "text": [
            "2022-09-21 19:26:51.725986: I tensorflow/core/grappler/optimizers/custom_graph_optimizer_registry.cc:113] Plugin optimizer for device_type GPU is enabled.\n",
            "2022-09-21 19:26:51.817302: I tensorflow/core/grappler/optimizers/custom_graph_optimizer_registry.cc:113] Plugin optimizer for device_type GPU is enabled.\n"
          ]
        },
        {
          "name": "stdout",
          "output_type": "stream",
          "text": [
            "1/1 [==============================] - 0s 32ms/step\n",
            "1/1 [==============================] - 0s 33ms/step\n"
          ]
        },
        {
          "name": "stderr",
          "output_type": "stream",
          "text": [
            "2022-09-21 19:26:51.908749: I tensorflow/core/grappler/optimizers/custom_graph_optimizer_registry.cc:113] Plugin optimizer for device_type GPU is enabled.\n"
          ]
        },
        {
          "name": "stdout",
          "output_type": "stream",
          "text": [
            "1/1 [==============================] - 0s 47ms/step\n"
          ]
        },
        {
          "name": "stderr",
          "output_type": "stream",
          "text": [
            "2022-09-21 19:26:51.995189: I tensorflow/core/grappler/optimizers/custom_graph_optimizer_registry.cc:113] Plugin optimizer for device_type GPU is enabled.\n"
          ]
        },
        {
          "name": "stdout",
          "output_type": "stream",
          "text": [
            "1/1 [==============================] - 0s 31ms/step\n"
          ]
        },
        {
          "name": "stderr",
          "output_type": "stream",
          "text": [
            "2022-09-21 19:26:52.110107: I tensorflow/core/grappler/optimizers/custom_graph_optimizer_registry.cc:113] Plugin optimizer for device_type GPU is enabled.\n",
            "2022-09-21 19:26:52.192850: I tensorflow/core/grappler/optimizers/custom_graph_optimizer_registry.cc:113] Plugin optimizer for device_type GPU is enabled.\n"
          ]
        },
        {
          "name": "stdout",
          "output_type": "stream",
          "text": [
            "1/1 [==============================] - 0s 30ms/step\n",
            "1/1 [==============================] - 0s 29ms/step\n"
          ]
        },
        {
          "name": "stderr",
          "output_type": "stream",
          "text": [
            "2022-09-21 19:26:52.277133: I tensorflow/core/grappler/optimizers/custom_graph_optimizer_registry.cc:113] Plugin optimizer for device_type GPU is enabled.\n"
          ]
        },
        {
          "name": "stdout",
          "output_type": "stream",
          "text": [
            "1/1 [==============================] - 0s 33ms/step\n",
            "1/1 [==============================] - 0s 30ms/step\n"
          ]
        },
        {
          "name": "stderr",
          "output_type": "stream",
          "text": [
            "2022-09-21 19:26:52.362845: I tensorflow/core/grappler/optimizers/custom_graph_optimizer_registry.cc:113] Plugin optimizer for device_type GPU is enabled.\n",
            "2022-09-21 19:26:52.446608: I tensorflow/core/grappler/optimizers/custom_graph_optimizer_registry.cc:113] Plugin optimizer for device_type GPU is enabled.\n"
          ]
        },
        {
          "name": "stdout",
          "output_type": "stream",
          "text": [
            "1/1 [==============================] - 0s 29ms/step\n"
          ]
        },
        {
          "name": "stderr",
          "output_type": "stream",
          "text": [
            "2022-09-21 19:26:52.530818: I tensorflow/core/grappler/optimizers/custom_graph_optimizer_registry.cc:113] Plugin optimizer for device_type GPU is enabled.\n"
          ]
        },
        {
          "name": "stdout",
          "output_type": "stream",
          "text": [
            "1/1 [==============================] - 0s 29ms/step\n"
          ]
        },
        {
          "name": "stderr",
          "output_type": "stream",
          "text": [
            "2022-09-21 19:26:52.612004: I tensorflow/core/grappler/optimizers/custom_graph_optimizer_registry.cc:113] Plugin optimizer for device_type GPU is enabled.\n"
          ]
        },
        {
          "name": "stdout",
          "output_type": "stream",
          "text": [
            "1/1 [==============================] - 0s 47ms/step\n"
          ]
        },
        {
          "name": "stderr",
          "output_type": "stream",
          "text": [
            "2022-09-21 19:26:52.786357: I tensorflow/core/grappler/optimizers/custom_graph_optimizer_registry.cc:113] Plugin optimizer for device_type GPU is enabled.\n"
          ]
        },
        {
          "name": "stdout",
          "output_type": "stream",
          "text": [
            "1/1 [==============================] - 0s 37ms/step\n"
          ]
        },
        {
          "name": "stderr",
          "output_type": "stream",
          "text": [
            "2022-09-21 19:26:52.894879: I tensorflow/core/grappler/optimizers/custom_graph_optimizer_registry.cc:113] Plugin optimizer for device_type GPU is enabled.\n"
          ]
        },
        {
          "name": "stdout",
          "output_type": "stream",
          "text": [
            "1/1 [==============================] - 0s 60ms/step\n",
            "1/1 [==============================] - 0s 48ms/step\n"
          ]
        },
        {
          "name": "stderr",
          "output_type": "stream",
          "text": [
            "2022-09-21 19:26:53.442331: I tensorflow/core/grappler/optimizers/custom_graph_optimizer_registry.cc:113] Plugin optimizer for device_type GPU is enabled.\n",
            "2022-09-21 19:26:53.579906: I tensorflow/core/grappler/optimizers/custom_graph_optimizer_registry.cc:113] Plugin optimizer for device_type GPU is enabled.\n"
          ]
        },
        {
          "name": "stdout",
          "output_type": "stream",
          "text": [
            "1/1 [==============================] - 0s 50ms/step\n",
            "1/1 [==============================] - 0s 39ms/step\n"
          ]
        },
        {
          "name": "stderr",
          "output_type": "stream",
          "text": [
            "2022-09-21 19:26:53.731278: I tensorflow/core/grappler/optimizers/custom_graph_optimizer_registry.cc:113] Plugin optimizer for device_type GPU is enabled.\n",
            "2022-09-21 19:26:53.855250: I tensorflow/core/grappler/optimizers/custom_graph_optimizer_registry.cc:113] Plugin optimizer for device_type GPU is enabled.\n"
          ]
        },
        {
          "name": "stdout",
          "output_type": "stream",
          "text": [
            "1/1 [==============================] - 0s 37ms/step\n",
            "1/1 [==============================] - 0s 32ms/step\n",
            "1/1 [==============================] - 0s 30ms/step\n"
          ]
        },
        {
          "name": "stderr",
          "output_type": "stream",
          "text": [
            "2022-09-21 19:26:53.964652: I tensorflow/core/grappler/optimizers/custom_graph_optimizer_registry.cc:113] Plugin optimizer for device_type GPU is enabled.\n",
            "2022-09-21 19:26:54.057683: I tensorflow/core/grappler/optimizers/custom_graph_optimizer_registry.cc:113] Plugin optimizer for device_type GPU is enabled.\n",
            "2022-09-21 19:26:54.144688: I tensorflow/core/grappler/optimizers/custom_graph_optimizer_registry.cc:113] Plugin optimizer for device_type GPU is enabled.\n"
          ]
        },
        {
          "name": "stdout",
          "output_type": "stream",
          "text": [
            "1/1 [==============================] - 0s 29ms/step\n",
            "1/1 [==============================] - 0s 28ms/step\n",
            "1/1 [==============================] - 0s 28ms/step\n"
          ]
        },
        {
          "name": "stderr",
          "output_type": "stream",
          "text": [
            "2022-09-21 19:26:54.230130: I tensorflow/core/grappler/optimizers/custom_graph_optimizer_registry.cc:113] Plugin optimizer for device_type GPU is enabled.\n",
            "2022-09-21 19:26:54.311410: I tensorflow/core/grappler/optimizers/custom_graph_optimizer_registry.cc:113] Plugin optimizer for device_type GPU is enabled.\n",
            "2022-09-21 19:26:54.392409: I tensorflow/core/grappler/optimizers/custom_graph_optimizer_registry.cc:113] Plugin optimizer for device_type GPU is enabled.\n"
          ]
        },
        {
          "name": "stdout",
          "output_type": "stream",
          "text": [
            "1/1 [==============================] - 0s 29ms/step\n",
            "1/1 [==============================] - 0s 28ms/step\n",
            "1/1 [==============================] - 0s 28ms/step\n"
          ]
        },
        {
          "name": "stderr",
          "output_type": "stream",
          "text": [
            "2022-09-21 19:26:54.476482: I tensorflow/core/grappler/optimizers/custom_graph_optimizer_registry.cc:113] Plugin optimizer for device_type GPU is enabled.\n",
            "2022-09-21 19:26:54.558748: I tensorflow/core/grappler/optimizers/custom_graph_optimizer_registry.cc:113] Plugin optimizer for device_type GPU is enabled.\n",
            "2022-09-21 19:26:54.641844: I tensorflow/core/grappler/optimizers/custom_graph_optimizer_registry.cc:113] Plugin optimizer for device_type GPU is enabled.\n"
          ]
        },
        {
          "name": "stdout",
          "output_type": "stream",
          "text": [
            "1/1 [==============================] - 0s 31ms/step\n",
            "1/1 [==============================] - 0s 29ms/step\n",
            "1/1 [==============================] - 0s 28ms/step\n"
          ]
        },
        {
          "name": "stderr",
          "output_type": "stream",
          "text": [
            "2022-09-21 19:26:54.728673: I tensorflow/core/grappler/optimizers/custom_graph_optimizer_registry.cc:113] Plugin optimizer for device_type GPU is enabled.\n",
            "2022-09-21 19:26:54.809954: I tensorflow/core/grappler/optimizers/custom_graph_optimizer_registry.cc:113] Plugin optimizer for device_type GPU is enabled.\n",
            "2022-09-21 19:26:54.891673: I tensorflow/core/grappler/optimizers/custom_graph_optimizer_registry.cc:113] Plugin optimizer for device_type GPU is enabled.\n"
          ]
        },
        {
          "name": "stdout",
          "output_type": "stream",
          "text": [
            "1/1 [==============================] - 0s 29ms/step\n",
            "1/1 [==============================] - 0s 28ms/step\n",
            "1/1 [==============================] - 0s 28ms/step\n"
          ]
        },
        {
          "name": "stderr",
          "output_type": "stream",
          "text": [
            "2022-09-21 19:26:54.978899: I tensorflow/core/grappler/optimizers/custom_graph_optimizer_registry.cc:113] Plugin optimizer for device_type GPU is enabled.\n",
            "2022-09-21 19:26:55.064043: I tensorflow/core/grappler/optimizers/custom_graph_optimizer_registry.cc:113] Plugin optimizer for device_type GPU is enabled.\n",
            "2022-09-21 19:26:55.143852: I tensorflow/core/grappler/optimizers/custom_graph_optimizer_registry.cc:113] Plugin optimizer for device_type GPU is enabled.\n"
          ]
        },
        {
          "name": "stdout",
          "output_type": "stream",
          "text": [
            "1/1 [==============================] - 0s 28ms/step\n",
            "1/1 [==============================] - 0s 29ms/step\n"
          ]
        },
        {
          "name": "stderr",
          "output_type": "stream",
          "text": [
            "2022-09-21 19:26:55.238894: I tensorflow/core/grappler/optimizers/custom_graph_optimizer_registry.cc:113] Plugin optimizer for device_type GPU is enabled.\n",
            "2022-09-21 19:26:55.319866: I tensorflow/core/grappler/optimizers/custom_graph_optimizer_registry.cc:113] Plugin optimizer for device_type GPU is enabled.\n",
            " 40%|████      | 4/10 [00:13<00:21,  3.54s/it]"
          ]
        },
        {
          "name": "stdout",
          "output_type": "stream",
          "text": [
            "1/1 [==============================] - 0s 31ms/step\n"
          ]
        },
        {
          "name": "stderr",
          "output_type": "stream",
          "text": [
            "2022-09-21 19:26:55.404673: I tensorflow/core/grappler/optimizers/custom_graph_optimizer_registry.cc:113] Plugin optimizer for device_type GPU is enabled.\n"
          ]
        },
        {
          "name": "stdout",
          "output_type": "stream",
          "text": [
            "1/1 [==============================] - 0s 30ms/step\n",
            "1/1 [==============================] - 0s 28ms/step\n"
          ]
        },
        {
          "name": "stderr",
          "output_type": "stream",
          "text": [
            "2022-09-21 19:26:55.485582: I tensorflow/core/grappler/optimizers/custom_graph_optimizer_registry.cc:113] Plugin optimizer for device_type GPU is enabled.\n",
            "2022-09-21 19:26:55.570425: I tensorflow/core/grappler/optimizers/custom_graph_optimizer_registry.cc:113] Plugin optimizer for device_type GPU is enabled.\n"
          ]
        },
        {
          "name": "stdout",
          "output_type": "stream",
          "text": [
            "1/1 [==============================] - 0s 31ms/step\n"
          ]
        },
        {
          "name": "stderr",
          "output_type": "stream",
          "text": [
            "2022-09-21 19:26:55.650899: I tensorflow/core/grappler/optimizers/custom_graph_optimizer_registry.cc:113] Plugin optimizer for device_type GPU is enabled.\n"
          ]
        },
        {
          "name": "stdout",
          "output_type": "stream",
          "text": [
            "1/1 [==============================] - 0s 30ms/step\n",
            "1/1 [==============================] - 0s 30ms/step\n"
          ]
        },
        {
          "name": "stderr",
          "output_type": "stream",
          "text": [
            "2022-09-21 19:26:55.736811: I tensorflow/core/grappler/optimizers/custom_graph_optimizer_registry.cc:113] Plugin optimizer for device_type GPU is enabled.\n",
            "2022-09-21 19:26:55.820348: I tensorflow/core/grappler/optimizers/custom_graph_optimizer_registry.cc:113] Plugin optimizer for device_type GPU is enabled.\n"
          ]
        },
        {
          "name": "stdout",
          "output_type": "stream",
          "text": [
            "1/1 [==============================] - 0s 29ms/step\n"
          ]
        },
        {
          "name": "stderr",
          "output_type": "stream",
          "text": [
            "2022-09-21 19:26:55.901121: I tensorflow/core/grappler/optimizers/custom_graph_optimizer_registry.cc:113] Plugin optimizer for device_type GPU is enabled.\n"
          ]
        },
        {
          "name": "stdout",
          "output_type": "stream",
          "text": [
            "1/1 [==============================] - 0s 28ms/step\n",
            "1/1 [==============================] - 0s 28ms/step\n"
          ]
        },
        {
          "name": "stderr",
          "output_type": "stream",
          "text": [
            "2022-09-21 19:26:55.984818: I tensorflow/core/grappler/optimizers/custom_graph_optimizer_registry.cc:113] Plugin optimizer for device_type GPU is enabled.\n",
            "2022-09-21 19:26:56.064987: I tensorflow/core/grappler/optimizers/custom_graph_optimizer_registry.cc:113] Plugin optimizer for device_type GPU is enabled.\n"
          ]
        },
        {
          "name": "stdout",
          "output_type": "stream",
          "text": [
            "1/1 [==============================] - 0s 33ms/step\n"
          ]
        },
        {
          "name": "stderr",
          "output_type": "stream",
          "text": [
            "2022-09-21 19:26:56.150194: I tensorflow/core/grappler/optimizers/custom_graph_optimizer_registry.cc:113] Plugin optimizer for device_type GPU is enabled.\n"
          ]
        },
        {
          "name": "stdout",
          "output_type": "stream",
          "text": [
            "1/1 [==============================] - 0s 30ms/step\n",
            "1/1 [==============================] - 0s 29ms/step\n"
          ]
        },
        {
          "name": "stderr",
          "output_type": "stream",
          "text": [
            "2022-09-21 19:26:56.231619: I tensorflow/core/grappler/optimizers/custom_graph_optimizer_registry.cc:113] Plugin optimizer for device_type GPU is enabled.\n",
            "2022-09-21 19:26:56.314279: I tensorflow/core/grappler/optimizers/custom_graph_optimizer_registry.cc:113] Plugin optimizer for device_type GPU is enabled.\n"
          ]
        },
        {
          "name": "stdout",
          "output_type": "stream",
          "text": [
            "1/1 [==============================] - 0s 32ms/step\n"
          ]
        },
        {
          "name": "stderr",
          "output_type": "stream",
          "text": [
            "2022-09-21 19:26:56.397919: I tensorflow/core/grappler/optimizers/custom_graph_optimizer_registry.cc:113] Plugin optimizer for device_type GPU is enabled.\n"
          ]
        },
        {
          "name": "stdout",
          "output_type": "stream",
          "text": [
            "1/1 [==============================] - 0s 28ms/step\n",
            "1/1 [==============================] - 0s 30ms/step\n"
          ]
        },
        {
          "name": "stderr",
          "output_type": "stream",
          "text": [
            "2022-09-21 19:26:56.481151: I tensorflow/core/grappler/optimizers/custom_graph_optimizer_registry.cc:113] Plugin optimizer for device_type GPU is enabled.\n",
            "2022-09-21 19:26:56.563356: I tensorflow/core/grappler/optimizers/custom_graph_optimizer_registry.cc:113] Plugin optimizer for device_type GPU is enabled.\n"
          ]
        },
        {
          "name": "stdout",
          "output_type": "stream",
          "text": [
            "1/1 [==============================] - 0s 28ms/step\n"
          ]
        },
        {
          "name": "stderr",
          "output_type": "stream",
          "text": [
            "2022-09-21 19:26:56.654164: I tensorflow/core/grappler/optimizers/custom_graph_optimizer_registry.cc:113] Plugin optimizer for device_type GPU is enabled.\n"
          ]
        },
        {
          "name": "stdout",
          "output_type": "stream",
          "text": [
            "1/1 [==============================] - 0s 31ms/step\n",
            "1/1 [==============================] - 0s 32ms/step\n"
          ]
        },
        {
          "name": "stderr",
          "output_type": "stream",
          "text": [
            "2022-09-21 19:26:56.746233: I tensorflow/core/grappler/optimizers/custom_graph_optimizer_registry.cc:113] Plugin optimizer for device_type GPU is enabled.\n",
            "2022-09-21 19:26:56.835209: I tensorflow/core/grappler/optimizers/custom_graph_optimizer_registry.cc:113] Plugin optimizer for device_type GPU is enabled.\n"
          ]
        },
        {
          "name": "stdout",
          "output_type": "stream",
          "text": [
            "1/1 [==============================] - 0s 28ms/step\n"
          ]
        },
        {
          "name": "stderr",
          "output_type": "stream",
          "text": [
            "2022-09-21 19:26:56.919320: I tensorflow/core/grappler/optimizers/custom_graph_optimizer_registry.cc:113] Plugin optimizer for device_type GPU is enabled.\n"
          ]
        },
        {
          "name": "stdout",
          "output_type": "stream",
          "text": [
            "1/1 [==============================] - 0s 32ms/step\n",
            "1/1 [==============================] - 0s 30ms/step\n"
          ]
        },
        {
          "name": "stderr",
          "output_type": "stream",
          "text": [
            "2022-09-21 19:26:57.012077: I tensorflow/core/grappler/optimizers/custom_graph_optimizer_registry.cc:113] Plugin optimizer for device_type GPU is enabled.\n",
            "2022-09-21 19:26:57.095245: I tensorflow/core/grappler/optimizers/custom_graph_optimizer_registry.cc:113] Plugin optimizer for device_type GPU is enabled.\n"
          ]
        },
        {
          "name": "stdout",
          "output_type": "stream",
          "text": [
            "1/1 [==============================] - 0s 29ms/step\n"
          ]
        },
        {
          "name": "stderr",
          "output_type": "stream",
          "text": [
            "2022-09-21 19:26:57.178567: I tensorflow/core/grappler/optimizers/custom_graph_optimizer_registry.cc:113] Plugin optimizer for device_type GPU is enabled.\n"
          ]
        },
        {
          "name": "stdout",
          "output_type": "stream",
          "text": [
            "1/1 [==============================] - 0s 34ms/step\n",
            "1/1 [==============================] - 0s 32ms/step\n"
          ]
        },
        {
          "name": "stderr",
          "output_type": "stream",
          "text": [
            "2022-09-21 19:26:57.264718: I tensorflow/core/grappler/optimizers/custom_graph_optimizer_registry.cc:113] Plugin optimizer for device_type GPU is enabled.\n",
            "2022-09-21 19:26:57.355678: I tensorflow/core/grappler/optimizers/custom_graph_optimizer_registry.cc:113] Plugin optimizer for device_type GPU is enabled.\n"
          ]
        },
        {
          "name": "stdout",
          "output_type": "stream",
          "text": [
            "1/1 [==============================] - 0s 32ms/step\n"
          ]
        },
        {
          "name": "stderr",
          "output_type": "stream",
          "text": [
            "2022-09-21 19:26:57.444254: I tensorflow/core/grappler/optimizers/custom_graph_optimizer_registry.cc:113] Plugin optimizer for device_type GPU is enabled.\n"
          ]
        },
        {
          "name": "stdout",
          "output_type": "stream",
          "text": [
            "1/1 [==============================] - 0s 30ms/step\n",
            "1/1 [==============================] - 0s 29ms/step\n"
          ]
        },
        {
          "name": "stderr",
          "output_type": "stream",
          "text": [
            "2022-09-21 19:26:57.529271: I tensorflow/core/grappler/optimizers/custom_graph_optimizer_registry.cc:113] Plugin optimizer for device_type GPU is enabled.\n",
            "2022-09-21 19:26:57.611512: I tensorflow/core/grappler/optimizers/custom_graph_optimizer_registry.cc:113] Plugin optimizer for device_type GPU is enabled.\n"
          ]
        },
        {
          "name": "stdout",
          "output_type": "stream",
          "text": [
            "1/1 [==============================] - 0s 28ms/step\n"
          ]
        },
        {
          "name": "stderr",
          "output_type": "stream",
          "text": [
            "2022-09-21 19:26:57.693185: I tensorflow/core/grappler/optimizers/custom_graph_optimizer_registry.cc:113] Plugin optimizer for device_type GPU is enabled.\n"
          ]
        },
        {
          "name": "stdout",
          "output_type": "stream",
          "text": [
            "1/1 [==============================] - 0s 32ms/step\n",
            "1/1 [==============================] - 0s 31ms/step\n"
          ]
        },
        {
          "name": "stderr",
          "output_type": "stream",
          "text": [
            "2022-09-21 19:26:57.778666: I tensorflow/core/grappler/optimizers/custom_graph_optimizer_registry.cc:113] Plugin optimizer for device_type GPU is enabled.\n",
            "2022-09-21 19:26:57.860961: I tensorflow/core/grappler/optimizers/custom_graph_optimizer_registry.cc:113] Plugin optimizer for device_type GPU is enabled.\n"
          ]
        },
        {
          "name": "stdout",
          "output_type": "stream",
          "text": [
            "1/1 [==============================] - 0s 31ms/step\n"
          ]
        },
        {
          "name": "stderr",
          "output_type": "stream",
          "text": [
            "2022-09-21 19:26:57.944924: I tensorflow/core/grappler/optimizers/custom_graph_optimizer_registry.cc:113] Plugin optimizer for device_type GPU is enabled.\n"
          ]
        },
        {
          "name": "stdout",
          "output_type": "stream",
          "text": [
            "1/1 [==============================] - 0s 33ms/step\n",
            "1/1 [==============================] - 0s 31ms/step\n"
          ]
        },
        {
          "name": "stderr",
          "output_type": "stream",
          "text": [
            "2022-09-21 19:26:58.036218: I tensorflow/core/grappler/optimizers/custom_graph_optimizer_registry.cc:113] Plugin optimizer for device_type GPU is enabled.\n",
            "2022-09-21 19:26:58.124723: I tensorflow/core/grappler/optimizers/custom_graph_optimizer_registry.cc:113] Plugin optimizer for device_type GPU is enabled.\n",
            "2022-09-21 19:26:58.227042: I tensorflow/core/grappler/optimizers/custom_graph_optimizer_registry.cc:113] Plugin optimizer for device_type GPU is enabled.\n"
          ]
        },
        {
          "name": "stdout",
          "output_type": "stream",
          "text": [
            "1/1 [==============================] - 0s 31ms/step\n",
            "1/1 [==============================] - 0s 31ms/step\n",
            "1/1 [==============================] - 0s 32ms/step\n"
          ]
        },
        {
          "name": "stderr",
          "output_type": "stream",
          "text": [
            "2022-09-21 19:26:58.312799: I tensorflow/core/grappler/optimizers/custom_graph_optimizer_registry.cc:113] Plugin optimizer for device_type GPU is enabled.\n",
            "2022-09-21 19:26:58.401516: I tensorflow/core/grappler/optimizers/custom_graph_optimizer_registry.cc:113] Plugin optimizer for device_type GPU is enabled.\n"
          ]
        },
        {
          "name": "stdout",
          "output_type": "stream",
          "text": [
            "1/1 [==============================] - 0s 33ms/step\n"
          ]
        },
        {
          "name": "stderr",
          "output_type": "stream",
          "text": [
            "2022-09-21 19:26:58.491419: I tensorflow/core/grappler/optimizers/custom_graph_optimizer_registry.cc:113] Plugin optimizer for device_type GPU is enabled.\n",
            " 50%|█████     | 5/10 [00:17<00:17,  3.41s/it]"
          ]
        },
        {
          "name": "stdout",
          "output_type": "stream",
          "text": [
            "1/1 [==============================] - 0s 31ms/step\n",
            "1/1 [==============================] - 0s 31ms/step\n"
          ]
        },
        {
          "name": "stderr",
          "output_type": "stream",
          "text": [
            "2022-09-21 19:26:58.580161: I tensorflow/core/grappler/optimizers/custom_graph_optimizer_registry.cc:113] Plugin optimizer for device_type GPU is enabled.\n",
            "2022-09-21 19:26:58.670916: I tensorflow/core/grappler/optimizers/custom_graph_optimizer_registry.cc:113] Plugin optimizer for device_type GPU is enabled.\n"
          ]
        },
        {
          "name": "stdout",
          "output_type": "stream",
          "text": [
            "1/1 [==============================] - 0s 31ms/step\n"
          ]
        },
        {
          "name": "stderr",
          "output_type": "stream",
          "text": [
            "2022-09-21 19:26:58.760485: I tensorflow/core/grappler/optimizers/custom_graph_optimizer_registry.cc:113] Plugin optimizer for device_type GPU is enabled.\n"
          ]
        },
        {
          "name": "stdout",
          "output_type": "stream",
          "text": [
            "1/1 [==============================] - 0s 31ms/step\n",
            "1/1 [==============================] - 0s 33ms/step\n"
          ]
        },
        {
          "name": "stderr",
          "output_type": "stream",
          "text": [
            "2022-09-21 19:26:58.848833: I tensorflow/core/grappler/optimizers/custom_graph_optimizer_registry.cc:113] Plugin optimizer for device_type GPU is enabled.\n",
            "2022-09-21 19:26:58.937660: I tensorflow/core/grappler/optimizers/custom_graph_optimizer_registry.cc:113] Plugin optimizer for device_type GPU is enabled.\n"
          ]
        },
        {
          "name": "stdout",
          "output_type": "stream",
          "text": [
            "1/1 [==============================] - 0s 30ms/step\n"
          ]
        },
        {
          "name": "stderr",
          "output_type": "stream",
          "text": [
            "2022-09-21 19:26:59.024176: I tensorflow/core/grappler/optimizers/custom_graph_optimizer_registry.cc:113] Plugin optimizer for device_type GPU is enabled.\n"
          ]
        },
        {
          "name": "stdout",
          "output_type": "stream",
          "text": [
            "1/1 [==============================] - 0s 219ms/step\n",
            "1/1 [==============================] - 0s 29ms/step\n",
            "1/1 [==============================] - 0s 29ms/step\n"
          ]
        },
        {
          "name": "stderr",
          "output_type": "stream",
          "text": [
            "2022-09-21 19:26:59.302045: I tensorflow/core/grappler/optimizers/custom_graph_optimizer_registry.cc:113] Plugin optimizer for device_type GPU is enabled.\n",
            "2022-09-21 19:26:59.386484: I tensorflow/core/grappler/optimizers/custom_graph_optimizer_registry.cc:113] Plugin optimizer for device_type GPU is enabled.\n",
            "2022-09-21 19:26:59.470276: I tensorflow/core/grappler/optimizers/custom_graph_optimizer_registry.cc:113] Plugin optimizer for device_type GPU is enabled.\n"
          ]
        },
        {
          "name": "stdout",
          "output_type": "stream",
          "text": [
            "1/1 [==============================] - 0s 30ms/step\n",
            "1/1 [==============================] - 0s 29ms/step\n",
            "1/1 [==============================] - 0s 29ms/step\n"
          ]
        },
        {
          "name": "stderr",
          "output_type": "stream",
          "text": [
            "2022-09-21 19:26:59.554683: I tensorflow/core/grappler/optimizers/custom_graph_optimizer_registry.cc:113] Plugin optimizer for device_type GPU is enabled.\n",
            "2022-09-21 19:26:59.638006: I tensorflow/core/grappler/optimizers/custom_graph_optimizer_registry.cc:113] Plugin optimizer for device_type GPU is enabled.\n",
            "2022-09-21 19:26:59.720978: I tensorflow/core/grappler/optimizers/custom_graph_optimizer_registry.cc:113] Plugin optimizer for device_type GPU is enabled.\n"
          ]
        },
        {
          "name": "stdout",
          "output_type": "stream",
          "text": [
            "1/1 [==============================] - 0s 30ms/step\n",
            "1/1 [==============================] - 0s 29ms/step\n",
            "1/1 [==============================] - 0s 29ms/step\n"
          ]
        },
        {
          "name": "stderr",
          "output_type": "stream",
          "text": [
            "2022-09-21 19:26:59.819881: I tensorflow/core/grappler/optimizers/custom_graph_optimizer_registry.cc:113] Plugin optimizer for device_type GPU is enabled.\n",
            "2022-09-21 19:26:59.904236: I tensorflow/core/grappler/optimizers/custom_graph_optimizer_registry.cc:113] Plugin optimizer for device_type GPU is enabled.\n",
            "2022-09-21 19:26:59.988692: I tensorflow/core/grappler/optimizers/custom_graph_optimizer_registry.cc:113] Plugin optimizer for device_type GPU is enabled.\n"
          ]
        },
        {
          "name": "stdout",
          "output_type": "stream",
          "text": [
            "1/1 [==============================] - 0s 30ms/step\n",
            "1/1 [==============================] - 0s 29ms/step\n",
            "1/1 [==============================] - 0s 30ms/step\n"
          ]
        },
        {
          "name": "stderr",
          "output_type": "stream",
          "text": [
            "2022-09-21 19:27:00.074177: I tensorflow/core/grappler/optimizers/custom_graph_optimizer_registry.cc:113] Plugin optimizer for device_type GPU is enabled.\n",
            "2022-09-21 19:27:00.158687: I tensorflow/core/grappler/optimizers/custom_graph_optimizer_registry.cc:113] Plugin optimizer for device_type GPU is enabled.\n",
            "2022-09-21 19:27:00.242592: I tensorflow/core/grappler/optimizers/custom_graph_optimizer_registry.cc:113] Plugin optimizer for device_type GPU is enabled.\n"
          ]
        },
        {
          "name": "stdout",
          "output_type": "stream",
          "text": [
            "1/1 [==============================] - 0s 30ms/step\n",
            "1/1 [==============================] - 0s 29ms/step\n",
            "1/1 [==============================] - 0s 29ms/step\n"
          ]
        },
        {
          "name": "stderr",
          "output_type": "stream",
          "text": [
            "2022-09-21 19:27:00.327548: I tensorflow/core/grappler/optimizers/custom_graph_optimizer_registry.cc:113] Plugin optimizer for device_type GPU is enabled.\n",
            "2022-09-21 19:27:00.411333: I tensorflow/core/grappler/optimizers/custom_graph_optimizer_registry.cc:113] Plugin optimizer for device_type GPU is enabled.\n",
            "2022-09-21 19:27:00.497815: I tensorflow/core/grappler/optimizers/custom_graph_optimizer_registry.cc:113] Plugin optimizer for device_type GPU is enabled.\n"
          ]
        },
        {
          "name": "stdout",
          "output_type": "stream",
          "text": [
            "1/1 [==============================] - 0s 31ms/step\n",
            "1/1 [==============================] - 0s 30ms/step\n",
            "1/1 [==============================] - 0s 30ms/step\n"
          ]
        },
        {
          "name": "stderr",
          "output_type": "stream",
          "text": [
            "2022-09-21 19:27:00.582174: I tensorflow/core/grappler/optimizers/custom_graph_optimizer_registry.cc:113] Plugin optimizer for device_type GPU is enabled.\n",
            "2022-09-21 19:27:00.666855: I tensorflow/core/grappler/optimizers/custom_graph_optimizer_registry.cc:113] Plugin optimizer for device_type GPU is enabled.\n",
            "2022-09-21 19:27:00.755714: I tensorflow/core/grappler/optimizers/custom_graph_optimizer_registry.cc:113] Plugin optimizer for device_type GPU is enabled.\n"
          ]
        },
        {
          "name": "stdout",
          "output_type": "stream",
          "text": [
            "1/1 [==============================] - 0s 31ms/step\n",
            "1/1 [==============================] - 0s 29ms/step\n",
            "1/1 [==============================] - 0s 30ms/step\n"
          ]
        },
        {
          "name": "stderr",
          "output_type": "stream",
          "text": [
            "2022-09-21 19:27:00.844166: I tensorflow/core/grappler/optimizers/custom_graph_optimizer_registry.cc:113] Plugin optimizer for device_type GPU is enabled.\n",
            "2022-09-21 19:27:00.928238: I tensorflow/core/grappler/optimizers/custom_graph_optimizer_registry.cc:113] Plugin optimizer for device_type GPU is enabled.\n",
            "2022-09-21 19:27:01.014820: I tensorflow/core/grappler/optimizers/custom_graph_optimizer_registry.cc:113] Plugin optimizer for device_type GPU is enabled.\n"
          ]
        },
        {
          "name": "stdout",
          "output_type": "stream",
          "text": [
            "1/1 [==============================] - 0s 30ms/step\n",
            "1/1 [==============================] - 0s 30ms/step\n",
            "1/1 [==============================] - 0s 32ms/step\n"
          ]
        },
        {
          "name": "stderr",
          "output_type": "stream",
          "text": [
            "2022-09-21 19:27:01.098816: I tensorflow/core/grappler/optimizers/custom_graph_optimizer_registry.cc:113] Plugin optimizer for device_type GPU is enabled.\n",
            "2022-09-21 19:27:01.184626: I tensorflow/core/grappler/optimizers/custom_graph_optimizer_registry.cc:113] Plugin optimizer for device_type GPU is enabled.\n",
            "2022-09-21 19:27:01.269574: I tensorflow/core/grappler/optimizers/custom_graph_optimizer_registry.cc:113] Plugin optimizer for device_type GPU is enabled.\n"
          ]
        },
        {
          "name": "stdout",
          "output_type": "stream",
          "text": [
            "1/1 [==============================] - 0s 30ms/step\n",
            "1/1 [==============================] - 0s 31ms/step\n",
            "1/1 [==============================] - 0s 30ms/step\n"
          ]
        },
        {
          "name": "stderr",
          "output_type": "stream",
          "text": [
            "2022-09-21 19:27:01.353236: I tensorflow/core/grappler/optimizers/custom_graph_optimizer_registry.cc:113] Plugin optimizer for device_type GPU is enabled.\n",
            "2022-09-21 19:27:01.440214: I tensorflow/core/grappler/optimizers/custom_graph_optimizer_registry.cc:113] Plugin optimizer for device_type GPU is enabled.\n",
            "2022-09-21 19:27:01.524470: I tensorflow/core/grappler/optimizers/custom_graph_optimizer_registry.cc:113] Plugin optimizer for device_type GPU is enabled.\n"
          ]
        },
        {
          "name": "stdout",
          "output_type": "stream",
          "text": [
            "1/1 [==============================] - 0s 30ms/step\n",
            "1/1 [==============================] - 0s 30ms/step\n",
            "1/1 [==============================] - 0s 30ms/step\n"
          ]
        },
        {
          "name": "stderr",
          "output_type": "stream",
          "text": [
            "2022-09-21 19:27:01.615371: I tensorflow/core/grappler/optimizers/custom_graph_optimizer_registry.cc:113] Plugin optimizer for device_type GPU is enabled.\n",
            "2022-09-21 19:27:01.699608: I tensorflow/core/grappler/optimizers/custom_graph_optimizer_registry.cc:113] Plugin optimizer for device_type GPU is enabled.\n",
            "2022-09-21 19:27:01.785088: I tensorflow/core/grappler/optimizers/custom_graph_optimizer_registry.cc:113] Plugin optimizer for device_type GPU is enabled.\n"
          ]
        },
        {
          "name": "stdout",
          "output_type": "stream",
          "text": [
            "1/1 [==============================] - 0s 41ms/step\n"
          ]
        },
        {
          "name": "stderr",
          "output_type": "stream",
          "text": [
            "2022-09-21 19:27:01.881010: I tensorflow/core/grappler/optimizers/custom_graph_optimizer_registry.cc:113] Plugin optimizer for device_type GPU is enabled.\n",
            " 60%|██████    | 6/10 [00:20<00:13,  3.40s/it]"
          ]
        },
        {
          "name": "stdout",
          "output_type": "stream",
          "text": [
            "1/1 [==============================] - 0s 30ms/step\n",
            "1/1 [==============================] - 0s 30ms/step\n"
          ]
        },
        {
          "name": "stderr",
          "output_type": "stream",
          "text": [
            "2022-09-21 19:27:01.966566: I tensorflow/core/grappler/optimizers/custom_graph_optimizer_registry.cc:113] Plugin optimizer for device_type GPU is enabled.\n",
            "2022-09-21 19:27:02.053886: I tensorflow/core/grappler/optimizers/custom_graph_optimizer_registry.cc:113] Plugin optimizer for device_type GPU is enabled.\n"
          ]
        },
        {
          "name": "stdout",
          "output_type": "stream",
          "text": [
            "1/1 [==============================] - 0s 33ms/step\n"
          ]
        },
        {
          "name": "stderr",
          "output_type": "stream",
          "text": [
            "2022-09-21 19:27:02.139138: I tensorflow/core/grappler/optimizers/custom_graph_optimizer_registry.cc:113] Plugin optimizer for device_type GPU is enabled.\n"
          ]
        },
        {
          "name": "stdout",
          "output_type": "stream",
          "text": [
            "1/1 [==============================] - 0s 30ms/step\n",
            "1/1 [==============================] - 0s 31ms/step\n"
          ]
        },
        {
          "name": "stderr",
          "output_type": "stream",
          "text": [
            "2022-09-21 19:27:02.227235: I tensorflow/core/grappler/optimizers/custom_graph_optimizer_registry.cc:113] Plugin optimizer for device_type GPU is enabled.\n",
            "2022-09-21 19:27:02.313110: I tensorflow/core/grappler/optimizers/custom_graph_optimizer_registry.cc:113] Plugin optimizer for device_type GPU is enabled.\n"
          ]
        },
        {
          "name": "stdout",
          "output_type": "stream",
          "text": [
            "1/1 [==============================] - 0s 30ms/step\n"
          ]
        },
        {
          "name": "stderr",
          "output_type": "stream",
          "text": [
            "2022-09-21 19:27:02.397852: I tensorflow/core/grappler/optimizers/custom_graph_optimizer_registry.cc:113] Plugin optimizer for device_type GPU is enabled.\n"
          ]
        },
        {
          "name": "stdout",
          "output_type": "stream",
          "text": [
            "1/1 [==============================] - 0s 30ms/step\n",
            "1/1 [==============================] - 0s 30ms/step\n"
          ]
        },
        {
          "name": "stderr",
          "output_type": "stream",
          "text": [
            "2022-09-21 19:27:02.485016: I tensorflow/core/grappler/optimizers/custom_graph_optimizer_registry.cc:113] Plugin optimizer for device_type GPU is enabled.\n",
            "2022-09-21 19:27:02.570100: I tensorflow/core/grappler/optimizers/custom_graph_optimizer_registry.cc:113] Plugin optimizer for device_type GPU is enabled.\n"
          ]
        },
        {
          "name": "stdout",
          "output_type": "stream",
          "text": [
            "1/1 [==============================] - 0s 30ms/step\n"
          ]
        },
        {
          "name": "stderr",
          "output_type": "stream",
          "text": [
            "2022-09-21 19:27:02.661142: I tensorflow/core/grappler/optimizers/custom_graph_optimizer_registry.cc:113] Plugin optimizer for device_type GPU is enabled.\n"
          ]
        },
        {
          "name": "stdout",
          "output_type": "stream",
          "text": [
            "1/1 [==============================] - 0s 30ms/step\n"
          ]
        },
        {
          "name": "stderr",
          "output_type": "stream",
          "text": [
            "2022-09-21 19:27:02.777218: I tensorflow/core/grappler/optimizers/custom_graph_optimizer_registry.cc:113] Plugin optimizer for device_type GPU is enabled.\n"
          ]
        },
        {
          "name": "stdout",
          "output_type": "stream",
          "text": [
            "1/1 [==============================] - 0s 32ms/step\n",
            "1/1 [==============================] - 0s 34ms/step\n"
          ]
        },
        {
          "name": "stderr",
          "output_type": "stream",
          "text": [
            "2022-09-21 19:27:02.862748: I tensorflow/core/grappler/optimizers/custom_graph_optimizer_registry.cc:113] Plugin optimizer for device_type GPU is enabled.\n",
            "2022-09-21 19:27:02.951587: I tensorflow/core/grappler/optimizers/custom_graph_optimizer_registry.cc:113] Plugin optimizer for device_type GPU is enabled.\n"
          ]
        },
        {
          "name": "stdout",
          "output_type": "stream",
          "text": [
            "1/1 [==============================] - 0s 31ms/step\n"
          ]
        },
        {
          "name": "stderr",
          "output_type": "stream",
          "text": [
            "2022-09-21 19:27:03.039066: I tensorflow/core/grappler/optimizers/custom_graph_optimizer_registry.cc:113] Plugin optimizer for device_type GPU is enabled.\n"
          ]
        },
        {
          "name": "stdout",
          "output_type": "stream",
          "text": [
            "1/1 [==============================] - 0s 31ms/step\n",
            "1/1 [==============================] - 0s 31ms/step\n"
          ]
        },
        {
          "name": "stderr",
          "output_type": "stream",
          "text": [
            "2022-09-21 19:27:03.129041: I tensorflow/core/grappler/optimizers/custom_graph_optimizer_registry.cc:113] Plugin optimizer for device_type GPU is enabled.\n",
            "2022-09-21 19:27:03.215804: I tensorflow/core/grappler/optimizers/custom_graph_optimizer_registry.cc:113] Plugin optimizer for device_type GPU is enabled.\n"
          ]
        },
        {
          "name": "stdout",
          "output_type": "stream",
          "text": [
            "1/1 [==============================] - 0s 31ms/step\n"
          ]
        },
        {
          "name": "stderr",
          "output_type": "stream",
          "text": [
            "2022-09-21 19:27:03.303540: I tensorflow/core/grappler/optimizers/custom_graph_optimizer_registry.cc:113] Plugin optimizer for device_type GPU is enabled.\n"
          ]
        },
        {
          "name": "stdout",
          "output_type": "stream",
          "text": [
            "1/1 [==============================] - 0s 32ms/step\n",
            "1/1 [==============================] - 0s 31ms/step\n"
          ]
        },
        {
          "name": "stderr",
          "output_type": "stream",
          "text": [
            "2022-09-21 19:27:03.392312: I tensorflow/core/grappler/optimizers/custom_graph_optimizer_registry.cc:113] Plugin optimizer for device_type GPU is enabled.\n",
            "2022-09-21 19:27:03.478403: I tensorflow/core/grappler/optimizers/custom_graph_optimizer_registry.cc:113] Plugin optimizer for device_type GPU is enabled.\n"
          ]
        },
        {
          "name": "stdout",
          "output_type": "stream",
          "text": [
            "1/1 [==============================] - 0s 30ms/step\n"
          ]
        },
        {
          "name": "stderr",
          "output_type": "stream",
          "text": [
            "2022-09-21 19:27:03.567500: I tensorflow/core/grappler/optimizers/custom_graph_optimizer_registry.cc:113] Plugin optimizer for device_type GPU is enabled.\n"
          ]
        },
        {
          "name": "stdout",
          "output_type": "stream",
          "text": [
            "1/1 [==============================] - 0s 30ms/step\n",
            "1/1 [==============================] - 0s 31ms/step\n"
          ]
        },
        {
          "name": "stderr",
          "output_type": "stream",
          "text": [
            "2022-09-21 19:27:03.652081: I tensorflow/core/grappler/optimizers/custom_graph_optimizer_registry.cc:113] Plugin optimizer for device_type GPU is enabled.\n",
            "2022-09-21 19:27:03.739242: I tensorflow/core/grappler/optimizers/custom_graph_optimizer_registry.cc:113] Plugin optimizer for device_type GPU is enabled.\n"
          ]
        },
        {
          "name": "stdout",
          "output_type": "stream",
          "text": [
            "1/1 [==============================] - 0s 30ms/step\n"
          ]
        },
        {
          "name": "stderr",
          "output_type": "stream",
          "text": [
            "2022-09-21 19:27:03.827499: I tensorflow/core/grappler/optimizers/custom_graph_optimizer_registry.cc:113] Plugin optimizer for device_type GPU is enabled.\n"
          ]
        },
        {
          "name": "stdout",
          "output_type": "stream",
          "text": [
            "1/1 [==============================] - 0s 33ms/step\n",
            "1/1 [==============================] - ETA: 0s"
          ]
        },
        {
          "name": "stderr",
          "output_type": "stream",
          "text": [
            "2022-09-21 19:27:03.923737: I tensorflow/core/grappler/optimizers/custom_graph_optimizer_registry.cc:113] Plugin optimizer for device_type GPU is enabled.\n",
            "2022-09-21 19:27:04.012198: I tensorflow/core/grappler/optimizers/custom_graph_optimizer_registry.cc:113] Plugin optimizer for device_type GPU is enabled.\n"
          ]
        },
        {
          "name": "stdout",
          "output_type": "stream",
          "text": [
            "1/1 [==============================] - 0s 33ms/step\n",
            "1/1 [==============================] - 0s 31ms/step\n"
          ]
        },
        {
          "name": "stderr",
          "output_type": "stream",
          "text": [
            "2022-09-21 19:27:04.098495: I tensorflow/core/grappler/optimizers/custom_graph_optimizer_registry.cc:113] Plugin optimizer for device_type GPU is enabled.\n"
          ]
        },
        {
          "name": "stdout",
          "output_type": "stream",
          "text": [
            "1/1 [==============================] - 0s 33ms/step\n",
            "1/1 [==============================] - 0s 31ms/step\n"
          ]
        },
        {
          "name": "stderr",
          "output_type": "stream",
          "text": [
            "2022-09-21 19:27:04.188079: I tensorflow/core/grappler/optimizers/custom_graph_optimizer_registry.cc:113] Plugin optimizer for device_type GPU is enabled.\n",
            "2022-09-21 19:27:04.275772: I tensorflow/core/grappler/optimizers/custom_graph_optimizer_registry.cc:113] Plugin optimizer for device_type GPU is enabled.\n"
          ]
        },
        {
          "name": "stdout",
          "output_type": "stream",
          "text": [
            "1/1 [==============================] - 0s 31ms/step\n"
          ]
        },
        {
          "name": "stderr",
          "output_type": "stream",
          "text": [
            "2022-09-21 19:27:04.363580: I tensorflow/core/grappler/optimizers/custom_graph_optimizer_registry.cc:113] Plugin optimizer for device_type GPU is enabled.\n"
          ]
        },
        {
          "name": "stdout",
          "output_type": "stream",
          "text": [
            "1/1 [==============================] - 0s 34ms/step\n",
            "1/1 [==============================] - 0s 31ms/step\n"
          ]
        },
        {
          "name": "stderr",
          "output_type": "stream",
          "text": [
            "2022-09-21 19:27:04.458272: I tensorflow/core/grappler/optimizers/custom_graph_optimizer_registry.cc:113] Plugin optimizer for device_type GPU is enabled.\n",
            "2022-09-21 19:27:04.545495: I tensorflow/core/grappler/optimizers/custom_graph_optimizer_registry.cc:113] Plugin optimizer for device_type GPU is enabled.\n"
          ]
        },
        {
          "name": "stdout",
          "output_type": "stream",
          "text": [
            "1/1 [==============================] - 0s 31ms/step\n"
          ]
        },
        {
          "name": "stderr",
          "output_type": "stream",
          "text": [
            "2022-09-21 19:27:04.636803: I tensorflow/core/grappler/optimizers/custom_graph_optimizer_registry.cc:113] Plugin optimizer for device_type GPU is enabled.\n"
          ]
        },
        {
          "name": "stdout",
          "output_type": "stream",
          "text": [
            "1/1 [==============================] - 0s 31ms/step\n"
          ]
        },
        {
          "name": "stderr",
          "output_type": "stream",
          "text": [
            "2022-09-21 19:27:04.723941: I tensorflow/core/grappler/optimizers/custom_graph_optimizer_registry.cc:113] Plugin optimizer for device_type GPU is enabled.\n"
          ]
        },
        {
          "name": "stdout",
          "output_type": "stream",
          "text": [
            "1/1 [==============================] - 0s 31ms/step\n",
            "1/1 [==============================] - 0s 30ms/step\n",
            "1/1 [==============================] - 0s 29ms/step\n"
          ]
        },
        {
          "name": "stderr",
          "output_type": "stream",
          "text": [
            "2022-09-21 19:27:05.011600: I tensorflow/core/grappler/optimizers/custom_graph_optimizer_registry.cc:113] Plugin optimizer for device_type GPU is enabled.\n",
            "2022-09-21 19:27:05.095800: I tensorflow/core/grappler/optimizers/custom_graph_optimizer_registry.cc:113] Plugin optimizer for device_type GPU is enabled.\n",
            "2022-09-21 19:27:05.179309: I tensorflow/core/grappler/optimizers/custom_graph_optimizer_registry.cc:113] Plugin optimizer for device_type GPU is enabled.\n"
          ]
        },
        {
          "name": "stdout",
          "output_type": "stream",
          "text": [
            "1/1 [==============================] - 0s 29ms/step\n",
            "1/1 [==============================] - 0s 29ms/step\n"
          ]
        },
        {
          "name": "stderr",
          "output_type": "stream",
          "text": [
            "2022-09-21 19:27:05.267173: I tensorflow/core/grappler/optimizers/custom_graph_optimizer_registry.cc:113] Plugin optimizer for device_type GPU is enabled.\n",
            "2022-09-21 19:27:05.349620: I tensorflow/core/grappler/optimizers/custom_graph_optimizer_registry.cc:113] Plugin optimizer for device_type GPU is enabled.\n",
            " 70%|███████   | 7/10 [00:23<00:10,  3.42s/it]"
          ]
        },
        {
          "name": "stdout",
          "output_type": "stream",
          "text": [
            "1/1 [==============================] - 0s 31ms/step\n"
          ]
        },
        {
          "name": "stderr",
          "output_type": "stream",
          "text": [
            "2022-09-21 19:27:05.434789: I tensorflow/core/grappler/optimizers/custom_graph_optimizer_registry.cc:113] Plugin optimizer for device_type GPU is enabled.\n"
          ]
        },
        {
          "name": "stdout",
          "output_type": "stream",
          "text": [
            "1/1 [==============================] - 0s 30ms/step\n",
            "1/1 [==============================] - 0s 29ms/step\n"
          ]
        },
        {
          "name": "stderr",
          "output_type": "stream",
          "text": [
            "2022-09-21 19:27:05.521908: I tensorflow/core/grappler/optimizers/custom_graph_optimizer_registry.cc:113] Plugin optimizer for device_type GPU is enabled.\n",
            "2022-09-21 19:27:05.604425: I tensorflow/core/grappler/optimizers/custom_graph_optimizer_registry.cc:113] Plugin optimizer for device_type GPU is enabled.\n"
          ]
        },
        {
          "name": "stdout",
          "output_type": "stream",
          "text": [
            "1/1 [==============================] - 0s 29ms/step\n"
          ]
        },
        {
          "name": "stderr",
          "output_type": "stream",
          "text": [
            "2022-09-21 19:27:05.688623: I tensorflow/core/grappler/optimizers/custom_graph_optimizer_registry.cc:113] Plugin optimizer for device_type GPU is enabled.\n"
          ]
        },
        {
          "name": "stdout",
          "output_type": "stream",
          "text": [
            "1/1 [==============================] - 0s 29ms/step\n",
            "1/1 [==============================] - 0s 29ms/step\n"
          ]
        },
        {
          "name": "stderr",
          "output_type": "stream",
          "text": [
            "2022-09-21 19:27:05.776115: I tensorflow/core/grappler/optimizers/custom_graph_optimizer_registry.cc:113] Plugin optimizer for device_type GPU is enabled.\n",
            "2022-09-21 19:27:05.858875: I tensorflow/core/grappler/optimizers/custom_graph_optimizer_registry.cc:113] Plugin optimizer for device_type GPU is enabled.\n"
          ]
        },
        {
          "name": "stdout",
          "output_type": "stream",
          "text": [
            "1/1 [==============================] - 0s 30ms/step\n"
          ]
        },
        {
          "name": "stderr",
          "output_type": "stream",
          "text": [
            "2022-09-21 19:27:05.944473: I tensorflow/core/grappler/optimizers/custom_graph_optimizer_registry.cc:113] Plugin optimizer for device_type GPU is enabled.\n"
          ]
        },
        {
          "name": "stdout",
          "output_type": "stream",
          "text": [
            "1/1 [==============================] - 0s 30ms/step\n",
            "1/1 [==============================] - 0s 30ms/step\n"
          ]
        },
        {
          "name": "stderr",
          "output_type": "stream",
          "text": [
            "2022-09-21 19:27:06.030976: I tensorflow/core/grappler/optimizers/custom_graph_optimizer_registry.cc:113] Plugin optimizer for device_type GPU is enabled.\n",
            "2022-09-21 19:27:06.115133: I tensorflow/core/grappler/optimizers/custom_graph_optimizer_registry.cc:113] Plugin optimizer for device_type GPU is enabled.\n"
          ]
        },
        {
          "name": "stdout",
          "output_type": "stream",
          "text": [
            "1/1 [==============================] - 0s 32ms/step\n"
          ]
        },
        {
          "name": "stderr",
          "output_type": "stream",
          "text": [
            "2022-09-21 19:27:06.202735: I tensorflow/core/grappler/optimizers/custom_graph_optimizer_registry.cc:113] Plugin optimizer for device_type GPU is enabled.\n"
          ]
        },
        {
          "name": "stdout",
          "output_type": "stream",
          "text": [
            "1/1 [==============================] - 0s 29ms/step\n",
            "1/1 [==============================] - 0s 39ms/step\n"
          ]
        },
        {
          "name": "stderr",
          "output_type": "stream",
          "text": [
            "2022-09-21 19:27:06.287968: I tensorflow/core/grappler/optimizers/custom_graph_optimizer_registry.cc:113] Plugin optimizer for device_type GPU is enabled.\n",
            "2022-09-21 19:27:06.370834: I tensorflow/core/grappler/optimizers/custom_graph_optimizer_registry.cc:113] Plugin optimizer for device_type GPU is enabled.\n"
          ]
        },
        {
          "name": "stdout",
          "output_type": "stream",
          "text": [
            "1/1 [==============================] - 0s 31ms/step\n"
          ]
        },
        {
          "name": "stderr",
          "output_type": "stream",
          "text": [
            "2022-09-21 19:27:06.465589: I tensorflow/core/grappler/optimizers/custom_graph_optimizer_registry.cc:113] Plugin optimizer for device_type GPU is enabled.\n"
          ]
        },
        {
          "name": "stdout",
          "output_type": "stream",
          "text": [
            "1/1 [==============================] - 0s 33ms/step\n",
            "1/1 [==============================] - 0s 32ms/step\n"
          ]
        },
        {
          "name": "stderr",
          "output_type": "stream",
          "text": [
            "2022-09-21 19:27:06.556930: I tensorflow/core/grappler/optimizers/custom_graph_optimizer_registry.cc:113] Plugin optimizer for device_type GPU is enabled.\n",
            "2022-09-21 19:27:06.640985: I tensorflow/core/grappler/optimizers/custom_graph_optimizer_registry.cc:113] Plugin optimizer for device_type GPU is enabled.\n"
          ]
        },
        {
          "name": "stdout",
          "output_type": "stream",
          "text": [
            "1/1 [==============================] - 0s 30ms/step\n"
          ]
        },
        {
          "name": "stderr",
          "output_type": "stream",
          "text": [
            "2022-09-21 19:27:06.729379: I tensorflow/core/grappler/optimizers/custom_graph_optimizer_registry.cc:113] Plugin optimizer for device_type GPU is enabled.\n"
          ]
        },
        {
          "name": "stdout",
          "output_type": "stream",
          "text": [
            "1/1 [==============================] - 0s 29ms/step\n",
            "1/1 [==============================] - 0s 30ms/step\n"
          ]
        },
        {
          "name": "stderr",
          "output_type": "stream",
          "text": [
            "2022-09-21 19:27:06.813114: I tensorflow/core/grappler/optimizers/custom_graph_optimizer_registry.cc:113] Plugin optimizer for device_type GPU is enabled.\n",
            "2022-09-21 19:27:06.898427: I tensorflow/core/grappler/optimizers/custom_graph_optimizer_registry.cc:113] Plugin optimizer for device_type GPU is enabled.\n"
          ]
        },
        {
          "name": "stdout",
          "output_type": "stream",
          "text": [
            "1/1 [==============================] - 0s 32ms/step\n"
          ]
        },
        {
          "name": "stderr",
          "output_type": "stream",
          "text": [
            "2022-09-21 19:27:06.985299: I tensorflow/core/grappler/optimizers/custom_graph_optimizer_registry.cc:113] Plugin optimizer for device_type GPU is enabled.\n"
          ]
        },
        {
          "name": "stdout",
          "output_type": "stream",
          "text": [
            "1/1 [==============================] - 0s 30ms/step\n",
            "1/1 [==============================] - 0s 30ms/step\n"
          ]
        },
        {
          "name": "stderr",
          "output_type": "stream",
          "text": [
            "2022-09-21 19:27:07.070231: I tensorflow/core/grappler/optimizers/custom_graph_optimizer_registry.cc:113] Plugin optimizer for device_type GPU is enabled.\n",
            "2022-09-21 19:27:07.156684: I tensorflow/core/grappler/optimizers/custom_graph_optimizer_registry.cc:113] Plugin optimizer for device_type GPU is enabled.\n"
          ]
        },
        {
          "name": "stdout",
          "output_type": "stream",
          "text": [
            "1/1 [==============================] - 0s 31ms/step\n"
          ]
        },
        {
          "name": "stderr",
          "output_type": "stream",
          "text": [
            "2022-09-21 19:27:07.243234: I tensorflow/core/grappler/optimizers/custom_graph_optimizer_registry.cc:113] Plugin optimizer for device_type GPU is enabled.\n"
          ]
        },
        {
          "name": "stdout",
          "output_type": "stream",
          "text": [
            "1/1 [==============================] - 0s 33ms/step\n"
          ]
        },
        {
          "name": "stderr",
          "output_type": "stream",
          "text": [
            "2022-09-21 19:27:07.344499: I tensorflow/core/grappler/optimizers/custom_graph_optimizer_registry.cc:113] Plugin optimizer for device_type GPU is enabled.\n",
            "2022-09-21 19:27:07.437282: I tensorflow/core/grappler/optimizers/custom_graph_optimizer_registry.cc:113] Plugin optimizer for device_type GPU is enabled.\n"
          ]
        },
        {
          "name": "stdout",
          "output_type": "stream",
          "text": [
            "1/1 [==============================] - 0s 32ms/step\n",
            "1/1 [==============================] - 0s 32ms/step\n"
          ]
        },
        {
          "name": "stderr",
          "output_type": "stream",
          "text": [
            "2022-09-21 19:27:07.527333: I tensorflow/core/grappler/optimizers/custom_graph_optimizer_registry.cc:113] Plugin optimizer for device_type GPU is enabled.\n"
          ]
        },
        {
          "name": "stdout",
          "output_type": "stream",
          "text": [
            "1/1 [==============================] - 0s 32ms/step\n",
            "1/1 [==============================] - 0s 30ms/step\n"
          ]
        },
        {
          "name": "stderr",
          "output_type": "stream",
          "text": [
            "2022-09-21 19:27:07.614700: I tensorflow/core/grappler/optimizers/custom_graph_optimizer_registry.cc:113] Plugin optimizer for device_type GPU is enabled.\n",
            "2022-09-21 19:27:07.698950: I tensorflow/core/grappler/optimizers/custom_graph_optimizer_registry.cc:113] Plugin optimizer for device_type GPU is enabled.\n"
          ]
        },
        {
          "name": "stdout",
          "output_type": "stream",
          "text": [
            "1/1 [==============================] - 0s 30ms/step\n"
          ]
        },
        {
          "name": "stderr",
          "output_type": "stream",
          "text": [
            "2022-09-21 19:27:07.786822: I tensorflow/core/grappler/optimizers/custom_graph_optimizer_registry.cc:113] Plugin optimizer for device_type GPU is enabled.\n"
          ]
        },
        {
          "name": "stdout",
          "output_type": "stream",
          "text": [
            "1/1 [==============================] - 0s 30ms/step\n",
            "1/1 [==============================] - ETA: 0s"
          ]
        },
        {
          "name": "stderr",
          "output_type": "stream",
          "text": [
            "2022-09-21 19:27:07.871467: I tensorflow/core/grappler/optimizers/custom_graph_optimizer_registry.cc:113] Plugin optimizer for device_type GPU is enabled.\n",
            "2022-09-21 19:27:07.971060: I tensorflow/core/grappler/optimizers/custom_graph_optimizer_registry.cc:113] Plugin optimizer for device_type GPU is enabled.\n"
          ]
        },
        {
          "name": "stdout",
          "output_type": "stream",
          "text": [
            "1/1 [==============================] - 0s 34ms/step\n"
          ]
        },
        {
          "name": "stderr",
          "output_type": "stream",
          "text": [
            "2022-09-21 19:27:08.061733: I tensorflow/core/grappler/optimizers/custom_graph_optimizer_registry.cc:113] Plugin optimizer for device_type GPU is enabled.\n"
          ]
        },
        {
          "name": "stdout",
          "output_type": "stream",
          "text": [
            "1/1 [==============================] - 0s 33ms/step\n",
            "1/1 [==============================] - 0s 31ms/step\n",
            "1/1 [==============================] - 0s 31ms/step\n"
          ]
        },
        {
          "name": "stderr",
          "output_type": "stream",
          "text": [
            "2022-09-21 19:27:08.148640: I tensorflow/core/grappler/optimizers/custom_graph_optimizer_registry.cc:113] Plugin optimizer for device_type GPU is enabled.\n",
            "2022-09-21 19:27:08.237816: I tensorflow/core/grappler/optimizers/custom_graph_optimizer_registry.cc:113] Plugin optimizer for device_type GPU is enabled.\n"
          ]
        },
        {
          "name": "stdout",
          "output_type": "stream",
          "text": [
            "1/1 [==============================] - 0s 31ms/step\n"
          ]
        },
        {
          "name": "stderr",
          "output_type": "stream",
          "text": [
            "2022-09-21 19:27:08.327316: I tensorflow/core/grappler/optimizers/custom_graph_optimizer_registry.cc:113] Plugin optimizer for device_type GPU is enabled.\n"
          ]
        },
        {
          "name": "stdout",
          "output_type": "stream",
          "text": [
            "1/1 [==============================] - 0s 31ms/step\n",
            "1/1 [==============================] - 0s 31ms/step\n"
          ]
        },
        {
          "name": "stderr",
          "output_type": "stream",
          "text": [
            "2022-09-21 19:27:08.416003: I tensorflow/core/grappler/optimizers/custom_graph_optimizer_registry.cc:113] Plugin optimizer for device_type GPU is enabled.\n",
            "2022-09-21 19:27:08.503170: I tensorflow/core/grappler/optimizers/custom_graph_optimizer_registry.cc:113] Plugin optimizer for device_type GPU is enabled.\n"
          ]
        },
        {
          "name": "stdout",
          "output_type": "stream",
          "text": [
            "1/1 [==============================] - 0s 32ms/step\n"
          ]
        },
        {
          "name": "stderr",
          "output_type": "stream",
          "text": [
            "2022-09-21 19:27:08.597795: I tensorflow/core/grappler/optimizers/custom_graph_optimizer_registry.cc:113] Plugin optimizer for device_type GPU is enabled.\n",
            " 80%|████████  | 8/10 [00:27<00:06,  3.37s/it]"
          ]
        },
        {
          "name": "stdout",
          "output_type": "stream",
          "text": [
            "1/1 [==============================] - 0s 34ms/step\n"
          ]
        },
        {
          "name": "stderr",
          "output_type": "stream",
          "text": [
            "2022-09-21 19:27:08.692823: I tensorflow/core/grappler/optimizers/custom_graph_optimizer_registry.cc:113] Plugin optimizer for device_type GPU is enabled.\n",
            "2022-09-21 19:27:08.782609: I tensorflow/core/grappler/optimizers/custom_graph_optimizer_registry.cc:113] Plugin optimizer for device_type GPU is enabled.\n"
          ]
        },
        {
          "name": "stdout",
          "output_type": "stream",
          "text": [
            "1/1 [==============================] - 0s 34ms/step\n",
            "1/1 [==============================] - 0s 31ms/step\n"
          ]
        },
        {
          "name": "stderr",
          "output_type": "stream",
          "text": [
            "2022-09-21 19:27:08.876065: I tensorflow/core/grappler/optimizers/custom_graph_optimizer_registry.cc:113] Plugin optimizer for device_type GPU is enabled.\n"
          ]
        },
        {
          "name": "stdout",
          "output_type": "stream",
          "text": [
            "1/1 [==============================] - 0s 31ms/step\n",
            "1/1 [==============================] - 0s 31ms/step\n"
          ]
        },
        {
          "name": "stderr",
          "output_type": "stream",
          "text": [
            "2022-09-21 19:27:08.962173: I tensorflow/core/grappler/optimizers/custom_graph_optimizer_registry.cc:113] Plugin optimizer for device_type GPU is enabled.\n",
            "2022-09-21 19:27:09.051412: I tensorflow/core/grappler/optimizers/custom_graph_optimizer_registry.cc:113] Plugin optimizer for device_type GPU is enabled.\n"
          ]
        },
        {
          "name": "stdout",
          "output_type": "stream",
          "text": [
            "1/1 [==============================] - 0s 33ms/step\n"
          ]
        },
        {
          "name": "stderr",
          "output_type": "stream",
          "text": [
            "2022-09-21 19:27:09.140630: I tensorflow/core/grappler/optimizers/custom_graph_optimizer_registry.cc:113] Plugin optimizer for device_type GPU is enabled.\n"
          ]
        },
        {
          "name": "stdout",
          "output_type": "stream",
          "text": [
            "1/1 [==============================] - 0s 35ms/step\n"
          ]
        },
        {
          "name": "stderr",
          "output_type": "stream",
          "text": [
            "2022-09-21 19:27:09.231898: I tensorflow/core/grappler/optimizers/custom_graph_optimizer_registry.cc:113] Plugin optimizer for device_type GPU is enabled.\n",
            "2022-09-21 19:27:09.324116: I tensorflow/core/grappler/optimizers/custom_graph_optimizer_registry.cc:113] Plugin optimizer for device_type GPU is enabled.\n"
          ]
        },
        {
          "name": "stdout",
          "output_type": "stream",
          "text": [
            "1/1 [==============================] - 0s 32ms/step\n",
            "1/1 [==============================] - 0s 31ms/step\n"
          ]
        },
        {
          "name": "stderr",
          "output_type": "stream",
          "text": [
            "2022-09-21 19:27:09.411184: I tensorflow/core/grappler/optimizers/custom_graph_optimizer_registry.cc:113] Plugin optimizer for device_type GPU is enabled.\n"
          ]
        },
        {
          "name": "stdout",
          "output_type": "stream",
          "text": [
            "1/1 [==============================] - 0s 32ms/step\n",
            "1/1 [==============================] - 0s 31ms/step\n"
          ]
        },
        {
          "name": "stderr",
          "output_type": "stream",
          "text": [
            "2022-09-21 19:27:09.500262: I tensorflow/core/grappler/optimizers/custom_graph_optimizer_registry.cc:113] Plugin optimizer for device_type GPU is enabled.\n",
            "2022-09-21 19:27:09.590650: I tensorflow/core/grappler/optimizers/custom_graph_optimizer_registry.cc:113] Plugin optimizer for device_type GPU is enabled.\n"
          ]
        },
        {
          "name": "stdout",
          "output_type": "stream",
          "text": [
            "1/1 [==============================] - 0s 31ms/step\n"
          ]
        },
        {
          "name": "stderr",
          "output_type": "stream",
          "text": [
            "2022-09-21 19:27:09.679795: I tensorflow/core/grappler/optimizers/custom_graph_optimizer_registry.cc:113] Plugin optimizer for device_type GPU is enabled.\n"
          ]
        },
        {
          "name": "stdout",
          "output_type": "stream",
          "text": [
            "1/1 [==============================] - 0s 38ms/step\n",
            "1/1 [==============================] - ETA: 0s"
          ]
        },
        {
          "name": "stderr",
          "output_type": "stream",
          "text": [
            "2022-09-21 19:27:09.775238: I tensorflow/core/grappler/optimizers/custom_graph_optimizer_registry.cc:113] Plugin optimizer for device_type GPU is enabled.\n",
            "2022-09-21 19:27:09.863248: I tensorflow/core/grappler/optimizers/custom_graph_optimizer_registry.cc:113] Plugin optimizer for device_type GPU is enabled.\n"
          ]
        },
        {
          "name": "stdout",
          "output_type": "stream",
          "text": [
            "1/1 [==============================] - 0s 31ms/step\n"
          ]
        },
        {
          "name": "stderr",
          "output_type": "stream",
          "text": [
            "2022-09-21 19:27:09.958746: I tensorflow/core/grappler/optimizers/custom_graph_optimizer_registry.cc:113] Plugin optimizer for device_type GPU is enabled.\n"
          ]
        },
        {
          "name": "stdout",
          "output_type": "stream",
          "text": [
            "1/1 [==============================] - 0s 32ms/step\n",
            "1/1 [==============================] - 0s 32ms/step\n",
            "1/1 [==============================] - 0s 32ms/step\n"
          ]
        },
        {
          "name": "stderr",
          "output_type": "stream",
          "text": [
            "2022-09-21 19:27:10.047654: I tensorflow/core/grappler/optimizers/custom_graph_optimizer_registry.cc:113] Plugin optimizer for device_type GPU is enabled.\n",
            "2022-09-21 19:27:10.138372: I tensorflow/core/grappler/optimizers/custom_graph_optimizer_registry.cc:113] Plugin optimizer for device_type GPU is enabled.\n"
          ]
        },
        {
          "name": "stdout",
          "output_type": "stream",
          "text": [
            "1/1 [==============================] - ETA: 0s"
          ]
        },
        {
          "name": "stderr",
          "output_type": "stream",
          "text": [
            "2022-09-21 19:27:10.232269: I tensorflow/core/grappler/optimizers/custom_graph_optimizer_registry.cc:113] Plugin optimizer for device_type GPU is enabled.\n"
          ]
        },
        {
          "name": "stdout",
          "output_type": "stream",
          "text": [
            "1/1 [==============================] - 0s 34ms/step\n",
            "1/1 [==============================] - 0s 31ms/step\n",
            "1/1 [==============================] - 0s 33ms/step\n"
          ]
        },
        {
          "name": "stderr",
          "output_type": "stream",
          "text": [
            "2022-09-21 19:27:10.320176: I tensorflow/core/grappler/optimizers/custom_graph_optimizer_registry.cc:113] Plugin optimizer for device_type GPU is enabled.\n",
            "2022-09-21 19:27:10.410669: I tensorflow/core/grappler/optimizers/custom_graph_optimizer_registry.cc:113] Plugin optimizer for device_type GPU is enabled.\n"
          ]
        },
        {
          "name": "stdout",
          "output_type": "stream",
          "text": [
            "1/1 [==============================] - 0s 31ms/step\n"
          ]
        },
        {
          "name": "stderr",
          "output_type": "stream",
          "text": [
            "2022-09-21 19:27:10.501009: I tensorflow/core/grappler/optimizers/custom_graph_optimizer_registry.cc:113] Plugin optimizer for device_type GPU is enabled.\n"
          ]
        },
        {
          "name": "stdout",
          "output_type": "stream",
          "text": [
            "1/1 [==============================] - 0s 34ms/step\n",
            "1/1 [==============================] - 0s 30ms/step\n"
          ]
        },
        {
          "name": "stderr",
          "output_type": "stream",
          "text": [
            "2022-09-21 19:27:10.589683: I tensorflow/core/grappler/optimizers/custom_graph_optimizer_registry.cc:113] Plugin optimizer for device_type GPU is enabled.\n",
            "2022-09-21 19:27:10.680431: I tensorflow/core/grappler/optimizers/custom_graph_optimizer_registry.cc:113] Plugin optimizer for device_type GPU is enabled.\n"
          ]
        },
        {
          "name": "stdout",
          "output_type": "stream",
          "text": [
            "1/1 [==============================] - 0s 32ms/step\n"
          ]
        },
        {
          "name": "stderr",
          "output_type": "stream",
          "text": [
            "2022-09-21 19:27:10.769693: I tensorflow/core/grappler/optimizers/custom_graph_optimizer_registry.cc:113] Plugin optimizer for device_type GPU is enabled.\n"
          ]
        },
        {
          "name": "stdout",
          "output_type": "stream",
          "text": [
            "1/1 [==============================] - 0s 239ms/step\n",
            "1/1 [==============================] - 0s 30ms/step\n",
            "1/1 [==============================] - 0s 30ms/step\n"
          ]
        },
        {
          "name": "stderr",
          "output_type": "stream",
          "text": [
            "2022-09-21 19:27:11.069089: I tensorflow/core/grappler/optimizers/custom_graph_optimizer_registry.cc:113] Plugin optimizer for device_type GPU is enabled.\n",
            "2022-09-21 19:27:11.155203: I tensorflow/core/grappler/optimizers/custom_graph_optimizer_registry.cc:113] Plugin optimizer for device_type GPU is enabled.\n",
            "2022-09-21 19:27:11.242074: I tensorflow/core/grappler/optimizers/custom_graph_optimizer_registry.cc:113] Plugin optimizer for device_type GPU is enabled.\n"
          ]
        },
        {
          "name": "stdout",
          "output_type": "stream",
          "text": [
            "1/1 [==============================] - 0s 30ms/step\n",
            "1/1 [==============================] - 0s 30ms/step\n",
            "1/1 [==============================] - 0s 30ms/step\n"
          ]
        },
        {
          "name": "stderr",
          "output_type": "stream",
          "text": [
            "2022-09-21 19:27:11.327297: I tensorflow/core/grappler/optimizers/custom_graph_optimizer_registry.cc:113] Plugin optimizer for device_type GPU is enabled.\n",
            "2022-09-21 19:27:11.413251: I tensorflow/core/grappler/optimizers/custom_graph_optimizer_registry.cc:113] Plugin optimizer for device_type GPU is enabled.\n",
            "2022-09-21 19:27:11.499640: I tensorflow/core/grappler/optimizers/custom_graph_optimizer_registry.cc:113] Plugin optimizer for device_type GPU is enabled.\n"
          ]
        },
        {
          "name": "stdout",
          "output_type": "stream",
          "text": [
            "1/1 [==============================] - 0s 30ms/step\n",
            "1/1 [==============================] - 0s 30ms/step\n",
            "1/1 [==============================] - 0s 31ms/step\n"
          ]
        },
        {
          "name": "stderr",
          "output_type": "stream",
          "text": [
            "2022-09-21 19:27:11.584533: I tensorflow/core/grappler/optimizers/custom_graph_optimizer_registry.cc:113] Plugin optimizer for device_type GPU is enabled.\n",
            "2022-09-21 19:27:11.670932: I tensorflow/core/grappler/optimizers/custom_graph_optimizer_registry.cc:113] Plugin optimizer for device_type GPU is enabled.\n",
            "2022-09-21 19:27:11.757803: I tensorflow/core/grappler/optimizers/custom_graph_optimizer_registry.cc:113] Plugin optimizer for device_type GPU is enabled.\n"
          ]
        },
        {
          "name": "stdout",
          "output_type": "stream",
          "text": [
            "1/1 [==============================] - 0s 30ms/step\n",
            "1/1 [==============================] - 0s 30ms/step\n",
            "1/1 [==============================] - 0s 30ms/step\n"
          ]
        },
        {
          "name": "stderr",
          "output_type": "stream",
          "text": [
            "2022-09-21 19:27:11.843933: I tensorflow/core/grappler/optimizers/custom_graph_optimizer_registry.cc:113] Plugin optimizer for device_type GPU is enabled.\n",
            "2022-09-21 19:27:11.928415: I tensorflow/core/grappler/optimizers/custom_graph_optimizer_registry.cc:113] Plugin optimizer for device_type GPU is enabled.\n",
            "2022-09-21 19:27:12.015794: I tensorflow/core/grappler/optimizers/custom_graph_optimizer_registry.cc:113] Plugin optimizer for device_type GPU is enabled.\n"
          ]
        },
        {
          "name": "stdout",
          "output_type": "stream",
          "text": [
            "1/1 [==============================] - 0s 30ms/step\n"
          ]
        },
        {
          "name": "stderr",
          "output_type": "stream",
          "text": [
            "2022-09-21 19:27:12.100430: I tensorflow/core/grappler/optimizers/custom_graph_optimizer_registry.cc:113] Plugin optimizer for device_type GPU is enabled.\n",
            " 90%|█████████ | 9/10 [00:30<00:03,  3.41s/it]"
          ]
        },
        {
          "name": "stdout",
          "output_type": "stream",
          "text": [
            "1/1 [==============================] - 0s 31ms/step\n",
            "1/1 [==============================] - 0s 31ms/step\n"
          ]
        },
        {
          "name": "stderr",
          "output_type": "stream",
          "text": [
            "2022-09-21 19:27:12.187431: I tensorflow/core/grappler/optimizers/custom_graph_optimizer_registry.cc:113] Plugin optimizer for device_type GPU is enabled.\n",
            "2022-09-21 19:27:12.278455: I tensorflow/core/grappler/optimizers/custom_graph_optimizer_registry.cc:113] Plugin optimizer for device_type GPU is enabled.\n"
          ]
        },
        {
          "name": "stdout",
          "output_type": "stream",
          "text": [
            "1/1 [==============================] - 0s 30ms/step\n"
          ]
        },
        {
          "name": "stderr",
          "output_type": "stream",
          "text": [
            "2022-09-21 19:27:12.367675: I tensorflow/core/grappler/optimizers/custom_graph_optimizer_registry.cc:113] Plugin optimizer for device_type GPU is enabled.\n"
          ]
        },
        {
          "name": "stdout",
          "output_type": "stream",
          "text": [
            "1/1 [==============================] - 0s 31ms/step\n",
            "1/1 [==============================] - 0s 31ms/step\n"
          ]
        },
        {
          "name": "stderr",
          "output_type": "stream",
          "text": [
            "2022-09-21 19:27:12.455171: I tensorflow/core/grappler/optimizers/custom_graph_optimizer_registry.cc:113] Plugin optimizer for device_type GPU is enabled.\n",
            "2022-09-21 19:27:12.541961: I tensorflow/core/grappler/optimizers/custom_graph_optimizer_registry.cc:113] Plugin optimizer for device_type GPU is enabled.\n"
          ]
        },
        {
          "name": "stdout",
          "output_type": "stream",
          "text": [
            "1/1 [==============================] - 0s 30ms/step\n"
          ]
        },
        {
          "name": "stderr",
          "output_type": "stream",
          "text": [
            "2022-09-21 19:27:12.627624: I tensorflow/core/grappler/optimizers/custom_graph_optimizer_registry.cc:113] Plugin optimizer for device_type GPU is enabled.\n"
          ]
        },
        {
          "name": "stdout",
          "output_type": "stream",
          "text": [
            "1/1 [==============================] - 0s 32ms/step\n"
          ]
        },
        {
          "name": "stderr",
          "output_type": "stream",
          "text": [
            "2022-09-21 19:27:12.730619: I tensorflow/core/grappler/optimizers/custom_graph_optimizer_registry.cc:113] Plugin optimizer for device_type GPU is enabled.\n",
            "2022-09-21 19:27:12.818433: I tensorflow/core/grappler/optimizers/custom_graph_optimizer_registry.cc:113] Plugin optimizer for device_type GPU is enabled.\n"
          ]
        },
        {
          "name": "stdout",
          "output_type": "stream",
          "text": [
            "1/1 [==============================] - 0s 31ms/step\n",
            "1/1 [==============================] - 0s 31ms/step\n"
          ]
        },
        {
          "name": "stderr",
          "output_type": "stream",
          "text": [
            "2022-09-21 19:27:12.906779: I tensorflow/core/grappler/optimizers/custom_graph_optimizer_registry.cc:113] Plugin optimizer for device_type GPU is enabled.\n"
          ]
        },
        {
          "name": "stdout",
          "output_type": "stream",
          "text": [
            "1/1 [==============================] - 0s 33ms/step\n",
            "1/1 [==============================] - 0s 31ms/step\n"
          ]
        },
        {
          "name": "stderr",
          "output_type": "stream",
          "text": [
            "2022-09-21 19:27:12.996941: I tensorflow/core/grappler/optimizers/custom_graph_optimizer_registry.cc:113] Plugin optimizer for device_type GPU is enabled.\n",
            "2022-09-21 19:27:13.085587: I tensorflow/core/grappler/optimizers/custom_graph_optimizer_registry.cc:113] Plugin optimizer for device_type GPU is enabled.\n",
            "2022-09-21 19:27:13.180475: I tensorflow/core/grappler/optimizers/custom_graph_optimizer_registry.cc:113] Plugin optimizer for device_type GPU is enabled.\n"
          ]
        },
        {
          "name": "stdout",
          "output_type": "stream",
          "text": [
            "1/1 [==============================] - 0s 31ms/step\n",
            "1/1 [==============================] - 0s 32ms/step\n",
            "1/1 [==============================] - 0s 31ms/step\n"
          ]
        },
        {
          "name": "stderr",
          "output_type": "stream",
          "text": [
            "2022-09-21 19:27:13.268658: I tensorflow/core/grappler/optimizers/custom_graph_optimizer_registry.cc:113] Plugin optimizer for device_type GPU is enabled.\n",
            "2022-09-21 19:27:13.356784: I tensorflow/core/grappler/optimizers/custom_graph_optimizer_registry.cc:113] Plugin optimizer for device_type GPU is enabled.\n"
          ]
        },
        {
          "name": "stdout",
          "output_type": "stream",
          "text": [
            "1/1 [==============================] - 0s 33ms/step\n"
          ]
        },
        {
          "name": "stderr",
          "output_type": "stream",
          "text": [
            "2022-09-21 19:27:13.450598: I tensorflow/core/grappler/optimizers/custom_graph_optimizer_registry.cc:113] Plugin optimizer for device_type GPU is enabled.\n"
          ]
        },
        {
          "name": "stdout",
          "output_type": "stream",
          "text": [
            "1/1 [==============================] - 0s 32ms/step\n",
            "1/1 [==============================] - ETA: 0s"
          ]
        },
        {
          "name": "stderr",
          "output_type": "stream",
          "text": [
            "2022-09-21 19:27:13.540598: I tensorflow/core/grappler/optimizers/custom_graph_optimizer_registry.cc:113] Plugin optimizer for device_type GPU is enabled.\n",
            "2022-09-21 19:27:13.634188: I tensorflow/core/grappler/optimizers/custom_graph_optimizer_registry.cc:113] Plugin optimizer for device_type GPU is enabled.\n"
          ]
        },
        {
          "name": "stdout",
          "output_type": "stream",
          "text": [
            "1/1 [==============================] - 0s 31ms/step\n",
            "1/1 [==============================] - 0s 31ms/step\n"
          ]
        },
        {
          "name": "stderr",
          "output_type": "stream",
          "text": [
            "2022-09-21 19:27:13.721476: I tensorflow/core/grappler/optimizers/custom_graph_optimizer_registry.cc:113] Plugin optimizer for device_type GPU is enabled.\n"
          ]
        },
        {
          "name": "stdout",
          "output_type": "stream",
          "text": [
            "1/1 [==============================] - 0s 32ms/step\n"
          ]
        },
        {
          "name": "stderr",
          "output_type": "stream",
          "text": [
            "2022-09-21 19:27:13.811768: I tensorflow/core/grappler/optimizers/custom_graph_optimizer_registry.cc:113] Plugin optimizer for device_type GPU is enabled.\n",
            "2022-09-21 19:27:13.911443: I tensorflow/core/grappler/optimizers/custom_graph_optimizer_registry.cc:113] Plugin optimizer for device_type GPU is enabled.\n"
          ]
        },
        {
          "name": "stdout",
          "output_type": "stream",
          "text": [
            "1/1 [==============================] - 0s 36ms/step\n"
          ]
        },
        {
          "name": "stderr",
          "output_type": "stream",
          "text": [
            "2022-09-21 19:27:14.003222: I tensorflow/core/grappler/optimizers/custom_graph_optimizer_registry.cc:113] Plugin optimizer for device_type GPU is enabled.\n"
          ]
        },
        {
          "name": "stdout",
          "output_type": "stream",
          "text": [
            "1/1 [==============================] - 0s 32ms/step\n",
            "1/1 [==============================] - 0s 32ms/step\n"
          ]
        },
        {
          "name": "stderr",
          "output_type": "stream",
          "text": [
            "2022-09-21 19:27:14.098210: I tensorflow/core/grappler/optimizers/custom_graph_optimizer_registry.cc:113] Plugin optimizer for device_type GPU is enabled.\n",
            "2022-09-21 19:27:14.189923: I tensorflow/core/grappler/optimizers/custom_graph_optimizer_registry.cc:113] Plugin optimizer for device_type GPU is enabled.\n"
          ]
        },
        {
          "name": "stdout",
          "output_type": "stream",
          "text": [
            "1/1 [==============================] - 0s 32ms/step\n"
          ]
        },
        {
          "name": "stderr",
          "output_type": "stream",
          "text": [
            "2022-09-21 19:27:14.283245: I tensorflow/core/grappler/optimizers/custom_graph_optimizer_registry.cc:113] Plugin optimizer for device_type GPU is enabled.\n"
          ]
        },
        {
          "name": "stdout",
          "output_type": "stream",
          "text": [
            "1/1 [==============================] - 0s 31ms/step\n",
            "1/1 [==============================] - 0s 31ms/step\n",
            "1/1 [==============================] - 0s 32ms/step\n"
          ]
        },
        {
          "name": "stderr",
          "output_type": "stream",
          "text": [
            "2022-09-21 19:27:14.369913: I tensorflow/core/grappler/optimizers/custom_graph_optimizer_registry.cc:113] Plugin optimizer for device_type GPU is enabled.\n",
            "2022-09-21 19:27:14.458764: I tensorflow/core/grappler/optimizers/custom_graph_optimizer_registry.cc:113] Plugin optimizer for device_type GPU is enabled.\n"
          ]
        },
        {
          "name": "stdout",
          "output_type": "stream",
          "text": [
            "1/1 [==============================] - 0s 33ms/step\n"
          ]
        },
        {
          "name": "stderr",
          "output_type": "stream",
          "text": [
            "2022-09-21 19:27:14.549762: I tensorflow/core/grappler/optimizers/custom_graph_optimizer_registry.cc:113] Plugin optimizer for device_type GPU is enabled.\n"
          ]
        },
        {
          "name": "stdout",
          "output_type": "stream",
          "text": [
            "1/1 [==============================] - 0s 33ms/step\n",
            "1/1 [==============================] - 0s 31ms/step\n"
          ]
        },
        {
          "name": "stderr",
          "output_type": "stream",
          "text": [
            "2022-09-21 19:27:14.638300: I tensorflow/core/grappler/optimizers/custom_graph_optimizer_registry.cc:113] Plugin optimizer for device_type GPU is enabled.\n",
            "2022-09-21 19:27:14.730050: I tensorflow/core/grappler/optimizers/custom_graph_optimizer_registry.cc:113] Plugin optimizer for device_type GPU is enabled.\n"
          ]
        },
        {
          "name": "stdout",
          "output_type": "stream",
          "text": [
            "1/1 [==============================] - 0s 31ms/step\n"
          ]
        },
        {
          "name": "stderr",
          "output_type": "stream",
          "text": [
            "2022-09-21 19:27:14.818903: I tensorflow/core/grappler/optimizers/custom_graph_optimizer_registry.cc:113] Plugin optimizer for device_type GPU is enabled.\n"
          ]
        },
        {
          "name": "stdout",
          "output_type": "stream",
          "text": [
            "1/1 [==============================] - 0s 34ms/step\n",
            "1/1 [==============================] - 0s 34ms/step\n"
          ]
        },
        {
          "name": "stderr",
          "output_type": "stream",
          "text": [
            "2022-09-21 19:27:14.908553: I tensorflow/core/grappler/optimizers/custom_graph_optimizer_registry.cc:113] Plugin optimizer for device_type GPU is enabled.\n",
            "2022-09-21 19:27:15.000190: I tensorflow/core/grappler/optimizers/custom_graph_optimizer_registry.cc:113] Plugin optimizer for device_type GPU is enabled.\n"
          ]
        },
        {
          "name": "stdout",
          "output_type": "stream",
          "text": [
            "1/1 [==============================] - 0s 32ms/step\n"
          ]
        },
        {
          "name": "stderr",
          "output_type": "stream",
          "text": [
            "2022-09-21 19:27:15.089404: I tensorflow/core/grappler/optimizers/custom_graph_optimizer_registry.cc:113] Plugin optimizer for device_type GPU is enabled.\n"
          ]
        },
        {
          "name": "stdout",
          "output_type": "stream",
          "text": [
            "1/1 [==============================] - 0s 31ms/step\n",
            "1/1 [==============================] - ETA: 0s"
          ]
        },
        {
          "name": "stderr",
          "output_type": "stream",
          "text": [
            "2022-09-21 19:27:15.180607: I tensorflow/core/grappler/optimizers/custom_graph_optimizer_registry.cc:113] Plugin optimizer for device_type GPU is enabled.\n",
            "2022-09-21 19:27:15.272113: I tensorflow/core/grappler/optimizers/custom_graph_optimizer_registry.cc:113] Plugin optimizer for device_type GPU is enabled.\n"
          ]
        },
        {
          "name": "stdout",
          "output_type": "stream",
          "text": [
            "1/1 [==============================] - 0s 33ms/step\n",
            "1/1 [==============================] - 0s 32ms/step\n"
          ]
        },
        {
          "name": "stderr",
          "output_type": "stream",
          "text": [
            "2022-09-21 19:27:15.363003: I tensorflow/core/grappler/optimizers/custom_graph_optimizer_registry.cc:113] Plugin optimizer for device_type GPU is enabled.\n"
          ]
        },
        {
          "name": "stdout",
          "output_type": "stream",
          "text": [
            "1/1 [==============================] - 0s 37ms/step\n"
          ]
        },
        {
          "name": "stderr",
          "output_type": "stream",
          "text": [
            "2022-09-21 19:27:15.455929: I tensorflow/core/grappler/optimizers/custom_graph_optimizer_registry.cc:113] Plugin optimizer for device_type GPU is enabled.\n",
            "100%|██████████| 10/10 [00:33<00:00,  3.40s/it]\n"
          ]
        }
      ],
      "source": [
        "zero_csv = [0 for i in range(14)]  # 시점이 비어있는 데이터 0으로 채우기 위한 변수\n",
        "\n",
        "for i in tqdm(range(10)):\n",
        "    data_list = glob(f'./aT_data/data/test/set_{i}/*.csv')\n",
        "    for idx,j in enumerate(data_list):\n",
        "        df = pd.read_csv(j)\n",
        "        \n",
        "        if len(df) == 0:\n",
        "            df['zero_non'] = zero_csv\n",
        "            df = df.fillna(0)\n",
        "            df.drop('zero_non', axis=1, inplace=True)\n",
        "\n",
        "        file_number = j.split('test_')[1].split('.')[0]\n",
        "\n",
        "        # 사용할 열 선택 및 index 설정\n",
        "\n",
        "        df = feature_engineer(df)\n",
        "        df = df[[c for c in df.columns if c != '해당일자_전체평균가격(원)']]\n",
        "\n",
        "        df.set_index('datadate', drop=True, inplace=True)\n",
        "        \n",
        "        # # nan 처리\n",
        "        # df = df.replace({' ': np.nan})\n",
        "        # df = df.fillna(0)\n",
        "\n",
        "        # # train input 과 형상 맞추기\n",
        "        # add_col = [i for i in check_col if i not in df.columns]\n",
        "\n",
        "        # for a in add_col:\n",
        "        #     df[a] = 0\n",
        "\n",
        "        # # ' ' -> nan 으로 변경\n",
        "        # for a in df.columns:\n",
        "        #     df[a] = df[a].replace({' ': np.nan})\n",
        "\n",
        "        # # nan 처리\n",
        "        # df = df.fillna(0)\n",
        "        # # df = df.interpolate(method = 'values')\n",
        "\n",
        "        df = pd.DataFrame(scalers[file_number].transform(df))\n",
        "\n",
        "        # x_test  생성\n",
        "        df_test = astype_data(df.values.reshape(1, df.values.shape[0], df.values.shape[1]))\n",
        "\n",
        "        # model test\n",
        "        if os.path.exists(f'./model_output/{test_num}') == False:\n",
        "            os.mkdir(f'./model_output/{test_num}')\n",
        "\n",
        "        if os.path.exists(f'./model_output/{test_num}/set_{i}') == False:\n",
        "            os.mkdir(f'./model_output/{test_num}/set_{i}')\n",
        "\n",
        "        # 해당하는 모델 불러오기\n",
        "        model_test = tf.keras.models.load_model(f'./model/transformer-{file_number}-{epoch}-{batch}.h5')\n",
        "        pred = model_test.predict(df_test)\n",
        "\n",
        "\n",
        "        # 결과 저장\n",
        "        save_df = pd.DataFrame(pred).T\n",
        "        save_df.to_csv(f'./model_output/{test_num}/set_{i}/predict_{file_number}.csv', index=False)"
      ]
    },
    {
      "cell_type": "markdown",
      "metadata": {
        "id": "z4MQRAWbJ8fW"
      },
      "source": [
        "&nbsp;"
      ]
    },
    {
      "cell_type": "markdown",
      "metadata": {
        "id": "pXoDxJGKJ8fX"
      },
      "source": [
        "## 정답 제출 파일생성"
      ]
    },
    {
      "cell_type": "code",
      "execution_count": 13,
      "metadata": {
        "id": "VXtt4y4vJ8fY"
      },
      "outputs": [
        {
          "name": "stderr",
          "output_type": "stream",
          "text": [
            "100%|██████████| 10/10 [00:01<00:00,  9.15it/s]\n"
          ]
        }
      ],
      "source": [
        "for k in tqdm(range(10)):\n",
        "  globals()[f'set_df_{k}'] = pd.DataFrame()\n",
        "  answer_df_list = glob(f'./model_output/{test_num}/set_{k}/*.csv') # 예측한 결과 불러오기\n",
        "  pum_list = glob(f'./aT_data/aT_test_raw/sep_{k}/*.csv') # 기존 test input 불러오기\n",
        "  pummok = [a for a in pum_list if 'pummok' in a.split('/')[-1]]\n",
        "\n",
        "  for i in answer_df_list:\n",
        "    df = pd.read_csv(i)\n",
        "    number = i.split('_')[-1].split('.')[0]\n",
        "\n",
        "    base_number = 0\n",
        "    for p in pummok:\n",
        "      if number == p.split('_')[-1].split('.')[0]:\n",
        "        pum_df = pd.read_csv(p)\n",
        "\n",
        "        if len(pum_df) != 0:\n",
        "           base_number = pum_df.iloc[len(pum_df)-1]['해당일자_전체평균가격(원)']  # 기존 각 sep 마다 test input의 마지막 target 값 가져오기 (변동률 계산을 위해)\n",
        "        else:\n",
        "          base_number = np.nan\n",
        "\n",
        "    globals()[f'set_df_{k}'][f'품목{number}']  = [base_number] + list(df[df.columns[-1]].values) # 각 품목당 순서를 t, t+1 ... t+28 로 변경\n",
        "\n",
        "  globals()[f'set_df_{k}'] = globals()[f'set_df_{k}'][[f'품목{col}' for col in range(37)]] # 열 순서를 품목0 ~ 품목36 으로 변경"
      ]
    },
    {
      "cell_type": "markdown",
      "metadata": {
        "id": "v2NbT2FCJ8fZ"
      },
      "source": [
        "- 변동률 계산을 위한 t, t+1 ... t+28 설정"
      ]
    },
    {
      "cell_type": "code",
      "execution_count": 14,
      "metadata": {
        "id": "sqT2NTY7J8fa"
      },
      "outputs": [
        {
          "data": {
            "text/html": [
              "<div>\n",
              "<style scoped>\n",
              "    .dataframe tbody tr th:only-of-type {\n",
              "        vertical-align: middle;\n",
              "    }\n",
              "\n",
              "    .dataframe tbody tr th {\n",
              "        vertical-align: top;\n",
              "    }\n",
              "\n",
              "    .dataframe thead th {\n",
              "        text-align: right;\n",
              "    }\n",
              "</style>\n",
              "<table border=\"1\" class=\"dataframe\">\n",
              "  <thead>\n",
              "    <tr style=\"text-align: right;\">\n",
              "      <th></th>\n",
              "      <th>품목0</th>\n",
              "      <th>품목1</th>\n",
              "      <th>품목2</th>\n",
              "      <th>품목3</th>\n",
              "      <th>품목4</th>\n",
              "      <th>품목5</th>\n",
              "      <th>품목6</th>\n",
              "      <th>품목7</th>\n",
              "      <th>품목8</th>\n",
              "      <th>품목9</th>\n",
              "      <th>...</th>\n",
              "      <th>품목27</th>\n",
              "      <th>품목28</th>\n",
              "      <th>품목29</th>\n",
              "      <th>품목30</th>\n",
              "      <th>품목31</th>\n",
              "      <th>품목32</th>\n",
              "      <th>품목33</th>\n",
              "      <th>품목34</th>\n",
              "      <th>품목35</th>\n",
              "      <th>품목36</th>\n",
              "    </tr>\n",
              "  </thead>\n",
              "  <tbody>\n",
              "    <tr>\n",
              "      <th>0</th>\n",
              "      <td>3871.125000</td>\n",
              "      <td>1362.117613</td>\n",
              "      <td>2909.783785</td>\n",
              "      <td>3400.075583</td>\n",
              "      <td>3947.809169</td>\n",
              "      <td>9253.947514</td>\n",
              "      <td>2717.280000</td>\n",
              "      <td>3361.030923</td>\n",
              "      <td>4911.899864</td>\n",
              "      <td>1173.018633</td>\n",
              "      <td>...</td>\n",
              "      <td>8640.811309</td>\n",
              "      <td>602.005658</td>\n",
              "      <td>1105.412623</td>\n",
              "      <td>1566.274239</td>\n",
              "      <td>3633.464557</td>\n",
              "      <td>5454.710444</td>\n",
              "      <td>5619.188362</td>\n",
              "      <td>5230.620027</td>\n",
              "      <td>2905.100888</td>\n",
              "      <td>2087.675036</td>\n",
              "    </tr>\n",
              "    <tr>\n",
              "      <th>1</th>\n",
              "      <td>-653.192930</td>\n",
              "      <td>-337.808780</td>\n",
              "      <td>-385.908480</td>\n",
              "      <td>-599.413400</td>\n",
              "      <td>-527.448800</td>\n",
              "      <td>-2168.829600</td>\n",
              "      <td>-52.297066</td>\n",
              "      <td>-421.581360</td>\n",
              "      <td>-675.544070</td>\n",
              "      <td>-77.273240</td>\n",
              "      <td>...</td>\n",
              "      <td>-2580.742200</td>\n",
              "      <td>-48.784070</td>\n",
              "      <td>-159.180500</td>\n",
              "      <td>-202.573230</td>\n",
              "      <td>-955.224300</td>\n",
              "      <td>-1104.650400</td>\n",
              "      <td>-1593.848000</td>\n",
              "      <td>-1634.649500</td>\n",
              "      <td>-504.297240</td>\n",
              "      <td>-372.797800</td>\n",
              "    </tr>\n",
              "    <tr>\n",
              "      <th>2</th>\n",
              "      <td>-1419.783900</td>\n",
              "      <td>-703.094500</td>\n",
              "      <td>-1317.136700</td>\n",
              "      <td>-1438.783700</td>\n",
              "      <td>-1557.982000</td>\n",
              "      <td>-2995.400600</td>\n",
              "      <td>-103.376310</td>\n",
              "      <td>-969.470460</td>\n",
              "      <td>-2079.054000</td>\n",
              "      <td>-508.053620</td>\n",
              "      <td>...</td>\n",
              "      <td>-3668.422400</td>\n",
              "      <td>-263.462500</td>\n",
              "      <td>-459.841000</td>\n",
              "      <td>-452.780150</td>\n",
              "      <td>-1413.737400</td>\n",
              "      <td>-1658.824600</td>\n",
              "      <td>-2273.903300</td>\n",
              "      <td>-2074.212400</td>\n",
              "      <td>-945.634900</td>\n",
              "      <td>-1034.361100</td>\n",
              "    </tr>\n",
              "    <tr>\n",
              "      <th>3</th>\n",
              "      <td>-1778.965600</td>\n",
              "      <td>-631.046750</td>\n",
              "      <td>-1631.389200</td>\n",
              "      <td>-1488.176800</td>\n",
              "      <td>-1801.011600</td>\n",
              "      <td>-2621.625200</td>\n",
              "      <td>-106.130850</td>\n",
              "      <td>-1243.711700</td>\n",
              "      <td>-2589.169200</td>\n",
              "      <td>-967.848630</td>\n",
              "      <td>...</td>\n",
              "      <td>-3439.190200</td>\n",
              "      <td>-360.707520</td>\n",
              "      <td>-595.614000</td>\n",
              "      <td>-857.200260</td>\n",
              "      <td>-1275.463100</td>\n",
              "      <td>-1690.701400</td>\n",
              "      <td>-2183.155000</td>\n",
              "      <td>-1919.146200</td>\n",
              "      <td>-1086.967000</td>\n",
              "      <td>-1331.966600</td>\n",
              "    </tr>\n",
              "    <tr>\n",
              "      <th>4</th>\n",
              "      <td>-1074.995000</td>\n",
              "      <td>-369.045960</td>\n",
              "      <td>-617.541200</td>\n",
              "      <td>-867.477500</td>\n",
              "      <td>-999.585200</td>\n",
              "      <td>-1945.049700</td>\n",
              "      <td>-106.071560</td>\n",
              "      <td>-738.617250</td>\n",
              "      <td>-1209.561800</td>\n",
              "      <td>-261.019350</td>\n",
              "      <td>...</td>\n",
              "      <td>-3270.968300</td>\n",
              "      <td>-135.758600</td>\n",
              "      <td>-193.936740</td>\n",
              "      <td>-254.021260</td>\n",
              "      <td>-1187.499500</td>\n",
              "      <td>-1164.077800</td>\n",
              "      <td>-1542.617700</td>\n",
              "      <td>-1671.553100</td>\n",
              "      <td>-581.949900</td>\n",
              "      <td>-415.906650</td>\n",
              "    </tr>\n",
              "    <tr>\n",
              "      <th>5</th>\n",
              "      <td>-82.964294</td>\n",
              "      <td>-239.864690</td>\n",
              "      <td>201.330300</td>\n",
              "      <td>-610.336240</td>\n",
              "      <td>-357.367700</td>\n",
              "      <td>-2003.842200</td>\n",
              "      <td>-86.626526</td>\n",
              "      <td>-192.218700</td>\n",
              "      <td>-167.764470</td>\n",
              "      <td>56.395443</td>\n",
              "      <td>...</td>\n",
              "      <td>-3380.252400</td>\n",
              "      <td>3.462398</td>\n",
              "      <td>22.839386</td>\n",
              "      <td>-46.669150</td>\n",
              "      <td>-1206.140400</td>\n",
              "      <td>-804.513550</td>\n",
              "      <td>-1297.763500</td>\n",
              "      <td>-1509.499000</td>\n",
              "      <td>-216.501040</td>\n",
              "      <td>-3.602535</td>\n",
              "    </tr>\n",
              "    <tr>\n",
              "      <th>6</th>\n",
              "      <td>-101.339630</td>\n",
              "      <td>-193.165940</td>\n",
              "      <td>-70.949520</td>\n",
              "      <td>-473.389040</td>\n",
              "      <td>-294.450600</td>\n",
              "      <td>-1258.063100</td>\n",
              "      <td>-70.046470</td>\n",
              "      <td>-82.477610</td>\n",
              "      <td>-261.234680</td>\n",
              "      <td>-116.260970</td>\n",
              "      <td>...</td>\n",
              "      <td>-2440.056600</td>\n",
              "      <td>-42.156640</td>\n",
              "      <td>-57.334880</td>\n",
              "      <td>-173.462200</td>\n",
              "      <td>-836.271100</td>\n",
              "      <td>-523.126800</td>\n",
              "      <td>-611.777300</td>\n",
              "      <td>-1052.912800</td>\n",
              "      <td>-229.099040</td>\n",
              "      <td>-129.725080</td>\n",
              "    </tr>\n",
              "    <tr>\n",
              "      <th>7</th>\n",
              "      <td>-122.393900</td>\n",
              "      <td>-49.349100</td>\n",
              "      <td>-75.314330</td>\n",
              "      <td>-258.525760</td>\n",
              "      <td>-251.140660</td>\n",
              "      <td>-249.136400</td>\n",
              "      <td>-36.265198</td>\n",
              "      <td>-96.613050</td>\n",
              "      <td>-218.920800</td>\n",
              "      <td>-42.428486</td>\n",
              "      <td>...</td>\n",
              "      <td>-499.511380</td>\n",
              "      <td>-32.661556</td>\n",
              "      <td>-70.616630</td>\n",
              "      <td>-111.544890</td>\n",
              "      <td>-49.221460</td>\n",
              "      <td>-170.982700</td>\n",
              "      <td>-157.814380</td>\n",
              "      <td>-283.388180</td>\n",
              "      <td>-133.209930</td>\n",
              "      <td>-89.134254</td>\n",
              "    </tr>\n",
              "    <tr>\n",
              "      <th>8</th>\n",
              "      <td>-766.792300</td>\n",
              "      <td>-374.199980</td>\n",
              "      <td>-462.983500</td>\n",
              "      <td>-896.262150</td>\n",
              "      <td>-762.578000</td>\n",
              "      <td>-2222.851800</td>\n",
              "      <td>-57.751520</td>\n",
              "      <td>-437.620400</td>\n",
              "      <td>-786.860050</td>\n",
              "      <td>-107.122820</td>\n",
              "      <td>...</td>\n",
              "      <td>-2724.598900</td>\n",
              "      <td>-74.452934</td>\n",
              "      <td>-208.250780</td>\n",
              "      <td>-259.613830</td>\n",
              "      <td>-929.497400</td>\n",
              "      <td>-1226.998900</td>\n",
              "      <td>-1624.148400</td>\n",
              "      <td>-1676.273600</td>\n",
              "      <td>-643.568500</td>\n",
              "      <td>-421.715600</td>\n",
              "    </tr>\n",
              "    <tr>\n",
              "      <th>9</th>\n",
              "      <td>-1431.010600</td>\n",
              "      <td>-660.670840</td>\n",
              "      <td>-1321.953700</td>\n",
              "      <td>-1608.741200</td>\n",
              "      <td>-1664.486500</td>\n",
              "      <td>-2927.709000</td>\n",
              "      <td>-65.952340</td>\n",
              "      <td>-958.062000</td>\n",
              "      <td>-2079.980500</td>\n",
              "      <td>-542.912900</td>\n",
              "      <td>...</td>\n",
              "      <td>-3631.552500</td>\n",
              "      <td>-270.338840</td>\n",
              "      <td>-489.948600</td>\n",
              "      <td>-514.383670</td>\n",
              "      <td>-1309.827000</td>\n",
              "      <td>-1726.091900</td>\n",
              "      <td>-2282.455000</td>\n",
              "      <td>-2034.299600</td>\n",
              "      <td>-962.543900</td>\n",
              "      <td>-1046.371000</td>\n",
              "    </tr>\n",
              "    <tr>\n",
              "      <th>10</th>\n",
              "      <td>-1684.177500</td>\n",
              "      <td>-597.666200</td>\n",
              "      <td>-1617.810200</td>\n",
              "      <td>-1599.219500</td>\n",
              "      <td>-1859.346400</td>\n",
              "      <td>-2521.458700</td>\n",
              "      <td>-74.930016</td>\n",
              "      <td>-1224.279000</td>\n",
              "      <td>-2568.680200</td>\n",
              "      <td>-966.925350</td>\n",
              "      <td>...</td>\n",
              "      <td>-3391.758500</td>\n",
              "      <td>-356.840150</td>\n",
              "      <td>-619.761660</td>\n",
              "      <td>-876.972530</td>\n",
              "      <td>-1183.352400</td>\n",
              "      <td>-1728.229900</td>\n",
              "      <td>-2136.880100</td>\n",
              "      <td>-1887.860000</td>\n",
              "      <td>-1013.377560</td>\n",
              "      <td>-1293.093400</td>\n",
              "    </tr>\n",
              "    <tr>\n",
              "      <th>11</th>\n",
              "      <td>-1082.803200</td>\n",
              "      <td>-398.834000</td>\n",
              "      <td>-645.246200</td>\n",
              "      <td>-1009.548770</td>\n",
              "      <td>-1120.218000</td>\n",
              "      <td>-2024.156600</td>\n",
              "      <td>-53.361410</td>\n",
              "      <td>-706.759770</td>\n",
              "      <td>-1268.129000</td>\n",
              "      <td>-280.795960</td>\n",
              "      <td>...</td>\n",
              "      <td>-3275.131000</td>\n",
              "      <td>-154.705250</td>\n",
              "      <td>-217.614010</td>\n",
              "      <td>-299.486600</td>\n",
              "      <td>-1124.905200</td>\n",
              "      <td>-1189.686500</td>\n",
              "      <td>-1529.341200</td>\n",
              "      <td>-1714.167100</td>\n",
              "      <td>-576.183300</td>\n",
              "      <td>-443.594360</td>\n",
              "    </tr>\n",
              "    <tr>\n",
              "      <th>12</th>\n",
              "      <td>-115.092834</td>\n",
              "      <td>-290.649440</td>\n",
              "      <td>140.711730</td>\n",
              "      <td>-774.863400</td>\n",
              "      <td>-460.079000</td>\n",
              "      <td>-2036.429700</td>\n",
              "      <td>-44.285736</td>\n",
              "      <td>-176.643740</td>\n",
              "      <td>-189.585860</td>\n",
              "      <td>52.560470</td>\n",
              "      <td>...</td>\n",
              "      <td>-3334.170400</td>\n",
              "      <td>-25.858213</td>\n",
              "      <td>10.989196</td>\n",
              "      <td>-58.230965</td>\n",
              "      <td>-1155.619400</td>\n",
              "      <td>-829.928650</td>\n",
              "      <td>-1247.439700</td>\n",
              "      <td>-1585.587800</td>\n",
              "      <td>-305.715120</td>\n",
              "      <td>-51.801613</td>\n",
              "    </tr>\n",
              "    <tr>\n",
              "      <th>13</th>\n",
              "      <td>-117.535300</td>\n",
              "      <td>-222.815730</td>\n",
              "      <td>-31.572004</td>\n",
              "      <td>-592.382800</td>\n",
              "      <td>-334.796630</td>\n",
              "      <td>-1295.174800</td>\n",
              "      <td>-31.374557</td>\n",
              "      <td>-20.777502</td>\n",
              "      <td>-244.194140</td>\n",
              "      <td>-112.917656</td>\n",
              "      <td>...</td>\n",
              "      <td>-2419.528600</td>\n",
              "      <td>-47.725452</td>\n",
              "      <td>-47.768253</td>\n",
              "      <td>-156.986190</td>\n",
              "      <td>-811.976560</td>\n",
              "      <td>-552.691000</td>\n",
              "      <td>-625.935360</td>\n",
              "      <td>-1126.600500</td>\n",
              "      <td>-266.572750</td>\n",
              "      <td>-153.310700</td>\n",
              "    </tr>\n",
              "    <tr>\n",
              "      <th>14</th>\n",
              "      <td>-73.423510</td>\n",
              "      <td>-55.727470</td>\n",
              "      <td>-42.136440</td>\n",
              "      <td>-296.759300</td>\n",
              "      <td>-196.122210</td>\n",
              "      <td>-188.587660</td>\n",
              "      <td>10.061830</td>\n",
              "      <td>-37.637478</td>\n",
              "      <td>-173.259450</td>\n",
              "      <td>-43.510970</td>\n",
              "      <td>...</td>\n",
              "      <td>-619.384800</td>\n",
              "      <td>-31.003910</td>\n",
              "      <td>-47.701880</td>\n",
              "      <td>-94.202410</td>\n",
              "      <td>-37.904370</td>\n",
              "      <td>-132.689640</td>\n",
              "      <td>-129.964970</td>\n",
              "      <td>-307.170840</td>\n",
              "      <td>-125.136220</td>\n",
              "      <td>-86.293050</td>\n",
              "    </tr>\n",
              "    <tr>\n",
              "      <th>15</th>\n",
              "      <td>-756.368600</td>\n",
              "      <td>-366.695500</td>\n",
              "      <td>-484.997900</td>\n",
              "      <td>-936.681700</td>\n",
              "      <td>-804.527340</td>\n",
              "      <td>-2124.594200</td>\n",
              "      <td>16.463150</td>\n",
              "      <td>-438.053100</td>\n",
              "      <td>-788.340500</td>\n",
              "      <td>-93.815180</td>\n",
              "      <td>...</td>\n",
              "      <td>-2571.580300</td>\n",
              "      <td>-77.064660</td>\n",
              "      <td>-179.030790</td>\n",
              "      <td>-248.006990</td>\n",
              "      <td>-896.687300</td>\n",
              "      <td>-1179.773100</td>\n",
              "      <td>-1554.896600</td>\n",
              "      <td>-1622.343900</td>\n",
              "      <td>-666.245900</td>\n",
              "      <td>-447.258970</td>\n",
              "    </tr>\n",
              "    <tr>\n",
              "      <th>16</th>\n",
              "      <td>-1366.476900</td>\n",
              "      <td>-617.505070</td>\n",
              "      <td>-1302.638800</td>\n",
              "      <td>-1589.085600</td>\n",
              "      <td>-1613.870700</td>\n",
              "      <td>-2753.998000</td>\n",
              "      <td>-16.880316</td>\n",
              "      <td>-926.565800</td>\n",
              "      <td>-2053.548600</td>\n",
              "      <td>-541.115400</td>\n",
              "      <td>...</td>\n",
              "      <td>-3399.706000</td>\n",
              "      <td>-259.096950</td>\n",
              "      <td>-478.684000</td>\n",
              "      <td>-519.633360</td>\n",
              "      <td>-1265.744400</td>\n",
              "      <td>-1658.635300</td>\n",
              "      <td>-2213.219000</td>\n",
              "      <td>-1974.672200</td>\n",
              "      <td>-956.595100</td>\n",
              "      <td>-1012.145570</td>\n",
              "    </tr>\n",
              "    <tr>\n",
              "      <th>17</th>\n",
              "      <td>-1593.958300</td>\n",
              "      <td>-580.406740</td>\n",
              "      <td>-1565.944300</td>\n",
              "      <td>-1577.661400</td>\n",
              "      <td>-1750.356000</td>\n",
              "      <td>-2380.119000</td>\n",
              "      <td>-5.525762</td>\n",
              "      <td>-1160.399900</td>\n",
              "      <td>-2499.905000</td>\n",
              "      <td>-943.666930</td>\n",
              "      <td>...</td>\n",
              "      <td>-3199.359400</td>\n",
              "      <td>-343.000180</td>\n",
              "      <td>-613.157500</td>\n",
              "      <td>-848.767330</td>\n",
              "      <td>-1156.148100</td>\n",
              "      <td>-1648.773900</td>\n",
              "      <td>-2080.432000</td>\n",
              "      <td>-1835.273300</td>\n",
              "      <td>-995.085270</td>\n",
              "      <td>-1222.416000</td>\n",
              "    </tr>\n",
              "    <tr>\n",
              "      <th>18</th>\n",
              "      <td>-992.950900</td>\n",
              "      <td>-413.387480</td>\n",
              "      <td>-646.057800</td>\n",
              "      <td>-996.906000</td>\n",
              "      <td>-1057.504300</td>\n",
              "      <td>-1967.761700</td>\n",
              "      <td>16.084042</td>\n",
              "      <td>-659.598450</td>\n",
              "      <td>-1248.931900</td>\n",
              "      <td>-275.242340</td>\n",
              "      <td>...</td>\n",
              "      <td>-3114.136500</td>\n",
              "      <td>-162.469240</td>\n",
              "      <td>-204.246480</td>\n",
              "      <td>-283.255460</td>\n",
              "      <td>-1098.202300</td>\n",
              "      <td>-1147.450200</td>\n",
              "      <td>-1486.145400</td>\n",
              "      <td>-1674.473600</td>\n",
              "      <td>-575.053470</td>\n",
              "      <td>-456.081270</td>\n",
              "    </tr>\n",
              "    <tr>\n",
              "      <th>19</th>\n",
              "      <td>-183.008800</td>\n",
              "      <td>-325.699200</td>\n",
              "      <td>111.679726</td>\n",
              "      <td>-759.887270</td>\n",
              "      <td>-472.669370</td>\n",
              "      <td>-1993.826700</td>\n",
              "      <td>19.156492</td>\n",
              "      <td>-159.449950</td>\n",
              "      <td>-196.211700</td>\n",
              "      <td>67.909380</td>\n",
              "      <td>...</td>\n",
              "      <td>-3243.328100</td>\n",
              "      <td>-28.548307</td>\n",
              "      <td>26.542551</td>\n",
              "      <td>-46.860466</td>\n",
              "      <td>-1108.998200</td>\n",
              "      <td>-827.273800</td>\n",
              "      <td>-1240.843600</td>\n",
              "      <td>-1559.606800</td>\n",
              "      <td>-301.976500</td>\n",
              "      <td>-101.990750</td>\n",
              "    </tr>\n",
              "    <tr>\n",
              "      <th>20</th>\n",
              "      <td>-139.055080</td>\n",
              "      <td>-244.074920</td>\n",
              "      <td>-33.590480</td>\n",
              "      <td>-597.856200</td>\n",
              "      <td>-366.044280</td>\n",
              "      <td>-1320.311900</td>\n",
              "      <td>36.037490</td>\n",
              "      <td>-46.820380</td>\n",
              "      <td>-246.772380</td>\n",
              "      <td>-114.237000</td>\n",
              "      <td>...</td>\n",
              "      <td>-2417.959200</td>\n",
              "      <td>-50.154130</td>\n",
              "      <td>-40.870880</td>\n",
              "      <td>-147.530940</td>\n",
              "      <td>-769.132700</td>\n",
              "      <td>-570.749700</td>\n",
              "      <td>-614.920350</td>\n",
              "      <td>-1108.107700</td>\n",
              "      <td>-269.760200</td>\n",
              "      <td>-213.337920</td>\n",
              "    </tr>\n",
              "    <tr>\n",
              "      <th>21</th>\n",
              "      <td>-68.612175</td>\n",
              "      <td>-46.675697</td>\n",
              "      <td>-36.365240</td>\n",
              "      <td>-253.186830</td>\n",
              "      <td>-216.461840</td>\n",
              "      <td>-180.930740</td>\n",
              "      <td>38.821857</td>\n",
              "      <td>-32.451283</td>\n",
              "      <td>-192.447430</td>\n",
              "      <td>-32.371918</td>\n",
              "      <td>...</td>\n",
              "      <td>-718.417360</td>\n",
              "      <td>-35.478256</td>\n",
              "      <td>-48.960346</td>\n",
              "      <td>-73.059586</td>\n",
              "      <td>-27.201735</td>\n",
              "      <td>-114.253720</td>\n",
              "      <td>-30.881214</td>\n",
              "      <td>-277.634430</td>\n",
              "      <td>-154.208630</td>\n",
              "      <td>-125.729420</td>\n",
              "    </tr>\n",
              "    <tr>\n",
              "      <th>22</th>\n",
              "      <td>-765.826840</td>\n",
              "      <td>-354.575300</td>\n",
              "      <td>-510.090600</td>\n",
              "      <td>-924.414500</td>\n",
              "      <td>-824.244930</td>\n",
              "      <td>-2016.092200</td>\n",
              "      <td>19.538595</td>\n",
              "      <td>-421.137270</td>\n",
              "      <td>-833.555800</td>\n",
              "      <td>-93.110990</td>\n",
              "      <td>...</td>\n",
              "      <td>-2553.306600</td>\n",
              "      <td>-86.427540</td>\n",
              "      <td>-189.248570</td>\n",
              "      <td>-218.290040</td>\n",
              "      <td>-880.468800</td>\n",
              "      <td>-1163.516500</td>\n",
              "      <td>-1492.548600</td>\n",
              "      <td>-1561.825200</td>\n",
              "      <td>-680.088560</td>\n",
              "      <td>-465.320040</td>\n",
              "    </tr>\n",
              "    <tr>\n",
              "      <th>23</th>\n",
              "      <td>-1356.837800</td>\n",
              "      <td>-576.688900</td>\n",
              "      <td>-1256.755200</td>\n",
              "      <td>-1559.945000</td>\n",
              "      <td>-1579.944600</td>\n",
              "      <td>-2593.326000</td>\n",
              "      <td>14.215886</td>\n",
              "      <td>-883.645200</td>\n",
              "      <td>-2013.900400</td>\n",
              "      <td>-546.782040</td>\n",
              "      <td>...</td>\n",
              "      <td>-3292.688200</td>\n",
              "      <td>-261.758730</td>\n",
              "      <td>-473.011440</td>\n",
              "      <td>-521.590200</td>\n",
              "      <td>-1229.443400</td>\n",
              "      <td>-1635.804700</td>\n",
              "      <td>-2118.685000</td>\n",
              "      <td>-1914.348500</td>\n",
              "      <td>-971.380700</td>\n",
              "      <td>-1023.764100</td>\n",
              "    </tr>\n",
              "    <tr>\n",
              "      <th>24</th>\n",
              "      <td>-1504.181600</td>\n",
              "      <td>-543.875600</td>\n",
              "      <td>-1503.699000</td>\n",
              "      <td>-1533.018900</td>\n",
              "      <td>-1685.997100</td>\n",
              "      <td>-2249.151600</td>\n",
              "      <td>24.647888</td>\n",
              "      <td>-1082.821400</td>\n",
              "      <td>-2417.045200</td>\n",
              "      <td>-918.517300</td>\n",
              "      <td>...</td>\n",
              "      <td>-3100.048800</td>\n",
              "      <td>-333.897500</td>\n",
              "      <td>-591.044600</td>\n",
              "      <td>-836.317260</td>\n",
              "      <td>-1119.018100</td>\n",
              "      <td>-1607.907500</td>\n",
              "      <td>-1999.114000</td>\n",
              "      <td>-1785.573900</td>\n",
              "      <td>-1011.211850</td>\n",
              "      <td>-1191.856100</td>\n",
              "    </tr>\n",
              "    <tr>\n",
              "      <th>25</th>\n",
              "      <td>-978.289250</td>\n",
              "      <td>-412.126500</td>\n",
              "      <td>-638.613000</td>\n",
              "      <td>-987.623500</td>\n",
              "      <td>-1046.953900</td>\n",
              "      <td>-1912.382900</td>\n",
              "      <td>44.894520</td>\n",
              "      <td>-636.466100</td>\n",
              "      <td>-1281.330100</td>\n",
              "      <td>-281.193730</td>\n",
              "      <td>...</td>\n",
              "      <td>-3054.580600</td>\n",
              "      <td>-166.687700</td>\n",
              "      <td>-205.716690</td>\n",
              "      <td>-290.508420</td>\n",
              "      <td>-1081.660300</td>\n",
              "      <td>-1142.953200</td>\n",
              "      <td>-1432.102200</td>\n",
              "      <td>-1663.180500</td>\n",
              "      <td>-576.481500</td>\n",
              "      <td>-466.878970</td>\n",
              "    </tr>\n",
              "    <tr>\n",
              "      <th>26</th>\n",
              "      <td>-258.732100</td>\n",
              "      <td>-339.333650</td>\n",
              "      <td>86.521560</td>\n",
              "      <td>-769.847300</td>\n",
              "      <td>-547.552100</td>\n",
              "      <td>-1975.467700</td>\n",
              "      <td>45.223290</td>\n",
              "      <td>-132.752350</td>\n",
              "      <td>-224.517470</td>\n",
              "      <td>64.529570</td>\n",
              "      <td>...</td>\n",
              "      <td>-3155.922400</td>\n",
              "      <td>-43.775215</td>\n",
              "      <td>24.242027</td>\n",
              "      <td>-48.925762</td>\n",
              "      <td>-1119.651700</td>\n",
              "      <td>-846.926330</td>\n",
              "      <td>-1204.880200</td>\n",
              "      <td>-1570.899400</td>\n",
              "      <td>-303.165100</td>\n",
              "      <td>-133.567780</td>\n",
              "    </tr>\n",
              "    <tr>\n",
              "      <th>27</th>\n",
              "      <td>-158.407910</td>\n",
              "      <td>-251.642850</td>\n",
              "      <td>-47.355576</td>\n",
              "      <td>-603.199900</td>\n",
              "      <td>-399.126950</td>\n",
              "      <td>-1333.907800</td>\n",
              "      <td>51.799450</td>\n",
              "      <td>-57.415977</td>\n",
              "      <td>-267.764220</td>\n",
              "      <td>-112.765780</td>\n",
              "      <td>...</td>\n",
              "      <td>-2352.753000</td>\n",
              "      <td>-57.916122</td>\n",
              "      <td>-44.809010</td>\n",
              "      <td>-162.012440</td>\n",
              "      <td>-783.917700</td>\n",
              "      <td>-587.888800</td>\n",
              "      <td>-600.656400</td>\n",
              "      <td>-1128.245800</td>\n",
              "      <td>-259.256560</td>\n",
              "      <td>-218.728730</td>\n",
              "    </tr>\n",
              "    <tr>\n",
              "      <th>28</th>\n",
              "      <td>-44.605230</td>\n",
              "      <td>-49.699936</td>\n",
              "      <td>-32.788563</td>\n",
              "      <td>-245.106550</td>\n",
              "      <td>-196.196120</td>\n",
              "      <td>-174.026720</td>\n",
              "      <td>61.131500</td>\n",
              "      <td>-5.775613</td>\n",
              "      <td>-181.257550</td>\n",
              "      <td>-30.379864</td>\n",
              "      <td>...</td>\n",
              "      <td>-715.869500</td>\n",
              "      <td>-36.826130</td>\n",
              "      <td>-58.626950</td>\n",
              "      <td>-92.407880</td>\n",
              "      <td>-30.843094</td>\n",
              "      <td>-147.416750</td>\n",
              "      <td>13.656806</td>\n",
              "      <td>-322.465900</td>\n",
              "      <td>-120.854350</td>\n",
              "      <td>-113.330870</td>\n",
              "    </tr>\n",
              "  </tbody>\n",
              "</table>\n",
              "<p>29 rows × 37 columns</p>\n",
              "</div>"
            ],
            "text/plain": [
              "            품목0          품목1          품목2          품목3          품목4  \\\n",
              "0   3871.125000  1362.117613  2909.783785  3400.075583  3947.809169   \n",
              "1   -653.192930  -337.808780  -385.908480  -599.413400  -527.448800   \n",
              "2  -1419.783900  -703.094500 -1317.136700 -1438.783700 -1557.982000   \n",
              "3  -1778.965600  -631.046750 -1631.389200 -1488.176800 -1801.011600   \n",
              "4  -1074.995000  -369.045960  -617.541200  -867.477500  -999.585200   \n",
              "5    -82.964294  -239.864690   201.330300  -610.336240  -357.367700   \n",
              "6   -101.339630  -193.165940   -70.949520  -473.389040  -294.450600   \n",
              "7   -122.393900   -49.349100   -75.314330  -258.525760  -251.140660   \n",
              "8   -766.792300  -374.199980  -462.983500  -896.262150  -762.578000   \n",
              "9  -1431.010600  -660.670840 -1321.953700 -1608.741200 -1664.486500   \n",
              "10 -1684.177500  -597.666200 -1617.810200 -1599.219500 -1859.346400   \n",
              "11 -1082.803200  -398.834000  -645.246200 -1009.548770 -1120.218000   \n",
              "12  -115.092834  -290.649440   140.711730  -774.863400  -460.079000   \n",
              "13  -117.535300  -222.815730   -31.572004  -592.382800  -334.796630   \n",
              "14   -73.423510   -55.727470   -42.136440  -296.759300  -196.122210   \n",
              "15  -756.368600  -366.695500  -484.997900  -936.681700  -804.527340   \n",
              "16 -1366.476900  -617.505070 -1302.638800 -1589.085600 -1613.870700   \n",
              "17 -1593.958300  -580.406740 -1565.944300 -1577.661400 -1750.356000   \n",
              "18  -992.950900  -413.387480  -646.057800  -996.906000 -1057.504300   \n",
              "19  -183.008800  -325.699200   111.679726  -759.887270  -472.669370   \n",
              "20  -139.055080  -244.074920   -33.590480  -597.856200  -366.044280   \n",
              "21   -68.612175   -46.675697   -36.365240  -253.186830  -216.461840   \n",
              "22  -765.826840  -354.575300  -510.090600  -924.414500  -824.244930   \n",
              "23 -1356.837800  -576.688900 -1256.755200 -1559.945000 -1579.944600   \n",
              "24 -1504.181600  -543.875600 -1503.699000 -1533.018900 -1685.997100   \n",
              "25  -978.289250  -412.126500  -638.613000  -987.623500 -1046.953900   \n",
              "26  -258.732100  -339.333650    86.521560  -769.847300  -547.552100   \n",
              "27  -158.407910  -251.642850   -47.355576  -603.199900  -399.126950   \n",
              "28   -44.605230   -49.699936   -32.788563  -245.106550  -196.196120   \n",
              "\n",
              "            품목5          품목6          품목7          품목8          품목9  ...  \\\n",
              "0   9253.947514  2717.280000  3361.030923  4911.899864  1173.018633  ...   \n",
              "1  -2168.829600   -52.297066  -421.581360  -675.544070   -77.273240  ...   \n",
              "2  -2995.400600  -103.376310  -969.470460 -2079.054000  -508.053620  ...   \n",
              "3  -2621.625200  -106.130850 -1243.711700 -2589.169200  -967.848630  ...   \n",
              "4  -1945.049700  -106.071560  -738.617250 -1209.561800  -261.019350  ...   \n",
              "5  -2003.842200   -86.626526  -192.218700  -167.764470    56.395443  ...   \n",
              "6  -1258.063100   -70.046470   -82.477610  -261.234680  -116.260970  ...   \n",
              "7   -249.136400   -36.265198   -96.613050  -218.920800   -42.428486  ...   \n",
              "8  -2222.851800   -57.751520  -437.620400  -786.860050  -107.122820  ...   \n",
              "9  -2927.709000   -65.952340  -958.062000 -2079.980500  -542.912900  ...   \n",
              "10 -2521.458700   -74.930016 -1224.279000 -2568.680200  -966.925350  ...   \n",
              "11 -2024.156600   -53.361410  -706.759770 -1268.129000  -280.795960  ...   \n",
              "12 -2036.429700   -44.285736  -176.643740  -189.585860    52.560470  ...   \n",
              "13 -1295.174800   -31.374557   -20.777502  -244.194140  -112.917656  ...   \n",
              "14  -188.587660    10.061830   -37.637478  -173.259450   -43.510970  ...   \n",
              "15 -2124.594200    16.463150  -438.053100  -788.340500   -93.815180  ...   \n",
              "16 -2753.998000   -16.880316  -926.565800 -2053.548600  -541.115400  ...   \n",
              "17 -2380.119000    -5.525762 -1160.399900 -2499.905000  -943.666930  ...   \n",
              "18 -1967.761700    16.084042  -659.598450 -1248.931900  -275.242340  ...   \n",
              "19 -1993.826700    19.156492  -159.449950  -196.211700    67.909380  ...   \n",
              "20 -1320.311900    36.037490   -46.820380  -246.772380  -114.237000  ...   \n",
              "21  -180.930740    38.821857   -32.451283  -192.447430   -32.371918  ...   \n",
              "22 -2016.092200    19.538595  -421.137270  -833.555800   -93.110990  ...   \n",
              "23 -2593.326000    14.215886  -883.645200 -2013.900400  -546.782040  ...   \n",
              "24 -2249.151600    24.647888 -1082.821400 -2417.045200  -918.517300  ...   \n",
              "25 -1912.382900    44.894520  -636.466100 -1281.330100  -281.193730  ...   \n",
              "26 -1975.467700    45.223290  -132.752350  -224.517470    64.529570  ...   \n",
              "27 -1333.907800    51.799450   -57.415977  -267.764220  -112.765780  ...   \n",
              "28  -174.026720    61.131500    -5.775613  -181.257550   -30.379864  ...   \n",
              "\n",
              "           품목27        품목28         품목29         품목30         품목31  \\\n",
              "0   8640.811309  602.005658  1105.412623  1566.274239  3633.464557   \n",
              "1  -2580.742200  -48.784070  -159.180500  -202.573230  -955.224300   \n",
              "2  -3668.422400 -263.462500  -459.841000  -452.780150 -1413.737400   \n",
              "3  -3439.190200 -360.707520  -595.614000  -857.200260 -1275.463100   \n",
              "4  -3270.968300 -135.758600  -193.936740  -254.021260 -1187.499500   \n",
              "5  -3380.252400    3.462398    22.839386   -46.669150 -1206.140400   \n",
              "6  -2440.056600  -42.156640   -57.334880  -173.462200  -836.271100   \n",
              "7   -499.511380  -32.661556   -70.616630  -111.544890   -49.221460   \n",
              "8  -2724.598900  -74.452934  -208.250780  -259.613830  -929.497400   \n",
              "9  -3631.552500 -270.338840  -489.948600  -514.383670 -1309.827000   \n",
              "10 -3391.758500 -356.840150  -619.761660  -876.972530 -1183.352400   \n",
              "11 -3275.131000 -154.705250  -217.614010  -299.486600 -1124.905200   \n",
              "12 -3334.170400  -25.858213    10.989196   -58.230965 -1155.619400   \n",
              "13 -2419.528600  -47.725452   -47.768253  -156.986190  -811.976560   \n",
              "14  -619.384800  -31.003910   -47.701880   -94.202410   -37.904370   \n",
              "15 -2571.580300  -77.064660  -179.030790  -248.006990  -896.687300   \n",
              "16 -3399.706000 -259.096950  -478.684000  -519.633360 -1265.744400   \n",
              "17 -3199.359400 -343.000180  -613.157500  -848.767330 -1156.148100   \n",
              "18 -3114.136500 -162.469240  -204.246480  -283.255460 -1098.202300   \n",
              "19 -3243.328100  -28.548307    26.542551   -46.860466 -1108.998200   \n",
              "20 -2417.959200  -50.154130   -40.870880  -147.530940  -769.132700   \n",
              "21  -718.417360  -35.478256   -48.960346   -73.059586   -27.201735   \n",
              "22 -2553.306600  -86.427540  -189.248570  -218.290040  -880.468800   \n",
              "23 -3292.688200 -261.758730  -473.011440  -521.590200 -1229.443400   \n",
              "24 -3100.048800 -333.897500  -591.044600  -836.317260 -1119.018100   \n",
              "25 -3054.580600 -166.687700  -205.716690  -290.508420 -1081.660300   \n",
              "26 -3155.922400  -43.775215    24.242027   -48.925762 -1119.651700   \n",
              "27 -2352.753000  -57.916122   -44.809010  -162.012440  -783.917700   \n",
              "28  -715.869500  -36.826130   -58.626950   -92.407880   -30.843094   \n",
              "\n",
              "           품목32         품목33         품목34         품목35         품목36  \n",
              "0   5454.710444  5619.188362  5230.620027  2905.100888  2087.675036  \n",
              "1  -1104.650400 -1593.848000 -1634.649500  -504.297240  -372.797800  \n",
              "2  -1658.824600 -2273.903300 -2074.212400  -945.634900 -1034.361100  \n",
              "3  -1690.701400 -2183.155000 -1919.146200 -1086.967000 -1331.966600  \n",
              "4  -1164.077800 -1542.617700 -1671.553100  -581.949900  -415.906650  \n",
              "5   -804.513550 -1297.763500 -1509.499000  -216.501040    -3.602535  \n",
              "6   -523.126800  -611.777300 -1052.912800  -229.099040  -129.725080  \n",
              "7   -170.982700  -157.814380  -283.388180  -133.209930   -89.134254  \n",
              "8  -1226.998900 -1624.148400 -1676.273600  -643.568500  -421.715600  \n",
              "9  -1726.091900 -2282.455000 -2034.299600  -962.543900 -1046.371000  \n",
              "10 -1728.229900 -2136.880100 -1887.860000 -1013.377560 -1293.093400  \n",
              "11 -1189.686500 -1529.341200 -1714.167100  -576.183300  -443.594360  \n",
              "12  -829.928650 -1247.439700 -1585.587800  -305.715120   -51.801613  \n",
              "13  -552.691000  -625.935360 -1126.600500  -266.572750  -153.310700  \n",
              "14  -132.689640  -129.964970  -307.170840  -125.136220   -86.293050  \n",
              "15 -1179.773100 -1554.896600 -1622.343900  -666.245900  -447.258970  \n",
              "16 -1658.635300 -2213.219000 -1974.672200  -956.595100 -1012.145570  \n",
              "17 -1648.773900 -2080.432000 -1835.273300  -995.085270 -1222.416000  \n",
              "18 -1147.450200 -1486.145400 -1674.473600  -575.053470  -456.081270  \n",
              "19  -827.273800 -1240.843600 -1559.606800  -301.976500  -101.990750  \n",
              "20  -570.749700  -614.920350 -1108.107700  -269.760200  -213.337920  \n",
              "21  -114.253720   -30.881214  -277.634430  -154.208630  -125.729420  \n",
              "22 -1163.516500 -1492.548600 -1561.825200  -680.088560  -465.320040  \n",
              "23 -1635.804700 -2118.685000 -1914.348500  -971.380700 -1023.764100  \n",
              "24 -1607.907500 -1999.114000 -1785.573900 -1011.211850 -1191.856100  \n",
              "25 -1142.953200 -1432.102200 -1663.180500  -576.481500  -466.878970  \n",
              "26  -846.926330 -1204.880200 -1570.899400  -303.165100  -133.567780  \n",
              "27  -587.888800  -600.656400 -1128.245800  -259.256560  -218.728730  \n",
              "28  -147.416750    13.656806  -322.465900  -120.854350  -113.330870  \n",
              "\n",
              "[29 rows x 37 columns]"
            ]
          },
          "execution_count": 14,
          "metadata": {},
          "output_type": "execute_result"
        }
      ],
      "source": [
        "set_df_0"
      ]
    },
    {
      "cell_type": "markdown",
      "metadata": {
        "id": "d6GWHYtTJ8fb"
      },
      "source": [
        "- 변동률 계산 "
      ]
    },
    {
      "cell_type": "code",
      "execution_count": 15,
      "metadata": {
        "id": "G7guVyL7J8fc"
      },
      "outputs": [],
      "source": [
        "date = [f'd+{i}' for i in range(1,15)] + ['d+22 ~ 28 평균']\n",
        "\n",
        "for k in range(10):\n",
        "  globals()[f'answer_df_{k}'] = pd.DataFrame()\n",
        "  for c in globals()[f'set_df_{k}'].columns:\n",
        "    base_d = globals()[f'set_df_{k}'][c][0] # 변동률 기준 t 값\n",
        "    ans_1_14 = []\n",
        "    for i in range(14):\n",
        "      ans_1_14.append((globals()[f'set_df_{k}'][c].iloc[i+1])/base_d)\n",
        "    \n",
        "    ans_22_28 = (globals()[f'set_df_{k}'][c][22:29].mean())/base_d\n",
        "    globals()[f'answer_df_{k}'][f'{c} 변동률'] = ans_1_14 + [ans_22_28]\n",
        "  \n",
        "  globals()[f'answer_df_{k}']['Set'] = k # set 번호 설정\n",
        "  globals()[f'answer_df_{k}']['일자'] = date # 일자 설정"
      ]
    },
    {
      "cell_type": "markdown",
      "metadata": {
        "id": "0kl8cEL6J8fe"
      },
      "source": [
        "- sep 0  ~ sep 9 까지 합치기"
      ]
    },
    {
      "cell_type": "code",
      "execution_count": 16,
      "metadata": {
        "id": "T8nepRwGJ8ff"
      },
      "outputs": [],
      "source": [
        "# 위에서 계산된 변동률 들을 합쳐주는 과정\n",
        "\n",
        "all_df =pd.DataFrame()\n",
        "for i in range(10):\n",
        "  if i== 0 :\n",
        "    all_df = pd.concat([all_df, globals()[f'answer_df_{i}']],axis=1)\n",
        "  else:\n",
        "    all_df = pd.concat([all_df, globals()[f'answer_df_{i}']])\n",
        "\n",
        "\n",
        "all_df = all_df[['Set','일자'] + list(all_df.columns[:-2])]\n",
        "all_df.reset_index(drop=True, inplace=True)"
      ]
    },
    {
      "cell_type": "code",
      "execution_count": 17,
      "metadata": {
        "id": "1_Qxfg3_J8fg"
      },
      "outputs": [
        {
          "data": {
            "text/html": [
              "<div>\n",
              "<style scoped>\n",
              "    .dataframe tbody tr th:only-of-type {\n",
              "        vertical-align: middle;\n",
              "    }\n",
              "\n",
              "    .dataframe tbody tr th {\n",
              "        vertical-align: top;\n",
              "    }\n",
              "\n",
              "    .dataframe thead th {\n",
              "        text-align: right;\n",
              "    }\n",
              "</style>\n",
              "<table border=\"1\" class=\"dataframe\">\n",
              "  <thead>\n",
              "    <tr style=\"text-align: right;\">\n",
              "      <th></th>\n",
              "      <th>품목0 변동률</th>\n",
              "      <th>품목1 변동률</th>\n",
              "      <th>품목2 변동률</th>\n",
              "      <th>품목3 변동률</th>\n",
              "      <th>품목4 변동률</th>\n",
              "      <th>품목5 변동률</th>\n",
              "      <th>품목6 변동률</th>\n",
              "      <th>품목7 변동률</th>\n",
              "      <th>품목8 변동률</th>\n",
              "      <th>품목9 변동률</th>\n",
              "      <th>...</th>\n",
              "      <th>품목29 변동률</th>\n",
              "      <th>품목30 변동률</th>\n",
              "      <th>품목31 변동률</th>\n",
              "      <th>품목32 변동률</th>\n",
              "      <th>품목33 변동률</th>\n",
              "      <th>품목34 변동률</th>\n",
              "      <th>품목35 변동률</th>\n",
              "      <th>품목36 변동률</th>\n",
              "      <th>Set</th>\n",
              "      <th>일자</th>\n",
              "    </tr>\n",
              "  </thead>\n",
              "  <tbody>\n",
              "    <tr>\n",
              "      <th>0</th>\n",
              "      <td>-0.168735</td>\n",
              "      <td>-0.248003</td>\n",
              "      <td>-0.132624</td>\n",
              "      <td>-0.176294</td>\n",
              "      <td>-0.133605</td>\n",
              "      <td>-0.234368</td>\n",
              "      <td>-0.019246</td>\n",
              "      <td>-0.125432</td>\n",
              "      <td>-0.137532</td>\n",
              "      <td>-0.065876</td>\n",
              "      <td>...</td>\n",
              "      <td>-0.144001</td>\n",
              "      <td>-0.129334</td>\n",
              "      <td>-0.262896</td>\n",
              "      <td>-0.202513</td>\n",
              "      <td>-0.283644</td>\n",
              "      <td>-0.312515</td>\n",
              "      <td>-0.173590</td>\n",
              "      <td>-0.178571</td>\n",
              "      <td>0</td>\n",
              "      <td>d+1</td>\n",
              "    </tr>\n",
              "    <tr>\n",
              "      <th>1</th>\n",
              "      <td>-0.366763</td>\n",
              "      <td>-0.516178</td>\n",
              "      <td>-0.452658</td>\n",
              "      <td>-0.423162</td>\n",
              "      <td>-0.394645</td>\n",
              "      <td>-0.323689</td>\n",
              "      <td>-0.038044</td>\n",
              "      <td>-0.288444</td>\n",
              "      <td>-0.423269</td>\n",
              "      <td>-0.433116</td>\n",
              "      <td>...</td>\n",
              "      <td>-0.415990</td>\n",
              "      <td>-0.289081</td>\n",
              "      <td>-0.389088</td>\n",
              "      <td>-0.304109</td>\n",
              "      <td>-0.404668</td>\n",
              "      <td>-0.396552</td>\n",
              "      <td>-0.325508</td>\n",
              "      <td>-0.495461</td>\n",
              "      <td>0</td>\n",
              "      <td>d+2</td>\n",
              "    </tr>\n",
              "    <tr>\n",
              "      <th>2</th>\n",
              "      <td>-0.459547</td>\n",
              "      <td>-0.463284</td>\n",
              "      <td>-0.560657</td>\n",
              "      <td>-0.437689</td>\n",
              "      <td>-0.456205</td>\n",
              "      <td>-0.283298</td>\n",
              "      <td>-0.039058</td>\n",
              "      <td>-0.370039</td>\n",
              "      <td>-0.527122</td>\n",
              "      <td>-0.825092</td>\n",
              "      <td>...</td>\n",
              "      <td>-0.538816</td>\n",
              "      <td>-0.547286</td>\n",
              "      <td>-0.351032</td>\n",
              "      <td>-0.309953</td>\n",
              "      <td>-0.388518</td>\n",
              "      <td>-0.366906</td>\n",
              "      <td>-0.374158</td>\n",
              "      <td>-0.638014</td>\n",
              "      <td>0</td>\n",
              "      <td>d+3</td>\n",
              "    </tr>\n",
              "    <tr>\n",
              "      <th>3</th>\n",
              "      <td>-0.277696</td>\n",
              "      <td>-0.270935</td>\n",
              "      <td>-0.212229</td>\n",
              "      <td>-0.255135</td>\n",
              "      <td>-0.253200</td>\n",
              "      <td>-0.210186</td>\n",
              "      <td>-0.039036</td>\n",
              "      <td>-0.219759</td>\n",
              "      <td>-0.246251</td>\n",
              "      <td>-0.222519</td>\n",
              "      <td>...</td>\n",
              "      <td>-0.175443</td>\n",
              "      <td>-0.162182</td>\n",
              "      <td>-0.326823</td>\n",
              "      <td>-0.213408</td>\n",
              "      <td>-0.274527</td>\n",
              "      <td>-0.319571</td>\n",
              "      <td>-0.200320</td>\n",
              "      <td>-0.199220</td>\n",
              "      <td>0</td>\n",
              "      <td>d+4</td>\n",
              "    </tr>\n",
              "    <tr>\n",
              "      <th>4</th>\n",
              "      <td>-0.021432</td>\n",
              "      <td>-0.176097</td>\n",
              "      <td>0.069191</td>\n",
              "      <td>-0.179507</td>\n",
              "      <td>-0.090523</td>\n",
              "      <td>-0.216539</td>\n",
              "      <td>-0.031880</td>\n",
              "      <td>-0.057190</td>\n",
              "      <td>-0.034155</td>\n",
              "      <td>0.048077</td>\n",
              "      <td>...</td>\n",
              "      <td>0.020661</td>\n",
              "      <td>-0.029796</td>\n",
              "      <td>-0.331953</td>\n",
              "      <td>-0.147490</td>\n",
              "      <td>-0.230952</td>\n",
              "      <td>-0.288589</td>\n",
              "      <td>-0.074524</td>\n",
              "      <td>-0.001726</td>\n",
              "      <td>0</td>\n",
              "      <td>d+5</td>\n",
              "    </tr>\n",
              "    <tr>\n",
              "      <th>5</th>\n",
              "      <td>-0.026178</td>\n",
              "      <td>-0.141813</td>\n",
              "      <td>-0.024383</td>\n",
              "      <td>-0.139229</td>\n",
              "      <td>-0.074586</td>\n",
              "      <td>-0.135949</td>\n",
              "      <td>-0.025778</td>\n",
              "      <td>-0.024539</td>\n",
              "      <td>-0.053184</td>\n",
              "      <td>-0.099113</td>\n",
              "      <td>...</td>\n",
              "      <td>-0.051867</td>\n",
              "      <td>-0.110748</td>\n",
              "      <td>-0.230158</td>\n",
              "      <td>-0.095904</td>\n",
              "      <td>-0.108873</td>\n",
              "      <td>-0.201298</td>\n",
              "      <td>-0.078861</td>\n",
              "      <td>-0.062139</td>\n",
              "      <td>0</td>\n",
              "      <td>d+6</td>\n",
              "    </tr>\n",
              "    <tr>\n",
              "      <th>6</th>\n",
              "      <td>-0.031617</td>\n",
              "      <td>-0.036230</td>\n",
              "      <td>-0.025883</td>\n",
              "      <td>-0.076035</td>\n",
              "      <td>-0.063615</td>\n",
              "      <td>-0.026922</td>\n",
              "      <td>-0.013346</td>\n",
              "      <td>-0.028745</td>\n",
              "      <td>-0.044569</td>\n",
              "      <td>-0.036170</td>\n",
              "      <td>...</td>\n",
              "      <td>-0.063883</td>\n",
              "      <td>-0.071217</td>\n",
              "      <td>-0.013547</td>\n",
              "      <td>-0.031346</td>\n",
              "      <td>-0.028085</td>\n",
              "      <td>-0.054179</td>\n",
              "      <td>-0.045854</td>\n",
              "      <td>-0.042695</td>\n",
              "      <td>0</td>\n",
              "      <td>d+7</td>\n",
              "    </tr>\n",
              "    <tr>\n",
              "      <th>7</th>\n",
              "      <td>-0.198080</td>\n",
              "      <td>-0.274719</td>\n",
              "      <td>-0.159113</td>\n",
              "      <td>-0.263601</td>\n",
              "      <td>-0.193165</td>\n",
              "      <td>-0.240206</td>\n",
              "      <td>-0.021253</td>\n",
              "      <td>-0.130204</td>\n",
              "      <td>-0.160195</td>\n",
              "      <td>-0.091322</td>\n",
              "      <td>...</td>\n",
              "      <td>-0.188392</td>\n",
              "      <td>-0.165752</td>\n",
              "      <td>-0.255816</td>\n",
              "      <td>-0.224943</td>\n",
              "      <td>-0.289036</td>\n",
              "      <td>-0.320473</td>\n",
              "      <td>-0.221531</td>\n",
              "      <td>-0.202003</td>\n",
              "      <td>0</td>\n",
              "      <td>d+8</td>\n",
              "    </tr>\n",
              "    <tr>\n",
              "      <th>8</th>\n",
              "      <td>-0.369663</td>\n",
              "      <td>-0.485032</td>\n",
              "      <td>-0.454313</td>\n",
              "      <td>-0.473149</td>\n",
              "      <td>-0.421623</td>\n",
              "      <td>-0.316374</td>\n",
              "      <td>-0.024271</td>\n",
              "      <td>-0.285050</td>\n",
              "      <td>-0.423457</td>\n",
              "      <td>-0.462834</td>\n",
              "      <td>...</td>\n",
              "      <td>-0.443227</td>\n",
              "      <td>-0.328412</td>\n",
              "      <td>-0.360490</td>\n",
              "      <td>-0.316441</td>\n",
              "      <td>-0.406189</td>\n",
              "      <td>-0.388921</td>\n",
              "      <td>-0.331329</td>\n",
              "      <td>-0.501214</td>\n",
              "      <td>0</td>\n",
              "      <td>d+9</td>\n",
              "    </tr>\n",
              "    <tr>\n",
              "      <th>9</th>\n",
              "      <td>-0.435062</td>\n",
              "      <td>-0.438777</td>\n",
              "      <td>-0.555990</td>\n",
              "      <td>-0.470348</td>\n",
              "      <td>-0.470982</td>\n",
              "      <td>-0.272474</td>\n",
              "      <td>-0.027575</td>\n",
              "      <td>-0.364257</td>\n",
              "      <td>-0.522950</td>\n",
              "      <td>-0.824305</td>\n",
              "      <td>...</td>\n",
              "      <td>-0.560661</td>\n",
              "      <td>-0.559910</td>\n",
              "      <td>-0.325682</td>\n",
              "      <td>-0.316833</td>\n",
              "      <td>-0.380283</td>\n",
              "      <td>-0.360925</td>\n",
              "      <td>-0.348827</td>\n",
              "      <td>-0.619394</td>\n",
              "      <td>0</td>\n",
              "      <td>d+10</td>\n",
              "    </tr>\n",
              "    <tr>\n",
              "      <th>10</th>\n",
              "      <td>-0.279713</td>\n",
              "      <td>-0.292804</td>\n",
              "      <td>-0.221751</td>\n",
              "      <td>-0.296920</td>\n",
              "      <td>-0.283757</td>\n",
              "      <td>-0.218734</td>\n",
              "      <td>-0.019638</td>\n",
              "      <td>-0.210281</td>\n",
              "      <td>-0.258175</td>\n",
              "      <td>-0.239379</td>\n",
              "      <td>...</td>\n",
              "      <td>-0.196862</td>\n",
              "      <td>-0.191210</td>\n",
              "      <td>-0.309596</td>\n",
              "      <td>-0.218103</td>\n",
              "      <td>-0.272164</td>\n",
              "      <td>-0.327718</td>\n",
              "      <td>-0.198335</td>\n",
              "      <td>-0.212482</td>\n",
              "      <td>0</td>\n",
              "      <td>d+11</td>\n",
              "    </tr>\n",
              "    <tr>\n",
              "      <th>11</th>\n",
              "      <td>-0.029731</td>\n",
              "      <td>-0.213381</td>\n",
              "      <td>0.048358</td>\n",
              "      <td>-0.227896</td>\n",
              "      <td>-0.116540</td>\n",
              "      <td>-0.220061</td>\n",
              "      <td>-0.016298</td>\n",
              "      <td>-0.052556</td>\n",
              "      <td>-0.038597</td>\n",
              "      <td>0.044808</td>\n",
              "      <td>...</td>\n",
              "      <td>0.009941</td>\n",
              "      <td>-0.037178</td>\n",
              "      <td>-0.318049</td>\n",
              "      <td>-0.152149</td>\n",
              "      <td>-0.221996</td>\n",
              "      <td>-0.303136</td>\n",
              "      <td>-0.105234</td>\n",
              "      <td>-0.024813</td>\n",
              "      <td>0</td>\n",
              "      <td>d+12</td>\n",
              "    </tr>\n",
              "    <tr>\n",
              "      <th>12</th>\n",
              "      <td>-0.030362</td>\n",
              "      <td>-0.163580</td>\n",
              "      <td>-0.010850</td>\n",
              "      <td>-0.174226</td>\n",
              "      <td>-0.084806</td>\n",
              "      <td>-0.139959</td>\n",
              "      <td>-0.011546</td>\n",
              "      <td>-0.006182</td>\n",
              "      <td>-0.049715</td>\n",
              "      <td>-0.096262</td>\n",
              "      <td>...</td>\n",
              "      <td>-0.043213</td>\n",
              "      <td>-0.100229</td>\n",
              "      <td>-0.223472</td>\n",
              "      <td>-0.101324</td>\n",
              "      <td>-0.111392</td>\n",
              "      <td>-0.215386</td>\n",
              "      <td>-0.091760</td>\n",
              "      <td>-0.073436</td>\n",
              "      <td>0</td>\n",
              "      <td>d+13</td>\n",
              "    </tr>\n",
              "    <tr>\n",
              "      <th>13</th>\n",
              "      <td>-0.018967</td>\n",
              "      <td>-0.040912</td>\n",
              "      <td>-0.014481</td>\n",
              "      <td>-0.087280</td>\n",
              "      <td>-0.049679</td>\n",
              "      <td>-0.020379</td>\n",
              "      <td>0.003703</td>\n",
              "      <td>-0.011198</td>\n",
              "      <td>-0.035273</td>\n",
              "      <td>-0.037093</td>\n",
              "      <td>...</td>\n",
              "      <td>-0.043153</td>\n",
              "      <td>-0.060144</td>\n",
              "      <td>-0.010432</td>\n",
              "      <td>-0.024326</td>\n",
              "      <td>-0.023129</td>\n",
              "      <td>-0.058726</td>\n",
              "      <td>-0.043075</td>\n",
              "      <td>-0.041335</td>\n",
              "      <td>0</td>\n",
              "      <td>d+14</td>\n",
              "    </tr>\n",
              "    <tr>\n",
              "      <th>14</th>\n",
              "      <td>-0.186984</td>\n",
              "      <td>-0.265127</td>\n",
              "      <td>-0.191609</td>\n",
              "      <td>-0.278278</td>\n",
              "      <td>-0.227251</td>\n",
              "      <td>-0.189176</td>\n",
              "      <td>0.013745</td>\n",
              "      <td>-0.136863</td>\n",
              "      <td>-0.209967</td>\n",
              "      <td>-0.233612</td>\n",
              "      <td>...</td>\n",
              "      <td>-0.198790</td>\n",
              "      <td>-0.197927</td>\n",
              "      <td>-0.245535</td>\n",
              "      <td>-0.186796</td>\n",
              "      <td>-0.224596</td>\n",
              "      <td>-0.271657</td>\n",
              "      <td>-0.192884</td>\n",
              "      <td>-0.247264</td>\n",
              "      <td>0</td>\n",
              "      <td>d+22 ~ 28 평균</td>\n",
              "    </tr>\n",
              "  </tbody>\n",
              "</table>\n",
              "<p>15 rows × 39 columns</p>\n",
              "</div>"
            ],
            "text/plain": [
              "     품목0 변동률   품목1 변동률   품목2 변동률   품목3 변동률   품목4 변동률   품목5 변동률   품목6 변동률  \\\n",
              "0  -0.168735 -0.248003 -0.132624 -0.176294 -0.133605 -0.234368 -0.019246   \n",
              "1  -0.366763 -0.516178 -0.452658 -0.423162 -0.394645 -0.323689 -0.038044   \n",
              "2  -0.459547 -0.463284 -0.560657 -0.437689 -0.456205 -0.283298 -0.039058   \n",
              "3  -0.277696 -0.270935 -0.212229 -0.255135 -0.253200 -0.210186 -0.039036   \n",
              "4  -0.021432 -0.176097  0.069191 -0.179507 -0.090523 -0.216539 -0.031880   \n",
              "5  -0.026178 -0.141813 -0.024383 -0.139229 -0.074586 -0.135949 -0.025778   \n",
              "6  -0.031617 -0.036230 -0.025883 -0.076035 -0.063615 -0.026922 -0.013346   \n",
              "7  -0.198080 -0.274719 -0.159113 -0.263601 -0.193165 -0.240206 -0.021253   \n",
              "8  -0.369663 -0.485032 -0.454313 -0.473149 -0.421623 -0.316374 -0.024271   \n",
              "9  -0.435062 -0.438777 -0.555990 -0.470348 -0.470982 -0.272474 -0.027575   \n",
              "10 -0.279713 -0.292804 -0.221751 -0.296920 -0.283757 -0.218734 -0.019638   \n",
              "11 -0.029731 -0.213381  0.048358 -0.227896 -0.116540 -0.220061 -0.016298   \n",
              "12 -0.030362 -0.163580 -0.010850 -0.174226 -0.084806 -0.139959 -0.011546   \n",
              "13 -0.018967 -0.040912 -0.014481 -0.087280 -0.049679 -0.020379  0.003703   \n",
              "14 -0.186984 -0.265127 -0.191609 -0.278278 -0.227251 -0.189176  0.013745   \n",
              "\n",
              "     품목7 변동률   품목8 변동률   품목9 변동률  ...  품목29 변동률  품목30 변동률  품목31 변동률  품목32 변동률  \\\n",
              "0  -0.125432 -0.137532 -0.065876  ... -0.144001 -0.129334 -0.262896 -0.202513   \n",
              "1  -0.288444 -0.423269 -0.433116  ... -0.415990 -0.289081 -0.389088 -0.304109   \n",
              "2  -0.370039 -0.527122 -0.825092  ... -0.538816 -0.547286 -0.351032 -0.309953   \n",
              "3  -0.219759 -0.246251 -0.222519  ... -0.175443 -0.162182 -0.326823 -0.213408   \n",
              "4  -0.057190 -0.034155  0.048077  ...  0.020661 -0.029796 -0.331953 -0.147490   \n",
              "5  -0.024539 -0.053184 -0.099113  ... -0.051867 -0.110748 -0.230158 -0.095904   \n",
              "6  -0.028745 -0.044569 -0.036170  ... -0.063883 -0.071217 -0.013547 -0.031346   \n",
              "7  -0.130204 -0.160195 -0.091322  ... -0.188392 -0.165752 -0.255816 -0.224943   \n",
              "8  -0.285050 -0.423457 -0.462834  ... -0.443227 -0.328412 -0.360490 -0.316441   \n",
              "9  -0.364257 -0.522950 -0.824305  ... -0.560661 -0.559910 -0.325682 -0.316833   \n",
              "10 -0.210281 -0.258175 -0.239379  ... -0.196862 -0.191210 -0.309596 -0.218103   \n",
              "11 -0.052556 -0.038597  0.044808  ...  0.009941 -0.037178 -0.318049 -0.152149   \n",
              "12 -0.006182 -0.049715 -0.096262  ... -0.043213 -0.100229 -0.223472 -0.101324   \n",
              "13 -0.011198 -0.035273 -0.037093  ... -0.043153 -0.060144 -0.010432 -0.024326   \n",
              "14 -0.136863 -0.209967 -0.233612  ... -0.198790 -0.197927 -0.245535 -0.186796   \n",
              "\n",
              "    품목33 변동률  품목34 변동률  품목35 변동률  품목36 변동률  Set            일자  \n",
              "0  -0.283644 -0.312515 -0.173590 -0.178571    0           d+1  \n",
              "1  -0.404668 -0.396552 -0.325508 -0.495461    0           d+2  \n",
              "2  -0.388518 -0.366906 -0.374158 -0.638014    0           d+3  \n",
              "3  -0.274527 -0.319571 -0.200320 -0.199220    0           d+4  \n",
              "4  -0.230952 -0.288589 -0.074524 -0.001726    0           d+5  \n",
              "5  -0.108873 -0.201298 -0.078861 -0.062139    0           d+6  \n",
              "6  -0.028085 -0.054179 -0.045854 -0.042695    0           d+7  \n",
              "7  -0.289036 -0.320473 -0.221531 -0.202003    0           d+8  \n",
              "8  -0.406189 -0.388921 -0.331329 -0.501214    0           d+9  \n",
              "9  -0.380283 -0.360925 -0.348827 -0.619394    0          d+10  \n",
              "10 -0.272164 -0.327718 -0.198335 -0.212482    0          d+11  \n",
              "11 -0.221996 -0.303136 -0.105234 -0.024813    0          d+12  \n",
              "12 -0.111392 -0.215386 -0.091760 -0.073436    0          d+13  \n",
              "13 -0.023129 -0.058726 -0.043075 -0.041335    0          d+14  \n",
              "14 -0.224596 -0.271657 -0.192884 -0.247264    0  d+22 ~ 28 평균  \n",
              "\n",
              "[15 rows x 39 columns]"
            ]
          },
          "execution_count": 17,
          "metadata": {},
          "output_type": "execute_result"
        }
      ],
      "source": [
        "answer_df_0"
      ]
    },
    {
      "cell_type": "markdown",
      "metadata": {
        "id": "WObZCCMwJ8fi"
      },
      "source": [
        "- 정답 양식으로 변경"
      ]
    },
    {
      "cell_type": "code",
      "execution_count": 18,
      "metadata": {
        "id": "WF_5UI2wJ8fj"
      },
      "outputs": [],
      "source": [
        "# set, 일자 기억하기위해 따로 저장\n",
        "\n",
        "re_set = list(all_df['Set'])\n",
        "re_date = list(all_df['일자'])\n",
        "\n",
        "\n",
        "# 정답 양식 불러오기\n",
        "out_ans = pd.read_csv('./aT_data/answer_example.csv')\n",
        "\n",
        "# 두 dataframe 합치기 (nan + 숫자 = nan 이용)\n",
        "submit_df = all_df + out_ans\n",
        "\n",
        "submit_df['Set'] = re_set\n",
        "submit_df['일자'] = re_date\n",
        "\n",
        "\n",
        "# 최종 저장\n",
        "submit_df.to_csv(f'./submit/submit_{test_num}.csv',index=False)"
      ]
    },
    {
      "cell_type": "markdown",
      "metadata": {
        "id": "GBIveJrBJ8fn"
      },
      "source": [
        "- 계산된 변동률 결과물"
      ]
    },
    {
      "cell_type": "code",
      "execution_count": 19,
      "metadata": {
        "id": "m8fySZ0aJ8fp"
      },
      "outputs": [
        {
          "data": {
            "text/html": [
              "<div>\n",
              "<style scoped>\n",
              "    .dataframe tbody tr th:only-of-type {\n",
              "        vertical-align: middle;\n",
              "    }\n",
              "\n",
              "    .dataframe tbody tr th {\n",
              "        vertical-align: top;\n",
              "    }\n",
              "\n",
              "    .dataframe thead th {\n",
              "        text-align: right;\n",
              "    }\n",
              "</style>\n",
              "<table border=\"1\" class=\"dataframe\">\n",
              "  <thead>\n",
              "    <tr style=\"text-align: right;\">\n",
              "      <th></th>\n",
              "      <th>Set</th>\n",
              "      <th>일자</th>\n",
              "      <th>품목0 변동률</th>\n",
              "      <th>품목1 변동률</th>\n",
              "      <th>품목2 변동률</th>\n",
              "      <th>품목3 변동률</th>\n",
              "      <th>품목4 변동률</th>\n",
              "      <th>품목5 변동률</th>\n",
              "      <th>품목6 변동률</th>\n",
              "      <th>품목7 변동률</th>\n",
              "      <th>...</th>\n",
              "      <th>품목27 변동률</th>\n",
              "      <th>품목28 변동률</th>\n",
              "      <th>품목29 변동률</th>\n",
              "      <th>품목30 변동률</th>\n",
              "      <th>품목31 변동률</th>\n",
              "      <th>품목32 변동률</th>\n",
              "      <th>품목33 변동률</th>\n",
              "      <th>품목34 변동률</th>\n",
              "      <th>품목35 변동률</th>\n",
              "      <th>품목36 변동률</th>\n",
              "    </tr>\n",
              "  </thead>\n",
              "  <tbody>\n",
              "    <tr>\n",
              "      <th>0</th>\n",
              "      <td>0</td>\n",
              "      <td>d+1</td>\n",
              "      <td>-0.168735</td>\n",
              "      <td>-0.248003</td>\n",
              "      <td>-0.132624</td>\n",
              "      <td>-0.176294</td>\n",
              "      <td>-0.133605</td>\n",
              "      <td>-0.234368</td>\n",
              "      <td>-0.019246</td>\n",
              "      <td>-0.125432</td>\n",
              "      <td>...</td>\n",
              "      <td>-0.298669</td>\n",
              "      <td>-0.081036</td>\n",
              "      <td>-0.144001</td>\n",
              "      <td>-0.129334</td>\n",
              "      <td>-0.262896</td>\n",
              "      <td>-0.202513</td>\n",
              "      <td>-0.283644</td>\n",
              "      <td>-0.312515</td>\n",
              "      <td>-0.173590</td>\n",
              "      <td>-0.178571</td>\n",
              "    </tr>\n",
              "    <tr>\n",
              "      <th>1</th>\n",
              "      <td>0</td>\n",
              "      <td>d+2</td>\n",
              "      <td>-0.366763</td>\n",
              "      <td>-0.516178</td>\n",
              "      <td>-0.452658</td>\n",
              "      <td>-0.423162</td>\n",
              "      <td>-0.394645</td>\n",
              "      <td>-0.323689</td>\n",
              "      <td>-0.038044</td>\n",
              "      <td>-0.288444</td>\n",
              "      <td>...</td>\n",
              "      <td>-0.424546</td>\n",
              "      <td>-0.437641</td>\n",
              "      <td>-0.415990</td>\n",
              "      <td>-0.289081</td>\n",
              "      <td>-0.389088</td>\n",
              "      <td>-0.304109</td>\n",
              "      <td>-0.404668</td>\n",
              "      <td>-0.396552</td>\n",
              "      <td>-0.325508</td>\n",
              "      <td>-0.495461</td>\n",
              "    </tr>\n",
              "    <tr>\n",
              "      <th>2</th>\n",
              "      <td>0</td>\n",
              "      <td>d+3</td>\n",
              "      <td>-0.459547</td>\n",
              "      <td>-0.463284</td>\n",
              "      <td>-0.560657</td>\n",
              "      <td>-0.437689</td>\n",
              "      <td>-0.456205</td>\n",
              "      <td>-0.283298</td>\n",
              "      <td>-0.039058</td>\n",
              "      <td>-0.370039</td>\n",
              "      <td>...</td>\n",
              "      <td>-0.398017</td>\n",
              "      <td>-0.599176</td>\n",
              "      <td>-0.538816</td>\n",
              "      <td>-0.547286</td>\n",
              "      <td>-0.351032</td>\n",
              "      <td>-0.309953</td>\n",
              "      <td>-0.388518</td>\n",
              "      <td>-0.366906</td>\n",
              "      <td>-0.374158</td>\n",
              "      <td>-0.638014</td>\n",
              "    </tr>\n",
              "    <tr>\n",
              "      <th>3</th>\n",
              "      <td>0</td>\n",
              "      <td>d+4</td>\n",
              "      <td>-0.277696</td>\n",
              "      <td>-0.270935</td>\n",
              "      <td>-0.212229</td>\n",
              "      <td>-0.255135</td>\n",
              "      <td>-0.253200</td>\n",
              "      <td>-0.210186</td>\n",
              "      <td>-0.039036</td>\n",
              "      <td>-0.219759</td>\n",
              "      <td>...</td>\n",
              "      <td>-0.378549</td>\n",
              "      <td>-0.225511</td>\n",
              "      <td>-0.175443</td>\n",
              "      <td>-0.162182</td>\n",
              "      <td>-0.326823</td>\n",
              "      <td>-0.213408</td>\n",
              "      <td>-0.274527</td>\n",
              "      <td>-0.319571</td>\n",
              "      <td>-0.200320</td>\n",
              "      <td>-0.199220</td>\n",
              "    </tr>\n",
              "    <tr>\n",
              "      <th>4</th>\n",
              "      <td>0</td>\n",
              "      <td>d+5</td>\n",
              "      <td>-0.021432</td>\n",
              "      <td>-0.176097</td>\n",
              "      <td>0.069191</td>\n",
              "      <td>-0.179507</td>\n",
              "      <td>-0.090523</td>\n",
              "      <td>-0.216539</td>\n",
              "      <td>-0.031880</td>\n",
              "      <td>-0.057190</td>\n",
              "      <td>...</td>\n",
              "      <td>-0.391196</td>\n",
              "      <td>0.005751</td>\n",
              "      <td>0.020661</td>\n",
              "      <td>-0.029796</td>\n",
              "      <td>-0.331953</td>\n",
              "      <td>-0.147490</td>\n",
              "      <td>-0.230952</td>\n",
              "      <td>-0.288589</td>\n",
              "      <td>-0.074524</td>\n",
              "      <td>-0.001726</td>\n",
              "    </tr>\n",
              "    <tr>\n",
              "      <th>...</th>\n",
              "      <td>...</td>\n",
              "      <td>...</td>\n",
              "      <td>...</td>\n",
              "      <td>...</td>\n",
              "      <td>...</td>\n",
              "      <td>...</td>\n",
              "      <td>...</td>\n",
              "      <td>...</td>\n",
              "      <td>...</td>\n",
              "      <td>...</td>\n",
              "      <td>...</td>\n",
              "      <td>...</td>\n",
              "      <td>...</td>\n",
              "      <td>...</td>\n",
              "      <td>...</td>\n",
              "      <td>...</td>\n",
              "      <td>...</td>\n",
              "      <td>...</td>\n",
              "      <td>...</td>\n",
              "      <td>...</td>\n",
              "      <td>...</td>\n",
              "    </tr>\n",
              "    <tr>\n",
              "      <th>145</th>\n",
              "      <td>9</td>\n",
              "      <td>d+11</td>\n",
              "      <td>-0.099853</td>\n",
              "      <td>-0.135005</td>\n",
              "      <td>-0.122358</td>\n",
              "      <td>-0.110801</td>\n",
              "      <td>-0.232440</td>\n",
              "      <td>-0.000693</td>\n",
              "      <td>-0.025300</td>\n",
              "      <td>NaN</td>\n",
              "      <td>...</td>\n",
              "      <td>-0.070942</td>\n",
              "      <td>0.026734</td>\n",
              "      <td>-0.025695</td>\n",
              "      <td>-0.068883</td>\n",
              "      <td>-0.132496</td>\n",
              "      <td>-0.123975</td>\n",
              "      <td>-0.149744</td>\n",
              "      <td>-0.038738</td>\n",
              "      <td>-0.093153</td>\n",
              "      <td>-0.099125</td>\n",
              "    </tr>\n",
              "    <tr>\n",
              "      <th>146</th>\n",
              "      <td>9</td>\n",
              "      <td>d+12</td>\n",
              "      <td>0.101821</td>\n",
              "      <td>-0.040765</td>\n",
              "      <td>0.179026</td>\n",
              "      <td>0.020201</td>\n",
              "      <td>-0.010853</td>\n",
              "      <td>0.014032</td>\n",
              "      <td>-0.024648</td>\n",
              "      <td>NaN</td>\n",
              "      <td>...</td>\n",
              "      <td>-0.070209</td>\n",
              "      <td>0.218171</td>\n",
              "      <td>0.184992</td>\n",
              "      <td>0.108597</td>\n",
              "      <td>-0.116553</td>\n",
              "      <td>0.053875</td>\n",
              "      <td>-0.100259</td>\n",
              "      <td>0.009645</td>\n",
              "      <td>0.106734</td>\n",
              "      <td>0.135604</td>\n",
              "    </tr>\n",
              "    <tr>\n",
              "      <th>147</th>\n",
              "      <td>9</td>\n",
              "      <td>d+13</td>\n",
              "      <td>0.049650</td>\n",
              "      <td>-0.120818</td>\n",
              "      <td>-0.098204</td>\n",
              "      <td>-0.021705</td>\n",
              "      <td>-0.022705</td>\n",
              "      <td>0.005970</td>\n",
              "      <td>-0.021936</td>\n",
              "      <td>NaN</td>\n",
              "      <td>...</td>\n",
              "      <td>-0.063361</td>\n",
              "      <td>-0.076957</td>\n",
              "      <td>-0.050404</td>\n",
              "      <td>-0.066743</td>\n",
              "      <td>-0.094723</td>\n",
              "      <td>0.045420</td>\n",
              "      <td>-0.065178</td>\n",
              "      <td>0.015221</td>\n",
              "      <td>0.018391</td>\n",
              "      <td>-0.113778</td>\n",
              "    </tr>\n",
              "    <tr>\n",
              "      <th>148</th>\n",
              "      <td>9</td>\n",
              "      <td>d+14</td>\n",
              "      <td>0.017433</td>\n",
              "      <td>-0.013930</td>\n",
              "      <td>0.028916</td>\n",
              "      <td>-0.009063</td>\n",
              "      <td>-0.015571</td>\n",
              "      <td>0.003025</td>\n",
              "      <td>-0.011830</td>\n",
              "      <td>NaN</td>\n",
              "      <td>...</td>\n",
              "      <td>-0.027814</td>\n",
              "      <td>-0.013639</td>\n",
              "      <td>0.046772</td>\n",
              "      <td>0.013275</td>\n",
              "      <td>0.010806</td>\n",
              "      <td>0.000906</td>\n",
              "      <td>0.009602</td>\n",
              "      <td>0.011987</td>\n",
              "      <td>-0.011837</td>\n",
              "      <td>-0.004762</td>\n",
              "    </tr>\n",
              "    <tr>\n",
              "      <th>149</th>\n",
              "      <td>9</td>\n",
              "      <td>d+22 ~ 28 평균</td>\n",
              "      <td>-0.017154</td>\n",
              "      <td>-0.128077</td>\n",
              "      <td>-0.106547</td>\n",
              "      <td>-0.066581</td>\n",
              "      <td>-0.132540</td>\n",
              "      <td>0.001287</td>\n",
              "      <td>-0.012971</td>\n",
              "      <td>NaN</td>\n",
              "      <td>...</td>\n",
              "      <td>-0.066748</td>\n",
              "      <td>-0.049570</td>\n",
              "      <td>-0.054618</td>\n",
              "      <td>-0.075322</td>\n",
              "      <td>-0.092015</td>\n",
              "      <td>-0.050066</td>\n",
              "      <td>-0.097289</td>\n",
              "      <td>-0.006154</td>\n",
              "      <td>-0.067070</td>\n",
              "      <td>-0.121830</td>\n",
              "    </tr>\n",
              "  </tbody>\n",
              "</table>\n",
              "<p>150 rows × 39 columns</p>\n",
              "</div>"
            ],
            "text/plain": [
              "     Set            일자   품목0 변동률   품목1 변동률   품목2 변동률   품목3 변동률   품목4 변동률  \\\n",
              "0      0           d+1 -0.168735 -0.248003 -0.132624 -0.176294 -0.133605   \n",
              "1      0           d+2 -0.366763 -0.516178 -0.452658 -0.423162 -0.394645   \n",
              "2      0           d+3 -0.459547 -0.463284 -0.560657 -0.437689 -0.456205   \n",
              "3      0           d+4 -0.277696 -0.270935 -0.212229 -0.255135 -0.253200   \n",
              "4      0           d+5 -0.021432 -0.176097  0.069191 -0.179507 -0.090523   \n",
              "..   ...           ...       ...       ...       ...       ...       ...   \n",
              "145    9          d+11 -0.099853 -0.135005 -0.122358 -0.110801 -0.232440   \n",
              "146    9          d+12  0.101821 -0.040765  0.179026  0.020201 -0.010853   \n",
              "147    9          d+13  0.049650 -0.120818 -0.098204 -0.021705 -0.022705   \n",
              "148    9          d+14  0.017433 -0.013930  0.028916 -0.009063 -0.015571   \n",
              "149    9  d+22 ~ 28 평균 -0.017154 -0.128077 -0.106547 -0.066581 -0.132540   \n",
              "\n",
              "      품목5 변동률   품목6 변동률   품목7 변동률  ...  품목27 변동률  품목28 변동률  품목29 변동률  \\\n",
              "0   -0.234368 -0.019246 -0.125432  ... -0.298669 -0.081036 -0.144001   \n",
              "1   -0.323689 -0.038044 -0.288444  ... -0.424546 -0.437641 -0.415990   \n",
              "2   -0.283298 -0.039058 -0.370039  ... -0.398017 -0.599176 -0.538816   \n",
              "3   -0.210186 -0.039036 -0.219759  ... -0.378549 -0.225511 -0.175443   \n",
              "4   -0.216539 -0.031880 -0.057190  ... -0.391196  0.005751  0.020661   \n",
              "..        ...       ...       ...  ...       ...       ...       ...   \n",
              "145 -0.000693 -0.025300       NaN  ... -0.070942  0.026734 -0.025695   \n",
              "146  0.014032 -0.024648       NaN  ... -0.070209  0.218171  0.184992   \n",
              "147  0.005970 -0.021936       NaN  ... -0.063361 -0.076957 -0.050404   \n",
              "148  0.003025 -0.011830       NaN  ... -0.027814 -0.013639  0.046772   \n",
              "149  0.001287 -0.012971       NaN  ... -0.066748 -0.049570 -0.054618   \n",
              "\n",
              "     품목30 변동률  품목31 변동률  품목32 변동률  품목33 변동률  품목34 변동률  품목35 변동률  품목36 변동률  \n",
              "0   -0.129334 -0.262896 -0.202513 -0.283644 -0.312515 -0.173590 -0.178571  \n",
              "1   -0.289081 -0.389088 -0.304109 -0.404668 -0.396552 -0.325508 -0.495461  \n",
              "2   -0.547286 -0.351032 -0.309953 -0.388518 -0.366906 -0.374158 -0.638014  \n",
              "3   -0.162182 -0.326823 -0.213408 -0.274527 -0.319571 -0.200320 -0.199220  \n",
              "4   -0.029796 -0.331953 -0.147490 -0.230952 -0.288589 -0.074524 -0.001726  \n",
              "..        ...       ...       ...       ...       ...       ...       ...  \n",
              "145 -0.068883 -0.132496 -0.123975 -0.149744 -0.038738 -0.093153 -0.099125  \n",
              "146  0.108597 -0.116553  0.053875 -0.100259  0.009645  0.106734  0.135604  \n",
              "147 -0.066743 -0.094723  0.045420 -0.065178  0.015221  0.018391 -0.113778  \n",
              "148  0.013275  0.010806  0.000906  0.009602  0.011987 -0.011837 -0.004762  \n",
              "149 -0.075322 -0.092015 -0.050066 -0.097289 -0.006154 -0.067070 -0.121830  \n",
              "\n",
              "[150 rows x 39 columns]"
            ]
          },
          "execution_count": 19,
          "metadata": {},
          "output_type": "execute_result"
        }
      ],
      "source": [
        "all_df"
      ]
    },
    {
      "cell_type": "markdown",
      "metadata": {
        "id": "-OCf5arQJ8fq"
      },
      "source": [
        "- 제출 양식"
      ]
    },
    {
      "cell_type": "code",
      "execution_count": 20,
      "metadata": {
        "id": "9gI2ehAsJ8fq"
      },
      "outputs": [
        {
          "data": {
            "text/html": [
              "<div>\n",
              "<style scoped>\n",
              "    .dataframe tbody tr th:only-of-type {\n",
              "        vertical-align: middle;\n",
              "    }\n",
              "\n",
              "    .dataframe tbody tr th {\n",
              "        vertical-align: top;\n",
              "    }\n",
              "\n",
              "    .dataframe thead th {\n",
              "        text-align: right;\n",
              "    }\n",
              "</style>\n",
              "<table border=\"1\" class=\"dataframe\">\n",
              "  <thead>\n",
              "    <tr style=\"text-align: right;\">\n",
              "      <th></th>\n",
              "      <th>Set</th>\n",
              "      <th>일자</th>\n",
              "      <th>품목0 변동률</th>\n",
              "      <th>품목1 변동률</th>\n",
              "      <th>품목2 변동률</th>\n",
              "      <th>품목3 변동률</th>\n",
              "      <th>품목4 변동률</th>\n",
              "      <th>품목5 변동률</th>\n",
              "      <th>품목6 변동률</th>\n",
              "      <th>품목7 변동률</th>\n",
              "      <th>...</th>\n",
              "      <th>품목27 변동률</th>\n",
              "      <th>품목28 변동률</th>\n",
              "      <th>품목29 변동률</th>\n",
              "      <th>품목30 변동률</th>\n",
              "      <th>품목31 변동률</th>\n",
              "      <th>품목32 변동률</th>\n",
              "      <th>품목33 변동률</th>\n",
              "      <th>품목34 변동률</th>\n",
              "      <th>품목35 변동률</th>\n",
              "      <th>품목36 변동률</th>\n",
              "    </tr>\n",
              "  </thead>\n",
              "  <tbody>\n",
              "    <tr>\n",
              "      <th>0</th>\n",
              "      <td>0</td>\n",
              "      <td>d+1</td>\n",
              "      <td>0.0</td>\n",
              "      <td>0.0</td>\n",
              "      <td>0.0</td>\n",
              "      <td>0.0</td>\n",
              "      <td>0.0</td>\n",
              "      <td>0.0</td>\n",
              "      <td>0.0</td>\n",
              "      <td>0.0</td>\n",
              "      <td>...</td>\n",
              "      <td>0.0</td>\n",
              "      <td>0.0</td>\n",
              "      <td>0.0</td>\n",
              "      <td>0.0</td>\n",
              "      <td>0.0</td>\n",
              "      <td>0.0</td>\n",
              "      <td>0.0</td>\n",
              "      <td>0.0</td>\n",
              "      <td>0.0</td>\n",
              "      <td>0.0</td>\n",
              "    </tr>\n",
              "    <tr>\n",
              "      <th>1</th>\n",
              "      <td>0</td>\n",
              "      <td>d+2</td>\n",
              "      <td>0.0</td>\n",
              "      <td>0.0</td>\n",
              "      <td>0.0</td>\n",
              "      <td>0.0</td>\n",
              "      <td>0.0</td>\n",
              "      <td>0.0</td>\n",
              "      <td>NaN</td>\n",
              "      <td>0.0</td>\n",
              "      <td>...</td>\n",
              "      <td>0.0</td>\n",
              "      <td>0.0</td>\n",
              "      <td>0.0</td>\n",
              "      <td>0.0</td>\n",
              "      <td>0.0</td>\n",
              "      <td>0.0</td>\n",
              "      <td>0.0</td>\n",
              "      <td>0.0</td>\n",
              "      <td>0.0</td>\n",
              "      <td>0.0</td>\n",
              "    </tr>\n",
              "    <tr>\n",
              "      <th>2</th>\n",
              "      <td>0</td>\n",
              "      <td>d+3</td>\n",
              "      <td>NaN</td>\n",
              "      <td>NaN</td>\n",
              "      <td>NaN</td>\n",
              "      <td>NaN</td>\n",
              "      <td>NaN</td>\n",
              "      <td>NaN</td>\n",
              "      <td>0.0</td>\n",
              "      <td>NaN</td>\n",
              "      <td>...</td>\n",
              "      <td>NaN</td>\n",
              "      <td>NaN</td>\n",
              "      <td>NaN</td>\n",
              "      <td>NaN</td>\n",
              "      <td>NaN</td>\n",
              "      <td>NaN</td>\n",
              "      <td>NaN</td>\n",
              "      <td>NaN</td>\n",
              "      <td>NaN</td>\n",
              "      <td>NaN</td>\n",
              "    </tr>\n",
              "    <tr>\n",
              "      <th>3</th>\n",
              "      <td>0</td>\n",
              "      <td>d+4</td>\n",
              "      <td>0.0</td>\n",
              "      <td>0.0</td>\n",
              "      <td>0.0</td>\n",
              "      <td>0.0</td>\n",
              "      <td>0.0</td>\n",
              "      <td>0.0</td>\n",
              "      <td>NaN</td>\n",
              "      <td>0.0</td>\n",
              "      <td>...</td>\n",
              "      <td>0.0</td>\n",
              "      <td>0.0</td>\n",
              "      <td>0.0</td>\n",
              "      <td>0.0</td>\n",
              "      <td>0.0</td>\n",
              "      <td>0.0</td>\n",
              "      <td>0.0</td>\n",
              "      <td>0.0</td>\n",
              "      <td>0.0</td>\n",
              "      <td>0.0</td>\n",
              "    </tr>\n",
              "    <tr>\n",
              "      <th>4</th>\n",
              "      <td>0</td>\n",
              "      <td>d+5</td>\n",
              "      <td>0.0</td>\n",
              "      <td>0.0</td>\n",
              "      <td>0.0</td>\n",
              "      <td>0.0</td>\n",
              "      <td>0.0</td>\n",
              "      <td>0.0</td>\n",
              "      <td>NaN</td>\n",
              "      <td>0.0</td>\n",
              "      <td>...</td>\n",
              "      <td>0.0</td>\n",
              "      <td>0.0</td>\n",
              "      <td>0.0</td>\n",
              "      <td>0.0</td>\n",
              "      <td>0.0</td>\n",
              "      <td>0.0</td>\n",
              "      <td>0.0</td>\n",
              "      <td>0.0</td>\n",
              "      <td>0.0</td>\n",
              "      <td>0.0</td>\n",
              "    </tr>\n",
              "    <tr>\n",
              "      <th>...</th>\n",
              "      <td>...</td>\n",
              "      <td>...</td>\n",
              "      <td>...</td>\n",
              "      <td>...</td>\n",
              "      <td>...</td>\n",
              "      <td>...</td>\n",
              "      <td>...</td>\n",
              "      <td>...</td>\n",
              "      <td>...</td>\n",
              "      <td>...</td>\n",
              "      <td>...</td>\n",
              "      <td>...</td>\n",
              "      <td>...</td>\n",
              "      <td>...</td>\n",
              "      <td>...</td>\n",
              "      <td>...</td>\n",
              "      <td>...</td>\n",
              "      <td>...</td>\n",
              "      <td>...</td>\n",
              "      <td>...</td>\n",
              "      <td>...</td>\n",
              "    </tr>\n",
              "    <tr>\n",
              "      <th>145</th>\n",
              "      <td>9</td>\n",
              "      <td>d+11</td>\n",
              "      <td>0.0</td>\n",
              "      <td>0.0</td>\n",
              "      <td>0.0</td>\n",
              "      <td>0.0</td>\n",
              "      <td>0.0</td>\n",
              "      <td>0.0</td>\n",
              "      <td>0.0</td>\n",
              "      <td>NaN</td>\n",
              "      <td>...</td>\n",
              "      <td>0.0</td>\n",
              "      <td>0.0</td>\n",
              "      <td>0.0</td>\n",
              "      <td>0.0</td>\n",
              "      <td>0.0</td>\n",
              "      <td>0.0</td>\n",
              "      <td>0.0</td>\n",
              "      <td>0.0</td>\n",
              "      <td>0.0</td>\n",
              "      <td>0.0</td>\n",
              "    </tr>\n",
              "    <tr>\n",
              "      <th>146</th>\n",
              "      <td>9</td>\n",
              "      <td>d+12</td>\n",
              "      <td>0.0</td>\n",
              "      <td>0.0</td>\n",
              "      <td>0.0</td>\n",
              "      <td>0.0</td>\n",
              "      <td>0.0</td>\n",
              "      <td>0.0</td>\n",
              "      <td>0.0</td>\n",
              "      <td>NaN</td>\n",
              "      <td>...</td>\n",
              "      <td>0.0</td>\n",
              "      <td>0.0</td>\n",
              "      <td>0.0</td>\n",
              "      <td>0.0</td>\n",
              "      <td>0.0</td>\n",
              "      <td>0.0</td>\n",
              "      <td>0.0</td>\n",
              "      <td>0.0</td>\n",
              "      <td>0.0</td>\n",
              "      <td>0.0</td>\n",
              "    </tr>\n",
              "    <tr>\n",
              "      <th>147</th>\n",
              "      <td>9</td>\n",
              "      <td>d+13</td>\n",
              "      <td>0.0</td>\n",
              "      <td>0.0</td>\n",
              "      <td>0.0</td>\n",
              "      <td>0.0</td>\n",
              "      <td>0.0</td>\n",
              "      <td>0.0</td>\n",
              "      <td>0.0</td>\n",
              "      <td>NaN</td>\n",
              "      <td>...</td>\n",
              "      <td>0.0</td>\n",
              "      <td>0.0</td>\n",
              "      <td>0.0</td>\n",
              "      <td>0.0</td>\n",
              "      <td>0.0</td>\n",
              "      <td>0.0</td>\n",
              "      <td>0.0</td>\n",
              "      <td>0.0</td>\n",
              "      <td>0.0</td>\n",
              "      <td>0.0</td>\n",
              "    </tr>\n",
              "    <tr>\n",
              "      <th>148</th>\n",
              "      <td>9</td>\n",
              "      <td>d+14</td>\n",
              "      <td>0.0</td>\n",
              "      <td>0.0</td>\n",
              "      <td>0.0</td>\n",
              "      <td>0.0</td>\n",
              "      <td>0.0</td>\n",
              "      <td>0.0</td>\n",
              "      <td>0.0</td>\n",
              "      <td>NaN</td>\n",
              "      <td>...</td>\n",
              "      <td>0.0</td>\n",
              "      <td>0.0</td>\n",
              "      <td>0.0</td>\n",
              "      <td>0.0</td>\n",
              "      <td>0.0</td>\n",
              "      <td>0.0</td>\n",
              "      <td>0.0</td>\n",
              "      <td>0.0</td>\n",
              "      <td>0.0</td>\n",
              "      <td>0.0</td>\n",
              "    </tr>\n",
              "    <tr>\n",
              "      <th>149</th>\n",
              "      <td>9</td>\n",
              "      <td>d+22 ~ 28 평균</td>\n",
              "      <td>0.0</td>\n",
              "      <td>0.0</td>\n",
              "      <td>0.0</td>\n",
              "      <td>0.0</td>\n",
              "      <td>0.0</td>\n",
              "      <td>0.0</td>\n",
              "      <td>NaN</td>\n",
              "      <td>NaN</td>\n",
              "      <td>...</td>\n",
              "      <td>0.0</td>\n",
              "      <td>0.0</td>\n",
              "      <td>0.0</td>\n",
              "      <td>0.0</td>\n",
              "      <td>0.0</td>\n",
              "      <td>0.0</td>\n",
              "      <td>0.0</td>\n",
              "      <td>0.0</td>\n",
              "      <td>0.0</td>\n",
              "      <td>0.0</td>\n",
              "    </tr>\n",
              "  </tbody>\n",
              "</table>\n",
              "<p>150 rows × 39 columns</p>\n",
              "</div>"
            ],
            "text/plain": [
              "     Set            일자  품목0 변동률  품목1 변동률  품목2 변동률  품목3 변동률  품목4 변동률  품목5 변동률  \\\n",
              "0      0           d+1      0.0      0.0      0.0      0.0      0.0      0.0   \n",
              "1      0           d+2      0.0      0.0      0.0      0.0      0.0      0.0   \n",
              "2      0           d+3      NaN      NaN      NaN      NaN      NaN      NaN   \n",
              "3      0           d+4      0.0      0.0      0.0      0.0      0.0      0.0   \n",
              "4      0           d+5      0.0      0.0      0.0      0.0      0.0      0.0   \n",
              "..   ...           ...      ...      ...      ...      ...      ...      ...   \n",
              "145    9          d+11      0.0      0.0      0.0      0.0      0.0      0.0   \n",
              "146    9          d+12      0.0      0.0      0.0      0.0      0.0      0.0   \n",
              "147    9          d+13      0.0      0.0      0.0      0.0      0.0      0.0   \n",
              "148    9          d+14      0.0      0.0      0.0      0.0      0.0      0.0   \n",
              "149    9  d+22 ~ 28 평균      0.0      0.0      0.0      0.0      0.0      0.0   \n",
              "\n",
              "     품목6 변동률  품목7 변동률  ...  품목27 변동률  품목28 변동률  품목29 변동률  품목30 변동률  품목31 변동률  \\\n",
              "0        0.0      0.0  ...       0.0       0.0       0.0       0.0       0.0   \n",
              "1        NaN      0.0  ...       0.0       0.0       0.0       0.0       0.0   \n",
              "2        0.0      NaN  ...       NaN       NaN       NaN       NaN       NaN   \n",
              "3        NaN      0.0  ...       0.0       0.0       0.0       0.0       0.0   \n",
              "4        NaN      0.0  ...       0.0       0.0       0.0       0.0       0.0   \n",
              "..       ...      ...  ...       ...       ...       ...       ...       ...   \n",
              "145      0.0      NaN  ...       0.0       0.0       0.0       0.0       0.0   \n",
              "146      0.0      NaN  ...       0.0       0.0       0.0       0.0       0.0   \n",
              "147      0.0      NaN  ...       0.0       0.0       0.0       0.0       0.0   \n",
              "148      0.0      NaN  ...       0.0       0.0       0.0       0.0       0.0   \n",
              "149      NaN      NaN  ...       0.0       0.0       0.0       0.0       0.0   \n",
              "\n",
              "     품목32 변동률  품목33 변동률  품목34 변동률  품목35 변동률  품목36 변동률  \n",
              "0         0.0       0.0       0.0       0.0       0.0  \n",
              "1         0.0       0.0       0.0       0.0       0.0  \n",
              "2         NaN       NaN       NaN       NaN       NaN  \n",
              "3         0.0       0.0       0.0       0.0       0.0  \n",
              "4         0.0       0.0       0.0       0.0       0.0  \n",
              "..        ...       ...       ...       ...       ...  \n",
              "145       0.0       0.0       0.0       0.0       0.0  \n",
              "146       0.0       0.0       0.0       0.0       0.0  \n",
              "147       0.0       0.0       0.0       0.0       0.0  \n",
              "148       0.0       0.0       0.0       0.0       0.0  \n",
              "149       0.0       0.0       0.0       0.0       0.0  \n",
              "\n",
              "[150 rows x 39 columns]"
            ]
          },
          "execution_count": 20,
          "metadata": {},
          "output_type": "execute_result"
        }
      ],
      "source": [
        "out_ans"
      ]
    },
    {
      "cell_type": "markdown",
      "metadata": {
        "id": "PwVuAQnjJ8fs"
      },
      "source": [
        "- 제출 양식 반영한 최종 결과물 (**실 제출용**)"
      ]
    },
    {
      "cell_type": "code",
      "execution_count": 21,
      "metadata": {
        "id": "01gJL4kXJ8fs"
      },
      "outputs": [
        {
          "data": {
            "text/html": [
              "<div>\n",
              "<style scoped>\n",
              "    .dataframe tbody tr th:only-of-type {\n",
              "        vertical-align: middle;\n",
              "    }\n",
              "\n",
              "    .dataframe tbody tr th {\n",
              "        vertical-align: top;\n",
              "    }\n",
              "\n",
              "    .dataframe thead th {\n",
              "        text-align: right;\n",
              "    }\n",
              "</style>\n",
              "<table border=\"1\" class=\"dataframe\">\n",
              "  <thead>\n",
              "    <tr style=\"text-align: right;\">\n",
              "      <th></th>\n",
              "      <th>Set</th>\n",
              "      <th>일자</th>\n",
              "      <th>품목0 변동률</th>\n",
              "      <th>품목1 변동률</th>\n",
              "      <th>품목2 변동률</th>\n",
              "      <th>품목3 변동률</th>\n",
              "      <th>품목4 변동률</th>\n",
              "      <th>품목5 변동률</th>\n",
              "      <th>품목6 변동률</th>\n",
              "      <th>품목7 변동률</th>\n",
              "      <th>...</th>\n",
              "      <th>품목27 변동률</th>\n",
              "      <th>품목28 변동률</th>\n",
              "      <th>품목29 변동률</th>\n",
              "      <th>품목30 변동률</th>\n",
              "      <th>품목31 변동률</th>\n",
              "      <th>품목32 변동률</th>\n",
              "      <th>품목33 변동률</th>\n",
              "      <th>품목34 변동률</th>\n",
              "      <th>품목35 변동률</th>\n",
              "      <th>품목36 변동률</th>\n",
              "    </tr>\n",
              "  </thead>\n",
              "  <tbody>\n",
              "    <tr>\n",
              "      <th>0</th>\n",
              "      <td>0</td>\n",
              "      <td>d+1</td>\n",
              "      <td>-0.168735</td>\n",
              "      <td>-0.248003</td>\n",
              "      <td>-0.132624</td>\n",
              "      <td>-0.176294</td>\n",
              "      <td>-0.133605</td>\n",
              "      <td>-0.234368</td>\n",
              "      <td>-0.019246</td>\n",
              "      <td>-0.125432</td>\n",
              "      <td>...</td>\n",
              "      <td>-0.298669</td>\n",
              "      <td>-0.081036</td>\n",
              "      <td>-0.144001</td>\n",
              "      <td>-0.129334</td>\n",
              "      <td>-0.262896</td>\n",
              "      <td>-0.202513</td>\n",
              "      <td>-0.283644</td>\n",
              "      <td>-0.312515</td>\n",
              "      <td>-0.173590</td>\n",
              "      <td>-0.178571</td>\n",
              "    </tr>\n",
              "    <tr>\n",
              "      <th>1</th>\n",
              "      <td>0</td>\n",
              "      <td>d+2</td>\n",
              "      <td>-0.366763</td>\n",
              "      <td>-0.516178</td>\n",
              "      <td>-0.452658</td>\n",
              "      <td>-0.423162</td>\n",
              "      <td>-0.394645</td>\n",
              "      <td>-0.323689</td>\n",
              "      <td>NaN</td>\n",
              "      <td>-0.288444</td>\n",
              "      <td>...</td>\n",
              "      <td>-0.424546</td>\n",
              "      <td>-0.437641</td>\n",
              "      <td>-0.415990</td>\n",
              "      <td>-0.289081</td>\n",
              "      <td>-0.389088</td>\n",
              "      <td>-0.304109</td>\n",
              "      <td>-0.404668</td>\n",
              "      <td>-0.396552</td>\n",
              "      <td>-0.325508</td>\n",
              "      <td>-0.495461</td>\n",
              "    </tr>\n",
              "    <tr>\n",
              "      <th>2</th>\n",
              "      <td>0</td>\n",
              "      <td>d+3</td>\n",
              "      <td>NaN</td>\n",
              "      <td>NaN</td>\n",
              "      <td>NaN</td>\n",
              "      <td>NaN</td>\n",
              "      <td>NaN</td>\n",
              "      <td>NaN</td>\n",
              "      <td>-0.039058</td>\n",
              "      <td>NaN</td>\n",
              "      <td>...</td>\n",
              "      <td>NaN</td>\n",
              "      <td>NaN</td>\n",
              "      <td>NaN</td>\n",
              "      <td>NaN</td>\n",
              "      <td>NaN</td>\n",
              "      <td>NaN</td>\n",
              "      <td>NaN</td>\n",
              "      <td>NaN</td>\n",
              "      <td>NaN</td>\n",
              "      <td>NaN</td>\n",
              "    </tr>\n",
              "    <tr>\n",
              "      <th>3</th>\n",
              "      <td>0</td>\n",
              "      <td>d+4</td>\n",
              "      <td>-0.277696</td>\n",
              "      <td>-0.270935</td>\n",
              "      <td>-0.212229</td>\n",
              "      <td>-0.255135</td>\n",
              "      <td>-0.253200</td>\n",
              "      <td>-0.210186</td>\n",
              "      <td>NaN</td>\n",
              "      <td>-0.219759</td>\n",
              "      <td>...</td>\n",
              "      <td>-0.378549</td>\n",
              "      <td>-0.225511</td>\n",
              "      <td>-0.175443</td>\n",
              "      <td>-0.162182</td>\n",
              "      <td>-0.326823</td>\n",
              "      <td>-0.213408</td>\n",
              "      <td>-0.274527</td>\n",
              "      <td>-0.319571</td>\n",
              "      <td>-0.200320</td>\n",
              "      <td>-0.199220</td>\n",
              "    </tr>\n",
              "    <tr>\n",
              "      <th>4</th>\n",
              "      <td>0</td>\n",
              "      <td>d+5</td>\n",
              "      <td>-0.021432</td>\n",
              "      <td>-0.176097</td>\n",
              "      <td>0.069191</td>\n",
              "      <td>-0.179507</td>\n",
              "      <td>-0.090523</td>\n",
              "      <td>-0.216539</td>\n",
              "      <td>NaN</td>\n",
              "      <td>-0.057190</td>\n",
              "      <td>...</td>\n",
              "      <td>-0.391196</td>\n",
              "      <td>0.005751</td>\n",
              "      <td>0.020661</td>\n",
              "      <td>-0.029796</td>\n",
              "      <td>-0.331953</td>\n",
              "      <td>-0.147490</td>\n",
              "      <td>-0.230952</td>\n",
              "      <td>-0.288589</td>\n",
              "      <td>-0.074524</td>\n",
              "      <td>-0.001726</td>\n",
              "    </tr>\n",
              "    <tr>\n",
              "      <th>...</th>\n",
              "      <td>...</td>\n",
              "      <td>...</td>\n",
              "      <td>...</td>\n",
              "      <td>...</td>\n",
              "      <td>...</td>\n",
              "      <td>...</td>\n",
              "      <td>...</td>\n",
              "      <td>...</td>\n",
              "      <td>...</td>\n",
              "      <td>...</td>\n",
              "      <td>...</td>\n",
              "      <td>...</td>\n",
              "      <td>...</td>\n",
              "      <td>...</td>\n",
              "      <td>...</td>\n",
              "      <td>...</td>\n",
              "      <td>...</td>\n",
              "      <td>...</td>\n",
              "      <td>...</td>\n",
              "      <td>...</td>\n",
              "      <td>...</td>\n",
              "    </tr>\n",
              "    <tr>\n",
              "      <th>145</th>\n",
              "      <td>9</td>\n",
              "      <td>d+11</td>\n",
              "      <td>-0.099853</td>\n",
              "      <td>-0.135005</td>\n",
              "      <td>-0.122358</td>\n",
              "      <td>-0.110801</td>\n",
              "      <td>-0.232440</td>\n",
              "      <td>-0.000693</td>\n",
              "      <td>-0.025300</td>\n",
              "      <td>NaN</td>\n",
              "      <td>...</td>\n",
              "      <td>-0.070942</td>\n",
              "      <td>0.026734</td>\n",
              "      <td>-0.025695</td>\n",
              "      <td>-0.068883</td>\n",
              "      <td>-0.132496</td>\n",
              "      <td>-0.123975</td>\n",
              "      <td>-0.149744</td>\n",
              "      <td>-0.038738</td>\n",
              "      <td>-0.093153</td>\n",
              "      <td>-0.099125</td>\n",
              "    </tr>\n",
              "    <tr>\n",
              "      <th>146</th>\n",
              "      <td>9</td>\n",
              "      <td>d+12</td>\n",
              "      <td>0.101821</td>\n",
              "      <td>-0.040765</td>\n",
              "      <td>0.179026</td>\n",
              "      <td>0.020201</td>\n",
              "      <td>-0.010853</td>\n",
              "      <td>0.014032</td>\n",
              "      <td>-0.024648</td>\n",
              "      <td>NaN</td>\n",
              "      <td>...</td>\n",
              "      <td>-0.070209</td>\n",
              "      <td>0.218171</td>\n",
              "      <td>0.184992</td>\n",
              "      <td>0.108597</td>\n",
              "      <td>-0.116553</td>\n",
              "      <td>0.053875</td>\n",
              "      <td>-0.100259</td>\n",
              "      <td>0.009645</td>\n",
              "      <td>0.106734</td>\n",
              "      <td>0.135604</td>\n",
              "    </tr>\n",
              "    <tr>\n",
              "      <th>147</th>\n",
              "      <td>9</td>\n",
              "      <td>d+13</td>\n",
              "      <td>0.049650</td>\n",
              "      <td>-0.120818</td>\n",
              "      <td>-0.098204</td>\n",
              "      <td>-0.021705</td>\n",
              "      <td>-0.022705</td>\n",
              "      <td>0.005970</td>\n",
              "      <td>-0.021936</td>\n",
              "      <td>NaN</td>\n",
              "      <td>...</td>\n",
              "      <td>-0.063361</td>\n",
              "      <td>-0.076957</td>\n",
              "      <td>-0.050404</td>\n",
              "      <td>-0.066743</td>\n",
              "      <td>-0.094723</td>\n",
              "      <td>0.045420</td>\n",
              "      <td>-0.065178</td>\n",
              "      <td>0.015221</td>\n",
              "      <td>0.018391</td>\n",
              "      <td>-0.113778</td>\n",
              "    </tr>\n",
              "    <tr>\n",
              "      <th>148</th>\n",
              "      <td>9</td>\n",
              "      <td>d+14</td>\n",
              "      <td>0.017433</td>\n",
              "      <td>-0.013930</td>\n",
              "      <td>0.028916</td>\n",
              "      <td>-0.009063</td>\n",
              "      <td>-0.015571</td>\n",
              "      <td>0.003025</td>\n",
              "      <td>-0.011830</td>\n",
              "      <td>NaN</td>\n",
              "      <td>...</td>\n",
              "      <td>-0.027814</td>\n",
              "      <td>-0.013639</td>\n",
              "      <td>0.046772</td>\n",
              "      <td>0.013275</td>\n",
              "      <td>0.010806</td>\n",
              "      <td>0.000906</td>\n",
              "      <td>0.009602</td>\n",
              "      <td>0.011987</td>\n",
              "      <td>-0.011837</td>\n",
              "      <td>-0.004762</td>\n",
              "    </tr>\n",
              "    <tr>\n",
              "      <th>149</th>\n",
              "      <td>9</td>\n",
              "      <td>d+22 ~ 28 평균</td>\n",
              "      <td>-0.017154</td>\n",
              "      <td>-0.128077</td>\n",
              "      <td>-0.106547</td>\n",
              "      <td>-0.066581</td>\n",
              "      <td>-0.132540</td>\n",
              "      <td>0.001287</td>\n",
              "      <td>NaN</td>\n",
              "      <td>NaN</td>\n",
              "      <td>...</td>\n",
              "      <td>-0.066748</td>\n",
              "      <td>-0.049570</td>\n",
              "      <td>-0.054618</td>\n",
              "      <td>-0.075322</td>\n",
              "      <td>-0.092015</td>\n",
              "      <td>-0.050066</td>\n",
              "      <td>-0.097289</td>\n",
              "      <td>-0.006154</td>\n",
              "      <td>-0.067070</td>\n",
              "      <td>-0.121830</td>\n",
              "    </tr>\n",
              "  </tbody>\n",
              "</table>\n",
              "<p>150 rows × 39 columns</p>\n",
              "</div>"
            ],
            "text/plain": [
              "     Set            일자   품목0 변동률   품목1 변동률   품목2 변동률   품목3 변동률   품목4 변동률  \\\n",
              "0      0           d+1 -0.168735 -0.248003 -0.132624 -0.176294 -0.133605   \n",
              "1      0           d+2 -0.366763 -0.516178 -0.452658 -0.423162 -0.394645   \n",
              "2      0           d+3       NaN       NaN       NaN       NaN       NaN   \n",
              "3      0           d+4 -0.277696 -0.270935 -0.212229 -0.255135 -0.253200   \n",
              "4      0           d+5 -0.021432 -0.176097  0.069191 -0.179507 -0.090523   \n",
              "..   ...           ...       ...       ...       ...       ...       ...   \n",
              "145    9          d+11 -0.099853 -0.135005 -0.122358 -0.110801 -0.232440   \n",
              "146    9          d+12  0.101821 -0.040765  0.179026  0.020201 -0.010853   \n",
              "147    9          d+13  0.049650 -0.120818 -0.098204 -0.021705 -0.022705   \n",
              "148    9          d+14  0.017433 -0.013930  0.028916 -0.009063 -0.015571   \n",
              "149    9  d+22 ~ 28 평균 -0.017154 -0.128077 -0.106547 -0.066581 -0.132540   \n",
              "\n",
              "      품목5 변동률   품목6 변동률   품목7 변동률  ...  품목27 변동률  품목28 변동률  품목29 변동률  \\\n",
              "0   -0.234368 -0.019246 -0.125432  ... -0.298669 -0.081036 -0.144001   \n",
              "1   -0.323689       NaN -0.288444  ... -0.424546 -0.437641 -0.415990   \n",
              "2         NaN -0.039058       NaN  ...       NaN       NaN       NaN   \n",
              "3   -0.210186       NaN -0.219759  ... -0.378549 -0.225511 -0.175443   \n",
              "4   -0.216539       NaN -0.057190  ... -0.391196  0.005751  0.020661   \n",
              "..        ...       ...       ...  ...       ...       ...       ...   \n",
              "145 -0.000693 -0.025300       NaN  ... -0.070942  0.026734 -0.025695   \n",
              "146  0.014032 -0.024648       NaN  ... -0.070209  0.218171  0.184992   \n",
              "147  0.005970 -0.021936       NaN  ... -0.063361 -0.076957 -0.050404   \n",
              "148  0.003025 -0.011830       NaN  ... -0.027814 -0.013639  0.046772   \n",
              "149  0.001287       NaN       NaN  ... -0.066748 -0.049570 -0.054618   \n",
              "\n",
              "     품목30 변동률  품목31 변동률  품목32 변동률  품목33 변동률  품목34 변동률  품목35 변동률  품목36 변동률  \n",
              "0   -0.129334 -0.262896 -0.202513 -0.283644 -0.312515 -0.173590 -0.178571  \n",
              "1   -0.289081 -0.389088 -0.304109 -0.404668 -0.396552 -0.325508 -0.495461  \n",
              "2         NaN       NaN       NaN       NaN       NaN       NaN       NaN  \n",
              "3   -0.162182 -0.326823 -0.213408 -0.274527 -0.319571 -0.200320 -0.199220  \n",
              "4   -0.029796 -0.331953 -0.147490 -0.230952 -0.288589 -0.074524 -0.001726  \n",
              "..        ...       ...       ...       ...       ...       ...       ...  \n",
              "145 -0.068883 -0.132496 -0.123975 -0.149744 -0.038738 -0.093153 -0.099125  \n",
              "146  0.108597 -0.116553  0.053875 -0.100259  0.009645  0.106734  0.135604  \n",
              "147 -0.066743 -0.094723  0.045420 -0.065178  0.015221  0.018391 -0.113778  \n",
              "148  0.013275  0.010806  0.000906  0.009602  0.011987 -0.011837 -0.004762  \n",
              "149 -0.075322 -0.092015 -0.050066 -0.097289 -0.006154 -0.067070 -0.121830  \n",
              "\n",
              "[150 rows x 39 columns]"
            ]
          },
          "execution_count": 21,
          "metadata": {},
          "output_type": "execute_result"
        }
      ],
      "source": [
        "submit_df"
      ]
    }
  ],
  "metadata": {
    "accelerator": "GPU",
    "colab": {
      "collapsed_sections": [],
      "provenance": []
    },
    "interpreter": {
      "hash": "8103e069ec51355429052e158df4f5ba0ef95071c815cf0f00b63f8cf0232057"
    },
    "kernelspec": {
      "display_name": "Python 3.10.6 64-bit ('tfenv': conda)",
      "name": "python3"
    },
    "language_info": {
      "codemirror_mode": {
        "name": "ipython",
        "version": 3
      },
      "file_extension": ".py",
      "mimetype": "text/x-python",
      "name": "python",
      "nbconvert_exporter": "python",
      "pygments_lexer": "ipython3",
      "version": "3.10.6"
    }
  },
  "nbformat": 4,
  "nbformat_minor": 0
}
