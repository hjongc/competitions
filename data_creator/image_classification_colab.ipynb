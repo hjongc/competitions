{
  "cells": [
    {
      "cell_type": "code",
      "execution_count": 1,
      "metadata": {
        "id": "Cq7m2dQyVOSO"
      },
      "outputs": [],
      "source": [
        "import os\n",
        "import numpy as np\n",
        "from PIL import Image\n",
        "import matplotlib.pyplot as plt\n",
        "\n",
        "import torch\n",
        "import torch.nn.functional as F\n",
        "import torch.nn as nn\n",
        "from torch.utils.data import Dataset\n",
        "from torchvision import datasets, transforms\n",
        "from torchvision.datasets import ImageFolder\n",
        "from torch.utils.data import DataLoader\n",
        "import torchvision.models as models\n",
        "from torchsummary import summary"
      ]
    },
    {
      "cell_type": "code",
      "source": [
        "from google.colab import drive\n",
        "drive.mount('/content/drive')"
      ],
      "metadata": {
        "id": "ohISC-9_VeDP",
        "colab": {
          "base_uri": "https://localhost:8080/"
        },
        "outputId": "c29730ed-bfbf-459b-ddc4-b9c945bd1e19"
      },
      "execution_count": 2,
      "outputs": [
        {
          "output_type": "stream",
          "name": "stdout",
          "text": [
            "Mounted at /content/drive\n"
          ]
        }
      ]
    },
    {
      "cell_type": "code",
      "source": [
        "!unzip -qq \"/content/drive/MyDrive/selected_dataset.zip\""
      ],
      "metadata": {
        "id": "Fj1EGnLTWIID"
      },
      "execution_count": 3,
      "outputs": []
    },
    {
      "cell_type": "code",
      "execution_count": 4,
      "metadata": {
        "id": "cSPAE5YdVOSS"
      },
      "outputs": [],
      "source": [
        "dataset = ImageFolder(root='/content/selected_dataset',                   # 다운로드 받은 폴더의 root 경로를 지정합니다.\n",
        "                      transform=transforms.Compose([\n",
        "                          transforms.ToTensor(), \n",
        "                      ]))\n",
        "\n",
        "data_loader = DataLoader(dataset, \n",
        "                         batch_size=32, \n",
        "                         shuffle=True,\n",
        "                        #  num_workers=8\n",
        "                        )"
      ]
    },
    {
      "cell_type": "code",
      "source": [
        "# def make_weights(dataset, classes):\n",
        "#     for cls in classes:\n",
        "#         labels_map = {v:k for k, v in dataset.class_to_idx.items()}\n",
        "#         count = len(labels_map[cls])    #각 클래스 데이터 수 카운트 \n",
        "#         weight = 1/count    \n",
        "#         weights = [weight] * count    #라벨이 뽑힐 가중치를 1/count로 동일하게 전체 라벨에 할당 \n",
        "#         weight_list += weights\n",
        " \n",
        "#     # return weight_list"
      ],
      "metadata": {
        "id": "YeGemsoWLw0m"
      },
      "execution_count": 5,
      "outputs": []
    },
    {
      "cell_type": "code",
      "source": [
        "# weights = make_weights(dataset, len(dataset.classes))\n",
        "# weights = torch.DoubleTensor(weights)"
      ],
      "metadata": {
        "id": "s9YOEm1SL9gk"
      },
      "execution_count": 6,
      "outputs": []
    },
    {
      "cell_type": "code",
      "execution_count": 7,
      "metadata": {
        "id": "ZDUrZuKiVOST",
        "colab": {
          "base_uri": "https://localhost:8080/"
        },
        "outputId": "2192ee1b-bca0-4820-850c-69103823f154"
      },
      "outputs": [
        {
          "output_type": "execute_result",
          "data": {
            "text/plain": [
              "['L2_10',\n",
              " 'L2_12',\n",
              " 'L2_15',\n",
              " 'L2_20',\n",
              " 'L2_21',\n",
              " 'L2_24',\n",
              " 'L2_25',\n",
              " 'L2_27',\n",
              " 'L2_3',\n",
              " 'L2_30',\n",
              " 'L2_33',\n",
              " 'L2_34',\n",
              " 'L2_39',\n",
              " 'L2_40',\n",
              " 'L2_41',\n",
              " 'L2_44',\n",
              " 'L2_45',\n",
              " 'L2_46',\n",
              " 'L2_50',\n",
              " 'L2_52']"
            ]
          },
          "metadata": {},
          "execution_count": 7
        }
      ],
      "source": [
        "dataset.classes"
      ]
    },
    {
      "cell_type": "code",
      "execution_count": 8,
      "metadata": {
        "id": "M2moDtZ8VOSU"
      },
      "outputs": [],
      "source": [
        "images, labels = next(iter(data_loader))"
      ]
    },
    {
      "cell_type": "code",
      "execution_count": 9,
      "metadata": {
        "id": "zovwRVAKVOSU",
        "colab": {
          "base_uri": "https://localhost:8080/"
        },
        "outputId": "449dabf7-307a-42cf-df2a-bc7d0d5fb641"
      },
      "outputs": [
        {
          "output_type": "execute_result",
          "data": {
            "text/plain": [
              "torch.Size([3, 100, 100])"
            ]
          },
          "metadata": {},
          "execution_count": 9
        }
      ],
      "source": [
        "images[0].shape"
      ]
    },
    {
      "cell_type": "code",
      "execution_count": 10,
      "metadata": {
        "id": "zaI2GgSDVOSU"
      },
      "outputs": [],
      "source": [
        "# import matplotlib.pyplot as plt\n",
        "\n",
        "# # ImageFolder의 속성 값인 class_to_idx를 할당\n",
        "# labels_map = {v:k for k, v in dataset.class_to_idx.items()}\n",
        "# # print(labels_map)\n",
        "# figure = plt.figure(figsize=(12, 8))\n",
        "# cols, rows = 8, 4\n",
        "\n",
        "# # 이미지를 출력합니다. RGB 이미지로 구성되어 있습니다.\n",
        "# for i in range(1, cols * rows + 1):\n",
        "#     sample_idx = torch.randint(len(images), size=(1,)).item()\n",
        "#     img, label = images[sample_idx], labels[sample_idx].item()\n",
        "#     figure.add_subplot(rows, cols, i)\n",
        "#     plt.title(labels_map[label])\n",
        "#     plt.axis(\"off\")\n",
        "#     # 본래 이미지의 shape은 (3, 300, 300) 입니다.\n",
        "#     # 이를 imshow() 함수로 이미지 시각화 하기 위하여 (300, 300, 3)으로 shape 변경을 한 후 시각화합니다.\n",
        "#     plt.imshow(torch.permute(img, (1, 2, 0)))\n",
        "# plt.show()"
      ]
    },
    {
      "cell_type": "markdown",
      "metadata": {
        "id": "2Z48NduiVOSW"
      },
      "source": [
        "## Image Augmentation"
      ]
    },
    {
      "cell_type": "code",
      "execution_count": 11,
      "metadata": {
        "id": "eD1_ios9VOSX"
      },
      "outputs": [],
      "source": [
        "# Image Transform을 지정합니다.\n",
        "image_transform = transforms.Compose([\n",
        "    # transforms.Resize(),                \n",
        "    transforms.RandomHorizontalFlip(0.5),  # 50% 확률로 Horizontal Flip\n",
        "    transforms.ToTensor(),                 # Tensor 변환 (정규화)\n",
        "    transforms.Normalize((0.485, 0.456, 0.406), (0.229, 0.224, 0.225)),\n",
        "])"
      ]
    },
    {
      "cell_type": "code",
      "execution_count": 12,
      "metadata": {
        "id": "Tg1aR1d_VOSX"
      },
      "outputs": [],
      "source": [
        "# 이미지 폴더로부터 데이터를 로드합니다.\n",
        "dataset = ImageFolder(root='selected_dataset',            # 다운로드 받은 폴더의 root 경로를 지정합니다.\n",
        "                      transform=image_transform) # Image Augmentation 적용      "
      ]
    },
    {
      "cell_type": "code",
      "execution_count": 13,
      "metadata": {
        "id": "pieLtpoxVOSY"
      },
      "outputs": [],
      "source": [
        "# # Image Augmentation 이 적용된 DataLoader를 로드 합니다.\n",
        "# data_loader = DataLoader(dataset, \n",
        "#                          batch_size=128, \n",
        "#                          shuffle=True,\n",
        "#                          num_workers=8\n",
        "#                         )\n",
        "\n",
        "# # 1개의 배치를 추출합니다.\n",
        "# images, labels = next(iter(data_loader))"
      ]
    },
    {
      "cell_type": "code",
      "execution_count": 14,
      "metadata": {
        "id": "nis8YuVaVOSY"
      },
      "outputs": [],
      "source": [
        "# # ImageFolder의 속성 값인 class_to_idx를 할당\n",
        "# labels_map = {v:k for k, v in dataset.class_to_idx.items()}\n",
        "# figure = plt.figure(figsize=(24, 80))\n",
        "# cols, rows = 8, 32\n",
        "\n",
        "# # 이미지를 출력합니다. RGB 이미지로 구성되어 있습니다.\n",
        "# for i in range(1, cols * rows + 1):\n",
        "#     sample_idx = torch.randint(len(images), size=(1,)).item()\n",
        "#     img, label = images[sample_idx], labels[sample_idx].item()\n",
        "#     figure.add_subplot(rows, cols, i)\n",
        "#     plt.title(labels_map[label])\n",
        "#     plt.axis(\"off\")\n",
        "\n",
        "#     plt.imshow(torch.permute(img, (1, 2, 0)))\n",
        "# plt.show()"
      ]
    },
    {
      "cell_type": "code",
      "execution_count": 15,
      "metadata": {
        "id": "96JrfEZCVOSY",
        "colab": {
          "base_uri": "https://localhost:8080/"
        },
        "outputId": "149cd346-71af-48ca-9c92-c6061ba19ddd"
      },
      "outputs": [
        {
          "output_type": "stream",
          "name": "stdout",
          "text": [
            "total: 23320\n",
            "train_size: 18656\n",
            "test_size: 4664\n"
          ]
        }
      ],
      "source": [
        "from torch.utils.data import random_split\n",
        "\n",
        "\n",
        "ratio = 0.8 # 학습셋(train set)의 비율을 설정합니다.\n",
        "\n",
        "train_size = int(ratio * len(dataset))\n",
        "test_size = len(dataset) - train_size\n",
        "print(f'total: {len(dataset)}\\ntrain_size: {train_size}\\ntest_size: {test_size}')\n",
        "\n",
        "# random_split으로 8:2의 비율로 train / test 세트를 분할합니다.\n",
        "train_data, test_data = random_split(dataset, [train_size, test_size])"
      ]
    },
    {
      "cell_type": "code",
      "execution_count": 16,
      "metadata": {
        "id": "hiZJiFHmVOSZ"
      },
      "outputs": [],
      "source": [
        "batch_size = 128 # batch_size 지정\n",
        "# num_workers = 8 # Thread 숫자 지정 (병렬 처리에 활용할 쓰레드 숫자 지정)\n",
        "\n",
        "train_loader = DataLoader(train_data, \n",
        "                          batch_size=batch_size,\n",
        "                          shuffle=True, \n",
        "                        #   num_workers=num_workers\n",
        "                         )\n",
        "test_loader = DataLoader(test_data, \n",
        "                         batch_size=batch_size,\n",
        "                         shuffle=False, \n",
        "                        #  num_workers=num_workers\n",
        "                        )"
      ]
    },
    {
      "cell_type": "code",
      "execution_count": 17,
      "metadata": {
        "id": "Ut3qQW3_VOSZ",
        "colab": {
          "base_uri": "https://localhost:8080/"
        },
        "outputId": "57dee3ed-427e-49a2-a695-1e20c83b2d81"
      },
      "outputs": [
        {
          "output_type": "execute_result",
          "data": {
            "text/plain": [
              "(torch.Size([128, 3, 100, 100]), torch.Size([128]))"
            ]
          },
          "metadata": {},
          "execution_count": 17
        }
      ],
      "source": [
        "images, labels = next(iter(train_loader))\n",
        "images.shape, labels.shape"
      ]
    },
    {
      "cell_type": "code",
      "execution_count": 18,
      "metadata": {
        "id": "3PsQGJIXVOSZ",
        "colab": {
          "base_uri": "https://localhost:8080/"
        },
        "outputId": "8addf5f0-fa99-407a-f33a-cf7060611c92"
      },
      "outputs": [
        {
          "output_type": "execute_result",
          "data": {
            "text/plain": [
              "torch.Size([3, 100, 100])"
            ]
          },
          "metadata": {},
          "execution_count": 18
        }
      ],
      "source": [
        "# 1개의 이미지의 shape를 확인합니다.\n",
        "images[0].shape"
      ]
    },
    {
      "cell_type": "code",
      "execution_count": 19,
      "metadata": {
        "id": "wWLk2q4TVOSa",
        "colab": {
          "base_uri": "https://localhost:8080/"
        },
        "outputId": "582d0013-c9b2-4638-bfc1-a15894543f5b"
      },
      "outputs": [
        {
          "output_type": "stream",
          "name": "stdout",
          "text": [
            "cuda:0\n"
          ]
        }
      ],
      "source": [
        "device = torch.device(\"cuda:0\" if torch.cuda.is_available() else \"cpu\")\n",
        "print(device)"
      ]
    },
    {
      "cell_type": "code",
      "execution_count": 20,
      "metadata": {
        "id": "49E_UG_WVOSa"
      },
      "outputs": [],
      "source": [
        "import torch.nn as nn\n",
        "import torch.nn.functional as F\n",
        "import torch.optim as optim\n",
        "\n",
        "model_name = 'resnet18'\n",
        "\n",
        "class resnet18(nn.Module):\n",
        "    def __init__(self,):\n",
        "        super().__init__()\n",
        "        self.model = models.resnet18(pretrained=False)\n",
        "        #self.model = EfficientNet.from_name('efficientnet-b1') efficient net 사용\n",
        "        self.dropout = nn.Dropout(0.2)\n",
        "        \n",
        "        self.classifier = nn.Linear(1000, 20)\n",
        "    \n",
        "    def forward(self, images):\n",
        "        outputs = self.model(images)\n",
        "        outputs = self.dropout(outputs)\n",
        "        outputs = self.classifier(outputs)\n",
        "        return outputs   "
      ]
    },
    {
      "cell_type": "code",
      "execution_count": 21,
      "metadata": {
        "id": "A2nWjNxYVOSa",
        "colab": {
          "base_uri": "https://localhost:8080/"
        },
        "outputId": "09b11ba0-d8f6-498a-c798-1531a9db9d3f"
      },
      "outputs": [
        {
          "output_type": "stream",
          "name": "stderr",
          "text": [
            "/usr/local/lib/python3.7/dist-packages/torchvision/models/_utils.py:209: UserWarning: The parameter 'pretrained' is deprecated since 0.13 and will be removed in 0.15, please use 'weights' instead.\n",
            "  f\"The parameter '{pretrained_param}' is deprecated since 0.13 and will be removed in 0.15, \"\n",
            "/usr/local/lib/python3.7/dist-packages/torchvision/models/_utils.py:223: UserWarning: Arguments other than a weight enum or `None` for 'weights' are deprecated since 0.13 and will be removed in 0.15. The current behavior is equivalent to passing `weights=None`.\n",
            "  warnings.warn(msg)\n"
          ]
        },
        {
          "output_type": "execute_result",
          "data": {
            "text/plain": [
              "resnet18(\n",
              "  (model): ResNet(\n",
              "    (conv1): Conv2d(3, 64, kernel_size=(7, 7), stride=(2, 2), padding=(3, 3), bias=False)\n",
              "    (bn1): BatchNorm2d(64, eps=1e-05, momentum=0.1, affine=True, track_running_stats=True)\n",
              "    (relu): ReLU(inplace=True)\n",
              "    (maxpool): MaxPool2d(kernel_size=3, stride=2, padding=1, dilation=1, ceil_mode=False)\n",
              "    (layer1): Sequential(\n",
              "      (0): BasicBlock(\n",
              "        (conv1): Conv2d(64, 64, kernel_size=(3, 3), stride=(1, 1), padding=(1, 1), bias=False)\n",
              "        (bn1): BatchNorm2d(64, eps=1e-05, momentum=0.1, affine=True, track_running_stats=True)\n",
              "        (relu): ReLU(inplace=True)\n",
              "        (conv2): Conv2d(64, 64, kernel_size=(3, 3), stride=(1, 1), padding=(1, 1), bias=False)\n",
              "        (bn2): BatchNorm2d(64, eps=1e-05, momentum=0.1, affine=True, track_running_stats=True)\n",
              "      )\n",
              "      (1): BasicBlock(\n",
              "        (conv1): Conv2d(64, 64, kernel_size=(3, 3), stride=(1, 1), padding=(1, 1), bias=False)\n",
              "        (bn1): BatchNorm2d(64, eps=1e-05, momentum=0.1, affine=True, track_running_stats=True)\n",
              "        (relu): ReLU(inplace=True)\n",
              "        (conv2): Conv2d(64, 64, kernel_size=(3, 3), stride=(1, 1), padding=(1, 1), bias=False)\n",
              "        (bn2): BatchNorm2d(64, eps=1e-05, momentum=0.1, affine=True, track_running_stats=True)\n",
              "      )\n",
              "    )\n",
              "    (layer2): Sequential(\n",
              "      (0): BasicBlock(\n",
              "        (conv1): Conv2d(64, 128, kernel_size=(3, 3), stride=(2, 2), padding=(1, 1), bias=False)\n",
              "        (bn1): BatchNorm2d(128, eps=1e-05, momentum=0.1, affine=True, track_running_stats=True)\n",
              "        (relu): ReLU(inplace=True)\n",
              "        (conv2): Conv2d(128, 128, kernel_size=(3, 3), stride=(1, 1), padding=(1, 1), bias=False)\n",
              "        (bn2): BatchNorm2d(128, eps=1e-05, momentum=0.1, affine=True, track_running_stats=True)\n",
              "        (downsample): Sequential(\n",
              "          (0): Conv2d(64, 128, kernel_size=(1, 1), stride=(2, 2), bias=False)\n",
              "          (1): BatchNorm2d(128, eps=1e-05, momentum=0.1, affine=True, track_running_stats=True)\n",
              "        )\n",
              "      )\n",
              "      (1): BasicBlock(\n",
              "        (conv1): Conv2d(128, 128, kernel_size=(3, 3), stride=(1, 1), padding=(1, 1), bias=False)\n",
              "        (bn1): BatchNorm2d(128, eps=1e-05, momentum=0.1, affine=True, track_running_stats=True)\n",
              "        (relu): ReLU(inplace=True)\n",
              "        (conv2): Conv2d(128, 128, kernel_size=(3, 3), stride=(1, 1), padding=(1, 1), bias=False)\n",
              "        (bn2): BatchNorm2d(128, eps=1e-05, momentum=0.1, affine=True, track_running_stats=True)\n",
              "      )\n",
              "    )\n",
              "    (layer3): Sequential(\n",
              "      (0): BasicBlock(\n",
              "        (conv1): Conv2d(128, 256, kernel_size=(3, 3), stride=(2, 2), padding=(1, 1), bias=False)\n",
              "        (bn1): BatchNorm2d(256, eps=1e-05, momentum=0.1, affine=True, track_running_stats=True)\n",
              "        (relu): ReLU(inplace=True)\n",
              "        (conv2): Conv2d(256, 256, kernel_size=(3, 3), stride=(1, 1), padding=(1, 1), bias=False)\n",
              "        (bn2): BatchNorm2d(256, eps=1e-05, momentum=0.1, affine=True, track_running_stats=True)\n",
              "        (downsample): Sequential(\n",
              "          (0): Conv2d(128, 256, kernel_size=(1, 1), stride=(2, 2), bias=False)\n",
              "          (1): BatchNorm2d(256, eps=1e-05, momentum=0.1, affine=True, track_running_stats=True)\n",
              "        )\n",
              "      )\n",
              "      (1): BasicBlock(\n",
              "        (conv1): Conv2d(256, 256, kernel_size=(3, 3), stride=(1, 1), padding=(1, 1), bias=False)\n",
              "        (bn1): BatchNorm2d(256, eps=1e-05, momentum=0.1, affine=True, track_running_stats=True)\n",
              "        (relu): ReLU(inplace=True)\n",
              "        (conv2): Conv2d(256, 256, kernel_size=(3, 3), stride=(1, 1), padding=(1, 1), bias=False)\n",
              "        (bn2): BatchNorm2d(256, eps=1e-05, momentum=0.1, affine=True, track_running_stats=True)\n",
              "      )\n",
              "    )\n",
              "    (layer4): Sequential(\n",
              "      (0): BasicBlock(\n",
              "        (conv1): Conv2d(256, 512, kernel_size=(3, 3), stride=(2, 2), padding=(1, 1), bias=False)\n",
              "        (bn1): BatchNorm2d(512, eps=1e-05, momentum=0.1, affine=True, track_running_stats=True)\n",
              "        (relu): ReLU(inplace=True)\n",
              "        (conv2): Conv2d(512, 512, kernel_size=(3, 3), stride=(1, 1), padding=(1, 1), bias=False)\n",
              "        (bn2): BatchNorm2d(512, eps=1e-05, momentum=0.1, affine=True, track_running_stats=True)\n",
              "        (downsample): Sequential(\n",
              "          (0): Conv2d(256, 512, kernel_size=(1, 1), stride=(2, 2), bias=False)\n",
              "          (1): BatchNorm2d(512, eps=1e-05, momentum=0.1, affine=True, track_running_stats=True)\n",
              "        )\n",
              "      )\n",
              "      (1): BasicBlock(\n",
              "        (conv1): Conv2d(512, 512, kernel_size=(3, 3), stride=(1, 1), padding=(1, 1), bias=False)\n",
              "        (bn1): BatchNorm2d(512, eps=1e-05, momentum=0.1, affine=True, track_running_stats=True)\n",
              "        (relu): ReLU(inplace=True)\n",
              "        (conv2): Conv2d(512, 512, kernel_size=(3, 3), stride=(1, 1), padding=(1, 1), bias=False)\n",
              "        (bn2): BatchNorm2d(512, eps=1e-05, momentum=0.1, affine=True, track_running_stats=True)\n",
              "      )\n",
              "    )\n",
              "    (avgpool): AdaptiveAvgPool2d(output_size=(1, 1))\n",
              "    (fc): Linear(in_features=512, out_features=1000, bias=True)\n",
              "  )\n",
              "  (dropout): Dropout(p=0.2, inplace=False)\n",
              "  (classifier): Linear(in_features=1000, out_features=20, bias=True)\n",
              ")"
            ]
          },
          "metadata": {},
          "execution_count": 21
        }
      ],
      "source": [
        "model = resnet18() # Model 생성\n",
        "model.to(device)  "
      ]
    },
    {
      "cell_type": "code",
      "execution_count": 22,
      "metadata": {
        "id": "gqIT27EeVOSa",
        "colab": {
          "base_uri": "https://localhost:8080/"
        },
        "outputId": "70908f34-dc4a-4444-c5b5-2e02f72bfed5"
      },
      "outputs": [
        {
          "output_type": "stream",
          "name": "stdout",
          "text": [
            "----------------------------------------------------------------\n",
            "        Layer (type)               Output Shape         Param #\n",
            "================================================================\n",
            "            Conv2d-1           [-1, 64, 50, 50]           9,408\n",
            "       BatchNorm2d-2           [-1, 64, 50, 50]             128\n",
            "              ReLU-3           [-1, 64, 50, 50]               0\n",
            "         MaxPool2d-4           [-1, 64, 25, 25]               0\n",
            "            Conv2d-5           [-1, 64, 25, 25]          36,864\n",
            "       BatchNorm2d-6           [-1, 64, 25, 25]             128\n",
            "              ReLU-7           [-1, 64, 25, 25]               0\n",
            "            Conv2d-8           [-1, 64, 25, 25]          36,864\n",
            "       BatchNorm2d-9           [-1, 64, 25, 25]             128\n",
            "             ReLU-10           [-1, 64, 25, 25]               0\n",
            "       BasicBlock-11           [-1, 64, 25, 25]               0\n",
            "           Conv2d-12           [-1, 64, 25, 25]          36,864\n",
            "      BatchNorm2d-13           [-1, 64, 25, 25]             128\n",
            "             ReLU-14           [-1, 64, 25, 25]               0\n",
            "           Conv2d-15           [-1, 64, 25, 25]          36,864\n",
            "      BatchNorm2d-16           [-1, 64, 25, 25]             128\n",
            "             ReLU-17           [-1, 64, 25, 25]               0\n",
            "       BasicBlock-18           [-1, 64, 25, 25]               0\n",
            "           Conv2d-19          [-1, 128, 13, 13]          73,728\n",
            "      BatchNorm2d-20          [-1, 128, 13, 13]             256\n",
            "             ReLU-21          [-1, 128, 13, 13]               0\n",
            "           Conv2d-22          [-1, 128, 13, 13]         147,456\n",
            "      BatchNorm2d-23          [-1, 128, 13, 13]             256\n",
            "           Conv2d-24          [-1, 128, 13, 13]           8,192\n",
            "      BatchNorm2d-25          [-1, 128, 13, 13]             256\n",
            "             ReLU-26          [-1, 128, 13, 13]               0\n",
            "       BasicBlock-27          [-1, 128, 13, 13]               0\n",
            "           Conv2d-28          [-1, 128, 13, 13]         147,456\n",
            "      BatchNorm2d-29          [-1, 128, 13, 13]             256\n",
            "             ReLU-30          [-1, 128, 13, 13]               0\n",
            "           Conv2d-31          [-1, 128, 13, 13]         147,456\n",
            "      BatchNorm2d-32          [-1, 128, 13, 13]             256\n",
            "             ReLU-33          [-1, 128, 13, 13]               0\n",
            "       BasicBlock-34          [-1, 128, 13, 13]               0\n",
            "           Conv2d-35            [-1, 256, 7, 7]         294,912\n",
            "      BatchNorm2d-36            [-1, 256, 7, 7]             512\n",
            "             ReLU-37            [-1, 256, 7, 7]               0\n",
            "           Conv2d-38            [-1, 256, 7, 7]         589,824\n",
            "      BatchNorm2d-39            [-1, 256, 7, 7]             512\n",
            "           Conv2d-40            [-1, 256, 7, 7]          32,768\n",
            "      BatchNorm2d-41            [-1, 256, 7, 7]             512\n",
            "             ReLU-42            [-1, 256, 7, 7]               0\n",
            "       BasicBlock-43            [-1, 256, 7, 7]               0\n",
            "           Conv2d-44            [-1, 256, 7, 7]         589,824\n",
            "      BatchNorm2d-45            [-1, 256, 7, 7]             512\n",
            "             ReLU-46            [-1, 256, 7, 7]               0\n",
            "           Conv2d-47            [-1, 256, 7, 7]         589,824\n",
            "      BatchNorm2d-48            [-1, 256, 7, 7]             512\n",
            "             ReLU-49            [-1, 256, 7, 7]               0\n",
            "       BasicBlock-50            [-1, 256, 7, 7]               0\n",
            "           Conv2d-51            [-1, 512, 4, 4]       1,179,648\n",
            "      BatchNorm2d-52            [-1, 512, 4, 4]           1,024\n",
            "             ReLU-53            [-1, 512, 4, 4]               0\n",
            "           Conv2d-54            [-1, 512, 4, 4]       2,359,296\n",
            "      BatchNorm2d-55            [-1, 512, 4, 4]           1,024\n",
            "           Conv2d-56            [-1, 512, 4, 4]         131,072\n",
            "      BatchNorm2d-57            [-1, 512, 4, 4]           1,024\n",
            "             ReLU-58            [-1, 512, 4, 4]               0\n",
            "       BasicBlock-59            [-1, 512, 4, 4]               0\n",
            "           Conv2d-60            [-1, 512, 4, 4]       2,359,296\n",
            "      BatchNorm2d-61            [-1, 512, 4, 4]           1,024\n",
            "             ReLU-62            [-1, 512, 4, 4]               0\n",
            "           Conv2d-63            [-1, 512, 4, 4]       2,359,296\n",
            "      BatchNorm2d-64            [-1, 512, 4, 4]           1,024\n",
            "             ReLU-65            [-1, 512, 4, 4]               0\n",
            "       BasicBlock-66            [-1, 512, 4, 4]               0\n",
            "AdaptiveAvgPool2d-67            [-1, 512, 1, 1]               0\n",
            "           Linear-68                 [-1, 1000]         513,000\n",
            "           ResNet-69                 [-1, 1000]               0\n",
            "          Dropout-70                 [-1, 1000]               0\n",
            "           Linear-71                   [-1, 20]          20,020\n",
            "================================================================\n",
            "Total params: 11,709,532\n",
            "Trainable params: 11,709,532\n",
            "Non-trainable params: 0\n",
            "----------------------------------------------------------------\n",
            "Input size (MB): 0.11\n",
            "Forward/backward pass size (MB): 13.44\n",
            "Params size (MB): 44.67\n",
            "Estimated Total Size (MB): 58.22\n",
            "----------------------------------------------------------------\n"
          ]
        }
      ],
      "source": [
        "from torchsummary import summary\n",
        "\n",
        "summary(model, (3, 100, 100))"
      ]
    },
    {
      "cell_type": "code",
      "execution_count": 23,
      "metadata": {
        "id": "8V1AreYOVOSa"
      },
      "outputs": [],
      "source": [
        "# 옵티마이저를 정의합니다. 옵티마이저에는 model.parameters()를 지정해야 합니다.\n",
        "optimizer = optim.Adam(model.parameters(), lr=0.0005)\n",
        "\n",
        "# 손실함수(loss function)을 지정합니다. Multi-Class Classification 이기 때문에 CrossEntropy 손실을 지정하였습니다.\n",
        "loss_fn = nn.CrossEntropyLoss()"
      ]
    },
    {
      "cell_type": "code",
      "execution_count": 24,
      "metadata": {
        "id": "9WeoIOkrVOSb"
      },
      "outputs": [],
      "source": [
        "from tqdm import tqdm  # Progress Bar 출력\n",
        "\n",
        "def model_train(model, data_loader, loss_fn, optimizer, device):\n",
        "    # 모델을 훈련모드로 설정합니다. training mode 일 때 Gradient 가 업데이트 됩니다. 반드시 train()으로 모드 변경을 해야 합니다.\n",
        "    model.train()\n",
        "    \n",
        "    # loss와 accuracy 계산을 위한 임시 변수 입니다. 0으로 초기화합니다.\n",
        "    running_loss = 0\n",
        "    corr = 0\n",
        "    \n",
        "    # 예쁘게 Progress Bar를 출력하면서 훈련 상태를 모니터링 하기 위하여 tqdm으로 래핑합니다.\n",
        "    prograss_bar = tqdm(data_loader)\n",
        "    \n",
        "    # mini-batch 학습을 시작합니다.\n",
        "    for img, lbl in prograss_bar:\n",
        "        # image, label 데이터를 device에 올립니다.\n",
        "        img, lbl = img.to(device), lbl.to(device)\n",
        "        # 누적 Gradient를 초기화 합니다.\n",
        "        optimizer.zero_grad()\n",
        "        \n",
        "        # Forward Propagation을 진행하여 결과를 얻습니다.\n",
        "        output = model(img)\n",
        "\n",
        "        # 손실함수에 output, label 값을 대입하여 손실을 계산합니다.\n",
        "        loss = loss_fn(output, lbl)\n",
        "\n",
        "        # 오차역전파(Back Propagation)을 진행하여 미분 값을 계산합니다.\n",
        "        loss.backward()\n",
        "        \n",
        "        # 계산된 Gradient를 업데이트 합니다.\n",
        "        optimizer.step()\n",
        "        \n",
        "        # output의 max(dim=1)은 max probability와 max index를 반환합니다.\n",
        "        # max probability는 무시하고, max index는 pred에 저장하여 label 값과 대조하여 정확도를 도출합니다.\n",
        "        _, pred = output.max(dim=1)\n",
        "        \n",
        "        # pred.eq(lbl).sum() 은 정확히 맞춘 label의 합계를 계산합니다. item()은 tensor에서 값을 추출합니다.\n",
        "        # 합계는 corr 변수에 누적합니다.\n",
        "        corr += pred.eq(lbl).sum().item()\n",
        "        \n",
        "        # loss 값은 1개 배치의 평균 손실(loss) 입니다. img.size(0)은 배치사이즈(batch size) 입니다.\n",
        "        # loss 와 img.size(0)를 곱하면 1개 배치의 전체 loss가 계산됩니다.\n",
        "        # 이를 누적한 뒤 Epoch 종료시 전체 데이터셋의 개수로 나누어 평균 loss를 산출합니다.\n",
        "        running_loss += loss.item() * img.size(0)\n",
        "        \n",
        "    # 누적된 정답수를 전체 개수로 나누어 주면 정확도가 산출됩니다.\n",
        "    acc = corr / len(data_loader.dataset)\n",
        "    \n",
        "    # 평균 손실(loss)과 정확도를 반환합니다.\n",
        "    # train_loss, train_acc\n",
        "    return running_loss / len(data_loader.dataset), acc\n"
      ]
    },
    {
      "cell_type": "code",
      "execution_count": 25,
      "metadata": {
        "id": "yEa1rfE5VOSb"
      },
      "outputs": [],
      "source": [
        "\n",
        "def model_evaluate(model, data_loader, loss_fn, device):\n",
        "    # model.eval()은 모델을 평가모드로 설정을 바꾸어 줍니다. \n",
        "    # dropout과 같은 layer의 역할 변경을 위하여 evaluation 진행시 꼭 필요한 절차 입니다.\n",
        "    model.eval()\n",
        "    \n",
        "    # Gradient가 업데이트 되는 것을 방지 하기 위하여 반드시 필요합니다.\n",
        "    with torch.no_grad():\n",
        "        # loss와 accuracy 계산을 위한 임시 변수 입니다. 0으로 초기화합니다.\n",
        "        corr = 0\n",
        "        running_loss = 0\n",
        "        \n",
        "        # 배치별 evaluation을 진행합니다.\n",
        "        for img, lbl in data_loader:\n",
        "            # device에 데이터를 올립니다.\n",
        "            img, lbl = img.to(device), lbl.to(device)\n",
        "            \n",
        "            # 모델에 Forward Propagation을 하여 결과를 도출합니다.\n",
        "            output = model(img)\n",
        "            \n",
        "            # output의 max(dim=1)은 max probability와 max index를 반환합니다.\n",
        "            # max probability는 무시하고, max index는 pred에 저장하여 label 값과 대조하여 정확도를 도출합니다.\n",
        "            _, pred = output.max(dim=1)\n",
        "            \n",
        "            # pred.eq(lbl).sum() 은 정확히 맞춘 label의 합계를 계산합니다. item()은 tensor에서 값을 추출합니다.\n",
        "            # 합계는 corr 변수에 누적합니다.\n",
        "            corr += torch.sum(pred.eq(lbl)).item()\n",
        "             # loss 값은 1개 배치의 평균 손실(loss) 입니다. img.size(0)은 배치사이즈(batch size) 입니다.\n",
        "            # loss 와 img.size(0)를 곱하면 1개 배치의 전체 loss가 계산됩니다.\n",
        "            # 이를 누적한 뒤 Epoch 종료시 전체 데이터셋의 개수로 나누어 평균 loss를 산출합니다.\n",
        "            running_loss += loss_fn(output, lbl).item() * img.size(0)\n",
        "        \n",
        "        # validation 정확도를 계산합니다.\n",
        "        # 누적한 정답숫자를 전체 데이터셋의 숫자로 나누어 최종 accuracy를 산출합니다.\n",
        "        acc = corr / len(data_loader.dataset)\n",
        "        \n",
        "        # 결과를 반환합니다.\n",
        "        # val_loss, val_acc\n",
        "        return running_loss / len(data_loader.dataset), acc"
      ]
    },
    {
      "cell_type": "code",
      "execution_count": 26,
      "metadata": {
        "colab": {
          "base_uri": "https://localhost:8080/"
        },
        "id": "EZV7w5z7VOSb",
        "outputId": "bf6a20a5-2f74-4a62-edc3-0715cc5225a1"
      },
      "outputs": [
        {
          "output_type": "stream",
          "name": "stderr",
          "text": [
            "100%|██████████| 146/146 [00:31<00:00,  4.69it/s]\n"
          ]
        },
        {
          "output_type": "stream",
          "name": "stdout",
          "text": [
            "[INFO] val_loss has been improved from inf to 4.85477. Saving Model!\n",
            "epoch 01, loss: 1.54386, acc: 0.55542, val_loss: 4.85477, val_accuracy: 0.10656\n"
          ]
        },
        {
          "output_type": "stream",
          "name": "stderr",
          "text": [
            "100%|██████████| 146/146 [00:29<00:00,  4.99it/s]\n"
          ]
        },
        {
          "output_type": "stream",
          "name": "stdout",
          "text": [
            "[INFO] val_loss has been improved from 4.85477 to 2.19608. Saving Model!\n",
            "epoch 02, loss: 1.00006, acc: 0.70958, val_loss: 2.19608, val_accuracy: 0.41081\n"
          ]
        },
        {
          "output_type": "stream",
          "name": "stderr",
          "text": [
            "100%|██████████| 146/146 [00:29<00:00,  4.94it/s]\n"
          ]
        },
        {
          "output_type": "stream",
          "name": "stdout",
          "text": [
            "epoch 03, loss: 0.74598, acc: 0.77911, val_loss: 3.21853, val_accuracy: 0.33769\n"
          ]
        },
        {
          "output_type": "stream",
          "name": "stderr",
          "text": [
            "100%|██████████| 146/146 [00:31<00:00,  4.70it/s]\n"
          ]
        },
        {
          "output_type": "stream",
          "name": "stdout",
          "text": [
            "epoch 04, loss: 0.58008, acc: 0.82488, val_loss: 9.02323, val_accuracy: 0.11149\n"
          ]
        },
        {
          "output_type": "stream",
          "name": "stderr",
          "text": [
            "100%|██████████| 146/146 [00:29<00:00,  4.89it/s]\n"
          ]
        },
        {
          "output_type": "stream",
          "name": "stdout",
          "text": [
            "epoch 05, loss: 0.47376, acc: 0.85367, val_loss: 5.20265, val_accuracy: 0.13572\n"
          ]
        },
        {
          "output_type": "stream",
          "name": "stderr",
          "text": [
            "100%|██████████| 146/146 [00:29<00:00,  4.89it/s]\n"
          ]
        },
        {
          "output_type": "stream",
          "name": "stdout",
          "text": [
            "[INFO] val_loss has been improved from 2.19608 to 0.91412. Saving Model!\n",
            "epoch 06, loss: 0.38098, acc: 0.88325, val_loss: 0.91412, val_accuracy: 0.74228\n"
          ]
        },
        {
          "output_type": "stream",
          "name": "stderr",
          "text": [
            "100%|██████████| 146/146 [00:29<00:00,  4.88it/s]\n"
          ]
        },
        {
          "output_type": "stream",
          "name": "stdout",
          "text": [
            "[INFO] val_loss has been improved from 0.91412 to 0.58681. Saving Model!\n",
            "epoch 07, loss: 0.31865, acc: 0.89928, val_loss: 0.58681, val_accuracy: 0.83019\n"
          ]
        },
        {
          "output_type": "stream",
          "name": "stderr",
          "text": [
            "100%|██████████| 146/146 [00:29<00:00,  4.92it/s]\n"
          ]
        },
        {
          "output_type": "stream",
          "name": "stdout",
          "text": [
            "epoch 08, loss: 0.25206, acc: 0.92045, val_loss: 1.00321, val_accuracy: 0.75579\n"
          ]
        },
        {
          "output_type": "stream",
          "name": "stderr",
          "text": [
            "100%|██████████| 146/146 [00:31<00:00,  4.68it/s]\n"
          ]
        },
        {
          "output_type": "stream",
          "name": "stdout",
          "text": [
            "epoch 09, loss: 0.22366, acc: 0.92769, val_loss: 1.41143, val_accuracy: 0.71377\n"
          ]
        },
        {
          "output_type": "stream",
          "name": "stderr",
          "text": [
            "100%|██████████| 146/146 [00:29<00:00,  4.91it/s]\n"
          ]
        },
        {
          "output_type": "stream",
          "name": "stdout",
          "text": [
            "[INFO] val_loss has been improved from 0.58681 to 0.47850. Saving Model!\n",
            "epoch 10, loss: 0.20358, acc: 0.93466, val_loss: 0.47850, val_accuracy: 0.86557\n"
          ]
        },
        {
          "output_type": "stream",
          "name": "stderr",
          "text": [
            "100%|██████████| 146/146 [00:29<00:00,  4.92it/s]\n"
          ]
        },
        {
          "output_type": "stream",
          "name": "stdout",
          "text": [
            "epoch 11, loss: 0.17152, acc: 0.94447, val_loss: 0.58202, val_accuracy: 0.84391\n"
          ]
        },
        {
          "output_type": "stream",
          "name": "stderr",
          "text": [
            "100%|██████████| 146/146 [00:31<00:00,  4.70it/s]\n"
          ]
        },
        {
          "output_type": "stream",
          "name": "stdout",
          "text": [
            "epoch 12, loss: 0.14438, acc: 0.95347, val_loss: 1.39650, val_accuracy: 0.68268\n"
          ]
        },
        {
          "output_type": "stream",
          "name": "stderr",
          "text": [
            "100%|██████████| 146/146 [00:29<00:00,  4.90it/s]\n"
          ]
        },
        {
          "output_type": "stream",
          "name": "stdout",
          "text": [
            "epoch 13, loss: 0.14099, acc: 0.95326, val_loss: 0.71633, val_accuracy: 0.83062\n"
          ]
        },
        {
          "output_type": "stream",
          "name": "stderr",
          "text": [
            "100%|██████████| 146/146 [00:29<00:00,  4.91it/s]\n"
          ]
        },
        {
          "output_type": "stream",
          "name": "stdout",
          "text": [
            "epoch 14, loss: 0.12704, acc: 0.95846, val_loss: 5.53410, val_accuracy: 0.34627\n"
          ]
        },
        {
          "output_type": "stream",
          "name": "stderr",
          "text": [
            "100%|██████████| 146/146 [00:29<00:00,  4.93it/s]\n"
          ]
        },
        {
          "output_type": "stream",
          "name": "stdout",
          "text": [
            "epoch 15, loss: 0.10335, acc: 0.96457, val_loss: 11.02962, val_accuracy: 0.17860\n"
          ]
        },
        {
          "output_type": "stream",
          "name": "stderr",
          "text": [
            "100%|██████████| 146/146 [00:29<00:00,  4.94it/s]\n"
          ]
        },
        {
          "output_type": "stream",
          "name": "stdout",
          "text": [
            "epoch 16, loss: 0.10659, acc: 0.96612, val_loss: 0.56256, val_accuracy: 0.86943\n"
          ]
        },
        {
          "output_type": "stream",
          "name": "stderr",
          "text": [
            "100%|██████████| 146/146 [00:31<00:00,  4.69it/s]\n"
          ]
        },
        {
          "output_type": "stream",
          "name": "stdout",
          "text": [
            "epoch 17, loss: 0.09554, acc: 0.96854, val_loss: 2.56441, val_accuracy: 0.55146\n"
          ]
        },
        {
          "output_type": "stream",
          "name": "stderr",
          "text": [
            "100%|██████████| 146/146 [00:29<00:00,  4.94it/s]\n"
          ]
        },
        {
          "output_type": "stream",
          "name": "stdout",
          "text": [
            "epoch 18, loss: 0.07991, acc: 0.97347, val_loss: 4.68974, val_accuracy: 0.48049\n"
          ]
        },
        {
          "output_type": "stream",
          "name": "stderr",
          "text": [
            "100%|██████████| 146/146 [00:29<00:00,  4.96it/s]\n"
          ]
        },
        {
          "output_type": "stream",
          "name": "stdout",
          "text": [
            "epoch 19, loss: 0.11148, acc: 0.96264, val_loss: 0.61474, val_accuracy: 0.83426\n"
          ]
        },
        {
          "output_type": "stream",
          "name": "stderr",
          "text": [
            "100%|██████████| 146/146 [00:30<00:00,  4.74it/s]\n"
          ]
        },
        {
          "output_type": "stream",
          "name": "stdout",
          "text": [
            "epoch 20, loss: 0.09367, acc: 0.96896, val_loss: 1.96895, val_accuracy: 0.65137\n"
          ]
        },
        {
          "output_type": "stream",
          "name": "stderr",
          "text": [
            "100%|██████████| 146/146 [00:29<00:00,  4.94it/s]\n"
          ]
        },
        {
          "output_type": "stream",
          "name": "stdout",
          "text": [
            "epoch 21, loss: 0.06100, acc: 0.97915, val_loss: 0.74226, val_accuracy: 0.84970\n"
          ]
        },
        {
          "output_type": "stream",
          "name": "stderr",
          "text": [
            "100%|██████████| 146/146 [00:29<00:00,  4.94it/s]\n"
          ]
        },
        {
          "output_type": "stream",
          "name": "stdout",
          "text": [
            "epoch 22, loss: 0.08308, acc: 0.97309, val_loss: 2.03887, val_accuracy: 0.62672\n"
          ]
        },
        {
          "output_type": "stream",
          "name": "stderr",
          "text": [
            "100%|██████████| 146/146 [00:29<00:00,  4.95it/s]\n"
          ]
        },
        {
          "output_type": "stream",
          "name": "stdout",
          "text": [
            "epoch 23, loss: 0.07005, acc: 0.97524, val_loss: 0.65385, val_accuracy: 0.84455\n"
          ]
        },
        {
          "output_type": "stream",
          "name": "stderr",
          "text": [
            "100%|██████████| 146/146 [00:29<00:00,  4.93it/s]\n"
          ]
        },
        {
          "output_type": "stream",
          "name": "stdout",
          "text": [
            "epoch 24, loss: 0.05808, acc: 0.98113, val_loss: 2.21314, val_accuracy: 0.63379\n"
          ]
        },
        {
          "output_type": "stream",
          "name": "stderr",
          "text": [
            "100%|██████████| 146/146 [00:30<00:00,  4.73it/s]\n"
          ]
        },
        {
          "output_type": "stream",
          "name": "stdout",
          "text": [
            "[INFO] val_loss has been improved from 0.47850 to 0.41652. Saving Model!\n",
            "epoch 25, loss: 0.06122, acc: 0.97802, val_loss: 0.41652, val_accuracy: 0.90523\n"
          ]
        }
      ],
      "source": [
        "# 최대 Epoch을 지정합니다.\n",
        "num_epochs = 25\n",
        "\n",
        "min_loss = np.inf\n",
        "\n",
        "# Epoch 별 훈련 및 검증을 수행합니다.\n",
        "for epoch in range(num_epochs):\n",
        "    # Model Training\n",
        "    # 훈련 손실과 정확도를 반환 받습니다.\n",
        "    train_loss, train_acc = model_train(model, train_loader, loss_fn, optimizer, device)\n",
        "\n",
        "    # 검증 손실과 검증 정확도를 반환 받습니다.\n",
        "    val_loss, val_acc = model_evaluate(model, test_loader, loss_fn, device)   \n",
        "    \n",
        "    # val_loss 가 개선되었다면 min_loss를 갱신하고 model의 가중치(weights)를 저장합니다.\n",
        "    if val_loss < min_loss:\n",
        "        print(f'[INFO] val_loss has been improved from {min_loss:.5f} to {val_loss:.5f}. Saving Model!')\n",
        "        min_loss = val_loss\n",
        "        torch.save(model.state_dict(), f'{model_name}.pth')\n",
        "    \n",
        "    # Epoch 별 결과를 출력합니다.\n",
        "    print(f'epoch {epoch+1:02d}, loss: {train_loss:.5f}, acc: {train_acc:.5f}, val_loss: {val_loss:.5f}, val_accuracy: {val_acc:.5f}')"
      ]
    },
    {
      "cell_type": "code",
      "execution_count": 27,
      "metadata": {
        "id": "MVO3fuJDVOSb",
        "colab": {
          "base_uri": "https://localhost:8080/"
        },
        "outputId": "eb38f152-2015-4e4c-e850-fb8b41a16455"
      },
      "outputs": [
        {
          "output_type": "stream",
          "name": "stdout",
          "text": [
            "evaluation loss: 0.40892, evaluation accuracy: 0.90437\n"
          ]
        }
      ],
      "source": [
        "model.load_state_dict(torch.load(f'{model_name}.pth'))\n",
        "\n",
        "# 최종 검증 손실(validation loss)와 검증 정확도(validation accuracy)를 산출합니다.\n",
        "final_loss, final_acc = model_evaluate(model, test_loader, loss_fn, device)\n",
        "print(f'evaluation loss: {final_loss:.5f}, evaluation accuracy: {final_acc:.5f}')"
      ]
    }
  ],
  "metadata": {
    "interpreter": {
      "hash": "86c1e1ce7aadd865e0e869a12dcfe0bc61512505063b8e9a26474c7e9fdb5135"
    },
    "kernelspec": {
      "display_name": "Python 3.9.13 64-bit ('comenv': conda)",
      "name": "python3"
    },
    "language_info": {
      "codemirror_mode": {
        "name": "ipython",
        "version": 3
      },
      "file_extension": ".py",
      "mimetype": "text/x-python",
      "name": "python",
      "nbconvert_exporter": "python",
      "pygments_lexer": "ipython3",
      "version": "3.9.13"
    },
    "orig_nbformat": 4,
    "colab": {
      "provenance": [],
      "collapsed_sections": []
    },
    "accelerator": "GPU",
    "gpuClass": "premium"
  },
  "nbformat": 4,
  "nbformat_minor": 0
}