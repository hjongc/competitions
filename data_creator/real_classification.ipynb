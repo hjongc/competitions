{
 "cells": [
  {
   "cell_type": "code",
   "execution_count": 21,
   "metadata": {},
   "outputs": [],
   "source": [
    "# 라이브러리 호출\n",
    "import os\n",
    "import numpy as np\n",
    "from PIL import Image\n",
    "from sklearn.decomposition import PCA\n",
    "from sklearn.cluster import KMeans, MiniBatchKMeans, BisectingKMeans, SpectralClustering\n",
    "import matplotlib.pyplot as plt"
   ]
  },
  {
   "cell_type": "code",
   "execution_count": 3,
   "metadata": {},
   "outputs": [],
   "source": [
    "# # 이미지 리 사이징 하기\n",
    "\n",
    "# dataset_dir = \"./dataset/\"\n",
    "# folders = os.listdir(dataset_dir)\n",
    "# folders = [f for f in folders if not f.startswith('.')]\n",
    "\n",
    "# for d in folders:\n",
    "#     target_dir = dataset_dir + d\n",
    "#     print(target_dir)\n",
    "    \n",
    "#     format = [\".jpg\", \".png\", \".jpeg\", \"bmp\", \".JPG\", \".PNG\", \"JPEG\", \"BMP\"]  # 지원하는 파일 형태의 확장자들\n",
    "#     for (path, dirs, files) in os.walk(target_dir):\n",
    "#         for file in files:\n",
    "#             if file.endswith(tuple(format)):\n",
    "#                 image = Image.open(path + \"/\" + file)\n",
    "#                 # print(image.filename)\n",
    "#                 # print(image.size)\n",
    "\n",
    "#                 if image.mode != 'RGB':\n",
    "#                     image = image.convert('RGB')\n",
    "\n",
    "#                 image = image.resize((100,100))\n",
    "#                 if os.path.exists(f\"./converted_dataset/{d}/\") == False:\n",
    "#                     os.makedirs(f\"./converted_dataset/{d}/\")\n",
    "\n",
    "#                 image.save(f\"./converted_dataset/{d}/{file}\")\n",
    "#                 # print(image.size)\n",
    "\n",
    "#             else:\n",
    "#                 print(path)\n",
    "#                 print(\"InValid\", file)\n",
    "\n",
    "#     # 변환할 이미지 목록 불러오기\n",
    "#     image_path = f\"./converted_dataset/{d}/\"\n",
    "\n",
    "#     img_list = os.listdir(image_path)  # 디렉토리 내 모든 파일 불러오기\n",
    "\n",
    "#     img_list_np = []\n",
    "#     for i in img_list:\n",
    "#         img = Image.open(image_path + i)\n",
    "#         img_array = np.array(img)\n",
    "#         img_list_np.append(img_array)\n",
    "#         print(i, \" 추가 완료 - 구조:\", img_array.shape)  # 불러온 이미지의 차원 확인 (세로X가로X색)\n",
    "#         # print(img_array.T.shape) #축변경 (색X가로X세로)\n",
    "\n",
    "#     img_np = np.array(img_list_np)  # 리스트를 numpy로 변환\n",
    "\n",
    "#     if os.path.exists(f\"./np_converted_dataset/\") == False:\n",
    "#         os.makedirs(f\"./np_converted_dataset/\")\n",
    "\n",
    "#     np.save(f'./np_converted_dataset/{d}', img_np)  \n",
    "#     print(img_np.shape) # (파일수 * 가로 * 세로 * RGB)\n",
    "#     print(\"결과: 정상적 으로 저장 완료\")"
   ]
  },
  {
   "cell_type": "code",
   "execution_count": 4,
   "metadata": {},
   "outputs": [],
   "source": [
    "def draw_sample_data(arr, ratio=1):\n",
    "    n = len(arr)  # n은 샘플 개수입니다\n",
    "    # 한 줄에 10개씩 이미지를 그립니다. 샘플 개수를 10으로 나누어 전체 행 개수를 계산합니다.\n",
    "    # print(n)\n",
    "    rows = int(np.ceil(n / 10))\n",
    "    # 행이 1개 이면 열 개수는 샘플 개수입니다. 그렇지 않으면 10개입니다.\n",
    "    cols = n if rows < 2 else 10\n",
    "    fig, axs = plt.subplots(rows, cols,\n",
    "                            figsize=(cols * ratio, rows * ratio), squeeze=False)\n",
    "    for i in range(rows):\n",
    "        # print(i)\n",
    "        for j in range(cols):\n",
    "            if i * 10 + j < n:  # n 개까지만 그립니다.\n",
    "                # print(i)\n",
    "                axs[i, j].imshow(arr[i * 10 + j], cmap='gray_r')\n",
    "            axs[i, j].axis('off')\n",
    "    plt.show()"
   ]
  },
  {
   "cell_type": "code",
   "execution_count": 43,
   "metadata": {},
   "outputs": [
    {
     "name": "stdout",
     "output_type": "stream",
     "text": [
      "(25603, 30000)\n"
     ]
    }
   ],
   "source": [
    "np_converted_dir = f'./np_converted_dataset/'\n",
    "# many_real_dir = ['L2_3.npy', 'L2_12.npy', 'L2_24.npy','L2_41.npy','L2_50.npy']\n",
    "np_converted_dir_list = [f for f in os.listdir(np_converted_dir) if f != '.DS_Store']\n",
    "\n",
    "arr0 = np.load(np_converted_dir+np_converted_dir_list[0])\n",
    "arr0_2d = arr0.reshape(-1, 100 * 100 * 3)\n",
    "\n",
    "for file_ in np_converted_dir_list[1:]:\n",
    "    np_data = np.load(np_converted_dir+file_)\n",
    "    np_data_2d = np_data.reshape(-1, 100 * 100 * 3)\n",
    "    arr0_2d = np.concatenate((arr0_2d, np_data_2d))\n",
    "    \n",
    "    # print(\"sample_data.shape:\", np_data.shape)  \n",
    "    # print(\"sample_data_2d.shape:\", np_data_2d.shape)\n",
    "\n",
    "print(arr0_2d.shape)    \n",
    "clustering = KMeans(n_clusters=2, random_state = 2022)  # random_state=42 -> 항상 랜덤값이 같게 하기위해 쓴다.\n",
    "reduced_X = PCA(n_components=30).fit(arr0_2d)\n",
    "clustering.fit(reduced_X)\n",
    "\n",
    "# label = file_.split('.')[0]\n",
    "# print(f'Label: {label}')\n",
    "print(f'총 이미지 수: {len(np_data)}')\n",
    "# print(f'일러스트 이미지 수: {len(np_data[clustering.labels_ == 0])}')\n",
    "# print(f'실사 이미지 수: {len(np_data[clustering.labels_ == 1])}')\n",
    "\n",
    "draw_sample_data(np_data[clustering.labels_ == 0])\n",
    "draw_sample_data(np_data[clustering.labels_ == 1])\n",
    "# draw_sample_data(np_data[clustering.labels_ == 2])\n",
    "    "
   ]
  },
  {
   "cell_type": "markdown",
   "metadata": {},
   "source": []
  },
  {
   "cell_type": "code",
   "execution_count": null,
   "metadata": {},
   "outputs": [],
   "source": []
  }
 ],
 "metadata": {
  "interpreter": {
   "hash": "86c1e1ce7aadd865e0e869a12dcfe0bc61512505063b8e9a26474c7e9fdb5135"
  },
  "kernelspec": {
   "display_name": "Python 3.9.13 64-bit ('comenv': conda)",
   "name": "python3"
  },
  "language_info": {
   "codemirror_mode": {
    "name": "ipython",
    "version": 3
   },
   "file_extension": ".py",
   "mimetype": "text/x-python",
   "name": "python",
   "nbconvert_exporter": "python",
   "pygments_lexer": "ipython3",
   "version": "3.9.13"
  },
  "orig_nbformat": 4
 },
 "nbformat": 4,
 "nbformat_minor": 2
}
